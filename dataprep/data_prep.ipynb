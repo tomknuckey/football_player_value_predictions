{
 "cells": [
  {
   "cell_type": "code",
   "execution_count": 15,
   "id": "97f05efb",
   "metadata": {},
   "outputs": [],
   "source": [
    "import pandas as pd\n"
   ]
  },
  {
   "cell_type": "markdown",
   "id": "45dc121f",
   "metadata": {},
   "source": []
  },
  {
   "cell_type": "code",
   "execution_count": 16,
   "id": "f7c189a5",
   "metadata": {},
   "outputs": [],
   "source": [
    "pdf_valuations = pd.read_csv('data/input/player_valuations.csv')[[\"player_id\", \"date\", \"market_value_in_eur\"]]\n",
    "pdf_players = pd.read_csv('data/input/players.csv')[[\"player_id\", \"name\", \"date_of_birth\", \"position\", \"sub_position\", \"contract_expiration_date\", \"current_club_name\", \"current_club_domestic_competition_id\" ]]"
   ]
  },
  {
   "cell_type": "code",
   "execution_count": 17,
   "id": "0ad1f64a",
   "metadata": {},
   "outputs": [],
   "source": [
    "pdf_joined = pdf_players.merge(pdf_valuations, on=\"player_id\").query(\"current_club_domestic_competition_id == 'GB1'\")\n",
    "pdf_joined[\"age\"] = (pd.to_datetime(pdf_joined[\"date\"]) - pd.to_datetime(pdf_joined[\"date_of_birth\"])).dt.days // 365\n",
    "pdf_joined[\"year\"] = pd.to_datetime(pdf_joined[\"date\"]).dt.year\n",
    "pdf_joined[\"month\"] = pd.to_datetime(pdf_joined[\"date\"]).dt.month\n",
    "\n",
    "pdf_joined[\"market_value_in_million_eur\"] = pdf_joined[\"market_value_in_eur\"] / 1000000"
   ]
  },
  {
   "cell_type": "code",
   "execution_count": 18,
   "id": "9c9f00ee",
   "metadata": {},
   "outputs": [],
   "source": [
    "pdf_mvp = pdf_joined.groupby([\"player_id\", \"name\", \"year\"])[[\"date_of_birth\", \"market_value_in_million_eur\", \"age\", \"position\", \"sub_position\"]].first().reset_index().sort_values(by=[\"player_id\", \"year\"])"
   ]
  },
  {
   "cell_type": "code",
   "execution_count": 19,
   "id": "b1bb393d",
   "metadata": {},
   "outputs": [],
   "source": [
    "pdf_mvp [\"value_last_year\"] = pdf_mvp .groupby(\"player_id\")[\"market_value_in_million_eur\"].shift(1)\n",
    "pdf_mvp [\"age_last_year\"] = pdf_mvp.groupby(\"player_id\")[\"age\"].shift(1)\n",
    "pdf_mvp = pdf_mvp.dropna(subset=[\"value_last_year\", \"age_last_year\"])"
   ]
  },
  {
   "cell_type": "code",
   "execution_count": 20,
   "id": "da4102fc",
   "metadata": {},
   "outputs": [],
   "source": [
    "position_dummies = pd.get_dummies(pdf_mvp[\"position\"], prefix=\"pos\")\n",
    "pdf_mvp = pd.concat([pdf_mvp, position_dummies], axis=1)"
   ]
  },
  {
   "cell_type": "code",
   "execution_count": 21,
   "id": "3b292acf",
   "metadata": {},
   "outputs": [],
   "source": [
    "# Create subposition dummies\n",
    "subpos_dummies = pd.get_dummies(pdf_mvp[\"sub_position\"], prefix=\"subpos\")\n",
    "\n",
    "# Concatenate with original DataFrame\n",
    "pdf_mvp = pd.concat([pdf_mvp, subpos_dummies], axis=1)"
   ]
  },
  {
   "cell_type": "code",
   "execution_count": 22,
   "id": "81b63608",
   "metadata": {},
   "outputs": [],
   "source": [
    "pdf_mvp[\"age_from_peak\"] = (pdf_mvp[\"age\"] - 25) ** 2"
   ]
  },
  {
   "cell_type": "code",
   "execution_count": 26,
   "id": "5dcc8d38",
   "metadata": {},
   "outputs": [],
   "source": [
    "pdf_mvp.to_csv(\"data/intermediate/model_data_prep.csv\", index=False)\n"
   ]
  }
 ],
 "metadata": {
  "kernelspec": {
   "display_name": "Python 3",
   "language": "python",
   "name": "python3"
  },
  "language_info": {
   "codemirror_mode": {
    "name": "ipython",
    "version": 3
   },
   "file_extension": ".py",
   "mimetype": "text/x-python",
   "name": "python",
   "nbconvert_exporter": "python",
   "pygments_lexer": "ipython3",
   "version": "3.11.9"
  }
 },
 "nbformat": 4,
 "nbformat_minor": 5
}
