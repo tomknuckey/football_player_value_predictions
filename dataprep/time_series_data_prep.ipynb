{
 "cells": [
  {
   "cell_type": "code",
   "execution_count": 41,
   "id": "24bf9add",
   "metadata": {},
   "outputs": [],
   "source": [
    "import pandas as pd\n",
    "from pandas import DataFrame"
   ]
  },
  {
   "cell_type": "code",
   "execution_count": 42,
   "id": "9e2545b6",
   "metadata": {},
   "outputs": [],
   "source": [
    "def calculate_contract_years_left(pdf: DataFrame) -> DataFrame:\n",
    "    \"\"\"\n",
    "    Calculate the number of years left on a player's contract at the end of each season.\n",
    "\n",
    "    This function:\n",
    "    - Converts 'contract_expiration_date' to datetime.\n",
    "    - Calculates June 30th of the given 'year' as the season end.\n",
    "    - Computes the years remaining on a player's contract.\n",
    "    - Fills NaNs with 0 and clips values between 0 and 6.\n",
    "    - Drops the intermediate 'season_end_date' column.\n",
    "\n",
    "    Args:\n",
    "        pdf (pd.DataFrame): A DataFrame with columns 'contract_expiration_date' and 'year'.\n",
    "\n",
    "    Returns:\n",
    "        pd.DataFrame: The original DataFrame with 'contract_years_left' column added.\n",
    "    \"\"\"\n",
    "    pdf[\"contract_expiration_date\"] = pd.to_datetime(pdf[\"contract_expiration_date\"])\n",
    "    pdf[\"season_end_date\"] = pd.to_datetime(pdf[\"year\"].astype(str) + \"-06-30\")\n",
    "    pdf[\"contract_years_left\"] = round(\n",
    "        (pdf[\"contract_expiration_date\"] - pdf[\"season_end_date\"]).dt.days / 365.25, 1\n",
    "    )\n",
    "    pdf[\"contract_years_left\"] = pdf[\"contract_years_left\"].fillna(0).clip(lower=0, upper=6)\n",
    "    pdf.drop(columns=\"season_end_date\", inplace=True)\n",
    "\n",
    "    return pdf"
   ]
  },
  {
   "cell_type": "code",
   "execution_count": 43,
   "id": "3039c226",
   "metadata": {},
   "outputs": [],
   "source": [
    "pdf_valuations = pd.read_csv('../data/input/player_valuations.csv')[[\"player_id\", \"date\", \"market_value_in_eur\"]]\n",
    "pdf_players = pd.read_csv('../data/input/players.csv')[[\"player_id\", \"name\", \"date_of_birth\", \"position\", \"sub_position\", \"contract_expiration_date\", \"current_club_name\", \"current_club_domestic_competition_id\" ]]"
   ]
  },
  {
   "cell_type": "code",
   "execution_count": 44,
   "id": "93c5f1a6",
   "metadata": {},
   "outputs": [],
   "source": [
    "\n",
    "pdf_joined = pdf_players.merge(pdf_valuations, on=\"player_id\").query(\"current_club_domestic_competition_id == 'GB1'\")\n",
    "pdf_joined[\"age\"] = (pd.to_datetime(pdf_joined[\"date\"]) - pd.to_datetime(pdf_joined[\"date_of_birth\"])).dt.days // 365\n",
    "pdf_joined[\"year\"] = pd.to_datetime(pdf_joined[\"date\"]).dt.year\n",
    "pdf_joined[\"month\"] = pd.to_datetime(pdf_joined[\"date\"]).dt.month"
   ]
  },
  {
   "cell_type": "code",
   "execution_count": 45,
   "id": "1ffe2bad",
   "metadata": {},
   "outputs": [],
   "source": [
    "pdf_joined = calculate_contract_years_left(pdf_joined)"
   ]
  },
  {
   "cell_type": "code",
   "execution_count": 46,
   "id": "69a4b26e",
   "metadata": {},
   "outputs": [],
   "source": [
    "pdf_joined[\"market_value_in_million_eur\"] = pdf_joined[\"market_value_in_eur\"] / 1000000\n",
    "pdf_mvp = pdf_joined.groupby([\"player_id\", \"name\", \"year\"])[[\"date_of_birth\", \"market_value_in_million_eur\", \"age\", \"position\", \"sub_position\", \"contract_years_left\"]].first().reset_index().sort_values(by=[\"player_id\", \"year\"])\n",
    "pdf_mvp [\"value_last_year\"] = pdf_mvp .groupby(\"player_id\")[\"market_value_in_million_eur\"].shift(1)\n",
    "pdf_mvp [\"age_last_year\"] = pdf_mvp.groupby(\"player_id\")[\"age\"].shift(1)\n",
    "pdf_mvp = pdf_mvp.dropna(subset=[\"value_last_year\", \"age_last_year\"])"
   ]
  },
  {
   "cell_type": "code",
   "execution_count": 47,
   "id": "2871aea6",
   "metadata": {},
   "outputs": [],
   "source": [
    "\n",
    "position_dummies = pd.get_dummies(pdf_mvp[\"position\"], prefix=\"pos\")\n",
    "pdf_mvp = pd.concat([pdf_mvp, position_dummies], axis=1)\n",
    "\n",
    "# Create subposition dummies\n",
    "subpos_dummies = pd.get_dummies(pdf_mvp[\"sub_position\"], prefix=\"subpos\")\n",
    "pdf_mvp = pd.concat([pdf_mvp, subpos_dummies], axis=1)\n"
   ]
  },
  {
   "cell_type": "code",
   "execution_count": 48,
   "id": "2d5b7d14",
   "metadata": {},
   "outputs": [],
   "source": [
    "pdf_mvp[\"age_from_peak\"] = (pdf_mvp[\"age\"] - 25) ** 2"
   ]
  },
  {
   "cell_type": "code",
   "execution_count": 49,
   "id": "fbd46b1b",
   "metadata": {},
   "outputs": [],
   "source": [
    "pdf_mvp.to_csv(\"../data/intermediate/time_series_model_data_prep.csv\", index=False)"
   ]
  }
 ],
 "metadata": {
  "kernelspec": {
   "display_name": "Python 3",
   "language": "python",
   "name": "python3"
  },
  "language_info": {
   "codemirror_mode": {
    "name": "ipython",
    "version": 3
   },
   "file_extension": ".py",
   "mimetype": "text/x-python",
   "name": "python",
   "nbconvert_exporter": "python",
   "pygments_lexer": "ipython3",
   "version": "3.11.9"
  }
 },
 "nbformat": 4,
 "nbformat_minor": 5
}
