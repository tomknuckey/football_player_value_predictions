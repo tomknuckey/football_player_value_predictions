{
 "cells": [
  {
   "cell_type": "code",
   "execution_count": null,
   "id": "24bf9add",
   "metadata": {},
   "outputs": [
    {
     "name": "stdout",
     "output_type": "stream",
     "text": [
      "The history saving thread hit an unexpected error (OperationalError('database or disk is full')).History will not be written to the database.\n"
     ]
    }
   ],
   "source": [
    "import pandas as pd\n",
    "from pandas import DataFrame"
   ]
  },
  {
   "cell_type": "code",
   "execution_count": 94,
   "id": "9e2545b6",
   "metadata": {},
   "outputs": [],
   "source": [
    "def calculate_contract_years_left(pdf: DataFrame) -> DataFrame:\n",
    "    \"\"\"\n",
    "    Calculate the number of years left on a player's contract at the end of each season.\n",
    "\n",
    "    This function:\n",
    "    - Converts 'contract_expiration_date' to datetime.\n",
    "    - Calculates June 30th of the given 'year' as the season end.\n",
    "    - Computes the years remaining on a player's contract.\n",
    "    - Fills NaNs with 0 and clips values between 0 and 6.\n",
    "    - Drops the intermediate 'season_end_date' column.\n",
    "\n",
    "    Args:\n",
    "        pdf (pd.DataFrame): A DataFrame with columns 'contract_expiration_date' and 'year'.\n",
    "\n",
    "    Returns:\n",
    "        pd.DataFrame: The original DataFrame with 'contract_years_left' column added.\n",
    "    \"\"\"\n",
    "    pdf[\"contract_expiration_date\"] = pd.to_datetime(pdf[\"contract_expiration_date\"])\n",
    "    pdf[\"season_end_date\"] = pd.to_datetime(pdf[\"year\"].astype(str) + \"-06-30\")\n",
    "    pdf[\"contract_years_left\"] = round(\n",
    "        (pdf[\"contract_expiration_date\"] - pdf[\"season_end_date\"]).dt.days / 365.25, 1\n",
    "    )\n",
    "    pdf[\"contract_years_left\"] = pdf[\"contract_years_left\"].fillna(0).clip(lower=0, upper=6)\n",
    "    pdf.drop(columns=\"season_end_date\", inplace=True)\n",
    "\n",
    "    return pdf"
   ]
  },
  {
   "cell_type": "code",
   "execution_count": 95,
   "id": "9c5cb567",
   "metadata": {},
   "outputs": [],
   "source": [
    "def generate_team_strength() -> DataFrame:\n",
    "    \"\"\"\n",
    "    Calculates seasonal team strength statistics for Premier League clubs based on historical match data.\n",
    "\n",
    "    This function reads input CSVs containing information about clubs, games, competitions, and results,\n",
    "    filters for Premier League matches, and aggregates key team performance metrics such as:\n",
    "    - Points per game (PPG)\n",
    "    - Goal difference\n",
    "    - Goals scored\n",
    "    - Goals conceded\n",
    "\n",
    "    Returns:\n",
    "        pd.DataFrame: A dataframe with the following columns:\n",
    "            - 'team_name' (str): Club name\n",
    "            - 'season' (str): Season identifier\n",
    "            - 'team_ppg' (float): Points per game\n",
    "            - 'team_goal_difference' (int): Goal difference\n",
    "            - 'team_goals_scored' (int): Total goals scored\n",
    "            - 'team_goals_conceded' (int): Total goals conceded\n",
    "    \"\"\"\n",
    "    # Load CSVs\n",
    "    club_games = pd.read_csv(\"../data/input/club_games.csv\")\n",
    "    clubs = pd.read_csv(\"../data/input/clubs.csv\")\n",
    "    games = pd.read_csv(\"../data/input/games.csv\")\n",
    "    competitions = pd.read_csv(\"../data/input/competitions.csv\")\n",
    "\n",
    "    # Merge club names and game metadata\n",
    "    club_games = club_games.merge(clubs, on=\"club_id\", suffixes=(\"\", \"_club\"))\n",
    "    club_games = club_games.merge(games, on=\"game_id\", suffixes=(\"\", \"_game\"))\n",
    "    club_games = club_games.merge(competitions, on=\"competition_id\", suffixes=(\"\", \"_comp\"))\n",
    "\n",
    "    # Filter to Premier League games only\n",
    "    club_games = club_games[club_games[\"name_comp\"] == \"premier-league\"]\n",
    "\n",
    "    # Aggregate team stats by club name and season\n",
    "    team_stats = (\n",
    "        club_games.groupby([\"name\", \"season\"])\n",
    "        .agg(\n",
    "            games_played=(\"is_win\", \"count\"),\n",
    "            wins=(\"is_win\", \"sum\"),\n",
    "            goals_scored=(\"own_goals\", \"sum\"),\n",
    "            goals_conceded=(\"opponent_goals\", \"sum\"),\n",
    "        )\n",
    "        .reset_index()\n",
    "    )\n",
    "\n",
    "    # Calculate draws\n",
    "    team_stats[\"draws\"] = team_stats[\"games_played\"] - team_stats[\"wins\"] - (\n",
    "        club_games.groupby([\"name\", \"season\"])[\"is_win\"]\n",
    "        .apply(lambda x: (~x & (x.notna())).sum())\n",
    "        .values\n",
    "    )\n",
    "\n",
    "    # Additional metrics\n",
    "    team_stats[\"losses\"] = team_stats[\"games_played\"] - team_stats[\"wins\"] - team_stats[\"draws\"]\n",
    "    team_stats[\"points\"] = 3 * team_stats[\"wins\"] + team_stats[\"draws\"]\n",
    "    team_stats[\"team_ppg\"] = team_stats[\"points\"] / team_stats[\"games_played\"]\n",
    "    team_stats[\"team_goal_difference\"] = team_stats[\"goals_scored\"] - team_stats[\"goals_conceded\"]\n",
    "\n",
    "    # Rename columns to have 'team_' prefix except 'season'\n",
    "    team_stats.rename(columns={\n",
    "        \"goals_scored\": \"team_goals_scored\",\n",
    "        \"goals_conceded\": \"team_goals_conceded\"\n",
    "    }, inplace=True)\n",
    "\n",
    "    return team_stats[[\"name\", \"season\", \"team_ppg\", \"team_goal_difference\", \"team_goals_scored\", \"team_goals_conceded\"]]\n"
   ]
  },
  {
   "cell_type": "code",
   "execution_count": 96,
   "id": "aa177015",
   "metadata": {},
   "outputs": [],
   "source": [
    "def generate_player_stats() -> DataFrame:\n",
    "    \"\"\"\n",
    "    Loads player appearance and game data, filters for Premier League matches,\n",
    "    and computes per-season player statistics such as:\n",
    "    - Goals per 90\n",
    "    - Assists per 90\n",
    "    - Goal contributions per 90\n",
    "\n",
    "    Returns:\n",
    "        pd.DataFrame: A dataframe of player statistics with the following columns:\n",
    "            - player_id (int)\n",
    "            - player_name (str)\n",
    "            - season (str)\n",
    "            - club_name (str)\n",
    "            - games_played (int)\n",
    "            - total_minutes (int)\n",
    "            - goals (int)\n",
    "            - assists (int)\n",
    "            - goal_contributions (int)\n",
    "            - goals_per_90 (float)\n",
    "            - assists_per_90 (float)\n",
    "            - contrib_per_90 (float)\n",
    "    \"\"\"\n",
    "    # Load CSVs\n",
    "    appearances = pd.read_csv(\"../data/input/appearances.csv\")\n",
    "    players = pd.read_csv(\"../data/input/players.csv\")\n",
    "    clubs = pd.read_csv(\"../data/input/clubs.csv\")\n",
    "    games = pd.read_csv(\"../data/input/games.csv\")\n",
    "    competitions = pd.read_csv(\"../data/input/competitions.csv\")\n",
    "\n",
    "    # Merge club name\n",
    "    clubs = clubs[[\"club_id\", \"name\"]].rename(columns={\"club_id\": \"player_club_id\", \"name\": \"club_name\"})\n",
    "    appearances = appearances.merge(clubs, on=\"player_club_id\", how=\"left\")\n",
    "\n",
    "    # Merge competition name\n",
    "    competitions = competitions[[\"competition_id\", \"name\"]].rename(columns={\"name\": \"competition_name\"})\n",
    "    appearances = appearances.merge(competitions, on=\"competition_id\", how=\"left\")\n",
    "\n",
    "    # Merge season (from games table)\n",
    "    games = games[[\"game_id\", \"season\"]]\n",
    "    appearances = appearances.merge(games, on=\"game_id\", how=\"left\")\n",
    "\n",
    "    # Filter for Premier League matches\n",
    "    df_prem = appearances[appearances[\"competition_name\"] == \"premier-league\"]\n",
    "\n",
    "    # Aggregate player stats\n",
    "    player_stats = (\n",
    "        df_prem.groupby([\"player_id\", \"player_name\", \"season\"])\n",
    "        .agg(\n",
    "            games_played=(\"appearance_id\", \"count\"),\n",
    "            total_minutes=(\"minutes_played\", \"sum\"),\n",
    "            goals=(\"goals\", \"sum\"),\n",
    "            assists=(\"assists\", \"sum\")\n",
    "        )\n",
    "        .reset_index()\n",
    "    )\n",
    "\n",
    "    # Remove players with no minutes played\n",
    "    player_stats = player_stats[player_stats[\"total_minutes\"] > 0]\n",
    "\n",
    "    # Calculate per-90 metrics\n",
    "    player_stats[\"goal_contributions\"] = player_stats[\"goals\"] + player_stats[\"assists\"]\n",
    "    player_stats[\"goals_per_90\"] = player_stats[\"goals\"] / (player_stats[\"total_minutes\"] / 90)\n",
    "    player_stats[\"assists_per_90\"] = player_stats[\"assists\"] / (player_stats[\"total_minutes\"] / 90)\n",
    "    player_stats[\"contrib_per_90\"] = player_stats[\"goal_contributions\"] / (player_stats[\"total_minutes\"] / 90)\n",
    "\n",
    "\n",
    "    return player_stats\n"
   ]
  },
  {
   "cell_type": "code",
   "execution_count": 97,
   "id": "3039c226",
   "metadata": {},
   "outputs": [],
   "source": [
    "pdf_valuations = pd.read_csv('../data/input/player_valuations.csv')[[\"player_id\", \"date\", \"market_value_in_eur\"]]\n",
    "pdf_players = pd.read_csv('../data/input/players.csv')[[\"player_id\", \"name\", \"date_of_birth\", \"position\", \"sub_position\", \"contract_expiration_date\", \"current_club_name\", \"current_club_domestic_competition_id\" ]]"
   ]
  },
  {
   "cell_type": "code",
   "execution_count": 98,
   "id": "93c5f1a6",
   "metadata": {},
   "outputs": [],
   "source": [
    "\n",
    "pdf_joined = pdf_players.merge(pdf_valuations, on=\"player_id\").query(\"current_club_domestic_competition_id == 'GB1'\")\n",
    "pdf_joined[\"age\"] = (pd.to_datetime(pdf_joined[\"date\"]) - pd.to_datetime(pdf_joined[\"date_of_birth\"])).dt.days // 365\n",
    "pdf_joined[\"year\"] = pd.to_datetime(pdf_joined[\"date\"]).dt.year\n",
    "pdf_joined[\"month\"] = pd.to_datetime(pdf_joined[\"date\"]).dt.month"
   ]
  },
  {
   "cell_type": "code",
   "execution_count": 99,
   "id": "1ffe2bad",
   "metadata": {},
   "outputs": [],
   "source": [
    "pdf_joined = calculate_contract_years_left(pdf_joined)"
   ]
  },
  {
   "cell_type": "code",
   "execution_count": 100,
   "id": "69a4b26e",
   "metadata": {},
   "outputs": [],
   "source": [
    "pdf_joined[\"market_value_in_million_eur\"] = pdf_joined[\"market_value_in_eur\"] / 1000000\n",
    "pdf_mvp = pdf_joined.groupby([\"player_id\", \"name\", \"year\"])[[\"date_of_birth\", \"market_value_in_million_eur\", \"age\", \"position\", \"sub_position\", \"contract_years_left\", \"current_club_name\"]].first().reset_index().sort_values(by=[\"player_id\", \"year\"])\n",
    "pdf_mvp [\"value_last_year\"] = pdf_mvp .groupby(\"player_id\")[\"market_value_in_million_eur\"].shift(1)\n",
    "pdf_mvp [\"age_last_year\"] = pdf_mvp.groupby(\"player_id\")[\"age\"].shift(1)\n",
    "pdf_mvp = pdf_mvp.dropna(subset=[\"value_last_year\", \"age_last_year\"])"
   ]
  },
  {
   "cell_type": "code",
   "execution_count": 101,
   "id": "2871aea6",
   "metadata": {},
   "outputs": [],
   "source": [
    "\n",
    "position_dummies = pd.get_dummies(pdf_mvp[\"position\"], prefix=\"pos\")\n",
    "pdf_mvp = pd.concat([pdf_mvp, position_dummies], axis=1)\n",
    "\n",
    "# Create subposition dummies\n",
    "subpos_dummies = pd.get_dummies(pdf_mvp[\"sub_position\"], prefix=\"subpos\")\n",
    "pdf_mvp = pd.concat([pdf_mvp, subpos_dummies], axis=1)\n"
   ]
  },
  {
   "cell_type": "code",
   "execution_count": 102,
   "id": "2d5b7d14",
   "metadata": {},
   "outputs": [],
   "source": [
    "pdf_mvp[\"age_from_peak\"] = (pdf_mvp[\"age\"] - 25) ** 2"
   ]
  },
  {
   "cell_type": "code",
   "execution_count": 103,
   "id": "739605a9",
   "metadata": {},
   "outputs": [],
   "source": [
    "pdf_mvp = pdf_mvp.merge(generate_team_strength(), left_on=[\"current_club_name\", \"year\"], right_on=[\"name\", \"season\"], how=\"left\", suffixes=(\"\", \"_team\"))"
   ]
  },
  {
   "cell_type": "code",
   "execution_count": 104,
   "id": "b6d7af1c",
   "metadata": {},
   "outputs": [],
   "source": [
    "pdf_mvp = pdf_mvp.merge(generate_player_stats(), left_on=[\"player_id\", \"year\"], right_on=[\"player_id\", \"season\"], how=\"left\", suffixes=(\"\", \"_stats\"))"
   ]
  },
  {
   "cell_type": "code",
   "execution_count": 105,
   "id": "d395cb60",
   "metadata": {},
   "outputs": [],
   "source": [
    "stat_cols = [\n",
    "    \"games_played\",\n",
    "    \"total_minutes\",\n",
    "    \"goals\",\n",
    "    \"assists\",\n",
    "    \"goal_contributions\",\n",
    "    \"goals_per_90\",\n",
    "    \"assists_per_90\",\n",
    "    \"contrib_per_90\",\n",
    "]\n",
    "\n",
    "pdf_mvp[stat_cols] = pdf_mvp[stat_cols].fillna(0)"
   ]
  },
  {
   "cell_type": "code",
   "execution_count": 106,
   "id": "fbd46b1b",
   "metadata": {},
   "outputs": [],
   "source": [
    "pdf_mvp.to_csv(\"../data/intermediate/time_series_model_data_prep.csv\", index=False)"
   ]
  }
 ],
 "metadata": {
  "kernelspec": {
   "display_name": "Python 3",
   "language": "python",
   "name": "python3"
  },
  "language_info": {
   "codemirror_mode": {
    "name": "ipython",
    "version": 3
   },
   "file_extension": ".py",
   "mimetype": "text/x-python",
   "name": "python",
   "nbconvert_exporter": "python",
   "pygments_lexer": "ipython3",
   "version": "3.11.9"
  }
 },
 "nbformat": 4,
 "nbformat_minor": 5
}
