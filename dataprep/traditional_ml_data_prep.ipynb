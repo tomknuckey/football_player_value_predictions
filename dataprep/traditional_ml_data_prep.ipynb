{
 "cells": [
  {
   "cell_type": "code",
   "execution_count": 12,
   "id": "3e47852d",
   "metadata": {},
   "outputs": [],
   "source": [
    "import pandas as pd "
   ]
  },
  {
   "cell_type": "code",
   "execution_count": 13,
   "id": "dc2f48eb",
   "metadata": {},
   "outputs": [],
   "source": [
    "pdf_valuations = pd.read_csv('../data/input/player_valuations.csv')[[\"player_id\", \"date\", \"market_value_in_eur\"]]\n",
    "pdf_players = pd.read_csv('../data/input/players.csv')[[\"player_id\", \"name\", \"date_of_birth\", \"position\", \"sub_position\", \"contract_expiration_date\", \"current_club_name\", \"current_club_domestic_competition_id\" ]]"
   ]
  },
  {
   "cell_type": "code",
   "execution_count": 15,
   "id": "052e8349",
   "metadata": {},
   "outputs": [],
   "source": [
    "pdf_joined = pdf_players.merge(pdf_valuations, on=\"player_id\").query(\"current_club_domestic_competition_id == 'GB1'\")\n",
    "pdf_joined[\"age\"] = (pd.to_datetime(pdf_joined[\"date\"]) - pd.to_datetime(pdf_joined[\"date_of_birth\"])).dt.days // 365\n",
    "pdf_joined[\"year\"] = pd.to_datetime(pdf_joined[\"date\"]).dt.year\n",
    "pdf_joined[\"month\"] = pd.to_datetime(pdf_joined[\"date\"]).dt.month\n"
   ]
  },
  {
   "cell_type": "code",
   "execution_count": 17,
   "id": "452da2ba",
   "metadata": {},
   "outputs": [],
   "source": [
    "pdf_joined[\"market_value_in_million_eur\"] = pdf_joined[\"market_value_in_eur\"] / 1000000\n",
    "pdf_mvp = pdf_joined[[\"name\", \"player_id\", \"date_of_birth\", \"date\", \"market_value_in_million_eur\", \"age\", \"year\", \"month\" ]]\n",
    "\n"
   ]
  },
  {
   "cell_type": "code",
   "execution_count": 18,
   "id": "077e5ba0",
   "metadata": {},
   "outputs": [],
   "source": [
    "# Filter training and test sets\n",
    "train = pdf_mvp[pdf_mvp[\"year\"] <= 2022].sort_values(\"date\", ascending=False)\n",
    "test = pdf_mvp[(pdf_mvp[\"year\"] >= 2023)].sort_values(\"date\", ascending=False)\n",
    "pdf_train_agg= train.query(\"year == 2022\").groupby([\"player_id\", \"name\"])[[\"date_of_birth\", \"market_value_in_million_eur\", \"age\"]].first().reset_index()\n",
    "pdf_test_agg = test.query(\"year == 2023\").groupby([\"player_id\", \"name\"])[[\"date_of_birth\", \"market_value_in_million_eur\", \"age\"]].last().reset_index()\n",
    "pdf_test_train = pdf_train_agg.merge(pdf_test_agg, on=[\"player_id\", \"name\"], suffixes=(\"_train\", \"_test\"))"
   ]
  },
  {
   "cell_type": "code",
   "execution_count": 19,
   "id": "5dcc8d38",
   "metadata": {},
   "outputs": [],
   "source": [
    "pdf_test_train.to_csv(\"../data/intermediate/traditional_model_data_prep.csv\", index=False)\n"
   ]
  }
 ],
 "metadata": {
  "kernelspec": {
   "display_name": "Python 3",
   "language": "python",
   "name": "python3"
  },
  "language_info": {
   "codemirror_mode": {
    "name": "ipython",
    "version": 3
   },
   "file_extension": ".py",
   "mimetype": "text/x-python",
   "name": "python",
   "nbconvert_exporter": "python",
   "pygments_lexer": "ipython3",
   "version": "3.11.9"
  }
 },
 "nbformat": 4,
 "nbformat_minor": 5
}
