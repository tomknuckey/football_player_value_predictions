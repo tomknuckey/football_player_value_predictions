{
 "cells": [
  {
   "cell_type": "code",
   "execution_count": null,
   "id": "1b43e964",
   "metadata": {},
   "outputs": [
    {
     "name": "stderr",
     "output_type": "stream",
     "text": [
      "C:\\Users\\tomkn\\AppData\\Local\\Packages\\PythonSoftwareFoundation.Python.3.11_qbz5n2kfra8p0\\LocalCache\\local-packages\\Python311\\site-packages\\tqdm\\auto.py:21: TqdmWarning: IProgress not found. Please update jupyter and ipywidgets. See https://ipywidgets.readthedocs.io/en/stable/user_install.html\n",
      "  from .autonotebook import tqdm as notebook_tqdm\n"
     ]
    }
   ],
   "source": [
    "import pandas as pd\n",
    "from sklearn.metrics import root_mean_squared_error\n",
    "from typing import List, Tuple\n",
    "from xgboost import XGBRegressor \n",
    "import uuid\n",
    "import datetime \n",
    "import time\n",
    "from sklearn.model_selection import TimeSeriesSplit\n",
    "from utils.output_analysis import plot_player_value_trends, save_output_tables\n",
    "from utils.model import test_train_split, define_features, analysis_result , prepare_future_year_data, iterative_cap_predicted_value\n",
    "from utils.xgboost_analysis import plot_basic_decision_tree, plot_feature_importance, create_shapley_values_plots\n",
    "import optuna\n",
    "from config import features, test_start, target, filter_out_synthetic\n",
    "import os\n",
    "import plotly.express as px\n"
   ]
  },
  {
   "cell_type": "code",
   "execution_count": 2,
   "id": "95766a24",
   "metadata": {},
   "outputs": [],
   "source": [
    "start = time.time()"
   ]
  },
  {
   "cell_type": "code",
   "execution_count": 3,
   "id": "577b7f61",
   "metadata": {},
   "outputs": [
    {
     "name": "stderr",
     "output_type": "stream",
     "text": [
      "C:\\Users\\tomkn\\AppData\\Local\\Temp\\ipykernel_1020\\4198838041.py:1: DtypeWarning: Columns (3,6,7,9,30,36) have mixed types. Specify dtype option on import or set low_memory=False.\n",
      "  pdf_mvp = pd.read_csv(\"data/intermediate/time_series_model_data_prep.csv\")\n"
     ]
    }
   ],
   "source": [
    "pdf_mvp = pd.read_csv(\"data/intermediate/time_series_model_data_prep.csv\") \n",
    "\n",
    "if filter_out_synthetic:\n",
    "    print(pdf_mvp.shape)\n",
    "    pdf_mvp = pdf_mvp[pdf_mvp[\"synthetic_flag\"] == False]\n",
    "    print(pdf_mvp.shape)"
   ]
  },
  {
   "cell_type": "code",
   "execution_count": 4,
   "id": "762ec1b7",
   "metadata": {},
   "outputs": [],
   "source": [
    "version  = \"v0.0.8\"\n",
    "forecast_id = uuid.uuid4()"
   ]
  },
  {
   "cell_type": "code",
   "execution_count": 5,
   "id": "18256918",
   "metadata": {},
   "outputs": [],
   "source": [
    "\n",
    "features = define_features(pdf_mvp, features)\n",
    "\n",
    "pdf_train, pdf_test = test_train_split(pdf_mvp, test_start)"
   ]
  },
  {
   "cell_type": "code",
   "execution_count": 6,
   "id": "3009ce79",
   "metadata": {},
   "outputs": [],
   "source": [
    "def objective(\n",
    "    trial: optuna.Trial,\n",
    "    X: pd.DataFrame,\n",
    "    y: pd.Series,\n",
    "    tscv: TimeSeriesSplit,\n",
    ") -> float:\n",
    "    params = {\n",
    "        \"n_estimators\": trial.suggest_int(\"n_estimators\", 50, 200),  # Number of trees\n",
    "        \"learning_rate\": trial.suggest_float(\"learning_rate\", 0.01, 0.3),  # Learning rate\n",
    "        \"max_depth\": trial.suggest_int(\"max_depth\", 1, 7),  # Tree depth\n",
    "        \"subsample\": trial.suggest_float(\"subsample\", 0.5, 1.0),  # Subsampling fraction\n",
    "        \"colsample_bytree\": trial.suggest_float(\"colsample_bytree\", 0.6, 1.0),\n",
    "        \"gamma\": trial.suggest_float(\"gamma\", 0, 5),  # Min loss reduction for split\n",
    "        \"reg_alpha\": trial.suggest_float(\"reg_alpha\", 0.0, 1.0),  # L1 regularization\n",
    "        \"reg_lambda\": trial.suggest_float(\"reg_lambda\", 0.1, 10.0),  # L2 regularization\n",
    "        \"random_state\": 42,\n",
    "        \"objective\": \"reg:squarederror\",\n",
    "        \"tree_method\": \"hist\",\n",
    "        \"verbosity\": 0,\n",
    "    }\n",
    "\n",
    "    rmse_scores = []\n",
    "\n",
    "    for train_idx, val_idx in tscv.split(X):\n",
    "        X_train, X_val = X.iloc[train_idx], X.iloc[val_idx]\n",
    "        y_train, y_val = y.iloc[train_idx], y.iloc[val_idx]\n",
    "\n",
    "        model = XGBRegressor(**params)\n",
    "        model.fit(X_train, y_train)\n",
    "\n",
    "        preds = model.predict(X_val)\n",
    "        rmse = root_mean_squared_error(y_val, preds)\n",
    "        rmse_scores.append(rmse)\n",
    "\n",
    "    return sum(rmse_scores) / len(rmse_scores)  # Average RMSE across folds\n"
   ]
  },
  {
   "cell_type": "code",
   "execution_count": 7,
   "id": "d0c1c16d",
   "metadata": {},
   "outputs": [],
   "source": [
    "\n",
    "def predict_future_values(\n",
    "    train_df: pd.DataFrame,\n",
    "    test_df: pd.DataFrame,\n",
    "    prediction_years: List[int],\n",
    "    features: List[str],\n",
    "    n_trials: int = 100,\n",
    ") -> Tuple[pd.DataFrame, XGBRegressor, pd.Series]:\n",
    "    \"\"\"\n",
    "    Predicts future player values for specified years using XGBoost and Optuna hyperparameter tuning.\n",
    "\n",
    "    Args:\n",
    "        train_df: Training DataFrame with features and target.\n",
    "        test_df: Initial test DataFrame to predict from (starting year).\n",
    "        prediction_years: List of years to predict, starting with the base year.\n",
    "        features: List of feature column names to use.\n",
    "        n_trials: Number of Optuna trials for hyperparameter search.\n",
    "\n",
    "    Returns:\n",
    "        Tuple of:\n",
    "            - DataFrame with predicted values for all prediction years concatenated.\n",
    "            - Trained XGBRegressor using best Optuna params.\n",
    "            - y_test from the base year (only valid for the first year).\n",
    "    \"\"\"\n",
    "\n",
    "    X_train = train_df[features]\n",
    "    y_train = train_df[target]\n",
    "\n",
    "    tscv = TimeSeriesSplit(n_splits=3)\n",
    "\n",
    "    study = optuna.create_study(direction=\"minimize\")\n",
    "    study.optimize(lambda trial: objective(trial, X_train, y_train, tscv), n_trials=n_trials, show_progress_bar=False)\n",
    "\n",
    "    print(f\"Best trial params: {study.best_trial.params}\")\n",
    "    print(f\"Best trial RMSE: {study.best_value:.4f}\")\n",
    "\n",
    "    # Train final model on all training data with best params\n",
    "    best_params = study.best_trial.params\n",
    "    # Add fixed params required by XGBRegressor\n",
    "    best_params.update({\n",
    "        \"random_state\": 42,\n",
    "        \"objective\": \"reg:squarederror\",\n",
    "        \"tree_method\": \"hist\",\n",
    "        \"verbosity\": 0,\n",
    "    })\n",
    "\n",
    "    model = XGBRegressor(**best_params)\n",
    "    model.fit(X_train, y_train)\n",
    "\n",
    "    predictions = []\n",
    "    current_df = test_df.copy()\n",
    "\n",
    "    for i, year in enumerate(prediction_years):\n",
    "        X_test = current_df[features]\n",
    "        current_df[\"predicted_value\"] = model.predict(X_test)\n",
    "        current_df[\"year\"] = year\n",
    "\n",
    "        if i == 0:\n",
    "            y_test = current_df[target]\n",
    "            analysis_result(current_df, y_test, year, target)\n",
    "            create_shapley_values_plots(model, X_train, X_test, features)\n",
    "            top_features = plot_feature_importance(model, features)\n",
    "        else:\n",
    "            current_df[\"age\"] = current_df[\"age_last_year\"] + 1\n",
    "\n",
    "        # Reduce contract years left by 1, never below 0\n",
    "        if \"contract_years_left\" in current_df.columns:\n",
    "            current_df[\"contract_years_left\"] = (current_df[\"contract_years_left\"] - 1).clip(lower=0)\n",
    "\n",
    "        current_df[\"age_last_year\"] = current_df[\"age\"]\n",
    "        current_df[\"value_last_year\"] = current_df[\"predicted_value\"]\n",
    "\n",
    "        predictions.append(current_df[[\"player_id\", \"year\", \"age\", \"predicted_value\"]].copy())\n",
    "\n",
    "        if i < len(prediction_years) - 1:\n",
    "            current_df = prepare_future_year_data(current_df)\n",
    "\n",
    "    all_predictions_df = pd.concat(predictions, ignore_index=True)\n",
    "    return all_predictions_df, model, y_test, top_features"
   ]
  },
  {
   "cell_type": "code",
   "execution_count": 8,
   "id": "92b49796",
   "metadata": {},
   "outputs": [
    {
     "name": "stderr",
     "output_type": "stream",
     "text": [
      "[I 2025-08-22 14:38:07,144] A new study created in memory with name: no-name-4556e767-273b-41e6-977e-90e9c287d9b3\n",
      "[I 2025-08-22 14:38:08,204] Trial 0 finished with value: 5.337523587553353 and parameters: {'n_estimators': 144, 'learning_rate': 0.08580171106252261, 'max_depth': 5, 'subsample': 0.819970088393791, 'colsample_bytree': 0.6953867285615576, 'gamma': 3.553034001603843, 'reg_alpha': 0.5249589538850696, 'reg_lambda': 9.825478448754518}. Best is trial 0 with value: 5.337523587553353.\n",
      "[I 2025-08-22 14:38:08,623] Trial 1 finished with value: 5.1350677846633745 and parameters: {'n_estimators': 51, 'learning_rate': 0.2840238236147786, 'max_depth': 5, 'subsample': 0.9774130981484173, 'colsample_bytree': 0.798787728047514, 'gamma': 0.8712133505688385, 'reg_alpha': 0.4184864184965539, 'reg_lambda': 1.4776203168553759}. Best is trial 1 with value: 5.1350677846633745.\n",
      "[I 2025-08-22 14:38:09,006] Trial 2 finished with value: 6.756550280909454 and parameters: {'n_estimators': 174, 'learning_rate': 0.1501667723531491, 'max_depth': 1, 'subsample': 0.7056144723439546, 'colsample_bytree': 0.745673955445935, 'gamma': 3.1014320970305786, 'reg_alpha': 0.37428654662624583, 'reg_lambda': 4.648184715375318}. Best is trial 1 with value: 5.1350677846633745.\n",
      "[I 2025-08-22 14:38:09,601] Trial 3 finished with value: 6.0538029615735764 and parameters: {'n_estimators': 175, 'learning_rate': 0.28281154023381566, 'max_depth': 4, 'subsample': 0.6159229953556222, 'colsample_bytree': 0.7438247499800978, 'gamma': 1.7448861949950145, 'reg_alpha': 0.5378242278425506, 'reg_lambda': 0.7694478641099013}. Best is trial 1 with value: 5.1350677846633745.\n",
      "[I 2025-08-22 14:38:10,485] Trial 4 finished with value: 5.500342045399218 and parameters: {'n_estimators': 157, 'learning_rate': 0.2774871062658846, 'max_depth': 6, 'subsample': 0.8969305685363127, 'colsample_bytree': 0.8769327721030062, 'gamma': 2.1206817799951523, 'reg_alpha': 0.2538884704264094, 'reg_lambda': 2.0219422313352275}. Best is trial 1 with value: 5.1350677846633745.\n",
      "[I 2025-08-22 14:38:10,908] Trial 5 finished with value: 5.061842206386747 and parameters: {'n_estimators': 163, 'learning_rate': 0.2179180733945661, 'max_depth': 5, 'subsample': 0.9721473091810005, 'colsample_bytree': 0.8702784331080667, 'gamma': 2.0252932291272794, 'reg_alpha': 0.8865233582190081, 'reg_lambda': 3.513533043216345}. Best is trial 5 with value: 5.061842206386747.\n",
      "[I 2025-08-22 14:38:11,798] Trial 6 finished with value: 5.244703938100053 and parameters: {'n_estimators': 200, 'learning_rate': 0.04677605859747914, 'max_depth': 6, 'subsample': 0.6616130167453758, 'colsample_bytree': 0.7690754673954552, 'gamma': 2.688221579074866, 'reg_alpha': 0.3140112660467328, 'reg_lambda': 0.4148429215906988}. Best is trial 5 with value: 5.061842206386747.\n",
      "[I 2025-08-22 14:38:12,155] Trial 7 finished with value: 5.148882188119126 and parameters: {'n_estimators': 88, 'learning_rate': 0.16997120983024072, 'max_depth': 6, 'subsample': 0.6692889744788999, 'colsample_bytree': 0.8677923423597071, 'gamma': 1.1634208778271882, 'reg_alpha': 0.22612210547966238, 'reg_lambda': 9.925962126897799}. Best is trial 5 with value: 5.061842206386747.\n",
      "[I 2025-08-22 14:38:12,568] Trial 8 finished with value: 4.960176049307823 and parameters: {'n_estimators': 63, 'learning_rate': 0.2017950409058361, 'max_depth': 5, 'subsample': 0.6702818814971192, 'colsample_bytree': 0.9234076694605354, 'gamma': 1.882211137219798, 'reg_alpha': 0.80490833092432, 'reg_lambda': 7.935729999314802}. Best is trial 8 with value: 4.960176049307823.\n",
      "[I 2025-08-22 14:38:13,121] Trial 9 finished with value: 6.67572527895193 and parameters: {'n_estimators': 92, 'learning_rate': 0.16735388021217723, 'max_depth': 1, 'subsample': 0.9296008765132995, 'colsample_bytree': 0.8578803973418772, 'gamma': 4.757627964823305, 'reg_alpha': 0.49055497134408466, 'reg_lambda': 2.6513233090593475}. Best is trial 8 with value: 4.960176049307823.\n",
      "[I 2025-08-22 14:38:13,449] Trial 10 finished with value: 4.769180869859081 and parameters: {'n_estimators': 62, 'learning_rate': 0.2227414883005813, 'max_depth': 3, 'subsample': 0.5288765853324822, 'colsample_bytree': 0.998711857473545, 'gamma': 0.03085522376477856, 'reg_alpha': 0.9613703353756714, 'reg_lambda': 6.872093012233067}. Best is trial 10 with value: 4.769180869859081.\n",
      "[I 2025-08-22 14:38:13,680] Trial 11 finished with value: 4.945523440864363 and parameters: {'n_estimators': 50, 'learning_rate': 0.22375148124910535, 'max_depth': 3, 'subsample': 0.5131228476746315, 'colsample_bytree': 0.992933633903282, 'gamma': 0.582242806803859, 'reg_alpha': 0.9827228008321758, 'reg_lambda': 7.331905183841945}. Best is trial 10 with value: 4.769180869859081.\n",
      "[I 2025-08-22 14:38:13,977] Trial 12 finished with value: 4.925944730311649 and parameters: {'n_estimators': 80, 'learning_rate': 0.23535334041901232, 'max_depth': 3, 'subsample': 0.5210188438552608, 'colsample_bytree': 0.9926972468161798, 'gamma': 0.0708990349269304, 'reg_alpha': 0.9769313981229555, 'reg_lambda': 6.902443025080672}. Best is trial 10 with value: 4.769180869859081.\n",
      "[I 2025-08-22 14:38:14,342] Trial 13 finished with value: 4.72798477564833 and parameters: {'n_estimators': 101, 'learning_rate': 0.23452604777703426, 'max_depth': 3, 'subsample': 0.5099767557687616, 'colsample_bytree': 0.9722645169005864, 'gamma': 0.0814461728460043, 'reg_alpha': 0.010768103168557364, 'reg_lambda': 6.4517689564800405}. Best is trial 13 with value: 4.72798477564833.\n",
      "[I 2025-08-22 14:38:14,668] Trial 14 finished with value: 4.868857597038873 and parameters: {'n_estimators': 111, 'learning_rate': 0.1254804008278128, 'max_depth': 2, 'subsample': 0.5775635373777288, 'colsample_bytree': 0.9426129751683076, 'gamma': 0.24575425498546882, 'reg_alpha': 0.059115496234908416, 'reg_lambda': 6.298531106494897}. Best is trial 13 with value: 4.72798477564833.\n",
      "[I 2025-08-22 14:38:14,961] Trial 15 finished with value: 5.055695615197867 and parameters: {'n_estimators': 118, 'learning_rate': 0.25074776875936633, 'max_depth': 3, 'subsample': 0.5763774699054467, 'colsample_bytree': 0.6050459074223167, 'gamma': 0.9805533775732336, 'reg_alpha': 0.6803670685199719, 'reg_lambda': 5.598493671189894}. Best is trial 13 with value: 4.72798477564833.\n",
      "[I 2025-08-22 14:38:15,188] Trial 16 finished with value: 6.93162400714473 and parameters: {'n_estimators': 104, 'learning_rate': 0.010340020833063512, 'max_depth': 2, 'subsample': 0.7803650877752584, 'colsample_bytree': 0.941268816280803, 'gamma': 0.0059488787015171685, 'reg_alpha': 0.0137910683208852, 'reg_lambda': 8.611072532949875}. Best is trial 13 with value: 4.72798477564833.\n",
      "[I 2025-08-22 14:38:15,441] Trial 17 finished with value: 4.765976304266109 and parameters: {'n_estimators': 75, 'learning_rate': 0.19505832919021024, 'max_depth': 4, 'subsample': 0.5007253280375904, 'colsample_bytree': 0.9892029649738004, 'gamma': 1.3214283235561504, 'reg_alpha': 0.7196987041430885, 'reg_lambda': 4.573986102626703}. Best is trial 13 with value: 4.72798477564833.\n",
      "[I 2025-08-22 14:38:15,791] Trial 18 finished with value: 4.754630655726408 and parameters: {'n_estimators': 137, 'learning_rate': 0.18090125011922978, 'max_depth': 4, 'subsample': 0.5861772084629433, 'colsample_bytree': 0.9108520940958962, 'gamma': 1.426365703952873, 'reg_alpha': 0.6821253246091135, 'reg_lambda': 4.221752921133131}. Best is trial 13 with value: 4.72798477564833.\n",
      "[I 2025-08-22 14:38:16,319] Trial 19 finished with value: 4.881835523379803 and parameters: {'n_estimators': 133, 'learning_rate': 0.11944637362504201, 'max_depth': 7, 'subsample': 0.5978481551926517, 'colsample_bytree': 0.9119638418339521, 'gamma': 3.9211236979017854, 'reg_alpha': 0.15963118547098387, 'reg_lambda': 3.6312400007467103}. Best is trial 13 with value: 4.72798477564833.\n",
      "[I 2025-08-22 14:38:16,661] Trial 20 finished with value: 5.111529726834119 and parameters: {'n_estimators': 127, 'learning_rate': 0.2533615346545824, 'max_depth': 4, 'subsample': 0.7345091599855101, 'colsample_bytree': 0.8231272120466877, 'gamma': 0.5723036217515394, 'reg_alpha': 0.640356768064367, 'reg_lambda': 5.580039959070289}. Best is trial 13 with value: 4.72798477564833.\n",
      "[I 2025-08-22 14:38:16,935] Trial 21 finished with value: 4.9217089423688485 and parameters: {'n_estimators': 100, 'learning_rate': 0.18502649321698697, 'max_depth': 4, 'subsample': 0.5045264581748551, 'colsample_bytree': 0.9589676429889968, 'gamma': 1.3999181624075847, 'reg_alpha': 0.7079370780311224, 'reg_lambda': 4.417857111982702}. Best is trial 13 with value: 4.72798477564833.\n",
      "[I 2025-08-22 14:38:17,172] Trial 22 finished with value: 5.040823794453282 and parameters: {'n_estimators': 76, 'learning_rate': 0.14994561650719818, 'max_depth': 4, 'subsample': 0.5617437278128918, 'colsample_bytree': 0.9029900133953379, 'gamma': 1.515440082447171, 'reg_alpha': 0.7699935394146296, 'reg_lambda': 3.7168877432644045}. Best is trial 13 with value: 4.72798477564833.\n",
      "[I 2025-08-22 14:38:17,445] Trial 23 finished with value: 5.344027639242063 and parameters: {'n_estimators': 138, 'learning_rate': 0.20103403516532797, 'max_depth': 2, 'subsample': 0.6124729230792265, 'colsample_bytree': 0.9610812554665915, 'gamma': 2.75764310202346, 'reg_alpha': 0.641952500017009, 'reg_lambda': 5.543391658670649}. Best is trial 13 with value: 4.72798477564833.\n",
      "[I 2025-08-22 14:38:17,759] Trial 24 finished with value: 4.871626686681555 and parameters: {'n_estimators': 115, 'learning_rate': 0.1920909608102043, 'max_depth': 4, 'subsample': 0.5560684525932225, 'colsample_bytree': 0.9695383311205606, 'gamma': 0.7299113245085538, 'reg_alpha': 0.7937581015761771, 'reg_lambda': 4.663125809324827}. Best is trial 13 with value: 4.72798477564833.\n",
      "[I 2025-08-22 14:38:17,970] Trial 25 finished with value: 4.839708016961669 and parameters: {'n_estimators': 73, 'learning_rate': 0.12470181107508102, 'max_depth': 3, 'subsample': 0.6361661429919451, 'colsample_bytree': 0.8996311158023583, 'gamma': 1.2613530272936428, 'reg_alpha': 0.5794467789495623, 'reg_lambda': 2.721786439779269}. Best is trial 13 with value: 4.72798477564833.\n",
      "[I 2025-08-22 14:38:18,187] Trial 26 finished with value: 5.447479554293108 and parameters: {'n_estimators': 96, 'learning_rate': 0.25983829417693927, 'max_depth': 2, 'subsample': 0.5423356511872478, 'colsample_bytree': 0.9316193511303986, 'gamma': 2.4818586981766897, 'reg_alpha': 0.881938950301632, 'reg_lambda': 6.019209055387913}. Best is trial 13 with value: 4.72798477564833.\n",
      "[I 2025-08-22 14:38:18,451] Trial 27 finished with value: 4.685734580609707 and parameters: {'n_estimators': 84, 'learning_rate': 0.08786449928687404, 'max_depth': 4, 'subsample': 0.5054024768773675, 'colsample_bytree': 0.96714347941378, 'gamma': 0.4921327383364482, 'reg_alpha': 0.4480209229834536, 'reg_lambda': 4.1541101749189036}. Best is trial 27 with value: 4.685734580609707.\n",
      "[I 2025-08-22 14:38:18,732] Trial 28 finished with value: 4.7735994688376975 and parameters: {'n_estimators': 122, 'learning_rate': 0.0820539409170076, 'max_depth': 3, 'subsample': 0.5870237731684145, 'colsample_bytree': 0.8288167716898825, 'gamma': 0.4292304454798048, 'reg_alpha': 0.44131615760197573, 'reg_lambda': 2.9469865335204135}. Best is trial 27 with value: 4.685734580609707.\n",
      "[I 2025-08-22 14:38:19,136] Trial 29 finished with value: 5.302022551848262 and parameters: {'n_estimators': 148, 'learning_rate': 0.06031840448982105, 'max_depth': 5, 'subsample': 0.5444469045095411, 'colsample_bytree': 0.6960895717003561, 'gamma': 0.9373845292013001, 'reg_alpha': 0.11587483582498612, 'reg_lambda': 8.506029859306025}. Best is trial 27 with value: 4.685734580609707.\n",
      "[I 2025-08-22 14:38:19,434] Trial 30 finished with value: 4.999583676683945 and parameters: {'n_estimators': 107, 'learning_rate': 0.09977141364510572, 'max_depth': 4, 'subsample': 0.8378381888755618, 'colsample_bytree': 0.8939911598687635, 'gamma': 0.36086893166260103, 'reg_alpha': 0.5776438220333919, 'reg_lambda': 4.026480550925683}. Best is trial 27 with value: 4.685734580609707.\n",
      "[I 2025-08-22 14:38:19,700] Trial 31 finished with value: 4.829650904867475 and parameters: {'n_estimators': 86, 'learning_rate': 0.1827182319237197, 'max_depth': 4, 'subsample': 0.5028903570412729, 'colsample_bytree': 0.9652889147728978, 'gamma': 1.6067920401287883, 'reg_alpha': 0.8542677730350114, 'reg_lambda': 5.309035759294502}. Best is trial 27 with value: 4.685734580609707.\n",
      "[I 2025-08-22 14:38:19,970] Trial 32 finished with value: 4.842382989938749 and parameters: {'n_estimators': 64, 'learning_rate': 0.13968006289950036, 'max_depth': 5, 'subsample': 0.5025490491552757, 'colsample_bytree': 0.9791829960156813, 'gamma': 0.9785506771582251, 'reg_alpha': 0.7292905901033189, 'reg_lambda': 4.501810886831975}. Best is trial 27 with value: 4.685734580609707.\n",
      "[I 2025-08-22 14:38:20,209] Trial 33 finished with value: 4.83052626744114 and parameters: {'n_estimators': 71, 'learning_rate': 0.16739500275448804, 'max_depth': 4, 'subsample': 0.544134438510933, 'colsample_bytree': 0.9352702771628519, 'gamma': 0.790950601609643, 'reg_alpha': 0.3754677842303125, 'reg_lambda': 4.861526587630515}. Best is trial 27 with value: 4.685734580609707.\n",
      "[I 2025-08-22 14:38:20,452] Trial 34 finished with value: 4.749010593083539 and parameters: {'n_estimators': 85, 'learning_rate': 0.20869030896753502, 'max_depth': 3, 'subsample': 0.6316001419580677, 'colsample_bytree': 0.9489071518658874, 'gamma': 2.2636084768103624, 'reg_alpha': 0.47673847891851395, 'reg_lambda': 6.189937879418449}. Best is trial 27 with value: 4.685734580609707.\n",
      "[I 2025-08-22 14:38:20,703] Trial 35 finished with value: 5.137424342202344 and parameters: {'n_estimators': 98, 'learning_rate': 0.23390021541504905, 'max_depth': 3, 'subsample': 0.6379659474366053, 'colsample_bytree': 0.8355303777142634, 'gamma': 2.290698315465986, 'reg_alpha': 0.4758208460576244, 'reg_lambda': 6.243453283427196}. Best is trial 27 with value: 4.685734580609707.\n",
      "[I 2025-08-22 14:38:20,967] Trial 36 finished with value: 4.997196567136164 and parameters: {'n_estimators': 142, 'learning_rate': 0.2672426891212575, 'max_depth': 2, 'subsample': 0.7296291011192599, 'colsample_bytree': 0.9427121226742227, 'gamma': 3.3069332819023365, 'reg_alpha': 0.3207485315891431, 'reg_lambda': 1.8183124910621875}. Best is trial 27 with value: 4.685734580609707.\n",
      "[I 2025-08-22 14:38:21,290] Trial 37 finished with value: 5.1578626111197705 and parameters: {'n_estimators': 152, 'learning_rate': 0.29411738257058917, 'max_depth': 3, 'subsample': 0.6999040563559346, 'colsample_bytree': 0.800859550072487, 'gamma': 1.7438134233621132, 'reg_alpha': 0.533137925808556, 'reg_lambda': 7.351808589679704}. Best is trial 27 with value: 4.685734580609707.\n",
      "[I 2025-08-22 14:38:21,597] Trial 38 finished with value: 5.107911795973419 and parameters: {'n_estimators': 84, 'learning_rate': 0.21051348378751153, 'max_depth': 5, 'subsample': 0.6373423970262295, 'colsample_bytree': 0.8830285916822566, 'gamma': 2.9661619418433816, 'reg_alpha': 0.3926053700835963, 'reg_lambda': 9.12483031514352}. Best is trial 27 with value: 4.685734580609707.\n",
      "[I 2025-08-22 14:38:21,850] Trial 39 finished with value: 7.61424843383826 and parameters: {'n_estimators': 162, 'learning_rate': 0.2437021193538606, 'max_depth': 1, 'subsample': 0.598331162017013, 'colsample_bytree': 0.9160856348759023, 'gamma': 2.0594857716912376, 'reg_alpha': 0.23681247269633776, 'reg_lambda': 3.1937981967503952}. Best is trial 27 with value: 4.685734580609707.\n",
      "[I 2025-08-22 14:38:22,502] Trial 40 finished with value: 5.203879926190109 and parameters: {'n_estimators': 182, 'learning_rate': 0.01921752932448717, 'max_depth': 6, 'subsample': 0.7747461985651356, 'colsample_bytree': 0.8577282219787818, 'gamma': 2.473046090263394, 'reg_alpha': 0.30899573456706386, 'reg_lambda': 2.2708298044480766}. Best is trial 27 with value: 4.685734580609707.\n",
      "[I 2025-08-22 14:38:22,775] Trial 41 finished with value: 4.758893677249058 and parameters: {'n_estimators': 91, 'learning_rate': 0.17640722762364228, 'max_depth': 4, 'subsample': 0.5588277695859065, 'colsample_bytree': 0.979877873545815, 'gamma': 1.2531187376330102, 'reg_alpha': 0.5991810134862264, 'reg_lambda': 3.967631023749095}. Best is trial 27 with value: 4.685734580609707.\n",
      "[I 2025-08-22 14:38:23,046] Trial 42 finished with value: 4.753925850543608 and parameters: {'n_estimators': 94, 'learning_rate': 0.15714892470274738, 'max_depth': 4, 'subsample': 0.5697152583708298, 'colsample_bytree': 0.9612715006105029, 'gamma': 1.205500192402022, 'reg_alpha': 0.603699028624402, 'reg_lambda': 4.0995365089238165}. Best is trial 27 with value: 4.685734580609707.\n",
      "[I 2025-08-22 14:38:23,463] Trial 43 finished with value: 4.855635186893291 and parameters: {'n_estimators': 131, 'learning_rate': 0.1571572212854139, 'max_depth': 5, 'subsample': 0.6229863000120437, 'colsample_bytree': 0.9524611519070112, 'gamma': 0.6165784856582079, 'reg_alpha': 0.4378905992534764, 'reg_lambda': 1.033848927055546}. Best is trial 27 with value: 4.685734580609707.\n",
      "[I 2025-08-22 14:38:23,735] Trial 44 finished with value: 4.783342168975945 and parameters: {'n_estimators': 112, 'learning_rate': 0.14151793027444814, 'max_depth': 3, 'subsample': 0.6865064964453993, 'colsample_bytree': 0.9188169284364368, 'gamma': 3.886428669599452, 'reg_alpha': 0.5088445176403676, 'reg_lambda': 5.112725039084961}. Best is trial 27 with value: 4.685734580609707.\n",
      "[I 2025-08-22 14:38:24,070] Trial 45 finished with value: 4.920746816728041 and parameters: {'n_estimators': 104, 'learning_rate': 0.2105646076623697, 'max_depth': 5, 'subsample': 0.5351039702243989, 'colsample_bytree': 0.9750136643835119, 'gamma': 1.874475972221581, 'reg_alpha': 0.6451855698399551, 'reg_lambda': 6.572469994790232}. Best is trial 27 with value: 4.685734580609707.\n",
      "[I 2025-08-22 14:38:24,274] Trial 46 finished with value: 4.897027687718999 and parameters: {'n_estimators': 57, 'learning_rate': 0.100951791292299, 'max_depth': 3, 'subsample': 0.6573518217660742, 'colsample_bytree': 0.9994057106079763, 'gamma': 0.22540313861631026, 'reg_alpha': 0.1964559357398386, 'reg_lambda': 7.6954002815045}. Best is trial 27 with value: 4.685734580609707.\n",
      "[I 2025-08-22 14:38:24,549] Trial 47 finished with value: 4.785008867488746 and parameters: {'n_estimators': 83, 'learning_rate': 0.23021329620431552, 'max_depth': 4, 'subsample': 0.5768862096706622, 'colsample_bytree': 0.9501309418405457, 'gamma': 1.097345824107255, 'reg_alpha': 0.5617321420918252, 'reg_lambda': 5.902473534192416}. Best is trial 27 with value: 4.685734580609707.\n",
      "[I 2025-08-22 14:38:24,785] Trial 48 finished with value: 5.073361862519512 and parameters: {'n_estimators': 92, 'learning_rate': 0.06641865819786318, 'max_depth': 3, 'subsample': 0.5244800404108166, 'colsample_bytree': 0.7674312087302573, 'gamma': 2.1788235898190367, 'reg_alpha': 0.2806149616559792, 'reg_lambda': 3.1264107369720415}. Best is trial 27 with value: 4.685734580609707.\n",
      "[I 2025-08-22 14:38:24,967] Trial 49 finished with value: 5.06211385189291 and parameters: {'n_estimators': 69, 'learning_rate': 0.15770201669985817, 'max_depth': 2, 'subsample': 0.6014746292818847, 'colsample_bytree': 0.6185856760091928, 'gamma': 0.40590362981118927, 'reg_alpha': 0.48527912465653134, 'reg_lambda': 6.718248531569385}. Best is trial 27 with value: 4.685734580609707.\n",
      "[I 2025-08-22 14:38:25,213] Trial 50 finished with value: 4.825263174242697 and parameters: {'n_estimators': 79, 'learning_rate': 0.2134262750806713, 'max_depth': 4, 'subsample': 0.5683295597946048, 'colsample_bytree': 0.9266258177921013, 'gamma': 0.7908505409857066, 'reg_alpha': 0.3415092470851633, 'reg_lambda': 5.091844549371219}. Best is trial 27 with value: 4.685734580609707.\n",
      "[I 2025-08-22 14:38:25,491] Trial 51 finished with value: 4.764798092763609 and parameters: {'n_estimators': 90, 'learning_rate': 0.17195207302782284, 'max_depth': 4, 'subsample': 0.5217116901462291, 'colsample_bytree': 0.974985515753943, 'gamma': 1.1631212938175701, 'reg_alpha': 0.6615377907948411, 'reg_lambda': 4.028314594829549}. Best is trial 27 with value: 4.685734580609707.\n",
      "[I 2025-08-22 14:38:25,765] Trial 52 finished with value: 4.893966667876832 and parameters: {'n_estimators': 95, 'learning_rate': 0.18644942579066567, 'max_depth': 4, 'subsample': 0.5591091215066142, 'colsample_bytree': 0.9832196808654099, 'gamma': 1.5787375211681374, 'reg_alpha': 0.6112065278481162, 'reg_lambda': 4.031013230593068}. Best is trial 27 with value: 4.685734580609707.\n",
      "[I 2025-08-22 14:38:26,033] Trial 53 finished with value: 4.677968595388021 and parameters: {'n_estimators': 121, 'learning_rate': 0.1768979983017188, 'max_depth': 3, 'subsample': 0.5858935433145296, 'colsample_bytree': 0.9585518346452384, 'gamma': 1.8526977391489114, 'reg_alpha': 0.6058079254817711, 'reg_lambda': 4.1577372392430165}. Best is trial 53 with value: 4.677968595388021.\n",
      "[I 2025-08-22 14:38:26,331] Trial 54 finished with value: 4.737498927920552 and parameters: {'n_estimators': 124, 'learning_rate': 0.13847170796635266, 'max_depth': 3, 'subsample': 0.5957759303603479, 'colsample_bytree': 0.9484113175393728, 'gamma': 1.8423470530647645, 'reg_alpha': 0.7423696940512179, 'reg_lambda': 3.3845380416773008}. Best is trial 53 with value: 4.677968595388021.\n",
      "[I 2025-08-22 14:38:26,623] Trial 55 finished with value: 4.6391826318514955 and parameters: {'n_estimators': 120, 'learning_rate': 0.11126253867898683, 'max_depth': 3, 'subsample': 0.6201452493065449, 'colsample_bytree': 0.9529357730335088, 'gamma': 1.846788623924421, 'reg_alpha': 0.7401480373428803, 'reg_lambda': 3.374170959859094}. Best is trial 55 with value: 4.6391826318514955.\n",
      "[I 2025-08-22 14:38:26,857] Trial 56 finished with value: 4.825390060752723 and parameters: {'n_estimators': 116, 'learning_rate': 0.10020033446297723, 'max_depth': 2, 'subsample': 0.6607399362543565, 'colsample_bytree': 0.9462888875908086, 'gamma': 1.9060414234944139, 'reg_alpha': 0.756055666665896, 'reg_lambda': 3.5712385446903046}. Best is trial 55 with value: 4.6391826318514955.\n",
      "[I 2025-08-22 14:38:27,134] Trial 57 finished with value: 4.767715192062019 and parameters: {'n_estimators': 123, 'learning_rate': 0.11159840812587522, 'max_depth': 3, 'subsample': 0.6200299684251589, 'colsample_bytree': 0.8881119497737938, 'gamma': 2.3187984449534573, 'reg_alpha': 0.9284601608521051, 'reg_lambda': 2.467636218134774}. Best is trial 55 with value: 4.6391826318514955.\n",
      "[I 2025-08-22 14:38:27,444] Trial 58 finished with value: 4.802705949949282 and parameters: {'n_estimators': 128, 'learning_rate': 0.13553325976507802, 'max_depth': 3, 'subsample': 0.9424356671696617, 'colsample_bytree': 0.8703446071660341, 'gamma': 2.667509807210817, 'reg_alpha': 0.8549504389497955, 'reg_lambda': 3.334723743418188}. Best is trial 55 with value: 4.6391826318514955.\n",
      "[I 2025-08-22 14:38:27,737] Trial 59 finished with value: 4.803193021542589 and parameters: {'n_estimators': 106, 'learning_rate': 0.08323349477009749, 'max_depth': 3, 'subsample': 0.6477972966426631, 'colsample_bytree': 0.9246150294659491, 'gamma': 2.8408075581838013, 'reg_alpha': 0.8239262520382094, 'reg_lambda': 4.899522830024971}. Best is trial 55 with value: 4.6391826318514955.\n",
      "[I 2025-08-22 14:38:27,998] Trial 60 finished with value: 4.888798470436742 and parameters: {'n_estimators': 117, 'learning_rate': 0.11556003743052654, 'max_depth': 2, 'subsample': 0.6871267808289099, 'colsample_bytree': 0.9350870774851553, 'gamma': 1.7734522582195467, 'reg_alpha': 0.026380810719639578, 'reg_lambda': 1.9030422178786097}. Best is trial 55 with value: 4.6391826318514955.\n",
      "[I 2025-08-22 14:38:28,272] Trial 61 finished with value: 4.598869668396258 and parameters: {'n_estimators': 101, 'learning_rate': 0.13273106554680542, 'max_depth': 3, 'subsample': 0.5873927183876223, 'colsample_bytree': 0.9604795570019913, 'gamma': 2.040118641196731, 'reg_alpha': 0.6920972836745483, 'reg_lambda': 2.759399545018516}. Best is trial 61 with value: 4.598869668396258.\n",
      "[I 2025-08-22 14:38:28,607] Trial 62 finished with value: 4.903847217964329 and parameters: {'n_estimators': 102, 'learning_rate': 0.13066159830619525, 'max_depth': 3, 'subsample': 0.6054535587489281, 'colsample_bytree': 0.9574013163855566, 'gamma': 2.1834991272038415, 'reg_alpha': 0.6895134273732465, 'reg_lambda': 3.0029882240211405}. Best is trial 61 with value: 4.598869668396258.\n",
      "[I 2025-08-22 14:38:29,028] Trial 63 finished with value: 4.746291039212276 and parameters: {'n_estimators': 110, 'learning_rate': 0.14658783102148384, 'max_depth': 3, 'subsample': 0.5892565122719634, 'colsample_bytree': 0.9899108696684009, 'gamma': 2.007749482529536, 'reg_alpha': 0.726832211872129, 'reg_lambda': 2.253584321617528}. Best is trial 61 with value: 4.598869668396258.\n",
      "[I 2025-08-22 14:38:29,382] Trial 64 finished with value: 4.8627554208593375 and parameters: {'n_estimators': 111, 'learning_rate': 0.14657553167562434, 'max_depth': 3, 'subsample': 0.5357443124860557, 'colsample_bytree': 0.9905884060829628, 'gamma': 2.061560248243482, 'reg_alpha': 0.7365955301847423, 'reg_lambda': 1.3602917482509298}. Best is trial 61 with value: 4.598869668396258.\n",
      "[I 2025-08-22 14:38:29,759] Trial 65 finished with value: 4.826214599838903 and parameters: {'n_estimators': 123, 'learning_rate': 0.09067398339465269, 'max_depth': 2, 'subsample': 0.590515929106659, 'colsample_bytree': 0.966021929269403, 'gamma': 1.711038585673759, 'reg_alpha': 0.7606600037307122, 'reg_lambda': 2.6030401718010507}. Best is trial 61 with value: 4.598869668396258.\n",
      "[I 2025-08-22 14:38:30,086] Trial 66 finished with value: 4.8021342321364875 and parameters: {'n_estimators': 109, 'learning_rate': 0.10824306530229272, 'max_depth': 2, 'subsample': 0.518362898615446, 'colsample_bytree': 0.9965262495868134, 'gamma': 0.17321823025065536, 'reg_alpha': 0.7041619691314697, 'reg_lambda': 2.2912228445657212}. Best is trial 61 with value: 4.598869668396258.\n",
      "[I 2025-08-22 14:38:30,429] Trial 67 finished with value: 4.781337132834666 and parameters: {'n_estimators': 134, 'learning_rate': 0.06829640647308151, 'max_depth': 3, 'subsample': 0.8426061321753789, 'colsample_bytree': 0.9840369687896608, 'gamma': 4.428794256495814, 'reg_alpha': 0.8168863147067433, 'reg_lambda': 2.8464990921974107}. Best is trial 61 with value: 4.598869668396258.\n",
      "[I 2025-08-22 14:38:30,719] Trial 68 finished with value: 5.019808618709276 and parameters: {'n_estimators': 119, 'learning_rate': 0.12312859239157749, 'max_depth': 2, 'subsample': 0.5531602618066221, 'colsample_bytree': 0.9083804554943931, 'gamma': 1.9312846046349859, 'reg_alpha': 0.674363861179213, 'reg_lambda': 3.6921618901939453}. Best is trial 61 with value: 4.598869668396258.\n",
      "[I 2025-08-22 14:38:30,971] Trial 69 finished with value: 4.944980654280529 and parameters: {'n_estimators': 101, 'learning_rate': 0.12827259703449387, 'max_depth': 3, 'subsample': 0.5810791438877931, 'colsample_bytree': 0.7255040256577231, 'gamma': 2.5599527457327897, 'reg_alpha': 0.0910726723968835, 'reg_lambda': 1.4800635648666844}. Best is trial 61 with value: 4.598869668396258.\n",
      "[I 2025-08-22 14:38:31,251] Trial 70 finished with value: 7.292041661484805 and parameters: {'n_estimators': 129, 'learning_rate': 0.08834556478579682, 'max_depth': 1, 'subsample': 0.6154627034845099, 'colsample_bytree': 0.970297611446304, 'gamma': 1.5174572189750535, 'reg_alpha': 0.7966956702020687, 'reg_lambda': 0.14583808724548009}. Best is trial 61 with value: 4.598869668396258.\n",
      "[I 2025-08-22 14:38:31,576] Trial 71 finished with value: 4.857503815170085 and parameters: {'n_estimators': 120, 'learning_rate': 0.16405791273918385, 'max_depth': 3, 'subsample': 0.6265939222221644, 'colsample_bytree': 0.942235090024087, 'gamma': 3.191613811922247, 'reg_alpha': 0.5526773679244158, 'reg_lambda': 3.4154673642050994}. Best is trial 61 with value: 4.598869668396258.\n",
      "[I 2025-08-22 14:38:31,869] Trial 72 finished with value: 4.697983659587174 and parameters: {'n_estimators': 113, 'learning_rate': 0.15032493293638188, 'max_depth': 3, 'subsample': 0.6800938621002608, 'colsample_bytree': 0.9511012164888619, 'gamma': 2.337284061705591, 'reg_alpha': 0.7361849550585374, 'reg_lambda': 4.335015194268704}. Best is trial 61 with value: 4.598869668396258.\n",
      "[I 2025-08-22 14:38:32,148] Trial 73 finished with value: 4.626667044475684 and parameters: {'n_estimators': 114, 'learning_rate': 0.1482843177852407, 'max_depth': 3, 'subsample': 0.6710907606891426, 'colsample_bytree': 0.9574991131727908, 'gamma': 2.398880385719205, 'reg_alpha': 0.778239072960415, 'reg_lambda': 4.404869087800508}. Best is trial 61 with value: 4.598869668396258.\n",
      "[I 2025-08-22 14:38:32,429] Trial 74 finished with value: 4.835991334049464 and parameters: {'n_estimators': 114, 'learning_rate': 0.1346216184945544, 'max_depth': 3, 'subsample': 0.7159037072081357, 'colsample_bytree': 0.9575182184482715, 'gamma': 2.346113237508543, 'reg_alpha': 0.7739271814111144, 'reg_lambda': 4.335774513826649}. Best is trial 61 with value: 4.598869668396258.\n",
      "[I 2025-08-22 14:38:32,757] Trial 75 finished with value: 4.84657856129367 and parameters: {'n_estimators': 139, 'learning_rate': 0.10743727291906009, 'max_depth': 3, 'subsample': 0.6748555199742332, 'colsample_bytree': 0.9005097047745231, 'gamma': 2.427762978124875, 'reg_alpha': 0.9308244760313296, 'reg_lambda': 4.729882241892346}. Best is trial 61 with value: 4.598869668396258.\n",
      "[I 2025-08-22 14:38:33,019] Trial 76 finished with value: 4.879403184980478 and parameters: {'n_estimators': 124, 'learning_rate': 0.11634513929596722, 'max_depth': 2, 'subsample': 0.6471901508198352, 'colsample_bytree': 0.9326836245116293, 'gamma': 3.0501720931306937, 'reg_alpha': 0.8463031110328939, 'reg_lambda': 3.7947383183125654}. Best is trial 61 with value: 4.598869668396258.\n",
      "[I 2025-08-22 14:38:33,565] Trial 77 finished with value: 4.946751919508617 and parameters: {'n_estimators': 98, 'learning_rate': 0.07357220421104932, 'max_depth': 7, 'subsample': 0.7624893469060303, 'colsample_bytree': 0.968117354912726, 'gamma': 2.666170295097267, 'reg_alpha': 0.6431917900513322, 'reg_lambda': 4.3613235633867955}. Best is trial 61 with value: 4.598869668396258.\n",
      "[I 2025-08-22 14:38:33,843] Trial 78 finished with value: 4.8442937641596995 and parameters: {'n_estimators': 106, 'learning_rate': 0.04843365507935095, 'max_depth': 3, 'subsample': 0.6741656472032581, 'colsample_bytree': 0.9236212116610023, 'gamma': 1.4138062882540066, 'reg_alpha': 0.7485003292349599, 'reg_lambda': 5.294018611172081}. Best is trial 61 with value: 4.598869668396258.\n",
      "[I 2025-08-22 14:38:34,153] Trial 79 finished with value: 4.774679789171572 and parameters: {'n_estimators': 135, 'learning_rate': 0.15217630881801897, 'max_depth': 3, 'subsample': 0.7118763282890841, 'colsample_bytree': 0.950627023219678, 'gamma': 0.00886701919220756, 'reg_alpha': 0.6226180760404485, 'reg_lambda': 4.635502395190477}. Best is trial 61 with value: 4.598869668396258.\n",
      "[I 2025-08-22 14:38:34,521] Trial 80 finished with value: 4.815362146944245 and parameters: {'n_estimators': 125, 'learning_rate': 0.14009567131163855, 'max_depth': 4, 'subsample': 0.8011479451419344, 'colsample_bytree': 0.9753235241117291, 'gamma': 1.6983295405994128, 'reg_alpha': 0.7086711516274341, 'reg_lambda': 3.2731405816888173}. Best is trial 61 with value: 4.598869668396258.\n",
      "[I 2025-08-22 14:38:34,794] Trial 81 finished with value: 4.7326532450764125 and parameters: {'n_estimators': 109, 'learning_rate': 0.14927002719348254, 'max_depth': 3, 'subsample': 0.6031201643039188, 'colsample_bytree': 0.9891566988299341, 'gamma': 1.972910438944124, 'reg_alpha': 0.7793224111615686, 'reg_lambda': 3.483065250418181}. Best is trial 61 with value: 4.598869668396258.\n",
      "[I 2025-08-22 14:38:35,075] Trial 82 finished with value: 4.6276047315168825 and parameters: {'n_estimators': 119, 'learning_rate': 0.12446394894864328, 'max_depth': 3, 'subsample': 0.6037646751644054, 'colsample_bytree': 0.9409041212367751, 'gamma': 2.174259315832114, 'reg_alpha': 0.7733278660213071, 'reg_lambda': 3.815529135525183}. Best is trial 61 with value: 4.598869668396258.\n",
      "[I 2025-08-22 14:38:35,359] Trial 83 finished with value: 4.627063756641536 and parameters: {'n_estimators': 116, 'learning_rate': 0.09554041050683583, 'max_depth': 3, 'subsample': 0.6481900420722659, 'colsample_bytree': 0.9604132673852258, 'gamma': 2.16244339610923, 'reg_alpha': 0.7746370935469824, 'reg_lambda': 3.749884330547018}. Best is trial 61 with value: 4.598869668396258.\n",
      "[I 2025-08-22 14:38:35,655] Trial 84 finished with value: 4.640704115822933 and parameters: {'n_estimators': 114, 'learning_rate': 0.09850547354196931, 'max_depth': 3, 'subsample': 0.6481267317906674, 'colsample_bytree': 0.9631106040298303, 'gamma': 2.185255951161529, 'reg_alpha': 0.8348207529696101, 'reg_lambda': 3.7998377024820176}. Best is trial 61 with value: 4.598869668396258.\n",
      "[I 2025-08-22 14:38:35,935] Trial 85 finished with value: 4.73926947214974 and parameters: {'n_estimators': 115, 'learning_rate': 0.09340831315828095, 'max_depth': 3, 'subsample': 0.692325867763935, 'colsample_bytree': 0.9386379618676827, 'gamma': 2.180719963010618, 'reg_alpha': 0.8804913261564163, 'reg_lambda': 3.813230672624487}. Best is trial 61 with value: 4.598869668396258.\n",
      "[I 2025-08-22 14:38:36,190] Trial 86 finished with value: 4.954902324097277 and parameters: {'n_estimators': 120, 'learning_rate': 0.0750316497952008, 'max_depth': 2, 'subsample': 0.6475750370043616, 'colsample_bytree': 0.9614764350885021, 'gamma': 2.5089002440894697, 'reg_alpha': 0.8329607083660198, 'reg_lambda': 4.22985171293702}. Best is trial 61 with value: 4.598869668396258.\n",
      "[I 2025-08-22 14:38:36,486] Trial 87 finished with value: 4.77435365107592 and parameters: {'n_estimators': 118, 'learning_rate': 0.09645188593778031, 'max_depth': 3, 'subsample': 0.6677592782023026, 'colsample_bytree': 0.9313138039373422, 'gamma': 2.8538548622228856, 'reg_alpha': 0.8016634107212294, 'reg_lambda': 4.478930981287171}. Best is trial 61 with value: 4.598869668396258.\n",
      "[I 2025-08-22 14:38:36,981] Trial 88 finished with value: 4.8183404606012825 and parameters: {'n_estimators': 131, 'learning_rate': 0.1039861185205158, 'max_depth': 4, 'subsample': 0.7284293182067557, 'colsample_bytree': 0.918155861326352, 'gamma': 2.602640881048634, 'reg_alpha': 0.9017499602667344, 'reg_lambda': 2.846140556012765}. Best is trial 61 with value: 4.598869668396258.\n",
      "[I 2025-08-22 14:38:37,617] Trial 89 finished with value: 4.747754351903612 and parameters: {'n_estimators': 145, 'learning_rate': 0.11973383138439474, 'max_depth': 4, 'subsample': 0.6131175501663421, 'colsample_bytree': 0.9557820267848071, 'gamma': 2.1119688385077096, 'reg_alpha': 0.7852330619819813, 'reg_lambda': 3.843423473623466}. Best is trial 61 with value: 4.598869668396258.\n",
      "[I 2025-08-22 14:38:38,051] Trial 90 finished with value: 5.072817253561623 and parameters: {'n_estimators': 114, 'learning_rate': 0.05278552097293427, 'max_depth': 3, 'subsample': 0.6457997122577106, 'colsample_bytree': 0.6302832977362638, 'gamma': 2.2420309595950667, 'reg_alpha': 0.7012784076037111, 'reg_lambda': 4.9038791114585685}. Best is trial 61 with value: 4.598869668396258.\n",
      "[I 2025-08-22 14:38:38,339] Trial 91 finished with value: 4.656344260095726 and parameters: {'n_estimators': 103, 'learning_rate': 0.1635404566460299, 'max_depth': 3, 'subsample': 0.6573631177289364, 'colsample_bytree': 0.9683579791868947, 'gamma': 2.3924563100711125, 'reg_alpha': 0.6667191076996459, 'reg_lambda': 4.260400982216901}. Best is trial 61 with value: 4.598869668396258.\n",
      "[I 2025-08-22 14:38:38,635] Trial 92 finished with value: 4.687460824391906 and parameters: {'n_estimators': 112, 'learning_rate': 0.17661310167781955, 'max_depth': 3, 'subsample': 0.6302583999595243, 'colsample_bytree': 0.981191471776451, 'gamma': 2.3600270202965667, 'reg_alpha': 0.7251036330734495, 'reg_lambda': 4.07733208299743}. Best is trial 61 with value: 4.598869668396258.\n",
      "[I 2025-08-22 14:38:38,908] Trial 93 finished with value: 4.640669229487789 and parameters: {'n_estimators': 105, 'learning_rate': 0.16418931341068418, 'max_depth': 3, 'subsample': 0.6350579572594763, 'colsample_bytree': 0.9816351056877213, 'gamma': 2.4892796193949565, 'reg_alpha': 0.6609375610078574, 'reg_lambda': 4.060922471890711}. Best is trial 61 with value: 4.598869668396258.\n",
      "[I 2025-08-22 14:38:39,180] Trial 94 finished with value: 4.700522847296181 and parameters: {'n_estimators': 105, 'learning_rate': 0.16316358384016452, 'max_depth': 3, 'subsample': 0.6539074396850528, 'colsample_bytree': 0.9705044708326304, 'gamma': 2.798045667627251, 'reg_alpha': 0.6624648380183812, 'reg_lambda': 3.099424934358992}. Best is trial 61 with value: 4.598869668396258.\n",
      "[I 2025-08-22 14:38:39,639] Trial 95 finished with value: 4.71424038198536 and parameters: {'n_estimators': 200, 'learning_rate': 0.12946384539631658, 'max_depth': 3, 'subsample': 0.6355354868863736, 'colsample_bytree': 0.9409243645338797, 'gamma': 2.459420552421009, 'reg_alpha': 0.518736395313756, 'reg_lambda': 3.6149567955656665}. Best is trial 61 with value: 4.598869668396258.\n",
      "[I 2025-08-22 14:38:39,943] Trial 96 finished with value: 4.918498030835303 and parameters: {'n_estimators': 98, 'learning_rate': 0.19861077159804846, 'max_depth': 4, 'subsample': 0.6622779044405738, 'colsample_bytree': 0.9838803857765157, 'gamma': 2.095421245148796, 'reg_alpha': 0.6234483720607992, 'reg_lambda': 4.625889155391431}. Best is trial 61 with value: 4.598869668396258.\n",
      "[I 2025-08-22 14:38:40,183] Trial 97 finished with value: 5.000634350359129 and parameters: {'n_estimators': 103, 'learning_rate': 0.079243348271211, 'max_depth': 2, 'subsample': 0.613590799862558, 'colsample_bytree': 0.9988370928855405, 'gamma': 1.8506364863603002, 'reg_alpha': 0.6735490375774842, 'reg_lambda': 5.325167719645988}. Best is trial 61 with value: 4.598869668396258.\n",
      "[I 2025-08-22 14:38:40,447] Trial 98 finished with value: 5.070815342616977 and parameters: {'n_estimators': 89, 'learning_rate': 0.03523579447450511, 'max_depth': 3, 'subsample': 0.6980968177198195, 'colsample_bytree': 0.9649233362137598, 'gamma': 2.937001272099263, 'reg_alpha': 0.6881392761391136, 'reg_lambda': 3.849637863583129}. Best is trial 61 with value: 4.598869668396258.\n",
      "[I 2025-08-22 14:38:40,754] Trial 99 finished with value: 4.65386447084133 and parameters: {'n_estimators': 127, 'learning_rate': 0.11263817367043878, 'max_depth': 3, 'subsample': 0.5704462956874479, 'colsample_bytree': 0.9779730388053461, 'gamma': 1.6307397344377756, 'reg_alpha': 0.5923371843756613, 'reg_lambda': 4.134998413002605}. Best is trial 61 with value: 4.598869668396258.\n"
     ]
    },
    {
     "name": "stdout",
     "output_type": "stream",
     "text": [
      "Best trial params: {'n_estimators': 101, 'learning_rate': 0.13273106554680542, 'max_depth': 3, 'subsample': 0.5873927183876223, 'colsample_bytree': 0.9604795570019913, 'gamma': 2.040118641196731, 'reg_alpha': 0.6920972836745483, 'reg_lambda': 2.759399545018516}\n",
      "Best trial RMSE: 4.5989\n",
      "2023 RMSE: 5.86\n",
      "2023 R²: 0.853\n"
     ]
    },
    {
     "data": {
      "application/vnd.plotly.v1+json": {
       "config": {
        "plotlyServerURL": "https://plot.ly"
       },
       "data": [
        {
         "customdata": [
          [
           "Eldin Jakupovic",
           38
          ],
          [
           "James Milner",
           37
          ],
          [
           "Óscar Ustari",
           36
          ],
          [
           "Gabriel Tamas",
           39
          ],
          [
           "Cristiano Ronaldo",
           38
          ],
          [
           "Shaun MacDonald",
           34
          ],
          [
           "Phil Jagielka",
           40
          ],
          [
           "Andy Lonergan",
           39
          ],
          [
           "Ashley Young",
           37
          ],
          [
           "Scott Carson",
           37
          ],
          [
           "Phil Bardsley",
           37
          ],
          [
           "David Martin",
           37
          ],
          [
           "Casemiro",
           31
          ],
          [
           "Hugo Lloris",
           36
          ],
          [
           "Curtis Davies",
           38
          ],
          [
           "Willy Caballero",
           41
          ],
          [
           "Fernandinho",
           37
          ],
          [
           "Nenê",
           41
          ],
          [
           "Thiago Silva",
           38
          ],
          [
           "Lukasz Fabianski",
           38
          ],
          [
           "John Ruddy",
           36
          ],
          [
           "Chu-young Park",
           37
          ],
          [
           "Dusan Kuciak",
           38
          ],
          [
           "Tim Krul",
           35
          ],
          [
           "Lukas Jutkiewicz",
           34
          ],
          [
           "Theo Walcott",
           34
          ],
          [
           "Alex Smithies",
           33
          ],
          [
           "Asmir Begovic",
           36
          ],
          [
           "Tom Heaton",
           37
          ],
          [
           "Richard Stearman",
           35
          ],
          [
           "Lewis Grabban",
           35
          ],
          [
           "David McGoldrick",
           35
          ],
          [
           "Gaëtan Bong",
           35
          ],
          [
           "Leon Clarke",
           38
          ],
          [
           "Shane Long",
           36
          ],
          [
           "Kamil Grosicki",
           35
          ],
          [
           "Martin Olsson",
           35
          ],
          [
           "Lee Peltier",
           36
          ],
          [
           "Adrian Mariappa",
           36
          ],
          [
           "Kei Kamara",
           38
          ],
          [
           "Mario Vrancic",
           33
          ],
          [
           "Jozy Altidore",
           33
          ],
          [
           "Brad Guzan",
           38
          ],
          [
           "Marouane Fellaini",
           35
          ],
          [
           "Ryan Bertrand",
           33
          ],
          [
           "Liam Bridcutt",
           34
          ],
          [
           "Jack Cork",
           33
          ],
          [
           "James McArthur",
           35
          ],
          [
           "Sone Aluko",
           34
          ],
          [
           "Fraizer Campbell",
           35
          ],
          [
           "Jonny Evans",
           35
          ],
          [
           "Gary Hooper",
           34
          ],
          [
           "Gaetano Berardi",
           34
          ],
          [
           "Elliott Bennett",
           34
          ],
          [
           "Stephen Quinn",
           37
          ],
          [
           "Adam Lallana",
           35
          ],
          [
           "Erik Pieters",
           34
          ],
          [
           "Chris Gunter",
           33
          ],
          [
           "Bojan Krkic",
           32
          ],
          [
           "Beram Kayal",
           35
          ],
          [
           "Diego Costa",
           34
          ],
          [
           "Henri Lansbury",
           32
          ],
          [
           "Dan Gosling",
           33
          ],
          [
           "Claudio Yacob",
           35
          ],
          [
           "Jonathan Howson",
           35
          ],
          [
           "Wayne Hennessey",
           36
          ],
          [
           "Marco Stiepermann",
           32
          ],
          [
           "Fabri",
           35
          ],
          [
           "Luke Daniels",
           35
          ],
          [
           "Chris Martin",
           34
          ],
          [
           "Pablo Hernández",
           38
          ],
          [
           "Lovre Kalinic",
           33
          ],
          [
           "David Luiz",
           35
          ],
          [
           "Teemu Pukki",
           33
          ],
          [
           "Alex Pearce",
           34
          ],
          [
           "Jason Puncheon",
           36
          ],
          [
           "Angelo Ogbonna",
           35
          ],
          [
           "Andy Carroll",
           34
          ],
          [
           "Sam Vokes",
           33
          ],
          [
           "Jordan Rhodes",
           33
          ],
          [
           "Bradley Johnson",
           35
          ],
          [
           "James Perch",
           37
          ],
          [
           "Elias Kachunga",
           30
          ],
          [
           "Billy Sharp",
           37
          ],
          [
           "Andreas Weimann",
           31
          ],
          [
           "Danny Rose",
           32
          ],
          [
           "Christian Benteke",
           32
          ],
          [
           "Chicharito",
           35
          ],
          [
           "Aleksandar Mitrović",
           28
          ],
          [
           "Carlos Sánchez",
           37
          ],
          [
           "Darren Randolph",
           36
          ],
          [
           "Joe Allen",
           33
          ],
          [
           "Mateo Kovacic",
           29
          ],
          [
           "Henri Saivet",
           32
          ],
          [
           "Wellington Paulista",
           39
          ],
          [
           "Zanka",
           33
          ],
          [
           "Chris Basham",
           34
          ],
          [
           "Fraser Forster",
           35
          ],
          [
           "Willian",
           34
          ],
          [
           "Jay Rodríguez",
           33
          ],
          [
           "İlkay Gündoğan",
           32
          ],
          [
           "John Fleck",
           31
          ],
          [
           "Sebastián Blanco",
           35
          ],
          [
           "Magnus Wolff Eikrem",
           32
          ],
          [
           "Chris Löwe",
           34
          ],
          [
           "Harry Arter",
           33
          ],
          [
           "Jack Rodwell",
           32
          ],
          [
           "Jordon Mutch",
           31
          ],
          [
           "Simon Dawkins",
           35
          ],
          [
           "Christopher Schindler",
           33
          ],
          [
           "Emilio Nsue",
           33
          ],
          [
           "Craig Cathcart",
           34
          ],
          [
           "Thiago Alcántara",
           32
          ],
          [
           "Sean Scannell",
           32
          ],
          [
           "Marc Albrighton",
           33
          ],
          [
           "Barry Bannan",
           33
          ],
          [
           "Jonathan Hogg",
           34
          ],
          [
           "James Tomkins",
           34
          ],
          [
           "Jack Colback",
           33
          ],
          [
           "Conor Hourihane",
           32
          ],
          [
           "Neil Etheridge",
           33
          ],
          [
           "Wes Foderingham",
           32
          ],
          [
           "David Button",
           34
          ],
          [
           "Jake Livermore",
           33
          ],
          [
           "Adam Smith",
           32
          ],
          [
           "Stefan Johansen",
           32
          ],
          [
           "Shane Ferguson",
           31
          ],
          [
           "Vegard Forren",
           35
          ],
          [
           "Odion Ighalo",
           34
          ],
          [
           "Scott Dann",
           36
          ],
          [
           "Tomás Mejías",
           34
          ],
          [
           "Ashley Barnes",
           33
          ],
          [
           "Aron Gunnarsson",
           34
          ],
          [
           "Libor Kozak",
           34
          ],
          [
           "Troy Deeney",
           34
          ],
          [
           "Kyle Naughton",
           34
          ],
          [
           "Luke Freeman",
           31
          ],
          [
           "Cheikhou Kouyaté",
           33
          ],
          [
           "Gary Madine",
           32
          ],
          [
           "Danny Welbeck",
           32
          ],
          [
           "Sam Baldock",
           34
          ],
          [
           "Mark Oxley",
           32
          ],
          [
           "Ryan Bennett",
           33
          ],
          [
           "Ben Hamer",
           35
          ],
          [
           "David Stockdale",
           37
          ],
          [
           "Luke Ayling",
           31
          ],
          [
           "Kyle Bartley",
           32
          ],
          [
           "Michal Zyro",
           30
          ],
          [
           "Séamus Coleman",
           34
          ],
          [
           "Giedrius Arlauskis",
           35
          ],
          [
           "Christian Eriksen",
           31
          ],
          [
           "Garath McCleary",
           35
          ],
          [
           "Róger Espinoza",
           36
          ],
          [
           "Bernd Leno",
           31
          ],
          [
           "Adam Clayton",
           34
          ],
          [
           "Ben Amos",
           33
          ],
          [
           "James Chester",
           34
          ],
          [
           "Tom Cleverley",
           33
          ],
          [
           "Danny Drinkwater",
           33
          ],
          [
           "Matty James",
           31
          ],
          [
           "Oliver Norwood",
           32
          ],
          [
           "Jason Steele",
           32
          ],
          [
           "Pablo Sarabia",
           30
          ],
          [
           "Luka Milivojevic",
           32
          ],
          [
           "Adlène Guédioura",
           37
          ],
          [
           "Ben Mee",
           33
          ],
          [
           "Juraj Kucka",
           36
          ],
          [
           "Martin Dúbravka",
           34
          ],
          [
           "Liam Cooper",
           31
          ],
          [
           "Robin Olsen",
           33
          ],
          [
           "Niclas Füllkrug",
           30
          ],
          [
           "Lucas Moura",
           30
          ],
          [
           "Matt Phillips",
           32
          ],
          [
           "George Friend",
           35
          ],
          [
           "Thomas Kaminski",
           30
          ],
          [
           "Victor Wanyama",
           32
          ],
          [
           "Martin Kelly",
           33
          ],
          [
           "Daniel Ayala",
           32
          ],
          [
           "Sean Morrison",
           32
          ],
          [
           "Salomón Rondón",
           33
          ],
          [
           "Korey Smith",
           32
          ],
          [
           "Philippe Coutinho",
           30
          ],
          [
           "Craig Noone",
           35
          ],
          [
           "Tadanari Lee",
           37
          ],
          [
           "Sung-yueng Ki",
           34
          ],
          [
           "Chung-yong Lee",
           34
          ],
          [
           "Joel Matip",
           31
          ],
          [
           "Moritz Leitner",
           30
          ],
          [
           "Albert Adomah",
           35
          ],
          [
           "Nathaniel Clyne",
           32
          ],
          [
           "Oscar",
           31
          ],
          [
           "Borja Bastón",
           30
          ],
          [
           "Federico Fernández",
           34
          ],
          [
           "Enda Stevens",
           32
          ],
          [
           "Loris Karius",
           30
          ],
          [
           "Danny Lafferty",
           34
          ],
          [
           "James McClean",
           34
          ],
          [
           "Stefan Ortega",
           30
          ],
          [
           "Thomas Eisfeld",
           30
          ],
          [
           "Valentin Roberge",
           35
          ],
          [
           "Junior Stanislas",
           33
          ],
          [
           "Luca Scapuzzi",
           32
          ],
          [
           "Kevin De Bruyne",
           32
          ],
          [
           "Jonathan Kodjia",
           33
          ],
          [
           "Jóhann Berg Gudmundsson",
           32
          ],
          [
           "David Cornell",
           32
          ],
          [
           "Román Golobart",
           30
          ],
          [
           "Steve Cook",
           32
          ],
          [
           "Joe Bennett",
           33
          ],
          [
           "John Brayford",
           35
          ],
          [
           "Ashley Westwood",
           33
          ],
          [
           "James Shea",
           31
          ],
          [
           "Heung-min Son",
           30
          ],
          [
           "Sammy Ameobi",
           30
          ],
          [
           "Matt Ritchie",
           33
          ],
          [
           "Aaron Cresswell",
           33
          ],
          [
           "Joel Ward",
           33
          ],
          [
           "Mateusz Klich",
           33
          ],
          [
           "Kalidou Koulibaly",
           31
          ],
          [
           "Adama Diomande",
           33
          ],
          [
           "Marcos Rojo",
           33
          ],
          [
           "Stuart O'Keefe",
           32
          ],
          [
           "Muhamed Besic",
           30
          ],
          [
           "Jordan Bowery",
           31
          ],
          [
           "Connor Wickham",
           30
          ],
          [
           "Kieran Trippier",
           32
          ],
          [
           "Alex McCarthy",
           33
          ],
          [
           "Ciaran Clark",
           33
          ],
          [
           "Jannik Vestergaard",
           30
          ],
          [
           "Karl Darlow",
           32
          ],
          [
           "Matej Vydra",
           31
          ],
          [
           "Scott Malone",
           32
          ],
          [
           "Jorginho",
           31
          ],
          [
           "Matthew Lowton",
           34
          ],
          [
           "Michail Antonio",
           33
          ],
          [
           "Lyle Taylor",
           33
          ],
          [
           "Filip Orsula",
           30
          ],
          [
           "Alisson",
           30
          ],
          [
           "Jordan Ayew",
           31
          ],
          [
           "Chris Wood",
           31
          ],
          [
           "Adam Matthews",
           31
          ],
          [
           "Onel Hernández",
           30
          ],
          [
           "Luke Garbutt",
           30
          ],
          [
           "Gary Gardner",
           30
          ],
          [
           "Sam Johnstone",
           29
          ],
          [
           "Jed Steer",
           30
          ],
          [
           "Ryan Tunnicliffe",
           30
          ],
          [
           "Ryan Allsop",
           30
          ],
          [
           "Kevin Long",
           32
          ],
          [
           "Joël Veltman",
           31
          ],
          [
           "Sead Hajrovic",
           30
          ],
          [
           "Neeskens Kebano",
           31
          ],
          [
           "Ahmed Hegazy",
           32
          ],
          [
           "Neto",
           33
          ],
          [
           "Emiliano Martínez",
           30
          ],
          [
           "Philip Heise",
           32
          ],
          [
           "Tomer Hemed",
           36
          ],
          [
           "Cédric Soares",
           31
          ],
          [
           "Romaine Sawyers",
           31
          ],
          [
           "Greg Cunningham",
           32
          ],
          [
           "Richie Towell",
           31
          ],
          [
           "Luke Brattan",
           33
          ],
          [
           "Marcus Bettinelli",
           31
          ],
          [
           "Phil Jones",
           31
          ],
          [
           "Michael Keane",
           30
          ],
          [
           "Will Keane",
           30
          ],
          [
           "Ezequiel Schelotto",
           34
          ],
          [
           "Shane Duffy",
           31
          ],
          [
           "Jack Grimmer",
           29
          ],
          [
           "Daniel Bachmann",
           28
          ],
          [
           "Jazz Richards",
           32
          ],
          [
           "Alphonse Areola",
           30
          ],
          [
           "Joe Mason",
           32
          ],
          [
           "Kwesi Appiah",
           32
          ],
          [
           "Adam Davies",
           30
          ],
          [
           "Adam Forshaw",
           31
          ],
          [
           "Ryan Watson",
           29
          ],
          [
           "Tom Carroll",
           30
          ],
          [
           "John Egan",
           30
          ],
          [
           "Grant Hanley",
           31
          ],
          [
           "Eirik Johansen",
           30
          ],
          [
           "Tommy Smith",
           31
          ],
          [
           "Emyr Huws",
           29
          ],
          [
           "Craig Dawson",
           33
          ],
          [
           "Wellington Silva",
           30
          ],
          [
           "Markus Henriksen",
           30
          ],
          [
           "Sam Clucas",
           32
          ],
          [
           "Nico Yennaris",
           30
          ],
          [
           "Ali Gabr",
           34
          ],
          [
           "Tom Cairney",
           32
          ],
          [
           "Simon Moore",
           33
          ],
          [
           "Sam Morsy",
           31
          ],
          [
           "Callum Wilson",
           31
          ],
          [
           "Danny Ward",
           32
          ],
          [
           "Odysseas Vlachodimos",
           29
          ],
          [
           "Grant Hall",
           31
          ],
          [
           "Pontus Jansson",
           32
          ],
          [
           "Nathaniel Mendez-Laing",
           30
          ],
          [
           "Luke Berry",
           30
          ],
          [
           "Mark Flekken",
           30
          ],
          [
           "Lee Nicholls",
           30
          ],
          [
           "Carl Jenkinson",
           31
          ],
          [
           "Allan",
           32
          ],
          [
           "Kenny McLean",
           31
          ],
          [
           "Lucas Digne",
           29
          ],
          [
           "Idrissa Gueye",
           33
          ],
          [
           "Serge Aurier",
           30
          ],
          [
           "Abdoulaye Doucouré",
           30
          ],
          [
           "Matz Sels",
           31
          ],
          [
           "Robbie Brady",
           31
          ],
          [
           "Scott Wootton",
           31
          ],
          [
           "Derrick Williams",
           30
          ],
          [
           "Bo-kyung Kim",
           33
          ],
          [
           "Tom Anderson",
           29
          ],
          [
           "Jamal Blackman",
           29
          ],
          [
           "Nathaniel Chalobah",
           28
          ],
          [
           "Conor Coady",
           30
          ],
          [
           "Ben Gibson",
           30
          ],
          [
           "Liam Moore",
           30
          ],
          [
           "Jack Robinson",
           29
          ],
          [
           "Ethan Ebanks-Landell",
           30
          ],
          [
           "Nathan Redmond",
           29
          ],
          [
           "Charlie Austin",
           33
          ],
          [
           "Jordan Pickford",
           29
          ],
          [
           "Stuart Armstrong",
           31
          ],
          [
           "Jonathan Bond",
           30
          ],
          [
           "Juan Agudelo",
           30
          ],
          [
           "Rodrigo",
           32
          ],
          [
           "Roberto Firmino",
           31
          ],
          [
           "Ross Barkley",
           29
          ],
          [
           "Phil Ofosu-Ayeh",
           31
          ],
          [
           "Dan Burn",
           31
          ],
          [
           "Danny Ings",
           30
          ],
          [
           "Matthias Fanimo",
           29
          ],
          [
           "Nick Powell",
           29
          ],
          [
           "Raheem Sterling",
           28
          ],
          [
           "Blair Turgott",
           29
          ],
          [
           "André Carrillo",
           32
          ],
          [
           "Fabian Schär",
           31
          ],
          [
           "Manuel Lanzini",
           30
          ],
          [
           "Daniel Bentley",
           29
          ],
          [
           "Kadeem Harris",
           29
          ],
          [
           "Marçal",
           34
          ],
          [
           "Jakob Haugaard",
           31
          ],
          [
           "Virgil van Dijk",
           31
          ],
          [
           "Ryan Fredericks",
           30
          ],
          [
           "Josip Drmic",
           30
          ],
          [
           "Liam O'Neil",
           29
          ],
          [
           "George Saville",
           30
          ],
          [
           "Zeki Fryers",
           30
          ],
          [
           "Jesse Lingard",
           30
          ],
          [
           "Willy Boly",
           32
          ],
          [
           "Mark Gillespie",
           31
          ],
          [
           "Krisztián Adorján",
           30
          ],
          [
           "Leandro Trossard",
           28
          ],
          [
           "Tim Ream",
           35
          ],
          [
           "Wataru Endo",
           30
          ],
          [
           "Conor Townsend",
           30
          ],
          [
           "George Baldock",
           30
          ],
          [
           "Ryan Fraser",
           29
          ],
          [
           "Lewis Dunk",
           31
          ],
          [
           "Jeff Hendrick",
           31
          ],
          [
           "Christian Nørgaard",
           29
          ],
          [
           "Divock Origi",
           27
          ],
          [
           "Mohamed Salah",
           30
          ],
          [
           "Tomas Kalas",
           29
          ],
          [
           "Jiri Skalak",
           31
          ],
          [
           "Todd Kane",
           29
          ],
          [
           "Felipe",
           34
          ],
          [
           "Tyias Browning",
           28
          ],
          [
           "Ben Heneghan",
           29
          ],
          [
           "Tom Ince",
           31
          ],
          [
           "Michael Hector",
           30
          ],
          [
           "Kurt Zouma",
           28
          ],
          [
           "Vladimír Coufal",
           30
          ],
          [
           "Cyrus Christie",
           30
          ],
          [
           "Tendayi Darikwa",
           31
          ],
          [
           "Kieron Freeman",
           31
          ],
          [
           "Max Ehmer",
           31
          ],
          [
           "Stuart Dallas",
           32
          ],
          [
           "Mesca",
           29
          ],
          [
           "Mohamed Elneny",
           30
          ],
          [
           "Adam Reach",
           30
          ],
          [
           "Connor Ripley",
           30
          ],
          [
           "Adam Smith",
           30
          ],
          [
           "Jack Stephens",
           29
          ],
          [
           "Rory Donnelly",
           31
          ],
          [
           "Raphaël Varane",
           30
          ],
          [
           "Jürgen Locadia",
           29
          ],
          [
           "Paddy McNair",
           28
          ],
          [
           "James Husband",
           29
          ],
          [
           "Daniel Johnson",
           30
          ],
          [
           "Callum Paterson",
           28
          ],
          [
           "Cauley Woodrow",
           28
          ],
          [
           "Paul Dummett",
           31
          ],
          [
           "Jonathan Williams",
           29
          ],
          [
           "Timo Werner",
           27
          ],
          [
           "Cody Cropper",
           30
          ],
          [
           "Ben Reeves",
           31
          ],
          [
           "Jay Fulton",
           29
          ],
          [
           "Riyad Mahrez",
           32
          ],
          [
           "Matt Doherty",
           31
          ],
          [
           "Nahki Wells",
           33
          ],
          [
           "James Tarkowski",
           30
          ],
          [
           "Hélder Costa",
           29
          ],
          [
           "Brad Smith",
           29
          ],
          [
           "Sebastian Lletget",
           30
          ],
          [
           "Aymeric Laporte",
           28
          ],
          [
           "Florin Andone",
           30
          ],
          [
           "Nathan Aké",
           28
          ],
          [
           "Charly Musonda Jr.",
           26
          ],
          [
           "Graham Burke",
           29
          ],
          [
           "Harry Maguire",
           30
          ],
          [
           "Jean Michaël Seri",
           31
          ],
          [
           "Donald Love",
           28
          ],
          [
           "Curtis Good",
           30
          ],
          [
           "George Evans",
           28
          ],
          [
           "James Ward-Prowse",
           28
          ],
          [
           "Massimo Luongo",
           30
          ],
          [
           "Emerson",
           28
          ],
          [
           "Jordan Graham",
           28
          ],
          [
           "Ryan Inniss",
           27
          ],
          [
           "Luke Shaw",
           27
          ],
          [
           "Joe Rothwell",
           28
          ],
          [
           "Callum Robinson",
           28
          ],
          [
           "Luke McGee",
           27
          ],
          [
           "Ben Pearson",
           28
          ],
          [
           "Jamaal Lascelles",
           29
          ],
          [
           "Patrick Bamford",
           29
          ],
          [
           "Gregor Zabret",
           28
          ],
          [
           "Jordan Clark",
           29
          ],
          [
           "Ming-Yang Yang",
           27
          ],
          [
           "Tom Hopper",
           29
          ],
          [
           "Emil Krafth",
           28
          ],
          [
           "Victor Lindelöf",
           28
          ],
          [
           "Bobby De Cordova-Reid",
           30
          ],
          [
           "John Stones",
           29
          ],
          [
           "Marek Rodák",
           26
          ],
          [
           "Jack Rose",
           28
          ],
          [
           "Ryan Christie",
           28
          ],
          [
           "Michael Petrasso",
           27
          ],
          [
           "Sean Maguire",
           29
          ],
          [
           "Nick Pope",
           31
          ],
          [
           "Kepa Arrizabalaga",
           28
          ],
          [
           "Ben Davies",
           30
          ],
          [
           "Álex Moreno",
           30
          ],
          [
           "John McGinn",
           28
          ],
          [
           "Joe Bryan",
           29
          ],
          [
           "Charlie Taylor",
           29
          ],
          [
           "Adedeji Oshilaja",
           29
          ],
          [
           "Joe Ralls",
           29
          ],
          [
           "Remi Matthews",
           29
          ],
          [
           "John Swift",
           27
          ],
          [
           "Janoi Donacien",
           29
          ],
          [
           "Josh Sheehan",
           28
          ],
          [
           "Jamie Vardy",
           36
          ],
          [
           "Liam Shephard",
           28
          ],
          [
           "Harry Toffolo",
           27
          ],
          [
           "Lewis Baker",
           28
          ],
          [
           "Sam Hoskins",
           30
          ],
          [
           "Jacob Murphy",
           28
          ],
          [
           "Josh Murphy",
           28
          ],
          [
           "Kevin Stewart",
           29
          ],
          [
           "Angus Gunn",
           27
          ],
          [
           "Danny Ward",
           30
          ],
          [
           "Conor McGrandles",
           27
          ],
          [
           "Andreas Pereira",
           27
          ],
          [
           "Jack Grealish",
           27
          ],
          [
           "Oleksandr Zinchenko",
           26
          ],
          [
           "Adama Traoré",
           27
          ],
          [
           "Saman Ghoddos",
           29
          ],
          [
           "Dejan Iliev",
           28
          ],
          [
           "Raúl Jiménez",
           31
          ],
          [
           "Isaac Hayden",
           28
          ],
          [
           "Kenny Tete",
           27
          ],
          [
           "Will Hughes",
           28
          ],
          [
           "Dan Potts",
           29
          ],
          [
           "Tom Lockyer",
           28
          ],
          [
           "Louis Thompson",
           28
          ],
          [
           "Brendan Galloway",
           27
          ],
          [
           "Christian Walton",
           27
          ],
          [
           "Solly March",
           28
          ],
          [
           "Oumar Niasse",
           32
          ],
          [
           "Jack O'Connell",
           29
          ],
          [
           "Adam Webster",
           28
          ],
          [
           "David Ferguson",
           28
          ],
          [
           "Connor Roberts",
           27
          ],
          [
           "Kean Bryan",
           26
          ],
          [
           "Calum Chambers",
           28
          ],
          [
           "Tom King",
           28
          ],
          [
           "Ricardo Pereira",
           29
          ],
          [
           "Ben Osborn",
           28
          ],
          [
           "George Honeyman",
           28
          ],
          [
           "Conor Grant",
           27
          ],
          [
           "Matthew Pennington",
           28
          ],
          [
           "Zack Steffen",
           28
          ],
          [
           "Alex Gilliead",
           27
          ],
          [
           "Joel Dixon",
           29
          ],
          [
           "Danilo Pantic",
           26
          ],
          [
           "Luke Simpson",
           28
          ],
          [
           "N'Golo Kanté",
           31
          ],
          [
           "Gonçalo Guedes",
           26
          ],
          [
           "Rúben Neves",
           26
          ],
          [
           "Fabinho",
           29
          ],
          [
           "Matheus Pereira",
           27
          ],
          [
           "Freddie Woodman",
           26
          ],
          [
           "Sean Raggett",
           29
          ],
          [
           "Anthony Cáceres",
           30
          ],
          [
           "Dominic Gape",
           28
          ],
          [
           "Lloyd Isgrove",
           30
          ],
          [
           "Harrison Reed",
           28
          ],
          [
           "Sam Gallagher",
           27
          ],
          [
           "Jason McCarthy",
           27
          ],
          [
           "Gedion Zelalem",
           26
          ],
          [
           "Thomas Partey",
           30
          ],
          [
           "Nélson Semedo",
           29
          ],
          [
           "Emiliano Marcondes",
           28
          ],
          [
           "Kortney Hause",
           27
          ],
          [
           "Freddie Ladapo",
           30
          ],
          [
           "André Onana",
           26
          ],
          [
           "Andrew Robertson",
           29
          ],
          [
           "Ola Aina",
           26
          ],
          [
           "Connor Ogilvie",
           27
          ],
          [
           "Sam Byram",
           29
          ],
          [
           "Ederson",
           29
          ],
          [
           "Leandro Rodríguez",
           30
          ],
          [
           "Jamal Lowe",
           28
          ],
          [
           "George Byers",
           26
          ],
          [
           "Bruno Fernandes",
           28
          ],
          [
           "Bernardo Silva",
           28
          ],
          [
           "Jindrich Stanek",
           27
          ],
          [
           "Ethan Horvath",
           27
          ],
          [
           "Gethin Jones",
           27
          ],
          [
           "Courtney Duffus",
           27
          ],
          [
           "Josh Cullen",
           26
          ],
          [
           "Alex Iwobi",
           27
          ],
          [
           "Nathan Mavila",
           27
          ],
          [
           "Lewis Page",
           26
          ],
          [
           "Josh Vickers",
           27
          ],
          [
           "Jan Bednarek",
           26
          ],
          [
           "Josh Onomah",
           26
          ],
          [
           "Lawrence Vigouroux",
           29
          ],
          [
           "Lloyd Jones",
           27
          ],
          [
           "Hiram Boateng",
           27
          ],
          [
           "Pelly Ruddock Mpanzu",
           29
          ],
          [
           "Jon Gorenc Stankovic",
           27
          ],
          [
           "Saša Lukić",
           26
          ],
          [
           "Reece James",
           29
          ],
          [
           "Alex Palmer",
           26
          ],
          [
           "Bartosz Kapustka",
           26
          ],
          [
           "Carlton Morris",
           27
          ],
          [
           "Duncan Watmore",
           29
          ],
          [
           "Lewis Cook",
           26
          ],
          [
           "Harry Winks",
           27
          ],
          [
           "Jack Stacey",
           27
          ],
          [
           "Youri Tielemans",
           25
          ],
          [
           "Tariqe Fosu",
           27
          ],
          [
           "José Sá",
           30
          ],
          [
           "Adam Armstrong",
           26
          ],
          [
           "Jamie Sterry",
           27
          ],
          [
           "Matt Targett",
           27
          ],
          [
           "Enes Ünal",
           26
          ],
          [
           "Jordan Lyden",
           27
          ],
          [
           "Ivan Toney",
           27
          ],
          [
           "Semi Ajayi",
           29
          ],
          [
           "Ken Sema",
           29
          ],
          [
           "Rob Holding",
           27
          ],
          [
           "Tyrone Mings",
           30
          ],
          [
           "Harry Cornick",
           28
          ],
          [
           "Wes Burns",
           28
          ],
          [
           "Samir Caetano",
           28
          ],
          [
           "Cameron Burgess",
           27
          ],
          [
           "Joe Gomez",
           26
          ],
          [
           "Adnan Maric",
           26
          ],
          [
           "Dan Barlaser",
           26
          ],
          [
           "Tommy Robson",
           27
          ],
          [
           "Rúben Dias",
           26
          ],
          [
           "Kasey Palmer",
           26
          ],
          [
           "Tom Beadling",
           27
          ],
          [
           "Tosin Adarabioyo",
           25
          ],
          [
           "Ryan Ledson",
           25
          ],
          [
           "Max Lowe",
           25
          ],
          [
           "Kyle Scott",
           25
          ],
          [
           "Dominic Solanke",
           25
          ],
          [
           "Dean Henderson",
           26
          ],
          [
           "Marcus Rashford",
           25
          ],
          [
           "Joachim Andersen",
           27
          ],
          [
           "Daniel Iversen",
           25
          ],
          [
           "Cameron Brannagan",
           26
          ],
          [
           "Filip Krovinovic",
           27
          ],
          [
           "Timothy Castagne",
           27
          ],
          [
           "Ryan Manning",
           26
          ],
          [
           "David Raya",
           27
          ],
          [
           "Soufyan Ahannach",
           28
          ],
          [
           "Jefferson Lerma",
           28
          ],
          [
           "Kevin Danso",
           24
          ],
          [
           "Harry Charsley",
           26
          ],
          [
           "Reece Burke",
           26
          ],
          [
           "Kevin Toner",
           26
          ],
          [
           "Matt Grimes",
           27
          ],
          [
           "Joe Williams",
           26
          ],
          [
           "Vitaly Janelt",
           25
          ],
          [
           "Callum Elder",
           28
          ],
          [
           "Sylvain Deslandes",
           25
          ],
          [
           "Issa Diop",
           26
          ],
          [
           "Paul Onuachu",
           28
          ],
          [
           "Miguel Almirón",
           29
          ],
          [
           "Jonathan Benteke",
           28
          ],
          [
           "Wilfred Ndidi",
           26
          ],
          [
           "Kieffer Moore",
           30
          ],
          [
           "David Brooks",
           25
          ],
          [
           "Jack Payne",
           28
          ],
          [
           "Amari'i Bell",
           29
          ],
          [
           "MJ Williams",
           27
          ],
          [
           "Harry Wilson",
           26
          ],
          [
           "Sergio Reguilón",
           26
          ],
          [
           "Corey Blackett-Taylor",
           25
          ],
          [
           "Alfie Whiteman",
           24
          ],
          [
           "Tomas Soucek",
           28
          ],
          [
           "Grant Ward",
           28
          ],
          [
           "Manuel Akanji",
           27
          ],
          [
           "Marc Cucurella",
           24
          ],
          [
           "Will Norris",
           29
          ],
          [
           "Joel Coleman",
           27
          ],
          [
           "Harry Burgoyne",
           26
          ],
          [
           "Guglielmo Vicario",
           26
          ],
          [
           "Joe Lolley",
           30
          ],
          [
           "Krystian Bielik",
           25
          ],
          [
           "Connor Mahoney",
           26
          ],
          [
           "Orel Mangala",
           25
          ],
          [
           "Josh Harrop",
           27
          ],
          [
           "Ashley Fletcher",
           27
          ],
          [
           "Saïd Benrahma",
           27
          ],
          [
           "Jordan Hugill",
           31
          ],
          [
           "Sammie Szmodics",
           27
          ],
          [
           "Hee-chan Hwang",
           27
          ],
          [
           "Demarai Gray",
           26
          ],
          [
           "Wout Faes",
           25
          ],
          [
           "Matija Sarkic",
           25
          ],
          [
           "Baily Cargill",
           27
          ],
          [
           "Josh Brownhill",
           27
          ],
          [
           "Conor Masterson",
           24
          ],
          [
           "James Maddison",
           26
          ],
          [
           "Nathan",
           27
          ],
          [
           "Taiwo Awoniyi",
           25
          ],
          [
           "Kelechi Iheanacho",
           26
          ],
          [
           "Marco Asensio",
           27
          ],
          [
           "Tyler Roberts",
           24
          ],
          [
           "Joe Rodon",
           25
          ],
          [
           "Harry Souttar",
           24
          ],
          [
           "Courtney Baker-Richardson",
           27
          ],
          [
           "George Thomas",
           26
          ],
          [
           "Kieran Tierney",
           25
          ],
          [
           "Fred Onyedinma",
           26
          ],
          [
           "Dominic Calvert-Lewin",
           26
          ],
          [
           "Matt Clarke",
           26
          ],
          [
           "Lynden Gooch",
           27
          ],
          [
           "Callum Connolly",
           25
          ],
          [
           "Jan Mlakar",
           24
          ],
          [
           "Kai Havertz",
           23
          ],
          [
           "Andre Green",
           24
          ],
          [
           "Ramadan Sobhi",
           26
          ],
          [
           "Liam Gibson",
           25
          ],
          [
           "Dael Fry",
           25
          ],
          [
           "Karlan Grant",
           25
          ],
          [
           "Tom Davies",
           24
          ],
          [
           "Rushian Hepburn-Murphy",
           24
          ],
          [
           "Herbie Kane",
           24
          ],
          [
           "Jonathan Leko",
           23
          ],
          [
           "Chris Willock",
           25
          ],
          [
           "Trent Alexander-Arnold",
           24
          ],
          [
           "Kyle Edwards",
           25
          ],
          [
           "Darnell Johnson",
           24
          ],
          [
           "Admiral Muskwe",
           24
          ],
          [
           "Ben Sheaf",
           25
          ],
          [
           "Jarrod Bowen",
           26
          ],
          [
           "Ben Chilwell",
           26
          ],
          [
           "Martin Ødegaard",
           24
          ],
          [
           "Jake Clarke-Salter",
           25
          ],
          [
           "Mateusz Hewelt",
           26
          ],
          [
           "Vlad Dragomir",
           23
          ],
          [
           "Daniel James",
           25
          ],
          [
           "Mathias Jensen",
           27
          ],
          [
           "Elijah Adebayo",
           25
          ],
          [
           "Anthony Georgiou",
           26
          ],
          [
           "Benny Ashley-Seal",
           24
          ],
          [
           "Benson Manuel",
           26
          ],
          [
           "Gustavo Hamer",
           25
          ],
          [
           "James Bree",
           25
          ],
          [
           "Ollie Watkins",
           27
          ],
          [
           "Marvelous Nakamba",
           29
          ],
          [
           "Donyell Malen",
           24
          ],
          [
           "Matthijs de Ligt",
           23
          ],
          [
           "Jaroslaw Jach",
           29
          ],
          [
           "Kristoffer Ajer",
           25
          ],
          [
           "João Virgínia",
           23
          ],
          [
           "Justin Kluivert",
           23
          ],
          [
           "Takehiro Tomiyasu",
           24
          ],
          [
           "Tyler Adams",
           24
          ],
          [
           "Sander Berge",
           25
          ],
          [
           "Joelinton",
           26
          ],
          [
           "Ben White",
           25
          ],
          [
           "Altay Bayındır",
           24
          ],
          [
           "Joe Lumley",
           28
          ],
          [
           "Nathan Holland",
           24
          ],
          [
           "Connor Ronan",
           25
          ],
          [
           "Konstantinos Tsimikas",
           27
          ],
          [
           "Mikel Merino",
           26
          ],
          [
           "Hannes Delcroix",
           24
          ],
          [
           "Daniel Grimshaw",
           25
          ],
          [
           "Rico Henry",
           25
          ],
          [
           "Josh Pask",
           25
          ],
          [
           "Regan Poole",
           24
          ],
          [
           "Tolaji Bola",
           24
          ],
          [
           "Marcus McGuane",
           24
          ],
          [
           "Josh Dasilva",
           24
          ],
          [
           "Eddie Nketiah",
           23
          ],
          [
           "Reiss Nelson",
           23
          ],
          [
           "Stephy Mavididi",
           25
          ],
          [
           "Joe Willock",
           23
          ],
          [
           "Noussair Mazraoui",
           25
          ],
          [
           "Caoimhín Kelleher",
           24
          ],
          [
           "Diogo Jota",
           26
          ],
          [
           "Harry Lewis",
           25
          ],
          [
           "Kyle Walker-Peters",
           26
          ],
          [
           "Federico Chiesa",
           25
          ],
          [
           "Hamza Choudhury",
           25
          ],
          [
           "Elliott Moore",
           26
          ],
          [
           "Axel Tuanzebe",
           25
          ],
          [
           "Grady Diangana",
           25
          ],
          [
           "Nathan Baxter",
           24
          ],
          [
           "Guido Rodríguez",
           29
          ],
          [
           "Ben Godfrey",
           25
          ],
          [
           "Nathan Broadhead",
           25
          ],
          [
           "Ben Woodburn",
           23
          ],
          [
           "Odsonne Edouard",
           25
          ],
          [
           "Christopher Nkunku",
           25
          ],
          [
           "Boubakary Soumaré",
           24
          ],
          [
           "Tahith Chong",
           23
          ],
          [
           "Shayon Harrison",
           25
          ],
          [
           "Djair Parfitt-Williams",
           26
          ],
          [
           "Jamal Lewis",
           25
          ],
          [
           "Trevoh Chalobah",
           23
          ],
          [
           "Jordan Williams",
           23
          ],
          [
           "Tom Dele-Bashiru",
           23
          ],
          [
           "Japhet Tanganga",
           24
          ],
          [
           "Dan Nlundulu",
           24
          ],
          [
           "Mason Mount",
           24
          ],
          [
           "Sean Longstaff",
           25
          ],
          [
           "Mason Holgate",
           26
          ],
          [
           "Alexander Isak",
           23
          ],
          [
           "Conor Chaplin",
           26
          ],
          [
           "Pervis Estupiñán",
           25
          ],
          [
           "Antonee Robinson",
           25
          ],
          [
           "Shayne Lavery",
           24
          ],
          [
           "Kalvin Phillips",
           27
          ],
          [
           "Darnell Furlong",
           27
          ],
          [
           "Keshi Anderson",
           28
          ],
          [
           "Adnan Kanuric",
           22
          ],
          [
           "Joe Powell",
           24
          ],
          [
           "Rodrigo Bentancur",
           26
          ],
          [
           "Cristian Romero",
           25
          ],
          [
           "Daichi Kamada",
           26
          ],
          [
           "Ibrahima Konaté",
           24
          ],
          [
           "Diogo Dalot",
           24
          ],
          [
           "Kazaiah Sterling",
           24
          ],
          [
           "Rodri",
           27
          ],
          [
           "Jayson Molumby",
           23
          ],
          [
           "Mark Travers",
           24
          ],
          [
           "Declan Rice",
           24
          ],
          [
           "Lasse Sörensen",
           23
          ],
          [
           "Sven Botman",
           23
          ],
          [
           "Gabriel Jesus",
           26
          ],
          [
           "Elliot Embleton",
           24
          ],
          [
           "Patson Daka",
           24
          ],
          [
           "Pontus Dahlberg",
           24
          ],
          [
           "Dan Agyei",
           25
          ],
          [
           "Niall Ennis",
           23
          ],
          [
           "Ferdi Kadıoğlu",
           23
          ],
          [
           "Sasa Kalajdzic",
           25
          ],
          [
           "Arijanet Muric",
           24
          ],
          [
           "Francisco Sierralta",
           26
          ],
          [
           "Nathaniel Phillips",
           26
          ],
          [
           "Carlos Soler",
           26
          ],
          [
           "Paulinho",
           25
          ],
          [
           "Junior Firpo",
           26
          ],
          [
           "Ibrahim Sangaré",
           25
          ],
          [
           "Charlie Goode",
           27
          ],
          [
           "Anel Ahmedhodzic",
           24
          ],
          [
           "Richarlison",
           26
          ],
          [
           "Lyanco",
           26
          ],
          [
           "Igor",
           25
          ],
          [
           "Joel Mumbongo",
           24
          ],
          [
           "Wesley Moraes",
           26
          ],
          [
           "Steven Benda",
           24
          ],
          [
           "Mike Trésor",
           23
          ],
          [
           "Tyrese Campbell",
           23
          ],
          [
           "Joe Hardy",
           24
          ],
          [
           "Przemyslaw Placheta",
           25
          ],
          [
           "Axel Disasi",
           25
          ],
          [
           "Darko Churlinov",
           22
          ],
          [
           "Joe Riley",
           26
          ],
          [
           "Daiki Hashioka",
           24
          ],
          [
           "Samuel Shashoua",
           24
          ],
          [
           "Sam Field",
           25
          ],
          [
           "Leon Bailey",
           25
          ],
          [
           "Yoane Wissa",
           26
          ],
          [
           "Jacob Lungi Sörensen",
           25
          ],
          [
           "Marcus Browne",
           25
          ],
          [
           "Chiedozie Ogbene",
           26
          ],
          [
           "Marc Guéhi",
           22
          ],
          [
           "Ian Poveda",
           23
          ],
          [
           "Emile Smith Rowe",
           22
          ],
          [
           "George McEachran",
           22
          ],
          [
           "Callum Hudson-Odoi",
           22
          ],
          [
           "Marcel Lavinier",
           22
          ],
          [
           "Kane Wilson",
           23
          ],
          [
           "Ryan Sessegnon",
           23
          ],
          [
           "Josh Sargent",
           23
          ],
          [
           "Boubacar Kamara",
           23
          ],
          [
           "Claudio Gomes",
           22
          ],
          [
           "Moussa Diaby",
           23
          ],
          [
           "Sam Hughes",
           25
          ],
          [
           "Jimmy Dunne",
           25
          ],
          [
           "Ethan Hamilton",
           24
          ],
          [
           "Manor Solomon",
           23
          ],
          [
           "Dan Kemp",
           24
          ],
          [
           "Jamie Cumming",
           23
          ],
          [
           "Richard Nartey",
           24
          ],
          [
           "Sandro Tonali",
           23
          ],
          [
           "Josh Benson",
           23
          ],
          [
           "Harvey Barnes",
           25
          ],
          [
           "Sam Surridge",
           24
          ],
          [
           "Marcus Tavernier",
           24
          ],
          [
           "Pau Torres",
           26
          ],
          [
           "Mads Hermansen",
           22
          ],
          [
           "Jadon Sancho",
           22
          ],
          [
           "Dara O'Shea",
           24
          ],
          [
           "Edson Álvarez",
           25
          ],
          [
           "Michal Karbownik",
           22
          ],
          [
           "Gonzalo Montiel",
           26
          ],
          [
           "Robert Sánchez",
           25
          ],
          [
           "Jordan Beyer",
           22
          ],
          [
           "Marcus Forss",
           23
          ],
          [
           "Vitaliy Mykolenko",
           24
          ],
          [
           "Yukinari Sugawara",
           22
          ],
          [
           "Yan Valery",
           24
          ],
          [
           "Tom McGill",
           23
          ],
          [
           "Steven Sessegnon",
           22
          ],
          [
           "Timothy Eyoma",
           23
          ],
          [
           "Rhian Brewster",
           23
          ],
          [
           "Matt O'Riley",
           22
          ],
          [
           "Phil Foden",
           23
          ],
          [
           "Oliver Skipp",
           22
          ],
          [
           "Mads Andersen",
           25
          ],
          [
           "Ismaïla Sarr",
           25
          ],
          [
           "Yves Bissouma",
           26
          ],
          [
           "Pascal Struijk",
           23
          ],
          [
           "Max Sanders",
           24
          ],
          [
           "Adam Parkes",
           23
          ],
          [
           "Ibrahima Diallo",
           24
          ],
          [
           "Bryan Mbeumo",
           23
          ],
          [
           "James Justin",
           25
          ],
          [
           "Ezri Konsa",
           25
          ],
          [
           "Nikola Milenković",
           25
          ],
          [
           "Marshall Munetsi",
           27
          ],
          [
           "Mats Wieffer",
           23
          ],
          [
           "Bruno Jordão",
           24
          ],
          [
           "Konstantinos Mavropanos",
           25
          ],
          [
           "Joe Worrall",
           26
          ],
          [
           "Jordan Green",
           28
          ],
          [
           "Jack Harrison",
           26
          ],
          [
           "Erling Haaland",
           22
          ],
          [
           "Kristoffer Klaesson",
           22
          ],
          [
           "Conor Coventry",
           23
          ],
          [
           "Lewis Gibson",
           22
          ],
          [
           "Jean-Philippe Mateta",
           25
          ],
          [
           "Jurrien Timber",
           21
          ],
          [
           "George Hirst",
           24
          ],
          [
           "Alfie Lewis",
           23
          ],
          [
           "Nathan Patterson",
           21
          ],
          [
           "Samuel Kalu",
           25
          ],
          [
           "Josh Knight",
           25
          ],
          [
           "Matt Turner",
           29
          ],
          [
           "Matty Cash",
           25
          ],
          [
           "Akin Famewo",
           24
          ],
          [
           "Ryan Yates",
           25
          ],
          [
           "Jakub Kiwior",
           23
          ],
          [
           "Ben Brereton Díaz",
           24
          ],
          [
           "Aaron Ramsdale",
           24
          ],
          [
           "Thanawat Suengchitthawon",
           23
          ],
          [
           "Brandon Austin",
           24
          ],
          [
           "Morgan Gibbs-White",
           23
          ],
          [
           "Jørgen Strand Larsen",
           23
          ],
          [
           "Andrew Irving",
           23
          ],
          [
           "Tom Edwards",
           24
          ],
          [
           "Peter Gwargis",
           22
          ],
          [
           "Mateusz Bogusz",
           22
          ],
          [
           "Dejan Kulusevski",
           22
          ],
          [
           "Bukayo Saka",
           21
          ],
          [
           "Elijah Dixon-Bonner",
           22
          ],
          [
           "Luis Longstaff",
           22
          ],
          [
           "Tommy Doyle",
           21
          ],
          [
           "Rayhaan Tulloch",
           22
          ],
          [
           "Bali Mumba",
           21
          ],
          [
           "Curtis Jones",
           22
          ],
          [
           "Scott Twine",
           23
          ],
          [
           "Tudor Baluta",
           24
          ],
          [
           "Ethan Galbraith",
           21
          ],
          [
           "Aaron Connolly",
           23
          ],
          [
           "Maxence Lacroix",
           23
          ],
          [
           "Cody Gakpo",
           24
          ],
          [
           "Gabriel Magalhães",
           25
          ],
          [
           "Joshua Zirkzee",
           21
          ],
          [
           "Santiago Bueno",
           24
          ],
          [
           "Ethan Pinnock",
           30
          ],
          [
           "Edouard Mendy",
           31
          ],
          [
           "Michael Obafemi",
           22
          ],
          [
           "Will Smallbone",
           23
          ],
          [
           "Lucas Paquetá",
           25
          ],
          [
           "Louie Moulden",
           21
          ],
          [
           "Omar Marmoush",
           24
          ],
          [
           "Ross Stewart",
           26
          ],
          [
           "Emmanuel Dennis",
           25
          ],
          [
           "Jean-Ricner Bellegarde",
           24
          ],
          [
           "Dominik Szoboszlai",
           22
          ],
          [
           "Jorge Segura",
           26
          ],
          [
           "Adama Diakhaby",
           26
          ],
          [
           "Will Mannion",
           24
          ],
          [
           "Rekeem Harper",
           23
          ],
          [
           "Jack Taylor",
           24
          ],
          [
           "Harvey Rodgers",
           26
          ],
          [
           "Caleb Okoli",
           21
          ],
          [
           "Calvin Bassey",
           23
          ],
          [
           "Benoît Badiashile",
           22
          ],
          [
           "Marc Leonard",
           21
          ],
          [
           "Terry Taylor",
           21
          ],
          [
           "Allan Tchaptchet",
           21
          ],
          [
           "Jayden Bogle",
           22
          ],
          [
           "Nico González",
           21
          ],
          [
           "Armel Bella-Kotchap",
           21
          ],
          [
           "Lyle Foster",
           22
          ],
          [
           "Ben Johnson",
           23
          ],
          [
           "Jens Cajuste",
           23
          ],
          [
           "Joe Aribo",
           26
          ],
          [
           "Vitinho",
           23
          ],
          [
           "Nathan Collins",
           22
          ],
          [
           "Gavin Kilkenny",
           23
          ],
          [
           "Marcos Senesi",
           26
          ],
          [
           "Indiana Vassilev",
           22
          ],
          [
           "Jacob Brown",
           24
          ],
          [
           "Paris Maghoma",
           21
          ],
          [
           "Ben Cottrell",
           21
          ],
          [
           "Brennan Johnson",
           21
          ],
          [
           "Reece James",
           23
          ],
          [
           "Kevin Schade",
           21
          ],
          [
           "Regan Slater",
           23
          ],
          [
           "Lewis Cass",
           23
          ],
          [
           "Crysencio Summerville",
           21
          ],
          [
           "Kiernan Dewsbury-Hall",
           24
          ],
          [
           "Wesley Fofana",
           22
          ],
          [
           "Josko Gvardiol",
           21
          ],
          [
           "Steven Alzate",
           24
          ],
          [
           "Bernardo Rosa",
           22
          ],
          [
           "Manuel Ugarte",
           21
          ],
          [
           "Aaron Wan-Bissaka",
           25
          ],
          [
           "Ryan Gravenberch",
           21
          ],
          [
           "Eberechi Eze",
           24
          ],
          [
           "Cohen Bramall",
           27
          ],
          [
           "Luis Díaz",
           26
          ],
          [
           "Lisandro Martínez",
           25
          ],
          [
           "Chris Mepham",
           25
          ],
          [
           "Djed Spence",
           22
          ],
          [
           "Matty Longstaff",
           23
          ],
          [
           "Taylor Richards",
           22
          ],
          [
           "Ian Maatsen",
           21
          ],
          [
           "Amadou Onana",
           21
          ],
          [
           "Jérémy Doku",
           21
          ],
          [
           "Jake Walker",
           22
          ],
          [
           "Jakub Stolarczyk",
           22
          ],
          [
           "Edo Kayembe",
           25
          ],
          [
           "Vitezslav Jaros",
           21
          ],
          [
           "Pedro Neto",
           23
          ],
          [
           "Maksim Paskotsi",
           20
          ],
          [
           "Siriki Dembélé",
           26
          ],
          [
           "Hákon Rafn Valdimarsson",
           21
          ],
          [
           "Ismaila Coulibaly",
           22
          ],
          [
           "Lucas Bergström",
           21
          ],
          [
           "Daniel Muñoz",
           26
          ],
          [
           "Jorge Cuenca",
           23
          ],
          [
           "Nathan Bishop",
           24
          ],
          [
           "William Saliba",
           21
          ],
          [
           "Dion Sanderson",
           23
          ],
          [
           "Elliot Thorpe",
           22
          ],
          [
           "Nicolás Domínguez",
           24
          ],
          [
           "Dion Pereira",
           24
          ],
          [
           "Ákos Onódi",
           21
          ],
          [
           "Aji Alese",
           22
          ],
          [
           "Taylor Perry",
           21
          ],
          [
           "Riccardo Calafiori",
           21
          ],
          [
           "Rhys Williams",
           22
          ],
          [
           "Neco Williams",
           22
          ],
          [
           "Anthony Driscoll-Glennon",
           23
          ],
          [
           "Anthony Gordon",
           22
          ],
          [
           "Morgan Rogers",
           20
          ],
          [
           "Jacob Ramsey",
           21
          ],
          [
           "Tyreece John-Jules",
           22
          ],
          [
           "Arthur Okonkwo",
           21
          ],
          [
           "Jeremy Ngakia",
           22
          ],
          [
           "Albert Grønbaek",
           22
          ],
          [
           "Joe Hodge",
           20
          ],
          [
           "Dynel Simeu",
           21
          ],
          [
           "Taylor Harwood-Bellis",
           21
          ],
          [
           "Joe Gelhardt",
           21
          ],
          [
           "Tino Livramento",
           20
          ],
          [
           "Noni Madueke",
           21
          ],
          [
           "Alex Mighten",
           20
          ],
          [
           "Nathan Wood",
           21
          ],
          [
           "Daniel Barden",
           22
          ],
          [
           "Tariq Lamptey",
           22
          ],
          [
           "Emmanuel Longelo",
           22
          ],
          [
           "Ryan Giles",
           23
          ],
          [
           "Kaoru Mitoma",
           25
          ],
          [
           "Luke Thomas",
           22
          ],
          [
           "James Garner",
           22
          ],
          [
           "Louie Watson",
           21
          ],
          [
           "Flynn Downes",
           24
          ],
          [
           "Josh Bowler",
           24
          ],
          [
           "Jack Young",
           22
          ],
          [
           "Nathan Ferguson",
           22
          ],
          [
           "Alexandre Jankewitz",
           21
          ],
          [
           "Brandon Williams",
           22
          ],
          [
           "Daniel Batty",
           25
          ],
          [
           "Ellis Simms",
           22
          ],
          [
           "Jackson Smith",
           21
          ],
          [
           "Ryan Longman",
           22
          ],
          [
           "Malcolm Ebiowei",
           19
          ],
          [
           "Luis Sinisterra",
           24
          ],
          [
           "Jesper Lindstrøm",
           23
          ],
          [
           "Julián Araujo",
           21
          ],
          [
           "Matheus Cunha",
           23
          ],
          [
           "Bruno Guimarães",
           25
          ],
          [
           "Jensen Weir",
           21
          ],
          [
           "Jaime Alvarado",
           23
          ],
          [
           "Maximilian Kilman",
           25
          ],
          [
           "Carlos Vinícius",
           28
          ],
          [
           "Karlo Ziger",
           22
          ],
          [
           "Luke Woolfenden",
           24
          ],
          [
           "Tyrese Francois",
           22
          ],
          [
           "Jack Spong",
           21
          ],
          [
           "Armstrong Oko-Flex",
           21
          ],
          [
           "Di'Shon Bernard",
           22
          ],
          [
           "D'Mani Mellor",
           22
          ],
          [
           "Ethan Laird",
           21
          ],
          [
           "Cody Drameh",
           21
          ],
          [
           "Sam Greenwood",
           21
          ],
          [
           "Daniel Adshead",
           21
          ],
          [
           "Luke Cundle",
           21
          ],
          [
           "Haydon Roberts",
           20
          ],
          [
           "Cameron Archer",
           21
          ],
          [
           "Shandon Baptiste",
           25
          ],
          [
           "Alexis Mac Allister",
           24
          ],
          [
           "Robbie Gotts",
           23
          ],
          [
           "Jamie Shackleton",
           23
          ],
          [
           "Luke McNally",
           23
          ],
          [
           "Amad Diallo",
           20
          ],
          [
           "Mykhaylo Mudryk",
           22
          ],
          [
           "Kwasi Sibo",
           25
          ],
          [
           "Georginio Rutter",
           20
          ],
          [
           "Christian Marques",
           20
          ],
          [
           "Kristian Sekularac",
           20
          ],
          [
           "Zak Swanson",
           22
          ],
          [
           "Mikkel Damsgaard",
           22
          ],
          [
           "Sepp van den Berg",
           21
          ],
          [
           "Illan Meslier",
           23
          ],
          [
           "Alex Gilbert",
           21
          ],
          [
           "Rhys Norrington-Davies",
           24
          ],
          [
           "Cheick Doucouré",
           23
          ],
          [
           "Mohammed Kudus",
           22
          ],
          [
           "Darwin Núñez",
           24
          ],
          [
           "Anis Slimane",
           22
          ],
          [
           "Taylor Gardner-Hickman",
           21
          ],
          [
           "Miguel Azeez",
           20
          ],
          [
           "Josh Martin",
           21
          ],
          [
           "Teden Mengi",
           20
          ],
          [
           "Owen Beck",
           21
          ],
          [
           "Pedro Porro",
           23
          ],
          [
           "Alpha Diounkou",
           21
          ],
          [
           "Yasser Larouci",
           22
          ],
          [
           "Oliwier Zych",
           19
          ],
          [
           "Destiny Udogie",
           20
          ],
          [
           "Micky van de Ven",
           21
          ],
          [
           "Harrison Ashby",
           21
          ],
          [
           "Fábio Carvalho",
           20
          ],
          [
           "Jack Clarke",
           22
          ],
          [
           "Oliver Casey",
           22
          ],
          [
           "Niall Huggins",
           22
          ],
          [
           "Lewis O'Brien",
           25
          ],
          [
           "Dan Chesters",
           21
          ],
          [
           "Kyle Taylor",
           23
          ],
          [
           "Victor Kristiansen",
           20
          ],
          [
           "Bart Verbruggen",
           20
          ],
          [
           "Harvey Elliott",
           20
          ],
          [
           "Matty Daly",
           22
          ],
          [
           "James Trafford",
           20
          ],
          [
           "Thomas Dickson-Peters",
           20
          ],
          [
           "Elliot Anderson",
           20
          ],
          [
           "Odel Offiah",
           21
          ],
          [
           "Jeremy Sarmiento",
           20
          ],
          [
           "Dennis Cirkin",
           21
          ],
          [
           "Cole Palmer",
           21
          ],
          [
           "Radu Drăgușin",
           21
          ],
          [
           "Pape Matar Sarr",
           20
          ],
          [
           "Armando Broja",
           21
          ],
          [
           "Joseph Anang",
           23
          ],
          [
           "Josh Wilson-Esbrand",
           20
          ],
          [
           "Jan Paul van Hecke",
           22
          ],
          [
           "Rayan Aït-Nouri",
           22
          ],
          [
           "Chris Richards",
           22
          ],
          [
           "James Furlong",
           20
          ],
          [
           "Ed Turns",
           20
          ],
          [
           "Eiran Cashin",
           21
          ],
          [
           "Harvey White",
           21
          ],
          [
           "CJ Egan-Riley",
           20
          ],
          [
           "Louie Barry",
           19
          ],
          [
           "Charlie Patino",
           19
          ],
          [
           "Lukas Jensen",
           24
          ],
          [
           "Will Dennis",
           22
          ],
          [
           "Anthony Elanga",
           21
          ],
          [
           "James McAtee",
           20
          ],
          [
           "Antoine Semenyo",
           23
          ],
          [
           "Dwight McNeil",
           23
          ],
          [
           "Filip Jørgensen",
           21
          ],
          [
           "Jesurun Rak-Sakyi",
           20
          ],
          [
           "Myles Peart-Harris",
           20
          ],
          [
           "Lewis Bate",
           20
          ],
          [
           "Derek Agyakwa",
           21
          ],
          [
           "Joe Gauci",
           22
          ],
          [
           "Aaron Hickey",
           21
          ],
          [
           "Woyo Coulibaly",
           24
          ],
          [
           "Tiago Cukur",
           20
          ],
          [
           "Beto",
           25
          ],
          [
           "Max Haygarth",
           21
          ],
          [
           "Leif Davis",
           23
          ],
          [
           "Xavier Simons",
           20
          ],
          [
           "Matheus Nunes",
           24
          ],
          [
           "Jean-Clair Todibo",
           23
          ],
          [
           "Sebastian Soto",
           22
          ],
          [
           "Denis Franchi",
           20
          ],
          [
           "Toti",
           24
          ],
          [
           "Hannibal",
           20
          ],
          [
           "Alfie Doughty",
           23
          ],
          [
           "Luke Mbete",
           19
          ],
          [
           "Alex Robertson",
           20
          ],
          [
           "Rasmus Højlund",
           20
          ],
          [
           "Caleb Watts",
           21
          ],
          [
           "Ollie O'Neill",
           20
          ],
          [
           "Liam Delap",
           20
          ],
          [
           "James Hill",
           21
          ],
          [
           "Liam McCarron",
           22
          ],
          [
           "Luke Matheson",
           20
          ],
          [
           "Levi Colwill",
           20
          ],
          [
           "Charlie McNeill",
           19
          ],
          [
           "Chem Campbell",
           20
          ],
          [
           "Dara Costelloe",
           20
          ],
          [
           "Tyler Morton",
           20
          ],
          [
           "Sam McCallum",
           22
          ],
          [
           "Malo Gusto",
           19
          ],
          [
           "Kasey McAteer",
           21
          ],
          [
           "Radek Vítek",
           19
          ],
          [
           "Iliman Ndiaye",
           23
          ],
          [
           "Conor Bradley",
           19
          ],
          [
           "Dale Taylor",
           19
          ],
          [
           "Lucas De Bolle",
           20
          ],
          [
           "Adrion Pajaziti",
           20
          ],
          [
           "João Pedro",
           21
          ],
          [
           "Kaine Kesler-Hayden",
           21
          ],
          [
           "Lewis Dobbin",
           20
          ],
          [
           "Wilfried Gnonto",
           19
          ],
          [
           "Roméo Lavia",
           19
          ],
          [
           "Femi Seriki",
           20
          ],
          [
           "Carlos Miguel",
           24
          ],
          [
           "Keane Lewis-Potter",
           22
          ],
          [
           "Lamare Bogarde",
           19
          ],
          [
           "Ben Greenwood",
           20
          ],
          [
           "Carl Rushworth",
           21
          ],
          [
           "Aaron Ramsey",
           20
          ],
          [
           "Juan Larios",
           19
          ],
          [
           "Jayden Bennetts",
           22
          ],
          [
           "Evan Ferguson",
           18
          ],
          [
           "Enzo Fernández",
           22
          ],
          [
           "Boubacar Traoré",
           21
          ],
          [
           "Jhon Durán",
           19
          ],
          [
           "Lewis Warrington",
           20
          ],
          [
           "Bilal El Khannouss",
           18
          ],
          [
           "Cameron Plain",
           22
          ],
          [
           "Brooklyn Genesini",
           21
          ],
          [
           "Gabriel Martinelli",
           21
          ],
          [
           "Christian Saydee",
           20
          ],
          [
           "Mipo Odubeko",
           20
          ],
          [
           "Aaron Rowe",
           22
          ],
          [
           "Simon Adingra",
           21
          ],
          [
           "Ilya Zabarnyi",
           20
          ],
          [
           "Julio Enciso",
           19
          ],
          [
           "Jarrad Branthwaite",
           20
          ],
          [
           "Leo Fuhr Hjelde",
           19
          ],
          [
           "Marcelo Pitaluga",
           21
          ],
          [
           "Tyler Onyango",
           20
          ],
          [
           "Jota Silva",
           23
          ],
          [
           "Darko Gyabi",
           19
          ],
          [
           "Vini Souza",
           24
          ],
          [
           "Jaden Philogene",
           21
          ],
          [
           "Rodrigo Gomes",
           19
          ],
          [
           "Yasin Ayari",
           19
          ],
          [
           "Marcelo Flores",
           19
          ],
          [
           "Joe Whitworth",
           19
          ],
          [
           "Divin Mubama",
           18
          ],
          [
           "Antwoine Hackford",
           19
          ],
          [
           "Luke Chambers",
           19
          ],
          [
           "Dane Scarlett",
           19
          ],
          [
           "Caleb Taylor",
           20
          ],
          [
           "Morato",
           21
          ],
          [
           "Anthony Mancini",
           22
          ],
          [
           "Emmanuel Agbadou",
           25
          ],
          [
           "Jaidon Anthony",
           23
          ],
          [
           "Charlie Savage",
           19
          ],
          [
           "Moisés Caicedo",
           21
          ],
          [
           "Chadi Riad",
           20
          ],
          [
           "Kamarai Swyer",
           21
          ],
          [
           "Jacob Greaves",
           22
          ],
          [
           "Jay Stansfield",
           20
          ],
          [
           "Tim Iroegbunam",
           19
          ],
          [
           "Rico Lewis",
           18
          ],
          [
           "Kgaogelo Chauke",
           20
          ],
          [
           "Harvey Davies",
           20
          ],
          [
           "Ji-soo Kim",
           18
          ],
          [
           "Kwadwo Baah",
           20
          ],
          [
           "Evanilson",
           23
          ],
          [
           "Jake O'Brien",
           22
          ],
          [
           "Lesley Ugochukwu",
           19
          ],
          [
           "Bobby Clark",
           18
          ],
          [
           "Yerson Mosquera",
           22
          ],
          [
           "Yegor Yarmolyuk",
           19
          ],
          [
           "Enock Agyei",
           18
          ],
          [
           "Tayo Adaramola",
           20
          ],
          [
           "Andrew Moran",
           20
          ],
          [
           "Liam Gibbs",
           20
          ],
          [
           "Antonín Kinský",
           20
          ],
          [
           "Welington",
           22
          ],
          [
           "Milos Kerkez",
           19
          ],
          [
           "Tyrick Mitchell",
           23
          ],
          [
           "Dylan Williams",
           20
          ],
          [
           "Kaide Gordon",
           18
          ],
          [
           "Jack Jenkins",
           21
          ],
          [
           "João Gomes",
           22
          ],
          [
           "Rodrigo Muniz",
           22
          ],
          [
           "Igor Thiago",
           21
          ],
          [
           "Omari Hutchinson",
           20
          ],
          [
           "Caleb Chukwuemeka",
           21
          ],
          [
           "Lino Sousa",
           18
          ],
          [
           "Wilson Odobert",
           18
          ],
          [
           "Savinho",
           19
          ],
          [
           "Matheus França",
           19
          ],
          [
           "Adam Wharton",
           19
          ],
          [
           "Ramón Sosa",
           23
          ],
          [
           "Luca Koleosho",
           18
          ],
          [
           "Kamaldeen Sulemana",
           21
          ],
          [
           "Daniel Jebbison",
           19
          ],
          [
           "Harry Boyes",
           21
          ],
          [
           "Justin Devenny",
           19
          ],
          [
           "Val Adedokun",
           20
          ],
          [
           "Carlos Alcaraz",
           20
          ],
          [
           "Abdukodir Khusanov",
           19
          ],
          [
           "Nicolas Jackson",
           21
          ],
          [
           "David Datro Fofana",
           20
          ],
          [
           "Bobby Thomas",
           22
          ],
          [
           "André",
           21
          ],
          [
           "Mathys Tel",
           18
          ],
          [
           "Ryan Finnigan",
           19
          ],
          [
           "Danilo",
           22
          ],
          [
           "Alejandro Garnacho",
           18
          ],
          [
           "Jack Wells-Morrison",
           19
          ],
          [
           "Luke Harris",
           18
          ],
          [
           "Kobbie Mainoo",
           17
          ],
          [
           "Alfie Pond",
           19
          ],
          [
           "Dango Ouattara",
           21
          ],
          [
           "Michael Kayode",
           18
          ],
          [
           "Maxime Estève",
           20
          ],
          [
           "Bénie Traoré",
           20
          ],
          [
           "Jack Hinchy",
           20
          ],
          [
           "Alex Scott",
           19
          ],
          [
           "Ashley Phillips",
           17
          ],
          [
           "Kaden Rodney",
           19
          ],
          [
           "Nasser Djiga",
           20
          ],
          [
           "Issahaku Fatawu",
           19
          ],
          [
           "Lucas Bergvall",
           17
          ],
          [
           "Bradley Ibrahim",
           19
          ],
          [
           "Mason Burstow",
           20
          ],
          [
           "Ryan Trevitt",
           20
          ],
          [
           "Seán Grehan",
           19
          ],
          [
           "Josh Feeney",
           18
          ],
          [
           "Amario Cozier-Duberry",
           18
          ],
          [
           "Mateus Fernandes",
           18
          ],
          [
           "Oliver Scarles",
           18
          ],
          [
           "Archie Gray",
           17
          ],
          [
           "Leny Yoro",
           17
          ],
          [
           "Zach Abbott",
           17
          ],
          [
           "Mark O'Mahony",
           18
          ],
          [
           "Joe Taylor",
           20
          ],
          [
           "Carlos Baleba",
           19
          ],
          [
           "Facundo Buonanotte",
           18
          ],
          [
           "Matai Akinmboni",
           16
          ],
          [
           "Diego Gómez",
           20
          ],
          [
           "Julio Soler",
           18
          ],
          [
           "Yankuba Minteh",
           18
          ],
          [
           "Ryan Oné",
           16
          ],
          [
           "Enso González",
           18
          ],
          [
           "Bastian Schweinsteiger",
           38
          ],
          [
           "Robert Huth",
           38
          ],
          [
           "Jonathan Walters",
           39
          ],
          [
           "Wayne Rooney",
           37
          ],
          [
           "Darren Fletcher",
           39
          ],
          [
           "Peter Whittingham",
           38
          ],
          [
           "Glen Johnson",
           38
          ],
          [
           "Dean Marney",
           39
          ],
          [
           "Stewart Downing",
           38
          ],
          [
           "Liam Ridgewell",
           38
          ],
          [
           "David Fox",
           39
          ],
          [
           "Adam Federici",
           38
          ],
          [
           "Christian Fuchs",
           37
          ],
          [
           "Per Mertesacker",
           38
          ],
          [
           "Georgios Samaras",
           37
          ],
          [
           "Alan Hutton",
           38
          ],
          [
           "Almen Abdi",
           36
          ],
          [
           "Richard Chaplow",
           38
          ],
          [
           "Michael Dawson",
           39
          ],
          [
           "Wes Morgan",
           39
          ],
          [
           "Paul Gallagher",
           38
          ],
          [
           "Mike Williamson",
           39
          ],
          [
           "Stephen Kelly",
           39
          ],
          [
           "Michael Turner",
           39
          ],
          [
           "Alexander Tettey",
           36
          ],
          [
           "James Collins",
           39
          ],
          [
           "Darren Bent",
           39
          ],
          [
           "Lewis Price",
           39
          ],
          [
           "Lee Camp",
           38
          ],
          [
           "Tom Huddlestone",
           36
          ],
          [
           "Leighton Baines",
           38
          ],
          [
           "Simon Francis",
           38
          ],
          [
           "Grant Leadbitter",
           37
          ],
          [
           "Wayne Routledge",
           38
          ],
          [
           "Ben Watson",
           37
          ],
          [
           "Aaron Lennon",
           36
          ],
          [
           "Keiren Westwood",
           38
          ],
          [
           "Liam Rosenior",
           38
          ],
          [
           "Elliott Ward",
           38
          ],
          [
           "Matt Jarvis",
           36
          ],
          [
           "Jamie Mackie",
           37
          ],
          [
           "Alex Baptiste",
           37
          ],
          [
           "Danny Guthrie",
           36
          ],
          [
           "Steven Taylor",
           37
          ],
          [
           "Jean Beausejour",
           38
          ],
          [
           "Marouane Chamakh",
           39
          ],
          [
           "Mousa Dembélé",
           35
          ],
          [
           "Goran Popov",
           38
          ],
          [
           "Pablo Zabaleta",
           38
          ],
          [
           "Leroy Lita",
           38
          ],
          [
           "Brett Holman",
           38
          ],
          [
           "Anders Lindegaard",
           39
          ],
          [
           "David Jones",
           38
          ],
          [
           "Paul McShane",
           37
          ],
          [
           "Jonas Olsson",
           39
          ],
          [
           "Elsad Zverotic",
           36
          ],
          [
           "Nikica Jelavic",
           38
          ],
          [
           "Michel Vorm",
           39
          ],
          [
           "Younès Kaboul",
           37
          ],
          [
           "Gary Cahill",
           37
          ],
          [
           "James Morrison",
           37
          ],
          [
           "Martin Cranie",
           36
          ],
          [
           "Kenwyne Jones",
           38
          ],
          [
           "Mile Jedinak",
           38
          ],
          [
           "Peter Ramage",
           39
          ],
          [
           "Nedum Onuoha",
           36
          ],
          [
           "Sol Bamba",
           38
          ],
          [
           "Jesús Gámez",
           37
          ],
          [
           "Danny Graham",
           37
          ],
          [
           "Andrew Taylor",
           36
          ],
          [
           "Ross Turnbull",
           38
          ],
          [
           "Dwight Tiendalli",
           38
          ],
          [
           "Patrick McCarthy",
           39
          ],
          [
           "Andrew Surman",
           36
          ],
          [
           "Marc Wilson",
           36
          ],
          [
           "Danny Fox",
           37
          ],
          [
           "Geoff Cameron",
           38
          ],
          [
           "Sebastian Larsson",
           38
          ],
          [
           "Mark Noble",
           36
          ],
          [
           "Antonio Valencia",
           37
          ],
          [
           "Ryan Taylor",
           38
          ],
          [
           "David Nugent",
           38
          ],
          [
           "Joe Ledley",
           36
          ],
          [
           "Matthew Connolly",
           35
          ],
          [
           "Joey O'Brien",
           37
          ],
          [
           "Stephen Ward",
           37
          ],
          [
           "Roland Lamah",
           35
          ],
          [
           "Kevin Doyle",
           39
          ],
          [
           "Daniel Pudil",
           37
          ],
          [
           "Chris Brunt",
           38
          ],
          [
           "Branislav Ivanovic",
           39
          ],
          [
           "Billy Jones",
           35
          ],
          [
           "Marc Pugh",
           35
          ],
          [
           "Nathan Dyer",
           35
          ],
          [
           "Tommy Elphick",
           35
          ],
          [
           "Craig Gardner",
           36
          ],
          [
           "Danny Simpson",
           36
          ],
          [
           "Winston Reid",
           34
          ],
          [
           "Camilo Zúñiga",
           37
          ],
          [
           "Jordi Gómez",
           37
          ],
          [
           "Rob Elliot",
           37
          ],
          [
           "Jonathan Parr",
           34
          ],
          [
           "Jay Tabb",
           39
          ],
          [
           "Darron Gibson",
           35
          ],
          [
           "Kieran Gibbs",
           33
          ],
          [
           "George Boyd",
           37
          ],
          [
           "Glenn Murray",
           39
          ],
          [
           "Ryan Shawcross",
           35
          ],
          [
           "Modibo Maïga",
           35
          ],
          [
           "Mark Bunn",
           38
          ],
          [
           "Dale Stephens",
           34
          ],
          [
           "Fabian Delph",
           33
          ],
          [
           "Ignacio Scocco",
           37
          ],
          [
           "Stephen Henderson",
           34
          ],
          [
           "Ramires",
           36
          ],
          [
           "André Santos",
           39
          ],
          [
           "Leonardo Ulloa",
           36
          ],
          [
           "Florin Gardos",
           34
          ],
          [
           "Wilson Palacios",
           39
          ],
          [
           "Yannick Sagbo",
           35
          ],
          [
           "Charlie Daniels",
           36
          ],
          [
           "Kagisho Dikgacoi",
           38
          ],
          [
           "Timm Klose",
           35
          ],
          [
           "Ahmed Elmohamady",
           35
          ],
          [
           "Rene Gilmartin",
           35
          ],
          [
           "Anthony Pilkington",
           35
          ],
          [
           "Ashley Williams",
           38
          ],
          [
           "Neil Taylor",
           34
          ],
          [
           "Mohamed Diamé",
           35
          ],
          [
           "Luciano Becchio",
           39
          ],
          [
           "Brek Shea",
           33
          ],
          [
           "Miguel Britos",
           37
          ],
          [
           "Dean Moxey",
           37
          ],
          [
           "Bongani Khumalo",
           36
          ],
          [
           "Alejandro Faurlín",
           36
          ],
          [
           "Ryan Shotton",
           34
          ],
          [
           "Lee Tomlin",
           34
          ],
          [
           "Steve Morison",
           39
          ],
          [
           "Gedo",
           38
          ],
          [
           "Ikechi Anya",
           35
          ],
          [
           "Csaba Somogyi",
           37
          ],
          [
           "Ricky Holmes",
           36
          ],
          [
           "Essaïd Belkalem",
           34
          ]
         ],
         "hovertemplate": "predicted_value=%{x}<br>market_value_in_million_eur=%{y}<br>name=%{customdata[0]}<br>age=%{customdata[1]}<extra></extra>",
         "legendgroup": "",
         "marker": {
          "color": "#636efa",
          "symbol": "circle"
         },
         "mode": "markers",
         "name": "",
         "showlegend": false,
         "type": "scattergl",
         "x": [
          -0.24522045254707336,
          1.28639554977417,
          0.5996142625808716,
          -0.07136199623346329,
          23.380769729614258,
          -0.5735337138175964,
          -0.2213207632303238,
          -0.24522045254707336,
          1.6550977230072021,
          -1.1233370304107666,
          -0.23758283257484436,
          -0.23578333854675293,
          32.55422592163086,
          5.455918312072754,
          -0.14547832310199738,
          -0.14547832310199738,
          0.9471614360809326,
          -0.23578333854675293,
          2.978017807006836,
          1.1622447967529297,
          -0.07324958592653275,
          -1.3210954666137695,
          -0.33310988545417786,
          1.2365165948867798,
          0.3115771412849426,
          1.289323329925537,
          0.4036816358566284,
          0.499872088432312,
          0.3762180507183075,
          -0.2213207632303238,
          0.2870897948741913,
          0.4809558391571045,
          -0.16166697442531586,
          -0.1472044438123703,
          0.4036816358566284,
          0.4036816358566284,
          0.11704296618700027,
          -0.07136199623346329,
          -0.14547832310199738,
          -0.33310988545417786,
          0.5996142625808716,
          0.15985889732837677,
          -0.33310988545417786,
          2.6379642486572266,
          2.1500396728515625,
          -0.1180044561624527,
          1.2246925830841064,
          0.5721505880355835,
          -0.07136199623346329,
          -0.16166697442531586,
          3.143906831741333,
          -0.00671506067737937,
          -0.07136199623346329,
          -0.14547832310199738,
          0.29035550355911255,
          1.77805757522583,
          0.3115771412849426,
          -0.07136199623346329,
          0.29035550355911255,
          -0.16166697442531586,
          2.5387120246887207,
          0.4293425679206848,
          0.5996142625808716,
          0.14451684057712555,
          0.15985889732837677,
          0.06775438785552979,
          0.15985889732837677,
          0.13239532709121704,
          -0.14547832310199738,
          0.15985889732837677,
          -0.07136199623346329,
          1.314984679222107,
          0.7252818942070007,
          2.581275463104248,
          -0.14547832310199738,
          0.11704296618700027,
          1.1622447967529297,
          0.3513093888759613,
          0.06775438785552979,
          0.11704296618700027,
          -0.14547832310199738,
          0.4921092391014099,
          0.26146629452705383,
          0.041200485080480576,
          2.071072578430176,
          1.289323329925537,
          4.204213619232178,
          1.2618598937988281,
          16.32539939880371,
          -0.13419310748577118,
          0.40041592717170715,
          0.5996142625808716,
          38.46353530883789,
          0.1779969483613968,
          0.08957939594984055,
          1.1227596998214722,
          0.4351515471935272,
          1.314984679222107,
          4.848006725311279,
          1.6414580345153809,
          19.450881958007812,
          2.1209158897399902,
          0.5996142625808716,
          0.5996142625808716,
          -0.07136199623346329,
          0.3115771412849426,
          0.06867436319589615,
          -0.125909224152565,
          -0.37029018998146057,
          0.4036816358566284,
          -0.14547832310199738,
          0.5996142625808716,
          15.573451042175293,
          0.2554532289505005,
          1.9598749876022339,
          0.2628919184207916,
          0.15985889732837677,
          0.9423284530639648,
          0.2257249802350998,
          1.314984679222107,
          0.5996142625808716,
          1.3243027925491333,
          0.15985889732837677,
          0.9972658157348633,
          2.0203914642333984,
          0.5721505880355835,
          0.19192369282245636,
          -0.00671506067737937,
          2.1225759983062744,
          0.08957939594984055,
          -0.33310988545417786,
          0.8776874542236328,
          0.4311555027961731,
          0.3160165846347809,
          0.5996142625808716,
          0.29035550355911255,
          0.4520666301250458,
          2.800391674041748,
          0.29035550355911255,
          3.4549944400787354,
          -0.42341485619544983,
          0.5141748189926147,
          0.5996142625808716,
          -0.07136199623346329,
          -0.42341485619544983,
          2.6708099842071533,
          1.2604341506958008,
          -0.23726297914981842,
          2.6403920650482178,
          0.29035550355911255,
          13.966861724853516,
          -0.33310988545417786,
          -0.14547832310199738,
          9.091109275817871,
          0.5996142625808716,
          -0.09702002257108688,
          0.18552012741565704,
          1.289323329925537,
          0.660568118095398,
          0.5707250237464905,
          2.715183973312378,
          0.8529859781265259,
          17.44878578186035,
          3.701641798019409,
          -0.33310988545417786,
          2.238245725631714,
          1.289323329925537,
          3.3190481662750244,
          5.2171311378479,
          1.6213327646255493,
          2.3861663341522217,
          15.494128227233887,
          0.9697920083999634,
          -0.33310988545417786,
          3.4982457160949707,
          2.6344103813171387,
          0.5721505880355835,
          0.9697920083999634,
          1.9598749876022339,
          1.8601325750350952,
          0.4036816358566284,
          15.494128227233887,
          -0.00671506067737937,
          -0.33310988545417786,
          0.4921092391014099,
          0.13239532709121704,
          15.561561584472656,
          0.42876574397087097,
          0.11704296618700027,
          1.851954698562622,
          14.286925315856934,
          2.538449287414551,
          1.0307461023330688,
          0.8511335849761963,
          1.169156551361084,
          -0.4762091338634491,
          0.5996142625808716,
          5.688760757446289,
          -1.323214054107666,
          0.11704296618700027,
          0.2870897948741913,
          -1.3850849866867065,
          80.87516021728516,
          0.9954533576965332,
          1.231810450553894,
          -0.14547832310199738,
          -0.007068098057061434,
          2.0579352378845215,
          0.29035550355911255,
          -0.33310988545417786,
          1.2246925830841064,
          -0.21589939296245575,
          53.770389556884766,
          0.19192369282245636,
          1.6761744022369385,
          2.7126705646514893,
          1.851954698562622,
          2.1500396728515625,
          22.32195281982422,
          0.29035550355911255,
          2.1225759983062744,
          0.2554532289505005,
          1.0359340906143188,
          0.5197563171386719,
          1.3342565298080444,
          14.729239463806152,
          2.1500396728515625,
          1.3502774238586426,
          9.854570388793945,
          2.02082896232605,
          1.1683295965194702,
          0.9697920083999634,
          32.6849365234375,
          0.5075096487998962,
          8.295180320739746,
          0.06775438785552979,
          -0.19469954073429108,
          35.05387878417969,
          5.285248756408691,
          8.262540817260742,
          0.792442262172699,
          1.1082024574279785,
          0.5622033476829529,
          0.7636857628822327,
          10.168426513671875,
          0.45442667603492737,
          0.04139026626944542,
          0.2950034737586975,
          0.5075096487998962,
          8.159181594848633,
          -1.2212855815887451,
          2.2121105194091797,
          2.6708099842071533,
          5.828675746917725,
          23.94823455810547,
          0.29035550355911255,
          -0.23578333854675293,
          4.6016526222229,
          0.5707250237464905,
          0.29035550355911255,
          -0.45230406522750854,
          -0.49565455317497253,
          1.3213882446289062,
          2.2121105194091797,
          15.67364501953125,
          0.7380247116088867,
          -0.09702002257108688,
          3.6741678714752197,
          0.3404196798801422,
          2.8364062309265137,
          -0.3841046392917633,
          7.828390598297119,
          -0.07136199623346329,
          -0.45230406522750854,
          0.31010735034942627,
          1.2604341506958008,
          0.4137003421783447,
          0.9409027695655823,
          5.795632362365723,
          2.8263370990753174,
          -1.246674656867981,
          1.2604341506958008,
          0.5829806923866272,
          3.272758960723877,
          0.5971454381942749,
          0.7380247116088867,
          0.5996142625808716,
          -0.6808173060417175,
          0.4036816358566284,
          3.9519455432891846,
          0.041200485080480576,
          0.5707250237464905,
          14.236145973205566,
          0.5996142625808716,
          14.014416694641113,
          0.5963861346244812,
          5.078666687011719,
          0.5707250237464905,
          0.36768025159835815,
          6.94917631149292,
          0.42876574397087097,
          -1.196451187133789,
          11.383622169494629,
          2.0454115867614746,
          23.60517692565918,
          8.411423683166504,
          7.909738540649414,
          14.992238998413086,
          6.0032758712768555,
          0.4786204397678375,
          -0.19055618345737457,
          0.45442667603492737,
          0.29035550355911255,
          0.5753116011619568,
          0.7228993773460388,
          3.6853275299072266,
          20.693830490112305,
          4.712023735046387,
          2.2127108573913574,
          2.9239511489868164,
          0.5143730640411377,
          14.977685928344727,
          0.4036816358566284,
          16.536462783813477,
          4.321212291717529,
          0.42876574397087097,
          0.2982691824436188,
          8.354536056518555,
          25.151063919067383,
          10.009847640991211,
          -0.21693097054958344,
          7.596721172332764,
          14.83068561553955,
          0.2663033902645111,
          2.743086338043213,
          54.10856628417969,
          0.7649784684181213,
          3.701631784439087,
          8.033815383911133,
          9.234647750854492,
          2.923823833465576,
          0.7380247116088867,
          0.9272285103797913,
          -0.100251205265522,
          36.60199737548828,
          1.1049368381500244,
          2.4068734645843506,
          -0.1672256737947464,
          3.524181604385376,
          1.1383236646652222,
          14.407978057861328,
          4.507638454437256,
          -0.10213879495859146,
          -0.21111728250980377,
          16.31717872619629,
          0.7325457334518433,
          7.409189701080322,
          2.2127108573913574,
          3.5153496265411377,
          9.087296485900879,
          14.360541343688965,
          4.6070685386657715,
          9.2100248336792,
          9.883953094482422,
          89.13583374023438,
          3.2284903526306152,
          -0.26467257738113403,
          0.9667221903800964,
          5.130043983459473,
          1.2619779109954834,
          0.35488227009773254,
          0.5707250237464905,
          1.4002702236175537,
          29.123249053955078,
          10.177867889404297,
          0.7105608582496643,
          0.2826879322528839,
          -0.2502099573612213,
          0.3518832325935364,
          2.581275463104248,
          0.3404196798801422,
          10.12134075164795,
          1.4277336597442627,
          -0.007068098057061434,
          -0.19469954073429108,
          5.971619129180908,
          -0.3619990944862366,
          48.59895324707031,
          1.763946533203125,
          5.335719108581543,
          0.792442262172699,
          1.4533950090408325,
          1.361720085144043,
          2.229053497314453,
          1.0018569231033325,
          0.22798965871334076,
          36.9320182800293,
          -0.007068098057061434,
          0.5395146012306213,
          1.1017011404037476,
          23.858165740966797,
          8.310921669006348,
          0.8776874542236328,
          16.783018112182617,
          4.456120491027832,
          1.0984355211257935,
          1.4002702236175537,
          33.90559387207031,
          0.7105608582496643,
          26.201797485351562,
          1.2714595794677734,
          0.3194279372692108,
          30.033918380737305,
          3.6741678714752197,
          0.5122182369232178,
          0.3592231273651123,
          1.931383728981018,
          30.752513885498047,
          0.5420917868614197,
          11.844326972961426,
          0.5437710881233215,
          0.23428180813789368,
          36.50957489013672,
          4.360380172729492,
          5.335719108581543,
          0.28936320543289185,
          2.916792392730713,
          10.20481014251709,
          13.198870658874512,
          0.27554863691329956,
          1.20928955078125,
          0.3114538788795471,
          0.35660845041275024,
          6.367889404296875,
          16.77071762084961,
          6.6443681716918945,
          23.55436134338379,
          4.989416122436523,
          0.47712287306785583,
          8.542593955993652,
          0.3265434503555298,
          0.8783044219017029,
          12.3698091506958,
          9.168213844299316,
          16.073898315429688,
          9.12236213684082,
          29.061134338378906,
          2.8267383575439453,
          3.8135643005371094,
          -0.007068098057061434,
          1.7914098501205444,
          0.3404196798801422,
          6.9310712814331055,
          0.3935442268848419,
          0.3245868682861328,
          3.6120972633361816,
          0.5452933311462402,
          3.6795814037323,
          3.1974375247955322,
          0.47712287306785583,
          6.874352931976318,
          2.051429271697998,
          0.8119223117828369,
          3.204895496368408,
          4.712023735046387,
          0.5882911682128906,
          8.476046562194824,
          64.3357925415039,
          27.798372268676758,
          19.580093383789062,
          3.099533796310425,
          -0.14698614180088043,
          13.250516891479492,
          8.26572322845459,
          4.588550090789795,
          5.822483539581299,
          0.6091387271881104,
          2.4354605674743652,
          0.3245868682861328,
          0.6769541501998901,
          1.1677438020706177,
          7.921896934509277,
          0.06011676415801048,
          3.3066399097442627,
          13.697868347167969,
          0.5962881445884705,
          3.664942979812622,
          1.6579571962356567,
          11.076997756958008,
          0.31077635288238525,
          16.67286491394043,
          3.362701416015625,
          1.7318973541259766,
          0.7178134918212891,
          0.8483096361160278,
          6.546741485595703,
          0.6369642019271851,
          0.35660845041275024,
          1.2714595794677734,
          0.11798225343227386,
          30.249059677124023,
          37.47115707397461,
          37.580196380615234,
          54.1220703125,
          12.272640228271484,
          10.621655464172363,
          0.49537163972854614,
          -0.5603679418563843,
          0.3520607352256775,
          -0.19469954073429108,
          9.126307487487793,
          3.791658878326416,
          0.6529381275177002,
          -0.471424400806427,
          31.95492935180664,
          17.359617233276367,
          2.048163414001465,
          3.991219997406006,
          0.27080559730529785,
          19.515424728393555,
          52.02821350097656,
          4.566671371459961,
          0.615757942199707,
          1.7914098501205444,
          37.89300537109375,
          -0.29444172978401184,
          2.048163414001465,
          0.8195122480392456,
          77.2440414428711,
          80.52680206298828,
          3.1051533222198486,
          1.1592915058135986,
          0.48854902386665344,
          0.22680138051509857,
          4.704342365264893,
          18.93653106689453,
          0.23623839020729065,
          0.21516288816928864,
          0.7766963243484497,
          19.388540267944336,
          3.806957244873047,
          0.44886669516563416,
          -0.05355065315961838,
          0.8171358108520508,
          2.3561720848083496,
          3.8191328048706055,
          12.338885307312012,
          0.7649784684181213,
          0.775116503238678,
          1.4339122772216797,
          4.534125328063965,
          1.7914098501205444,
          10.39081859588623,
          15.057814598083496,
          3.201629638671875,
          49.12139129638672,
          2.1487512588500977,
          10.437200546264648,
          16.01671028137207,
          0.21824254095554352,
          15.96480655670166,
          23.162921905517578,
          0.8977344632148743,
          30.2835693359375,
          3.4252982139587402,
          2.576387405395508,
          10.1198148727417,
          22.60188865661621,
          1.3584544658660889,
          1.1657872200012207,
          4.716139316558838,
          0.8195122480392456,
          22.92165756225586,
          0.5844104290008545,
          1.7237508296966553,
          0.3245868682861328,
          62.54524230957031,
          1.4064384698867798,
          0.37935709953308105,
          19.30651092529297,
          2.383880376815796,
          3.7739527225494385,
          0.3925592303276062,
          33.61101531982422,
          19.159576416015625,
          51.734256744384766,
          30.454147338867188,
          2.441059112548828,
          0.5022590756416321,
          4.890466213226318,
          25.056095123291016,
          2.3521697521209717,
          23.12855339050293,
          0.5626330375671387,
          14.032999038696289,
          7.6898980140686035,
          0.45719441771507263,
          2.224095344543457,
          0.3321249485015869,
          6.4059648513793945,
          0.7625318169593811,
          15.133749961853027,
          1.1657872200012207,
          0.6136309504508972,
          10.84322738647461,
          17.295482635498047,
          13.753273010253906,
          0.0599651075899601,
          56.218563079833984,
          2.7400400638580322,
          17.139951705932617,
          0.6509815454483032,
          2.32869815826416,
          0.16155461966991425,
          16.50637435913086,
          23.916990280151367,
          0.619014322757721,
          1.1289111375808716,
          38.72329330444336,
          0.8004005551338196,
          35.00762176513672,
          28.011428833007812,
          0.33862021565437317,
          0.6782779097557068,
          0.3267417550086975,
          15.759758949279785,
          2.2127108573913574,
          4.236390113830566,
          0.859008252620697,
          17.48142433166504,
          0.4238698184490204,
          1.36367666721344,
          24.695764541625977,
          1.4277336597442627,
          1.020431637763977,
          15.156174659729004,
          19.457752227783203,
          12.371503829956055,
          2.268688917160034,
          0.2584797143936157,
          7.297928810119629,
          0.3614383339881897,
          49.16971969604492,
          3.0716867446899414,
          19.910688400268555,
          19.490705490112305,
          39.089393615722656,
          9.382576942443848,
          10.398612976074219,
          5.673079013824463,
          0.6136309504508972,
          0.8194580674171448,
          33.895206451416016,
          1.464046597480774,
          35.96748733520508,
          3.22019362449646,
          0.8195122480392456,
          1.5492749214172363,
          2.867260217666626,
          67.65106964111328,
          1.5366096496582031,
          3.247657299041748,
          0.36741775274276733,
          6.261602401733398,
          9.298924446105957,
          18.6727294921875,
          0.9555985331535339,
          1.1936957836151123,
          1.4683849811553955,
          6.380582809448242,
          71.71410369873047,
          0.8448520302772522,
          0.4372212290763855,
          0.8771305680274963,
          0.2674976587295532,
          60.71390151977539,
          35.43593978881836,
          54.60603332519531,
          2.544576406478882,
          0.2947045564651489,
          0.7729617357254028,
          19.350950241088867,
          11.107268333435059,
          6.744560241699219,
          0.619014322757721,
          0.38622647523880005,
          3.5473339557647705,
          5.9206037521362305,
          3.2260360717773438,
          52.65909957885742,
          6.304295539855957,
          26.657567977905273,
          67.81953430175781,
          0.6344819664955139,
          20.66761589050293,
          1.6470407247543335,
          18.328046798706055,
          29.264787673950195,
          18.945781707763672,
          20.725008010864258,
          20.90814781188965,
          46.27678680419922,
          17.16815185546875,
          1.361720085144043,
          0.8599517345428467,
          0.9753483533859253,
          17.37041473388672,
          53.7215576171875,
          4.335236549377441,
          0.40499845147132874,
          18.193679809570312,
          0.3041415810585022,
          0.8171358108520508,
          -0.36094483733177185,
          -0.07172315567731857,
          12.253411293029785,
          20.548091888427734,
          7.513427734375,
          12.8551607131958,
          22.35051918029785,
          20.918127059936523,
          6.514900207519531,
          61.29838562011719,
          0.3518832325935364,
          20.52431297302246,
          59.65586471557617,
          4.102421283721924,
          0.8194580674171448,
          7.1575212478637695,
          6.261602401733398,
          0.9908913373947144,
          24.862302780151367,
          21.229005813598633,
          0.8448520302772522,
          1.4295302629470825,
          17.29374122619629,
          68.78936004638672,
          27.572622299194336,
          6.3563432693481445,
          0.6585197448730469,
          0.23623839020729065,
          13.594091415405273,
          21.613677978515625,
          0.9272754788398743,
          3.35127592086792,
          14.305832862854004,
          1.6643178462982178,
          55.99189376831055,
          17.054475784301758,
          17.572580337524414,
          58.23183822631836,
          1.4064384698867798,
          19.728349685668945,
          12.031070709228516,
          1.0035077333450317,
          45.81199264526367,
          4.890466213226318,
          0.9205881953239441,
          0.4957522749900818,
          0.9452897310256958,
          26.85907745361328,
          40.61712646484375,
          19.554229736328125,
          38.542388916015625,
          21.68132209777832,
          0.7043523192405701,
          88.21824645996094,
          1.7193193435668945,
          3.833695888519287,
          96.03473663330078,
          0.9700915217399597,
          32.10060501098633,
          51.66584396362305,
          1.6643178462982178,
          20.10237693786621,
          1.6643178462982178,
          0.6623433232307434,
          0.7636160254478455,
          9.921236038208008,
          28.580455780029297,
          2.7045750617980957,
          1.7766156196594238,
          9.475604057312012,
          43.77015686035156,
          -0.010788895189762115,
          12.272640228271484,
          15.988682746887207,
          1.090739130973816,
          7.803663730621338,
          53.0071907043457,
          4.933228015899658,
          9.698582649230957,
          0.6893296837806702,
          5.684382915496826,
          0.5771109461784363,
          5.489308834075928,
          4.2001872062683105,
          0.09969060122966766,
          2.268688917160034,
          18.960262298583984,
          2.0302023887634277,
          0.6916165351867676,
          2.337381362915039,
          1.7724441289901733,
          1.6064536571502686,
          44.854671478271484,
          13.451193809509277,
          1.976630687713623,
          0.565889298915863,
          2.608501434326172,
          30.119335174560547,
          2.5662989616394043,
          48.711021423339844,
          0.5764142274856567,
          31.083110809326172,
          0.8634191155433655,
          0.8035176992416382,
          19.087615966796875,
          7.197422981262207,
          27.94418716430664,
          1.6464359760284424,
          63.87879943847656,
          0.6310529112815857,
          1.5294387340545654,
          0.9452897310256958,
          24.286191940307617,
          0.6512272953987122,
          1.6118040084838867,
          0.4275818467140198,
          40.652828216552734,
          0.6893296837806702,
          37.02424621582031,
          2.476856231689453,
          7.131412506103516,
          50.00656509399414,
          3.310289144515991,
          74.88008880615234,
          5.711134433746338,
          22.247079849243164,
          4.867066383361816,
          12.322196006774902,
          18.594955444335938,
          5.1577887535095215,
          4.165745735168457,
          19.90224838256836,
          4.2894287109375,
          3.3113741874694824,
          0.42938125133514404,
          1.1156879663467407,
          1.038316249847412,
          7.728581428527832,
          4.3285908699035645,
          123.3624267578125,
          22.3764705657959,
          3.625220775604248,
          29.500347137451172,
          31.129810333251953,
          17.511289596557617,
          0.3894795775413513,
          0.7118843793869019,
          12.315325736999512,
          21.168588638305664,
          26.710500717163086,
          23.834012985229492,
          22.049299240112305,
          4.427152156829834,
          1.5401047468185425,
          2.1810824871063232,
          18.30656623840332,
          4.683959007263184,
          0.30319803953170776,
          18.10285186767578,
          139.2458953857422,
          3.109369993209839,
          1.0963175296783447,
          1.147674322128296,
          15.284292221069336,
          35.92265701293945,
          1.552037239074707,
          0.21516288816928864,
          10.75816535949707,
          3.420198678970337,
          0.9753483533859253,
          5.434988975524902,
          28.42650032043457,
          0.6248526573181152,
          6.056332588195801,
          3.835968494415283,
          17.97917366027832,
          27.859079360961914,
          0.7388707399368286,
          1.8524471521377563,
          14.330080032348633,
          4.0885090827941895,
          0.9423754215240479,
          2.526397228240967,
          0.7361778616905212,
          2.3702569007873535,
          34.53569793701172,
          77.45497131347656,
          0.5205051302909851,
          0.25875744223594666,
          5.111299514770508,
          0.5962881445884705,
          1.1620371341705322,
          28.6718692779541,
          3.4627525806427,
          2.3966007232666016,
          1.6425517797470093,
          6.316603660583496,
          22.89383888244629,
          24.065542221069336,
          36.13540267944336,
          12.578038215637207,
          3.5666542053222656,
          9.479633331298828,
          22.526994705200195,
          3.844805955886841,
          2.5662989616394043,
          34.17662811279297,
          0.7118843793869019,
          10.771466255187988,
          3.053494691848755,
          14.763086318969727,
          9.98166275024414,
          30.054691314697266,
          0.8194580674171448,
          1.662796974182129,
          0.3518832325935364,
          1.5082865953445435,
          1.060686469078064,
          0.36930519342422485,
          5.448703765869141,
          13.49375057220459,
          35.222110748291016,
          1.1833772659301758,
          0.8113934397697449,
          0.7118843793869019,
          8.299086570739746,
          34.870208740234375,
          10.532147407531738,
          3.0184168815612793,
          11.766907691955566,
          5.173145294189453,
          10.78703784942627,
          3.5418334007263184,
          16.466449737548828,
          2.113694906234741,
          15.997651100158691,
          1.1574815511703491,
          5.377142906188965,
          0.6395686268806458,
          0.04792410135269165,
          22.95507049560547,
          59.210693359375,
          10.921748161315918,
          0.9214703440666199,
          0.517798900604248,
          4.1795220375061035,
          7.475651741027832,
          47.759002685546875,
          37.80876541137695,
          5.120869159698486,
          0.2550644874572754,
          18.041221618652344,
          35.03460693359375,
          39.91582107543945,
          23.627513885498047,
          -0.2837929427623749,
          40.21559524536133,
          31.011812210083008,
          4.852222919464111,
          10.981587409973145,
          2.497446060180664,
          1.0615408420562744,
          9.403502464294434,
          18.481891632080078,
          30.83580207824707,
          0.427354633808136,
          0.7118843793869019,
          1.9481500387191772,
          0.20003679394721985,
          37.039710998535156,
          0.7080432772636414,
          3.244391441345215,
          1.0204130411148071,
          3.8182520866394043,
          0.9383625984191895,
          8.621363639831543,
          9.921236038208008,
          0.6911290287971497,
          43.10543441772461,
          1.100588083267212,
          0.7849512100219727,
          15.339536666870117,
          0.5517679452896118,
          0.7154382467269897,
          1.1043567657470703,
          0.8580359816551208,
          8.026999473571777,
          4.57448148727417,
          10.13326358795166,
          0.7343785166740417,
          28.28514289855957,
          7.3681230545043945,
          22.761112213134766,
          1.2277168035507202,
          1.6795443296432495,
          4.675272464752197,
          2.1935625076293945,
          1.232326865196228,
          2.113502264022827,
          4.579545974731445,
          6.536065578460693,
          32.776180267333984,
          29.118467330932617,
          1.3469067811965942,
          1.23111891746521,
          0.7839195728302002,
          19.092227935791016,
          0.5485464334487915,
          4.458186149597168,
          4.819397449493408,
          14.44945240020752,
          10.749911308288574,
          1.1517938375473022,
          2.7547905445098877,
          2.476856231689453,
          0.8245956301689148,
          3.9094467163085938,
          1.2048530578613281,
          14.371528625488281,
          0.6136309504508972,
          1.2462269067764282,
          0.5962881445884705,
          1.2348532676696777,
          2.4017910957336426,
          17.43247413635254,
          14.795350074768066,
          7.153300762176514,
          40.70536804199219,
          42.842201232910156,
          0.9905372858047485,
          0.7264429330825806,
          26.31334114074707,
          12.065211296081543,
          0.4626474380493164,
          1.013842225074768,
          1.1043567657470703,
          0.6641426682472229,
          0.9905372858047485,
          4.690371990203857,
          1.1043567657470703,
          6.551022052764893,
          4.265203475952148,
          4.071042060852051,
          0.899515688419342,
          1.804146409034729,
          1.219952940940857,
          9.30101490020752,
          4.54512357711792,
          20.231609344482422,
          0.7839195728302002,
          3.35127592086792,
          1.4587454795837402,
          22.71585464477539,
          15.973284721374512,
          0.3518832325935364,
          18.22124671936035,
          0.702660083770752,
          0.654918372631073,
          -0.2685650587081909,
          19.213764190673828,
          8.138405799865723,
          20.14227867126465,
          0.6395686268806458,
          2.1350769996643066,
          14.720598220825195,
          20.25181007385254,
          49.822689056396484,
          5.438516139984131,
          1.3964478969573975,
          1.5133823156356812,
          1.804146409034729,
          5.984923839569092,
          1.0007710456848145,
          29.935100555419922,
          0.447066068649292,
          4.657591342926025,
          0.5337265133857727,
          18.966754913330078,
          9.055245399475098,
          1.0143080949783325,
          19.352834701538086,
          5.272009372711182,
          0.7839195728302002,
          0.5962881445884705,
          4.042759418487549,
          0.8499447703361511,
          0.4535791873931885,
          5.60068416595459,
          2.565227508544922,
          32.163185119628906,
          0.899515688419342,
          4.460503578186035,
          0.702660083770752,
          3.8015286922454834,
          0.7571669816970825,
          4.363955497741699,
          2.265235662460327,
          26.93316078186035,
          7.633716106414795,
          24.670419692993164,
          20.25638771057129,
          0.37252533435821533,
          0.8953878879547119,
          7.627678394317627,
          21.718181610107422,
          10.549384117126465,
          0.6641426682472229,
          0.6641426682472229,
          2.098310947418213,
          1.8025010824203491,
          1.8680284023284912,
          2.3786585330963135,
          4.016756057739258,
          0.3366854190826416,
          0.7168080806732178,
          24.62366485595703,
          7.237166881561279,
          6.659671783447266,
          20.538846969604492,
          2.162403106689453,
          1.4264004230499268,
          2.0716660022735596,
          2.106107234954834,
          0.7118843793869019,
          1.072129726409912,
          21.06574821472168,
          1.6987320184707642,
          0.8976863622665405,
          12.323233604431152,
          0.6127722859382629,
          1.7092061042785645,
          1.4492673873901367,
          35.48912048339844,
          19.83904266357422,
          1.0464409589767456,
          0.8749417066574097,
          4.075099945068359,
          10.065860748291016,
          2.875257968902588,
          1.3193351030349731,
          0.001777284312993288,
          9.924985885620117,
          0.899515688419342,
          0.8499447703361511,
          2.714026689529419,
          2.132401466369629,
          1.0892568826675415,
          1.9101746082305908,
          10.254778861999512,
          0.6623133420944214,
          1.3182761669158936,
          1.0375142097473145,
          4.434256076812744,
          4.0885090827941895,
          19.816001892089844,
          1.1176958084106445,
          0.6623133420944214,
          2.247565507888794,
          4.826521396636963,
          1.0947661399841309,
          0.7507309913635254,
          0.6623133420944214,
          19.312623977661133,
          1.0924384593963623,
          2.027702808380127,
          4.720354080200195,
          5.190437316894531,
          0.7035723328590393,
          1.0815683603286743,
          18.053638458251953,
          1.1125173568725586,
          0.6865113973617554,
          1.3185055255889893,
          3.474395751953125,
          6.409978866577148,
          0.5452933311462402,
          4.421557426452637,
          11.85086727142334,
          4.0641584396362305,
          7.454936981201172,
          0.6547057032585144,
          0.8467238545417786,
          0.5727444887161255,
          0.5140239596366882,
          47.21853256225586,
          0.5047996640205383,
          0.8425498008728027,
          0.5962881445884705,
          5.830258846282959,
          27.18976593017578,
          14.197328567504883,
          10.470450401306152,
          1.9101746082305908,
          0.365129292011261,
          1.2610974311828613,
          1.1214699745178223,
          4.636702537536621,
          3.9756197929382324,
          4.495550632476807,
          3.8879103660583496,
          1.4096333980560303,
          3.1009480953216553,
          0.8425498008728027,
          0.9355742335319519,
          0.6693810820579529,
          0.7421296834945679,
          4.099396705627441,
          0.8976863622665405,
          15.080768585205078,
          0.6531190276145935,
          3.650545358657837,
          6.34080171585083,
          1.7419813871383667,
          10.478593826293945,
          1.8608155250549316,
          0.6623133420944214,
          5.42414665222168,
          1.4170283079147339,
          5.002005100250244,
          4.266371250152588,
          0.8976863622665405,
          0.7495246529579163,
          0.4578568935394287,
          1.9175695180892944,
          19.83904266357422,
          0.6831730604171753,
          5.503515243530273,
          2.047895669937134,
          4.318856239318848,
          2.27388072013855,
          0.8675467371940613,
          1.2831652164459229,
          1.0393136739730835,
          0.7100550532341003,
          1.9746192693710327,
          3.8943469524383545,
          2.5820305347442627,
          19.191917419433594,
          0.5690192580223083,
          2.6639983654022217,
          0.737528920173645,
          14.208307266235352,
          8.467950820922852,
          2.048769950866699,
          2.3438496589660645,
          0.7154382467269897,
          1.3791059255599976,
          11.409281730651855,
          15.960289001464844,
          9.112711906433105,
          7.388029098510742,
          3.5320818424224854,
          3.673473834991455,
          20.601139068603516,
          2.3463246822357178,
          0.6786053776741028,
          0.5073979496955872,
          0.4310605525970459,
          12.060528755187988,
          2.3862295150756836,
          15.039341926574707,
          5.012703895568848,
          0.546747088432312,
          8.70814323425293,
          3.922719717025757,
          0.7100550532341003,
          24.532548904418945,
          9.433478355407715,
          1.0319187641143799,
          1.3259811401367188,
          2.8205766677856445,
          0.6784616112709045,
          3.1785528659820557,
          0.4310605525970459,
          5.793901443481445,
          2.6376986503601074,
          0.6623133420944214,
          3.6836466789245605,
          5.007772922515869,
          0.8700236678123474,
          1.5486232042312622,
          1.5412282943725586,
          3.3802809715270996,
          0.7780724167823792,
          0.8873996734619141,
          0.6127722859382629,
          0.42374569177627563,
          1.0850435495376587,
          2.0555636882781982,
          1.5412282943725586,
          0.7989820241928101,
          1.7795932292938232,
          1.3998750448226929,
          0.8407503366470337,
          0.48060160875320435,
          0.6369703412055969,
          1.6657931804656982,
          2.338514804840088,
          1.3501790761947632,
          1.3333760499954224,
          0.5047996640205383,
          1.3998750448226929,
          0.7153322100639343,
          2.140521287918091,
          0.8628602027893066,
          1.233038067817688,
          0.4491923749446869,
          1.352150797843933,
          0.4491923749446869,
          0.3365321159362793,
          0.8628602027893066,
          0.3365321159362793,
          -0.1564365029335022,
          0.03119492158293724,
          -0.20743130147457123,
          -0.1564365029335022,
          0.3365321159362793,
          0.4491923749446869,
          -0.20743130147457123,
          0.2937162518501282,
          0.16995826363563538,
          -0.20743130147457123,
          -0.1564365029335022,
          0.17085310816764832,
          -0.1564365029335022,
          -0.1564365029335022,
          -0.20743130147457123,
          0.03119492158293724,
          0.17085310816764832,
          0.16995826363563538,
          0.16995826363563538,
          -0.1564365029335022,
          -0.1564365029335022,
          0.03119492158293724,
          0.6669274568557739,
          0.3365321159362793,
          0.6669274568557739,
          0.03119492158293724,
          -0.1564365029335022,
          0.8628602027893066,
          -0.1564365029335022,
          0.16995826363563538,
          -0.20743130147457123,
          -0.1564365029335022,
          0.3365321159362793,
          0.03119492158293724,
          -0.1564365029335022,
          0.03119492158293724,
          0.03119492158293724,
          0.16995826363563538,
          0.4491923749446869,
          -0.20743130147457123,
          0.3365321159362793,
          -0.20743130147457123,
          -0.1564365029335022,
          0.03119492158293724,
          -0.1564365029335022,
          0.03119492158293724,
          -0.1564365029335022,
          -0.20743130147457123,
          -0.20743130147457123,
          0.3365321159362793,
          0.4491923749446869,
          0.2937162518501282,
          0.4491923749446869,
          -0.1564365029335022,
          -0.1564365029335022,
          0.4491923749446869,
          -0.20743130147457123,
          0.10531125962734222,
          0.03119492158293724,
          0.4491923749446869,
          0.16995826363563538,
          0.03119492158293724,
          -0.20743130147457123,
          -0.20743130147457123,
          -0.1564365029335022,
          0.6669274568557739,
          -0.20743130147457123,
          0.03119492158293724,
          -0.1564365029335022,
          0.3365321159362793,
          0.8628602027893066,
          1.1192190647125244,
          -0.20743130147457123,
          -0.1564365029335022,
          0.03119492158293724,
          0.10531125962734222,
          -0.20743130147457123,
          0.3365321159362793,
          -0.1564365029335022,
          -0.1564365029335022,
          0.16995826363563538,
          0.2937162518501282,
          0.4491923749446869,
          0.03119492158293724,
          0.3365321159362793,
          0.03119492158293724,
          0.03119492158293724,
          0.10531125962734222,
          0.17085310816764832,
          0.4491923749446869,
          -0.1564365029335022,
          0.03119492158293724,
          -0.1564365029335022,
          -0.1564365029335022,
          -0.20743130147457123,
          0.16995826363563538,
          0.8628602027893066,
          0.4491923749446869,
          0.17085310816764832,
          0.4491923749446869,
          0.03119492158293724,
          -0.1564365029335022,
          0.8628602027893066,
          1.5525692701339722,
          0.4491923749446869,
          0.10531125962734222,
          0.10531125962734222,
          -0.20743130147457123,
          -0.1564365029335022,
          0.10531125962734222,
          -0.1564365029335022,
          -0.1564365029335022,
          0.6669274568557739,
          0.10531125962734222,
          0.10531125962734222,
          1.1192190647125244,
          -0.20743130147457123,
          0.03119492158293724,
          0.6669274568557739,
          0.3365321159362793,
          0.3365321159362793,
          -0.20743130147457123,
          0.2937162518501282,
          0.6669274568557739,
          0.03119492158293724,
          0.03119492158293724,
          -0.20743130147457123,
          0.10531125962734222,
          0.4491923749446869,
          -0.1564365029335022,
          -0.20743130147457123,
          -0.1564365029335022,
          -0.20743130147457123,
          -0.1564365029335022,
          -0.1564365029335022
         ],
         "xaxis": "x",
         "y": [
          0.1,
          1.5,
          1,
          0.1,
          15,
          0.075,
          0.2,
          0.15,
          0.6,
          0.2,
          0.125,
          0.15,
          40,
          4,
          0.15,
          0.15,
          0.8,
          0.2,
          2,
          0.9,
          0.3,
          0.1,
          0.1,
          0.6,
          0.45,
          1,
          0.5,
          0.8,
          0.5,
          0.1,
          0.3,
          0.3,
          0.15,
          0.05,
          0.25,
          0.6,
          0.3,
          0.2,
          0.15,
          0.1,
          0.3,
          0.3,
          0.1,
          2.5,
          0.8,
          0.2,
          1,
          0.4,
          0.2,
          0.15,
          2,
          0.3,
          0.05,
          0.25,
          0.15,
          1.2,
          0.35,
          0.2,
          0.5,
          0.3,
          2,
          0.3,
          0.4,
          0.15,
          0.25,
          0.4,
          0.25,
          0.2,
          0.15,
          0.3,
          0.1,
          1,
          0.6,
          2.5,
          0.1,
          0.3,
          0.9,
          0.3,
          0.45,
          0.3,
          0.2,
          0.15,
          0.45,
          0.3,
          1.5,
          1,
          2.5,
          1,
          28,
          0.25,
          0.4,
          0.9,
          38,
          0.5,
          0.2,
          1.5,
          0.3,
          1.5,
          3,
          1,
          20,
          1,
          0.6,
          0.75,
          0.15,
          0.4,
          0.35,
          0.25,
          0.1,
          0.5,
          0.25,
          0.6,
          15,
          0.1,
          1,
          0.5,
          0.25,
          0.8,
          0.6,
          0.7,
          0.5,
          0.7,
          0.25,
          0.5,
          1.2,
          0.8,
          0.3,
          0.025,
          1.8,
          0.2,
          0.2,
          1,
          0.4,
          0.275,
          0.4,
          0.3,
          0.6,
          2,
          0.25,
          7,
          0.15,
          0.175,
          0.5,
          0.2,
          0.15,
          1.8,
          0.6,
          0.15,
          1,
          0.4,
          22,
          0.15,
          0.15,
          12,
          0.3,
          0.3,
          0.25,
          0.4,
          0.4,
          0.8,
          2,
          1,
          16,
          2,
          0.1,
          2,
          1.2,
          2.5,
          3,
          1.5,
          13,
          9,
          0.8,
          0.15,
          2.5,
          2.5,
          0.3,
          0.7,
          0.9,
          1.5,
          0.5,
          14,
          0.3,
          0.15,
          0.7,
          0.5,
          12,
          0.2,
          0.25,
          2,
          8,
          3.5,
          0.7,
          0.6,
          1.2,
          0.05,
          0.5,
          9,
          0.25,
          0.3,
          0.5,
          0.175,
          70,
          0.6,
          1.2,
          0.25,
          0.1,
          1.8,
          0.3,
          0.15,
          0.85,
          0.2,
          60,
          0.25,
          1,
          1.2,
          1.2,
          2,
          25,
          0.2,
          2.8,
          0.125,
          1.5,
          0.175,
          0.8,
          11,
          1.2,
          0.6,
          5,
          1.2,
          1.5,
          0.7,
          25,
          0.25,
          7,
          0.3,
          0.1,
          45,
          5,
          8,
          0.5,
          1,
          0.3,
          0.6,
          4,
          0.5,
          0.3,
          0.9,
          0.5,
          10,
          0.25,
          3,
          2.5,
          2.5,
          28,
          0.6,
          0.2,
          3,
          1,
          0.3,
          0.2,
          0.6,
          1.5,
          1.5,
          10,
          1,
          0.05,
          2,
          0.3,
          2.5,
          0.05,
          8,
          0.2,
          0.125,
          0.5,
          1.2,
          0.15,
          1,
          6,
          2,
          0.1,
          0.7,
          0.15,
          2,
          0.45,
          0.9,
          0.4,
          0.25,
          0.8,
          2,
          0.3,
          1,
          16,
          0.7,
          16,
          0.5,
          2.5,
          0.8,
          0.4,
          10,
          0.9,
          0.45,
          6,
          1.2,
          17,
          5,
          8,
          12,
          7,
          0.6,
          0.3,
          0.6,
          0.7,
          0.25,
          0.4,
          1.8,
          12,
          2,
          0.8,
          0.7,
          0.25,
          9.5,
          0.3,
          25,
          4.5,
          0.8,
          0.4,
          6,
          22,
          9,
          0.35,
          10,
          12,
          0.15,
          0.9,
          60,
          0.6,
          2.2,
          10,
          8,
          2,
          0.75,
          1.2,
          0.45,
          45,
          1.5,
          2,
          0.15,
          2.5,
          0.1,
          12,
          2.5,
          0.3,
          0.125,
          35,
          1,
          6.5,
          2,
          3.5,
          8,
          16,
          1.5,
          16,
          8,
          70,
          1.2,
          0.2,
          0.25,
          2,
          0.8,
          0.25,
          1.5,
          0.9,
          28,
          9,
          1,
          0.45,
          0.2,
          0.175,
          1.5,
          0.3,
          6,
          1,
          0.35,
          0.2,
          3.5,
          0.15,
          35,
          1.8,
          4.5,
          0.6,
          0.9,
          0.9,
          1.2,
          1,
          0.35,
          25,
          0.2,
          0.1,
          1.2,
          20,
          9,
          0.7,
          18,
          3.2,
          0.85,
          2,
          30,
          0.8,
          35,
          0.6,
          0.275,
          25,
          1.5,
          0.25,
          0.55,
          0.35,
          38,
          0.35,
          12,
          0.35,
          0.3,
          35,
          4,
          3.8,
          0.2,
          2.2,
          4.5,
          10,
          0.025,
          0.9,
          0.2,
          0.2,
          3,
          18,
          7,
          40,
          3,
          0.2,
          10,
          0.15,
          0.6,
          20,
          18,
          15,
          15,
          27,
          2.2,
          3.5,
          0.3,
          1.8,
          0.35,
          5,
          0.3,
          0.2,
          2.5,
          0.15,
          3.5,
          3,
          0.3,
          15,
          0.9,
          0.3,
          2.5,
          6,
          0.4,
          16,
          75,
          40,
          12,
          2,
          0.3,
          9,
          4,
          12,
          5,
          1,
          3,
          0.2,
          0.4,
          1,
          18,
          0.35,
          1.2,
          25,
          0.25,
          8,
          0.6,
          8,
          0.175,
          10,
          1,
          1.2,
          0.3,
          0.5,
          3.5,
          0.2,
          0.2,
          1.2,
          0.025,
          20,
          28,
          40,
          45,
          7,
          6,
          0.4,
          0.6,
          0.2,
          0.15,
          18,
          3.5,
          0.35,
          0.25,
          35,
          15,
          1.5,
          2.2,
          0.6,
          20,
          48,
          3.5,
          0.35,
          1.5,
          40,
          0.075,
          1.5,
          0.45,
          75,
          80,
          3.5,
          1.5,
          0.35,
          0.15,
          10,
          28,
          0.15,
          0.125,
          0.3,
          14,
          1.5,
          0.25,
          0.3,
          0.2,
          1,
          4,
          12,
          0.5,
          0.9,
          1.5,
          6,
          1,
          10,
          10,
          2,
          30,
          1.8,
          18,
          12,
          0.125,
          13,
          25,
          0.2,
          50,
          2.5,
          2.5,
          8,
          22,
          1.2,
          0.9,
          7,
          0.5,
          22,
          0.225,
          2,
          0.3,
          80,
          1.2,
          0.2,
          15,
          1.5,
          3,
          0.125,
          20,
          18,
          80,
          30,
          5,
          0.5,
          4.5,
          25,
          2.5,
          25,
          0.35,
          20,
          16,
          0.25,
          1.8,
          0.15,
          7,
          1.2,
          20,
          0.8,
          0.25,
          18,
          17,
          35,
          0.075,
          32,
          4,
          12,
          0.35,
          2,
          0.25,
          13,
          15,
          0.3,
          0.5,
          35,
          0.3,
          38,
          40,
          0.35,
          0.25,
          0.15,
          16,
          1.8,
          2.8,
          0.3,
          16,
          0.25,
          0.8,
          25,
          0.7,
          2,
          12,
          20,
          20,
          2,
          0.2,
          15,
          0.25,
          60,
          2.5,
          25,
          18,
          25,
          3,
          8,
          15,
          0.25,
          0.3,
          25,
          0.5,
          25,
          3.5,
          1.2,
          1.2,
          2.8,
          60,
          0.8,
          3,
          0.15,
          4.5,
          4.5,
          9,
          0.2,
          0.9,
          0.5,
          4,
          65,
          0.4,
          0.15,
          0.3,
          3.8,
          38,
          35,
          80,
          2,
          0.1,
          0.7,
          13,
          22,
          5,
          0.15,
          0.075,
          7,
          4.5,
          2,
          40,
          4,
          16,
          75,
          0.5,
          16,
          0.7,
          12,
          25,
          20,
          18,
          38,
          50,
          13,
          0.8,
          0.4,
          1,
          18,
          50,
          2.2,
          0.5,
          28,
          0.075,
          0.45,
          0.15,
          0.3,
          16,
          25,
          12,
          6,
          38,
          28,
          12,
          50,
          0.3,
          25,
          50,
          5,
          0.5,
          4.5,
          4.5,
          0.4,
          28,
          15,
          0.7,
          1,
          15,
          80,
          20,
          3,
          0.3,
          0.2,
          6,
          18,
          0.9,
          1.5,
          7,
          0.9,
          65,
          25,
          12,
          70,
          1.5,
          32,
          12,
          0.8,
          35,
          3.5,
          0.3,
          0.15,
          0.5,
          40,
          60,
          27,
          38,
          35,
          0.2,
          90,
          2.8,
          2,
          90,
          0.45,
          45,
          75,
          1.2,
          18,
          0.8,
          0.25,
          0.4,
          15,
          15,
          6,
          1.2,
          4,
          30,
          0.2,
          10,
          35,
          0.6,
          16,
          48,
          3.5,
          10,
          0.2,
          3,
          0.4,
          13,
          3,
          0.075,
          1.8,
          30,
          2.2,
          0.125,
          1.8,
          1,
          3.5,
          28,
          18,
          1.5,
          0.3,
          2,
          35,
          0.9,
          35,
          0.175,
          17,
          0.3,
          0.3,
          18,
          12,
          30,
          1.4,
          50,
          0.35,
          3.5,
          0.35,
          18,
          0.3,
          1,
          0.15,
          50,
          0.3,
          35,
          5,
          17,
          45,
          3.5,
          55,
          5,
          35,
          3,
          12,
          22,
          10,
          3.5,
          25,
          6,
          2,
          0.6,
          0.5,
          0.5,
          4,
          7,
          110,
          15,
          2.2,
          20,
          25,
          18,
          0.25,
          0.15,
          7,
          35,
          20,
          25,
          18,
          9,
          7,
          1.3,
          15,
          12,
          0.125,
          22,
          180,
          1.8,
          1.5,
          0.5,
          7,
          42,
          0.8,
          0.1,
          16,
          2.5,
          0.9,
          8,
          25,
          0.3,
          11,
          20,
          16,
          38,
          0.3,
          0.3,
          30,
          11,
          0.8,
          1.5,
          0.25,
          1.2,
          55,
          110,
          0.3,
          0.15,
          5,
          0.2,
          0.9,
          17,
          2.8,
          2.8,
          0.6,
          4,
          17,
          55,
          50,
          9,
          8,
          14,
          18,
          5,
          3.5,
          45,
          0.2,
          6,
          2.8,
          10,
          10,
          40,
          0.3,
          0.6,
          0.15,
          0.45,
          1.2,
          0.25,
          10,
          15,
          40,
          0.3,
          0.3,
          0.8,
          3.8,
          10,
          20,
          7,
          10,
          6,
          11,
          4,
          22,
          0.5,
          22,
          1,
          6,
          0.35,
          0.175,
          30,
          65,
          20,
          2.8,
          0.2,
          12,
          25,
          55,
          75,
          4,
          0.075,
          25,
          22,
          30,
          40,
          0.6,
          75,
          50,
          8,
          10,
          1.5,
          0.4,
          12,
          42,
          28,
          0.075,
          0.25,
          5,
          0.15,
          28,
          0.2,
          2,
          0.9,
          1,
          0.5,
          9,
          5,
          0.3,
          55,
          4,
          0.25,
          15,
          0.2,
          0.15,
          1.2,
          0.35,
          4.5,
          2,
          20,
          0.25,
          35,
          1.8,
          32,
          0.8,
          2,
          2.2,
          5,
          2,
          0.8,
          15,
          8,
          25,
          28,
          0.6,
          5,
          0.2,
          12,
          1,
          7,
          22,
          12,
          14,
          0.25,
          9,
          1.8,
          0.15,
          1.2,
          0.5,
          7,
          0.3,
          4,
          0.15,
          2.5,
          3,
          22,
          28,
          4,
          30,
          70,
          0.45,
          0.55,
          25,
          6,
          0.05,
          0.7,
          0.5,
          0.15,
          0.5,
          2.5,
          0.3,
          8,
          3.5,
          5,
          0.125,
          3,
          0.5,
          10,
          3,
          65,
          0.2,
          2,
          2.2,
          13,
          60,
          0.3,
          22,
          0.3,
          0.2,
          0.15,
          13,
          5,
          20,
          0.1,
          3,
          35,
          30,
          65,
          2.5,
          1.5,
          0.6,
          0.7,
          2,
          0.6,
          35,
          0.3,
          3.5,
          0.15,
          25,
          18,
          1,
          16,
          8,
          0.3,
          0.2,
          6,
          0.2,
          0.2,
          12,
          5,
          35,
          0.2,
          2.5,
          0.2,
          8,
          0.3,
          5,
          2.2,
          15,
          5,
          15,
          28,
          0.25,
          1.5,
          4,
          22,
          10,
          0.275,
          0.35,
          1.2,
          0.6,
          2.5,
          1,
          8,
          0.25,
          0.15,
          18,
          6,
          9,
          20,
          1.5,
          1,
          0.7,
          1.2,
          0.1,
          0.45,
          25,
          0.9,
          0.3,
          25,
          0.05,
          1,
          0.5,
          45,
          30,
          0.35,
          0.25,
          6,
          8,
          1.2,
          2,
          0.5,
          35,
          0.25,
          0.25,
          5,
          1,
          0.35,
          0.3,
          16,
          0.2,
          1,
          0.3,
          7,
          2.5,
          25,
          0.25,
          0.3,
          15,
          1.5,
          0.5,
          0.125,
          0.2,
          24,
          1.8,
          0.9,
          18,
          32,
          0.175,
          1,
          15,
          0.45,
          0.2,
          0.9,
          5,
          7,
          0.075,
          10,
          85,
          5,
          12,
          0.5,
          11,
          0.2,
          0.05,
          70,
          0.25,
          0.35,
          0.175,
          10,
          18,
          22,
          7,
          1.2,
          0.4,
          0.45,
          1,
          2,
          6,
          2.8,
          3,
          6,
          0.8,
          0.9,
          0.8,
          0.5,
          0.3,
          1.8,
          0.9,
          13,
          0.2,
          6,
          9,
          0.6,
          55,
          0.5,
          0.25,
          11,
          1.2,
          4,
          15,
          0.25,
          0.5,
          0.5,
          0.4,
          22,
          0.7,
          8,
          0.35,
          3,
          1,
          0.8,
          0.8,
          1.2,
          2.8,
          0.3,
          3,
          10,
          22,
          0.2,
          1.5,
          0.15,
          18,
          5,
          1,
          3,
          0.2,
          2,
          6,
          5,
          5,
          3.5,
          4,
          1,
          22,
          1,
          0.25,
          0.125,
          0.1,
          12,
          0.4,
          30,
          10,
          0.45,
          14,
          20,
          0.25,
          28,
          25,
          0.25,
          1,
          0.8,
          0.25,
          20,
          0.8,
          5,
          3.5,
          0.15,
          14,
          2,
          0.2,
          0.8,
          4,
          2,
          0.4,
          1.5,
          0.275,
          0.15,
          0.5,
          0.3,
          1.5,
          0.4,
          6,
          8,
          0.3,
          0.3,
          0.2,
          3,
          12,
          0.5,
          3,
          0.2,
          2,
          0.125,
          1.9,
          0.791015625,
          1.1865234375,
          0.474609375,
          1.265625,
          0.474609375,
          0.4449462890625,
          0.83056640625,
          0.3375,
          0.140625,
          0.158203125,
          0.0333709716796875,
          0.140625,
          0.375,
          0.59326171875,
          0.059326171875,
          0.31640625,
          0.2373046875,
          0.0296630859375,
          0.1125,
          0.28125,
          0.140625,
          0.0889892578125,
          0.0622924804687499,
          0.177978515625,
          0.28125,
          0.253125,
          0.2373046875,
          0.10546875,
          0.0843749999999999,
          0.1875,
          0.675,
          0.3375,
          0.675,
          0.1687499999999999,
          0.10546875,
          0.75,
          0.15,
          0.2373046875,
          0.0622924804687499,
          0.1265625,
          0.3375,
          0.16875,
          0.1125,
          0.1687499999999999,
          0.1687499999999999,
          0.2669677734375,
          0.5249999999999999,
          0.031640625,
          0.3375,
          0.04449462890625,
          0.1265625,
          0.1875,
          0.1107421874999999,
          0.16875,
          0.0791015625,
          0.028125,
          0.02109375,
          0.3375,
          0.59326171875,
          0.3,
          0.474609375,
          0.140625,
          0.13348388671875,
          0.474609375,
          0.048944091796875,
          0.221484375,
          0.1875,
          0.474609375,
          0.253125,
          0.158203125,
          0.0622924804687499,
          0.0177978515625,
          0.066741943359375,
          0.675,
          0.005625,
          0.1687499999999999,
          0.1124999999999999,
          0.375,
          0.75,
          1.0125000000000002,
          0.0622924804687499,
          0.1125,
          0.1687499999999999,
          0.2109375,
          0.0140625,
          0.3796875,
          0.1125,
          0.106787109375,
          0.253125,
          0.31640625,
          0.45,
          0.1687499999999999,
          0.421875,
          0.1968749999999999,
          0.1687499999999999,
          0.2109375,
          0.28125,
          0.4499999999999999,
          0.11865234375,
          0.1875,
          0.15,
          0.075,
          0.0533935546875,
          0.253125,
          0.75,
          0.50625,
          0.28125,
          0.45,
          0.1687499999999999,
          0.0791015625,
          0.75,
          1.35,
          0.45,
          0.225,
          0.2249999999999999,
          0.0355957031249999,
          0.1125,
          0.225,
          0.1001129150390625,
          0.1124999999999999,
          0.675,
          0.22247314453125,
          0.2249999999999999,
          1.0125000000000002,
          0.05625,
          0.1875,
          0.6328125,
          0.375,
          0.375,
          0.04449462890625,
          0.3,
          0.6328125,
          0.16875,
          0.1687499999999999,
          0.028125,
          0.225,
          0.5625,
          0.0791015625,
          0.06328125,
          0.1265625,
          0.0158203125,
          0.1107421874999999,
          0.1125
         ],
         "yaxis": "y"
        }
       ],
       "layout": {
        "legend": {
         "tracegroupgap": 0
        },
        "margin": {
         "t": 60
        },
        "template": {
         "data": {
          "bar": [
           {
            "error_x": {
             "color": "#2a3f5f"
            },
            "error_y": {
             "color": "#2a3f5f"
            },
            "marker": {
             "line": {
              "color": "#E5ECF6",
              "width": 0.5
             },
             "pattern": {
              "fillmode": "overlay",
              "size": 10,
              "solidity": 0.2
             }
            },
            "type": "bar"
           }
          ],
          "barpolar": [
           {
            "marker": {
             "line": {
              "color": "#E5ECF6",
              "width": 0.5
             },
             "pattern": {
              "fillmode": "overlay",
              "size": 10,
              "solidity": 0.2
             }
            },
            "type": "barpolar"
           }
          ],
          "carpet": [
           {
            "aaxis": {
             "endlinecolor": "#2a3f5f",
             "gridcolor": "white",
             "linecolor": "white",
             "minorgridcolor": "white",
             "startlinecolor": "#2a3f5f"
            },
            "baxis": {
             "endlinecolor": "#2a3f5f",
             "gridcolor": "white",
             "linecolor": "white",
             "minorgridcolor": "white",
             "startlinecolor": "#2a3f5f"
            },
            "type": "carpet"
           }
          ],
          "choropleth": [
           {
            "colorbar": {
             "outlinewidth": 0,
             "ticks": ""
            },
            "type": "choropleth"
           }
          ],
          "contour": [
           {
            "colorbar": {
             "outlinewidth": 0,
             "ticks": ""
            },
            "colorscale": [
             [
              0,
              "#0d0887"
             ],
             [
              0.1111111111111111,
              "#46039f"
             ],
             [
              0.2222222222222222,
              "#7201a8"
             ],
             [
              0.3333333333333333,
              "#9c179e"
             ],
             [
              0.4444444444444444,
              "#bd3786"
             ],
             [
              0.5555555555555556,
              "#d8576b"
             ],
             [
              0.6666666666666666,
              "#ed7953"
             ],
             [
              0.7777777777777778,
              "#fb9f3a"
             ],
             [
              0.8888888888888888,
              "#fdca26"
             ],
             [
              1,
              "#f0f921"
             ]
            ],
            "type": "contour"
           }
          ],
          "contourcarpet": [
           {
            "colorbar": {
             "outlinewidth": 0,
             "ticks": ""
            },
            "type": "contourcarpet"
           }
          ],
          "heatmap": [
           {
            "colorbar": {
             "outlinewidth": 0,
             "ticks": ""
            },
            "colorscale": [
             [
              0,
              "#0d0887"
             ],
             [
              0.1111111111111111,
              "#46039f"
             ],
             [
              0.2222222222222222,
              "#7201a8"
             ],
             [
              0.3333333333333333,
              "#9c179e"
             ],
             [
              0.4444444444444444,
              "#bd3786"
             ],
             [
              0.5555555555555556,
              "#d8576b"
             ],
             [
              0.6666666666666666,
              "#ed7953"
             ],
             [
              0.7777777777777778,
              "#fb9f3a"
             ],
             [
              0.8888888888888888,
              "#fdca26"
             ],
             [
              1,
              "#f0f921"
             ]
            ],
            "type": "heatmap"
           }
          ],
          "heatmapgl": [
           {
            "colorbar": {
             "outlinewidth": 0,
             "ticks": ""
            },
            "colorscale": [
             [
              0,
              "#0d0887"
             ],
             [
              0.1111111111111111,
              "#46039f"
             ],
             [
              0.2222222222222222,
              "#7201a8"
             ],
             [
              0.3333333333333333,
              "#9c179e"
             ],
             [
              0.4444444444444444,
              "#bd3786"
             ],
             [
              0.5555555555555556,
              "#d8576b"
             ],
             [
              0.6666666666666666,
              "#ed7953"
             ],
             [
              0.7777777777777778,
              "#fb9f3a"
             ],
             [
              0.8888888888888888,
              "#fdca26"
             ],
             [
              1,
              "#f0f921"
             ]
            ],
            "type": "heatmapgl"
           }
          ],
          "histogram": [
           {
            "marker": {
             "pattern": {
              "fillmode": "overlay",
              "size": 10,
              "solidity": 0.2
             }
            },
            "type": "histogram"
           }
          ],
          "histogram2d": [
           {
            "colorbar": {
             "outlinewidth": 0,
             "ticks": ""
            },
            "colorscale": [
             [
              0,
              "#0d0887"
             ],
             [
              0.1111111111111111,
              "#46039f"
             ],
             [
              0.2222222222222222,
              "#7201a8"
             ],
             [
              0.3333333333333333,
              "#9c179e"
             ],
             [
              0.4444444444444444,
              "#bd3786"
             ],
             [
              0.5555555555555556,
              "#d8576b"
             ],
             [
              0.6666666666666666,
              "#ed7953"
             ],
             [
              0.7777777777777778,
              "#fb9f3a"
             ],
             [
              0.8888888888888888,
              "#fdca26"
             ],
             [
              1,
              "#f0f921"
             ]
            ],
            "type": "histogram2d"
           }
          ],
          "histogram2dcontour": [
           {
            "colorbar": {
             "outlinewidth": 0,
             "ticks": ""
            },
            "colorscale": [
             [
              0,
              "#0d0887"
             ],
             [
              0.1111111111111111,
              "#46039f"
             ],
             [
              0.2222222222222222,
              "#7201a8"
             ],
             [
              0.3333333333333333,
              "#9c179e"
             ],
             [
              0.4444444444444444,
              "#bd3786"
             ],
             [
              0.5555555555555556,
              "#d8576b"
             ],
             [
              0.6666666666666666,
              "#ed7953"
             ],
             [
              0.7777777777777778,
              "#fb9f3a"
             ],
             [
              0.8888888888888888,
              "#fdca26"
             ],
             [
              1,
              "#f0f921"
             ]
            ],
            "type": "histogram2dcontour"
           }
          ],
          "mesh3d": [
           {
            "colorbar": {
             "outlinewidth": 0,
             "ticks": ""
            },
            "type": "mesh3d"
           }
          ],
          "parcoords": [
           {
            "line": {
             "colorbar": {
              "outlinewidth": 0,
              "ticks": ""
             }
            },
            "type": "parcoords"
           }
          ],
          "pie": [
           {
            "automargin": true,
            "type": "pie"
           }
          ],
          "scatter": [
           {
            "fillpattern": {
             "fillmode": "overlay",
             "size": 10,
             "solidity": 0.2
            },
            "type": "scatter"
           }
          ],
          "scatter3d": [
           {
            "line": {
             "colorbar": {
              "outlinewidth": 0,
              "ticks": ""
             }
            },
            "marker": {
             "colorbar": {
              "outlinewidth": 0,
              "ticks": ""
             }
            },
            "type": "scatter3d"
           }
          ],
          "scattercarpet": [
           {
            "marker": {
             "colorbar": {
              "outlinewidth": 0,
              "ticks": ""
             }
            },
            "type": "scattercarpet"
           }
          ],
          "scattergeo": [
           {
            "marker": {
             "colorbar": {
              "outlinewidth": 0,
              "ticks": ""
             }
            },
            "type": "scattergeo"
           }
          ],
          "scattergl": [
           {
            "marker": {
             "colorbar": {
              "outlinewidth": 0,
              "ticks": ""
             }
            },
            "type": "scattergl"
           }
          ],
          "scattermapbox": [
           {
            "marker": {
             "colorbar": {
              "outlinewidth": 0,
              "ticks": ""
             }
            },
            "type": "scattermapbox"
           }
          ],
          "scatterpolar": [
           {
            "marker": {
             "colorbar": {
              "outlinewidth": 0,
              "ticks": ""
             }
            },
            "type": "scatterpolar"
           }
          ],
          "scatterpolargl": [
           {
            "marker": {
             "colorbar": {
              "outlinewidth": 0,
              "ticks": ""
             }
            },
            "type": "scatterpolargl"
           }
          ],
          "scatterternary": [
           {
            "marker": {
             "colorbar": {
              "outlinewidth": 0,
              "ticks": ""
             }
            },
            "type": "scatterternary"
           }
          ],
          "surface": [
           {
            "colorbar": {
             "outlinewidth": 0,
             "ticks": ""
            },
            "colorscale": [
             [
              0,
              "#0d0887"
             ],
             [
              0.1111111111111111,
              "#46039f"
             ],
             [
              0.2222222222222222,
              "#7201a8"
             ],
             [
              0.3333333333333333,
              "#9c179e"
             ],
             [
              0.4444444444444444,
              "#bd3786"
             ],
             [
              0.5555555555555556,
              "#d8576b"
             ],
             [
              0.6666666666666666,
              "#ed7953"
             ],
             [
              0.7777777777777778,
              "#fb9f3a"
             ],
             [
              0.8888888888888888,
              "#fdca26"
             ],
             [
              1,
              "#f0f921"
             ]
            ],
            "type": "surface"
           }
          ],
          "table": [
           {
            "cells": {
             "fill": {
              "color": "#EBF0F8"
             },
             "line": {
              "color": "white"
             }
            },
            "header": {
             "fill": {
              "color": "#C8D4E3"
             },
             "line": {
              "color": "white"
             }
            },
            "type": "table"
           }
          ]
         },
         "layout": {
          "annotationdefaults": {
           "arrowcolor": "#2a3f5f",
           "arrowhead": 0,
           "arrowwidth": 1
          },
          "autotypenumbers": "strict",
          "coloraxis": {
           "colorbar": {
            "outlinewidth": 0,
            "ticks": ""
           }
          },
          "colorscale": {
           "diverging": [
            [
             0,
             "#8e0152"
            ],
            [
             0.1,
             "#c51b7d"
            ],
            [
             0.2,
             "#de77ae"
            ],
            [
             0.3,
             "#f1b6da"
            ],
            [
             0.4,
             "#fde0ef"
            ],
            [
             0.5,
             "#f7f7f7"
            ],
            [
             0.6,
             "#e6f5d0"
            ],
            [
             0.7,
             "#b8e186"
            ],
            [
             0.8,
             "#7fbc41"
            ],
            [
             0.9,
             "#4d9221"
            ],
            [
             1,
             "#276419"
            ]
           ],
           "sequential": [
            [
             0,
             "#0d0887"
            ],
            [
             0.1111111111111111,
             "#46039f"
            ],
            [
             0.2222222222222222,
             "#7201a8"
            ],
            [
             0.3333333333333333,
             "#9c179e"
            ],
            [
             0.4444444444444444,
             "#bd3786"
            ],
            [
             0.5555555555555556,
             "#d8576b"
            ],
            [
             0.6666666666666666,
             "#ed7953"
            ],
            [
             0.7777777777777778,
             "#fb9f3a"
            ],
            [
             0.8888888888888888,
             "#fdca26"
            ],
            [
             1,
             "#f0f921"
            ]
           ],
           "sequentialminus": [
            [
             0,
             "#0d0887"
            ],
            [
             0.1111111111111111,
             "#46039f"
            ],
            [
             0.2222222222222222,
             "#7201a8"
            ],
            [
             0.3333333333333333,
             "#9c179e"
            ],
            [
             0.4444444444444444,
             "#bd3786"
            ],
            [
             0.5555555555555556,
             "#d8576b"
            ],
            [
             0.6666666666666666,
             "#ed7953"
            ],
            [
             0.7777777777777778,
             "#fb9f3a"
            ],
            [
             0.8888888888888888,
             "#fdca26"
            ],
            [
             1,
             "#f0f921"
            ]
           ]
          },
          "colorway": [
           "#636efa",
           "#EF553B",
           "#00cc96",
           "#ab63fa",
           "#FFA15A",
           "#19d3f3",
           "#FF6692",
           "#B6E880",
           "#FF97FF",
           "#FECB52"
          ],
          "font": {
           "color": "#2a3f5f"
          },
          "geo": {
           "bgcolor": "white",
           "lakecolor": "white",
           "landcolor": "#E5ECF6",
           "showlakes": true,
           "showland": true,
           "subunitcolor": "white"
          },
          "hoverlabel": {
           "align": "left"
          },
          "hovermode": "closest",
          "mapbox": {
           "style": "light"
          },
          "paper_bgcolor": "white",
          "plot_bgcolor": "#E5ECF6",
          "polar": {
           "angularaxis": {
            "gridcolor": "white",
            "linecolor": "white",
            "ticks": ""
           },
           "bgcolor": "#E5ECF6",
           "radialaxis": {
            "gridcolor": "white",
            "linecolor": "white",
            "ticks": ""
           }
          },
          "scene": {
           "xaxis": {
            "backgroundcolor": "#E5ECF6",
            "gridcolor": "white",
            "gridwidth": 2,
            "linecolor": "white",
            "showbackground": true,
            "ticks": "",
            "zerolinecolor": "white"
           },
           "yaxis": {
            "backgroundcolor": "#E5ECF6",
            "gridcolor": "white",
            "gridwidth": 2,
            "linecolor": "white",
            "showbackground": true,
            "ticks": "",
            "zerolinecolor": "white"
           },
           "zaxis": {
            "backgroundcolor": "#E5ECF6",
            "gridcolor": "white",
            "gridwidth": 2,
            "linecolor": "white",
            "showbackground": true,
            "ticks": "",
            "zerolinecolor": "white"
           }
          },
          "shapedefaults": {
           "line": {
            "color": "#2a3f5f"
           }
          },
          "ternary": {
           "aaxis": {
            "gridcolor": "white",
            "linecolor": "white",
            "ticks": ""
           },
           "baxis": {
            "gridcolor": "white",
            "linecolor": "white",
            "ticks": ""
           },
           "bgcolor": "#E5ECF6",
           "caxis": {
            "gridcolor": "white",
            "linecolor": "white",
            "ticks": ""
           }
          },
          "title": {
           "x": 0.05
          },
          "xaxis": {
           "automargin": true,
           "gridcolor": "white",
           "linecolor": "white",
           "ticks": "",
           "title": {
            "standoff": 15
           },
           "zerolinecolor": "white",
           "zerolinewidth": 2
          },
          "yaxis": {
           "automargin": true,
           "gridcolor": "white",
           "linecolor": "white",
           "ticks": "",
           "title": {
            "standoff": 15
           },
           "zerolinecolor": "white",
           "zerolinewidth": 2
          }
         }
        },
        "xaxis": {
         "anchor": "y",
         "domain": [
          0,
          1
         ],
         "title": {
          "text": "predicted_value"
         }
        },
        "yaxis": {
         "anchor": "x",
         "domain": [
          0,
          1
         ],
         "title": {
          "text": "market_value_in_million_eur"
         }
        }
       }
      }
     },
     "metadata": {},
     "output_type": "display_data"
    },
    {
     "data": {
      "image/png": "[encoded data removed]",
      "text/plain": [
       "<Figure size 800x950 with 2 Axes>"
      ]
     },
     "metadata": {},
     "output_type": "display_data"
    },
    {
     "data": {
      "image/png": "[encoded data removed]",
      "text/plain": [
       "<Figure size 800x650 with 3 Axes>"
      ]
     },
     "metadata": {},
     "output_type": "display_data"
    },
    {
     "data": {
      "image/png": "[encoded data removed]",
      "text/plain": [
       "<Figure size 800x600 with 1 Axes>"
      ]
     },
     "metadata": {},
     "output_type": "display_data"
    }
   ],
   "source": [
    "forecast_df, regressor, y_test, top_features = predict_future_values(    pdf_train, \n",
    "    pdf_test, [2023, 2024, 2025, 2026, 2027, 2028, 2029, 2030, 2031, 2032, 2033, 2034, 2035, 2036, 2037, 2038], features)"
   ]
  },
  {
   "cell_type": "code",
   "execution_count": 9,
   "id": "6e2a600c",
   "metadata": {},
   "outputs": [],
   "source": [
    "# Merge with actual market values for evaluation\n",
    "\n",
    "merged = forecast_df.merge(pdf_test[[\"player_id\", \"name\"]], on=[\"player_id\"], how=\"left\")\n",
    "end = time.time()\n",
    "diff = end - start"
   ]
  },
  {
   "cell_type": "code",
   "execution_count": 11,
   "id": "ea2e158f",
   "metadata": {},
   "outputs": [],
   "source": [
    "players = [418560, 357662, 565822, 859951, 148455, 274839, 542580, 568177, 197838, 225693, 8198, 93176]"
   ]
  },
  {
   "cell_type": "code",
   "execution_count": null,
   "id": "d2390674",
   "metadata": {},
   "outputs": [],
   "source": [
    "#TODO - Renconsider the hard coding\n",
    "merged_capped = iterative_cap_predicted_value(merged, age_limit=32, scale_limit=0.8)\n"
   ]
  },
  {
   "cell_type": "code",
   "execution_count": 15,
   "id": "0b9692dd",
   "metadata": {},
   "outputs": [],
   "source": [
    "agg_age = merged_capped.groupby([\"age\", \"was_capped\"])[[\"player_id\"]].count().reset_index()"
   ]
  },
  {
   "cell_type": "code",
   "execution_count": 16,
   "id": "7a11acab",
   "metadata": {},
   "outputs": [
    {
     "data": {
      "application/vnd.plotly.v1+json": {
       "config": {
        "plotlyServerURL": "https://plot.ly"
       },
       "data": [
        {
         "hovertemplate": "was_capped=False<br>age=%{x}<br>player_id=%{y}<extra></extra>",
         "legendgroup": "False",
         "line": {
          "color": "#636efa",
          "dash": "solid"
         },
         "marker": {
          "symbol": "circle"
         },
         "mode": "lines",
         "name": "False",
         "orientation": "v",
         "showlegend": true,
         "type": "scatter",
         "x": [
          16,
          17,
          18,
          19,
          20,
          21,
          22,
          23,
          24,
          25,
          26,
          27,
          28,
          29,
          30,
          31,
          32,
          33,
          34,
          35,
          36,
          37,
          38,
          39,
          40,
          41,
          42,
          43,
          44,
          45,
          46,
          47,
          48,
          49,
          50,
          51,
          52,
          53,
          54,
          55,
          56
         ],
         "xaxis": "x",
         "y": [
          2,
          8,
          32,
          77,
          155,
          251,
          345,
          434,
          527,
          625,
          714,
          789,
          857,
          927,
          1021,
          1086,
          994,
          942,
          918,
          913,
          870,
          838,
          821,
          784,
          725,
          673,
          614,
          561,
          517,
          467,
          392,
          343,
          298,
          251,
          204,
          157,
          120,
          79,
          32,
          3,
          2
         ],
         "yaxis": "y"
        },
        {
         "hovertemplate": "was_capped=True<br>age=%{x}<br>player_id=%{y}<extra></extra>",
         "legendgroup": "True",
         "line": {
          "color": "#EF553B",
          "dash": "solid"
         },
         "marker": {
          "symbol": "circle"
         },
         "mode": "lines",
         "name": "True",
         "orientation": "v",
         "showlegend": true,
         "type": "scatter",
         "x": [
          32,
          33,
          34,
          35,
          36,
          37,
          38,
          39,
          40,
          41,
          42,
          43,
          44,
          45,
          46,
          47,
          48,
          49,
          50,
          51,
          52,
          53
         ],
         "xaxis": "x",
         "y": [
          146,
          249,
          299,
          310,
          312,
          290,
          262,
          239,
          206,
          162,
          132,
          110,
          86,
          66,
          47,
          31,
          20,
          10,
          7,
          3,
          3,
          2
         ],
         "yaxis": "y"
        }
       ],
       "layout": {
        "legend": {
         "title": {
          "text": "was_capped"
         },
         "tracegroupgap": 0
        },
        "template": {
         "data": {
          "bar": [
           {
            "error_x": {
             "color": "#2a3f5f"
            },
            "error_y": {
             "color": "#2a3f5f"
            },
            "marker": {
             "line": {
              "color": "#E5ECF6",
              "width": 0.5
             },
             "pattern": {
              "fillmode": "overlay",
              "size": 10,
              "solidity": 0.2
             }
            },
            "type": "bar"
           }
          ],
          "barpolar": [
           {
            "marker": {
             "line": {
              "color": "#E5ECF6",
              "width": 0.5
             },
             "pattern": {
              "fillmode": "overlay",
              "size": 10,
              "solidity": 0.2
             }
            },
            "type": "barpolar"
           }
          ],
          "carpet": [
           {
            "aaxis": {
             "endlinecolor": "#2a3f5f",
             "gridcolor": "white",
             "linecolor": "white",
             "minorgridcolor": "white",
             "startlinecolor": "#2a3f5f"
            },
            "baxis": {
             "endlinecolor": "#2a3f5f",
             "gridcolor": "white",
             "linecolor": "white",
             "minorgridcolor": "white",
             "startlinecolor": "#2a3f5f"
            },
            "type": "carpet"
           }
          ],
          "choropleth": [
           {
            "colorbar": {
             "outlinewidth": 0,
             "ticks": ""
            },
            "type": "choropleth"
           }
          ],
          "contour": [
           {
            "colorbar": {
             "outlinewidth": 0,
             "ticks": ""
            },
            "colorscale": [
             [
              0,
              "#0d0887"
             ],
             [
              0.1111111111111111,
              "#46039f"
             ],
             [
              0.2222222222222222,
              "#7201a8"
             ],
             [
              0.3333333333333333,
              "#9c179e"
             ],
             [
              0.4444444444444444,
              "#bd3786"
             ],
             [
              0.5555555555555556,
              "#d8576b"
             ],
             [
              0.6666666666666666,
              "#ed7953"
             ],
             [
              0.7777777777777778,
              "#fb9f3a"
             ],
             [
              0.8888888888888888,
              "#fdca26"
             ],
             [
              1,
              "#f0f921"
             ]
            ],
            "type": "contour"
           }
          ],
          "contourcarpet": [
           {
            "colorbar": {
             "outlinewidth": 0,
             "ticks": ""
            },
            "type": "contourcarpet"
           }
          ],
          "heatmap": [
           {
            "colorbar": {
             "outlinewidth": 0,
             "ticks": ""
            },
            "colorscale": [
             [
              0,
              "#0d0887"
             ],
             [
              0.1111111111111111,
              "#46039f"
             ],
             [
              0.2222222222222222,
              "#7201a8"
             ],
             [
              0.3333333333333333,
              "#9c179e"
             ],
             [
              0.4444444444444444,
              "#bd3786"
             ],
             [
              0.5555555555555556,
              "#d8576b"
             ],
             [
              0.6666666666666666,
              "#ed7953"
             ],
             [
              0.7777777777777778,
              "#fb9f3a"
             ],
             [
              0.8888888888888888,
              "#fdca26"
             ],
             [
              1,
              "#f0f921"
             ]
            ],
            "type": "heatmap"
           }
          ],
          "heatmapgl": [
           {
            "colorbar": {
             "outlinewidth": 0,
             "ticks": ""
            },
            "colorscale": [
             [
              0,
              "#0d0887"
             ],
             [
              0.1111111111111111,
              "#46039f"
             ],
             [
              0.2222222222222222,
              "#7201a8"
             ],
             [
              0.3333333333333333,
              "#9c179e"
             ],
             [
              0.4444444444444444,
              "#bd3786"
             ],
             [
              0.5555555555555556,
              "#d8576b"
             ],
             [
              0.6666666666666666,
              "#ed7953"
             ],
             [
              0.7777777777777778,
              "#fb9f3a"
             ],
             [
              0.8888888888888888,
              "#fdca26"
             ],
             [
              1,
              "#f0f921"
             ]
            ],
            "type": "heatmapgl"
           }
          ],
          "histogram": [
           {
            "marker": {
             "pattern": {
              "fillmode": "overlay",
              "size": 10,
              "solidity": 0.2
             }
            },
            "type": "histogram"
           }
          ],
          "histogram2d": [
           {
            "colorbar": {
             "outlinewidth": 0,
             "ticks": ""
            },
            "colorscale": [
             [
              0,
              "#0d0887"
             ],
             [
              0.1111111111111111,
              "#46039f"
             ],
             [
              0.2222222222222222,
              "#7201a8"
             ],
             [
              0.3333333333333333,
              "#9c179e"
             ],
             [
              0.4444444444444444,
              "#bd3786"
             ],
             [
              0.5555555555555556,
              "#d8576b"
             ],
             [
              0.6666666666666666,
              "#ed7953"
             ],
             [
              0.7777777777777778,
              "#fb9f3a"
             ],
             [
              0.8888888888888888,
              "#fdca26"
             ],
             [
              1,
              "#f0f921"
             ]
            ],
            "type": "histogram2d"
           }
          ],
          "histogram2dcontour": [
           {
            "colorbar": {
             "outlinewidth": 0,
             "ticks": ""
            },
            "colorscale": [
             [
              0,
              "#0d0887"
             ],
             [
              0.1111111111111111,
              "#46039f"
             ],
             [
              0.2222222222222222,
              "#7201a8"
             ],
             [
              0.3333333333333333,
              "#9c179e"
             ],
             [
              0.4444444444444444,
              "#bd3786"
             ],
             [
              0.5555555555555556,
              "#d8576b"
             ],
             [
              0.6666666666666666,
              "#ed7953"
             ],
             [
              0.7777777777777778,
              "#fb9f3a"
             ],
             [
              0.8888888888888888,
              "#fdca26"
             ],
             [
              1,
              "#f0f921"
             ]
            ],
            "type": "histogram2dcontour"
           }
          ],
          "mesh3d": [
           {
            "colorbar": {
             "outlinewidth": 0,
             "ticks": ""
            },
            "type": "mesh3d"
           }
          ],
          "parcoords": [
           {
            "line": {
             "colorbar": {
              "outlinewidth": 0,
              "ticks": ""
             }
            },
            "type": "parcoords"
           }
          ],
          "pie": [
           {
            "automargin": true,
            "type": "pie"
           }
          ],
          "scatter": [
           {
            "fillpattern": {
             "fillmode": "overlay",
             "size": 10,
             "solidity": 0.2
            },
            "type": "scatter"
           }
          ],
          "scatter3d": [
           {
            "line": {
             "colorbar": {
              "outlinewidth": 0,
              "ticks": ""
             }
            },
            "marker": {
             "colorbar": {
              "outlinewidth": 0,
              "ticks": ""
             }
            },
            "type": "scatter3d"
           }
          ],
          "scattercarpet": [
           {
            "marker": {
             "colorbar": {
              "outlinewidth": 0,
              "ticks": ""
             }
            },
            "type": "scattercarpet"
           }
          ],
          "scattergeo": [
           {
            "marker": {
             "colorbar": {
              "outlinewidth": 0,
              "ticks": ""
             }
            },
            "type": "scattergeo"
           }
          ],
          "scattergl": [
           {
            "marker": {
             "colorbar": {
              "outlinewidth": 0,
              "ticks": ""
             }
            },
            "type": "scattergl"
           }
          ],
          "scattermapbox": [
           {
            "marker": {
             "colorbar": {
              "outlinewidth": 0,
              "ticks": ""
             }
            },
            "type": "scattermapbox"
           }
          ],
          "scatterpolar": [
           {
            "marker": {
             "colorbar": {
              "outlinewidth": 0,
              "ticks": ""
             }
            },
            "type": "scatterpolar"
           }
          ],
          "scatterpolargl": [
           {
            "marker": {
             "colorbar": {
              "outlinewidth": 0,
              "ticks": ""
             }
            },
            "type": "scatterpolargl"
           }
          ],
          "scatterternary": [
           {
            "marker": {
             "colorbar": {
              "outlinewidth": 0,
              "ticks": ""
             }
            },
            "type": "scatterternary"
           }
          ],
          "surface": [
           {
            "colorbar": {
             "outlinewidth": 0,
             "ticks": ""
            },
            "colorscale": [
             [
              0,
              "#0d0887"
             ],
             [
              0.1111111111111111,
              "#46039f"
             ],
             [
              0.2222222222222222,
              "#7201a8"
             ],
             [
              0.3333333333333333,
              "#9c179e"
             ],
             [
              0.4444444444444444,
              "#bd3786"
             ],
             [
              0.5555555555555556,
              "#d8576b"
             ],
             [
              0.6666666666666666,
              "#ed7953"
             ],
             [
              0.7777777777777778,
              "#fb9f3a"
             ],
             [
              0.8888888888888888,
              "#fdca26"
             ],
             [
              1,
              "#f0f921"
             ]
            ],
            "type": "surface"
           }
          ],
          "table": [
           {
            "cells": {
             "fill": {
              "color": "#EBF0F8"
             },
             "line": {
              "color": "white"
             }
            },
            "header": {
             "fill": {
              "color": "#C8D4E3"
             },
             "line": {
              "color": "white"
             }
            },
            "type": "table"
           }
          ]
         },
         "layout": {
          "annotationdefaults": {
           "arrowcolor": "#2a3f5f",
           "arrowhead": 0,
           "arrowwidth": 1
          },
          "autotypenumbers": "strict",
          "coloraxis": {
           "colorbar": {
            "outlinewidth": 0,
            "ticks": ""
           }
          },
          "colorscale": {
           "diverging": [
            [
             0,
             "#8e0152"
            ],
            [
             0.1,
             "#c51b7d"
            ],
            [
             0.2,
             "#de77ae"
            ],
            [
             0.3,
             "#f1b6da"
            ],
            [
             0.4,
             "#fde0ef"
            ],
            [
             0.5,
             "#f7f7f7"
            ],
            [
             0.6,
             "#e6f5d0"
            ],
            [
             0.7,
             "#b8e186"
            ],
            [
             0.8,
             "#7fbc41"
            ],
            [
             0.9,
             "#4d9221"
            ],
            [
             1,
             "#276419"
            ]
           ],
           "sequential": [
            [
             0,
             "#0d0887"
            ],
            [
             0.1111111111111111,
             "#46039f"
            ],
            [
             0.2222222222222222,
             "#7201a8"
            ],
            [
             0.3333333333333333,
             "#9c179e"
            ],
            [
             0.4444444444444444,
             "#bd3786"
            ],
            [
             0.5555555555555556,
             "#d8576b"
            ],
            [
             0.6666666666666666,
             "#ed7953"
            ],
            [
             0.7777777777777778,
             "#fb9f3a"
            ],
            [
             0.8888888888888888,
             "#fdca26"
            ],
            [
             1,
             "#f0f921"
            ]
           ],
           "sequentialminus": [
            [
             0,
             "#0d0887"
            ],
            [
             0.1111111111111111,
             "#46039f"
            ],
            [
             0.2222222222222222,
             "#7201a8"
            ],
            [
             0.3333333333333333,
             "#9c179e"
            ],
            [
             0.4444444444444444,
             "#bd3786"
            ],
            [
             0.5555555555555556,
             "#d8576b"
            ],
            [
             0.6666666666666666,
             "#ed7953"
            ],
            [
             0.7777777777777778,
             "#fb9f3a"
            ],
            [
             0.8888888888888888,
             "#fdca26"
            ],
            [
             1,
             "#f0f921"
            ]
           ]
          },
          "colorway": [
           "#636efa",
           "#EF553B",
           "#00cc96",
           "#ab63fa",
           "#FFA15A",
           "#19d3f3",
           "#FF6692",
           "#B6E880",
           "#FF97FF",
           "#FECB52"
          ],
          "font": {
           "color": "#2a3f5f"
          },
          "geo": {
           "bgcolor": "white",
           "lakecolor": "white",
           "landcolor": "#E5ECF6",
           "showlakes": true,
           "showland": true,
           "subunitcolor": "white"
          },
          "hoverlabel": {
           "align": "left"
          },
          "hovermode": "closest",
          "mapbox": {
           "style": "light"
          },
          "paper_bgcolor": "white",
          "plot_bgcolor": "#E5ECF6",
          "polar": {
           "angularaxis": {
            "gridcolor": "white",
            "linecolor": "white",
            "ticks": ""
           },
           "bgcolor": "#E5ECF6",
           "radialaxis": {
            "gridcolor": "white",
            "linecolor": "white",
            "ticks": ""
           }
          },
          "scene": {
           "xaxis": {
            "backgroundcolor": "#E5ECF6",
            "gridcolor": "white",
            "gridwidth": 2,
            "linecolor": "white",
            "showbackground": true,
            "ticks": "",
            "zerolinecolor": "white"
           },
           "yaxis": {
            "backgroundcolor": "#E5ECF6",
            "gridcolor": "white",
            "gridwidth": 2,
            "linecolor": "white",
            "showbackground": true,
            "ticks": "",
            "zerolinecolor": "white"
           },
           "zaxis": {
            "backgroundcolor": "#E5ECF6",
            "gridcolor": "white",
            "gridwidth": 2,
            "linecolor": "white",
            "showbackground": true,
            "ticks": "",
            "zerolinecolor": "white"
           }
          },
          "shapedefaults": {
           "line": {
            "color": "#2a3f5f"
           }
          },
          "ternary": {
           "aaxis": {
            "gridcolor": "white",
            "linecolor": "white",
            "ticks": ""
           },
           "baxis": {
            "gridcolor": "white",
            "linecolor": "white",
            "ticks": ""
           },
           "bgcolor": "#E5ECF6",
           "caxis": {
            "gridcolor": "white",
            "linecolor": "white",
            "ticks": ""
           }
          },
          "title": {
           "x": 0.05
          },
          "xaxis": {
           "automargin": true,
           "gridcolor": "white",
           "linecolor": "white",
           "ticks": "",
           "title": {
            "standoff": 15
           },
           "zerolinecolor": "white",
           "zerolinewidth": 2
          },
          "yaxis": {
           "automargin": true,
           "gridcolor": "white",
           "linecolor": "white",
           "ticks": "",
           "title": {
            "standoff": 15
           },
           "zerolinecolor": "white",
           "zerolinewidth": 2
          }
         }
        },
        "title": {
         "text": "Capped vs Uncapped Predicted Values by Age"
        },
        "xaxis": {
         "anchor": "y",
         "domain": [
          0,
          1
         ],
         "title": {
          "text": "age"
         }
        },
        "yaxis": {
         "anchor": "x",
         "domain": [
          0,
          1
         ],
         "title": {
          "text": "player_id"
         }
        }
       }
      }
     },
     "metadata": {},
     "output_type": "display_data"
    }
   ],
   "source": [
    "px.line(agg_age, x=\"age\", y=\"player_id\", color=\"was_capped\", title=\"Capped vs Uncapped Predicted Values by Age\")"
   ]
  },
  {
   "cell_type": "code",
   "execution_count": 17,
   "id": "30988c92",
   "metadata": {},
   "outputs": [
    {
     "data": {
      "application/vnd.plotly.v1+json": {
       "config": {
        "plotlyServerURL": "https://plot.ly"
       },
       "data": [
        {
         "customdata": [
          [
           29
          ],
          [
           31
          ],
          [
           31
          ],
          [
           32
          ],
          [
           34
          ],
          [
           35
          ],
          [
           36
          ],
          [
           37
          ],
          [
           38
          ],
          [
           39
          ],
          [
           40
          ],
          [
           41
          ],
          [
           42
          ],
          [
           43
          ],
          [
           44
          ],
          [
           45
          ],
          [
           46
          ],
          [
           47
          ],
          [
           48
          ],
          [
           49
          ],
          [
           50
          ],
          [
           51
          ],
          [
           52
          ],
          [
           53
          ]
         ],
         "hovertemplate": "name=Cristiano Ronaldo<br>year=%{x}<br>predicted_value=%{y}<br>age=%{customdata[0]}<extra></extra>",
         "legendgroup": "Cristiano Ronaldo",
         "line": {
          "color": "#636efa",
          "dash": "solid"
         },
         "marker": {
          "symbol": "circle"
         },
         "mode": "lines",
         "name": "Cristiano Ronaldo",
         "orientation": "v",
         "showlegend": true,
         "type": "scatter",
         "x": [
          2015,
          2016,
          2017,
          2018,
          2019,
          2020,
          2021,
          2022,
          2023,
          2024,
          2025,
          2026,
          2027,
          2028,
          2029,
          2030,
          2031,
          2032,
          2033,
          2034,
          2035,
          2036,
          2037,
          2038
         ],
         "xaxis": "x",
         "y": [
          120,
          110,
          100,
          120,
          90,
          60,
          50,
          30,
          23.380769729614258,
          16.296106338500977,
          11.219571113586426,
          8.163840293884277,
          5.787491321563721,
          3.5846333503723145,
          2.709338903427124,
          2.1225759983062744,
          1.2618598937988281,
          0.8285095691680908,
          0.3762180507183075,
          -0.033283788710832596,
          -0.5977317094802856,
          -0.5977317094802856,
          -0.5977317094802856,
          -0.5977317094802856
         ],
         "yaxis": "y"
        },
        {
         "customdata": [
          [
           24
          ],
          [
           25
          ],
          [
           26
          ],
          [
           27
          ],
          [
           29
          ],
          [
           30
          ],
          [
           30
          ],
          [
           32
          ],
          [
           33
          ],
          [
           34
          ],
          [
           35
          ],
          [
           36
          ],
          [
           37
          ],
          [
           38
          ],
          [
           39
          ],
          [
           40
          ],
          [
           41
          ],
          [
           42
          ],
          [
           43
          ],
          [
           44
          ],
          [
           45
          ],
          [
           46
          ],
          [
           47
          ],
          [
           48
          ]
         ],
         "hovertemplate": "name=Marcos Rojo<br>year=%{x}<br>predicted_value=%{y}<br>age=%{customdata[0]}<extra></extra>",
         "legendgroup": "Marcos Rojo",
         "line": {
          "color": "#EF553B",
          "dash": "solid"
         },
         "marker": {
          "symbol": "circle"
         },
         "mode": "lines",
         "name": "Marcos Rojo",
         "orientation": "v",
         "showlegend": true,
         "type": "scatter",
         "x": [
          2015,
          2016,
          2017,
          2018,
          2019,
          2020,
          2021,
          2022,
          2023,
          2024,
          2025,
          2026,
          2027,
          2028,
          2029,
          2030,
          2031,
          2032,
          2033,
          2034,
          2035,
          2036,
          2037,
          2038
         ],
         "xaxis": "x",
         "y": [
          16,
          18,
          19,
          18,
          12,
          8,
          5,
          3.4,
          2.1225759983062744,
          1.2618598937988281,
          0.8285095691680908,
          0.3762180507183075,
          -0.033283788710832596,
          -0.5977317094802856,
          -0.5977317094802856,
          -0.5977317094802856,
          -0.5977317094802856,
          -0.5977317094802856,
          -0.5977317094802856,
          -0.5977317094802856,
          -0.5977317094802856,
          -0.5977317094802856,
          -0.5977317094802856,
          -0.5977317094802856
         ],
         "yaxis": "y"
        },
        {
         "customdata": [
          [
           22
          ],
          [
           23
          ],
          [
           24
          ],
          [
           25
          ],
          [
           27
          ],
          [
           27
          ],
          [
           28
          ],
          [
           30
          ],
          [
           30
          ],
          [
           31
          ],
          [
           32
          ],
          [
           33
          ],
          [
           34
          ],
          [
           35
          ],
          [
           36
          ],
          [
           37
          ],
          [
           38
          ],
          [
           39
          ],
          [
           40
          ],
          [
           41
          ],
          [
           42
          ],
          [
           43
          ],
          [
           44
          ],
          [
           45
          ]
         ],
         "hovertemplate": "name=Mohamed Salah<br>year=%{x}<br>predicted_value=%{y}<br>age=%{customdata[0]}<extra></extra>",
         "legendgroup": "Mohamed Salah",
         "line": {
          "color": "#00cc96",
          "dash": "solid"
         },
         "marker": {
          "symbol": "circle"
         },
         "mode": "lines",
         "name": "Mohamed Salah",
         "orientation": "v",
         "showlegend": true,
         "type": "scatter",
         "x": [
          2015,
          2016,
          2017,
          2018,
          2019,
          2020,
          2021,
          2022,
          2023,
          2024,
          2025,
          2026,
          2027,
          2028,
          2029,
          2030,
          2031,
          2032,
          2033,
          2034,
          2035,
          2036,
          2037,
          2038
         ],
         "xaxis": "x",
         "y": [
          10,
          20,
          30,
          80,
          150,
          120,
          110,
          90,
          89.13583374023438,
          89.13583374023438,
          71.3086669921875,
          57.04693359375,
          45.637546875,
          36.5100375,
          29.208030000000004,
          23.366424000000006,
          18.693139200000005,
          14.954511360000005,
          11.963609088000005,
          9.570887270400005,
          7.656709816320005,
          6.125367853056004,
          4.900294282444804,
          3.9202354259558434
         ],
         "yaxis": "y"
        },
        {
         "customdata": [
          [
           28
          ],
          [
           29
          ],
          [
           30
          ],
          [
           30
          ],
          [
           32
          ],
          [
           33
          ],
          [
           34
          ],
          [
           35
          ],
          [
           36
          ],
          [
           37
          ],
          [
           38
          ],
          [
           39
          ],
          [
           40
          ],
          [
           41
          ],
          [
           42
          ],
          [
           43
          ],
          [
           44
          ],
          [
           45
          ],
          [
           46
          ],
          [
           47
          ],
          [
           48
          ],
          [
           49
          ],
          [
           50
          ],
          [
           51
          ]
         ],
         "hovertemplate": "name=Jamie Vardy<br>year=%{x}<br>predicted_value=%{y}<br>age=%{customdata[0]}<extra></extra>",
         "legendgroup": "Jamie Vardy",
         "line": {
          "color": "#ab63fa",
          "dash": "solid"
         },
         "marker": {
          "symbol": "circle"
         },
         "mode": "lines",
         "name": "Jamie Vardy",
         "orientation": "v",
         "showlegend": true,
         "type": "scatter",
         "x": [
          2015,
          2016,
          2017,
          2018,
          2019,
          2020,
          2021,
          2022,
          2023,
          2024,
          2025,
          2026,
          2027,
          2028,
          2029,
          2030,
          2031,
          2032,
          2033,
          2034,
          2035,
          2036,
          2037,
          2038
         ],
         "xaxis": "x",
         "y": [
          2,
          12,
          15,
          18,
          20,
          16,
          10,
          5,
          3.6120972633361816,
          2.736802577972412,
          2.1500396728515625,
          1.289323329925537,
          0.8559731841087341,
          0.4036816358566284,
          0.11704296618700027,
          -0.33310988545417786,
          -0.3841046392917633,
          -0.3841046392917633,
          -0.3841046392917633,
          -0.3841046392917633,
          -0.3841046392917633,
          -0.3841046392917633,
          -0.3841046392917633,
          -0.3841046392917633
         ],
         "yaxis": "y"
        },
        {
         "customdata": [
          [
           21
          ],
          [
           22
          ],
          [
           23
          ],
          [
           24
          ],
          [
           25
          ],
          [
           26
          ],
          [
           27
          ],
          [
           28
          ],
          [
           29
          ],
          [
           30
          ],
          [
           31
          ],
          [
           32
          ],
          [
           33
          ],
          [
           34
          ],
          [
           35
          ],
          [
           36
          ],
          [
           37
          ],
          [
           38
          ],
          [
           39
          ],
          [
           40
          ],
          [
           41
          ],
          [
           42
          ],
          [
           43
          ],
          [
           44
          ]
         ],
         "hovertemplate": "name=Fabinho<br>year=%{x}<br>predicted_value=%{y}<br>age=%{customdata[0]}<extra></extra>",
         "legendgroup": "Fabinho",
         "line": {
          "color": "#FFA15A",
          "dash": "solid"
         },
         "marker": {
          "symbol": "circle"
         },
         "mode": "lines",
         "name": "Fabinho",
         "orientation": "v",
         "showlegend": true,
         "type": "scatter",
         "x": [
          2015,
          2016,
          2017,
          2018,
          2019,
          2020,
          2021,
          2022,
          2023,
          2024,
          2025,
          2026,
          2027,
          2028,
          2029,
          2030,
          2031,
          2032,
          2033,
          2034,
          2035,
          2036,
          2037,
          2038
         ],
         "xaxis": "x",
         "y": [
          4.5,
          15,
          20,
          40,
          45,
          56,
          60,
          60,
          54.1220703125,
          36.89735794067383,
          25.481182098388672,
          20.384945678710938,
          15.963772773742676,
          12.771018218994142,
          9.516181945800781,
          7.0164899826049805,
          5.505704402923584,
          4.060885429382324,
          2.291496515274048,
          1.325308084487915,
          0.5661939978599548,
          -0.12991994619369507,
          -0.8600470423698425,
          -0.8600470423698425
         ],
         "yaxis": "y"
        },
        {
         "customdata": [
          [
           19
          ],
          [
           20
          ],
          [
           21
          ],
          [
           22
          ],
          [
           23
          ],
          [
           24
          ],
          [
           25
          ],
          [
           26
          ],
          [
           27
          ],
          [
           28
          ],
          [
           29
          ],
          [
           30
          ],
          [
           31
          ],
          [
           32
          ],
          [
           33
          ],
          [
           34
          ],
          [
           35
          ],
          [
           36
          ],
          [
           37
          ],
          [
           38
          ],
          [
           39
          ],
          [
           40
          ],
          [
           41
          ]
         ],
         "hovertemplate": "name=Wilfred Ndidi<br>year=%{x}<br>predicted_value=%{y}<br>age=%{customdata[0]}<extra></extra>",
         "legendgroup": "Wilfred Ndidi",
         "line": {
          "color": "#19d3f3",
          "dash": "solid"
         },
         "marker": {
          "symbol": "circle"
         },
         "mode": "lines",
         "name": "Wilfred Ndidi",
         "orientation": "v",
         "showlegend": true,
         "type": "scatter",
         "x": [
          2016,
          2017,
          2018,
          2019,
          2020,
          2021,
          2022,
          2023,
          2024,
          2025,
          2026,
          2027,
          2028,
          2029,
          2030,
          2031,
          2032,
          2033,
          2034,
          2035,
          2036,
          2037,
          2038
         ],
         "xaxis": "x",
         "y": [
          1,
          14,
          18,
          35,
          36,
          50,
          60,
          56.218563079833984,
          47.230289459228516,
          41.49222946166992,
          39.393863677978516,
          31.21417236328125,
          24.431840896606445,
          16.98624038696289,
          12.53076171875,
          8.382010459899902,
          5.842429161071777,
          3.639571189880371,
          2.7642765045166016,
          2.177513599395752,
          1.316797137260437,
          0.8834470510482788,
          0.4311555027961731
         ],
         "yaxis": "y"
        },
        {
         "customdata": [
          [
           18
          ],
          [
           20
          ],
          [
           21
          ],
          [
           22
          ],
          [
           23
          ],
          [
           24
          ],
          [
           25
          ],
          [
           26
          ],
          [
           27
          ],
          [
           28
          ],
          [
           29
          ],
          [
           30
          ],
          [
           31
          ],
          [
           32
          ],
          [
           33
          ],
          [
           34
          ],
          [
           35
          ],
          [
           36
          ],
          [
           37
          ],
          [
           38
          ],
          [
           39
          ]
         ],
         "hovertemplate": "name=Declan Rice<br>year=%{x}<br>predicted_value=%{y}<br>age=%{customdata[0]}<extra></extra>",
         "legendgroup": "Declan Rice",
         "line": {
          "color": "#FF6692",
          "dash": "solid"
         },
         "marker": {
          "symbol": "circle"
         },
         "mode": "lines",
         "name": "Declan Rice",
         "orientation": "v",
         "showlegend": true,
         "type": "scatter",
         "x": [
          2018,
          2019,
          2020,
          2021,
          2022,
          2023,
          2024,
          2025,
          2026,
          2027,
          2028,
          2029,
          2030,
          2031,
          2032,
          2033,
          2034,
          2035,
          2036,
          2037,
          2038
         ],
         "xaxis": "x",
         "y": [
          2,
          35,
          49.5,
          60,
          80,
          96.03473663330078,
          93.5169906616211,
          89.88951110839844,
          88.67632293701172,
          85.95144653320312,
          84.13230895996094,
          84.06188201904297,
          83.46671295166016,
          66.77337036132813,
          53.41869628906251,
          42.73495703125001,
          34.18796562500001,
          27.35037250000001,
          21.88029800000001,
          17.50423840000001,
          14.003390720000008
         ],
         "yaxis": "y"
        },
        {
         "customdata": [
          [
           17
          ],
          [
           18
          ],
          [
           18
          ],
          [
           19
          ],
          [
           20
          ],
          [
           21
          ],
          [
           22
          ],
          [
           23
          ],
          [
           24
          ],
          [
           25
          ],
          [
           26
          ],
          [
           27
          ],
          [
           28
          ],
          [
           29
          ],
          [
           30
          ],
          [
           31
          ],
          [
           32
          ],
          [
           33
          ],
          [
           34
          ],
          [
           35
          ],
          [
           36
          ],
          [
           37
          ]
         ],
         "hovertemplate": "name=Erling Haaland<br>year=%{x}<br>predicted_value=%{y}<br>age=%{customdata[0]}<extra></extra>",
         "legendgroup": "Erling Haaland",
         "line": {
          "color": "#B6E880",
          "dash": "solid"
         },
         "marker": {
          "symbol": "circle"
         },
         "mode": "lines",
         "name": "Erling Haaland",
         "orientation": "v",
         "showlegend": true,
         "type": "scatter",
         "x": [
          2017,
          2018,
          2019,
          2020,
          2021,
          2022,
          2023,
          2024,
          2025,
          2026,
          2027,
          2028,
          2029,
          2030,
          2031,
          2032,
          2033,
          2034,
          2035,
          2036,
          2037,
          2038
         ],
         "xaxis": "x",
         "y": [
          0.3,
          2,
          5,
          60,
          110,
          150,
          139.2458953857422,
          133.55165100097656,
          123.47630310058594,
          120.25086975097656,
          117.3515396118164,
          113.03123474121094,
          108.68501281738281,
          101.09619140625,
          101.09619140625,
          100.50102233886719,
          80.40081787109375,
          64.320654296875,
          51.45652343750001,
          41.16521875000001,
          32.93217500000001,
          26.345740000000006
         ],
         "yaxis": "y"
        },
        {
         "customdata": [
          [
           17
          ],
          [
           17
          ],
          [
           18
          ],
          [
           20
          ],
          [
           21
          ],
          [
           22
          ],
          [
           23
          ],
          [
           24
          ],
          [
           25
          ],
          [
           26
          ],
          [
           27
          ],
          [
           28
          ],
          [
           29
          ],
          [
           30
          ],
          [
           31
          ],
          [
           32
          ],
          [
           33
          ],
          [
           34
          ],
          [
           35
          ]
         ],
         "hovertemplate": "name=Harvey Elliott<br>year=%{x}<br>predicted_value=%{y}<br>age=%{customdata[0]}<extra></extra>",
         "legendgroup": "Harvey Elliott",
         "line": {
          "color": "#FF97FF",
          "dash": "solid"
         },
         "marker": {
          "symbol": "circle"
         },
         "mode": "lines",
         "name": "Harvey Elliott",
         "orientation": "v",
         "showlegend": true,
         "type": "scatter",
         "x": [
          2020,
          2021,
          2022,
          2023,
          2024,
          2025,
          2026,
          2027,
          2028,
          2029,
          2030,
          2031,
          2032,
          2033,
          2034,
          2035,
          2036,
          2037,
          2038
         ],
         "xaxis": "x",
         "y": [
          3.6,
          15,
          22,
          32.163185119628906,
          35.27552795410156,
          35.43998718261719,
          35.387508392333984,
          35.387508392333984,
          35.387508392333984,
          34.807987213134766,
          33.13402557373047,
          32.267547607421875,
          30.012977600097656,
          25.83232879638672,
          20.749984741210938,
          16.59998779296875,
          13.279990234375001,
          10.6239921875,
          8.499193750000002
         ],
         "yaxis": "y"
        },
        {
         "customdata": [
          [
           20
          ],
          [
           21
          ],
          [
           22
          ],
          [
           23
          ],
          [
           24
          ],
          [
           25
          ],
          [
           26
          ],
          [
           27
          ],
          [
           28
          ],
          [
           29
          ],
          [
           30
          ],
          [
           31
          ],
          [
           32
          ],
          [
           33
          ],
          [
           34
          ],
          [
           35
          ],
          [
           36
          ]
         ],
         "hovertemplate": "name=Cole Palmer<br>year=%{x}<br>predicted_value=%{y}<br>age=%{customdata[0]}<extra></extra>",
         "legendgroup": "Cole Palmer",
         "line": {
          "color": "#FECB52",
          "dash": "solid"
         },
         "marker": {
          "symbol": "circle"
         },
         "mode": "lines",
         "name": "Cole Palmer",
         "orientation": "v",
         "showlegend": true,
         "type": "scatter",
         "x": [
          2022,
          2023,
          2024,
          2025,
          2026,
          2027,
          2028,
          2029,
          2030,
          2031,
          2032,
          2033,
          2034,
          2035,
          2036,
          2037,
          2038
         ],
         "xaxis": "x",
         "y": [
          6,
          26.93316078186035,
          58.299007415771484,
          77.07793426513672,
          77.7244644165039,
          77.7244644165039,
          75.36834716796875,
          71.6346206665039,
          69.6671371459961,
          65.04339599609375,
          62.95481491088867,
          62.292415618896484,
          49.83393249511719,
          39.867145996093754,
          31.893716796875005,
          25.514973437500004,
          20.411978750000003
         ],
         "yaxis": "y"
        },
        {
         "customdata": [
          [
           17
          ],
          [
           18
          ],
          [
           19
          ],
          [
           20
          ],
          [
           21
          ],
          [
           22
          ],
          [
           23
          ],
          [
           24
          ],
          [
           25
          ],
          [
           26
          ],
          [
           27
          ],
          [
           28
          ],
          [
           29
          ],
          [
           30
          ],
          [
           31
          ],
          [
           32
          ]
         ],
         "hovertemplate": "name=Ashley Phillips<br>year=%{x}<br>predicted_value=%{y}<br>age=%{customdata[0]}<extra></extra>",
         "legendgroup": "Ashley Phillips",
         "line": {
          "color": "#636efa",
          "dash": "solid"
         },
         "marker": {
          "symbol": "circle"
         },
         "mode": "lines",
         "name": "Ashley Phillips",
         "orientation": "v",
         "showlegend": true,
         "type": "scatter",
         "x": [
          2023,
          2024,
          2025,
          2026,
          2027,
          2028,
          2029,
          2030,
          2031,
          2032,
          2033,
          2034,
          2035,
          2036,
          2037,
          2038
         ],
         "xaxis": "x",
         "y": [
          5.007772922515869,
          9.44189453125,
          17.02529525756836,
          22.82964324951172,
          22.289583206176758,
          21.442401885986328,
          20.356319427490234,
          20.316417694091797,
          20.316417694091797,
          19.037899017333984,
          17.338441848754883,
          14.215147018432617,
          10.983789443969727,
          9.213435173034668,
          7.217728137969971,
          5.455918312072754
         ],
         "yaxis": "y"
        }
       ],
       "layout": {
        "annotations": [
         {
          "showarrow": false,
          "text": "2022/2023 boundary",
          "x": 2022.5,
          "xanchor": "left",
          "xref": "x",
          "y": 1,
          "yanchor": "top",
          "yref": "y domain"
         }
        ],
        "legend": {
         "title": {
          "text": "name"
         },
         "tracegroupgap": 0
        },
        "shapes": [
         {
          "line": {
           "color": "red",
           "dash": "dash"
          },
          "type": "line",
          "x0": 2022.5,
          "x1": 2022.5,
          "xref": "x",
          "y0": 0,
          "y1": 1,
          "yref": "y domain"
         }
        ],
        "template": {
         "data": {
          "bar": [
           {
            "error_x": {
             "color": "#2a3f5f"
            },
            "error_y": {
             "color": "#2a3f5f"
            },
            "marker": {
             "line": {
              "color": "#E5ECF6",
              "width": 0.5
             },
             "pattern": {
              "fillmode": "overlay",
              "size": 10,
              "solidity": 0.2
             }
            },
            "type": "bar"
           }
          ],
          "barpolar": [
           {
            "marker": {
             "line": {
              "color": "#E5ECF6",
              "width": 0.5
             },
             "pattern": {
              "fillmode": "overlay",
              "size": 10,
              "solidity": 0.2
             }
            },
            "type": "barpolar"
           }
          ],
          "carpet": [
           {
            "aaxis": {
             "endlinecolor": "#2a3f5f",
             "gridcolor": "white",
             "linecolor": "white",
             "minorgridcolor": "white",
             "startlinecolor": "#2a3f5f"
            },
            "baxis": {
             "endlinecolor": "#2a3f5f",
             "gridcolor": "white",
             "linecolor": "white",
             "minorgridcolor": "white",
             "startlinecolor": "#2a3f5f"
            },
            "type": "carpet"
           }
          ],
          "choropleth": [
           {
            "colorbar": {
             "outlinewidth": 0,
             "ticks": ""
            },
            "type": "choropleth"
           }
          ],
          "contour": [
           {
            "colorbar": {
             "outlinewidth": 0,
             "ticks": ""
            },
            "colorscale": [
             [
              0,
              "#0d0887"
             ],
             [
              0.1111111111111111,
              "#46039f"
             ],
             [
              0.2222222222222222,
              "#7201a8"
             ],
             [
              0.3333333333333333,
              "#9c179e"
             ],
             [
              0.4444444444444444,
              "#bd3786"
             ],
             [
              0.5555555555555556,
              "#d8576b"
             ],
             [
              0.6666666666666666,
              "#ed7953"
             ],
             [
              0.7777777777777778,
              "#fb9f3a"
             ],
             [
              0.8888888888888888,
              "#fdca26"
             ],
             [
              1,
              "#f0f921"
             ]
            ],
            "type": "contour"
           }
          ],
          "contourcarpet": [
           {
            "colorbar": {
             "outlinewidth": 0,
             "ticks": ""
            },
            "type": "contourcarpet"
           }
          ],
          "heatmap": [
           {
            "colorbar": {
             "outlinewidth": 0,
             "ticks": ""
            },
            "colorscale": [
             [
              0,
              "#0d0887"
             ],
             [
              0.1111111111111111,
              "#46039f"
             ],
             [
              0.2222222222222222,
              "#7201a8"
             ],
             [
              0.3333333333333333,
              "#9c179e"
             ],
             [
              0.4444444444444444,
              "#bd3786"
             ],
             [
              0.5555555555555556,
              "#d8576b"
             ],
             [
              0.6666666666666666,
              "#ed7953"
             ],
             [
              0.7777777777777778,
              "#fb9f3a"
             ],
             [
              0.8888888888888888,
              "#fdca26"
             ],
             [
              1,
              "#f0f921"
             ]
            ],
            "type": "heatmap"
           }
          ],
          "heatmapgl": [
           {
            "colorbar": {
             "outlinewidth": 0,
             "ticks": ""
            },
            "colorscale": [
             [
              0,
              "#0d0887"
             ],
             [
              0.1111111111111111,
              "#46039f"
             ],
             [
              0.2222222222222222,
              "#7201a8"
             ],
             [
              0.3333333333333333,
              "#9c179e"
             ],
             [
              0.4444444444444444,
              "#bd3786"
             ],
             [
              0.5555555555555556,
              "#d8576b"
             ],
             [
              0.6666666666666666,
              "#ed7953"
             ],
             [
              0.7777777777777778,
              "#fb9f3a"
             ],
             [
              0.8888888888888888,
              "#fdca26"
             ],
             [
              1,
              "#f0f921"
             ]
            ],
            "type": "heatmapgl"
           }
          ],
          "histogram": [
           {
            "marker": {
             "pattern": {
              "fillmode": "overlay",
              "size": 10,
              "solidity": 0.2
             }
            },
            "type": "histogram"
           }
          ],
          "histogram2d": [
           {
            "colorbar": {
             "outlinewidth": 0,
             "ticks": ""
            },
            "colorscale": [
             [
              0,
              "#0d0887"
             ],
             [
              0.1111111111111111,
              "#46039f"
             ],
             [
              0.2222222222222222,
              "#7201a8"
             ],
             [
              0.3333333333333333,
              "#9c179e"
             ],
             [
              0.4444444444444444,
              "#bd3786"
             ],
             [
              0.5555555555555556,
              "#d8576b"
             ],
             [
              0.6666666666666666,
              "#ed7953"
             ],
             [
              0.7777777777777778,
              "#fb9f3a"
             ],
             [
              0.8888888888888888,
              "#fdca26"
             ],
             [
              1,
              "#f0f921"
             ]
            ],
            "type": "histogram2d"
           }
          ],
          "histogram2dcontour": [
           {
            "colorbar": {
             "outlinewidth": 0,
             "ticks": ""
            },
            "colorscale": [
             [
              0,
              "#0d0887"
             ],
             [
              0.1111111111111111,
              "#46039f"
             ],
             [
              0.2222222222222222,
              "#7201a8"
             ],
             [
              0.3333333333333333,
              "#9c179e"
             ],
             [
              0.4444444444444444,
              "#bd3786"
             ],
             [
              0.5555555555555556,
              "#d8576b"
             ],
             [
              0.6666666666666666,
              "#ed7953"
             ],
             [
              0.7777777777777778,
              "#fb9f3a"
             ],
             [
              0.8888888888888888,
              "#fdca26"
             ],
             [
              1,
              "#f0f921"
             ]
            ],
            "type": "histogram2dcontour"
           }
          ],
          "mesh3d": [
           {
            "colorbar": {
             "outlinewidth": 0,
             "ticks": ""
            },
            "type": "mesh3d"
           }
          ],
          "parcoords": [
           {
            "line": {
             "colorbar": {
              "outlinewidth": 0,
              "ticks": ""
             }
            },
            "type": "parcoords"
           }
          ],
          "pie": [
           {
            "automargin": true,
            "type": "pie"
           }
          ],
          "scatter": [
           {
            "fillpattern": {
             "fillmode": "overlay",
             "size": 10,
             "solidity": 0.2
            },
            "type": "scatter"
           }
          ],
          "scatter3d": [
           {
            "line": {
             "colorbar": {
              "outlinewidth": 0,
              "ticks": ""
             }
            },
            "marker": {
             "colorbar": {
              "outlinewidth": 0,
              "ticks": ""
             }
            },
            "type": "scatter3d"
           }
          ],
          "scattercarpet": [
           {
            "marker": {
             "colorbar": {
              "outlinewidth": 0,
              "ticks": ""
             }
            },
            "type": "scattercarpet"
           }
          ],
          "scattergeo": [
           {
            "marker": {
             "colorbar": {
              "outlinewidth": 0,
              "ticks": ""
             }
            },
            "type": "scattergeo"
           }
          ],
          "scattergl": [
           {
            "marker": {
             "colorbar": {
              "outlinewidth": 0,
              "ticks": ""
             }
            },
            "type": "scattergl"
           }
          ],
          "scattermapbox": [
           {
            "marker": {
             "colorbar": {
              "outlinewidth": 0,
              "ticks": ""
             }
            },
            "type": "scattermapbox"
           }
          ],
          "scatterpolar": [
           {
            "marker": {
             "colorbar": {
              "outlinewidth": 0,
              "ticks": ""
             }
            },
            "type": "scatterpolar"
           }
          ],
          "scatterpolargl": [
           {
            "marker": {
             "colorbar": {
              "outlinewidth": 0,
              "ticks": ""
             }
            },
            "type": "scatterpolargl"
           }
          ],
          "scatterternary": [
           {
            "marker": {
             "colorbar": {
              "outlinewidth": 0,
              "ticks": ""
             }
            },
            "type": "scatterternary"
           }
          ],
          "surface": [
           {
            "colorbar": {
             "outlinewidth": 0,
             "ticks": ""
            },
            "colorscale": [
             [
              0,
              "#0d0887"
             ],
             [
              0.1111111111111111,
              "#46039f"
             ],
             [
              0.2222222222222222,
              "#7201a8"
             ],
             [
              0.3333333333333333,
              "#9c179e"
             ],
             [
              0.4444444444444444,
              "#bd3786"
             ],
             [
              0.5555555555555556,
              "#d8576b"
             ],
             [
              0.6666666666666666,
              "#ed7953"
             ],
             [
              0.7777777777777778,
              "#fb9f3a"
             ],
             [
              0.8888888888888888,
              "#fdca26"
             ],
             [
              1,
              "#f0f921"
             ]
            ],
            "type": "surface"
           }
          ],
          "table": [
           {
            "cells": {
             "fill": {
              "color": "#EBF0F8"
             },
             "line": {
              "color": "white"
             }
            },
            "header": {
             "fill": {
              "color": "#C8D4E3"
             },
             "line": {
              "color": "white"
             }
            },
            "type": "table"
           }
          ]
         },
         "layout": {
          "annotationdefaults": {
           "arrowcolor": "#2a3f5f",
           "arrowhead": 0,
           "arrowwidth": 1
          },
          "autotypenumbers": "strict",
          "coloraxis": {
           "colorbar": {
            "outlinewidth": 0,
            "ticks": ""
           }
          },
          "colorscale": {
           "diverging": [
            [
             0,
             "#8e0152"
            ],
            [
             0.1,
             "#c51b7d"
            ],
            [
             0.2,
             "#de77ae"
            ],
            [
             0.3,
             "#f1b6da"
            ],
            [
             0.4,
             "#fde0ef"
            ],
            [
             0.5,
             "#f7f7f7"
            ],
            [
             0.6,
             "#e6f5d0"
            ],
            [
             0.7,
             "#b8e186"
            ],
            [
             0.8,
             "#7fbc41"
            ],
            [
             0.9,
             "#4d9221"
            ],
            [
             1,
             "#276419"
            ]
           ],
           "sequential": [
            [
             0,
             "#0d0887"
            ],
            [
             0.1111111111111111,
             "#46039f"
            ],
            [
             0.2222222222222222,
             "#7201a8"
            ],
            [
             0.3333333333333333,
             "#9c179e"
            ],
            [
             0.4444444444444444,
             "#bd3786"
            ],
            [
             0.5555555555555556,
             "#d8576b"
            ],
            [
             0.6666666666666666,
             "#ed7953"
            ],
            [
             0.7777777777777778,
             "#fb9f3a"
            ],
            [
             0.8888888888888888,
             "#fdca26"
            ],
            [
             1,
             "#f0f921"
            ]
           ],
           "sequentialminus": [
            [
             0,
             "#0d0887"
            ],
            [
             0.1111111111111111,
             "#46039f"
            ],
            [
             0.2222222222222222,
             "#7201a8"
            ],
            [
             0.3333333333333333,
             "#9c179e"
            ],
            [
             0.4444444444444444,
             "#bd3786"
            ],
            [
             0.5555555555555556,
             "#d8576b"
            ],
            [
             0.6666666666666666,
             "#ed7953"
            ],
            [
             0.7777777777777778,
             "#fb9f3a"
            ],
            [
             0.8888888888888888,
             "#fdca26"
            ],
            [
             1,
             "#f0f921"
            ]
           ]
          },
          "colorway": [
           "#636efa",
           "#EF553B",
           "#00cc96",
           "#ab63fa",
           "#FFA15A",
           "#19d3f3",
           "#FF6692",
           "#B6E880",
           "#FF97FF",
           "#FECB52"
          ],
          "font": {
           "color": "#2a3f5f"
          },
          "geo": {
           "bgcolor": "white",
           "lakecolor": "white",
           "landcolor": "#E5ECF6",
           "showlakes": true,
           "showland": true,
           "subunitcolor": "white"
          },
          "hoverlabel": {
           "align": "left"
          },
          "hovermode": "closest",
          "mapbox": {
           "style": "light"
          },
          "paper_bgcolor": "white",
          "plot_bgcolor": "#E5ECF6",
          "polar": {
           "angularaxis": {
            "gridcolor": "white",
            "linecolor": "white",
            "ticks": ""
           },
           "bgcolor": "#E5ECF6",
           "radialaxis": {
            "gridcolor": "white",
            "linecolor": "white",
            "ticks": ""
           }
          },
          "scene": {
           "xaxis": {
            "backgroundcolor": "#E5ECF6",
            "gridcolor": "white",
            "gridwidth": 2,
            "linecolor": "white",
            "showbackground": true,
            "ticks": "",
            "zerolinecolor": "white"
           },
           "yaxis": {
            "backgroundcolor": "#E5ECF6",
            "gridcolor": "white",
            "gridwidth": 2,
            "linecolor": "white",
            "showbackground": true,
            "ticks": "",
            "zerolinecolor": "white"
           },
           "zaxis": {
            "backgroundcolor": "#E5ECF6",
            "gridcolor": "white",
            "gridwidth": 2,
            "linecolor": "white",
            "showbackground": true,
            "ticks": "",
            "zerolinecolor": "white"
           }
          },
          "shapedefaults": {
           "line": {
            "color": "#2a3f5f"
           }
          },
          "ternary": {
           "aaxis": {
            "gridcolor": "white",
            "linecolor": "white",
            "ticks": ""
           },
           "baxis": {
            "gridcolor": "white",
            "linecolor": "white",
            "ticks": ""
           },
           "bgcolor": "#E5ECF6",
           "caxis": {
            "gridcolor": "white",
            "linecolor": "white",
            "ticks": ""
           }
          },
          "title": {
           "x": 0.05
          },
          "xaxis": {
           "automargin": true,
           "gridcolor": "white",
           "linecolor": "white",
           "ticks": "",
           "title": {
            "standoff": 15
           },
           "zerolinecolor": "white",
           "zerolinewidth": 2
          },
          "yaxis": {
           "automargin": true,
           "gridcolor": "white",
           "linecolor": "white",
           "ticks": "",
           "title": {
            "standoff": 15
           },
           "zerolinecolor": "white",
           "zerolinewidth": 2
          }
         }
        },
        "title": {
         "text": "Predicted Market Values for Selected Players"
        },
        "xaxis": {
         "anchor": "y",
         "domain": [
          0,
          1
         ],
         "title": {
          "text": "year"
         }
        },
        "yaxis": {
         "anchor": "x",
         "domain": [
          0,
          1
         ],
         "title": {
          "text": "predicted_value"
         }
        }
       }
      }
     },
     "metadata": {},
     "output_type": "display_data"
    }
   ],
   "source": [
    "\n",
    "plot_player_value_trends(\n",
    "    pdf_train, merged_capped,\n",
    "    player_ids=players\n",
    ")\n",
    "\n",
    "\n"
   ]
  },
  {
   "cell_type": "code",
   "execution_count": 18,
   "id": "a33d5d51",
   "metadata": {},
   "outputs": [
    {
     "data": {
      "application/vnd.plotly.v1+json": {
       "config": {
        "plotlyServerURL": "https://plot.ly"
       },
       "data": [
        {
         "customdata": [
          [
           22
          ],
          [
           23
          ],
          [
           24
          ],
          [
           25
          ],
          [
           27
          ],
          [
           27
          ],
          [
           28
          ],
          [
           30
          ],
          [
           30
          ],
          [
           31
          ],
          [
           32
          ],
          [
           33
          ],
          [
           34
          ],
          [
           35
          ],
          [
           36
          ],
          [
           37
          ],
          [
           38
          ],
          [
           39
          ],
          [
           40
          ],
          [
           41
          ],
          [
           42
          ],
          [
           43
          ],
          [
           44
          ],
          [
           45
          ]
         ],
         "hovertemplate": "name=Mohamed Salah<br>year=%{x}<br>predicted_value=%{y}<br>age=%{customdata[0]}<extra></extra>",
         "legendgroup": "Mohamed Salah",
         "line": {
          "color": "#636efa",
          "dash": "solid"
         },
         "marker": {
          "symbol": "circle"
         },
         "mode": "lines",
         "name": "Mohamed Salah",
         "orientation": "v",
         "showlegend": true,
         "type": "scatter",
         "x": [
          2015,
          2016,
          2017,
          2018,
          2019,
          2020,
          2021,
          2022,
          2023,
          2024,
          2025,
          2026,
          2027,
          2028,
          2029,
          2030,
          2031,
          2032,
          2033,
          2034,
          2035,
          2036,
          2037,
          2038
         ],
         "xaxis": "x",
         "y": [
          10,
          20,
          30,
          80,
          150,
          120,
          110,
          90,
          89.13583374023438,
          89.13583374023438,
          71.3086669921875,
          57.04693359375,
          45.637546875,
          36.5100375,
          29.208030000000004,
          23.366424000000006,
          18.693139200000005,
          14.954511360000005,
          11.963609088000005,
          9.570887270400005,
          7.656709816320005,
          6.125367853056004,
          4.900294282444804,
          3.9202354259558434
         ],
         "yaxis": "y"
        },
        {
         "customdata": [
          [
           17
          ],
          [
           18
          ],
          [
           19
          ],
          [
           20
          ],
          [
           21
          ],
          [
           23
          ],
          [
           23
          ],
          [
           24
          ],
          [
           25
          ],
          [
           26
          ],
          [
           27
          ],
          [
           28
          ],
          [
           29
          ],
          [
           30
          ],
          [
           31
          ],
          [
           32
          ],
          [
           33
          ],
          [
           34
          ],
          [
           35
          ],
          [
           36
          ],
          [
           37
          ],
          [
           38
          ]
         ],
         "hovertemplate": "name=Kai Havertz<br>year=%{x}<br>predicted_value=%{y}<br>age=%{customdata[0]}<extra></extra>",
         "legendgroup": "Kai Havertz",
         "line": {
          "color": "#EF553B",
          "dash": "solid"
         },
         "marker": {
          "symbol": "circle"
         },
         "mode": "lines",
         "name": "Kai Havertz",
         "orientation": "v",
         "showlegend": true,
         "type": "scatter",
         "x": [
          2017,
          2018,
          2019,
          2020,
          2021,
          2022,
          2023,
          2024,
          2025,
          2026,
          2027,
          2028,
          2029,
          2030,
          2031,
          2032,
          2033,
          2034,
          2035,
          2036,
          2037,
          2038
         ],
         "xaxis": "x",
         "y": [
          1.5,
          25,
          90,
          81,
          70,
          70,
          67.65106964111328,
          67.1318588256836,
          63.90641784667969,
          63.504364013671875,
          62.29117202758789,
          58.29095458984375,
          44.87089157104492,
          35.66680908203125,
          27.137226104736328,
          21.24541473388672,
          15.533364295959473,
          12.426691436767578,
          9.941353149414063,
          7.95308251953125,
          6.362466015625,
          5.089972812500001
         ],
         "yaxis": "y"
        },
        {
         "customdata": [
          [
           21
          ],
          [
           22
          ],
          [
           23
          ],
          [
           24
          ],
          [
           25
          ],
          [
           26
          ],
          [
           27
          ],
          [
           28
          ],
          [
           29
          ],
          [
           30
          ],
          [
           31
          ],
          [
           32
          ],
          [
           33
          ],
          [
           34
          ],
          [
           35
          ],
          [
           36
          ],
          [
           37
          ],
          [
           38
          ],
          [
           39
          ],
          [
           40
          ],
          [
           41
          ],
          [
           42
          ]
         ],
         "hovertemplate": "name=Ollie Watkins<br>year=%{x}<br>predicted_value=%{y}<br>age=%{customdata[0]}<extra></extra>",
         "legendgroup": "Ollie Watkins",
         "line": {
          "color": "#00cc96",
          "dash": "solid"
         },
         "marker": {
          "symbol": "circle"
         },
         "mode": "lines",
         "name": "Ollie Watkins",
         "orientation": "v",
         "showlegend": true,
         "type": "scatter",
         "x": [
          2017,
          2018,
          2019,
          2020,
          2021,
          2022,
          2023,
          2024,
          2025,
          2026,
          2027,
          2028,
          2029,
          2030,
          2031,
          2032,
          2033,
          2034,
          2035,
          2036,
          2037,
          2038
         ],
         "xaxis": "x",
         "y": [
          1,
          3.5,
          8,
          15,
          32,
          35,
          52.65909957885742,
          63.72268295288086,
          60.70794677734375,
          58.619354248046875,
          47.55221939086914,
          38.04177551269532,
          30.433420410156256,
          24.346736328125004,
          19.477389062500006,
          15.581911250000005,
          12.465529000000004,
          9.972423200000003,
          7.977938560000003,
          6.382350848000002,
          5.105880678400002,
          4.084704542720002
         ],
         "yaxis": "y"
        },
        {
         "customdata": [
          [
           17
          ],
          [
           18
          ],
          [
           19
          ],
          [
           20
          ],
          [
           21
          ],
          [
           22
          ],
          [
           23
          ],
          [
           24
          ],
          [
           25
          ],
          [
           26
          ],
          [
           27
          ],
          [
           28
          ],
          [
           29
          ],
          [
           30
          ],
          [
           31
          ],
          [
           32
          ],
          [
           33
          ],
          [
           34
          ],
          [
           35
          ],
          [
           36
          ],
          [
           37
          ],
          [
           38
          ]
         ],
         "hovertemplate": "name=Alexander Isak<br>year=%{x}<br>predicted_value=%{y}<br>age=%{customdata[0]}<extra></extra>",
         "legendgroup": "Alexander Isak",
         "line": {
          "color": "#ab63fa",
          "dash": "solid"
         },
         "marker": {
          "symbol": "circle"
         },
         "mode": "lines",
         "name": "Alexander Isak",
         "orientation": "v",
         "showlegend": true,
         "type": "scatter",
         "x": [
          2017,
          2018,
          2019,
          2020,
          2021,
          2022,
          2023,
          2024,
          2025,
          2026,
          2027,
          2028,
          2029,
          2030,
          2031,
          2032,
          2033,
          2034,
          2035,
          2036,
          2037,
          2038
         ],
         "xaxis": "x",
         "y": [
          6,
          6,
          8,
          25,
          22,
          30,
          58.23183822631836,
          71.84530639648438,
          72.68241119384766,
          70.3262939453125,
          66.19058990478516,
          64.62508392333984,
          58.37261199951172,
          46.5675163269043,
          41.86777877807617,
          33.494223022460936,
          26.79537841796875,
          21.436302734375,
          17.1490421875,
          13.71923375,
          10.975387000000001,
          8.7803096
         ],
         "yaxis": "y"
        },
        {
         "customdata": [
          [
           20
          ],
          [
           21
          ],
          [
           22
          ],
          [
           23
          ],
          [
           24
          ],
          [
           25
          ],
          [
           27
          ],
          [
           28
          ],
          [
           29
          ],
          [
           30
          ],
          [
           31
          ],
          [
           32
          ],
          [
           33
          ],
          [
           34
          ],
          [
           35
          ],
          [
           36
          ],
          [
           37
          ],
          [
           38
          ],
          [
           39
          ],
          [
           40
          ],
          [
           41
          ],
          [
           42
          ]
         ],
         "hovertemplate": "name=Rodri<br>year=%{x}<br>predicted_value=%{y}<br>age=%{customdata[0]}<extra></extra>",
         "legendgroup": "Rodri",
         "line": {
          "color": "#FFA15A",
          "dash": "solid"
         },
         "marker": {
          "symbol": "circle"
         },
         "mode": "lines",
         "name": "Rodri",
         "orientation": "v",
         "showlegend": true,
         "type": "scatter",
         "x": [
          2017,
          2018,
          2019,
          2020,
          2021,
          2022,
          2023,
          2024,
          2025,
          2026,
          2027,
          2028,
          2029,
          2030,
          2031,
          2032,
          2033,
          2034,
          2035,
          2036,
          2037,
          2038
         ],
         "xaxis": "x",
         "y": [
          1.5,
          20,
          60,
          64,
          70,
          80,
          88.21824645996094,
          81.05474853515625,
          79.23561096191406,
          59.06947326660156,
          43.24315643310547,
          34.59452514648438,
          26.728612899780273,
          20.917705535888672,
          15.303571701049805,
          12.242857360839844,
          9.794285888671876,
          7.835428710937501,
          6.268342968750002,
          5.014674375000002,
          4.011739500000002,
          3.209391600000002
         ],
         "yaxis": "y"
        },
        {
         "customdata": [
          [
           18
          ],
          [
           20
          ],
          [
           21
          ],
          [
           22
          ],
          [
           23
          ],
          [
           24
          ],
          [
           25
          ],
          [
           26
          ],
          [
           27
          ],
          [
           28
          ],
          [
           29
          ],
          [
           30
          ],
          [
           31
          ],
          [
           32
          ],
          [
           33
          ],
          [
           34
          ],
          [
           35
          ],
          [
           36
          ],
          [
           37
          ],
          [
           38
          ],
          [
           39
          ]
         ],
         "hovertemplate": "name=Declan Rice<br>year=%{x}<br>predicted_value=%{y}<br>age=%{customdata[0]}<extra></extra>",
         "legendgroup": "Declan Rice",
         "line": {
          "color": "#19d3f3",
          "dash": "solid"
         },
         "marker": {
          "symbol": "circle"
         },
         "mode": "lines",
         "name": "Declan Rice",
         "orientation": "v",
         "showlegend": true,
         "type": "scatter",
         "x": [
          2018,
          2019,
          2020,
          2021,
          2022,
          2023,
          2024,
          2025,
          2026,
          2027,
          2028,
          2029,
          2030,
          2031,
          2032,
          2033,
          2034,
          2035,
          2036,
          2037,
          2038
         ],
         "xaxis": "x",
         "y": [
          2,
          35,
          49.5,
          60,
          80,
          96.03473663330078,
          93.5169906616211,
          89.88951110839844,
          88.67632293701172,
          85.95144653320312,
          84.13230895996094,
          84.06188201904297,
          83.46671295166016,
          66.77337036132813,
          53.41869628906251,
          42.73495703125001,
          34.18796562500001,
          27.35037250000001,
          21.88029800000001,
          17.50423840000001,
          14.003390720000008
         ],
         "yaxis": "y"
        },
        {
         "customdata": [
          [
           18
          ],
          [
           19
          ],
          [
           20
          ],
          [
           21
          ],
          [
           23
          ],
          [
           24
          ],
          [
           25
          ],
          [
           26
          ],
          [
           27
          ],
          [
           28
          ],
          [
           29
          ],
          [
           30
          ],
          [
           31
          ],
          [
           32
          ],
          [
           33
          ],
          [
           34
          ],
          [
           35
          ],
          [
           36
          ],
          [
           37
          ],
          [
           38
          ]
         ],
         "hovertemplate": "name=Phil Foden<br>year=%{x}<br>predicted_value=%{y}<br>age=%{customdata[0]}<extra></extra>",
         "legendgroup": "Phil Foden",
         "line": {
          "color": "#FF6692",
          "dash": "solid"
         },
         "marker": {
          "symbol": "circle"
         },
         "mode": "lines",
         "name": "Phil Foden",
         "orientation": "v",
         "showlegend": true,
         "type": "scatter",
         "x": [
          2019,
          2020,
          2021,
          2022,
          2023,
          2024,
          2025,
          2026,
          2027,
          2028,
          2029,
          2030,
          2031,
          2032,
          2033,
          2034,
          2035,
          2036,
          2037,
          2038
         ],
         "xaxis": "x",
         "y": [
          25,
          27,
          70,
          90,
          123.3624267578125,
          120.13699340820312,
          120.13699340820312,
          119.19173431396484,
          114.87142944335938,
          112.14655303955078,
          106.29796600341797,
          106.29796600341797,
          105.70279693603516,
          84.56223754882814,
          67.64979003906251,
          54.11983203125001,
          43.29586562500001,
          34.63669250000001,
          27.70935400000001,
          22.167483200000007
         ],
         "yaxis": "y"
        },
        {
         "customdata": [
          [
           17
          ],
          [
           18
          ],
          [
           18
          ],
          [
           19
          ],
          [
           20
          ],
          [
           21
          ],
          [
           22
          ],
          [
           23
          ],
          [
           24
          ],
          [
           25
          ],
          [
           26
          ],
          [
           27
          ],
          [
           28
          ],
          [
           29
          ],
          [
           30
          ],
          [
           31
          ],
          [
           32
          ],
          [
           33
          ],
          [
           34
          ],
          [
           35
          ],
          [
           36
          ],
          [
           37
          ]
         ],
         "hovertemplate": "name=Erling Haaland<br>year=%{x}<br>predicted_value=%{y}<br>age=%{customdata[0]}<extra></extra>",
         "legendgroup": "Erling Haaland",
         "line": {
          "color": "#B6E880",
          "dash": "solid"
         },
         "marker": {
          "symbol": "circle"
         },
         "mode": "lines",
         "name": "Erling Haaland",
         "orientation": "v",
         "showlegend": true,
         "type": "scatter",
         "x": [
          2017,
          2018,
          2019,
          2020,
          2021,
          2022,
          2023,
          2024,
          2025,
          2026,
          2027,
          2028,
          2029,
          2030,
          2031,
          2032,
          2033,
          2034,
          2035,
          2036,
          2037,
          2038
         ],
         "xaxis": "x",
         "y": [
          0.3,
          2,
          5,
          60,
          110,
          150,
          139.2458953857422,
          133.55165100097656,
          123.47630310058594,
          120.25086975097656,
          117.3515396118164,
          113.03123474121094,
          108.68501281738281,
          101.09619140625,
          101.09619140625,
          100.50102233886719,
          80.40081787109375,
          64.320654296875,
          51.45652343750001,
          41.16521875000001,
          32.93217500000001,
          26.345740000000006
         ],
         "yaxis": "y"
        },
        {
         "customdata": [
          [
           18
          ],
          [
           19
          ],
          [
           20
          ],
          [
           21
          ],
          [
           22
          ],
          [
           23
          ],
          [
           24
          ],
          [
           25
          ],
          [
           26
          ],
          [
           27
          ],
          [
           28
          ],
          [
           29
          ],
          [
           30
          ],
          [
           31
          ],
          [
           32
          ],
          [
           33
          ],
          [
           34
          ],
          [
           35
          ],
          [
           36
          ]
         ],
         "hovertemplate": "name=Bukayo Saka<br>year=%{x}<br>predicted_value=%{y}<br>age=%{customdata[0]}<extra></extra>",
         "legendgroup": "Bukayo Saka",
         "line": {
          "color": "#FF97FF",
          "dash": "solid"
         },
         "marker": {
          "symbol": "circle"
         },
         "mode": "lines",
         "name": "Bukayo Saka",
         "orientation": "v",
         "showlegend": true,
         "type": "scatter",
         "x": [
          2020,
          2021,
          2022,
          2023,
          2024,
          2025,
          2026,
          2027,
          2028,
          2029,
          2030,
          2031,
          2032,
          2033,
          2034,
          2035,
          2036,
          2037,
          2038
         ],
         "xaxis": "x",
         "y": [
          22,
          60,
          65,
          77.45497131347656,
          66.21739196777344,
          65.46759796142578,
          65.46759796142578,
          65.46759796142578,
          65.61978912353516,
          63.88572692871094,
          59.885501861572266,
          44.21034240722656,
          36.433963775634766,
          26.972856521606445,
          20.941267013549805,
          13.526570320129395,
          8.522089004516602,
          5.1244940757751465,
          4.099595260620117
         ],
         "yaxis": "y"
        },
        {
         "customdata": [
          [
           20
          ],
          [
           21
          ],
          [
           22
          ],
          [
           23
          ],
          [
           24
          ],
          [
           25
          ],
          [
           26
          ],
          [
           27
          ],
          [
           28
          ],
          [
           29
          ],
          [
           30
          ],
          [
           31
          ],
          [
           32
          ],
          [
           33
          ],
          [
           34
          ],
          [
           35
          ],
          [
           36
          ]
         ],
         "hovertemplate": "name=Cole Palmer<br>year=%{x}<br>predicted_value=%{y}<br>age=%{customdata[0]}<extra></extra>",
         "legendgroup": "Cole Palmer",
         "line": {
          "color": "#FECB52",
          "dash": "solid"
         },
         "marker": {
          "symbol": "circle"
         },
         "mode": "lines",
         "name": "Cole Palmer",
         "orientation": "v",
         "showlegend": true,
         "type": "scatter",
         "x": [
          2022,
          2023,
          2024,
          2025,
          2026,
          2027,
          2028,
          2029,
          2030,
          2031,
          2032,
          2033,
          2034,
          2035,
          2036,
          2037,
          2038
         ],
         "xaxis": "x",
         "y": [
          6,
          26.93316078186035,
          58.299007415771484,
          77.07793426513672,
          77.7244644165039,
          77.7244644165039,
          75.36834716796875,
          71.6346206665039,
          69.6671371459961,
          65.04339599609375,
          62.95481491088867,
          62.292415618896484,
          49.83393249511719,
          39.867145996093754,
          31.893716796875005,
          25.514973437500004,
          20.411978750000003
         ],
         "yaxis": "y"
        }
       ],
       "layout": {
        "annotations": [
         {
          "showarrow": false,
          "text": "2022/2023 boundary",
          "x": 2022.5,
          "xanchor": "left",
          "xref": "x",
          "y": 1,
          "yanchor": "top",
          "yref": "y domain"
         }
        ],
        "legend": {
         "title": {
          "text": "name"
         },
         "tracegroupgap": 0
        },
        "shapes": [
         {
          "line": {
           "color": "red",
           "dash": "dash"
          },
          "type": "line",
          "x0": 2022.5,
          "x1": 2022.5,
          "xref": "x",
          "y0": 0,
          "y1": 1,
          "yref": "y domain"
         }
        ],
        "template": {
         "data": {
          "bar": [
           {
            "error_x": {
             "color": "#2a3f5f"
            },
            "error_y": {
             "color": "#2a3f5f"
            },
            "marker": {
             "line": {
              "color": "#E5ECF6",
              "width": 0.5
             },
             "pattern": {
              "fillmode": "overlay",
              "size": 10,
              "solidity": 0.2
             }
            },
            "type": "bar"
           }
          ],
          "barpolar": [
           {
            "marker": {
             "line": {
              "color": "#E5ECF6",
              "width": 0.5
             },
             "pattern": {
              "fillmode": "overlay",
              "size": 10,
              "solidity": 0.2
             }
            },
            "type": "barpolar"
           }
          ],
          "carpet": [
           {
            "aaxis": {
             "endlinecolor": "#2a3f5f",
             "gridcolor": "white",
             "linecolor": "white",
             "minorgridcolor": "white",
             "startlinecolor": "#2a3f5f"
            },
            "baxis": {
             "endlinecolor": "#2a3f5f",
             "gridcolor": "white",
             "linecolor": "white",
             "minorgridcolor": "white",
             "startlinecolor": "#2a3f5f"
            },
            "type": "carpet"
           }
          ],
          "choropleth": [
           {
            "colorbar": {
             "outlinewidth": 0,
             "ticks": ""
            },
            "type": "choropleth"
           }
          ],
          "contour": [
           {
            "colorbar": {
             "outlinewidth": 0,
             "ticks": ""
            },
            "colorscale": [
             [
              0,
              "#0d0887"
             ],
             [
              0.1111111111111111,
              "#46039f"
             ],
             [
              0.2222222222222222,
              "#7201a8"
             ],
             [
              0.3333333333333333,
              "#9c179e"
             ],
             [
              0.4444444444444444,
              "#bd3786"
             ],
             [
              0.5555555555555556,
              "#d8576b"
             ],
             [
              0.6666666666666666,
              "#ed7953"
             ],
             [
              0.7777777777777778,
              "#fb9f3a"
             ],
             [
              0.8888888888888888,
              "#fdca26"
             ],
             [
              1,
              "#f0f921"
             ]
            ],
            "type": "contour"
           }
          ],
          "contourcarpet": [
           {
            "colorbar": {
             "outlinewidth": 0,
             "ticks": ""
            },
            "type": "contourcarpet"
           }
          ],
          "heatmap": [
           {
            "colorbar": {
             "outlinewidth": 0,
             "ticks": ""
            },
            "colorscale": [
             [
              0,
              "#0d0887"
             ],
             [
              0.1111111111111111,
              "#46039f"
             ],
             [
              0.2222222222222222,
              "#7201a8"
             ],
             [
              0.3333333333333333,
              "#9c179e"
             ],
             [
              0.4444444444444444,
              "#bd3786"
             ],
             [
              0.5555555555555556,
              "#d8576b"
             ],
             [
              0.6666666666666666,
              "#ed7953"
             ],
             [
              0.7777777777777778,
              "#fb9f3a"
             ],
             [
              0.8888888888888888,
              "#fdca26"
             ],
             [
              1,
              "#f0f921"
             ]
            ],
            "type": "heatmap"
           }
          ],
          "heatmapgl": [
           {
            "colorbar": {
             "outlinewidth": 0,
             "ticks": ""
            },
            "colorscale": [
             [
              0,
              "#0d0887"
             ],
             [
              0.1111111111111111,
              "#46039f"
             ],
             [
              0.2222222222222222,
              "#7201a8"
             ],
             [
              0.3333333333333333,
              "#9c179e"
             ],
             [
              0.4444444444444444,
              "#bd3786"
             ],
             [
              0.5555555555555556,
              "#d8576b"
             ],
             [
              0.6666666666666666,
              "#ed7953"
             ],
             [
              0.7777777777777778,
              "#fb9f3a"
             ],
             [
              0.8888888888888888,
              "#fdca26"
             ],
             [
              1,
              "#f0f921"
             ]
            ],
            "type": "heatmapgl"
           }
          ],
          "histogram": [
           {
            "marker": {
             "pattern": {
              "fillmode": "overlay",
              "size": 10,
              "solidity": 0.2
             }
            },
            "type": "histogram"
           }
          ],
          "histogram2d": [
           {
            "colorbar": {
             "outlinewidth": 0,
             "ticks": ""
            },
            "colorscale": [
             [
              0,
              "#0d0887"
             ],
             [
              0.1111111111111111,
              "#46039f"
             ],
             [
              0.2222222222222222,
              "#7201a8"
             ],
             [
              0.3333333333333333,
              "#9c179e"
             ],
             [
              0.4444444444444444,
              "#bd3786"
             ],
             [
              0.5555555555555556,
              "#d8576b"
             ],
             [
              0.6666666666666666,
              "#ed7953"
             ],
             [
              0.7777777777777778,
              "#fb9f3a"
             ],
             [
              0.8888888888888888,
              "#fdca26"
             ],
             [
              1,
              "#f0f921"
             ]
            ],
            "type": "histogram2d"
           }
          ],
          "histogram2dcontour": [
           {
            "colorbar": {
             "outlinewidth": 0,
             "ticks": ""
            },
            "colorscale": [
             [
              0,
              "#0d0887"
             ],
             [
              0.1111111111111111,
              "#46039f"
             ],
             [
              0.2222222222222222,
              "#7201a8"
             ],
             [
              0.3333333333333333,
              "#9c179e"
             ],
             [
              0.4444444444444444,
              "#bd3786"
             ],
             [
              0.5555555555555556,
              "#d8576b"
             ],
             [
              0.6666666666666666,
              "#ed7953"
             ],
             [
              0.7777777777777778,
              "#fb9f3a"
             ],
             [
              0.8888888888888888,
              "#fdca26"
             ],
             [
              1,
              "#f0f921"
             ]
            ],
            "type": "histogram2dcontour"
           }
          ],
          "mesh3d": [
           {
            "colorbar": {
             "outlinewidth": 0,
             "ticks": ""
            },
            "type": "mesh3d"
           }
          ],
          "parcoords": [
           {
            "line": {
             "colorbar": {
              "outlinewidth": 0,
              "ticks": ""
             }
            },
            "type": "parcoords"
           }
          ],
          "pie": [
           {
            "automargin": true,
            "type": "pie"
           }
          ],
          "scatter": [
           {
            "fillpattern": {
             "fillmode": "overlay",
             "size": 10,
             "solidity": 0.2
            },
            "type": "scatter"
           }
          ],
          "scatter3d": [
           {
            "line": {
             "colorbar": {
              "outlinewidth": 0,
              "ticks": ""
             }
            },
            "marker": {
             "colorbar": {
              "outlinewidth": 0,
              "ticks": ""
             }
            },
            "type": "scatter3d"
           }
          ],
          "scattercarpet": [
           {
            "marker": {
             "colorbar": {
              "outlinewidth": 0,
              "ticks": ""
             }
            },
            "type": "scattercarpet"
           }
          ],
          "scattergeo": [
           {
            "marker": {
             "colorbar": {
              "outlinewidth": 0,
              "ticks": ""
             }
            },
            "type": "scattergeo"
           }
          ],
          "scattergl": [
           {
            "marker": {
             "colorbar": {
              "outlinewidth": 0,
              "ticks": ""
             }
            },
            "type": "scattergl"
           }
          ],
          "scattermapbox": [
           {
            "marker": {
             "colorbar": {
              "outlinewidth": 0,
              "ticks": ""
             }
            },
            "type": "scattermapbox"
           }
          ],
          "scatterpolar": [
           {
            "marker": {
             "colorbar": {
              "outlinewidth": 0,
              "ticks": ""
             }
            },
            "type": "scatterpolar"
           }
          ],
          "scatterpolargl": [
           {
            "marker": {
             "colorbar": {
              "outlinewidth": 0,
              "ticks": ""
             }
            },
            "type": "scatterpolargl"
           }
          ],
          "scatterternary": [
           {
            "marker": {
             "colorbar": {
              "outlinewidth": 0,
              "ticks": ""
             }
            },
            "type": "scatterternary"
           }
          ],
          "surface": [
           {
            "colorbar": {
             "outlinewidth": 0,
             "ticks": ""
            },
            "colorscale": [
             [
              0,
              "#0d0887"
             ],
             [
              0.1111111111111111,
              "#46039f"
             ],
             [
              0.2222222222222222,
              "#7201a8"
             ],
             [
              0.3333333333333333,
              "#9c179e"
             ],
             [
              0.4444444444444444,
              "#bd3786"
             ],
             [
              0.5555555555555556,
              "#d8576b"
             ],
             [
              0.6666666666666666,
              "#ed7953"
             ],
             [
              0.7777777777777778,
              "#fb9f3a"
             ],
             [
              0.8888888888888888,
              "#fdca26"
             ],
             [
              1,
              "#f0f921"
             ]
            ],
            "type": "surface"
           }
          ],
          "table": [
           {
            "cells": {
             "fill": {
              "color": "#EBF0F8"
             },
             "line": {
              "color": "white"
             }
            },
            "header": {
             "fill": {
              "color": "#C8D4E3"
             },
             "line": {
              "color": "white"
             }
            },
            "type": "table"
           }
          ]
         },
         "layout": {
          "annotationdefaults": {
           "arrowcolor": "#2a3f5f",
           "arrowhead": 0,
           "arrowwidth": 1
          },
          "autotypenumbers": "strict",
          "coloraxis": {
           "colorbar": {
            "outlinewidth": 0,
            "ticks": ""
           }
          },
          "colorscale": {
           "diverging": [
            [
             0,
             "#8e0152"
            ],
            [
             0.1,
             "#c51b7d"
            ],
            [
             0.2,
             "#de77ae"
            ],
            [
             0.3,
             "#f1b6da"
            ],
            [
             0.4,
             "#fde0ef"
            ],
            [
             0.5,
             "#f7f7f7"
            ],
            [
             0.6,
             "#e6f5d0"
            ],
            [
             0.7,
             "#b8e186"
            ],
            [
             0.8,
             "#7fbc41"
            ],
            [
             0.9,
             "#4d9221"
            ],
            [
             1,
             "#276419"
            ]
           ],
           "sequential": [
            [
             0,
             "#0d0887"
            ],
            [
             0.1111111111111111,
             "#46039f"
            ],
            [
             0.2222222222222222,
             "#7201a8"
            ],
            [
             0.3333333333333333,
             "#9c179e"
            ],
            [
             0.4444444444444444,
             "#bd3786"
            ],
            [
             0.5555555555555556,
             "#d8576b"
            ],
            [
             0.6666666666666666,
             "#ed7953"
            ],
            [
             0.7777777777777778,
             "#fb9f3a"
            ],
            [
             0.8888888888888888,
             "#fdca26"
            ],
            [
             1,
             "#f0f921"
            ]
           ],
           "sequentialminus": [
            [
             0,
             "#0d0887"
            ],
            [
             0.1111111111111111,
             "#46039f"
            ],
            [
             0.2222222222222222,
             "#7201a8"
            ],
            [
             0.3333333333333333,
             "#9c179e"
            ],
            [
             0.4444444444444444,
             "#bd3786"
            ],
            [
             0.5555555555555556,
             "#d8576b"
            ],
            [
             0.6666666666666666,
             "#ed7953"
            ],
            [
             0.7777777777777778,
             "#fb9f3a"
            ],
            [
             0.8888888888888888,
             "#fdca26"
            ],
            [
             1,
             "#f0f921"
            ]
           ]
          },
          "colorway": [
           "#636efa",
           "#EF553B",
           "#00cc96",
           "#ab63fa",
           "#FFA15A",
           "#19d3f3",
           "#FF6692",
           "#B6E880",
           "#FF97FF",
           "#FECB52"
          ],
          "font": {
           "color": "#2a3f5f"
          },
          "geo": {
           "bgcolor": "white",
           "lakecolor": "white",
           "landcolor": "#E5ECF6",
           "showlakes": true,
           "showland": true,
           "subunitcolor": "white"
          },
          "hoverlabel": {
           "align": "left"
          },
          "hovermode": "closest",
          "mapbox": {
           "style": "light"
          },
          "paper_bgcolor": "white",
          "plot_bgcolor": "#E5ECF6",
          "polar": {
           "angularaxis": {
            "gridcolor": "white",
            "linecolor": "white",
            "ticks": ""
           },
           "bgcolor": "#E5ECF6",
           "radialaxis": {
            "gridcolor": "white",
            "linecolor": "white",
            "ticks": ""
           }
          },
          "scene": {
           "xaxis": {
            "backgroundcolor": "#E5ECF6",
            "gridcolor": "white",
            "gridwidth": 2,
            "linecolor": "white",
            "showbackground": true,
            "ticks": "",
            "zerolinecolor": "white"
           },
           "yaxis": {
            "backgroundcolor": "#E5ECF6",
            "gridcolor": "white",
            "gridwidth": 2,
            "linecolor": "white",
            "showbackground": true,
            "ticks": "",
            "zerolinecolor": "white"
           },
           "zaxis": {
            "backgroundcolor": "#E5ECF6",
            "gridcolor": "white",
            "gridwidth": 2,
            "linecolor": "white",
            "showbackground": true,
            "ticks": "",
            "zerolinecolor": "white"
           }
          },
          "shapedefaults": {
           "line": {
            "color": "#2a3f5f"
           }
          },
          "ternary": {
           "aaxis": {
            "gridcolor": "white",
            "linecolor": "white",
            "ticks": ""
           },
           "baxis": {
            "gridcolor": "white",
            "linecolor": "white",
            "ticks": ""
           },
           "bgcolor": "#E5ECF6",
           "caxis": {
            "gridcolor": "white",
            "linecolor": "white",
            "ticks": ""
           }
          },
          "title": {
           "x": 0.05
          },
          "xaxis": {
           "automargin": true,
           "gridcolor": "white",
           "linecolor": "white",
           "ticks": "",
           "title": {
            "standoff": 15
           },
           "zerolinecolor": "white",
           "zerolinewidth": 2
          },
          "yaxis": {
           "automargin": true,
           "gridcolor": "white",
           "linecolor": "white",
           "ticks": "",
           "title": {
            "standoff": 15
           },
           "zerolinecolor": "white",
           "zerolinewidth": 2
          }
         }
        },
        "title": {
         "text": "Predicted Market Values for Selected Players"
        },
        "xaxis": {
         "anchor": "y",
         "domain": [
          0,
          1
         ],
         "title": {
          "text": "year"
         }
        },
        "yaxis": {
         "anchor": "x",
         "domain": [
          0,
          1
         ],
         "title": {
          "text": "predicted_value"
         }
        }
       }
      }
     },
     "metadata": {},
     "output_type": "display_data"
    }
   ],
   "source": [
    "plot_player_value_trends(\n",
    "    pdf_train, merged_capped,\n",
    "    top_year=2025,\n",
    "    top_n=10\n",
    ")"
   ]
  },
  {
   "cell_type": "code",
   "execution_count": 21,
   "id": "ffe03298",
   "metadata": {},
   "outputs": [
    {
     "name": "stderr",
     "output_type": "stream",
     "text": [
      "C:\\Users\\tomkn\\AppData\\Local\\Temp\\ipykernel_1020\\2420814704.py:2: SettingWithCopyWarning:\n",
      "\n",
      "\n",
      "A value is trying to be set on a copy of a slice from a DataFrame.\n",
      "Try using .loc[row_indexer,col_indexer] = value instead\n",
      "\n",
      "See the caveats in the documentation: https://pandas.pydata.org/pandas-docs/stable/user_guide/indexing.html#returning-a-view-versus-a-copy\n",
      "\n"
     ]
    }
   ],
   "source": [
    "output_df = merged_capped.query(\"year == 2023\")\n",
    "output_df[\"actual_value\"] = y_test.values\n"
   ]
  },
  {
   "cell_type": "code",
   "execution_count": 25,
   "id": "ff1ecd6d",
   "metadata": {},
   "outputs": [],
   "source": [
    "pdf_feature_importance = top_features.reset_index()\n",
    "pdf_feature_importance.columns = [\"feature\", \"importance\"]\n",
    "pdf_feature_importance[\"model_output_id\"] = forecast_id"
   ]
  },
  {
   "cell_type": "code",
   "execution_count": 26,
   "id": "92f0235e",
   "metadata": {},
   "outputs": [
    {
     "data": {
      "image/png": "[encoded data removed]",
      "text/plain": [
       "<Figure size 2400x1600 with 1 Axes>"
      ]
     },
     "metadata": {},
     "output_type": "display_data"
    }
   ],
   "source": [
    "\n",
    "\n",
    "\n",
    "plot_basic_decision_tree(pdf_train, features, target, max_depth=4)"
   ]
  },
  {
   "cell_type": "code",
   "execution_count": 27,
   "id": "bd4f4640",
   "metadata": {},
   "outputs": [
    {
     "name": "stderr",
     "output_type": "stream",
     "text": [
      "C:\\Users\\tomkn\\AppData\\Local\\Temp\\ipykernel_1020\\2774007858.py:1: SettingWithCopyWarning:\n",
      "\n",
      "\n",
      "A value is trying to be set on a copy of a slice from a DataFrame.\n",
      "Try using .loc[row_indexer,col_indexer] = value instead\n",
      "\n",
      "See the caveats in the documentation: https://pandas.pydata.org/pandas-docs/stable/user_guide/indexing.html#returning-a-view-versus-a-copy\n",
      "\n",
      "C:\\Users\\tomkn\\AppData\\Local\\Temp\\ipykernel_1020\\2774007858.py:2: SettingWithCopyWarning:\n",
      "\n",
      "\n",
      "A value is trying to be set on a copy of a slice from a DataFrame.\n",
      "Try using .loc[row_indexer,col_indexer] = value instead\n",
      "\n",
      "See the caveats in the documentation: https://pandas.pydata.org/pandas-docs/stable/user_guide/indexing.html#returning-a-view-versus-a-copy\n",
      "\n",
      "C:\\Users\\tomkn\\AppData\\Local\\Temp\\ipykernel_1020\\2774007858.py:3: SettingWithCopyWarning:\n",
      "\n",
      "\n",
      "A value is trying to be set on a copy of a slice from a DataFrame.\n",
      "Try using .loc[row_indexer,col_indexer] = value instead\n",
      "\n",
      "See the caveats in the documentation: https://pandas.pydata.org/pandas-docs/stable/user_guide/indexing.html#returning-a-view-versus-a-copy\n",
      "\n",
      "C:\\Users\\tomkn\\AppData\\Local\\Temp\\ipykernel_1020\\2774007858.py:4: SettingWithCopyWarning:\n",
      "\n",
      "\n",
      "A value is trying to be set on a copy of a slice from a DataFrame.\n",
      "Try using .loc[row_indexer,col_indexer] = value instead\n",
      "\n",
      "See the caveats in the documentation: https://pandas.pydata.org/pandas-docs/stable/user_guide/indexing.html#returning-a-view-versus-a-copy\n",
      "\n",
      "C:\\Users\\tomkn\\AppData\\Local\\Temp\\ipykernel_1020\\2774007858.py:5: SettingWithCopyWarning:\n",
      "\n",
      "\n",
      "A value is trying to be set on a copy of a slice from a DataFrame.\n",
      "Try using .loc[row_indexer,col_indexer] = value instead\n",
      "\n",
      "See the caveats in the documentation: https://pandas.pydata.org/pandas-docs/stable/user_guide/indexing.html#returning-a-view-versus-a-copy\n",
      "\n",
      "C:\\Users\\tomkn\\AppData\\Local\\Temp\\ipykernel_1020\\2774007858.py:6: SettingWithCopyWarning:\n",
      "\n",
      "\n",
      "A value is trying to be set on a copy of a slice from a DataFrame.\n",
      "Try using .loc[row_indexer,col_indexer] = value instead\n",
      "\n",
      "See the caveats in the documentation: https://pandas.pydata.org/pandas-docs/stable/user_guide/indexing.html#returning-a-view-versus-a-copy\n",
      "\n",
      "C:\\Users\\tomkn\\AppData\\Local\\Temp\\ipykernel_1020\\2774007858.py:7: SettingWithCopyWarning:\n",
      "\n",
      "\n",
      "A value is trying to be set on a copy of a slice from a DataFrame.\n",
      "Try using .loc[row_indexer,col_indexer] = value instead\n",
      "\n",
      "See the caveats in the documentation: https://pandas.pydata.org/pandas-docs/stable/user_guide/indexing.html#returning-a-view-versus-a-copy\n",
      "\n"
     ]
    }
   ],
   "source": [
    "output_df[\"model_output_id\"] = forecast_id\n",
    "output_df[\"model_run_date\"] = datetime.datetime.now()\n",
    "output_df[\"time_taken_seconds\"] = diff\n",
    "output_df[\"features_used\"] = str(features)\n",
    "output_df[\"model_type\"] = \"XG_Boost\"\n",
    "output_df[\"split_year\"] = test_start\n",
    "output_df[\"version\"] = version"
   ]
  },
  {
   "cell_type": "code",
   "execution_count": 28,
   "id": "ddf63cbf",
   "metadata": {},
   "outputs": [],
   "source": [
    "save_output_tables(output_df)"
   ]
  },
  {
   "cell_type": "code",
   "execution_count": 29,
   "id": "e279e35a",
   "metadata": {},
   "outputs": [],
   "source": [
    "\n",
    "feature_path = \"data/output/feature_importance.csv\"\n",
    "\n",
    "# Check if files exist\n",
    "feature_exists = os.path.isfile(feature_path)\n",
    "\n",
    "# Append output\n",
    "pdf_feature_importance.to_csv(feature_path, mode=\"a\", index=False, header=not feature_exists)\n",
    "\n"
   ]
  },
  {
   "cell_type": "code",
   "execution_count": null,
   "id": "a17bea66",
   "metadata": {},
   "outputs": [],
   "source": []
  }
 ],
 "metadata": {
  "kernelspec": {
   "display_name": "Python 3",
   "language": "python",
   "name": "python3"
  },
  "language_info": {
   "codemirror_mode": {
    "name": "ipython",
    "version": 3
   },
   "file_extension": ".py",
   "mimetype": "text/x-python",
   "name": "python",
   "nbconvert_exporter": "python",
   "pygments_lexer": "ipython3",
   "version": "3.11.9"
  }
 },
 "nbformat": 4,
 "nbformat_minor": 5
}
