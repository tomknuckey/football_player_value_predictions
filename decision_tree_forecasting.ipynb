{
 "cells": [
  {
   "cell_type": "code",
   "execution_count": 1,
   "id": "1b43e964",
   "metadata": {},
   "outputs": [
    {
     "name": "stderr",
     "output_type": "stream",
     "text": [
      "C:\\Users\\tomkn\\AppData\\Local\\Packages\\PythonSoftwareFoundation.Python.3.11_qbz5n2kfra8p0\\LocalCache\\local-packages\\Python311\\site-packages\\tqdm\\auto.py:21: TqdmWarning: IProgress not found. Please update jupyter and ipywidgets. See https://ipywidgets.readthedocs.io/en/stable/user_install.html\n",
      "  from .autonotebook import tqdm as notebook_tqdm\n"
     ]
    }
   ],
   "source": [
    "import pandas as pd\n",
    "import plotly.express as px\n",
    "from sklearn.tree import DecisionTreeRegressor\n",
    "from sklearn import tree\n",
    "import matplotlib.pyplot as plt\n",
    "from sklearn.metrics import root_mean_squared_error\n",
    "from sklearn.metrics import r2_score\n",
    "from typing import List, Tuple\n",
    "from xgboost import XGBRegressor \n",
    "import uuid\n",
    "import datetime \n",
    "import time\n",
    "from sklearn.model_selection import RandomizedSearchCV, TimeSeriesSplit, GridSearchCV, train_test_split\n",
    "from utils.output_analysis import plot_decision_tree_importance, plot_player_value_trends, save_output_tables, create_shapley_values_plots\n",
    "from utils.model import test_train_split, define_features\n",
    "import optuna\n",
    "from config import features, test_start\n",
    "\n"
   ]
  },
  {
   "cell_type": "code",
   "execution_count": 2,
   "id": "95766a24",
   "metadata": {},
   "outputs": [],
   "source": [
    "start = time.time()"
   ]
  },
  {
   "cell_type": "code",
   "execution_count": 3,
   "id": "577b7f61",
   "metadata": {},
   "outputs": [],
   "source": [
    "pdf_mvp = pd.read_csv(\"data/intermediate/time_series_model_data_prep.csv\") "
   ]
  },
  {
   "cell_type": "code",
   "execution_count": 4,
   "id": "762ec1b7",
   "metadata": {},
   "outputs": [],
   "source": [
    "version  = \"v0.0.4\""
   ]
  },
  {
   "cell_type": "code",
   "execution_count": 5,
   "id": "18256918",
   "metadata": {},
   "outputs": [],
   "source": [
    "\n",
    "features = define_features(pdf_mvp, features)\n",
    "\n",
    "pdf_train, pdf_test = test_train_split(pdf_mvp, test_start)"
   ]
  },
  {
   "cell_type": "code",
   "execution_count": null,
   "id": "d0c1c16d",
   "metadata": {},
   "outputs": [],
   "source": [
    "def objective(\n",
    "    trial: optuna.Trial,\n",
    "    X: pd.DataFrame,\n",
    "    y: pd.Series,\n",
    "    tscv: TimeSeriesSplit,\n",
    ") -> float:\n",
    "    params = {\n",
    "        \"n_estimators\": trial.suggest_int(\"n_estimators\", 50, 200),  # Number of trees\n",
    "        \"learning_rate\": trial.suggest_float(\"learning_rate\", 0.01, 0.3),  # Learning rate\n",
    "        \"max_depth\": trial.suggest_int(\"max_depth\", 1, 7),  # Tree depth\n",
    "        \"subsample\": trial.suggest_float(\"subsample\", 0.5, 1.0),  # Subsampling fraction\n",
    "        \"colsample_bytree\": trial.suggest_float(\"colsample_bytree\", 0.6, 1.0),\n",
    "        \"gamma\": trial.suggest_float(\"gamma\", 0, 5),  # Min loss reduction for split\n",
    "        \"reg_alpha\": trial.suggest_float(\"reg_alpha\", 0.0, 1.0),  # L1 regularization\n",
    "        \"reg_lambda\": trial.suggest_float(\"reg_lambda\", 0.1, 10.0),  # L2 regularization\n",
    "        \"random_state\": 42,\n",
    "        \"objective\": \"reg:squarederror\",\n",
    "        \"tree_method\": \"hist\",\n",
    "        \"verbosity\": 0,\n",
    "    }\n",
    "\n",
    "    rmse_scores = []\n",
    "\n",
    "    for train_idx, val_idx in tscv.split(X):\n",
    "        X_train, X_val = X.iloc[train_idx], X.iloc[val_idx]\n",
    "        y_train, y_val = y.iloc[train_idx], y.iloc[val_idx]\n",
    "\n",
    "        model = XGBRegressor(**params)\n",
    "        model.fit(X_train, y_train)\n",
    "\n",
    "        preds = model.predict(X_val)\n",
    "        rmse = root_mean_squared_error(y_val, preds)\n",
    "        rmse_scores.append(rmse)\n",
    "\n",
    "    return sum(rmse_scores) / len(rmse_scores)  # Average RMSE across folds\n",
    "\n",
    "\n",
    "def predict_future_values(\n",
    "    train_df: pd.DataFrame,\n",
    "    test_df: pd.DataFrame,\n",
    "    prediction_years: List[int],\n",
    "    features: List[str],\n",
    "    n_trials: int = 500,\n",
    ") -> Tuple[pd.DataFrame, XGBRegressor, pd.Series]:\n",
    "    \"\"\"\n",
    "    Predicts future player values for specified years using XGBoost and Optuna hyperparameter tuning.\n",
    "\n",
    "    Args:\n",
    "        train_df: Training DataFrame with features and target.\n",
    "        test_df: Initial test DataFrame to predict from (starting year).\n",
    "        prediction_years: List of years to predict, starting with the base year.\n",
    "        features: List of feature column names to use.\n",
    "        n_trials: Number of Optuna trials for hyperparameter search.\n",
    "\n",
    "    Returns:\n",
    "        Tuple of:\n",
    "            - DataFrame with predicted values for all prediction years concatenated.\n",
    "            - Trained XGBRegressor using best Optuna params.\n",
    "            - y_test from the base year (only valid for the first year).\n",
    "    \"\"\"\n",
    "    target = \"market_value_in_million_eur\"\n",
    "\n",
    "    X_train = train_df[features]\n",
    "    y_train = train_df[target]\n",
    "\n",
    "    tscv = TimeSeriesSplit(n_splits=3)\n",
    "\n",
    "    study = optuna.create_study(direction=\"minimize\")\n",
    "    study.optimize(lambda trial: objective(trial, X_train, y_train, tscv), n_trials=n_trials, show_progress_bar=False)\n",
    "\n",
    "    print(f\"Best trial params: {study.best_trial.params}\")\n",
    "    print(f\"Best trial RMSE: {study.best_value:.4f}\")\n",
    "\n",
    "    # Train final model on all training data with best params\n",
    "    best_params = study.best_trial.params\n",
    "    # Add fixed params required by XGBRegressor\n",
    "    best_params.update({\n",
    "        \"random_state\": 42,\n",
    "        \"objective\": \"reg:squarederror\",\n",
    "        \"tree_method\": \"hist\",\n",
    "        \"verbosity\": 0,\n",
    "    })\n",
    "\n",
    "    model = XGBRegressor(**best_params)\n",
    "    model.fit(X_train, y_train)\n",
    "\n",
    "    predictions = []\n",
    "    current_df = test_df.copy()\n",
    "\n",
    "    for i, year in enumerate(prediction_years):\n",
    "        X_test = current_df[features]\n",
    "        current_df[\"predicted_value\"] = model.predict(X_test)\n",
    "        current_df[\"year\"] = year\n",
    "\n",
    "        if i == 0:\n",
    "            y_test = current_df[target]\n",
    "            rmse = root_mean_squared_error(y_test, current_df[\"predicted_value\"])\n",
    "            r2 = r2_score(y_test, current_df[\"predicted_value\"])\n",
    "            print(f\"{year} RMSE: {rmse:.2f}\")\n",
    "            print(f\"{year} R²: {r2:.3f}\")\n",
    "\n",
    "            fig = px.scatter(current_df, x=\"predicted_value\", y=target, hover_data=[\"name\", \"age\"])\n",
    "            fig.show()\n",
    "            create_shapley_values_plots(model, X_train, features)\n",
    "        else:\n",
    "            current_df[\"age\"] = current_df[\"age_last_year\"] + 1\n",
    "\n",
    "        # Reduce contract years left by 1, never below 0\n",
    "        if \"contract_years_left\" in current_df.columns:\n",
    "            current_df[\"contract_years_left\"] = (current_df[\"contract_years_left\"] - 1).clip(lower=0)\n",
    "\n",
    "        current_df[\"age_last_year\"] = current_df[\"age\"]\n",
    "        current_df[\"value_last_year\"] = current_df[\"predicted_value\"]\n",
    "\n",
    "        predictions.append(current_df[[\"player_id\", \"year\", \"age\", \"predicted_value\"]].copy())\n",
    "\n",
    "        if i < len(prediction_years) - 1:\n",
    "            pos_cols = [col for col in current_df.columns if col.startswith(\"pos_\")]\n",
    "            subpos_cols = [col for col in current_df.columns if col.startswith(\"subpos_\")]\n",
    "            static_cols = pos_cols + subpos_cols\n",
    "\n",
    "            carry_cols = [\"player_id\", \"value_last_year\", \"age\", *static_cols]\n",
    "            if \"contract_years_left\" in current_df.columns:\n",
    "                carry_cols.append(\"contract_years_left\")\n",
    "            current_df = current_df[carry_cols].copy()\n",
    "            current_df.rename(columns={\"age\": \"age_last_year\"}, inplace=True)\n",
    "\n",
    "    all_predictions_df = pd.concat(predictions, ignore_index=True)\n",
    "    return all_predictions_df, model, y_test\n"
   ]
  },
  {
   "cell_type": "code",
   "execution_count": 7,
   "id": "92b49796",
   "metadata": {},
   "outputs": [
    {
     "name": "stderr",
     "output_type": "stream",
     "text": [
      "[I 2025-07-31 16:03:00,780] A new study created in memory with name: no-name-88abd1c1-bb14-405d-9e68-abc2db311c96\n"
     ]
    },
    {
     "name": "stderr",
     "output_type": "stream",
     "text": [
      "[I 2025-07-31 16:03:00,940] Trial 0 finished with value: 4.8042038224689385 and parameters: {'n_estimators': 95, 'learning_rate': 0.2926517262532305, 'max_depth': 3, 'subsample': 0.9851760402268697, 'colsample_bytree': 0.9525036530804558, 'gamma': 3.044555475548541, 'reg_alpha': 0.6838056328225663, 'reg_lambda': 2.2927535745101255}. Best is trial 0 with value: 4.8042038224689385.\n",
      "[I 2025-07-31 16:03:01,074] Trial 1 finished with value: 6.337972177199197 and parameters: {'n_estimators': 57, 'learning_rate': 0.20268148956921678, 'max_depth': 5, 'subsample': 0.8804900099519088, 'colsample_bytree': 0.6657896082029052, 'gamma': 2.8952115482005563, 'reg_alpha': 0.13068594331137162, 'reg_lambda': 9.917882370441957}. Best is trial 0 with value: 4.8042038224689385.\n",
      "[I 2025-07-31 16:03:01,247] Trial 2 finished with value: 4.772457504201885 and parameters: {'n_estimators': 71, 'learning_rate': 0.2487059578651506, 'max_depth': 4, 'subsample': 0.5621985222337486, 'colsample_bytree': 0.9921241115733066, 'gamma': 3.67672366933743, 'reg_alpha': 0.6759004872628647, 'reg_lambda': 6.750340118339383}. Best is trial 2 with value: 4.772457504201885.\n",
      "[I 2025-07-31 16:03:01,391] Trial 3 finished with value: 5.046970605001293 and parameters: {'n_estimators': 91, 'learning_rate': 0.24819638607631073, 'max_depth': 1, 'subsample': 0.5430140412982462, 'colsample_bytree': 0.6156123479177876, 'gamma': 4.8398572081863955, 'reg_alpha': 0.8879025387321052, 'reg_lambda': 9.170217220714354}. Best is trial 2 with value: 4.772457504201885.\n",
      "[I 2025-07-31 16:03:01,609] Trial 4 finished with value: 4.982054173652418 and parameters: {'n_estimators': 72, 'learning_rate': 0.0493966802604841, 'max_depth': 7, 'subsample': 0.7659368292739943, 'colsample_bytree': 0.9040523200814633, 'gamma': 4.81685913956423, 'reg_alpha': 0.8727089675699541, 'reg_lambda': 3.4543814455761646}. Best is trial 2 with value: 4.772457504201885.\n",
      "[I 2025-07-31 16:03:01,715] Trial 5 finished with value: 5.223172262794292 and parameters: {'n_estimators': 80, 'learning_rate': 0.1452651361438921, 'max_depth': 1, 'subsample': 0.5537281202920832, 'colsample_bytree': 0.6906681366954985, 'gamma': 1.7411852640935606, 'reg_alpha': 0.5323109866737207, 'reg_lambda': 8.674725502568174}. Best is trial 2 with value: 4.772457504201885.\n",
      "[I 2025-07-31 16:03:01,872] Trial 6 finished with value: 5.581606357430427 and parameters: {'n_estimators': 123, 'learning_rate': 0.1893977073795198, 'max_depth': 3, 'subsample': 0.8404191115838353, 'colsample_bytree': 0.796275222441855, 'gamma': 1.0936828718646419, 'reg_alpha': 0.1793604336692537, 'reg_lambda': 7.4665180139726015}. Best is trial 2 with value: 4.772457504201885.\n",
      "[I 2025-07-31 16:03:02,111] Trial 7 finished with value: 5.702519423156073 and parameters: {'n_estimators': 164, 'learning_rate': 0.29219075031760666, 'max_depth': 4, 'subsample': 0.7219531154640302, 'colsample_bytree': 0.7322465709709327, 'gamma': 2.9055209773461983, 'reg_alpha': 0.031554290978407784, 'reg_lambda': 1.399089169731043}. Best is trial 2 with value: 4.772457504201885.\n",
      "[I 2025-07-31 16:03:02,276] Trial 8 finished with value: 5.134455667585402 and parameters: {'n_estimators': 55, 'learning_rate': 0.04133301917862666, 'max_depth': 7, 'subsample': 0.6938136501725475, 'colsample_bytree': 0.9998066386870668, 'gamma': 0.6384592202797468, 'reg_alpha': 0.40869080490254106, 'reg_lambda': 3.8877202375545012}. Best is trial 2 with value: 4.772457504201885.\n",
      "[I 2025-07-31 16:03:02,513] Trial 9 finished with value: 5.072045081602263 and parameters: {'n_estimators': 122, 'learning_rate': 0.09960302651187966, 'max_depth': 4, 'subsample': 0.9928754716450494, 'colsample_bytree': 0.869020144535062, 'gamma': 0.28891839223575577, 'reg_alpha': 0.3193994458461934, 'reg_lambda': 3.551938930397376}. Best is trial 2 with value: 4.772457504201885.\n"
     ]
    },
    {
     "name": "stdout",
     "output_type": "stream",
     "text": [
      "Best trial params: {'n_estimators': 71, 'learning_rate': 0.2487059578651506, 'max_depth': 4, 'subsample': 0.5621985222337486, 'colsample_bytree': 0.9921241115733066, 'gamma': 3.67672366933743, 'reg_alpha': 0.6759004872628647, 'reg_lambda': 6.750340118339383}\n",
      "Best trial RMSE: 4.7725\n",
      "2023 RMSE: 6.94\n",
      "2023 R²: 0.809\n"
     ]
    },
    {
     "data": {
      "application/vnd.plotly.v1+json": {
       "config": {
        "plotlyServerURL": "https://plot.ly"
       },
       "data": [
        {
         "customdata": [
          [
           "Eldin Jakupovic",
           38
          ],
          [
           "James Milner",
           37
          ],
          [
           "Óscar Ustari",
           36
          ],
          [
           "Gabriel Tamas",
           39
          ],
          [
           "Cristiano Ronaldo",
           38
          ],
          [
           "Shaun MacDonald",
           34
          ],
          [
           "Phil Jagielka",
           40
          ],
          [
           "Andy Lonergan",
           39
          ],
          [
           "Ashley Young",
           37
          ],
          [
           "Scott Carson",
           37
          ],
          [
           "Phil Bardsley",
           37
          ],
          [
           "David Martin",
           37
          ],
          [
           "Casemiro",
           31
          ],
          [
           "Hugo Lloris",
           36
          ],
          [
           "Curtis Davies",
           38
          ],
          [
           "Willy Caballero",
           41
          ],
          [
           "Fernandinho",
           37
          ],
          [
           "Nenê",
           41
          ],
          [
           "Thiago Silva",
           38
          ],
          [
           "Lukasz Fabianski",
           38
          ],
          [
           "John Ruddy",
           36
          ],
          [
           "Chu-young Park",
           37
          ],
          [
           "Dusan Kuciak",
           38
          ],
          [
           "Tim Krul",
           35
          ],
          [
           "Lukas Jutkiewicz",
           34
          ],
          [
           "Theo Walcott",
           34
          ],
          [
           "Alex Smithies",
           33
          ],
          [
           "Asmir Begovic",
           36
          ],
          [
           "Tom Heaton",
           37
          ],
          [
           "Richard Stearman",
           35
          ],
          [
           "Lewis Grabban",
           35
          ],
          [
           "David McGoldrick",
           35
          ],
          [
           "Gaëtan Bong",
           35
          ],
          [
           "Leon Clarke",
           38
          ],
          [
           "Shane Long",
           36
          ],
          [
           "Kamil Grosicki",
           35
          ],
          [
           "Martin Olsson",
           35
          ],
          [
           "Lee Peltier",
           36
          ],
          [
           "Adrian Mariappa",
           36
          ],
          [
           "Kei Kamara",
           38
          ],
          [
           "Mario Vrancic",
           33
          ],
          [
           "Jozy Altidore",
           33
          ],
          [
           "Brad Guzan",
           38
          ],
          [
           "Marouane Fellaini",
           35
          ],
          [
           "Ryan Bertrand",
           33
          ],
          [
           "Liam Bridcutt",
           34
          ],
          [
           "Jack Cork",
           33
          ],
          [
           "James McArthur",
           35
          ],
          [
           "Sone Aluko",
           34
          ],
          [
           "Fraizer Campbell",
           35
          ],
          [
           "Jonny Evans",
           35
          ],
          [
           "Gary Hooper",
           34
          ],
          [
           "Gaetano Berardi",
           34
          ],
          [
           "Elliott Bennett",
           34
          ],
          [
           "Stephen Quinn",
           37
          ],
          [
           "Adam Lallana",
           35
          ],
          [
           "Erik Pieters",
           34
          ],
          [
           "Chris Gunter",
           33
          ],
          [
           "Bojan Krkic",
           32
          ],
          [
           "Beram Kayal",
           35
          ],
          [
           "Diego Costa",
           34
          ],
          [
           "Henri Lansbury",
           32
          ],
          [
           "Dan Gosling",
           33
          ],
          [
           "Claudio Yacob",
           35
          ],
          [
           "Jonathan Howson",
           35
          ],
          [
           "Wayne Hennessey",
           36
          ],
          [
           "Marco Stiepermann",
           32
          ],
          [
           "Fabri",
           35
          ],
          [
           "Luke Daniels",
           35
          ],
          [
           "Chris Martin",
           34
          ],
          [
           "Pablo Hernández",
           38
          ],
          [
           "Lovre Kalinic",
           33
          ],
          [
           "David Luiz",
           35
          ],
          [
           "Teemu Pukki",
           33
          ],
          [
           "Alex Pearce",
           34
          ],
          [
           "Jason Puncheon",
           36
          ],
          [
           "Angelo Ogbonna",
           35
          ],
          [
           "Andy Carroll",
           34
          ],
          [
           "Sam Vokes",
           33
          ],
          [
           "Jordan Rhodes",
           33
          ],
          [
           "Bradley Johnson",
           35
          ],
          [
           "James Perch",
           37
          ],
          [
           "Elias Kachunga",
           30
          ],
          [
           "Billy Sharp",
           37
          ],
          [
           "Andreas Weimann",
           31
          ],
          [
           "Danny Rose",
           32
          ],
          [
           "Christian Benteke",
           32
          ],
          [
           "Chicharito",
           35
          ],
          [
           "Aleksandar Mitrović",
           28
          ],
          [
           "Carlos Sánchez",
           37
          ],
          [
           "Darren Randolph",
           36
          ],
          [
           "Joe Allen",
           33
          ],
          [
           "Mateo Kovacic",
           29
          ],
          [
           "Henri Saivet",
           32
          ],
          [
           "Wellington Paulista",
           39
          ],
          [
           "Zanka",
           33
          ],
          [
           "Chris Basham",
           34
          ],
          [
           "Fraser Forster",
           35
          ],
          [
           "Willian",
           34
          ],
          [
           "Jay Rodríguez",
           33
          ],
          [
           "İlkay Gündoğan",
           32
          ],
          [
           "John Fleck",
           31
          ],
          [
           "Sebastián Blanco",
           35
          ],
          [
           "Magnus Wolff Eikrem",
           32
          ],
          [
           "Chris Löwe",
           34
          ],
          [
           "Harry Arter",
           33
          ],
          [
           "Jack Rodwell",
           32
          ],
          [
           "Jordon Mutch",
           31
          ],
          [
           "Simon Dawkins",
           35
          ],
          [
           "Christopher Schindler",
           33
          ],
          [
           "Emilio Nsue",
           33
          ],
          [
           "Craig Cathcart",
           34
          ],
          [
           "Thiago Alcántara",
           32
          ],
          [
           "Sean Scannell",
           32
          ],
          [
           "Marc Albrighton",
           33
          ],
          [
           "Barry Bannan",
           33
          ],
          [
           "Jonathan Hogg",
           34
          ],
          [
           "James Tomkins",
           34
          ],
          [
           "Jack Colback",
           33
          ],
          [
           "Conor Hourihane",
           32
          ],
          [
           "Neil Etheridge",
           33
          ],
          [
           "Wes Foderingham",
           32
          ],
          [
           "David Button",
           34
          ],
          [
           "Jake Livermore",
           33
          ],
          [
           "Adam Smith",
           32
          ],
          [
           "Stefan Johansen",
           32
          ],
          [
           "Shane Ferguson",
           31
          ],
          [
           "Vegard Forren",
           35
          ],
          [
           "Odion Ighalo",
           34
          ],
          [
           "Scott Dann",
           36
          ],
          [
           "Tomás Mejías",
           34
          ],
          [
           "Ashley Barnes",
           33
          ],
          [
           "Aron Gunnarsson",
           34
          ],
          [
           "Libor Kozak",
           34
          ],
          [
           "Troy Deeney",
           34
          ],
          [
           "Kyle Naughton",
           34
          ],
          [
           "Luke Freeman",
           31
          ],
          [
           "Cheikhou Kouyaté",
           33
          ],
          [
           "Gary Madine",
           32
          ],
          [
           "Danny Welbeck",
           32
          ],
          [
           "Sam Baldock",
           34
          ],
          [
           "Mark Oxley",
           32
          ],
          [
           "Ryan Bennett",
           33
          ],
          [
           "Ben Hamer",
           35
          ],
          [
           "David Stockdale",
           37
          ],
          [
           "Luke Ayling",
           31
          ],
          [
           "Kyle Bartley",
           32
          ],
          [
           "Michal Zyro",
           30
          ],
          [
           "Séamus Coleman",
           34
          ],
          [
           "Giedrius Arlauskis",
           35
          ],
          [
           "Christian Eriksen",
           31
          ],
          [
           "Garath McCleary",
           35
          ],
          [
           "Róger Espinoza",
           36
          ],
          [
           "Bernd Leno",
           31
          ],
          [
           "Adam Clayton",
           34
          ],
          [
           "Ben Amos",
           33
          ],
          [
           "James Chester",
           34
          ],
          [
           "Tom Cleverley",
           33
          ],
          [
           "Danny Drinkwater",
           33
          ],
          [
           "Matty James",
           31
          ],
          [
           "Oliver Norwood",
           32
          ],
          [
           "Jason Steele",
           32
          ],
          [
           "Pablo Sarabia",
           30
          ],
          [
           "Luka Milivojevic",
           32
          ],
          [
           "Adlène Guédioura",
           37
          ],
          [
           "Ben Mee",
           33
          ],
          [
           "Juraj Kucka",
           36
          ],
          [
           "Martin Dúbravka",
           34
          ],
          [
           "Liam Cooper",
           31
          ],
          [
           "Robin Olsen",
           33
          ],
          [
           "Niclas Füllkrug",
           30
          ],
          [
           "Lucas Moura",
           30
          ],
          [
           "Matt Phillips",
           32
          ],
          [
           "George Friend",
           35
          ],
          [
           "Thomas Kaminski",
           30
          ],
          [
           "Victor Wanyama",
           32
          ],
          [
           "Martin Kelly",
           33
          ],
          [
           "Daniel Ayala",
           32
          ],
          [
           "Sean Morrison",
           32
          ],
          [
           "Salomón Rondón",
           33
          ],
          [
           "Korey Smith",
           32
          ],
          [
           "Philippe Coutinho",
           30
          ],
          [
           "Craig Noone",
           35
          ],
          [
           "Tadanari Lee",
           37
          ],
          [
           "Sung-yueng Ki",
           34
          ],
          [
           "Chung-yong Lee",
           34
          ],
          [
           "Joel Matip",
           31
          ],
          [
           "Moritz Leitner",
           30
          ],
          [
           "Albert Adomah",
           35
          ],
          [
           "Nathaniel Clyne",
           32
          ],
          [
           "Oscar",
           31
          ],
          [
           "Borja Bastón",
           30
          ],
          [
           "Federico Fernández",
           34
          ],
          [
           "Enda Stevens",
           32
          ],
          [
           "Loris Karius",
           30
          ],
          [
           "Danny Lafferty",
           34
          ],
          [
           "James McClean",
           34
          ],
          [
           "Stefan Ortega",
           30
          ],
          [
           "Thomas Eisfeld",
           30
          ],
          [
           "Valentin Roberge",
           35
          ],
          [
           "Junior Stanislas",
           33
          ],
          [
           "Luca Scapuzzi",
           32
          ],
          [
           "Kevin De Bruyne",
           32
          ],
          [
           "Jonathan Kodjia",
           33
          ],
          [
           "Jóhann Berg Gudmundsson",
           32
          ],
          [
           "David Cornell",
           32
          ],
          [
           "Román Golobart",
           30
          ],
          [
           "Steve Cook",
           32
          ],
          [
           "Joe Bennett",
           33
          ],
          [
           "John Brayford",
           35
          ],
          [
           "Ashley Westwood",
           33
          ],
          [
           "James Shea",
           31
          ],
          [
           "Heung-min Son",
           30
          ],
          [
           "Sammy Ameobi",
           30
          ],
          [
           "Matt Ritchie",
           33
          ],
          [
           "Aaron Cresswell",
           33
          ],
          [
           "Joel Ward",
           33
          ],
          [
           "Mateusz Klich",
           33
          ],
          [
           "Kalidou Koulibaly",
           31
          ],
          [
           "Adama Diomande",
           33
          ],
          [
           "Marcos Rojo",
           33
          ],
          [
           "Stuart O'Keefe",
           32
          ],
          [
           "Muhamed Besic",
           30
          ],
          [
           "Jordan Bowery",
           31
          ],
          [
           "Connor Wickham",
           30
          ],
          [
           "Kieran Trippier",
           32
          ],
          [
           "Alex McCarthy",
           33
          ],
          [
           "Ciaran Clark",
           33
          ],
          [
           "Jannik Vestergaard",
           30
          ],
          [
           "Karl Darlow",
           32
          ],
          [
           "Matej Vydra",
           31
          ],
          [
           "Scott Malone",
           32
          ],
          [
           "Jorginho",
           31
          ],
          [
           "Matthew Lowton",
           34
          ],
          [
           "Michail Antonio",
           33
          ],
          [
           "Lyle Taylor",
           33
          ],
          [
           "Filip Orsula",
           30
          ],
          [
           "Alisson",
           30
          ],
          [
           "Jordan Ayew",
           31
          ],
          [
           "Chris Wood",
           31
          ],
          [
           "Adam Matthews",
           31
          ],
          [
           "Onel Hernández",
           30
          ],
          [
           "Luke Garbutt",
           30
          ],
          [
           "Gary Gardner",
           30
          ],
          [
           "Sam Johnstone",
           29
          ],
          [
           "Jed Steer",
           30
          ],
          [
           "Ryan Tunnicliffe",
           30
          ],
          [
           "Ryan Allsop",
           30
          ],
          [
           "Kevin Long",
           32
          ],
          [
           "Joël Veltman",
           31
          ],
          [
           "Sead Hajrovic",
           30
          ],
          [
           "Neeskens Kebano",
           31
          ],
          [
           "Ahmed Hegazy",
           32
          ],
          [
           "Neto",
           33
          ],
          [
           "Emiliano Martínez",
           30
          ],
          [
           "Philip Heise",
           32
          ],
          [
           "Tomer Hemed",
           36
          ],
          [
           "Cédric Soares",
           31
          ],
          [
           "Romaine Sawyers",
           31
          ],
          [
           "Greg Cunningham",
           32
          ],
          [
           "Richie Towell",
           31
          ],
          [
           "Luke Brattan",
           33
          ],
          [
           "Marcus Bettinelli",
           31
          ],
          [
           "Phil Jones",
           31
          ],
          [
           "Michael Keane",
           30
          ],
          [
           "Will Keane",
           30
          ],
          [
           "Ezequiel Schelotto",
           34
          ],
          [
           "Shane Duffy",
           31
          ],
          [
           "Jack Grimmer",
           29
          ],
          [
           "Daniel Bachmann",
           28
          ],
          [
           "Jazz Richards",
           32
          ],
          [
           "Alphonse Areola",
           30
          ],
          [
           "Joe Mason",
           32
          ],
          [
           "Kwesi Appiah",
           32
          ],
          [
           "Adam Davies",
           30
          ],
          [
           "Adam Forshaw",
           31
          ],
          [
           "Ryan Watson",
           29
          ],
          [
           "Tom Carroll",
           30
          ],
          [
           "John Egan",
           30
          ],
          [
           "Grant Hanley",
           31
          ],
          [
           "Eirik Johansen",
           30
          ],
          [
           "Tommy Smith",
           31
          ],
          [
           "Emyr Huws",
           29
          ],
          [
           "Craig Dawson",
           33
          ],
          [
           "Wellington Silva",
           30
          ],
          [
           "Markus Henriksen",
           30
          ],
          [
           "Sam Clucas",
           32
          ],
          [
           "Nico Yennaris",
           30
          ],
          [
           "Ali Gabr",
           34
          ],
          [
           "Tom Cairney",
           32
          ],
          [
           "Simon Moore",
           33
          ],
          [
           "Sam Morsy",
           31
          ],
          [
           "Callum Wilson",
           31
          ],
          [
           "Danny Ward",
           32
          ],
          [
           "Odysseas Vlachodimos",
           29
          ],
          [
           "Grant Hall",
           31
          ],
          [
           "Pontus Jansson",
           32
          ],
          [
           "Nathaniel Mendez-Laing",
           30
          ],
          [
           "Luke Berry",
           30
          ],
          [
           "Mark Flekken",
           30
          ],
          [
           "Lee Nicholls",
           30
          ],
          [
           "Carl Jenkinson",
           31
          ],
          [
           "Allan",
           32
          ],
          [
           "Kenny McLean",
           31
          ],
          [
           "Lucas Digne",
           29
          ],
          [
           "Idrissa Gueye",
           33
          ],
          [
           "Serge Aurier",
           30
          ],
          [
           "Abdoulaye Doucouré",
           30
          ],
          [
           "Matz Sels",
           31
          ],
          [
           "Robbie Brady",
           31
          ],
          [
           "Scott Wootton",
           31
          ],
          [
           "Derrick Williams",
           30
          ],
          [
           "Bo-kyung Kim",
           33
          ],
          [
           "Tom Anderson",
           29
          ],
          [
           "Jamal Blackman",
           29
          ],
          [
           "Nathaniel Chalobah",
           28
          ],
          [
           "Conor Coady",
           30
          ],
          [
           "Ben Gibson",
           30
          ],
          [
           "Liam Moore",
           30
          ],
          [
           "Jack Robinson",
           29
          ],
          [
           "Ethan Ebanks-Landell",
           30
          ],
          [
           "Nathan Redmond",
           29
          ],
          [
           "Charlie Austin",
           33
          ],
          [
           "Jordan Pickford",
           29
          ],
          [
           "Stuart Armstrong",
           31
          ],
          [
           "Jonathan Bond",
           30
          ],
          [
           "Juan Agudelo",
           30
          ],
          [
           "Rodrigo",
           32
          ],
          [
           "Roberto Firmino",
           31
          ],
          [
           "Ross Barkley",
           29
          ],
          [
           "Phil Ofosu-Ayeh",
           31
          ],
          [
           "Dan Burn",
           31
          ],
          [
           "Danny Ings",
           30
          ],
          [
           "Matthias Fanimo",
           29
          ],
          [
           "Nick Powell",
           29
          ],
          [
           "Raheem Sterling",
           28
          ],
          [
           "Blair Turgott",
           29
          ],
          [
           "André Carrillo",
           32
          ],
          [
           "Fabian Schär",
           31
          ],
          [
           "Manuel Lanzini",
           30
          ],
          [
           "Daniel Bentley",
           29
          ],
          [
           "Kadeem Harris",
           29
          ],
          [
           "Marçal",
           34
          ],
          [
           "Jakob Haugaard",
           31
          ],
          [
           "Virgil van Dijk",
           31
          ],
          [
           "Ryan Fredericks",
           30
          ],
          [
           "Josip Drmic",
           30
          ],
          [
           "Liam O'Neil",
           29
          ],
          [
           "George Saville",
           30
          ],
          [
           "Zeki Fryers",
           30
          ],
          [
           "Jesse Lingard",
           30
          ],
          [
           "Willy Boly",
           32
          ],
          [
           "Mark Gillespie",
           31
          ],
          [
           "Krisztián Adorján",
           30
          ],
          [
           "Leandro Trossard",
           28
          ],
          [
           "Tim Ream",
           35
          ],
          [
           "Wataru Endo",
           30
          ],
          [
           "Conor Townsend",
           30
          ],
          [
           "George Baldock",
           30
          ],
          [
           "Ryan Fraser",
           29
          ],
          [
           "Lewis Dunk",
           31
          ],
          [
           "Jeff Hendrick",
           31
          ],
          [
           "Christian Nørgaard",
           29
          ],
          [
           "Divock Origi",
           27
          ],
          [
           "Mohamed Salah",
           30
          ],
          [
           "Tomas Kalas",
           29
          ],
          [
           "Jiri Skalak",
           31
          ],
          [
           "Todd Kane",
           29
          ],
          [
           "Felipe",
           34
          ],
          [
           "Tyias Browning",
           28
          ],
          [
           "Ben Heneghan",
           29
          ],
          [
           "Tom Ince",
           31
          ],
          [
           "Michael Hector",
           30
          ],
          [
           "Kurt Zouma",
           28
          ],
          [
           "Vladimír Coufal",
           30
          ],
          [
           "Cyrus Christie",
           30
          ],
          [
           "Tendayi Darikwa",
           31
          ],
          [
           "Kieron Freeman",
           31
          ],
          [
           "Max Ehmer",
           31
          ],
          [
           "Stuart Dallas",
           32
          ],
          [
           "Mesca",
           29
          ],
          [
           "Mohamed Elneny",
           30
          ],
          [
           "Adam Reach",
           30
          ],
          [
           "Connor Ripley",
           30
          ],
          [
           "Adam Smith",
           30
          ],
          [
           "Jack Stephens",
           29
          ],
          [
           "Rory Donnelly",
           31
          ],
          [
           "Raphaël Varane",
           30
          ],
          [
           "Jürgen Locadia",
           29
          ],
          [
           "Paddy McNair",
           28
          ],
          [
           "James Husband",
           29
          ],
          [
           "Daniel Johnson",
           30
          ],
          [
           "Callum Paterson",
           28
          ],
          [
           "Cauley Woodrow",
           28
          ],
          [
           "Paul Dummett",
           31
          ],
          [
           "Jonathan Williams",
           29
          ],
          [
           "Timo Werner",
           27
          ],
          [
           "Cody Cropper",
           30
          ],
          [
           "Ben Reeves",
           31
          ],
          [
           "Jay Fulton",
           29
          ],
          [
           "Riyad Mahrez",
           32
          ],
          [
           "Matt Doherty",
           31
          ],
          [
           "Nahki Wells",
           33
          ],
          [
           "James Tarkowski",
           30
          ],
          [
           "Hélder Costa",
           29
          ],
          [
           "Brad Smith",
           29
          ],
          [
           "Sebastian Lletget",
           30
          ],
          [
           "Aymeric Laporte",
           28
          ],
          [
           "Florin Andone",
           30
          ],
          [
           "Nathan Aké",
           28
          ],
          [
           "Charly Musonda Jr.",
           26
          ],
          [
           "Graham Burke",
           29
          ],
          [
           "Harry Maguire",
           30
          ],
          [
           "Jean Michaël Seri",
           31
          ],
          [
           "Donald Love",
           28
          ],
          [
           "Curtis Good",
           30
          ],
          [
           "George Evans",
           28
          ],
          [
           "James Ward-Prowse",
           28
          ],
          [
           "Massimo Luongo",
           30
          ],
          [
           "Emerson",
           28
          ],
          [
           "Jordan Graham",
           28
          ],
          [
           "Ryan Inniss",
           27
          ],
          [
           "Luke Shaw",
           27
          ],
          [
           "Joe Rothwell",
           28
          ],
          [
           "Callum Robinson",
           28
          ],
          [
           "Luke McGee",
           27
          ],
          [
           "Ben Pearson",
           28
          ],
          [
           "Jamaal Lascelles",
           29
          ],
          [
           "Patrick Bamford",
           29
          ],
          [
           "Gregor Zabret",
           28
          ],
          [
           "Jordan Clark",
           29
          ],
          [
           "Ming-Yang Yang",
           27
          ],
          [
           "Tom Hopper",
           29
          ],
          [
           "Emil Krafth",
           28
          ],
          [
           "Victor Lindelöf",
           28
          ],
          [
           "Bobby De Cordova-Reid",
           30
          ],
          [
           "John Stones",
           29
          ],
          [
           "Marek Rodák",
           26
          ],
          [
           "Jack Rose",
           28
          ],
          [
           "Ryan Christie",
           28
          ],
          [
           "Michael Petrasso",
           27
          ],
          [
           "Sean Maguire",
           29
          ],
          [
           "Nick Pope",
           31
          ],
          [
           "Kepa Arrizabalaga",
           28
          ],
          [
           "Ben Davies",
           30
          ],
          [
           "Álex Moreno",
           30
          ],
          [
           "John McGinn",
           28
          ],
          [
           "Joe Bryan",
           29
          ],
          [
           "Charlie Taylor",
           29
          ],
          [
           "Adedeji Oshilaja",
           29
          ],
          [
           "Joe Ralls",
           29
          ],
          [
           "Remi Matthews",
           29
          ],
          [
           "John Swift",
           27
          ],
          [
           "Janoi Donacien",
           29
          ],
          [
           "Josh Sheehan",
           28
          ],
          [
           "Jamie Vardy",
           36
          ],
          [
           "Liam Shephard",
           28
          ],
          [
           "Harry Toffolo",
           27
          ],
          [
           "Lewis Baker",
           28
          ],
          [
           "Sam Hoskins",
           30
          ],
          [
           "Jacob Murphy",
           28
          ],
          [
           "Josh Murphy",
           28
          ],
          [
           "Kevin Stewart",
           29
          ],
          [
           "Angus Gunn",
           27
          ],
          [
           "Danny Ward",
           30
          ],
          [
           "Conor McGrandles",
           27
          ],
          [
           "Andreas Pereira",
           27
          ],
          [
           "Jack Grealish",
           27
          ],
          [
           "Oleksandr Zinchenko",
           26
          ],
          [
           "Adama Traoré",
           27
          ],
          [
           "Saman Ghoddos",
           29
          ],
          [
           "Dejan Iliev",
           28
          ],
          [
           "Raúl Jiménez",
           31
          ],
          [
           "Isaac Hayden",
           28
          ],
          [
           "Kenny Tete",
           27
          ],
          [
           "Will Hughes",
           28
          ],
          [
           "Dan Potts",
           29
          ],
          [
           "Tom Lockyer",
           28
          ],
          [
           "Louis Thompson",
           28
          ],
          [
           "Brendan Galloway",
           27
          ],
          [
           "Christian Walton",
           27
          ],
          [
           "Solly March",
           28
          ],
          [
           "Oumar Niasse",
           32
          ],
          [
           "Jack O'Connell",
           29
          ],
          [
           "Adam Webster",
           28
          ],
          [
           "David Ferguson",
           28
          ],
          [
           "Connor Roberts",
           27
          ],
          [
           "Kean Bryan",
           26
          ],
          [
           "Calum Chambers",
           28
          ],
          [
           "Tom King",
           28
          ],
          [
           "Ricardo Pereira",
           29
          ],
          [
           "Ben Osborn",
           28
          ],
          [
           "George Honeyman",
           28
          ],
          [
           "Conor Grant",
           27
          ],
          [
           "Matthew Pennington",
           28
          ],
          [
           "Zack Steffen",
           28
          ],
          [
           "Alex Gilliead",
           27
          ],
          [
           "Joel Dixon",
           29
          ],
          [
           "Danilo Pantic",
           26
          ],
          [
           "Luke Simpson",
           28
          ],
          [
           "N'Golo Kanté",
           31
          ],
          [
           "Gonçalo Guedes",
           26
          ],
          [
           "Rúben Neves",
           26
          ],
          [
           "Fabinho",
           29
          ],
          [
           "Matheus Pereira",
           27
          ],
          [
           "Freddie Woodman",
           26
          ],
          [
           "Sean Raggett",
           29
          ],
          [
           "Anthony Cáceres",
           30
          ],
          [
           "Dominic Gape",
           28
          ],
          [
           "Lloyd Isgrove",
           30
          ],
          [
           "Harrison Reed",
           28
          ],
          [
           "Sam Gallagher",
           27
          ],
          [
           "Jason McCarthy",
           27
          ],
          [
           "Gedion Zelalem",
           26
          ],
          [
           "Thomas Partey",
           30
          ],
          [
           "Nélson Semedo",
           29
          ],
          [
           "Emiliano Marcondes",
           28
          ],
          [
           "Kortney Hause",
           27
          ],
          [
           "Freddie Ladapo",
           30
          ],
          [
           "André Onana",
           26
          ],
          [
           "Andrew Robertson",
           29
          ],
          [
           "Ola Aina",
           26
          ],
          [
           "Connor Ogilvie",
           27
          ],
          [
           "Sam Byram",
           29
          ],
          [
           "Ederson",
           29
          ],
          [
           "Leandro Rodríguez",
           30
          ],
          [
           "Jamal Lowe",
           28
          ],
          [
           "George Byers",
           26
          ],
          [
           "Bruno Fernandes",
           28
          ],
          [
           "Bernardo Silva",
           28
          ],
          [
           "Jindrich Stanek",
           27
          ],
          [
           "Ethan Horvath",
           27
          ],
          [
           "Gethin Jones",
           27
          ],
          [
           "Courtney Duffus",
           27
          ],
          [
           "Josh Cullen",
           26
          ],
          [
           "Alex Iwobi",
           27
          ],
          [
           "Nathan Mavila",
           27
          ],
          [
           "Lewis Page",
           26
          ],
          [
           "Josh Vickers",
           27
          ],
          [
           "Jan Bednarek",
           26
          ],
          [
           "Josh Onomah",
           26
          ],
          [
           "Lawrence Vigouroux",
           29
          ],
          [
           "Lloyd Jones",
           27
          ],
          [
           "Hiram Boateng",
           27
          ],
          [
           "Pelly Ruddock Mpanzu",
           29
          ],
          [
           "Jon Gorenc Stankovic",
           27
          ],
          [
           "Saša Lukić",
           26
          ],
          [
           "Reece James",
           29
          ],
          [
           "Alex Palmer",
           26
          ],
          [
           "Bartosz Kapustka",
           26
          ],
          [
           "Carlton Morris",
           27
          ],
          [
           "Duncan Watmore",
           29
          ],
          [
           "Lewis Cook",
           26
          ],
          [
           "Harry Winks",
           27
          ],
          [
           "Jack Stacey",
           27
          ],
          [
           "Youri Tielemans",
           25
          ],
          [
           "Tariqe Fosu",
           27
          ],
          [
           "José Sá",
           30
          ],
          [
           "Adam Armstrong",
           26
          ],
          [
           "Jamie Sterry",
           27
          ],
          [
           "Matt Targett",
           27
          ],
          [
           "Enes Ünal",
           26
          ],
          [
           "Jordan Lyden",
           27
          ],
          [
           "Ivan Toney",
           27
          ],
          [
           "Semi Ajayi",
           29
          ],
          [
           "Ken Sema",
           29
          ],
          [
           "Rob Holding",
           27
          ],
          [
           "Tyrone Mings",
           30
          ],
          [
           "Harry Cornick",
           28
          ],
          [
           "Wes Burns",
           28
          ],
          [
           "Samir Caetano",
           28
          ],
          [
           "Cameron Burgess",
           27
          ],
          [
           "Joe Gomez",
           26
          ],
          [
           "Adnan Maric",
           26
          ],
          [
           "Dan Barlaser",
           26
          ],
          [
           "Tommy Robson",
           27
          ],
          [
           "Rúben Dias",
           26
          ],
          [
           "Kasey Palmer",
           26
          ],
          [
           "Tom Beadling",
           27
          ],
          [
           "Tosin Adarabioyo",
           25
          ],
          [
           "Ryan Ledson",
           25
          ],
          [
           "Max Lowe",
           25
          ],
          [
           "Kyle Scott",
           25
          ],
          [
           "Dominic Solanke",
           25
          ],
          [
           "Dean Henderson",
           26
          ],
          [
           "Marcus Rashford",
           25
          ],
          [
           "Joachim Andersen",
           27
          ],
          [
           "Daniel Iversen",
           25
          ],
          [
           "Cameron Brannagan",
           26
          ],
          [
           "Filip Krovinovic",
           27
          ],
          [
           "Timothy Castagne",
           27
          ],
          [
           "Ryan Manning",
           26
          ],
          [
           "David Raya",
           27
          ],
          [
           "Soufyan Ahannach",
           28
          ],
          [
           "Jefferson Lerma",
           28
          ],
          [
           "Kevin Danso",
           24
          ],
          [
           "Harry Charsley",
           26
          ],
          [
           "Reece Burke",
           26
          ],
          [
           "Kevin Toner",
           26
          ],
          [
           "Matt Grimes",
           27
          ],
          [
           "Joe Williams",
           26
          ],
          [
           "Vitaly Janelt",
           25
          ],
          [
           "Callum Elder",
           28
          ],
          [
           "Sylvain Deslandes",
           25
          ],
          [
           "Issa Diop",
           26
          ],
          [
           "Paul Onuachu",
           28
          ],
          [
           "Miguel Almirón",
           29
          ],
          [
           "Jonathan Benteke",
           28
          ],
          [
           "Wilfred Ndidi",
           26
          ],
          [
           "Kieffer Moore",
           30
          ],
          [
           "David Brooks",
           25
          ],
          [
           "Jack Payne",
           28
          ],
          [
           "Amari'i Bell",
           29
          ],
          [
           "MJ Williams",
           27
          ],
          [
           "Harry Wilson",
           26
          ],
          [
           "Sergio Reguilón",
           26
          ],
          [
           "Corey Blackett-Taylor",
           25
          ],
          [
           "Alfie Whiteman",
           24
          ],
          [
           "Tomas Soucek",
           28
          ],
          [
           "Grant Ward",
           28
          ],
          [
           "Manuel Akanji",
           27
          ],
          [
           "Marc Cucurella",
           24
          ],
          [
           "Will Norris",
           29
          ],
          [
           "Joel Coleman",
           27
          ],
          [
           "Harry Burgoyne",
           26
          ],
          [
           "Guglielmo Vicario",
           26
          ],
          [
           "Joe Lolley",
           30
          ],
          [
           "Krystian Bielik",
           25
          ],
          [
           "Connor Mahoney",
           26
          ],
          [
           "Orel Mangala",
           25
          ],
          [
           "Josh Harrop",
           27
          ],
          [
           "Ashley Fletcher",
           27
          ],
          [
           "Saïd Benrahma",
           27
          ],
          [
           "Jordan Hugill",
           31
          ],
          [
           "Sammie Szmodics",
           27
          ],
          [
           "Hee-chan Hwang",
           27
          ],
          [
           "Demarai Gray",
           26
          ],
          [
           "Wout Faes",
           25
          ],
          [
           "Matija Sarkic",
           25
          ],
          [
           "Baily Cargill",
           27
          ],
          [
           "Josh Brownhill",
           27
          ],
          [
           "Conor Masterson",
           24
          ],
          [
           "James Maddison",
           26
          ],
          [
           "Nathan",
           27
          ],
          [
           "Taiwo Awoniyi",
           25
          ],
          [
           "Kelechi Iheanacho",
           26
          ],
          [
           "Marco Asensio",
           27
          ],
          [
           "Tyler Roberts",
           24
          ],
          [
           "Joe Rodon",
           25
          ],
          [
           "Harry Souttar",
           24
          ],
          [
           "Courtney Baker-Richardson",
           27
          ],
          [
           "George Thomas",
           26
          ],
          [
           "Kieran Tierney",
           25
          ],
          [
           "Fred Onyedinma",
           26
          ],
          [
           "Dominic Calvert-Lewin",
           26
          ],
          [
           "Matt Clarke",
           26
          ],
          [
           "Lynden Gooch",
           27
          ],
          [
           "Callum Connolly",
           25
          ],
          [
           "Jan Mlakar",
           24
          ],
          [
           "Kai Havertz",
           23
          ],
          [
           "Andre Green",
           24
          ],
          [
           "Ramadan Sobhi",
           26
          ],
          [
           "Liam Gibson",
           25
          ],
          [
           "Dael Fry",
           25
          ],
          [
           "Karlan Grant",
           25
          ],
          [
           "Tom Davies",
           24
          ],
          [
           "Rushian Hepburn-Murphy",
           24
          ],
          [
           "Herbie Kane",
           24
          ],
          [
           "Jonathan Leko",
           23
          ],
          [
           "Chris Willock",
           25
          ],
          [
           "Trent Alexander-Arnold",
           24
          ],
          [
           "Kyle Edwards",
           25
          ],
          [
           "Darnell Johnson",
           24
          ],
          [
           "Admiral Muskwe",
           24
          ],
          [
           "Ben Sheaf",
           25
          ],
          [
           "Jarrod Bowen",
           26
          ],
          [
           "Ben Chilwell",
           26
          ],
          [
           "Martin Ødegaard",
           24
          ],
          [
           "Jake Clarke-Salter",
           25
          ],
          [
           "Mateusz Hewelt",
           26
          ],
          [
           "Vlad Dragomir",
           23
          ],
          [
           "Daniel James",
           25
          ],
          [
           "Mathias Jensen",
           27
          ],
          [
           "Elijah Adebayo",
           25
          ],
          [
           "Anthony Georgiou",
           26
          ],
          [
           "Benny Ashley-Seal",
           24
          ],
          [
           "Benson Manuel",
           26
          ],
          [
           "Gustavo Hamer",
           25
          ],
          [
           "James Bree",
           25
          ],
          [
           "Ollie Watkins",
           27
          ],
          [
           "Marvelous Nakamba",
           29
          ],
          [
           "Donyell Malen",
           24
          ],
          [
           "Matthijs de Ligt",
           23
          ],
          [
           "Jaroslaw Jach",
           29
          ],
          [
           "Kristoffer Ajer",
           25
          ],
          [
           "João Virgínia",
           23
          ],
          [
           "Justin Kluivert",
           23
          ],
          [
           "Takehiro Tomiyasu",
           24
          ],
          [
           "Tyler Adams",
           24
          ],
          [
           "Sander Berge",
           25
          ],
          [
           "Joelinton",
           26
          ],
          [
           "Ben White",
           25
          ],
          [
           "Altay Bayındır",
           24
          ],
          [
           "Joe Lumley",
           28
          ],
          [
           "Nathan Holland",
           24
          ],
          [
           "Connor Ronan",
           25
          ],
          [
           "Konstantinos Tsimikas",
           27
          ],
          [
           "Mikel Merino",
           26
          ],
          [
           "Hannes Delcroix",
           24
          ],
          [
           "Daniel Grimshaw",
           25
          ],
          [
           "Rico Henry",
           25
          ],
          [
           "Josh Pask",
           25
          ],
          [
           "Regan Poole",
           24
          ],
          [
           "Tolaji Bola",
           24
          ],
          [
           "Marcus McGuane",
           24
          ],
          [
           "Josh Dasilva",
           24
          ],
          [
           "Eddie Nketiah",
           23
          ],
          [
           "Reiss Nelson",
           23
          ],
          [
           "Stephy Mavididi",
           25
          ],
          [
           "Joe Willock",
           23
          ],
          [
           "Noussair Mazraoui",
           25
          ],
          [
           "Caoimhín Kelleher",
           24
          ],
          [
           "Diogo Jota",
           26
          ],
          [
           "Harry Lewis",
           25
          ],
          [
           "Kyle Walker-Peters",
           26
          ],
          [
           "Federico Chiesa",
           25
          ],
          [
           "Hamza Choudhury",
           25
          ],
          [
           "Elliott Moore",
           26
          ],
          [
           "Axel Tuanzebe",
           25
          ],
          [
           "Grady Diangana",
           25
          ],
          [
           "Nathan Baxter",
           24
          ],
          [
           "Guido Rodríguez",
           29
          ],
          [
           "Ben Godfrey",
           25
          ],
          [
           "Nathan Broadhead",
           25
          ],
          [
           "Ben Woodburn",
           23
          ],
          [
           "Odsonne Edouard",
           25
          ],
          [
           "Christopher Nkunku",
           25
          ],
          [
           "Boubakary Soumaré",
           24
          ],
          [
           "Tahith Chong",
           23
          ],
          [
           "Shayon Harrison",
           25
          ],
          [
           "Djair Parfitt-Williams",
           26
          ],
          [
           "Jamal Lewis",
           25
          ],
          [
           "Trevoh Chalobah",
           23
          ],
          [
           "Jordan Williams",
           23
          ],
          [
           "Tom Dele-Bashiru",
           23
          ],
          [
           "Japhet Tanganga",
           24
          ],
          [
           "Dan Nlundulu",
           24
          ],
          [
           "Mason Mount",
           24
          ],
          [
           "Sean Longstaff",
           25
          ],
          [
           "Mason Holgate",
           26
          ],
          [
           "Alexander Isak",
           23
          ],
          [
           "Conor Chaplin",
           26
          ],
          [
           "Pervis Estupiñán",
           25
          ],
          [
           "Antonee Robinson",
           25
          ],
          [
           "Shayne Lavery",
           24
          ],
          [
           "Kalvin Phillips",
           27
          ],
          [
           "Darnell Furlong",
           27
          ],
          [
           "Keshi Anderson",
           28
          ],
          [
           "Adnan Kanuric",
           22
          ],
          [
           "Joe Powell",
           24
          ],
          [
           "Rodrigo Bentancur",
           26
          ],
          [
           "Cristian Romero",
           25
          ],
          [
           "Daichi Kamada",
           26
          ],
          [
           "Ibrahima Konaté",
           24
          ],
          [
           "Diogo Dalot",
           24
          ],
          [
           "Kazaiah Sterling",
           24
          ],
          [
           "Rodri",
           27
          ],
          [
           "Jayson Molumby",
           23
          ],
          [
           "Mark Travers",
           24
          ],
          [
           "Declan Rice",
           24
          ],
          [
           "Lasse Sörensen",
           23
          ],
          [
           "Sven Botman",
           23
          ],
          [
           "Gabriel Jesus",
           26
          ],
          [
           "Elliot Embleton",
           24
          ],
          [
           "Patson Daka",
           24
          ],
          [
           "Pontus Dahlberg",
           24
          ],
          [
           "Dan Agyei",
           25
          ],
          [
           "Niall Ennis",
           23
          ],
          [
           "Ferdi Kadıoğlu",
           23
          ],
          [
           "Sasa Kalajdzic",
           25
          ],
          [
           "Arijanet Muric",
           24
          ],
          [
           "Francisco Sierralta",
           26
          ],
          [
           "Nathaniel Phillips",
           26
          ],
          [
           "Carlos Soler",
           26
          ],
          [
           "Paulinho",
           25
          ],
          [
           "Junior Firpo",
           26
          ],
          [
           "Ibrahim Sangaré",
           25
          ],
          [
           "Charlie Goode",
           27
          ],
          [
           "Anel Ahmedhodzic",
           24
          ],
          [
           "Richarlison",
           26
          ],
          [
           "Lyanco",
           26
          ],
          [
           "Igor",
           25
          ],
          [
           "Joel Mumbongo",
           24
          ],
          [
           "Wesley Moraes",
           26
          ],
          [
           "Steven Benda",
           24
          ],
          [
           "Mike Trésor",
           23
          ],
          [
           "Tyrese Campbell",
           23
          ],
          [
           "Joe Hardy",
           24
          ],
          [
           "Przemyslaw Placheta",
           25
          ],
          [
           "Axel Disasi",
           25
          ],
          [
           "Darko Churlinov",
           22
          ],
          [
           "Joe Riley",
           26
          ],
          [
           "Daiki Hashioka",
           24
          ],
          [
           "Samuel Shashoua",
           24
          ],
          [
           "Sam Field",
           25
          ],
          [
           "Leon Bailey",
           25
          ],
          [
           "Yoane Wissa",
           26
          ],
          [
           "Jacob Lungi Sörensen",
           25
          ],
          [
           "Marcus Browne",
           25
          ],
          [
           "Chiedozie Ogbene",
           26
          ],
          [
           "Marc Guéhi",
           22
          ],
          [
           "Ian Poveda",
           23
          ],
          [
           "Emile Smith Rowe",
           22
          ],
          [
           "George McEachran",
           22
          ],
          [
           "Callum Hudson-Odoi",
           22
          ],
          [
           "Marcel Lavinier",
           22
          ],
          [
           "Kane Wilson",
           23
          ],
          [
           "Ryan Sessegnon",
           23
          ],
          [
           "Josh Sargent",
           23
          ],
          [
           "Boubacar Kamara",
           23
          ],
          [
           "Claudio Gomes",
           22
          ],
          [
           "Moussa Diaby",
           23
          ],
          [
           "Sam Hughes",
           25
          ],
          [
           "Jimmy Dunne",
           25
          ],
          [
           "Ethan Hamilton",
           24
          ],
          [
           "Manor Solomon",
           23
          ],
          [
           "Dan Kemp",
           24
          ],
          [
           "Jamie Cumming",
           23
          ],
          [
           "Richard Nartey",
           24
          ],
          [
           "Sandro Tonali",
           23
          ],
          [
           "Josh Benson",
           23
          ],
          [
           "Harvey Barnes",
           25
          ],
          [
           "Sam Surridge",
           24
          ],
          [
           "Marcus Tavernier",
           24
          ],
          [
           "Pau Torres",
           26
          ],
          [
           "Mads Hermansen",
           22
          ],
          [
           "Jadon Sancho",
           22
          ],
          [
           "Dara O'Shea",
           24
          ],
          [
           "Edson Álvarez",
           25
          ],
          [
           "Michal Karbownik",
           22
          ],
          [
           "Gonzalo Montiel",
           26
          ],
          [
           "Robert Sánchez",
           25
          ],
          [
           "Jordan Beyer",
           22
          ],
          [
           "Marcus Forss",
           23
          ],
          [
           "Vitaliy Mykolenko",
           24
          ],
          [
           "Yukinari Sugawara",
           22
          ],
          [
           "Yan Valery",
           24
          ],
          [
           "Tom McGill",
           23
          ],
          [
           "Steven Sessegnon",
           22
          ],
          [
           "Timothy Eyoma",
           23
          ],
          [
           "Rhian Brewster",
           23
          ],
          [
           "Matt O'Riley",
           22
          ],
          [
           "Phil Foden",
           23
          ],
          [
           "Oliver Skipp",
           22
          ],
          [
           "Mads Andersen",
           25
          ],
          [
           "Ismaïla Sarr",
           25
          ],
          [
           "Yves Bissouma",
           26
          ],
          [
           "Pascal Struijk",
           23
          ],
          [
           "Max Sanders",
           24
          ],
          [
           "Adam Parkes",
           23
          ],
          [
           "Ibrahima Diallo",
           24
          ],
          [
           "Bryan Mbeumo",
           23
          ],
          [
           "James Justin",
           25
          ],
          [
           "Ezri Konsa",
           25
          ],
          [
           "Nikola Milenković",
           25
          ],
          [
           "Marshall Munetsi",
           27
          ],
          [
           "Mats Wieffer",
           23
          ],
          [
           "Bruno Jordão",
           24
          ],
          [
           "Konstantinos Mavropanos",
           25
          ],
          [
           "Joe Worrall",
           26
          ],
          [
           "Jordan Green",
           28
          ],
          [
           "Jack Harrison",
           26
          ],
          [
           "Erling Haaland",
           22
          ],
          [
           "Kristoffer Klaesson",
           22
          ],
          [
           "Conor Coventry",
           23
          ],
          [
           "Lewis Gibson",
           22
          ],
          [
           "Jean-Philippe Mateta",
           25
          ],
          [
           "Jurrien Timber",
           21
          ],
          [
           "George Hirst",
           24
          ],
          [
           "Alfie Lewis",
           23
          ],
          [
           "Nathan Patterson",
           21
          ],
          [
           "Samuel Kalu",
           25
          ],
          [
           "Josh Knight",
           25
          ],
          [
           "Matt Turner",
           29
          ],
          [
           "Matty Cash",
           25
          ],
          [
           "Akin Famewo",
           24
          ],
          [
           "Ryan Yates",
           25
          ],
          [
           "Jakub Kiwior",
           23
          ],
          [
           "Ben Brereton Díaz",
           24
          ],
          [
           "Aaron Ramsdale",
           24
          ],
          [
           "Thanawat Suengchitthawon",
           23
          ],
          [
           "Brandon Austin",
           24
          ],
          [
           "Morgan Gibbs-White",
           23
          ],
          [
           "Jørgen Strand Larsen",
           23
          ],
          [
           "Andrew Irving",
           23
          ],
          [
           "Tom Edwards",
           24
          ],
          [
           "Peter Gwargis",
           22
          ],
          [
           "Mateusz Bogusz",
           22
          ],
          [
           "Dejan Kulusevski",
           22
          ],
          [
           "Bukayo Saka",
           21
          ],
          [
           "Elijah Dixon-Bonner",
           22
          ],
          [
           "Luis Longstaff",
           22
          ],
          [
           "Tommy Doyle",
           21
          ],
          [
           "Rayhaan Tulloch",
           22
          ],
          [
           "Bali Mumba",
           21
          ],
          [
           "Curtis Jones",
           22
          ],
          [
           "Scott Twine",
           23
          ],
          [
           "Tudor Baluta",
           24
          ],
          [
           "Ethan Galbraith",
           21
          ],
          [
           "Aaron Connolly",
           23
          ],
          [
           "Maxence Lacroix",
           23
          ],
          [
           "Cody Gakpo",
           24
          ],
          [
           "Gabriel Magalhães",
           25
          ],
          [
           "Joshua Zirkzee",
           21
          ],
          [
           "Santiago Bueno",
           24
          ],
          [
           "Ethan Pinnock",
           30
          ],
          [
           "Edouard Mendy",
           31
          ],
          [
           "Michael Obafemi",
           22
          ],
          [
           "Will Smallbone",
           23
          ],
          [
           "Lucas Paquetá",
           25
          ],
          [
           "Louie Moulden",
           21
          ],
          [
           "Omar Marmoush",
           24
          ],
          [
           "Ross Stewart",
           26
          ],
          [
           "Emmanuel Dennis",
           25
          ],
          [
           "Jean-Ricner Bellegarde",
           24
          ],
          [
           "Dominik Szoboszlai",
           22
          ],
          [
           "Jorge Segura",
           26
          ],
          [
           "Adama Diakhaby",
           26
          ],
          [
           "Will Mannion",
           24
          ],
          [
           "Rekeem Harper",
           23
          ],
          [
           "Jack Taylor",
           24
          ],
          [
           "Harvey Rodgers",
           26
          ],
          [
           "Caleb Okoli",
           21
          ],
          [
           "Calvin Bassey",
           23
          ],
          [
           "Benoît Badiashile",
           22
          ],
          [
           "Marc Leonard",
           21
          ],
          [
           "Terry Taylor",
           21
          ],
          [
           "Allan Tchaptchet",
           21
          ],
          [
           "Jayden Bogle",
           22
          ],
          [
           "Nico González",
           21
          ],
          [
           "Armel Bella-Kotchap",
           21
          ],
          [
           "Lyle Foster",
           22
          ],
          [
           "Ben Johnson",
           23
          ],
          [
           "Jens Cajuste",
           23
          ],
          [
           "Joe Aribo",
           26
          ],
          [
           "Vitinho",
           23
          ],
          [
           "Nathan Collins",
           22
          ],
          [
           "Gavin Kilkenny",
           23
          ],
          [
           "Marcos Senesi",
           26
          ],
          [
           "Indiana Vassilev",
           22
          ],
          [
           "Jacob Brown",
           24
          ],
          [
           "Paris Maghoma",
           21
          ],
          [
           "Ben Cottrell",
           21
          ],
          [
           "Brennan Johnson",
           21
          ],
          [
           "Reece James",
           23
          ],
          [
           "Kevin Schade",
           21
          ],
          [
           "Regan Slater",
           23
          ],
          [
           "Lewis Cass",
           23
          ],
          [
           "Crysencio Summerville",
           21
          ],
          [
           "Kiernan Dewsbury-Hall",
           24
          ],
          [
           "Wesley Fofana",
           22
          ],
          [
           "Josko Gvardiol",
           21
          ],
          [
           "Steven Alzate",
           24
          ],
          [
           "Bernardo Rosa",
           22
          ],
          [
           "Manuel Ugarte",
           21
          ],
          [
           "Aaron Wan-Bissaka",
           25
          ],
          [
           "Ryan Gravenberch",
           21
          ],
          [
           "Eberechi Eze",
           24
          ],
          [
           "Cohen Bramall",
           27
          ],
          [
           "Luis Díaz",
           26
          ],
          [
           "Lisandro Martínez",
           25
          ],
          [
           "Chris Mepham",
           25
          ],
          [
           "Djed Spence",
           22
          ],
          [
           "Matty Longstaff",
           23
          ],
          [
           "Taylor Richards",
           22
          ],
          [
           "Ian Maatsen",
           21
          ],
          [
           "Amadou Onana",
           21
          ],
          [
           "Jérémy Doku",
           21
          ],
          [
           "Jake Walker",
           22
          ],
          [
           "Jakub Stolarczyk",
           22
          ],
          [
           "Edo Kayembe",
           25
          ],
          [
           "Vitezslav Jaros",
           21
          ],
          [
           "Pedro Neto",
           23
          ],
          [
           "Maksim Paskotsi",
           20
          ],
          [
           "Siriki Dembélé",
           26
          ],
          [
           "Hákon Rafn Valdimarsson",
           21
          ],
          [
           "Ismaila Coulibaly",
           22
          ],
          [
           "Lucas Bergström",
           21
          ],
          [
           "Daniel Muñoz",
           26
          ],
          [
           "Jorge Cuenca",
           23
          ],
          [
           "Nathan Bishop",
           24
          ],
          [
           "William Saliba",
           21
          ],
          [
           "Dion Sanderson",
           23
          ],
          [
           "Elliot Thorpe",
           22
          ],
          [
           "Nicolás Domínguez",
           24
          ],
          [
           "Dion Pereira",
           24
          ],
          [
           "Ákos Onódi",
           21
          ],
          [
           "Aji Alese",
           22
          ],
          [
           "Taylor Perry",
           21
          ],
          [
           "Riccardo Calafiori",
           21
          ],
          [
           "Rhys Williams",
           22
          ],
          [
           "Neco Williams",
           22
          ],
          [
           "Anthony Driscoll-Glennon",
           23
          ],
          [
           "Anthony Gordon",
           22
          ],
          [
           "Morgan Rogers",
           20
          ],
          [
           "Jacob Ramsey",
           21
          ],
          [
           "Tyreece John-Jules",
           22
          ],
          [
           "Arthur Okonkwo",
           21
          ],
          [
           "Jeremy Ngakia",
           22
          ],
          [
           "Albert Grønbaek",
           22
          ],
          [
           "Joe Hodge",
           20
          ],
          [
           "Dynel Simeu",
           21
          ],
          [
           "Taylor Harwood-Bellis",
           21
          ],
          [
           "Joe Gelhardt",
           21
          ],
          [
           "Tino Livramento",
           20
          ],
          [
           "Noni Madueke",
           21
          ],
          [
           "Alex Mighten",
           20
          ],
          [
           "Nathan Wood",
           21
          ],
          [
           "Daniel Barden",
           22
          ],
          [
           "Tariq Lamptey",
           22
          ],
          [
           "Emmanuel Longelo",
           22
          ],
          [
           "Ryan Giles",
           23
          ],
          [
           "Kaoru Mitoma",
           25
          ],
          [
           "Luke Thomas",
           22
          ],
          [
           "James Garner",
           22
          ],
          [
           "Louie Watson",
           21
          ],
          [
           "Flynn Downes",
           24
          ],
          [
           "Josh Bowler",
           24
          ],
          [
           "Jack Young",
           22
          ],
          [
           "Nathan Ferguson",
           22
          ],
          [
           "Alexandre Jankewitz",
           21
          ],
          [
           "Brandon Williams",
           22
          ],
          [
           "Daniel Batty",
           25
          ],
          [
           "Ellis Simms",
           22
          ],
          [
           "Jackson Smith",
           21
          ],
          [
           "Ryan Longman",
           22
          ],
          [
           "Malcolm Ebiowei",
           19
          ],
          [
           "Luis Sinisterra",
           24
          ],
          [
           "Jesper Lindstrøm",
           23
          ],
          [
           "Julián Araujo",
           21
          ],
          [
           "Matheus Cunha",
           23
          ],
          [
           "Bruno Guimarães",
           25
          ],
          [
           "Jensen Weir",
           21
          ],
          [
           "Jaime Alvarado",
           23
          ],
          [
           "Maximilian Kilman",
           25
          ],
          [
           "Carlos Vinícius",
           28
          ],
          [
           "Karlo Ziger",
           22
          ],
          [
           "Luke Woolfenden",
           24
          ],
          [
           "Tyrese Francois",
           22
          ],
          [
           "Jack Spong",
           21
          ],
          [
           "Armstrong Oko-Flex",
           21
          ],
          [
           "Di'Shon Bernard",
           22
          ],
          [
           "D'Mani Mellor",
           22
          ],
          [
           "Ethan Laird",
           21
          ],
          [
           "Cody Drameh",
           21
          ],
          [
           "Sam Greenwood",
           21
          ],
          [
           "Daniel Adshead",
           21
          ],
          [
           "Luke Cundle",
           21
          ],
          [
           "Haydon Roberts",
           20
          ],
          [
           "Cameron Archer",
           21
          ],
          [
           "Shandon Baptiste",
           25
          ],
          [
           "Alexis Mac Allister",
           24
          ],
          [
           "Robbie Gotts",
           23
          ],
          [
           "Jamie Shackleton",
           23
          ],
          [
           "Luke McNally",
           23
          ],
          [
           "Amad Diallo",
           20
          ],
          [
           "Mykhaylo Mudryk",
           22
          ],
          [
           "Kwasi Sibo",
           25
          ],
          [
           "Georginio Rutter",
           20
          ],
          [
           "Christian Marques",
           20
          ],
          [
           "Kristian Sekularac",
           20
          ],
          [
           "Zak Swanson",
           22
          ],
          [
           "Mikkel Damsgaard",
           22
          ],
          [
           "Sepp van den Berg",
           21
          ],
          [
           "Illan Meslier",
           23
          ],
          [
           "Alex Gilbert",
           21
          ],
          [
           "Rhys Norrington-Davies",
           24
          ],
          [
           "Cheick Doucouré",
           23
          ],
          [
           "Mohammed Kudus",
           22
          ],
          [
           "Darwin Núñez",
           24
          ],
          [
           "Anis Slimane",
           22
          ],
          [
           "Taylor Gardner-Hickman",
           21
          ],
          [
           "Miguel Azeez",
           20
          ],
          [
           "Josh Martin",
           21
          ],
          [
           "Teden Mengi",
           20
          ],
          [
           "Owen Beck",
           21
          ],
          [
           "Pedro Porro",
           23
          ],
          [
           "Alpha Diounkou",
           21
          ],
          [
           "Yasser Larouci",
           22
          ],
          [
           "Oliwier Zych",
           19
          ],
          [
           "Destiny Udogie",
           20
          ],
          [
           "Micky van de Ven",
           21
          ],
          [
           "Harrison Ashby",
           21
          ],
          [
           "Fábio Carvalho",
           20
          ],
          [
           "Jack Clarke",
           22
          ],
          [
           "Oliver Casey",
           22
          ],
          [
           "Niall Huggins",
           22
          ],
          [
           "Lewis O'Brien",
           25
          ],
          [
           "Dan Chesters",
           21
          ],
          [
           "Kyle Taylor",
           23
          ],
          [
           "Victor Kristiansen",
           20
          ],
          [
           "Bart Verbruggen",
           20
          ],
          [
           "Harvey Elliott",
           20
          ],
          [
           "Matty Daly",
           22
          ],
          [
           "James Trafford",
           20
          ],
          [
           "Thomas Dickson-Peters",
           20
          ],
          [
           "Elliot Anderson",
           20
          ],
          [
           "Odel Offiah",
           21
          ],
          [
           "Jeremy Sarmiento",
           20
          ],
          [
           "Dennis Cirkin",
           21
          ],
          [
           "Cole Palmer",
           21
          ],
          [
           "Radu Drăgușin",
           21
          ],
          [
           "Pape Matar Sarr",
           20
          ],
          [
           "Armando Broja",
           21
          ],
          [
           "Joseph Anang",
           23
          ],
          [
           "Josh Wilson-Esbrand",
           20
          ],
          [
           "Jan Paul van Hecke",
           22
          ],
          [
           "Rayan Aït-Nouri",
           22
          ],
          [
           "Chris Richards",
           22
          ],
          [
           "James Furlong",
           20
          ],
          [
           "Ed Turns",
           20
          ],
          [
           "Eiran Cashin",
           21
          ],
          [
           "Harvey White",
           21
          ],
          [
           "CJ Egan-Riley",
           20
          ],
          [
           "Louie Barry",
           19
          ],
          [
           "Charlie Patino",
           19
          ],
          [
           "Lukas Jensen",
           24
          ],
          [
           "Will Dennis",
           22
          ],
          [
           "Anthony Elanga",
           21
          ],
          [
           "James McAtee",
           20
          ],
          [
           "Antoine Semenyo",
           23
          ],
          [
           "Dwight McNeil",
           23
          ],
          [
           "Filip Jørgensen",
           21
          ],
          [
           "Jesurun Rak-Sakyi",
           20
          ],
          [
           "Myles Peart-Harris",
           20
          ],
          [
           "Lewis Bate",
           20
          ],
          [
           "Derek Agyakwa",
           21
          ],
          [
           "Joe Gauci",
           22
          ],
          [
           "Aaron Hickey",
           21
          ],
          [
           "Woyo Coulibaly",
           24
          ],
          [
           "Tiago Cukur",
           20
          ],
          [
           "Beto",
           25
          ],
          [
           "Max Haygarth",
           21
          ],
          [
           "Leif Davis",
           23
          ],
          [
           "Xavier Simons",
           20
          ],
          [
           "Matheus Nunes",
           24
          ],
          [
           "Jean-Clair Todibo",
           23
          ],
          [
           "Sebastian Soto",
           22
          ],
          [
           "Denis Franchi",
           20
          ],
          [
           "Toti",
           24
          ],
          [
           "Hannibal",
           20
          ],
          [
           "Alfie Doughty",
           23
          ],
          [
           "Luke Mbete",
           19
          ],
          [
           "Alex Robertson",
           20
          ],
          [
           "Rasmus Højlund",
           20
          ],
          [
           "Caleb Watts",
           21
          ],
          [
           "Ollie O'Neill",
           20
          ],
          [
           "Liam Delap",
           20
          ],
          [
           "James Hill",
           21
          ],
          [
           "Liam McCarron",
           22
          ],
          [
           "Luke Matheson",
           20
          ],
          [
           "Levi Colwill",
           20
          ],
          [
           "Charlie McNeill",
           19
          ],
          [
           "Chem Campbell",
           20
          ],
          [
           "Dara Costelloe",
           20
          ],
          [
           "Tyler Morton",
           20
          ],
          [
           "Sam McCallum",
           22
          ],
          [
           "Malo Gusto",
           19
          ],
          [
           "Kasey McAteer",
           21
          ],
          [
           "Radek Vítek",
           19
          ],
          [
           "Iliman Ndiaye",
           23
          ],
          [
           "Conor Bradley",
           19
          ],
          [
           "Dale Taylor",
           19
          ],
          [
           "Lucas De Bolle",
           20
          ],
          [
           "Adrion Pajaziti",
           20
          ],
          [
           "João Pedro",
           21
          ],
          [
           "Kaine Kesler-Hayden",
           21
          ],
          [
           "Lewis Dobbin",
           20
          ],
          [
           "Wilfried Gnonto",
           19
          ],
          [
           "Roméo Lavia",
           19
          ],
          [
           "Femi Seriki",
           20
          ],
          [
           "Carlos Miguel",
           24
          ],
          [
           "Keane Lewis-Potter",
           22
          ],
          [
           "Lamare Bogarde",
           19
          ],
          [
           "Ben Greenwood",
           20
          ],
          [
           "Carl Rushworth",
           21
          ],
          [
           "Aaron Ramsey",
           20
          ],
          [
           "Juan Larios",
           19
          ],
          [
           "Jayden Bennetts",
           22
          ],
          [
           "Evan Ferguson",
           18
          ],
          [
           "Enzo Fernández",
           22
          ],
          [
           "Boubacar Traoré",
           21
          ],
          [
           "Jhon Durán",
           19
          ],
          [
           "Lewis Warrington",
           20
          ],
          [
           "Bilal El Khannouss",
           18
          ],
          [
           "Cameron Plain",
           22
          ],
          [
           "Brooklyn Genesini",
           21
          ],
          [
           "Gabriel Martinelli",
           21
          ],
          [
           "Christian Saydee",
           20
          ],
          [
           "Mipo Odubeko",
           20
          ],
          [
           "Aaron Rowe",
           22
          ],
          [
           "Simon Adingra",
           21
          ],
          [
           "Ilya Zabarnyi",
           20
          ],
          [
           "Julio Enciso",
           19
          ],
          [
           "Jarrad Branthwaite",
           20
          ],
          [
           "Leo Fuhr Hjelde",
           19
          ],
          [
           "Marcelo Pitaluga",
           21
          ],
          [
           "Tyler Onyango",
           20
          ],
          [
           "Jota Silva",
           23
          ],
          [
           "Darko Gyabi",
           19
          ],
          [
           "Vini Souza",
           24
          ],
          [
           "Jaden Philogene",
           21
          ],
          [
           "Rodrigo Gomes",
           19
          ],
          [
           "Yasin Ayari",
           19
          ],
          [
           "Marcelo Flores",
           19
          ],
          [
           "Joe Whitworth",
           19
          ],
          [
           "Divin Mubama",
           18
          ],
          [
           "Antwoine Hackford",
           19
          ],
          [
           "Luke Chambers",
           19
          ],
          [
           "Dane Scarlett",
           19
          ],
          [
           "Caleb Taylor",
           20
          ],
          [
           "Morato",
           21
          ],
          [
           "Anthony Mancini",
           22
          ],
          [
           "Emmanuel Agbadou",
           25
          ],
          [
           "Jaidon Anthony",
           23
          ],
          [
           "Charlie Savage",
           19
          ],
          [
           "Moisés Caicedo",
           21
          ],
          [
           "Chadi Riad",
           20
          ],
          [
           "Kamarai Swyer",
           21
          ],
          [
           "Jacob Greaves",
           22
          ],
          [
           "Jay Stansfield",
           20
          ],
          [
           "Tim Iroegbunam",
           19
          ],
          [
           "Rico Lewis",
           18
          ],
          [
           "Kgaogelo Chauke",
           20
          ],
          [
           "Harvey Davies",
           20
          ],
          [
           "Ji-soo Kim",
           18
          ],
          [
           "Kwadwo Baah",
           20
          ],
          [
           "Evanilson",
           23
          ],
          [
           "Jake O'Brien",
           22
          ],
          [
           "Lesley Ugochukwu",
           19
          ],
          [
           "Bobby Clark",
           18
          ],
          [
           "Yerson Mosquera",
           22
          ],
          [
           "Yegor Yarmolyuk",
           19
          ],
          [
           "Enock Agyei",
           18
          ],
          [
           "Tayo Adaramola",
           20
          ],
          [
           "Andrew Moran",
           20
          ],
          [
           "Liam Gibbs",
           20
          ],
          [
           "Antonín Kinský",
           20
          ],
          [
           "Welington",
           22
          ],
          [
           "Milos Kerkez",
           19
          ],
          [
           "Tyrick Mitchell",
           23
          ],
          [
           "Dylan Williams",
           20
          ],
          [
           "Kaide Gordon",
           18
          ],
          [
           "Jack Jenkins",
           21
          ],
          [
           "João Gomes",
           22
          ],
          [
           "Rodrigo Muniz",
           22
          ],
          [
           "Igor Thiago",
           21
          ],
          [
           "Omari Hutchinson",
           20
          ],
          [
           "Caleb Chukwuemeka",
           21
          ],
          [
           "Lino Sousa",
           18
          ],
          [
           "Wilson Odobert",
           18
          ],
          [
           "Savinho",
           19
          ],
          [
           "Matheus França",
           19
          ],
          [
           "Adam Wharton",
           19
          ],
          [
           "Ramón Sosa",
           23
          ],
          [
           "Luca Koleosho",
           18
          ],
          [
           "Kamaldeen Sulemana",
           21
          ],
          [
           "Daniel Jebbison",
           19
          ],
          [
           "Harry Boyes",
           21
          ],
          [
           "Justin Devenny",
           19
          ],
          [
           "Val Adedokun",
           20
          ],
          [
           "Carlos Alcaraz",
           20
          ],
          [
           "Abdukodir Khusanov",
           19
          ],
          [
           "Nicolas Jackson",
           21
          ],
          [
           "David Datro Fofana",
           20
          ],
          [
           "Bobby Thomas",
           22
          ],
          [
           "André",
           21
          ],
          [
           "Mathys Tel",
           18
          ],
          [
           "Ryan Finnigan",
           19
          ],
          [
           "Danilo",
           22
          ],
          [
           "Alejandro Garnacho",
           18
          ],
          [
           "Jack Wells-Morrison",
           19
          ],
          [
           "Luke Harris",
           18
          ],
          [
           "Kobbie Mainoo",
           17
          ],
          [
           "Alfie Pond",
           19
          ],
          [
           "Dango Ouattara",
           21
          ],
          [
           "Michael Kayode",
           18
          ],
          [
           "Maxime Estève",
           20
          ],
          [
           "Bénie Traoré",
           20
          ],
          [
           "Jack Hinchy",
           20
          ],
          [
           "Alex Scott",
           19
          ],
          [
           "Ashley Phillips",
           17
          ],
          [
           "Kaden Rodney",
           19
          ],
          [
           "Nasser Djiga",
           20
          ],
          [
           "Issahaku Fatawu",
           19
          ],
          [
           "Lucas Bergvall",
           17
          ],
          [
           "Bradley Ibrahim",
           19
          ],
          [
           "Mason Burstow",
           20
          ],
          [
           "Ryan Trevitt",
           20
          ],
          [
           "Seán Grehan",
           19
          ],
          [
           "Josh Feeney",
           18
          ],
          [
           "Amario Cozier-Duberry",
           18
          ],
          [
           "Mateus Fernandes",
           18
          ],
          [
           "Oliver Scarles",
           18
          ],
          [
           "Archie Gray",
           17
          ],
          [
           "Leny Yoro",
           17
          ],
          [
           "Zach Abbott",
           17
          ],
          [
           "Mark O'Mahony",
           18
          ],
          [
           "Joe Taylor",
           20
          ],
          [
           "Carlos Baleba",
           19
          ],
          [
           "Facundo Buonanotte",
           18
          ],
          [
           "Matai Akinmboni",
           16
          ],
          [
           "Diego Gómez",
           20
          ],
          [
           "Julio Soler",
           18
          ],
          [
           "Yankuba Minteh",
           18
          ],
          [
           "Ryan Oné",
           16
          ],
          [
           "Enso González",
           18
          ]
         ],
         "hovertemplate": "predicted_value=%{x}<br>market_value_in_million_eur=%{y}<br>name=%{customdata[0]}<br>age=%{customdata[1]}<extra></extra>",
         "legendgroup": "",
         "marker": {
          "color": "#636efa",
          "symbol": "circle"
         },
         "mode": "markers",
         "name": "",
         "showlegend": false,
         "type": "scattergl",
         "x": [
          0.13325035572052002,
          1.4326632022857666,
          0.9632275104522705,
          0.18867065012454987,
          14.033013343811035,
          -0.315292090177536,
          0.040754690766334534,
          -0.019825346767902374,
          0.6736209392547607,
          0.12809064984321594,
          -0.0032806475646793842,
          0.13325035572052002,
          32.13835525512695,
          4.087168216705322,
          0.040754690766334534,
          0.13325035572052002,
          1.0925235748291016,
          -0.0614892840385437,
          1.7362314462661743,
          0.8101519346237183,
          0.12809064984321594,
          -0.24660030007362366,
          -0.13911493122577667,
          1.7629196643829346,
          0.5997732281684875,
          1.3837056159973145,
          0.8101519346237183,
          0.8101519346237183,
          0.8101519346237183,
          0.040754690766334534,
          0.42777660489082336,
          0.7528489232063293,
          0.06859307736158371,
          0.07078763842582703,
          0.7528489232063293,
          0.5355167388916016,
          0.23828786611557007,
          0.14463528990745544,
          0.040754690766334534,
          -0.24660030007362366,
          0.7860468626022339,
          0.02282652258872986,
          -0.03622156381607056,
          2.4404313564300537,
          1.7602559328079224,
          -0.03135167807340622,
          1.499979019165039,
          0.7860468626022339,
          0.00029077986255288124,
          0.07078763842582703,
          2.2620532512664795,
          0.14973805844783783,
          0.14463528990745544,
          -0.2098797708749771,
          0.4609746038913727,
          1.4151042699813843,
          0.8707318305969238,
          0.14463528990745544,
          0.5054188370704651,
          0.10398562997579575,
          2.2456741333007812,
          0.7860468626022339,
          0.7860468626022339,
          0.22167882323265076,
          0.05602449178695679,
          0.23320527374744415,
          0.19154131412506104,
          0.38628092408180237,
          0.13325035572052002,
          0.17590223252773285,
          -0.06664899736642838,
          1.6098438501358032,
          1.670423984527588,
          2.2456741333007812,
          -0.11232097446918488,
          0.20910020172595978,
          0.7176562547683716,
          0.2747010290622711,
          0.02282652258872986,
          0.02282652258872986,
          -0.04393031448125839,
          0.6455498933792114,
          0.5838307738304138,
          0.17590223252773285,
          1.6262459754943848,
          1.5503463745117188,
          3.6627449989318848,
          1.5525411367416382,
          17.88236427307129,
          0.11656425148248672,
          0.9632275104522705,
          0.6329712867736816,
          40.7634391784668,
          0.03846557438373566,
          0.17590223252773285,
          0.7176562547683716,
          0.8707318305969238,
          1.6098438501358032,
          3.491837739944458,
          1.3994653224945068,
          16.332561492919922,
          2.2464332580566406,
          0.7684878706932068,
          0.6154122948646545,
          0.13317322731018066,
          0.7860468626022339,
          0.06860312819480896,
          0.33899006247520447,
          -0.3108568489551544,
          0.7176562547683716,
          -0.0032806475646793842,
          0.8707318305969238,
          11.751561164855957,
          0.39925530552864075,
          1.485597014427185,
          0.3078989088535309,
          0.05602449178695679,
          1.317705750465393,
          0.47355321049690247,
          1.334324598312378,
          0.8101519346237183,
          0.23320527374744415,
          0.23320527374744415,
          1.245599389076233,
          1.1205946207046509,
          0.6329712867736816,
          0.3651542365550995,
          0.18867065012454987,
          1.7108787298202515,
          0.29378512501716614,
          0.013960713520646095,
          1.1998229026794434,
          0.7986254692077637,
          0.42777660489082336,
          0.7528489232063293,
          0.5016242861747742,
          0.9245419502258301,
          2.3430228233337402,
          0.42777660489082336,
          2.0925981998443604,
          -0.34949371218681335,
          0.2833777368068695,
          0.8707318305969238,
          0.12809064984321594,
          -0.1892971694469452,
          2.348212480545044,
          1.8264778852462769,
          -0.35683950781822205,
          1.5264272689819336,
          0.6381553411483765,
          11.822150230407715,
          -0.2669149339199066,
          -0.04393031448125839,
          7.566040992736816,
          0.7860468626022339,
          0.3601166903972626,
          0.29378512501716614,
          1.4874004125595093,
          0.7860468626022339,
          0.6252295970916748,
          1.937069296836853,
          0.4850795567035675,
          18.361637115478516,
          4.096904754638672,
          -0.21340224146842957,
          1.7362314462661743,
          1.334324598312378,
          2.354548931121826,
          4.584668159484863,
          1.6098438501358032,
          3.1057894229888916,
          15.995555877685547,
          0.9762502312660217,
          -0.1986125111579895,
          2.1987221240997314,
          2.1899468898773193,
          0.826696515083313,
          1.317705750465393,
          1.8893072605133057,
          1.6892532110214233,
          0.6329712867736816,
          16.139244079589844,
          0.07924117147922516,
          -0.1964179426431656,
          0.7986254692077637,
          0.10540534555912018,
          13.871931076049805,
          0.7548247575759888,
          -0.047670334577560425,
          1.4733128547668457,
          12.941336631774902,
          2.299459218978882,
          1.317705750465393,
          1.197628140449524,
          1.627121090888977,
          -0.35068461298942566,
          0.7860468626022339,
          4.620232582092285,
          -0.006253631319850683,
          0.29378512501716614,
          0.3635200560092926,
          -0.2606745660305023,
          53.52168655395508,
          1.1998229026794434,
          1.4820442199707031,
          -0.019825346767902374,
          0.3346046507358551,
          1.9155536890029907,
          0.42558208107948303,
          -0.2756460905075073,
          1.4452418088912964,
          0.30147871375083923,
          40.677120208740234,
          0.2676997482776642,
          1.1683751344680786,
          1.824836015701294,
          1.4733128547668457,
          1.6425727605819702,
          21.592113494873047,
          0.2747010290622711,
          2.32985782623291,
          0.502950131893158,
          1.1353600025177002,
          0.14992907643318176,
          1.3193271160125732,
          9.635483741760254,
          1.8197534084320068,
          1.5720853805541992,
          9.151960372924805,
          1.828727126121521,
          1.3917236328125,
          1.197628140449524,
          26.61420440673828,
          0.826696515083313,
          6.670422077178955,
          0.17590223252773285,
          0.1210973933339119,
          33.384986877441406,
          4.2338175773620605,
          7.140344619750977,
          0.4746397137641907,
          1.0253269672393799,
          0.5508124828338623,
          0.6758077144622803,
          9.22534465789795,
          0.8550753593444824,
          0.0726967379450798,
          0.19911159574985504,
          0.8707318305969238,
          7.238749980926514,
          -0.10551951825618744,
          2.143350124359131,
          2.8659145832061768,
          1.8197534084320068,
          26.002063751220703,
          0.4901622235774994,
          -0.2302040010690689,
          4.538239002227783,
          0.6076706051826477,
          0.42558208107948303,
          -0.3240374028682709,
          0.32047757506370544,
          1.7832318544387817,
          2.33111834526062,
          17.514562606811523,
          1.0466989278793335,
          0.22358572483062744,
          3.8521389961242676,
          0.11765069514513016,
          2.138774871826172,
          -0.4277181029319763,
          6.839352130889893,
          0.07078763842582703,
          -0.04036395251750946,
          0.5828773379325867,
          1.741792917251587,
          0.4706847369670868,
          1.3890748023986816,
          5.039336204528809,
          2.4637715816497803,
          0.18069839477539062,
          1.3672325611114502,
          0.852825403213501,
          1.7272577285766602,
          0.6511298418045044,
          0.7604926824569702,
          0.7860468626022339,
          0.5987836122512817,
          0.7176562547683716,
          3.177457809448242,
          0.23320527374744415,
          0.6252295970916748,
          11.925317764282227,
          0.7528489232063293,
          13.500062942504883,
          1.0267858505249023,
          4.44835090637207,
          0.5215346217155457,
          0.4826265275478363,
          5.253492832183838,
          0.5828773379325867,
          0.08893247693777084,
          9.615833282470703,
          1.6438047885894775,
          19.012882232666016,
          7.217194080352783,
          8.34780216217041,
          16.665637969970703,
          6.151782035827637,
          0.9421008825302124,
          0.027853263542056084,
          0.8395097255706787,
          0.2903399169445038,
          0.41006365418434143,
          0.6864556074142456,
          3.488947868347168,
          22.357677459716797,
          4.472775459289551,
          2.1831564903259277,
          1.3622347116470337,
          0.6719013452529907,
          15.103707313537598,
          0.7528489232063293,
          18.729759216308594,
          4.337512493133545,
          0.45098593831062317,
          0.46975216269493103,
          6.497069835662842,
          22.418039321899414,
          9.940526008605957,
          -0.16409799456596375,
          4.76713752746582,
          15.511497497558594,
          -0.1746097058057785,
          2.5214388370513916,
          60.98435974121094,
          0.8048813939094543,
          3.6637589931488037,
          4.584668159484863,
          8.65785026550293,
          2.392899990081787,
          0.5721127986907959,
          1.2622082233428955,
          0.30147871375083923,
          34.882537841796875,
          1.5675201416015625,
          1.895370602607727,
          0.09302636235952377,
          2.5844333171844482,
          1.3171323537826538,
          14.73782730102539,
          3.832200050354004,
          0.30147871375083923,
          0.14614351093769073,
          17.146278381347656,
          0.14070948958396912,
          6.1590118408203125,
          2.0085368156433105,
          2.995671272277832,
          9.30750560760498,
          12.671073913574219,
          4.084326267242432,
          9.147982597351074,
          9.702435493469238,
          70.1053237915039,
          3.0037105083465576,
          0.014669185504317284,
          1.203801155090332,
          4.1477484703063965,
          1.437209963798523,
          0.5657753944396973,
          0.5215346217155457,
          1.9642736911773682,
          27.01363182067871,
          8.121682167053223,
          0.7164573669433594,
          0.9827505350112915,
          0.1527734100818634,
          0.09834017604589462,
          2.061222791671753,
          0.3151407539844513,
          9.191449165344238,
          1.4754998683929443,
          0.3501702845096588,
          0.23088064789772034,
          6.205885887145996,
          -0.09054621309041977,
          50.346923828125,
          2.001159191131592,
          5.244834899902344,
          0.8026868104934692,
          1.457940936088562,
          1.3193271160125732,
          2.1905317306518555,
          1.4737597703933716,
          0.48539111018180847,
          41.17210006713867,
          0.3501702845096588,
          0.5696573853492737,
          0.890953540802002,
          15.637767791748047,
          7.678467273712158,
          1.046747088432312,
          17.646453857421875,
          4.890487194061279,
          0.9413256645202637,
          1.6073908805847168,
          36.05438232421875,
          1.0466989278793335,
          26.39194107055664,
          0.9156495928764343,
          0.4702131450176239,
          27.330156326293945,
          3.767453908920288,
          0.15910843014717102,
          0.18354594707489014,
          1.3651036024093628,
          29.188581466674805,
          0.6758077144622803,
          12.356277465820312,
          0.5667691230773926,
          0.4377610385417938,
          39.71302795410156,
          2.7738068103790283,
          5.075380325317383,
          0.568177342414856,
          2.635404586791992,
          9.252147674560547,
          12.839888572692871,
          0.41610512137413025,
          0.586205005645752,
          0.07641599327325821,
          -0.10411285609006882,
          4.605837821960449,
          18.1473388671875,
          5.656589508056641,
          23.766281127929688,
          5.8775129318237305,
          0.5662830471992493,
          7.858410835266113,
          0.3019770681858063,
          0.7258643507957458,
          11.08919906616211,
          9.026251792907715,
          18.27603530883789,
          10.099076271057129,
          29.188581466674805,
          2.9140522480010986,
          2.4490630626678467,
          0.3346046507358551,
          1.6302682161331177,
          0.1772516965866089,
          6.1858696937561035,
          0.16168604791164398,
          0.40325823426246643,
          3.0926878452301025,
          0.14351901412010193,
          2.2854559421539307,
          2.324281930923462,
          0.2918049395084381,
          5.536938667297363,
          1.5855712890625,
          1.1757301092147827,
          2.489201068878174,
          4.488341331481934,
          0.7351323366165161,
          6.645405292510986,
          63.523475646972656,
          27.222030639648438,
          18.71440315246582,
          2.2356810569763184,
          0.7707146406173706,
          11.335320472717285,
          7.37115478515625,
          3.4248921871185303,
          5.160150051116943,
          0.6708899736404419,
          1.9556970596313477,
          0.40325823426246643,
          0.6184209585189819,
          1.2452458143234253,
          7.691717147827148,
          0.17590223252773285,
          3.7757699489593506,
          14.375240325927734,
          0.18017974495887756,
          2.1438422203063965,
          2.0203654766082764,
          9.434457778930664,
          0.2647230625152588,
          17.73971176147461,
          2.1704154014587402,
          1.853453278541565,
          0.775578498840332,
          1.112138032913208,
          5.392292022705078,
          0.35396912693977356,
          0.029335767030715942,
          0.9955453872680664,
          0.16206322610378265,
          19.961450576782227,
          35.18006134033203,
          36.07267761230469,
          50.56375503540039,
          13.996368408203125,
          9.77832317352295,
          0.24063651263713837,
          0.35073527693748474,
          0.4158368408679962,
          0.02693513035774231,
          8.665948867797852,
          2.7537052631378174,
          0.4506431221961975,
          0.01365516148507595,
          31.39434051513672,
          18.816253662109375,
          2.2061710357666016,
          3.625722646713257,
          0.0656629353761673,
          18.801746368408203,
          54.458980560302734,
          4.1038947105407715,
          0.5922569036483765,
          2.0750062465667725,
          28.981122970581055,
          0.047249749302864075,
          2.092193126678467,
          0.8402467966079712,
          62.31516647338867,
          61.24097442626953,
          2.489201068878174,
          1.5568532943725586,
          0.3716926574707031,
          0.3845463693141937,
          3.66194748878479,
          22.216354370117188,
          0.19591853022575378,
          0.4227135479450226,
          0.9404973983764648,
          20.574058532714844,
          3.9215667247772217,
          0.46120187640190125,
          0.14852237701416016,
          0.43615755438804626,
          1.5445082187652588,
          2.8510539531707764,
          12.83841323852539,
          0.8026868104934692,
          0.6198366284370422,
          1.1575738191604614,
          1.3839954137802124,
          1.9306623935699463,
          11.0763521194458,
          14.68032169342041,
          2.404696226119995,
          47.747127532958984,
          2.1526665687561035,
          9.136502265930176,
          15.344295501708984,
          0.2305736541748047,
          16.611967086791992,
          19.69267463684082,
          0.852825403213501,
          31.80731201171875,
          3.371680736541748,
          2.253239870071411,
          9.448707580566406,
          23.87481117248535,
          1.0471290349960327,
          0.9766321778297424,
          4.806668281555176,
          0.5208426117897034,
          22.097026824951172,
          0.19570569694042206,
          1.3956217765808105,
          0.18143239617347717,
          54.008296966552734,
          0.9955453872680664,
          0.48050519824028015,
          19.437183380126953,
          2.0051705837249756,
          3.436649799346924,
          0.41774430871009827,
          18.635723114013672,
          20.149930953979492,
          55.612213134765625,
          31.049999237060547,
          2.1054210662841797,
          0.8402467966079712,
          4.637201309204102,
          25.46874237060547,
          2.6634528636932373,
          20.38886833190918,
          0.637677788734436,
          12.697633743286133,
          8.455191612243652,
          0.18312709033489227,
          2.274744749069214,
          0.09834017604589462,
          6.1858696937561035,
          0.43615755438804626,
          13.162124633789062,
          1.3171323537826538,
          0.819817304611206,
          11.449012756347656,
          17.88236427307129,
          13.022303581237793,
          0.21798823773860931,
          52.0420036315918,
          4.369732856750488,
          15.850083351135254,
          0.32776620984077454,
          1.9006258249282837,
          0.5997949838638306,
          16.417640686035156,
          27.090139389038086,
          0.2273482382297516,
          0.9305341243743896,
          41.035484313964844,
          0.6096290349960327,
          31.086511611938477,
          28.310623168945312,
          0.5813410878181458,
          0.9143333435058594,
          0.5179949998855591,
          12.28570556640625,
          1.5906883478164673,
          4.809082508087158,
          0.33246275782585144,
          14.898147583007812,
          0.5696573853492737,
          1.3839954137802124,
          24.64845848083496,
          1.475854516029358,
          1.0261982679367065,
          16.430749893188477,
          18.525056838989258,
          11.669206619262695,
          2.0070834159851074,
          0.48794326186180115,
          6.1858696937561035,
          0.9620689153671265,
          46.4490966796875,
          2.0856337547302246,
          21.182147979736328,
          20.30354118347168,
          34.76448059082031,
          10.408007621765137,
          10.520545959472656,
          7.179953098297119,
          0.701934278011322,
          0.8226878046989441,
          33.606727600097656,
          1.3996344804763794,
          46.166473388671875,
          3.1526381969451904,
          0.33246275782585144,
          1.429771900177002,
          2.1142234802246094,
          62.38257598876953,
          1.461990237236023,
          2.8584344387054443,
          0.3823517858982086,
          6.889856338500977,
          9.754904747009277,
          17.609054565429688,
          0.9493004679679871,
          1.155355453491211,
          1.4557499885559082,
          5.820516109466553,
          65.34950256347656,
          0.43615755438804626,
          0.6446810960769653,
          0.9493004679679871,
          0.8325018882751465,
          65.52628326416016,
          41.57266616821289,
          43.64459991455078,
          2.2217464447021484,
          0.5179949998855591,
          1.429179310798645,
          17.505775451660156,
          8.680198669433594,
          4.97479772567749,
          0.637677788734436,
          0.4249081313610077,
          4.4421916007995605,
          4.092226505279541,
          2.949666738510132,
          31.378582000732422,
          6.2656707763671875,
          31.658164978027344,
          64.0189437866211,
          0.2668006718158722,
          20.979026794433594,
          1.2927525043487549,
          19.972679138183594,
          29.4212703704834,
          19.23042869567871,
          21.094377517700195,
          18.503446578979492,
          41.65049362182617,
          16.378036499023438,
          1.048686146736145,
          0.7427923679351807,
          0.8199232816696167,
          16.164894104003906,
          48.70636749267578,
          3.678431510925293,
          0.5364084243774414,
          18.084644317626953,
          0.5024293661117554,
          0.7549659609794617,
          0.5246034860610962,
          0.4858732521533966,
          10.46336841583252,
          18.562644958496094,
          8.348708152770996,
          15.765154838562012,
          20.731157302856445,
          22.7017822265625,
          5.738278865814209,
          55.19554138183594,
          0.16408804059028625,
          20.903343200683594,
          72.4634017944336,
          4.404992580413818,
          0.9249317646026611,
          8.12843132019043,
          6.701476573944092,
          1.0827490091323853,
          23.27737808227539,
          21.22318458557129,
          0.4705943167209625,
          1.5301111936569214,
          15.842202186584473,
          75.12114715576172,
          27.087995529174805,
          4.130556106567383,
          0.701934278011322,
          0.32028982043266296,
          12.320489883422852,
          22.974693298339844,
          0.5724048018455505,
          3.0461528301239014,
          13.956528663635254,
          1.2540488243103027,
          68.24500274658203,
          12.74942398071289,
          17.94985008239746,
          32.095523834228516,
          1.1894394159317017,
          21.14395523071289,
          10.964018821716309,
          1.2011748552322388,
          46.946258544921875,
          4.538614749908447,
          0.929998517036438,
          0.30819621682167053,
          0.5608503222465515,
          28.893308639526367,
          35.15096664428711,
          21.79283332824707,
          33.738685607910156,
          19.79393196105957,
          0.844186007976532,
          61.11402130126953,
          1.1562000513076782,
          3.589056968688965,
          80.70354461669922,
          0.5792537927627563,
          32.72888946533203,
          48.55698776245117,
          1.1377966403961182,
          20.327529907226562,
          1.3874973058700562,
          0.5093074440956116,
          0.9231364130973816,
          10.838309288024902,
          31.68364715576172,
          1.913571834564209,
          1.616276502609253,
          8.659324645996094,
          45.17873001098633,
          0.06383737921714783,
          13.414360046386719,
          14.785496711730957,
          1.09778892993927,
          7.021747589111328,
          49.43094253540039,
          5.418447971343994,
          10.306078910827637,
          0.7502222657203674,
          6.223141670227051,
          0.5575208067893982,
          5.90157413482666,
          4.487042427062988,
          0.5267980098724365,
          1.7711007595062256,
          15.785317420959473,
          2.123084783554077,
          0.5550839900970459,
          1.422330379486084,
          1.368026614189148,
          1.0256825685501099,
          36.669090270996094,
          12.549903869628906,
          1.5441701412200928,
          0.717573344707489,
          2.1744160652160645,
          29.95526123046875,
          2.172895669937134,
          45.58579635620117,
          0.3460213840007782,
          27.07256507873535,
          0.6558360457420349,
          0.5462407469749451,
          16.259183883666992,
          8.507406234741211,
          25.76738166809082,
          2.184084177017212,
          58.194366455078125,
          0.41572800278663635,
          1.09778892993927,
          0.9824986457824707,
          15.685710906982422,
          0.7736890316009521,
          1.5657317638397217,
          0.6430295705795288,
          34.81372833251953,
          0.47413918375968933,
          33.418758392333984,
          2.1142234802246094,
          6.2446088790893555,
          44.04412841796875,
          4.115505695343018,
          63.36807632446289,
          5.0333333015441895,
          23.305681228637695,
          5.2103190422058105,
          13.45795726776123,
          17.763784408569336,
          5.79932975769043,
          4.5472846031188965,
          16.259183883666992,
          5.150385856628418,
          3.0919182300567627,
          0.3434860408306122,
          1.0972583293914795,
          0.8453838229179382,
          8.507406234741211,
          4.452767372131348,
          88.7275161743164,
          23.620651245117188,
          3.3918306827545166,
          43.4228401184082,
          34.586212158203125,
          16.607166290283203,
          0.6101783514022827,
          0.5869495868682861,
          10.945403099060059,
          20.8790340423584,
          27.681377410888672,
          24.28718376159668,
          25.67802619934082,
          5.5541534423828125,
          0.8375279903411865,
          1.9364639520645142,
          19.437183380126953,
          5.638838291168213,
          0.31404951214790344,
          17.408708572387695,
          110.93059539794922,
          3.0064237117767334,
          1.153365969657898,
          1.1316649913787842,
          9.754904747009277,
          39.404815673828125,
          1.7586270570755005,
          0.45810607075691223,
          11.51233959197998,
          3.136631727218628,
          0.7727169990539551,
          4.690342903137207,
          28.168312072753906,
          0.41006365418434143,
          5.981545448303223,
          3.6751489639282227,
          17.963905334472656,
          24.24785614013672,
          0.848050057888031,
          0.6482040286064148,
          13.73773193359375,
          3.7535135746002197,
          0.7111451625823975,
          2.062140703201294,
          0.43765923380851746,
          2.814020872116089,
          24.61025047302246,
          81.78560638427734,
          0.7397671937942505,
          0.35396912693977356,
          5.568655014038086,
          0.4602682292461395,
          0.9616992473602295,
          23.827804565429688,
          4.3618621826171875,
          2.061661720275879,
          1.530456304550171,
          6.647933483123779,
          26.297595977783203,
          19.89866828918457,
          33.39480972290039,
          14.099976539611816,
          3.566218852996826,
          8.71919059753418,
          22.555044174194336,
          3.8975727558135986,
          2.280158042907715,
          34.783287048339844,
          0.6371318101882935,
          8.20883560180664,
          2.9517931938171387,
          12.05172348022461,
          10.435859680175781,
          22.74065399169922,
          0.5208426117897034,
          1.166275978088379,
          0.11390579491853714,
          1.429179310798645,
          0.9621747732162476,
          0.5526116490364075,
          6.944176197052002,
          12.061773300170898,
          32.674442291259766,
          1.0884379148483276,
          0.5476922988891602,
          0.31925925612449646,
          7.505796432495117,
          28.04123306274414,
          10.469831466674805,
          1.7147969007492065,
          11.924731254577637,
          5.446247100830078,
          10.630084991455078,
          1.8742233514785767,
          17.925445556640625,
          1.8065788745880127,
          13.52167797088623,
          0.6728343367576599,
          4.496569633483887,
          0.5457902550697327,
          0.5563857555389404,
          21.114463806152344,
          53.92104721069336,
          15.732705116271973,
          0.6281342506408691,
          0.5928473472595215,
          5.147895336151123,
          7.477747440338135,
          42.61192321777344,
          30.43954849243164,
          5.910226821899414,
          0.05486153066158295,
          22.208515167236328,
          37.053749084472656,
          27.882925033569336,
          22.426881790161133,
          0.3653903901576996,
          42.0535774230957,
          35.13227081298828,
          4.4770989418029785,
          10.606576919555664,
          2.3229072093963623,
          0.7037938833236694,
          9.877059936523438,
          18.24542999267578,
          27.857648849487305,
          0.2274501621723175,
          0.4243948757648468,
          1.5504521131515503,
          0.14542217552661896,
          44.56458282470703,
          0.9084034562110901,
          2.8584344387054443,
          0.9357864260673523,
          4.096543788909912,
          0.5863039493560791,
          8.792886734008789,
          10.454630851745605,
          0.6106917858123779,
          30.44219398498535,
          1.2672240734100342,
          0.7397671937942505,
          14.617569923400879,
          0.2279241532087326,
          0.3223371207714081,
          0.6579372882843018,
          0.7397671937942505,
          6.981960296630859,
          5.64663028717041,
          9.778595924377441,
          0.34965160489082336,
          15.13066291809082,
          5.176515102386475,
          22.67249298095703,
          1.5335602760314941,
          2.5609443187713623,
          4.617306709289551,
          2.4520986080169678,
          0.8215316534042358,
          2.1911826133728027,
          6.613190174102783,
          8.688295364379883,
          35.015316009521484,
          32.243247985839844,
          1.0720009803771973,
          1.1744725704193115,
          0.5795578956604004,
          16.12912940979004,
          0.31207093596458435,
          4.56421422958374,
          3.8520853519439697,
          13.13851547241211,
          9.193222999572754,
          1.0456303358078003,
          3.494112491607666,
          2.043726682662964,
          0.22583290934562683,
          4.182578086853027,
          1.0456303358078003,
          13.357471466064453,
          0.7351323366165161,
          1.500329613685608,
          0.13710708916187286,
          0.9570345878601074,
          3.569159507751465,
          15.213433265686035,
          12.689643859863281,
          8.046391487121582,
          38.028507232666016,
          43.18621826171875,
          0.9489884376525879,
          0.4858732521533966,
          22.198686599731445,
          9.926758766174316,
          0.09545940160751343,
          1.2599749565124512,
          0.7037938833236694,
          0.23322460055351257,
          1.0289236307144165,
          5.217046737670898,
          0.847985565662384,
          7.01224422454834,
          3.6746041774749756,
          4.098086833953857,
          0.7701704502105713,
          1.5901172161102295,
          1.0283609628677368,
          9.562492370605469,
          3.7866673469543457,
          17.093475341796875,
          0.22583290934562683,
          3.0461528301239014,
          1.4512081146240234,
          27.83559799194336,
          19.577533721923828,
          0.4679265320301056,
          19.355154037475586,
          0.8582210540771484,
          0.7222477793693542,
          -0.027570120990276337,
          23.399911880493164,
          9.49338150024414,
          19.54490089416504,
          0.8180365562438965,
          2.452986240386963,
          15.294113159179688,
          18.611825942993164,
          39.44742965698242,
          4.989924907684326,
          1.1811139583587646,
          2.0256316661834717,
          1.6700522899627686,
          3.398041009902954,
          0.9048365354537964,
          28.875757217407227,
          1.0971603393554688,
          3.947382688522339,
          0.0839616060256958,
          17.432817459106445,
          7.235761642456055,
          0.9271945953369141,
          22.212257385253906,
          6.92665958404541,
          0.5848464965820312,
          0.022612057626247406,
          3.832102060317993,
          0.43615245819091797,
          0.2069336175918579,
          8.409589767456055,
          2.1062111854553223,
          29.8741512298584,
          0.8711021542549133,
          2.8553709983825684,
          0.6244199872016907,
          4.249225616455078,
          0.19947561621665955,
          5.381657600402832,
          1.934539794921875,
          10.212896347045898,
          6.944176197052002,
          21.62238311767578,
          16.93444061279297,
          0.35354599356651306,
          1.7993453741073608,
          7.0953240394592285,
          17.722566604614258,
          9.705795288085938,
          0.40722551941871643,
          0.3694414794445038,
          1.9568893909454346,
          1.1904008388519287,
          1.970578670501709,
          2.3169736862182617,
          4.895230770111084,
          0.5583569407463074,
          0.17681154608726501,
          22.39336395263672,
          4.801571369171143,
          4.389151096343994,
          18.934173583984375,
          1.1287622451782227,
          0.8617637157440186,
          2.3128256797790527,
          2.6834664344787598,
          0.592238187789917,
          0.7433783411979675,
          21.215486526489258,
          1.7675377130508423,
          0.7816407084465027,
          11.315264701843262,
          0.45341742038726807,
          2.2964398860931396,
          1.1028773784637451,
          31.19310188293457,
          19.78270149230957,
          0.5750064253807068,
          0.6924790740013123,
          2.3028883934020996,
          10.311606407165527,
          1.1404091119766235,
          2.379680633544922,
          0.4747883081436157,
          6.446627616882324,
          0.8711021542549133,
          0.44440531730651855,
          4.220269203186035,
          2.02864670753479,
          0.8108388185501099,
          2.2468807697296143,
          10.132686614990234,
          0.5678561329841614,
          0.9421917200088501,
          0.6853605508804321,
          4.962257385253906,
          3.925800085067749,
          20.17393684387207,
          1.4867119789123535,
          0.3223371207714081,
          2.852695941925049,
          3.220905065536499,
          0.9353135824203491,
          0.5145699977874756,
          0.5145699977874756,
          18.481487274169922,
          0.7803906798362732,
          0.724181592464447,
          7.008204936981201,
          6.2256059646606445,
          0.5294855833053589,
          1.1328771114349365,
          24.02808380126953,
          1.1751189231872559,
          0.36540958285331726,
          1.3850010633468628,
          4.085532188415527,
          13.212348937988281,
          0.1662975400686264,
          1.2513705492019653,
          9.477577209472656,
          3.8998281955718994,
          5.584864139556885,
          0.41529783606529236,
          0.6423553228378296,
          0.4100860059261322,
          0.2537238895893097,
          42.872955322265625,
          0.0665614902973175,
          0.8883869051933289,
          0.29559096693992615,
          2.6519367694854736,
          27.894258499145508,
          12.436694145202637,
          5.875958442687988,
          2.096303939819336,
          0.7020621299743652,
          0.7810176610946655,
          1.5934935808181763,
          5.94028902053833,
          1.7303119897842407,
          6.311865329742432,
          6.0470781326293945,
          1.9808666706085205,
          3.9807491302490234,
          0.6930500268936157,
          0.8883869051933289,
          0.411683052778244,
          1.0901641845703125,
          5.289210319519043,
          0.8645715713500977,
          18.568603515625,
          0.8199101090431213,
          4.891082286834717,
          6.80331563949585,
          1.570125937461853,
          8.102934837341309,
          1.367448329925537,
          0.34252265095710754,
          7.0915117263793945,
          1.6465705633163452,
          6.414646625518799,
          3.4353721141815186,
          0.7785369157791138,
          0.8272591829299927,
          0.49413734674453735,
          1.9644789695739746,
          19.898799896240234,
          0.2371653914451599,
          5.658684253692627,
          1.6657040119171143,
          5.670123100280762,
          1.8222742080688477,
          1.406267762184143,
          1.4288030862808228,
          0.8474448323249817,
          0.2917732894420624,
          0.6051997542381287,
          4.062500953674316,
          2.8982810974121094,
          15.740774154663086,
          0.5442547798156738,
          3.9605631828308105,
          0.5634504556655884,
          15.702528953552246,
          6.169165134429932,
          1.8418983221054077,
          3.4363813400268555,
          0.5678561329841614,
          1.4288030862808228,
          8.964183807373047,
          15.057865142822266,
          9.28445816040039,
          7.1234917640686035,
          4.741297245025635,
          3.360905647277832,
          22.03160285949707,
          3.29191255569458,
          0.472160667181015,
          0.45582616329193115,
          0.6761459112167358,
          10.850375175476074,
          1.0429534912109375,
          1.8418983221054077,
          1.8502649068832397,
          0.41537460684776306,
          10.160845756530762,
          4.426760673522949,
          0.5145699977874756,
          27.481470108032227,
          6.271624565124512,
          1.3248323202133179,
          0.9886956214904785,
          1.3830592632293701,
          0.49413734674453735,
          2.889630079269409,
          0.18796345591545105,
          6.597960472106934,
          3.185166358947754,
          0.3734820783138275,
          3.1669678688049316,
          5.0059733390808105,
          0.9341635704040527,
          1.9652559757232666,
          2.448723793029785,
          3.3599438667297363,
          1.7595041990280151,
          0.6342983245849609,
          0.3734820783138275,
          0.37201181054115295,
          1.0901641845703125,
          1.657941460609436,
          2.184561252593994,
          1.2042940855026245,
          1.0409786701202393,
          1.0429534912109375,
          0.9811002016067505,
          0.0063194152899086475,
          0.517673909664154,
          0.5903040766716003,
          0.10414732992649078,
          1.3976479768753052,
          1.0539969205856323,
          0.6593719720840454,
          1.2688058614730835,
          0.4319705367088318,
          3.415853500366211
         ],
         "xaxis": "x",
         "y": [
          0.1,
          1.5,
          1,
          0.1,
          15,
          0.075,
          0.2,
          0.15,
          0.6,
          0.2,
          0.125,
          0.15,
          40,
          4,
          0.15,
          0.15,
          0.8,
          0.2,
          2,
          0.9,
          0.3,
          0.1,
          0.1,
          0.6,
          0.45,
          1,
          0.5,
          0.8,
          0.5,
          0.1,
          0.3,
          0.3,
          0.15,
          0.05,
          0.25,
          0.6,
          0.3,
          0.2,
          0.15,
          0.1,
          0.3,
          0.3,
          0.1,
          2.5,
          0.8,
          0.2,
          1,
          0.4,
          0.2,
          0.15,
          2,
          0.3,
          0.05,
          0.25,
          0.15,
          1.2,
          0.35,
          0.2,
          0.5,
          0.3,
          2,
          0.3,
          0.4,
          0.15,
          0.25,
          0.4,
          0.25,
          0.2,
          0.15,
          0.3,
          0.1,
          1,
          0.6,
          2.5,
          0.1,
          0.3,
          0.9,
          0.3,
          0.45,
          0.3,
          0.2,
          0.15,
          0.45,
          0.3,
          1.5,
          1,
          2.5,
          1,
          28,
          0.25,
          0.4,
          0.9,
          38,
          0.5,
          0.2,
          1.5,
          0.3,
          1.5,
          3,
          1,
          20,
          1,
          0.6,
          0.75,
          0.15,
          0.4,
          0.35,
          0.25,
          0.1,
          0.5,
          0.25,
          0.6,
          15,
          0.1,
          1,
          0.5,
          0.25,
          0.8,
          0.6,
          0.7,
          0.5,
          0.7,
          0.25,
          0.5,
          1.2,
          0.8,
          0.3,
          0.025,
          1.8,
          0.2,
          0.2,
          1,
          0.4,
          0.275,
          0.4,
          0.3,
          0.6,
          2,
          0.25,
          7,
          0.15,
          0.175,
          0.5,
          0.2,
          0.15,
          1.8,
          0.6,
          0.15,
          1,
          0.4,
          22,
          0.15,
          0.15,
          12,
          0.3,
          0.3,
          0.25,
          0.4,
          0.4,
          0.8,
          2,
          1,
          16,
          2,
          0.1,
          2,
          1.2,
          2.5,
          3,
          1.5,
          13,
          9,
          0.8,
          0.15,
          2.5,
          2.5,
          0.3,
          0.7,
          0.9,
          1.5,
          0.5,
          14,
          0.3,
          0.15,
          0.7,
          0.5,
          12,
          0.2,
          0.25,
          2,
          8,
          3.5,
          0.7,
          0.6,
          1.2,
          0.05,
          0.5,
          9,
          0.25,
          0.3,
          0.5,
          0.175,
          70,
          0.6,
          1.2,
          0.25,
          0.1,
          1.8,
          0.3,
          0.15,
          0.85,
          0.2,
          60,
          0.25,
          1,
          1.2,
          1.2,
          2,
          25,
          0.2,
          2.8,
          0.125,
          1.5,
          0.175,
          0.8,
          11,
          1.2,
          0.6,
          5,
          1.2,
          1.5,
          0.7,
          25,
          0.25,
          7,
          0.3,
          0.1,
          45,
          5,
          8,
          0.5,
          1,
          0.3,
          0.6,
          4,
          0.5,
          0.3,
          0.9,
          0.5,
          10,
          0.25,
          3,
          2.5,
          2.5,
          28,
          0.6,
          0.2,
          3,
          1,
          0.3,
          0.2,
          0.6,
          1.5,
          1.5,
          10,
          1,
          0.05,
          2,
          0.3,
          2.5,
          0.05,
          8,
          0.2,
          0.125,
          0.5,
          1.2,
          0.15,
          1,
          6,
          2,
          0.1,
          0.7,
          0.15,
          2,
          0.45,
          0.9,
          0.4,
          0.25,
          0.8,
          2,
          0.3,
          1,
          16,
          0.7,
          16,
          0.5,
          2.5,
          0.8,
          0.4,
          10,
          0.9,
          0.45,
          6,
          1.2,
          17,
          5,
          8,
          12,
          7,
          0.6,
          0.3,
          0.6,
          0.7,
          0.25,
          0.4,
          1.8,
          12,
          2,
          0.8,
          0.7,
          0.25,
          9.5,
          0.3,
          25,
          4.5,
          0.8,
          0.4,
          6,
          22,
          9,
          0.35,
          10,
          12,
          0.15,
          0.9,
          60,
          0.6,
          2.2,
          10,
          8,
          2,
          0.75,
          1.2,
          0.45,
          45,
          1.5,
          2,
          0.15,
          2.5,
          0.1,
          12,
          2.5,
          0.3,
          0.125,
          35,
          1,
          6.5,
          2,
          3.5,
          8,
          16,
          1.5,
          16,
          8,
          70,
          1.2,
          0.2,
          0.25,
          2,
          0.8,
          0.25,
          1.5,
          0.9,
          28,
          9,
          1,
          0.45,
          0.2,
          0.175,
          1.5,
          0.3,
          6,
          1,
          0.35,
          0.2,
          3.5,
          0.15,
          35,
          1.8,
          4.5,
          0.6,
          0.9,
          0.9,
          1.2,
          1,
          0.35,
          25,
          0.2,
          0.1,
          1.2,
          20,
          9,
          0.7,
          18,
          3.2,
          0.85,
          2,
          30,
          0.8,
          35,
          0.6,
          0.275,
          25,
          1.5,
          0.25,
          0.55,
          0.35,
          38,
          0.35,
          12,
          0.35,
          0.3,
          35,
          4,
          3.8,
          0.2,
          2.2,
          4.5,
          10,
          0.025,
          0.9,
          0.2,
          0.2,
          3,
          18,
          7,
          40,
          3,
          0.2,
          10,
          0.15,
          0.6,
          20,
          18,
          15,
          15,
          27,
          2.2,
          3.5,
          0.3,
          1.8,
          0.35,
          5,
          0.3,
          0.2,
          2.5,
          0.15,
          3.5,
          3,
          0.3,
          15,
          0.9,
          0.3,
          2.5,
          6,
          0.4,
          16,
          75,
          40,
          12,
          2,
          0.3,
          9,
          4,
          12,
          5,
          1,
          3,
          0.2,
          0.4,
          1,
          18,
          0.35,
          1.2,
          25,
          0.25,
          8,
          0.6,
          8,
          0.175,
          10,
          1,
          1.2,
          0.3,
          0.5,
          3.5,
          0.2,
          0.2,
          1.2,
          0.025,
          20,
          28,
          40,
          45,
          7,
          6,
          0.4,
          0.6,
          0.2,
          0.15,
          18,
          3.5,
          0.35,
          0.25,
          35,
          15,
          1.5,
          2.2,
          0.6,
          20,
          48,
          3.5,
          0.35,
          1.5,
          40,
          0.075,
          1.5,
          0.45,
          75,
          80,
          3.5,
          1.5,
          0.35,
          0.15,
          10,
          28,
          0.15,
          0.125,
          0.3,
          14,
          1.5,
          0.25,
          0.3,
          0.2,
          1,
          4,
          12,
          0.5,
          0.9,
          1.5,
          6,
          1,
          10,
          10,
          2,
          30,
          1.8,
          18,
          12,
          0.125,
          13,
          25,
          0.2,
          50,
          2.5,
          2.5,
          8,
          22,
          1.2,
          0.9,
          7,
          0.5,
          22,
          0.225,
          2,
          0.3,
          80,
          1.2,
          0.2,
          15,
          1.5,
          3,
          0.125,
          20,
          18,
          80,
          30,
          5,
          0.5,
          4.5,
          25,
          2.5,
          25,
          0.35,
          20,
          16,
          0.25,
          1.8,
          0.15,
          7,
          1.2,
          20,
          0.8,
          0.25,
          18,
          17,
          35,
          0.075,
          32,
          4,
          12,
          0.35,
          2,
          0.25,
          13,
          15,
          0.3,
          0.5,
          35,
          0.3,
          38,
          40,
          0.35,
          0.25,
          0.15,
          16,
          1.8,
          2.8,
          0.3,
          16,
          0.25,
          0.8,
          25,
          0.7,
          2,
          12,
          20,
          20,
          2,
          0.2,
          15,
          0.25,
          60,
          2.5,
          25,
          18,
          25,
          3,
          8,
          15,
          0.25,
          0.3,
          25,
          0.5,
          25,
          3.5,
          1.2,
          1.2,
          2.8,
          60,
          0.8,
          3,
          0.15,
          4.5,
          4.5,
          9,
          0.2,
          0.9,
          0.5,
          4,
          65,
          0.4,
          0.15,
          0.3,
          3.8,
          38,
          35,
          80,
          2,
          0.1,
          0.7,
          13,
          22,
          5,
          0.15,
          0.075,
          7,
          4.5,
          2,
          40,
          4,
          16,
          75,
          0.5,
          16,
          0.7,
          12,
          25,
          20,
          18,
          38,
          50,
          13,
          0.8,
          0.4,
          1,
          18,
          50,
          2.2,
          0.5,
          28,
          0.075,
          0.45,
          0.15,
          0.3,
          16,
          25,
          12,
          6,
          38,
          28,
          12,
          50,
          0.3,
          25,
          50,
          5,
          0.5,
          4.5,
          4.5,
          0.4,
          28,
          15,
          0.7,
          1,
          15,
          80,
          20,
          3,
          0.3,
          0.2,
          6,
          18,
          0.9,
          1.5,
          7,
          0.9,
          65,
          25,
          12,
          70,
          1.5,
          32,
          12,
          0.8,
          35,
          3.5,
          0.3,
          0.15,
          0.5,
          40,
          60,
          27,
          38,
          35,
          0.2,
          90,
          2.8,
          2,
          90,
          0.45,
          45,
          75,
          1.2,
          18,
          0.8,
          0.25,
          0.4,
          15,
          15,
          6,
          1.2,
          4,
          30,
          0.2,
          10,
          35,
          0.6,
          16,
          48,
          3.5,
          10,
          0.2,
          3,
          0.4,
          13,
          3,
          0.075,
          1.8,
          30,
          2.2,
          0.125,
          1.8,
          1,
          3.5,
          28,
          18,
          1.5,
          0.3,
          2,
          35,
          0.9,
          35,
          0.175,
          17,
          0.3,
          0.3,
          18,
          12,
          30,
          1.4,
          50,
          0.35,
          3.5,
          0.35,
          18,
          0.3,
          1,
          0.15,
          50,
          0.3,
          35,
          5,
          17,
          45,
          3.5,
          55,
          5,
          35,
          3,
          12,
          22,
          10,
          3.5,
          25,
          6,
          2,
          0.6,
          0.5,
          0.5,
          4,
          7,
          110,
          15,
          2.2,
          20,
          25,
          18,
          0.25,
          0.15,
          7,
          35,
          20,
          25,
          18,
          9,
          7,
          1.3,
          15,
          12,
          0.125,
          22,
          180,
          1.8,
          1.5,
          0.5,
          7,
          42,
          0.8,
          0.1,
          16,
          2.5,
          0.9,
          8,
          25,
          0.3,
          11,
          20,
          16,
          38,
          0.3,
          0.3,
          30,
          11,
          0.8,
          1.5,
          0.25,
          1.2,
          55,
          110,
          0.3,
          0.15,
          5,
          0.2,
          0.9,
          17,
          2.8,
          2.8,
          0.6,
          4,
          17,
          55,
          50,
          9,
          8,
          14,
          18,
          5,
          3.5,
          45,
          0.2,
          6,
          2.8,
          10,
          10,
          40,
          0.3,
          0.6,
          0.15,
          0.45,
          1.2,
          0.25,
          10,
          15,
          40,
          0.3,
          0.3,
          0.8,
          3.8,
          10,
          20,
          7,
          10,
          6,
          11,
          4,
          22,
          0.5,
          22,
          1,
          6,
          0.35,
          0.175,
          30,
          65,
          20,
          2.8,
          0.2,
          12,
          25,
          55,
          75,
          4,
          0.075,
          25,
          22,
          30,
          40,
          0.6,
          75,
          50,
          8,
          10,
          1.5,
          0.4,
          12,
          42,
          28,
          0.075,
          0.25,
          5,
          0.15,
          28,
          0.2,
          2,
          0.9,
          1,
          0.5,
          9,
          5,
          0.3,
          55,
          4,
          0.25,
          15,
          0.2,
          0.15,
          1.2,
          0.35,
          4.5,
          2,
          20,
          0.25,
          35,
          1.8,
          32,
          0.8,
          2,
          2.2,
          5,
          2,
          0.8,
          15,
          8,
          25,
          28,
          0.6,
          5,
          0.2,
          12,
          1,
          7,
          22,
          12,
          14,
          0.25,
          9,
          1.8,
          0.15,
          1.2,
          0.5,
          7,
          0.3,
          4,
          0.15,
          2.5,
          3,
          22,
          28,
          4,
          30,
          70,
          0.45,
          0.55,
          25,
          6,
          0.05,
          0.7,
          0.5,
          0.15,
          0.5,
          2.5,
          0.3,
          8,
          3.5,
          5,
          0.125,
          3,
          0.5,
          10,
          3,
          65,
          0.2,
          2,
          2.2,
          13,
          60,
          0.3,
          22,
          0.3,
          0.2,
          0.15,
          13,
          5,
          20,
          0.1,
          3,
          35,
          30,
          65,
          2.5,
          1.5,
          0.6,
          0.7,
          2,
          0.6,
          35,
          0.3,
          3.5,
          0.15,
          25,
          18,
          1,
          16,
          8,
          0.3,
          0.2,
          6,
          0.2,
          0.2,
          12,
          5,
          35,
          0.2,
          2.5,
          0.2,
          8,
          0.3,
          5,
          2.2,
          15,
          5,
          15,
          28,
          0.25,
          1.5,
          4,
          22,
          10,
          0.275,
          0.35,
          1.2,
          0.6,
          2.5,
          1,
          8,
          0.25,
          0.15,
          18,
          6,
          9,
          20,
          1.5,
          1,
          0.7,
          1.2,
          0.1,
          0.45,
          25,
          0.9,
          0.3,
          25,
          0.05,
          1,
          0.5,
          45,
          30,
          0.35,
          0.25,
          6,
          8,
          1.2,
          2,
          0.5,
          35,
          0.25,
          0.25,
          5,
          1,
          0.35,
          0.3,
          16,
          0.2,
          1,
          0.3,
          7,
          2.5,
          25,
          0.25,
          0.3,
          15,
          1.5,
          0.5,
          0.125,
          0.2,
          24,
          1.8,
          0.9,
          18,
          32,
          0.175,
          1,
          15,
          0.45,
          0.2,
          0.9,
          5,
          7,
          0.075,
          10,
          85,
          5,
          12,
          0.5,
          11,
          0.2,
          0.05,
          70,
          0.25,
          0.35,
          0.175,
          10,
          18,
          22,
          7,
          1.2,
          0.4,
          0.45,
          1,
          2,
          6,
          2.8,
          3,
          6,
          0.8,
          0.9,
          0.8,
          0.5,
          0.3,
          1.8,
          0.9,
          13,
          0.2,
          6,
          9,
          0.6,
          55,
          0.5,
          0.25,
          11,
          1.2,
          4,
          15,
          0.25,
          0.5,
          0.5,
          0.4,
          22,
          0.7,
          8,
          0.35,
          3,
          1,
          0.8,
          0.8,
          1.2,
          2.8,
          0.3,
          3,
          10,
          22,
          0.2,
          1.5,
          0.15,
          18,
          5,
          1,
          3,
          0.2,
          2,
          6,
          5,
          5,
          3.5,
          4,
          1,
          22,
          1,
          0.25,
          0.125,
          0.1,
          12,
          0.4,
          30,
          10,
          0.45,
          14,
          20,
          0.25,
          28,
          25,
          0.25,
          1,
          0.8,
          0.25,
          20,
          0.8,
          5,
          3.5,
          0.15,
          14,
          2,
          0.2,
          0.8,
          4,
          2,
          0.4,
          1.5,
          0.275,
          0.15,
          0.5,
          0.3,
          1.5,
          0.4,
          6,
          8,
          0.3,
          0.3,
          0.2,
          3,
          12,
          0.5,
          3,
          0.2,
          2,
          0.125,
          1.9
         ],
         "yaxis": "y"
        }
       ],
       "layout": {
        "legend": {
         "tracegroupgap": 0
        },
        "margin": {
         "t": 60
        },
        "template": {
         "data": {
          "bar": [
           {
            "error_x": {
             "color": "#2a3f5f"
            },
            "error_y": {
             "color": "#2a3f5f"
            },
            "marker": {
             "line": {
              "color": "#E5ECF6",
              "width": 0.5
             },
             "pattern": {
              "fillmode": "overlay",
              "size": 10,
              "solidity": 0.2
             }
            },
            "type": "bar"
           }
          ],
          "barpolar": [
           {
            "marker": {
             "line": {
              "color": "#E5ECF6",
              "width": 0.5
             },
             "pattern": {
              "fillmode": "overlay",
              "size": 10,
              "solidity": 0.2
             }
            },
            "type": "barpolar"
           }
          ],
          "carpet": [
           {
            "aaxis": {
             "endlinecolor": "#2a3f5f",
             "gridcolor": "white",
             "linecolor": "white",
             "minorgridcolor": "white",
             "startlinecolor": "#2a3f5f"
            },
            "baxis": {
             "endlinecolor": "#2a3f5f",
             "gridcolor": "white",
             "linecolor": "white",
             "minorgridcolor": "white",
             "startlinecolor": "#2a3f5f"
            },
            "type": "carpet"
           }
          ],
          "choropleth": [
           {
            "colorbar": {
             "outlinewidth": 0,
             "ticks": ""
            },
            "type": "choropleth"
           }
          ],
          "contour": [
           {
            "colorbar": {
             "outlinewidth": 0,
             "ticks": ""
            },
            "colorscale": [
             [
              0,
              "#0d0887"
             ],
             [
              0.1111111111111111,
              "#46039f"
             ],
             [
              0.2222222222222222,
              "#7201a8"
             ],
             [
              0.3333333333333333,
              "#9c179e"
             ],
             [
              0.4444444444444444,
              "#bd3786"
             ],
             [
              0.5555555555555556,
              "#d8576b"
             ],
             [
              0.6666666666666666,
              "#ed7953"
             ],
             [
              0.7777777777777778,
              "#fb9f3a"
             ],
             [
              0.8888888888888888,
              "#fdca26"
             ],
             [
              1,
              "#f0f921"
             ]
            ],
            "type": "contour"
           }
          ],
          "contourcarpet": [
           {
            "colorbar": {
             "outlinewidth": 0,
             "ticks": ""
            },
            "type": "contourcarpet"
           }
          ],
          "heatmap": [
           {
            "colorbar": {
             "outlinewidth": 0,
             "ticks": ""
            },
            "colorscale": [
             [
              0,
              "#0d0887"
             ],
             [
              0.1111111111111111,
              "#46039f"
             ],
             [
              0.2222222222222222,
              "#7201a8"
             ],
             [
              0.3333333333333333,
              "#9c179e"
             ],
             [
              0.4444444444444444,
              "#bd3786"
             ],
             [
              0.5555555555555556,
              "#d8576b"
             ],
             [
              0.6666666666666666,
              "#ed7953"
             ],
             [
              0.7777777777777778,
              "#fb9f3a"
             ],
             [
              0.8888888888888888,
              "#fdca26"
             ],
             [
              1,
              "#f0f921"
             ]
            ],
            "type": "heatmap"
           }
          ],
          "heatmapgl": [
           {
            "colorbar": {
             "outlinewidth": 0,
             "ticks": ""
            },
            "colorscale": [
             [
              0,
              "#0d0887"
             ],
             [
              0.1111111111111111,
              "#46039f"
             ],
             [
              0.2222222222222222,
              "#7201a8"
             ],
             [
              0.3333333333333333,
              "#9c179e"
             ],
             [
              0.4444444444444444,
              "#bd3786"
             ],
             [
              0.5555555555555556,
              "#d8576b"
             ],
             [
              0.6666666666666666,
              "#ed7953"
             ],
             [
              0.7777777777777778,
              "#fb9f3a"
             ],
             [
              0.8888888888888888,
              "#fdca26"
             ],
             [
              1,
              "#f0f921"
             ]
            ],
            "type": "heatmapgl"
           }
          ],
          "histogram": [
           {
            "marker": {
             "pattern": {
              "fillmode": "overlay",
              "size": 10,
              "solidity": 0.2
             }
            },
            "type": "histogram"
           }
          ],
          "histogram2d": [
           {
            "colorbar": {
             "outlinewidth": 0,
             "ticks": ""
            },
            "colorscale": [
             [
              0,
              "#0d0887"
             ],
             [
              0.1111111111111111,
              "#46039f"
             ],
             [
              0.2222222222222222,
              "#7201a8"
             ],
             [
              0.3333333333333333,
              "#9c179e"
             ],
             [
              0.4444444444444444,
              "#bd3786"
             ],
             [
              0.5555555555555556,
              "#d8576b"
             ],
             [
              0.6666666666666666,
              "#ed7953"
             ],
             [
              0.7777777777777778,
              "#fb9f3a"
             ],
             [
              0.8888888888888888,
              "#fdca26"
             ],
             [
              1,
              "#f0f921"
             ]
            ],
            "type": "histogram2d"
           }
          ],
          "histogram2dcontour": [
           {
            "colorbar": {
             "outlinewidth": 0,
             "ticks": ""
            },
            "colorscale": [
             [
              0,
              "#0d0887"
             ],
             [
              0.1111111111111111,
              "#46039f"
             ],
             [
              0.2222222222222222,
              "#7201a8"
             ],
             [
              0.3333333333333333,
              "#9c179e"
             ],
             [
              0.4444444444444444,
              "#bd3786"
             ],
             [
              0.5555555555555556,
              "#d8576b"
             ],
             [
              0.6666666666666666,
              "#ed7953"
             ],
             [
              0.7777777777777778,
              "#fb9f3a"
             ],
             [
              0.8888888888888888,
              "#fdca26"
             ],
             [
              1,
              "#f0f921"
             ]
            ],
            "type": "histogram2dcontour"
           }
          ],
          "mesh3d": [
           {
            "colorbar": {
             "outlinewidth": 0,
             "ticks": ""
            },
            "type": "mesh3d"
           }
          ],
          "parcoords": [
           {
            "line": {
             "colorbar": {
              "outlinewidth": 0,
              "ticks": ""
             }
            },
            "type": "parcoords"
           }
          ],
          "pie": [
           {
            "automargin": true,
            "type": "pie"
           }
          ],
          "scatter": [
           {
            "fillpattern": {
             "fillmode": "overlay",
             "size": 10,
             "solidity": 0.2
            },
            "type": "scatter"
           }
          ],
          "scatter3d": [
           {
            "line": {
             "colorbar": {
              "outlinewidth": 0,
              "ticks": ""
             }
            },
            "marker": {
             "colorbar": {
              "outlinewidth": 0,
              "ticks": ""
             }
            },
            "type": "scatter3d"
           }
          ],
          "scattercarpet": [
           {
            "marker": {
             "colorbar": {
              "outlinewidth": 0,
              "ticks": ""
             }
            },
            "type": "scattercarpet"
           }
          ],
          "scattergeo": [
           {
            "marker": {
             "colorbar": {
              "outlinewidth": 0,
              "ticks": ""
             }
            },
            "type": "scattergeo"
           }
          ],
          "scattergl": [
           {
            "marker": {
             "colorbar": {
              "outlinewidth": 0,
              "ticks": ""
             }
            },
            "type": "scattergl"
           }
          ],
          "scattermapbox": [
           {
            "marker": {
             "colorbar": {
              "outlinewidth": 0,
              "ticks": ""
             }
            },
            "type": "scattermapbox"
           }
          ],
          "scatterpolar": [
           {
            "marker": {
             "colorbar": {
              "outlinewidth": 0,
              "ticks": ""
             }
            },
            "type": "scatterpolar"
           }
          ],
          "scatterpolargl": [
           {
            "marker": {
             "colorbar": {
              "outlinewidth": 0,
              "ticks": ""
             }
            },
            "type": "scatterpolargl"
           }
          ],
          "scatterternary": [
           {
            "marker": {
             "colorbar": {
              "outlinewidth": 0,
              "ticks": ""
             }
            },
            "type": "scatterternary"
           }
          ],
          "surface": [
           {
            "colorbar": {
             "outlinewidth": 0,
             "ticks": ""
            },
            "colorscale": [
             [
              0,
              "#0d0887"
             ],
             [
              0.1111111111111111,
              "#46039f"
             ],
             [
              0.2222222222222222,
              "#7201a8"
             ],
             [
              0.3333333333333333,
              "#9c179e"
             ],
             [
              0.4444444444444444,
              "#bd3786"
             ],
             [
              0.5555555555555556,
              "#d8576b"
             ],
             [
              0.6666666666666666,
              "#ed7953"
             ],
             [
              0.7777777777777778,
              "#fb9f3a"
             ],
             [
              0.8888888888888888,
              "#fdca26"
             ],
             [
              1,
              "#f0f921"
             ]
            ],
            "type": "surface"
           }
          ],
          "table": [
           {
            "cells": {
             "fill": {
              "color": "#EBF0F8"
             },
             "line": {
              "color": "white"
             }
            },
            "header": {
             "fill": {
              "color": "#C8D4E3"
             },
             "line": {
              "color": "white"
             }
            },
            "type": "table"
           }
          ]
         },
         "layout": {
          "annotationdefaults": {
           "arrowcolor": "#2a3f5f",
           "arrowhead": 0,
           "arrowwidth": 1
          },
          "autotypenumbers": "strict",
          "coloraxis": {
           "colorbar": {
            "outlinewidth": 0,
            "ticks": ""
           }
          },
          "colorscale": {
           "diverging": [
            [
             0,
             "#8e0152"
            ],
            [
             0.1,
             "#c51b7d"
            ],
            [
             0.2,
             "#de77ae"
            ],
            [
             0.3,
             "#f1b6da"
            ],
            [
             0.4,
             "#fde0ef"
            ],
            [
             0.5,
             "#f7f7f7"
            ],
            [
             0.6,
             "#e6f5d0"
            ],
            [
             0.7,
             "#b8e186"
            ],
            [
             0.8,
             "#7fbc41"
            ],
            [
             0.9,
             "#4d9221"
            ],
            [
             1,
             "#276419"
            ]
           ],
           "sequential": [
            [
             0,
             "#0d0887"
            ],
            [
             0.1111111111111111,
             "#46039f"
            ],
            [
             0.2222222222222222,
             "#7201a8"
            ],
            [
             0.3333333333333333,
             "#9c179e"
            ],
            [
             0.4444444444444444,
             "#bd3786"
            ],
            [
             0.5555555555555556,
             "#d8576b"
            ],
            [
             0.6666666666666666,
             "#ed7953"
            ],
            [
             0.7777777777777778,
             "#fb9f3a"
            ],
            [
             0.8888888888888888,
             "#fdca26"
            ],
            [
             1,
             "#f0f921"
            ]
           ],
           "sequentialminus": [
            [
             0,
             "#0d0887"
            ],
            [
             0.1111111111111111,
             "#46039f"
            ],
            [
             0.2222222222222222,
             "#7201a8"
            ],
            [
             0.3333333333333333,
             "#9c179e"
            ],
            [
             0.4444444444444444,
             "#bd3786"
            ],
            [
             0.5555555555555556,
             "#d8576b"
            ],
            [
             0.6666666666666666,
             "#ed7953"
            ],
            [
             0.7777777777777778,
             "#fb9f3a"
            ],
            [
             0.8888888888888888,
             "#fdca26"
            ],
            [
             1,
             "#f0f921"
            ]
           ]
          },
          "colorway": [
           "#636efa",
           "#EF553B",
           "#00cc96",
           "#ab63fa",
           "#FFA15A",
           "#19d3f3",
           "#FF6692",
           "#B6E880",
           "#FF97FF",
           "#FECB52"
          ],
          "font": {
           "color": "#2a3f5f"
          },
          "geo": {
           "bgcolor": "white",
           "lakecolor": "white",
           "landcolor": "#E5ECF6",
           "showlakes": true,
           "showland": true,
           "subunitcolor": "white"
          },
          "hoverlabel": {
           "align": "left"
          },
          "hovermode": "closest",
          "mapbox": {
           "style": "light"
          },
          "paper_bgcolor": "white",
          "plot_bgcolor": "#E5ECF6",
          "polar": {
           "angularaxis": {
            "gridcolor": "white",
            "linecolor": "white",
            "ticks": ""
           },
           "bgcolor": "#E5ECF6",
           "radialaxis": {
            "gridcolor": "white",
            "linecolor": "white",
            "ticks": ""
           }
          },
          "scene": {
           "xaxis": {
            "backgroundcolor": "#E5ECF6",
            "gridcolor": "white",
            "gridwidth": 2,
            "linecolor": "white",
            "showbackground": true,
            "ticks": "",
            "zerolinecolor": "white"
           },
           "yaxis": {
            "backgroundcolor": "#E5ECF6",
            "gridcolor": "white",
            "gridwidth": 2,
            "linecolor": "white",
            "showbackground": true,
            "ticks": "",
            "zerolinecolor": "white"
           },
           "zaxis": {
            "backgroundcolor": "#E5ECF6",
            "gridcolor": "white",
            "gridwidth": 2,
            "linecolor": "white",
            "showbackground": true,
            "ticks": "",
            "zerolinecolor": "white"
           }
          },
          "shapedefaults": {
           "line": {
            "color": "#2a3f5f"
           }
          },
          "ternary": {
           "aaxis": {
            "gridcolor": "white",
            "linecolor": "white",
            "ticks": ""
           },
           "baxis": {
            "gridcolor": "white",
            "linecolor": "white",
            "ticks": ""
           },
           "bgcolor": "#E5ECF6",
           "caxis": {
            "gridcolor": "white",
            "linecolor": "white",
            "ticks": ""
           }
          },
          "title": {
           "x": 0.05
          },
          "xaxis": {
           "automargin": true,
           "gridcolor": "white",
           "linecolor": "white",
           "ticks": "",
           "title": {
            "standoff": 15
           },
           "zerolinecolor": "white",
           "zerolinewidth": 2
          },
          "yaxis": {
           "automargin": true,
           "gridcolor": "white",
           "linecolor": "white",
           "ticks": "",
           "title": {
            "standoff": 15
           },
           "zerolinecolor": "white",
           "zerolinewidth": 2
          }
         }
        },
        "xaxis": {
         "anchor": "y",
         "domain": [
          0,
          1
         ],
         "title": {
          "text": "predicted_value"
         }
        },
        "yaxis": {
         "anchor": "x",
         "domain": [
          0,
          1
         ],
         "title": {
          "text": "market_value_in_million_eur"
         }
        }
       }
      }
     },
     "metadata": {},
     "output_type": "display_data"
    },
    {
     "data": {
      "image/png": "[encoded data removed]",
      "text/plain": [
       "<Figure size 800x950 with 2 Axes>"
      ]
     },
     "metadata": {},
     "output_type": "display_data"
    }
   ],
   "source": [
    "forecast_df, regressor, y_test = predict_future_values(    pdf_train, \n",
    "    pdf_test, [2023, 2024, 2025, 2026, 2027, 2028], features)"
   ]
  },
  {
   "cell_type": "code",
   "execution_count": 8,
   "id": "6e2a600c",
   "metadata": {},
   "outputs": [],
   "source": [
    "# Merge with actual market values for evaluation\n",
    "\n",
    "merged = forecast_df.merge(pdf_test[[\"player_id\", \"name\"]], on=[\"player_id\"], how=\"left\")\n",
    "end = time.time()\n",
    "diff = end - start"
   ]
  },
  {
   "cell_type": "code",
   "execution_count": 9,
   "id": "82a7259f",
   "metadata": {},
   "outputs": [],
   "source": [
    "# plot_decision_tree_importance(regressor.best_estimator_, features)"
   ]
  },
  {
   "cell_type": "code",
   "execution_count": 10,
   "id": "073662f5",
   "metadata": {},
   "outputs": [
    {
     "data": {
      "application/vnd.plotly.v1+json": {
       "config": {
        "plotlyServerURL": "https://plot.ly"
       },
       "data": [
        {
         "customdata": [
          [
           22
          ],
          [
           23
          ],
          [
           24
          ],
          [
           25
          ],
          [
           27
          ],
          [
           27
          ],
          [
           28
          ],
          [
           30
          ],
          [
           30
          ],
          [
           31
          ],
          [
           32
          ],
          [
           33
          ],
          [
           34
          ],
          [
           35
          ]
         ],
         "hovertemplate": "name=Mohamed Salah<br>year=%{x}<br>predicted_value=%{y}<br>age=%{customdata[0]}<extra></extra>",
         "legendgroup": "Mohamed Salah",
         "line": {
          "color": "#636efa",
          "dash": "solid"
         },
         "marker": {
          "symbol": "circle"
         },
         "mode": "lines",
         "name": "Mohamed Salah",
         "orientation": "v",
         "showlegend": true,
         "type": "scatter",
         "x": [
          2015,
          2016,
          2017,
          2018,
          2019,
          2020,
          2021,
          2022,
          2023,
          2024,
          2025,
          2026,
          2027,
          2028
         ],
         "xaxis": "x",
         "y": [
          10,
          20,
          30,
          80,
          150,
          120,
          110,
          90,
          70.1053237915039,
          54.09557342529297,
          40.64825439453125,
          24.294557571411133,
          12.709136962890625,
          7.064546585083008
         ],
         "yaxis": "y"
        },
        {
         "customdata": [
          [
           19
          ],
          [
           20
          ],
          [
           21
          ],
          [
           22
          ],
          [
           23
          ],
          [
           24
          ],
          [
           25
          ],
          [
           26
          ],
          [
           27
          ],
          [
           28
          ],
          [
           29
          ],
          [
           30
          ],
          [
           31
          ]
         ],
         "hovertemplate": "name=Wilfred Ndidi<br>year=%{x}<br>predicted_value=%{y}<br>age=%{customdata[0]}<extra></extra>",
         "legendgroup": "Wilfred Ndidi",
         "line": {
          "color": "#EF553B",
          "dash": "solid"
         },
         "marker": {
          "symbol": "circle"
         },
         "mode": "lines",
         "name": "Wilfred Ndidi",
         "orientation": "v",
         "showlegend": true,
         "type": "scatter",
         "x": [
          2016,
          2017,
          2018,
          2019,
          2020,
          2021,
          2022,
          2023,
          2024,
          2025,
          2026,
          2027,
          2028
         ],
         "xaxis": "x",
         "y": [
          1,
          14,
          18,
          35,
          36,
          50,
          60,
          52.0420036315918,
          50.523006439208984,
          42.34748840332031,
          37.27524948120117,
          29.671363830566406,
          16.30401039123535
         ],
         "yaxis": "y"
        },
        {
         "customdata": [
          [
           18
          ],
          [
           20
          ],
          [
           21
          ],
          [
           22
          ],
          [
           23
          ],
          [
           24
          ],
          [
           25
          ],
          [
           26
          ],
          [
           27
          ],
          [
           28
          ],
          [
           29
          ]
         ],
         "hovertemplate": "name=Declan Rice<br>year=%{x}<br>predicted_value=%{y}<br>age=%{customdata[0]}<extra></extra>",
         "legendgroup": "Declan Rice",
         "line": {
          "color": "#00cc96",
          "dash": "solid"
         },
         "marker": {
          "symbol": "circle"
         },
         "mode": "lines",
         "name": "Declan Rice",
         "orientation": "v",
         "showlegend": true,
         "type": "scatter",
         "x": [
          2018,
          2019,
          2020,
          2021,
          2022,
          2023,
          2024,
          2025,
          2026,
          2027,
          2028
         ],
         "xaxis": "x",
         "y": [
          2,
          35,
          49.5,
          60,
          80,
          80.70354461669922,
          71.51192474365234,
          59.72698974609375,
          57.93021011352539,
          56.35776901245117,
          55.462547302246094
         ],
         "yaxis": "y"
        },
        {
         "customdata": [
          [
           17
          ],
          [
           18
          ],
          [
           18
          ],
          [
           19
          ],
          [
           20
          ],
          [
           21
          ],
          [
           22
          ],
          [
           23
          ],
          [
           24
          ],
          [
           25
          ],
          [
           26
          ],
          [
           27
          ]
         ],
         "hovertemplate": "name=Erling Haaland<br>year=%{x}<br>predicted_value=%{y}<br>age=%{customdata[0]}<extra></extra>",
         "legendgroup": "Erling Haaland",
         "line": {
          "color": "#ab63fa",
          "dash": "solid"
         },
         "marker": {
          "symbol": "circle"
         },
         "mode": "lines",
         "name": "Erling Haaland",
         "orientation": "v",
         "showlegend": true,
         "type": "scatter",
         "x": [
          2017,
          2018,
          2019,
          2020,
          2021,
          2022,
          2023,
          2024,
          2025,
          2026,
          2027,
          2028
         ],
         "xaxis": "x",
         "y": [
          0.3,
          2,
          5,
          60,
          110,
          150,
          110.93059539794922,
          121.43321228027344,
          102.70508575439453,
          75.46780395507812,
          46.42714309692383,
          46.207679748535156
         ],
         "yaxis": "y"
        },
        {
         "customdata": [
          [
           17
          ],
          [
           17
          ],
          [
           18
          ],
          [
           20
          ],
          [
           21
          ],
          [
           22
          ],
          [
           23
          ],
          [
           24
          ],
          [
           25
          ]
         ],
         "hovertemplate": "name=Harvey Elliott<br>year=%{x}<br>predicted_value=%{y}<br>age=%{customdata[0]}<extra></extra>",
         "legendgroup": "Harvey Elliott",
         "line": {
          "color": "#FFA15A",
          "dash": "solid"
         },
         "marker": {
          "symbol": "circle"
         },
         "mode": "lines",
         "name": "Harvey Elliott",
         "orientation": "v",
         "showlegend": true,
         "type": "scatter",
         "x": [
          2020,
          2021,
          2022,
          2023,
          2024,
          2025,
          2026,
          2027,
          2028
         ],
         "xaxis": "x",
         "y": [
          3.6,
          15,
          22,
          29.8741512298584,
          24.226716995239258,
          21.022687911987305,
          18.59494400024414,
          18.247583389282227,
          18.320661544799805
         ],
         "yaxis": "y"
        },
        {
         "customdata": [
          [
           20
          ],
          [
           21
          ],
          [
           22
          ],
          [
           23
          ],
          [
           24
          ],
          [
           25
          ],
          [
           26
          ]
         ],
         "hovertemplate": "name=Cole Palmer<br>year=%{x}<br>predicted_value=%{y}<br>age=%{customdata[0]}<extra></extra>",
         "legendgroup": "Cole Palmer",
         "line": {
          "color": "#19d3f3",
          "dash": "solid"
         },
         "marker": {
          "symbol": "circle"
         },
         "mode": "lines",
         "name": "Cole Palmer",
         "orientation": "v",
         "showlegend": true,
         "type": "scatter",
         "x": [
          2022,
          2023,
          2024,
          2025,
          2026,
          2027,
          2028
         ],
         "xaxis": "x",
         "y": [
          6,
          10.212896347045898,
          14.997515678405762,
          17.335142135620117,
          16.917036056518555,
          16.820608139038086,
          16.855432510375977
         ],
         "yaxis": "y"
        },
        {
         "customdata": [
          [
           17
          ],
          [
           18
          ],
          [
           19
          ],
          [
           20
          ],
          [
           21
          ],
          [
           22
          ]
         ],
         "hovertemplate": "name=Ashley Phillips<br>year=%{x}<br>predicted_value=%{y}<br>age=%{customdata[0]}<extra></extra>",
         "legendgroup": "Ashley Phillips",
         "line": {
          "color": "#FF6692",
          "dash": "solid"
         },
         "marker": {
          "symbol": "circle"
         },
         "mode": "lines",
         "name": "Ashley Phillips",
         "orientation": "v",
         "showlegend": true,
         "type": "scatter",
         "x": [
          2023,
          2024,
          2025,
          2026,
          2027,
          2028
         ],
         "xaxis": "x",
         "y": [
          5.0059733390808105,
          9.394338607788086,
          15.008357048034668,
          18.95354461669922,
          18.488666534423828,
          17.123106002807617
         ],
         "yaxis": "y"
        }
       ],
       "layout": {
        "annotations": [
         {
          "showarrow": false,
          "text": "2022/2023 boundary",
          "x": 2022.5,
          "xanchor": "left",
          "xref": "x",
          "y": 1,
          "yanchor": "top",
          "yref": "y domain"
         }
        ],
        "legend": {
         "title": {
          "text": "name"
         },
         "tracegroupgap": 0
        },
        "shapes": [
         {
          "line": {
           "color": "red",
           "dash": "dash"
          },
          "type": "line",
          "x0": 2022.5,
          "x1": 2022.5,
          "xref": "x",
          "y0": 0,
          "y1": 1,
          "yref": "y domain"
         }
        ],
        "template": {
         "data": {
          "bar": [
           {
            "error_x": {
             "color": "#2a3f5f"
            },
            "error_y": {
             "color": "#2a3f5f"
            },
            "marker": {
             "line": {
              "color": "#E5ECF6",
              "width": 0.5
             },
             "pattern": {
              "fillmode": "overlay",
              "size": 10,
              "solidity": 0.2
             }
            },
            "type": "bar"
           }
          ],
          "barpolar": [
           {
            "marker": {
             "line": {
              "color": "#E5ECF6",
              "width": 0.5
             },
             "pattern": {
              "fillmode": "overlay",
              "size": 10,
              "solidity": 0.2
             }
            },
            "type": "barpolar"
           }
          ],
          "carpet": [
           {
            "aaxis": {
             "endlinecolor": "#2a3f5f",
             "gridcolor": "white",
             "linecolor": "white",
             "minorgridcolor": "white",
             "startlinecolor": "#2a3f5f"
            },
            "baxis": {
             "endlinecolor": "#2a3f5f",
             "gridcolor": "white",
             "linecolor": "white",
             "minorgridcolor": "white",
             "startlinecolor": "#2a3f5f"
            },
            "type": "carpet"
           }
          ],
          "choropleth": [
           {
            "colorbar": {
             "outlinewidth": 0,
             "ticks": ""
            },
            "type": "choropleth"
           }
          ],
          "contour": [
           {
            "colorbar": {
             "outlinewidth": 0,
             "ticks": ""
            },
            "colorscale": [
             [
              0,
              "#0d0887"
             ],
             [
              0.1111111111111111,
              "#46039f"
             ],
             [
              0.2222222222222222,
              "#7201a8"
             ],
             [
              0.3333333333333333,
              "#9c179e"
             ],
             [
              0.4444444444444444,
              "#bd3786"
             ],
             [
              0.5555555555555556,
              "#d8576b"
             ],
             [
              0.6666666666666666,
              "#ed7953"
             ],
             [
              0.7777777777777778,
              "#fb9f3a"
             ],
             [
              0.8888888888888888,
              "#fdca26"
             ],
             [
              1,
              "#f0f921"
             ]
            ],
            "type": "contour"
           }
          ],
          "contourcarpet": [
           {
            "colorbar": {
             "outlinewidth": 0,
             "ticks": ""
            },
            "type": "contourcarpet"
           }
          ],
          "heatmap": [
           {
            "colorbar": {
             "outlinewidth": 0,
             "ticks": ""
            },
            "colorscale": [
             [
              0,
              "#0d0887"
             ],
             [
              0.1111111111111111,
              "#46039f"
             ],
             [
              0.2222222222222222,
              "#7201a8"
             ],
             [
              0.3333333333333333,
              "#9c179e"
             ],
             [
              0.4444444444444444,
              "#bd3786"
             ],
             [
              0.5555555555555556,
              "#d8576b"
             ],
             [
              0.6666666666666666,
              "#ed7953"
             ],
             [
              0.7777777777777778,
              "#fb9f3a"
             ],
             [
              0.8888888888888888,
              "#fdca26"
             ],
             [
              1,
              "#f0f921"
             ]
            ],
            "type": "heatmap"
           }
          ],
          "heatmapgl": [
           {
            "colorbar": {
             "outlinewidth": 0,
             "ticks": ""
            },
            "colorscale": [
             [
              0,
              "#0d0887"
             ],
             [
              0.1111111111111111,
              "#46039f"
             ],
             [
              0.2222222222222222,
              "#7201a8"
             ],
             [
              0.3333333333333333,
              "#9c179e"
             ],
             [
              0.4444444444444444,
              "#bd3786"
             ],
             [
              0.5555555555555556,
              "#d8576b"
             ],
             [
              0.6666666666666666,
              "#ed7953"
             ],
             [
              0.7777777777777778,
              "#fb9f3a"
             ],
             [
              0.8888888888888888,
              "#fdca26"
             ],
             [
              1,
              "#f0f921"
             ]
            ],
            "type": "heatmapgl"
           }
          ],
          "histogram": [
           {
            "marker": {
             "pattern": {
              "fillmode": "overlay",
              "size": 10,
              "solidity": 0.2
             }
            },
            "type": "histogram"
           }
          ],
          "histogram2d": [
           {
            "colorbar": {
             "outlinewidth": 0,
             "ticks": ""
            },
            "colorscale": [
             [
              0,
              "#0d0887"
             ],
             [
              0.1111111111111111,
              "#46039f"
             ],
             [
              0.2222222222222222,
              "#7201a8"
             ],
             [
              0.3333333333333333,
              "#9c179e"
             ],
             [
              0.4444444444444444,
              "#bd3786"
             ],
             [
              0.5555555555555556,
              "#d8576b"
             ],
             [
              0.6666666666666666,
              "#ed7953"
             ],
             [
              0.7777777777777778,
              "#fb9f3a"
             ],
             [
              0.8888888888888888,
              "#fdca26"
             ],
             [
              1,
              "#f0f921"
             ]
            ],
            "type": "histogram2d"
           }
          ],
          "histogram2dcontour": [
           {
            "colorbar": {
             "outlinewidth": 0,
             "ticks": ""
            },
            "colorscale": [
             [
              0,
              "#0d0887"
             ],
             [
              0.1111111111111111,
              "#46039f"
             ],
             [
              0.2222222222222222,
              "#7201a8"
             ],
             [
              0.3333333333333333,
              "#9c179e"
             ],
             [
              0.4444444444444444,
              "#bd3786"
             ],
             [
              0.5555555555555556,
              "#d8576b"
             ],
             [
              0.6666666666666666,
              "#ed7953"
             ],
             [
              0.7777777777777778,
              "#fb9f3a"
             ],
             [
              0.8888888888888888,
              "#fdca26"
             ],
             [
              1,
              "#f0f921"
             ]
            ],
            "type": "histogram2dcontour"
           }
          ],
          "mesh3d": [
           {
            "colorbar": {
             "outlinewidth": 0,
             "ticks": ""
            },
            "type": "mesh3d"
           }
          ],
          "parcoords": [
           {
            "line": {
             "colorbar": {
              "outlinewidth": 0,
              "ticks": ""
             }
            },
            "type": "parcoords"
           }
          ],
          "pie": [
           {
            "automargin": true,
            "type": "pie"
           }
          ],
          "scatter": [
           {
            "fillpattern": {
             "fillmode": "overlay",
             "size": 10,
             "solidity": 0.2
            },
            "type": "scatter"
           }
          ],
          "scatter3d": [
           {
            "line": {
             "colorbar": {
              "outlinewidth": 0,
              "ticks": ""
             }
            },
            "marker": {
             "colorbar": {
              "outlinewidth": 0,
              "ticks": ""
             }
            },
            "type": "scatter3d"
           }
          ],
          "scattercarpet": [
           {
            "marker": {
             "colorbar": {
              "outlinewidth": 0,
              "ticks": ""
             }
            },
            "type": "scattercarpet"
           }
          ],
          "scattergeo": [
           {
            "marker": {
             "colorbar": {
              "outlinewidth": 0,
              "ticks": ""
             }
            },
            "type": "scattergeo"
           }
          ],
          "scattergl": [
           {
            "marker": {
             "colorbar": {
              "outlinewidth": 0,
              "ticks": ""
             }
            },
            "type": "scattergl"
           }
          ],
          "scattermapbox": [
           {
            "marker": {
             "colorbar": {
              "outlinewidth": 0,
              "ticks": ""
             }
            },
            "type": "scattermapbox"
           }
          ],
          "scatterpolar": [
           {
            "marker": {
             "colorbar": {
              "outlinewidth": 0,
              "ticks": ""
             }
            },
            "type": "scatterpolar"
           }
          ],
          "scatterpolargl": [
           {
            "marker": {
             "colorbar": {
              "outlinewidth": 0,
              "ticks": ""
             }
            },
            "type": "scatterpolargl"
           }
          ],
          "scatterternary": [
           {
            "marker": {
             "colorbar": {
              "outlinewidth": 0,
              "ticks": ""
             }
            },
            "type": "scatterternary"
           }
          ],
          "surface": [
           {
            "colorbar": {
             "outlinewidth": 0,
             "ticks": ""
            },
            "colorscale": [
             [
              0,
              "#0d0887"
             ],
             [
              0.1111111111111111,
              "#46039f"
             ],
             [
              0.2222222222222222,
              "#7201a8"
             ],
             [
              0.3333333333333333,
              "#9c179e"
             ],
             [
              0.4444444444444444,
              "#bd3786"
             ],
             [
              0.5555555555555556,
              "#d8576b"
             ],
             [
              0.6666666666666666,
              "#ed7953"
             ],
             [
              0.7777777777777778,
              "#fb9f3a"
             ],
             [
              0.8888888888888888,
              "#fdca26"
             ],
             [
              1,
              "#f0f921"
             ]
            ],
            "type": "surface"
           }
          ],
          "table": [
           {
            "cells": {
             "fill": {
              "color": "#EBF0F8"
             },
             "line": {
              "color": "white"
             }
            },
            "header": {
             "fill": {
              "color": "#C8D4E3"
             },
             "line": {
              "color": "white"
             }
            },
            "type": "table"
           }
          ]
         },
         "layout": {
          "annotationdefaults": {
           "arrowcolor": "#2a3f5f",
           "arrowhead": 0,
           "arrowwidth": 1
          },
          "autotypenumbers": "strict",
          "coloraxis": {
           "colorbar": {
            "outlinewidth": 0,
            "ticks": ""
           }
          },
          "colorscale": {
           "diverging": [
            [
             0,
             "#8e0152"
            ],
            [
             0.1,
             "#c51b7d"
            ],
            [
             0.2,
             "#de77ae"
            ],
            [
             0.3,
             "#f1b6da"
            ],
            [
             0.4,
             "#fde0ef"
            ],
            [
             0.5,
             "#f7f7f7"
            ],
            [
             0.6,
             "#e6f5d0"
            ],
            [
             0.7,
             "#b8e186"
            ],
            [
             0.8,
             "#7fbc41"
            ],
            [
             0.9,
             "#4d9221"
            ],
            [
             1,
             "#276419"
            ]
           ],
           "sequential": [
            [
             0,
             "#0d0887"
            ],
            [
             0.1111111111111111,
             "#46039f"
            ],
            [
             0.2222222222222222,
             "#7201a8"
            ],
            [
             0.3333333333333333,
             "#9c179e"
            ],
            [
             0.4444444444444444,
             "#bd3786"
            ],
            [
             0.5555555555555556,
             "#d8576b"
            ],
            [
             0.6666666666666666,
             "#ed7953"
            ],
            [
             0.7777777777777778,
             "#fb9f3a"
            ],
            [
             0.8888888888888888,
             "#fdca26"
            ],
            [
             1,
             "#f0f921"
            ]
           ],
           "sequentialminus": [
            [
             0,
             "#0d0887"
            ],
            [
             0.1111111111111111,
             "#46039f"
            ],
            [
             0.2222222222222222,
             "#7201a8"
            ],
            [
             0.3333333333333333,
             "#9c179e"
            ],
            [
             0.4444444444444444,
             "#bd3786"
            ],
            [
             0.5555555555555556,
             "#d8576b"
            ],
            [
             0.6666666666666666,
             "#ed7953"
            ],
            [
             0.7777777777777778,
             "#fb9f3a"
            ],
            [
             0.8888888888888888,
             "#fdca26"
            ],
            [
             1,
             "#f0f921"
            ]
           ]
          },
          "colorway": [
           "#636efa",
           "#EF553B",
           "#00cc96",
           "#ab63fa",
           "#FFA15A",
           "#19d3f3",
           "#FF6692",
           "#B6E880",
           "#FF97FF",
           "#FECB52"
          ],
          "font": {
           "color": "#2a3f5f"
          },
          "geo": {
           "bgcolor": "white",
           "lakecolor": "white",
           "landcolor": "#E5ECF6",
           "showlakes": true,
           "showland": true,
           "subunitcolor": "white"
          },
          "hoverlabel": {
           "align": "left"
          },
          "hovermode": "closest",
          "mapbox": {
           "style": "light"
          },
          "paper_bgcolor": "white",
          "plot_bgcolor": "#E5ECF6",
          "polar": {
           "angularaxis": {
            "gridcolor": "white",
            "linecolor": "white",
            "ticks": ""
           },
           "bgcolor": "#E5ECF6",
           "radialaxis": {
            "gridcolor": "white",
            "linecolor": "white",
            "ticks": ""
           }
          },
          "scene": {
           "xaxis": {
            "backgroundcolor": "#E5ECF6",
            "gridcolor": "white",
            "gridwidth": 2,
            "linecolor": "white",
            "showbackground": true,
            "ticks": "",
            "zerolinecolor": "white"
           },
           "yaxis": {
            "backgroundcolor": "#E5ECF6",
            "gridcolor": "white",
            "gridwidth": 2,
            "linecolor": "white",
            "showbackground": true,
            "ticks": "",
            "zerolinecolor": "white"
           },
           "zaxis": {
            "backgroundcolor": "#E5ECF6",
            "gridcolor": "white",
            "gridwidth": 2,
            "linecolor": "white",
            "showbackground": true,
            "ticks": "",
            "zerolinecolor": "white"
           }
          },
          "shapedefaults": {
           "line": {
            "color": "#2a3f5f"
           }
          },
          "ternary": {
           "aaxis": {
            "gridcolor": "white",
            "linecolor": "white",
            "ticks": ""
           },
           "baxis": {
            "gridcolor": "white",
            "linecolor": "white",
            "ticks": ""
           },
           "bgcolor": "#E5ECF6",
           "caxis": {
            "gridcolor": "white",
            "linecolor": "white",
            "ticks": ""
           }
          },
          "title": {
           "x": 0.05
          },
          "xaxis": {
           "automargin": true,
           "gridcolor": "white",
           "linecolor": "white",
           "ticks": "",
           "title": {
            "standoff": 15
           },
           "zerolinecolor": "white",
           "zerolinewidth": 2
          },
          "yaxis": {
           "automargin": true,
           "gridcolor": "white",
           "linecolor": "white",
           "ticks": "",
           "title": {
            "standoff": 15
           },
           "zerolinecolor": "white",
           "zerolinewidth": 2
          }
         }
        },
        "title": {
         "text": "Predicted Market Values for Selected Players"
        },
        "xaxis": {
         "anchor": "y",
         "domain": [
          0,
          1
         ],
         "title": {
          "text": "year"
         }
        },
        "yaxis": {
         "anchor": "x",
         "domain": [
          0,
          1
         ],
         "title": {
          "text": "predicted_value"
         }
        }
       }
      }
     },
     "metadata": {},
     "output_type": "display_data"
    }
   ],
   "source": [
    "players = [418560, 357662, 565822, 859951, 148455, 274839, 542580, 568177]\n",
    "plot_player_value_trends(pdf_train, merged_df=merged, player_ids=players)\n"
   ]
  },
  {
   "cell_type": "code",
   "execution_count": 11,
   "id": "ffe03298",
   "metadata": {},
   "outputs": [
    {
     "name": "stderr",
     "output_type": "stream",
     "text": [
      "C:\\Users\\tomkn\\AppData\\Local\\Temp\\ipykernel_4292\\2121820575.py:2: SettingWithCopyWarning:\n",
      "\n",
      "\n",
      "A value is trying to be set on a copy of a slice from a DataFrame.\n",
      "Try using .loc[row_indexer,col_indexer] = value instead\n",
      "\n",
      "See the caveats in the documentation: https://pandas.pydata.org/pandas-docs/stable/user_guide/indexing.html#returning-a-view-versus-a-copy\n",
      "\n"
     ]
    }
   ],
   "source": [
    "output_df = merged.query(\"year == 2023\")\n",
    "output_df[\"actual_value\"] = y_test.values\n"
   ]
  },
  {
   "cell_type": "code",
   "execution_count": 12,
   "id": "bd4f4640",
   "metadata": {},
   "outputs": [
    {
     "name": "stderr",
     "output_type": "stream",
     "text": [
      "C:\\Users\\tomkn\\AppData\\Local\\Temp\\ipykernel_4292\\1487859311.py:1: SettingWithCopyWarning:\n",
      "\n",
      "\n",
      "A value is trying to be set on a copy of a slice from a DataFrame.\n",
      "Try using .loc[row_indexer,col_indexer] = value instead\n",
      "\n",
      "See the caveats in the documentation: https://pandas.pydata.org/pandas-docs/stable/user_guide/indexing.html#returning-a-view-versus-a-copy\n",
      "\n",
      "C:\\Users\\tomkn\\AppData\\Local\\Temp\\ipykernel_4292\\1487859311.py:2: SettingWithCopyWarning:\n",
      "\n",
      "\n",
      "A value is trying to be set on a copy of a slice from a DataFrame.\n",
      "Try using .loc[row_indexer,col_indexer] = value instead\n",
      "\n",
      "See the caveats in the documentation: https://pandas.pydata.org/pandas-docs/stable/user_guide/indexing.html#returning-a-view-versus-a-copy\n",
      "\n",
      "C:\\Users\\tomkn\\AppData\\Local\\Temp\\ipykernel_4292\\1487859311.py:3: SettingWithCopyWarning:\n",
      "\n",
      "\n",
      "A value is trying to be set on a copy of a slice from a DataFrame.\n",
      "Try using .loc[row_indexer,col_indexer] = value instead\n",
      "\n",
      "See the caveats in the documentation: https://pandas.pydata.org/pandas-docs/stable/user_guide/indexing.html#returning-a-view-versus-a-copy\n",
      "\n",
      "C:\\Users\\tomkn\\AppData\\Local\\Temp\\ipykernel_4292\\1487859311.py:4: SettingWithCopyWarning:\n",
      "\n",
      "\n",
      "A value is trying to be set on a copy of a slice from a DataFrame.\n",
      "Try using .loc[row_indexer,col_indexer] = value instead\n",
      "\n",
      "See the caveats in the documentation: https://pandas.pydata.org/pandas-docs/stable/user_guide/indexing.html#returning-a-view-versus-a-copy\n",
      "\n",
      "C:\\Users\\tomkn\\AppData\\Local\\Temp\\ipykernel_4292\\1487859311.py:5: SettingWithCopyWarning:\n",
      "\n",
      "\n",
      "A value is trying to be set on a copy of a slice from a DataFrame.\n",
      "Try using .loc[row_indexer,col_indexer] = value instead\n",
      "\n",
      "See the caveats in the documentation: https://pandas.pydata.org/pandas-docs/stable/user_guide/indexing.html#returning-a-view-versus-a-copy\n",
      "\n",
      "C:\\Users\\tomkn\\AppData\\Local\\Temp\\ipykernel_4292\\1487859311.py:6: SettingWithCopyWarning:\n",
      "\n",
      "\n",
      "A value is trying to be set on a copy of a slice from a DataFrame.\n",
      "Try using .loc[row_indexer,col_indexer] = value instead\n",
      "\n",
      "See the caveats in the documentation: https://pandas.pydata.org/pandas-docs/stable/user_guide/indexing.html#returning-a-view-versus-a-copy\n",
      "\n",
      "C:\\Users\\tomkn\\AppData\\Local\\Temp\\ipykernel_4292\\1487859311.py:7: SettingWithCopyWarning:\n",
      "\n",
      "\n",
      "A value is trying to be set on a copy of a slice from a DataFrame.\n",
      "Try using .loc[row_indexer,col_indexer] = value instead\n",
      "\n",
      "See the caveats in the documentation: https://pandas.pydata.org/pandas-docs/stable/user_guide/indexing.html#returning-a-view-versus-a-copy\n",
      "\n"
     ]
    }
   ],
   "source": [
    "output_df[\"model_output_id\"] = uuid.uuid4()\n",
    "output_df[\"model_run_date\"] = datetime.datetime.now()\n",
    "output_df[\"time_taken_seconds\"] = diff\n",
    "output_df[\"features_used\"] = str(features)\n",
    "output_df[\"model_type\"] = \"XG_Boost\"\n",
    "output_df[\"split_year\"] = test_start\n",
    "output_df[\"version\"] = version"
   ]
  },
  {
   "cell_type": "code",
   "execution_count": null,
   "id": "ddf63cbf",
   "metadata": {},
   "outputs": [],
   "source": [
    "save_output_tables(output_df)"
   ]
  }
 ],
 "metadata": {
  "kernelspec": {
   "display_name": "Python 3",
   "language": "python",
   "name": "python3"
  },
  "language_info": {
   "codemirror_mode": {
    "name": "ipython",
    "version": 3
   },
   "file_extension": ".py",
   "mimetype": "text/x-python",
   "name": "python",
   "nbconvert_exporter": "python",
   "pygments_lexer": "ipython3",
   "version": "3.11.9"
  }
 },
 "nbformat": 4,
 "nbformat_minor": 5
}
