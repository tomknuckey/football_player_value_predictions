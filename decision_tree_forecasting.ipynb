{
 "cells": [
  {
   "cell_type": "code",
   "execution_count": 1,
   "id": "1b43e964",
   "metadata": {},
   "outputs": [
    {
     "name": "stderr",
     "output_type": "stream",
     "text": [
      "C:\\Users\\tomkn\\AppData\\Local\\Packages\\PythonSoftwareFoundation.Python.3.11_qbz5n2kfra8p0\\LocalCache\\local-packages\\Python311\\site-packages\\tqdm\\auto.py:21: TqdmWarning: IProgress not found. Please update jupyter and ipywidgets. See https://ipywidgets.readthedocs.io/en/stable/user_install.html\n",
      "  from .autonotebook import tqdm as notebook_tqdm\n"
     ]
    }
   ],
   "source": [
    "import pandas as pd\n",
    "import plotly.express as px\n",
    "from sklearn.tree import DecisionTreeRegressor\n",
    "from sklearn import tree\n",
    "import matplotlib.pyplot as plt\n",
    "from sklearn.metrics import root_mean_squared_error\n",
    "from typing import List, Tuple\n",
    "from xgboost import XGBRegressor \n",
    "import uuid\n",
    "import datetime \n",
    "import time\n",
    "from sklearn.model_selection import RandomizedSearchCV, TimeSeriesSplit, GridSearchCV, train_test_split\n",
    "from utils.output_analysis import plot_decision_tree_importance, plot_player_value_trends, save_output_tables, create_shapley_values_plots\n",
    "from utils.model import test_train_split, define_features, analysis_result , prepare_future_year_data\n",
    "import optuna\n",
    "from config import features, test_start, target\n",
    "\n"
   ]
  },
  {
   "cell_type": "code",
   "execution_count": 2,
   "id": "95766a24",
   "metadata": {},
   "outputs": [],
   "source": [
    "start = time.time()"
   ]
  },
  {
   "cell_type": "code",
   "execution_count": 3,
   "id": "577b7f61",
   "metadata": {},
   "outputs": [],
   "source": [
    "pdf_mvp = pd.read_csv(\"data/intermediate/time_series_model_data_prep.csv\") "
   ]
  },
  {
   "cell_type": "code",
   "execution_count": 4,
   "id": "762ec1b7",
   "metadata": {},
   "outputs": [],
   "source": [
    "version  = \"v0.0.5\""
   ]
  },
  {
   "cell_type": "code",
   "execution_count": 5,
   "id": "18256918",
   "metadata": {},
   "outputs": [],
   "source": [
    "\n",
    "features = define_features(pdf_mvp, features)\n",
    "\n",
    "pdf_train, pdf_test = test_train_split(pdf_mvp, test_start)"
   ]
  },
  {
   "cell_type": "code",
   "execution_count": 6,
   "id": "3009ce79",
   "metadata": {},
   "outputs": [],
   "source": [
    "def objective(\n",
    "    trial: optuna.Trial,\n",
    "    X: pd.DataFrame,\n",
    "    y: pd.Series,\n",
    "    tscv: TimeSeriesSplit,\n",
    ") -> float:\n",
    "    params = {\n",
    "        \"n_estimators\": trial.suggest_int(\"n_estimators\", 50, 200),  # Number of trees\n",
    "        \"learning_rate\": trial.suggest_float(\"learning_rate\", 0.01, 0.3),  # Learning rate\n",
    "        \"max_depth\": trial.suggest_int(\"max_depth\", 1, 7),  # Tree depth\n",
    "        \"subsample\": trial.suggest_float(\"subsample\", 0.5, 1.0),  # Subsampling fraction\n",
    "        \"colsample_bytree\": trial.suggest_float(\"colsample_bytree\", 0.6, 1.0),\n",
    "        \"gamma\": trial.suggest_float(\"gamma\", 0, 5),  # Min loss reduction for split\n",
    "        \"reg_alpha\": trial.suggest_float(\"reg_alpha\", 0.0, 1.0),  # L1 regularization\n",
    "        \"reg_lambda\": trial.suggest_float(\"reg_lambda\", 0.1, 10.0),  # L2 regularization\n",
    "        \"random_state\": 42,\n",
    "        \"objective\": \"reg:squarederror\",\n",
    "        \"tree_method\": \"hist\",\n",
    "        \"verbosity\": 0,\n",
    "    }\n",
    "\n",
    "    rmse_scores = []\n",
    "\n",
    "    for train_idx, val_idx in tscv.split(X):\n",
    "        X_train, X_val = X.iloc[train_idx], X.iloc[val_idx]\n",
    "        y_train, y_val = y.iloc[train_idx], y.iloc[val_idx]\n",
    "\n",
    "        model = XGBRegressor(**params)\n",
    "        model.fit(X_train, y_train)\n",
    "\n",
    "        preds = model.predict(X_val)\n",
    "        rmse = root_mean_squared_error(y_val, preds)\n",
    "        rmse_scores.append(rmse)\n",
    "\n",
    "    return sum(rmse_scores) / len(rmse_scores)  # Average RMSE across folds\n"
   ]
  },
  {
   "cell_type": "code",
   "execution_count": 7,
   "id": "d0c1c16d",
   "metadata": {},
   "outputs": [],
   "source": [
    "def predict_future_values(\n",
    "    train_df: pd.DataFrame,\n",
    "    test_df: pd.DataFrame,\n",
    "    prediction_years: List[int],\n",
    "    features: List[str],\n",
    "    n_trials: int = 100,\n",
    ") -> Tuple[pd.DataFrame, XGBRegressor, pd.Series]:\n",
    "    \"\"\"\n",
    "    Predicts future player values for specified years using XGBoost and Optuna hyperparameter tuning.\n",
    "\n",
    "    Args:\n",
    "        train_df: Training DataFrame with features and target.\n",
    "        test_df: Initial test DataFrame to predict from (starting year).\n",
    "        prediction_years: List of years to predict, starting with the base year.\n",
    "        features: List of feature column names to use.\n",
    "        n_trials: Number of Optuna trials for hyperparameter search.\n",
    "\n",
    "    Returns:\n",
    "        Tuple of:\n",
    "            - DataFrame with predicted values for all prediction years concatenated.\n",
    "            - Trained XGBRegressor using best Optuna params.\n",
    "            - y_test from the base year (only valid for the first year).\n",
    "    \"\"\"\n",
    "\n",
    "    X_train = train_df[features]\n",
    "    y_train = train_df[target]\n",
    "\n",
    "    tscv = TimeSeriesSplit(n_splits=3)\n",
    "\n",
    "    study = optuna.create_study(direction=\"minimize\")\n",
    "    study.optimize(lambda trial: objective(trial, X_train, y_train, tscv), n_trials=n_trials, show_progress_bar=False)\n",
    "\n",
    "    print(f\"Best trial params: {study.best_trial.params}\")\n",
    "    print(f\"Best trial RMSE: {study.best_value:.4f}\")\n",
    "\n",
    "    # Train final model on all training data with best params\n",
    "    best_params = study.best_trial.params\n",
    "    # Add fixed params required by XGBRegressor\n",
    "    best_params.update({\n",
    "        \"random_state\": 42,\n",
    "        \"objective\": \"reg:squarederror\",\n",
    "        \"tree_method\": \"hist\",\n",
    "        \"verbosity\": 0,\n",
    "    })\n",
    "\n",
    "    model = XGBRegressor(**best_params)\n",
    "    model.fit(X_train, y_train)\n",
    "\n",
    "    predictions = []\n",
    "    current_df = test_df.copy()\n",
    "\n",
    "    for i, year in enumerate(prediction_years):\n",
    "        X_test = current_df[features]\n",
    "        current_df[\"predicted_value\"] = model.predict(X_test)\n",
    "        current_df[\"year\"] = year\n",
    "\n",
    "        if i == 0:\n",
    "            y_test = current_df[target]\n",
    "            analysis_result(current_df, y_test, year, target)\n",
    "            create_shapley_values_plots(model, X_train, features)\n",
    "        else:\n",
    "            current_df[\"age\"] = current_df[\"age_last_year\"] + 1\n",
    "\n",
    "        # Reduce contract years left by 1, never below 0\n",
    "        if \"contract_years_left\" in current_df.columns:\n",
    "            current_df[\"contract_years_left\"] = (current_df[\"contract_years_left\"] - 1).clip(lower=0)\n",
    "\n",
    "        current_df[\"age_last_year\"] = current_df[\"age\"]\n",
    "        current_df[\"value_last_year\"] = current_df[\"predicted_value\"]\n",
    "\n",
    "        predictions.append(current_df[[\"player_id\", \"year\", \"age\", \"predicted_value\"]].copy())\n",
    "\n",
    "        if i < len(prediction_years) - 1:\n",
    "            current_df = prepare_future_year_data(current_df)\n",
    "\n",
    "    all_predictions_df = pd.concat(predictions, ignore_index=True)\n",
    "    return all_predictions_df, model, y_test"
   ]
  },
  {
   "cell_type": "code",
   "execution_count": 8,
   "id": "92b49796",
   "metadata": {},
   "outputs": [
    {
     "name": "stderr",
     "output_type": "stream",
     "text": [
      "[I 2025-08-07 14:58:25,339] A new study created in memory with name: no-name-d30caf6b-9212-44aa-9ff0-179cf65216a3\n",
      "[I 2025-08-07 14:58:25,746] Trial 0 finished with value: 5.668598913939863 and parameters: {'n_estimators': 82, 'learning_rate': 0.05525370306339535, 'max_depth': 7, 'subsample': 0.7040412947543913, 'colsample_bytree': 0.6488649132705042, 'gamma': 1.2089475311574778, 'reg_alpha': 0.10842757996346675, 'reg_lambda': 3.3838863911588937}. Best is trial 0 with value: 5.668598913939863.\n",
      "[I 2025-08-07 14:58:26,034] Trial 1 finished with value: 6.965634290628986 and parameters: {'n_estimators': 68, 'learning_rate': 0.019579264801513514, 'max_depth': 6, 'subsample': 0.7681729849135597, 'colsample_bytree': 0.7215451695690199, 'gamma': 2.252312689394172, 'reg_alpha': 0.8290682670283692, 'reg_lambda': 6.398101489349385}. Best is trial 0 with value: 5.668598913939863.\n",
      "[I 2025-08-07 14:58:26,226] Trial 2 finished with value: 4.879337752557389 and parameters: {'n_estimators': 69, 'learning_rate': 0.2161106900238884, 'max_depth': 3, 'subsample': 0.7692598588662207, 'colsample_bytree': 0.692871546711657, 'gamma': 1.9470038143370387, 'reg_alpha': 0.1620989828123336, 'reg_lambda': 0.8233356935798898}. Best is trial 2 with value: 4.879337752557389.\n",
      "[I 2025-08-07 14:58:26,605] Trial 3 finished with value: 6.331660507555683 and parameters: {'n_estimators': 88, 'learning_rate': 0.02943669797741945, 'max_depth': 7, 'subsample': 0.6723647813069183, 'colsample_bytree': 0.6669924734869239, 'gamma': 4.535163307059129, 'reg_alpha': 0.5797692816770996, 'reg_lambda': 9.32686283166137}. Best is trial 2 with value: 4.879337752557389.\n",
      "[I 2025-08-07 14:58:26,938] Trial 4 finished with value: 4.6098806867425255 and parameters: {'n_estimators': 188, 'learning_rate': 0.15790436335793975, 'max_depth': 3, 'subsample': 0.8138995085298173, 'colsample_bytree': 0.9910563086435064, 'gamma': 4.071642179141308, 'reg_alpha': 0.6454486093793402, 'reg_lambda': 0.13854039831155185}. Best is trial 4 with value: 4.6098806867425255.\n",
      "[I 2025-08-07 14:58:27,496] Trial 5 finished with value: 5.594318664837311 and parameters: {'n_estimators': 182, 'learning_rate': 0.11848971487971137, 'max_depth': 7, 'subsample': 0.8793788203864698, 'colsample_bytree': 0.6063590291384419, 'gamma': 1.5389486966280452, 'reg_alpha': 0.12859755385308158, 'reg_lambda': 5.440638630218809}. Best is trial 4 with value: 4.6098806867425255.\n",
      "[I 2025-08-07 14:58:27,755] Trial 6 finished with value: 4.908909332937534 and parameters: {'n_estimators': 194, 'learning_rate': 0.29180369569719217, 'max_depth': 1, 'subsample': 0.9816605403045987, 'colsample_bytree': 0.7880221722215064, 'gamma': 0.6451626720243436, 'reg_alpha': 0.48503293862880315, 'reg_lambda': 8.562987685414019}. Best is trial 4 with value: 4.6098806867425255.\n",
      "[I 2025-08-07 14:58:27,961] Trial 7 finished with value: 4.8662715930028275 and parameters: {'n_estimators': 77, 'learning_rate': 0.17440987862319324, 'max_depth': 4, 'subsample': 0.5916399713402729, 'colsample_bytree': 0.77609138819555, 'gamma': 0.9315022334386602, 'reg_alpha': 0.38521364659804935, 'reg_lambda': 3.8449871822321597}. Best is trial 4 with value: 4.6098806867425255.\n",
      "[I 2025-08-07 14:58:28,240] Trial 8 finished with value: 5.276606042299767 and parameters: {'n_estimators': 119, 'learning_rate': 0.020545186078992018, 'max_depth': 4, 'subsample': 0.9183748452598994, 'colsample_bytree': 0.908426372809264, 'gamma': 2.151419539003321, 'reg_alpha': 0.2618128432614465, 'reg_lambda': 4.486134349556347}. Best is trial 4 with value: 4.6098806867425255.\n",
      "[I 2025-08-07 14:58:28,469] Trial 9 finished with value: 4.847996862414454 and parameters: {'n_estimators': 105, 'learning_rate': 0.18176759024480388, 'max_depth': 3, 'subsample': 0.5364833802782576, 'colsample_bytree': 0.755576913507192, 'gamma': 3.4221781829671865, 'reg_alpha': 0.1714266078041634, 'reg_lambda': 6.01356955779388}. Best is trial 4 with value: 4.6098806867425255.\n",
      "[I 2025-08-07 14:58:28,736] Trial 10 finished with value: 4.8887969964469695 and parameters: {'n_estimators': 156, 'learning_rate': 0.09928932573510493, 'max_depth': 1, 'subsample': 0.8434737930902508, 'colsample_bytree': 0.9909291621050156, 'gamma': 4.965960312551792, 'reg_alpha': 0.9687344448563884, 'reg_lambda': 0.5726717604564762}. Best is trial 4 with value: 4.6098806867425255.\n",
      "[I 2025-08-07 14:58:29,011] Trial 11 finished with value: 4.680412387145447 and parameters: {'n_estimators': 124, 'learning_rate': 0.20702408520933185, 'max_depth': 3, 'subsample': 0.5802926705020957, 'colsample_bytree': 0.8777455773816694, 'gamma': 3.543330948161806, 'reg_alpha': 0.6526927415908108, 'reg_lambda': 7.180589060665165}. Best is trial 4 with value: 4.6098806867425255.\n",
      "[I 2025-08-07 14:58:29,280] Trial 12 finished with value: 4.647287204437391 and parameters: {'n_estimators': 150, 'learning_rate': 0.2311277318731984, 'max_depth': 2, 'subsample': 0.6323575378139898, 'colsample_bytree': 0.8785477371082925, 'gamma': 3.4670886254492257, 'reg_alpha': 0.7040619664225111, 'reg_lambda': 7.578924798905829}. Best is trial 4 with value: 4.6098806867425255.\n",
      "[I 2025-08-07 14:58:29,576] Trial 13 finished with value: 4.587156285261193 and parameters: {'n_estimators': 158, 'learning_rate': 0.2547946139562984, 'max_depth': 2, 'subsample': 0.6481758286956845, 'colsample_bytree': 0.9789227997708239, 'gamma': 3.3600661411777244, 'reg_alpha': 0.7396606896724037, 'reg_lambda': 2.5049241096215553}. Best is trial 13 with value: 4.587156285261193.\n",
      "[I 2025-08-07 14:58:29,941] Trial 14 finished with value: 4.8417063591102005 and parameters: {'n_estimators': 165, 'learning_rate': 0.2824230940741835, 'max_depth': 5, 'subsample': 0.8167705653421603, 'colsample_bytree': 0.9944353454762946, 'gamma': 4.100548191254681, 'reg_alpha': 0.8492548212920923, 'reg_lambda': 2.147077774108557}. Best is trial 13 with value: 4.587156285261193.\n",
      "[I 2025-08-07 14:58:30,231] Trial 15 finished with value: 4.581409007192604 and parameters: {'n_estimators': 175, 'learning_rate': 0.1105663422112188, 'max_depth': 2, 'subsample': 0.7088016545334151, 'colsample_bytree': 0.932015143154637, 'gamma': 2.889629511317446, 'reg_alpha': 0.7675567727250496, 'reg_lambda': 2.224671698981772}. Best is trial 15 with value: 4.581409007192604.\n",
      "[I 2025-08-07 14:58:30,513] Trial 16 finished with value: 4.627071855332448 and parameters: {'n_estimators': 145, 'learning_rate': 0.12004654264793232, 'max_depth': 2, 'subsample': 0.5002989635765758, 'colsample_bytree': 0.9307924336287181, 'gamma': 2.7842590857326606, 'reg_alpha': 0.8138150138343117, 'reg_lambda': 2.286241148887482}. Best is trial 15 with value: 4.581409007192604.\n",
      "[I 2025-08-07 14:58:30,802] Trial 17 finished with value: 4.736361010242676 and parameters: {'n_estimators': 173, 'learning_rate': 0.08418790573813414, 'max_depth': 2, 'subsample': 0.693438728219873, 'colsample_bytree': 0.8422849117674044, 'gamma': 2.8195299000775016, 'reg_alpha': 0.98009237691439, 'reg_lambda': 2.5797347139025932}. Best is trial 15 with value: 4.581409007192604.\n",
      "[I 2025-08-07 14:58:31,032] Trial 18 finished with value: 4.996943154230195 and parameters: {'n_estimators': 135, 'learning_rate': 0.25428854881460716, 'max_depth': 1, 'subsample': 0.6360548198523702, 'colsample_bytree': 0.9366048527153582, 'gamma': 3.0354945077942928, 'reg_alpha': 0.479854119873406, 'reg_lambda': 1.6140384203726734}. Best is trial 15 with value: 4.581409007192604.\n",
      "[I 2025-08-07 14:58:31,226] Trial 19 finished with value: 4.97301005447094 and parameters: {'n_estimators': 50, 'learning_rate': 0.1335311187257752, 'max_depth': 4, 'subsample': 0.7358454966823905, 'colsample_bytree': 0.8300162457548298, 'gamma': 4.084601620056775, 'reg_alpha': 0.7368204565418736, 'reg_lambda': 3.280511551848945}. Best is trial 15 with value: 4.581409007192604.\n",
      "[I 2025-08-07 14:58:31,543] Trial 20 finished with value: 4.582748662690402 and parameters: {'n_estimators': 167, 'learning_rate': 0.25784083602602503, 'max_depth': 2, 'subsample': 0.6490131273085158, 'colsample_bytree': 0.9492790600110489, 'gamma': 1.633655954353903, 'reg_alpha': 0.36167487374333207, 'reg_lambda': 4.534225344916086}. Best is trial 15 with value: 4.581409007192604.\n",
      "[I 2025-08-07 14:58:31,834] Trial 21 finished with value: 4.624434131468612 and parameters: {'n_estimators': 170, 'learning_rate': 0.26027194874720233, 'max_depth': 2, 'subsample': 0.6404004153359325, 'colsample_bytree': 0.9469769746445842, 'gamma': 1.725706146462711, 'reg_alpha': 0.3696815869572782, 'reg_lambda': 4.437190576569198}. Best is trial 15 with value: 4.581409007192604.\n",
      "[I 2025-08-07 14:58:32,151] Trial 22 finished with value: 4.591940107882981 and parameters: {'n_estimators': 200, 'learning_rate': 0.24868652037958344, 'max_depth': 2, 'subsample': 0.7278953578354523, 'colsample_bytree': 0.9609321559231918, 'gamma': 0.38444120986230734, 'reg_alpha': 0.5691766974732159, 'reg_lambda': 3.092418411318982}. Best is trial 15 with value: 4.581409007192604.\n",
      "[I 2025-08-07 14:58:32,409] Trial 23 finished with value: 4.936560972894857 and parameters: {'n_estimators': 160, 'learning_rate': 0.1944171040317029, 'max_depth': 1, 'subsample': 0.5684882486789979, 'colsample_bytree': 0.8865697948946867, 'gamma': 0.024562483945123947, 'reg_alpha': 0.3615831385323219, 'reg_lambda': 1.5905216816968455}. Best is trial 15 with value: 4.581409007192604.\n",
      "[I 2025-08-07 14:58:32,722] Trial 24 finished with value: 4.6125381949676365 and parameters: {'n_estimators': 141, 'learning_rate': 0.14987835533901353, 'max_depth': 3, 'subsample': 0.6365385614095038, 'colsample_bytree': 0.9682855800603566, 'gamma': 2.4782669805690327, 'reg_alpha': 0.8909535022283884, 'reg_lambda': 4.825969525724516}. Best is trial 15 with value: 4.581409007192604.\n",
      "[I 2025-08-07 14:58:33,036] Trial 25 finished with value: 4.625719761670202 and parameters: {'n_estimators': 178, 'learning_rate': 0.23030874753081215, 'max_depth': 2, 'subsample': 0.6817398672440975, 'colsample_bytree': 0.9083621936850914, 'gamma': 3.120170928454112, 'reg_alpha': 0.7478291797259065, 'reg_lambda': 3.8424273530769875}. Best is trial 15 with value: 4.581409007192604.\n",
      "[I 2025-08-07 14:58:33,285] Trial 26 finished with value: 4.996441410518881 and parameters: {'n_estimators': 160, 'learning_rate': 0.2747883552135109, 'max_depth': 1, 'subsample': 0.6109893068102189, 'colsample_bytree': 0.8384217428054209, 'gamma': 2.6518919936838943, 'reg_alpha': 0.27314873721462896, 'reg_lambda': 1.6614165383624107}. Best is trial 15 with value: 4.581409007192604.\n",
      "[I 2025-08-07 14:58:33,741] Trial 27 finished with value: 4.8028137675660085 and parameters: {'n_estimators': 133, 'learning_rate': 0.07949453514844348, 'max_depth': 5, 'subsample': 0.6667079087426694, 'colsample_bytree': 0.9168170501772839, 'gamma': 1.3790324302997004, 'reg_alpha': 0.019973544874165916, 'reg_lambda': 2.6257429884616257}. Best is trial 15 with value: 4.581409007192604.\n",
      "[I 2025-08-07 14:58:34,045] Trial 28 finished with value: 4.575857715402709 and parameters: {'n_estimators': 184, 'learning_rate': 0.23618349054886573, 'max_depth': 2, 'subsample': 0.5371667765383052, 'colsample_bytree': 0.9671759689365291, 'gamma': 3.74706441907376, 'reg_alpha': 0.5742432835341003, 'reg_lambda': 5.492782012970434}. Best is trial 28 with value: 4.575857715402709.\n",
      "[I 2025-08-07 14:58:34,459] Trial 29 finished with value: 4.731712928785924 and parameters: {'n_estimators': 186, 'learning_rate': 0.060168787144559685, 'max_depth': 4, 'subsample': 0.5343371508885418, 'colsample_bytree': 0.9487105300601857, 'gamma': 3.8466595209037675, 'reg_alpha': 0.5585207382045514, 'reg_lambda': 5.5656251056446}. Best is trial 28 with value: 4.575857715402709.\n",
      "[I 2025-08-07 14:58:34,808] Trial 30 finished with value: 5.674055880184994 and parameters: {'n_estimators': 174, 'learning_rate': 0.29488809300168606, 'max_depth': 3, 'subsample': 0.7116337457673154, 'colsample_bytree': 0.8665639935612417, 'gamma': 2.338080452270695, 'reg_alpha': 0.42883758573826747, 'reg_lambda': 6.698906414397576}. Best is trial 28 with value: 4.575857715402709.\n",
      "[I 2025-08-07 14:58:35,116] Trial 31 finished with value: 4.624556619444253 and parameters: {'n_estimators': 151, 'learning_rate': 0.2308919313036069, 'max_depth': 2, 'subsample': 0.535405633787825, 'colsample_bytree': 0.9672538724086474, 'gamma': 3.225017107914586, 'reg_alpha': 0.6490134956618159, 'reg_lambda': 3.7747985949089715}. Best is trial 28 with value: 4.575857715402709.\n",
      "[I 2025-08-07 14:58:35,454] Trial 32 finished with value: 4.562525605161881 and parameters: {'n_estimators': 192, 'learning_rate': 0.24413731760320104, 'max_depth': 2, 'subsample': 0.7554910944033553, 'colsample_bytree': 0.9737959677646748, 'gamma': 3.727007106769803, 'reg_alpha': 0.7788158122084411, 'reg_lambda': 4.98208343896353}. Best is trial 32 with value: 4.562525605161881.\n",
      "[I 2025-08-07 14:58:35,771] Trial 33 finished with value: 4.912169151690743 and parameters: {'n_estimators': 200, 'learning_rate': 0.2115114902814978, 'max_depth': 1, 'subsample': 0.7736965333857617, 'colsample_bytree': 0.9251481962698636, 'gamma': 3.834731939860543, 'reg_alpha': 0.9167569768286004, 'reg_lambda': 5.226647328018269}. Best is trial 32 with value: 4.562525605161881.\n",
      "[I 2025-08-07 14:58:36,152] Trial 34 finished with value: 4.704409432535835 and parameters: {'n_estimators': 188, 'learning_rate': 0.23816796770304544, 'max_depth': 3, 'subsample': 0.7723886390435322, 'colsample_bytree': 0.9994740389882252, 'gamma': 4.572353024908233, 'reg_alpha': 0.7937482740505476, 'reg_lambda': 6.045790919453874}. Best is trial 32 with value: 4.562525605161881.\n",
      "[I 2025-08-07 14:58:36,468] Trial 35 finished with value: 5.3894071110244575 and parameters: {'n_estimators': 181, 'learning_rate': 0.26787721756393357, 'max_depth': 2, 'subsample': 0.7919040670066194, 'colsample_bytree': 0.9030738547672372, 'gamma': 1.854132211390348, 'reg_alpha': 0.3045176389052556, 'reg_lambda': 8.01113273867243}. Best is trial 32 with value: 4.562525605161881.\n",
      "[I 2025-08-07 14:58:36,901] Trial 36 finished with value: 4.66048711137375 and parameters: {'n_estimators': 192, 'learning_rate': 0.16146804876452603, 'max_depth': 3, 'subsample': 0.7450187731401102, 'colsample_bytree': 0.9540016370795747, 'gamma': 4.4662548599945575, 'reg_alpha': 0.6264318589916522, 'reg_lambda': 6.467471998427964}. Best is trial 32 with value: 4.562525605161881.\n",
      "[I 2025-08-07 14:58:37,198] Trial 37 finished with value: 4.906440203419925 and parameters: {'n_estimators': 168, 'learning_rate': 0.19401371857332603, 'max_depth': 1, 'subsample': 0.7058963251030014, 'colsample_bytree': 0.7240308419763858, 'gamma': 1.1513590010586858, 'reg_alpha': 0.5225513712584416, 'reg_lambda': 4.5415817931839655}. Best is trial 32 with value: 4.562525605161881.\n",
      "[I 2025-08-07 14:58:37,724] Trial 38 finished with value: 5.033852342668752 and parameters: {'n_estimators': 182, 'learning_rate': 0.21776979943041622, 'max_depth': 5, 'subsample': 0.6101628226736023, 'colsample_bytree': 0.8530591013921088, 'gamma': 2.069039648742728, 'reg_alpha': 0.4627684053252761, 'reg_lambda': 9.879995722551552}. Best is trial 32 with value: 4.562525605161881.\n",
      "[I 2025-08-07 14:58:38,157] Trial 39 finished with value: 4.871938927444485 and parameters: {'n_estimators': 111, 'learning_rate': 0.04291899250534108, 'max_depth': 2, 'subsample': 0.868251349634364, 'colsample_bytree': 0.9760165645519007, 'gamma': 3.8464126743179663, 'reg_alpha': 0.6925691028005072, 'reg_lambda': 5.799327483925967}. Best is trial 32 with value: 4.562525605161881.\n",
      "[I 2025-08-07 14:58:38,855] Trial 40 finished with value: 5.224485048666014 and parameters: {'n_estimators': 194, 'learning_rate': 0.27996913784585753, 'max_depth': 6, 'subsample': 0.6638433231518526, 'colsample_bytree': 0.6198483456960867, 'gamma': 3.6796139562479975, 'reg_alpha': 0.8479269359392001, 'reg_lambda': 5.155303108095913}. Best is trial 32 with value: 4.562525605161881.\n",
      "[I 2025-08-07 14:58:39,445] Trial 41 finished with value: 4.605704193435844 and parameters: {'n_estimators': 164, 'learning_rate': 0.24513974509064568, 'max_depth': 2, 'subsample': 0.5607503810635464, 'colsample_bytree': 0.9788677296004961, 'gamma': 3.227907479522858, 'reg_alpha': 0.733421965706717, 'reg_lambda': 4.241968237696467}. Best is trial 32 with value: 4.562525605161881.\n",
      "[I 2025-08-07 14:58:40,101] Trial 42 finished with value: 4.715026826882898 and parameters: {'n_estimators': 174, 'learning_rate': 0.2612297518874578, 'max_depth': 3, 'subsample': 0.7188526719163737, 'colsample_bytree': 0.9473132536243534, 'gamma': 2.958667813730157, 'reg_alpha': 0.7664416094035078, 'reg_lambda': 3.2253179270616057}. Best is trial 32 with value: 4.562525605161881.\n",
      "[I 2025-08-07 14:58:40,763] Trial 43 finished with value: 4.683002729224965 and parameters: {'n_estimators': 186, 'learning_rate': 0.2959797066977331, 'max_depth': 2, 'subsample': 0.5048901023540602, 'colsample_bytree': 0.8136957520308439, 'gamma': 4.346914539102018, 'reg_alpha': 0.8979294705964793, 'reg_lambda': 1.074474777053981}. Best is trial 32 with value: 4.562525605161881.\n",
      "[I 2025-08-07 14:58:41,104] Trial 44 finished with value: 4.944394011626604 and parameters: {'n_estimators': 94, 'learning_rate': 0.22139732304186543, 'max_depth': 1, 'subsample': 0.6597626953045936, 'colsample_bytree': 0.897447550433198, 'gamma': 2.5395790078417626, 'reg_alpha': 0.5916792372784104, 'reg_lambda': 6.933355596229721}. Best is trial 32 with value: 4.562525605161881.\n",
      "[I 2025-08-07 14:58:41,614] Trial 45 finished with value: 4.589618643511909 and parameters: {'n_estimators': 152, 'learning_rate': 0.2030952376157294, 'max_depth': 3, 'subsample': 0.5981388492760715, 'colsample_bytree': 0.9844558105594959, 'gamma': 3.393272720832924, 'reg_alpha': 0.20347431800013327, 'reg_lambda': 2.870407047342979}. Best is trial 32 with value: 4.562525605161881.\n",
      "[I 2025-08-07 14:58:43,064] Trial 46 finished with value: 4.545956110591386 and parameters: {'n_estimators': 177, 'learning_rate': 0.1364186924566235, 'max_depth': 2, 'subsample': 0.8028890859913155, 'colsample_bytree': 0.9350200948094614, 'gamma': 3.6253652538220478, 'reg_alpha': 0.6790142760990122, 'reg_lambda': 0.25807635559973807}. Best is trial 46 with value: 4.545956110591386.\n",
      "[I 2025-08-07 14:58:43,832] Trial 47 finished with value: 4.89840696364061 and parameters: {'n_estimators': 179, 'learning_rate': 0.10942996245923478, 'max_depth': 1, 'subsample': 0.8084239543170304, 'colsample_bytree': 0.9304058375567074, 'gamma': 4.9416538426448895, 'reg_alpha': 0.6826500258440803, 'reg_lambda': 0.7226435924627954}. Best is trial 46 with value: 4.545956110591386.\n",
      "[I 2025-08-07 14:58:44,296] Trial 48 finished with value: 4.999951418584435 and parameters: {'n_estimators': 200, 'learning_rate': 0.1354421218391488, 'max_depth': 2, 'subsample': 0.9090036564890428, 'colsample_bytree': 0.6829961652884716, 'gamma': 4.260428289679973, 'reg_alpha': 0.6082246073625125, 'reg_lambda': 4.945370668258009}. Best is trial 46 with value: 4.545956110591386.\n",
      "[I 2025-08-07 14:58:44,941] Trial 49 finished with value: 5.354257428912348 and parameters: {'n_estimators': 189, 'learning_rate': 0.17092090444010413, 'max_depth': 3, 'subsample': 0.8398609250895323, 'colsample_bytree': 0.891063936983266, 'gamma': 3.619076548256897, 'reg_alpha': 0.5335483634058813, 'reg_lambda': 0.14133993854527382}. Best is trial 46 with value: 4.545956110591386.\n",
      "[I 2025-08-07 14:58:45,605] Trial 50 finished with value: 4.935442665684481 and parameters: {'n_estimators': 166, 'learning_rate': 0.09155578128170994, 'max_depth': 1, 'subsample': 0.7574349648076101, 'colsample_bytree': 0.916369341022392, 'gamma': 2.8405934786071865, 'reg_alpha': 0.40827411487545745, 'reg_lambda': 3.6620952071825563}. Best is trial 46 with value: 4.545956110591386.\n",
      "[I 2025-08-07 14:58:46,356] Trial 51 finished with value: 4.569391980452311 and parameters: {'n_estimators': 176, 'learning_rate': 0.14117520387601362, 'max_depth': 2, 'subsample': 0.6880168025958134, 'colsample_bytree': 0.9679101765302247, 'gamma': 3.3558298468155114, 'reg_alpha': 0.8075769270765176, 'reg_lambda': 2.082179977641853}. Best is trial 46 with value: 4.545956110591386.\n",
      "[I 2025-08-07 14:58:46,867] Trial 52 finished with value: 4.545475223800482 and parameters: {'n_estimators': 179, 'learning_rate': 0.1419528567616376, 'max_depth': 2, 'subsample': 0.6930795534351126, 'colsample_bytree': 0.93725487657964, 'gamma': 3.695672545001385, 'reg_alpha': 0.8014056587135633, 'reg_lambda': 0.9684741475254743}. Best is trial 52 with value: 4.545475223800482.\n",
      "[I 2025-08-07 14:58:47,273] Trial 53 finished with value: 4.577194965189356 and parameters: {'n_estimators': 176, 'learning_rate': 0.1313151638829333, 'max_depth': 2, 'subsample': 0.6931305932504808, 'colsample_bytree': 0.933568880339364, 'gamma': 3.7125312947294793, 'reg_alpha': 0.8015801887950287, 'reg_lambda': 1.146947864366771}. Best is trial 52 with value: 4.545475223800482.\n",
      "[I 2025-08-07 14:58:47,773] Trial 54 finished with value: 4.575143623398902 and parameters: {'n_estimators': 193, 'learning_rate': 0.14284824833731283, 'max_depth': 3, 'subsample': 0.9778505959444522, 'colsample_bytree': 0.9603721194967365, 'gamma': 3.9640356390650693, 'reg_alpha': 0.8092113765765664, 'reg_lambda': 1.1817577576505132}. Best is trial 52 with value: 4.545475223800482.\n",
      "[I 2025-08-07 14:58:48,283] Trial 55 finished with value: 4.659904536681117 and parameters: {'n_estimators': 192, 'learning_rate': 0.1474408874947299, 'max_depth': 3, 'subsample': 0.9685132587519908, 'colsample_bytree': 0.9623647007998818, 'gamma': 4.030802097456946, 'reg_alpha': 0.9498791456738647, 'reg_lambda': 0.20793155892037268}. Best is trial 52 with value: 4.545475223800482.\n",
      "[I 2025-08-07 14:58:48,754] Trial 56 finished with value: 4.658194597062741 and parameters: {'n_estimators': 195, 'learning_rate': 0.16760817723702442, 'max_depth': 3, 'subsample': 0.9999148773545378, 'colsample_bytree': 0.9994742144746358, 'gamma': 4.620785615775894, 'reg_alpha': 0.8649585721680063, 'reg_lambda': 1.24019452366365}. Best is trial 52 with value: 4.545475223800482.\n",
      "[I 2025-08-07 14:58:49,179] Trial 57 finished with value: 4.616777546832663 and parameters: {'n_estimators': 182, 'learning_rate': 0.18141212114738206, 'max_depth': 2, 'subsample': 0.9311686343125415, 'colsample_bytree': 0.7652392851407015, 'gamma': 4.182300332694791, 'reg_alpha': 0.8286569959310005, 'reg_lambda': 0.58450584478072}. Best is trial 52 with value: 4.545475223800482.\n",
      "[I 2025-08-07 14:58:49,854] Trial 58 finished with value: 4.732831755432913 and parameters: {'n_estimators': 185, 'learning_rate': 0.12154392588683745, 'max_depth': 4, 'subsample': 0.8552308386913121, 'colsample_bytree': 0.963870382874111, 'gamma': 3.9892402422603777, 'reg_alpha': 0.7078193274323527, 'reg_lambda': 1.919291780084466}. Best is trial 52 with value: 4.545475223800482.\n",
      "[I 2025-08-07 14:58:50,273] Trial 59 finished with value: 4.599063246315337 and parameters: {'n_estimators': 195, 'learning_rate': 0.14503087036923573, 'max_depth': 2, 'subsample': 0.9049006960714401, 'colsample_bytree': 0.9827363239977931, 'gamma': 3.3922333426038795, 'reg_alpha': 0.780531300580894, 'reg_lambda': 0.4195804939478728}. Best is trial 52 with value: 4.545475223800482.\n",
      "[I 2025-08-07 14:58:50,656] Trial 60 finished with value: 4.584779167866369 and parameters: {'n_estimators': 172, 'learning_rate': 0.15753988223815193, 'max_depth': 3, 'subsample': 0.7894619731744096, 'colsample_bytree': 0.9178573102551811, 'gamma': 3.5487705004899985, 'reg_alpha': 0.8717954505633011, 'reg_lambda': 1.2771557212734732}. Best is trial 52 with value: 4.545475223800482.\n",
      "[I 2025-08-07 14:58:51,128] Trial 61 finished with value: 4.5825340012889635 and parameters: {'n_estimators': 177, 'learning_rate': 0.13124132785366327, 'max_depth': 2, 'subsample': 0.6944609970109036, 'colsample_bytree': 0.9385813729841521, 'gamma': 3.7338279796624647, 'reg_alpha': 0.8114157633612928, 'reg_lambda': 1.12489324460985}. Best is trial 52 with value: 4.545475223800482.\n",
      "[I 2025-08-07 14:58:52,086] Trial 62 finished with value: 4.571151294084486 and parameters: {'n_estimators': 190, 'learning_rate': 0.1380891016186387, 'max_depth': 2, 'subsample': 0.734534840974886, 'colsample_bytree': 0.9455635105630877, 'gamma': 3.913877570368116, 'reg_alpha': 0.9451724915090782, 'reg_lambda': 0.7913851595694147}. Best is trial 52 with value: 4.545475223800482.\n",
      "[I 2025-08-07 14:58:52,990] Trial 63 finished with value: 4.537303443999554 and parameters: {'n_estimators': 190, 'learning_rate': 0.13853181740349554, 'max_depth': 2, 'subsample': 0.7344520502170371, 'colsample_bytree': 0.9743175736941921, 'gamma': 4.701978442692717, 'reg_alpha': 0.9476508094808014, 'reg_lambda': 0.8750246951876842}. Best is trial 63 with value: 4.537303443999554.\n",
      "[I 2025-08-07 14:58:53,552] Trial 64 finished with value: 4.580694884331655 and parameters: {'n_estimators': 190, 'learning_rate': 0.10430570393296755, 'max_depth': 2, 'subsample': 0.7387648502347155, 'colsample_bytree': 0.9416958562209292, 'gamma': 4.782425264599697, 'reg_alpha': 0.9340023229486171, 'reg_lambda': 0.8973442672491834}. Best is trial 63 with value: 4.537303443999554.\n",
      "[I 2025-08-07 14:58:54,251] Trial 65 finished with value: 4.909026472011962 and parameters: {'n_estimators': 198, 'learning_rate': 0.14305954971826312, 'max_depth': 1, 'subsample': 0.7269297467807472, 'colsample_bytree': 0.9847765762624205, 'gamma': 4.361321529723596, 'reg_alpha': 0.958341567729659, 'reg_lambda': 1.8352291857453407}. Best is trial 63 with value: 4.537303443999554.\n",
      "[I 2025-08-07 14:58:54,868] Trial 66 finished with value: 5.024127178025812 and parameters: {'n_estimators': 162, 'learning_rate': 0.12431887853595765, 'max_depth': 2, 'subsample': 0.7629403033807381, 'colsample_bytree': 0.8729401747659479, 'gamma': 3.989097672658848, 'reg_alpha': 0.9746013362448724, 'reg_lambda': 0.4408066013548093}. Best is trial 63 with value: 4.537303443999554.\n",
      "[I 2025-08-07 14:58:55,265] Trial 67 finished with value: 4.639025523344747 and parameters: {'n_estimators': 72, 'learning_rate': 0.11416338653755531, 'max_depth': 3, 'subsample': 0.6812809298866133, 'colsample_bytree': 0.9561235133256557, 'gamma': 4.696874540855908, 'reg_alpha': 0.9991656964391592, 'reg_lambda': 1.3995849993230216}. Best is trial 63 with value: 4.537303443999554.\n",
      "[I 2025-08-07 14:58:55,985] Trial 68 finished with value: 4.908873806221082 and parameters: {'n_estimators': 170, 'learning_rate': 0.15577929902176912, 'max_depth': 1, 'subsample': 0.7500286026250594, 'colsample_bytree': 0.9726294760031189, 'gamma': 3.220308969844347, 'reg_alpha': 0.9042521975027079, 'reg_lambda': 0.8493757780006148}. Best is trial 63 with value: 4.537303443999554.\n",
      "[I 2025-08-07 14:58:56,839] Trial 69 finished with value: 4.584546975495164 and parameters: {'n_estimators': 189, 'learning_rate': 0.1406425723494258, 'max_depth': 2, 'subsample': 0.8265147326641057, 'colsample_bytree': 0.9896190141539603, 'gamma': 3.494195769626191, 'reg_alpha': 0.8459335016260959, 'reg_lambda': 2.126434927617315}. Best is trial 63 with value: 4.537303443999554.\n",
      "[I 2025-08-07 14:58:57,212] Trial 70 finished with value: 4.630260045905961 and parameters: {'n_estimators': 58, 'learning_rate': 0.18170420155617556, 'max_depth': 4, 'subsample': 0.787273066247538, 'colsample_bytree': 0.9109288387181812, 'gamma': 4.183546836235557, 'reg_alpha': 0.9298506215609, 'reg_lambda': 1.5462546068083722}. Best is trial 63 with value: 4.537303443999554.\n",
      "[I 2025-08-07 14:58:57,678] Trial 71 finished with value: 4.612129092583735 and parameters: {'n_estimators': 183, 'learning_rate': 0.12740259126500464, 'max_depth': 2, 'subsample': 0.9441762743123374, 'colsample_bytree': 0.9573098137021421, 'gamma': 3.81738403035221, 'reg_alpha': 0.6606971790879371, 'reg_lambda': 0.4674812975823642}. Best is trial 63 with value: 4.537303443999554.\n",
      "[I 2025-08-07 14:58:58,347] Trial 72 finished with value: 4.598890671923644 and parameters: {'n_estimators': 196, 'learning_rate': 0.16497844564496467, 'max_depth': 2, 'subsample': 0.7304480269126183, 'colsample_bytree': 0.9703928332786154, 'gamma': 3.93872151342268, 'reg_alpha': 0.7311634624820609, 'reg_lambda': 0.8058734247575341}. Best is trial 63 with value: 4.537303443999554.\n",
      "[I 2025-08-07 14:58:58,840] Trial 73 finished with value: 4.5636019832344985 and parameters: {'n_estimators': 179, 'learning_rate': 0.09828856570754563, 'max_depth': 2, 'subsample': 0.8894362840875341, 'colsample_bytree': 0.9250879533040786, 'gamma': 4.4257178869371865, 'reg_alpha': 0.765811493763022, 'reg_lambda': 1.8861076327613993}. Best is trial 63 with value: 4.537303443999554.\n",
      "[I 2025-08-07 14:58:59,334] Trial 74 finished with value: 4.576991983565474 and parameters: {'n_estimators': 180, 'learning_rate': 0.09581159957679823, 'max_depth': 2, 'subsample': 0.9544913261267037, 'colsample_bytree': 0.9274880319313115, 'gamma': 4.350007159482839, 'reg_alpha': 0.8870008199794521, 'reg_lambda': 2.3678480541472964}. Best is trial 63 with value: 4.537303443999554.\n",
      "[I 2025-08-07 14:59:00,085] Trial 75 finished with value: 4.589880210897269 and parameters: {'n_estimators': 191, 'learning_rate': 0.08175029102403916, 'max_depth': 2, 'subsample': 0.8686606620279744, 'colsample_bytree': 0.9428872069992063, 'gamma': 4.787660823158383, 'reg_alpha': 0.7651235280904961, 'reg_lambda': 1.8393244697071065}. Best is trial 63 with value: 4.537303443999554.\n",
      "[I 2025-08-07 14:59:00,709] Trial 76 finished with value: 4.978118074534115 and parameters: {'n_estimators': 157, 'learning_rate': 0.06740483594545821, 'max_depth': 1, 'subsample': 0.6809719900608364, 'colsample_bytree': 0.9517424108037398, 'gamma': 4.144196957629639, 'reg_alpha': 0.8317000374785621, 'reg_lambda': 1.477227501608733}. Best is trial 63 with value: 4.537303443999554.\n",
      "[I 2025-08-07 14:59:02,128] Trial 77 finished with value: 5.164852206604434 and parameters: {'n_estimators': 185, 'learning_rate': 0.11550895434389966, 'max_depth': 7, 'subsample': 0.8842537137944813, 'colsample_bytree': 0.8983880953876652, 'gamma': 4.536616508577741, 'reg_alpha': 0.7921694736240701, 'reg_lambda': 1.9869562345712923}. Best is trial 63 with value: 4.537303443999554.\n",
      "[I 2025-08-07 14:59:02,963] Trial 78 finished with value: 4.862048776446566 and parameters: {'n_estimators': 171, 'learning_rate': 0.14899822174050187, 'max_depth': 3, 'subsample': 0.8078322596858923, 'colsample_bytree': 0.7349043848355352, 'gamma': 4.963378852598497, 'reg_alpha': 0.8674075404665467, 'reg_lambda': 2.696409535254671}. Best is trial 63 with value: 4.537303443999554.\n",
      "[I 2025-08-07 14:59:03,424] Trial 79 finished with value: 4.57334931719413 and parameters: {'n_estimators': 177, 'learning_rate': 0.13800363047784645, 'max_depth': 2, 'subsample': 0.700396636568193, 'colsample_bytree': 0.9229875560856832, 'gamma': 3.0889956604219755, 'reg_alpha': 0.7122810062299517, 'reg_lambda': 0.13949102945895064}. Best is trial 63 with value: 4.537303443999554.\n",
      "[I 2025-08-07 14:59:03,811] Trial 80 finished with value: 4.921129757930506 and parameters: {'n_estimators': 176, 'learning_rate': 0.10541938353106232, 'max_depth': 1, 'subsample': 0.6992074325421372, 'colsample_bytree': 0.9199304537541152, 'gamma': 3.0896108526921995, 'reg_alpha': 0.7074466631625242, 'reg_lambda': 0.10821618218585982}. Best is trial 63 with value: 4.537303443999554.\n",
      "[I 2025-08-07 14:59:04,249] Trial 81 finished with value: 4.5705302188306405 and parameters: {'n_estimators': 179, 'learning_rate': 0.1359611287862805, 'max_depth': 2, 'subsample': 0.7207505422643312, 'colsample_bytree': 0.9390251651864906, 'gamma': 3.295420161690853, 'reg_alpha': 0.6727647764512281, 'reg_lambda': 0.9472447713754628}. Best is trial 63 with value: 4.537303443999554.\n",
      "[I 2025-08-07 14:59:04,867] Trial 82 finished with value: 5.034276354996366 and parameters: {'n_estimators': 179, 'learning_rate': 0.13646796225713884, 'max_depth': 2, 'subsample': 0.7170941479067771, 'colsample_bytree': 0.8827159249245495, 'gamma': 3.583658392100931, 'reg_alpha': 0.6701000544418647, 'reg_lambda': 0.9567689487916011}. Best is trial 63 with value: 4.537303443999554.\n",
      "[I 2025-08-07 14:59:05,379] Trial 83 finished with value: 4.573533902727003 and parameters: {'n_estimators': 167, 'learning_rate': 0.1511254249986324, 'max_depth': 2, 'subsample': 0.7452839987675643, 'colsample_bytree': 0.9380293534606874, 'gamma': 2.7039874175745355, 'reg_alpha': 0.6307564524518208, 'reg_lambda': 0.42852421865583656}. Best is trial 63 with value: 4.537303443999554.\n",
      "[I 2025-08-07 14:59:05,859] Trial 84 finished with value: 5.746440326232495 and parameters: {'n_estimators': 172, 'learning_rate': 0.010273063343359465, 'max_depth': 2, 'subsample': 0.7204245940608015, 'colsample_bytree': 0.9071951811912478, 'gamma': 3.2492787971721024, 'reg_alpha': 0.7501485489244298, 'reg_lambda': 0.5731408049238849}. Best is trial 63 with value: 4.537303443999554.\n",
      "[I 2025-08-07 14:59:06,418] Trial 85 finished with value: 4.578591180053839 and parameters: {'n_estimators': 186, 'learning_rate': 0.12452346197982953, 'max_depth': 2, 'subsample': 0.6569416294469106, 'colsample_bytree': 0.9250008934999452, 'gamma': 3.3190111415724943, 'reg_alpha': 0.7152639762369708, 'reg_lambda': 1.7162921980937906}. Best is trial 63 with value: 4.537303443999554.\n",
      "[I 2025-08-07 14:59:06,835] Trial 86 finished with value: 5.300113413602561 and parameters: {'n_estimators': 145, 'learning_rate': 0.17348207048656933, 'max_depth': 2, 'subsample': 0.7757521210014493, 'colsample_bytree': 0.8587563951264365, 'gamma': 2.9898694517138176, 'reg_alpha': 0.7617730712650992, 'reg_lambda': 0.676455124309832}. Best is trial 63 with value: 4.537303443999554.\n",
      "[I 2025-08-07 14:59:07,625] Trial 87 finished with value: 4.692707403974311 and parameters: {'n_estimators': 180, 'learning_rate': 0.15886483218899952, 'max_depth': 6, 'subsample': 0.676191704250874, 'colsample_bytree': 0.976062526667359, 'gamma': 3.4705156501020347, 'reg_alpha': 0.7309146802930804, 'reg_lambda': 0.2402560680763577}. Best is trial 63 with value: 4.537303443999554.\n",
      "[I 2025-08-07 14:59:08,202] Trial 88 finished with value: 4.639072559444025 and parameters: {'n_estimators': 161, 'learning_rate': 0.07340001759343162, 'max_depth': 2, 'subsample': 0.7597121520785891, 'colsample_bytree': 0.9476674179282615, 'gamma': 3.10866169173205, 'reg_alpha': 0.691447753929521, 'reg_lambda': 7.622267145902927}. Best is trial 63 with value: 4.537303443999554.\n",
      "[I 2025-08-07 14:59:08,658] Trial 89 finished with value: 5.422923906678176 and parameters: {'n_estimators': 127, 'learning_rate': 0.04234042238759121, 'max_depth': 1, 'subsample': 0.7105350231223478, 'colsample_bytree': 0.8009050139418251, 'gamma': 3.5750809031191277, 'reg_alpha': 0.6174911984278779, 'reg_lambda': 8.576305276678656}. Best is trial 63 with value: 4.537303443999554.\n",
      "[I 2025-08-07 14:59:09,443] Trial 90 finished with value: 4.601037558050671 and parameters: {'n_estimators': 188, 'learning_rate': 0.11898849319607835, 'max_depth': 2, 'subsample': 0.7337903872165716, 'colsample_bytree': 0.9927288134059117, 'gamma': 3.86010124189406, 'reg_alpha': 0.8269773743504435, 'reg_lambda': 0.9816854837826219}. Best is trial 63 with value: 4.537303443999554.\n",
      "[I 2025-08-07 14:59:10,691] Trial 91 finished with value: 4.615243410847309 and parameters: {'n_estimators': 169, 'learning_rate': 0.15466887771665436, 'max_depth': 2, 'subsample': 0.7438614236094876, 'colsample_bytree': 0.9380119868685843, 'gamma': 2.709764312549155, 'reg_alpha': 0.6309964192877879, 'reg_lambda': 0.32521890631522465}. Best is trial 63 with value: 4.537303443999554.\n",
      "[I 2025-08-07 14:59:11,552] Trial 92 finished with value: 4.577459198775823 and parameters: {'n_estimators': 165, 'learning_rate': 0.13778288860383206, 'max_depth': 2, 'subsample': 0.7036421757736051, 'colsample_bytree': 0.9252962120102766, 'gamma': 2.930875234434028, 'reg_alpha': 0.6484156854739231, 'reg_lambda': 0.7239730006072733}. Best is trial 63 with value: 4.537303443999554.\n",
      "[I 2025-08-07 14:59:12,007] Trial 93 finished with value: 4.616376305672321 and parameters: {'n_estimators': 175, 'learning_rate': 0.15290651337355618, 'max_depth': 2, 'subsample': 0.6876070054980375, 'colsample_bytree': 0.9387634738567595, 'gamma': 2.4331220353623983, 'reg_alpha': 0.6794984958240423, 'reg_lambda': 1.3817685855074553}. Best is trial 63 with value: 4.537303443999554.\n",
      "[I 2025-08-07 14:59:12,547] Trial 94 finished with value: 4.586528507751726 and parameters: {'n_estimators': 154, 'learning_rate': 0.19246925248822983, 'max_depth': 2, 'subsample': 0.7526624314984719, 'colsample_bytree': 0.8947653133937288, 'gamma': 2.665277944753539, 'reg_alpha': 0.5949569306876705, 'reg_lambda': 0.3861060749601159}. Best is trial 63 with value: 4.537303443999554.\n",
      "[I 2025-08-07 14:59:13,035] Trial 95 finished with value: 4.610054556740762 and parameters: {'n_estimators': 183, 'learning_rate': 0.13234608847177934, 'max_depth': 2, 'subsample': 0.671075659266475, 'colsample_bytree': 0.9115362662220098, 'gamma': 3.3040047006268263, 'reg_alpha': 0.7780283620962979, 'reg_lambda': 1.0038579312346607}. Best is trial 63 with value: 4.537303443999554.\n",
      "[I 2025-08-07 14:59:13,515] Trial 96 finished with value: 4.5816668843338775 and parameters: {'n_estimators': 177, 'learning_rate': 0.09153607396197738, 'max_depth': 2, 'subsample': 0.783231772549595, 'colsample_bytree': 0.9559213181299769, 'gamma': 3.157785291712462, 'reg_alpha': 0.7280718065385723, 'reg_lambda': 2.9671530000851236}. Best is trial 63 with value: 4.537303443999554.\n",
      "[I 2025-08-07 14:59:14,134] Trial 97 finished with value: 4.567529167362971 and parameters: {'n_estimators': 198, 'learning_rate': 0.16339474713584812, 'max_depth': 3, 'subsample': 0.6482238303584598, 'colsample_bytree': 0.9654388012729773, 'gamma': 3.6716885905423418, 'reg_alpha': 0.5452045071295641, 'reg_lambda': 0.5977191140701317}. Best is trial 63 with value: 4.537303443999554.\n",
      "[I 2025-08-07 14:59:14,804] Trial 98 finished with value: 4.604132922037869 and parameters: {'n_estimators': 198, 'learning_rate': 0.16424764195557223, 'max_depth': 3, 'subsample': 0.6153483596205108, 'colsample_bytree': 0.968434262789891, 'gamma': 3.6722478699776055, 'reg_alpha': 0.4945332600043919, 'reg_lambda': 0.6582974075719474}. Best is trial 63 with value: 4.537303443999554.\n",
      "[I 2025-08-07 14:59:15,386] Trial 99 finished with value: 4.571612079705937 and parameters: {'n_estimators': 193, 'learning_rate': 0.1267806669862599, 'max_depth': 3, 'subsample': 0.648133154700955, 'colsample_bytree': 0.9794185304641135, 'gamma': 3.388898334675818, 'reg_alpha': 0.555337438356483, 'reg_lambda': 1.2940153658078133}. Best is trial 63 with value: 4.537303443999554.\n"
     ]
    },
    {
     "name": "stdout",
     "output_type": "stream",
     "text": [
      "Best trial params: {'n_estimators': 190, 'learning_rate': 0.13853181740349554, 'max_depth': 2, 'subsample': 0.7344520502170371, 'colsample_bytree': 0.9743175736941921, 'gamma': 4.701978442692717, 'reg_alpha': 0.9476508094808014, 'reg_lambda': 0.8750246951876842}\n",
      "Best trial RMSE: 4.5373\n",
      "2023 RMSE: 6.10\n",
      "2023 R²: 0.853\n"
     ]
    },
    {
     "data": {
      "application/vnd.plotly.v1+json": {
       "config": {
        "plotlyServerURL": "https://plot.ly"
       },
       "data": [
        {
         "customdata": [
          [
           "Eldin Jakupovic",
           38
          ],
          [
           "James Milner",
           37
          ],
          [
           "Óscar Ustari",
           36
          ],
          [
           "Gabriel Tamas",
           39
          ],
          [
           "Cristiano Ronaldo",
           38
          ],
          [
           "Shaun MacDonald",
           34
          ],
          [
           "Phil Jagielka",
           40
          ],
          [
           "Andy Lonergan",
           39
          ],
          [
           "Ashley Young",
           37
          ],
          [
           "Scott Carson",
           37
          ],
          [
           "Phil Bardsley",
           37
          ],
          [
           "David Martin",
           37
          ],
          [
           "Casemiro",
           31
          ],
          [
           "Hugo Lloris",
           36
          ],
          [
           "Curtis Davies",
           38
          ],
          [
           "Willy Caballero",
           41
          ],
          [
           "Fernandinho",
           37
          ],
          [
           "Nenê",
           41
          ],
          [
           "Thiago Silva",
           38
          ],
          [
           "Lukasz Fabianski",
           38
          ],
          [
           "John Ruddy",
           36
          ],
          [
           "Chu-young Park",
           37
          ],
          [
           "Dusan Kuciak",
           38
          ],
          [
           "Tim Krul",
           35
          ],
          [
           "Lukas Jutkiewicz",
           34
          ],
          [
           "Theo Walcott",
           34
          ],
          [
           "Alex Smithies",
           33
          ],
          [
           "Asmir Begovic",
           36
          ],
          [
           "Tom Heaton",
           37
          ],
          [
           "Richard Stearman",
           35
          ],
          [
           "Lewis Grabban",
           35
          ],
          [
           "David McGoldrick",
           35
          ],
          [
           "Gaëtan Bong",
           35
          ],
          [
           "Leon Clarke",
           38
          ],
          [
           "Shane Long",
           36
          ],
          [
           "Kamil Grosicki",
           35
          ],
          [
           "Martin Olsson",
           35
          ],
          [
           "Lee Peltier",
           36
          ],
          [
           "Adrian Mariappa",
           36
          ],
          [
           "Kei Kamara",
           38
          ],
          [
           "Mario Vrancic",
           33
          ],
          [
           "Jozy Altidore",
           33
          ],
          [
           "Brad Guzan",
           38
          ],
          [
           "Marouane Fellaini",
           35
          ],
          [
           "Ryan Bertrand",
           33
          ],
          [
           "Liam Bridcutt",
           34
          ],
          [
           "Jack Cork",
           33
          ],
          [
           "James McArthur",
           35
          ],
          [
           "Sone Aluko",
           34
          ],
          [
           "Fraizer Campbell",
           35
          ],
          [
           "Jonny Evans",
           35
          ],
          [
           "Gary Hooper",
           34
          ],
          [
           "Gaetano Berardi",
           34
          ],
          [
           "Elliott Bennett",
           34
          ],
          [
           "Stephen Quinn",
           37
          ],
          [
           "Adam Lallana",
           35
          ],
          [
           "Erik Pieters",
           34
          ],
          [
           "Chris Gunter",
           33
          ],
          [
           "Bojan Krkic",
           32
          ],
          [
           "Beram Kayal",
           35
          ],
          [
           "Diego Costa",
           34
          ],
          [
           "Henri Lansbury",
           32
          ],
          [
           "Dan Gosling",
           33
          ],
          [
           "Claudio Yacob",
           35
          ],
          [
           "Jonathan Howson",
           35
          ],
          [
           "Wayne Hennessey",
           36
          ],
          [
           "Marco Stiepermann",
           32
          ],
          [
           "Fabri",
           35
          ],
          [
           "Luke Daniels",
           35
          ],
          [
           "Chris Martin",
           34
          ],
          [
           "Pablo Hernández",
           38
          ],
          [
           "Lovre Kalinic",
           33
          ],
          [
           "David Luiz",
           35
          ],
          [
           "Teemu Pukki",
           33
          ],
          [
           "Alex Pearce",
           34
          ],
          [
           "Jason Puncheon",
           36
          ],
          [
           "Angelo Ogbonna",
           35
          ],
          [
           "Andy Carroll",
           34
          ],
          [
           "Sam Vokes",
           33
          ],
          [
           "Jordan Rhodes",
           33
          ],
          [
           "Bradley Johnson",
           35
          ],
          [
           "James Perch",
           37
          ],
          [
           "Elias Kachunga",
           30
          ],
          [
           "Billy Sharp",
           37
          ],
          [
           "Andreas Weimann",
           31
          ],
          [
           "Danny Rose",
           32
          ],
          [
           "Christian Benteke",
           32
          ],
          [
           "Chicharito",
           35
          ],
          [
           "Aleksandar Mitrović",
           28
          ],
          [
           "Carlos Sánchez",
           37
          ],
          [
           "Darren Randolph",
           36
          ],
          [
           "Joe Allen",
           33
          ],
          [
           "Mateo Kovacic",
           29
          ],
          [
           "Henri Saivet",
           32
          ],
          [
           "Wellington Paulista",
           39
          ],
          [
           "Zanka",
           33
          ],
          [
           "Chris Basham",
           34
          ],
          [
           "Fraser Forster",
           35
          ],
          [
           "Willian",
           34
          ],
          [
           "Jay Rodríguez",
           33
          ],
          [
           "İlkay Gündoğan",
           32
          ],
          [
           "John Fleck",
           31
          ],
          [
           "Sebastián Blanco",
           35
          ],
          [
           "Magnus Wolff Eikrem",
           32
          ],
          [
           "Chris Löwe",
           34
          ],
          [
           "Harry Arter",
           33
          ],
          [
           "Jack Rodwell",
           32
          ],
          [
           "Jordon Mutch",
           31
          ],
          [
           "Simon Dawkins",
           35
          ],
          [
           "Christopher Schindler",
           33
          ],
          [
           "Emilio Nsue",
           33
          ],
          [
           "Craig Cathcart",
           34
          ],
          [
           "Thiago Alcántara",
           32
          ],
          [
           "Sean Scannell",
           32
          ],
          [
           "Marc Albrighton",
           33
          ],
          [
           "Barry Bannan",
           33
          ],
          [
           "Jonathan Hogg",
           34
          ],
          [
           "James Tomkins",
           34
          ],
          [
           "Jack Colback",
           33
          ],
          [
           "Conor Hourihane",
           32
          ],
          [
           "Neil Etheridge",
           33
          ],
          [
           "Wes Foderingham",
           32
          ],
          [
           "David Button",
           34
          ],
          [
           "Jake Livermore",
           33
          ],
          [
           "Adam Smith",
           32
          ],
          [
           "Stefan Johansen",
           32
          ],
          [
           "Shane Ferguson",
           31
          ],
          [
           "Vegard Forren",
           35
          ],
          [
           "Odion Ighalo",
           34
          ],
          [
           "Scott Dann",
           36
          ],
          [
           "Tomás Mejías",
           34
          ],
          [
           "Ashley Barnes",
           33
          ],
          [
           "Aron Gunnarsson",
           34
          ],
          [
           "Libor Kozak",
           34
          ],
          [
           "Troy Deeney",
           34
          ],
          [
           "Kyle Naughton",
           34
          ],
          [
           "Luke Freeman",
           31
          ],
          [
           "Cheikhou Kouyaté",
           33
          ],
          [
           "Gary Madine",
           32
          ],
          [
           "Danny Welbeck",
           32
          ],
          [
           "Sam Baldock",
           34
          ],
          [
           "Mark Oxley",
           32
          ],
          [
           "Ryan Bennett",
           33
          ],
          [
           "Ben Hamer",
           35
          ],
          [
           "David Stockdale",
           37
          ],
          [
           "Luke Ayling",
           31
          ],
          [
           "Kyle Bartley",
           32
          ],
          [
           "Michal Zyro",
           30
          ],
          [
           "Séamus Coleman",
           34
          ],
          [
           "Giedrius Arlauskis",
           35
          ],
          [
           "Christian Eriksen",
           31
          ],
          [
           "Garath McCleary",
           35
          ],
          [
           "Róger Espinoza",
           36
          ],
          [
           "Bernd Leno",
           31
          ],
          [
           "Adam Clayton",
           34
          ],
          [
           "Ben Amos",
           33
          ],
          [
           "James Chester",
           34
          ],
          [
           "Tom Cleverley",
           33
          ],
          [
           "Danny Drinkwater",
           33
          ],
          [
           "Matty James",
           31
          ],
          [
           "Oliver Norwood",
           32
          ],
          [
           "Jason Steele",
           32
          ],
          [
           "Pablo Sarabia",
           30
          ],
          [
           "Luka Milivojevic",
           32
          ],
          [
           "Adlène Guédioura",
           37
          ],
          [
           "Ben Mee",
           33
          ],
          [
           "Juraj Kucka",
           36
          ],
          [
           "Martin Dúbravka",
           34
          ],
          [
           "Liam Cooper",
           31
          ],
          [
           "Robin Olsen",
           33
          ],
          [
           "Niclas Füllkrug",
           30
          ],
          [
           "Lucas Moura",
           30
          ],
          [
           "Matt Phillips",
           32
          ],
          [
           "George Friend",
           35
          ],
          [
           "Thomas Kaminski",
           30
          ],
          [
           "Victor Wanyama",
           32
          ],
          [
           "Martin Kelly",
           33
          ],
          [
           "Daniel Ayala",
           32
          ],
          [
           "Sean Morrison",
           32
          ],
          [
           "Salomón Rondón",
           33
          ],
          [
           "Korey Smith",
           32
          ],
          [
           "Philippe Coutinho",
           30
          ],
          [
           "Craig Noone",
           35
          ],
          [
           "Tadanari Lee",
           37
          ],
          [
           "Sung-yueng Ki",
           34
          ],
          [
           "Chung-yong Lee",
           34
          ],
          [
           "Joel Matip",
           31
          ],
          [
           "Moritz Leitner",
           30
          ],
          [
           "Albert Adomah",
           35
          ],
          [
           "Nathaniel Clyne",
           32
          ],
          [
           "Oscar",
           31
          ],
          [
           "Borja Bastón",
           30
          ],
          [
           "Federico Fernández",
           34
          ],
          [
           "Enda Stevens",
           32
          ],
          [
           "Loris Karius",
           30
          ],
          [
           "Danny Lafferty",
           34
          ],
          [
           "James McClean",
           34
          ],
          [
           "Stefan Ortega",
           30
          ],
          [
           "Thomas Eisfeld",
           30
          ],
          [
           "Valentin Roberge",
           35
          ],
          [
           "Junior Stanislas",
           33
          ],
          [
           "Luca Scapuzzi",
           32
          ],
          [
           "Kevin De Bruyne",
           32
          ],
          [
           "Jonathan Kodjia",
           33
          ],
          [
           "Jóhann Berg Gudmundsson",
           32
          ],
          [
           "David Cornell",
           32
          ],
          [
           "Román Golobart",
           30
          ],
          [
           "Steve Cook",
           32
          ],
          [
           "Joe Bennett",
           33
          ],
          [
           "John Brayford",
           35
          ],
          [
           "Ashley Westwood",
           33
          ],
          [
           "James Shea",
           31
          ],
          [
           "Heung-min Son",
           30
          ],
          [
           "Sammy Ameobi",
           30
          ],
          [
           "Matt Ritchie",
           33
          ],
          [
           "Aaron Cresswell",
           33
          ],
          [
           "Joel Ward",
           33
          ],
          [
           "Mateusz Klich",
           33
          ],
          [
           "Kalidou Koulibaly",
           31
          ],
          [
           "Adama Diomande",
           33
          ],
          [
           "Marcos Rojo",
           33
          ],
          [
           "Stuart O'Keefe",
           32
          ],
          [
           "Muhamed Besic",
           30
          ],
          [
           "Jordan Bowery",
           31
          ],
          [
           "Connor Wickham",
           30
          ],
          [
           "Kieran Trippier",
           32
          ],
          [
           "Alex McCarthy",
           33
          ],
          [
           "Ciaran Clark",
           33
          ],
          [
           "Jannik Vestergaard",
           30
          ],
          [
           "Karl Darlow",
           32
          ],
          [
           "Matej Vydra",
           31
          ],
          [
           "Scott Malone",
           32
          ],
          [
           "Jorginho",
           31
          ],
          [
           "Matthew Lowton",
           34
          ],
          [
           "Michail Antonio",
           33
          ],
          [
           "Lyle Taylor",
           33
          ],
          [
           "Filip Orsula",
           30
          ],
          [
           "Alisson",
           30
          ],
          [
           "Jordan Ayew",
           31
          ],
          [
           "Chris Wood",
           31
          ],
          [
           "Adam Matthews",
           31
          ],
          [
           "Onel Hernández",
           30
          ],
          [
           "Luke Garbutt",
           30
          ],
          [
           "Gary Gardner",
           30
          ],
          [
           "Sam Johnstone",
           29
          ],
          [
           "Jed Steer",
           30
          ],
          [
           "Ryan Tunnicliffe",
           30
          ],
          [
           "Ryan Allsop",
           30
          ],
          [
           "Kevin Long",
           32
          ],
          [
           "Joël Veltman",
           31
          ],
          [
           "Sead Hajrovic",
           30
          ],
          [
           "Neeskens Kebano",
           31
          ],
          [
           "Ahmed Hegazy",
           32
          ],
          [
           "Neto",
           33
          ],
          [
           "Emiliano Martínez",
           30
          ],
          [
           "Philip Heise",
           32
          ],
          [
           "Tomer Hemed",
           36
          ],
          [
           "Cédric Soares",
           31
          ],
          [
           "Romaine Sawyers",
           31
          ],
          [
           "Greg Cunningham",
           32
          ],
          [
           "Richie Towell",
           31
          ],
          [
           "Luke Brattan",
           33
          ],
          [
           "Marcus Bettinelli",
           31
          ],
          [
           "Phil Jones",
           31
          ],
          [
           "Michael Keane",
           30
          ],
          [
           "Will Keane",
           30
          ],
          [
           "Ezequiel Schelotto",
           34
          ],
          [
           "Shane Duffy",
           31
          ],
          [
           "Jack Grimmer",
           29
          ],
          [
           "Daniel Bachmann",
           28
          ],
          [
           "Jazz Richards",
           32
          ],
          [
           "Alphonse Areola",
           30
          ],
          [
           "Joe Mason",
           32
          ],
          [
           "Kwesi Appiah",
           32
          ],
          [
           "Adam Davies",
           30
          ],
          [
           "Adam Forshaw",
           31
          ],
          [
           "Ryan Watson",
           29
          ],
          [
           "Tom Carroll",
           30
          ],
          [
           "John Egan",
           30
          ],
          [
           "Grant Hanley",
           31
          ],
          [
           "Eirik Johansen",
           30
          ],
          [
           "Tommy Smith",
           31
          ],
          [
           "Emyr Huws",
           29
          ],
          [
           "Craig Dawson",
           33
          ],
          [
           "Wellington Silva",
           30
          ],
          [
           "Markus Henriksen",
           30
          ],
          [
           "Sam Clucas",
           32
          ],
          [
           "Nico Yennaris",
           30
          ],
          [
           "Ali Gabr",
           34
          ],
          [
           "Tom Cairney",
           32
          ],
          [
           "Simon Moore",
           33
          ],
          [
           "Sam Morsy",
           31
          ],
          [
           "Callum Wilson",
           31
          ],
          [
           "Danny Ward",
           32
          ],
          [
           "Odysseas Vlachodimos",
           29
          ],
          [
           "Grant Hall",
           31
          ],
          [
           "Pontus Jansson",
           32
          ],
          [
           "Nathaniel Mendez-Laing",
           30
          ],
          [
           "Luke Berry",
           30
          ],
          [
           "Mark Flekken",
           30
          ],
          [
           "Lee Nicholls",
           30
          ],
          [
           "Carl Jenkinson",
           31
          ],
          [
           "Allan",
           32
          ],
          [
           "Kenny McLean",
           31
          ],
          [
           "Lucas Digne",
           29
          ],
          [
           "Idrissa Gueye",
           33
          ],
          [
           "Serge Aurier",
           30
          ],
          [
           "Abdoulaye Doucouré",
           30
          ],
          [
           "Matz Sels",
           31
          ],
          [
           "Robbie Brady",
           31
          ],
          [
           "Scott Wootton",
           31
          ],
          [
           "Derrick Williams",
           30
          ],
          [
           "Bo-kyung Kim",
           33
          ],
          [
           "Tom Anderson",
           29
          ],
          [
           "Jamal Blackman",
           29
          ],
          [
           "Nathaniel Chalobah",
           28
          ],
          [
           "Conor Coady",
           30
          ],
          [
           "Ben Gibson",
           30
          ],
          [
           "Liam Moore",
           30
          ],
          [
           "Jack Robinson",
           29
          ],
          [
           "Ethan Ebanks-Landell",
           30
          ],
          [
           "Nathan Redmond",
           29
          ],
          [
           "Charlie Austin",
           33
          ],
          [
           "Jordan Pickford",
           29
          ],
          [
           "Stuart Armstrong",
           31
          ],
          [
           "Jonathan Bond",
           30
          ],
          [
           "Juan Agudelo",
           30
          ],
          [
           "Rodrigo",
           32
          ],
          [
           "Roberto Firmino",
           31
          ],
          [
           "Ross Barkley",
           29
          ],
          [
           "Phil Ofosu-Ayeh",
           31
          ],
          [
           "Dan Burn",
           31
          ],
          [
           "Danny Ings",
           30
          ],
          [
           "Matthias Fanimo",
           29
          ],
          [
           "Nick Powell",
           29
          ],
          [
           "Raheem Sterling",
           28
          ],
          [
           "Blair Turgott",
           29
          ],
          [
           "André Carrillo",
           32
          ],
          [
           "Fabian Schär",
           31
          ],
          [
           "Manuel Lanzini",
           30
          ],
          [
           "Daniel Bentley",
           29
          ],
          [
           "Kadeem Harris",
           29
          ],
          [
           "Marçal",
           34
          ],
          [
           "Jakob Haugaard",
           31
          ],
          [
           "Virgil van Dijk",
           31
          ],
          [
           "Ryan Fredericks",
           30
          ],
          [
           "Josip Drmic",
           30
          ],
          [
           "Liam O'Neil",
           29
          ],
          [
           "George Saville",
           30
          ],
          [
           "Zeki Fryers",
           30
          ],
          [
           "Jesse Lingard",
           30
          ],
          [
           "Willy Boly",
           32
          ],
          [
           "Mark Gillespie",
           31
          ],
          [
           "Krisztián Adorján",
           30
          ],
          [
           "Leandro Trossard",
           28
          ],
          [
           "Tim Ream",
           35
          ],
          [
           "Wataru Endo",
           30
          ],
          [
           "Conor Townsend",
           30
          ],
          [
           "George Baldock",
           30
          ],
          [
           "Ryan Fraser",
           29
          ],
          [
           "Lewis Dunk",
           31
          ],
          [
           "Jeff Hendrick",
           31
          ],
          [
           "Christian Nørgaard",
           29
          ],
          [
           "Divock Origi",
           27
          ],
          [
           "Mohamed Salah",
           30
          ],
          [
           "Tomas Kalas",
           29
          ],
          [
           "Jiri Skalak",
           31
          ],
          [
           "Todd Kane",
           29
          ],
          [
           "Felipe",
           34
          ],
          [
           "Tyias Browning",
           28
          ],
          [
           "Ben Heneghan",
           29
          ],
          [
           "Tom Ince",
           31
          ],
          [
           "Michael Hector",
           30
          ],
          [
           "Kurt Zouma",
           28
          ],
          [
           "Vladimír Coufal",
           30
          ],
          [
           "Cyrus Christie",
           30
          ],
          [
           "Tendayi Darikwa",
           31
          ],
          [
           "Kieron Freeman",
           31
          ],
          [
           "Max Ehmer",
           31
          ],
          [
           "Stuart Dallas",
           32
          ],
          [
           "Mesca",
           29
          ],
          [
           "Mohamed Elneny",
           30
          ],
          [
           "Adam Reach",
           30
          ],
          [
           "Connor Ripley",
           30
          ],
          [
           "Adam Smith",
           30
          ],
          [
           "Jack Stephens",
           29
          ],
          [
           "Rory Donnelly",
           31
          ],
          [
           "Raphaël Varane",
           30
          ],
          [
           "Jürgen Locadia",
           29
          ],
          [
           "Paddy McNair",
           28
          ],
          [
           "James Husband",
           29
          ],
          [
           "Daniel Johnson",
           30
          ],
          [
           "Callum Paterson",
           28
          ],
          [
           "Cauley Woodrow",
           28
          ],
          [
           "Paul Dummett",
           31
          ],
          [
           "Jonathan Williams",
           29
          ],
          [
           "Timo Werner",
           27
          ],
          [
           "Cody Cropper",
           30
          ],
          [
           "Ben Reeves",
           31
          ],
          [
           "Jay Fulton",
           29
          ],
          [
           "Riyad Mahrez",
           32
          ],
          [
           "Matt Doherty",
           31
          ],
          [
           "Nahki Wells",
           33
          ],
          [
           "James Tarkowski",
           30
          ],
          [
           "Hélder Costa",
           29
          ],
          [
           "Brad Smith",
           29
          ],
          [
           "Sebastian Lletget",
           30
          ],
          [
           "Aymeric Laporte",
           28
          ],
          [
           "Florin Andone",
           30
          ],
          [
           "Nathan Aké",
           28
          ],
          [
           "Charly Musonda Jr.",
           26
          ],
          [
           "Graham Burke",
           29
          ],
          [
           "Harry Maguire",
           30
          ],
          [
           "Jean Michaël Seri",
           31
          ],
          [
           "Donald Love",
           28
          ],
          [
           "Curtis Good",
           30
          ],
          [
           "George Evans",
           28
          ],
          [
           "James Ward-Prowse",
           28
          ],
          [
           "Massimo Luongo",
           30
          ],
          [
           "Emerson",
           28
          ],
          [
           "Jordan Graham",
           28
          ],
          [
           "Ryan Inniss",
           27
          ],
          [
           "Luke Shaw",
           27
          ],
          [
           "Joe Rothwell",
           28
          ],
          [
           "Callum Robinson",
           28
          ],
          [
           "Luke McGee",
           27
          ],
          [
           "Ben Pearson",
           28
          ],
          [
           "Jamaal Lascelles",
           29
          ],
          [
           "Patrick Bamford",
           29
          ],
          [
           "Gregor Zabret",
           28
          ],
          [
           "Jordan Clark",
           29
          ],
          [
           "Ming-Yang Yang",
           27
          ],
          [
           "Tom Hopper",
           29
          ],
          [
           "Emil Krafth",
           28
          ],
          [
           "Victor Lindelöf",
           28
          ],
          [
           "Bobby De Cordova-Reid",
           30
          ],
          [
           "John Stones",
           29
          ],
          [
           "Marek Rodák",
           26
          ],
          [
           "Jack Rose",
           28
          ],
          [
           "Ryan Christie",
           28
          ],
          [
           "Michael Petrasso",
           27
          ],
          [
           "Sean Maguire",
           29
          ],
          [
           "Nick Pope",
           31
          ],
          [
           "Kepa Arrizabalaga",
           28
          ],
          [
           "Ben Davies",
           30
          ],
          [
           "Álex Moreno",
           30
          ],
          [
           "John McGinn",
           28
          ],
          [
           "Joe Bryan",
           29
          ],
          [
           "Charlie Taylor",
           29
          ],
          [
           "Adedeji Oshilaja",
           29
          ],
          [
           "Joe Ralls",
           29
          ],
          [
           "Remi Matthews",
           29
          ],
          [
           "John Swift",
           27
          ],
          [
           "Janoi Donacien",
           29
          ],
          [
           "Josh Sheehan",
           28
          ],
          [
           "Jamie Vardy",
           36
          ],
          [
           "Liam Shephard",
           28
          ],
          [
           "Harry Toffolo",
           27
          ],
          [
           "Lewis Baker",
           28
          ],
          [
           "Sam Hoskins",
           30
          ],
          [
           "Jacob Murphy",
           28
          ],
          [
           "Josh Murphy",
           28
          ],
          [
           "Kevin Stewart",
           29
          ],
          [
           "Angus Gunn",
           27
          ],
          [
           "Danny Ward",
           30
          ],
          [
           "Conor McGrandles",
           27
          ],
          [
           "Andreas Pereira",
           27
          ],
          [
           "Jack Grealish",
           27
          ],
          [
           "Oleksandr Zinchenko",
           26
          ],
          [
           "Adama Traoré",
           27
          ],
          [
           "Saman Ghoddos",
           29
          ],
          [
           "Dejan Iliev",
           28
          ],
          [
           "Raúl Jiménez",
           31
          ],
          [
           "Isaac Hayden",
           28
          ],
          [
           "Kenny Tete",
           27
          ],
          [
           "Will Hughes",
           28
          ],
          [
           "Dan Potts",
           29
          ],
          [
           "Tom Lockyer",
           28
          ],
          [
           "Louis Thompson",
           28
          ],
          [
           "Brendan Galloway",
           27
          ],
          [
           "Christian Walton",
           27
          ],
          [
           "Solly March",
           28
          ],
          [
           "Oumar Niasse",
           32
          ],
          [
           "Jack O'Connell",
           29
          ],
          [
           "Adam Webster",
           28
          ],
          [
           "David Ferguson",
           28
          ],
          [
           "Connor Roberts",
           27
          ],
          [
           "Kean Bryan",
           26
          ],
          [
           "Calum Chambers",
           28
          ],
          [
           "Tom King",
           28
          ],
          [
           "Ricardo Pereira",
           29
          ],
          [
           "Ben Osborn",
           28
          ],
          [
           "George Honeyman",
           28
          ],
          [
           "Conor Grant",
           27
          ],
          [
           "Matthew Pennington",
           28
          ],
          [
           "Zack Steffen",
           28
          ],
          [
           "Alex Gilliead",
           27
          ],
          [
           "Joel Dixon",
           29
          ],
          [
           "Danilo Pantic",
           26
          ],
          [
           "Luke Simpson",
           28
          ],
          [
           "N'Golo Kanté",
           31
          ],
          [
           "Gonçalo Guedes",
           26
          ],
          [
           "Rúben Neves",
           26
          ],
          [
           "Fabinho",
           29
          ],
          [
           "Matheus Pereira",
           27
          ],
          [
           "Freddie Woodman",
           26
          ],
          [
           "Sean Raggett",
           29
          ],
          [
           "Anthony Cáceres",
           30
          ],
          [
           "Dominic Gape",
           28
          ],
          [
           "Lloyd Isgrove",
           30
          ],
          [
           "Harrison Reed",
           28
          ],
          [
           "Sam Gallagher",
           27
          ],
          [
           "Jason McCarthy",
           27
          ],
          [
           "Gedion Zelalem",
           26
          ],
          [
           "Thomas Partey",
           30
          ],
          [
           "Nélson Semedo",
           29
          ],
          [
           "Emiliano Marcondes",
           28
          ],
          [
           "Kortney Hause",
           27
          ],
          [
           "Freddie Ladapo",
           30
          ],
          [
           "André Onana",
           26
          ],
          [
           "Andrew Robertson",
           29
          ],
          [
           "Ola Aina",
           26
          ],
          [
           "Connor Ogilvie",
           27
          ],
          [
           "Sam Byram",
           29
          ],
          [
           "Ederson",
           29
          ],
          [
           "Leandro Rodríguez",
           30
          ],
          [
           "Jamal Lowe",
           28
          ],
          [
           "George Byers",
           26
          ],
          [
           "Bruno Fernandes",
           28
          ],
          [
           "Bernardo Silva",
           28
          ],
          [
           "Jindrich Stanek",
           27
          ],
          [
           "Ethan Horvath",
           27
          ],
          [
           "Gethin Jones",
           27
          ],
          [
           "Courtney Duffus",
           27
          ],
          [
           "Josh Cullen",
           26
          ],
          [
           "Alex Iwobi",
           27
          ],
          [
           "Nathan Mavila",
           27
          ],
          [
           "Lewis Page",
           26
          ],
          [
           "Josh Vickers",
           27
          ],
          [
           "Jan Bednarek",
           26
          ],
          [
           "Josh Onomah",
           26
          ],
          [
           "Lawrence Vigouroux",
           29
          ],
          [
           "Lloyd Jones",
           27
          ],
          [
           "Hiram Boateng",
           27
          ],
          [
           "Pelly Ruddock Mpanzu",
           29
          ],
          [
           "Jon Gorenc Stankovic",
           27
          ],
          [
           "Saša Lukić",
           26
          ],
          [
           "Reece James",
           29
          ],
          [
           "Alex Palmer",
           26
          ],
          [
           "Bartosz Kapustka",
           26
          ],
          [
           "Carlton Morris",
           27
          ],
          [
           "Duncan Watmore",
           29
          ],
          [
           "Lewis Cook",
           26
          ],
          [
           "Harry Winks",
           27
          ],
          [
           "Jack Stacey",
           27
          ],
          [
           "Youri Tielemans",
           25
          ],
          [
           "Tariqe Fosu",
           27
          ],
          [
           "José Sá",
           30
          ],
          [
           "Adam Armstrong",
           26
          ],
          [
           "Jamie Sterry",
           27
          ],
          [
           "Matt Targett",
           27
          ],
          [
           "Enes Ünal",
           26
          ],
          [
           "Jordan Lyden",
           27
          ],
          [
           "Ivan Toney",
           27
          ],
          [
           "Semi Ajayi",
           29
          ],
          [
           "Ken Sema",
           29
          ],
          [
           "Rob Holding",
           27
          ],
          [
           "Tyrone Mings",
           30
          ],
          [
           "Harry Cornick",
           28
          ],
          [
           "Wes Burns",
           28
          ],
          [
           "Samir Caetano",
           28
          ],
          [
           "Cameron Burgess",
           27
          ],
          [
           "Joe Gomez",
           26
          ],
          [
           "Adnan Maric",
           26
          ],
          [
           "Dan Barlaser",
           26
          ],
          [
           "Tommy Robson",
           27
          ],
          [
           "Rúben Dias",
           26
          ],
          [
           "Kasey Palmer",
           26
          ],
          [
           "Tom Beadling",
           27
          ],
          [
           "Tosin Adarabioyo",
           25
          ],
          [
           "Ryan Ledson",
           25
          ],
          [
           "Max Lowe",
           25
          ],
          [
           "Kyle Scott",
           25
          ],
          [
           "Dominic Solanke",
           25
          ],
          [
           "Dean Henderson",
           26
          ],
          [
           "Marcus Rashford",
           25
          ],
          [
           "Joachim Andersen",
           27
          ],
          [
           "Daniel Iversen",
           25
          ],
          [
           "Cameron Brannagan",
           26
          ],
          [
           "Filip Krovinovic",
           27
          ],
          [
           "Timothy Castagne",
           27
          ],
          [
           "Ryan Manning",
           26
          ],
          [
           "David Raya",
           27
          ],
          [
           "Soufyan Ahannach",
           28
          ],
          [
           "Jefferson Lerma",
           28
          ],
          [
           "Kevin Danso",
           24
          ],
          [
           "Harry Charsley",
           26
          ],
          [
           "Reece Burke",
           26
          ],
          [
           "Kevin Toner",
           26
          ],
          [
           "Matt Grimes",
           27
          ],
          [
           "Joe Williams",
           26
          ],
          [
           "Vitaly Janelt",
           25
          ],
          [
           "Callum Elder",
           28
          ],
          [
           "Sylvain Deslandes",
           25
          ],
          [
           "Issa Diop",
           26
          ],
          [
           "Paul Onuachu",
           28
          ],
          [
           "Miguel Almirón",
           29
          ],
          [
           "Jonathan Benteke",
           28
          ],
          [
           "Wilfred Ndidi",
           26
          ],
          [
           "Kieffer Moore",
           30
          ],
          [
           "David Brooks",
           25
          ],
          [
           "Jack Payne",
           28
          ],
          [
           "Amari'i Bell",
           29
          ],
          [
           "MJ Williams",
           27
          ],
          [
           "Harry Wilson",
           26
          ],
          [
           "Sergio Reguilón",
           26
          ],
          [
           "Corey Blackett-Taylor",
           25
          ],
          [
           "Alfie Whiteman",
           24
          ],
          [
           "Tomas Soucek",
           28
          ],
          [
           "Grant Ward",
           28
          ],
          [
           "Manuel Akanji",
           27
          ],
          [
           "Marc Cucurella",
           24
          ],
          [
           "Will Norris",
           29
          ],
          [
           "Joel Coleman",
           27
          ],
          [
           "Harry Burgoyne",
           26
          ],
          [
           "Guglielmo Vicario",
           26
          ],
          [
           "Joe Lolley",
           30
          ],
          [
           "Krystian Bielik",
           25
          ],
          [
           "Connor Mahoney",
           26
          ],
          [
           "Orel Mangala",
           25
          ],
          [
           "Josh Harrop",
           27
          ],
          [
           "Ashley Fletcher",
           27
          ],
          [
           "Saïd Benrahma",
           27
          ],
          [
           "Jordan Hugill",
           31
          ],
          [
           "Sammie Szmodics",
           27
          ],
          [
           "Hee-chan Hwang",
           27
          ],
          [
           "Demarai Gray",
           26
          ],
          [
           "Wout Faes",
           25
          ],
          [
           "Matija Sarkic",
           25
          ],
          [
           "Baily Cargill",
           27
          ],
          [
           "Josh Brownhill",
           27
          ],
          [
           "Conor Masterson",
           24
          ],
          [
           "James Maddison",
           26
          ],
          [
           "Nathan",
           27
          ],
          [
           "Taiwo Awoniyi",
           25
          ],
          [
           "Kelechi Iheanacho",
           26
          ],
          [
           "Marco Asensio",
           27
          ],
          [
           "Tyler Roberts",
           24
          ],
          [
           "Joe Rodon",
           25
          ],
          [
           "Harry Souttar",
           24
          ],
          [
           "Courtney Baker-Richardson",
           27
          ],
          [
           "George Thomas",
           26
          ],
          [
           "Kieran Tierney",
           25
          ],
          [
           "Fred Onyedinma",
           26
          ],
          [
           "Dominic Calvert-Lewin",
           26
          ],
          [
           "Matt Clarke",
           26
          ],
          [
           "Lynden Gooch",
           27
          ],
          [
           "Callum Connolly",
           25
          ],
          [
           "Jan Mlakar",
           24
          ],
          [
           "Kai Havertz",
           23
          ],
          [
           "Andre Green",
           24
          ],
          [
           "Ramadan Sobhi",
           26
          ],
          [
           "Liam Gibson",
           25
          ],
          [
           "Dael Fry",
           25
          ],
          [
           "Karlan Grant",
           25
          ],
          [
           "Tom Davies",
           24
          ],
          [
           "Rushian Hepburn-Murphy",
           24
          ],
          [
           "Herbie Kane",
           24
          ],
          [
           "Jonathan Leko",
           23
          ],
          [
           "Chris Willock",
           25
          ],
          [
           "Trent Alexander-Arnold",
           24
          ],
          [
           "Kyle Edwards",
           25
          ],
          [
           "Darnell Johnson",
           24
          ],
          [
           "Admiral Muskwe",
           24
          ],
          [
           "Ben Sheaf",
           25
          ],
          [
           "Jarrod Bowen",
           26
          ],
          [
           "Ben Chilwell",
           26
          ],
          [
           "Martin Ødegaard",
           24
          ],
          [
           "Jake Clarke-Salter",
           25
          ],
          [
           "Mateusz Hewelt",
           26
          ],
          [
           "Vlad Dragomir",
           23
          ],
          [
           "Daniel James",
           25
          ],
          [
           "Mathias Jensen",
           27
          ],
          [
           "Elijah Adebayo",
           25
          ],
          [
           "Anthony Georgiou",
           26
          ],
          [
           "Benny Ashley-Seal",
           24
          ],
          [
           "Benson Manuel",
           26
          ],
          [
           "Gustavo Hamer",
           25
          ],
          [
           "James Bree",
           25
          ],
          [
           "Ollie Watkins",
           27
          ],
          [
           "Marvelous Nakamba",
           29
          ],
          [
           "Donyell Malen",
           24
          ],
          [
           "Matthijs de Ligt",
           23
          ],
          [
           "Jaroslaw Jach",
           29
          ],
          [
           "Kristoffer Ajer",
           25
          ],
          [
           "João Virgínia",
           23
          ],
          [
           "Justin Kluivert",
           23
          ],
          [
           "Takehiro Tomiyasu",
           24
          ],
          [
           "Tyler Adams",
           24
          ],
          [
           "Sander Berge",
           25
          ],
          [
           "Joelinton",
           26
          ],
          [
           "Ben White",
           25
          ],
          [
           "Altay Bayındır",
           24
          ],
          [
           "Joe Lumley",
           28
          ],
          [
           "Nathan Holland",
           24
          ],
          [
           "Connor Ronan",
           25
          ],
          [
           "Konstantinos Tsimikas",
           27
          ],
          [
           "Mikel Merino",
           26
          ],
          [
           "Hannes Delcroix",
           24
          ],
          [
           "Daniel Grimshaw",
           25
          ],
          [
           "Rico Henry",
           25
          ],
          [
           "Josh Pask",
           25
          ],
          [
           "Regan Poole",
           24
          ],
          [
           "Tolaji Bola",
           24
          ],
          [
           "Marcus McGuane",
           24
          ],
          [
           "Josh Dasilva",
           24
          ],
          [
           "Eddie Nketiah",
           23
          ],
          [
           "Reiss Nelson",
           23
          ],
          [
           "Stephy Mavididi",
           25
          ],
          [
           "Joe Willock",
           23
          ],
          [
           "Noussair Mazraoui",
           25
          ],
          [
           "Caoimhín Kelleher",
           24
          ],
          [
           "Diogo Jota",
           26
          ],
          [
           "Harry Lewis",
           25
          ],
          [
           "Kyle Walker-Peters",
           26
          ],
          [
           "Federico Chiesa",
           25
          ],
          [
           "Hamza Choudhury",
           25
          ],
          [
           "Elliott Moore",
           26
          ],
          [
           "Axel Tuanzebe",
           25
          ],
          [
           "Grady Diangana",
           25
          ],
          [
           "Nathan Baxter",
           24
          ],
          [
           "Guido Rodríguez",
           29
          ],
          [
           "Ben Godfrey",
           25
          ],
          [
           "Nathan Broadhead",
           25
          ],
          [
           "Ben Woodburn",
           23
          ],
          [
           "Odsonne Edouard",
           25
          ],
          [
           "Christopher Nkunku",
           25
          ],
          [
           "Boubakary Soumaré",
           24
          ],
          [
           "Tahith Chong",
           23
          ],
          [
           "Shayon Harrison",
           25
          ],
          [
           "Djair Parfitt-Williams",
           26
          ],
          [
           "Jamal Lewis",
           25
          ],
          [
           "Trevoh Chalobah",
           23
          ],
          [
           "Jordan Williams",
           23
          ],
          [
           "Tom Dele-Bashiru",
           23
          ],
          [
           "Japhet Tanganga",
           24
          ],
          [
           "Dan Nlundulu",
           24
          ],
          [
           "Mason Mount",
           24
          ],
          [
           "Sean Longstaff",
           25
          ],
          [
           "Mason Holgate",
           26
          ],
          [
           "Alexander Isak",
           23
          ],
          [
           "Conor Chaplin",
           26
          ],
          [
           "Pervis Estupiñán",
           25
          ],
          [
           "Antonee Robinson",
           25
          ],
          [
           "Shayne Lavery",
           24
          ],
          [
           "Kalvin Phillips",
           27
          ],
          [
           "Darnell Furlong",
           27
          ],
          [
           "Keshi Anderson",
           28
          ],
          [
           "Adnan Kanuric",
           22
          ],
          [
           "Joe Powell",
           24
          ],
          [
           "Rodrigo Bentancur",
           26
          ],
          [
           "Cristian Romero",
           25
          ],
          [
           "Daichi Kamada",
           26
          ],
          [
           "Ibrahima Konaté",
           24
          ],
          [
           "Diogo Dalot",
           24
          ],
          [
           "Kazaiah Sterling",
           24
          ],
          [
           "Rodri",
           27
          ],
          [
           "Jayson Molumby",
           23
          ],
          [
           "Mark Travers",
           24
          ],
          [
           "Declan Rice",
           24
          ],
          [
           "Lasse Sörensen",
           23
          ],
          [
           "Sven Botman",
           23
          ],
          [
           "Gabriel Jesus",
           26
          ],
          [
           "Elliot Embleton",
           24
          ],
          [
           "Patson Daka",
           24
          ],
          [
           "Pontus Dahlberg",
           24
          ],
          [
           "Dan Agyei",
           25
          ],
          [
           "Niall Ennis",
           23
          ],
          [
           "Ferdi Kadıoğlu",
           23
          ],
          [
           "Sasa Kalajdzic",
           25
          ],
          [
           "Arijanet Muric",
           24
          ],
          [
           "Francisco Sierralta",
           26
          ],
          [
           "Nathaniel Phillips",
           26
          ],
          [
           "Carlos Soler",
           26
          ],
          [
           "Paulinho",
           25
          ],
          [
           "Junior Firpo",
           26
          ],
          [
           "Ibrahim Sangaré",
           25
          ],
          [
           "Charlie Goode",
           27
          ],
          [
           "Anel Ahmedhodzic",
           24
          ],
          [
           "Richarlison",
           26
          ],
          [
           "Lyanco",
           26
          ],
          [
           "Igor",
           25
          ],
          [
           "Joel Mumbongo",
           24
          ],
          [
           "Wesley Moraes",
           26
          ],
          [
           "Steven Benda",
           24
          ],
          [
           "Mike Trésor",
           23
          ],
          [
           "Tyrese Campbell",
           23
          ],
          [
           "Joe Hardy",
           24
          ],
          [
           "Przemyslaw Placheta",
           25
          ],
          [
           "Axel Disasi",
           25
          ],
          [
           "Darko Churlinov",
           22
          ],
          [
           "Joe Riley",
           26
          ],
          [
           "Daiki Hashioka",
           24
          ],
          [
           "Samuel Shashoua",
           24
          ],
          [
           "Sam Field",
           25
          ],
          [
           "Leon Bailey",
           25
          ],
          [
           "Yoane Wissa",
           26
          ],
          [
           "Jacob Lungi Sörensen",
           25
          ],
          [
           "Marcus Browne",
           25
          ],
          [
           "Chiedozie Ogbene",
           26
          ],
          [
           "Marc Guéhi",
           22
          ],
          [
           "Ian Poveda",
           23
          ],
          [
           "Emile Smith Rowe",
           22
          ],
          [
           "George McEachran",
           22
          ],
          [
           "Callum Hudson-Odoi",
           22
          ],
          [
           "Marcel Lavinier",
           22
          ],
          [
           "Kane Wilson",
           23
          ],
          [
           "Ryan Sessegnon",
           23
          ],
          [
           "Josh Sargent",
           23
          ],
          [
           "Boubacar Kamara",
           23
          ],
          [
           "Claudio Gomes",
           22
          ],
          [
           "Moussa Diaby",
           23
          ],
          [
           "Sam Hughes",
           25
          ],
          [
           "Jimmy Dunne",
           25
          ],
          [
           "Ethan Hamilton",
           24
          ],
          [
           "Manor Solomon",
           23
          ],
          [
           "Dan Kemp",
           24
          ],
          [
           "Jamie Cumming",
           23
          ],
          [
           "Richard Nartey",
           24
          ],
          [
           "Sandro Tonali",
           23
          ],
          [
           "Josh Benson",
           23
          ],
          [
           "Harvey Barnes",
           25
          ],
          [
           "Sam Surridge",
           24
          ],
          [
           "Marcus Tavernier",
           24
          ],
          [
           "Pau Torres",
           26
          ],
          [
           "Mads Hermansen",
           22
          ],
          [
           "Jadon Sancho",
           22
          ],
          [
           "Dara O'Shea",
           24
          ],
          [
           "Edson Álvarez",
           25
          ],
          [
           "Michal Karbownik",
           22
          ],
          [
           "Gonzalo Montiel",
           26
          ],
          [
           "Robert Sánchez",
           25
          ],
          [
           "Jordan Beyer",
           22
          ],
          [
           "Marcus Forss",
           23
          ],
          [
           "Vitaliy Mykolenko",
           24
          ],
          [
           "Yukinari Sugawara",
           22
          ],
          [
           "Yan Valery",
           24
          ],
          [
           "Tom McGill",
           23
          ],
          [
           "Steven Sessegnon",
           22
          ],
          [
           "Timothy Eyoma",
           23
          ],
          [
           "Rhian Brewster",
           23
          ],
          [
           "Matt O'Riley",
           22
          ],
          [
           "Phil Foden",
           23
          ],
          [
           "Oliver Skipp",
           22
          ],
          [
           "Mads Andersen",
           25
          ],
          [
           "Ismaïla Sarr",
           25
          ],
          [
           "Yves Bissouma",
           26
          ],
          [
           "Pascal Struijk",
           23
          ],
          [
           "Max Sanders",
           24
          ],
          [
           "Adam Parkes",
           23
          ],
          [
           "Ibrahima Diallo",
           24
          ],
          [
           "Bryan Mbeumo",
           23
          ],
          [
           "James Justin",
           25
          ],
          [
           "Ezri Konsa",
           25
          ],
          [
           "Nikola Milenković",
           25
          ],
          [
           "Marshall Munetsi",
           27
          ],
          [
           "Mats Wieffer",
           23
          ],
          [
           "Bruno Jordão",
           24
          ],
          [
           "Konstantinos Mavropanos",
           25
          ],
          [
           "Joe Worrall",
           26
          ],
          [
           "Jordan Green",
           28
          ],
          [
           "Jack Harrison",
           26
          ],
          [
           "Erling Haaland",
           22
          ],
          [
           "Kristoffer Klaesson",
           22
          ],
          [
           "Conor Coventry",
           23
          ],
          [
           "Lewis Gibson",
           22
          ],
          [
           "Jean-Philippe Mateta",
           25
          ],
          [
           "Jurrien Timber",
           21
          ],
          [
           "George Hirst",
           24
          ],
          [
           "Alfie Lewis",
           23
          ],
          [
           "Nathan Patterson",
           21
          ],
          [
           "Samuel Kalu",
           25
          ],
          [
           "Josh Knight",
           25
          ],
          [
           "Matt Turner",
           29
          ],
          [
           "Matty Cash",
           25
          ],
          [
           "Akin Famewo",
           24
          ],
          [
           "Ryan Yates",
           25
          ],
          [
           "Jakub Kiwior",
           23
          ],
          [
           "Ben Brereton Díaz",
           24
          ],
          [
           "Aaron Ramsdale",
           24
          ],
          [
           "Thanawat Suengchitthawon",
           23
          ],
          [
           "Brandon Austin",
           24
          ],
          [
           "Morgan Gibbs-White",
           23
          ],
          [
           "Jørgen Strand Larsen",
           23
          ],
          [
           "Andrew Irving",
           23
          ],
          [
           "Tom Edwards",
           24
          ],
          [
           "Peter Gwargis",
           22
          ],
          [
           "Mateusz Bogusz",
           22
          ],
          [
           "Dejan Kulusevski",
           22
          ],
          [
           "Bukayo Saka",
           21
          ],
          [
           "Elijah Dixon-Bonner",
           22
          ],
          [
           "Luis Longstaff",
           22
          ],
          [
           "Tommy Doyle",
           21
          ],
          [
           "Rayhaan Tulloch",
           22
          ],
          [
           "Bali Mumba",
           21
          ],
          [
           "Curtis Jones",
           22
          ],
          [
           "Scott Twine",
           23
          ],
          [
           "Tudor Baluta",
           24
          ],
          [
           "Ethan Galbraith",
           21
          ],
          [
           "Aaron Connolly",
           23
          ],
          [
           "Maxence Lacroix",
           23
          ],
          [
           "Cody Gakpo",
           24
          ],
          [
           "Gabriel Magalhães",
           25
          ],
          [
           "Joshua Zirkzee",
           21
          ],
          [
           "Santiago Bueno",
           24
          ],
          [
           "Ethan Pinnock",
           30
          ],
          [
           "Edouard Mendy",
           31
          ],
          [
           "Michael Obafemi",
           22
          ],
          [
           "Will Smallbone",
           23
          ],
          [
           "Lucas Paquetá",
           25
          ],
          [
           "Louie Moulden",
           21
          ],
          [
           "Omar Marmoush",
           24
          ],
          [
           "Ross Stewart",
           26
          ],
          [
           "Emmanuel Dennis",
           25
          ],
          [
           "Jean-Ricner Bellegarde",
           24
          ],
          [
           "Dominik Szoboszlai",
           22
          ],
          [
           "Jorge Segura",
           26
          ],
          [
           "Adama Diakhaby",
           26
          ],
          [
           "Will Mannion",
           24
          ],
          [
           "Rekeem Harper",
           23
          ],
          [
           "Jack Taylor",
           24
          ],
          [
           "Harvey Rodgers",
           26
          ],
          [
           "Caleb Okoli",
           21
          ],
          [
           "Calvin Bassey",
           23
          ],
          [
           "Benoît Badiashile",
           22
          ],
          [
           "Marc Leonard",
           21
          ],
          [
           "Terry Taylor",
           21
          ],
          [
           "Allan Tchaptchet",
           21
          ],
          [
           "Jayden Bogle",
           22
          ],
          [
           "Nico González",
           21
          ],
          [
           "Armel Bella-Kotchap",
           21
          ],
          [
           "Lyle Foster",
           22
          ],
          [
           "Ben Johnson",
           23
          ],
          [
           "Jens Cajuste",
           23
          ],
          [
           "Joe Aribo",
           26
          ],
          [
           "Vitinho",
           23
          ],
          [
           "Nathan Collins",
           22
          ],
          [
           "Gavin Kilkenny",
           23
          ],
          [
           "Marcos Senesi",
           26
          ],
          [
           "Indiana Vassilev",
           22
          ],
          [
           "Jacob Brown",
           24
          ],
          [
           "Paris Maghoma",
           21
          ],
          [
           "Ben Cottrell",
           21
          ],
          [
           "Brennan Johnson",
           21
          ],
          [
           "Reece James",
           23
          ],
          [
           "Kevin Schade",
           21
          ],
          [
           "Regan Slater",
           23
          ],
          [
           "Lewis Cass",
           23
          ],
          [
           "Crysencio Summerville",
           21
          ],
          [
           "Kiernan Dewsbury-Hall",
           24
          ],
          [
           "Wesley Fofana",
           22
          ],
          [
           "Josko Gvardiol",
           21
          ],
          [
           "Steven Alzate",
           24
          ],
          [
           "Bernardo Rosa",
           22
          ],
          [
           "Manuel Ugarte",
           21
          ],
          [
           "Aaron Wan-Bissaka",
           25
          ],
          [
           "Ryan Gravenberch",
           21
          ],
          [
           "Eberechi Eze",
           24
          ],
          [
           "Cohen Bramall",
           27
          ],
          [
           "Luis Díaz",
           26
          ],
          [
           "Lisandro Martínez",
           25
          ],
          [
           "Chris Mepham",
           25
          ],
          [
           "Djed Spence",
           22
          ],
          [
           "Matty Longstaff",
           23
          ],
          [
           "Taylor Richards",
           22
          ],
          [
           "Ian Maatsen",
           21
          ],
          [
           "Amadou Onana",
           21
          ],
          [
           "Jérémy Doku",
           21
          ],
          [
           "Jake Walker",
           22
          ],
          [
           "Jakub Stolarczyk",
           22
          ],
          [
           "Edo Kayembe",
           25
          ],
          [
           "Vitezslav Jaros",
           21
          ],
          [
           "Pedro Neto",
           23
          ],
          [
           "Maksim Paskotsi",
           20
          ],
          [
           "Siriki Dembélé",
           26
          ],
          [
           "Hákon Rafn Valdimarsson",
           21
          ],
          [
           "Ismaila Coulibaly",
           22
          ],
          [
           "Lucas Bergström",
           21
          ],
          [
           "Daniel Muñoz",
           26
          ],
          [
           "Jorge Cuenca",
           23
          ],
          [
           "Nathan Bishop",
           24
          ],
          [
           "William Saliba",
           21
          ],
          [
           "Dion Sanderson",
           23
          ],
          [
           "Elliot Thorpe",
           22
          ],
          [
           "Nicolás Domínguez",
           24
          ],
          [
           "Dion Pereira",
           24
          ],
          [
           "Ákos Onódi",
           21
          ],
          [
           "Aji Alese",
           22
          ],
          [
           "Taylor Perry",
           21
          ],
          [
           "Riccardo Calafiori",
           21
          ],
          [
           "Rhys Williams",
           22
          ],
          [
           "Neco Williams",
           22
          ],
          [
           "Anthony Driscoll-Glennon",
           23
          ],
          [
           "Anthony Gordon",
           22
          ],
          [
           "Morgan Rogers",
           20
          ],
          [
           "Jacob Ramsey",
           21
          ],
          [
           "Tyreece John-Jules",
           22
          ],
          [
           "Arthur Okonkwo",
           21
          ],
          [
           "Jeremy Ngakia",
           22
          ],
          [
           "Albert Grønbaek",
           22
          ],
          [
           "Joe Hodge",
           20
          ],
          [
           "Dynel Simeu",
           21
          ],
          [
           "Taylor Harwood-Bellis",
           21
          ],
          [
           "Joe Gelhardt",
           21
          ],
          [
           "Tino Livramento",
           20
          ],
          [
           "Noni Madueke",
           21
          ],
          [
           "Alex Mighten",
           20
          ],
          [
           "Nathan Wood",
           21
          ],
          [
           "Daniel Barden",
           22
          ],
          [
           "Tariq Lamptey",
           22
          ],
          [
           "Emmanuel Longelo",
           22
          ],
          [
           "Ryan Giles",
           23
          ],
          [
           "Kaoru Mitoma",
           25
          ],
          [
           "Luke Thomas",
           22
          ],
          [
           "James Garner",
           22
          ],
          [
           "Louie Watson",
           21
          ],
          [
           "Flynn Downes",
           24
          ],
          [
           "Josh Bowler",
           24
          ],
          [
           "Jack Young",
           22
          ],
          [
           "Nathan Ferguson",
           22
          ],
          [
           "Alexandre Jankewitz",
           21
          ],
          [
           "Brandon Williams",
           22
          ],
          [
           "Daniel Batty",
           25
          ],
          [
           "Ellis Simms",
           22
          ],
          [
           "Jackson Smith",
           21
          ],
          [
           "Ryan Longman",
           22
          ],
          [
           "Malcolm Ebiowei",
           19
          ],
          [
           "Luis Sinisterra",
           24
          ],
          [
           "Jesper Lindstrøm",
           23
          ],
          [
           "Julián Araujo",
           21
          ],
          [
           "Matheus Cunha",
           23
          ],
          [
           "Bruno Guimarães",
           25
          ],
          [
           "Jensen Weir",
           21
          ],
          [
           "Jaime Alvarado",
           23
          ],
          [
           "Maximilian Kilman",
           25
          ],
          [
           "Carlos Vinícius",
           28
          ],
          [
           "Karlo Ziger",
           22
          ],
          [
           "Luke Woolfenden",
           24
          ],
          [
           "Tyrese Francois",
           22
          ],
          [
           "Jack Spong",
           21
          ],
          [
           "Armstrong Oko-Flex",
           21
          ],
          [
           "Di'Shon Bernard",
           22
          ],
          [
           "D'Mani Mellor",
           22
          ],
          [
           "Ethan Laird",
           21
          ],
          [
           "Cody Drameh",
           21
          ],
          [
           "Sam Greenwood",
           21
          ],
          [
           "Daniel Adshead",
           21
          ],
          [
           "Luke Cundle",
           21
          ],
          [
           "Haydon Roberts",
           20
          ],
          [
           "Cameron Archer",
           21
          ],
          [
           "Shandon Baptiste",
           25
          ],
          [
           "Alexis Mac Allister",
           24
          ],
          [
           "Robbie Gotts",
           23
          ],
          [
           "Jamie Shackleton",
           23
          ],
          [
           "Luke McNally",
           23
          ],
          [
           "Amad Diallo",
           20
          ],
          [
           "Mykhaylo Mudryk",
           22
          ],
          [
           "Kwasi Sibo",
           25
          ],
          [
           "Georginio Rutter",
           20
          ],
          [
           "Christian Marques",
           20
          ],
          [
           "Kristian Sekularac",
           20
          ],
          [
           "Zak Swanson",
           22
          ],
          [
           "Mikkel Damsgaard",
           22
          ],
          [
           "Sepp van den Berg",
           21
          ],
          [
           "Illan Meslier",
           23
          ],
          [
           "Alex Gilbert",
           21
          ],
          [
           "Rhys Norrington-Davies",
           24
          ],
          [
           "Cheick Doucouré",
           23
          ],
          [
           "Mohammed Kudus",
           22
          ],
          [
           "Darwin Núñez",
           24
          ],
          [
           "Anis Slimane",
           22
          ],
          [
           "Taylor Gardner-Hickman",
           21
          ],
          [
           "Miguel Azeez",
           20
          ],
          [
           "Josh Martin",
           21
          ],
          [
           "Teden Mengi",
           20
          ],
          [
           "Owen Beck",
           21
          ],
          [
           "Pedro Porro",
           23
          ],
          [
           "Alpha Diounkou",
           21
          ],
          [
           "Yasser Larouci",
           22
          ],
          [
           "Oliwier Zych",
           19
          ],
          [
           "Destiny Udogie",
           20
          ],
          [
           "Micky van de Ven",
           21
          ],
          [
           "Harrison Ashby",
           21
          ],
          [
           "Fábio Carvalho",
           20
          ],
          [
           "Jack Clarke",
           22
          ],
          [
           "Oliver Casey",
           22
          ],
          [
           "Niall Huggins",
           22
          ],
          [
           "Lewis O'Brien",
           25
          ],
          [
           "Dan Chesters",
           21
          ],
          [
           "Kyle Taylor",
           23
          ],
          [
           "Victor Kristiansen",
           20
          ],
          [
           "Bart Verbruggen",
           20
          ],
          [
           "Harvey Elliott",
           20
          ],
          [
           "Matty Daly",
           22
          ],
          [
           "James Trafford",
           20
          ],
          [
           "Thomas Dickson-Peters",
           20
          ],
          [
           "Elliot Anderson",
           20
          ],
          [
           "Odel Offiah",
           21
          ],
          [
           "Jeremy Sarmiento",
           20
          ],
          [
           "Dennis Cirkin",
           21
          ],
          [
           "Cole Palmer",
           21
          ],
          [
           "Radu Drăgușin",
           21
          ],
          [
           "Pape Matar Sarr",
           20
          ],
          [
           "Armando Broja",
           21
          ],
          [
           "Joseph Anang",
           23
          ],
          [
           "Josh Wilson-Esbrand",
           20
          ],
          [
           "Jan Paul van Hecke",
           22
          ],
          [
           "Rayan Aït-Nouri",
           22
          ],
          [
           "Chris Richards",
           22
          ],
          [
           "James Furlong",
           20
          ],
          [
           "Ed Turns",
           20
          ],
          [
           "Eiran Cashin",
           21
          ],
          [
           "Harvey White",
           21
          ],
          [
           "CJ Egan-Riley",
           20
          ],
          [
           "Louie Barry",
           19
          ],
          [
           "Charlie Patino",
           19
          ],
          [
           "Lukas Jensen",
           24
          ],
          [
           "Will Dennis",
           22
          ],
          [
           "Anthony Elanga",
           21
          ],
          [
           "James McAtee",
           20
          ],
          [
           "Antoine Semenyo",
           23
          ],
          [
           "Dwight McNeil",
           23
          ],
          [
           "Filip Jørgensen",
           21
          ],
          [
           "Jesurun Rak-Sakyi",
           20
          ],
          [
           "Myles Peart-Harris",
           20
          ],
          [
           "Lewis Bate",
           20
          ],
          [
           "Derek Agyakwa",
           21
          ],
          [
           "Joe Gauci",
           22
          ],
          [
           "Aaron Hickey",
           21
          ],
          [
           "Woyo Coulibaly",
           24
          ],
          [
           "Tiago Cukur",
           20
          ],
          [
           "Beto",
           25
          ],
          [
           "Max Haygarth",
           21
          ],
          [
           "Leif Davis",
           23
          ],
          [
           "Xavier Simons",
           20
          ],
          [
           "Matheus Nunes",
           24
          ],
          [
           "Jean-Clair Todibo",
           23
          ],
          [
           "Sebastian Soto",
           22
          ],
          [
           "Denis Franchi",
           20
          ],
          [
           "Toti",
           24
          ],
          [
           "Hannibal",
           20
          ],
          [
           "Alfie Doughty",
           23
          ],
          [
           "Luke Mbete",
           19
          ],
          [
           "Alex Robertson",
           20
          ],
          [
           "Rasmus Højlund",
           20
          ],
          [
           "Caleb Watts",
           21
          ],
          [
           "Ollie O'Neill",
           20
          ],
          [
           "Liam Delap",
           20
          ],
          [
           "James Hill",
           21
          ],
          [
           "Liam McCarron",
           22
          ],
          [
           "Luke Matheson",
           20
          ],
          [
           "Levi Colwill",
           20
          ],
          [
           "Charlie McNeill",
           19
          ],
          [
           "Chem Campbell",
           20
          ],
          [
           "Dara Costelloe",
           20
          ],
          [
           "Tyler Morton",
           20
          ],
          [
           "Sam McCallum",
           22
          ],
          [
           "Malo Gusto",
           19
          ],
          [
           "Kasey McAteer",
           21
          ],
          [
           "Radek Vítek",
           19
          ],
          [
           "Iliman Ndiaye",
           23
          ],
          [
           "Conor Bradley",
           19
          ],
          [
           "Dale Taylor",
           19
          ],
          [
           "Lucas De Bolle",
           20
          ],
          [
           "Adrion Pajaziti",
           20
          ],
          [
           "João Pedro",
           21
          ],
          [
           "Kaine Kesler-Hayden",
           21
          ],
          [
           "Lewis Dobbin",
           20
          ],
          [
           "Wilfried Gnonto",
           19
          ],
          [
           "Roméo Lavia",
           19
          ],
          [
           "Femi Seriki",
           20
          ],
          [
           "Carlos Miguel",
           24
          ],
          [
           "Keane Lewis-Potter",
           22
          ],
          [
           "Lamare Bogarde",
           19
          ],
          [
           "Ben Greenwood",
           20
          ],
          [
           "Carl Rushworth",
           21
          ],
          [
           "Aaron Ramsey",
           20
          ],
          [
           "Juan Larios",
           19
          ],
          [
           "Jayden Bennetts",
           22
          ],
          [
           "Evan Ferguson",
           18
          ],
          [
           "Enzo Fernández",
           22
          ],
          [
           "Boubacar Traoré",
           21
          ],
          [
           "Jhon Durán",
           19
          ],
          [
           "Lewis Warrington",
           20
          ],
          [
           "Bilal El Khannouss",
           18
          ],
          [
           "Cameron Plain",
           22
          ],
          [
           "Brooklyn Genesini",
           21
          ],
          [
           "Gabriel Martinelli",
           21
          ],
          [
           "Christian Saydee",
           20
          ],
          [
           "Mipo Odubeko",
           20
          ],
          [
           "Aaron Rowe",
           22
          ],
          [
           "Simon Adingra",
           21
          ],
          [
           "Ilya Zabarnyi",
           20
          ],
          [
           "Julio Enciso",
           19
          ],
          [
           "Jarrad Branthwaite",
           20
          ],
          [
           "Leo Fuhr Hjelde",
           19
          ],
          [
           "Marcelo Pitaluga",
           21
          ],
          [
           "Tyler Onyango",
           20
          ],
          [
           "Jota Silva",
           23
          ],
          [
           "Darko Gyabi",
           19
          ],
          [
           "Vini Souza",
           24
          ],
          [
           "Jaden Philogene",
           21
          ],
          [
           "Rodrigo Gomes",
           19
          ],
          [
           "Yasin Ayari",
           19
          ],
          [
           "Marcelo Flores",
           19
          ],
          [
           "Joe Whitworth",
           19
          ],
          [
           "Divin Mubama",
           18
          ],
          [
           "Antwoine Hackford",
           19
          ],
          [
           "Luke Chambers",
           19
          ],
          [
           "Dane Scarlett",
           19
          ],
          [
           "Caleb Taylor",
           20
          ],
          [
           "Morato",
           21
          ],
          [
           "Anthony Mancini",
           22
          ],
          [
           "Emmanuel Agbadou",
           25
          ],
          [
           "Jaidon Anthony",
           23
          ],
          [
           "Charlie Savage",
           19
          ],
          [
           "Moisés Caicedo",
           21
          ],
          [
           "Chadi Riad",
           20
          ],
          [
           "Kamarai Swyer",
           21
          ],
          [
           "Jacob Greaves",
           22
          ],
          [
           "Jay Stansfield",
           20
          ],
          [
           "Tim Iroegbunam",
           19
          ],
          [
           "Rico Lewis",
           18
          ],
          [
           "Kgaogelo Chauke",
           20
          ],
          [
           "Harvey Davies",
           20
          ],
          [
           "Ji-soo Kim",
           18
          ],
          [
           "Kwadwo Baah",
           20
          ],
          [
           "Evanilson",
           23
          ],
          [
           "Jake O'Brien",
           22
          ],
          [
           "Lesley Ugochukwu",
           19
          ],
          [
           "Bobby Clark",
           18
          ],
          [
           "Yerson Mosquera",
           22
          ],
          [
           "Yegor Yarmolyuk",
           19
          ],
          [
           "Enock Agyei",
           18
          ],
          [
           "Tayo Adaramola",
           20
          ],
          [
           "Andrew Moran",
           20
          ],
          [
           "Liam Gibbs",
           20
          ],
          [
           "Antonín Kinský",
           20
          ],
          [
           "Welington",
           22
          ],
          [
           "Milos Kerkez",
           19
          ],
          [
           "Tyrick Mitchell",
           23
          ],
          [
           "Dylan Williams",
           20
          ],
          [
           "Kaide Gordon",
           18
          ],
          [
           "Jack Jenkins",
           21
          ],
          [
           "João Gomes",
           22
          ],
          [
           "Rodrigo Muniz",
           22
          ],
          [
           "Igor Thiago",
           21
          ],
          [
           "Omari Hutchinson",
           20
          ],
          [
           "Caleb Chukwuemeka",
           21
          ],
          [
           "Lino Sousa",
           18
          ],
          [
           "Wilson Odobert",
           18
          ],
          [
           "Savinho",
           19
          ],
          [
           "Matheus França",
           19
          ],
          [
           "Adam Wharton",
           19
          ],
          [
           "Ramón Sosa",
           23
          ],
          [
           "Luca Koleosho",
           18
          ],
          [
           "Kamaldeen Sulemana",
           21
          ],
          [
           "Daniel Jebbison",
           19
          ],
          [
           "Harry Boyes",
           21
          ],
          [
           "Justin Devenny",
           19
          ],
          [
           "Val Adedokun",
           20
          ],
          [
           "Carlos Alcaraz",
           20
          ],
          [
           "Abdukodir Khusanov",
           19
          ],
          [
           "Nicolas Jackson",
           21
          ],
          [
           "David Datro Fofana",
           20
          ],
          [
           "Bobby Thomas",
           22
          ],
          [
           "André",
           21
          ],
          [
           "Mathys Tel",
           18
          ],
          [
           "Ryan Finnigan",
           19
          ],
          [
           "Danilo",
           22
          ],
          [
           "Alejandro Garnacho",
           18
          ],
          [
           "Jack Wells-Morrison",
           19
          ],
          [
           "Luke Harris",
           18
          ],
          [
           "Kobbie Mainoo",
           17
          ],
          [
           "Alfie Pond",
           19
          ],
          [
           "Dango Ouattara",
           21
          ],
          [
           "Michael Kayode",
           18
          ],
          [
           "Maxime Estève",
           20
          ],
          [
           "Bénie Traoré",
           20
          ],
          [
           "Jack Hinchy",
           20
          ],
          [
           "Alex Scott",
           19
          ],
          [
           "Ashley Phillips",
           17
          ],
          [
           "Kaden Rodney",
           19
          ],
          [
           "Nasser Djiga",
           20
          ],
          [
           "Issahaku Fatawu",
           19
          ],
          [
           "Lucas Bergvall",
           17
          ],
          [
           "Bradley Ibrahim",
           19
          ],
          [
           "Mason Burstow",
           20
          ],
          [
           "Ryan Trevitt",
           20
          ],
          [
           "Seán Grehan",
           19
          ],
          [
           "Josh Feeney",
           18
          ],
          [
           "Amario Cozier-Duberry",
           18
          ],
          [
           "Mateus Fernandes",
           18
          ],
          [
           "Oliver Scarles",
           18
          ],
          [
           "Archie Gray",
           17
          ],
          [
           "Leny Yoro",
           17
          ],
          [
           "Zach Abbott",
           17
          ],
          [
           "Mark O'Mahony",
           18
          ],
          [
           "Joe Taylor",
           20
          ],
          [
           "Carlos Baleba",
           19
          ],
          [
           "Facundo Buonanotte",
           18
          ],
          [
           "Matai Akinmboni",
           16
          ],
          [
           "Diego Gómez",
           20
          ],
          [
           "Julio Soler",
           18
          ],
          [
           "Yankuba Minteh",
           18
          ],
          [
           "Ryan Oné",
           16
          ],
          [
           "Enso González",
           18
          ]
         ],
         "hovertemplate": "predicted_value=%{x}<br>market_value_in_million_eur=%{y}<br>name=%{customdata[0]}<br>age=%{customdata[1]}<extra></extra>",
         "legendgroup": "",
         "marker": {
          "color": "#636efa",
          "symbol": "circle"
         },
         "mode": "markers",
         "name": "",
         "showlegend": false,
         "type": "scattergl",
         "x": [
          -0.36445221304893494,
          1.3187637329101562,
          0.37578392028808594,
          -0.3327833414077759,
          24.239154815673828,
          -0.5556943416595459,
          -0.3877793550491333,
          -0.36445221304893494,
          0.6451358795166016,
          -0.19921037554740906,
          -0.3877793550491333,
          -0.5272810459136963,
          40.508644104003906,
          5.836237907409668,
          -0.3327833414077759,
          -0.3327833414077759,
          1.5526981353759766,
          -0.5272810459136963,
          2.730534791946411,
          0.7810791730880737,
          -0.369535893201828,
          -0.8731381893157959,
          -0.43876877427101135,
          1.1683216094970703,
          0.23473721742630005,
          1.1916488409042358,
          0.28973323106765747,
          0.3441150486469269,
          0.09523553401231766,
          -0.3877793550491333,
          0.3015802204608917,
          0.3207879066467285,
          -0.4375360310077667,
          -0.3877793550491333,
          0.28973323106765747,
          0.3835027515888214,
          0.0036499500274658203,
          -0.3327833414077759,
          -0.3327833414077759,
          -0.4257788062095642,
          0.3447986841201782,
          0.0036499500274658203,
          -0.4257788062095642,
          3.1473162174224854,
          1.8870164155960083,
          -0.2634405195713043,
          1.2059955596923828,
          0.3591442108154297,
          -0.3327833414077759,
          -0.5272810459136963,
          2.9154295921325684,
          -0.23490822315216064,
          -0.3327833414077759,
          -0.3327833414077759,
          0.21991704404354095,
          1.5825995206832886,
          0.23473721742630005,
          -0.3327833414077759,
          0.2509022355079651,
          -0.46852126717567444,
          2.5608115196228027,
          0.4446686804294586,
          0.3447986841201782,
          0.07299279421567917,
          -0.02733526937663555,
          -0.01967719756066799,
          0.0036499500274658203,
          -0.10110267251729965,
          -0.3327833414077759,
          0.0036499500274658203,
          -0.3327833414077759,
          1.5864126682281494,
          1.389482021331787,
          2.5101332664489746,
          -0.3327833414077759,
          -0.02733526937663555,
          0.7810791730880737,
          0.10511203855276108,
          -0.05134604871273041,
          0.0036499500274658203,
          -0.3637685775756836,
          0.21328584849834442,
          0.2509022355079651,
          -0.05134604871273041,
          2.2817797660827637,
          1.1916488409042358,
          4.59637975692749,
          1.2059942483901978,
          18.63007354736328,
          -0.4579382836818695,
          0.34041109681129456,
          0.3447986841201782,
          40.00404357910156,
          -0.1421402245759964,
          -0.19084760546684265,
          0.8548071384429932,
          0.2793319821357727,
          1.5864126682281494,
          4.609485626220703,
          1.4814599752426147,
          22.15350914001465,
          1.8010350465774536,
          0.37578392028808594,
          0.37578392028808594,
          -0.3327833414077759,
          0.2354208379983902,
          0.017996767535805702,
          -0.46039068698883057,
          -0.1906614601612091,
          0.28973323106765747,
          -0.3327833414077759,
          0.37578392028808594,
          15.204546928405762,
          -0.05615878105163574,
          1.8870164155960083,
          0.025419460609555244,
          -0.02733526937663555,
          0.8725452423095703,
          0.29691800475120544,
          1.5554274320602417,
          0.37578392028808594,
          0.11017335206270218,
          0.0036499500274658203,
          0.9275423288345337,
          1.202123999595642,
          0.2400459200143814,
          -0.1421402245759964,
          -0.23490822315216064,
          1.901361346244812,
          -0.19084760546684265,
          -0.43876877427101135,
          0.8032035827636719,
          0.35907605290412903,
          0.4368228614330292,
          0.37578392028808594,
          0.2509022355079651,
          0.3207879066467285,
          2.9025044441223145,
          0.2509022355079651,
          2.977520704269409,
          -0.5435217618942261,
          0.07295811176300049,
          0.37578392028808594,
          -0.3327833414077759,
          -0.5305317640304565,
          2.5101332664489746,
          1.1916488409042358,
          -0.4349096715450287,
          2.246298313140869,
          0.2509022355079651,
          15.827589988708496,
          -0.43876877427101135,
          -0.3637685775756836,
          10.385563850402832,
          0.3447986841201782,
          -0.42940545082092285,
          0.1895706206560135,
          1.1606636047363281,
          0.7395625114440918,
          0.3447986841201782,
          2.191986322402954,
          0.5370998382568359,
          20.034523010253906,
          4.28031063079834,
          -0.4567640423774719,
          2.3660409450531006,
          1.1606636047363281,
          2.9641366004943848,
          5.441474437713623,
          1.631007432937622,
          2.361544370651245,
          16.49701499938965,
          0.8581995964050293,
          -0.43876877427101135,
          3.2797257900238037,
          2.9742398262023926,
          0.3901294469833374,
          0.8581995964050293,
          1.8870164155960083,
          1.8553475141525269,
          0.25874799489974976,
          16.49701499938965,
          -0.23490822315216064,
          -0.43876877427101135,
          0.21328584849834442,
          -0.19084760546684265,
          13.928229331970215,
          0.16010823845863342,
          0.0036499500274658203,
          1.5969449281692505,
          13.919669151306152,
          2.335462808609009,
          0.9212526082992554,
          0.8032035827636719,
          0.9194575548171997,
          -0.5052523612976074,
          0.37578392028808594,
          6.655994892120361,
          -0.7173265218734741,
          0.0036499500274658203,
          0.39534974098205566,
          -0.3520464599132538,
          68.4996337890625,
          1.252963662147522,
          1.3596845865249634,
          -0.3327833414077759,
          -0.39259207248687744,
          1.8636891841888428,
          0.2509022355079651,
          -0.43876877427101135,
          1.2059955596923828,
          -0.35611048340797424,
          59.91072463989258,
          -0.048370689153671265,
          -0.35677027702331543,
          2.2923130989074707,
          1.5969449281692505,
          1.8560311794281006,
          27.1245059967041,
          0.2509022355079651,
          2.5244789123535156,
          -0.08714400231838226,
          0.8940783739089966,
          0.9800379276275635,
          1.0417619943618774,
          14.981919288635254,
          1.8870164155960083,
          1.2547017335891724,
          9.878158569335938,
          1.9500691890716553,
          1.1366527080535889,
          0.8581995964050293,
          33.00503158569336,
          0.3207879066467285,
          8.968587875366211,
          -0.01967719756066799,
          -0.5100651979446411,
          42.22932434082031,
          4.917030334472656,
          5.599068641662598,
          0.08085297048091888,
          0.9501738548278809,
          -0.14202511310577393,
          0.6797537803649902,
          10.718057632446289,
          0.37701416015625,
          -0.4304545223712921,
          -0.005480934865772724,
          0.3207879066467285,
          8.816033363342285,
          -0.9871443510055542,
          1.8760329484939575,
          2.5101332664489746,
          4.686882495880127,
          26.75954246520996,
          0.2509022355079651,
          -0.4375360310077667,
          5.784039497375488,
          0.37578392028808594,
          0.2509022355079651,
          -0.5745069980621338,
          0.34478047490119934,
          1.5864126682281494,
          1.901361346244812,
          16.86103630065918,
          0.3159751892089844,
          -0.33966055512428284,
          4.091869831085205,
          -0.5515425205230713,
          2.7594363689422607,
          -0.4502563774585724,
          8.115253448486328,
          -0.3327833414077759,
          -0.6332666873931885,
          0.13609746098518372,
          1.1606636047363281,
          0.42713403701782227,
          0.8272143602371216,
          5.87310266494751,
          2.5101332664489746,
          -0.6422430276870728,
          1.1916488409042358,
          0.6700419187545776,
          2.2309412956237793,
          -0.2677363157272339,
          0.3159751892089844,
          0.3447986841201782,
          -0.4437999725341797,
          0.28973323106765747,
          4.544111728668213,
          -0.05134604871273041,
          0.3447986841201782,
          13.856546401977539,
          0.37578392028808594,
          13.84576416015625,
          0.7705477476119995,
          5.381814956665039,
          0.37578392028808594,
          0.10515595972537994,
          6.700779914855957,
          0.19109345972537994,
          -0.39913657307624817,
          12.210554122924805,
          1.8560311794281006,
          22.70720100402832,
          9.213601112365723,
          9.50071907043457,
          16.999868392944336,
          6.650884628295898,
          0.3207879066467285,
          -0.5272810459136963,
          0.37701416015625,
          0.1948590874671936,
          0.42026805877685547,
          0.07556448876857758,
          3.3471438884735107,
          21.434255599975586,
          4.635716915130615,
          1.9406988620758057,
          1.5015902519226074,
          0.372729629278183,
          15.0620698928833,
          0.28973323106765747,
          19.983795166015625,
          4.55104923248291,
          0.19109345972537994,
          -0.05615878105163574,
          8.990838050842285,
          25.189254760742188,
          11.39123821258545,
          -0.2821054756641388,
          6.614896297454834,
          16.491561889648438,
          -0.6412874460220337,
          2.0081422328948975,
          57.805965423583984,
          -0.057601578533649445,
          4.196622848510742,
          6.638782024383545,
          9.884275436401367,
          2.0890696048736572,
          0.3159751892089844,
          0.9088773727416992,
          -0.3327833414077759,
          41.31036376953125,
          0.907082200050354,
          1.9406988620758057,
          -0.4162447154521942,
          2.9806928634643555,
          0.7468680143356323,
          14.380670547485352,
          5.097390651702881,
          -0.369535893201828,
          -0.917444109916687,
          19.270980834960938,
          0.4375801980495453,
          7.197958469390869,
          1.9406988620758057,
          2.8997700214385986,
          9.881391525268555,
          15.742154121398926,
          4.228690147399902,
          10.24605941772461,
          12.51491928100586,
          79.55443572998047,
          2.9585793018341064,
          -0.3437665104866028,
          0.36164766550064087,
          5.462742328643799,
          0.995747447013855,
          -0.5017856359481812,
          0.37578392028808594,
          1.1405787467956543,
          29.584793090820312,
          10.816919326782227,
          0.21122236549854279,
          0.23473721742630005,
          -0.3877793550491333,
          0.36927881836891174,
          2.5101332664489746,
          -0.5515425205230713,
          11.177045822143555,
          1.2453312873840332,
          -0.39259207248687744,
          -0.4985775053501129,
          5.936601638793945,
          -0.4257788062095642,
          49.72882843017578,
          1.1936769485473633,
          5.45445442199707,
          0.13689588010311127,
          1.6400951147079468,
          1.0274163484573364,
          2.3322043418884277,
          0.9212526082992554,
          -0.25065621733665466,
          38.709014892578125,
          -0.39259207248687744,
          0.4752641022205353,
          0.23079241812229156,
          29.105388641357422,
          9.580199241638184,
          0.8032035827636719,
          19.552160263061523,
          4.303403377532959,
          0.31245556473731995,
          1.2286914587020874,
          40.485904693603516,
          0.21122236549854279,
          28.639039993286133,
          1.8331774473190308,
          -0.15183131396770477,
          30.871179580688477,
          4.060884475708008,
          0.07295811176300049,
          -0.04743329435586929,
          1.5256593227386475,
          30.97035026550293,
          0.19893920421600342,
          13.5010986328125,
          0.12363588809967041,
          -0.2145349234342575,
          32.76514434814453,
          3.793196678161621,
          5.45445442199707,
          0.4843386709690094,
          2.7791295051574707,
          10.389358520507812,
          13.738117218017578,
          -0.0445149764418602,
          0.3010338544845581,
          0.08699330687522888,
          -0.44678956270217896,
          5.523045539855957,
          19.89321517944336,
          6.961555004119873,
          26.91999053955078,
          6.062126636505127,
          0.3577912151813507,
          10.869157791137695,
          -0.03302737697958946,
          -0.018770692870020866,
          12.786599159240723,
          10.603937149047852,
          18.07269287109375,
          10.792590141296387,
          30.86288070678711,
          1.8890440464019775,
          2.294818639755249,
          -0.39259207248687744,
          1.2674444913864136,
          -0.6412874460220337,
          7.429047107696533,
          -0.15183131396770477,
          -0.06401260197162628,
          4.196622848510742,
          0.3577912151813507,
          3.474752426147461,
          3.1232151985168457,
          0.36927881836891174,
          4.793913841247559,
          2.157839059829712,
          0.34349560737609863,
          2.7594363689422607,
          4.635716915130615,
          0.04197289049625397,
          9.081329345703125,
          62.1297721862793,
          28.00389289855957,
          20.869672775268555,
          2.4728217124938965,
          -0.3191712498664856,
          14.239177703857422,
          8.149749755859375,
          4.179513454437256,
          5.82876443862915,
          -0.13368339836597443,
          2.0832021236419678,
          -0.06401260197162628,
          0.3777226507663727,
          0.9413653612136841,
          9.590065956115723,
          -0.028018901124596596,
          2.5619184970855713,
          15.775787353515625,
          0.3577912151813507,
          3.095391035079956,
          1.8742479085922241,
          11.12755298614502,
          0.017650460824370384,
          17.516908645629883,
          3.064405918121338,
          1.5678462982177734,
          0.34673741459846497,
          0.6249746084213257,
          6.887526512145996,
          0.418315589427948,
          -0.44678956270217896,
          1.7394078969955444,
          -0.5642626285552979,
          31.500350952148438,
          35.323753356933594,
          35.393096923828125,
          52.2438850402832,
          12.690374374389648,
          10.252840042114258,
          -0.34891414642333984,
          0.18464362621307373,
          0.0363154411315918,
          -0.4985775053501129,
          10.921274185180664,
          3.3825533390045166,
          0.17083339393138885,
          -0.06952613592147827,
          30.639545440673828,
          18.900365829467773,
          2.1147477626800537,
          4.140345573425293,
          -0.25065621733665466,
          21.215200424194336,
          54.45637893676758,
          4.484984874725342,
          0.8288192749023438,
          1.2984297275543213,
          43.3604850769043,
          -0.5172563791275024,
          2.1147477626800537,
          0.378406286239624,
          70.04774475097656,
          75.034912109375,
          2.7277677059173584,
          0.9180382490158081,
          0.04128926992416382,
          -0.05170623958110809,
          4.9546003341674805,
          19.59236717224121,
          0.14849282801151276,
          0.4011905789375305,
          0.40939152240753174,
          19.71784782409668,
          4.3446502685546875,
          0.017962103709578514,
          0.10194993019104004,
          0.9492425918579102,
          1.7353957891464233,
          3.4518959522247314,
          13.375137329101562,
          -0.057601578533649445,
          0.728550910949707,
          1.4581562280654907,
          2.8418312072753906,
          1.2984297275543213,
          12.145038604736328,
          15.358438491821289,
          2.810114622116089,
          46.186458587646484,
          2.461207628250122,
          10.989324569702148,
          16.02390480041504,
          0.418315589427948,
          15.915668487548828,
          21.273630142211914,
          1.429989218711853,
          30.193395614624023,
          2.6169140338897705,
          1.9937973022460938,
          10.930631637573242,
          25.912546157836914,
          1.0780941247940063,
          0.9413653612136841,
          5.069042682647705,
          0.40939152240753174,
          21.645727157592773,
          0.39139455556869507,
          2.2663259506225586,
          -0.03302737697958946,
          62.92209243774414,
          1.3888133764266968,
          0.4386216402053833,
          18.311681747436523,
          2.516026020050049,
          3.9173576831817627,
          0.7190412282943726,
          28.807268142700195,
          18.39105224609375,
          57.273963928222656,
          30.521711349487305,
          2.5786798000335693,
          0.5449659824371338,
          5.069042682647705,
          25.829933166503906,
          2.425466775894165,
          24.7272891998291,
          0.5228782892227173,
          16.144512176513672,
          8.580575942993164,
          0.2593976557254791,
          2.664992570877075,
          0.7464221715927124,
          6.671255588531494,
          0.5958307981491089,
          15.761751174926758,
          0.9413653612136841,
          0.5259418487548828,
          11.937292098999023,
          19.06789207458496,
          14.559438705444336,
          -0.36414313316345215,
          56.73454666137695,
          5.097937107086182,
          17.863237380981445,
          0.17083339393138885,
          1.6660529375076294,
          0.41789817810058594,
          17.058462142944336,
          26.008451461791992,
          1.1332508325576782,
          1.6078985929489136,
          40.15785598754883,
          0.5953124761581421,
          33.9554557800293,
          27.693376541137695,
          -0.5017856359481812,
          0.5731394290924072,
          0.2797342836856842,
          16.979965209960938,
          1.9406988620758057,
          4.704522132873535,
          0.709162712097168,
          16.950597763061523,
          0.24148836731910706,
          1.0274163484573364,
          25.221282958984375,
          1.2453312873840332,
          0.8158907890319824,
          18.03584098815918,
          19.928207397460938,
          11.872859954833984,
          2.6293575763702393,
          0.017650460824370384,
          7.6418561935424805,
          0.7508618831634521,
          50.60089874267578,
          3.517228364944458,
          20.16861343383789,
          19.802701950073242,
          36.215877532958984,
          9.336956024169922,
          10.50124740600586,
          6.363563537597656,
          0.4752641022205353,
          0.658484935760498,
          31.702333450317383,
          1.2117269039154053,
          38.14034652709961,
          3.7525203227996826,
          0.40939152240753174,
          1.5796998739242554,
          2.8369548320770264,
          67.42759704589844,
          1.986390233039856,
          3.2146031856536865,
          0.41471123695373535,
          6.342475891113281,
          9.336956024169922,
          17.901676177978516,
          1.360646367073059,
          1.4792470932006836,
          1.3436721563339233,
          7.419610977172852,
          70.19206237792969,
          0.8116977214813232,
          0.3822687864303589,
          0.7883706092834473,
          0.8922785520553589,
          56.2591552734375,
          33.49995422363281,
          55.73381805419922,
          3.3364713191986084,
          0.32612234354019165,
          1.0766725540161133,
          17.8010196685791,
          11.925992965698242,
          5.464926242828369,
          1.2270203828811646,
          0.4084690809249878,
          3.5924623012542725,
          5.258350372314453,
          3.2740466594696045,
          44.83343505859375,
          6.373567581176758,
          28.2554988861084,
          69.62394714355469,
          -0.3048535883426666,
          19.049570083618164,
          1.5103570222854614,
          18.569503784179688,
          28.73641586303711,
          17.335721969604492,
          20.79347038269043,
          18.483524322509766,
          43.151283264160156,
          16.98607635498047,
          1.0274163484573364,
          1.0739977359771729,
          1.155972957611084,
          16.35570526123047,
          49.39273452758789,
          3.983412504196167,
          1.0030055046081543,
          18.020885467529297,
          0.5507988929748535,
          0.9802281856536865,
          0.11467194557189941,
          0.41763049364089966,
          12.145242691040039,
          20.10030746459961,
          8.42741584777832,
          12.373128890991211,
          21.401460647583008,
          20.838300704956055,
          6.723417282104492,
          54.1982307434082,
          0.36927881836891174,
          20.45265769958496,
          62.03800582885742,
          4.339916229248047,
          0.658484935760498,
          7.822787284851074,
          6.342475891113281,
          1.360646367073059,
          22.266469955444336,
          21.383804321289062,
          0.9054672718048096,
          1.91743004322052,
          17.338233947753906,
          70.5921859741211,
          26.36595916748047,
          4.886393070220947,
          1.0779134035110474,
          0.24226230382919312,
          12.298940658569336,
          21.712804794311523,
          0.8116977214813232,
          3.2430615425109863,
          14.024728775024414,
          1.5420259237289429,
          62.19889450073242,
          15.143507957458496,
          17.392465591430664,
          50.03111267089844,
          1.3888133764266968,
          20.60472869873047,
          13.285383224487305,
          1.0272811651229858,
          45.570411682128906,
          5.069042682647705,
          0.5559155941009521,
          0.33446407318115234,
          0.9802281856536865,
          27.503952026367188,
          37.82864761352539,
          20.496965408325195,
          36.874610900878906,
          21.090625762939453,
          1.1332508325576782,
          85.15978240966797,
          1.7693161964416504,
          3.369319200515747,
          84.84162902832031,
          0.7807124853134155,
          31.367212295532227,
          46.55060958862305,
          1.5420259237289429,
          20.387493133544922,
          1.5420259237289429,
          0.3456156849861145,
          0.6238172054290771,
          10.001731872558594,
          26.30356216430664,
          2.3394763469696045,
          1.929244041442871,
          9.127565383911133,
          46.40095901489258,
          0.3200581669807434,
          12.682144165039062,
          14.118633270263672,
          1.035890817642212,
          7.493870258331299,
          50.53540802001953,
          5.80385160446167,
          9.986181259155273,
          0.42026805877685547,
          6.947054862976074,
          0.7335392236709595,
          5.106797218322754,
          4.270573616027832,
          0.5172461271286011,
          2.6724493503570557,
          18.647640228271484,
          2.597583055496216,
          0.5133539438247681,
          1.7112953662872314,
          2.3935883045196533,
          1.6113687753677368,
          42.20296859741211,
          14.480061531066895,
          2.151799440383911,
          0.6437942981719971,
          2.140908718109131,
          31.310943603515625,
          2.5786798000335693,
          45.09397506713867,
          0.7625068426132202,
          30.90538787841797,
          1.2626315355300903,
          0.5731394290924072,
          18.059293746948242,
          7.822787284851074,
          26.79068374633789,
          2.4025821685791016,
          59.398841857910156,
          0.3220517635345459,
          1.487029790878296,
          0.9492425918579102,
          23.434337615966797,
          0.6437942981719971,
          1.8926209211349487,
          0.3142828047275543,
          39.119781494140625,
          0.38928282260894775,
          37.39304733276367,
          2.5553524494171143,
          8.187387466430664,
          49.874961853027344,
          3.519545316696167,
          73.47454833984375,
          6.798238754272461,
          22.53554916381836,
          5.720564365386963,
          12.929899215698242,
          16.68440055847168,
          5.260351181030273,
          4.573942184448242,
          18.81602668762207,
          4.588323593139648,
          3.2740466594696045,
          0.6275537014007568,
          1.3172250986099243,
          1.360646367073059,
          8.158738136291504,
          3.720395088195801,
          110.13668823242188,
          20.220863342285156,
          3.323923110961914,
          30.476072311401367,
          32.45471954345703,
          16.60870361328125,
          0.5965684652328491,
          0.4250892698764801,
          11.942203521728516,
          21.274429321289062,
          26.296615600585938,
          24.25604248046875,
          21.456279754638672,
          4.543552875518799,
          1.1829415559768677,
          2.365251302719116,
          17.931264877319336,
          4.545128345489502,
          0.13012602925300598,
          18.265525817871094,
          155.1707763671875,
          3.1130459308624268,
          1.0495710372924805,
          0.9919993877410889,
          15.001035690307617,
          34.32115173339844,
          1.3436721563339233,
          0.3702053427696228,
          11.535858154296875,
          3.6474578380584717,
          1.0589500665664673,
          5.474338054656982,
          27.603759765625,
          0.4752641022205353,
          5.172304630279541,
          5.0167236328125,
          18.096242904663086,
          27.681903839111328,
          0.4752641022205353,
          2.3486101627349854,
          16.215776443481445,
          4.23250150680542,
          0.9492425918579102,
          2.5786798000335693,
          0.956689715385437,
          3.2741708755493164,
          36.50750732421875,
          73.0682373046875,
          0.849257230758667,
          0.5172461271286011,
          5.28290319442749,
          0.36927881836891174,
          1.0236684083938599,
          27.895875930786133,
          3.6255500316619873,
          2.9062979221343994,
          1.7956984043121338,
          6.600750923156738,
          22.39134979248047,
          23.351150512695312,
          35.08451843261719,
          12.141819953918457,
          3.426807165145874,
          10.259025573730469,
          25.158390045166016,
          3.7534167766571045,
          2.547694683074951,
          32.824249267578125,
          0.5025461912155151,
          12.058616638183594,
          3.1208336353302,
          13.251840591430664,
          10.109728813171387,
          29.72177505493164,
          0.658484935760498,
          1.965000033378601,
          0.3577912151813507,
          1.3126869201660156,
          1.0279648303985596,
          0.2160663902759552,
          5.842349052429199,
          13.264545440673828,
          35.108604431152344,
          1.3216692209243774,
          0.7246655225753784,
          0.4250892698764801,
          9.187981605529785,
          35.79811096191406,
          10.528672218322754,
          2.765198230743408,
          11.209003448486328,
          6.026407241821289,
          11.257081985473633,
          2.840027093887329,
          15.841236114501953,
          2.102149486541748,
          14.8330078125,
          1.4900273084640503,
          4.666806697845459,
          0.516053318977356,
          0.15328629314899445,
          25.403881072998047,
          57.222957611083984,
          12.617120742797852,
          0.8260445594787598,
          0.567923903465271,
          4.621595859527588,
          8.056285858154297,
          47.74009704589844,
          39.69172668457031,
          6.184354305267334,
          0.3702053427696228,
          16.141145706176758,
          32.944637298583984,
          35.41835403442383,
          23.002267837524414,
          -0.05401904881000519,
          42.06438446044922,
          30.58138084411621,
          4.912161827087402,
          11.035612106323242,
          2.9737753868103027,
          1.1683685779571533,
          9.625340461730957,
          17.47348976135254,
          30.93185043334961,
          0.7190412282943726,
          0.45186832547187805,
          2.0937860012054443,
          0.4104582667350769,
          37.84908676147461,
          1.3289161920547485,
          3.2652814388275146,
          1.188259482383728,
          3.7224316596984863,
          1.3458662033081055,
          9.392387390136719,
          10.001731872558594,
          0.6437942981719971,
          40.693565368652344,
          1.1096278429031372,
          0.5503324270248413,
          14.093057632446289,
          0.5457065105438232,
          0.9431003332138062,
          1.1096090078353882,
          0.6243374347686768,
          9.589879035949707,
          5.180344104766846,
          10.238945007324219,
          0.5496488809585571,
          22.137779235839844,
          6.8692474365234375,
          23.708724975585938,
          1.422139048576355,
          2.563265800476074,
          4.804940700531006,
          2.5858378410339355,
          1.1436890363693237,
          2.7343859672546387,
          5.246317386627197,
          7.62298059463501,
          29.1705265045166,
          25.082998275756836,
          1.6650627851486206,
          1.0943794250488281,
          0.6046448945999146,
          18.852941513061523,
          0.5507988929748535,
          4.015081405639648,
          3.959616184234619,
          14.192253112792969,
          10.851231575012207,
          0.969355583190918,
          3.0545217990875244,
          2.5553524494171143,
          0.899935245513916,
          4.185784816741943,
          0.992682933807373,
          14.17867660522461,
          0.4442788362503052,
          1.156662106513977,
          0.43294665217399597,
          1.4466060400009155,
          3.2622883319854736,
          17.044614791870117,
          13.083781242370605,
          7.079226970672607,
          38.43045425415039,
          40.96357345581055,
          1.0124001502990723,
          0.5446069240570068,
          22.746034622192383,
          12.427997589111328,
          0.7500264644622803,
          0.8116977214813232,
          1.1683685779571533,
          0.6523789167404175,
          1.0474101305007935,
          5.182313919067383,
          1.1096090078353882,
          7.526153564453125,
          4.839172840118408,
          4.465761184692383,
          0.6562491655349731,
          2.3351948261260986,
          1.2819433212280273,
          8.634284973144531,
          5.694591522216797,
          20.200700759887695,
          0.5736596584320068,
          3.2430615425109863,
          1.2886760234832764,
          21.277387619018555,
          14.631281852722168,
          0.33829358220100403,
          16.16661262512207,
          0.5234901905059814,
          0.6059565544128418,
          0.11467194557189941,
          19.134479522705078,
          7.989266395568848,
          20.387493133544922,
          0.4644206166267395,
          2.027460813522339,
          13.385553359985352,
          21.005878448486328,
          44.677303314208984,
          5.10991096496582,
          1.5946204662322998,
          2.049147844314575,
          2.409271240234375,
          5.444007873535156,
          1.190873384475708,
          29.940074920654297,
          0.9875801801681519,
          4.144367218017578,
          1.0735552310943604,
          17.216140747070312,
          9.16185188293457,
          1.01350998878479,
          16.472002029418945,
          5.278769493103027,
          0.6046448945999146,
          0.36927881836891174,
          4.216261386871338,
          0.856410026550293,
          0.3889714479446411,
          5.869434356689453,
          2.9793806076049805,
          24.58399200439453,
          0.6872344017028809,
          4.376330852508545,
          0.47281232476234436,
          4.191473484039307,
          0.7101432085037231,
          5.191216945648193,
          3.491532802581787,
          19.984264373779297,
          7.826390266418457,
          24.273361206054688,
          20.09508514404297,
          0.4011905789375305,
          1.2156212329864502,
          8.446643829345703,
          22.659137725830078,
          10.538204193115234,
          0.7101432085037231,
          0.7101432085037231,
          1.662002682685852,
          2.2135567665100098,
          2.2611513137817383,
          3.5859475135803223,
          4.463696002960205,
          0.3027952015399933,
          0.6048243045806885,
          23.186073303222656,
          8.060744285583496,
          6.6261067390441895,
          19.56304168701172,
          2.560579776763916,
          1.1928436756134033,
          3.1882832050323486,
          2.8539299964904785,
          0.4006116986274719,
          1.767006278038025,
          19.936193466186523,
          1.7237321138381958,
          0.6878795623779297,
          12.136798858642578,
          0.4644206166267395,
          1.7501722574234009,
          1.6426048278808594,
          34.81828308105469,
          20.431800842285156,
          0.9410785436630249,
          0.6328835487365723,
          3.9874074459075928,
          7.864838123321533,
          1.6671326160430908,
          2.1456096172332764,
          0.6849287748336792,
          8.86401653289795,
          0.6872344017028809,
          1.0399246215820312,
          3.6548752784729004,
          2.784419059753418,
          0.9410785436630249,
          2.5173537731170654,
          10.144135475158691,
          0.6210434436798096,
          1.0749913454055786,
          0.726652979850769,
          5.2845635414123535,
          4.18182373046875,
          16.176374435424805,
          1.0937342643737793,
          0.5942643880844116,
          2.5246169567108154,
          4.307754993438721,
          0.9129570722579956,
          0.43079596757888794,
          0.6530240774154663,
          18.6309814453125,
          1.3458662033081055,
          1.9455622434616089,
          5.0841169357299805,
          6.172569751739502,
          0.3707383871078491,
          1.1948699951171875,
          15.2930269241333,
          1.7742453813552856,
          0.3268040418624878,
          1.4466060400009155,
          4.017272472381592,
          7.773510456085205,
          0.45156073570251465,
          3.120788097381592,
          11.731653213500977,
          4.2813639640808105,
          7.078436851501465,
          0.3892142176628113,
          0.7942982912063599,
          0.28333842754364014,
          0.32615891098976135,
          40.3685302734375,
          0.398359477519989,
          1.0069392919540405,
          0.36927881836891174,
          5.170520782470703,
          24.512725830078125,
          15.08733081817627,
          8.543529510498047,
          2.4666759967803955,
          0.6911662817001343,
          0.9616591930389404,
          1.1948699951171875,
          4.959362506866455,
          2.848376512527466,
          5.3130011558532715,
          4.352306365966797,
          1.4021323919296265,
          3.998457431793213,
          1.0069392919540405,
          1.0069392919540405,
          0.4178163409233093,
          1.3225138187408447,
          4.887867450714111,
          0.6878795623779297,
          14.277024269104004,
          0.49028241634368896,
          4.0781941413879395,
          6.486922740936279,
          1.9836677312850952,
          10.736777305603027,
          1.2364693880081177,
          0.5942643880844116,
          5.838823318481445,
          1.2825884819030762,
          4.900638103485107,
          6.1726202964782715,
          0.656894326210022,
          0.9634772539138794,
          0.4422067403793335,
          2.409916400909424,
          20.105104446411133,
          0.6720858812332153,
          5.450640678405762,
          2.604762554168701,
          4.612561225891113,
          2.066817045211792,
          0.7834125757217407,
          1.3433728218078613,
          0.9461548328399658,
          0.4215282201766968,
          2.1852378845214844,
          3.808412790298462,
          2.5939223766326904,
          19.153217315673828,
          1.0735552310943604,
          4.009255886077881,
          0.49507737159729004,
          14.171009063720703,
          7.115545272827148,
          1.4982527494430542,
          3.114445209503174,
          0.9698793888092041,
          1.9322985410690308,
          10.494744300842285,
          14.08356761932373,
          7.043937683105469,
          6.8070244789123535,
          3.724548101425171,
          3.3876194953918457,
          19.647253036499023,
          3.342092275619507,
          0.3456156849861145,
          0.4852266013622284,
          0.4422067403793335,
          11.500967025756836,
          4.6224684715271,
          12.523475646972656,
          3.8790557384490967,
          0.32727277278900146,
          8.191329002380371,
          4.887867450714111,
          0.39474916458129883,
          24.422130584716797,
          8.818422317504883,
          0.9759539365768433,
          1.4331176280975342,
          1.4416565895080566,
          0.5234901905059814,
          3.6050922870635986,
          0.4422067403793335,
          6.452066898345947,
          3.1304845809936523,
          0.5034158229827881,
          3.3585710525512695,
          5.956646919250488,
          1.076282262802124,
          1.4550504684448242,
          1.5549018383026123,
          4.408505916595459,
          1.216678261756897,
          1.7354155778884888,
          0.33966588973999023,
          0.516211748123169,
          1.7049025297164917,
          1.3264389038085938,
          1.5239166021347046,
          1.178072452545166,
          2.544274091720581,
          1.039839744567871,
          0.8150814771652222,
          0.6059565544128418,
          0.3779296875,
          1.616317868232727,
          1.2403693199157715,
          1.225520372390747,
          1.2516032457351685,
          0.398359477519989,
          0.9010022878646851,
          0.7128620147705078,
          2.991183042526245
         ],
         "xaxis": "x",
         "y": [
          0.1,
          1.5,
          1,
          0.1,
          15,
          0.075,
          0.2,
          0.15,
          0.6,
          0.2,
          0.125,
          0.15,
          40,
          4,
          0.15,
          0.15,
          0.8,
          0.2,
          2,
          0.9,
          0.3,
          0.1,
          0.1,
          0.6,
          0.45,
          1,
          0.5,
          0.8,
          0.5,
          0.1,
          0.3,
          0.3,
          0.15,
          0.05,
          0.25,
          0.6,
          0.3,
          0.2,
          0.15,
          0.1,
          0.3,
          0.3,
          0.1,
          2.5,
          0.8,
          0.2,
          1,
          0.4,
          0.2,
          0.15,
          2,
          0.3,
          0.05,
          0.25,
          0.15,
          1.2,
          0.35,
          0.2,
          0.5,
          0.3,
          2,
          0.3,
          0.4,
          0.15,
          0.25,
          0.4,
          0.25,
          0.2,
          0.15,
          0.3,
          0.1,
          1,
          0.6,
          2.5,
          0.1,
          0.3,
          0.9,
          0.3,
          0.45,
          0.3,
          0.2,
          0.15,
          0.45,
          0.3,
          1.5,
          1,
          2.5,
          1,
          28,
          0.25,
          0.4,
          0.9,
          38,
          0.5,
          0.2,
          1.5,
          0.3,
          1.5,
          3,
          1,
          20,
          1,
          0.6,
          0.75,
          0.15,
          0.4,
          0.35,
          0.25,
          0.1,
          0.5,
          0.25,
          0.6,
          15,
          0.1,
          1,
          0.5,
          0.25,
          0.8,
          0.6,
          0.7,
          0.5,
          0.7,
          0.25,
          0.5,
          1.2,
          0.8,
          0.3,
          0.025,
          1.8,
          0.2,
          0.2,
          1,
          0.4,
          0.275,
          0.4,
          0.3,
          0.6,
          2,
          0.25,
          7,
          0.15,
          0.175,
          0.5,
          0.2,
          0.15,
          1.8,
          0.6,
          0.15,
          1,
          0.4,
          22,
          0.15,
          0.15,
          12,
          0.3,
          0.3,
          0.25,
          0.4,
          0.4,
          0.8,
          2,
          1,
          16,
          2,
          0.1,
          2,
          1.2,
          2.5,
          3,
          1.5,
          13,
          9,
          0.8,
          0.15,
          2.5,
          2.5,
          0.3,
          0.7,
          0.9,
          1.5,
          0.5,
          14,
          0.3,
          0.15,
          0.7,
          0.5,
          12,
          0.2,
          0.25,
          2,
          8,
          3.5,
          0.7,
          0.6,
          1.2,
          0.05,
          0.5,
          9,
          0.25,
          0.3,
          0.5,
          0.175,
          70,
          0.6,
          1.2,
          0.25,
          0.1,
          1.8,
          0.3,
          0.15,
          0.85,
          0.2,
          60,
          0.25,
          1,
          1.2,
          1.2,
          2,
          25,
          0.2,
          2.8,
          0.125,
          1.5,
          0.175,
          0.8,
          11,
          1.2,
          0.6,
          5,
          1.2,
          1.5,
          0.7,
          25,
          0.25,
          7,
          0.3,
          0.1,
          45,
          5,
          8,
          0.5,
          1,
          0.3,
          0.6,
          4,
          0.5,
          0.3,
          0.9,
          0.5,
          10,
          0.25,
          3,
          2.5,
          2.5,
          28,
          0.6,
          0.2,
          3,
          1,
          0.3,
          0.2,
          0.6,
          1.5,
          1.5,
          10,
          1,
          0.05,
          2,
          0.3,
          2.5,
          0.05,
          8,
          0.2,
          0.125,
          0.5,
          1.2,
          0.15,
          1,
          6,
          2,
          0.1,
          0.7,
          0.15,
          2,
          0.45,
          0.9,
          0.4,
          0.25,
          0.8,
          2,
          0.3,
          1,
          16,
          0.7,
          16,
          0.5,
          2.5,
          0.8,
          0.4,
          10,
          0.9,
          0.45,
          6,
          1.2,
          17,
          5,
          8,
          12,
          7,
          0.6,
          0.3,
          0.6,
          0.7,
          0.25,
          0.4,
          1.8,
          12,
          2,
          0.8,
          0.7,
          0.25,
          9.5,
          0.3,
          25,
          4.5,
          0.8,
          0.4,
          6,
          22,
          9,
          0.35,
          10,
          12,
          0.15,
          0.9,
          60,
          0.6,
          2.2,
          10,
          8,
          2,
          0.75,
          1.2,
          0.45,
          45,
          1.5,
          2,
          0.15,
          2.5,
          0.1,
          12,
          2.5,
          0.3,
          0.125,
          35,
          1,
          6.5,
          2,
          3.5,
          8,
          16,
          1.5,
          16,
          8,
          70,
          1.2,
          0.2,
          0.25,
          2,
          0.8,
          0.25,
          1.5,
          0.9,
          28,
          9,
          1,
          0.45,
          0.2,
          0.175,
          1.5,
          0.3,
          6,
          1,
          0.35,
          0.2,
          3.5,
          0.15,
          35,
          1.8,
          4.5,
          0.6,
          0.9,
          0.9,
          1.2,
          1,
          0.35,
          25,
          0.2,
          0.1,
          1.2,
          20,
          9,
          0.7,
          18,
          3.2,
          0.85,
          2,
          30,
          0.8,
          35,
          0.6,
          0.275,
          25,
          1.5,
          0.25,
          0.55,
          0.35,
          38,
          0.35,
          12,
          0.35,
          0.3,
          35,
          4,
          3.8,
          0.2,
          2.2,
          4.5,
          10,
          0.025,
          0.9,
          0.2,
          0.2,
          3,
          18,
          7,
          40,
          3,
          0.2,
          10,
          0.15,
          0.6,
          20,
          18,
          15,
          15,
          27,
          2.2,
          3.5,
          0.3,
          1.8,
          0.35,
          5,
          0.3,
          0.2,
          2.5,
          0.15,
          3.5,
          3,
          0.3,
          15,
          0.9,
          0.3,
          2.5,
          6,
          0.4,
          16,
          75,
          40,
          12,
          2,
          0.3,
          9,
          4,
          12,
          5,
          1,
          3,
          0.2,
          0.4,
          1,
          18,
          0.35,
          1.2,
          25,
          0.25,
          8,
          0.6,
          8,
          0.175,
          10,
          1,
          1.2,
          0.3,
          0.5,
          3.5,
          0.2,
          0.2,
          1.2,
          0.025,
          20,
          28,
          40,
          45,
          7,
          6,
          0.4,
          0.6,
          0.2,
          0.15,
          18,
          3.5,
          0.35,
          0.25,
          35,
          15,
          1.5,
          2.2,
          0.6,
          20,
          48,
          3.5,
          0.35,
          1.5,
          40,
          0.075,
          1.5,
          0.45,
          75,
          80,
          3.5,
          1.5,
          0.35,
          0.15,
          10,
          28,
          0.15,
          0.125,
          0.3,
          14,
          1.5,
          0.25,
          0.3,
          0.2,
          1,
          4,
          12,
          0.5,
          0.9,
          1.5,
          6,
          1,
          10,
          10,
          2,
          30,
          1.8,
          18,
          12,
          0.125,
          13,
          25,
          0.2,
          50,
          2.5,
          2.5,
          8,
          22,
          1.2,
          0.9,
          7,
          0.5,
          22,
          0.225,
          2,
          0.3,
          80,
          1.2,
          0.2,
          15,
          1.5,
          3,
          0.125,
          20,
          18,
          80,
          30,
          5,
          0.5,
          4.5,
          25,
          2.5,
          25,
          0.35,
          20,
          16,
          0.25,
          1.8,
          0.15,
          7,
          1.2,
          20,
          0.8,
          0.25,
          18,
          17,
          35,
          0.075,
          32,
          4,
          12,
          0.35,
          2,
          0.25,
          13,
          15,
          0.3,
          0.5,
          35,
          0.3,
          38,
          40,
          0.35,
          0.25,
          0.15,
          16,
          1.8,
          2.8,
          0.3,
          16,
          0.25,
          0.8,
          25,
          0.7,
          2,
          12,
          20,
          20,
          2,
          0.2,
          15,
          0.25,
          60,
          2.5,
          25,
          18,
          25,
          3,
          8,
          15,
          0.25,
          0.3,
          25,
          0.5,
          25,
          3.5,
          1.2,
          1.2,
          2.8,
          60,
          0.8,
          3,
          0.15,
          4.5,
          4.5,
          9,
          0.2,
          0.9,
          0.5,
          4,
          65,
          0.4,
          0.15,
          0.3,
          3.8,
          38,
          35,
          80,
          2,
          0.1,
          0.7,
          13,
          22,
          5,
          0.15,
          0.075,
          7,
          4.5,
          2,
          40,
          4,
          16,
          75,
          0.5,
          16,
          0.7,
          12,
          25,
          20,
          18,
          38,
          50,
          13,
          0.8,
          0.4,
          1,
          18,
          50,
          2.2,
          0.5,
          28,
          0.075,
          0.45,
          0.15,
          0.3,
          16,
          25,
          12,
          6,
          38,
          28,
          12,
          50,
          0.3,
          25,
          50,
          5,
          0.5,
          4.5,
          4.5,
          0.4,
          28,
          15,
          0.7,
          1,
          15,
          80,
          20,
          3,
          0.3,
          0.2,
          6,
          18,
          0.9,
          1.5,
          7,
          0.9,
          65,
          25,
          12,
          70,
          1.5,
          32,
          12,
          0.8,
          35,
          3.5,
          0.3,
          0.15,
          0.5,
          40,
          60,
          27,
          38,
          35,
          0.2,
          90,
          2.8,
          2,
          90,
          0.45,
          45,
          75,
          1.2,
          18,
          0.8,
          0.25,
          0.4,
          15,
          15,
          6,
          1.2,
          4,
          30,
          0.2,
          10,
          35,
          0.6,
          16,
          48,
          3.5,
          10,
          0.2,
          3,
          0.4,
          13,
          3,
          0.075,
          1.8,
          30,
          2.2,
          0.125,
          1.8,
          1,
          3.5,
          28,
          18,
          1.5,
          0.3,
          2,
          35,
          0.9,
          35,
          0.175,
          17,
          0.3,
          0.3,
          18,
          12,
          30,
          1.4,
          50,
          0.35,
          3.5,
          0.35,
          18,
          0.3,
          1,
          0.15,
          50,
          0.3,
          35,
          5,
          17,
          45,
          3.5,
          55,
          5,
          35,
          3,
          12,
          22,
          10,
          3.5,
          25,
          6,
          2,
          0.6,
          0.5,
          0.5,
          4,
          7,
          110,
          15,
          2.2,
          20,
          25,
          18,
          0.25,
          0.15,
          7,
          35,
          20,
          25,
          18,
          9,
          7,
          1.3,
          15,
          12,
          0.125,
          22,
          180,
          1.8,
          1.5,
          0.5,
          7,
          42,
          0.8,
          0.1,
          16,
          2.5,
          0.9,
          8,
          25,
          0.3,
          11,
          20,
          16,
          38,
          0.3,
          0.3,
          30,
          11,
          0.8,
          1.5,
          0.25,
          1.2,
          55,
          110,
          0.3,
          0.15,
          5,
          0.2,
          0.9,
          17,
          2.8,
          2.8,
          0.6,
          4,
          17,
          55,
          50,
          9,
          8,
          14,
          18,
          5,
          3.5,
          45,
          0.2,
          6,
          2.8,
          10,
          10,
          40,
          0.3,
          0.6,
          0.15,
          0.45,
          1.2,
          0.25,
          10,
          15,
          40,
          0.3,
          0.3,
          0.8,
          3.8,
          10,
          20,
          7,
          10,
          6,
          11,
          4,
          22,
          0.5,
          22,
          1,
          6,
          0.35,
          0.175,
          30,
          65,
          20,
          2.8,
          0.2,
          12,
          25,
          55,
          75,
          4,
          0.075,
          25,
          22,
          30,
          40,
          0.6,
          75,
          50,
          8,
          10,
          1.5,
          0.4,
          12,
          42,
          28,
          0.075,
          0.25,
          5,
          0.15,
          28,
          0.2,
          2,
          0.9,
          1,
          0.5,
          9,
          5,
          0.3,
          55,
          4,
          0.25,
          15,
          0.2,
          0.15,
          1.2,
          0.35,
          4.5,
          2,
          20,
          0.25,
          35,
          1.8,
          32,
          0.8,
          2,
          2.2,
          5,
          2,
          0.8,
          15,
          8,
          25,
          28,
          0.6,
          5,
          0.2,
          12,
          1,
          7,
          22,
          12,
          14,
          0.25,
          9,
          1.8,
          0.15,
          1.2,
          0.5,
          7,
          0.3,
          4,
          0.15,
          2.5,
          3,
          22,
          28,
          4,
          30,
          70,
          0.45,
          0.55,
          25,
          6,
          0.05,
          0.7,
          0.5,
          0.15,
          0.5,
          2.5,
          0.3,
          8,
          3.5,
          5,
          0.125,
          3,
          0.5,
          10,
          3,
          65,
          0.2,
          2,
          2.2,
          13,
          60,
          0.3,
          22,
          0.3,
          0.2,
          0.15,
          13,
          5,
          20,
          0.1,
          3,
          35,
          30,
          65,
          2.5,
          1.5,
          0.6,
          0.7,
          2,
          0.6,
          35,
          0.3,
          3.5,
          0.15,
          25,
          18,
          1,
          16,
          8,
          0.3,
          0.2,
          6,
          0.2,
          0.2,
          12,
          5,
          35,
          0.2,
          2.5,
          0.2,
          8,
          0.3,
          5,
          2.2,
          15,
          5,
          15,
          28,
          0.25,
          1.5,
          4,
          22,
          10,
          0.275,
          0.35,
          1.2,
          0.6,
          2.5,
          1,
          8,
          0.25,
          0.15,
          18,
          6,
          9,
          20,
          1.5,
          1,
          0.7,
          1.2,
          0.1,
          0.45,
          25,
          0.9,
          0.3,
          25,
          0.05,
          1,
          0.5,
          45,
          30,
          0.35,
          0.25,
          6,
          8,
          1.2,
          2,
          0.5,
          35,
          0.25,
          0.25,
          5,
          1,
          0.35,
          0.3,
          16,
          0.2,
          1,
          0.3,
          7,
          2.5,
          25,
          0.25,
          0.3,
          15,
          1.5,
          0.5,
          0.125,
          0.2,
          24,
          1.8,
          0.9,
          18,
          32,
          0.175,
          1,
          15,
          0.45,
          0.2,
          0.9,
          5,
          7,
          0.075,
          10,
          85,
          5,
          12,
          0.5,
          11,
          0.2,
          0.05,
          70,
          0.25,
          0.35,
          0.175,
          10,
          18,
          22,
          7,
          1.2,
          0.4,
          0.45,
          1,
          2,
          6,
          2.8,
          3,
          6,
          0.8,
          0.9,
          0.8,
          0.5,
          0.3,
          1.8,
          0.9,
          13,
          0.2,
          6,
          9,
          0.6,
          55,
          0.5,
          0.25,
          11,
          1.2,
          4,
          15,
          0.25,
          0.5,
          0.5,
          0.4,
          22,
          0.7,
          8,
          0.35,
          3,
          1,
          0.8,
          0.8,
          1.2,
          2.8,
          0.3,
          3,
          10,
          22,
          0.2,
          1.5,
          0.15,
          18,
          5,
          1,
          3,
          0.2,
          2,
          6,
          5,
          5,
          3.5,
          4,
          1,
          22,
          1,
          0.25,
          0.125,
          0.1,
          12,
          0.4,
          30,
          10,
          0.45,
          14,
          20,
          0.25,
          28,
          25,
          0.25,
          1,
          0.8,
          0.25,
          20,
          0.8,
          5,
          3.5,
          0.15,
          14,
          2,
          0.2,
          0.8,
          4,
          2,
          0.4,
          1.5,
          0.275,
          0.15,
          0.5,
          0.3,
          1.5,
          0.4,
          6,
          8,
          0.3,
          0.3,
          0.2,
          3,
          12,
          0.5,
          3,
          0.2,
          2,
          0.125,
          1.9
         ],
         "yaxis": "y"
        }
       ],
       "layout": {
        "legend": {
         "tracegroupgap": 0
        },
        "margin": {
         "t": 60
        },
        "template": {
         "data": {
          "bar": [
           {
            "error_x": {
             "color": "#2a3f5f"
            },
            "error_y": {
             "color": "#2a3f5f"
            },
            "marker": {
             "line": {
              "color": "#E5ECF6",
              "width": 0.5
             },
             "pattern": {
              "fillmode": "overlay",
              "size": 10,
              "solidity": 0.2
             }
            },
            "type": "bar"
           }
          ],
          "barpolar": [
           {
            "marker": {
             "line": {
              "color": "#E5ECF6",
              "width": 0.5
             },
             "pattern": {
              "fillmode": "overlay",
              "size": 10,
              "solidity": 0.2
             }
            },
            "type": "barpolar"
           }
          ],
          "carpet": [
           {
            "aaxis": {
             "endlinecolor": "#2a3f5f",
             "gridcolor": "white",
             "linecolor": "white",
             "minorgridcolor": "white",
             "startlinecolor": "#2a3f5f"
            },
            "baxis": {
             "endlinecolor": "#2a3f5f",
             "gridcolor": "white",
             "linecolor": "white",
             "minorgridcolor": "white",
             "startlinecolor": "#2a3f5f"
            },
            "type": "carpet"
           }
          ],
          "choropleth": [
           {
            "colorbar": {
             "outlinewidth": 0,
             "ticks": ""
            },
            "type": "choropleth"
           }
          ],
          "contour": [
           {
            "colorbar": {
             "outlinewidth": 0,
             "ticks": ""
            },
            "colorscale": [
             [
              0,
              "#0d0887"
             ],
             [
              0.1111111111111111,
              "#46039f"
             ],
             [
              0.2222222222222222,
              "#7201a8"
             ],
             [
              0.3333333333333333,
              "#9c179e"
             ],
             [
              0.4444444444444444,
              "#bd3786"
             ],
             [
              0.5555555555555556,
              "#d8576b"
             ],
             [
              0.6666666666666666,
              "#ed7953"
             ],
             [
              0.7777777777777778,
              "#fb9f3a"
             ],
             [
              0.8888888888888888,
              "#fdca26"
             ],
             [
              1,
              "#f0f921"
             ]
            ],
            "type": "contour"
           }
          ],
          "contourcarpet": [
           {
            "colorbar": {
             "outlinewidth": 0,
             "ticks": ""
            },
            "type": "contourcarpet"
           }
          ],
          "heatmap": [
           {
            "colorbar": {
             "outlinewidth": 0,
             "ticks": ""
            },
            "colorscale": [
             [
              0,
              "#0d0887"
             ],
             [
              0.1111111111111111,
              "#46039f"
             ],
             [
              0.2222222222222222,
              "#7201a8"
             ],
             [
              0.3333333333333333,
              "#9c179e"
             ],
             [
              0.4444444444444444,
              "#bd3786"
             ],
             [
              0.5555555555555556,
              "#d8576b"
             ],
             [
              0.6666666666666666,
              "#ed7953"
             ],
             [
              0.7777777777777778,
              "#fb9f3a"
             ],
             [
              0.8888888888888888,
              "#fdca26"
             ],
             [
              1,
              "#f0f921"
             ]
            ],
            "type": "heatmap"
           }
          ],
          "heatmapgl": [
           {
            "colorbar": {
             "outlinewidth": 0,
             "ticks": ""
            },
            "colorscale": [
             [
              0,
              "#0d0887"
             ],
             [
              0.1111111111111111,
              "#46039f"
             ],
             [
              0.2222222222222222,
              "#7201a8"
             ],
             [
              0.3333333333333333,
              "#9c179e"
             ],
             [
              0.4444444444444444,
              "#bd3786"
             ],
             [
              0.5555555555555556,
              "#d8576b"
             ],
             [
              0.6666666666666666,
              "#ed7953"
             ],
             [
              0.7777777777777778,
              "#fb9f3a"
             ],
             [
              0.8888888888888888,
              "#fdca26"
             ],
             [
              1,
              "#f0f921"
             ]
            ],
            "type": "heatmapgl"
           }
          ],
          "histogram": [
           {
            "marker": {
             "pattern": {
              "fillmode": "overlay",
              "size": 10,
              "solidity": 0.2
             }
            },
            "type": "histogram"
           }
          ],
          "histogram2d": [
           {
            "colorbar": {
             "outlinewidth": 0,
             "ticks": ""
            },
            "colorscale": [
             [
              0,
              "#0d0887"
             ],
             [
              0.1111111111111111,
              "#46039f"
             ],
             [
              0.2222222222222222,
              "#7201a8"
             ],
             [
              0.3333333333333333,
              "#9c179e"
             ],
             [
              0.4444444444444444,
              "#bd3786"
             ],
             [
              0.5555555555555556,
              "#d8576b"
             ],
             [
              0.6666666666666666,
              "#ed7953"
             ],
             [
              0.7777777777777778,
              "#fb9f3a"
             ],
             [
              0.8888888888888888,
              "#fdca26"
             ],
             [
              1,
              "#f0f921"
             ]
            ],
            "type": "histogram2d"
           }
          ],
          "histogram2dcontour": [
           {
            "colorbar": {
             "outlinewidth": 0,
             "ticks": ""
            },
            "colorscale": [
             [
              0,
              "#0d0887"
             ],
             [
              0.1111111111111111,
              "#46039f"
             ],
             [
              0.2222222222222222,
              "#7201a8"
             ],
             [
              0.3333333333333333,
              "#9c179e"
             ],
             [
              0.4444444444444444,
              "#bd3786"
             ],
             [
              0.5555555555555556,
              "#d8576b"
             ],
             [
              0.6666666666666666,
              "#ed7953"
             ],
             [
              0.7777777777777778,
              "#fb9f3a"
             ],
             [
              0.8888888888888888,
              "#fdca26"
             ],
             [
              1,
              "#f0f921"
             ]
            ],
            "type": "histogram2dcontour"
           }
          ],
          "mesh3d": [
           {
            "colorbar": {
             "outlinewidth": 0,
             "ticks": ""
            },
            "type": "mesh3d"
           }
          ],
          "parcoords": [
           {
            "line": {
             "colorbar": {
              "outlinewidth": 0,
              "ticks": ""
             }
            },
            "type": "parcoords"
           }
          ],
          "pie": [
           {
            "automargin": true,
            "type": "pie"
           }
          ],
          "scatter": [
           {
            "fillpattern": {
             "fillmode": "overlay",
             "size": 10,
             "solidity": 0.2
            },
            "type": "scatter"
           }
          ],
          "scatter3d": [
           {
            "line": {
             "colorbar": {
              "outlinewidth": 0,
              "ticks": ""
             }
            },
            "marker": {
             "colorbar": {
              "outlinewidth": 0,
              "ticks": ""
             }
            },
            "type": "scatter3d"
           }
          ],
          "scattercarpet": [
           {
            "marker": {
             "colorbar": {
              "outlinewidth": 0,
              "ticks": ""
             }
            },
            "type": "scattercarpet"
           }
          ],
          "scattergeo": [
           {
            "marker": {
             "colorbar": {
              "outlinewidth": 0,
              "ticks": ""
             }
            },
            "type": "scattergeo"
           }
          ],
          "scattergl": [
           {
            "marker": {
             "colorbar": {
              "outlinewidth": 0,
              "ticks": ""
             }
            },
            "type": "scattergl"
           }
          ],
          "scattermapbox": [
           {
            "marker": {
             "colorbar": {
              "outlinewidth": 0,
              "ticks": ""
             }
            },
            "type": "scattermapbox"
           }
          ],
          "scatterpolar": [
           {
            "marker": {
             "colorbar": {
              "outlinewidth": 0,
              "ticks": ""
             }
            },
            "type": "scatterpolar"
           }
          ],
          "scatterpolargl": [
           {
            "marker": {
             "colorbar": {
              "outlinewidth": 0,
              "ticks": ""
             }
            },
            "type": "scatterpolargl"
           }
          ],
          "scatterternary": [
           {
            "marker": {
             "colorbar": {
              "outlinewidth": 0,
              "ticks": ""
             }
            },
            "type": "scatterternary"
           }
          ],
          "surface": [
           {
            "colorbar": {
             "outlinewidth": 0,
             "ticks": ""
            },
            "colorscale": [
             [
              0,
              "#0d0887"
             ],
             [
              0.1111111111111111,
              "#46039f"
             ],
             [
              0.2222222222222222,
              "#7201a8"
             ],
             [
              0.3333333333333333,
              "#9c179e"
             ],
             [
              0.4444444444444444,
              "#bd3786"
             ],
             [
              0.5555555555555556,
              "#d8576b"
             ],
             [
              0.6666666666666666,
              "#ed7953"
             ],
             [
              0.7777777777777778,
              "#fb9f3a"
             ],
             [
              0.8888888888888888,
              "#fdca26"
             ],
             [
              1,
              "#f0f921"
             ]
            ],
            "type": "surface"
           }
          ],
          "table": [
           {
            "cells": {
             "fill": {
              "color": "#EBF0F8"
             },
             "line": {
              "color": "white"
             }
            },
            "header": {
             "fill": {
              "color": "#C8D4E3"
             },
             "line": {
              "color": "white"
             }
            },
            "type": "table"
           }
          ]
         },
         "layout": {
          "annotationdefaults": {
           "arrowcolor": "#2a3f5f",
           "arrowhead": 0,
           "arrowwidth": 1
          },
          "autotypenumbers": "strict",
          "coloraxis": {
           "colorbar": {
            "outlinewidth": 0,
            "ticks": ""
           }
          },
          "colorscale": {
           "diverging": [
            [
             0,
             "#8e0152"
            ],
            [
             0.1,
             "#c51b7d"
            ],
            [
             0.2,
             "#de77ae"
            ],
            [
             0.3,
             "#f1b6da"
            ],
            [
             0.4,
             "#fde0ef"
            ],
            [
             0.5,
             "#f7f7f7"
            ],
            [
             0.6,
             "#e6f5d0"
            ],
            [
             0.7,
             "#b8e186"
            ],
            [
             0.8,
             "#7fbc41"
            ],
            [
             0.9,
             "#4d9221"
            ],
            [
             1,
             "#276419"
            ]
           ],
           "sequential": [
            [
             0,
             "#0d0887"
            ],
            [
             0.1111111111111111,
             "#46039f"
            ],
            [
             0.2222222222222222,
             "#7201a8"
            ],
            [
             0.3333333333333333,
             "#9c179e"
            ],
            [
             0.4444444444444444,
             "#bd3786"
            ],
            [
             0.5555555555555556,
             "#d8576b"
            ],
            [
             0.6666666666666666,
             "#ed7953"
            ],
            [
             0.7777777777777778,
             "#fb9f3a"
            ],
            [
             0.8888888888888888,
             "#fdca26"
            ],
            [
             1,
             "#f0f921"
            ]
           ],
           "sequentialminus": [
            [
             0,
             "#0d0887"
            ],
            [
             0.1111111111111111,
             "#46039f"
            ],
            [
             0.2222222222222222,
             "#7201a8"
            ],
            [
             0.3333333333333333,
             "#9c179e"
            ],
            [
             0.4444444444444444,
             "#bd3786"
            ],
            [
             0.5555555555555556,
             "#d8576b"
            ],
            [
             0.6666666666666666,
             "#ed7953"
            ],
            [
             0.7777777777777778,
             "#fb9f3a"
            ],
            [
             0.8888888888888888,
             "#fdca26"
            ],
            [
             1,
             "#f0f921"
            ]
           ]
          },
          "colorway": [
           "#636efa",
           "#EF553B",
           "#00cc96",
           "#ab63fa",
           "#FFA15A",
           "#19d3f3",
           "#FF6692",
           "#B6E880",
           "#FF97FF",
           "#FECB52"
          ],
          "font": {
           "color": "#2a3f5f"
          },
          "geo": {
           "bgcolor": "white",
           "lakecolor": "white",
           "landcolor": "#E5ECF6",
           "showlakes": true,
           "showland": true,
           "subunitcolor": "white"
          },
          "hoverlabel": {
           "align": "left"
          },
          "hovermode": "closest",
          "mapbox": {
           "style": "light"
          },
          "paper_bgcolor": "white",
          "plot_bgcolor": "#E5ECF6",
          "polar": {
           "angularaxis": {
            "gridcolor": "white",
            "linecolor": "white",
            "ticks": ""
           },
           "bgcolor": "#E5ECF6",
           "radialaxis": {
            "gridcolor": "white",
            "linecolor": "white",
            "ticks": ""
           }
          },
          "scene": {
           "xaxis": {
            "backgroundcolor": "#E5ECF6",
            "gridcolor": "white",
            "gridwidth": 2,
            "linecolor": "white",
            "showbackground": true,
            "ticks": "",
            "zerolinecolor": "white"
           },
           "yaxis": {
            "backgroundcolor": "#E5ECF6",
            "gridcolor": "white",
            "gridwidth": 2,
            "linecolor": "white",
            "showbackground": true,
            "ticks": "",
            "zerolinecolor": "white"
           },
           "zaxis": {
            "backgroundcolor": "#E5ECF6",
            "gridcolor": "white",
            "gridwidth": 2,
            "linecolor": "white",
            "showbackground": true,
            "ticks": "",
            "zerolinecolor": "white"
           }
          },
          "shapedefaults": {
           "line": {
            "color": "#2a3f5f"
           }
          },
          "ternary": {
           "aaxis": {
            "gridcolor": "white",
            "linecolor": "white",
            "ticks": ""
           },
           "baxis": {
            "gridcolor": "white",
            "linecolor": "white",
            "ticks": ""
           },
           "bgcolor": "#E5ECF6",
           "caxis": {
            "gridcolor": "white",
            "linecolor": "white",
            "ticks": ""
           }
          },
          "title": {
           "x": 0.05
          },
          "xaxis": {
           "automargin": true,
           "gridcolor": "white",
           "linecolor": "white",
           "ticks": "",
           "title": {
            "standoff": 15
           },
           "zerolinecolor": "white",
           "zerolinewidth": 2
          },
          "yaxis": {
           "automargin": true,
           "gridcolor": "white",
           "linecolor": "white",
           "ticks": "",
           "title": {
            "standoff": 15
           },
           "zerolinecolor": "white",
           "zerolinewidth": 2
          }
         }
        },
        "xaxis": {
         "anchor": "y",
         "domain": [
          0,
          1
         ],
         "title": {
          "text": "predicted_value"
         }
        },
        "yaxis": {
         "anchor": "x",
         "domain": [
          0,
          1
         ],
         "title": {
          "text": "market_value_in_million_eur"
         }
        }
       }
      }
     },
     "metadata": {},
     "output_type": "display_data"
    },
    {
     "data": {
      "image/png": "[encoded data removed]",
      "text/plain": [
       "<Figure size 800x950 with 2 Axes>"
      ]
     },
     "metadata": {},
     "output_type": "display_data"
    }
   ],
   "source": [
    "forecast_df, regressor, y_test = predict_future_values(    pdf_train, \n",
    "    pdf_test, [2023, 2024, 2025, 2026, 2027, 2028], features)"
   ]
  },
  {
   "cell_type": "code",
   "execution_count": 9,
   "id": "6e2a600c",
   "metadata": {},
   "outputs": [],
   "source": [
    "# Merge with actual market values for evaluation\n",
    "\n",
    "merged = forecast_df.merge(pdf_test[[\"player_id\", \"name\"]], on=[\"player_id\"], how=\"left\")\n",
    "end = time.time()\n",
    "diff = end - start"
   ]
  },
  {
   "cell_type": "code",
   "execution_count": 10,
   "id": "073662f5",
   "metadata": {},
   "outputs": [
    {
     "data": {
      "application/vnd.plotly.v1+json": {
       "config": {
        "plotlyServerURL": "https://plot.ly"
       },
       "data": [
        {
         "customdata": [
          [
           22
          ],
          [
           23
          ],
          [
           24
          ],
          [
           25
          ],
          [
           27
          ],
          [
           27
          ],
          [
           28
          ],
          [
           30
          ],
          [
           30
          ],
          [
           31
          ],
          [
           32
          ],
          [
           33
          ],
          [
           34
          ],
          [
           35
          ]
         ],
         "hovertemplate": "name=Mohamed Salah<br>year=%{x}<br>predicted_value=%{y}<br>age=%{customdata[0]}<extra></extra>",
         "legendgroup": "Mohamed Salah",
         "line": {
          "color": "#636efa",
          "dash": "solid"
         },
         "marker": {
          "symbol": "circle"
         },
         "mode": "lines",
         "name": "Mohamed Salah",
         "orientation": "v",
         "showlegend": true,
         "type": "scatter",
         "x": [
          2015,
          2016,
          2017,
          2018,
          2019,
          2020,
          2021,
          2022,
          2023,
          2024,
          2025,
          2026,
          2027,
          2028
         ],
         "xaxis": "x",
         "y": [
          10,
          20,
          30,
          80,
          150,
          120,
          110,
          90,
          79.55443572998047,
          65.51798248291016,
          56.91727828979492,
          45.70290756225586,
          42.77606964111328,
          41.41127395629883
         ],
         "yaxis": "y"
        },
        {
         "customdata": [
          [
           19
          ],
          [
           20
          ],
          [
           21
          ],
          [
           22
          ],
          [
           23
          ],
          [
           24
          ],
          [
           25
          ],
          [
           26
          ],
          [
           27
          ],
          [
           28
          ],
          [
           29
          ],
          [
           30
          ],
          [
           31
          ]
         ],
         "hovertemplate": "name=Wilfred Ndidi<br>year=%{x}<br>predicted_value=%{y}<br>age=%{customdata[0]}<extra></extra>",
         "legendgroup": "Wilfred Ndidi",
         "line": {
          "color": "#EF553B",
          "dash": "solid"
         },
         "marker": {
          "symbol": "circle"
         },
         "mode": "lines",
         "name": "Wilfred Ndidi",
         "orientation": "v",
         "showlegend": true,
         "type": "scatter",
         "x": [
          2016,
          2017,
          2018,
          2019,
          2020,
          2021,
          2022,
          2023,
          2024,
          2025,
          2026,
          2027,
          2028
         ],
         "xaxis": "x",
         "y": [
          1,
          14,
          18,
          35,
          36,
          50,
          60,
          56.73454666137695,
          45.59413528442383,
          40.675777435302734,
          37.13590621948242,
          28.642478942871094,
          21.603294372558594
         ],
         "yaxis": "y"
        },
        {
         "customdata": [
          [
           18
          ],
          [
           20
          ],
          [
           21
          ],
          [
           22
          ],
          [
           23
          ],
          [
           24
          ],
          [
           25
          ],
          [
           26
          ],
          [
           27
          ],
          [
           28
          ],
          [
           29
          ]
         ],
         "hovertemplate": "name=Declan Rice<br>year=%{x}<br>predicted_value=%{y}<br>age=%{customdata[0]}<extra></extra>",
         "legendgroup": "Declan Rice",
         "line": {
          "color": "#00cc96",
          "dash": "solid"
         },
         "marker": {
          "symbol": "circle"
         },
         "mode": "lines",
         "name": "Declan Rice",
         "orientation": "v",
         "showlegend": true,
         "type": "scatter",
         "x": [
          2018,
          2019,
          2020,
          2021,
          2022,
          2023,
          2024,
          2025,
          2026,
          2027,
          2028
         ],
         "xaxis": "x",
         "y": [
          2,
          35,
          49.5,
          60,
          80,
          84.84162902832031,
          78.4435806274414,
          70.02715301513672,
          64.85588836669922,
          66.27017974853516,
          61.66305160522461
         ],
         "yaxis": "y"
        },
        {
         "customdata": [
          [
           17
          ],
          [
           18
          ],
          [
           18
          ],
          [
           19
          ],
          [
           20
          ],
          [
           21
          ],
          [
           22
          ],
          [
           23
          ],
          [
           24
          ],
          [
           25
          ],
          [
           26
          ],
          [
           27
          ]
         ],
         "hovertemplate": "name=Erling Haaland<br>year=%{x}<br>predicted_value=%{y}<br>age=%{customdata[0]}<extra></extra>",
         "legendgroup": "Erling Haaland",
         "line": {
          "color": "#ab63fa",
          "dash": "solid"
         },
         "marker": {
          "symbol": "circle"
         },
         "mode": "lines",
         "name": "Erling Haaland",
         "orientation": "v",
         "showlegend": true,
         "type": "scatter",
         "x": [
          2017,
          2018,
          2019,
          2020,
          2021,
          2022,
          2023,
          2024,
          2025,
          2026,
          2027,
          2028
         ],
         "xaxis": "x",
         "y": [
          0.3,
          2,
          5,
          60,
          110,
          150,
          155.1707763671875,
          140.70941162109375,
          138.6188507080078,
          129.58511352539062,
          127.72137451171875,
          121.30912017822266
         ],
         "yaxis": "y"
        },
        {
         "customdata": [
          [
           17
          ],
          [
           17
          ],
          [
           18
          ],
          [
           20
          ],
          [
           21
          ],
          [
           22
          ],
          [
           23
          ],
          [
           24
          ],
          [
           25
          ]
         ],
         "hovertemplate": "name=Harvey Elliott<br>year=%{x}<br>predicted_value=%{y}<br>age=%{customdata[0]}<extra></extra>",
         "legendgroup": "Harvey Elliott",
         "line": {
          "color": "#FFA15A",
          "dash": "solid"
         },
         "marker": {
          "symbol": "circle"
         },
         "mode": "lines",
         "name": "Harvey Elliott",
         "orientation": "v",
         "showlegend": true,
         "type": "scatter",
         "x": [
          2020,
          2021,
          2022,
          2023,
          2024,
          2025,
          2026,
          2027,
          2028
         ],
         "xaxis": "x",
         "y": [
          3.6,
          15,
          22,
          24.58399200439453,
          26.793704986572266,
          26.644821166992188,
          26.11045265197754,
          26.11045265197754,
          26.11045265197754
         ],
         "yaxis": "y"
        },
        {
         "customdata": [
          [
           20
          ],
          [
           21
          ],
          [
           22
          ],
          [
           23
          ],
          [
           24
          ],
          [
           25
          ],
          [
           26
          ]
         ],
         "hovertemplate": "name=Cole Palmer<br>year=%{x}<br>predicted_value=%{y}<br>age=%{customdata[0]}<extra></extra>",
         "legendgroup": "Cole Palmer",
         "line": {
          "color": "#19d3f3",
          "dash": "solid"
         },
         "marker": {
          "symbol": "circle"
         },
         "mode": "lines",
         "name": "Cole Palmer",
         "orientation": "v",
         "showlegend": true,
         "type": "scatter",
         "x": [
          2022,
          2023,
          2024,
          2025,
          2026,
          2027,
          2028
         ],
         "xaxis": "x",
         "y": [
          6,
          19.984264373779297,
          31.88009262084961,
          42.51523208618164,
          56.880741119384766,
          65.0838394165039,
          79.04291534423828
         ],
         "yaxis": "y"
        },
        {
         "customdata": [
          [
           17
          ],
          [
           18
          ],
          [
           19
          ],
          [
           20
          ],
          [
           21
          ],
          [
           22
          ]
         ],
         "hovertemplate": "name=Ashley Phillips<br>year=%{x}<br>predicted_value=%{y}<br>age=%{customdata[0]}<extra></extra>",
         "legendgroup": "Ashley Phillips",
         "line": {
          "color": "#FF6692",
          "dash": "solid"
         },
         "marker": {
          "symbol": "circle"
         },
         "mode": "lines",
         "name": "Ashley Phillips",
         "orientation": "v",
         "showlegend": true,
         "type": "scatter",
         "x": [
          2023,
          2024,
          2025,
          2026,
          2027,
          2028
         ],
         "xaxis": "x",
         "y": [
          5.956646919250488,
          9.125214576721191,
          13.755043983459473,
          16.259626388549805,
          19.118959426879883,
          21.530166625976562
         ],
         "yaxis": "y"
        }
       ],
       "layout": {
        "annotations": [
         {
          "showarrow": false,
          "text": "2022/2023 boundary",
          "x": 2022.5,
          "xanchor": "left",
          "xref": "x",
          "y": 1,
          "yanchor": "top",
          "yref": "y domain"
         }
        ],
        "legend": {
         "title": {
          "text": "name"
         },
         "tracegroupgap": 0
        },
        "shapes": [
         {
          "line": {
           "color": "red",
           "dash": "dash"
          },
          "type": "line",
          "x0": 2022.5,
          "x1": 2022.5,
          "xref": "x",
          "y0": 0,
          "y1": 1,
          "yref": "y domain"
         }
        ],
        "template": {
         "data": {
          "bar": [
           {
            "error_x": {
             "color": "#2a3f5f"
            },
            "error_y": {
             "color": "#2a3f5f"
            },
            "marker": {
             "line": {
              "color": "#E5ECF6",
              "width": 0.5
             },
             "pattern": {
              "fillmode": "overlay",
              "size": 10,
              "solidity": 0.2
             }
            },
            "type": "bar"
           }
          ],
          "barpolar": [
           {
            "marker": {
             "line": {
              "color": "#E5ECF6",
              "width": 0.5
             },
             "pattern": {
              "fillmode": "overlay",
              "size": 10,
              "solidity": 0.2
             }
            },
            "type": "barpolar"
           }
          ],
          "carpet": [
           {
            "aaxis": {
             "endlinecolor": "#2a3f5f",
             "gridcolor": "white",
             "linecolor": "white",
             "minorgridcolor": "white",
             "startlinecolor": "#2a3f5f"
            },
            "baxis": {
             "endlinecolor": "#2a3f5f",
             "gridcolor": "white",
             "linecolor": "white",
             "minorgridcolor": "white",
             "startlinecolor": "#2a3f5f"
            },
            "type": "carpet"
           }
          ],
          "choropleth": [
           {
            "colorbar": {
             "outlinewidth": 0,
             "ticks": ""
            },
            "type": "choropleth"
           }
          ],
          "contour": [
           {
            "colorbar": {
             "outlinewidth": 0,
             "ticks": ""
            },
            "colorscale": [
             [
              0,
              "#0d0887"
             ],
             [
              0.1111111111111111,
              "#46039f"
             ],
             [
              0.2222222222222222,
              "#7201a8"
             ],
             [
              0.3333333333333333,
              "#9c179e"
             ],
             [
              0.4444444444444444,
              "#bd3786"
             ],
             [
              0.5555555555555556,
              "#d8576b"
             ],
             [
              0.6666666666666666,
              "#ed7953"
             ],
             [
              0.7777777777777778,
              "#fb9f3a"
             ],
             [
              0.8888888888888888,
              "#fdca26"
             ],
             [
              1,
              "#f0f921"
             ]
            ],
            "type": "contour"
           }
          ],
          "contourcarpet": [
           {
            "colorbar": {
             "outlinewidth": 0,
             "ticks": ""
            },
            "type": "contourcarpet"
           }
          ],
          "heatmap": [
           {
            "colorbar": {
             "outlinewidth": 0,
             "ticks": ""
            },
            "colorscale": [
             [
              0,
              "#0d0887"
             ],
             [
              0.1111111111111111,
              "#46039f"
             ],
             [
              0.2222222222222222,
              "#7201a8"
             ],
             [
              0.3333333333333333,
              "#9c179e"
             ],
             [
              0.4444444444444444,
              "#bd3786"
             ],
             [
              0.5555555555555556,
              "#d8576b"
             ],
             [
              0.6666666666666666,
              "#ed7953"
             ],
             [
              0.7777777777777778,
              "#fb9f3a"
             ],
             [
              0.8888888888888888,
              "#fdca26"
             ],
             [
              1,
              "#f0f921"
             ]
            ],
            "type": "heatmap"
           }
          ],
          "heatmapgl": [
           {
            "colorbar": {
             "outlinewidth": 0,
             "ticks": ""
            },
            "colorscale": [
             [
              0,
              "#0d0887"
             ],
             [
              0.1111111111111111,
              "#46039f"
             ],
             [
              0.2222222222222222,
              "#7201a8"
             ],
             [
              0.3333333333333333,
              "#9c179e"
             ],
             [
              0.4444444444444444,
              "#bd3786"
             ],
             [
              0.5555555555555556,
              "#d8576b"
             ],
             [
              0.6666666666666666,
              "#ed7953"
             ],
             [
              0.7777777777777778,
              "#fb9f3a"
             ],
             [
              0.8888888888888888,
              "#fdca26"
             ],
             [
              1,
              "#f0f921"
             ]
            ],
            "type": "heatmapgl"
           }
          ],
          "histogram": [
           {
            "marker": {
             "pattern": {
              "fillmode": "overlay",
              "size": 10,
              "solidity": 0.2
             }
            },
            "type": "histogram"
           }
          ],
          "histogram2d": [
           {
            "colorbar": {
             "outlinewidth": 0,
             "ticks": ""
            },
            "colorscale": [
             [
              0,
              "#0d0887"
             ],
             [
              0.1111111111111111,
              "#46039f"
             ],
             [
              0.2222222222222222,
              "#7201a8"
             ],
             [
              0.3333333333333333,
              "#9c179e"
             ],
             [
              0.4444444444444444,
              "#bd3786"
             ],
             [
              0.5555555555555556,
              "#d8576b"
             ],
             [
              0.6666666666666666,
              "#ed7953"
             ],
             [
              0.7777777777777778,
              "#fb9f3a"
             ],
             [
              0.8888888888888888,
              "#fdca26"
             ],
             [
              1,
              "#f0f921"
             ]
            ],
            "type": "histogram2d"
           }
          ],
          "histogram2dcontour": [
           {
            "colorbar": {
             "outlinewidth": 0,
             "ticks": ""
            },
            "colorscale": [
             [
              0,
              "#0d0887"
             ],
             [
              0.1111111111111111,
              "#46039f"
             ],
             [
              0.2222222222222222,
              "#7201a8"
             ],
             [
              0.3333333333333333,
              "#9c179e"
             ],
             [
              0.4444444444444444,
              "#bd3786"
             ],
             [
              0.5555555555555556,
              "#d8576b"
             ],
             [
              0.6666666666666666,
              "#ed7953"
             ],
             [
              0.7777777777777778,
              "#fb9f3a"
             ],
             [
              0.8888888888888888,
              "#fdca26"
             ],
             [
              1,
              "#f0f921"
             ]
            ],
            "type": "histogram2dcontour"
           }
          ],
          "mesh3d": [
           {
            "colorbar": {
             "outlinewidth": 0,
             "ticks": ""
            },
            "type": "mesh3d"
           }
          ],
          "parcoords": [
           {
            "line": {
             "colorbar": {
              "outlinewidth": 0,
              "ticks": ""
             }
            },
            "type": "parcoords"
           }
          ],
          "pie": [
           {
            "automargin": true,
            "type": "pie"
           }
          ],
          "scatter": [
           {
            "fillpattern": {
             "fillmode": "overlay",
             "size": 10,
             "solidity": 0.2
            },
            "type": "scatter"
           }
          ],
          "scatter3d": [
           {
            "line": {
             "colorbar": {
              "outlinewidth": 0,
              "ticks": ""
             }
            },
            "marker": {
             "colorbar": {
              "outlinewidth": 0,
              "ticks": ""
             }
            },
            "type": "scatter3d"
           }
          ],
          "scattercarpet": [
           {
            "marker": {
             "colorbar": {
              "outlinewidth": 0,
              "ticks": ""
             }
            },
            "type": "scattercarpet"
           }
          ],
          "scattergeo": [
           {
            "marker": {
             "colorbar": {
              "outlinewidth": 0,
              "ticks": ""
             }
            },
            "type": "scattergeo"
           }
          ],
          "scattergl": [
           {
            "marker": {
             "colorbar": {
              "outlinewidth": 0,
              "ticks": ""
             }
            },
            "type": "scattergl"
           }
          ],
          "scattermapbox": [
           {
            "marker": {
             "colorbar": {
              "outlinewidth": 0,
              "ticks": ""
             }
            },
            "type": "scattermapbox"
           }
          ],
          "scatterpolar": [
           {
            "marker": {
             "colorbar": {
              "outlinewidth": 0,
              "ticks": ""
             }
            },
            "type": "scatterpolar"
           }
          ],
          "scatterpolargl": [
           {
            "marker": {
             "colorbar": {
              "outlinewidth": 0,
              "ticks": ""
             }
            },
            "type": "scatterpolargl"
           }
          ],
          "scatterternary": [
           {
            "marker": {
             "colorbar": {
              "outlinewidth": 0,
              "ticks": ""
             }
            },
            "type": "scatterternary"
           }
          ],
          "surface": [
           {
            "colorbar": {
             "outlinewidth": 0,
             "ticks": ""
            },
            "colorscale": [
             [
              0,
              "#0d0887"
             ],
             [
              0.1111111111111111,
              "#46039f"
             ],
             [
              0.2222222222222222,
              "#7201a8"
             ],
             [
              0.3333333333333333,
              "#9c179e"
             ],
             [
              0.4444444444444444,
              "#bd3786"
             ],
             [
              0.5555555555555556,
              "#d8576b"
             ],
             [
              0.6666666666666666,
              "#ed7953"
             ],
             [
              0.7777777777777778,
              "#fb9f3a"
             ],
             [
              0.8888888888888888,
              "#fdca26"
             ],
             [
              1,
              "#f0f921"
             ]
            ],
            "type": "surface"
           }
          ],
          "table": [
           {
            "cells": {
             "fill": {
              "color": "#EBF0F8"
             },
             "line": {
              "color": "white"
             }
            },
            "header": {
             "fill": {
              "color": "#C8D4E3"
             },
             "line": {
              "color": "white"
             }
            },
            "type": "table"
           }
          ]
         },
         "layout": {
          "annotationdefaults": {
           "arrowcolor": "#2a3f5f",
           "arrowhead": 0,
           "arrowwidth": 1
          },
          "autotypenumbers": "strict",
          "coloraxis": {
           "colorbar": {
            "outlinewidth": 0,
            "ticks": ""
           }
          },
          "colorscale": {
           "diverging": [
            [
             0,
             "#8e0152"
            ],
            [
             0.1,
             "#c51b7d"
            ],
            [
             0.2,
             "#de77ae"
            ],
            [
             0.3,
             "#f1b6da"
            ],
            [
             0.4,
             "#fde0ef"
            ],
            [
             0.5,
             "#f7f7f7"
            ],
            [
             0.6,
             "#e6f5d0"
            ],
            [
             0.7,
             "#b8e186"
            ],
            [
             0.8,
             "#7fbc41"
            ],
            [
             0.9,
             "#4d9221"
            ],
            [
             1,
             "#276419"
            ]
           ],
           "sequential": [
            [
             0,
             "#0d0887"
            ],
            [
             0.1111111111111111,
             "#46039f"
            ],
            [
             0.2222222222222222,
             "#7201a8"
            ],
            [
             0.3333333333333333,
             "#9c179e"
            ],
            [
             0.4444444444444444,
             "#bd3786"
            ],
            [
             0.5555555555555556,
             "#d8576b"
            ],
            [
             0.6666666666666666,
             "#ed7953"
            ],
            [
             0.7777777777777778,
             "#fb9f3a"
            ],
            [
             0.8888888888888888,
             "#fdca26"
            ],
            [
             1,
             "#f0f921"
            ]
           ],
           "sequentialminus": [
            [
             0,
             "#0d0887"
            ],
            [
             0.1111111111111111,
             "#46039f"
            ],
            [
             0.2222222222222222,
             "#7201a8"
            ],
            [
             0.3333333333333333,
             "#9c179e"
            ],
            [
             0.4444444444444444,
             "#bd3786"
            ],
            [
             0.5555555555555556,
             "#d8576b"
            ],
            [
             0.6666666666666666,
             "#ed7953"
            ],
            [
             0.7777777777777778,
             "#fb9f3a"
            ],
            [
             0.8888888888888888,
             "#fdca26"
            ],
            [
             1,
             "#f0f921"
            ]
           ]
          },
          "colorway": [
           "#636efa",
           "#EF553B",
           "#00cc96",
           "#ab63fa",
           "#FFA15A",
           "#19d3f3",
           "#FF6692",
           "#B6E880",
           "#FF97FF",
           "#FECB52"
          ],
          "font": {
           "color": "#2a3f5f"
          },
          "geo": {
           "bgcolor": "white",
           "lakecolor": "white",
           "landcolor": "#E5ECF6",
           "showlakes": true,
           "showland": true,
           "subunitcolor": "white"
          },
          "hoverlabel": {
           "align": "left"
          },
          "hovermode": "closest",
          "mapbox": {
           "style": "light"
          },
          "paper_bgcolor": "white",
          "plot_bgcolor": "#E5ECF6",
          "polar": {
           "angularaxis": {
            "gridcolor": "white",
            "linecolor": "white",
            "ticks": ""
           },
           "bgcolor": "#E5ECF6",
           "radialaxis": {
            "gridcolor": "white",
            "linecolor": "white",
            "ticks": ""
           }
          },
          "scene": {
           "xaxis": {
            "backgroundcolor": "#E5ECF6",
            "gridcolor": "white",
            "gridwidth": 2,
            "linecolor": "white",
            "showbackground": true,
            "ticks": "",
            "zerolinecolor": "white"
           },
           "yaxis": {
            "backgroundcolor": "#E5ECF6",
            "gridcolor": "white",
            "gridwidth": 2,
            "linecolor": "white",
            "showbackground": true,
            "ticks": "",
            "zerolinecolor": "white"
           },
           "zaxis": {
            "backgroundcolor": "#E5ECF6",
            "gridcolor": "white",
            "gridwidth": 2,
            "linecolor": "white",
            "showbackground": true,
            "ticks": "",
            "zerolinecolor": "white"
           }
          },
          "shapedefaults": {
           "line": {
            "color": "#2a3f5f"
           }
          },
          "ternary": {
           "aaxis": {
            "gridcolor": "white",
            "linecolor": "white",
            "ticks": ""
           },
           "baxis": {
            "gridcolor": "white",
            "linecolor": "white",
            "ticks": ""
           },
           "bgcolor": "#E5ECF6",
           "caxis": {
            "gridcolor": "white",
            "linecolor": "white",
            "ticks": ""
           }
          },
          "title": {
           "x": 0.05
          },
          "xaxis": {
           "automargin": true,
           "gridcolor": "white",
           "linecolor": "white",
           "ticks": "",
           "title": {
            "standoff": 15
           },
           "zerolinecolor": "white",
           "zerolinewidth": 2
          },
          "yaxis": {
           "automargin": true,
           "gridcolor": "white",
           "linecolor": "white",
           "ticks": "",
           "title": {
            "standoff": 15
           },
           "zerolinecolor": "white",
           "zerolinewidth": 2
          }
         }
        },
        "title": {
         "text": "Predicted Market Values for Selected Players"
        },
        "xaxis": {
         "anchor": "y",
         "domain": [
          0,
          1
         ],
         "title": {
          "text": "year"
         }
        },
        "yaxis": {
         "anchor": "x",
         "domain": [
          0,
          1
         ],
         "title": {
          "text": "predicted_value"
         }
        }
       }
      }
     },
     "metadata": {},
     "output_type": "display_data"
    }
   ],
   "source": [
    "players = [418560, 357662, 565822, 859951, 148455, 274839, 542580, 568177]\n",
    "plot_player_value_trends(pdf_train, merged_df=merged, player_ids=players)\n"
   ]
  },
  {
   "cell_type": "code",
   "execution_count": 11,
   "id": "ffe03298",
   "metadata": {},
   "outputs": [
    {
     "name": "stderr",
     "output_type": "stream",
     "text": [
      "C:\\Users\\tomkn\\AppData\\Local\\Temp\\ipykernel_24008\\2121820575.py:2: SettingWithCopyWarning:\n",
      "\n",
      "\n",
      "A value is trying to be set on a copy of a slice from a DataFrame.\n",
      "Try using .loc[row_indexer,col_indexer] = value instead\n",
      "\n",
      "See the caveats in the documentation: https://pandas.pydata.org/pandas-docs/stable/user_guide/indexing.html#returning-a-view-versus-a-copy\n",
      "\n"
     ]
    }
   ],
   "source": [
    "output_df = merged.query(\"year == 2023\")\n",
    "output_df[\"actual_value\"] = y_test.values\n"
   ]
  },
  {
   "cell_type": "code",
   "execution_count": 12,
   "id": "bd4f4640",
   "metadata": {},
   "outputs": [
    {
     "name": "stderr",
     "output_type": "stream",
     "text": [
      "C:\\Users\\tomkn\\AppData\\Local\\Temp\\ipykernel_24008\\1487859311.py:1: SettingWithCopyWarning:\n",
      "\n",
      "\n",
      "A value is trying to be set on a copy of a slice from a DataFrame.\n",
      "Try using .loc[row_indexer,col_indexer] = value instead\n",
      "\n",
      "See the caveats in the documentation: https://pandas.pydata.org/pandas-docs/stable/user_guide/indexing.html#returning-a-view-versus-a-copy\n",
      "\n",
      "C:\\Users\\tomkn\\AppData\\Local\\Temp\\ipykernel_24008\\1487859311.py:2: SettingWithCopyWarning:\n",
      "\n",
      "\n",
      "A value is trying to be set on a copy of a slice from a DataFrame.\n",
      "Try using .loc[row_indexer,col_indexer] = value instead\n",
      "\n",
      "See the caveats in the documentation: https://pandas.pydata.org/pandas-docs/stable/user_guide/indexing.html#returning-a-view-versus-a-copy\n",
      "\n",
      "C:\\Users\\tomkn\\AppData\\Local\\Temp\\ipykernel_24008\\1487859311.py:3: SettingWithCopyWarning:\n",
      "\n",
      "\n",
      "A value is trying to be set on a copy of a slice from a DataFrame.\n",
      "Try using .loc[row_indexer,col_indexer] = value instead\n",
      "\n",
      "See the caveats in the documentation: https://pandas.pydata.org/pandas-docs/stable/user_guide/indexing.html#returning-a-view-versus-a-copy\n",
      "\n",
      "C:\\Users\\tomkn\\AppData\\Local\\Temp\\ipykernel_24008\\1487859311.py:4: SettingWithCopyWarning:\n",
      "\n",
      "\n",
      "A value is trying to be set on a copy of a slice from a DataFrame.\n",
      "Try using .loc[row_indexer,col_indexer] = value instead\n",
      "\n",
      "See the caveats in the documentation: https://pandas.pydata.org/pandas-docs/stable/user_guide/indexing.html#returning-a-view-versus-a-copy\n",
      "\n",
      "C:\\Users\\tomkn\\AppData\\Local\\Temp\\ipykernel_24008\\1487859311.py:5: SettingWithCopyWarning:\n",
      "\n",
      "\n",
      "A value is trying to be set on a copy of a slice from a DataFrame.\n",
      "Try using .loc[row_indexer,col_indexer] = value instead\n",
      "\n",
      "See the caveats in the documentation: https://pandas.pydata.org/pandas-docs/stable/user_guide/indexing.html#returning-a-view-versus-a-copy\n",
      "\n",
      "C:\\Users\\tomkn\\AppData\\Local\\Temp\\ipykernel_24008\\1487859311.py:6: SettingWithCopyWarning:\n",
      "\n",
      "\n",
      "A value is trying to be set on a copy of a slice from a DataFrame.\n",
      "Try using .loc[row_indexer,col_indexer] = value instead\n",
      "\n",
      "See the caveats in the documentation: https://pandas.pydata.org/pandas-docs/stable/user_guide/indexing.html#returning-a-view-versus-a-copy\n",
      "\n",
      "C:\\Users\\tomkn\\AppData\\Local\\Temp\\ipykernel_24008\\1487859311.py:7: SettingWithCopyWarning:\n",
      "\n",
      "\n",
      "A value is trying to be set on a copy of a slice from a DataFrame.\n",
      "Try using .loc[row_indexer,col_indexer] = value instead\n",
      "\n",
      "See the caveats in the documentation: https://pandas.pydata.org/pandas-docs/stable/user_guide/indexing.html#returning-a-view-versus-a-copy\n",
      "\n"
     ]
    }
   ],
   "source": [
    "output_df[\"model_output_id\"] = uuid.uuid4()\n",
    "output_df[\"model_run_date\"] = datetime.datetime.now()\n",
    "output_df[\"time_taken_seconds\"] = diff\n",
    "output_df[\"features_used\"] = str(features)\n",
    "output_df[\"model_type\"] = \"XG_Boost\"\n",
    "output_df[\"split_year\"] = test_start\n",
    "output_df[\"version\"] = version"
   ]
  },
  {
   "cell_type": "code",
   "execution_count": 13,
   "id": "ddf63cbf",
   "metadata": {},
   "outputs": [],
   "source": [
    "save_output_tables(output_df)"
   ]
  },
  {
   "cell_type": "code",
   "execution_count": null,
   "id": "e279e35a",
   "metadata": {},
   "outputs": [],
   "source": []
  }
 ],
 "metadata": {
  "kernelspec": {
   "display_name": "Python 3",
   "language": "python",
   "name": "python3"
  },
  "language_info": {
   "codemirror_mode": {
    "name": "ipython",
    "version": 3
   },
   "file_extension": ".py",
   "mimetype": "text/x-python",
   "name": "python",
   "nbconvert_exporter": "python",
   "pygments_lexer": "ipython3",
   "version": "3.11.9"
  }
 },
 "nbformat": 4,
 "nbformat_minor": 5
}
