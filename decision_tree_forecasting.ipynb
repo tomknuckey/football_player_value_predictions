{
 "cells": [
  {
   "cell_type": "code",
   "execution_count": 58,
   "id": "1b43e964",
   "metadata": {},
   "outputs": [],
   "source": [
    "import pandas as pd\n",
    "from sklearn.metrics import root_mean_squared_error\n",
    "from typing import List, Tuple\n",
    "from xgboost import XGBRegressor \n",
    "import uuid\n",
    "import datetime \n",
    "import time\n",
    "from sklearn.model_selection import TimeSeriesSplit\n",
    "from utils.output_analysis import plot_player_value_trends, save_output_tables\n",
    "from utils.model import test_train_split, define_features, analysis_result , prepare_future_year_data\n",
    "from utils.xgboost_analysis import plot_basic_decision_tree, plot_feature_importance, create_shapley_values_plots\n",
    "import optuna\n",
    "from config import features, test_start, target, filter_out_synthetic\n",
    "import os\n"
   ]
  },
  {
   "cell_type": "code",
   "execution_count": 59,
   "id": "95766a24",
   "metadata": {},
   "outputs": [],
   "source": [
    "start = time.time()"
   ]
  },
  {
   "cell_type": "code",
   "execution_count": 60,
   "id": "577b7f61",
   "metadata": {},
   "outputs": [
    {
     "name": "stderr",
     "output_type": "stream",
     "text": [
      "C:\\Users\\tomkn\\AppData\\Local\\Temp\\ipykernel_27268\\4198838041.py:1: DtypeWarning:\n",
      "\n",
      "Columns (3,6,7,9,30,36) have mixed types. Specify dtype option on import or set low_memory=False.\n",
      "\n"
     ]
    }
   ],
   "source": [
    "pdf_mvp = pd.read_csv(\"data/intermediate/time_series_model_data_prep.csv\") \n",
    "\n",
    "if filter_out_synthetic:\n",
    "    print(pdf_mvp.shape)\n",
    "    pdf_mvp = pdf_mvp[pdf_mvp[\"synthetic_flag\"] == False]\n",
    "    print(pdf_mvp.shape)"
   ]
  },
  {
   "cell_type": "code",
   "execution_count": 61,
   "id": "762ec1b7",
   "metadata": {},
   "outputs": [],
   "source": [
    "version  = \"v0.0.7\"\n",
    "forecast_id = uuid.uuid4()"
   ]
  },
  {
   "cell_type": "code",
   "execution_count": 62,
   "id": "18256918",
   "metadata": {},
   "outputs": [],
   "source": [
    "\n",
    "features = define_features(pdf_mvp, features)\n",
    "\n",
    "pdf_train, pdf_test = test_train_split(pdf_mvp, test_start)"
   ]
  },
  {
   "cell_type": "code",
   "execution_count": 63,
   "id": "3009ce79",
   "metadata": {},
   "outputs": [],
   "source": [
    "def objective(\n",
    "    trial: optuna.Trial,\n",
    "    X: pd.DataFrame,\n",
    "    y: pd.Series,\n",
    "    tscv: TimeSeriesSplit,\n",
    ") -> float:\n",
    "    params = {\n",
    "        \"n_estimators\": trial.suggest_int(\"n_estimators\", 50, 200),  # Number of trees\n",
    "        \"learning_rate\": trial.suggest_float(\"learning_rate\", 0.01, 0.3),  # Learning rate\n",
    "        \"max_depth\": trial.suggest_int(\"max_depth\", 1, 7),  # Tree depth\n",
    "        \"subsample\": trial.suggest_float(\"subsample\", 0.5, 1.0),  # Subsampling fraction\n",
    "        \"colsample_bytree\": trial.suggest_float(\"colsample_bytree\", 0.6, 1.0),\n",
    "        \"gamma\": trial.suggest_float(\"gamma\", 0, 5),  # Min loss reduction for split\n",
    "        \"reg_alpha\": trial.suggest_float(\"reg_alpha\", 0.0, 1.0),  # L1 regularization\n",
    "        \"reg_lambda\": trial.suggest_float(\"reg_lambda\", 0.1, 10.0),  # L2 regularization\n",
    "        \"random_state\": 42,\n",
    "        \"objective\": \"reg:squarederror\",\n",
    "        \"tree_method\": \"hist\",\n",
    "        \"verbosity\": 0,\n",
    "    }\n",
    "\n",
    "    rmse_scores = []\n",
    "\n",
    "    for train_idx, val_idx in tscv.split(X):\n",
    "        X_train, X_val = X.iloc[train_idx], X.iloc[val_idx]\n",
    "        y_train, y_val = y.iloc[train_idx], y.iloc[val_idx]\n",
    "\n",
    "        model = XGBRegressor(**params)\n",
    "        model.fit(X_train, y_train)\n",
    "\n",
    "        preds = model.predict(X_val)\n",
    "        rmse = root_mean_squared_error(y_val, preds)\n",
    "        rmse_scores.append(rmse)\n",
    "\n",
    "    return sum(rmse_scores) / len(rmse_scores)  # Average RMSE across folds\n"
   ]
  },
  {
   "cell_type": "code",
   "execution_count": 64,
   "id": "d0c1c16d",
   "metadata": {},
   "outputs": [],
   "source": [
    "\n",
    "def predict_future_values(\n",
    "    train_df: pd.DataFrame,\n",
    "    test_df: pd.DataFrame,\n",
    "    prediction_years: List[int],\n",
    "    features: List[str],\n",
    "    n_trials: int = 100,\n",
    ") -> Tuple[pd.DataFrame, XGBRegressor, pd.Series]:\n",
    "    \"\"\"\n",
    "    Predicts future player values for specified years using XGBoost and Optuna hyperparameter tuning.\n",
    "\n",
    "    Args:\n",
    "        train_df: Training DataFrame with features and target.\n",
    "        test_df: Initial test DataFrame to predict from (starting year).\n",
    "        prediction_years: List of years to predict, starting with the base year.\n",
    "        features: List of feature column names to use.\n",
    "        n_trials: Number of Optuna trials for hyperparameter search.\n",
    "\n",
    "    Returns:\n",
    "        Tuple of:\n",
    "            - DataFrame with predicted values for all prediction years concatenated.\n",
    "            - Trained XGBRegressor using best Optuna params.\n",
    "            - y_test from the base year (only valid for the first year).\n",
    "    \"\"\"\n",
    "\n",
    "    X_train = train_df[features]\n",
    "    y_train = train_df[target]\n",
    "\n",
    "    tscv = TimeSeriesSplit(n_splits=3)\n",
    "\n",
    "    study = optuna.create_study(direction=\"minimize\")\n",
    "    study.optimize(lambda trial: objective(trial, X_train, y_train, tscv), n_trials=n_trials, show_progress_bar=False)\n",
    "\n",
    "    print(f\"Best trial params: {study.best_trial.params}\")\n",
    "    print(f\"Best trial RMSE: {study.best_value:.4f}\")\n",
    "\n",
    "    # Train final model on all training data with best params\n",
    "    best_params = study.best_trial.params\n",
    "    # Add fixed params required by XGBRegressor\n",
    "    best_params.update({\n",
    "        \"random_state\": 42,\n",
    "        \"objective\": \"reg:squarederror\",\n",
    "        \"tree_method\": \"hist\",\n",
    "        \"verbosity\": 0,\n",
    "    })\n",
    "\n",
    "    model = XGBRegressor(**best_params)\n",
    "    model.fit(X_train, y_train)\n",
    "\n",
    "    predictions = []\n",
    "    current_df = test_df.copy()\n",
    "\n",
    "    for i, year in enumerate(prediction_years):\n",
    "        X_test = current_df[features]\n",
    "        current_df[\"predicted_value\"] = model.predict(X_test)\n",
    "        current_df[\"year\"] = year\n",
    "\n",
    "        if i == 0:\n",
    "            y_test = current_df[target]\n",
    "            analysis_result(current_df, y_test, year, target)\n",
    "            create_shapley_values_plots(model, X_train, X_test, features)\n",
    "            top_features = plot_feature_importance(model, features)\n",
    "        else:\n",
    "            current_df[\"age\"] = current_df[\"age_last_year\"] + 1\n",
    "\n",
    "        # Reduce contract years left by 1, never below 0\n",
    "        if \"contract_years_left\" in current_df.columns:\n",
    "            current_df[\"contract_years_left\"] = (current_df[\"contract_years_left\"] - 1).clip(lower=0)\n",
    "\n",
    "        current_df[\"age_last_year\"] = current_df[\"age\"]\n",
    "        current_df[\"value_last_year\"] = current_df[\"predicted_value\"]\n",
    "\n",
    "        predictions.append(current_df[[\"player_id\", \"year\", \"age\", \"predicted_value\"]].copy())\n",
    "\n",
    "        if i < len(prediction_years) - 1:\n",
    "            current_df = prepare_future_year_data(current_df)\n",
    "\n",
    "    all_predictions_df = pd.concat(predictions, ignore_index=True)\n",
    "    return all_predictions_df, model, y_test, top_features"
   ]
  },
  {
   "cell_type": "code",
   "execution_count": 65,
   "id": "92b49796",
   "metadata": {},
   "outputs": [
    {
     "name": "stderr",
     "output_type": "stream",
     "text": [
      "[I 2025-08-19 14:20:25,165] A new study created in memory with name: no-name-403e1dde-08a9-404e-bab2-e810797baa4b\n"
     ]
    },
    {
     "name": "stderr",
     "output_type": "stream",
     "text": [
      "[I 2025-08-19 14:20:26,309] Trial 0 finished with value: 4.994074232580907 and parameters: {'n_estimators': 197, 'learning_rate': 0.06900640959549852, 'max_depth': 5, 'subsample': 0.7902317521861443, 'colsample_bytree': 0.8885721899360564, 'gamma': 3.6078145176909873, 'reg_alpha': 0.9294588851682015, 'reg_lambda': 8.579312497453621}. Best is trial 0 with value: 4.994074232580907.\n",
      "[I 2025-08-19 14:20:27,186] Trial 1 finished with value: 5.556673758986321 and parameters: {'n_estimators': 122, 'learning_rate': 0.2641662119028299, 'max_depth': 7, 'subsample': 0.8626073418441887, 'colsample_bytree': 0.6921594325211715, 'gamma': 0.25561199148218194, 'reg_alpha': 0.3697090781950024, 'reg_lambda': 8.445776377744687}. Best is trial 0 with value: 4.994074232580907.\n",
      "[I 2025-08-19 14:20:28,156] Trial 2 finished with value: 5.268072782042995 and parameters: {'n_estimators': 84, 'learning_rate': 0.22438358817848336, 'max_depth': 5, 'subsample': 0.9147685739042288, 'colsample_bytree': 0.8154691334271448, 'gamma': 4.09834208683772, 'reg_alpha': 0.7147557711720355, 'reg_lambda': 7.787993292673265}. Best is trial 0 with value: 4.994074232580907.\n",
      "[I 2025-08-19 14:20:28,790] Trial 3 finished with value: 4.783851539811174 and parameters: {'n_estimators': 200, 'learning_rate': 0.2851537177652326, 'max_depth': 2, 'subsample': 0.7311221930819944, 'colsample_bytree': 0.8915569923369728, 'gamma': 3.914761393544844, 'reg_alpha': 0.1272526476722493, 'reg_lambda': 9.53718119517439}. Best is trial 3 with value: 4.783851539811174.\n",
      "[I 2025-08-19 14:20:29,072] Trial 4 finished with value: 4.91316877437232 and parameters: {'n_estimators': 55, 'learning_rate': 0.28778941224096327, 'max_depth': 3, 'subsample': 0.6816336725028198, 'colsample_bytree': 0.7414744351152254, 'gamma': 4.126452181391588, 'reg_alpha': 0.43949363412579456, 'reg_lambda': 4.659018287664728}. Best is trial 3 with value: 4.783851539811174.\n",
      "[I 2025-08-19 14:20:29,476] Trial 5 finished with value: 4.889869355681213 and parameters: {'n_estimators': 97, 'learning_rate': 0.23105885184899225, 'max_depth': 3, 'subsample': 0.9540954371107605, 'colsample_bytree': 0.7828859475501163, 'gamma': 3.359283347873732, 'reg_alpha': 0.39159689623421157, 'reg_lambda': 6.987603925938211}. Best is trial 3 with value: 4.783851539811174.\n",
      "[I 2025-08-19 14:20:30,723] Trial 6 finished with value: 4.897263829834421 and parameters: {'n_estimators': 177, 'learning_rate': 0.13675149806900067, 'max_depth': 5, 'subsample': 0.5509931507645853, 'colsample_bytree': 0.8898955480536757, 'gamma': 4.41022467048869, 'reg_alpha': 0.745454898193575, 'reg_lambda': 5.265816705722636}. Best is trial 3 with value: 4.783851539811174.\n",
      "[I 2025-08-19 14:20:31,191] Trial 7 finished with value: 4.809374056443732 and parameters: {'n_estimators': 168, 'learning_rate': 0.11493477404851181, 'max_depth': 3, 'subsample': 0.83081771503699, 'colsample_bytree': 0.7464743593532032, 'gamma': 1.7338858470928646, 'reg_alpha': 0.4190534668041832, 'reg_lambda': 6.207368881436373}. Best is trial 3 with value: 4.783851539811174.\n",
      "[I 2025-08-19 14:20:31,377] Trial 8 finished with value: 5.041291116768531 and parameters: {'n_estimators': 50, 'learning_rate': 0.29526995909108084, 'max_depth': 3, 'subsample': 0.6804354935640164, 'colsample_bytree': 0.6366652017614487, 'gamma': 4.157871319107322, 'reg_alpha': 0.1736821837374931, 'reg_lambda': 7.9290497974126835}. Best is trial 3 with value: 4.783851539811174.\n",
      "[I 2025-08-19 14:20:31,745] Trial 9 finished with value: 5.4312770025911545 and parameters: {'n_estimators': 150, 'learning_rate': 0.2525128928331302, 'max_depth': 3, 'subsample': 0.6144957780363731, 'colsample_bytree': 0.6862966060253965, 'gamma': 1.2027274806047288, 'reg_alpha': 0.9292914257243069, 'reg_lambda': 6.255534627878083}. Best is trial 3 with value: 4.783851539811174.\n",
      "[I 2025-08-19 14:20:32,297] Trial 10 finished with value: 7.902480968272282 and parameters: {'n_estimators': 200, 'learning_rate': 0.16605704825707615, 'max_depth': 1, 'subsample': 0.7191457166292696, 'colsample_bytree': 0.99165518685012, 'gamma': 2.6149473832513546, 'reg_alpha': 0.0043580859633629565, 'reg_lambda': 2.2213618715145094}. Best is trial 3 with value: 4.783851539811174.\n",
      "[I 2025-08-19 14:20:32,642] Trial 11 finished with value: 5.512923963323281 and parameters: {'n_estimators': 161, 'learning_rate': 0.04159835754617304, 'max_depth': 1, 'subsample': 0.8068330094358966, 'colsample_bytree': 0.8820308970229878, 'gamma': 1.8751955983969, 'reg_alpha': 0.2025133217606139, 'reg_lambda': 9.924952668703744}. Best is trial 3 with value: 4.783851539811174.\n",
      "[I 2025-08-19 14:20:33,056] Trial 12 finished with value: 4.770010378002792 and parameters: {'n_estimators': 167, 'learning_rate': 0.1071563573215979, 'max_depth': 2, 'subsample': 0.8279787041562021, 'colsample_bytree': 0.9740467404638375, 'gamma': 2.5610529945490303, 'reg_alpha': 0.20799854649677255, 'reg_lambda': 2.892371684091771}. Best is trial 12 with value: 4.770010378002792.\n",
      "[I 2025-08-19 14:20:33,392] Trial 13 finished with value: 8.296281527656523 and parameters: {'n_estimators': 139, 'learning_rate': 0.18237484100573353, 'max_depth': 1, 'subsample': 0.7479105147656316, 'colsample_bytree': 0.9850226794792749, 'gamma': 4.995555520849855, 'reg_alpha': 0.028127512069881122, 'reg_lambda': 0.1466242462071845}. Best is trial 12 with value: 4.770010378002792.\n",
      "[I 2025-08-19 14:20:34,240] Trial 14 finished with value: 4.733708293641752 and parameters: {'n_estimators': 180, 'learning_rate': 0.10467628657611705, 'max_depth': 2, 'subsample': 0.8804349701838504, 'colsample_bytree': 0.9340978731946005, 'gamma': 2.888923244177267, 'reg_alpha': 0.19925672108121883, 'reg_lambda': 3.1025449632778366}. Best is trial 14 with value: 4.733708293641752.\n",
      "[I 2025-08-19 14:20:34,604] Trial 15 finished with value: 4.898273175697875 and parameters: {'n_estimators': 126, 'learning_rate': 0.09019980065565726, 'max_depth': 2, 'subsample': 0.9874316089761269, 'colsample_bytree': 0.9490933571793772, 'gamma': 2.854099881839871, 'reg_alpha': 0.2834889609214223, 'reg_lambda': 3.056577381148197}. Best is trial 14 with value: 4.733708293641752.\n",
      "[I 2025-08-19 14:20:35,190] Trial 16 finished with value: 4.906504709681577 and parameters: {'n_estimators': 179, 'learning_rate': 0.045055295279341885, 'max_depth': 2, 'subsample': 0.8847043318116763, 'colsample_bytree': 0.9439883514759656, 'gamma': 1.9454207274831665, 'reg_alpha': 0.5915493237978098, 'reg_lambda': 2.809678246348418}. Best is trial 14 with value: 4.733708293641752.\n",
      "[I 2025-08-19 14:20:35,826] Trial 17 finished with value: 5.271008372656108 and parameters: {'n_estimators': 146, 'learning_rate': 0.10280020406471821, 'max_depth': 4, 'subsample': 0.934666595935663, 'colsample_bytree': 0.845123465783779, 'gamma': 2.7970119805481084, 'reg_alpha': 0.2789693975491393, 'reg_lambda': 1.3295273601565176}. Best is trial 14 with value: 4.733708293641752.\n",
      "[I 2025-08-19 14:20:38,170] Trial 18 finished with value: 5.001282275565325 and parameters: {'n_estimators': 183, 'learning_rate': 0.18942191067533998, 'max_depth': 7, 'subsample': 0.8563362934017339, 'colsample_bytree': 0.9403158816514221, 'gamma': 1.1181162259006152, 'reg_alpha': 0.5560432099969951, 'reg_lambda': 4.230943373355341}. Best is trial 14 with value: 4.733708293641752.\n",
      "[I 2025-08-19 14:20:39,095] Trial 19 finished with value: 4.886424366116686 and parameters: {'n_estimators': 159, 'learning_rate': 0.13387450363031161, 'max_depth': 4, 'subsample': 0.78741257882999, 'colsample_bytree': 0.9284612976946449, 'gamma': 3.2687412207846007, 'reg_alpha': 0.10013401666633252, 'reg_lambda': 3.9424541652029825}. Best is trial 14 with value: 4.733708293641752.\n",
      "[I 2025-08-19 14:20:39,794] Trial 20 finished with value: 5.658205936649284 and parameters: {'n_estimators': 128, 'learning_rate': 0.013946205219338939, 'max_depth': 2, 'subsample': 0.914413798157183, 'colsample_bytree': 0.9958567513606279, 'gamma': 2.1767908286001694, 'reg_alpha': 0.2591641080656698, 'reg_lambda': 1.2460115220625936}. Best is trial 14 with value: 4.733708293641752.\n",
      "[I 2025-08-19 14:20:40,914] Trial 21 finished with value: 4.979073828126136 and parameters: {'n_estimators': 190, 'learning_rate': 0.08137464267901506, 'max_depth': 2, 'subsample': 0.7441165385641111, 'colsample_bytree': 0.8489164023316375, 'gamma': 3.657194511921391, 'reg_alpha': 0.1242976529354019, 'reg_lambda': 2.059974381462058}. Best is trial 14 with value: 4.733708293641752.\n",
      "[I 2025-08-19 14:20:41,777] Trial 22 finished with value: 4.824794685596649 and parameters: {'n_estimators': 173, 'learning_rate': 0.1385269564627027, 'max_depth': 2, 'subsample': 0.6779269610688629, 'colsample_bytree': 0.9209558191402366, 'gamma': 3.1866633204529915, 'reg_alpha': 0.07109345970632538, 'reg_lambda': 3.449666214308446}. Best is trial 14 with value: 4.733708293641752.\n",
      "[I 2025-08-19 14:20:42,611] Trial 23 finished with value: 6.63337974957899 and parameters: {'n_estimators': 188, 'learning_rate': 0.1639669678532379, 'max_depth': 1, 'subsample': 0.8131075662089373, 'colsample_bytree': 0.9633029825554641, 'gamma': 4.707577467249547, 'reg_alpha': 0.20868583603509416, 'reg_lambda': 9.82867177142887}. Best is trial 14 with value: 4.733708293641752.\n",
      "[I 2025-08-19 14:20:43,720] Trial 24 finished with value: 4.8929804776659065 and parameters: {'n_estimators': 200, 'learning_rate': 0.06198785579984011, 'max_depth': 4, 'subsample': 0.5850500002084651, 'colsample_bytree': 0.9018935471996721, 'gamma': 2.363323955574865, 'reg_alpha': 0.3358723650749475, 'reg_lambda': 5.328618178839038}. Best is trial 14 with value: 4.733708293641752.\n",
      "[I 2025-08-19 14:20:44,491] Trial 25 finished with value: 4.715910191538376 and parameters: {'n_estimators': 167, 'learning_rate': 0.11980940824891612, 'max_depth': 2, 'subsample': 0.8777408478179631, 'colsample_bytree': 0.8579961235383512, 'gamma': 3.7115960898141345, 'reg_alpha': 0.12692805182856048, 'reg_lambda': 0.16667284886693512}. Best is trial 25 with value: 4.715910191538376.\n",
      "[I 2025-08-19 14:20:45,165] Trial 26 finished with value: 8.143335306071066 and parameters: {'n_estimators': 159, 'learning_rate': 0.12441970449797671, 'max_depth': 1, 'subsample': 0.8844839339013131, 'colsample_bytree': 0.8499457932014199, 'gamma': 1.3984186934430212, 'reg_alpha': 0.5020217067216985, 'reg_lambda': 0.3412785323448473}. Best is trial 25 with value: 4.715910191538376.\n",
      "[I 2025-08-19 14:20:45,952] Trial 27 finished with value: 4.836232857387684 and parameters: {'n_estimators': 141, 'learning_rate': 0.10530290008835758, 'max_depth': 2, 'subsample': 0.9867243682789724, 'colsample_bytree': 0.8170994470989478, 'gamma': 2.8503014029877303, 'reg_alpha': 0.16587964992786633, 'reg_lambda': 1.1994052917133995}. Best is trial 25 with value: 4.715910191538376.\n",
      "[I 2025-08-19 14:20:46,875] Trial 28 finished with value: 4.889200231302392 and parameters: {'n_estimators': 105, 'learning_rate': 0.15489367495013523, 'max_depth': 4, 'subsample': 0.8470281061756241, 'colsample_bytree': 0.8639901022036358, 'gamma': 3.048123122463541, 'reg_alpha': 0.31161725654540373, 'reg_lambda': 2.094329301905071}. Best is trial 25 with value: 4.715910191538376.\n",
      "[I 2025-08-19 14:20:48,739] Trial 29 finished with value: 5.19582829915521 and parameters: {'n_estimators': 165, 'learning_rate': 0.06561041631136716, 'max_depth': 6, 'subsample': 0.7715944000196117, 'colsample_bytree': 0.7927403447166925, 'gamma': 3.622373648327396, 'reg_alpha': 0.24201911519471364, 'reg_lambda': 0.8212872325465258}. Best is trial 25 with value: 4.715910191538376.\n",
      "[I 2025-08-19 14:20:49,549] Trial 30 finished with value: 4.8199621458885415 and parameters: {'n_estimators': 148, 'learning_rate': 0.09556823126509215, 'max_depth': 3, 'subsample': 0.8881953674434832, 'colsample_bytree': 0.9660818808176305, 'gamma': 2.3665733791943473, 'reg_alpha': 0.06094843335605499, 'reg_lambda': 2.541199357347802}. Best is trial 25 with value: 4.715910191538376.\n",
      "[I 2025-08-19 14:20:50,227] Trial 31 finished with value: 4.704730441874935 and parameters: {'n_estimators': 192, 'learning_rate': 0.19785335333825482, 'max_depth': 2, 'subsample': 0.7829260531949119, 'colsample_bytree': 0.9106002764645248, 'gamma': 3.864670603905679, 'reg_alpha': 0.13336689533580703, 'reg_lambda': 3.6423375078379543}. Best is trial 31 with value: 4.704730441874935.\n",
      "[I 2025-08-19 14:20:50,855] Trial 32 finished with value: 4.796478644522116 and parameters: {'n_estimators': 188, 'learning_rate': 0.2003748615190414, 'max_depth': 2, 'subsample': 0.8276901459458685, 'colsample_bytree': 0.9141681287686243, 'gamma': 3.617835529100855, 'reg_alpha': 0.12335596628839607, 'reg_lambda': 3.699626987454702}. Best is trial 31 with value: 4.704730441874935.\n",
      "[I 2025-08-19 14:20:51,402] Trial 33 finished with value: 7.724636250687035 and parameters: {'n_estimators': 172, 'learning_rate': 0.21426910475387925, 'max_depth': 1, 'subsample': 0.7685524060176102, 'colsample_bytree': 0.9697439807691486, 'gamma': 3.4580084847324635, 'reg_alpha': 0.18354310469256774, 'reg_lambda': 3.38396639363903}. Best is trial 31 with value: 4.704730441874935.\n",
      "[I 2025-08-19 14:20:51,941] Trial 34 finished with value: 4.745653389220564 and parameters: {'n_estimators': 181, 'learning_rate': 0.14464903582459737, 'max_depth': 2, 'subsample': 0.9118584758375533, 'colsample_bytree': 0.8719486625184927, 'gamma': 0.4858626176895662, 'reg_alpha': 0.36674705762351356, 'reg_lambda': 4.615271044571309}. Best is trial 31 with value: 4.704730441874935.\n",
      "[I 2025-08-19 14:20:52,616] Trial 35 finished with value: 4.870611855725172 and parameters: {'n_estimators': 190, 'learning_rate': 0.17568563833152465, 'max_depth': 3, 'subsample': 0.9563324623099168, 'colsample_bytree': 0.822734662468963, 'gamma': 0.04320580131720275, 'reg_alpha': 0.35136885596296796, 'reg_lambda': 4.584333952597714}. Best is trial 31 with value: 4.704730441874935.\n",
      "[I 2025-08-19 14:20:53,074] Trial 36 finished with value: 7.056234626165161 and parameters: {'n_estimators': 179, 'learning_rate': 0.14599086617503237, 'max_depth': 1, 'subsample': 0.9199723116861644, 'colsample_bytree': 0.8725818383887738, 'gamma': 0.5492994532656271, 'reg_alpha': 0.46966948623275373, 'reg_lambda': 6.137383238393757}. Best is trial 31 with value: 4.704730441874935.\n",
      "[I 2025-08-19 14:20:53,718] Trial 37 finished with value: 4.777373214492704 and parameters: {'n_estimators': 191, 'learning_rate': 0.20914580337216968, 'max_depth': 3, 'subsample': 0.8719221710341757, 'colsample_bytree': 0.7673842864517508, 'gamma': 4.011219564122622, 'reg_alpha': 0.3849755885933043, 'reg_lambda': 4.909459492742014}. Best is trial 31 with value: 4.704730441874935.\n",
      "[I 2025-08-19 14:20:54,331] Trial 38 finished with value: 5.157169468547929 and parameters: {'n_estimators': 112, 'learning_rate': 0.12744898044987163, 'max_depth': 6, 'subsample': 0.9581377163060788, 'colsample_bytree': 0.9034718292661017, 'gamma': 4.513655353391359, 'reg_alpha': 0.07754606708273248, 'reg_lambda': 5.673255980660851}. Best is trial 31 with value: 4.704730441874935.\n",
      "[I 2025-08-19 14:20:54,611] Trial 39 finished with value: 4.863396925103387 and parameters: {'n_estimators': 73, 'learning_rate': 0.22618572864369973, 'max_depth': 2, 'subsample': 0.5064095601698078, 'colsample_bytree': 0.8319775967589936, 'gamma': 3.8674422080331436, 'reg_alpha': 0.9973018775574214, 'reg_lambda': 7.07331552738915}. Best is trial 31 with value: 4.704730441874935.\n",
      "[I 2025-08-19 14:20:55,068] Trial 40 finished with value: 4.937192135385444 and parameters: {'n_estimators': 153, 'learning_rate': 0.2430773912520654, 'max_depth': 3, 'subsample': 0.7056727207849385, 'colsample_bytree': 0.8899875746476031, 'gamma': 0.8197000672998409, 'reg_alpha': 0.14930602056406664, 'reg_lambda': 4.251725941361636}. Best is trial 31 with value: 4.704730441874935.\n",
      "[I 2025-08-19 14:20:55,465] Trial 41 finished with value: 4.682335840228115 and parameters: {'n_estimators': 171, 'learning_rate': 0.11309304646899403, 'max_depth': 2, 'subsample': 0.9038045550069408, 'colsample_bytree': 0.8670662507961949, 'gamma': 2.624274294715329, 'reg_alpha': 0.2246514436655708, 'reg_lambda': 2.727764734588639}. Best is trial 41 with value: 4.682335840228115.\n",
      "[I 2025-08-19 14:20:55,879] Trial 42 finished with value: 4.7185526420596045 and parameters: {'n_estimators': 179, 'learning_rate': 0.11883605776324503, 'max_depth': 2, 'subsample': 0.9094625217530837, 'colsample_bytree': 0.8744606803050706, 'gamma': 3.823304493708189, 'reg_alpha': 0.23844906769724528, 'reg_lambda': 3.993890940596075}. Best is trial 41 with value: 4.682335840228115.\n",
      "[I 2025-08-19 14:20:56,310] Trial 43 finished with value: 4.829326696307911 and parameters: {'n_estimators': 172, 'learning_rate': 0.07764745633006531, 'max_depth': 3, 'subsample': 0.937940722002481, 'colsample_bytree': 0.8049461844089429, 'gamma': 3.845946248539537, 'reg_alpha': 0.24497075962642695, 'reg_lambda': 1.5353406719360143}. Best is trial 41 with value: 4.682335840228115.\n",
      "[I 2025-08-19 14:20:56,715] Trial 44 finished with value: 4.663659044967946 and parameters: {'n_estimators': 195, 'learning_rate': 0.11839814458162456, 'max_depth': 2, 'subsample': 0.898028238904936, 'colsample_bytree': 0.8636278701648049, 'gamma': 3.020385215888247, 'reg_alpha': 0.04160124825494732, 'reg_lambda': 3.256119662801384}. Best is trial 44 with value: 4.663659044967946.\n",
      "[I 2025-08-19 14:20:57,225] Trial 45 finished with value: 7.867371013314778 and parameters: {'n_estimators': 194, 'learning_rate': 0.11661697404698368, 'max_depth': 1, 'subsample': 0.8985441505559517, 'colsample_bytree': 0.856962368321257, 'gamma': 4.209589438929044, 'reg_alpha': 0.02973678207551786, 'reg_lambda': 1.7990889330337139}. Best is trial 44 with value: 4.663659044967946.\n",
      "[I 2025-08-19 14:20:57,878] Trial 46 finished with value: 4.8052956915064415 and parameters: {'n_estimators': 196, 'learning_rate': 0.27076700203801346, 'max_depth': 3, 'subsample': 0.9367339279869565, 'colsample_bytree': 0.8360174706202133, 'gamma': 4.3151615839228725, 'reg_alpha': 0.7786115205849892, 'reg_lambda': 2.5474421508305616}. Best is trial 44 with value: 4.663659044967946.\n",
      "[I 2025-08-19 14:20:58,340] Trial 47 finished with value: 4.708106181547989 and parameters: {'n_estimators': 185, 'learning_rate': 0.11984342529120781, 'max_depth': 2, 'subsample': 0.8498124915956172, 'colsample_bytree': 0.6023615719035702, 'gamma': 3.414001556117376, 'reg_alpha': 0.0053123053845111, 'reg_lambda': 3.78834087159882}. Best is trial 44 with value: 4.663659044967946.\n",
      "[I 2025-08-19 14:20:58,698] Trial 48 finished with value: 8.308326259475313 and parameters: {'n_estimators': 185, 'learning_rate': 0.15501349159256186, 'max_depth': 1, 'subsample': 0.8396455913307432, 'colsample_bytree': 0.7332144139560034, 'gamma': 3.3367564325415096, 'reg_alpha': 0.034848284051075734, 'reg_lambda': 0.6553923721969297}. Best is trial 44 with value: 4.663659044967946.\n",
      "[I 2025-08-19 14:20:59,172] Trial 49 finished with value: 4.994554108373567 and parameters: {'n_estimators': 170, 'learning_rate': 0.08571044173418581, 'max_depth': 3, 'subsample': 0.8613770912446569, 'colsample_bytree': 0.6236274447765802, 'gamma': 3.4807665208387437, 'reg_alpha': 0.1020712194323104, 'reg_lambda': 3.311279923206619}. Best is trial 44 with value: 4.663659044967946.\n",
      "[I 2025-08-19 14:20:59,586] Trial 50 finished with value: 4.756096417174436 and parameters: {'n_estimators': 163, 'learning_rate': 0.17050583045136494, 'max_depth': 2, 'subsample': 0.8098347908442561, 'colsample_bytree': 0.6687549998545783, 'gamma': 3.0767547597445373, 'reg_alpha': 0.023022819849659926, 'reg_lambda': 2.6135558874696754}. Best is trial 44 with value: 4.663659044967946.\n",
      "[I 2025-08-19 14:20:59,953] Trial 51 finished with value: 4.683173420337025 and parameters: {'n_estimators': 174, 'learning_rate': 0.11268684837593988, 'max_depth': 2, 'subsample': 0.9023619754633773, 'colsample_bytree': 0.8801357593949692, 'gamma': 3.7858271304705076, 'reg_alpha': 0.007417858807664434, 'reg_lambda': 4.029518762263087}. Best is trial 44 with value: 4.663659044967946.\n",
      "[I 2025-08-19 14:21:00,298] Trial 52 finished with value: 4.724956266451833 and parameters: {'n_estimators': 155, 'learning_rate': 0.11438815374363315, 'max_depth': 2, 'subsample': 0.8678944702936943, 'colsample_bytree': 0.7684459153303509, 'gamma': 2.6112724270230645, 'reg_alpha': 0.004424941167455065, 'reg_lambda': 3.739212309144281}. Best is trial 44 with value: 4.663659044967946.\n",
      "[I 2025-08-19 14:21:00,715] Trial 53 finished with value: 4.778115999888333 and parameters: {'n_estimators': 196, 'learning_rate': 0.09285560365361302, 'max_depth': 2, 'subsample': 0.7963337197366269, 'colsample_bytree': 0.6005392149591467, 'gamma': 4.592439193168545, 'reg_alpha': 0.06814165254879992, 'reg_lambda': 5.130069063461967}. Best is trial 44 with value: 4.663659044967946.\n",
      "[I 2025-08-19 14:21:01,026] Trial 54 finished with value: 6.380522220440372 and parameters: {'n_estimators': 175, 'learning_rate': 0.12983993605236666, 'max_depth': 1, 'subsample': 0.9730137928058245, 'colsample_bytree': 0.716646897094738, 'gamma': 4.117096870416297, 'reg_alpha': 0.13644564671213477, 'reg_lambda': 9.145442991145057}. Best is trial 44 with value: 4.663659044967946.\n",
      "[I 2025-08-19 14:21:01,475] Trial 55 finished with value: 4.844997505224689 and parameters: {'n_estimators': 184, 'learning_rate': 0.05099728230588276, 'max_depth': 3, 'subsample': 0.8480505723228946, 'colsample_bytree': 0.8950454604689403, 'gamma': 2.9935733922297914, 'reg_alpha': 0.08570094605358894, 'reg_lambda': 4.212767136079348}. Best is trial 44 with value: 4.663659044967946.\n",
      "[I 2025-08-19 14:21:01,848] Trial 56 finished with value: 4.786791851592498 and parameters: {'n_estimators': 166, 'learning_rate': 0.14945023557185805, 'max_depth': 2, 'subsample': 0.8958590141142431, 'colsample_bytree': 0.9111451676781178, 'gamma': 3.2268413689682367, 'reg_alpha': 0.045473158518505113, 'reg_lambda': 3.1034368842837394}. Best is trial 44 with value: 4.663659044967946.\n",
      "[I 2025-08-19 14:21:02,494] Trial 57 finished with value: 5.305734671442528 and parameters: {'n_estimators': 200, 'learning_rate': 0.18973133327262637, 'max_depth': 5, 'subsample': 0.8276993810629244, 'colsample_bytree': 0.8838567114360085, 'gamma': 3.7423709948831334, 'reg_alpha': 0.006857445689413431, 'reg_lambda': 3.5972629835829335}. Best is trial 44 with value: 4.663659044967946.\n",
      "[I 2025-08-19 14:21:02,839] Trial 58 finished with value: 7.809459579553895 and parameters: {'n_estimators': 185, 'learning_rate': 0.11167324633521124, 'max_depth': 1, 'subsample': 0.7769411577796012, 'colsample_bytree': 0.8344826015050989, 'gamma': 3.495728508738915, 'reg_alpha': 0.11435597044227008, 'reg_lambda': 2.3300037573364047}. Best is trial 44 with value: 4.663659044967946.\n",
      "[I 2025-08-19 14:21:03,210] Trial 59 finished with value: 4.797298258488158 and parameters: {'n_estimators': 176, 'learning_rate': 0.07475633725401985, 'max_depth': 2, 'subsample': 0.9309279870858601, 'colsample_bytree': 0.9248750214627992, 'gamma': 2.7507413963686345, 'reg_alpha': 0.17497104447089323, 'reg_lambda': 5.777290347694316}. Best is trial 44 with value: 4.663659044967946.\n",
      "[I 2025-08-19 14:21:03,561] Trial 60 finished with value: 4.763599494490969 and parameters: {'n_estimators': 141, 'learning_rate': 0.09614279118572355, 'max_depth': 2, 'subsample': 0.866463741040884, 'colsample_bytree': 0.9496098599431473, 'gamma': 4.030391087411814, 'reg_alpha': 0.05537247433803831, 'reg_lambda': 4.45233094397124}. Best is trial 44 with value: 4.663659044967946.\n",
      "[I 2025-08-19 14:21:03,913] Trial 61 finished with value: 4.741397094289666 and parameters: {'n_estimators': 178, 'learning_rate': 0.12109341750759674, 'max_depth': 2, 'subsample': 0.905451380134623, 'colsample_bytree': 0.8687247291803806, 'gamma': 3.7711250775248852, 'reg_alpha': 0.21209534289988002, 'reg_lambda': 4.208385595328875}. Best is trial 44 with value: 4.663659044967946.\n",
      "[I 2025-08-19 14:21:04,256] Trial 62 finished with value: 4.697459245223238 and parameters: {'n_estimators': 132, 'learning_rate': 0.1324909119744698, 'max_depth': 2, 'subsample': 0.9214475151741116, 'colsample_bytree': 0.8732097104529745, 'gamma': 3.3817654299304927, 'reg_alpha': 0.14905260027615694, 'reg_lambda': 3.897537749529751}. Best is trial 44 with value: 4.663659044967946.\n",
      "[I 2025-08-19 14:21:04,701] Trial 63 finished with value: 4.789554888069795 and parameters: {'n_estimators': 134, 'learning_rate': 0.14135403999202587, 'max_depth': 3, 'subsample': 0.9515539423761827, 'colsample_bytree': 0.8555511629601236, 'gamma': 3.1446971854545263, 'reg_alpha': 0.15300292576766308, 'reg_lambda': 2.88491299040135}. Best is trial 44 with value: 4.663659044967946.\n",
      "[I 2025-08-19 14:21:05,035] Trial 64 finished with value: 4.689116709121627 and parameters: {'n_estimators': 114, 'learning_rate': 0.13307090129101753, 'max_depth': 2, 'subsample': 0.8775055236084457, 'colsample_bytree': 0.8051943435955896, 'gamma': 3.3746799891509838, 'reg_alpha': 0.09301089584506195, 'reg_lambda': 3.867160059238213}. Best is trial 44 with value: 4.663659044967946.\n",
      "[I 2025-08-19 14:21:05,477] Trial 65 finished with value: 5.4623136090276985 and parameters: {'n_estimators': 119, 'learning_rate': 0.13499028810652564, 'max_depth': 2, 'subsample': 0.998243952838284, 'colsample_bytree': 0.8004056828132102, 'gamma': 2.1222535007701926, 'reg_alpha': 0.08513824627973288, 'reg_lambda': 3.280050713349114}. Best is trial 44 with value: 4.663659044967946.\n",
      "[I 2025-08-19 14:21:05,749] Trial 66 finished with value: 5.823267045750157 and parameters: {'n_estimators': 85, 'learning_rate': 0.1045766886121094, 'max_depth': 1, 'subsample': 0.9204856792815361, 'colsample_bytree': 0.7883452010531656, 'gamma': 3.391528931300516, 'reg_alpha': 0.30572690658513535, 'reg_lambda': 4.882909288560434}. Best is trial 44 with value: 4.663659044967946.\n",
      "[I 2025-08-19 14:21:06,072] Trial 67 finished with value: 4.658687027818849 and parameters: {'n_estimators': 101, 'learning_rate': 0.15678308758804557, 'max_depth': 2, 'subsample': 0.8901494870206905, 'colsample_bytree': 0.6704547683998919, 'gamma': 2.9475719574614825, 'reg_alpha': 0.6086571727709298, 'reg_lambda': 3.5682093922374714}. Best is trial 67 with value: 4.658687027818849.\n",
      "[I 2025-08-19 14:21:06,471] Trial 68 finished with value: 4.951425865005443 and parameters: {'n_estimators': 96, 'learning_rate': 0.16213631224439828, 'max_depth': 3, 'subsample': 0.9429133846862825, 'colsample_bytree': 0.6981105080834701, 'gamma': 2.71070995392121, 'reg_alpha': 0.6130457417474404, 'reg_lambda': 3.9557759767701652}. Best is trial 67 with value: 4.658687027818849.\n",
      "[I 2025-08-19 14:21:06,890] Trial 69 finished with value: 4.72740694483608 and parameters: {'n_estimators': 117, 'learning_rate': 0.18120179807663322, 'max_depth': 2, 'subsample': 0.9758798623286347, 'colsample_bytree': 0.6513280814790487, 'gamma': 2.454185307697145, 'reg_alpha': 0.6512680589214248, 'reg_lambda': 2.8410331140644085}. Best is trial 67 with value: 4.658687027818849.\n",
      "[I 2025-08-19 14:21:07,154] Trial 70 finished with value: 6.8461818230868134 and parameters: {'n_estimators': 100, 'learning_rate': 0.156022028391201, 'max_depth': 1, 'subsample': 0.6652166753892271, 'colsample_bytree': 0.7760873483323742, 'gamma': 2.878350263343897, 'reg_alpha': 0.6718855416405434, 'reg_lambda': 3.5170540317673127}. Best is trial 67 with value: 4.658687027818849.\n",
      "[I 2025-08-19 14:21:07,465] Trial 71 finished with value: 5.0926787800596385 and parameters: {'n_estimators': 106, 'learning_rate': 0.13355506651717963, 'max_depth': 2, 'subsample': 0.8893436773907781, 'colsample_bytree': 0.609726818202477, 'gamma': 2.9738056557669506, 'reg_alpha': 0.5143658084752524, 'reg_lambda': 3.8273671815352968}. Best is trial 67 with value: 4.658687027818849.\n",
      "[I 2025-08-19 14:21:07,794] Trial 72 finished with value: 4.787111800518193 and parameters: {'n_estimators': 132, 'learning_rate': 0.1299291450607597, 'max_depth': 2, 'subsample': 0.8767220682825223, 'colsample_bytree': 0.6443383489612793, 'gamma': 3.277038518858233, 'reg_alpha': 0.8496174373087835, 'reg_lambda': 3.1844467680807127}. Best is trial 67 with value: 4.658687027818849.\n",
      "[I 2025-08-19 14:21:08,057] Trial 73 finished with value: 4.932659795071678 and parameters: {'n_estimators': 84, 'learning_rate': 0.10229444477706122, 'max_depth': 2, 'subsample': 0.8509884343638269, 'colsample_bytree': 0.6746897932676702, 'gamma': 3.505555575954957, 'reg_alpha': 8.184005665165528e-05, 'reg_lambda': 4.387074082140725}. Best is trial 67 with value: 4.658687027818849.\n",
      "[I 2025-08-19 14:21:08,338] Trial 74 finished with value: 4.76621784064284 and parameters: {'n_estimators': 96, 'learning_rate': 0.1416747309316148, 'max_depth': 2, 'subsample': 0.9223763085842017, 'colsample_bytree': 0.9022020491738698, 'gamma': 3.1198954193061237, 'reg_alpha': 0.4338648488196148, 'reg_lambda': 3.9266144017508338}. Best is trial 67 with value: 4.658687027818849.\n",
      "[I 2025-08-19 14:21:08,641] Trial 75 finished with value: 4.759547554133311 and parameters: {'n_estimators': 92, 'learning_rate': 0.12509001009491405, 'max_depth': 2, 'subsample': 0.8184757624324428, 'colsample_bytree': 0.880406962981157, 'gamma': 3.9383126128690757, 'reg_alpha': 0.1090919700016856, 'reg_lambda': 4.7261847321269475}. Best is trial 67 with value: 4.658687027818849.\n",
      "[I 2025-08-19 14:21:08,907] Trial 76 finished with value: 6.445658976246321 and parameters: {'n_estimators': 108, 'learning_rate': 0.0993158008990882, 'max_depth': 1, 'subsample': 0.8925205112322034, 'colsample_bytree': 0.757003137865194, 'gamma': 2.250449072849955, 'reg_alpha': 0.5417776658374764, 'reg_lambda': 2.2774054143842672}. Best is trial 67 with value: 4.658687027818849.\n",
      "[I 2025-08-19 14:21:09,223] Trial 77 finished with value: 4.8572342588973845 and parameters: {'n_estimators': 123, 'learning_rate': 0.11156730489391549, 'max_depth': 3, 'subsample': 0.9030994508290466, 'colsample_bytree': 0.8124586050469517, 'gamma': 3.595101594629974, 'reg_alpha': 0.05291356829298332, 'reg_lambda': 5.374830870764564}. Best is trial 67 with value: 4.658687027818849.\n",
      "[I 2025-08-19 14:21:09,619] Trial 78 finished with value: 4.779179498684151 and parameters: {'n_estimators': 192, 'learning_rate': 0.08713490841614387, 'max_depth': 2, 'subsample': 0.7211772099257924, 'colsample_bytree': 0.844404568084645, 'gamma': 2.684727607749479, 'reg_alpha': 0.19789649648222912, 'reg_lambda': 3.019270838619866}. Best is trial 67 with value: 4.658687027818849.\n",
      "[I 2025-08-19 14:21:09,908] Trial 79 finished with value: 4.7574678574416485 and parameters: {'n_estimators': 112, 'learning_rate': 0.153439979739769, 'max_depth': 3, 'subsample': 0.7556381495420756, 'colsample_bytree': 0.8261354694054606, 'gamma': 3.3293187725693505, 'reg_alpha': 0.14784180236802172, 'reg_lambda': 3.5595180206648402}. Best is trial 67 with value: 4.658687027818849.\n",
      "[I 2025-08-19 14:21:10,332] Trial 80 finished with value: 5.74314398526266 and parameters: {'n_estimators': 74, 'learning_rate': 0.23756452614213033, 'max_depth': 7, 'subsample': 0.8414949985979153, 'colsample_bytree': 0.6214462760469459, 'gamma': 2.9498933951767343, 'reg_alpha': 0.10370135816412657, 'reg_lambda': 2.7329946374116485}. Best is trial 67 with value: 4.658687027818849.\n",
      "[I 2025-08-19 14:21:10,695] Trial 81 finished with value: 4.759383955534198 and parameters: {'n_estimators': 101, 'learning_rate': 0.12256796133731392, 'max_depth': 2, 'subsample': 0.8739645973436515, 'colsample_bytree': 0.8594002710198001, 'gamma': 3.626076887858297, 'reg_alpha': 0.13337882982712165, 'reg_lambda': 1.8368552445811952}. Best is trial 67 with value: 4.658687027818849.\n",
      "[I 2025-08-19 14:21:11,028] Trial 82 finished with value: 4.701068946026662 and parameters: {'n_estimators': 160, 'learning_rate': 0.1100688745049367, 'max_depth': 2, 'subsample': 0.8820180256880158, 'colsample_bytree': 0.8885584373865092, 'gamma': 4.313565992122454, 'reg_alpha': 0.07777615488650719, 'reg_lambda': 4.064149680317197}. Best is trial 67 with value: 4.658687027818849.\n",
      "[I 2025-08-19 14:21:11,408] Trial 83 finished with value: 4.7637715009161665 and parameters: {'n_estimators': 159, 'learning_rate': 0.10795173139297934, 'max_depth': 2, 'subsample': 0.8569847057629316, 'colsample_bytree': 0.9106674456229263, 'gamma': 4.213938673719192, 'reg_alpha': 0.04030882912755524, 'reg_lambda': 4.0728229663205635}. Best is trial 67 with value: 4.658687027818849.\n",
      "[I 2025-08-19 14:21:11,817] Trial 84 finished with value: 5.123354903031349 and parameters: {'n_estimators': 189, 'learning_rate': 0.1986165477992867, 'max_depth': 2, 'subsample': 0.9256247105832999, 'colsample_bytree': 0.8920031167602894, 'gamma': 2.5216345217517087, 'reg_alpha': 0.06499758671206002, 'reg_lambda': 3.710025774027612}. Best is trial 67 with value: 4.658687027818849.\n",
      "[I 2025-08-19 14:21:12,457] Trial 85 finished with value: 4.832382802875013 and parameters: {'n_estimators': 185, 'learning_rate': 0.16163666916701047, 'max_depth': 2, 'subsample': 0.883752026796324, 'colsample_bytree': 0.9315997934008473, 'gamma': 4.986134807070196, 'reg_alpha': 0.08173579135923299, 'reg_lambda': 3.3695499355619636}. Best is trial 67 with value: 4.658687027818849.\n",
      "[I 2025-08-19 14:21:12,827] Trial 86 finished with value: 7.0688277335583765 and parameters: {'n_estimators': 170, 'learning_rate': 0.11563070308917116, 'max_depth': 1, 'subsample': 0.7968656627767213, 'colsample_bytree': 0.8780891302338012, 'gamma': 4.3762736862005855, 'reg_alpha': 0.024705970472771413, 'reg_lambda': 4.454563708925595}. Best is trial 67 with value: 4.658687027818849.\n",
      "[I 2025-08-19 14:21:13,425] Trial 87 finished with value: 5.280472777497109 and parameters: {'n_estimators': 153, 'learning_rate': 0.13752436278179286, 'max_depth': 6, 'subsample': 0.9122623136859803, 'colsample_bytree': 0.8443114676239957, 'gamma': 3.9739101470510647, 'reg_alpha': 0.7435296067272767, 'reg_lambda': 4.919502121781725}. Best is trial 67 with value: 4.658687027818849.\n",
      "[I 2025-08-19 14:21:13,873] Trial 88 finished with value: 4.764701356477944 and parameters: {'n_estimators': 194, 'learning_rate': 0.17279671819543882, 'max_depth': 2, 'subsample': 0.9465074247276478, 'colsample_bytree': 0.9167789211397098, 'gamma': 3.20236152501485, 'reg_alpha': 0.17423572138380425, 'reg_lambda': 2.4211133168989925}. Best is trial 67 with value: 4.658687027818849.\n",
      "[I 2025-08-19 14:21:14,364] Trial 89 finished with value: 4.849384285679306 and parameters: {'n_estimators': 181, 'learning_rate': 0.14698468687806895, 'max_depth': 3, 'subsample': 0.9643616671832806, 'colsample_bytree': 0.7355047319323813, 'gamma': 3.533708821934068, 'reg_alpha': 0.09187978802300344, 'reg_lambda': 3.1443212525025306}. Best is trial 67 with value: 4.658687027818849.\n",
      "[I 2025-08-19 14:21:14,690] Trial 90 finished with value: 7.1960521088690035 and parameters: {'n_estimators': 128, 'learning_rate': 0.2141386621916784, 'max_depth': 1, 'subsample': 0.9026590315170382, 'colsample_bytree': 0.8676149721763167, 'gamma': 3.417267330143761, 'reg_alpha': 0.463332891647056, 'reg_lambda': 4.119826780585873}. Best is trial 67 with value: 4.658687027818849.\n",
      "[I 2025-08-19 14:21:15,143] Trial 91 finished with value: 4.750678495365488 and parameters: {'n_estimators': 168, 'learning_rate': 0.12002480223707115, 'max_depth': 2, 'subsample': 0.8825419045882809, 'colsample_bytree': 0.893654325724632, 'gamma': 3.6961050030689435, 'reg_alpha': 0.11984724192613759, 'reg_lambda': 3.8292550622974186}. Best is trial 67 with value: 4.658687027818849.\n",
      "[I 2025-08-19 14:21:15,579] Trial 92 finished with value: 4.703134762233659 and parameters: {'n_estimators': 163, 'learning_rate': 0.10873179966012694, 'max_depth': 2, 'subsample': 0.8322168172013242, 'colsample_bytree': 0.8848757989146873, 'gamma': 3.073056265874937, 'reg_alpha': 0.22125369114195964, 'reg_lambda': 4.684743477401382}. Best is trial 67 with value: 4.658687027818849.\n",
      "[I 2025-08-19 14:21:16,102] Trial 93 finished with value: 4.796495316096933 and parameters: {'n_estimators': 145, 'learning_rate': 0.12806825302235358, 'max_depth': 2, 'subsample': 0.8382388165342005, 'colsample_bytree': 0.9005727413809254, 'gamma': 2.8178133677826107, 'reg_alpha': 0.2547279374351632, 'reg_lambda': 3.5023080579627286}. Best is trial 67 with value: 4.658687027818849.\n",
      "[I 2025-08-19 14:21:16,765] Trial 94 finished with value: 4.766739713349664 and parameters: {'n_estimators': 164, 'learning_rate': 0.11162337698480346, 'max_depth': 2, 'subsample': 0.8601738621119519, 'colsample_bytree': 0.8889615242649574, 'gamma': 3.0708664618982198, 'reg_alpha': 0.2315229593777702, 'reg_lambda': 4.547579791339451}. Best is trial 67 with value: 4.658687027818849.\n",
      "[I 2025-08-19 14:21:17,276] Trial 95 finished with value: 4.763509097861995 and parameters: {'n_estimators': 174, 'learning_rate': 0.09760752591779276, 'max_depth': 2, 'subsample': 0.8182126786245538, 'colsample_bytree': 0.9422570744544891, 'gamma': 4.750184450444907, 'reg_alpha': 0.27809736592194734, 'reg_lambda': 4.785867770420001}. Best is trial 67 with value: 4.658687027818849.\n",
      "[I 2025-08-19 14:21:17,739] Trial 96 finished with value: 4.822086327871276 and parameters: {'n_estimators': 161, 'learning_rate': 0.08261009341010125, 'max_depth': 2, 'subsample': 0.8302938286423288, 'colsample_bytree': 0.7129700686039215, 'gamma': 3.278027926803958, 'reg_alpha': 0.2171772610160383, 'reg_lambda': 5.090700706523845}. Best is trial 67 with value: 4.658687027818849.\n",
      "[I 2025-08-19 14:21:18,031] Trial 97 finished with value: 4.768640063488804 and parameters: {'n_estimators': 114, 'learning_rate': 0.0931279174161917, 'max_depth': 2, 'subsample': 0.7852000474222851, 'colsample_bytree': 0.8819180786151303, 'gamma': 2.6285782036170207, 'reg_alpha': 0.1610447903149848, 'reg_lambda': 4.29409182418574}. Best is trial 67 with value: 4.658687027818849.\n",
      "[I 2025-08-19 14:21:18,352] Trial 98 finished with value: 4.889620028610984 and parameters: {'n_estimators': 157, 'learning_rate': 0.07088753263777167, 'max_depth': 2, 'subsample': 0.8670029475325198, 'colsample_bytree': 0.8624311461744949, 'gamma': 2.9117210585411506, 'reg_alpha': 0.019223060087061962, 'reg_lambda': 2.967906274576438}. Best is trial 67 with value: 4.658687027818849.\n",
      "[I 2025-08-19 14:21:18,785] Trial 99 finished with value: 4.789727173470363 and parameters: {'n_estimators': 183, 'learning_rate': 0.13466719093922197, 'max_depth': 3, 'subsample': 0.8969253726969926, 'colsample_bytree': 0.9055388467273777, 'gamma': 4.275609598071936, 'reg_alpha': 0.06635900081669825, 'reg_lambda': 5.376447657902722}. Best is trial 67 with value: 4.658687027818849.\n"
     ]
    },
    {
     "name": "stdout",
     "output_type": "stream",
     "text": [
      "Best trial params: {'n_estimators': 101, 'learning_rate': 0.15678308758804557, 'max_depth': 2, 'subsample': 0.8901494870206905, 'colsample_bytree': 0.6704547683998919, 'gamma': 2.9475719574614825, 'reg_alpha': 0.6086571727709298, 'reg_lambda': 3.5682093922374714}\n",
      "Best trial RMSE: 4.6587\n",
      "2023 RMSE: 5.83\n",
      "2023 R²: 0.855\n"
     ]
    },
    {
     "data": {
      "application/vnd.plotly.v1+json": {
       "config": {
        "plotlyServerURL": "https://plot.ly"
       },
       "data": [
        {
         "customdata": [
          [
           "Eldin Jakupovic",
           38
          ],
          [
           "James Milner",
           37
          ],
          [
           "Óscar Ustari",
           36
          ],
          [
           "Gabriel Tamas",
           39
          ],
          [
           "Cristiano Ronaldo",
           38
          ],
          [
           "Shaun MacDonald",
           34
          ],
          [
           "Phil Jagielka",
           40
          ],
          [
           "Andy Lonergan",
           39
          ],
          [
           "Ashley Young",
           37
          ],
          [
           "Scott Carson",
           37
          ],
          [
           "Phil Bardsley",
           37
          ],
          [
           "David Martin",
           37
          ],
          [
           "Casemiro",
           31
          ],
          [
           "Hugo Lloris",
           36
          ],
          [
           "Curtis Davies",
           38
          ],
          [
           "Willy Caballero",
           41
          ],
          [
           "Fernandinho",
           37
          ],
          [
           "Nenê",
           41
          ],
          [
           "Thiago Silva",
           38
          ],
          [
           "Lukasz Fabianski",
           38
          ],
          [
           "John Ruddy",
           36
          ],
          [
           "Chu-young Park",
           37
          ],
          [
           "Dusan Kuciak",
           38
          ],
          [
           "Tim Krul",
           35
          ],
          [
           "Lukas Jutkiewicz",
           34
          ],
          [
           "Theo Walcott",
           34
          ],
          [
           "Alex Smithies",
           33
          ],
          [
           "Asmir Begovic",
           36
          ],
          [
           "Tom Heaton",
           37
          ],
          [
           "Richard Stearman",
           35
          ],
          [
           "Lewis Grabban",
           35
          ],
          [
           "David McGoldrick",
           35
          ],
          [
           "Gaëtan Bong",
           35
          ],
          [
           "Leon Clarke",
           38
          ],
          [
           "Shane Long",
           36
          ],
          [
           "Kamil Grosicki",
           35
          ],
          [
           "Martin Olsson",
           35
          ],
          [
           "Lee Peltier",
           36
          ],
          [
           "Adrian Mariappa",
           36
          ],
          [
           "Kei Kamara",
           38
          ],
          [
           "Mario Vrancic",
           33
          ],
          [
           "Jozy Altidore",
           33
          ],
          [
           "Brad Guzan",
           38
          ],
          [
           "Marouane Fellaini",
           35
          ],
          [
           "Ryan Bertrand",
           33
          ],
          [
           "Liam Bridcutt",
           34
          ],
          [
           "Jack Cork",
           33
          ],
          [
           "James McArthur",
           35
          ],
          [
           "Sone Aluko",
           34
          ],
          [
           "Fraizer Campbell",
           35
          ],
          [
           "Jonny Evans",
           35
          ],
          [
           "Gary Hooper",
           34
          ],
          [
           "Gaetano Berardi",
           34
          ],
          [
           "Elliott Bennett",
           34
          ],
          [
           "Stephen Quinn",
           37
          ],
          [
           "Adam Lallana",
           35
          ],
          [
           "Erik Pieters",
           34
          ],
          [
           "Chris Gunter",
           33
          ],
          [
           "Bojan Krkic",
           32
          ],
          [
           "Beram Kayal",
           35
          ],
          [
           "Diego Costa",
           34
          ],
          [
           "Henri Lansbury",
           32
          ],
          [
           "Dan Gosling",
           33
          ],
          [
           "Claudio Yacob",
           35
          ],
          [
           "Jonathan Howson",
           35
          ],
          [
           "Wayne Hennessey",
           36
          ],
          [
           "Marco Stiepermann",
           32
          ],
          [
           "Fabri",
           35
          ],
          [
           "Luke Daniels",
           35
          ],
          [
           "Chris Martin",
           34
          ],
          [
           "Pablo Hernández",
           38
          ],
          [
           "Lovre Kalinic",
           33
          ],
          [
           "David Luiz",
           35
          ],
          [
           "Teemu Pukki",
           33
          ],
          [
           "Alex Pearce",
           34
          ],
          [
           "Jason Puncheon",
           36
          ],
          [
           "Angelo Ogbonna",
           35
          ],
          [
           "Andy Carroll",
           34
          ],
          [
           "Sam Vokes",
           33
          ],
          [
           "Jordan Rhodes",
           33
          ],
          [
           "Bradley Johnson",
           35
          ],
          [
           "James Perch",
           37
          ],
          [
           "Elias Kachunga",
           30
          ],
          [
           "Billy Sharp",
           37
          ],
          [
           "Andreas Weimann",
           31
          ],
          [
           "Danny Rose",
           32
          ],
          [
           "Christian Benteke",
           32
          ],
          [
           "Chicharito",
           35
          ],
          [
           "Aleksandar Mitrović",
           28
          ],
          [
           "Carlos Sánchez",
           37
          ],
          [
           "Darren Randolph",
           36
          ],
          [
           "Joe Allen",
           33
          ],
          [
           "Mateo Kovacic",
           29
          ],
          [
           "Henri Saivet",
           32
          ],
          [
           "Wellington Paulista",
           39
          ],
          [
           "Zanka",
           33
          ],
          [
           "Chris Basham",
           34
          ],
          [
           "Fraser Forster",
           35
          ],
          [
           "Willian",
           34
          ],
          [
           "Jay Rodríguez",
           33
          ],
          [
           "İlkay Gündoğan",
           32
          ],
          [
           "John Fleck",
           31
          ],
          [
           "Sebastián Blanco",
           35
          ],
          [
           "Magnus Wolff Eikrem",
           32
          ],
          [
           "Chris Löwe",
           34
          ],
          [
           "Harry Arter",
           33
          ],
          [
           "Jack Rodwell",
           32
          ],
          [
           "Jordon Mutch",
           31
          ],
          [
           "Simon Dawkins",
           35
          ],
          [
           "Christopher Schindler",
           33
          ],
          [
           "Emilio Nsue",
           33
          ],
          [
           "Craig Cathcart",
           34
          ],
          [
           "Thiago Alcántara",
           32
          ],
          [
           "Sean Scannell",
           32
          ],
          [
           "Marc Albrighton",
           33
          ],
          [
           "Barry Bannan",
           33
          ],
          [
           "Jonathan Hogg",
           34
          ],
          [
           "James Tomkins",
           34
          ],
          [
           "Jack Colback",
           33
          ],
          [
           "Conor Hourihane",
           32
          ],
          [
           "Neil Etheridge",
           33
          ],
          [
           "Wes Foderingham",
           32
          ],
          [
           "David Button",
           34
          ],
          [
           "Jake Livermore",
           33
          ],
          [
           "Adam Smith",
           32
          ],
          [
           "Stefan Johansen",
           32
          ],
          [
           "Shane Ferguson",
           31
          ],
          [
           "Vegard Forren",
           35
          ],
          [
           "Odion Ighalo",
           34
          ],
          [
           "Scott Dann",
           36
          ],
          [
           "Tomás Mejías",
           34
          ],
          [
           "Ashley Barnes",
           33
          ],
          [
           "Aron Gunnarsson",
           34
          ],
          [
           "Libor Kozak",
           34
          ],
          [
           "Troy Deeney",
           34
          ],
          [
           "Kyle Naughton",
           34
          ],
          [
           "Luke Freeman",
           31
          ],
          [
           "Cheikhou Kouyaté",
           33
          ],
          [
           "Gary Madine",
           32
          ],
          [
           "Danny Welbeck",
           32
          ],
          [
           "Sam Baldock",
           34
          ],
          [
           "Mark Oxley",
           32
          ],
          [
           "Ryan Bennett",
           33
          ],
          [
           "Ben Hamer",
           35
          ],
          [
           "David Stockdale",
           37
          ],
          [
           "Luke Ayling",
           31
          ],
          [
           "Kyle Bartley",
           32
          ],
          [
           "Michal Zyro",
           30
          ],
          [
           "Séamus Coleman",
           34
          ],
          [
           "Giedrius Arlauskis",
           35
          ],
          [
           "Christian Eriksen",
           31
          ],
          [
           "Garath McCleary",
           35
          ],
          [
           "Róger Espinoza",
           36
          ],
          [
           "Bernd Leno",
           31
          ],
          [
           "Adam Clayton",
           34
          ],
          [
           "Ben Amos",
           33
          ],
          [
           "James Chester",
           34
          ],
          [
           "Tom Cleverley",
           33
          ],
          [
           "Danny Drinkwater",
           33
          ],
          [
           "Matty James",
           31
          ],
          [
           "Oliver Norwood",
           32
          ],
          [
           "Jason Steele",
           32
          ],
          [
           "Pablo Sarabia",
           30
          ],
          [
           "Luka Milivojevic",
           32
          ],
          [
           "Adlène Guédioura",
           37
          ],
          [
           "Ben Mee",
           33
          ],
          [
           "Juraj Kucka",
           36
          ],
          [
           "Martin Dúbravka",
           34
          ],
          [
           "Liam Cooper",
           31
          ],
          [
           "Robin Olsen",
           33
          ],
          [
           "Niclas Füllkrug",
           30
          ],
          [
           "Lucas Moura",
           30
          ],
          [
           "Matt Phillips",
           32
          ],
          [
           "George Friend",
           35
          ],
          [
           "Thomas Kaminski",
           30
          ],
          [
           "Victor Wanyama",
           32
          ],
          [
           "Martin Kelly",
           33
          ],
          [
           "Daniel Ayala",
           32
          ],
          [
           "Sean Morrison",
           32
          ],
          [
           "Salomón Rondón",
           33
          ],
          [
           "Korey Smith",
           32
          ],
          [
           "Philippe Coutinho",
           30
          ],
          [
           "Craig Noone",
           35
          ],
          [
           "Tadanari Lee",
           37
          ],
          [
           "Sung-yueng Ki",
           34
          ],
          [
           "Chung-yong Lee",
           34
          ],
          [
           "Joel Matip",
           31
          ],
          [
           "Moritz Leitner",
           30
          ],
          [
           "Albert Adomah",
           35
          ],
          [
           "Nathaniel Clyne",
           32
          ],
          [
           "Oscar",
           31
          ],
          [
           "Borja Bastón",
           30
          ],
          [
           "Federico Fernández",
           34
          ],
          [
           "Enda Stevens",
           32
          ],
          [
           "Loris Karius",
           30
          ],
          [
           "Danny Lafferty",
           34
          ],
          [
           "James McClean",
           34
          ],
          [
           "Stefan Ortega",
           30
          ],
          [
           "Thomas Eisfeld",
           30
          ],
          [
           "Valentin Roberge",
           35
          ],
          [
           "Junior Stanislas",
           33
          ],
          [
           "Luca Scapuzzi",
           32
          ],
          [
           "Kevin De Bruyne",
           32
          ],
          [
           "Jonathan Kodjia",
           33
          ],
          [
           "Jóhann Berg Gudmundsson",
           32
          ],
          [
           "David Cornell",
           32
          ],
          [
           "Román Golobart",
           30
          ],
          [
           "Steve Cook",
           32
          ],
          [
           "Joe Bennett",
           33
          ],
          [
           "John Brayford",
           35
          ],
          [
           "Ashley Westwood",
           33
          ],
          [
           "James Shea",
           31
          ],
          [
           "Heung-min Son",
           30
          ],
          [
           "Sammy Ameobi",
           30
          ],
          [
           "Matt Ritchie",
           33
          ],
          [
           "Aaron Cresswell",
           33
          ],
          [
           "Joel Ward",
           33
          ],
          [
           "Mateusz Klich",
           33
          ],
          [
           "Kalidou Koulibaly",
           31
          ],
          [
           "Adama Diomande",
           33
          ],
          [
           "Marcos Rojo",
           33
          ],
          [
           "Stuart O'Keefe",
           32
          ],
          [
           "Muhamed Besic",
           30
          ],
          [
           "Jordan Bowery",
           31
          ],
          [
           "Connor Wickham",
           30
          ],
          [
           "Kieran Trippier",
           32
          ],
          [
           "Alex McCarthy",
           33
          ],
          [
           "Ciaran Clark",
           33
          ],
          [
           "Jannik Vestergaard",
           30
          ],
          [
           "Karl Darlow",
           32
          ],
          [
           "Matej Vydra",
           31
          ],
          [
           "Scott Malone",
           32
          ],
          [
           "Jorginho",
           31
          ],
          [
           "Matthew Lowton",
           34
          ],
          [
           "Michail Antonio",
           33
          ],
          [
           "Lyle Taylor",
           33
          ],
          [
           "Filip Orsula",
           30
          ],
          [
           "Alisson",
           30
          ],
          [
           "Jordan Ayew",
           31
          ],
          [
           "Chris Wood",
           31
          ],
          [
           "Adam Matthews",
           31
          ],
          [
           "Onel Hernández",
           30
          ],
          [
           "Luke Garbutt",
           30
          ],
          [
           "Gary Gardner",
           30
          ],
          [
           "Sam Johnstone",
           29
          ],
          [
           "Jed Steer",
           30
          ],
          [
           "Ryan Tunnicliffe",
           30
          ],
          [
           "Ryan Allsop",
           30
          ],
          [
           "Kevin Long",
           32
          ],
          [
           "Joël Veltman",
           31
          ],
          [
           "Sead Hajrovic",
           30
          ],
          [
           "Neeskens Kebano",
           31
          ],
          [
           "Ahmed Hegazy",
           32
          ],
          [
           "Neto",
           33
          ],
          [
           "Emiliano Martínez",
           30
          ],
          [
           "Philip Heise",
           32
          ],
          [
           "Tomer Hemed",
           36
          ],
          [
           "Cédric Soares",
           31
          ],
          [
           "Romaine Sawyers",
           31
          ],
          [
           "Greg Cunningham",
           32
          ],
          [
           "Richie Towell",
           31
          ],
          [
           "Luke Brattan",
           33
          ],
          [
           "Marcus Bettinelli",
           31
          ],
          [
           "Phil Jones",
           31
          ],
          [
           "Michael Keane",
           30
          ],
          [
           "Will Keane",
           30
          ],
          [
           "Ezequiel Schelotto",
           34
          ],
          [
           "Shane Duffy",
           31
          ],
          [
           "Jack Grimmer",
           29
          ],
          [
           "Daniel Bachmann",
           28
          ],
          [
           "Jazz Richards",
           32
          ],
          [
           "Alphonse Areola",
           30
          ],
          [
           "Joe Mason",
           32
          ],
          [
           "Kwesi Appiah",
           32
          ],
          [
           "Adam Davies",
           30
          ],
          [
           "Adam Forshaw",
           31
          ],
          [
           "Ryan Watson",
           29
          ],
          [
           "Tom Carroll",
           30
          ],
          [
           "John Egan",
           30
          ],
          [
           "Grant Hanley",
           31
          ],
          [
           "Eirik Johansen",
           30
          ],
          [
           "Tommy Smith",
           31
          ],
          [
           "Emyr Huws",
           29
          ],
          [
           "Craig Dawson",
           33
          ],
          [
           "Wellington Silva",
           30
          ],
          [
           "Markus Henriksen",
           30
          ],
          [
           "Sam Clucas",
           32
          ],
          [
           "Nico Yennaris",
           30
          ],
          [
           "Ali Gabr",
           34
          ],
          [
           "Tom Cairney",
           32
          ],
          [
           "Simon Moore",
           33
          ],
          [
           "Sam Morsy",
           31
          ],
          [
           "Callum Wilson",
           31
          ],
          [
           "Danny Ward",
           32
          ],
          [
           "Odysseas Vlachodimos",
           29
          ],
          [
           "Grant Hall",
           31
          ],
          [
           "Pontus Jansson",
           32
          ],
          [
           "Nathaniel Mendez-Laing",
           30
          ],
          [
           "Luke Berry",
           30
          ],
          [
           "Mark Flekken",
           30
          ],
          [
           "Lee Nicholls",
           30
          ],
          [
           "Carl Jenkinson",
           31
          ],
          [
           "Allan",
           32
          ],
          [
           "Kenny McLean",
           31
          ],
          [
           "Lucas Digne",
           29
          ],
          [
           "Idrissa Gueye",
           33
          ],
          [
           "Serge Aurier",
           30
          ],
          [
           "Abdoulaye Doucouré",
           30
          ],
          [
           "Matz Sels",
           31
          ],
          [
           "Robbie Brady",
           31
          ],
          [
           "Scott Wootton",
           31
          ],
          [
           "Derrick Williams",
           30
          ],
          [
           "Bo-kyung Kim",
           33
          ],
          [
           "Tom Anderson",
           29
          ],
          [
           "Jamal Blackman",
           29
          ],
          [
           "Nathaniel Chalobah",
           28
          ],
          [
           "Conor Coady",
           30
          ],
          [
           "Ben Gibson",
           30
          ],
          [
           "Liam Moore",
           30
          ],
          [
           "Jack Robinson",
           29
          ],
          [
           "Ethan Ebanks-Landell",
           30
          ],
          [
           "Nathan Redmond",
           29
          ],
          [
           "Charlie Austin",
           33
          ],
          [
           "Jordan Pickford",
           29
          ],
          [
           "Stuart Armstrong",
           31
          ],
          [
           "Jonathan Bond",
           30
          ],
          [
           "Juan Agudelo",
           30
          ],
          [
           "Rodrigo",
           32
          ],
          [
           "Roberto Firmino",
           31
          ],
          [
           "Ross Barkley",
           29
          ],
          [
           "Phil Ofosu-Ayeh",
           31
          ],
          [
           "Dan Burn",
           31
          ],
          [
           "Danny Ings",
           30
          ],
          [
           "Matthias Fanimo",
           29
          ],
          [
           "Nick Powell",
           29
          ],
          [
           "Raheem Sterling",
           28
          ],
          [
           "Blair Turgott",
           29
          ],
          [
           "André Carrillo",
           32
          ],
          [
           "Fabian Schär",
           31
          ],
          [
           "Manuel Lanzini",
           30
          ],
          [
           "Daniel Bentley",
           29
          ],
          [
           "Kadeem Harris",
           29
          ],
          [
           "Marçal",
           34
          ],
          [
           "Jakob Haugaard",
           31
          ],
          [
           "Virgil van Dijk",
           31
          ],
          [
           "Ryan Fredericks",
           30
          ],
          [
           "Josip Drmic",
           30
          ],
          [
           "Liam O'Neil",
           29
          ],
          [
           "George Saville",
           30
          ],
          [
           "Zeki Fryers",
           30
          ],
          [
           "Jesse Lingard",
           30
          ],
          [
           "Willy Boly",
           32
          ],
          [
           "Mark Gillespie",
           31
          ],
          [
           "Krisztián Adorján",
           30
          ],
          [
           "Leandro Trossard",
           28
          ],
          [
           "Tim Ream",
           35
          ],
          [
           "Wataru Endo",
           30
          ],
          [
           "Conor Townsend",
           30
          ],
          [
           "George Baldock",
           30
          ],
          [
           "Ryan Fraser",
           29
          ],
          [
           "Lewis Dunk",
           31
          ],
          [
           "Jeff Hendrick",
           31
          ],
          [
           "Christian Nørgaard",
           29
          ],
          [
           "Divock Origi",
           27
          ],
          [
           "Mohamed Salah",
           30
          ],
          [
           "Tomas Kalas",
           29
          ],
          [
           "Jiri Skalak",
           31
          ],
          [
           "Todd Kane",
           29
          ],
          [
           "Felipe",
           34
          ],
          [
           "Tyias Browning",
           28
          ],
          [
           "Ben Heneghan",
           29
          ],
          [
           "Tom Ince",
           31
          ],
          [
           "Michael Hector",
           30
          ],
          [
           "Kurt Zouma",
           28
          ],
          [
           "Vladimír Coufal",
           30
          ],
          [
           "Cyrus Christie",
           30
          ],
          [
           "Tendayi Darikwa",
           31
          ],
          [
           "Kieron Freeman",
           31
          ],
          [
           "Max Ehmer",
           31
          ],
          [
           "Stuart Dallas",
           32
          ],
          [
           "Mesca",
           29
          ],
          [
           "Mohamed Elneny",
           30
          ],
          [
           "Adam Reach",
           30
          ],
          [
           "Connor Ripley",
           30
          ],
          [
           "Adam Smith",
           30
          ],
          [
           "Jack Stephens",
           29
          ],
          [
           "Rory Donnelly",
           31
          ],
          [
           "Raphaël Varane",
           30
          ],
          [
           "Jürgen Locadia",
           29
          ],
          [
           "Paddy McNair",
           28
          ],
          [
           "James Husband",
           29
          ],
          [
           "Daniel Johnson",
           30
          ],
          [
           "Callum Paterson",
           28
          ],
          [
           "Cauley Woodrow",
           28
          ],
          [
           "Paul Dummett",
           31
          ],
          [
           "Jonathan Williams",
           29
          ],
          [
           "Timo Werner",
           27
          ],
          [
           "Cody Cropper",
           30
          ],
          [
           "Ben Reeves",
           31
          ],
          [
           "Jay Fulton",
           29
          ],
          [
           "Riyad Mahrez",
           32
          ],
          [
           "Matt Doherty",
           31
          ],
          [
           "Nahki Wells",
           33
          ],
          [
           "James Tarkowski",
           30
          ],
          [
           "Hélder Costa",
           29
          ],
          [
           "Brad Smith",
           29
          ],
          [
           "Sebastian Lletget",
           30
          ],
          [
           "Aymeric Laporte",
           28
          ],
          [
           "Florin Andone",
           30
          ],
          [
           "Nathan Aké",
           28
          ],
          [
           "Charly Musonda Jr.",
           26
          ],
          [
           "Graham Burke",
           29
          ],
          [
           "Harry Maguire",
           30
          ],
          [
           "Jean Michaël Seri",
           31
          ],
          [
           "Donald Love",
           28
          ],
          [
           "Curtis Good",
           30
          ],
          [
           "George Evans",
           28
          ],
          [
           "James Ward-Prowse",
           28
          ],
          [
           "Massimo Luongo",
           30
          ],
          [
           "Emerson",
           28
          ],
          [
           "Jordan Graham",
           28
          ],
          [
           "Ryan Inniss",
           27
          ],
          [
           "Luke Shaw",
           27
          ],
          [
           "Joe Rothwell",
           28
          ],
          [
           "Callum Robinson",
           28
          ],
          [
           "Luke McGee",
           27
          ],
          [
           "Ben Pearson",
           28
          ],
          [
           "Jamaal Lascelles",
           29
          ],
          [
           "Patrick Bamford",
           29
          ],
          [
           "Gregor Zabret",
           28
          ],
          [
           "Jordan Clark",
           29
          ],
          [
           "Ming-Yang Yang",
           27
          ],
          [
           "Tom Hopper",
           29
          ],
          [
           "Emil Krafth",
           28
          ],
          [
           "Victor Lindelöf",
           28
          ],
          [
           "Bobby De Cordova-Reid",
           30
          ],
          [
           "John Stones",
           29
          ],
          [
           "Marek Rodák",
           26
          ],
          [
           "Jack Rose",
           28
          ],
          [
           "Ryan Christie",
           28
          ],
          [
           "Michael Petrasso",
           27
          ],
          [
           "Sean Maguire",
           29
          ],
          [
           "Nick Pope",
           31
          ],
          [
           "Kepa Arrizabalaga",
           28
          ],
          [
           "Ben Davies",
           30
          ],
          [
           "Álex Moreno",
           30
          ],
          [
           "John McGinn",
           28
          ],
          [
           "Joe Bryan",
           29
          ],
          [
           "Charlie Taylor",
           29
          ],
          [
           "Adedeji Oshilaja",
           29
          ],
          [
           "Joe Ralls",
           29
          ],
          [
           "Remi Matthews",
           29
          ],
          [
           "John Swift",
           27
          ],
          [
           "Janoi Donacien",
           29
          ],
          [
           "Josh Sheehan",
           28
          ],
          [
           "Jamie Vardy",
           36
          ],
          [
           "Liam Shephard",
           28
          ],
          [
           "Harry Toffolo",
           27
          ],
          [
           "Lewis Baker",
           28
          ],
          [
           "Sam Hoskins",
           30
          ],
          [
           "Jacob Murphy",
           28
          ],
          [
           "Josh Murphy",
           28
          ],
          [
           "Kevin Stewart",
           29
          ],
          [
           "Angus Gunn",
           27
          ],
          [
           "Danny Ward",
           30
          ],
          [
           "Conor McGrandles",
           27
          ],
          [
           "Andreas Pereira",
           27
          ],
          [
           "Jack Grealish",
           27
          ],
          [
           "Oleksandr Zinchenko",
           26
          ],
          [
           "Adama Traoré",
           27
          ],
          [
           "Saman Ghoddos",
           29
          ],
          [
           "Dejan Iliev",
           28
          ],
          [
           "Raúl Jiménez",
           31
          ],
          [
           "Isaac Hayden",
           28
          ],
          [
           "Kenny Tete",
           27
          ],
          [
           "Will Hughes",
           28
          ],
          [
           "Dan Potts",
           29
          ],
          [
           "Tom Lockyer",
           28
          ],
          [
           "Louis Thompson",
           28
          ],
          [
           "Brendan Galloway",
           27
          ],
          [
           "Christian Walton",
           27
          ],
          [
           "Solly March",
           28
          ],
          [
           "Oumar Niasse",
           32
          ],
          [
           "Jack O'Connell",
           29
          ],
          [
           "Adam Webster",
           28
          ],
          [
           "David Ferguson",
           28
          ],
          [
           "Connor Roberts",
           27
          ],
          [
           "Kean Bryan",
           26
          ],
          [
           "Calum Chambers",
           28
          ],
          [
           "Tom King",
           28
          ],
          [
           "Ricardo Pereira",
           29
          ],
          [
           "Ben Osborn",
           28
          ],
          [
           "George Honeyman",
           28
          ],
          [
           "Conor Grant",
           27
          ],
          [
           "Matthew Pennington",
           28
          ],
          [
           "Zack Steffen",
           28
          ],
          [
           "Alex Gilliead",
           27
          ],
          [
           "Joel Dixon",
           29
          ],
          [
           "Danilo Pantic",
           26
          ],
          [
           "Luke Simpson",
           28
          ],
          [
           "N'Golo Kanté",
           31
          ],
          [
           "Gonçalo Guedes",
           26
          ],
          [
           "Rúben Neves",
           26
          ],
          [
           "Fabinho",
           29
          ],
          [
           "Matheus Pereira",
           27
          ],
          [
           "Freddie Woodman",
           26
          ],
          [
           "Sean Raggett",
           29
          ],
          [
           "Anthony Cáceres",
           30
          ],
          [
           "Dominic Gape",
           28
          ],
          [
           "Lloyd Isgrove",
           30
          ],
          [
           "Harrison Reed",
           28
          ],
          [
           "Sam Gallagher",
           27
          ],
          [
           "Jason McCarthy",
           27
          ],
          [
           "Gedion Zelalem",
           26
          ],
          [
           "Thomas Partey",
           30
          ],
          [
           "Nélson Semedo",
           29
          ],
          [
           "Emiliano Marcondes",
           28
          ],
          [
           "Kortney Hause",
           27
          ],
          [
           "Freddie Ladapo",
           30
          ],
          [
           "André Onana",
           26
          ],
          [
           "Andrew Robertson",
           29
          ],
          [
           "Ola Aina",
           26
          ],
          [
           "Connor Ogilvie",
           27
          ],
          [
           "Sam Byram",
           29
          ],
          [
           "Ederson",
           29
          ],
          [
           "Leandro Rodríguez",
           30
          ],
          [
           "Jamal Lowe",
           28
          ],
          [
           "George Byers",
           26
          ],
          [
           "Bruno Fernandes",
           28
          ],
          [
           "Bernardo Silva",
           28
          ],
          [
           "Jindrich Stanek",
           27
          ],
          [
           "Ethan Horvath",
           27
          ],
          [
           "Gethin Jones",
           27
          ],
          [
           "Courtney Duffus",
           27
          ],
          [
           "Josh Cullen",
           26
          ],
          [
           "Alex Iwobi",
           27
          ],
          [
           "Nathan Mavila",
           27
          ],
          [
           "Lewis Page",
           26
          ],
          [
           "Josh Vickers",
           27
          ],
          [
           "Jan Bednarek",
           26
          ],
          [
           "Josh Onomah",
           26
          ],
          [
           "Lawrence Vigouroux",
           29
          ],
          [
           "Lloyd Jones",
           27
          ],
          [
           "Hiram Boateng",
           27
          ],
          [
           "Pelly Ruddock Mpanzu",
           29
          ],
          [
           "Jon Gorenc Stankovic",
           27
          ],
          [
           "Saša Lukić",
           26
          ],
          [
           "Reece James",
           29
          ],
          [
           "Alex Palmer",
           26
          ],
          [
           "Bartosz Kapustka",
           26
          ],
          [
           "Carlton Morris",
           27
          ],
          [
           "Duncan Watmore",
           29
          ],
          [
           "Lewis Cook",
           26
          ],
          [
           "Harry Winks",
           27
          ],
          [
           "Jack Stacey",
           27
          ],
          [
           "Youri Tielemans",
           25
          ],
          [
           "Tariqe Fosu",
           27
          ],
          [
           "José Sá",
           30
          ],
          [
           "Adam Armstrong",
           26
          ],
          [
           "Jamie Sterry",
           27
          ],
          [
           "Matt Targett",
           27
          ],
          [
           "Enes Ünal",
           26
          ],
          [
           "Jordan Lyden",
           27
          ],
          [
           "Ivan Toney",
           27
          ],
          [
           "Semi Ajayi",
           29
          ],
          [
           "Ken Sema",
           29
          ],
          [
           "Rob Holding",
           27
          ],
          [
           "Tyrone Mings",
           30
          ],
          [
           "Harry Cornick",
           28
          ],
          [
           "Wes Burns",
           28
          ],
          [
           "Samir Caetano",
           28
          ],
          [
           "Cameron Burgess",
           27
          ],
          [
           "Joe Gomez",
           26
          ],
          [
           "Adnan Maric",
           26
          ],
          [
           "Dan Barlaser",
           26
          ],
          [
           "Tommy Robson",
           27
          ],
          [
           "Rúben Dias",
           26
          ],
          [
           "Kasey Palmer",
           26
          ],
          [
           "Tom Beadling",
           27
          ],
          [
           "Tosin Adarabioyo",
           25
          ],
          [
           "Ryan Ledson",
           25
          ],
          [
           "Max Lowe",
           25
          ],
          [
           "Kyle Scott",
           25
          ],
          [
           "Dominic Solanke",
           25
          ],
          [
           "Dean Henderson",
           26
          ],
          [
           "Marcus Rashford",
           25
          ],
          [
           "Joachim Andersen",
           27
          ],
          [
           "Daniel Iversen",
           25
          ],
          [
           "Cameron Brannagan",
           26
          ],
          [
           "Filip Krovinovic",
           27
          ],
          [
           "Timothy Castagne",
           27
          ],
          [
           "Ryan Manning",
           26
          ],
          [
           "David Raya",
           27
          ],
          [
           "Soufyan Ahannach",
           28
          ],
          [
           "Jefferson Lerma",
           28
          ],
          [
           "Kevin Danso",
           24
          ],
          [
           "Harry Charsley",
           26
          ],
          [
           "Reece Burke",
           26
          ],
          [
           "Kevin Toner",
           26
          ],
          [
           "Matt Grimes",
           27
          ],
          [
           "Joe Williams",
           26
          ],
          [
           "Vitaly Janelt",
           25
          ],
          [
           "Callum Elder",
           28
          ],
          [
           "Sylvain Deslandes",
           25
          ],
          [
           "Issa Diop",
           26
          ],
          [
           "Paul Onuachu",
           28
          ],
          [
           "Miguel Almirón",
           29
          ],
          [
           "Jonathan Benteke",
           28
          ],
          [
           "Wilfred Ndidi",
           26
          ],
          [
           "Kieffer Moore",
           30
          ],
          [
           "David Brooks",
           25
          ],
          [
           "Jack Payne",
           28
          ],
          [
           "Amari'i Bell",
           29
          ],
          [
           "MJ Williams",
           27
          ],
          [
           "Harry Wilson",
           26
          ],
          [
           "Sergio Reguilón",
           26
          ],
          [
           "Corey Blackett-Taylor",
           25
          ],
          [
           "Alfie Whiteman",
           24
          ],
          [
           "Tomas Soucek",
           28
          ],
          [
           "Grant Ward",
           28
          ],
          [
           "Manuel Akanji",
           27
          ],
          [
           "Marc Cucurella",
           24
          ],
          [
           "Will Norris",
           29
          ],
          [
           "Joel Coleman",
           27
          ],
          [
           "Harry Burgoyne",
           26
          ],
          [
           "Guglielmo Vicario",
           26
          ],
          [
           "Joe Lolley",
           30
          ],
          [
           "Krystian Bielik",
           25
          ],
          [
           "Connor Mahoney",
           26
          ],
          [
           "Orel Mangala",
           25
          ],
          [
           "Josh Harrop",
           27
          ],
          [
           "Ashley Fletcher",
           27
          ],
          [
           "Saïd Benrahma",
           27
          ],
          [
           "Jordan Hugill",
           31
          ],
          [
           "Sammie Szmodics",
           27
          ],
          [
           "Hee-chan Hwang",
           27
          ],
          [
           "Demarai Gray",
           26
          ],
          [
           "Wout Faes",
           25
          ],
          [
           "Matija Sarkic",
           25
          ],
          [
           "Baily Cargill",
           27
          ],
          [
           "Josh Brownhill",
           27
          ],
          [
           "Conor Masterson",
           24
          ],
          [
           "James Maddison",
           26
          ],
          [
           "Nathan",
           27
          ],
          [
           "Taiwo Awoniyi",
           25
          ],
          [
           "Kelechi Iheanacho",
           26
          ],
          [
           "Marco Asensio",
           27
          ],
          [
           "Tyler Roberts",
           24
          ],
          [
           "Joe Rodon",
           25
          ],
          [
           "Harry Souttar",
           24
          ],
          [
           "Courtney Baker-Richardson",
           27
          ],
          [
           "George Thomas",
           26
          ],
          [
           "Kieran Tierney",
           25
          ],
          [
           "Fred Onyedinma",
           26
          ],
          [
           "Dominic Calvert-Lewin",
           26
          ],
          [
           "Matt Clarke",
           26
          ],
          [
           "Lynden Gooch",
           27
          ],
          [
           "Callum Connolly",
           25
          ],
          [
           "Jan Mlakar",
           24
          ],
          [
           "Kai Havertz",
           23
          ],
          [
           "Andre Green",
           24
          ],
          [
           "Ramadan Sobhi",
           26
          ],
          [
           "Liam Gibson",
           25
          ],
          [
           "Dael Fry",
           25
          ],
          [
           "Karlan Grant",
           25
          ],
          [
           "Tom Davies",
           24
          ],
          [
           "Rushian Hepburn-Murphy",
           24
          ],
          [
           "Herbie Kane",
           24
          ],
          [
           "Jonathan Leko",
           23
          ],
          [
           "Chris Willock",
           25
          ],
          [
           "Trent Alexander-Arnold",
           24
          ],
          [
           "Kyle Edwards",
           25
          ],
          [
           "Darnell Johnson",
           24
          ],
          [
           "Admiral Muskwe",
           24
          ],
          [
           "Ben Sheaf",
           25
          ],
          [
           "Jarrod Bowen",
           26
          ],
          [
           "Ben Chilwell",
           26
          ],
          [
           "Martin Ødegaard",
           24
          ],
          [
           "Jake Clarke-Salter",
           25
          ],
          [
           "Mateusz Hewelt",
           26
          ],
          [
           "Vlad Dragomir",
           23
          ],
          [
           "Daniel James",
           25
          ],
          [
           "Mathias Jensen",
           27
          ],
          [
           "Elijah Adebayo",
           25
          ],
          [
           "Anthony Georgiou",
           26
          ],
          [
           "Benny Ashley-Seal",
           24
          ],
          [
           "Benson Manuel",
           26
          ],
          [
           "Gustavo Hamer",
           25
          ],
          [
           "James Bree",
           25
          ],
          [
           "Ollie Watkins",
           27
          ],
          [
           "Marvelous Nakamba",
           29
          ],
          [
           "Donyell Malen",
           24
          ],
          [
           "Matthijs de Ligt",
           23
          ],
          [
           "Jaroslaw Jach",
           29
          ],
          [
           "Kristoffer Ajer",
           25
          ],
          [
           "João Virgínia",
           23
          ],
          [
           "Justin Kluivert",
           23
          ],
          [
           "Takehiro Tomiyasu",
           24
          ],
          [
           "Tyler Adams",
           24
          ],
          [
           "Sander Berge",
           25
          ],
          [
           "Joelinton",
           26
          ],
          [
           "Ben White",
           25
          ],
          [
           "Altay Bayındır",
           24
          ],
          [
           "Joe Lumley",
           28
          ],
          [
           "Nathan Holland",
           24
          ],
          [
           "Connor Ronan",
           25
          ],
          [
           "Konstantinos Tsimikas",
           27
          ],
          [
           "Mikel Merino",
           26
          ],
          [
           "Hannes Delcroix",
           24
          ],
          [
           "Daniel Grimshaw",
           25
          ],
          [
           "Rico Henry",
           25
          ],
          [
           "Josh Pask",
           25
          ],
          [
           "Regan Poole",
           24
          ],
          [
           "Tolaji Bola",
           24
          ],
          [
           "Marcus McGuane",
           24
          ],
          [
           "Josh Dasilva",
           24
          ],
          [
           "Eddie Nketiah",
           23
          ],
          [
           "Reiss Nelson",
           23
          ],
          [
           "Stephy Mavididi",
           25
          ],
          [
           "Joe Willock",
           23
          ],
          [
           "Noussair Mazraoui",
           25
          ],
          [
           "Caoimhín Kelleher",
           24
          ],
          [
           "Diogo Jota",
           26
          ],
          [
           "Harry Lewis",
           25
          ],
          [
           "Kyle Walker-Peters",
           26
          ],
          [
           "Federico Chiesa",
           25
          ],
          [
           "Hamza Choudhury",
           25
          ],
          [
           "Elliott Moore",
           26
          ],
          [
           "Axel Tuanzebe",
           25
          ],
          [
           "Grady Diangana",
           25
          ],
          [
           "Nathan Baxter",
           24
          ],
          [
           "Guido Rodríguez",
           29
          ],
          [
           "Ben Godfrey",
           25
          ],
          [
           "Nathan Broadhead",
           25
          ],
          [
           "Ben Woodburn",
           23
          ],
          [
           "Odsonne Edouard",
           25
          ],
          [
           "Christopher Nkunku",
           25
          ],
          [
           "Boubakary Soumaré",
           24
          ],
          [
           "Tahith Chong",
           23
          ],
          [
           "Shayon Harrison",
           25
          ],
          [
           "Djair Parfitt-Williams",
           26
          ],
          [
           "Jamal Lewis",
           25
          ],
          [
           "Trevoh Chalobah",
           23
          ],
          [
           "Jordan Williams",
           23
          ],
          [
           "Tom Dele-Bashiru",
           23
          ],
          [
           "Japhet Tanganga",
           24
          ],
          [
           "Dan Nlundulu",
           24
          ],
          [
           "Mason Mount",
           24
          ],
          [
           "Sean Longstaff",
           25
          ],
          [
           "Mason Holgate",
           26
          ],
          [
           "Alexander Isak",
           23
          ],
          [
           "Conor Chaplin",
           26
          ],
          [
           "Pervis Estupiñán",
           25
          ],
          [
           "Antonee Robinson",
           25
          ],
          [
           "Shayne Lavery",
           24
          ],
          [
           "Kalvin Phillips",
           27
          ],
          [
           "Darnell Furlong",
           27
          ],
          [
           "Keshi Anderson",
           28
          ],
          [
           "Adnan Kanuric",
           22
          ],
          [
           "Joe Powell",
           24
          ],
          [
           "Rodrigo Bentancur",
           26
          ],
          [
           "Cristian Romero",
           25
          ],
          [
           "Daichi Kamada",
           26
          ],
          [
           "Ibrahima Konaté",
           24
          ],
          [
           "Diogo Dalot",
           24
          ],
          [
           "Kazaiah Sterling",
           24
          ],
          [
           "Rodri",
           27
          ],
          [
           "Jayson Molumby",
           23
          ],
          [
           "Mark Travers",
           24
          ],
          [
           "Declan Rice",
           24
          ],
          [
           "Lasse Sörensen",
           23
          ],
          [
           "Sven Botman",
           23
          ],
          [
           "Gabriel Jesus",
           26
          ],
          [
           "Elliot Embleton",
           24
          ],
          [
           "Patson Daka",
           24
          ],
          [
           "Pontus Dahlberg",
           24
          ],
          [
           "Dan Agyei",
           25
          ],
          [
           "Niall Ennis",
           23
          ],
          [
           "Ferdi Kadıoğlu",
           23
          ],
          [
           "Sasa Kalajdzic",
           25
          ],
          [
           "Arijanet Muric",
           24
          ],
          [
           "Francisco Sierralta",
           26
          ],
          [
           "Nathaniel Phillips",
           26
          ],
          [
           "Carlos Soler",
           26
          ],
          [
           "Paulinho",
           25
          ],
          [
           "Junior Firpo",
           26
          ],
          [
           "Ibrahim Sangaré",
           25
          ],
          [
           "Charlie Goode",
           27
          ],
          [
           "Anel Ahmedhodzic",
           24
          ],
          [
           "Richarlison",
           26
          ],
          [
           "Lyanco",
           26
          ],
          [
           "Igor",
           25
          ],
          [
           "Joel Mumbongo",
           24
          ],
          [
           "Wesley Moraes",
           26
          ],
          [
           "Steven Benda",
           24
          ],
          [
           "Mike Trésor",
           23
          ],
          [
           "Tyrese Campbell",
           23
          ],
          [
           "Joe Hardy",
           24
          ],
          [
           "Przemyslaw Placheta",
           25
          ],
          [
           "Axel Disasi",
           25
          ],
          [
           "Darko Churlinov",
           22
          ],
          [
           "Joe Riley",
           26
          ],
          [
           "Daiki Hashioka",
           24
          ],
          [
           "Samuel Shashoua",
           24
          ],
          [
           "Sam Field",
           25
          ],
          [
           "Leon Bailey",
           25
          ],
          [
           "Yoane Wissa",
           26
          ],
          [
           "Jacob Lungi Sörensen",
           25
          ],
          [
           "Marcus Browne",
           25
          ],
          [
           "Chiedozie Ogbene",
           26
          ],
          [
           "Marc Guéhi",
           22
          ],
          [
           "Ian Poveda",
           23
          ],
          [
           "Emile Smith Rowe",
           22
          ],
          [
           "George McEachran",
           22
          ],
          [
           "Callum Hudson-Odoi",
           22
          ],
          [
           "Marcel Lavinier",
           22
          ],
          [
           "Kane Wilson",
           23
          ],
          [
           "Ryan Sessegnon",
           23
          ],
          [
           "Josh Sargent",
           23
          ],
          [
           "Boubacar Kamara",
           23
          ],
          [
           "Claudio Gomes",
           22
          ],
          [
           "Moussa Diaby",
           23
          ],
          [
           "Sam Hughes",
           25
          ],
          [
           "Jimmy Dunne",
           25
          ],
          [
           "Ethan Hamilton",
           24
          ],
          [
           "Manor Solomon",
           23
          ],
          [
           "Dan Kemp",
           24
          ],
          [
           "Jamie Cumming",
           23
          ],
          [
           "Richard Nartey",
           24
          ],
          [
           "Sandro Tonali",
           23
          ],
          [
           "Josh Benson",
           23
          ],
          [
           "Harvey Barnes",
           25
          ],
          [
           "Sam Surridge",
           24
          ],
          [
           "Marcus Tavernier",
           24
          ],
          [
           "Pau Torres",
           26
          ],
          [
           "Mads Hermansen",
           22
          ],
          [
           "Jadon Sancho",
           22
          ],
          [
           "Dara O'Shea",
           24
          ],
          [
           "Edson Álvarez",
           25
          ],
          [
           "Michal Karbownik",
           22
          ],
          [
           "Gonzalo Montiel",
           26
          ],
          [
           "Robert Sánchez",
           25
          ],
          [
           "Jordan Beyer",
           22
          ],
          [
           "Marcus Forss",
           23
          ],
          [
           "Vitaliy Mykolenko",
           24
          ],
          [
           "Yukinari Sugawara",
           22
          ],
          [
           "Yan Valery",
           24
          ],
          [
           "Tom McGill",
           23
          ],
          [
           "Steven Sessegnon",
           22
          ],
          [
           "Timothy Eyoma",
           23
          ],
          [
           "Rhian Brewster",
           23
          ],
          [
           "Matt O'Riley",
           22
          ],
          [
           "Phil Foden",
           23
          ],
          [
           "Oliver Skipp",
           22
          ],
          [
           "Mads Andersen",
           25
          ],
          [
           "Ismaïla Sarr",
           25
          ],
          [
           "Yves Bissouma",
           26
          ],
          [
           "Pascal Struijk",
           23
          ],
          [
           "Max Sanders",
           24
          ],
          [
           "Adam Parkes",
           23
          ],
          [
           "Ibrahima Diallo",
           24
          ],
          [
           "Bryan Mbeumo",
           23
          ],
          [
           "James Justin",
           25
          ],
          [
           "Ezri Konsa",
           25
          ],
          [
           "Nikola Milenković",
           25
          ],
          [
           "Marshall Munetsi",
           27
          ],
          [
           "Mats Wieffer",
           23
          ],
          [
           "Bruno Jordão",
           24
          ],
          [
           "Konstantinos Mavropanos",
           25
          ],
          [
           "Joe Worrall",
           26
          ],
          [
           "Jordan Green",
           28
          ],
          [
           "Jack Harrison",
           26
          ],
          [
           "Erling Haaland",
           22
          ],
          [
           "Kristoffer Klaesson",
           22
          ],
          [
           "Conor Coventry",
           23
          ],
          [
           "Lewis Gibson",
           22
          ],
          [
           "Jean-Philippe Mateta",
           25
          ],
          [
           "Jurrien Timber",
           21
          ],
          [
           "George Hirst",
           24
          ],
          [
           "Alfie Lewis",
           23
          ],
          [
           "Nathan Patterson",
           21
          ],
          [
           "Samuel Kalu",
           25
          ],
          [
           "Josh Knight",
           25
          ],
          [
           "Matt Turner",
           29
          ],
          [
           "Matty Cash",
           25
          ],
          [
           "Akin Famewo",
           24
          ],
          [
           "Ryan Yates",
           25
          ],
          [
           "Jakub Kiwior",
           23
          ],
          [
           "Ben Brereton Díaz",
           24
          ],
          [
           "Aaron Ramsdale",
           24
          ],
          [
           "Thanawat Suengchitthawon",
           23
          ],
          [
           "Brandon Austin",
           24
          ],
          [
           "Morgan Gibbs-White",
           23
          ],
          [
           "Jørgen Strand Larsen",
           23
          ],
          [
           "Andrew Irving",
           23
          ],
          [
           "Tom Edwards",
           24
          ],
          [
           "Peter Gwargis",
           22
          ],
          [
           "Mateusz Bogusz",
           22
          ],
          [
           "Dejan Kulusevski",
           22
          ],
          [
           "Bukayo Saka",
           21
          ],
          [
           "Elijah Dixon-Bonner",
           22
          ],
          [
           "Luis Longstaff",
           22
          ],
          [
           "Tommy Doyle",
           21
          ],
          [
           "Rayhaan Tulloch",
           22
          ],
          [
           "Bali Mumba",
           21
          ],
          [
           "Curtis Jones",
           22
          ],
          [
           "Scott Twine",
           23
          ],
          [
           "Tudor Baluta",
           24
          ],
          [
           "Ethan Galbraith",
           21
          ],
          [
           "Aaron Connolly",
           23
          ],
          [
           "Maxence Lacroix",
           23
          ],
          [
           "Cody Gakpo",
           24
          ],
          [
           "Gabriel Magalhães",
           25
          ],
          [
           "Joshua Zirkzee",
           21
          ],
          [
           "Santiago Bueno",
           24
          ],
          [
           "Ethan Pinnock",
           30
          ],
          [
           "Edouard Mendy",
           31
          ],
          [
           "Michael Obafemi",
           22
          ],
          [
           "Will Smallbone",
           23
          ],
          [
           "Lucas Paquetá",
           25
          ],
          [
           "Louie Moulden",
           21
          ],
          [
           "Omar Marmoush",
           24
          ],
          [
           "Ross Stewart",
           26
          ],
          [
           "Emmanuel Dennis",
           25
          ],
          [
           "Jean-Ricner Bellegarde",
           24
          ],
          [
           "Dominik Szoboszlai",
           22
          ],
          [
           "Jorge Segura",
           26
          ],
          [
           "Adama Diakhaby",
           26
          ],
          [
           "Will Mannion",
           24
          ],
          [
           "Rekeem Harper",
           23
          ],
          [
           "Jack Taylor",
           24
          ],
          [
           "Harvey Rodgers",
           26
          ],
          [
           "Caleb Okoli",
           21
          ],
          [
           "Calvin Bassey",
           23
          ],
          [
           "Benoît Badiashile",
           22
          ],
          [
           "Marc Leonard",
           21
          ],
          [
           "Terry Taylor",
           21
          ],
          [
           "Allan Tchaptchet",
           21
          ],
          [
           "Jayden Bogle",
           22
          ],
          [
           "Nico González",
           21
          ],
          [
           "Armel Bella-Kotchap",
           21
          ],
          [
           "Lyle Foster",
           22
          ],
          [
           "Ben Johnson",
           23
          ],
          [
           "Jens Cajuste",
           23
          ],
          [
           "Joe Aribo",
           26
          ],
          [
           "Vitinho",
           23
          ],
          [
           "Nathan Collins",
           22
          ],
          [
           "Gavin Kilkenny",
           23
          ],
          [
           "Marcos Senesi",
           26
          ],
          [
           "Indiana Vassilev",
           22
          ],
          [
           "Jacob Brown",
           24
          ],
          [
           "Paris Maghoma",
           21
          ],
          [
           "Ben Cottrell",
           21
          ],
          [
           "Brennan Johnson",
           21
          ],
          [
           "Reece James",
           23
          ],
          [
           "Kevin Schade",
           21
          ],
          [
           "Regan Slater",
           23
          ],
          [
           "Lewis Cass",
           23
          ],
          [
           "Crysencio Summerville",
           21
          ],
          [
           "Kiernan Dewsbury-Hall",
           24
          ],
          [
           "Wesley Fofana",
           22
          ],
          [
           "Josko Gvardiol",
           21
          ],
          [
           "Steven Alzate",
           24
          ],
          [
           "Bernardo Rosa",
           22
          ],
          [
           "Manuel Ugarte",
           21
          ],
          [
           "Aaron Wan-Bissaka",
           25
          ],
          [
           "Ryan Gravenberch",
           21
          ],
          [
           "Eberechi Eze",
           24
          ],
          [
           "Cohen Bramall",
           27
          ],
          [
           "Luis Díaz",
           26
          ],
          [
           "Lisandro Martínez",
           25
          ],
          [
           "Chris Mepham",
           25
          ],
          [
           "Djed Spence",
           22
          ],
          [
           "Matty Longstaff",
           23
          ],
          [
           "Taylor Richards",
           22
          ],
          [
           "Ian Maatsen",
           21
          ],
          [
           "Amadou Onana",
           21
          ],
          [
           "Jérémy Doku",
           21
          ],
          [
           "Jake Walker",
           22
          ],
          [
           "Jakub Stolarczyk",
           22
          ],
          [
           "Edo Kayembe",
           25
          ],
          [
           "Vitezslav Jaros",
           21
          ],
          [
           "Pedro Neto",
           23
          ],
          [
           "Maksim Paskotsi",
           20
          ],
          [
           "Siriki Dembélé",
           26
          ],
          [
           "Hákon Rafn Valdimarsson",
           21
          ],
          [
           "Ismaila Coulibaly",
           22
          ],
          [
           "Lucas Bergström",
           21
          ],
          [
           "Daniel Muñoz",
           26
          ],
          [
           "Jorge Cuenca",
           23
          ],
          [
           "Nathan Bishop",
           24
          ],
          [
           "William Saliba",
           21
          ],
          [
           "Dion Sanderson",
           23
          ],
          [
           "Elliot Thorpe",
           22
          ],
          [
           "Nicolás Domínguez",
           24
          ],
          [
           "Dion Pereira",
           24
          ],
          [
           "Ákos Onódi",
           21
          ],
          [
           "Aji Alese",
           22
          ],
          [
           "Taylor Perry",
           21
          ],
          [
           "Riccardo Calafiori",
           21
          ],
          [
           "Rhys Williams",
           22
          ],
          [
           "Neco Williams",
           22
          ],
          [
           "Anthony Driscoll-Glennon",
           23
          ],
          [
           "Anthony Gordon",
           22
          ],
          [
           "Morgan Rogers",
           20
          ],
          [
           "Jacob Ramsey",
           21
          ],
          [
           "Tyreece John-Jules",
           22
          ],
          [
           "Arthur Okonkwo",
           21
          ],
          [
           "Jeremy Ngakia",
           22
          ],
          [
           "Albert Grønbaek",
           22
          ],
          [
           "Joe Hodge",
           20
          ],
          [
           "Dynel Simeu",
           21
          ],
          [
           "Taylor Harwood-Bellis",
           21
          ],
          [
           "Joe Gelhardt",
           21
          ],
          [
           "Tino Livramento",
           20
          ],
          [
           "Noni Madueke",
           21
          ],
          [
           "Alex Mighten",
           20
          ],
          [
           "Nathan Wood",
           21
          ],
          [
           "Daniel Barden",
           22
          ],
          [
           "Tariq Lamptey",
           22
          ],
          [
           "Emmanuel Longelo",
           22
          ],
          [
           "Ryan Giles",
           23
          ],
          [
           "Kaoru Mitoma",
           25
          ],
          [
           "Luke Thomas",
           22
          ],
          [
           "James Garner",
           22
          ],
          [
           "Louie Watson",
           21
          ],
          [
           "Flynn Downes",
           24
          ],
          [
           "Josh Bowler",
           24
          ],
          [
           "Jack Young",
           22
          ],
          [
           "Nathan Ferguson",
           22
          ],
          [
           "Alexandre Jankewitz",
           21
          ],
          [
           "Brandon Williams",
           22
          ],
          [
           "Daniel Batty",
           25
          ],
          [
           "Ellis Simms",
           22
          ],
          [
           "Jackson Smith",
           21
          ],
          [
           "Ryan Longman",
           22
          ],
          [
           "Malcolm Ebiowei",
           19
          ],
          [
           "Luis Sinisterra",
           24
          ],
          [
           "Jesper Lindstrøm",
           23
          ],
          [
           "Julián Araujo",
           21
          ],
          [
           "Matheus Cunha",
           23
          ],
          [
           "Bruno Guimarães",
           25
          ],
          [
           "Jensen Weir",
           21
          ],
          [
           "Jaime Alvarado",
           23
          ],
          [
           "Maximilian Kilman",
           25
          ],
          [
           "Carlos Vinícius",
           28
          ],
          [
           "Karlo Ziger",
           22
          ],
          [
           "Luke Woolfenden",
           24
          ],
          [
           "Tyrese Francois",
           22
          ],
          [
           "Jack Spong",
           21
          ],
          [
           "Armstrong Oko-Flex",
           21
          ],
          [
           "Di'Shon Bernard",
           22
          ],
          [
           "D'Mani Mellor",
           22
          ],
          [
           "Ethan Laird",
           21
          ],
          [
           "Cody Drameh",
           21
          ],
          [
           "Sam Greenwood",
           21
          ],
          [
           "Daniel Adshead",
           21
          ],
          [
           "Luke Cundle",
           21
          ],
          [
           "Haydon Roberts",
           20
          ],
          [
           "Cameron Archer",
           21
          ],
          [
           "Shandon Baptiste",
           25
          ],
          [
           "Alexis Mac Allister",
           24
          ],
          [
           "Robbie Gotts",
           23
          ],
          [
           "Jamie Shackleton",
           23
          ],
          [
           "Luke McNally",
           23
          ],
          [
           "Amad Diallo",
           20
          ],
          [
           "Mykhaylo Mudryk",
           22
          ],
          [
           "Kwasi Sibo",
           25
          ],
          [
           "Georginio Rutter",
           20
          ],
          [
           "Christian Marques",
           20
          ],
          [
           "Kristian Sekularac",
           20
          ],
          [
           "Zak Swanson",
           22
          ],
          [
           "Mikkel Damsgaard",
           22
          ],
          [
           "Sepp van den Berg",
           21
          ],
          [
           "Illan Meslier",
           23
          ],
          [
           "Alex Gilbert",
           21
          ],
          [
           "Rhys Norrington-Davies",
           24
          ],
          [
           "Cheick Doucouré",
           23
          ],
          [
           "Mohammed Kudus",
           22
          ],
          [
           "Darwin Núñez",
           24
          ],
          [
           "Anis Slimane",
           22
          ],
          [
           "Taylor Gardner-Hickman",
           21
          ],
          [
           "Miguel Azeez",
           20
          ],
          [
           "Josh Martin",
           21
          ],
          [
           "Teden Mengi",
           20
          ],
          [
           "Owen Beck",
           21
          ],
          [
           "Pedro Porro",
           23
          ],
          [
           "Alpha Diounkou",
           21
          ],
          [
           "Yasser Larouci",
           22
          ],
          [
           "Oliwier Zych",
           19
          ],
          [
           "Destiny Udogie",
           20
          ],
          [
           "Micky van de Ven",
           21
          ],
          [
           "Harrison Ashby",
           21
          ],
          [
           "Fábio Carvalho",
           20
          ],
          [
           "Jack Clarke",
           22
          ],
          [
           "Oliver Casey",
           22
          ],
          [
           "Niall Huggins",
           22
          ],
          [
           "Lewis O'Brien",
           25
          ],
          [
           "Dan Chesters",
           21
          ],
          [
           "Kyle Taylor",
           23
          ],
          [
           "Victor Kristiansen",
           20
          ],
          [
           "Bart Verbruggen",
           20
          ],
          [
           "Harvey Elliott",
           20
          ],
          [
           "Matty Daly",
           22
          ],
          [
           "James Trafford",
           20
          ],
          [
           "Thomas Dickson-Peters",
           20
          ],
          [
           "Elliot Anderson",
           20
          ],
          [
           "Odel Offiah",
           21
          ],
          [
           "Jeremy Sarmiento",
           20
          ],
          [
           "Dennis Cirkin",
           21
          ],
          [
           "Cole Palmer",
           21
          ],
          [
           "Radu Drăgușin",
           21
          ],
          [
           "Pape Matar Sarr",
           20
          ],
          [
           "Armando Broja",
           21
          ],
          [
           "Joseph Anang",
           23
          ],
          [
           "Josh Wilson-Esbrand",
           20
          ],
          [
           "Jan Paul van Hecke",
           22
          ],
          [
           "Rayan Aït-Nouri",
           22
          ],
          [
           "Chris Richards",
           22
          ],
          [
           "James Furlong",
           20
          ],
          [
           "Ed Turns",
           20
          ],
          [
           "Eiran Cashin",
           21
          ],
          [
           "Harvey White",
           21
          ],
          [
           "CJ Egan-Riley",
           20
          ],
          [
           "Louie Barry",
           19
          ],
          [
           "Charlie Patino",
           19
          ],
          [
           "Lukas Jensen",
           24
          ],
          [
           "Will Dennis",
           22
          ],
          [
           "Anthony Elanga",
           21
          ],
          [
           "James McAtee",
           20
          ],
          [
           "Antoine Semenyo",
           23
          ],
          [
           "Dwight McNeil",
           23
          ],
          [
           "Filip Jørgensen",
           21
          ],
          [
           "Jesurun Rak-Sakyi",
           20
          ],
          [
           "Myles Peart-Harris",
           20
          ],
          [
           "Lewis Bate",
           20
          ],
          [
           "Derek Agyakwa",
           21
          ],
          [
           "Joe Gauci",
           22
          ],
          [
           "Aaron Hickey",
           21
          ],
          [
           "Woyo Coulibaly",
           24
          ],
          [
           "Tiago Cukur",
           20
          ],
          [
           "Beto",
           25
          ],
          [
           "Max Haygarth",
           21
          ],
          [
           "Leif Davis",
           23
          ],
          [
           "Xavier Simons",
           20
          ],
          [
           "Matheus Nunes",
           24
          ],
          [
           "Jean-Clair Todibo",
           23
          ],
          [
           "Sebastian Soto",
           22
          ],
          [
           "Denis Franchi",
           20
          ],
          [
           "Toti",
           24
          ],
          [
           "Hannibal",
           20
          ],
          [
           "Alfie Doughty",
           23
          ],
          [
           "Luke Mbete",
           19
          ],
          [
           "Alex Robertson",
           20
          ],
          [
           "Rasmus Højlund",
           20
          ],
          [
           "Caleb Watts",
           21
          ],
          [
           "Ollie O'Neill",
           20
          ],
          [
           "Liam Delap",
           20
          ],
          [
           "James Hill",
           21
          ],
          [
           "Liam McCarron",
           22
          ],
          [
           "Luke Matheson",
           20
          ],
          [
           "Levi Colwill",
           20
          ],
          [
           "Charlie McNeill",
           19
          ],
          [
           "Chem Campbell",
           20
          ],
          [
           "Dara Costelloe",
           20
          ],
          [
           "Tyler Morton",
           20
          ],
          [
           "Sam McCallum",
           22
          ],
          [
           "Malo Gusto",
           19
          ],
          [
           "Kasey McAteer",
           21
          ],
          [
           "Radek Vítek",
           19
          ],
          [
           "Iliman Ndiaye",
           23
          ],
          [
           "Conor Bradley",
           19
          ],
          [
           "Dale Taylor",
           19
          ],
          [
           "Lucas De Bolle",
           20
          ],
          [
           "Adrion Pajaziti",
           20
          ],
          [
           "João Pedro",
           21
          ],
          [
           "Kaine Kesler-Hayden",
           21
          ],
          [
           "Lewis Dobbin",
           20
          ],
          [
           "Wilfried Gnonto",
           19
          ],
          [
           "Roméo Lavia",
           19
          ],
          [
           "Femi Seriki",
           20
          ],
          [
           "Carlos Miguel",
           24
          ],
          [
           "Keane Lewis-Potter",
           22
          ],
          [
           "Lamare Bogarde",
           19
          ],
          [
           "Ben Greenwood",
           20
          ],
          [
           "Carl Rushworth",
           21
          ],
          [
           "Aaron Ramsey",
           20
          ],
          [
           "Juan Larios",
           19
          ],
          [
           "Jayden Bennetts",
           22
          ],
          [
           "Evan Ferguson",
           18
          ],
          [
           "Enzo Fernández",
           22
          ],
          [
           "Boubacar Traoré",
           21
          ],
          [
           "Jhon Durán",
           19
          ],
          [
           "Lewis Warrington",
           20
          ],
          [
           "Bilal El Khannouss",
           18
          ],
          [
           "Cameron Plain",
           22
          ],
          [
           "Brooklyn Genesini",
           21
          ],
          [
           "Gabriel Martinelli",
           21
          ],
          [
           "Christian Saydee",
           20
          ],
          [
           "Mipo Odubeko",
           20
          ],
          [
           "Aaron Rowe",
           22
          ],
          [
           "Simon Adingra",
           21
          ],
          [
           "Ilya Zabarnyi",
           20
          ],
          [
           "Julio Enciso",
           19
          ],
          [
           "Jarrad Branthwaite",
           20
          ],
          [
           "Leo Fuhr Hjelde",
           19
          ],
          [
           "Marcelo Pitaluga",
           21
          ],
          [
           "Tyler Onyango",
           20
          ],
          [
           "Jota Silva",
           23
          ],
          [
           "Darko Gyabi",
           19
          ],
          [
           "Vini Souza",
           24
          ],
          [
           "Jaden Philogene",
           21
          ],
          [
           "Rodrigo Gomes",
           19
          ],
          [
           "Yasin Ayari",
           19
          ],
          [
           "Marcelo Flores",
           19
          ],
          [
           "Joe Whitworth",
           19
          ],
          [
           "Divin Mubama",
           18
          ],
          [
           "Antwoine Hackford",
           19
          ],
          [
           "Luke Chambers",
           19
          ],
          [
           "Dane Scarlett",
           19
          ],
          [
           "Caleb Taylor",
           20
          ],
          [
           "Morato",
           21
          ],
          [
           "Anthony Mancini",
           22
          ],
          [
           "Emmanuel Agbadou",
           25
          ],
          [
           "Jaidon Anthony",
           23
          ],
          [
           "Charlie Savage",
           19
          ],
          [
           "Moisés Caicedo",
           21
          ],
          [
           "Chadi Riad",
           20
          ],
          [
           "Kamarai Swyer",
           21
          ],
          [
           "Jacob Greaves",
           22
          ],
          [
           "Jay Stansfield",
           20
          ],
          [
           "Tim Iroegbunam",
           19
          ],
          [
           "Rico Lewis",
           18
          ],
          [
           "Kgaogelo Chauke",
           20
          ],
          [
           "Harvey Davies",
           20
          ],
          [
           "Ji-soo Kim",
           18
          ],
          [
           "Kwadwo Baah",
           20
          ],
          [
           "Evanilson",
           23
          ],
          [
           "Jake O'Brien",
           22
          ],
          [
           "Lesley Ugochukwu",
           19
          ],
          [
           "Bobby Clark",
           18
          ],
          [
           "Yerson Mosquera",
           22
          ],
          [
           "Yegor Yarmolyuk",
           19
          ],
          [
           "Enock Agyei",
           18
          ],
          [
           "Tayo Adaramola",
           20
          ],
          [
           "Andrew Moran",
           20
          ],
          [
           "Liam Gibbs",
           20
          ],
          [
           "Antonín Kinský",
           20
          ],
          [
           "Welington",
           22
          ],
          [
           "Milos Kerkez",
           19
          ],
          [
           "Tyrick Mitchell",
           23
          ],
          [
           "Dylan Williams",
           20
          ],
          [
           "Kaide Gordon",
           18
          ],
          [
           "Jack Jenkins",
           21
          ],
          [
           "João Gomes",
           22
          ],
          [
           "Rodrigo Muniz",
           22
          ],
          [
           "Igor Thiago",
           21
          ],
          [
           "Omari Hutchinson",
           20
          ],
          [
           "Caleb Chukwuemeka",
           21
          ],
          [
           "Lino Sousa",
           18
          ],
          [
           "Wilson Odobert",
           18
          ],
          [
           "Savinho",
           19
          ],
          [
           "Matheus França",
           19
          ],
          [
           "Adam Wharton",
           19
          ],
          [
           "Ramón Sosa",
           23
          ],
          [
           "Luca Koleosho",
           18
          ],
          [
           "Kamaldeen Sulemana",
           21
          ],
          [
           "Daniel Jebbison",
           19
          ],
          [
           "Harry Boyes",
           21
          ],
          [
           "Justin Devenny",
           19
          ],
          [
           "Val Adedokun",
           20
          ],
          [
           "Carlos Alcaraz",
           20
          ],
          [
           "Abdukodir Khusanov",
           19
          ],
          [
           "Nicolas Jackson",
           21
          ],
          [
           "David Datro Fofana",
           20
          ],
          [
           "Bobby Thomas",
           22
          ],
          [
           "André",
           21
          ],
          [
           "Mathys Tel",
           18
          ],
          [
           "Ryan Finnigan",
           19
          ],
          [
           "Danilo",
           22
          ],
          [
           "Alejandro Garnacho",
           18
          ],
          [
           "Jack Wells-Morrison",
           19
          ],
          [
           "Luke Harris",
           18
          ],
          [
           "Kobbie Mainoo",
           17
          ],
          [
           "Alfie Pond",
           19
          ],
          [
           "Dango Ouattara",
           21
          ],
          [
           "Michael Kayode",
           18
          ],
          [
           "Maxime Estève",
           20
          ],
          [
           "Bénie Traoré",
           20
          ],
          [
           "Jack Hinchy",
           20
          ],
          [
           "Alex Scott",
           19
          ],
          [
           "Ashley Phillips",
           17
          ],
          [
           "Kaden Rodney",
           19
          ],
          [
           "Nasser Djiga",
           20
          ],
          [
           "Issahaku Fatawu",
           19
          ],
          [
           "Lucas Bergvall",
           17
          ],
          [
           "Bradley Ibrahim",
           19
          ],
          [
           "Mason Burstow",
           20
          ],
          [
           "Ryan Trevitt",
           20
          ],
          [
           "Seán Grehan",
           19
          ],
          [
           "Josh Feeney",
           18
          ],
          [
           "Amario Cozier-Duberry",
           18
          ],
          [
           "Mateus Fernandes",
           18
          ],
          [
           "Oliver Scarles",
           18
          ],
          [
           "Archie Gray",
           17
          ],
          [
           "Leny Yoro",
           17
          ],
          [
           "Zach Abbott",
           17
          ],
          [
           "Mark O'Mahony",
           18
          ],
          [
           "Joe Taylor",
           20
          ],
          [
           "Carlos Baleba",
           19
          ],
          [
           "Facundo Buonanotte",
           18
          ],
          [
           "Matai Akinmboni",
           16
          ],
          [
           "Diego Gómez",
           20
          ],
          [
           "Julio Soler",
           18
          ],
          [
           "Yankuba Minteh",
           18
          ],
          [
           "Ryan Oné",
           16
          ],
          [
           "Enso González",
           18
          ],
          [
           "Bastian Schweinsteiger",
           38
          ],
          [
           "Robert Huth",
           38
          ],
          [
           "Jonathan Walters",
           39
          ],
          [
           "Wayne Rooney",
           37
          ],
          [
           "Darren Fletcher",
           39
          ],
          [
           "Peter Whittingham",
           38
          ],
          [
           "Glen Johnson",
           38
          ],
          [
           "Dean Marney",
           39
          ],
          [
           "Stewart Downing",
           38
          ],
          [
           "Liam Ridgewell",
           38
          ],
          [
           "David Fox",
           39
          ],
          [
           "Adam Federici",
           38
          ],
          [
           "Christian Fuchs",
           37
          ],
          [
           "Per Mertesacker",
           38
          ],
          [
           "Georgios Samaras",
           37
          ],
          [
           "Alan Hutton",
           38
          ],
          [
           "Almen Abdi",
           36
          ],
          [
           "Richard Chaplow",
           38
          ],
          [
           "Michael Dawson",
           39
          ],
          [
           "Wes Morgan",
           39
          ],
          [
           "Paul Gallagher",
           38
          ],
          [
           "Mike Williamson",
           39
          ],
          [
           "Stephen Kelly",
           39
          ],
          [
           "Michael Turner",
           39
          ],
          [
           "Alexander Tettey",
           36
          ],
          [
           "James Collins",
           39
          ],
          [
           "Darren Bent",
           39
          ],
          [
           "Lewis Price",
           39
          ],
          [
           "Lee Camp",
           38
          ],
          [
           "Tom Huddlestone",
           36
          ],
          [
           "Leighton Baines",
           38
          ],
          [
           "Simon Francis",
           38
          ],
          [
           "Grant Leadbitter",
           37
          ],
          [
           "Wayne Routledge",
           38
          ],
          [
           "Ben Watson",
           37
          ],
          [
           "Aaron Lennon",
           36
          ],
          [
           "Keiren Westwood",
           38
          ],
          [
           "Liam Rosenior",
           38
          ],
          [
           "Elliott Ward",
           38
          ],
          [
           "Matt Jarvis",
           36
          ],
          [
           "Jamie Mackie",
           37
          ],
          [
           "Alex Baptiste",
           37
          ],
          [
           "Danny Guthrie",
           36
          ],
          [
           "Steven Taylor",
           37
          ],
          [
           "Jean Beausejour",
           38
          ],
          [
           "Marouane Chamakh",
           39
          ],
          [
           "Mousa Dembélé",
           35
          ],
          [
           "Goran Popov",
           38
          ],
          [
           "Pablo Zabaleta",
           38
          ],
          [
           "Leroy Lita",
           38
          ],
          [
           "Brett Holman",
           38
          ],
          [
           "Anders Lindegaard",
           39
          ],
          [
           "David Jones",
           38
          ],
          [
           "Paul McShane",
           37
          ],
          [
           "Jonas Olsson",
           39
          ],
          [
           "Elsad Zverotic",
           36
          ],
          [
           "Nikica Jelavic",
           38
          ],
          [
           "Michel Vorm",
           39
          ],
          [
           "Younès Kaboul",
           37
          ],
          [
           "Gary Cahill",
           37
          ],
          [
           "James Morrison",
           37
          ],
          [
           "Martin Cranie",
           36
          ],
          [
           "Kenwyne Jones",
           38
          ],
          [
           "Mile Jedinak",
           38
          ],
          [
           "Peter Ramage",
           39
          ],
          [
           "Nedum Onuoha",
           36
          ],
          [
           "Sol Bamba",
           38
          ],
          [
           "Jesús Gámez",
           37
          ],
          [
           "Danny Graham",
           37
          ],
          [
           "Andrew Taylor",
           36
          ],
          [
           "Ross Turnbull",
           38
          ],
          [
           "Dwight Tiendalli",
           38
          ],
          [
           "Patrick McCarthy",
           39
          ],
          [
           "Andrew Surman",
           36
          ],
          [
           "Marc Wilson",
           36
          ],
          [
           "Danny Fox",
           37
          ],
          [
           "Geoff Cameron",
           38
          ],
          [
           "Sebastian Larsson",
           38
          ],
          [
           "Mark Noble",
           36
          ],
          [
           "Antonio Valencia",
           37
          ],
          [
           "Ryan Taylor",
           38
          ],
          [
           "David Nugent",
           38
          ],
          [
           "Joe Ledley",
           36
          ],
          [
           "Matthew Connolly",
           35
          ],
          [
           "Joey O'Brien",
           37
          ],
          [
           "Stephen Ward",
           37
          ],
          [
           "Roland Lamah",
           35
          ],
          [
           "Kevin Doyle",
           39
          ],
          [
           "Daniel Pudil",
           37
          ],
          [
           "Chris Brunt",
           38
          ],
          [
           "Branislav Ivanovic",
           39
          ],
          [
           "Billy Jones",
           35
          ],
          [
           "Marc Pugh",
           35
          ],
          [
           "Nathan Dyer",
           35
          ],
          [
           "Tommy Elphick",
           35
          ],
          [
           "Craig Gardner",
           36
          ],
          [
           "Danny Simpson",
           36
          ],
          [
           "Winston Reid",
           34
          ],
          [
           "Camilo Zúñiga",
           37
          ],
          [
           "Jordi Gómez",
           37
          ],
          [
           "Rob Elliot",
           37
          ],
          [
           "Jonathan Parr",
           34
          ],
          [
           "Jay Tabb",
           39
          ],
          [
           "Darron Gibson",
           35
          ],
          [
           "Kieran Gibbs",
           33
          ],
          [
           "George Boyd",
           37
          ],
          [
           "Glenn Murray",
           39
          ],
          [
           "Ryan Shawcross",
           35
          ],
          [
           "Modibo Maïga",
           35
          ],
          [
           "Mark Bunn",
           38
          ],
          [
           "Dale Stephens",
           34
          ],
          [
           "Fabian Delph",
           33
          ],
          [
           "Ignacio Scocco",
           37
          ],
          [
           "Stephen Henderson",
           34
          ],
          [
           "Ramires",
           36
          ],
          [
           "André Santos",
           39
          ],
          [
           "Leonardo Ulloa",
           36
          ],
          [
           "Florin Gardos",
           34
          ],
          [
           "Wilson Palacios",
           39
          ],
          [
           "Yannick Sagbo",
           35
          ],
          [
           "Charlie Daniels",
           36
          ],
          [
           "Kagisho Dikgacoi",
           38
          ],
          [
           "Timm Klose",
           35
          ],
          [
           "Ahmed Elmohamady",
           35
          ],
          [
           "Rene Gilmartin",
           35
          ],
          [
           "Anthony Pilkington",
           35
          ],
          [
           "Ashley Williams",
           38
          ],
          [
           "Neil Taylor",
           34
          ],
          [
           "Mohamed Diamé",
           35
          ],
          [
           "Luciano Becchio",
           39
          ],
          [
           "Brek Shea",
           33
          ],
          [
           "Miguel Britos",
           37
          ],
          [
           "Dean Moxey",
           37
          ],
          [
           "Bongani Khumalo",
           36
          ],
          [
           "Alejandro Faurlín",
           36
          ],
          [
           "Ryan Shotton",
           34
          ],
          [
           "Lee Tomlin",
           34
          ],
          [
           "Steve Morison",
           39
          ],
          [
           "Gedo",
           38
          ],
          [
           "Ikechi Anya",
           35
          ],
          [
           "Csaba Somogyi",
           37
          ],
          [
           "Ricky Holmes",
           36
          ],
          [
           "Essaïd Belkalem",
           34
          ]
         ],
         "hovertemplate": "predicted_value=%{x}<br>market_value_in_million_eur=%{y}<br>name=%{customdata[0]}<br>age=%{customdata[1]}<extra></extra>",
         "legendgroup": "",
         "marker": {
          "color": "#636efa",
          "symbol": "circle"
         },
         "mode": "markers",
         "name": "",
         "showlegend": false,
         "type": "scattergl",
         "x": [
          -0.6681921482086182,
          0.8854176998138428,
          0.3024771809577942,
          -0.5527433156967163,
          25.379878997802734,
          -0.7519786953926086,
          -0.5527433156967163,
          -0.6681921482086182,
          0.49617066979408264,
          0.3137761950492859,
          -0.5527433156967163,
          -0.5527433156967163,
          36.68881607055664,
          5.472945690155029,
          -0.5527433156967163,
          -0.5527433156967163,
          1.6829314231872559,
          -0.5527433156967163,
          6.536078453063965,
          0.7393234968185425,
          -0.7465906143188477,
          -0.32821983098983765,
          -0.6688739061355591,
          1.148397445678711,
          0.36773377656936646,
          1.148397445678711,
          0.36773377656936646,
          0.18702833354473114,
          0.5486595034599304,
          -0.5527433156967163,
          -0.10109853744506836,
          0.3024771809577942,
          -0.5527433156967163,
          -0.5527433156967163,
          0.36773377656936646,
          0.36773377656936646,
          -0.16486020386219025,
          -0.5527433156967163,
          -0.5527433156967163,
          -0.6688739061355591,
          0.3024771809577942,
          -0.16486020386219025,
          -0.6688739061355591,
          3.0021965503692627,
          2.1732540130615234,
          -0.5527433156967163,
          1.148397445678711,
          0.08814966678619385,
          -0.5527433156967163,
          -0.7670708894729614,
          3.695117473602295,
          -0.42072808742523193,
          -0.5527433156967163,
          -0.5527433156967163,
          -0.10109853744506836,
          1.674674153327942,
          0.36773377656936646,
          -0.5527433156967163,
          -0.10109853744506836,
          -0.5527433156967163,
          2.957056999206543,
          0.8460164070129395,
          0.3024771809577942,
          -0.16486020386219025,
          -0.16486020386219025,
          -0.16486020386219025,
          -0.16486020386219025,
          -0.16486020386219025,
          -0.5527433156967163,
          -0.16486020386219025,
          -0.5527433156967163,
          1.6266796588897705,
          1.4890508651733398,
          2.957056999206543,
          -0.5527433156967163,
          -0.16486020386219025,
          0.7393234968185425,
          -0.2949458956718445,
          -0.16486020386219025,
          -0.16486020386219025,
          -0.5527433156967163,
          0.1738867312669754,
          -0.10109853744506836,
          -0.16486020386219025,
          2.056684970855713,
          1.148397445678711,
          4.034822463989258,
          1.148397445678711,
          17.694543838500977,
          -0.5527433156967163,
          0.36773377656936646,
          0.3024771809577942,
          36.83869552612305,
          -0.35870760679244995,
          -0.16486020386219025,
          1.3062399625778198,
          0.36773377656936646,
          1.6266796588897705,
          3.6255226135253906,
          1.3277486562728882,
          22.624082565307617,
          2.1732540130615234,
          0.3024771809577942,
          0.3024771809577942,
          -0.5527433156967163,
          0.36773377656936646,
          -0.16486020386219025,
          -0.635055661201477,
          -0.19059143960475922,
          0.36773377656936646,
          -0.5527433156967163,
          0.3024771809577942,
          14.134942054748535,
          0.14973388612270355,
          1.5784029960632324,
          -0.31542617082595825,
          -0.16486020386219025,
          0.6020848155021667,
          -0.10109853744506836,
          1.6266796588897705,
          0.3024771809577942,
          0.1442820131778717,
          -0.16486020386219025,
          0.8164123892784119,
          1.2149850130081177,
          0.3024771809577942,
          -0.35870760679244995,
          -0.42072808742523193,
          2.3541793823242188,
          -0.3791879415512085,
          -0.6688739061355591,
          0.8164123892784119,
          0.36773377656936646,
          0.377183735370636,
          0.3024771809577942,
          -0.10109853744506836,
          0.3024771809577942,
          3.3939027786254883,
          -0.10109853744506836,
          3.1167235374450684,
          -0.6688739061355591,
          0.21045102179050446,
          0.3024771809577942,
          -0.5527433156967163,
          -0.6688739061355591,
          2.957056999206543,
          1.148397445678711,
          -0.3542797565460205,
          2.4946515560150146,
          -0.10109853744506836,
          14.551291465759277,
          -0.6688739061355591,
          -0.5527433156967163,
          11.203140258789062,
          0.3024771809577942,
          -0.23980237543582916,
          0.3134220242500305,
          1.148397445678711,
          0.2345246821641922,
          0.3024771809577942,
          3.067272663116455,
          0.22600394487380981,
          20.46953582763672,
          3.3921315670013428,
          -0.6688739061355591,
          2.490781784057617,
          1.148397445678711,
          3.0903122425079346,
          4.739806175231934,
          1.6266796588897705,
          2.3591504096984863,
          15.854657173156738,
          0.8164123892784119,
          -0.6688739061355591,
          3.5520970821380615,
          3.43533992767334,
          0.08814966678619385,
          0.8164123892784119,
          1.5784029960632324,
          1.4629541635513306,
          0.36773377656936646,
          15.854657173156738,
          -0.42072808742523193,
          -0.6688739061355591,
          0.1738867312669754,
          -0.3791879415512085,
          14.069204330444336,
          0.2134956270456314,
          -0.16486020386219025,
          1.2611720561981201,
          13.747807502746582,
          2.966130256652832,
          0.6225646138191223,
          0.8164123892784119,
          0.9371590614318848,
          -0.7519786953926086,
          0.3024771809577942,
          6.12033224105835,
          0.10250440984964371,
          -0.16486020386219025,
          -0.10109853744506836,
          0.19764567911624908,
          83.77896881103516,
          1.294694423675537,
          1.8881913423538208,
          -0.5527433156967163,
          -0.2381490021944046,
          2.1732540130615234,
          -0.10109853744506836,
          -0.6688739061355591,
          1.148397445678711,
          -0.5527433156967163,
          56.97892379760742,
          -0.35870760679244995,
          0.993085503578186,
          2.610100269317627,
          1.8982661962509155,
          2.1732540130615234,
          26.07459831237793,
          -0.10109853744506836,
          2.50681734085083,
          0.14973388612270355,
          1.0155575275421143,
          1.0249810218811035,
          0.8869501948356628,
          16.107656478881836,
          2.1732540130615234,
          0.9545500874519348,
          9.628629684448242,
          1.3845553398132324,
          1.148397445678711,
          0.8164123892784119,
          31.270748138427734,
          0.3024771809577942,
          9.189589500427246,
          -0.16486020386219025,
          -0.43738454580307007,
          37.76292037963867,
          4.3493332862854,
          7.515872478485107,
          0.5548048615455627,
          1.1310063600540161,
          0.22207053005695343,
          1.095353364944458,
          10.361505508422852,
          0.6917778849601746,
          -0.10613387823104858,
          0.14973388612270355,
          0.3024771809577942,
          9.832096099853516,
          0.17415937781333923,
          2.1732540130615234,
          2.957056999206543,
          2.872410774230957,
          25.818584442138672,
          -0.10109853744506836,
          -0.5527433156967163,
          4.843027591705322,
          0.3024771809577942,
          -0.10109853744506836,
          -0.6688739061355591,
          0.7654209136962891,
          1.080444574356079,
          2.3541793823242188,
          17.300357818603516,
          0.6170713305473328,
          -0.42072808742523193,
          3.6064603328704834,
          -0.05036347359418869,
          2.377203941345215,
          -0.7519786953926086,
          8.800153732299805,
          -0.5527433156967163,
          -0.8832011222839355,
          0.2134956270456314,
          1.148397445678711,
          0.3047693371772766,
          0.8164123892784119,
          5.054400444030762,
          2.3258919715881348,
          0.4291346073150635,
          1.148397445678711,
          1.3447823524475098,
          3.0493125915527344,
          0.7076729536056519,
          0.6170713305473328,
          0.3024771809577942,
          0.6781727075576782,
          0.36773377656936646,
          3.5958902835845947,
          -0.16486020386219025,
          0.3024771809577942,
          17.021940231323242,
          0.3024771809577942,
          13.992854118347168,
          0.7807596921920776,
          4.739806175231934,
          0.3024771809577942,
          0.18805214762687683,
          6.544063091278076,
          0.2134956270456314,
          0.1757936179637909,
          11.723191261291504,
          1.5784029960632324,
          28.15754508972168,
          10.47712516784668,
          9.011981010437012,
          16.574277877807617,
          6.840978622436523,
          0.3024771809577942,
          -0.3718174695968628,
          0.6917778849601746,
          0.05242519825696945,
          0.6791035532951355,
          0.26956647634506226,
          3.755856990814209,
          22.434839248657227,
          4.56374454498291,
          1.8929972648620605,
          2.3404862880706787,
          0.5466991066932678,
          16.7085018157959,
          0.36773377656936646,
          18.586971282958984,
          4.249150276184082,
          0.2134956270456314,
          0.14973388612270355,
          9.253656387329102,
          25.14288330078125,
          14.667850494384766,
          -0.5527433156967163,
          9.511014938354492,
          15.463761329650879,
          -0.05036347359418869,
          2.856560230255127,
          60.40105438232422,
          0.4012811779975891,
          3.6064603328704834,
          9.221038818359375,
          9.56825065612793,
          2.0807833671569824,
          0.6170713305473328,
          0.8164123892784119,
          -0.5527433156967163,
          41.359886169433594,
          1.1310063600540161,
          2.4878482818603516,
          -0.3542797565460205,
          2.760319709777832,
          0.8213518857955933,
          14.618935585021973,
          4.4593586921691895,
          -0.7465906143188477,
          -0.4757905602455139,
          23.03455924987793,
          0.729158341884613,
          8.745540618896484,
          1.8929972648620605,
          3.4833343029022217,
          10.224652290344238,
          15.731374740600586,
          3.665836811065674,
          11.055194854736328,
          12.26156997680664,
          80.38693237304688,
          3.2036986351013184,
          -0.5527433156967163,
          0.8021602630615234,
          4.739806175231934,
          0.9858289361000061,
          -0.05036347359418869,
          0.3024771809577942,
          1.46299147605896,
          30.15753746032715,
          9.470266342163086,
          0.6170713305473328,
          0.36773377656936646,
          -0.5527433156967163,
          0.38787412643432617,
          2.957056999206543,
          -0.05036347359418869,
          9.46969985961914,
          1.46299147605896,
          -0.2381490021944046,
          -0.3542797565460205,
          5.689497470855713,
          -0.6688739061355591,
          51.65061569213867,
          1.6507768630981445,
          5.495261192321777,
          0.4012811779975891,
          1.9412734508514404,
          1.1012777090072632,
          1.3696238994598389,
          0.6225646138191223,
          -0.06459378451108932,
          40.94922637939453,
          -0.2381490021944046,
          0.6791035532951355,
          0.8048569560050964,
          27.134965896606445,
          10.25741958618164,
          0.8164123892784119,
          18.939714431762695,
          4.556149959564209,
          0.8048569560050964,
          1.46299147605896,
          33.70047378540039,
          0.6170713305473328,
          30.59711456298828,
          1.3992226123809814,
          0.4279184937477112,
          32.64461898803711,
          3.6064603328704834,
          0.11520250886678696,
          -0.04411347210407257,
          1.8477264642715454,
          30.971593856811523,
          0.6823278069496155,
          13.015174865722656,
          0.11520250886678696,
          -0.21525557339191437,
          34.190025329589844,
          3.5615386962890625,
          5.495261192321777,
          0.5726025700569153,
          2.377203941345215,
          12.296740531921387,
          13.967400550842285,
          0.01121568214148283,
          0.5984188914299011,
          0.09432047605514526,
          -0.05036347359418869,
          5.348793029785156,
          20.106197357177734,
          4.654432773590088,
          27.897043228149414,
          5.787747383117676,
          0.3047693371772766,
          10.151875495910645,
          0.09432047605514526,
          0.8701134324073792,
          12.352646827697754,
          10.521073341369629,
          19.392568588256836,
          11.563209533691406,
          34.203765869140625,
          2.6756339073181152,
          3.2370986938476562,
          -0.2381490021944046,
          1.6507768630981445,
          -0.2646911144256592,
          6.268070220947266,
          0.4279184937477112,
          -0.0009279982186853886,
          3.6064603328704834,
          0.45147544145584106,
          3.230238676071167,
          2.904101848602295,
          0.38787412643432617,
          8.399984359741211,
          1.947197675704956,
          0.49556034803390503,
          3.06730318069458,
          4.56374454498291,
          0.21045102179050446,
          8.339238166809082,
          64.1467514038086,
          26.833606719970703,
          19.340639114379883,
          2.7699520587921143,
          0.46780073642730713,
          13.846506118774414,
          7.946888446807861,
          4.540275573730469,
          5.930535793304443,
          0.33751940727233887,
          1.876111626625061,
          -0.0009279982186853886,
          0.48288494348526,
          1.1309281587600708,
          9.479698181152344,
          -0.2803090214729309,
          3.4594364166259766,
          15.324553489685059,
          0.5345802903175354,
          2.909298896789551,
          2.155689239501953,
          11.848505020141602,
          0.09432047605514526,
          16.77423858642578,
          2.3877580165863037,
          1.6152125597000122,
          0.38763654232025146,
          0.4513983130455017,
          6.494933128356934,
          0.5017496347427368,
          -0.05036347359418869,
          1.3992226123809814,
          -0.24959881603717804,
          30.61511993408203,
          37.908668518066406,
          37.908668518066406,
          53.50180435180664,
          13.076449394226074,
          10.275531768798828,
          0.08165174722671509,
          1.0800143480300903,
          -0.0009279982186853886,
          -0.3542797565460205,
          10.53162670135498,
          3.2199411392211914,
          0.3424662947654724,
          0.4760527014732361,
          28.80204200744629,
          19.946866989135742,
          1.947197675704956,
          4.329387664794922,
          -0.06459378451108932,
          19.326982498168945,
          53.6409912109375,
          4.875759124755859,
          0.8207483291625977,
          1.6507768630981445,
          34.009613037109375,
          -0.46972864866256714,
          1.947197675704956,
          0.5983337759971619,
          74.16512298583984,
          84.19715118408203,
          2.9518544673919678,
          1.1309281587600708,
          0.09500214457511902,
          -0.021128371357917786,
          4.509371280670166,
          18.25366973876953,
          0.09432047605514526,
          0.3047693371772766,
          0.5983337759971619,
          20.42759132385254,
          3.6651687622070312,
          0.21045102179050446,
          -0.21497593820095062,
          0.8526588678359985,
          2.0876235961914062,
          3.2199411392211914,
          13.765618324279785,
          0.5822061896324158,
          0.7333935499191284,
          1.6417540311813354,
          2.321169137954712,
          1.6507768630981445,
          11.518590927124023,
          14.821504592895508,
          3.06730318069458,
          46.97589874267578,
          2.0424463748931885,
          10.795793533325195,
          15.822883605957031,
          0.11092158406972885,
          15.169858932495117,
          20.9316463470459,
          1.5452685356140137,
          30.803958892822266,
          3.4594364166259766,
          2.0807833671569824,
          10.401993751525879,
          26.17683982849121,
          1.1012777090072632,
          1.035679578781128,
          4.852570533752441,
          0.5983337759971619,
          22.76682472229004,
          0.5466991066932678,
          1.7301278114318848,
          -0.0009279982186853886,
          59.32967758178711,
          1.6417540311813354,
          0.38787412643432617,
          18.486413955688477,
          2.640211343765259,
          3.7141735553741455,
          0.23681612312793732,
          34.73043441772461,
          18.51828384399414,
          59.523380279541016,
          28.426836013793945,
          2.6200790405273438,
          0.2890375852584839,
          4.947818756103516,
          25.470848083496094,
          2.4876747131347656,
          21.527158737182617,
          0.3424662947654724,
          15.073392868041992,
          7.786637783050537,
          0.43125033378601074,
          3.140015125274658,
          0.7337515354156494,
          6.081165790557861,
          0.8191333413124084,
          16.439903259277344,
          1.035679578781128,
          0.6791035532951355,
          11.783352851867676,
          17.694543838500977,
          18.416820526123047,
          -0.2983604073524475,
          58.026981353759766,
          3.8654401302337646,
          16.382841110229492,
          0.24721764028072357,
          1.9778796434402466,
          -0.09884534776210785,
          16.55522346496582,
          29.670001983642578,
          1.1573854684829712,
          1.6090302467346191,
          36.98540115356445,
          0.9813675284385681,
          34.20785903930664,
          27.9416561126709,
          -0.05036347359418869,
          0.8111187815666199,
          0.25546979904174805,
          15.998332977294922,
          1.8929972648620605,
          5.295459747314453,
          0.9345821738243103,
          16.46357536315918,
          0.39137643575668335,
          1.196526288986206,
          24.53765296936035,
          1.46299147605896,
          0.785028338432312,
          15.808809280395508,
          21.15207290649414,
          11.588654518127441,
          2.6200790405273438,
          -0.0009279982186853886,
          6.606688499450684,
          0.5053879618644714,
          50.06483459472656,
          2.4044995307922363,
          19.731035232543945,
          18.629722595214844,
          38.020320892333984,
          8.827568054199219,
          10.290926933288574,
          6.198518753051758,
          0.6791035532951355,
          0.9345821738243103,
          31.818344116210938,
          1.467176079750061,
          37.72275161743164,
          3.51253080368042,
          0.5983337759971619,
          1.7942906618118286,
          3.0500848293304443,
          71.04629516601562,
          2.077862501144409,
          3.51253080368042,
          0.061622075736522675,
          6.56284236907959,
          8.827568054199219,
          18.696388244628906,
          1.5452685356140137,
          1.4258650541305542,
          1.5995805263519287,
          7.040098190307617,
          77.11367797851562,
          1.0669864416122437,
          0.38787412643432617,
          1.0669864416122437,
          1.9974702596664429,
          49.10881805419922,
          34.400447845458984,
          52.492713928222656,
          2.552125930786133,
          0.3249014616012573,
          2.4663031101226807,
          18.259540557861328,
          11.001243591308594,
          5.200099468231201,
          1.1573854684829712,
          0.3047693371772766,
          3.644935369491577,
          5.883906841278076,
          3.0500848293304443,
          54.975738525390625,
          6.126343250274658,
          26.808584213256836,
          67.93678283691406,
          0.12319191545248032,
          19.025951385498047,
          1.7942906618118286,
          17.101604461669922,
          29.225278854370117,
          16.233654022216797,
          19.280370712280273,
          20.582530975341797,
          47.856407165527344,
          16.102293014526367,
          1.1012777090072632,
          1.0669864416122437,
          1.2842718362808228,
          15.924105644226074,
          49.73141098022461,
          4.234418869018555,
          2.4595744609832764,
          17.83754539489746,
          0.38787412643432617,
          1.2479116916656494,
          1.2545963525772095,
          1.5458253622055054,
          11.588654518127441,
          18.397768020629883,
          7.490345001220703,
          11.867021560668945,
          22.694873809814453,
          19.348947525024414,
          6.436506271362305,
          60.13131332397461,
          0.38787412643432617,
          21.267520904541016,
          60.80954360961914,
          4.428737640380859,
          0.9345821738243103,
          7.053499221801758,
          6.56284236907959,
          0.999033510684967,
          24.087556838989258,
          21.151012420654297,
          1.0669864416122437,
          1.6004430055618286,
          16.98468780517578,
          68.10494232177734,
          26.075443267822266,
          5.288385391235352,
          1.1569961309432983,
          0.09432047605514526,
          11.775556564331055,
          21.564443588256836,
          1.0669864416122437,
          3.0500848293304443,
          13.941990852355957,
          1.7741584777832031,
          59.36195373535156,
          18.296131134033203,
          18.56398582458496,
          56.82870864868164,
          1.6417540311813354,
          19.318334579467773,
          11.240469932556152,
          1.1508803367614746,
          43.35103225708008,
          4.947818756103516,
          0.3525196313858032,
          0.45147544145584106,
          1.0669864416122437,
          27.776025772094727,
          43.06880187988281,
          21.053194046020508,
          37.88945007324219,
          22.91655921936035,
          1.1573854684829712,
          86.39380645751953,
          1.7741584777832031,
          3.0500848293304443,
          94.13805389404297,
          1.0669864416122437,
          35.22801971435547,
          49.441654205322266,
          1.7741584777832031,
          18.76212501525879,
          1.7741584777832031,
          0.5111193656921387,
          0.8111187815666199,
          9.105934143066406,
          25.676292419433594,
          2.3976995944976807,
          2.155689239501953,
          8.766615867614746,
          45.057533264160156,
          -0.05382678657770157,
          13.076449394226074,
          13.98444652557373,
          1.1309281587600708,
          7.585963249206543,
          51.009979248046875,
          5.787747383117676,
          9.154668807983398,
          0.6791035532951355,
          7.036048889160156,
          0.6791035532951355,
          4.512786388397217,
          4.428737640380859,
          0.21415852010250092,
          2.6200790405273438,
          18.74612045288086,
          2.2030868530273438,
          0.9361664652824402,
          2.0364270210266113,
          2.2524404525756836,
          1.7741584777832031,
          42.04881286621094,
          14.153399467468262,
          2.2880938053131104,
          0.6791035532951355,
          2.8132541179656982,
          31.54353904724121,
          2.6200790405273438,
          46.08942794799805,
          0.6872884035110474,
          32.40497970581055,
          1.5482134819030762,
          0.8111187815666199,
          18.259540557861328,
          7.053499221801758,
          27.968446731567383,
          3.557574987411499,
          58.859947204589844,
          0.5466991066932678,
          1.7741584777832031,
          1.2479116916656494,
          22.998613357543945,
          0.6791035532951355,
          1.5316274166107178,
          0.38787412643432617,
          42.2983512878418,
          0.6791035532951355,
          40.719757080078125,
          2.6200790405273438,
          6.31688117980957,
          49.02706527709961,
          3.045152425765991,
          77.97846984863281,
          6.014372825622559,
          20.33269500732422,
          4.391808986663818,
          12.896138191223145,
          15.893353462219238,
          5.376821994781494,
          4.428737640380859,
          19.30279541015625,
          4.070007801055908,
          3.0500848293304443,
          0.38787412643432617,
          1.1307481527328491,
          1.5452685356140137,
          7.490345001220703,
          3.866840362548828,
          117.21820831298828,
          20.58493423461914,
          3.2110226154327393,
          27.519380569458008,
          32.40776824951172,
          15.793837547302246,
          0.38787412643432617,
          0.5942241549491882,
          11.588654518127441,
          21.57332992553711,
          26.075443267822266,
          25.324872970581055,
          20.206064224243164,
          4.574700355529785,
          1.0441447496414185,
          2.3287692070007324,
          16.651634216308594,
          4.574700355529785,
          0.17236502468585968,
          18.626985549926758,
          132.0258331298828,
          2.7667853832244873,
          1.0669864416122437,
          1.4274070262908936,
          12.795355796813965,
          34.190696716308594,
          1.5995805263519287,
          0.3047693371772766,
          11.081828117370605,
          3.644935369491577,
          1.1307481527328491,
          4.965345859527588,
          30.75139617919922,
          0.6791035532951355,
          5.4152445793151855,
          9.506019592285156,
          17.23219871520996,
          25.668054580688477,
          0.6791035532951355,
          2.188610553741455,
          15.076003074645996,
          3.7916417121887207,
          1.0669864416122437,
          2.6200790405273438,
          0.8258097171783447,
          2.8823294639587402,
          38.86780548095703,
          70.41039276123047,
          0.8962162137031555,
          0.6049866080284119,
          4.657436847686768,
          0.5345802903175354,
          1.407274842262268,
          28.346572875976562,
          3.3284518718719482,
          2.6200790405273438,
          2.1713345050811768,
          6.56284236907959,
          20.352767944335938,
          25.87748908996582,
          39.540401458740234,
          11.743559837341309,
          3.335292339324951,
          10.39879322052002,
          25.258331298828125,
          3.196791172027588,
          2.6200790405273438,
          33.08148956298828,
          0.5942241549491882,
          9.939908981323242,
          2.917680263519287,
          13.269232749938965,
          9.563116073608398,
          31.409976959228516,
          0.9345821738243103,
          1.9239755868911743,
          0.3047693371772766,
          1.5995805263519287,
          1.1307481527328491,
          0.25546979904174805,
          5.0618577003479,
          12.489374160766602,
          35.42485427856445,
          1.2060863971710205,
          0.8258097171783447,
          0.5942241549491882,
          8.202644348144531,
          32.07709884643555,
          10.306611061096191,
          3.1291158199310303,
          10.936245918273926,
          5.920151710510254,
          11.456250190734863,
          2.604701519012451,
          13.995511054992676,
          2.2880938053131104,
          14.079689025878906,
          1.936096429824829,
          4.395357608795166,
          0.5942241549491882,
          1.7050678730010986,
          24.711484909057617,
          59.68132400512695,
          10.204130172729492,
          1.0669864416122437,
          0.19402636587619781,
          3.884363889694214,
          7.315761089324951,
          48.539615631103516,
          41.16327667236328,
          5.920151710510254,
          0.3047693371772766,
          16.12484359741211,
          32.546417236328125,
          36.86257553100586,
          21.38863754272461,
          0.4310342073440552,
          42.00727844238281,
          31.429288864135742,
          4.885921478271484,
          10.681755065917969,
          2.4262313842773438,
          1.2136924266815186,
          9.435100555419922,
          17.72185707092285,
          32.14764404296875,
          1.173879623413086,
          0.5942241549491882,
          2.0563805103302,
          0.5815256834030151,
          37.452720642089844,
          1.316628336906433,
          3.51253080368042,
          1.2060863971710205,
          3.196791172027588,
          1.1955608129501343,
          9.441435813903809,
          9.105934143066406,
          0.8600285053253174,
          36.86353302001953,
          1.1307481527328491,
          0.8258097171783447,
          14.686861991882324,
          0.6791035532951355,
          1.316628336906433,
          1.2136924266815186,
          0.8258097171783447,
          7.23391056060791,
          4.645848751068115,
          9.921778678894043,
          0.8258097171783447,
          22.32953643798828,
          10.808123588562012,
          25.388891220092773,
          2.857131242752075,
          3.479238748550415,
          3.944279670715332,
          2.434800148010254,
          1.407274842262268,
          2.640211343765259,
          4.789355278015137,
          6.786204814910889,
          30.752201080322266,
          27.35349464416504,
          1.4710365533828735,
          1.2060863971710205,
          0.8258097171783447,
          19.13170051574707,
          0.5345802903175354,
          4.081781387329102,
          4.120195388793945,
          14.090310096740723,
          9.130302429199219,
          1.407274842262268,
          2.8984460830688477,
          2.6200790405273438,
          0.87608402967453,
          2.9824635982513428,
          1.407274842262268,
          13.908132553100586,
          0.6791035532951355,
          1.2975863218307495,
          0.5345802903175354,
          1.277454137802124,
          2.4258840084075928,
          17.17466163635254,
          13.2893648147583,
          6.7369065284729,
          35.95317840576172,
          44.80921936035156,
          1.151407241821289,
          0.6791035532951355,
          20.800451278686523,
          12.317743301391602,
          0.627644419670105,
          1.0669864416122437,
          1.2136924266815186,
          0.5942241549491882,
          1.151407241821289,
          4.369326114654541,
          1.6387397050857544,
          6.939434051513672,
          4.239170551300049,
          3.644320487976074,
          1.0193920135498047,
          1.9398688077926636,
          1.407274842262268,
          9.241009712219238,
          4.472938060760498,
          21.732311248779297,
          0.8258097171783447,
          3.0500848293304443,
          1.5995805263519287,
          20.335607528686523,
          16.933719635009766,
          0.38787412643432617,
          15.298460006713867,
          0.5111193656921387,
          0.5111193656921387,
          1.6454240083694458,
          17.697235107421875,
          7.184436798095703,
          18.76212501525879,
          0.5111193656921387,
          2.2880938053131104,
          12.695549964904785,
          17.943374633789062,
          50.65748977661133,
          4.679028511047363,
          1.4710365533828735,
          3.6954686641693115,
          1.9398688077926636,
          4.605515480041504,
          1.4776813983917236,
          32.1192626953125,
          2.6561014652252197,
          3.9315412044525146,
          1.2335236072540283,
          19.796878814697266,
          9.225859642028809,
          1.0696662664413452,
          15.629762649536133,
          4.614327430725098,
          0.8258097171783447,
          0.5345802903175354,
          3.7975733280181885,
          1.0193920135498047,
          0.38787412643432617,
          5.573157787322998,
          2.4362611770629883,
          27.578750610351562,
          1.0193920135498047,
          3.9779911041259766,
          0.5111193656921387,
          4.2742743492126465,
          0.892128050327301,
          4.239170551300049,
          3.0907983779907227,
          33.51500701904297,
          7.1851959228515625,
          25.32428741455078,
          20.75148582458496,
          0.3047693371772766,
          3.0439846515655518,
          7.404637336730957,
          20.035518646240234,
          9.19266414642334,
          0.5942241549491882,
          0.5942241549491882,
          1.7723159790039062,
          2.1934406757354736,
          1.9398688077926636,
          3.3626153469085693,
          5.241731643676758,
          0.3047693371772766,
          0.6381698846817017,
          20.088937759399414,
          12.413628578186035,
          4.8198771476745605,
          20.307703018188477,
          2.226785659790039,
          1.4908511638641357,
          2.640211343765259,
          2.640211343765259,
          0.5111193656921387,
          2.318779468536377,
          18.55781364440918,
          1.964621901512146,
          1.0193920135498047,
          12.206570625305176,
          0.5111193656921387,
          1.786274790763855,
          1.5834437608718872,
          34.20426940917969,
          18.76212501525879,
          1.2136924266815186,
          1.0193920135498047,
          4.422283172607422,
          7.04414701461792,
          3.0710113048553467,
          3.1077466011047363,
          2.147829055786133,
          9.172648429870605,
          1.0193920135498047,
          1.0193920135498047,
          3.5191879272460938,
          2.6662986278533936,
          1.2136924266815186,
          1.9398688077926636,
          10.499276161193848,
          1.0192710161209106,
          1.407274842262268,
          1.0193920135498047,
          4.581394672393799,
          3.7916417121887207,
          18.240917205810547,
          1.2060863971710205,
          1.0192710161209106,
          2.6732676029205322,
          7.944345474243164,
          1.151407241821289,
          0.5613934993743896,
          0.5942241549491882,
          16.480663299560547,
          1.7417960166931152,
          2.2025296688079834,
          4.510987758636475,
          4.998532295227051,
          0.5942241549491882,
          1.2536808252334595,
          15.870695114135742,
          1.7417960166931152,
          0.5111193656921387,
          1.277454137802124,
          4.075591087341309,
          6.786204814910889,
          0.45147544145584106,
          3.2766048908233643,
          14.017290115356445,
          3.9490647315979004,
          8.4863920211792,
          0.6143563389778137,
          0.6978137493133545,
          0.45147544145584106,
          0.5111193656921387,
          44.05951690673828,
          0.5111193656921387,
          1.0193920135498047,
          0.5345802903175354,
          4.669936656951904,
          21.237857818603516,
          14.865212440490723,
          7.980255603790283,
          1.9398688077926636,
          0.5815256834030151,
          1.4274070262908936,
          1.2536808252334595,
          4.510987758636475,
          3.2652487754821777,
          4.909219741821289,
          4.156180381774902,
          1.407274842262268,
          4.9097466468811035,
          0.8050643801689148,
          1.3172959089279175,
          0.5111193656921387,
          1.0897984504699707,
          4.506439208984375,
          1.0193920135498047,
          13.737746238708496,
          0.5942241549491882,
          4.31498384475708,
          6.56284236907959,
          1.8960833549499512,
          12.740784645080566,
          1.3844331502914429,
          0.5942241549491882,
          5.504406929016113,
          1.407274842262268,
          4.671020030975342,
          8.463460922241211,
          1.0193920135498047,
          1.0897984504699707,
          0.5111193656921387,
          1.9398688077926636,
          18.76212501525879,
          0.7414068579673767,
          5.245738506317139,
          2.5509424209594727,
          4.461689472198486,
          2.328719139099121,
          1.0193920135498047,
          1.192947268486023,
          1.0193920135498047,
          0.5942241549491882,
          2.7730207443237305,
          3.196791172027588,
          2.6052372455596924,
          17.49991226196289,
          0.6872884035110474,
          3.224553108215332,
          0.5942241549491882,
          12.895206451416016,
          7.872422218322754,
          1.7723159790039062,
          3.0052528381347656,
          1.316628336906433,
          2.129678964614868,
          11.625406265258789,
          11.050084114074707,
          6.084285259246826,
          6.080420970916748,
          3.7201340198516846,
          3.6626152992248535,
          19.73858070373535,
          2.8269057273864746,
          0.5111193656921387,
          0.2967914938926697,
          0.5111193656921387,
          10.598560333251953,
          3.657181978225708,
          11.930944442749023,
          7.62755823135376,
          0.5345802903175354,
          7.827127456665039,
          4.208535194396973,
          0.5942241549491882,
          25.341629028320312,
          8.73816204071045,
          0.8050643801689148,
          1.407274842262268,
          5.542640209197998,
          0.5111193656921387,
          3.148967742919922,
          0.5111193656921387,
          6.01663875579834,
          3.124809503555298,
          0.5111193656921387,
          3.148967742919922,
          5.233392238616943,
          0.8050643801689148,
          1.7723159790039062,
          1.7723159790039062,
          3.693498373031616,
          3.162874460220337,
          1.4089435338974,
          0.5111193656921387,
          0.2967914938926697,
          1.7417960166931152,
          3.239720582962036,
          1.7723159790039062,
          0.780918538570404,
          2.347853183746338,
          1.5986402034759521,
          1.0193920135498047,
          0.5111193656921387,
          0.5111193656921387,
          1.4059247970581055,
          2.5671539306640625,
          1.407274842262268,
          1.407274842262268,
          0.5111193656921387,
          0.8761606812477112,
          0.8761606812477112,
          2.304910659790039,
          0.770474910736084,
          1.284409999847412,
          0.36689913272857666,
          1.3250854015350342,
          0.36689913272857666,
          0.36689913272857666,
          0.770474910736084,
          0.3031373620033264,
          -0.20087604224681854,
          -0.08474551886320114,
          -0.2839808464050293,
          -0.20087604224681854,
          0.3031373620033264,
          0.5204228162765503,
          -0.2839808464050293,
          0.3031373620033264,
          0.047269679605960846,
          -0.2839808464050293,
          -0.20087604224681854,
          0.3031373620033264,
          -0.20087604224681854,
          -0.20087604224681854,
          -0.2839808464050293,
          -0.08474551886320114,
          0.3031373620033264,
          0.047269679605960846,
          0.047269679605960846,
          -0.20087604224681854,
          -0.2839808464050293,
          -0.08474551886320114,
          0.8357314467430115,
          0.3031373620033264,
          0.8357314467430115,
          -0.08474551886320114,
          -0.20087604224681854,
          0.770474910736084,
          -0.20087604224681854,
          0.047269679605960846,
          -0.2839808464050293,
          -0.20087604224681854,
          0.3031373620033264,
          -0.08474551886320114,
          -0.20087604224681854,
          -0.08474551886320114,
          -0.08474551886320114,
          0.047269679605960846,
          0.36689913272857666,
          -0.2839808464050293,
          0.3031373620033264,
          -0.2839808464050293,
          -0.20087604224681854,
          -0.08474551886320114,
          -0.20087604224681854,
          -0.08474551886320114,
          -0.2839808464050293,
          -0.2839808464050293,
          -0.2839808464050293,
          0.3031373620033264,
          0.5204228162765503,
          0.3031373620033264,
          0.36689913272857666,
          -0.20087604224681854,
          -0.20087604224681854,
          0.36689913272857666,
          -0.2839808464050293,
          -0.08474551886320114,
          -0.08474551886320114,
          0.36689913272857666,
          0.047269679605960846,
          -0.08474551886320114,
          -0.2839808464050293,
          -0.2839808464050293,
          -0.2839808464050293,
          0.8357314467430115,
          -0.2839808464050293,
          -0.08474551886320114,
          -0.20087604224681854,
          0.3031373620033264,
          0.770474910736084,
          1.0526968240737915,
          -0.2839808464050293,
          -0.20087604224681854,
          -0.08474551886320114,
          -0.08474551886320114,
          -0.2839808464050293,
          0.3031373620033264,
          -0.20087604224681854,
          -0.20087604224681854,
          0.047269679605960846,
          0.3031373620033264,
          0.36689913272857666,
          -0.08474551886320114,
          0.36689913272857666,
          -0.08474551886320114,
          -0.08474551886320114,
          -0.08474551886320114,
          0.3031373620033264,
          0.36689913272857666,
          -0.20087604224681854,
          -0.08474551886320114,
          -0.20087604224681854,
          -0.2839808464050293,
          -0.2839808464050293,
          0.047269679605960846,
          0.770474910736084,
          0.36689913272857666,
          0.3031373620033264,
          0.36689913272857666,
          -0.08474551886320114,
          -0.2839808464050293,
          0.770474910736084,
          1.616395115852356,
          0.36689913272857666,
          -0.08474551886320114,
          -0.08474551886320114,
          -0.2839808464050293,
          -0.20087604224681854,
          -0.08474551886320114,
          -0.20087604224681854,
          -0.20087604224681854,
          0.8357314467430115,
          -0.08474551886320114,
          -0.08474551886320114,
          1.0526968240737915,
          -0.2839808464050293,
          -0.08474551886320114,
          0.8357314467430115,
          0.3031373620033264,
          0.3031373620033264,
          -0.2839808464050293,
          0.3031373620033264,
          0.8357314467430115,
          -0.08474551886320114,
          -0.08474551886320114,
          -0.2839808464050293,
          -0.08474551886320114,
          0.5204228162765503,
          -0.2839808464050293,
          -0.2839808464050293,
          -0.20087604224681854,
          -0.2839808464050293,
          -0.20087604224681854,
          -0.20087604224681854
         ],
         "xaxis": "x",
         "y": [
          0.1,
          1.5,
          1,
          0.1,
          15,
          0.075,
          0.2,
          0.15,
          0.6,
          0.2,
          0.125,
          0.15,
          40,
          4,
          0.15,
          0.15,
          0.8,
          0.2,
          2,
          0.9,
          0.3,
          0.1,
          0.1,
          0.6,
          0.45,
          1,
          0.5,
          0.8,
          0.5,
          0.1,
          0.3,
          0.3,
          0.15,
          0.05,
          0.25,
          0.6,
          0.3,
          0.2,
          0.15,
          0.1,
          0.3,
          0.3,
          0.1,
          2.5,
          0.8,
          0.2,
          1,
          0.4,
          0.2,
          0.15,
          2,
          0.3,
          0.05,
          0.25,
          0.15,
          1.2,
          0.35,
          0.2,
          0.5,
          0.3,
          2,
          0.3,
          0.4,
          0.15,
          0.25,
          0.4,
          0.25,
          0.2,
          0.15,
          0.3,
          0.1,
          1,
          0.6,
          2.5,
          0.1,
          0.3,
          0.9,
          0.3,
          0.45,
          0.3,
          0.2,
          0.15,
          0.45,
          0.3,
          1.5,
          1,
          2.5,
          1,
          28,
          0.25,
          0.4,
          0.9,
          38,
          0.5,
          0.2,
          1.5,
          0.3,
          1.5,
          3,
          1,
          20,
          1,
          0.6,
          0.75,
          0.15,
          0.4,
          0.35,
          0.25,
          0.1,
          0.5,
          0.25,
          0.6,
          15,
          0.1,
          1,
          0.5,
          0.25,
          0.8,
          0.6,
          0.7,
          0.5,
          0.7,
          0.25,
          0.5,
          1.2,
          0.8,
          0.3,
          0.025,
          1.8,
          0.2,
          0.2,
          1,
          0.4,
          0.275,
          0.4,
          0.3,
          0.6,
          2,
          0.25,
          7,
          0.15,
          0.175,
          0.5,
          0.2,
          0.15,
          1.8,
          0.6,
          0.15,
          1,
          0.4,
          22,
          0.15,
          0.15,
          12,
          0.3,
          0.3,
          0.25,
          0.4,
          0.4,
          0.8,
          2,
          1,
          16,
          2,
          0.1,
          2,
          1.2,
          2.5,
          3,
          1.5,
          13,
          9,
          0.8,
          0.15,
          2.5,
          2.5,
          0.3,
          0.7,
          0.9,
          1.5,
          0.5,
          14,
          0.3,
          0.15,
          0.7,
          0.5,
          12,
          0.2,
          0.25,
          2,
          8,
          3.5,
          0.7,
          0.6,
          1.2,
          0.05,
          0.5,
          9,
          0.25,
          0.3,
          0.5,
          0.175,
          70,
          0.6,
          1.2,
          0.25,
          0.1,
          1.8,
          0.3,
          0.15,
          0.85,
          0.2,
          60,
          0.25,
          1,
          1.2,
          1.2,
          2,
          25,
          0.2,
          2.8,
          0.125,
          1.5,
          0.175,
          0.8,
          11,
          1.2,
          0.6,
          5,
          1.2,
          1.5,
          0.7,
          25,
          0.25,
          7,
          0.3,
          0.1,
          45,
          5,
          8,
          0.5,
          1,
          0.3,
          0.6,
          4,
          0.5,
          0.3,
          0.9,
          0.5,
          10,
          0.25,
          3,
          2.5,
          2.5,
          28,
          0.6,
          0.2,
          3,
          1,
          0.3,
          0.2,
          0.6,
          1.5,
          1.5,
          10,
          1,
          0.05,
          2,
          0.3,
          2.5,
          0.05,
          8,
          0.2,
          0.125,
          0.5,
          1.2,
          0.15,
          1,
          6,
          2,
          0.1,
          0.7,
          0.15,
          2,
          0.45,
          0.9,
          0.4,
          0.25,
          0.8,
          2,
          0.3,
          1,
          16,
          0.7,
          16,
          0.5,
          2.5,
          0.8,
          0.4,
          10,
          0.9,
          0.45,
          6,
          1.2,
          17,
          5,
          8,
          12,
          7,
          0.6,
          0.3,
          0.6,
          0.7,
          0.25,
          0.4,
          1.8,
          12,
          2,
          0.8,
          0.7,
          0.25,
          9.5,
          0.3,
          25,
          4.5,
          0.8,
          0.4,
          6,
          22,
          9,
          0.35,
          10,
          12,
          0.15,
          0.9,
          60,
          0.6,
          2.2,
          10,
          8,
          2,
          0.75,
          1.2,
          0.45,
          45,
          1.5,
          2,
          0.15,
          2.5,
          0.1,
          12,
          2.5,
          0.3,
          0.125,
          35,
          1,
          6.5,
          2,
          3.5,
          8,
          16,
          1.5,
          16,
          8,
          70,
          1.2,
          0.2,
          0.25,
          2,
          0.8,
          0.25,
          1.5,
          0.9,
          28,
          9,
          1,
          0.45,
          0.2,
          0.175,
          1.5,
          0.3,
          6,
          1,
          0.35,
          0.2,
          3.5,
          0.15,
          35,
          1.8,
          4.5,
          0.6,
          0.9,
          0.9,
          1.2,
          1,
          0.35,
          25,
          0.2,
          0.1,
          1.2,
          20,
          9,
          0.7,
          18,
          3.2,
          0.85,
          2,
          30,
          0.8,
          35,
          0.6,
          0.275,
          25,
          1.5,
          0.25,
          0.55,
          0.35,
          38,
          0.35,
          12,
          0.35,
          0.3,
          35,
          4,
          3.8,
          0.2,
          2.2,
          4.5,
          10,
          0.025,
          0.9,
          0.2,
          0.2,
          3,
          18,
          7,
          40,
          3,
          0.2,
          10,
          0.15,
          0.6,
          20,
          18,
          15,
          15,
          27,
          2.2,
          3.5,
          0.3,
          1.8,
          0.35,
          5,
          0.3,
          0.2,
          2.5,
          0.15,
          3.5,
          3,
          0.3,
          15,
          0.9,
          0.3,
          2.5,
          6,
          0.4,
          16,
          75,
          40,
          12,
          2,
          0.3,
          9,
          4,
          12,
          5,
          1,
          3,
          0.2,
          0.4,
          1,
          18,
          0.35,
          1.2,
          25,
          0.25,
          8,
          0.6,
          8,
          0.175,
          10,
          1,
          1.2,
          0.3,
          0.5,
          3.5,
          0.2,
          0.2,
          1.2,
          0.025,
          20,
          28,
          40,
          45,
          7,
          6,
          0.4,
          0.6,
          0.2,
          0.15,
          18,
          3.5,
          0.35,
          0.25,
          35,
          15,
          1.5,
          2.2,
          0.6,
          20,
          48,
          3.5,
          0.35,
          1.5,
          40,
          0.075,
          1.5,
          0.45,
          75,
          80,
          3.5,
          1.5,
          0.35,
          0.15,
          10,
          28,
          0.15,
          0.125,
          0.3,
          14,
          1.5,
          0.25,
          0.3,
          0.2,
          1,
          4,
          12,
          0.5,
          0.9,
          1.5,
          6,
          1,
          10,
          10,
          2,
          30,
          1.8,
          18,
          12,
          0.125,
          13,
          25,
          0.2,
          50,
          2.5,
          2.5,
          8,
          22,
          1.2,
          0.9,
          7,
          0.5,
          22,
          0.225,
          2,
          0.3,
          80,
          1.2,
          0.2,
          15,
          1.5,
          3,
          0.125,
          20,
          18,
          80,
          30,
          5,
          0.5,
          4.5,
          25,
          2.5,
          25,
          0.35,
          20,
          16,
          0.25,
          1.8,
          0.15,
          7,
          1.2,
          20,
          0.8,
          0.25,
          18,
          17,
          35,
          0.075,
          32,
          4,
          12,
          0.35,
          2,
          0.25,
          13,
          15,
          0.3,
          0.5,
          35,
          0.3,
          38,
          40,
          0.35,
          0.25,
          0.15,
          16,
          1.8,
          2.8,
          0.3,
          16,
          0.25,
          0.8,
          25,
          0.7,
          2,
          12,
          20,
          20,
          2,
          0.2,
          15,
          0.25,
          60,
          2.5,
          25,
          18,
          25,
          3,
          8,
          15,
          0.25,
          0.3,
          25,
          0.5,
          25,
          3.5,
          1.2,
          1.2,
          2.8,
          60,
          0.8,
          3,
          0.15,
          4.5,
          4.5,
          9,
          0.2,
          0.9,
          0.5,
          4,
          65,
          0.4,
          0.15,
          0.3,
          3.8,
          38,
          35,
          80,
          2,
          0.1,
          0.7,
          13,
          22,
          5,
          0.15,
          0.075,
          7,
          4.5,
          2,
          40,
          4,
          16,
          75,
          0.5,
          16,
          0.7,
          12,
          25,
          20,
          18,
          38,
          50,
          13,
          0.8,
          0.4,
          1,
          18,
          50,
          2.2,
          0.5,
          28,
          0.075,
          0.45,
          0.15,
          0.3,
          16,
          25,
          12,
          6,
          38,
          28,
          12,
          50,
          0.3,
          25,
          50,
          5,
          0.5,
          4.5,
          4.5,
          0.4,
          28,
          15,
          0.7,
          1,
          15,
          80,
          20,
          3,
          0.3,
          0.2,
          6,
          18,
          0.9,
          1.5,
          7,
          0.9,
          65,
          25,
          12,
          70,
          1.5,
          32,
          12,
          0.8,
          35,
          3.5,
          0.3,
          0.15,
          0.5,
          40,
          60,
          27,
          38,
          35,
          0.2,
          90,
          2.8,
          2,
          90,
          0.45,
          45,
          75,
          1.2,
          18,
          0.8,
          0.25,
          0.4,
          15,
          15,
          6,
          1.2,
          4,
          30,
          0.2,
          10,
          35,
          0.6,
          16,
          48,
          3.5,
          10,
          0.2,
          3,
          0.4,
          13,
          3,
          0.075,
          1.8,
          30,
          2.2,
          0.125,
          1.8,
          1,
          3.5,
          28,
          18,
          1.5,
          0.3,
          2,
          35,
          0.9,
          35,
          0.175,
          17,
          0.3,
          0.3,
          18,
          12,
          30,
          1.4,
          50,
          0.35,
          3.5,
          0.35,
          18,
          0.3,
          1,
          0.15,
          50,
          0.3,
          35,
          5,
          17,
          45,
          3.5,
          55,
          5,
          35,
          3,
          12,
          22,
          10,
          3.5,
          25,
          6,
          2,
          0.6,
          0.5,
          0.5,
          4,
          7,
          110,
          15,
          2.2,
          20,
          25,
          18,
          0.25,
          0.15,
          7,
          35,
          20,
          25,
          18,
          9,
          7,
          1.3,
          15,
          12,
          0.125,
          22,
          180,
          1.8,
          1.5,
          0.5,
          7,
          42,
          0.8,
          0.1,
          16,
          2.5,
          0.9,
          8,
          25,
          0.3,
          11,
          20,
          16,
          38,
          0.3,
          0.3,
          30,
          11,
          0.8,
          1.5,
          0.25,
          1.2,
          55,
          110,
          0.3,
          0.15,
          5,
          0.2,
          0.9,
          17,
          2.8,
          2.8,
          0.6,
          4,
          17,
          55,
          50,
          9,
          8,
          14,
          18,
          5,
          3.5,
          45,
          0.2,
          6,
          2.8,
          10,
          10,
          40,
          0.3,
          0.6,
          0.15,
          0.45,
          1.2,
          0.25,
          10,
          15,
          40,
          0.3,
          0.3,
          0.8,
          3.8,
          10,
          20,
          7,
          10,
          6,
          11,
          4,
          22,
          0.5,
          22,
          1,
          6,
          0.35,
          0.175,
          30,
          65,
          20,
          2.8,
          0.2,
          12,
          25,
          55,
          75,
          4,
          0.075,
          25,
          22,
          30,
          40,
          0.6,
          75,
          50,
          8,
          10,
          1.5,
          0.4,
          12,
          42,
          28,
          0.075,
          0.25,
          5,
          0.15,
          28,
          0.2,
          2,
          0.9,
          1,
          0.5,
          9,
          5,
          0.3,
          55,
          4,
          0.25,
          15,
          0.2,
          0.15,
          1.2,
          0.35,
          4.5,
          2,
          20,
          0.25,
          35,
          1.8,
          32,
          0.8,
          2,
          2.2,
          5,
          2,
          0.8,
          15,
          8,
          25,
          28,
          0.6,
          5,
          0.2,
          12,
          1,
          7,
          22,
          12,
          14,
          0.25,
          9,
          1.8,
          0.15,
          1.2,
          0.5,
          7,
          0.3,
          4,
          0.15,
          2.5,
          3,
          22,
          28,
          4,
          30,
          70,
          0.45,
          0.55,
          25,
          6,
          0.05,
          0.7,
          0.5,
          0.15,
          0.5,
          2.5,
          0.3,
          8,
          3.5,
          5,
          0.125,
          3,
          0.5,
          10,
          3,
          65,
          0.2,
          2,
          2.2,
          13,
          60,
          0.3,
          22,
          0.3,
          0.2,
          0.15,
          13,
          5,
          20,
          0.1,
          3,
          35,
          30,
          65,
          2.5,
          1.5,
          0.6,
          0.7,
          2,
          0.6,
          35,
          0.3,
          3.5,
          0.15,
          25,
          18,
          1,
          16,
          8,
          0.3,
          0.2,
          6,
          0.2,
          0.2,
          12,
          5,
          35,
          0.2,
          2.5,
          0.2,
          8,
          0.3,
          5,
          2.2,
          15,
          5,
          15,
          28,
          0.25,
          1.5,
          4,
          22,
          10,
          0.275,
          0.35,
          1.2,
          0.6,
          2.5,
          1,
          8,
          0.25,
          0.15,
          18,
          6,
          9,
          20,
          1.5,
          1,
          0.7,
          1.2,
          0.1,
          0.45,
          25,
          0.9,
          0.3,
          25,
          0.05,
          1,
          0.5,
          45,
          30,
          0.35,
          0.25,
          6,
          8,
          1.2,
          2,
          0.5,
          35,
          0.25,
          0.25,
          5,
          1,
          0.35,
          0.3,
          16,
          0.2,
          1,
          0.3,
          7,
          2.5,
          25,
          0.25,
          0.3,
          15,
          1.5,
          0.5,
          0.125,
          0.2,
          24,
          1.8,
          0.9,
          18,
          32,
          0.175,
          1,
          15,
          0.45,
          0.2,
          0.9,
          5,
          7,
          0.075,
          10,
          85,
          5,
          12,
          0.5,
          11,
          0.2,
          0.05,
          70,
          0.25,
          0.35,
          0.175,
          10,
          18,
          22,
          7,
          1.2,
          0.4,
          0.45,
          1,
          2,
          6,
          2.8,
          3,
          6,
          0.8,
          0.9,
          0.8,
          0.5,
          0.3,
          1.8,
          0.9,
          13,
          0.2,
          6,
          9,
          0.6,
          55,
          0.5,
          0.25,
          11,
          1.2,
          4,
          15,
          0.25,
          0.5,
          0.5,
          0.4,
          22,
          0.7,
          8,
          0.35,
          3,
          1,
          0.8,
          0.8,
          1.2,
          2.8,
          0.3,
          3,
          10,
          22,
          0.2,
          1.5,
          0.15,
          18,
          5,
          1,
          3,
          0.2,
          2,
          6,
          5,
          5,
          3.5,
          4,
          1,
          22,
          1,
          0.25,
          0.125,
          0.1,
          12,
          0.4,
          30,
          10,
          0.45,
          14,
          20,
          0.25,
          28,
          25,
          0.25,
          1,
          0.8,
          0.25,
          20,
          0.8,
          5,
          3.5,
          0.15,
          14,
          2,
          0.2,
          0.8,
          4,
          2,
          0.4,
          1.5,
          0.275,
          0.15,
          0.5,
          0.3,
          1.5,
          0.4,
          6,
          8,
          0.3,
          0.3,
          0.2,
          3,
          12,
          0.5,
          3,
          0.2,
          2,
          0.125,
          1.9,
          0.791015625,
          1.1865234375,
          0.474609375,
          1.265625,
          0.474609375,
          0.4449462890625,
          0.83056640625,
          0.3375,
          0.140625,
          0.158203125,
          0.0333709716796875,
          0.140625,
          0.375,
          0.59326171875,
          0.059326171875,
          0.31640625,
          0.2373046875,
          0.0296630859375,
          0.1125,
          0.28125,
          0.140625,
          0.0889892578125,
          0.0622924804687499,
          0.177978515625,
          0.28125,
          0.253125,
          0.2373046875,
          0.10546875,
          0.0843749999999999,
          0.1875,
          0.675,
          0.3375,
          0.675,
          0.1687499999999999,
          0.10546875,
          0.75,
          0.15,
          0.2373046875,
          0.0622924804687499,
          0.1265625,
          0.3375,
          0.16875,
          0.1125,
          0.1687499999999999,
          0.1687499999999999,
          0.2669677734375,
          0.5249999999999999,
          0.031640625,
          0.3375,
          0.04449462890625,
          0.1265625,
          0.1875,
          0.1107421874999999,
          0.16875,
          0.0791015625,
          0.028125,
          0.02109375,
          0.3375,
          0.59326171875,
          0.3,
          0.474609375,
          0.140625,
          0.13348388671875,
          0.474609375,
          0.048944091796875,
          0.221484375,
          0.1875,
          0.474609375,
          0.253125,
          0.158203125,
          0.0622924804687499,
          0.0177978515625,
          0.066741943359375,
          0.675,
          0.005625,
          0.1687499999999999,
          0.1124999999999999,
          0.375,
          0.75,
          1.0125000000000002,
          0.0622924804687499,
          0.1125,
          0.1687499999999999,
          0.2109375,
          0.0140625,
          0.3796875,
          0.1125,
          0.106787109375,
          0.253125,
          0.31640625,
          0.45,
          0.1687499999999999,
          0.421875,
          0.1968749999999999,
          0.1687499999999999,
          0.2109375,
          0.28125,
          0.4499999999999999,
          0.11865234375,
          0.1875,
          0.15,
          0.075,
          0.0533935546875,
          0.253125,
          0.75,
          0.50625,
          0.28125,
          0.45,
          0.1687499999999999,
          0.0791015625,
          0.75,
          1.35,
          0.45,
          0.225,
          0.2249999999999999,
          0.0355957031249999,
          0.1125,
          0.225,
          0.1001129150390625,
          0.1124999999999999,
          0.675,
          0.22247314453125,
          0.2249999999999999,
          1.0125000000000002,
          0.05625,
          0.1875,
          0.6328125,
          0.375,
          0.375,
          0.04449462890625,
          0.3,
          0.6328125,
          0.16875,
          0.1687499999999999,
          0.028125,
          0.225,
          0.5625,
          0.0791015625,
          0.06328125,
          0.1265625,
          0.0158203125,
          0.1107421874999999,
          0.1125
         ],
         "yaxis": "y"
        }
       ],
       "layout": {
        "legend": {
         "tracegroupgap": 0
        },
        "margin": {
         "t": 60
        },
        "template": {
         "data": {
          "bar": [
           {
            "error_x": {
             "color": "#2a3f5f"
            },
            "error_y": {
             "color": "#2a3f5f"
            },
            "marker": {
             "line": {
              "color": "#E5ECF6",
              "width": 0.5
             },
             "pattern": {
              "fillmode": "overlay",
              "size": 10,
              "solidity": 0.2
             }
            },
            "type": "bar"
           }
          ],
          "barpolar": [
           {
            "marker": {
             "line": {
              "color": "#E5ECF6",
              "width": 0.5
             },
             "pattern": {
              "fillmode": "overlay",
              "size": 10,
              "solidity": 0.2
             }
            },
            "type": "barpolar"
           }
          ],
          "carpet": [
           {
            "aaxis": {
             "endlinecolor": "#2a3f5f",
             "gridcolor": "white",
             "linecolor": "white",
             "minorgridcolor": "white",
             "startlinecolor": "#2a3f5f"
            },
            "baxis": {
             "endlinecolor": "#2a3f5f",
             "gridcolor": "white",
             "linecolor": "white",
             "minorgridcolor": "white",
             "startlinecolor": "#2a3f5f"
            },
            "type": "carpet"
           }
          ],
          "choropleth": [
           {
            "colorbar": {
             "outlinewidth": 0,
             "ticks": ""
            },
            "type": "choropleth"
           }
          ],
          "contour": [
           {
            "colorbar": {
             "outlinewidth": 0,
             "ticks": ""
            },
            "colorscale": [
             [
              0,
              "#0d0887"
             ],
             [
              0.1111111111111111,
              "#46039f"
             ],
             [
              0.2222222222222222,
              "#7201a8"
             ],
             [
              0.3333333333333333,
              "#9c179e"
             ],
             [
              0.4444444444444444,
              "#bd3786"
             ],
             [
              0.5555555555555556,
              "#d8576b"
             ],
             [
              0.6666666666666666,
              "#ed7953"
             ],
             [
              0.7777777777777778,
              "#fb9f3a"
             ],
             [
              0.8888888888888888,
              "#fdca26"
             ],
             [
              1,
              "#f0f921"
             ]
            ],
            "type": "contour"
           }
          ],
          "contourcarpet": [
           {
            "colorbar": {
             "outlinewidth": 0,
             "ticks": ""
            },
            "type": "contourcarpet"
           }
          ],
          "heatmap": [
           {
            "colorbar": {
             "outlinewidth": 0,
             "ticks": ""
            },
            "colorscale": [
             [
              0,
              "#0d0887"
             ],
             [
              0.1111111111111111,
              "#46039f"
             ],
             [
              0.2222222222222222,
              "#7201a8"
             ],
             [
              0.3333333333333333,
              "#9c179e"
             ],
             [
              0.4444444444444444,
              "#bd3786"
             ],
             [
              0.5555555555555556,
              "#d8576b"
             ],
             [
              0.6666666666666666,
              "#ed7953"
             ],
             [
              0.7777777777777778,
              "#fb9f3a"
             ],
             [
              0.8888888888888888,
              "#fdca26"
             ],
             [
              1,
              "#f0f921"
             ]
            ],
            "type": "heatmap"
           }
          ],
          "heatmapgl": [
           {
            "colorbar": {
             "outlinewidth": 0,
             "ticks": ""
            },
            "colorscale": [
             [
              0,
              "#0d0887"
             ],
             [
              0.1111111111111111,
              "#46039f"
             ],
             [
              0.2222222222222222,
              "#7201a8"
             ],
             [
              0.3333333333333333,
              "#9c179e"
             ],
             [
              0.4444444444444444,
              "#bd3786"
             ],
             [
              0.5555555555555556,
              "#d8576b"
             ],
             [
              0.6666666666666666,
              "#ed7953"
             ],
             [
              0.7777777777777778,
              "#fb9f3a"
             ],
             [
              0.8888888888888888,
              "#fdca26"
             ],
             [
              1,
              "#f0f921"
             ]
            ],
            "type": "heatmapgl"
           }
          ],
          "histogram": [
           {
            "marker": {
             "pattern": {
              "fillmode": "overlay",
              "size": 10,
              "solidity": 0.2
             }
            },
            "type": "histogram"
           }
          ],
          "histogram2d": [
           {
            "colorbar": {
             "outlinewidth": 0,
             "ticks": ""
            },
            "colorscale": [
             [
              0,
              "#0d0887"
             ],
             [
              0.1111111111111111,
              "#46039f"
             ],
             [
              0.2222222222222222,
              "#7201a8"
             ],
             [
              0.3333333333333333,
              "#9c179e"
             ],
             [
              0.4444444444444444,
              "#bd3786"
             ],
             [
              0.5555555555555556,
              "#d8576b"
             ],
             [
              0.6666666666666666,
              "#ed7953"
             ],
             [
              0.7777777777777778,
              "#fb9f3a"
             ],
             [
              0.8888888888888888,
              "#fdca26"
             ],
             [
              1,
              "#f0f921"
             ]
            ],
            "type": "histogram2d"
           }
          ],
          "histogram2dcontour": [
           {
            "colorbar": {
             "outlinewidth": 0,
             "ticks": ""
            },
            "colorscale": [
             [
              0,
              "#0d0887"
             ],
             [
              0.1111111111111111,
              "#46039f"
             ],
             [
              0.2222222222222222,
              "#7201a8"
             ],
             [
              0.3333333333333333,
              "#9c179e"
             ],
             [
              0.4444444444444444,
              "#bd3786"
             ],
             [
              0.5555555555555556,
              "#d8576b"
             ],
             [
              0.6666666666666666,
              "#ed7953"
             ],
             [
              0.7777777777777778,
              "#fb9f3a"
             ],
             [
              0.8888888888888888,
              "#fdca26"
             ],
             [
              1,
              "#f0f921"
             ]
            ],
            "type": "histogram2dcontour"
           }
          ],
          "mesh3d": [
           {
            "colorbar": {
             "outlinewidth": 0,
             "ticks": ""
            },
            "type": "mesh3d"
           }
          ],
          "parcoords": [
           {
            "line": {
             "colorbar": {
              "outlinewidth": 0,
              "ticks": ""
             }
            },
            "type": "parcoords"
           }
          ],
          "pie": [
           {
            "automargin": true,
            "type": "pie"
           }
          ],
          "scatter": [
           {
            "fillpattern": {
             "fillmode": "overlay",
             "size": 10,
             "solidity": 0.2
            },
            "type": "scatter"
           }
          ],
          "scatter3d": [
           {
            "line": {
             "colorbar": {
              "outlinewidth": 0,
              "ticks": ""
             }
            },
            "marker": {
             "colorbar": {
              "outlinewidth": 0,
              "ticks": ""
             }
            },
            "type": "scatter3d"
           }
          ],
          "scattercarpet": [
           {
            "marker": {
             "colorbar": {
              "outlinewidth": 0,
              "ticks": ""
             }
            },
            "type": "scattercarpet"
           }
          ],
          "scattergeo": [
           {
            "marker": {
             "colorbar": {
              "outlinewidth": 0,
              "ticks": ""
             }
            },
            "type": "scattergeo"
           }
          ],
          "scattergl": [
           {
            "marker": {
             "colorbar": {
              "outlinewidth": 0,
              "ticks": ""
             }
            },
            "type": "scattergl"
           }
          ],
          "scattermapbox": [
           {
            "marker": {
             "colorbar": {
              "outlinewidth": 0,
              "ticks": ""
             }
            },
            "type": "scattermapbox"
           }
          ],
          "scatterpolar": [
           {
            "marker": {
             "colorbar": {
              "outlinewidth": 0,
              "ticks": ""
             }
            },
            "type": "scatterpolar"
           }
          ],
          "scatterpolargl": [
           {
            "marker": {
             "colorbar": {
              "outlinewidth": 0,
              "ticks": ""
             }
            },
            "type": "scatterpolargl"
           }
          ],
          "scatterternary": [
           {
            "marker": {
             "colorbar": {
              "outlinewidth": 0,
              "ticks": ""
             }
            },
            "type": "scatterternary"
           }
          ],
          "surface": [
           {
            "colorbar": {
             "outlinewidth": 0,
             "ticks": ""
            },
            "colorscale": [
             [
              0,
              "#0d0887"
             ],
             [
              0.1111111111111111,
              "#46039f"
             ],
             [
              0.2222222222222222,
              "#7201a8"
             ],
             [
              0.3333333333333333,
              "#9c179e"
             ],
             [
              0.4444444444444444,
              "#bd3786"
             ],
             [
              0.5555555555555556,
              "#d8576b"
             ],
             [
              0.6666666666666666,
              "#ed7953"
             ],
             [
              0.7777777777777778,
              "#fb9f3a"
             ],
             [
              0.8888888888888888,
              "#fdca26"
             ],
             [
              1,
              "#f0f921"
             ]
            ],
            "type": "surface"
           }
          ],
          "table": [
           {
            "cells": {
             "fill": {
              "color": "#EBF0F8"
             },
             "line": {
              "color": "white"
             }
            },
            "header": {
             "fill": {
              "color": "#C8D4E3"
             },
             "line": {
              "color": "white"
             }
            },
            "type": "table"
           }
          ]
         },
         "layout": {
          "annotationdefaults": {
           "arrowcolor": "#2a3f5f",
           "arrowhead": 0,
           "arrowwidth": 1
          },
          "autotypenumbers": "strict",
          "coloraxis": {
           "colorbar": {
            "outlinewidth": 0,
            "ticks": ""
           }
          },
          "colorscale": {
           "diverging": [
            [
             0,
             "#8e0152"
            ],
            [
             0.1,
             "#c51b7d"
            ],
            [
             0.2,
             "#de77ae"
            ],
            [
             0.3,
             "#f1b6da"
            ],
            [
             0.4,
             "#fde0ef"
            ],
            [
             0.5,
             "#f7f7f7"
            ],
            [
             0.6,
             "#e6f5d0"
            ],
            [
             0.7,
             "#b8e186"
            ],
            [
             0.8,
             "#7fbc41"
            ],
            [
             0.9,
             "#4d9221"
            ],
            [
             1,
             "#276419"
            ]
           ],
           "sequential": [
            [
             0,
             "#0d0887"
            ],
            [
             0.1111111111111111,
             "#46039f"
            ],
            [
             0.2222222222222222,
             "#7201a8"
            ],
            [
             0.3333333333333333,
             "#9c179e"
            ],
            [
             0.4444444444444444,
             "#bd3786"
            ],
            [
             0.5555555555555556,
             "#d8576b"
            ],
            [
             0.6666666666666666,
             "#ed7953"
            ],
            [
             0.7777777777777778,
             "#fb9f3a"
            ],
            [
             0.8888888888888888,
             "#fdca26"
            ],
            [
             1,
             "#f0f921"
            ]
           ],
           "sequentialminus": [
            [
             0,
             "#0d0887"
            ],
            [
             0.1111111111111111,
             "#46039f"
            ],
            [
             0.2222222222222222,
             "#7201a8"
            ],
            [
             0.3333333333333333,
             "#9c179e"
            ],
            [
             0.4444444444444444,
             "#bd3786"
            ],
            [
             0.5555555555555556,
             "#d8576b"
            ],
            [
             0.6666666666666666,
             "#ed7953"
            ],
            [
             0.7777777777777778,
             "#fb9f3a"
            ],
            [
             0.8888888888888888,
             "#fdca26"
            ],
            [
             1,
             "#f0f921"
            ]
           ]
          },
          "colorway": [
           "#636efa",
           "#EF553B",
           "#00cc96",
           "#ab63fa",
           "#FFA15A",
           "#19d3f3",
           "#FF6692",
           "#B6E880",
           "#FF97FF",
           "#FECB52"
          ],
          "font": {
           "color": "#2a3f5f"
          },
          "geo": {
           "bgcolor": "white",
           "lakecolor": "white",
           "landcolor": "#E5ECF6",
           "showlakes": true,
           "showland": true,
           "subunitcolor": "white"
          },
          "hoverlabel": {
           "align": "left"
          },
          "hovermode": "closest",
          "mapbox": {
           "style": "light"
          },
          "paper_bgcolor": "white",
          "plot_bgcolor": "#E5ECF6",
          "polar": {
           "angularaxis": {
            "gridcolor": "white",
            "linecolor": "white",
            "ticks": ""
           },
           "bgcolor": "#E5ECF6",
           "radialaxis": {
            "gridcolor": "white",
            "linecolor": "white",
            "ticks": ""
           }
          },
          "scene": {
           "xaxis": {
            "backgroundcolor": "#E5ECF6",
            "gridcolor": "white",
            "gridwidth": 2,
            "linecolor": "white",
            "showbackground": true,
            "ticks": "",
            "zerolinecolor": "white"
           },
           "yaxis": {
            "backgroundcolor": "#E5ECF6",
            "gridcolor": "white",
            "gridwidth": 2,
            "linecolor": "white",
            "showbackground": true,
            "ticks": "",
            "zerolinecolor": "white"
           },
           "zaxis": {
            "backgroundcolor": "#E5ECF6",
            "gridcolor": "white",
            "gridwidth": 2,
            "linecolor": "white",
            "showbackground": true,
            "ticks": "",
            "zerolinecolor": "white"
           }
          },
          "shapedefaults": {
           "line": {
            "color": "#2a3f5f"
           }
          },
          "ternary": {
           "aaxis": {
            "gridcolor": "white",
            "linecolor": "white",
            "ticks": ""
           },
           "baxis": {
            "gridcolor": "white",
            "linecolor": "white",
            "ticks": ""
           },
           "bgcolor": "#E5ECF6",
           "caxis": {
            "gridcolor": "white",
            "linecolor": "white",
            "ticks": ""
           }
          },
          "title": {
           "x": 0.05
          },
          "xaxis": {
           "automargin": true,
           "gridcolor": "white",
           "linecolor": "white",
           "ticks": "",
           "title": {
            "standoff": 15
           },
           "zerolinecolor": "white",
           "zerolinewidth": 2
          },
          "yaxis": {
           "automargin": true,
           "gridcolor": "white",
           "linecolor": "white",
           "ticks": "",
           "title": {
            "standoff": 15
           },
           "zerolinecolor": "white",
           "zerolinewidth": 2
          }
         }
        },
        "xaxis": {
         "anchor": "y",
         "domain": [
          0,
          1
         ],
         "title": {
          "text": "predicted_value"
         }
        },
        "yaxis": {
         "anchor": "x",
         "domain": [
          0,
          1
         ],
         "title": {
          "text": "market_value_in_million_eur"
         }
        }
       }
      }
     },
     "metadata": {},
     "output_type": "display_data"
    },
    {
     "data": {
      "image/png": "[encoded data removed]",
      "text/plain": [
       "<Figure size 800x950 with 2 Axes>"
      ]
     },
     "metadata": {},
     "output_type": "display_data"
    },
    {
     "data": {
      "image/png": "[encoded data removed]",
      "text/plain": [
       "<Figure size 800x650 with 3 Axes>"
      ]
     },
     "metadata": {},
     "output_type": "display_data"
    },
    {
     "data": {
      "image/png": "[encoded data removed]",
      "text/plain": [
       "<Figure size 800x600 with 1 Axes>"
      ]
     },
     "metadata": {},
     "output_type": "display_data"
    }
   ],
   "source": [
    "forecast_df, regressor, y_test, top_features = predict_future_values(    pdf_train, \n",
    "    pdf_test, [2023, 2024, 2025, 2026, 2027, 2028, 2029, 2030, 2031, 2032, 2033, 2034, 2035, 2036, 2037, 2038], features)"
   ]
  },
  {
   "cell_type": "code",
   "execution_count": 66,
   "id": "6e2a600c",
   "metadata": {},
   "outputs": [],
   "source": [
    "# Merge with actual market values for evaluation\n",
    "\n",
    "merged = forecast_df.merge(pdf_test[[\"player_id\", \"name\"]], on=[\"player_id\"], how=\"left\")\n",
    "end = time.time()\n",
    "diff = end - start"
   ]
  },
  {
   "cell_type": "code",
   "execution_count": 67,
   "id": "ea2e158f",
   "metadata": {},
   "outputs": [],
   "source": [
    "players = [418560, 357662, 565822, 859951, 148455, 274839, 542580, 568177, 197838, 225693, 8198, 93176]"
   ]
  },
  {
   "cell_type": "code",
   "execution_count": 68,
   "id": "f5faafdf",
   "metadata": {},
   "outputs": [
    {
     "data": {
      "application/vnd.plotly.v1+json": {
       "config": {
        "plotlyServerURL": "https://plot.ly"
       },
       "data": [
        {
         "customdata": [
          [
           29
          ],
          [
           31
          ],
          [
           31
          ],
          [
           32
          ],
          [
           34
          ],
          [
           35
          ],
          [
           36
          ],
          [
           37
          ],
          [
           38
          ],
          [
           39
          ],
          [
           40
          ],
          [
           41
          ],
          [
           42
          ],
          [
           43
          ],
          [
           44
          ],
          [
           45
          ],
          [
           46
          ],
          [
           47
          ],
          [
           48
          ],
          [
           49
          ],
          [
           50
          ],
          [
           51
          ],
          [
           52
          ],
          [
           53
          ]
         ],
         "hovertemplate": "name=Cristiano Ronaldo<br>year=%{x}<br>predicted_value=%{y}<br>age=%{customdata[0]}<extra></extra>",
         "legendgroup": "Cristiano Ronaldo",
         "line": {
          "color": "#636efa",
          "dash": "solid"
         },
         "marker": {
          "symbol": "circle"
         },
         "mode": "lines",
         "name": "Cristiano Ronaldo",
         "orientation": "v",
         "showlegend": true,
         "type": "scatter",
         "x": [
          2015,
          2016,
          2017,
          2018,
          2019,
          2020,
          2021,
          2022,
          2023,
          2024,
          2025,
          2026,
          2027,
          2028,
          2029,
          2030,
          2031,
          2032,
          2033,
          2034,
          2035,
          2036,
          2037,
          2038
         ],
         "xaxis": "x",
         "y": [
          120,
          110,
          100,
          120,
          90,
          60,
          50,
          30,
          25.379878997802734,
          21.68526268005371,
          14.371938705444336,
          9.62248706817627,
          8.215791702270508,
          6.822329044342041,
          5.048258304595947,
          3.787384510040283,
          3.1379833221435547,
          2.3541793823242188,
          1.7593287229537964,
          1.2802629470825195,
          0.7656242847442627,
          0.23335058987140656,
          -0.3718174695968628,
          -0.5710529685020447
         ],
         "yaxis": "y"
        },
        {
         "customdata": [
          [
           24
          ],
          [
           25
          ],
          [
           26
          ],
          [
           27
          ],
          [
           29
          ],
          [
           30
          ],
          [
           30
          ],
          [
           32
          ],
          [
           33
          ],
          [
           34
          ],
          [
           35
          ],
          [
           36
          ],
          [
           37
          ],
          [
           38
          ],
          [
           39
          ],
          [
           40
          ],
          [
           41
          ],
          [
           42
          ],
          [
           43
          ],
          [
           44
          ],
          [
           45
          ],
          [
           46
          ],
          [
           47
          ],
          [
           48
          ]
         ],
         "hovertemplate": "name=Marcos Rojo<br>year=%{x}<br>predicted_value=%{y}<br>age=%{customdata[0]}<extra></extra>",
         "legendgroup": "Marcos Rojo",
         "line": {
          "color": "#EF553B",
          "dash": "solid"
         },
         "marker": {
          "symbol": "circle"
         },
         "mode": "lines",
         "name": "Marcos Rojo",
         "orientation": "v",
         "showlegend": true,
         "type": "scatter",
         "x": [
          2015,
          2016,
          2017,
          2018,
          2019,
          2020,
          2021,
          2022,
          2023,
          2024,
          2025,
          2026,
          2027,
          2028,
          2029,
          2030,
          2031,
          2032,
          2033,
          2034,
          2035,
          2036,
          2037,
          2038
         ],
         "xaxis": "x",
         "y": [
          16,
          18,
          19,
          18,
          12,
          8,
          5,
          3.4,
          2.50681734085083,
          1.7593287229537964,
          1.2802629470825195,
          0.7656242847442627,
          0.23335058987140656,
          -0.3718174695968628,
          -0.5710529685020447,
          -0.5710529685020447,
          -0.5710529685020447,
          -0.5710529685020447,
          -0.5710529685020447,
          -0.5710529685020447,
          -0.5710529685020447,
          -0.5710529685020447,
          -0.5710529685020447,
          -0.5710529685020447
         ],
         "yaxis": "y"
        },
        {
         "customdata": [
          [
           22
          ],
          [
           23
          ],
          [
           24
          ],
          [
           25
          ],
          [
           27
          ],
          [
           27
          ],
          [
           28
          ],
          [
           30
          ],
          [
           30
          ],
          [
           31
          ],
          [
           32
          ],
          [
           33
          ],
          [
           34
          ],
          [
           35
          ],
          [
           36
          ],
          [
           37
          ],
          [
           38
          ],
          [
           39
          ],
          [
           40
          ],
          [
           41
          ],
          [
           42
          ],
          [
           43
          ],
          [
           44
          ],
          [
           45
          ]
         ],
         "hovertemplate": "name=Mohamed Salah<br>year=%{x}<br>predicted_value=%{y}<br>age=%{customdata[0]}<extra></extra>",
         "legendgroup": "Mohamed Salah",
         "line": {
          "color": "#00cc96",
          "dash": "solid"
         },
         "marker": {
          "symbol": "circle"
         },
         "mode": "lines",
         "name": "Mohamed Salah",
         "orientation": "v",
         "showlegend": true,
         "type": "scatter",
         "x": [
          2015,
          2016,
          2017,
          2018,
          2019,
          2020,
          2021,
          2022,
          2023,
          2024,
          2025,
          2026,
          2027,
          2028,
          2029,
          2030,
          2031,
          2032,
          2033,
          2034,
          2035,
          2036,
          2037,
          2038
         ],
         "xaxis": "x",
         "y": [
          10,
          20,
          30,
          80,
          150,
          120,
          110,
          90,
          80.38693237304688,
          80.38693237304688,
          80.38693237304688,
          80.38693237304688,
          80.38693237304688,
          80.38693237304688,
          80.38693237304688,
          80.38693237304688,
          80.38693237304688,
          80.38693237304688,
          80.38693237304688,
          80.38693237304688,
          80.38693237304688,
          80.38693237304688,
          80.38693237304688,
          80.38693237304688
         ],
         "yaxis": "y"
        },
        {
         "customdata": [
          [
           28
          ],
          [
           29
          ],
          [
           30
          ],
          [
           30
          ],
          [
           32
          ],
          [
           33
          ],
          [
           34
          ],
          [
           35
          ],
          [
           36
          ],
          [
           37
          ],
          [
           38
          ],
          [
           39
          ],
          [
           40
          ],
          [
           41
          ],
          [
           42
          ],
          [
           43
          ],
          [
           44
          ],
          [
           45
          ],
          [
           46
          ],
          [
           47
          ],
          [
           48
          ],
          [
           49
          ],
          [
           50
          ],
          [
           51
          ]
         ],
         "hovertemplate": "name=Jamie Vardy<br>year=%{x}<br>predicted_value=%{y}<br>age=%{customdata[0]}<extra></extra>",
         "legendgroup": "Jamie Vardy",
         "line": {
          "color": "#ab63fa",
          "dash": "solid"
         },
         "marker": {
          "symbol": "circle"
         },
         "mode": "lines",
         "name": "Jamie Vardy",
         "orientation": "v",
         "showlegend": true,
         "type": "scatter",
         "x": [
          2015,
          2016,
          2017,
          2018,
          2019,
          2020,
          2021,
          2022,
          2023,
          2024,
          2025,
          2026,
          2027,
          2028,
          2029,
          2030,
          2031,
          2032,
          2033,
          2034,
          2035,
          2036,
          2037,
          2038
         ],
         "xaxis": "x",
         "y": [
          2,
          12,
          15,
          18,
          20,
          16,
          10,
          5,
          3.6064603328704834,
          2.3258919715881348,
          1.5784029960632324,
          0.8164123892784119,
          0.36773377656936646,
          -0.42072808742523193,
          -0.7519786953926086,
          -0.7519786953926086,
          -0.7519786953926086,
          -0.7519786953926086,
          -0.7519786953926086,
          -0.7519786953926086,
          -0.7519786953926086,
          -0.7519786953926086,
          -0.7519786953926086,
          -0.7519786953926086
         ],
         "yaxis": "y"
        },
        {
         "customdata": [
          [
           21
          ],
          [
           22
          ],
          [
           23
          ],
          [
           24
          ],
          [
           25
          ],
          [
           26
          ],
          [
           27
          ],
          [
           28
          ],
          [
           29
          ],
          [
           30
          ],
          [
           31
          ],
          [
           32
          ],
          [
           33
          ],
          [
           34
          ],
          [
           35
          ],
          [
           36
          ],
          [
           37
          ],
          [
           38
          ],
          [
           39
          ],
          [
           40
          ],
          [
           41
          ],
          [
           42
          ],
          [
           43
          ],
          [
           44
          ]
         ],
         "hovertemplate": "name=Fabinho<br>year=%{x}<br>predicted_value=%{y}<br>age=%{customdata[0]}<extra></extra>",
         "legendgroup": "Fabinho",
         "line": {
          "color": "#FFA15A",
          "dash": "solid"
         },
         "marker": {
          "symbol": "circle"
         },
         "mode": "lines",
         "name": "Fabinho",
         "orientation": "v",
         "showlegend": true,
         "type": "scatter",
         "x": [
          2015,
          2016,
          2017,
          2018,
          2019,
          2020,
          2021,
          2022,
          2023,
          2024,
          2025,
          2026,
          2027,
          2028,
          2029,
          2030,
          2031,
          2032,
          2033,
          2034,
          2035,
          2036,
          2037,
          2038
         ],
         "xaxis": "x",
         "y": [
          4.5,
          15,
          20,
          40,
          45,
          56,
          60,
          60,
          53.50180435180664,
          38.879638671875,
          27.342973709106445,
          21.448266983032227,
          14.134942054748535,
          9.385489463806152,
          7.978794574737549,
          6.585331439971924,
          4.8112616539001465,
          2.4771010875701904,
          1.2691065073013306,
          0.27540260553359985,
          -0.8620394468307495,
          -1.061274766921997,
          -1.061274766921997,
          -1.061274766921997
         ],
         "yaxis": "y"
        },
        {
         "customdata": [
          [
           19
          ],
          [
           20
          ],
          [
           21
          ],
          [
           22
          ],
          [
           23
          ],
          [
           24
          ],
          [
           25
          ],
          [
           26
          ],
          [
           27
          ],
          [
           28
          ],
          [
           29
          ],
          [
           30
          ],
          [
           31
          ],
          [
           32
          ],
          [
           33
          ],
          [
           34
          ],
          [
           35
          ],
          [
           36
          ],
          [
           37
          ],
          [
           38
          ],
          [
           39
          ],
          [
           40
          ],
          [
           41
          ]
         ],
         "hovertemplate": "name=Wilfred Ndidi<br>year=%{x}<br>predicted_value=%{y}<br>age=%{customdata[0]}<extra></extra>",
         "legendgroup": "Wilfred Ndidi",
         "line": {
          "color": "#19d3f3",
          "dash": "solid"
         },
         "marker": {
          "symbol": "circle"
         },
         "mode": "lines",
         "name": "Wilfred Ndidi",
         "orientation": "v",
         "showlegend": true,
         "type": "scatter",
         "x": [
          2016,
          2017,
          2018,
          2019,
          2020,
          2021,
          2022,
          2023,
          2024,
          2025,
          2026,
          2027,
          2028,
          2029,
          2030,
          2031,
          2032,
          2033,
          2034,
          2035,
          2036,
          2037,
          2038
         ],
         "xaxis": "x",
         "y": [
          1,
          14,
          18,
          35,
          36,
          50,
          60,
          58.026981353759766,
          44.609127044677734,
          37.191932678222656,
          29.982263565063477,
          23.708717346191406,
          16.7012882232666,
          11.256654739379883,
          8.433701515197754,
          6.513875961303711,
          4.739806175231934,
          2.5331718921661377,
          1.5784029960632324,
          0.8164123892784119,
          0.36773377656936646,
          -0.42072808742523193,
          -0.7519786953926086
         ],
         "yaxis": "y"
        },
        {
         "customdata": [
          [
           18
          ],
          [
           20
          ],
          [
           21
          ],
          [
           22
          ],
          [
           23
          ],
          [
           24
          ],
          [
           25
          ],
          [
           26
          ],
          [
           27
          ],
          [
           28
          ],
          [
           29
          ],
          [
           30
          ],
          [
           31
          ],
          [
           32
          ],
          [
           33
          ],
          [
           34
          ],
          [
           35
          ],
          [
           36
          ],
          [
           37
          ],
          [
           38
          ],
          [
           39
          ]
         ],
         "hovertemplate": "name=Declan Rice<br>year=%{x}<br>predicted_value=%{y}<br>age=%{customdata[0]}<extra></extra>",
         "legendgroup": "Declan Rice",
         "line": {
          "color": "#FF6692",
          "dash": "solid"
         },
         "marker": {
          "symbol": "circle"
         },
         "mode": "lines",
         "name": "Declan Rice",
         "orientation": "v",
         "showlegend": true,
         "type": "scatter",
         "x": [
          2018,
          2019,
          2020,
          2021,
          2022,
          2023,
          2024,
          2025,
          2026,
          2027,
          2028,
          2029,
          2030,
          2031,
          2032,
          2033,
          2034,
          2035,
          2036,
          2037,
          2038
         ],
         "xaxis": "x",
         "y": [
          2,
          35,
          49.5,
          60,
          80,
          94.13805389404297,
          89.34537506103516,
          87.20896911621094,
          85.96202850341797,
          85.52921295166016,
          81.13102722167969,
          79.47830963134766,
          58.55991744995117,
          46.563133239746094,
          39.257686614990234,
          36.10099411010742,
          34.717166900634766,
          33.90089797973633,
          33.90089797973633,
          33.90089797973633,
          33.90089797973633
         ],
         "yaxis": "y"
        },
        {
         "customdata": [
          [
           17
          ],
          [
           18
          ],
          [
           18
          ],
          [
           19
          ],
          [
           20
          ],
          [
           21
          ],
          [
           22
          ],
          [
           23
          ],
          [
           24
          ],
          [
           25
          ],
          [
           26
          ],
          [
           27
          ],
          [
           28
          ],
          [
           29
          ],
          [
           30
          ],
          [
           31
          ],
          [
           32
          ],
          [
           33
          ],
          [
           34
          ],
          [
           35
          ],
          [
           36
          ],
          [
           37
          ]
         ],
         "hovertemplate": "name=Erling Haaland<br>year=%{x}<br>predicted_value=%{y}<br>age=%{customdata[0]}<extra></extra>",
         "legendgroup": "Erling Haaland",
         "line": {
          "color": "#B6E880",
          "dash": "solid"
         },
         "marker": {
          "symbol": "circle"
         },
         "mode": "lines",
         "name": "Erling Haaland",
         "orientation": "v",
         "showlegend": true,
         "type": "scatter",
         "x": [
          2017,
          2018,
          2019,
          2020,
          2021,
          2022,
          2023,
          2024,
          2025,
          2026,
          2027,
          2028,
          2029,
          2030,
          2031,
          2032,
          2033,
          2034,
          2035,
          2036,
          2037,
          2038
         ],
         "xaxis": "x",
         "y": [
          0.3,
          2,
          5,
          60,
          110,
          150,
          132.0258331298828,
          122.19916534423828,
          118.95037078857422,
          117.76292419433594,
          116.81396484375,
          113.67117309570312,
          111.3438720703125,
          107.12203979492188,
          105.46932220458984,
          104.72588348388672,
          104.72588348388672,
          104.72588348388672,
          104.72588348388672,
          104.72588348388672,
          104.72588348388672,
          104.72588348388672
         ],
         "yaxis": "y"
        },
        {
         "customdata": [
          [
           17
          ],
          [
           17
          ],
          [
           18
          ],
          [
           20
          ],
          [
           21
          ],
          [
           22
          ],
          [
           23
          ],
          [
           24
          ],
          [
           25
          ],
          [
           26
          ],
          [
           27
          ],
          [
           28
          ],
          [
           29
          ],
          [
           30
          ],
          [
           31
          ],
          [
           32
          ],
          [
           33
          ],
          [
           34
          ],
          [
           35
          ]
         ],
         "hovertemplate": "name=Harvey Elliott<br>year=%{x}<br>predicted_value=%{y}<br>age=%{customdata[0]}<extra></extra>",
         "legendgroup": "Harvey Elliott",
         "line": {
          "color": "#FF97FF",
          "dash": "solid"
         },
         "marker": {
          "symbol": "circle"
         },
         "mode": "lines",
         "name": "Harvey Elliott",
         "orientation": "v",
         "showlegend": true,
         "type": "scatter",
         "x": [
          2020,
          2021,
          2022,
          2023,
          2024,
          2025,
          2026,
          2027,
          2028,
          2029,
          2030,
          2031,
          2032,
          2033,
          2034,
          2035,
          2036,
          2037,
          2038
         ],
         "xaxis": "x",
         "y": [
          3.6,
          15,
          22,
          27.578750610351562,
          31.982465744018555,
          35.92409896850586,
          35.78431701660156,
          35.78431701660156,
          35.78431701660156,
          35.26078796386719,
          34.08396911621094,
          32.834877014160156,
          29.869945526123047,
          25.796493530273438,
          23.77918243408203,
          19.103656768798828,
          16.649036407470703,
          14.344779968261719,
          12.402154922485352
         ],
         "yaxis": "y"
        },
        {
         "customdata": [
          [
           20
          ],
          [
           21
          ],
          [
           22
          ],
          [
           23
          ],
          [
           24
          ],
          [
           25
          ],
          [
           26
          ],
          [
           27
          ],
          [
           28
          ],
          [
           29
          ],
          [
           30
          ],
          [
           31
          ],
          [
           32
          ],
          [
           33
          ],
          [
           34
          ],
          [
           35
          ],
          [
           36
          ]
         ],
         "hovertemplate": "name=Cole Palmer<br>year=%{x}<br>predicted_value=%{y}<br>age=%{customdata[0]}<extra></extra>",
         "legendgroup": "Cole Palmer",
         "line": {
          "color": "#FECB52",
          "dash": "solid"
         },
         "marker": {
          "symbol": "circle"
         },
         "mode": "lines",
         "name": "Cole Palmer",
         "orientation": "v",
         "showlegend": true,
         "type": "scatter",
         "x": [
          2022,
          2023,
          2024,
          2025,
          2026,
          2027,
          2028,
          2029,
          2030,
          2031,
          2032,
          2033,
          2034,
          2035,
          2036,
          2037,
          2038
         ],
         "xaxis": "x",
         "y": [
          6,
          33.51500701904297,
          59.463924407958984,
          69.24237060546875,
          80.30059051513672,
          100.48509216308594,
          100.1822738647461,
          97.03948211669922,
          94.7121810913086,
          90.37027740478516,
          88.71755981445312,
          87.97412109375,
          87.97412109375,
          87.97412109375,
          87.97412109375,
          87.97412109375,
          87.97412109375
         ],
         "yaxis": "y"
        },
        {
         "customdata": [
          [
           17
          ],
          [
           18
          ],
          [
           19
          ],
          [
           20
          ],
          [
           21
          ],
          [
           22
          ],
          [
           23
          ],
          [
           24
          ],
          [
           25
          ],
          [
           26
          ],
          [
           27
          ],
          [
           28
          ],
          [
           29
          ],
          [
           30
          ],
          [
           31
          ],
          [
           32
          ]
         ],
         "hovertemplate": "name=Ashley Phillips<br>year=%{x}<br>predicted_value=%{y}<br>age=%{customdata[0]}<extra></extra>",
         "legendgroup": "Ashley Phillips",
         "line": {
          "color": "#636efa",
          "dash": "solid"
         },
         "marker": {
          "symbol": "circle"
         },
         "mode": "lines",
         "name": "Ashley Phillips",
         "orientation": "v",
         "showlegend": true,
         "type": "scatter",
         "x": [
          2023,
          2024,
          2025,
          2026,
          2027,
          2028,
          2029,
          2030,
          2031,
          2032,
          2033,
          2034,
          2035,
          2036,
          2037,
          2038
         ],
         "xaxis": "x",
         "y": [
          5.233392238616943,
          7.635937690734863,
          11.555686950683594,
          15.117018699645996,
          18.25014305114746,
          19.38351058959961,
          18.99268341064453,
          18.99268341064453,
          18.99268341064453,
          18.860280990600586,
          18.02035140991211,
          17.92510223388672,
          17.004796981811523,
          13.047823905944824,
          10.047173500061035,
          10.008099555969238
         ],
         "yaxis": "y"
        }
       ],
       "layout": {
        "annotations": [
         {
          "showarrow": false,
          "text": "2022/2023 boundary",
          "x": 2022.5,
          "xanchor": "left",
          "xref": "x",
          "y": 1,
          "yanchor": "top",
          "yref": "y domain"
         }
        ],
        "legend": {
         "title": {
          "text": "name"
         },
         "tracegroupgap": 0
        },
        "shapes": [
         {
          "line": {
           "color": "red",
           "dash": "dash"
          },
          "type": "line",
          "x0": 2022.5,
          "x1": 2022.5,
          "xref": "x",
          "y0": 0,
          "y1": 1,
          "yref": "y domain"
         }
        ],
        "template": {
         "data": {
          "bar": [
           {
            "error_x": {
             "color": "#2a3f5f"
            },
            "error_y": {
             "color": "#2a3f5f"
            },
            "marker": {
             "line": {
              "color": "#E5ECF6",
              "width": 0.5
             },
             "pattern": {
              "fillmode": "overlay",
              "size": 10,
              "solidity": 0.2
             }
            },
            "type": "bar"
           }
          ],
          "barpolar": [
           {
            "marker": {
             "line": {
              "color": "#E5ECF6",
              "width": 0.5
             },
             "pattern": {
              "fillmode": "overlay",
              "size": 10,
              "solidity": 0.2
             }
            },
            "type": "barpolar"
           }
          ],
          "carpet": [
           {
            "aaxis": {
             "endlinecolor": "#2a3f5f",
             "gridcolor": "white",
             "linecolor": "white",
             "minorgridcolor": "white",
             "startlinecolor": "#2a3f5f"
            },
            "baxis": {
             "endlinecolor": "#2a3f5f",
             "gridcolor": "white",
             "linecolor": "white",
             "minorgridcolor": "white",
             "startlinecolor": "#2a3f5f"
            },
            "type": "carpet"
           }
          ],
          "choropleth": [
           {
            "colorbar": {
             "outlinewidth": 0,
             "ticks": ""
            },
            "type": "choropleth"
           }
          ],
          "contour": [
           {
            "colorbar": {
             "outlinewidth": 0,
             "ticks": ""
            },
            "colorscale": [
             [
              0,
              "#0d0887"
             ],
             [
              0.1111111111111111,
              "#46039f"
             ],
             [
              0.2222222222222222,
              "#7201a8"
             ],
             [
              0.3333333333333333,
              "#9c179e"
             ],
             [
              0.4444444444444444,
              "#bd3786"
             ],
             [
              0.5555555555555556,
              "#d8576b"
             ],
             [
              0.6666666666666666,
              "#ed7953"
             ],
             [
              0.7777777777777778,
              "#fb9f3a"
             ],
             [
              0.8888888888888888,
              "#fdca26"
             ],
             [
              1,
              "#f0f921"
             ]
            ],
            "type": "contour"
           }
          ],
          "contourcarpet": [
           {
            "colorbar": {
             "outlinewidth": 0,
             "ticks": ""
            },
            "type": "contourcarpet"
           }
          ],
          "heatmap": [
           {
            "colorbar": {
             "outlinewidth": 0,
             "ticks": ""
            },
            "colorscale": [
             [
              0,
              "#0d0887"
             ],
             [
              0.1111111111111111,
              "#46039f"
             ],
             [
              0.2222222222222222,
              "#7201a8"
             ],
             [
              0.3333333333333333,
              "#9c179e"
             ],
             [
              0.4444444444444444,
              "#bd3786"
             ],
             [
              0.5555555555555556,
              "#d8576b"
             ],
             [
              0.6666666666666666,
              "#ed7953"
             ],
             [
              0.7777777777777778,
              "#fb9f3a"
             ],
             [
              0.8888888888888888,
              "#fdca26"
             ],
             [
              1,
              "#f0f921"
             ]
            ],
            "type": "heatmap"
           }
          ],
          "heatmapgl": [
           {
            "colorbar": {
             "outlinewidth": 0,
             "ticks": ""
            },
            "colorscale": [
             [
              0,
              "#0d0887"
             ],
             [
              0.1111111111111111,
              "#46039f"
             ],
             [
              0.2222222222222222,
              "#7201a8"
             ],
             [
              0.3333333333333333,
              "#9c179e"
             ],
             [
              0.4444444444444444,
              "#bd3786"
             ],
             [
              0.5555555555555556,
              "#d8576b"
             ],
             [
              0.6666666666666666,
              "#ed7953"
             ],
             [
              0.7777777777777778,
              "#fb9f3a"
             ],
             [
              0.8888888888888888,
              "#fdca26"
             ],
             [
              1,
              "#f0f921"
             ]
            ],
            "type": "heatmapgl"
           }
          ],
          "histogram": [
           {
            "marker": {
             "pattern": {
              "fillmode": "overlay",
              "size": 10,
              "solidity": 0.2
             }
            },
            "type": "histogram"
           }
          ],
          "histogram2d": [
           {
            "colorbar": {
             "outlinewidth": 0,
             "ticks": ""
            },
            "colorscale": [
             [
              0,
              "#0d0887"
             ],
             [
              0.1111111111111111,
              "#46039f"
             ],
             [
              0.2222222222222222,
              "#7201a8"
             ],
             [
              0.3333333333333333,
              "#9c179e"
             ],
             [
              0.4444444444444444,
              "#bd3786"
             ],
             [
              0.5555555555555556,
              "#d8576b"
             ],
             [
              0.6666666666666666,
              "#ed7953"
             ],
             [
              0.7777777777777778,
              "#fb9f3a"
             ],
             [
              0.8888888888888888,
              "#fdca26"
             ],
             [
              1,
              "#f0f921"
             ]
            ],
            "type": "histogram2d"
           }
          ],
          "histogram2dcontour": [
           {
            "colorbar": {
             "outlinewidth": 0,
             "ticks": ""
            },
            "colorscale": [
             [
              0,
              "#0d0887"
             ],
             [
              0.1111111111111111,
              "#46039f"
             ],
             [
              0.2222222222222222,
              "#7201a8"
             ],
             [
              0.3333333333333333,
              "#9c179e"
             ],
             [
              0.4444444444444444,
              "#bd3786"
             ],
             [
              0.5555555555555556,
              "#d8576b"
             ],
             [
              0.6666666666666666,
              "#ed7953"
             ],
             [
              0.7777777777777778,
              "#fb9f3a"
             ],
             [
              0.8888888888888888,
              "#fdca26"
             ],
             [
              1,
              "#f0f921"
             ]
            ],
            "type": "histogram2dcontour"
           }
          ],
          "mesh3d": [
           {
            "colorbar": {
             "outlinewidth": 0,
             "ticks": ""
            },
            "type": "mesh3d"
           }
          ],
          "parcoords": [
           {
            "line": {
             "colorbar": {
              "outlinewidth": 0,
              "ticks": ""
             }
            },
            "type": "parcoords"
           }
          ],
          "pie": [
           {
            "automargin": true,
            "type": "pie"
           }
          ],
          "scatter": [
           {
            "fillpattern": {
             "fillmode": "overlay",
             "size": 10,
             "solidity": 0.2
            },
            "type": "scatter"
           }
          ],
          "scatter3d": [
           {
            "line": {
             "colorbar": {
              "outlinewidth": 0,
              "ticks": ""
             }
            },
            "marker": {
             "colorbar": {
              "outlinewidth": 0,
              "ticks": ""
             }
            },
            "type": "scatter3d"
           }
          ],
          "scattercarpet": [
           {
            "marker": {
             "colorbar": {
              "outlinewidth": 0,
              "ticks": ""
             }
            },
            "type": "scattercarpet"
           }
          ],
          "scattergeo": [
           {
            "marker": {
             "colorbar": {
              "outlinewidth": 0,
              "ticks": ""
             }
            },
            "type": "scattergeo"
           }
          ],
          "scattergl": [
           {
            "marker": {
             "colorbar": {
              "outlinewidth": 0,
              "ticks": ""
             }
            },
            "type": "scattergl"
           }
          ],
          "scattermapbox": [
           {
            "marker": {
             "colorbar": {
              "outlinewidth": 0,
              "ticks": ""
             }
            },
            "type": "scattermapbox"
           }
          ],
          "scatterpolar": [
           {
            "marker": {
             "colorbar": {
              "outlinewidth": 0,
              "ticks": ""
             }
            },
            "type": "scatterpolar"
           }
          ],
          "scatterpolargl": [
           {
            "marker": {
             "colorbar": {
              "outlinewidth": 0,
              "ticks": ""
             }
            },
            "type": "scatterpolargl"
           }
          ],
          "scatterternary": [
           {
            "marker": {
             "colorbar": {
              "outlinewidth": 0,
              "ticks": ""
             }
            },
            "type": "scatterternary"
           }
          ],
          "surface": [
           {
            "colorbar": {
             "outlinewidth": 0,
             "ticks": ""
            },
            "colorscale": [
             [
              0,
              "#0d0887"
             ],
             [
              0.1111111111111111,
              "#46039f"
             ],
             [
              0.2222222222222222,
              "#7201a8"
             ],
             [
              0.3333333333333333,
              "#9c179e"
             ],
             [
              0.4444444444444444,
              "#bd3786"
             ],
             [
              0.5555555555555556,
              "#d8576b"
             ],
             [
              0.6666666666666666,
              "#ed7953"
             ],
             [
              0.7777777777777778,
              "#fb9f3a"
             ],
             [
              0.8888888888888888,
              "#fdca26"
             ],
             [
              1,
              "#f0f921"
             ]
            ],
            "type": "surface"
           }
          ],
          "table": [
           {
            "cells": {
             "fill": {
              "color": "#EBF0F8"
             },
             "line": {
              "color": "white"
             }
            },
            "header": {
             "fill": {
              "color": "#C8D4E3"
             },
             "line": {
              "color": "white"
             }
            },
            "type": "table"
           }
          ]
         },
         "layout": {
          "annotationdefaults": {
           "arrowcolor": "#2a3f5f",
           "arrowhead": 0,
           "arrowwidth": 1
          },
          "autotypenumbers": "strict",
          "coloraxis": {
           "colorbar": {
            "outlinewidth": 0,
            "ticks": ""
           }
          },
          "colorscale": {
           "diverging": [
            [
             0,
             "#8e0152"
            ],
            [
             0.1,
             "#c51b7d"
            ],
            [
             0.2,
             "#de77ae"
            ],
            [
             0.3,
             "#f1b6da"
            ],
            [
             0.4,
             "#fde0ef"
            ],
            [
             0.5,
             "#f7f7f7"
            ],
            [
             0.6,
             "#e6f5d0"
            ],
            [
             0.7,
             "#b8e186"
            ],
            [
             0.8,
             "#7fbc41"
            ],
            [
             0.9,
             "#4d9221"
            ],
            [
             1,
             "#276419"
            ]
           ],
           "sequential": [
            [
             0,
             "#0d0887"
            ],
            [
             0.1111111111111111,
             "#46039f"
            ],
            [
             0.2222222222222222,
             "#7201a8"
            ],
            [
             0.3333333333333333,
             "#9c179e"
            ],
            [
             0.4444444444444444,
             "#bd3786"
            ],
            [
             0.5555555555555556,
             "#d8576b"
            ],
            [
             0.6666666666666666,
             "#ed7953"
            ],
            [
             0.7777777777777778,
             "#fb9f3a"
            ],
            [
             0.8888888888888888,
             "#fdca26"
            ],
            [
             1,
             "#f0f921"
            ]
           ],
           "sequentialminus": [
            [
             0,
             "#0d0887"
            ],
            [
             0.1111111111111111,
             "#46039f"
            ],
            [
             0.2222222222222222,
             "#7201a8"
            ],
            [
             0.3333333333333333,
             "#9c179e"
            ],
            [
             0.4444444444444444,
             "#bd3786"
            ],
            [
             0.5555555555555556,
             "#d8576b"
            ],
            [
             0.6666666666666666,
             "#ed7953"
            ],
            [
             0.7777777777777778,
             "#fb9f3a"
            ],
            [
             0.8888888888888888,
             "#fdca26"
            ],
            [
             1,
             "#f0f921"
            ]
           ]
          },
          "colorway": [
           "#636efa",
           "#EF553B",
           "#00cc96",
           "#ab63fa",
           "#FFA15A",
           "#19d3f3",
           "#FF6692",
           "#B6E880",
           "#FF97FF",
           "#FECB52"
          ],
          "font": {
           "color": "#2a3f5f"
          },
          "geo": {
           "bgcolor": "white",
           "lakecolor": "white",
           "landcolor": "#E5ECF6",
           "showlakes": true,
           "showland": true,
           "subunitcolor": "white"
          },
          "hoverlabel": {
           "align": "left"
          },
          "hovermode": "closest",
          "mapbox": {
           "style": "light"
          },
          "paper_bgcolor": "white",
          "plot_bgcolor": "#E5ECF6",
          "polar": {
           "angularaxis": {
            "gridcolor": "white",
            "linecolor": "white",
            "ticks": ""
           },
           "bgcolor": "#E5ECF6",
           "radialaxis": {
            "gridcolor": "white",
            "linecolor": "white",
            "ticks": ""
           }
          },
          "scene": {
           "xaxis": {
            "backgroundcolor": "#E5ECF6",
            "gridcolor": "white",
            "gridwidth": 2,
            "linecolor": "white",
            "showbackground": true,
            "ticks": "",
            "zerolinecolor": "white"
           },
           "yaxis": {
            "backgroundcolor": "#E5ECF6",
            "gridcolor": "white",
            "gridwidth": 2,
            "linecolor": "white",
            "showbackground": true,
            "ticks": "",
            "zerolinecolor": "white"
           },
           "zaxis": {
            "backgroundcolor": "#E5ECF6",
            "gridcolor": "white",
            "gridwidth": 2,
            "linecolor": "white",
            "showbackground": true,
            "ticks": "",
            "zerolinecolor": "white"
           }
          },
          "shapedefaults": {
           "line": {
            "color": "#2a3f5f"
           }
          },
          "ternary": {
           "aaxis": {
            "gridcolor": "white",
            "linecolor": "white",
            "ticks": ""
           },
           "baxis": {
            "gridcolor": "white",
            "linecolor": "white",
            "ticks": ""
           },
           "bgcolor": "#E5ECF6",
           "caxis": {
            "gridcolor": "white",
            "linecolor": "white",
            "ticks": ""
           }
          },
          "title": {
           "x": 0.05
          },
          "xaxis": {
           "automargin": true,
           "gridcolor": "white",
           "linecolor": "white",
           "ticks": "",
           "title": {
            "standoff": 15
           },
           "zerolinecolor": "white",
           "zerolinewidth": 2
          },
          "yaxis": {
           "automargin": true,
           "gridcolor": "white",
           "linecolor": "white",
           "ticks": "",
           "title": {
            "standoff": 15
           },
           "zerolinecolor": "white",
           "zerolinewidth": 2
          }
         }
        },
        "title": {
         "text": "Predicted Market Values for Selected Players"
        },
        "xaxis": {
         "anchor": "y",
         "domain": [
          0,
          1
         ],
         "title": {
          "text": "year"
         }
        },
        "yaxis": {
         "anchor": "x",
         "domain": [
          0,
          1
         ],
         "title": {
          "text": "predicted_value"
         }
        }
       }
      }
     },
     "metadata": {},
     "output_type": "display_data"
    }
   ],
   "source": [
    "\n",
    "plot_player_value_trends(\n",
    "    pdf_train, merged,\n",
    "    player_ids=players\n",
    ")\n",
    "\n",
    "\n"
   ]
  },
  {
   "cell_type": "code",
   "execution_count": 69,
   "id": "575bfe67",
   "metadata": {},
   "outputs": [
    {
     "data": {
      "application/vnd.plotly.v1+json": {
       "config": {
        "plotlyServerURL": "https://plot.ly"
       },
       "data": [
        {
         "customdata": [
          [
           23
          ],
          [
           24
          ],
          [
           25
          ],
          [
           26
          ],
          [
           27
          ],
          [
           28
          ],
          [
           29
          ],
          [
           30
          ],
          [
           32
          ],
          [
           33
          ],
          [
           34
          ],
          [
           35
          ],
          [
           36
          ],
          [
           37
          ],
          [
           38
          ],
          [
           39
          ],
          [
           40
          ],
          [
           41
          ],
          [
           42
          ],
          [
           43
          ],
          [
           44
          ],
          [
           45
          ],
          [
           46
          ],
          [
           47
          ]
         ],
         "hovertemplate": "name=Kevin De Bruyne<br>year=%{x}<br>predicted_value=%{y}<br>age=%{customdata[0]}<extra></extra>",
         "legendgroup": "Kevin De Bruyne",
         "line": {
          "color": "#636efa",
          "dash": "solid"
         },
         "marker": {
          "symbol": "circle"
         },
         "mode": "lines",
         "name": "Kevin De Bruyne",
         "orientation": "v",
         "showlegend": true,
         "type": "scatter",
         "x": [
          2015,
          2016,
          2017,
          2018,
          2019,
          2020,
          2021,
          2022,
          2023,
          2024,
          2025,
          2026,
          2027,
          2028,
          2029,
          2030,
          2031,
          2032,
          2033,
          2034,
          2035,
          2036,
          2037,
          2038
         ],
         "xaxis": "x",
         "y": [
          28,
          60,
          65,
          110,
          130,
          120,
          100,
          85,
          83.77896881103516,
          83.77896881103516,
          83.77896881103516,
          83.77896881103516,
          83.77896881103516,
          83.77896881103516,
          83.77896881103516,
          83.77896881103516,
          83.77896881103516,
          83.77896881103516,
          83.77896881103516,
          83.77896881103516,
          83.77896881103516,
          83.77896881103516,
          83.77896881103516,
          83.77896881103516
         ],
         "yaxis": "y"
        },
        {
         "customdata": [
          [
           22
          ],
          [
           23
          ],
          [
           24
          ],
          [
           25
          ],
          [
           26
          ],
          [
           27
          ],
          [
           28
          ],
          [
           29
          ],
          [
           30
          ],
          [
           31
          ],
          [
           32
          ],
          [
           33
          ],
          [
           34
          ],
          [
           35
          ],
          [
           36
          ],
          [
           37
          ],
          [
           38
          ],
          [
           39
          ],
          [
           40
          ],
          [
           41
          ],
          [
           42
          ],
          [
           43
          ],
          [
           44
          ],
          [
           45
          ]
         ],
         "hovertemplate": "name=Heung-min Son<br>year=%{x}<br>predicted_value=%{y}<br>age=%{customdata[0]}<extra></extra>",
         "legendgroup": "Heung-min Son",
         "line": {
          "color": "#EF553B",
          "dash": "solid"
         },
         "marker": {
          "symbol": "circle"
         },
         "mode": "lines",
         "name": "Heung-min Son",
         "orientation": "v",
         "showlegend": true,
         "type": "scatter",
         "x": [
          2015,
          2016,
          2017,
          2018,
          2019,
          2020,
          2021,
          2022,
          2023,
          2024,
          2025,
          2026,
          2027,
          2028,
          2029,
          2030,
          2031,
          2032,
          2033,
          2034,
          2035,
          2036,
          2037,
          2038
         ],
         "xaxis": "x",
         "y": [
          16,
          25,
          25,
          35,
          65,
          64,
          85,
          75,
          56.97892379760742,
          44.23871612548828,
          39.77322769165039,
          36.61653518676758,
          35.23270797729492,
          35.23270797729492,
          35.23270797729492,
          35.23270797729492,
          35.23270797729492,
          35.23270797729492,
          35.23270797729492,
          35.23270797729492,
          35.23270797729492,
          35.23270797729492,
          35.23270797729492,
          35.23270797729492
         ],
         "yaxis": "y"
        },
        {
         "customdata": [
          [
           22
          ],
          [
           23
          ],
          [
           24
          ],
          [
           25
          ],
          [
           27
          ],
          [
           27
          ],
          [
           28
          ],
          [
           30
          ],
          [
           30
          ],
          [
           31
          ],
          [
           32
          ],
          [
           33
          ],
          [
           34
          ],
          [
           35
          ],
          [
           36
          ],
          [
           37
          ],
          [
           38
          ],
          [
           39
          ],
          [
           40
          ],
          [
           41
          ],
          [
           42
          ],
          [
           43
          ],
          [
           44
          ],
          [
           45
          ]
         ],
         "hovertemplate": "name=Mohamed Salah<br>year=%{x}<br>predicted_value=%{y}<br>age=%{customdata[0]}<extra></extra>",
         "legendgroup": "Mohamed Salah",
         "line": {
          "color": "#00cc96",
          "dash": "solid"
         },
         "marker": {
          "symbol": "circle"
         },
         "mode": "lines",
         "name": "Mohamed Salah",
         "orientation": "v",
         "showlegend": true,
         "type": "scatter",
         "x": [
          2015,
          2016,
          2017,
          2018,
          2019,
          2020,
          2021,
          2022,
          2023,
          2024,
          2025,
          2026,
          2027,
          2028,
          2029,
          2030,
          2031,
          2032,
          2033,
          2034,
          2035,
          2036,
          2037,
          2038
         ],
         "xaxis": "x",
         "y": [
          10,
          20,
          30,
          80,
          150,
          120,
          110,
          90,
          80.38693237304688,
          80.38693237304688,
          80.38693237304688,
          80.38693237304688,
          80.38693237304688,
          80.38693237304688,
          80.38693237304688,
          80.38693237304688,
          80.38693237304688,
          80.38693237304688,
          80.38693237304688,
          80.38693237304688,
          80.38693237304688,
          80.38693237304688,
          80.38693237304688,
          80.38693237304688
         ],
         "yaxis": "y"
        },
        {
         "customdata": [
          [
           18
          ],
          [
           18
          ],
          [
           19
          ],
          [
           20
          ],
          [
           21
          ],
          [
           22
          ],
          [
           23
          ],
          [
           24
          ],
          [
           25
          ],
          [
           26
          ],
          [
           27
          ],
          [
           28
          ],
          [
           29
          ],
          [
           30
          ],
          [
           31
          ],
          [
           32
          ],
          [
           33
          ],
          [
           34
          ],
          [
           35
          ],
          [
           36
          ],
          [
           37
          ],
          [
           38
          ],
          [
           39
          ],
          [
           40
          ]
         ],
         "hovertemplate": "name=Dominic Solanke<br>year=%{x}<br>predicted_value=%{y}<br>age=%{customdata[0]}<extra></extra>",
         "legendgroup": "Dominic Solanke",
         "line": {
          "color": "#ab63fa",
          "dash": "solid"
         },
         "marker": {
          "symbol": "circle"
         },
         "mode": "lines",
         "name": "Dominic Solanke",
         "orientation": "v",
         "showlegend": true,
         "type": "scatter",
         "x": [
          2015,
          2016,
          2017,
          2018,
          2019,
          2020,
          2021,
          2022,
          2023,
          2024,
          2025,
          2026,
          2027,
          2028,
          2029,
          2030,
          2031,
          2032,
          2033,
          2034,
          2035,
          2036,
          2037,
          2038
         ],
         "xaxis": "x",
         "y": [
          0.9,
          1.4,
          3,
          8,
          18,
          12,
          10,
          16,
          34.73043441772461,
          49.21059799194336,
          51.16725540161133,
          55.14445114135742,
          50.802555084228516,
          49.149837493896484,
          42.90419006347656,
          42.90419006347656,
          42.90419006347656,
          42.90419006347656,
          42.90419006347656,
          42.90419006347656,
          42.90419006347656,
          42.90419006347656,
          42.90419006347656,
          42.90419006347656
         ],
         "yaxis": "y"
        },
        {
         "customdata": [
          [
           17
          ],
          [
           18
          ],
          [
           19
          ],
          [
           20
          ],
          [
           21
          ],
          [
           23
          ],
          [
           23
          ],
          [
           24
          ],
          [
           25
          ],
          [
           26
          ],
          [
           27
          ],
          [
           28
          ],
          [
           29
          ],
          [
           30
          ],
          [
           31
          ],
          [
           32
          ],
          [
           33
          ],
          [
           34
          ],
          [
           35
          ],
          [
           36
          ],
          [
           37
          ],
          [
           38
          ]
         ],
         "hovertemplate": "name=Kai Havertz<br>year=%{x}<br>predicted_value=%{y}<br>age=%{customdata[0]}<extra></extra>",
         "legendgroup": "Kai Havertz",
         "line": {
          "color": "#FFA15A",
          "dash": "solid"
         },
         "marker": {
          "symbol": "circle"
         },
         "mode": "lines",
         "name": "Kai Havertz",
         "orientation": "v",
         "showlegend": true,
         "type": "scatter",
         "x": [
          2017,
          2018,
          2019,
          2020,
          2021,
          2022,
          2023,
          2024,
          2025,
          2026,
          2027,
          2028,
          2029,
          2030,
          2031,
          2032,
          2033,
          2034,
          2035,
          2036,
          2037,
          2038
         ],
         "xaxis": "x",
         "y": [
          1.5,
          25,
          90,
          81,
          70,
          70,
          71.04629516601562,
          68.77698516845703,
          67.58953857421875,
          66.64057922363281,
          65.39363861083984,
          64.96082305908203,
          60.56264877319336,
          58.909915924072266,
          46.16969299316406,
          38.8642463684082,
          35.70755386352539,
          34.323726654052734,
          33.5074577331543,
          33.5074577331543,
          33.5074577331543,
          33.5074577331543
         ],
         "yaxis": "y"
        },
        {
         "customdata": [
          [
           16
          ],
          [
           17
          ],
          [
           18
          ],
          [
           19
          ],
          [
           20
          ],
          [
           21
          ],
          [
           22
          ],
          [
           23
          ],
          [
           24
          ],
          [
           25
          ],
          [
           26
          ],
          [
           27
          ],
          [
           28
          ],
          [
           29
          ],
          [
           30
          ],
          [
           31
          ],
          [
           32
          ],
          [
           33
          ],
          [
           34
          ],
          [
           35
          ],
          [
           36
          ],
          [
           37
          ],
          [
           38
          ],
          [
           39
          ]
         ],
         "hovertemplate": "name=Martin Ødegaard<br>year=%{x}<br>predicted_value=%{y}<br>age=%{customdata[0]}<extra></extra>",
         "legendgroup": "Martin Ødegaard",
         "line": {
          "color": "#19d3f3",
          "dash": "solid"
         },
         "marker": {
          "symbol": "circle"
         },
         "mode": "lines",
         "name": "Martin Ødegaard",
         "orientation": "v",
         "showlegend": true,
         "type": "scatter",
         "x": [
          2015,
          2016,
          2017,
          2018,
          2019,
          2020,
          2021,
          2022,
          2023,
          2024,
          2025,
          2026,
          2027,
          2028,
          2029,
          2030,
          2031,
          2032,
          2033,
          2034,
          2035,
          2036,
          2037,
          2038
         ],
         "xaxis": "x",
         "y": [
          4,
          2.5,
          2,
          3.5,
          8,
          45,
          40,
          45,
          52.492713928222656,
          56.31905746459961,
          54.182655334472656,
          52.93571472167969,
          52.502891540527344,
          48.104713439941406,
          40.18326187133789,
          39.4398307800293,
          36.283138275146484,
          34.89931106567383,
          34.08304214477539,
          34.08304214477539,
          34.08304214477539,
          34.08304214477539,
          34.08304214477539,
          34.08304214477539
         ],
         "yaxis": "y"
        },
        {
         "customdata": [
          [
           21
          ],
          [
           22
          ],
          [
           23
          ],
          [
           24
          ],
          [
           25
          ],
          [
           26
          ],
          [
           27
          ],
          [
           28
          ],
          [
           29
          ],
          [
           30
          ],
          [
           31
          ],
          [
           32
          ],
          [
           33
          ],
          [
           34
          ],
          [
           35
          ],
          [
           36
          ],
          [
           37
          ],
          [
           38
          ],
          [
           39
          ],
          [
           40
          ],
          [
           41
          ],
          [
           42
          ]
         ],
         "hovertemplate": "name=Ollie Watkins<br>year=%{x}<br>predicted_value=%{y}<br>age=%{customdata[0]}<extra></extra>",
         "legendgroup": "Ollie Watkins",
         "line": {
          "color": "#FF6692",
          "dash": "solid"
         },
         "marker": {
          "symbol": "circle"
         },
         "mode": "lines",
         "name": "Ollie Watkins",
         "orientation": "v",
         "showlegend": true,
         "type": "scatter",
         "x": [
          2017,
          2018,
          2019,
          2020,
          2021,
          2022,
          2023,
          2024,
          2025,
          2026,
          2027,
          2028,
          2029,
          2030,
          2031,
          2032,
          2033,
          2034,
          2035,
          2036,
          2037,
          2038
         ],
         "xaxis": "x",
         "y": [
          1,
          3.5,
          8,
          15,
          32,
          35,
          54.975738525390625,
          62.477535247802734,
          69.19388580322266,
          67.5411605834961,
          66.79772186279297,
          66.79772186279297,
          66.79772186279297,
          66.79772186279297,
          66.79772186279297,
          66.79772186279297,
          66.79772186279297,
          66.79772186279297,
          66.79772186279297,
          66.79772186279297,
          66.79772186279297,
          66.79772186279297
         ],
         "yaxis": "y"
        },
        {
         "customdata": [
          [
           17
          ],
          [
           18
          ],
          [
           19
          ],
          [
           20
          ],
          [
           21
          ],
          [
           22
          ],
          [
           23
          ],
          [
           24
          ],
          [
           25
          ],
          [
           26
          ],
          [
           27
          ],
          [
           28
          ],
          [
           29
          ],
          [
           30
          ],
          [
           31
          ],
          [
           32
          ],
          [
           33
          ],
          [
           34
          ],
          [
           35
          ],
          [
           36
          ],
          [
           37
          ],
          [
           38
          ]
         ],
         "hovertemplate": "name=Alexander Isak<br>year=%{x}<br>predicted_value=%{y}<br>age=%{customdata[0]}<extra></extra>",
         "legendgroup": "Alexander Isak",
         "line": {
          "color": "#B6E880",
          "dash": "solid"
         },
         "marker": {
          "symbol": "circle"
         },
         "mode": "lines",
         "name": "Alexander Isak",
         "orientation": "v",
         "showlegend": true,
         "type": "scatter",
         "x": [
          2017,
          2018,
          2019,
          2020,
          2021,
          2022,
          2023,
          2024,
          2025,
          2026,
          2027,
          2028,
          2029,
          2030,
          2031,
          2032,
          2033,
          2034,
          2035,
          2036,
          2037,
          2038
         ],
         "xaxis": "x",
         "y": [
          6,
          6,
          8,
          25,
          22,
          30,
          56.82870864868164,
          68.53288269042969,
          79.59111785888672,
          79.28829956054688,
          76.60717010498047,
          76.26959991455078,
          71.92769622802734,
          70.27497863769531,
          69.53153991699219,
          69.53153991699219,
          69.53153991699219,
          69.53153991699219,
          69.53153991699219,
          69.53153991699219,
          69.53153991699219,
          69.53153991699219
         ],
         "yaxis": "y"
        },
        {
         "customdata": [
          [
           20
          ],
          [
           21
          ],
          [
           22
          ],
          [
           23
          ],
          [
           24
          ],
          [
           25
          ],
          [
           27
          ],
          [
           28
          ],
          [
           29
          ],
          [
           30
          ],
          [
           31
          ],
          [
           32
          ],
          [
           33
          ],
          [
           34
          ],
          [
           35
          ],
          [
           36
          ],
          [
           37
          ],
          [
           38
          ],
          [
           39
          ],
          [
           40
          ],
          [
           41
          ],
          [
           42
          ]
         ],
         "hovertemplate": "name=Rodri<br>year=%{x}<br>predicted_value=%{y}<br>age=%{customdata[0]}<extra></extra>",
         "legendgroup": "Rodri",
         "line": {
          "color": "#FF97FF",
          "dash": "solid"
         },
         "marker": {
          "symbol": "circle"
         },
         "mode": "lines",
         "name": "Rodri",
         "orientation": "v",
         "showlegend": true,
         "type": "scatter",
         "x": [
          2017,
          2018,
          2019,
          2020,
          2021,
          2022,
          2023,
          2024,
          2025,
          2026,
          2027,
          2028,
          2029,
          2030,
          2031,
          2032,
          2033,
          2034,
          2035,
          2036,
          2037,
          2038
         ],
         "xaxis": "x",
         "y": [
          1.5,
          20,
          60,
          64,
          70,
          80,
          86.39380645751953,
          83.52660369873047,
          79.12841796875,
          60.567962646484375,
          59.82453155517578,
          47.8277473449707,
          40.52229309082031,
          40.52229309082031,
          40.52229309082031,
          40.52229309082031,
          40.52229309082031,
          40.52229309082031,
          40.52229309082031,
          40.52229309082031,
          40.52229309082031,
          40.52229309082031
         ],
         "yaxis": "y"
        },
        {
         "customdata": [
          [
           18
          ],
          [
           20
          ],
          [
           21
          ],
          [
           22
          ],
          [
           23
          ],
          [
           24
          ],
          [
           25
          ],
          [
           26
          ],
          [
           27
          ],
          [
           28
          ],
          [
           29
          ],
          [
           30
          ],
          [
           31
          ],
          [
           32
          ],
          [
           33
          ],
          [
           34
          ],
          [
           35
          ],
          [
           36
          ],
          [
           37
          ],
          [
           38
          ],
          [
           39
          ]
         ],
         "hovertemplate": "name=Declan Rice<br>year=%{x}<br>predicted_value=%{y}<br>age=%{customdata[0]}<extra></extra>",
         "legendgroup": "Declan Rice",
         "line": {
          "color": "#FECB52",
          "dash": "solid"
         },
         "marker": {
          "symbol": "circle"
         },
         "mode": "lines",
         "name": "Declan Rice",
         "orientation": "v",
         "showlegend": true,
         "type": "scatter",
         "x": [
          2018,
          2019,
          2020,
          2021,
          2022,
          2023,
          2024,
          2025,
          2026,
          2027,
          2028,
          2029,
          2030,
          2031,
          2032,
          2033,
          2034,
          2035,
          2036,
          2037,
          2038
         ],
         "xaxis": "x",
         "y": [
          2,
          35,
          49.5,
          60,
          80,
          94.13805389404297,
          89.34537506103516,
          87.20896911621094,
          85.96202850341797,
          85.52921295166016,
          81.13102722167969,
          79.47830963134766,
          58.55991744995117,
          46.563133239746094,
          39.257686614990234,
          36.10099411010742,
          34.717166900634766,
          33.90089797973633,
          33.90089797973633,
          33.90089797973633,
          33.90089797973633
         ],
         "yaxis": "y"
        },
        {
         "customdata": [
          [
           18
          ],
          [
           19
          ],
          [
           20
          ],
          [
           21
          ],
          [
           22
          ],
          [
           23
          ],
          [
           24
          ],
          [
           25
          ],
          [
           26
          ],
          [
           27
          ],
          [
           28
          ],
          [
           29
          ],
          [
           30
          ],
          [
           31
          ],
          [
           32
          ],
          [
           33
          ],
          [
           34
          ],
          [
           35
          ],
          [
           36
          ],
          [
           37
          ],
          [
           38
          ],
          [
           39
          ],
          [
           40
          ]
         ],
         "hovertemplate": "name=Leon Bailey<br>year=%{x}<br>predicted_value=%{y}<br>age=%{customdata[0]}<extra></extra>",
         "legendgroup": "Leon Bailey",
         "line": {
          "color": "#636efa",
          "dash": "solid"
         },
         "marker": {
          "symbol": "circle"
         },
         "mode": "lines",
         "name": "Leon Bailey",
         "orientation": "v",
         "showlegend": true,
         "type": "scatter",
         "x": [
          2016,
          2017,
          2018,
          2019,
          2020,
          2021,
          2022,
          2023,
          2024,
          2025,
          2026,
          2027,
          2028,
          2029,
          2030,
          2031,
          2032,
          2033,
          2034,
          2035,
          2036,
          2037,
          2038
         ],
         "xaxis": "x",
         "y": [
          4,
          12.5,
          45,
          40,
          29.5,
          35,
          30,
          42.04881286621094,
          47.519287109375,
          46.5609130859375,
          46.128089904785156,
          41.609840393066406,
          39.957122802734375,
          36.05699920654297,
          34.67317199707031,
          33.856903076171875,
          33.856903076171875,
          33.856903076171875,
          33.856903076171875,
          33.856903076171875,
          33.856903076171875,
          33.856903076171875,
          33.856903076171875
         ],
         "yaxis": "y"
        },
        {
         "customdata": [
          [
           18
          ],
          [
           19
          ],
          [
           20
          ],
          [
           21
          ],
          [
           23
          ],
          [
           24
          ],
          [
           25
          ],
          [
           26
          ],
          [
           27
          ],
          [
           28
          ],
          [
           29
          ],
          [
           30
          ],
          [
           31
          ],
          [
           32
          ],
          [
           33
          ],
          [
           34
          ],
          [
           35
          ],
          [
           36
          ],
          [
           37
          ],
          [
           38
          ]
         ],
         "hovertemplate": "name=Phil Foden<br>year=%{x}<br>predicted_value=%{y}<br>age=%{customdata[0]}<extra></extra>",
         "legendgroup": "Phil Foden",
         "line": {
          "color": "#EF553B",
          "dash": "solid"
         },
         "marker": {
          "symbol": "circle"
         },
         "mode": "lines",
         "name": "Phil Foden",
         "orientation": "v",
         "showlegend": true,
         "type": "scatter",
         "x": [
          2019,
          2020,
          2021,
          2022,
          2023,
          2024,
          2025,
          2026,
          2027,
          2028,
          2029,
          2030,
          2031,
          2032,
          2033,
          2034,
          2035,
          2036,
          2037,
          2038
         ],
         "xaxis": "x",
         "y": [
          25,
          27,
          70,
          90,
          117.21820831298828,
          115.13969421386719,
          115.13969421386719,
          114.19073486328125,
          111.04794311523438,
          110.71037292480469,
          106.48854064941406,
          104.83582305908203,
          104.0923843383789,
          104.0923843383789,
          104.0923843383789,
          104.0923843383789,
          104.0923843383789,
          104.0923843383789,
          104.0923843383789,
          104.0923843383789
         ],
         "yaxis": "y"
        },
        {
         "customdata": [
          [
           17
          ],
          [
           18
          ],
          [
           18
          ],
          [
           19
          ],
          [
           20
          ],
          [
           21
          ],
          [
           22
          ],
          [
           23
          ],
          [
           24
          ],
          [
           25
          ],
          [
           26
          ],
          [
           27
          ],
          [
           28
          ],
          [
           29
          ],
          [
           30
          ],
          [
           31
          ],
          [
           32
          ],
          [
           33
          ],
          [
           34
          ],
          [
           35
          ],
          [
           36
          ],
          [
           37
          ]
         ],
         "hovertemplate": "name=Erling Haaland<br>year=%{x}<br>predicted_value=%{y}<br>age=%{customdata[0]}<extra></extra>",
         "legendgroup": "Erling Haaland",
         "line": {
          "color": "#00cc96",
          "dash": "solid"
         },
         "marker": {
          "symbol": "circle"
         },
         "mode": "lines",
         "name": "Erling Haaland",
         "orientation": "v",
         "showlegend": true,
         "type": "scatter",
         "x": [
          2017,
          2018,
          2019,
          2020,
          2021,
          2022,
          2023,
          2024,
          2025,
          2026,
          2027,
          2028,
          2029,
          2030,
          2031,
          2032,
          2033,
          2034,
          2035,
          2036,
          2037,
          2038
         ],
         "xaxis": "x",
         "y": [
          0.3,
          2,
          5,
          60,
          110,
          150,
          132.0258331298828,
          122.19916534423828,
          118.95037078857422,
          117.76292419433594,
          116.81396484375,
          113.67117309570312,
          111.3438720703125,
          107.12203979492188,
          105.46932220458984,
          104.72588348388672,
          104.72588348388672,
          104.72588348388672,
          104.72588348388672,
          104.72588348388672,
          104.72588348388672,
          104.72588348388672
         ],
         "yaxis": "y"
        },
        {
         "customdata": [
          [
           20
          ],
          [
           21
          ],
          [
           22
          ],
          [
           24
          ],
          [
           25
          ],
          [
           26
          ],
          [
           27
          ],
          [
           28
          ],
          [
           29
          ],
          [
           30
          ],
          [
           31
          ],
          [
           32
          ],
          [
           33
          ],
          [
           34
          ],
          [
           35
          ],
          [
           36
          ],
          [
           37
          ],
          [
           38
          ],
          [
           39
          ]
         ],
         "hovertemplate": "name=Darwin Núñez<br>year=%{x}<br>predicted_value=%{y}<br>age=%{customdata[0]}<extra></extra>",
         "legendgroup": "Darwin Núñez",
         "line": {
          "color": "#ab63fa",
          "dash": "solid"
         },
         "marker": {
          "symbol": "circle"
         },
         "mode": "lines",
         "name": "Darwin Núñez",
         "orientation": "v",
         "showlegend": true,
         "type": "scatter",
         "x": [
          2020,
          2021,
          2022,
          2023,
          2024,
          2025,
          2026,
          2027,
          2028,
          2029,
          2030,
          2031,
          2032,
          2033,
          2034,
          2035,
          2036,
          2037,
          2038
         ],
         "xaxis": "x",
         "y": [
          1.8,
          25,
          40,
          50.65748977661133,
          52.50676727294922,
          51.15000915527344,
          50.364715576171875,
          49.93189239501953,
          40.94815444946289,
          39.29543685913086,
          35.39531326293945,
          34.0114860534668,
          33.19521713256836,
          33.19521713256836,
          33.19521713256836,
          33.19521713256836,
          33.19521713256836,
          33.19521713256836,
          33.19521713256836
         ],
         "yaxis": "y"
        },
        {
         "customdata": [
          [
           20
          ],
          [
           21
          ],
          [
           22
          ],
          [
           23
          ],
          [
           24
          ],
          [
           25
          ],
          [
           26
          ],
          [
           27
          ],
          [
           28
          ],
          [
           29
          ],
          [
           30
          ],
          [
           31
          ],
          [
           32
          ],
          [
           33
          ],
          [
           34
          ],
          [
           35
          ],
          [
           36
          ]
         ],
         "hovertemplate": "name=Cole Palmer<br>year=%{x}<br>predicted_value=%{y}<br>age=%{customdata[0]}<extra></extra>",
         "legendgroup": "Cole Palmer",
         "line": {
          "color": "#FFA15A",
          "dash": "solid"
         },
         "marker": {
          "symbol": "circle"
         },
         "mode": "lines",
         "name": "Cole Palmer",
         "orientation": "v",
         "showlegend": true,
         "type": "scatter",
         "x": [
          2022,
          2023,
          2024,
          2025,
          2026,
          2027,
          2028,
          2029,
          2030,
          2031,
          2032,
          2033,
          2034,
          2035,
          2036,
          2037,
          2038
         ],
         "xaxis": "x",
         "y": [
          6,
          33.51500701904297,
          59.463924407958984,
          69.24237060546875,
          80.30059051513672,
          100.48509216308594,
          100.1822738647461,
          97.03948211669922,
          94.7121810913086,
          90.37027740478516,
          88.71755981445312,
          87.97412109375,
          87.97412109375,
          87.97412109375,
          87.97412109375,
          87.97412109375,
          87.97412109375
         ],
         "yaxis": "y"
        }
       ],
       "layout": {
        "annotations": [
         {
          "showarrow": false,
          "text": "2022/2023 boundary",
          "x": 2022.5,
          "xanchor": "left",
          "xref": "x",
          "y": 1,
          "yanchor": "top",
          "yref": "y domain"
         }
        ],
        "legend": {
         "title": {
          "text": "name"
         },
         "tracegroupgap": 0
        },
        "shapes": [
         {
          "line": {
           "color": "red",
           "dash": "dash"
          },
          "type": "line",
          "x0": 2022.5,
          "x1": 2022.5,
          "xref": "x",
          "y0": 0,
          "y1": 1,
          "yref": "y domain"
         }
        ],
        "template": {
         "data": {
          "bar": [
           {
            "error_x": {
             "color": "#2a3f5f"
            },
            "error_y": {
             "color": "#2a3f5f"
            },
            "marker": {
             "line": {
              "color": "#E5ECF6",
              "width": 0.5
             },
             "pattern": {
              "fillmode": "overlay",
              "size": 10,
              "solidity": 0.2
             }
            },
            "type": "bar"
           }
          ],
          "barpolar": [
           {
            "marker": {
             "line": {
              "color": "#E5ECF6",
              "width": 0.5
             },
             "pattern": {
              "fillmode": "overlay",
              "size": 10,
              "solidity": 0.2
             }
            },
            "type": "barpolar"
           }
          ],
          "carpet": [
           {
            "aaxis": {
             "endlinecolor": "#2a3f5f",
             "gridcolor": "white",
             "linecolor": "white",
             "minorgridcolor": "white",
             "startlinecolor": "#2a3f5f"
            },
            "baxis": {
             "endlinecolor": "#2a3f5f",
             "gridcolor": "white",
             "linecolor": "white",
             "minorgridcolor": "white",
             "startlinecolor": "#2a3f5f"
            },
            "type": "carpet"
           }
          ],
          "choropleth": [
           {
            "colorbar": {
             "outlinewidth": 0,
             "ticks": ""
            },
            "type": "choropleth"
           }
          ],
          "contour": [
           {
            "colorbar": {
             "outlinewidth": 0,
             "ticks": ""
            },
            "colorscale": [
             [
              0,
              "#0d0887"
             ],
             [
              0.1111111111111111,
              "#46039f"
             ],
             [
              0.2222222222222222,
              "#7201a8"
             ],
             [
              0.3333333333333333,
              "#9c179e"
             ],
             [
              0.4444444444444444,
              "#bd3786"
             ],
             [
              0.5555555555555556,
              "#d8576b"
             ],
             [
              0.6666666666666666,
              "#ed7953"
             ],
             [
              0.7777777777777778,
              "#fb9f3a"
             ],
             [
              0.8888888888888888,
              "#fdca26"
             ],
             [
              1,
              "#f0f921"
             ]
            ],
            "type": "contour"
           }
          ],
          "contourcarpet": [
           {
            "colorbar": {
             "outlinewidth": 0,
             "ticks": ""
            },
            "type": "contourcarpet"
           }
          ],
          "heatmap": [
           {
            "colorbar": {
             "outlinewidth": 0,
             "ticks": ""
            },
            "colorscale": [
             [
              0,
              "#0d0887"
             ],
             [
              0.1111111111111111,
              "#46039f"
             ],
             [
              0.2222222222222222,
              "#7201a8"
             ],
             [
              0.3333333333333333,
              "#9c179e"
             ],
             [
              0.4444444444444444,
              "#bd3786"
             ],
             [
              0.5555555555555556,
              "#d8576b"
             ],
             [
              0.6666666666666666,
              "#ed7953"
             ],
             [
              0.7777777777777778,
              "#fb9f3a"
             ],
             [
              0.8888888888888888,
              "#fdca26"
             ],
             [
              1,
              "#f0f921"
             ]
            ],
            "type": "heatmap"
           }
          ],
          "heatmapgl": [
           {
            "colorbar": {
             "outlinewidth": 0,
             "ticks": ""
            },
            "colorscale": [
             [
              0,
              "#0d0887"
             ],
             [
              0.1111111111111111,
              "#46039f"
             ],
             [
              0.2222222222222222,
              "#7201a8"
             ],
             [
              0.3333333333333333,
              "#9c179e"
             ],
             [
              0.4444444444444444,
              "#bd3786"
             ],
             [
              0.5555555555555556,
              "#d8576b"
             ],
             [
              0.6666666666666666,
              "#ed7953"
             ],
             [
              0.7777777777777778,
              "#fb9f3a"
             ],
             [
              0.8888888888888888,
              "#fdca26"
             ],
             [
              1,
              "#f0f921"
             ]
            ],
            "type": "heatmapgl"
           }
          ],
          "histogram": [
           {
            "marker": {
             "pattern": {
              "fillmode": "overlay",
              "size": 10,
              "solidity": 0.2
             }
            },
            "type": "histogram"
           }
          ],
          "histogram2d": [
           {
            "colorbar": {
             "outlinewidth": 0,
             "ticks": ""
            },
            "colorscale": [
             [
              0,
              "#0d0887"
             ],
             [
              0.1111111111111111,
              "#46039f"
             ],
             [
              0.2222222222222222,
              "#7201a8"
             ],
             [
              0.3333333333333333,
              "#9c179e"
             ],
             [
              0.4444444444444444,
              "#bd3786"
             ],
             [
              0.5555555555555556,
              "#d8576b"
             ],
             [
              0.6666666666666666,
              "#ed7953"
             ],
             [
              0.7777777777777778,
              "#fb9f3a"
             ],
             [
              0.8888888888888888,
              "#fdca26"
             ],
             [
              1,
              "#f0f921"
             ]
            ],
            "type": "histogram2d"
           }
          ],
          "histogram2dcontour": [
           {
            "colorbar": {
             "outlinewidth": 0,
             "ticks": ""
            },
            "colorscale": [
             [
              0,
              "#0d0887"
             ],
             [
              0.1111111111111111,
              "#46039f"
             ],
             [
              0.2222222222222222,
              "#7201a8"
             ],
             [
              0.3333333333333333,
              "#9c179e"
             ],
             [
              0.4444444444444444,
              "#bd3786"
             ],
             [
              0.5555555555555556,
              "#d8576b"
             ],
             [
              0.6666666666666666,
              "#ed7953"
             ],
             [
              0.7777777777777778,
              "#fb9f3a"
             ],
             [
              0.8888888888888888,
              "#fdca26"
             ],
             [
              1,
              "#f0f921"
             ]
            ],
            "type": "histogram2dcontour"
           }
          ],
          "mesh3d": [
           {
            "colorbar": {
             "outlinewidth": 0,
             "ticks": ""
            },
            "type": "mesh3d"
           }
          ],
          "parcoords": [
           {
            "line": {
             "colorbar": {
              "outlinewidth": 0,
              "ticks": ""
             }
            },
            "type": "parcoords"
           }
          ],
          "pie": [
           {
            "automargin": true,
            "type": "pie"
           }
          ],
          "scatter": [
           {
            "fillpattern": {
             "fillmode": "overlay",
             "size": 10,
             "solidity": 0.2
            },
            "type": "scatter"
           }
          ],
          "scatter3d": [
           {
            "line": {
             "colorbar": {
              "outlinewidth": 0,
              "ticks": ""
             }
            },
            "marker": {
             "colorbar": {
              "outlinewidth": 0,
              "ticks": ""
             }
            },
            "type": "scatter3d"
           }
          ],
          "scattercarpet": [
           {
            "marker": {
             "colorbar": {
              "outlinewidth": 0,
              "ticks": ""
             }
            },
            "type": "scattercarpet"
           }
          ],
          "scattergeo": [
           {
            "marker": {
             "colorbar": {
              "outlinewidth": 0,
              "ticks": ""
             }
            },
            "type": "scattergeo"
           }
          ],
          "scattergl": [
           {
            "marker": {
             "colorbar": {
              "outlinewidth": 0,
              "ticks": ""
             }
            },
            "type": "scattergl"
           }
          ],
          "scattermapbox": [
           {
            "marker": {
             "colorbar": {
              "outlinewidth": 0,
              "ticks": ""
             }
            },
            "type": "scattermapbox"
           }
          ],
          "scatterpolar": [
           {
            "marker": {
             "colorbar": {
              "outlinewidth": 0,
              "ticks": ""
             }
            },
            "type": "scatterpolar"
           }
          ],
          "scatterpolargl": [
           {
            "marker": {
             "colorbar": {
              "outlinewidth": 0,
              "ticks": ""
             }
            },
            "type": "scatterpolargl"
           }
          ],
          "scatterternary": [
           {
            "marker": {
             "colorbar": {
              "outlinewidth": 0,
              "ticks": ""
             }
            },
            "type": "scatterternary"
           }
          ],
          "surface": [
           {
            "colorbar": {
             "outlinewidth": 0,
             "ticks": ""
            },
            "colorscale": [
             [
              0,
              "#0d0887"
             ],
             [
              0.1111111111111111,
              "#46039f"
             ],
             [
              0.2222222222222222,
              "#7201a8"
             ],
             [
              0.3333333333333333,
              "#9c179e"
             ],
             [
              0.4444444444444444,
              "#bd3786"
             ],
             [
              0.5555555555555556,
              "#d8576b"
             ],
             [
              0.6666666666666666,
              "#ed7953"
             ],
             [
              0.7777777777777778,
              "#fb9f3a"
             ],
             [
              0.8888888888888888,
              "#fdca26"
             ],
             [
              1,
              "#f0f921"
             ]
            ],
            "type": "surface"
           }
          ],
          "table": [
           {
            "cells": {
             "fill": {
              "color": "#EBF0F8"
             },
             "line": {
              "color": "white"
             }
            },
            "header": {
             "fill": {
              "color": "#C8D4E3"
             },
             "line": {
              "color": "white"
             }
            },
            "type": "table"
           }
          ]
         },
         "layout": {
          "annotationdefaults": {
           "arrowcolor": "#2a3f5f",
           "arrowhead": 0,
           "arrowwidth": 1
          },
          "autotypenumbers": "strict",
          "coloraxis": {
           "colorbar": {
            "outlinewidth": 0,
            "ticks": ""
           }
          },
          "colorscale": {
           "diverging": [
            [
             0,
             "#8e0152"
            ],
            [
             0.1,
             "#c51b7d"
            ],
            [
             0.2,
             "#de77ae"
            ],
            [
             0.3,
             "#f1b6da"
            ],
            [
             0.4,
             "#fde0ef"
            ],
            [
             0.5,
             "#f7f7f7"
            ],
            [
             0.6,
             "#e6f5d0"
            ],
            [
             0.7,
             "#b8e186"
            ],
            [
             0.8,
             "#7fbc41"
            ],
            [
             0.9,
             "#4d9221"
            ],
            [
             1,
             "#276419"
            ]
           ],
           "sequential": [
            [
             0,
             "#0d0887"
            ],
            [
             0.1111111111111111,
             "#46039f"
            ],
            [
             0.2222222222222222,
             "#7201a8"
            ],
            [
             0.3333333333333333,
             "#9c179e"
            ],
            [
             0.4444444444444444,
             "#bd3786"
            ],
            [
             0.5555555555555556,
             "#d8576b"
            ],
            [
             0.6666666666666666,
             "#ed7953"
            ],
            [
             0.7777777777777778,
             "#fb9f3a"
            ],
            [
             0.8888888888888888,
             "#fdca26"
            ],
            [
             1,
             "#f0f921"
            ]
           ],
           "sequentialminus": [
            [
             0,
             "#0d0887"
            ],
            [
             0.1111111111111111,
             "#46039f"
            ],
            [
             0.2222222222222222,
             "#7201a8"
            ],
            [
             0.3333333333333333,
             "#9c179e"
            ],
            [
             0.4444444444444444,
             "#bd3786"
            ],
            [
             0.5555555555555556,
             "#d8576b"
            ],
            [
             0.6666666666666666,
             "#ed7953"
            ],
            [
             0.7777777777777778,
             "#fb9f3a"
            ],
            [
             0.8888888888888888,
             "#fdca26"
            ],
            [
             1,
             "#f0f921"
            ]
           ]
          },
          "colorway": [
           "#636efa",
           "#EF553B",
           "#00cc96",
           "#ab63fa",
           "#FFA15A",
           "#19d3f3",
           "#FF6692",
           "#B6E880",
           "#FF97FF",
           "#FECB52"
          ],
          "font": {
           "color": "#2a3f5f"
          },
          "geo": {
           "bgcolor": "white",
           "lakecolor": "white",
           "landcolor": "#E5ECF6",
           "showlakes": true,
           "showland": true,
           "subunitcolor": "white"
          },
          "hoverlabel": {
           "align": "left"
          },
          "hovermode": "closest",
          "mapbox": {
           "style": "light"
          },
          "paper_bgcolor": "white",
          "plot_bgcolor": "#E5ECF6",
          "polar": {
           "angularaxis": {
            "gridcolor": "white",
            "linecolor": "white",
            "ticks": ""
           },
           "bgcolor": "#E5ECF6",
           "radialaxis": {
            "gridcolor": "white",
            "linecolor": "white",
            "ticks": ""
           }
          },
          "scene": {
           "xaxis": {
            "backgroundcolor": "#E5ECF6",
            "gridcolor": "white",
            "gridwidth": 2,
            "linecolor": "white",
            "showbackground": true,
            "ticks": "",
            "zerolinecolor": "white"
           },
           "yaxis": {
            "backgroundcolor": "#E5ECF6",
            "gridcolor": "white",
            "gridwidth": 2,
            "linecolor": "white",
            "showbackground": true,
            "ticks": "",
            "zerolinecolor": "white"
           },
           "zaxis": {
            "backgroundcolor": "#E5ECF6",
            "gridcolor": "white",
            "gridwidth": 2,
            "linecolor": "white",
            "showbackground": true,
            "ticks": "",
            "zerolinecolor": "white"
           }
          },
          "shapedefaults": {
           "line": {
            "color": "#2a3f5f"
           }
          },
          "ternary": {
           "aaxis": {
            "gridcolor": "white",
            "linecolor": "white",
            "ticks": ""
           },
           "baxis": {
            "gridcolor": "white",
            "linecolor": "white",
            "ticks": ""
           },
           "bgcolor": "#E5ECF6",
           "caxis": {
            "gridcolor": "white",
            "linecolor": "white",
            "ticks": ""
           }
          },
          "title": {
           "x": 0.05
          },
          "xaxis": {
           "automargin": true,
           "gridcolor": "white",
           "linecolor": "white",
           "ticks": "",
           "title": {
            "standoff": 15
           },
           "zerolinecolor": "white",
           "zerolinewidth": 2
          },
          "yaxis": {
           "automargin": true,
           "gridcolor": "white",
           "linecolor": "white",
           "ticks": "",
           "title": {
            "standoff": 15
           },
           "zerolinecolor": "white",
           "zerolinewidth": 2
          }
         }
        },
        "title": {
         "text": "Predicted Market Values for Selected Players"
        },
        "xaxis": {
         "anchor": "y",
         "domain": [
          0,
          1
         ],
         "title": {
          "text": "year"
         }
        },
        "yaxis": {
         "anchor": "x",
         "domain": [
          0,
          1
         ],
         "title": {
          "text": "predicted_value"
         }
        }
       }
      }
     },
     "metadata": {},
     "output_type": "display_data"
    }
   ],
   "source": [
    "plot_player_value_trends(\n",
    "    pdf_train, merged,\n",
    "    top_year=2036,\n",
    "    top_n=15\n",
    ")"
   ]
  },
  {
   "cell_type": "code",
   "execution_count": 70,
   "id": "ffe03298",
   "metadata": {},
   "outputs": [
    {
     "name": "stderr",
     "output_type": "stream",
     "text": [
      "C:\\Users\\tomkn\\AppData\\Local\\Temp\\ipykernel_27268\\2121820575.py:2: SettingWithCopyWarning:\n",
      "\n",
      "\n",
      "A value is trying to be set on a copy of a slice from a DataFrame.\n",
      "Try using .loc[row_indexer,col_indexer] = value instead\n",
      "\n",
      "See the caveats in the documentation: https://pandas.pydata.org/pandas-docs/stable/user_guide/indexing.html#returning-a-view-versus-a-copy\n",
      "\n"
     ]
    }
   ],
   "source": [
    "output_df = merged.query(\"year == 2023\")\n",
    "output_df[\"actual_value\"] = y_test.values\n"
   ]
  },
  {
   "cell_type": "code",
   "execution_count": 71,
   "id": "ff1ecd6d",
   "metadata": {},
   "outputs": [],
   "source": [
    "pdf_feature_importance = top_features.reset_index()\n",
    "pdf_feature_importance.columns = [\"feature\", \"importance\"]\n",
    "pdf_feature_importance[\"model_output_id\"] = forecast_id"
   ]
  },
  {
   "cell_type": "code",
   "execution_count": 72,
   "id": "92f0235e",
   "metadata": {},
   "outputs": [
    {
     "data": {
      "image/png": "[encoded data removed]",
      "text/plain": [
       "<Figure size 2400x1600 with 1 Axes>"
      ]
     },
     "metadata": {},
     "output_type": "display_data"
    }
   ],
   "source": [
    "\n",
    "\n",
    "\n",
    "plot_basic_decision_tree(pdf_train, features, target, max_depth=4)"
   ]
  },
  {
   "cell_type": "code",
   "execution_count": 73,
   "id": "bd4f4640",
   "metadata": {},
   "outputs": [
    {
     "name": "stderr",
     "output_type": "stream",
     "text": [
      "C:\\Users\\tomkn\\AppData\\Local\\Temp\\ipykernel_27268\\2774007858.py:1: SettingWithCopyWarning:\n",
      "\n",
      "\n",
      "A value is trying to be set on a copy of a slice from a DataFrame.\n",
      "Try using .loc[row_indexer,col_indexer] = value instead\n",
      "\n",
      "See the caveats in the documentation: https://pandas.pydata.org/pandas-docs/stable/user_guide/indexing.html#returning-a-view-versus-a-copy\n",
      "\n",
      "C:\\Users\\tomkn\\AppData\\Local\\Temp\\ipykernel_27268\\2774007858.py:2: SettingWithCopyWarning:\n",
      "\n",
      "\n",
      "A value is trying to be set on a copy of a slice from a DataFrame.\n",
      "Try using .loc[row_indexer,col_indexer] = value instead\n",
      "\n",
      "See the caveats in the documentation: https://pandas.pydata.org/pandas-docs/stable/user_guide/indexing.html#returning-a-view-versus-a-copy\n",
      "\n",
      "C:\\Users\\tomkn\\AppData\\Local\\Temp\\ipykernel_27268\\2774007858.py:3: SettingWithCopyWarning:\n",
      "\n",
      "\n",
      "A value is trying to be set on a copy of a slice from a DataFrame.\n",
      "Try using .loc[row_indexer,col_indexer] = value instead\n",
      "\n",
      "See the caveats in the documentation: https://pandas.pydata.org/pandas-docs/stable/user_guide/indexing.html#returning-a-view-versus-a-copy\n",
      "\n",
      "C:\\Users\\tomkn\\AppData\\Local\\Temp\\ipykernel_27268\\2774007858.py:4: SettingWithCopyWarning:\n",
      "\n",
      "\n",
      "A value is trying to be set on a copy of a slice from a DataFrame.\n",
      "Try using .loc[row_indexer,col_indexer] = value instead\n",
      "\n",
      "See the caveats in the documentation: https://pandas.pydata.org/pandas-docs/stable/user_guide/indexing.html#returning-a-view-versus-a-copy\n",
      "\n",
      "C:\\Users\\tomkn\\AppData\\Local\\Temp\\ipykernel_27268\\2774007858.py:5: SettingWithCopyWarning:\n",
      "\n",
      "\n",
      "A value is trying to be set on a copy of a slice from a DataFrame.\n",
      "Try using .loc[row_indexer,col_indexer] = value instead\n",
      "\n",
      "See the caveats in the documentation: https://pandas.pydata.org/pandas-docs/stable/user_guide/indexing.html#returning-a-view-versus-a-copy\n",
      "\n",
      "C:\\Users\\tomkn\\AppData\\Local\\Temp\\ipykernel_27268\\2774007858.py:6: SettingWithCopyWarning:\n",
      "\n",
      "\n",
      "A value is trying to be set on a copy of a slice from a DataFrame.\n",
      "Try using .loc[row_indexer,col_indexer] = value instead\n",
      "\n",
      "See the caveats in the documentation: https://pandas.pydata.org/pandas-docs/stable/user_guide/indexing.html#returning-a-view-versus-a-copy\n",
      "\n",
      "C:\\Users\\tomkn\\AppData\\Local\\Temp\\ipykernel_27268\\2774007858.py:7: SettingWithCopyWarning:\n",
      "\n",
      "\n",
      "A value is trying to be set on a copy of a slice from a DataFrame.\n",
      "Try using .loc[row_indexer,col_indexer] = value instead\n",
      "\n",
      "See the caveats in the documentation: https://pandas.pydata.org/pandas-docs/stable/user_guide/indexing.html#returning-a-view-versus-a-copy\n",
      "\n"
     ]
    }
   ],
   "source": [
    "output_df[\"model_output_id\"] = forecast_id\n",
    "output_df[\"model_run_date\"] = datetime.datetime.now()\n",
    "output_df[\"time_taken_seconds\"] = diff\n",
    "output_df[\"features_used\"] = str(features)\n",
    "output_df[\"model_type\"] = \"XG_Boost\"\n",
    "output_df[\"split_year\"] = test_start\n",
    "output_df[\"version\"] = version"
   ]
  },
  {
   "cell_type": "code",
   "execution_count": 74,
   "id": "ddf63cbf",
   "metadata": {},
   "outputs": [],
   "source": [
    "save_output_tables(output_df)"
   ]
  },
  {
   "cell_type": "code",
   "execution_count": 75,
   "id": "e279e35a",
   "metadata": {},
   "outputs": [],
   "source": [
    "\n",
    "feature_path = \"data/output/feature_importance.csv\"\n",
    "\n",
    "# Check if files exist\n",
    "feature_exists = os.path.isfile(feature_path)\n",
    "\n",
    "# Append output\n",
    "pdf_feature_importance.to_csv(feature_path, mode=\"a\", index=False, header=not feature_exists)\n",
    "\n"
   ]
  }
 ],
 "metadata": {
  "kernelspec": {
   "display_name": "Python 3",
   "language": "python",
   "name": "python3"
  },
  "language_info": {
   "codemirror_mode": {
    "name": "ipython",
    "version": 3
   },
   "file_extension": ".py",
   "mimetype": "text/x-python",
   "name": "python",
   "nbconvert_exporter": "python",
   "pygments_lexer": "ipython3",
   "version": "3.11.9"
  }
 },
 "nbformat": 4,
 "nbformat_minor": 5
}
