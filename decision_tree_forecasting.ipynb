{
 "cells": [
  {
   "cell_type": "code",
   "execution_count": 261,
   "id": "1b43e964",
   "metadata": {},
   "outputs": [],
   "source": [
    "import pandas as pd\n",
    "import plotly.express as px\n",
    "from sklearn.tree import DecisionTreeRegressor\n",
    "from sklearn import tree\n",
    "import matplotlib.pyplot as plt\n",
    "from sklearn.metrics import root_mean_squared_error\n",
    "from sklearn.metrics import r2_score\n",
    "from typing import List, Tuple\n",
    "from xgboost import XGBRegressor \n",
    "import uuid\n",
    "import datetime \n",
    "import time\n",
    "from sklearn.model_selection import RandomizedSearchCV, TimeSeriesSplit, GridSearchCV, train_test_split\n",
    "from utils.output_analysis import plot_decision_tree_importance, plot_player_value_trends, save_output_tables\n",
    "import optuna\n",
    "\n"
   ]
  },
  {
   "cell_type": "code",
   "execution_count": 262,
   "id": "95766a24",
   "metadata": {},
   "outputs": [],
   "source": [
    "start = time.time()"
   ]
  },
  {
   "cell_type": "code",
   "execution_count": 251,
   "id": "577b7f61",
   "metadata": {},
   "outputs": [],
   "source": [
    "pdf_mvp = pd.read_csv(\"data/intermediate/time_series_model_data_prep.csv\") "
   ]
  },
  {
   "cell_type": "code",
   "execution_count": 252,
   "id": "762ec1b7",
   "metadata": {},
   "outputs": [],
   "source": [
    "test_start = 2023\n",
    "version  = \"v0.0.4\"\n",
    "\n",
    "features = [\n",
    "    \"value_last_year\",\n",
    "    \"age_last_year\",\n",
    "    \"pos_Attack\",\n",
    "    \"pos_Defender\",\n",
    "    \"pos_Goalkeeper\",\n",
    "    \"pos_Midfield\",\n",
    "    \"contract_years_left\",\n",
    "]\n",
    "\n",
    "subpos_features = [col for col in pdf_mvp.columns if col.startswith(\"subpos_\")]\n",
    "features += subpos_features\n",
    "\n",
    "#test_players = pdf_mvp[pdf_mvp[\"year\"] == test_start][\"player_id\"].unique()\n",
    "\n",
    "train_df = pdf_mvp[(pdf_mvp[\"year\"] < test_start)]\n",
    "test_df = pdf_mvp[(pdf_mvp[\"year\"] == test_start)]\n",
    "\n",
    "\n"
   ]
  },
  {
   "cell_type": "code",
   "execution_count": 253,
   "id": "d0c1c16d",
   "metadata": {},
   "outputs": [],
   "source": [
    "def objective(\n",
    "    trial: optuna.Trial,\n",
    "    X: pd.DataFrame,\n",
    "    y: pd.Series,\n",
    "    tscv: TimeSeriesSplit,\n",
    ") -> float:\n",
    "    params = {\n",
    "        \"n_estimators\": trial.suggest_int(\"n_estimators\", 50, 200),  # Number of trees\n",
    "        \"learning_rate\": trial.suggest_float(\"learning_rate\", 0.01, 0.3),  # Learning rate\n",
    "        \"max_depth\": trial.suggest_int(\"max_depth\", 1, 7),  # Tree depth\n",
    "        \"subsample\": trial.suggest_float(\"subsample\", 0.5, 1.0),  # Subsampling fraction\n",
    "        \"colsample_bytree\": trial.suggest_float(\"colsample_bytree\", 0.6, 1.0),\n",
    "        \"gamma\": trial.suggest_float(\"gamma\", 0, 5),  # Min loss reduction for split\n",
    "        \"reg_alpha\": trial.suggest_float(\"reg_alpha\", 0.0, 1.0),  # L1 regularization\n",
    "        \"reg_lambda\": trial.suggest_float(\"reg_lambda\", 0.1, 10.0),  # L2 regularization\n",
    "        \"random_state\": 42,\n",
    "        \"objective\": \"reg:squarederror\",\n",
    "        \"tree_method\": \"hist\",\n",
    "        \"verbosity\": 0,\n",
    "    }\n",
    "\n",
    "    rmse_scores = []\n",
    "\n",
    "    for train_idx, val_idx in tscv.split(X):\n",
    "        X_train, X_val = X.iloc[train_idx], X.iloc[val_idx]\n",
    "        y_train, y_val = y.iloc[train_idx], y.iloc[val_idx]\n",
    "\n",
    "        model = XGBRegressor(**params)\n",
    "        model.fit(X_train, y_train)\n",
    "\n",
    "        preds = model.predict(X_val)\n",
    "        rmse = root_mean_squared_error(y_val, preds)\n",
    "        rmse_scores.append(rmse)\n",
    "\n",
    "    return sum(rmse_scores) / len(rmse_scores)  # Average RMSE across folds\n",
    "\n",
    "\n",
    "def predict_future_values(\n",
    "    train_df: pd.DataFrame,\n",
    "    test_df: pd.DataFrame,\n",
    "    prediction_years: List[int],\n",
    "    features: List[str],\n",
    "    n_trials: int = 500,\n",
    ") -> Tuple[pd.DataFrame, XGBRegressor, pd.Series]:\n",
    "    \"\"\"\n",
    "    Predicts future player values for specified years using XGBoost and Optuna hyperparameter tuning.\n",
    "\n",
    "    Args:\n",
    "        train_df: Training DataFrame with features and target.\n",
    "        test_df: Initial test DataFrame to predict from (starting year).\n",
    "        prediction_years: List of years to predict, starting with the base year.\n",
    "        features: List of feature column names to use.\n",
    "        n_trials: Number of Optuna trials for hyperparameter search.\n",
    "\n",
    "    Returns:\n",
    "        Tuple of:\n",
    "            - DataFrame with predicted values for all prediction years concatenated.\n",
    "            - Trained XGBRegressor using best Optuna params.\n",
    "            - y_test from the base year (only valid for the first year).\n",
    "    \"\"\"\n",
    "    target = \"market_value_in_million_eur\"\n",
    "\n",
    "    X_train = train_df[features]\n",
    "    y_train = train_df[target]\n",
    "\n",
    "    tscv = TimeSeriesSplit(n_splits=3)\n",
    "\n",
    "    study = optuna.create_study(direction=\"minimize\")\n",
    "    study.optimize(lambda trial: objective(trial, X_train, y_train, tscv), n_trials=n_trials, show_progress_bar=False)\n",
    "\n",
    "    print(f\"Best trial params: {study.best_trial.params}\")\n",
    "    print(f\"Best trial RMSE: {study.best_value:.4f}\")\n",
    "\n",
    "    # Train final model on all training data with best params\n",
    "    best_params = study.best_trial.params\n",
    "    # Add fixed params required by XGBRegressor\n",
    "    best_params.update({\n",
    "        \"random_state\": 42,\n",
    "        \"objective\": \"reg:squarederror\",\n",
    "        \"tree_method\": \"hist\",\n",
    "        \"verbosity\": 0,\n",
    "    })\n",
    "\n",
    "    model = XGBRegressor(**best_params)\n",
    "    model.fit(X_train, y_train)\n",
    "\n",
    "    predictions = []\n",
    "    current_df = test_df.copy()\n",
    "\n",
    "    for i, year in enumerate(prediction_years):\n",
    "        X_test = current_df[features]\n",
    "        current_df[\"predicted_value\"] = model.predict(X_test)\n",
    "        current_df[\"year\"] = year\n",
    "\n",
    "        if i == 0:\n",
    "            y_test = current_df[target]\n",
    "            rmse = root_mean_squared_error(y_test, current_df[\"predicted_value\"])\n",
    "            r2 = r2_score(y_test, current_df[\"predicted_value\"])\n",
    "            print(f\"{year} RMSE: {rmse:.2f}\")\n",
    "            print(f\"{year} R²: {r2:.3f}\")\n",
    "\n",
    "            fig = px.scatter(current_df, x=\"predicted_value\", y=target, hover_data=[\"name\", \"age\"])\n",
    "            fig.show()\n",
    "        else:\n",
    "            current_df[\"age\"] = current_df[\"age_last_year\"] + 1\n",
    "\n",
    "        # Reduce contract years left by 1, never below 0\n",
    "        if \"contract_years_left\" in current_df.columns:\n",
    "            current_df[\"contract_years_left\"] = (current_df[\"contract_years_left\"] - 1).clip(lower=0)\n",
    "\n",
    "        current_df[\"age_last_year\"] = current_df[\"age\"]\n",
    "        current_df[\"value_last_year\"] = current_df[\"predicted_value\"]\n",
    "\n",
    "        predictions.append(current_df[[\"player_id\", \"year\", \"age\", \"predicted_value\"]].copy())\n",
    "\n",
    "        if i < len(prediction_years) - 1:\n",
    "            pos_cols = [col for col in current_df.columns if col.startswith(\"pos_\")]\n",
    "            subpos_cols = [col for col in current_df.columns if col.startswith(\"subpos_\")]\n",
    "            static_cols = pos_cols + subpos_cols\n",
    "\n",
    "            carry_cols = [\"player_id\", \"value_last_year\", \"age\", *static_cols]\n",
    "            if \"contract_years_left\" in current_df.columns:\n",
    "                carry_cols.append(\"contract_years_left\")\n",
    "            current_df = current_df[carry_cols].copy()\n",
    "            current_df.rename(columns={\"age\": \"age_last_year\"}, inplace=True)\n",
    "\n",
    "    all_predictions_df = pd.concat(predictions, ignore_index=True)\n",
    "    return all_predictions_df, model, y_test\n"
   ]
  },
  {
   "cell_type": "code",
   "execution_count": 254,
   "id": "92b49796",
   "metadata": {},
   "outputs": [
    {
     "name": "stderr",
     "output_type": "stream",
     "text": [
      "[I 2025-07-24 18:29:41,185] A new study created in memory with name: no-name-03e62de4-ec46-4eba-a98f-9cc010b118ce\n",
      "[I 2025-07-24 18:29:41,469] Trial 0 finished with value: 4.7927880980568895 and parameters: {'n_estimators': 68, 'learning_rate': 0.12654978434433, 'max_depth': 2, 'subsample': 0.8725304104250828, 'colsample_bytree': 0.8088883508576226, 'gamma': 1.517432896958123, 'reg_alpha': 0.43708474335503555, 'reg_lambda': 8.677025612979213}. Best is trial 0 with value: 4.7927880980568895.\n",
      "[I 2025-07-24 18:29:41,802] Trial 1 finished with value: 5.004718343900908 and parameters: {'n_estimators': 134, 'learning_rate': 0.13500230844812539, 'max_depth': 3, 'subsample': 0.9571664592487529, 'colsample_bytree': 0.8216831888982907, 'gamma': 3.7255475130157873, 'reg_alpha': 0.9894726123041405, 'reg_lambda': 6.596520998078626}. Best is trial 0 with value: 4.7927880980568895.\n",
      "[I 2025-07-24 18:29:42,214] Trial 2 finished with value: 4.898509109016184 and parameters: {'n_estimators': 155, 'learning_rate': 0.28919705610145374, 'max_depth': 4, 'subsample': 0.9723871625073071, 'colsample_bytree': 0.9758771267343912, 'gamma': 3.3554146119387864, 'reg_alpha': 0.6257647200657914, 'reg_lambda': 3.065573130510397}. Best is trial 0 with value: 4.7927880980568895.\n",
      "[I 2025-07-24 18:29:42,480] Trial 3 finished with value: 6.074828144885319 and parameters: {'n_estimators': 85, 'learning_rate': 0.257024095416639, 'max_depth': 3, 'subsample': 0.6232101934912398, 'colsample_bytree': 0.6114562745781316, 'gamma': 3.428991308530917, 'reg_alpha': 0.5826928783499369, 'reg_lambda': 6.936989394816294}. Best is trial 0 with value: 4.7927880980568895.\n",
      "[I 2025-07-24 18:29:42,921] Trial 4 finished with value: 5.9191803678040555 and parameters: {'n_estimators': 91, 'learning_rate': 0.07038736405311569, 'max_depth': 7, 'subsample': 0.8024523539072885, 'colsample_bytree': 0.7817840260197016, 'gamma': 4.427678426232728, 'reg_alpha': 0.35037030527674773, 'reg_lambda': 6.5717468243747605}. Best is trial 0 with value: 4.7927880980568895.\n",
      "[I 2025-07-24 18:29:43,210] Trial 5 finished with value: 5.089627394080061 and parameters: {'n_estimators': 104, 'learning_rate': 0.07579762462305538, 'max_depth': 4, 'subsample': 0.8955467230147762, 'colsample_bytree': 0.8914643259078492, 'gamma': 2.68454985065227, 'reg_alpha': 0.6270004742003544, 'reg_lambda': 2.6244022049909543}. Best is trial 0 with value: 4.7927880980568895.\n",
      "[I 2025-07-24 18:29:43,435] Trial 6 finished with value: 4.635875762359819 and parameters: {'n_estimators': 117, 'learning_rate': 0.12408212318400996, 'max_depth': 2, 'subsample': 0.9753626127324542, 'colsample_bytree': 0.963622298329268, 'gamma': 1.213436569580718, 'reg_alpha': 0.25510560179000785, 'reg_lambda': 3.8193051897696106}. Best is trial 6 with value: 4.635875762359819.\n",
      "[I 2025-07-24 18:29:43,873] Trial 7 finished with value: 5.169727871893495 and parameters: {'n_estimators': 104, 'learning_rate': 0.07424348015445406, 'max_depth': 7, 'subsample': 0.9827078360688678, 'colsample_bytree': 0.8337125963207128, 'gamma': 1.1958779267677104, 'reg_alpha': 0.6898045194585289, 'reg_lambda': 9.585543959870098}. Best is trial 6 with value: 4.635875762359819.\n",
      "[I 2025-07-24 18:29:44,168] Trial 8 finished with value: 5.114285578768755 and parameters: {'n_estimators': 102, 'learning_rate': 0.1844453257418479, 'max_depth': 4, 'subsample': 0.9535178985708599, 'colsample_bytree': 0.8772982710631742, 'gamma': 2.6076335002163824, 'reg_alpha': 0.6508559744334541, 'reg_lambda': 4.720826560547897}. Best is trial 6 with value: 4.635875762359819.\n",
      "[I 2025-07-24 18:29:44,683] Trial 9 finished with value: 6.420609619589243 and parameters: {'n_estimators': 167, 'learning_rate': 0.2689350842393774, 'max_depth': 5, 'subsample': 0.6969309352785966, 'colsample_bytree': 0.6875664704909977, 'gamma': 1.6090513398267536, 'reg_alpha': 0.45196259316732157, 'reg_lambda': 9.929398266910088}. Best is trial 6 with value: 4.635875762359819.\n",
      "[I 2025-07-24 18:29:45,037] Trial 10 finished with value: 6.1700498829711234 and parameters: {'n_estimators': 190, 'learning_rate': 0.013300788750272158, 'max_depth': 1, 'subsample': 0.5148044129791134, 'colsample_bytree': 0.9829546366858396, 'gamma': 0.0028591374454818297, 'reg_alpha': 0.055745479253199254, 'reg_lambda': 0.40714938331190975}. Best is trial 6 with value: 4.635875762359819.\n",
      "[I 2025-07-24 18:29:45,240] Trial 11 finished with value: 5.170062228518634 and parameters: {'n_estimators': 57, 'learning_rate': 0.15237295532892656, 'max_depth': 1, 'subsample': 0.8304054991408834, 'colsample_bytree': 0.7480434076858506, 'gamma': 1.244106698791001, 'reg_alpha': 0.21716082783266283, 'reg_lambda': 4.057848534590378}. Best is trial 6 with value: 4.635875762359819.\n",
      "[I 2025-07-24 18:29:45,440] Trial 12 finished with value: 4.731040882407201 and parameters: {'n_estimators': 51, 'learning_rate': 0.19502545393004223, 'max_depth': 2, 'subsample': 0.8721687612294636, 'colsample_bytree': 0.8998742265295783, 'gamma': 0.2697545091664333, 'reg_alpha': 0.2534108848911573, 'reg_lambda': 7.5542175145435735}. Best is trial 6 with value: 4.635875762359819.\n",
      "[I 2025-07-24 18:29:45,744] Trial 13 finished with value: 4.6928990335277385 and parameters: {'n_estimators': 140, 'learning_rate': 0.20957706791123193, 'max_depth': 2, 'subsample': 0.7518229063214014, 'colsample_bytree': 0.9006300414364633, 'gamma': 0.048307377414961994, 'reg_alpha': 0.1373508674831543, 'reg_lambda': 1.3560251095788218}. Best is trial 6 with value: 4.635875762359819.\n",
      "[I 2025-07-24 18:29:46,036] Trial 14 finished with value: 4.713117168699852 and parameters: {'n_estimators': 132, 'learning_rate': 0.20991453138395028, 'max_depth': 2, 'subsample': 0.6991701137895185, 'colsample_bytree': 0.9280917402961266, 'gamma': 0.7417672176598933, 'reg_alpha': 0.0034769758415273133, 'reg_lambda': 0.6145469874721324}. Best is trial 6 with value: 4.635875762359819.\n",
      "[I 2025-07-24 18:29:46,462] Trial 15 finished with value: 5.086476504241865 and parameters: {'n_estimators': 149, 'learning_rate': 0.23928786391796034, 'max_depth': 3, 'subsample': 0.5853457281658493, 'colsample_bytree': 0.9405110479889508, 'gamma': 0.5950141889914944, 'reg_alpha': 0.15833575263617242, 'reg_lambda': 2.056955434982153}. Best is trial 6 with value: 4.635875762359819.\n",
      "[I 2025-07-24 18:29:46,737] Trial 16 finished with value: 4.94008221249397 and parameters: {'n_estimators': 122, 'learning_rate': 0.11804694052483225, 'max_depth': 1, 'subsample': 0.7478013772158738, 'colsample_bytree': 0.9968119535405725, 'gamma': 1.9627202181884669, 'reg_alpha': 0.3207640332539389, 'reg_lambda': 1.5778331659316989}. Best is trial 6 with value: 4.635875762359819.\n",
      "[I 2025-07-24 18:29:47,412] Trial 17 finished with value: 5.156846684743287 and parameters: {'n_estimators': 186, 'learning_rate': 0.22308022752011386, 'max_depth': 5, 'subsample': 0.7721719314927675, 'colsample_bytree': 0.9375812841971641, 'gamma': 0.7879931267069602, 'reg_alpha': 0.8745542706406783, 'reg_lambda': 3.6937898305352412}. Best is trial 6 with value: 4.635875762359819.\n",
      "[I 2025-07-24 18:29:47,732] Trial 18 finished with value: 4.8675166387448 and parameters: {'n_estimators': 121, 'learning_rate': 0.17567341803713854, 'max_depth': 2, 'subsample': 0.6358721902977345, 'colsample_bytree': 0.871636156884261, 'gamma': 2.0334755439564893, 'reg_alpha': 0.09614816355332907, 'reg_lambda': 5.43594697697442}. Best is trial 6 with value: 4.635875762359819.\n",
      "[I 2025-07-24 18:29:48,448] Trial 19 finished with value: 5.02163820864089 and parameters: {'n_estimators': 169, 'learning_rate': 0.10179662053260426, 'max_depth': 3, 'subsample': 0.507113617687925, 'colsample_bytree': 0.852007819698936, 'gamma': 0.04516556499703214, 'reg_alpha': 0.19251587037317416, 'reg_lambda': 1.3150999005506037}. Best is trial 6 with value: 4.635875762359819.\n",
      "[I 2025-07-24 18:29:49,285] Trial 20 finished with value: 5.809479852092406 and parameters: {'n_estimators': 144, 'learning_rate': 0.0102662908452755, 'max_depth': 5, 'subsample': 0.9158606568343601, 'colsample_bytree': 0.9544805248474575, 'gamma': 0.9408143680923386, 'reg_alpha': 0.3351261532804206, 'reg_lambda': 5.28828425767583}. Best is trial 6 with value: 4.635875762359819.\n",
      "[I 2025-07-24 18:29:49,554] Trial 21 finished with value: 4.744599212123842 and parameters: {'n_estimators': 129, 'learning_rate': 0.21352084112949263, 'max_depth': 2, 'subsample': 0.7127745811145609, 'colsample_bytree': 0.9166339329906787, 'gamma': 0.49564951045869066, 'reg_alpha': 0.020983902853161585, 'reg_lambda': 0.48727369659785463}. Best is trial 6 with value: 4.635875762359819.\n",
      "[I 2025-07-24 18:29:49,800] Trial 22 finished with value: 4.748818425099608 and parameters: {'n_estimators': 117, 'learning_rate': 0.16040814316696078, 'max_depth': 2, 'subsample': 0.6774385854457154, 'colsample_bytree': 0.9238535309913447, 'gamma': 0.7861876447407201, 'reg_alpha': 0.012105826840819123, 'reg_lambda': 0.19945060466072756}. Best is trial 6 with value: 4.635875762359819.\n",
      "[I 2025-07-24 18:29:50,107] Trial 23 finished with value: 4.9286923177150355 and parameters: {'n_estimators': 138, 'learning_rate': 0.21145632232284228, 'max_depth': 1, 'subsample': 0.8212893146077976, 'colsample_bytree': 0.9607027035453041, 'gamma': 2.1203088066986995, 'reg_alpha': 0.09646834193426602, 'reg_lambda': 1.0977188400040103}. Best is trial 6 with value: 4.635875762359819.\n",
      "[I 2025-07-24 18:29:50,420] Trial 24 finished with value: 5.106506150446091 and parameters: {'n_estimators': 162, 'learning_rate': 0.23898698501127508, 'max_depth': 3, 'subsample': 0.5610282032654912, 'colsample_bytree': 0.9049900721515743, 'gamma': 0.47584590625811846, 'reg_alpha': 0.1361702495766779, 'reg_lambda': 2.5515512998086995}. Best is trial 6 with value: 4.635875762359819.\n",
      "[I 2025-07-24 18:29:50,638] Trial 25 finished with value: 5.611314752716503 and parameters: {'n_estimators': 111, 'learning_rate': 0.15990702833963885, 'max_depth': 2, 'subsample': 0.7494709714754249, 'colsample_bytree': 0.7790083303034772, 'gamma': 1.156333218295569, 'reg_alpha': 0.27025109367523326, 'reg_lambda': 3.4044277485583505}. Best is trial 6 with value: 4.635875762359819.\n",
      "[I 2025-07-24 18:29:50,897] Trial 26 finished with value: 4.949482133043961 and parameters: {'n_estimators': 178, 'learning_rate': 0.19268245013638255, 'max_depth': 1, 'subsample': 0.6500435604765926, 'colsample_bytree': 0.8531412508044804, 'gamma': 1.610802182295954, 'reg_alpha': 0.145730410154078, 'reg_lambda': 2.0400093659002216}. Best is trial 6 with value: 4.635875762359819.\n",
      "[I 2025-07-24 18:29:51,492] Trial 27 finished with value: 4.93386834080808 and parameters: {'n_estimators': 200, 'learning_rate': 0.1033152355912306, 'max_depth': 6, 'subsample': 0.7021205566772182, 'colsample_bytree': 0.9584596765278619, 'gamma': 0.27440409970948254, 'reg_alpha': 0.4212802571216866, 'reg_lambda': 4.456994052080294}. Best is trial 6 with value: 4.635875762359819.\n",
      "[I 2025-07-24 18:29:51,710] Trial 28 finished with value: 5.533533846231591 and parameters: {'n_estimators': 86, 'learning_rate': 0.29846390482905005, 'max_depth': 3, 'subsample': 0.7903552094492333, 'colsample_bytree': 0.7158212208428534, 'gamma': 0.9665117017352758, 'reg_alpha': 0.006311128224959994, 'reg_lambda': 1.4105335425640213}. Best is trial 6 with value: 4.635875762359819.\n",
      "[I 2025-07-24 18:29:51,968] Trial 29 finished with value: 4.679620382432468 and parameters: {'n_estimators': 140, 'learning_rate': 0.13318718037329427, 'max_depth': 2, 'subsample': 0.8525763369962069, 'colsample_bytree': 0.9950210449167284, 'gamma': 1.6564935619282555, 'reg_alpha': 0.0929691485810826, 'reg_lambda': 2.871879408825529}. Best is trial 6 with value: 4.635875762359819.\n",
      "[I 2025-07-24 18:29:52,243] Trial 30 finished with value: 4.9051332505186815 and parameters: {'n_estimators': 151, 'learning_rate': 0.1366230222979577, 'max_depth': 1, 'subsample': 0.8555008810301887, 'colsample_bytree': 0.9984859923960219, 'gamma': 2.37658420465616, 'reg_alpha': 0.5284362049135167, 'reg_lambda': 2.889470561442244}. Best is trial 6 with value: 4.635875762359819.\n",
      "[I 2025-07-24 18:29:52,496] Trial 31 finished with value: 4.633031326219886 and parameters: {'n_estimators': 139, 'learning_rate': 0.10948866260385098, 'max_depth': 2, 'subsample': 0.9303355635608481, 'colsample_bytree': 0.9645541912037155, 'gamma': 1.509730349743585, 'reg_alpha': 0.08668931331766366, 'reg_lambda': 2.114612828106516}. Best is trial 31 with value: 4.633031326219886.\n",
      "[I 2025-07-24 18:29:52,783] Trial 32 finished with value: 4.7003683184995 and parameters: {'n_estimators': 136, 'learning_rate': 0.05199124629864889, 'max_depth': 2, 'subsample': 0.9328169613471033, 'colsample_bytree': 0.9706863849005043, 'gamma': 1.5139246888175328, 'reg_alpha': 0.2273860243663729, 'reg_lambda': 2.1101004617829204}. Best is trial 31 with value: 4.633031326219886.\n",
      "[I 2025-07-24 18:29:53,041] Trial 33 finished with value: 4.63753304931138 and parameters: {'n_estimators': 141, 'learning_rate': 0.1317519412770143, 'max_depth': 2, 'subsample': 0.9996959166917938, 'colsample_bytree': 0.9970512015837992, 'gamma': 1.523221009954507, 'reg_alpha': 0.13484389592870993, 'reg_lambda': 3.529992384310387}. Best is trial 31 with value: 4.633031326219886.\n",
      "[I 2025-07-24 18:29:53,318] Trial 34 finished with value: 4.798688095803401 and parameters: {'n_estimators': 157, 'learning_rate': 0.12145264995551049, 'max_depth': 3, 'subsample': 0.9978376455051527, 'colsample_bytree': 0.9958933790908906, 'gamma': 2.933183769085937, 'reg_alpha': 0.078690015302048, 'reg_lambda': 3.8359541851413472}. Best is trial 31 with value: 4.633031326219886.\n",
      "[I 2025-07-24 18:29:53,502] Trial 35 finished with value: 4.776919846256125 and parameters: {'n_estimators': 73, 'learning_rate': 0.09388017380238842, 'max_depth': 3, 'subsample': 0.9514616731255405, 'colsample_bytree': 0.9747221760320735, 'gamma': 1.7983177007266749, 'reg_alpha': 0.2798768814290452, 'reg_lambda': 3.4489949808950953}. Best is trial 31 with value: 4.633031326219886.\n",
      "[I 2025-07-24 18:29:53,717] Trial 36 finished with value: 5.897872188865137 and parameters: {'n_estimators': 111, 'learning_rate': 0.13781916615695775, 'max_depth': 2, 'subsample': 0.8898022955775041, 'colsample_bytree': 0.6021335842943507, 'gamma': 2.290630606461909, 'reg_alpha': 0.36857359304021287, 'reg_lambda': 5.579467561461818}. Best is trial 31 with value: 4.633031326219886.\n",
      "[I 2025-07-24 18:29:54,016] Trial 37 finished with value: 4.8897920110385495 and parameters: {'n_estimators': 128, 'learning_rate': 0.051815312177497186, 'max_depth': 3, 'subsample': 0.91230629758547, 'colsample_bytree': 0.9465870960399065, 'gamma': 4.389283626995221, 'reg_alpha': 0.19616604863374582, 'reg_lambda': 6.065327449634728}. Best is trial 31 with value: 4.633031326219886.\n",
      "[I 2025-07-24 18:29:54,385] Trial 38 finished with value: 4.864473141878394 and parameters: {'n_estimators': 146, 'learning_rate': 0.0846521365553302, 'max_depth': 4, 'subsample': 0.9724127257513564, 'colsample_bytree': 0.9757601519413145, 'gamma': 1.393886108480106, 'reg_alpha': 0.06996897877587521, 'reg_lambda': 4.441803382883342}. Best is trial 31 with value: 4.633031326219886.\n",
      "[I 2025-07-24 18:29:54,631] Trial 39 finished with value: 4.928653604195596 and parameters: {'n_estimators': 158, 'learning_rate': 0.11426573583547725, 'max_depth': 1, 'subsample': 0.9331471649737085, 'colsample_bytree': 0.8070476852420196, 'gamma': 3.0984129959502895, 'reg_alpha': 0.4015418869892302, 'reg_lambda': 2.7698760562068747}. Best is trial 31 with value: 4.633031326219886.\n",
      "[I 2025-07-24 18:29:54,852] Trial 40 finished with value: 6.387343301412886 and parameters: {'n_estimators': 95, 'learning_rate': 0.14898712904613545, 'max_depth': 4, 'subsample': 0.851224081820736, 'colsample_bytree': 0.6382711653704242, 'gamma': 1.8031350988042218, 'reg_alpha': 0.5007809730032942, 'reg_lambda': 3.1554566873390573}. Best is trial 31 with value: 4.633031326219886.\n",
      "[I 2025-07-24 18:29:55,091] Trial 41 finished with value: 4.658466887641207 and parameters: {'n_estimators': 141, 'learning_rate': 0.1719182053089524, 'max_depth': 2, 'subsample': 0.9635515384825426, 'colsample_bytree': 0.9523008561530827, 'gamma': 1.33035937777973, 'reg_alpha': 0.12741233934452006, 'reg_lambda': 2.411585009556804}. Best is trial 31 with value: 4.633031326219886.\n",
      "[I 2025-07-24 18:29:55,304] Trial 42 finished with value: 4.654196637031881 and parameters: {'n_estimators': 117, 'learning_rate': 0.1715238948743496, 'max_depth': 2, 'subsample': 0.9884285052737573, 'colsample_bytree': 0.9806445719360141, 'gamma': 1.3397841059107778, 'reg_alpha': 0.11770759181095486, 'reg_lambda': 2.3732094502171783}. Best is trial 31 with value: 4.633031326219886.\n",
      "[I 2025-07-24 18:29:55,498] Trial 43 finished with value: 4.915108421493842 and parameters: {'n_estimators': 112, 'learning_rate': 0.16697340738521965, 'max_depth': 1, 'subsample': 0.9964636102589849, 'colsample_bytree': 0.9502318366595329, 'gamma': 1.2165037983255784, 'reg_alpha': 0.1771758688239607, 'reg_lambda': 2.3096495029922046}. Best is trial 31 with value: 4.633031326219886.\n",
      "[I 2025-07-24 18:29:55,694] Trial 44 finished with value: 4.630830728791615 and parameters: {'n_estimators': 98, 'learning_rate': 0.1772473795997424, 'max_depth': 2, 'subsample': 0.9673643021581557, 'colsample_bytree': 0.9215280564045314, 'gamma': 1.4253639407907763, 'reg_alpha': 0.7787928722754986, 'reg_lambda': 4.018163608819955}. Best is trial 44 with value: 4.630830728791615.\n",
      "[I 2025-07-24 18:29:55,915] Trial 45 finished with value: 5.0818826919767455 and parameters: {'n_estimators': 98, 'learning_rate': 0.14546546875417288, 'max_depth': 3, 'subsample': 0.943195222073763, 'colsample_bytree': 0.8809931430134109, 'gamma': 0.9814801899787651, 'reg_alpha': 0.7638217407697095, 'reg_lambda': 4.746272047283085}. Best is trial 44 with value: 4.630830728791615.\n",
      "[I 2025-07-24 18:29:56,103] Trial 46 finished with value: 4.910513940368761 and parameters: {'n_estimators': 79, 'learning_rate': 0.18425316208670944, 'max_depth': 1, 'subsample': 0.9768000280780994, 'colsample_bytree': 0.9702335979761021, 'gamma': 4.998472222936558, 'reg_alpha': 0.8924743006630477, 'reg_lambda': 4.170009525502694}. Best is trial 44 with value: 4.630830728791615.\n",
      "[I 2025-07-24 18:29:56,303] Trial 47 finished with value: 4.873126908388742 and parameters: {'n_estimators': 105, 'learning_rate': 0.05637065687682934, 'max_depth': 2, 'subsample': 0.9021813255653548, 'colsample_bytree': 0.9137164074317966, 'gamma': 1.8056096987160113, 'reg_alpha': 0.7023345925160988, 'reg_lambda': 4.914630061381054}. Best is trial 44 with value: 4.630830728791615.\n",
      "[I 2025-07-24 18:29:56,577] Trial 48 finished with value: 5.058167902830319 and parameters: {'n_estimators': 117, 'learning_rate': 0.1265527517854, 'max_depth': 4, 'subsample': 0.9999047862582185, 'colsample_bytree': 0.9320177184273309, 'gamma': 2.656179517758765, 'reg_alpha': 0.5611363344958531, 'reg_lambda': 1.7791422126269996}. Best is trial 44 with value: 4.630830728791615.\n",
      "[I 2025-07-24 18:29:56,800] Trial 49 finished with value: 4.67811641483 and parameters: {'n_estimators': 91, 'learning_rate': 0.10920707046758066, 'max_depth': 2, 'subsample': 0.9614026990033001, 'colsample_bytree': 0.9823418397120709, 'gamma': 1.4118573100718632, 'reg_alpha': 0.9588299976625992, 'reg_lambda': 3.3560668808180667}. Best is trial 44 with value: 4.630830728791615.\n",
      "[I 2025-07-24 18:29:57,138] Trial 50 finished with value: 5.076174933410115 and parameters: {'n_estimators': 123, 'learning_rate': 0.08164085119275091, 'max_depth': 3, 'subsample': 0.930641989918438, 'colsample_bytree': 0.8897577460863931, 'gamma': 2.2342266957270738, 'reg_alpha': 0.2925906073820867, 'reg_lambda': 0.9277380579230874}. Best is trial 44 with value: 4.630830728791615.\n",
      "[I 2025-07-24 18:29:57,420] Trial 51 finished with value: 4.66651980067403 and parameters: {'n_estimators': 130, 'learning_rate': 0.16819953387064196, 'max_depth': 2, 'subsample': 0.9692430923841364, 'colsample_bytree': 0.938896002135538, 'gamma': 1.293688102281384, 'reg_alpha': 0.1252201606496003, 'reg_lambda': 2.4930364832819674}. Best is trial 44 with value: 4.630830728791615.\n",
      "[I 2025-07-24 18:29:57,626] Trial 52 finished with value: 4.65697358748429 and parameters: {'n_estimators': 105, 'learning_rate': 0.17944428640415616, 'max_depth': 2, 'subsample': 0.9543345449393011, 'colsample_bytree': 0.961941708421578, 'gamma': 1.0972490400885628, 'reg_alpha': 0.24410227996975215, 'reg_lambda': 3.854055311306632}. Best is trial 44 with value: 4.630830728791615.\n",
      "[I 2025-07-24 18:29:57,837] Trial 53 finished with value: 4.909861280116022 and parameters: {'n_estimators': 105, 'learning_rate': 0.18321881141228977, 'max_depth': 1, 'subsample': 0.9859561074516161, 'colsample_bytree': 0.9814532971179275, 'gamma': 0.9633531644143907, 'reg_alpha': 0.2352257396073959, 'reg_lambda': 4.023381387316057}. Best is trial 44 with value: 4.630830728791615.\n",
      "[I 2025-07-24 18:29:58,063] Trial 54 finished with value: 4.660417190761958 and parameters: {'n_estimators': 116, 'learning_rate': 0.19357743311455297, 'max_depth': 2, 'subsample': 0.8761917156164332, 'colsample_bytree': 0.9644327302388565, 'gamma': 1.5584327979724844, 'reg_alpha': 0.8087020669359718, 'reg_lambda': 3.736649972618167}. Best is trial 44 with value: 4.630830728791615.\n",
      "[I 2025-07-24 18:29:58,262] Trial 55 finished with value: 4.666327146277201 and parameters: {'n_estimators': 96, 'learning_rate': 0.14619289272559977, 'max_depth': 2, 'subsample': 0.9513218083780811, 'colsample_bytree': 0.9299508811063502, 'gamma': 1.0687833240413454, 'reg_alpha': 0.047226197929724156, 'reg_lambda': 4.422759325183231}. Best is trial 44 with value: 4.630830728791615.\n",
      "[I 2025-07-24 18:29:58,473] Trial 56 finished with value: 4.7798328176566836 and parameters: {'n_estimators': 85, 'learning_rate': 0.12771681015892514, 'max_depth': 3, 'subsample': 0.9213239432282045, 'colsample_bytree': 0.9856068802978735, 'gamma': 0.6472179846761492, 'reg_alpha': 0.2057369911684874, 'reg_lambda': 3.034353500546395}. Best is trial 44 with value: 4.630830728791615.\n",
      "[I 2025-07-24 18:29:58,678] Trial 57 finished with value: 4.912432443348791 and parameters: {'n_estimators': 125, 'learning_rate': 0.20128227233002532, 'max_depth': 1, 'subsample': 0.9816506391072153, 'colsample_bytree': 0.9098700396738281, 'gamma': 1.9378153950815324, 'reg_alpha': 0.31205230119274574, 'reg_lambda': 8.434498922988272}. Best is trial 44 with value: 4.630830728791615.\n",
      "[I 2025-07-24 18:29:58,970] Trial 58 finished with value: 4.657143137624349 and parameters: {'n_estimators': 134, 'learning_rate': 0.15643683284633095, 'max_depth': 2, 'subsample': 0.9432547117875457, 'colsample_bytree': 0.9588591459055892, 'gamma': 0.37847614754062064, 'reg_alpha': 0.16892472280904008, 'reg_lambda': 3.484110991002002}. Best is trial 44 with value: 4.630830728791615.\n",
      "[I 2025-07-24 18:29:59,170] Trial 59 finished with value: 5.354393869861653 and parameters: {'n_estimators': 65, 'learning_rate': 0.2255854953337069, 'max_depth': 2, 'subsample': 0.8922977585838994, 'colsample_bytree': 0.7792379251674424, 'gamma': 1.7379631658117487, 'reg_alpha': 0.6189955037298928, 'reg_lambda': 6.025454888677423}. Best is trial 44 with value: 4.630830728791615.\n",
      "[I 2025-07-24 18:29:59,607] Trial 60 finished with value: 5.245040000786903 and parameters: {'n_estimators': 101, 'learning_rate': 0.14029633187291426, 'max_depth': 6, 'subsample': 0.9856360445732715, 'colsample_bytree': 0.8613603320330263, 'gamma': 0.7529493634744283, 'reg_alpha': 0.45495349307374106, 'reg_lambda': 5.0992417944233575}. Best is trial 44 with value: 4.630830728791615.\n",
      "[I 2025-07-24 18:29:59,920] Trial 61 finished with value: 4.649590615378886 and parameters: {'n_estimators': 132, 'learning_rate': 0.15626947992671333, 'max_depth': 2, 'subsample': 0.9439573265952391, 'colsample_bytree': 0.9626499856640645, 'gamma': 0.23921734624543067, 'reg_alpha': 0.175365024019567, 'reg_lambda': 3.6475458270435177}. Best is trial 44 with value: 4.630830728791615.\n",
      "[I 2025-07-24 18:30:00,199] Trial 62 finished with value: 4.65577429892127 and parameters: {'n_estimators': 120, 'learning_rate': 0.1589382239705389, 'max_depth': 2, 'subsample': 0.9614567901037506, 'colsample_bytree': 0.8333079817145872, 'gamma': 1.1274765352907967, 'reg_alpha': 0.04685403699007981, 'reg_lambda': 4.212580842540634}. Best is trial 44 with value: 4.630830728791615.\n",
      "[I 2025-07-24 18:30:00,429] Trial 63 finished with value: 4.910541836459961 and parameters: {'n_estimators': 150, 'learning_rate': 0.16250846352231735, 'max_depth': 1, 'subsample': 0.9224067356902804, 'colsample_bytree': 0.8225388075060319, 'gamma': 0.17272220779298042, 'reg_alpha': 0.05842530258985257, 'reg_lambda': 4.2533796234469055}. Best is trial 44 with value: 4.630830728791615.\n",
      "[I 2025-07-24 18:30:00,666] Trial 64 finished with value: 5.168365410068095 and parameters: {'n_estimators': 121, 'learning_rate': 0.10150602873891716, 'max_depth': 2, 'subsample': 0.9680349924982462, 'colsample_bytree': 0.7560765038947347, 'gamma': 1.4683581896845963, 'reg_alpha': 0.11004162142461502, 'reg_lambda': 3.2231706266007714}. Best is trial 44 with value: 4.630830728791615.\n",
      "[I 2025-07-24 18:30:00,930] Trial 65 finished with value: 4.984345116913427 and parameters: {'n_estimators': 133, 'learning_rate': 0.1514483362838711, 'max_depth': 3, 'subsample': 0.9381784686105075, 'colsample_bytree': 0.8334871472891577, 'gamma': 0.8341556075224623, 'reg_alpha': 0.03153052135028578, 'reg_lambda': 1.7478706972471305}. Best is trial 44 with value: 4.630830728791615.\n",
      "[I 2025-07-24 18:30:01,152] Trial 66 finished with value: 4.642219631678354 and parameters: {'n_estimators': 127, 'learning_rate': 0.11771152262300277, 'max_depth': 2, 'subsample': 0.9099503548246531, 'colsample_bytree': 0.9233190147387801, 'gamma': 2.0697097458517715, 'reg_alpha': 0.1693913592712093, 'reg_lambda': 3.729608751068504}. Best is trial 44 with value: 4.630830728791615.\n",
      "[I 2025-07-24 18:30:01,395] Trial 67 finished with value: 4.998604215690005 and parameters: {'n_estimators': 127, 'learning_rate': 0.11849670508943241, 'max_depth': 3, 'subsample': 0.9014280951016918, 'colsample_bytree': 0.9223894997251512, 'gamma': 2.0397006305872827, 'reg_alpha': 0.16973309889047364, 'reg_lambda': 3.6525414634729314}. Best is trial 44 with value: 4.630830728791615.\n",
      "[I 2025-07-24 18:30:01,689] Trial 68 finished with value: 4.787575820340151 and parameters: {'n_estimators': 142, 'learning_rate': 0.06510387805854242, 'max_depth': 2, 'subsample': 0.8761238831577363, 'colsample_bytree': 0.9436854255563546, 'gamma': 1.8672415409924803, 'reg_alpha': 0.15379207484483082, 'reg_lambda': 2.7590507571787084}. Best is trial 44 with value: 4.630830728791615.\n",
      "[I 2025-07-24 18:30:01,899] Trial 69 finished with value: 4.970635619526323 and parameters: {'n_estimators': 114, 'learning_rate': 0.09457449076082339, 'max_depth': 1, 'subsample': 0.9152042186752606, 'colsample_bytree': 0.9883894996985207, 'gamma': 1.6357136762752298, 'reg_alpha': 0.2579170107689198, 'reg_lambda': 4.649534893817421}. Best is trial 44 with value: 4.630830728791615.\n",
      "[I 2025-07-24 18:30:02,192] Trial 70 finished with value: 4.658905913037909 and parameters: {'n_estimators': 136, 'learning_rate': 0.1327195993571062, 'max_depth': 2, 'subsample': 0.9890854014527174, 'colsample_bytree': 0.8922324756135644, 'gamma': 2.460930943238739, 'reg_alpha': 0.20984433421047355, 'reg_lambda': 2.215266888938837}. Best is trial 44 with value: 4.630830728791615.\n",
      "[I 2025-07-24 18:30:02,425] Trial 71 finished with value: 4.669807981338301 and parameters: {'n_estimators': 108, 'learning_rate': 0.11186784883627848, 'max_depth': 2, 'subsample': 0.9571085831226047, 'colsample_bytree': 0.9691355622105472, 'gamma': 1.2557013283088363, 'reg_alpha': 0.0938234350535544, 'reg_lambda': 4.120416851154863}. Best is trial 44 with value: 4.630830728791615.\n",
      "[I 2025-07-24 18:30:02,666] Trial 72 finished with value: 4.6393121248615055 and parameters: {'n_estimators': 120, 'learning_rate': 0.15542038790634655, 'max_depth': 2, 'subsample': 0.9769577300247209, 'colsample_bytree': 0.9416973766885516, 'gamma': 2.110647925920208, 'reg_alpha': 0.06652849031126004, 'reg_lambda': 3.103338981098004}. Best is trial 44 with value: 4.630830728791615.\n",
      "[I 2025-07-24 18:30:02,933] Trial 73 finished with value: 4.644795690068186 and parameters: {'n_estimators': 131, 'learning_rate': 0.12632039922532665, 'max_depth': 2, 'subsample': 0.9771068520196419, 'colsample_bytree': 0.9388028673323366, 'gamma': 2.1074768715620844, 'reg_alpha': 0.13940555985202419, 'reg_lambda': 3.0796904258135664}. Best is trial 44 with value: 4.630830728791615.\n",
      "[I 2025-07-24 18:30:03,265] Trial 74 finished with value: 4.997344988485202 and parameters: {'n_estimators': 147, 'learning_rate': 0.12243330077320094, 'max_depth': 3, 'subsample': 0.9761382114937608, 'colsample_bytree': 0.9199117448371745, 'gamma': 2.209795345027714, 'reg_alpha': 0.14603202094908407, 'reg_lambda': 3.073613742850124}. Best is trial 44 with value: 4.630830728791615.\n",
      "[I 2025-07-24 18:30:03,535] Trial 75 finished with value: 4.6802964579203765 and parameters: {'n_estimators': 129, 'learning_rate': 0.09443009362510413, 'max_depth': 2, 'subsample': 0.9117255186102695, 'colsample_bytree': 0.9405180773196484, 'gamma': 2.7936165078753223, 'reg_alpha': 0.07506109789225916, 'reg_lambda': 3.577664273507468}. Best is trial 44 with value: 4.630830728791615.\n",
      "[I 2025-07-24 18:30:03,811] Trial 76 finished with value: 4.657674900581989 and parameters: {'n_estimators': 139, 'learning_rate': 0.14143500292471986, 'max_depth': 2, 'subsample': 0.9467108196382039, 'colsample_bytree': 0.9010555004938564, 'gamma': 1.9700597401388493, 'reg_alpha': 0.3647964426756018, 'reg_lambda': 3.9457046524127}. Best is trial 44 with value: 4.630830728791615.\n",
      "[I 2025-07-24 18:30:04,073] Trial 77 finished with value: 4.90341313000155 and parameters: {'n_estimators': 153, 'learning_rate': 0.13186953525043507, 'max_depth': 1, 'subsample': 0.9316928578572861, 'colsample_bytree': 0.9998147540936487, 'gamma': 2.522062296311888, 'reg_alpha': 0.18847432561765315, 'reg_lambda': 3.2559580165106112}. Best is trial 44 with value: 4.630830728791615.\n",
      "[I 2025-07-24 18:30:04,412] Trial 78 finished with value: 4.832568632312962 and parameters: {'n_estimators': 162, 'learning_rate': 0.10549698462184806, 'max_depth': 3, 'subsample': 0.9993067179937165, 'colsample_bytree': 0.9532069741507251, 'gamma': 2.1131000557765014, 'reg_alpha': 0.029492120735302413, 'reg_lambda': 2.6488479983308393}. Best is trial 44 with value: 4.630830728791615.\n",
      "[I 2025-07-24 18:30:04,682] Trial 79 finished with value: 4.846552908404011 and parameters: {'n_estimators': 125, 'learning_rate': 0.12189455153671819, 'max_depth': 2, 'subsample': 0.7309899123436745, 'colsample_bytree': 0.930376249091482, 'gamma': 3.4582013081686993, 'reg_alpha': 0.10836573333528031, 'reg_lambda': 2.9813288124418014}. Best is trial 44 with value: 4.630830728791615.\n",
      "[I 2025-07-24 18:30:04,975] Trial 80 finished with value: 4.6487530990024775 and parameters: {'n_estimators': 145, 'learning_rate': 0.14559946414340452, 'max_depth': 2, 'subsample': 0.830655781334963, 'colsample_bytree': 0.9461208615253871, 'gamma': 2.3729341394717105, 'reg_alpha': 0.14414356982835425, 'reg_lambda': 4.705867872808009}. Best is trial 44 with value: 4.630830728791615.\n",
      "[I 2025-07-24 18:30:05,273] Trial 81 finished with value: 4.666310768951395 and parameters: {'n_estimators': 145, 'learning_rate': 0.1537965299382415, 'max_depth': 2, 'subsample': 0.8176832483173514, 'colsample_bytree': 0.9465467796202223, 'gamma': 2.412969895823852, 'reg_alpha': 0.2206205789358286, 'reg_lambda': 4.540935215930715}. Best is trial 44 with value: 4.630830728791615.\n",
      "[I 2025-07-24 18:30:05,562] Trial 82 finished with value: 4.806763700338775 and parameters: {'n_estimators': 134, 'learning_rate': 0.1417114150840551, 'max_depth': 2, 'subsample': 0.7766558478655304, 'colsample_bytree': 0.9111411005425587, 'gamma': 2.7746127842313837, 'reg_alpha': 0.1498143800853514, 'reg_lambda': 4.827411127913907}. Best is trial 44 with value: 4.630830728791615.\n",
      "[I 2025-07-24 18:30:05,812] Trial 83 finished with value: 4.657852601520276 and parameters: {'n_estimators': 143, 'learning_rate': 0.11514189466136189, 'max_depth': 2, 'subsample': 0.8443509651774789, 'colsample_bytree': 0.9681086191862677, 'gamma': 2.162394924749711, 'reg_alpha': 0.07414717352611137, 'reg_lambda': 5.180964672159207}. Best is trial 44 with value: 4.630830728791615.\n",
      "[I 2025-07-24 18:30:06,031] Trial 84 finished with value: 4.92459857626003 and parameters: {'n_estimators': 131, 'learning_rate': 0.1285790961225801, 'max_depth': 1, 'subsample': 0.8641336252433938, 'colsample_bytree': 0.9362495718655015, 'gamma': 2.286079370651454, 'reg_alpha': 0.1862519210612029, 'reg_lambda': 3.7060516843707454}. Best is trial 44 with value: 4.630830728791615.\n",
      "[I 2025-07-24 18:30:06,312] Trial 85 finished with value: 4.869889000615715 and parameters: {'n_estimators': 138, 'learning_rate': 0.16538290053840288, 'max_depth': 3, 'subsample': 0.9731301998738572, 'colsample_bytree': 0.9898112082648196, 'gamma': 1.7246178215942842, 'reg_alpha': 0.13266909710577493, 'reg_lambda': 3.3966292765963093}. Best is trial 44 with value: 4.630830728791615.\n",
      "[I 2025-07-24 18:30:06,622] Trial 86 finished with value: 4.64359806062208 and parameters: {'n_estimators': 172, 'learning_rate': 0.13437353335153096, 'max_depth': 2, 'subsample': 0.9270581268706248, 'colsample_bytree': 0.9554256301515297, 'gamma': 2.5514740469375523, 'reg_alpha': 0.293293802099234, 'reg_lambda': 5.569174602841912}. Best is trial 44 with value: 4.630830728791615.\n",
      "[I 2025-07-24 18:30:07,285] Trial 87 finished with value: 5.023641439235475 and parameters: {'n_estimators': 173, 'learning_rate': 0.028556832867841803, 'max_depth': 7, 'subsample': 0.8863618107096358, 'colsample_bytree': 0.9248661756421115, 'gamma': 2.974623882911408, 'reg_alpha': 0.2892885139333814, 'reg_lambda': 5.591016097253451}. Best is trial 44 with value: 4.630830728791615.\n",
      "[I 2025-07-24 18:30:07,647] Trial 88 finished with value: 4.639324874368388 and parameters: {'n_estimators': 190, 'learning_rate': 0.08739614612118554, 'max_depth': 2, 'subsample': 0.903565052527316, 'colsample_bytree': 0.9756360229752045, 'gamma': 2.544959500367039, 'reg_alpha': 0.25807920958663483, 'reg_lambda': 5.984268910668639}. Best is trial 44 with value: 4.630830728791615.\n",
      "[I 2025-07-24 18:30:08,060] Trial 89 finished with value: 4.6449553607008385 and parameters: {'n_estimators': 189, 'learning_rate': 0.0936191154916054, 'max_depth': 2, 'subsample': 0.927287020942402, 'colsample_bytree': 0.976903576715907, 'gamma': 2.562935647598576, 'reg_alpha': 0.33954616438328783, 'reg_lambda': 6.417584765127817}. Best is trial 44 with value: 4.630830728791615.\n",
      "[I 2025-07-24 18:30:08,418] Trial 90 finished with value: 5.000628437435668 and parameters: {'n_estimators': 199, 'learning_rate': 0.0726964499799078, 'max_depth': 1, 'subsample': 0.9571501881021589, 'colsample_bytree': 0.7000688353400224, 'gamma': 3.106961356246879, 'reg_alpha': 0.3083190164453126, 'reg_lambda': 7.229571907027634}. Best is trial 44 with value: 4.630830728791615.\n",
      "[I 2025-07-24 18:30:09,301] Trial 91 finished with value: 4.634450155093622 and parameters: {'n_estimators': 187, 'learning_rate': 0.08484067611623722, 'max_depth': 2, 'subsample': 0.9271781268168519, 'colsample_bytree': 0.976496587840991, 'gamma': 2.549089601879134, 'reg_alpha': 0.3304281462694134, 'reg_lambda': 6.386953861662432}. Best is trial 44 with value: 4.630830728791615.\n",
      "[I 2025-07-24 18:30:09,700] Trial 92 finished with value: 4.6410241695003025 and parameters: {'n_estimators': 183, 'learning_rate': 0.10003099008224411, 'max_depth': 2, 'subsample': 0.9047703209619644, 'colsample_bytree': 0.955163939117664, 'gamma': 2.752209584520908, 'reg_alpha': 0.2575131067496888, 'reg_lambda': 6.007315247443549}. Best is trial 44 with value: 4.630830728791615.\n",
      "[I 2025-07-24 18:30:10,040] Trial 93 finished with value: 4.6398648974051495 and parameters: {'n_estimators': 193, 'learning_rate': 0.08489493793847924, 'max_depth': 2, 'subsample': 0.9061359251501689, 'colsample_bytree': 0.9562977332039923, 'gamma': 2.722921254320461, 'reg_alpha': 0.397508968423979, 'reg_lambda': 5.818282330056698}. Best is trial 44 with value: 4.630830728791615.\n",
      "[I 2025-07-24 18:30:10,352] Trial 94 finished with value: 4.663263878457712 and parameters: {'n_estimators': 180, 'learning_rate': 0.06437599980108516, 'max_depth': 2, 'subsample': 0.904117420910294, 'colsample_bytree': 0.9900255417939181, 'gamma': 3.272594967963861, 'reg_alpha': 0.3969139097174449, 'reg_lambda': 6.909357529414965}. Best is trial 44 with value: 4.630830728791615.\n",
      "[I 2025-07-24 18:30:10,805] Trial 95 finished with value: 4.834950342596964 and parameters: {'n_estimators': 184, 'learning_rate': 0.08283407709099627, 'max_depth': 5, 'subsample': 0.8813703336135309, 'colsample_bytree': 0.9777110136859972, 'gamma': 2.825574826850828, 'reg_alpha': 0.2601797736756351, 'reg_lambda': 5.939225921457204}. Best is trial 44 with value: 4.630830728791615.\n",
      "[I 2025-07-24 18:30:11,077] Trial 96 finished with value: 4.634633941031045 and parameters: {'n_estimators': 187, 'learning_rate': 0.08743325790220463, 'max_depth': 2, 'subsample': 0.8989342231377766, 'colsample_bytree': 0.9707871671961881, 'gamma': 2.6864161942992597, 'reg_alpha': 0.4594501737683633, 'reg_lambda': 6.38404413111932}. Best is trial 44 with value: 4.630830728791615.\n",
      "[I 2025-07-24 18:30:11,371] Trial 97 finished with value: 4.642566972904596 and parameters: {'n_estimators': 194, 'learning_rate': 0.08532440631475618, 'max_depth': 2, 'subsample': 0.8680082769330477, 'colsample_bytree': 0.9688946505442008, 'gamma': 2.6520000673559263, 'reg_alpha': 0.5020776903078296, 'reg_lambda': 6.559576909343775}. Best is trial 44 with value: 4.630830728791615.\n",
      "[I 2025-07-24 18:30:11,708] Trial 98 finished with value: 4.719301229021816 and parameters: {'n_estimators': 194, 'learning_rate': 0.0760863447122484, 'max_depth': 3, 'subsample': 0.8959962424221318, 'colsample_bytree': 0.9568278219438351, 'gamma': 2.9801097837656965, 'reg_alpha': 0.45230143824071734, 'reg_lambda': 6.279974011986796}. Best is trial 44 with value: 4.630830728791615.\n",
      "[I 2025-07-24 18:30:11,966] Trial 99 finished with value: 4.8993666227081105 and parameters: {'n_estimators': 183, 'learning_rate': 0.09957031556332122, 'max_depth': 1, 'subsample': 0.9360800253919307, 'colsample_bytree': 0.9847404609548119, 'gamma': 3.1426847343766537, 'reg_alpha': 0.3962588946060115, 'reg_lambda': 6.872643758035338}. Best is trial 44 with value: 4.630830728791615.\n",
      "[I 2025-07-24 18:30:12,402] Trial 100 finished with value: 4.902951162520058 and parameters: {'n_estimators': 189, 'learning_rate': 0.08590239024169634, 'max_depth': 6, 'subsample': 0.9201054477535511, 'colsample_bytree': 0.9993469704912449, 'gamma': 2.707483305300797, 'reg_alpha': 0.3783545992828655, 'reg_lambda': 5.875343849403003}. Best is trial 44 with value: 4.630830728791615.\n",
      "[I 2025-07-24 18:30:12,663] Trial 101 finished with value: 4.6442279441630125 and parameters: {'n_estimators': 177, 'learning_rate': 0.08921680254982944, 'max_depth': 2, 'subsample': 0.9070790944683795, 'colsample_bytree': 0.9755869849443667, 'gamma': 2.8716124933646876, 'reg_alpha': 0.3409853666500457, 'reg_lambda': 7.881418876354209}. Best is trial 44 with value: 4.630830728791615.\n",
      "[I 2025-07-24 18:30:12,948] Trial 102 finished with value: 6.1594095207664985 and parameters: {'n_estimators': 194, 'learning_rate': 0.11141828459398281, 'max_depth': 2, 'subsample': 0.5263433104157412, 'colsample_bytree': 0.6386972611506598, 'gamma': 1.5382364379305509, 'reg_alpha': 0.43550030129680056, 'reg_lambda': 6.15494462628637}. Best is trial 44 with value: 4.630830728791615.\n",
      "[I 2025-07-24 18:30:13,221] Trial 103 finished with value: 4.646762604559464 and parameters: {'n_estimators': 187, 'learning_rate': 0.07649605502918425, 'max_depth': 2, 'subsample': 0.8922845210834738, 'colsample_bytree': 0.9630026243675718, 'gamma': 2.3608052294754276, 'reg_alpha': 0.3192286272529073, 'reg_lambda': 7.181274269367372}. Best is trial 44 with value: 4.630830728791615.\n",
      "[I 2025-07-24 18:30:13,498] Trial 104 finished with value: 4.65633740662116 and parameters: {'n_estimators': 198, 'learning_rate': 0.1051696207366544, 'max_depth': 2, 'subsample': 0.9632580547399042, 'colsample_bytree': 0.9492802734057667, 'gamma': 2.7189850789619485, 'reg_alpha': 0.4694866661149707, 'reg_lambda': 5.765002682923121}. Best is trial 44 with value: 4.630830728791615.\n",
      "[I 2025-07-24 18:30:13,778] Trial 105 finished with value: 4.714266274922891 and parameters: {'n_estimators': 192, 'learning_rate': 0.06366888076306004, 'max_depth': 2, 'subsample': 0.9475276407627851, 'colsample_bytree': 0.992933850571173, 'gamma': 1.439576209880342, 'reg_alpha': 0.9989664786539675, 'reg_lambda': 6.63643854762602}. Best is trial 44 with value: 4.630830728791615.\n",
      "[I 2025-07-24 18:30:14,038] Trial 106 finished with value: 4.646714930215561 and parameters: {'n_estimators': 180, 'learning_rate': 0.09088771563220582, 'max_depth': 2, 'subsample': 0.9131849199839727, 'colsample_bytree': 0.9711229648514708, 'gamma': 2.479862194733694, 'reg_alpha': 0.2318972617482532, 'reg_lambda': 6.287066614444852}. Best is trial 44 with value: 4.630830728791615.\n",
      "[I 2025-07-24 18:30:14,287] Trial 107 finished with value: 4.64338131983532 and parameters: {'n_estimators': 166, 'learning_rate': 0.10084081985907692, 'max_depth': 2, 'subsample': 0.9911668156962133, 'colsample_bytree': 0.9335168352551525, 'gamma': 1.9020483132466142, 'reg_alpha': 0.5357228288756268, 'reg_lambda': 5.34648393136495}. Best is trial 44 with value: 4.630830728791615.\n",
      "[I 2025-07-24 18:30:14,591] Trial 108 finished with value: 4.792596633375024 and parameters: {'n_estimators': 197, 'learning_rate': 0.10940540329469306, 'max_depth': 3, 'subsample': 0.9372033434525858, 'colsample_bytree': 0.957751879552963, 'gamma': 3.4886400338079424, 'reg_alpha': 0.2724678160167995, 'reg_lambda': 6.5289205748058246}. Best is trial 44 with value: 4.630830728791615.\n",
      "[I 2025-07-24 18:30:14,863] Trial 109 finished with value: 4.664681378353198 and parameters: {'n_estimators': 183, 'learning_rate': 0.07971502852507573, 'max_depth': 2, 'subsample': 0.6712685690427601, 'colsample_bytree': 0.9837315863918372, 'gamma': 1.7141829800803117, 'reg_alpha': 0.41434408942833006, 'reg_lambda': 5.727103088713129}. Best is trial 44 with value: 4.630830728791615.\n",
      "[I 2025-07-24 18:30:15,037] Trial 110 finished with value: 5.269421246694599 and parameters: {'n_estimators': 80, 'learning_rate': 0.07113282021845305, 'max_depth': 1, 'subsample': 0.9028947803580595, 'colsample_bytree': 0.9489278704069315, 'gamma': 2.028984247912751, 'reg_alpha': 0.7099203189337524, 'reg_lambda': 4.934097159262695}. Best is trial 44 with value: 4.630830728791615.\n",
      "[I 2025-07-24 18:30:15,325] Trial 111 finished with value: 4.639405785463339 and parameters: {'n_estimators': 195, 'learning_rate': 0.0977218320490973, 'max_depth': 2, 'subsample': 0.8820603826552672, 'colsample_bytree': 0.9669860325465673, 'gamma': 2.6302736876259343, 'reg_alpha': 0.5952429006411049, 'reg_lambda': 6.685244988346278}. Best is trial 44 with value: 4.630830728791615.\n",
      "[I 2025-07-24 18:30:15,635] Trial 112 finished with value: 4.648481143298213 and parameters: {'n_estimators': 186, 'learning_rate': 0.09576680847274377, 'max_depth': 2, 'subsample': 0.8817784744703517, 'colsample_bytree': 0.9761995573951566, 'gamma': 2.9075828974663738, 'reg_alpha': 0.6025169785378094, 'reg_lambda': 6.8002336862594275}. Best is trial 44 with value: 4.630830728791615.\n",
      "[I 2025-07-24 18:30:15,952] Trial 113 finished with value: 4.658515007257351 and parameters: {'n_estimators': 192, 'learning_rate': 0.1186160206236448, 'max_depth': 2, 'subsample': 0.8582967109751624, 'colsample_bytree': 0.9660642942309173, 'gamma': 2.292538442320353, 'reg_alpha': 0.8037153970042974, 'reg_lambda': 6.148226393761943}. Best is trial 44 with value: 4.630830728791615.\n",
      "[I 2025-07-24 18:30:16,198] Trial 114 finished with value: 4.816750266634215 and parameters: {'n_estimators': 109, 'learning_rate': 0.09946234248674476, 'max_depth': 2, 'subsample': 0.8442698140055371, 'colsample_bytree': 0.9160418261530177, 'gamma': 2.592109027284465, 'reg_alpha': 0.958220401023461, 'reg_lambda': 7.783464980236759}. Best is trial 44 with value: 4.630830728791615.\n",
      "[I 2025-07-24 18:30:16,486] Trial 115 finished with value: 4.688139349808371 and parameters: {'n_estimators': 197, 'learning_rate': 0.05535648788053141, 'max_depth': 2, 'subsample': 0.9159769882743937, 'colsample_bytree': 0.9594510500976164, 'gamma': 3.01787337258763, 'reg_alpha': 0.36812966666818703, 'reg_lambda': 7.338220489103901}. Best is trial 44 with value: 4.630830728791615.\n",
      "[I 2025-07-24 18:30:16,751] Trial 116 finished with value: 4.663275409495143 and parameters: {'n_estimators': 176, 'learning_rate': 0.10749734161511589, 'max_depth': 2, 'subsample': 0.8931699257243095, 'colsample_bytree': 0.9429080447705602, 'gamma': 2.639663453559973, 'reg_alpha': 0.7485159828494983, 'reg_lambda': 6.384617626124564}. Best is trial 44 with value: 4.630830728791615.\n",
      "[I 2025-07-24 18:30:17,027] Trial 117 finished with value: 4.763532371481092 and parameters: {'n_estimators': 185, 'learning_rate': 0.0869752029542675, 'max_depth': 2, 'subsample': 0.9524722529012201, 'colsample_bytree': 0.929804813387778, 'gamma': 1.1926183145943767, 'reg_alpha': 0.24920700445537214, 'reg_lambda': 7.033862101414336}. Best is trial 44 with value: 4.630830728791615.\n",
      "[I 2025-07-24 18:30:17,301] Trial 118 finished with value: 4.641560120103654 and parameters: {'n_estimators': 192, 'learning_rate': 0.11584024725666252, 'max_depth': 2, 'subsample': 0.9695835626350422, 'colsample_bytree': 0.9887406953844204, 'gamma': 1.3414878397877206, 'reg_alpha': 0.8676132970589022, 'reg_lambda': 6.716166511245264}. Best is trial 44 with value: 4.630830728791615.\n",
      "[I 2025-07-24 18:30:17,605] Trial 119 finished with value: 4.843698702666649 and parameters: {'n_estimators': 191, 'learning_rate': 0.18825959866507308, 'max_depth': 3, 'subsample': 0.98297014104933, 'colsample_bytree': 0.990889405845682, 'gamma': 1.3599175668767283, 'reg_alpha': 0.9057316615976239, 'reg_lambda': 6.69836281425794}. Best is trial 44 with value: 4.630830728791615.\n",
      "[I 2025-07-24 18:30:17,893] Trial 120 finished with value: 4.626596115077909 and parameters: {'n_estimators': 195, 'learning_rate': 0.11216922212348955, 'max_depth': 2, 'subsample': 0.968554138357236, 'colsample_bytree': 0.9730056311584748, 'gamma': 1.610605032172263, 'reg_alpha': 0.8559742344071557, 'reg_lambda': 5.374698300925881}. Best is trial 120 with value: 4.626596115077909.\n",
      "[I 2025-07-24 18:30:18,179] Trial 121 finished with value: 4.641092316890088 and parameters: {'n_estimators': 188, 'learning_rate': 0.11478346337055556, 'max_depth': 2, 'subsample': 0.967870985180187, 'colsample_bytree': 0.9816259630578773, 'gamma': 1.0548266199606464, 'reg_alpha': 0.4797877943655206, 'reg_lambda': 5.256302425006091}. Best is trial 120 with value: 4.626596115077909.\n",
      "[I 2025-07-24 18:30:18,476] Trial 122 finished with value: 4.769068133589129 and parameters: {'n_estimators': 189, 'learning_rate': 0.040299067584662486, 'max_depth': 2, 'subsample': 0.9639846833251103, 'colsample_bytree': 0.9771420163416709, 'gamma': 1.0022239714910637, 'reg_alpha': 0.472890940054698, 'reg_lambda': 5.45277172916879}. Best is trial 120 with value: 4.626596115077909.\n",
      "[I 2025-07-24 18:30:18,817] Trial 123 finished with value: 4.63012043700632 and parameters: {'n_estimators': 200, 'learning_rate': 0.1745930196822633, 'max_depth': 2, 'subsample': 0.982647538676688, 'colsample_bytree': 0.966112368279259, 'gamma': 0.8923577842902617, 'reg_alpha': 0.8266852047985697, 'reg_lambda': 5.766921252267436}. Best is trial 120 with value: 4.626596115077909.\n",
      "[I 2025-07-24 18:30:19,130] Trial 124 finished with value: 4.641166273285144 and parameters: {'n_estimators': 200, 'learning_rate': 0.20339565459338976, 'max_depth': 2, 'subsample': 0.9938132945760008, 'colsample_bytree': 0.9658042832507155, 'gamma': 1.6352422296544475, 'reg_alpha': 0.8098936663619372, 'reg_lambda': 5.796031127135475}. Best is trial 120 with value: 4.626596115077909.\n",
      "[I 2025-07-24 18:30:19,432] Trial 125 finished with value: 4.633142944913316 and parameters: {'n_estimators': 196, 'learning_rate': 0.080094851928219, 'max_depth': 2, 'subsample': 0.9827294649743281, 'colsample_bytree': 0.9550817868655425, 'gamma': 0.9007524002913834, 'reg_alpha': 0.8448649878197958, 'reg_lambda': 6.1031446149513435}. Best is trial 120 with value: 4.626596115077909.\n",
      "[I 2025-07-24 18:30:19,847] Trial 126 finished with value: 4.61966468383007 and parameters: {'n_estimators': 197, 'learning_rate': 0.17699411521727165, 'max_depth': 2, 'subsample': 0.9799640802905308, 'colsample_bytree': 0.965720961609569, 'gamma': 0.6871634503131501, 'reg_alpha': 0.8443928032155442, 'reg_lambda': 5.554271040838925}. Best is trial 126 with value: 4.61966468383007.\n",
      "[I 2025-07-24 18:30:20,216] Trial 127 finished with value: 4.643790877310596 and parameters: {'n_estimators': 200, 'learning_rate': 0.17755866307828957, 'max_depth': 2, 'subsample': 0.9823788156564255, 'colsample_bytree': 0.9710333195801528, 'gamma': 0.8812791347227245, 'reg_alpha': 0.8633543430183435, 'reg_lambda': 5.053194646614465}. Best is trial 126 with value: 4.61966468383007.\n",
      "[I 2025-07-24 18:30:20,663] Trial 128 finished with value: 4.631556093564374 and parameters: {'n_estimators': 196, 'learning_rate': 0.1691133880934833, 'max_depth': 2, 'subsample': 0.9774476744342724, 'colsample_bytree': 0.9646539545417686, 'gamma': 0.7003784850240643, 'reg_alpha': 0.8436793326439584, 'reg_lambda': 5.618647168153356}. Best is trial 126 with value: 4.61966468383007.\n",
      "[I 2025-07-24 18:30:20,927] Trial 129 finished with value: 4.916173561389684 and parameters: {'n_estimators': 89, 'learning_rate': 0.1738417415016196, 'max_depth': 1, 'subsample': 0.9772100631944676, 'colsample_bytree': 0.9988362308329042, 'gamma': 0.5626512975298459, 'reg_alpha': 0.8283164775953624, 'reg_lambda': 5.571754892964648}. Best is trial 126 with value: 4.61966468383007.\n",
      "[I 2025-07-24 18:30:21,368] Trial 130 finished with value: 4.650919933677604 and parameters: {'n_estimators': 196, 'learning_rate': 0.18034995449019095, 'max_depth': 2, 'subsample': 0.9969336945054507, 'colsample_bytree': 0.9414455748842199, 'gamma': 0.6753924233920008, 'reg_alpha': 0.7841854989079502, 'reg_lambda': 5.350091206846235}. Best is trial 126 with value: 4.61966468383007.\n",
      "[I 2025-07-24 18:30:21,798] Trial 131 finished with value: 4.647470352992748 and parameters: {'n_estimators': 196, 'learning_rate': 0.16760089471416756, 'max_depth': 2, 'subsample': 0.9853902758602114, 'colsample_bytree': 0.9649462792643032, 'gamma': 0.4732908405910457, 'reg_alpha': 0.8431874489740149, 'reg_lambda': 6.196284210339022}. Best is trial 126 with value: 4.61966468383007.\n",
      "[I 2025-07-24 18:30:22,162] Trial 132 finished with value: 4.657060844803649 and parameters: {'n_estimators': 195, 'learning_rate': 0.16166079775572467, 'max_depth': 2, 'subsample': 0.958369783552176, 'colsample_bytree': 0.950606459501952, 'gamma': 0.8564530876926001, 'reg_alpha': 0.9315246563015745, 'reg_lambda': 4.337504990151156}. Best is trial 126 with value: 4.61966468383007.\n",
      "[I 2025-07-24 18:30:22,513] Trial 133 finished with value: 4.77141718604302 and parameters: {'n_estimators': 200, 'learning_rate': 0.2677120279167341, 'max_depth': 2, 'subsample': 0.9446500394295296, 'colsample_bytree': 0.9849835606646246, 'gamma': 0.7196865232717615, 'reg_alpha': 0.8353042941411661, 'reg_lambda': 1.934046348099339}. Best is trial 126 with value: 4.61966468383007.\n",
      "[I 2025-07-24 18:30:22,794] Trial 134 finished with value: 4.632011721373659 and parameters: {'n_estimators': 190, 'learning_rate': 0.1906249871180395, 'max_depth': 2, 'subsample': 0.9748227622009424, 'colsample_bytree': 0.9723899886407369, 'gamma': 1.1303085658985748, 'reg_alpha': 0.7397115192365225, 'reg_lambda': 6.462912157077819}. Best is trial 126 with value: 4.61966468383007.\n",
      "[I 2025-07-24 18:30:23,058] Trial 135 finished with value: 4.906876196067284 and parameters: {'n_estimators': 119, 'learning_rate': 0.1984144304491854, 'max_depth': 4, 'subsample': 0.9758522559979239, 'colsample_bytree': 0.9749259775872569, 'gamma': 1.2005076587334966, 'reg_alpha': 0.7570491153302369, 'reg_lambda': 6.060790110181122}. Best is trial 126 with value: 4.61966468383007.\n",
      "[I 2025-07-24 18:30:23,339] Trial 136 finished with value: 4.625012022624984 and parameters: {'n_estimators': 190, 'learning_rate': 0.18987628328645517, 'max_depth': 2, 'subsample': 0.9903459719249665, 'colsample_bytree': 0.97947200971645, 'gamma': 0.4047036889349147, 'reg_alpha': 0.885038402650722, 'reg_lambda': 5.6194908591246095}. Best is trial 126 with value: 4.61966468383007.\n",
      "[I 2025-07-24 18:30:23,608] Trial 137 finished with value: 5.536954333797443 and parameters: {'n_estimators': 181, 'learning_rate': 0.19024678532957656, 'max_depth': 2, 'subsample': 0.998769583623484, 'colsample_bytree': 0.7945924343642624, 'gamma': 0.4114142157921532, 'reg_alpha': 0.8945763025373319, 'reg_lambda': 5.654593014209884}. Best is trial 126 with value: 4.61966468383007.\n",
      "[I 2025-07-24 18:30:23,888] Trial 138 finished with value: 4.71846892304564 and parameters: {'n_estimators': 188, 'learning_rate': 0.2172862884264164, 'max_depth': 2, 'subsample': 0.9873890454662987, 'colsample_bytree': 0.99269587076102, 'gamma': 0.9198127725689111, 'reg_alpha': 0.6600590301433071, 'reg_lambda': 1.1238519785365457}. Best is trial 126 with value: 4.61966468383007.\n",
      "[I 2025-07-24 18:30:24,054] Trial 139 finished with value: 4.691883573936539 and parameters: {'n_estimators': 57, 'learning_rate': 0.17275001774816923, 'max_depth': 2, 'subsample': 0.9722379357661585, 'colsample_bytree': 0.9827888210442786, 'gamma': 0.5932385706979086, 'reg_alpha': 0.7326579925402559, 'reg_lambda': 5.125979416124838}. Best is trial 126 with value: 4.61966468383007.\n",
      "[I 2025-07-24 18:30:24,371] Trial 140 finished with value: 4.646064620756858 and parameters: {'n_estimators': 191, 'learning_rate': 0.20508561030319922, 'max_depth': 2, 'subsample': 0.9539746039957439, 'colsample_bytree': 0.9617542346995084, 'gamma': 1.0803470727181628, 'reg_alpha': 0.8493285741516724, 'reg_lambda': 5.444197229412824}. Best is trial 126 with value: 4.61966468383007.\n",
      "[I 2025-07-24 18:30:24,696] Trial 141 finished with value: 4.628155961243405 and parameters: {'n_estimators': 186, 'learning_rate': 0.1862847138167968, 'max_depth': 2, 'subsample': 0.979494484573862, 'colsample_bytree': 0.973915922570429, 'gamma': 0.7721544900563111, 'reg_alpha': 0.7829365027764654, 'reg_lambda': 6.480971888185231}. Best is trial 126 with value: 4.61966468383007.\n",
      "[I 2025-07-24 18:30:25,052] Trial 142 finished with value: 4.629936267891396 and parameters: {'n_estimators': 187, 'learning_rate': 0.18597716118877677, 'max_depth': 2, 'subsample': 0.9888968191039742, 'colsample_bytree': 0.9510618867213376, 'gamma': 0.7796334179728067, 'reg_alpha': 0.7779093536779145, 'reg_lambda': 6.36264202514033}. Best is trial 126 with value: 4.61966468383007.\n",
      "[I 2025-07-24 18:30:25,366] Trial 143 finished with value: 4.617288546216578 and parameters: {'n_estimators': 186, 'learning_rate': 0.18641911039129222, 'max_depth': 2, 'subsample': 0.9853278105986991, 'colsample_bytree': 0.9739767500427543, 'gamma': 0.7404855232865196, 'reg_alpha': 0.7849075031250428, 'reg_lambda': 6.357343405463039}. Best is trial 143 with value: 4.617288546216578.\n",
      "[I 2025-07-24 18:30:25,653] Trial 144 finished with value: 4.620094029985779 and parameters: {'n_estimators': 185, 'learning_rate': 0.1867993874072873, 'max_depth': 2, 'subsample': 0.987241586972666, 'colsample_bytree': 0.9519515622276876, 'gamma': 0.7801988469687665, 'reg_alpha': 0.7771190188161856, 'reg_lambda': 6.41677638171133}. Best is trial 143 with value: 4.617288546216578.\n",
      "[I 2025-07-24 18:30:25,935] Trial 145 finished with value: 4.632933243060907 and parameters: {'n_estimators': 174, 'learning_rate': 0.19533441223437736, 'max_depth': 2, 'subsample': 0.9855042934935931, 'colsample_bytree': 0.9537940299878569, 'gamma': 0.8151704142240571, 'reg_alpha': 0.7807451256516329, 'reg_lambda': 6.50207090158014}. Best is trial 143 with value: 4.617288546216578.\n",
      "[I 2025-07-24 18:30:26,212] Trial 146 finished with value: 4.620688425609198 and parameters: {'n_estimators': 175, 'learning_rate': 0.18468728818539337, 'max_depth': 2, 'subsample': 0.9896440425180125, 'colsample_bytree': 0.9520014461418835, 'gamma': 0.5395475216160179, 'reg_alpha': 0.7849578516494755, 'reg_lambda': 6.396009490499926}. Best is trial 143 with value: 4.617288546216578.\n",
      "[I 2025-07-24 18:30:26,480] Trial 147 finished with value: 4.6397968681175294 and parameters: {'n_estimators': 174, 'learning_rate': 0.1860383220545138, 'max_depth': 2, 'subsample': 0.9885621033936394, 'colsample_bytree': 0.9537640935339206, 'gamma': 0.32131992780212293, 'reg_alpha': 0.7826500883137373, 'reg_lambda': 6.978660987135496}. Best is trial 143 with value: 4.617288546216578.\n",
      "[I 2025-07-24 18:30:26,788] Trial 148 finished with value: 5.02924423441497 and parameters: {'n_estimators': 169, 'learning_rate': 0.19552459529289912, 'max_depth': 3, 'subsample': 0.9658135478931501, 'colsample_bytree': 0.9366600332131304, 'gamma': 0.7941270826755866, 'reg_alpha': 0.7830452006862824, 'reg_lambda': 6.444482262325221}. Best is trial 143 with value: 4.617288546216578.\n",
      "[I 2025-07-24 18:30:27,068] Trial 149 finished with value: 4.642055931870002 and parameters: {'n_estimators': 180, 'learning_rate': 0.1833725658127953, 'max_depth': 2, 'subsample': 0.9829826131806201, 'colsample_bytree': 0.9498392458546558, 'gamma': 0.14771745518602158, 'reg_alpha': 0.8173896794884378, 'reg_lambda': 5.9441742812648375}. Best is trial 143 with value: 4.617288546216578.\n",
      "[I 2025-07-24 18:30:27,345] Trial 150 finished with value: 4.64205473206993 and parameters: {'n_estimators': 178, 'learning_rate': 0.19532652488446978, 'max_depth': 2, 'subsample': 0.9923288503133547, 'colsample_bytree': 0.9470680274166761, 'gamma': 0.5550327974200447, 'reg_alpha': 0.7433159266755448, 'reg_lambda': 6.155299795791019}. Best is trial 143 with value: 4.617288546216578.\n",
      "[I 2025-07-24 18:30:27,632] Trial 151 finished with value: 4.627000236535931 and parameters: {'n_estimators': 185, 'learning_rate': 0.19072709367023138, 'max_depth': 2, 'subsample': 0.9765234214673596, 'colsample_bytree': 0.9610210678146931, 'gamma': 0.7192242559806898, 'reg_alpha': 0.7741570007568054, 'reg_lambda': 6.347349662174187}. Best is trial 143 with value: 4.617288546216578.\n",
      "[I 2025-07-24 18:30:28,023] Trial 152 finished with value: 4.628482546109706 and parameters: {'n_estimators': 183, 'learning_rate': 0.1902965838946975, 'max_depth': 2, 'subsample': 0.9775071128253855, 'colsample_bytree': 0.9621483444896469, 'gamma': 0.6992981546414117, 'reg_alpha': 0.722454581609461, 'reg_lambda': 6.577850230250311}. Best is trial 143 with value: 4.617288546216578.\n",
      "[I 2025-07-24 18:30:28,443] Trial 153 finished with value: 4.627892318791967 and parameters: {'n_estimators': 183, 'learning_rate': 0.19009305964059917, 'max_depth': 2, 'subsample': 0.9706023580419605, 'colsample_bytree': 0.9614244389675316, 'gamma': 0.6674089617652429, 'reg_alpha': 0.7739082849472346, 'reg_lambda': 6.527724255731766}. Best is trial 143 with value: 4.617288546216578.\n",
      "[I 2025-07-24 18:30:28,747] Trial 154 finished with value: 4.630309088882648 and parameters: {'n_estimators': 183, 'learning_rate': 0.19030395181280524, 'max_depth': 2, 'subsample': 0.9701387721089256, 'colsample_bytree': 0.961154780149212, 'gamma': 0.6896849307655327, 'reg_alpha': 0.7667103219579224, 'reg_lambda': 6.513594432924819}. Best is trial 143 with value: 4.617288546216578.\n",
      "[I 2025-07-24 18:30:29,047] Trial 155 finished with value: 4.643965920600586 and parameters: {'n_estimators': 184, 'learning_rate': 0.17681520226375322, 'max_depth': 2, 'subsample': 0.9706510723650515, 'colsample_bytree': 0.9619096363819162, 'gamma': 0.6611946118964311, 'reg_alpha': 0.7228936491463641, 'reg_lambda': 6.305231469312323}. Best is trial 143 with value: 4.617288546216578.\n",
      "[I 2025-07-24 18:30:29,329] Trial 156 finished with value: 4.6362696633762175 and parameters: {'n_estimators': 182, 'learning_rate': 0.20875176872614315, 'max_depth': 2, 'subsample': 0.9610728238288974, 'colsample_bytree': 0.9680293199375919, 'gamma': 0.4717539764908334, 'reg_alpha': 0.6816831277804789, 'reg_lambda': 6.9537706543814295}. Best is trial 143 with value: 4.617288546216578.\n",
      "[I 2025-07-24 18:30:29,635] Trial 157 finished with value: 5.219679609127469 and parameters: {'n_estimators': 186, 'learning_rate': 0.1886459190627891, 'max_depth': 2, 'subsample': 0.9758038979571991, 'colsample_bytree': 0.7528586922060552, 'gamma': 0.7173082378502142, 'reg_alpha': 0.7621170783420104, 'reg_lambda': 6.634989086267095}. Best is trial 143 with value: 4.617288546216578.\n",
      "[I 2025-07-24 18:30:29,991] Trial 158 finished with value: 4.639225952273647 and parameters: {'n_estimators': 177, 'learning_rate': 0.1858241136033347, 'max_depth': 2, 'subsample': 0.9985045317371911, 'colsample_bytree': 0.9607893734495807, 'gamma': 0.6216669624682298, 'reg_alpha': 0.8005329045657565, 'reg_lambda': 7.407217887532939}. Best is trial 143 with value: 4.617288546216578.\n",
      "[I 2025-07-24 18:30:30,366] Trial 159 finished with value: 4.6520796313438835 and parameters: {'n_estimators': 190, 'learning_rate': 0.18176886816548898, 'max_depth': 2, 'subsample': 0.9513920357673513, 'colsample_bytree': 0.9801717449487704, 'gamma': 0.37262805071752375, 'reg_alpha': 0.7732942500052691, 'reg_lambda': 5.822802953628969}. Best is trial 143 with value: 4.617288546216578.\n",
      "[I 2025-07-24 18:30:30,682] Trial 160 finished with value: 4.878733171524563 and parameters: {'n_estimators': 185, 'learning_rate': 0.20092324230411637, 'max_depth': 2, 'subsample': 0.6150986544851649, 'colsample_bytree': 0.9428069101223155, 'gamma': 0.5256666507383723, 'reg_alpha': 0.8796008606182533, 'reg_lambda': 7.132826058039502}. Best is trial 143 with value: 4.617288546216578.\n",
      "[I 2025-07-24 18:30:31,326] Trial 161 finished with value: 4.622963083670647 and parameters: {'n_estimators': 175, 'learning_rate': 0.19312320269000138, 'max_depth': 2, 'subsample': 0.9892531144456935, 'colsample_bytree': 0.9715752295065063, 'gamma': 0.7921969802893795, 'reg_alpha': 0.7933973854929254, 'reg_lambda': 6.391841470927587}. Best is trial 143 with value: 4.617288546216578.\n",
      "[I 2025-07-24 18:30:31,657] Trial 162 finished with value: 4.6360861544191225 and parameters: {'n_estimators': 180, 'learning_rate': 0.17169534431856745, 'max_depth': 2, 'subsample': 0.9683460656944539, 'colsample_bytree': 0.9689869623078785, 'gamma': 0.7542510833798715, 'reg_alpha': 0.8006341600986593, 'reg_lambda': 6.59403517796178}. Best is trial 143 with value: 4.617288546216578.\n",
      "[I 2025-07-24 18:30:32,015] Trial 163 finished with value: 4.6412116096094165 and parameters: {'n_estimators': 169, 'learning_rate': 0.1933637842792073, 'max_depth': 2, 'subsample': 0.9997767361693507, 'colsample_bytree': 0.9736555555185027, 'gamma': 0.9991412310456944, 'reg_alpha': 0.7238690704677276, 'reg_lambda': 6.850015436243778}. Best is trial 143 with value: 4.617288546216578.\n",
      "[I 2025-07-24 18:30:32,457] Trial 164 finished with value: 4.634167938483087 and parameters: {'n_estimators': 192, 'learning_rate': 0.17812860375933284, 'max_depth': 2, 'subsample': 0.9774626974499633, 'colsample_bytree': 0.9622595814187254, 'gamma': 0.6487317829546095, 'reg_alpha': 0.8172312719752924, 'reg_lambda': 6.230728521355226}. Best is trial 143 with value: 4.617288546216578.\n",
      "[I 2025-07-24 18:30:32,865] Trial 165 finished with value: 4.650905605129338 and parameters: {'n_estimators': 183, 'learning_rate': 0.21556522985302595, 'max_depth': 2, 'subsample': 0.9606479111966345, 'colsample_bytree': 0.9868558324973069, 'gamma': 0.8070681158774821, 'reg_alpha': 0.7460633795760732, 'reg_lambda': 6.358741141522409}. Best is trial 143 with value: 4.617288546216578.\n",
      "[I 2025-07-24 18:30:33,329] Trial 166 finished with value: 4.634739628725407 and parameters: {'n_estimators': 188, 'learning_rate': 0.19044710538886223, 'max_depth': 2, 'subsample': 0.989526681534766, 'colsample_bytree': 0.9583927405378341, 'gamma': 0.41872352935741997, 'reg_alpha': 0.8568596255907963, 'reg_lambda': 5.926003618522455}. Best is trial 143 with value: 4.617288546216578.\n",
      "[I 2025-07-24 18:30:33,875] Trial 167 finished with value: 4.646914652331987 and parameters: {'n_estimators': 179, 'learning_rate': 0.20399259715577825, 'max_depth': 2, 'subsample': 0.9675894692690504, 'colsample_bytree': 0.9802683894593626, 'gamma': 0.9352230450087985, 'reg_alpha': 0.6817821111266826, 'reg_lambda': 5.619363738085769}. Best is trial 143 with value: 4.617288546216578.\n",
      "[I 2025-07-24 18:30:34,451] Trial 168 finished with value: 4.6473495902351365 and parameters: {'n_estimators': 185, 'learning_rate': 0.18187039686667972, 'max_depth': 2, 'subsample': 0.9766886950511116, 'colsample_bytree': 0.9354646638248226, 'gamma': 0.7219640353210853, 'reg_alpha': 0.9204647219998776, 'reg_lambda': 9.252722991690943}. Best is trial 143 with value: 4.617288546216578.\n",
      "[I 2025-07-24 18:30:34,826] Trial 169 finished with value: 4.656832966466261 and parameters: {'n_estimators': 176, 'learning_rate': 0.1663042366343003, 'max_depth': 2, 'subsample': 0.9910159069848409, 'colsample_bytree': 0.9726027509870638, 'gamma': 0.8452774721175161, 'reg_alpha': 0.791436620533368, 'reg_lambda': 6.531559629973967}. Best is trial 143 with value: 4.617288546216578.\n",
      "[I 2025-07-24 18:30:35,198] Trial 170 finished with value: 4.656075853155315 and parameters: {'n_estimators': 193, 'learning_rate': 0.18837130368481578, 'max_depth': 2, 'subsample': 0.9558392724914689, 'colsample_bytree': 0.9551842875249293, 'gamma': 0.22551846610103, 'reg_alpha': 0.7629883516054398, 'reg_lambda': 6.736869738289369}. Best is trial 143 with value: 4.617288546216578.\n",
      "[I 2025-07-24 18:30:35,566] Trial 171 finished with value: 4.6376603289479545 and parameters: {'n_estimators': 172, 'learning_rate': 0.19597725404069327, 'max_depth': 2, 'subsample': 0.989038904999928, 'colsample_bytree': 0.9498987441458205, 'gamma': 0.5666861148253559, 'reg_alpha': 0.8269781653792787, 'reg_lambda': 6.410326676777504}. Best is trial 143 with value: 4.617288546216578.\n",
      "[I 2025-07-24 18:30:35,935] Trial 172 finished with value: 4.631302773051773 and parameters: {'n_estimators': 190, 'learning_rate': 0.19910343178251316, 'max_depth': 2, 'subsample': 0.9825642693732323, 'colsample_bytree': 0.9682003972224796, 'gamma': 0.7864752915995903, 'reg_alpha': 0.7731359434066223, 'reg_lambda': 6.496073060747906}. Best is trial 143 with value: 4.617288546216578.\n",
      "[I 2025-07-24 18:30:36,240] Trial 173 finished with value: 5.103748946308385 and parameters: {'n_estimators': 191, 'learning_rate': 0.2097656568730577, 'max_depth': 2, 'subsample': 0.9795915138678368, 'colsample_bytree': 0.732173020964708, 'gamma': 0.6879760648947124, 'reg_alpha': 0.7684007870940686, 'reg_lambda': 6.097754093243805}. Best is trial 143 with value: 4.617288546216578.\n",
      "[I 2025-07-24 18:30:36,660] Trial 174 finished with value: 4.634610528179401 and parameters: {'n_estimators': 198, 'learning_rate': 0.17311473916265063, 'max_depth': 2, 'subsample': 0.9999970277867309, 'colsample_bytree': 0.9683325342228274, 'gamma': 0.5129560143559566, 'reg_alpha': 0.7130939223242606, 'reg_lambda': 6.82702618243373}. Best is trial 143 with value: 4.617288546216578.\n",
      "[I 2025-07-24 18:30:36,998] Trial 175 finished with value: 4.6427090671957005 and parameters: {'n_estimators': 189, 'learning_rate': 0.18455460762533152, 'max_depth': 2, 'subsample': 0.9688946288458934, 'colsample_bytree': 0.9807022423613765, 'gamma': 0.9861641769459503, 'reg_alpha': 0.7354879459746135, 'reg_lambda': 6.2260917823054776}. Best is trial 143 with value: 4.617288546216578.\n",
      "[I 2025-07-24 18:30:37,308] Trial 176 finished with value: 4.6314080600256 and parameters: {'n_estimators': 182, 'learning_rate': 0.2002780409200101, 'max_depth': 2, 'subsample': 0.9793304353900927, 'colsample_bytree': 0.9633435180184207, 'gamma': 1.126220850403779, 'reg_alpha': 0.8018089769149652, 'reg_lambda': 5.743141290127646}. Best is trial 143 with value: 4.617288546216578.\n",
      "[I 2025-07-24 18:30:37,626] Trial 177 finished with value: 4.655989516637473 and parameters: {'n_estimators': 182, 'learning_rate': 0.22539642237818017, 'max_depth': 2, 'subsample': 0.9448711829098069, 'colsample_bytree': 0.9453280456020798, 'gamma': 0.8009862887826044, 'reg_alpha': 0.8291504263333942, 'reg_lambda': 5.779678815704463}. Best is trial 143 with value: 4.617288546216578.\n",
      "[I 2025-07-24 18:30:37,925] Trial 178 finished with value: 4.635346779271093 and parameters: {'n_estimators': 186, 'learning_rate': 0.20168825565257772, 'max_depth': 2, 'subsample': 0.9837259688526, 'colsample_bytree': 0.958313714979868, 'gamma': 0.8980156717487413, 'reg_alpha': 0.8008906451187645, 'reg_lambda': 5.336774470942881}. Best is trial 143 with value: 4.617288546216578.\n",
      "[I 2025-07-24 18:30:38,393] Trial 179 finished with value: 4.641902102486928 and parameters: {'n_estimators': 182, 'learning_rate': 0.177176673578436, 'max_depth': 2, 'subsample': 0.964215349875165, 'colsample_bytree': 0.965659495849481, 'gamma': 0.6220567686390189, 'reg_alpha': 0.8203440678283613, 'reg_lambda': 5.4878086605338465}. Best is trial 143 with value: 4.617288546216578.\n",
      "[I 2025-07-24 18:30:38,742] Trial 180 finished with value: 4.632196753650464 and parameters: {'n_estimators': 178, 'learning_rate': 0.19878718461413794, 'max_depth': 2, 'subsample': 0.9888934368661112, 'colsample_bytree': 0.9907006560104006, 'gamma': 0.3142724593804559, 'reg_alpha': 0.8774534752301799, 'reg_lambda': 6.027461419882308}. Best is trial 143 with value: 4.617288546216578.\n",
      "[I 2025-07-24 18:30:39,062] Trial 181 finished with value: 4.635764632132159 and parameters: {'n_estimators': 194, 'learning_rate': 0.18996236264115768, 'max_depth': 2, 'subsample': 0.9760610040664202, 'colsample_bytree': 0.9741726254217347, 'gamma': 1.0798129691871114, 'reg_alpha': 0.7594692868094757, 'reg_lambda': 6.517022373856378}. Best is trial 143 with value: 4.617288546216578.\n",
      "[I 2025-07-24 18:30:39,348] Trial 182 finished with value: 4.629869254157779 and parameters: {'n_estimators': 188, 'learning_rate': 0.19241363514163226, 'max_depth': 2, 'subsample': 0.975963521784159, 'colsample_bytree': 0.9639165645710913, 'gamma': 0.7406358195344309, 'reg_alpha': 0.785181275796277, 'reg_lambda': 5.695477345237427}. Best is trial 143 with value: 4.617288546216578.\n",
      "[I 2025-07-24 18:30:39,631] Trial 183 finished with value: 4.642153591154597 and parameters: {'n_estimators': 186, 'learning_rate': 0.18429993666837563, 'max_depth': 2, 'subsample': 0.9815085535583359, 'colsample_bytree': 0.9600396608341899, 'gamma': 0.7457930321228547, 'reg_alpha': 0.7885290519557013, 'reg_lambda': 5.721381703051202}. Best is trial 143 with value: 4.617288546216578.\n",
      "[I 2025-07-24 18:30:39,929] Trial 184 finished with value: 4.645381375293105 and parameters: {'n_estimators': 196, 'learning_rate': 0.2056413572355124, 'max_depth': 2, 'subsample': 0.9583358489433759, 'colsample_bytree': 0.9501975603526699, 'gamma': 0.49132588942790384, 'reg_alpha': 0.8531016058182341, 'reg_lambda': 5.183925478428593}. Best is trial 143 with value: 4.617288546216578.\n",
      "[I 2025-07-24 18:30:40,218] Trial 185 finished with value: 4.632555834339427 and parameters: {'n_estimators': 184, 'learning_rate': 0.17774918315792412, 'max_depth': 2, 'subsample': 0.9915954898609702, 'colsample_bytree': 0.9645100513227438, 'gamma': 0.6362464829591437, 'reg_alpha': 0.8070915879813413, 'reg_lambda': 5.921689026295175}. Best is trial 143 with value: 4.617288546216578.\n",
      "[I 2025-07-24 18:30:40,504] Trial 186 finished with value: 4.629296151121618 and parameters: {'n_estimators': 188, 'learning_rate': 0.16987040855600122, 'max_depth': 2, 'subsample': 0.9704576337512153, 'colsample_bytree': 0.9832636798772049, 'gamma': 0.9094424511901266, 'reg_alpha': 0.7668247126207718, 'reg_lambda': 6.204771427506546}. Best is trial 143 with value: 4.617288546216578.\n",
      "[I 2025-07-24 18:30:40,775] Trial 187 finished with value: 4.6346806279993435 and parameters: {'n_estimators': 188, 'learning_rate': 0.19305298368774879, 'max_depth': 2, 'subsample': 0.9647563687967523, 'colsample_bytree': 0.9831782461335886, 'gamma': 0.8988037930669383, 'reg_alpha': 0.7756843276732347, 'reg_lambda': 6.250344530292466}. Best is trial 143 with value: 4.617288546216578.\n",
      "[I 2025-07-24 18:30:41,037] Trial 188 finished with value: 4.6589575550827576 and parameters: {'n_estimators': 181, 'learning_rate': 0.19761778234004937, 'max_depth': 2, 'subsample': 0.952588805674346, 'colsample_bytree': 0.974426741990384, 'gamma': 0.7946335894937004, 'reg_alpha': 0.6991478182942636, 'reg_lambda': 6.737811518999333}. Best is trial 143 with value: 4.617288546216578.\n",
      "[I 2025-07-24 18:30:41,300] Trial 189 finished with value: 4.652486703213288 and parameters: {'n_estimators': 175, 'learning_rate': 0.18146452559907192, 'max_depth': 2, 'subsample': 0.9689092133970367, 'colsample_bytree': 0.9876815597213207, 'gamma': 0.9993516813506494, 'reg_alpha': 0.7510626301025558, 'reg_lambda': 6.099585857243803}. Best is trial 143 with value: 4.617288546216578.\n",
      "[I 2025-07-24 18:30:41,552] Trial 190 finished with value: 4.921753024779015 and parameters: {'n_estimators': 192, 'learning_rate': 0.21187516400653295, 'max_depth': 1, 'subsample': 0.9823715991996339, 'colsample_bytree': 0.9274754730076189, 'gamma': 0.8843765844164573, 'reg_alpha': 0.7895976347701569, 'reg_lambda': 6.3494284775548016}. Best is trial 143 with value: 4.617288546216578.\n",
      "[I 2025-07-24 18:30:41,830] Trial 191 finished with value: 4.6275138770097675 and parameters: {'n_estimators': 188, 'learning_rate': 0.17087936988284685, 'max_depth': 2, 'subsample': 0.9753081873358032, 'colsample_bytree': 0.9662191518810995, 'gamma': 0.5789393462980954, 'reg_alpha': 0.8259378726500769, 'reg_lambda': 5.593402794900447}. Best is trial 143 with value: 4.617288546216578.\n",
      "[I 2025-07-24 18:30:42,109] Trial 192 finished with value: 4.647739610093167 and parameters: {'n_estimators': 186, 'learning_rate': 0.16194615081579716, 'max_depth': 2, 'subsample': 0.9996526435572279, 'colsample_bytree': 0.9706698366542136, 'gamma': 0.5930424872079096, 'reg_alpha': 0.8159891654484502, 'reg_lambda': 5.84930876776681}. Best is trial 143 with value: 4.617288546216578.\n",
      "[I 2025-07-24 18:30:42,408] Trial 193 finished with value: 4.648244531129257 and parameters: {'n_estimators': 188, 'learning_rate': 0.18849196954220626, 'max_depth': 2, 'subsample': 0.9738051164437288, 'colsample_bytree': 0.9547858202965955, 'gamma': 0.4312949715801755, 'reg_alpha': 0.7771638815860705, 'reg_lambda': 5.501609982824912}. Best is trial 143 with value: 4.617288546216578.\n",
      "[I 2025-07-24 18:30:42,680] Trial 194 finished with value: 4.640209264570379 and parameters: {'n_estimators': 183, 'learning_rate': 0.17315197677673733, 'max_depth': 2, 'subsample': 0.9879868535171095, 'colsample_bytree': 0.9805975999958937, 'gamma': 3.980746590190897, 'reg_alpha': 0.8019604998969353, 'reg_lambda': 6.03238301304598}. Best is trial 143 with value: 4.617288546216578.\n",
      "[I 2025-07-24 18:30:42,954] Trial 195 finished with value: 4.6494448253688345 and parameters: {'n_estimators': 190, 'learning_rate': 0.18155395550156994, 'max_depth': 2, 'subsample': 0.9608292889426834, 'colsample_bytree': 0.942195817798229, 'gamma': 0.6915027462462593, 'reg_alpha': 0.8365974516170565, 'reg_lambda': 4.977099989154438}. Best is trial 143 with value: 4.617288546216578.\n",
      "[I 2025-07-24 18:30:43,228] Trial 196 finished with value: 4.634854947092286 and parameters: {'n_estimators': 180, 'learning_rate': 0.19917492383592472, 'max_depth': 2, 'subsample': 0.98208981207263, 'colsample_bytree': 0.9624414894939586, 'gamma': 0.7952375202574719, 'reg_alpha': 0.7676327504878002, 'reg_lambda': 6.571166341142126}. Best is trial 143 with value: 4.617288546216578.\n",
      "[I 2025-07-24 18:30:43,499] Trial 197 finished with value: 4.653485120135138 and parameters: {'n_estimators': 184, 'learning_rate': 0.19245927777506416, 'max_depth': 2, 'subsample': 0.9436830682996504, 'colsample_bytree': 0.9779080633497177, 'gamma': 0.5650477577725799, 'reg_alpha': 0.7553766831946523, 'reg_lambda': 5.6978799686806605}. Best is trial 143 with value: 4.617288546216578.\n",
      "[I 2025-07-24 18:30:43,790] Trial 198 finished with value: 4.6369561209582715 and parameters: {'n_estimators': 193, 'learning_rate': 0.16703982098754463, 'max_depth': 2, 'subsample': 0.9710866174593725, 'colsample_bytree': 0.9942862339527758, 'gamma': 0.9648162252320841, 'reg_alpha': 0.82423800248222, 'reg_lambda': 6.31602646642664}. Best is trial 143 with value: 4.617288546216578.\n",
      "[I 2025-07-24 18:30:44,057] Trial 199 finished with value: 4.634872431653805 and parameters: {'n_estimators': 179, 'learning_rate': 0.18549490735016164, 'max_depth': 2, 'subsample': 0.9921114226387696, 'colsample_bytree': 0.9515288965260673, 'gamma': 0.7557680820576178, 'reg_alpha': 0.7927122471289472, 'reg_lambda': 7.05644102363873}. Best is trial 143 with value: 4.617288546216578.\n",
      "[I 2025-07-24 18:30:44,456] Trial 200 finished with value: 5.062833824271342 and parameters: {'n_estimators': 187, 'learning_rate': 0.1765664487154271, 'max_depth': 6, 'subsample': 0.9559215325007399, 'colsample_bytree': 0.9695060013496135, 'gamma': 1.2559345307770133, 'reg_alpha': 0.8778593577564174, 'reg_lambda': 6.190920329896334}. Best is trial 143 with value: 4.617288546216578.\n",
      "[I 2025-07-24 18:30:44,763] Trial 201 finished with value: 4.638218640330298 and parameters: {'n_estimators': 198, 'learning_rate': 0.1715900943509288, 'max_depth': 2, 'subsample': 0.975835229475772, 'colsample_bytree': 0.9648557424562814, 'gamma': 0.8434661199859377, 'reg_alpha': 0.8464182770201257, 'reg_lambda': 5.349100654291954}. Best is trial 143 with value: 4.617288546216578.\n",
      "[I 2025-07-24 18:30:45,037] Trial 202 finished with value: 4.6405585523410835 and parameters: {'n_estimators': 193, 'learning_rate': 0.16757884918928498, 'max_depth': 2, 'subsample': 0.9834637362734207, 'colsample_bytree': 0.9619624548416997, 'gamma': 0.6827578245475866, 'reg_alpha': 0.8073857008948616, 'reg_lambda': 5.6396714133252805}. Best is trial 143 with value: 4.617288546216578.\n",
      "[I 2025-07-24 18:30:45,309] Trial 203 finished with value: 4.653020063257164 and parameters: {'n_estimators': 195, 'learning_rate': 0.18621065380477952, 'max_depth': 2, 'subsample': 0.9694220500743128, 'colsample_bytree': 0.9581153720907518, 'gamma': 0.502381312232949, 'reg_alpha': 0.8616056552567446, 'reg_lambda': 5.8273178706257}. Best is trial 143 with value: 4.617288546216578.\n",
      "[I 2025-07-24 18:30:45,596] Trial 204 finished with value: 4.6397332198349845 and parameters: {'n_estimators': 190, 'learning_rate': 0.19315951593109149, 'max_depth': 2, 'subsample': 0.990911102904718, 'colsample_bytree': 0.9722864050686086, 'gamma': 0.6511840648559029, 'reg_alpha': 0.732767421574431, 'reg_lambda': 5.459468573200802}. Best is trial 143 with value: 4.617288546216578.\n",
      "[I 2025-07-24 18:30:45,876] Trial 205 finished with value: 4.639017297954513 and parameters: {'n_estimators': 198, 'learning_rate': 0.18047057393917923, 'max_depth': 2, 'subsample': 0.9809340719741996, 'colsample_bytree': 0.8481576093289969, 'gamma': 0.7467384887383758, 'reg_alpha': 0.8941190722270762, 'reg_lambda': 6.640556281121166}. Best is trial 143 with value: 4.617288546216578.\n",
      "[I 2025-07-24 18:30:46,126] Trial 206 finished with value: 4.637751184096609 and parameters: {'n_estimators': 165, 'learning_rate': 0.20208078947615238, 'max_depth': 2, 'subsample': 0.9633683754969828, 'colsample_bytree': 0.981640285948231, 'gamma': 0.5795318574058228, 'reg_alpha': 0.777742677591959, 'reg_lambda': 5.985021623045399}. Best is trial 143 with value: 4.617288546216578.\n",
      "[I 2025-07-24 18:30:46,473] Trial 207 finished with value: 4.654885410506668 and parameters: {'n_estimators': 185, 'learning_rate': 0.15944734950977324, 'max_depth': 2, 'subsample': 0.9759962749113584, 'colsample_bytree': 0.947349293141879, 'gamma': 0.3930983650674665, 'reg_alpha': 0.8282943935431681, 'reg_lambda': 6.452207935350469}. Best is trial 143 with value: 4.617288546216578.\n",
      "[I 2025-07-24 18:30:46,651] Trial 208 finished with value: 4.648720236114496 and parameters: {'n_estimators': 72, 'learning_rate': 0.1748039144974916, 'max_depth': 2, 'subsample': 0.9996728222063782, 'colsample_bytree': 0.9675899156593938, 'gamma': 0.8841716002108211, 'reg_alpha': 0.7928317821515729, 'reg_lambda': 5.180745963726943}. Best is trial 143 with value: 4.617288546216578.\n",
      "[I 2025-07-24 18:30:47,035] Trial 209 finished with value: 4.624142989805006 and parameters: {'n_estimators': 200, 'learning_rate': 0.18844283627828298, 'max_depth': 2, 'subsample': 0.9878924876104228, 'colsample_bytree': 0.9590234999282857, 'gamma': 1.0789410965264747, 'reg_alpha': 0.7542609849255859, 'reg_lambda': 6.8462888999712135}. Best is trial 143 with value: 4.617288546216578.\n",
      "[I 2025-07-24 18:30:47,428] Trial 210 finished with value: 4.639083011509619 and parameters: {'n_estimators': 189, 'learning_rate': 0.18892561609145264, 'max_depth': 2, 'subsample': 0.9917956319941795, 'colsample_bytree': 0.9369578260349473, 'gamma': 1.1394788610751687, 'reg_alpha': 0.7543013544300141, 'reg_lambda': 6.801804769028164}. Best is trial 143 with value: 4.617288546216578.\n",
      "[I 2025-07-24 18:30:47,801] Trial 211 finished with value: 4.631373766071309 and parameters: {'n_estimators': 200, 'learning_rate': 0.1945870413830843, 'max_depth': 2, 'subsample': 0.9812717399702828, 'colsample_bytree': 0.9566160691531492, 'gamma': 0.7071586216034645, 'reg_alpha': 0.7679437924560863, 'reg_lambda': 6.243134469365755}. Best is trial 143 with value: 4.617288546216578.\n",
      "[I 2025-07-24 18:30:48,302] Trial 212 finished with value: 4.639610601864926 and parameters: {'n_estimators': 200, 'learning_rate': 0.19579874473672126, 'max_depth': 2, 'subsample': 0.9830396671859437, 'colsample_bytree': 0.9533517833716989, 'gamma': 1.0328692148144676, 'reg_alpha': 0.7637685418749196, 'reg_lambda': 6.264814258671332}. Best is trial 143 with value: 4.617288546216578.\n",
      "[I 2025-07-24 18:30:48,682] Trial 213 finished with value: 4.637707908838617 and parameters: {'n_estimators': 197, 'learning_rate': 0.18469431722159207, 'max_depth': 2, 'subsample': 0.966909929051026, 'colsample_bytree': 0.95754189082949, 'gamma': 0.7992589302562554, 'reg_alpha': 0.7256006905986134, 'reg_lambda': 6.947711120047512}. Best is trial 143 with value: 4.617288546216578.\n",
      "[I 2025-07-24 18:30:49,019] Trial 214 finished with value: 4.613609038541958 and parameters: {'n_estimators': 194, 'learning_rate': 0.20500215874977948, 'max_depth': 2, 'subsample': 0.9900226920660853, 'colsample_bytree': 0.9766381996662372, 'gamma': 0.9278822574467581, 'reg_alpha': 0.7750035043052791, 'reg_lambda': 6.610247454860434}. Best is trial 214 with value: 4.613609038541958.\n",
      "[I 2025-07-24 18:30:49,368] Trial 215 finished with value: 4.604630426795878 and parameters: {'n_estimators': 194, 'learning_rate': 0.20509288648627058, 'max_depth': 2, 'subsample': 0.9898026468847371, 'colsample_bytree': 0.9860848387520088, 'gamma': 0.9323453671730814, 'reg_alpha': 0.747528065482912, 'reg_lambda': 6.6747529133124175}. Best is trial 215 with value: 4.604630426795878.\n",
      "[I 2025-07-24 18:30:49,732] Trial 216 finished with value: 4.625432371974056 and parameters: {'n_estimators': 194, 'learning_rate': 0.2072517863643701, 'max_depth': 2, 'subsample': 0.9934046741994257, 'colsample_bytree': 0.9858683359331241, 'gamma': 0.9769837702706797, 'reg_alpha': 0.7440946635931838, 'reg_lambda': 6.534892314884126}. Best is trial 215 with value: 4.604630426795878.\n",
      "[I 2025-07-24 18:30:50,025] Trial 217 finished with value: 4.629972772858092 and parameters: {'n_estimators': 194, 'learning_rate': 0.20793956242729408, 'max_depth': 2, 'subsample': 0.9992635745800837, 'colsample_bytree': 0.9826387782781949, 'gamma': 0.9359674405318892, 'reg_alpha': 0.7396681735176077, 'reg_lambda': 6.661944949744176}. Best is trial 215 with value: 4.604630426795878.\n",
      "[I 2025-07-24 18:30:50,306] Trial 218 finished with value: 4.625885258064183 and parameters: {'n_estimators': 195, 'learning_rate': 0.21731286771044986, 'max_depth': 2, 'subsample': 0.9994093492320654, 'colsample_bytree': 0.999263448355925, 'gamma': 1.0219688947072532, 'reg_alpha': 0.713275182412372, 'reg_lambda': 7.1502927785802175}. Best is trial 215 with value: 4.604630426795878.\n",
      "[I 2025-07-24 18:30:50,639] Trial 219 finished with value: 4.62464121503132 and parameters: {'n_estimators': 194, 'learning_rate': 0.2167622607042072, 'max_depth': 2, 'subsample': 0.9981581618507411, 'colsample_bytree': 0.9920175680003538, 'gamma': 0.963074494509042, 'reg_alpha': 0.7011952989054367, 'reg_lambda': 7.251452535371149}. Best is trial 215 with value: 4.604630426795878.\n",
      "[I 2025-07-24 18:30:51,020] Trial 220 finished with value: 4.630577582490376 and parameters: {'n_estimators': 193, 'learning_rate': 0.2320480358259814, 'max_depth': 2, 'subsample': 0.9998398462855779, 'colsample_bytree': 0.9979391880609462, 'gamma': 0.9958738360112764, 'reg_alpha': 0.6959361678896813, 'reg_lambda': 7.024700652237056}. Best is trial 215 with value: 4.604630426795878.\n",
      "[I 2025-07-24 18:30:51,367] Trial 221 finished with value: 4.976484331663102 and parameters: {'n_estimators': 195, 'learning_rate': 0.22000498803771346, 'max_depth': 5, 'subsample': 0.9901611490046247, 'colsample_bytree': 0.9907508040094328, 'gamma': 0.8921518036150197, 'reg_alpha': 0.652424173417603, 'reg_lambda': 7.322888381627223}. Best is trial 215 with value: 4.604630426795878.\n",
      "[I 2025-07-24 18:30:51,637] Trial 222 finished with value: 4.636537974327906 and parameters: {'n_estimators': 196, 'learning_rate': 0.2127807984751945, 'max_depth': 2, 'subsample': 0.9987023454640174, 'colsample_bytree': 0.992548450966554, 'gamma': 0.9745296320959385, 'reg_alpha': 0.7090469358725355, 'reg_lambda': 7.549985865720682}. Best is trial 215 with value: 4.604630426795878.\n",
      "[I 2025-07-24 18:30:51,923] Trial 223 finished with value: 4.648124805845816 and parameters: {'n_estimators': 193, 'learning_rate': 0.22097789777436763, 'max_depth': 2, 'subsample': 0.990998468246862, 'colsample_bytree': 0.985450107127356, 'gamma': 1.065884209177766, 'reg_alpha': 0.7399367704400162, 'reg_lambda': 6.72690804616945}. Best is trial 215 with value: 4.604630426795878.\n",
      "[I 2025-07-24 18:30:52,218] Trial 224 finished with value: 4.637950856656533 and parameters: {'n_estimators': 197, 'learning_rate': 0.21671587325192557, 'max_depth': 2, 'subsample': 0.9918575519444486, 'colsample_bytree': 0.9966910913518758, 'gamma': 0.9416067018115782, 'reg_alpha': 0.7215032319385543, 'reg_lambda': 6.927453036239493}. Best is trial 215 with value: 4.604630426795878.\n",
      "[I 2025-07-24 18:30:52,507] Trial 225 finished with value: 4.6389161945051995 and parameters: {'n_estimators': 200, 'learning_rate': 0.20797559396879386, 'max_depth': 2, 'subsample': 0.9984509145737256, 'colsample_bytree': 0.9852157551353945, 'gamma': 0.8696751870112474, 'reg_alpha': 0.673021092905131, 'reg_lambda': 7.7558485492756395}. Best is trial 215 with value: 4.604630426795878.\n",
      "[I 2025-07-24 18:30:52,804] Trial 226 finished with value: 4.6095488230844 and parameters: {'n_estimators': 191, 'learning_rate': 0.20718526623223618, 'max_depth': 2, 'subsample': 0.9895725243916733, 'colsample_bytree': 0.9994572524549088, 'gamma': 1.1361362691302055, 'reg_alpha': 0.7425452335456224, 'reg_lambda': 7.436412111323503}. Best is trial 215 with value: 4.604630426795878.\n",
      "[I 2025-07-24 18:30:53,092] Trial 227 finished with value: 4.616203826169979 and parameters: {'n_estimators': 191, 'learning_rate': 0.20672359926829467, 'max_depth': 2, 'subsample': 0.9918336280314575, 'colsample_bytree': 0.9987608437557487, 'gamma': 1.164568873158352, 'reg_alpha': 0.7406511647297588, 'reg_lambda': 7.53363954244122}. Best is trial 215 with value: 4.604630426795878.\n",
      "[I 2025-07-24 18:30:53,395] Trial 228 finished with value: 4.634196372299969 and parameters: {'n_estimators': 191, 'learning_rate': 0.22753046220764792, 'max_depth': 2, 'subsample': 0.9899340765100552, 'colsample_bytree': 0.9981200877707601, 'gamma': 1.2040450244783714, 'reg_alpha': 0.7020729064031817, 'reg_lambda': 7.926237814604318}. Best is trial 215 with value: 4.604630426795878.\n",
      "[I 2025-07-24 18:30:53,698] Trial 229 finished with value: 4.639032545187994 and parameters: {'n_estimators': 187, 'learning_rate': 0.21192285230877453, 'max_depth': 2, 'subsample': 0.9884068345505427, 'colsample_bytree': 0.9900561107347174, 'gamma': 1.1152323968238294, 'reg_alpha': 0.7454697043212154, 'reg_lambda': 7.597912432685597}. Best is trial 215 with value: 4.604630426795878.\n",
      "[I 2025-07-24 18:30:54,040] Trial 230 finished with value: 4.631196177436775 and parameters: {'n_estimators': 190, 'learning_rate': 0.23254201793741264, 'max_depth': 2, 'subsample': 0.9748441722059272, 'colsample_bytree': 0.9982491859801483, 'gamma': 1.2740193736320733, 'reg_alpha': 0.7126719742102202, 'reg_lambda': 7.204602870681811}. Best is trial 215 with value: 4.604630426795878.\n",
      "[I 2025-07-24 18:30:54,338] Trial 231 finished with value: 4.62462190441571 and parameters: {'n_estimators': 194, 'learning_rate': 0.20734064115602135, 'max_depth': 2, 'subsample': 0.9913414538584343, 'colsample_bytree': 0.9868574388430472, 'gamma': 1.084224351061893, 'reg_alpha': 0.7382993954387829, 'reg_lambda': 8.10288889886143}. Best is trial 215 with value: 4.604630426795878.\n",
      "[I 2025-07-24 18:30:54,629] Trial 232 finished with value: 4.6337261951430255 and parameters: {'n_estimators': 192, 'learning_rate': 0.20657243376976664, 'max_depth': 2, 'subsample': 0.9880419367136273, 'colsample_bytree': 0.9989892341985351, 'gamma': 1.1596685630904473, 'reg_alpha': 0.7298719655357369, 'reg_lambda': 8.449831101667465}. Best is trial 215 with value: 4.604630426795878.\n",
      "[I 2025-07-24 18:30:54,923] Trial 233 finished with value: 4.618348109700623 and parameters: {'n_estimators': 188, 'learning_rate': 0.20365399998562947, 'max_depth': 2, 'subsample': 0.9868003499816335, 'colsample_bytree': 0.9899630274595328, 'gamma': 1.0547555519027794, 'reg_alpha': 0.7508363158097193, 'reg_lambda': 7.451391688419306}. Best is trial 215 with value: 4.604630426795878.\n",
      "[I 2025-07-24 18:30:55,240] Trial 234 finished with value: 4.627626015441563 and parameters: {'n_estimators': 194, 'learning_rate': 0.20504114118920502, 'max_depth': 2, 'subsample': 0.9996955146456546, 'colsample_bytree': 0.9869480641345444, 'gamma': 1.0525554389394718, 'reg_alpha': 0.7501723307513708, 'reg_lambda': 7.438265327233576}. Best is trial 215 with value: 4.604630426795878.\n",
      "[I 2025-07-24 18:30:55,535] Trial 235 finished with value: 4.634893125468241 and parameters: {'n_estimators': 195, 'learning_rate': 0.2187936345456755, 'max_depth': 2, 'subsample': 0.9995603734391951, 'colsample_bytree': 0.9897319426658044, 'gamma': 1.0490372528247438, 'reg_alpha': 0.7475101852065447, 'reg_lambda': 8.119222714498182}. Best is trial 215 with value: 4.604630426795878.\n",
      "[I 2025-07-24 18:30:55,830] Trial 236 finished with value: 4.640136863756527 and parameters: {'n_estimators': 193, 'learning_rate': 0.20577691403535672, 'max_depth': 2, 'subsample': 0.9862736801514498, 'colsample_bytree': 0.9870009148278925, 'gamma': 1.2157048309866119, 'reg_alpha': 0.7212140263027442, 'reg_lambda': 7.605547126660854}. Best is trial 215 with value: 4.604630426795878.\n",
      "[I 2025-07-24 18:30:56,142] Trial 237 finished with value: 4.647849453684859 and parameters: {'n_estimators': 190, 'learning_rate': 0.2119281553979109, 'max_depth': 2, 'subsample': 0.9924038844117913, 'colsample_bytree': 0.9789463213194327, 'gamma': 1.0632046127442671, 'reg_alpha': 0.6899780025427166, 'reg_lambda': 7.468981245735503}. Best is trial 215 with value: 4.604630426795878.\n",
      "[I 2025-07-24 18:30:56,438] Trial 238 finished with value: 4.622472541119096 and parameters: {'n_estimators': 196, 'learning_rate': 0.21402527526219375, 'max_depth': 2, 'subsample': 0.9802606025754184, 'colsample_bytree': 0.9907668292009846, 'gamma': 1.3283412014066052, 'reg_alpha': 0.7527872198996096, 'reg_lambda': 7.285844887540699}. Best is trial 215 with value: 4.604630426795878.\n",
      "[I 2025-07-24 18:30:56,720] Trial 239 finished with value: 4.622551151126787 and parameters: {'n_estimators': 197, 'learning_rate': 0.20361532948722563, 'max_depth': 2, 'subsample': 0.9824144006826202, 'colsample_bytree': 0.9917319895553783, 'gamma': 1.279594135822361, 'reg_alpha': 0.7373424423659204, 'reg_lambda': 7.22160580984575}. Best is trial 215 with value: 4.604630426795878.\n",
      "[I 2025-07-24 18:30:57,008] Trial 240 finished with value: 4.636408971783023 and parameters: {'n_estimators': 197, 'learning_rate': 0.21489024586217986, 'max_depth': 2, 'subsample': 0.9851323930313005, 'colsample_bytree': 0.9996310420654104, 'gamma': 1.3679496130609967, 'reg_alpha': 0.748994126384392, 'reg_lambda': 7.257807030883025}. Best is trial 215 with value: 4.604630426795878.\n",
      "[I 2025-07-24 18:30:57,316] Trial 241 finished with value: 4.629965719835931 and parameters: {'n_estimators': 196, 'learning_rate': 0.20343126792722876, 'max_depth': 2, 'subsample': 0.9994078597082211, 'colsample_bytree': 0.9896058376538116, 'gamma': 1.229285211529429, 'reg_alpha': 0.7271587646589797, 'reg_lambda': 8.063807378594978}. Best is trial 215 with value: 4.604630426795878.\n",
      "[I 2025-07-24 18:30:57,695] Trial 242 finished with value: 4.617967063519093 and parameters: {'n_estimators': 194, 'learning_rate': 0.20909421698974393, 'max_depth': 2, 'subsample': 0.9789472182809935, 'colsample_bytree': 0.9895811990749172, 'gamma': 1.3343600124624508, 'reg_alpha': 0.739705996178807, 'reg_lambda': 7.3868426919427}. Best is trial 215 with value: 4.604630426795878.\n",
      "[I 2025-07-24 18:30:58,022] Trial 243 finished with value: 4.6288664486672735 and parameters: {'n_estimators': 194, 'learning_rate': 0.21006558472984535, 'max_depth': 2, 'subsample': 0.9828927632256, 'colsample_bytree': 0.9893975265670236, 'gamma': 1.3938117828261534, 'reg_alpha': 0.7474268229129163, 'reg_lambda': 7.3469460710127}. Best is trial 215 with value: 4.604630426795878.\n",
      "[I 2025-07-24 18:30:58,345] Trial 244 finished with value: 4.638898423052428 and parameters: {'n_estimators': 198, 'learning_rate': 0.22013548219387052, 'max_depth': 2, 'subsample': 0.9900103465047311, 'colsample_bytree': 0.994163784092655, 'gamma': 1.3036134615416097, 'reg_alpha': 0.7549091207530049, 'reg_lambda': 7.684844308666139}. Best is trial 215 with value: 4.604630426795878.\n",
      "[I 2025-07-24 18:30:58,631] Trial 245 finished with value: 4.620406496375323 and parameters: {'n_estimators': 192, 'learning_rate': 0.20493341923685962, 'max_depth': 2, 'subsample': 0.9787513839631428, 'colsample_bytree': 0.9805016005415628, 'gamma': 1.483596659990539, 'reg_alpha': 0.7042247216767408, 'reg_lambda': 7.4278126491265}. Best is trial 215 with value: 4.604630426795878.\n",
      "[I 2025-07-24 18:30:59,266] Trial 246 finished with value: 4.6338033008703645 and parameters: {'n_estimators': 193, 'learning_rate': 0.2052598867671559, 'max_depth': 2, 'subsample': 0.9926846297607974, 'colsample_bytree': 0.9798883764282049, 'gamma': 1.410440832912677, 'reg_alpha': 0.7055999328460099, 'reg_lambda': 7.4519146046207005}. Best is trial 215 with value: 4.604630426795878.\n",
      "[I 2025-07-24 18:30:59,611] Trial 247 finished with value: 4.6338570186614385 and parameters: {'n_estimators': 196, 'learning_rate': 0.21421197510350734, 'max_depth': 2, 'subsample': 0.9996070829963709, 'colsample_bytree': 0.9894957961068378, 'gamma': 1.459811236892433, 'reg_alpha': 0.6742034313471209, 'reg_lambda': 7.153902902988045}. Best is trial 215 with value: 4.604630426795878.\n",
      "[I 2025-07-24 18:30:59,906] Trial 248 finished with value: 4.686626583722247 and parameters: {'n_estimators': 192, 'learning_rate': 0.2038842109692058, 'max_depth': 2, 'subsample': 0.7963009728808863, 'colsample_bytree': 0.9990981889442714, 'gamma': 1.277345438394606, 'reg_alpha': 0.7339870325704507, 'reg_lambda': 7.166835720202516}. Best is trial 215 with value: 4.604630426795878.\n",
      "[I 2025-07-24 18:31:00,203] Trial 249 finished with value: 4.633597634971515 and parameters: {'n_estimators': 197, 'learning_rate': 0.20854104178611546, 'max_depth': 2, 'subsample': 0.9747411480208746, 'colsample_bytree': 0.9787725651426039, 'gamma': 1.1483243936520506, 'reg_alpha': 0.704113218179689, 'reg_lambda': 7.583445665591509}. Best is trial 215 with value: 4.604630426795878.\n",
      "[I 2025-07-24 18:31:00,493] Trial 250 finished with value: 4.619846891906648 and parameters: {'n_estimators': 200, 'learning_rate': 0.20120594036688497, 'max_depth': 2, 'subsample': 0.9824926592788629, 'colsample_bytree': 0.9864490065461785, 'gamma': 1.5459858884145334, 'reg_alpha': 0.75714206860584, 'reg_lambda': 7.4189457235539695}. Best is trial 215 with value: 4.604630426795878.\n",
      "[I 2025-07-24 18:31:00,858] Trial 251 finished with value: 4.626984838901582 and parameters: {'n_estimators': 198, 'learning_rate': 0.20077720882654193, 'max_depth': 2, 'subsample': 0.9836364657594314, 'colsample_bytree': 0.9899308121164435, 'gamma': 1.546861436758628, 'reg_alpha': 0.7364293468578736, 'reg_lambda': 7.358602564380223}. Best is trial 215 with value: 4.604630426795878.\n",
      "[I 2025-07-24 18:31:01,270] Trial 252 finished with value: 4.629908774609117 and parameters: {'n_estimators': 199, 'learning_rate': 0.19840379918084722, 'max_depth': 2, 'subsample': 0.9828826267312464, 'colsample_bytree': 0.9921827545952007, 'gamma': 1.353294636131616, 'reg_alpha': 0.7239165540395094, 'reg_lambda': 7.916231926211617}. Best is trial 215 with value: 4.604630426795878.\n",
      "[I 2025-07-24 18:31:01,647] Trial 253 finished with value: 4.6743541813446665 and parameters: {'n_estimators': 200, 'learning_rate': 0.22471917952639978, 'max_depth': 2, 'subsample': 0.722658033723981, 'colsample_bytree': 0.9826307526533608, 'gamma': 1.5767705203521665, 'reg_alpha': 0.6950868200460858, 'reg_lambda': 7.275755566577313}. Best is trial 215 with value: 4.604630426795878.\n",
      "[I 2025-07-24 18:31:02,073] Trial 254 finished with value: 4.626928766790392 and parameters: {'n_estimators': 196, 'learning_rate': 0.21555960324470994, 'max_depth': 2, 'subsample': 0.9811464808673755, 'colsample_bytree': 0.9914226417125187, 'gamma': 1.5966359292552188, 'reg_alpha': 0.7449003963332332, 'reg_lambda': 7.37510388104555}. Best is trial 215 with value: 4.604630426795878.\n",
      "[I 2025-07-24 18:31:02,447] Trial 255 finished with value: 4.634836437730809 and parameters: {'n_estimators': 200, 'learning_rate': 0.21614649478333856, 'max_depth': 2, 'subsample': 0.986354683193379, 'colsample_bytree': 0.9988255197800592, 'gamma': 1.5221772747800848, 'reg_alpha': 0.7396518617765838, 'reg_lambda': 7.060007562301761}. Best is trial 215 with value: 4.604630426795878.\n",
      "[I 2025-07-24 18:31:02,866] Trial 256 finished with value: 4.63457515662651 and parameters: {'n_estimators': 196, 'learning_rate': 0.20149103840758353, 'max_depth': 2, 'subsample': 0.980890184688988, 'colsample_bytree': 0.9906220069696986, 'gamma': 1.7179773248300312, 'reg_alpha': 0.7139836970418282, 'reg_lambda': 7.762155899756238}. Best is trial 215 with value: 4.604630426795878.\n",
      "[I 2025-07-24 18:31:03,354] Trial 257 finished with value: 4.63431892661847 and parameters: {'n_estimators': 197, 'learning_rate': 0.21099571488897673, 'max_depth': 2, 'subsample': 0.9648421602151216, 'colsample_bytree': 0.9841456021012608, 'gamma': 1.6507807019949565, 'reg_alpha': 0.6249722168980014, 'reg_lambda': 7.2400652756114985}. Best is trial 215 with value: 4.604630426795878.\n",
      "[I 2025-07-24 18:31:03,652] Trial 258 finished with value: 4.622346162130449 and parameters: {'n_estimators': 192, 'learning_rate': 0.2165079556527979, 'max_depth': 2, 'subsample': 0.9898128393222942, 'colsample_bytree': 0.9784930964806984, 'gamma': 1.5568524914424988, 'reg_alpha': 0.7609739426978304, 'reg_lambda': 7.394631487922922}. Best is trial 215 with value: 4.604630426795878.\n",
      "[I 2025-07-24 18:31:04,057] Trial 259 finished with value: 4.627342470018046 and parameters: {'n_estimators': 194, 'learning_rate': 0.2221464881699341, 'max_depth': 2, 'subsample': 0.9843112967407266, 'colsample_bytree': 0.9774467608437313, 'gamma': 1.4994500092578373, 'reg_alpha': 0.7570082481426837, 'reg_lambda': 7.436042953416845}. Best is trial 215 with value: 4.604630426795878.\n",
      "[I 2025-07-24 18:31:04,497] Trial 260 finished with value: 4.976401697803279 and parameters: {'n_estimators': 192, 'learning_rate': 0.21662395603070525, 'max_depth': 7, 'subsample': 0.9922937026136712, 'colsample_bytree': 0.9928044863557779, 'gamma': 1.4864069673343654, 'reg_alpha': 0.7298973142588049, 'reg_lambda': 7.616352323165803}. Best is trial 215 with value: 4.604630426795878.\n",
      "[I 2025-07-24 18:31:04,863] Trial 261 finished with value: 4.634663614726116 and parameters: {'n_estimators': 197, 'learning_rate': 0.20861733908413854, 'max_depth': 2, 'subsample': 0.9901477614334765, 'colsample_bytree': 0.985519181820794, 'gamma': 1.6476083188666502, 'reg_alpha': 0.7567760687294165, 'reg_lambda': 7.431952499414057}. Best is trial 215 with value: 4.604630426795878.\n",
      "[I 2025-07-24 18:31:05,304] Trial 262 finished with value: 5.566674518240305 and parameters: {'n_estimators': 200, 'learning_rate': 0.23040590810572323, 'max_depth': 2, 'subsample': 0.7609641712339378, 'colsample_bytree': 0.6683208556550517, 'gamma': 1.5587687792340288, 'reg_alpha': 0.7347013283291701, 'reg_lambda': 7.083539052643661}. Best is trial 215 with value: 4.604630426795878.\n",
      "[I 2025-07-24 18:31:05,806] Trial 263 finished with value: 4.63907365204507 and parameters: {'n_estimators': 195, 'learning_rate': 0.2012802881255758, 'max_depth': 2, 'subsample': 0.9738847975438135, 'colsample_bytree': 0.9985340858874238, 'gamma': 1.2954994037698009, 'reg_alpha': 0.923828949931429, 'reg_lambda': 7.334102622650445}. Best is trial 215 with value: 4.604630426795878.\n",
      "[I 2025-07-24 18:31:06,210] Trial 264 finished with value: 4.627104216349061 and parameters: {'n_estimators': 191, 'learning_rate': 0.2367897281447735, 'max_depth': 2, 'subsample': 0.9898501820354572, 'colsample_bytree': 0.9783134371651642, 'gamma': 1.7561608069526968, 'reg_alpha': 0.6653532555600026, 'reg_lambda': 7.76752885157371}. Best is trial 215 with value: 4.604630426795878.\n",
      "[I 2025-07-24 18:31:06,562] Trial 265 finished with value: 4.702427901192154 and parameters: {'n_estimators': 195, 'learning_rate': 0.22324657323551275, 'max_depth': 2, 'subsample': 0.5527288352142243, 'colsample_bytree': 0.9909176996609279, 'gamma': 1.8203267207595688, 'reg_alpha': 0.6852074263301061, 'reg_lambda': 8.156985499778308}. Best is trial 215 with value: 4.604630426795878.\n",
      "[I 2025-07-24 18:31:06,863] Trial 266 finished with value: 5.144345799099571 and parameters: {'n_estimators': 191, 'learning_rate': 0.2116414772250052, 'max_depth': 2, 'subsample': 0.9808127993647086, 'colsample_bytree': 0.7672794659954714, 'gamma': 1.4306529389836233, 'reg_alpha': 0.7092474856910825, 'reg_lambda': 7.0558797847293615}. Best is trial 215 with value: 4.604630426795878.\n",
      "[I 2025-07-24 18:31:07,164] Trial 267 finished with value: 4.6518649109587615 and parameters: {'n_estimators': 198, 'learning_rate': 0.21764021867460842, 'max_depth': 2, 'subsample': 0.9716869088159495, 'colsample_bytree': 0.9754755362394608, 'gamma': 1.1846785827996698, 'reg_alpha': 0.7586983145386298, 'reg_lambda': 7.5634784526377645}. Best is trial 215 with value: 4.604630426795878.\n",
      "[I 2025-07-24 18:31:07,474] Trial 268 finished with value: 4.647569786214206 and parameters: {'n_estimators': 194, 'learning_rate': 0.200410301164393, 'max_depth': 2, 'subsample': 0.9991799527462246, 'colsample_bytree': 0.9860097582958701, 'gamma': 1.5820132061690781, 'reg_alpha': 0.7896416054906286, 'reg_lambda': 7.307128318652753}. Best is trial 215 with value: 4.604630426795878.\n",
      "[I 2025-07-24 18:31:07,801] Trial 269 finished with value: 4.628936362067644 and parameters: {'n_estimators': 191, 'learning_rate': 0.212039919021792, 'max_depth': 2, 'subsample': 0.9645876495718513, 'colsample_bytree': 0.9991540817026193, 'gamma': 1.3373393758696135, 'reg_alpha': 0.7425239923438355, 'reg_lambda': 6.853374782488243}. Best is trial 215 with value: 4.604630426795878.\n",
      "[I 2025-07-24 18:31:08,152] Trial 270 finished with value: 4.6145084089375334 and parameters: {'n_estimators': 200, 'learning_rate': 0.20601043126980886, 'max_depth': 2, 'subsample': 0.9883665831338458, 'colsample_bytree': 0.9763441171195293, 'gamma': 1.1864181141872403, 'reg_alpha': 0.7192979310120392, 'reg_lambda': 7.145129191184623}. Best is trial 215 with value: 4.604630426795878.\n",
      "[I 2025-07-24 18:31:08,527] Trial 271 finished with value: 4.632322136499545 and parameters: {'n_estimators': 200, 'learning_rate': 0.2060720088750077, 'max_depth': 2, 'subsample': 0.9901696581319002, 'colsample_bytree': 0.9764063451553238, 'gamma': 1.1476013491017611, 'reg_alpha': 0.7191920874481026, 'reg_lambda': 8.353517867285147}. Best is trial 215 with value: 4.604630426795878.\n",
      "[I 2025-07-24 18:31:08,861] Trial 272 finished with value: 4.64177790926374 and parameters: {'n_estimators': 159, 'learning_rate': 0.21601773066218596, 'max_depth': 2, 'subsample': 0.9992709103229914, 'colsample_bytree': 0.9828157487605172, 'gamma': 1.2492355849446524, 'reg_alpha': 0.7825195713486187, 'reg_lambda': 7.1351778875556775}. Best is trial 215 with value: 4.604630426795878.\n",
      "[I 2025-07-24 18:31:09,232] Trial 273 finished with value: 4.632005870440918 and parameters: {'n_estimators': 195, 'learning_rate': 0.22306431476984948, 'max_depth': 2, 'subsample': 0.9790876942084101, 'colsample_bytree': 0.9787712998345772, 'gamma': 1.0781340878124877, 'reg_alpha': 0.6933311999202673, 'reg_lambda': 7.010775369318149}. Best is trial 215 with value: 4.604630426795878.\n",
      "[I 2025-07-24 18:31:09,631] Trial 274 finished with value: 4.634257691458514 and parameters: {'n_estimators': 192, 'learning_rate': 0.19679646334963258, 'max_depth': 2, 'subsample': 0.9904482743385951, 'colsample_bytree': 0.9996018832695387, 'gamma': 1.1689987636264574, 'reg_alpha': 0.7663449669116148, 'reg_lambda': 8.737206132663752}. Best is trial 215 with value: 4.604630426795878.\n",
      "[I 2025-07-24 18:31:09,984] Trial 275 finished with value: 4.629455777657008 and parameters: {'n_estimators': 197, 'learning_rate': 0.2079500787458067, 'max_depth': 2, 'subsample': 0.9707180579963327, 'colsample_bytree': 0.9762360857402268, 'gamma': 1.0313241460274283, 'reg_alpha': 0.7162676162115168, 'reg_lambda': 6.874024125371998}. Best is trial 215 with value: 4.604630426795878.\n",
      "[I 2025-07-24 18:31:10,304] Trial 276 finished with value: 4.638415840294496 and parameters: {'n_estimators': 190, 'learning_rate': 0.21361434079329195, 'max_depth': 2, 'subsample': 0.9999572172225313, 'colsample_bytree': 0.985594443413289, 'gamma': 1.3650460214254334, 'reg_alpha': 0.7656635761737614, 'reg_lambda': 7.932864109376704}. Best is trial 215 with value: 4.604630426795878.\n",
      "[I 2025-07-24 18:31:10,670] Trial 277 finished with value: 4.917845089551611 and parameters: {'n_estimators': 194, 'learning_rate': 0.20670768274313722, 'max_depth': 4, 'subsample': 0.9606758113754365, 'colsample_bytree': 0.9903263809753585, 'gamma': 4.970966166129166, 'reg_alpha': 0.9090412872025325, 'reg_lambda': 7.652210837771189}. Best is trial 215 with value: 4.604630426795878.\n",
      "[I 2025-07-24 18:31:10,988] Trial 278 finished with value: 4.616496018658702 and parameters: {'n_estimators': 200, 'learning_rate': 0.19932448535257138, 'max_depth': 2, 'subsample': 0.9818282077147557, 'colsample_bytree': 0.973836191969329, 'gamma': 1.245785647248803, 'reg_alpha': 0.7455068087478439, 'reg_lambda': 7.172032888302335}. Best is trial 215 with value: 4.604630426795878.\n",
      "[I 2025-07-24 18:31:11,371] Trial 279 finished with value: 4.656837777969787 and parameters: {'n_estimators': 200, 'learning_rate': 0.2515268128895759, 'max_depth': 2, 'subsample': 0.9896343337050003, 'colsample_bytree': 0.9703535713390281, 'gamma': 1.2709109837507722, 'reg_alpha': 0.7846813427687515, 'reg_lambda': 7.141676573313767}. Best is trial 215 with value: 4.604630426795878.\n",
      "[I 2025-07-24 18:31:11,670] Trial 280 finished with value: 4.630877959706223 and parameters: {'n_estimators': 200, 'learning_rate': 0.19684994011358226, 'max_depth': 2, 'subsample': 0.9751412328465648, 'colsample_bytree': 0.9736923447473321, 'gamma': 1.1596860426362863, 'reg_alpha': 0.717822172920035, 'reg_lambda': 6.9691579976627684}. Best is trial 215 with value: 4.604630426795878.\n",
      "[I 2025-07-24 18:31:12,008] Trial 281 finished with value: 4.628206891372224 and parameters: {'n_estimators': 193, 'learning_rate': 0.20108767552321913, 'max_depth': 2, 'subsample': 0.9846106217454409, 'colsample_bytree': 0.9822089223295816, 'gamma': 1.02123800648313, 'reg_alpha': 0.8001209020360551, 'reg_lambda': 7.2243010533137415}. Best is trial 215 with value: 4.604630426795878.\n",
      "[I 2025-07-24 18:31:12,428] Trial 282 finished with value: 4.631334077918191 and parameters: {'n_estimators': 197, 'learning_rate': 0.20407556373495145, 'max_depth': 2, 'subsample': 0.9901418205474467, 'colsample_bytree': 0.9738694356895119, 'gamma': 1.2351083777674823, 'reg_alpha': 0.7579360155906832, 'reg_lambda': 7.537000093666534}. Best is trial 215 with value: 4.604630426795878.\n",
      "[I 2025-07-24 18:31:12,827] Trial 283 finished with value: 4.642290790428642 and parameters: {'n_estimators': 189, 'learning_rate': 0.19677991753370855, 'max_depth': 2, 'subsample': 0.9738395951812516, 'colsample_bytree': 0.9827482051177161, 'gamma': 1.4157065637221464, 'reg_alpha': 0.7391370285058533, 'reg_lambda': 6.794694051644014}. Best is trial 215 with value: 4.604630426795878.\n",
      "[I 2025-07-24 18:31:13,222] Trial 284 finished with value: 4.780704395318925 and parameters: {'n_estimators': 192, 'learning_rate': 0.20847523708171395, 'max_depth': 3, 'subsample': 0.6904061761357771, 'colsample_bytree': 0.9745857762569115, 'gamma': 1.1078527762836925, 'reg_alpha': 0.7664090962897788, 'reg_lambda': 6.902986683583257}. Best is trial 215 with value: 4.604630426795878.\n",
      "[I 2025-07-24 18:31:13,513] Trial 285 finished with value: 4.618422467288855 and parameters: {'n_estimators': 196, 'learning_rate': 0.19444485776502993, 'max_depth': 2, 'subsample': 0.9999044150542135, 'colsample_bytree': 0.9891911059818996, 'gamma': 1.0244523739576383, 'reg_alpha': 0.7301544686952013, 'reg_lambda': 7.241640880192953}. Best is trial 215 with value: 4.604630426795878.\n",
      "[I 2025-07-24 18:31:13,794] Trial 286 finished with value: 4.634399420419313 and parameters: {'n_estimators': 196, 'learning_rate': 0.19787504012508, 'max_depth': 2, 'subsample': 0.9924660339831533, 'colsample_bytree': 0.9926419773754236, 'gamma': 1.0817831649261613, 'reg_alpha': 0.6986666524658278, 'reg_lambda': 7.2054545929869525}. Best is trial 215 with value: 4.604630426795878.\n",
      "[I 2025-07-24 18:31:14,085] Trial 287 finished with value: 4.63683017139389 and parameters: {'n_estimators': 200, 'learning_rate': 0.193761842059338, 'max_depth': 2, 'subsample': 0.9929798167441547, 'colsample_bytree': 0.9930715171507596, 'gamma': 0.9889584073403375, 'reg_alpha': 0.6461824844697047, 'reg_lambda': 7.4802641348904375}. Best is trial 215 with value: 4.604630426795878.\n",
      "[I 2025-07-24 18:31:14,409] Trial 288 finished with value: 4.640266418829557 and parameters: {'n_estimators': 190, 'learning_rate': 0.2034066392207136, 'max_depth': 2, 'subsample': 0.9990488302053534, 'colsample_bytree': 0.9998979201227647, 'gamma': 0.9682537136397742, 'reg_alpha': 0.725171897745632, 'reg_lambda': 7.758005499763428}. Best is trial 215 with value: 4.604630426795878.\n",
      "[I 2025-07-24 18:31:14,678] Trial 289 finished with value: 4.634966255118001 and parameters: {'n_estimators': 197, 'learning_rate': 0.22019420726917746, 'max_depth': 2, 'subsample': 0.9803154423594959, 'colsample_bytree': 0.9848240883571449, 'gamma': 1.1882905830866037, 'reg_alpha': 0.6830530155987221, 'reg_lambda': 7.134909546731537}. Best is trial 215 with value: 4.604630426795878.\n",
      "[I 2025-07-24 18:31:15,003] Trial 290 finished with value: 4.621631221392118 and parameters: {'n_estimators': 194, 'learning_rate': 0.21052461147488172, 'max_depth': 2, 'subsample': 0.9838003608982894, 'colsample_bytree': 0.9843885269501312, 'gamma': 1.3340705177245722, 'reg_alpha': 0.7461978265188397, 'reg_lambda': 7.354191230085099}. Best is trial 215 with value: 4.604630426795878.\n",
      "[I 2025-07-24 18:31:15,290] Trial 291 finished with value: 4.63836266856244 and parameters: {'n_estimators': 193, 'learning_rate': 0.20967367655740934, 'max_depth': 2, 'subsample': 0.9597951671996147, 'colsample_bytree': 0.9817355220213325, 'gamma': 1.3044750871115962, 'reg_alpha': 0.7489349509287669, 'reg_lambda': 7.401388928902058}. Best is trial 215 with value: 4.604630426795878.\n",
      "[I 2025-07-24 18:31:15,570] Trial 292 finished with value: 4.631225557603205 and parameters: {'n_estimators': 190, 'learning_rate': 0.194564950458913, 'max_depth': 2, 'subsample': 0.9827337676583524, 'colsample_bytree': 0.9739675688975687, 'gamma': 1.2852716329717295, 'reg_alpha': 0.769705601632049, 'reg_lambda': 7.496488189374521}. Best is trial 215 with value: 4.604630426795878.\n",
      "[I 2025-07-24 18:31:15,840] Trial 293 finished with value: 4.624782962336326 and parameters: {'n_estimators': 188, 'learning_rate': 0.2035658168337177, 'max_depth': 2, 'subsample': 0.9666035558189531, 'colsample_bytree': 0.9865990373733998, 'gamma': 1.4172064691170703, 'reg_alpha': 0.7352996888832707, 'reg_lambda': 7.672124922251033}. Best is trial 215 with value: 4.604630426795878.\n",
      "[I 2025-07-24 18:31:16,137] Trial 294 finished with value: 4.636549059795772 and parameters: {'n_estimators': 188, 'learning_rate': 0.19936976282487628, 'max_depth': 2, 'subsample': 0.9685321570389404, 'colsample_bytree': 0.978889233477314, 'gamma': 1.3925972438393912, 'reg_alpha': 0.7941274567491128, 'reg_lambda': 7.899934230993259}. Best is trial 215 with value: 4.604630426795878.\n",
      "[I 2025-07-24 18:31:16,400] Trial 295 finished with value: 4.628838756091399 and parameters: {'n_estimators': 188, 'learning_rate': 0.1921180521597713, 'max_depth': 2, 'subsample': 0.9561379817041609, 'colsample_bytree': 0.9882727328213737, 'gamma': 1.4600685782321623, 'reg_alpha': 0.7355089247678733, 'reg_lambda': 7.70170768688533}. Best is trial 215 with value: 4.604630426795878.\n",
      "[I 2025-07-24 18:31:16,673] Trial 296 finished with value: 4.913880052113238 and parameters: {'n_estimators': 200, 'learning_rate': 0.20412157660949537, 'max_depth': 1, 'subsample': 0.976616744951579, 'colsample_bytree': 0.9716376377495839, 'gamma': 1.3391348650357742, 'reg_alpha': 0.7771247073232257, 'reg_lambda': 8.096773011039438}. Best is trial 215 with value: 4.604630426795878.\n",
      "[I 2025-07-24 18:31:16,942] Trial 297 finished with value: 4.673676872512387 and parameters: {'n_estimators': 192, 'learning_rate': 0.19956176569956977, 'max_depth': 2, 'subsample': 0.8111428061671717, 'colsample_bytree': 0.8158108821411789, 'gamma': 1.236414496499407, 'reg_alpha': 0.7607091571062815, 'reg_lambda': 7.320876497767771}. Best is trial 215 with value: 4.604630426795878.\n",
      "[I 2025-07-24 18:31:17,212] Trial 298 finished with value: 4.6289624193339245 and parameters: {'n_estimators': 196, 'learning_rate': 0.21061931191164257, 'max_depth': 2, 'subsample': 0.9676609272449557, 'colsample_bytree': 0.9901510589439648, 'gamma': 1.1402839055676584, 'reg_alpha': 0.9452489461083371, 'reg_lambda': 7.670092171685897}. Best is trial 215 with value: 4.604630426795878.\n",
      "[I 2025-07-24 18:31:17,473] Trial 299 finished with value: 4.63835595798801 and parameters: {'n_estimators': 188, 'learning_rate': 0.1925656703219646, 'max_depth': 2, 'subsample': 0.9844573662396979, 'colsample_bytree': 0.9826673850908315, 'gamma': 1.4026897089481905, 'reg_alpha': 0.7296894880539789, 'reg_lambda': 7.552173967872136}. Best is trial 215 with value: 4.604630426795878.\n",
      "[I 2025-07-24 18:31:17,741] Trial 300 finished with value: 4.618259358542798 and parameters: {'n_estimators': 191, 'learning_rate': 0.20375361622150448, 'max_depth': 2, 'subsample': 0.9797090498829425, 'colsample_bytree': 0.9729683166392051, 'gamma': 1.2321026463882192, 'reg_alpha': 0.802052687461877, 'reg_lambda': 7.293019598868419}. Best is trial 215 with value: 4.604630426795878.\n",
      "[I 2025-07-24 18:31:18,081] Trial 301 finished with value: 4.987774120811337 and parameters: {'n_estimators': 198, 'learning_rate': 0.20325505607120473, 'max_depth': 5, 'subsample': 0.9761357318798934, 'colsample_bytree': 0.9711452290251259, 'gamma': 1.257284796788523, 'reg_alpha': 0.5655958199792344, 'reg_lambda': 7.314952207973026}. Best is trial 215 with value: 4.604630426795878.\n",
      "[I 2025-07-24 18:31:18,406] Trial 302 finished with value: 4.644900995734582 and parameters: {'n_estimators': 193, 'learning_rate': 0.21268588740104227, 'max_depth': 2, 'subsample': 0.9611571678974312, 'colsample_bytree': 0.9917702145288275, 'gamma': 1.1557099200315548, 'reg_alpha': 0.7968018709993137, 'reg_lambda': 7.039446605706994}. Best is trial 215 with value: 4.604630426795878.\n",
      "[I 2025-07-24 18:31:18,723] Trial 303 finished with value: 4.638293819035678 and parameters: {'n_estimators': 198, 'learning_rate': 0.205531410154373, 'max_depth': 2, 'subsample': 0.9825151085949341, 'colsample_bytree': 0.9789010549924767, 'gamma': 1.3357203561433217, 'reg_alpha': 0.8057717304572428, 'reg_lambda': 7.8313470955379065}. Best is trial 215 with value: 4.604630426795878.\n",
      "[I 2025-07-24 18:31:19,002] Trial 304 finished with value: 4.632208647311098 and parameters: {'n_estimators': 186, 'learning_rate': 0.19762565898041767, 'max_depth': 2, 'subsample': 0.9706305759671912, 'colsample_bytree': 0.9689602031741557, 'gamma': 1.0973055030697831, 'reg_alpha': 0.7789315349553794, 'reg_lambda': 7.466628997116049}. Best is trial 215 with value: 4.604630426795878.\n",
      "[I 2025-07-24 18:31:19,324] Trial 305 finished with value: 4.649567123825238 and parameters: {'n_estimators': 194, 'learning_rate': 0.21259544410786715, 'max_depth': 2, 'subsample': 0.9519321744890327, 'colsample_bytree': 0.9863643124569014, 'gamma': 1.477246126284765, 'reg_alpha': 0.7477143715710619, 'reg_lambda': 7.225954186223574}. Best is trial 215 with value: 4.604630426795878.\n",
      "[I 2025-07-24 18:31:19,693] Trial 306 finished with value: 4.626285916736895 and parameters: {'n_estimators': 191, 'learning_rate': 0.20317455243531252, 'max_depth': 2, 'subsample': 0.9848485636761979, 'colsample_bytree': 0.9935908215902046, 'gamma': 1.2182493844962967, 'reg_alpha': 0.8093959465097829, 'reg_lambda': 6.850289331859972}. Best is trial 215 with value: 4.604630426795878.\n",
      "[I 2025-07-24 18:31:20,070] Trial 307 finished with value: 4.685953821607636 and parameters: {'n_estimators': 196, 'learning_rate': 0.22752765205647119, 'max_depth': 2, 'subsample': 0.6052326518840907, 'colsample_bytree': 0.9776621354217364, 'gamma': 1.3297150292028816, 'reg_alpha': 0.7102925168339458, 'reg_lambda': 7.6241213151244125}. Best is trial 215 with value: 4.604630426795878.\n",
      "[I 2025-07-24 18:31:20,373] Trial 308 finished with value: 4.677007049010897 and parameters: {'n_estimators': 191, 'learning_rate': 0.20889725755786168, 'max_depth': 2, 'subsample': 0.6563969411679061, 'colsample_bytree': 0.9706070316948312, 'gamma': 1.4692068468196031, 'reg_alpha': 0.7628760851336425, 'reg_lambda': 8.252852575108381}. Best is trial 215 with value: 4.604630426795878.\n",
      "[I 2025-07-24 18:31:20,678] Trial 309 finished with value: 4.897506725673538 and parameters: {'n_estimators': 198, 'learning_rate': 0.22005412513958675, 'max_depth': 3, 'subsample': 0.9741192865176643, 'colsample_bytree': 0.9852178483140597, 'gamma': 0.8559361967706713, 'reg_alpha': 0.7300646769220392, 'reg_lambda': 6.995518949604317}. Best is trial 215 with value: 4.604630426795878.\n",
      "[I 2025-07-24 18:31:20,948] Trial 310 finished with value: 4.627755598805533 and parameters: {'n_estimators': 187, 'learning_rate': 0.197623822544696, 'max_depth': 2, 'subsample': 0.9877268977609621, 'colsample_bytree': 0.9995581327464855, 'gamma': 0.9551402966210341, 'reg_alpha': 0.7833451784351148, 'reg_lambda': 7.362214724853895}. Best is trial 215 with value: 4.604630426795878.\n",
      "[I 2025-07-24 18:31:21,336] Trial 311 finished with value: 4.63186424569909 and parameters: {'n_estimators': 200, 'learning_rate': 0.2157138425432767, 'max_depth': 2, 'subsample': 0.9641703302064, 'colsample_bytree': 0.9916360454405683, 'gamma': 1.0681579427213765, 'reg_alpha': 0.7517764197174993, 'reg_lambda': 7.8725433027441305}. Best is trial 215 with value: 4.604630426795878.\n",
      "[I 2025-07-24 18:31:21,633] Trial 312 finished with value: 4.642190638154723 and parameters: {'n_estimators': 194, 'learning_rate': 0.20442531794266702, 'max_depth': 2, 'subsample': 0.9781303444484776, 'colsample_bytree': 0.8774019808231427, 'gamma': 1.1724243227625588, 'reg_alpha': 0.6899524716784663, 'reg_lambda': 7.182594005378292}. Best is trial 215 with value: 4.604630426795878.\n",
      "[I 2025-07-24 18:31:21,942] Trial 313 finished with value: 4.645358008622374 and parameters: {'n_estimators': 195, 'learning_rate': 0.18804351024055274, 'max_depth': 2, 'subsample': 0.9994635485972764, 'colsample_bytree': 0.9804069384275972, 'gamma': 1.2834426371605259, 'reg_alpha': 0.7730718428979884, 'reg_lambda': 6.811954555298787}. Best is trial 215 with value: 4.604630426795878.\n",
      "[I 2025-07-24 18:31:22,237] Trial 314 finished with value: 4.631509141228455 and parameters: {'n_estimators': 190, 'learning_rate': 0.19424309225567987, 'max_depth': 2, 'subsample': 0.9879446450964349, 'colsample_bytree': 0.9695857216785513, 'gamma': 0.9100396220993993, 'reg_alpha': 0.7128376505499124, 'reg_lambda': 7.493487454168635}. Best is trial 215 with value: 4.604630426795878.\n",
      "[I 2025-07-24 18:31:22,530] Trial 315 finished with value: 4.639058503185665 and parameters: {'n_estimators': 186, 'learning_rate': 0.2008557895231796, 'max_depth': 2, 'subsample': 0.9691420919419748, 'colsample_bytree': 0.9849389472086887, 'gamma': 1.0633119663341954, 'reg_alpha': 0.7397506288747308, 'reg_lambda': 8.626606348242728}. Best is trial 215 with value: 4.604630426795878.\n",
      "[I 2025-07-24 18:31:22,835] Trial 316 finished with value: 4.610253197434989 and parameters: {'n_estimators': 197, 'learning_rate': 0.2086170034015934, 'max_depth': 2, 'subsample': 0.9807974820981661, 'colsample_bytree': 0.9757454751573452, 'gamma': 1.385986804719079, 'reg_alpha': 0.8179057063796925, 'reg_lambda': 6.9921974658431045}. Best is trial 215 with value: 4.604630426795878.\n",
      "[I 2025-07-24 18:31:23,131] Trial 317 finished with value: 4.624224091149017 and parameters: {'n_estimators': 200, 'learning_rate': 0.2104116772271994, 'max_depth': 2, 'subsample': 0.9904851744646216, 'colsample_bytree': 0.9748960467868041, 'gamma': 1.214271854181282, 'reg_alpha': 0.8103228451826571, 'reg_lambda': 6.692398309580046}. Best is trial 215 with value: 4.604630426795878.\n",
      "[I 2025-07-24 18:31:23,404] Trial 318 finished with value: 4.901189089186368 and parameters: {'n_estimators': 198, 'learning_rate': 0.18644510522390337, 'max_depth': 1, 'subsample': 0.9811098975581308, 'colsample_bytree': 0.9709739007022746, 'gamma': 1.2341779442541112, 'reg_alpha': 0.8150767688977053, 'reg_lambda': 6.673124198475037}. Best is trial 215 with value: 4.604630426795878.\n",
      "[I 2025-07-24 18:31:23,746] Trial 319 finished with value: 4.6282539377109835 and parameters: {'n_estimators': 200, 'learning_rate': 0.20938805455851933, 'max_depth': 2, 'subsample': 0.9865598031640628, 'colsample_bytree': 0.9664037876936549, 'gamma': 1.3394897660753124, 'reg_alpha': 0.8269699957636915, 'reg_lambda': 6.842162427324173}. Best is trial 215 with value: 4.604630426795878.\n",
      "[I 2025-07-24 18:31:24,111] Trial 320 finished with value: 4.625053008575428 and parameters: {'n_estimators': 197, 'learning_rate': 0.21166511663410373, 'max_depth': 2, 'subsample': 0.9760894034564771, 'colsample_bytree': 0.9747516946937664, 'gamma': 1.1556175065209968, 'reg_alpha': 0.8111740616134586, 'reg_lambda': 6.989574834439925}. Best is trial 215 with value: 4.604630426795878.\n",
      "[I 2025-07-24 18:31:24,512] Trial 321 finished with value: 4.626727889348061 and parameters: {'n_estimators': 200, 'learning_rate': 0.1955536392254703, 'max_depth': 2, 'subsample': 0.9905749634714806, 'colsample_bytree': 0.9656161123098472, 'gamma': 1.2359734330952805, 'reg_alpha': 0.7927284614203329, 'reg_lambda': 6.973493115515803}. Best is trial 215 with value: 4.604630426795878.\n",
      "[I 2025-07-24 18:31:24,865] Trial 322 finished with value: 4.627823618259665 and parameters: {'n_estimators': 162, 'learning_rate': 0.20797566068005632, 'max_depth': 2, 'subsample': 0.9524022489521692, 'colsample_bytree': 0.977298071837856, 'gamma': 1.468673638645303, 'reg_alpha': 0.8362605638059074, 'reg_lambda': 6.733846231584205}. Best is trial 215 with value: 4.604630426795878.\n",
      "[I 2025-07-24 18:31:25,230] Trial 323 finished with value: 4.641690117762821 and parameters: {'n_estimators': 197, 'learning_rate': 0.2222074047797424, 'max_depth': 2, 'subsample': 0.9790764152834249, 'colsample_bytree': 0.9777955415149343, 'gamma': 1.1074759316316638, 'reg_alpha': 0.7949144380992581, 'reg_lambda': 6.685618148569367}. Best is trial 215 with value: 4.604630426795878.\n",
      "[I 2025-07-24 18:31:25,618] Trial 324 finished with value: 4.679282421796763 and parameters: {'n_estimators': 195, 'learning_rate': 0.19921217002732264, 'max_depth': 2, 'subsample': 0.7816476615393858, 'colsample_bytree': 0.9683492486194064, 'gamma': 1.3575306614586382, 'reg_alpha': 0.7800769007315181, 'reg_lambda': 7.120191899567032}. Best is trial 215 with value: 4.604630426795878.\n",
      "[I 2025-07-24 18:31:25,974] Trial 325 finished with value: 4.625702607428656 and parameters: {'n_estimators': 192, 'learning_rate': 0.21259505617431493, 'max_depth': 2, 'subsample': 0.9905772037190463, 'colsample_bytree': 0.9827878972056369, 'gamma': 1.2108204715917907, 'reg_alpha': 0.819736291236137, 'reg_lambda': 7.36178262029453}. Best is trial 215 with value: 4.604630426795878.\n",
      "[I 2025-07-24 18:31:26,325] Trial 326 finished with value: 4.635794153634509 and parameters: {'n_estimators': 200, 'learning_rate': 0.1915221548761783, 'max_depth': 2, 'subsample': 0.9637697577315567, 'colsample_bytree': 0.9749126019496798, 'gamma': 1.505680418415548, 'reg_alpha': 0.766446637319573, 'reg_lambda': 7.013378466580262}. Best is trial 215 with value: 4.604630426795878.\n",
      "[I 2025-07-24 18:31:26,670] Trial 327 finished with value: 4.947994931316633 and parameters: {'n_estimators': 197, 'learning_rate': 0.18020947863343728, 'max_depth': 6, 'subsample': 0.9999775543443354, 'colsample_bytree': 0.9608103631751984, 'gamma': 0.8564105310891653, 'reg_alpha': 0.7987510503250825, 'reg_lambda': 6.732345293519453}. Best is trial 215 with value: 4.604630426795878.\n",
      "[I 2025-07-24 18:31:27,011] Trial 328 finished with value: 4.641579449944202 and parameters: {'n_estimators': 194, 'learning_rate': 0.2071653828564155, 'max_depth': 2, 'subsample': 0.9767320805221542, 'colsample_bytree': 0.887000446600232, 'gamma': 1.050305350974781, 'reg_alpha': 0.7539027245852093, 'reg_lambda': 7.258664230357707}. Best is trial 215 with value: 4.604630426795878.\n",
      "[I 2025-07-24 18:31:27,303] Trial 329 finished with value: 4.630493724754106 and parameters: {'n_estimators': 170, 'learning_rate': 0.20146538267562702, 'max_depth': 2, 'subsample': 0.9871704922574672, 'colsample_bytree': 0.9928522321867812, 'gamma': 1.2800322977864123, 'reg_alpha': 0.8400342115028671, 'reg_lambda': 6.875384546515371}. Best is trial 215 with value: 4.604630426795878.\n",
      "[I 2025-07-24 18:31:27,655] Trial 330 finished with value: 4.623223710471077 and parameters: {'n_estimators': 197, 'learning_rate': 0.21586381449367337, 'max_depth': 2, 'subsample': 0.9716481338960098, 'colsample_bytree': 0.9831363587181116, 'gamma': 1.367390309399, 'reg_alpha': 0.784244395158134, 'reg_lambda': 8.976288109423706}. Best is trial 215 with value: 4.604630426795878.\n",
      "[I 2025-07-24 18:31:27,939] Trial 331 finished with value: 4.6473416002243395 and parameters: {'n_estimators': 200, 'learning_rate': 0.2188602868091572, 'max_depth': 2, 'subsample': 0.9569472133045138, 'colsample_bytree': 0.9695715048605889, 'gamma': 1.4063906681203957, 'reg_alpha': 0.8057052663690086, 'reg_lambda': 9.053368276147701}. Best is trial 215 with value: 4.604630426795878.\n",
      "[I 2025-07-24 18:31:28,231] Trial 332 finished with value: 4.625122972770694 and parameters: {'n_estimators': 197, 'learning_rate': 0.2141529931665389, 'max_depth': 2, 'subsample': 0.97126951133934, 'colsample_bytree': 0.9805745195406995, 'gamma': 1.5233502479095002, 'reg_alpha': 0.788803002278219, 'reg_lambda': 6.647680758981755}. Best is trial 215 with value: 4.604630426795878.\n",
      "[I 2025-07-24 18:31:28,635] Trial 333 finished with value: 4.881978237208894 and parameters: {'n_estimators': 197, 'learning_rate': 0.22355946747011163, 'max_depth': 3, 'subsample': 0.9788594201322077, 'colsample_bytree': 0.9571230504493996, 'gamma': 1.413125630939454, 'reg_alpha': 0.7749511454361517, 'reg_lambda': 7.098955266030979}. Best is trial 215 with value: 4.604630426795878.\n",
      "[I 2025-07-24 18:31:28,976] Trial 334 finished with value: 5.499492226902554 and parameters: {'n_estimators': 191, 'learning_rate': 0.1833707097886974, 'max_depth': 2, 'subsample': 0.9654503002680814, 'colsample_bytree': 0.7170332528832358, 'gamma': 1.3492411354076255, 'reg_alpha': 0.8217197247950145, 'reg_lambda': 9.771359856372106}. Best is trial 215 with value: 4.604630426795878.\n",
      "[I 2025-07-24 18:31:29,320] Trial 335 finished with value: 5.258599103547534 and parameters: {'n_estimators': 200, 'learning_rate': 0.01686262019330534, 'max_depth': 2, 'subsample': 0.9826660190407368, 'colsample_bytree': 0.8640852540518478, 'gamma': 1.2125425527471545, 'reg_alpha': 0.8523413757849977, 'reg_lambda': 6.453097958104668}. Best is trial 215 with value: 4.604630426795878.\n",
      "[I 2025-07-24 18:31:29,664] Trial 336 finished with value: 4.623499124768574 and parameters: {'n_estimators': 193, 'learning_rate': 0.1945586119049323, 'max_depth': 2, 'subsample': 0.9730901122230597, 'colsample_bytree': 0.9763178662939154, 'gamma': 1.6101368426099751, 'reg_alpha': 0.7643365185986584, 'reg_lambda': 9.312161890667786}. Best is trial 215 with value: 4.604630426795878.\n",
      "[I 2025-07-24 18:31:30,007] Trial 337 finished with value: 4.646692408226756 and parameters: {'n_estimators': 192, 'learning_rate': 0.18868879042493847, 'max_depth': 2, 'subsample': 0.9480090506671086, 'colsample_bytree': 0.9936715392519171, 'gamma': 1.655866036418063, 'reg_alpha': 0.7545779377103654, 'reg_lambda': 7.479458372201032}. Best is trial 215 with value: 4.604630426795878.\n",
      "[I 2025-07-24 18:31:30,284] Trial 338 finished with value: 4.636478242452122 and parameters: {'n_estimators': 153, 'learning_rate': 0.1946214416203544, 'max_depth': 2, 'subsample': 0.9603508323200987, 'colsample_bytree': 0.9839993051299719, 'gamma': 1.559920892377319, 'reg_alpha': 0.7654482619848251, 'reg_lambda': 9.82557773309886}. Best is trial 215 with value: 4.604630426795878.\n",
      "[I 2025-07-24 18:31:30,688] Trial 339 finished with value: 4.919216054668437 and parameters: {'n_estimators': 189, 'learning_rate': 0.19774283467705278, 'max_depth': 4, 'subsample': 0.9713228469690771, 'colsample_bytree': 0.962570159891147, 'gamma': 1.678962739731821, 'reg_alpha': 0.7823992199654201, 'reg_lambda': 9.042735177768007}. Best is trial 215 with value: 4.604630426795878.\n",
      "[I 2025-07-24 18:31:31,070] Trial 340 finished with value: 5.5920085620482025 and parameters: {'n_estimators': 193, 'learning_rate': 0.1847930374511239, 'max_depth': 2, 'subsample': 0.9734611367471102, 'colsample_bytree': 0.798047805256893, 'gamma': 1.5280743421220335, 'reg_alpha': 0.7627943866097826, 'reg_lambda': 9.320848984648418}. Best is trial 215 with value: 4.604630426795878.\n",
      "[I 2025-07-24 18:31:31,387] Trial 341 finished with value: 4.6254569590823 and parameters: {'n_estimators': 185, 'learning_rate': 0.19181563802515114, 'max_depth': 2, 'subsample': 0.9805859838964843, 'colsample_bytree': 0.9989623589391539, 'gamma': 1.4042537517919937, 'reg_alpha': 0.7852445846636943, 'reg_lambda': 7.286182040588869}. Best is trial 215 with value: 4.604630426795878.\n",
      "[I 2025-07-24 18:31:31,727] Trial 342 finished with value: 4.63222264820953 and parameters: {'n_estimators': 195, 'learning_rate': 0.20204130939751344, 'max_depth': 2, 'subsample': 0.9586030030609035, 'colsample_bytree': 0.9765030208999796, 'gamma': 1.7492028963102664, 'reg_alpha': 0.7274726211137383, 'reg_lambda': 9.339155188420122}. Best is trial 215 with value: 4.604630426795878.\n",
      "[I 2025-07-24 18:31:32,090] Trial 343 finished with value: 4.617065915253231 and parameters: {'n_estimators': 190, 'learning_rate': 0.20096277362302647, 'max_depth': 2, 'subsample': 0.9835357519312811, 'colsample_bytree': 0.9854979053209171, 'gamma': 1.333046959963972, 'reg_alpha': 0.7553934297471394, 'reg_lambda': 9.412755918699906}. Best is trial 215 with value: 4.604630426795878.\n",
      "[I 2025-07-24 18:31:32,424] Trial 344 finished with value: 4.6692475924564665 and parameters: {'n_estimators': 189, 'learning_rate': 0.20405767921211615, 'max_depth': 2, 'subsample': 0.9685315556660072, 'colsample_bytree': 0.8418562559575256, 'gamma': 1.5898453199188622, 'reg_alpha': 0.7723425238978905, 'reg_lambda': 9.26952279804194}. Best is trial 215 with value: 4.604630426795878.\n",
      "[I 2025-07-24 18:31:32,775] Trial 345 finished with value: 4.62861934056203 and parameters: {'n_estimators': 185, 'learning_rate': 0.1978529524518731, 'max_depth': 2, 'subsample': 0.9820909983673559, 'colsample_bytree': 0.9873420567793495, 'gamma': 1.3236003668595675, 'reg_alpha': 0.7979118005681469, 'reg_lambda': 9.535200495587599}. Best is trial 215 with value: 4.604630426795878.\n",
      "[I 2025-07-24 18:31:33,131] Trial 346 finished with value: 4.6379836727685015 and parameters: {'n_estimators': 191, 'learning_rate': 0.2157607644141278, 'max_depth': 2, 'subsample': 0.9999948240911877, 'colsample_bytree': 0.9930189226056972, 'gamma': 1.4632649606367056, 'reg_alpha': 0.739258048972718, 'reg_lambda': 9.524663327763337}. Best is trial 215 with value: 4.604630426795878.\n",
      "[I 2025-07-24 18:31:33,438] Trial 347 finished with value: 4.660103857939028 and parameters: {'n_estimators': 189, 'learning_rate': 0.20683759165055213, 'max_depth': 2, 'subsample': 0.9425796542916908, 'colsample_bytree': 0.9822472394360925, 'gamma': 1.3127412431471592, 'reg_alpha': 0.7593134435831689, 'reg_lambda': 9.20834209567985}. Best is trial 215 with value: 4.604630426795878.\n",
      "[I 2025-07-24 18:31:33,771] Trial 348 finished with value: 4.637714274770906 and parameters: {'n_estimators': 192, 'learning_rate': 0.20058090328789174, 'max_depth': 2, 'subsample': 0.9743450791926617, 'colsample_bytree': 0.9852714130099364, 'gamma': 1.416326838791886, 'reg_alpha': 0.7204759861345166, 'reg_lambda': 9.527596007634086}. Best is trial 215 with value: 4.604630426795878.\n",
      "[I 2025-07-24 18:31:33,961] Trial 349 finished with value: 5.022394642272617 and parameters: {'n_estimators': 51, 'learning_rate': 0.1938353022441263, 'max_depth': 1, 'subsample': 0.9904822006418373, 'colsample_bytree': 0.9722480942864498, 'gamma': 1.6088724551012832, 'reg_alpha': 0.7490565364121814, 'reg_lambda': 8.836802373379808}. Best is trial 215 with value: 4.604630426795878.\n",
      "[I 2025-07-24 18:31:34,307] Trial 350 finished with value: 4.6461959020216215 and parameters: {'n_estimators': 194, 'learning_rate': 0.20964974076317594, 'max_depth': 2, 'subsample': 0.9640625831007842, 'colsample_bytree': 0.9915768114394329, 'gamma': 1.495670475674616, 'reg_alpha': 0.7854451114177267, 'reg_lambda': 8.987614071707611}. Best is trial 215 with value: 4.604630426795878.\n",
      "[I 2025-07-24 18:31:34,643] Trial 351 finished with value: 4.620331137925646 and parameters: {'n_estimators': 187, 'learning_rate': 0.21701339632082922, 'max_depth': 2, 'subsample': 0.979719304667353, 'colsample_bytree': 0.9793431486335594, 'gamma': 0.8539748224882777, 'reg_alpha': 0.8079781230520846, 'reg_lambda': 9.542367499549611}. Best is trial 215 with value: 4.604630426795878.\n",
      "[I 2025-07-24 18:31:34,953] Trial 352 finished with value: 4.631341982505849 and parameters: {'n_estimators': 184, 'learning_rate': 0.23094533164224437, 'max_depth': 2, 'subsample': 0.9830321318009063, 'colsample_bytree': 0.9984327515014715, 'gamma': 0.8244379991435005, 'reg_alpha': 0.8151611814232255, 'reg_lambda': 7.488142630209746}. Best is trial 215 with value: 4.604630426795878.\n",
      "[I 2025-07-24 18:31:35,225] Trial 353 finished with value: 4.626396826835699 and parameters: {'n_estimators': 186, 'learning_rate': 0.223951842621892, 'max_depth': 2, 'subsample': 0.9999676125712558, 'colsample_bytree': 0.999799190036856, 'gamma': 0.931484137295197, 'reg_alpha': 0.8371655237967892, 'reg_lambda': 9.783332742068966}. Best is trial 215 with value: 4.604630426795878.\n",
      "[I 2025-07-24 18:31:35,557] Trial 354 finished with value: 4.627032656694154 and parameters: {'n_estimators': 182, 'learning_rate': 0.21897746441888222, 'max_depth': 2, 'subsample': 0.9908744648343186, 'colsample_bytree': 0.9783921879670339, 'gamma': 0.8265575220511691, 'reg_alpha': 0.8679966681813265, 'reg_lambda': 7.628575924236142}. Best is trial 215 with value: 4.604630426795878.\n",
      "[I 2025-07-24 18:31:35,949] Trial 355 finished with value: 4.638915282131964 and parameters: {'n_estimators': 188, 'learning_rate': 0.21455412221169354, 'max_depth': 2, 'subsample': 0.9813078417934608, 'colsample_bytree': 0.987687360842089, 'gamma': 0.9843360164345782, 'reg_alpha': 0.8032066237139865, 'reg_lambda': 7.191114079140139}. Best is trial 215 with value: 4.604630426795878.\n",
      "[I 2025-07-24 18:31:36,262] Trial 356 finished with value: 4.821679348050535 and parameters: {'n_estimators': 189, 'learning_rate': 0.21334117696561625, 'max_depth': 3, 'subsample': 0.9907212493291406, 'colsample_bytree': 0.967928554450835, 'gamma': 0.6063743053784386, 'reg_alpha': 0.7941955648200435, 'reg_lambda': 9.505645798551756}. Best is trial 215 with value: 4.604630426795878.\n",
      "[I 2025-07-24 18:31:36,591] Trial 357 finished with value: 5.807199772472244 and parameters: {'n_estimators': 196, 'learning_rate': 0.23737501367195443, 'max_depth': 2, 'subsample': 0.9712004147794168, 'colsample_bytree': 0.6520010540363326, 'gamma': 0.8034383511834582, 'reg_alpha': 0.8242405838206073, 'reg_lambda': 7.377069466388197}. Best is trial 215 with value: 4.604630426795878.\n",
      "[I 2025-07-24 18:31:36,867] Trial 358 finished with value: 4.646788516509913 and parameters: {'n_estimators': 191, 'learning_rate': 0.22682100502049615, 'max_depth': 2, 'subsample': 0.9536106845787453, 'colsample_bytree': 0.9853120564257669, 'gamma': 1.158282022486342, 'reg_alpha': 0.7757254293549478, 'reg_lambda': 9.781438166362031}. Best is trial 215 with value: 4.604630426795878.\n",
      "[I 2025-07-24 18:31:37,179] Trial 359 finished with value: 4.635241295426689 and parameters: {'n_estimators': 186, 'learning_rate': 0.20433815658496676, 'max_depth': 2, 'subsample': 0.982350468163951, 'colsample_bytree': 0.9910427275645483, 'gamma': 1.302061904712031, 'reg_alpha': 0.7252261453977866, 'reg_lambda': 9.947578757935835}. Best is trial 215 with value: 4.604630426795878.\n",
      "[I 2025-07-24 18:31:37,529] Trial 360 finished with value: 6.1957397092641315 and parameters: {'n_estimators': 180, 'learning_rate': 0.20773565989044188, 'max_depth': 2, 'subsample': 0.991642819487284, 'colsample_bytree': 0.6070943290271511, 'gamma': 0.9525419862098332, 'reg_alpha': 0.7521348344776658, 'reg_lambda': 7.776213238585491}. Best is trial 215 with value: 4.604630426795878.\n",
      "[I 2025-07-24 18:31:37,868] Trial 361 finished with value: 4.640307482902326 and parameters: {'n_estimators': 195, 'learning_rate': 0.21912887105013698, 'max_depth': 2, 'subsample': 0.9632738765623804, 'colsample_bytree': 0.9805435647901356, 'gamma': 1.1378834520040173, 'reg_alpha': 0.7105517429003447, 'reg_lambda': 7.046895537176286}. Best is trial 215 with value: 4.604630426795878.\n",
      "[I 2025-07-24 18:31:38,204] Trial 362 finished with value: 4.634560323024613 and parameters: {'n_estimators': 190, 'learning_rate': 0.21229636996154624, 'max_depth': 2, 'subsample': 0.9769941487067534, 'colsample_bytree': 0.9688941742842742, 'gamma': 0.7263607288025331, 'reg_alpha': 0.7373627932845038, 'reg_lambda': 7.3507165675102675}. Best is trial 215 with value: 4.604630426795878.\n",
      "[I 2025-07-24 18:31:38,595] Trial 363 finished with value: 4.621123074548724 and parameters: {'n_estimators': 196, 'learning_rate': 0.2037224768897928, 'max_depth': 2, 'subsample': 0.9916575387919682, 'colsample_bytree': 0.9806111999071079, 'gamma': 1.279725332142439, 'reg_alpha': 0.8104390122693554, 'reg_lambda': 7.601779463060328}. Best is trial 215 with value: 4.604630426795878.\n",
      "[I 2025-07-24 18:31:38,973] Trial 364 finished with value: 4.634771304792003 and parameters: {'n_estimators': 193, 'learning_rate': 0.20029879620544505, 'max_depth': 2, 'subsample': 0.991763275796752, 'colsample_bytree': 0.9740505729352061, 'gamma': 3.7160261357841327, 'reg_alpha': 0.8421412491756622, 'reg_lambda': 7.932359528736512}. Best is trial 215 with value: 4.604630426795878.\n",
      "[I 2025-07-24 18:31:39,316] Trial 365 finished with value: 4.637010717875561 and parameters: {'n_estimators': 186, 'learning_rate': 0.20457669483349042, 'max_depth': 2, 'subsample': 0.9997451618873989, 'colsample_bytree': 0.9919042586661393, 'gamma': 1.2461729569916657, 'reg_alpha': 0.8213174374809051, 'reg_lambda': 7.58254192119328}. Best is trial 215 with value: 4.604630426795878.\n",
      "[I 2025-07-24 18:31:39,633] Trial 366 finished with value: 4.621270417553107 and parameters: {'n_estimators': 191, 'learning_rate': 0.19844510354724929, 'max_depth': 2, 'subsample': 0.9825197316508532, 'colsample_bytree': 0.9791925050854994, 'gamma': 0.9072655831136546, 'reg_alpha': 0.5180329050890344, 'reg_lambda': 7.211986401710643}. Best is trial 215 with value: 4.604630426795878.\n",
      "[I 2025-07-24 18:31:39,914] Trial 367 finished with value: 4.618956498120347 and parameters: {'n_estimators': 190, 'learning_rate': 0.19917178299850039, 'max_depth': 2, 'subsample': 0.982244402451106, 'colsample_bytree': 0.982563583773353, 'gamma': 1.0231297909403425, 'reg_alpha': 0.6495415895399699, 'reg_lambda': 7.142406582102212}. Best is trial 215 with value: 4.604630426795878.\n",
      "[I 2025-07-24 18:31:40,193] Trial 368 finished with value: 4.6155378338702455 and parameters: {'n_estimators': 188, 'learning_rate': 0.19810592851890302, 'max_depth': 2, 'subsample': 0.981730975650633, 'colsample_bytree': 0.9653922574630139, 'gamma': 1.0002414073149504, 'reg_alpha': 0.6620125220434901, 'reg_lambda': 7.1493451416228355}. Best is trial 215 with value: 4.604630426795878.\n",
      "[I 2025-07-24 18:31:40,558] Trial 369 finished with value: 4.625774967185602 and parameters: {'n_estimators': 184, 'learning_rate': 0.19898706023394055, 'max_depth': 2, 'subsample': 0.9907019309612207, 'colsample_bytree': 0.9658844807927988, 'gamma': 0.8890887586858585, 'reg_alpha': 0.6308948643912387, 'reg_lambda': 7.0444566489710665}. Best is trial 215 with value: 4.604630426795878.\n",
      "[I 2025-07-24 18:31:40,893] Trial 370 finished with value: 4.631563381921996 and parameters: {'n_estimators': 188, 'learning_rate': 0.18820581083000754, 'max_depth': 2, 'subsample': 0.9803578774667618, 'colsample_bytree': 0.964662406005065, 'gamma': 1.0215839469510348, 'reg_alpha': 0.6543456699036606, 'reg_lambda': 7.495216517977211}. Best is trial 215 with value: 4.604630426795878.\n",
      "[I 2025-07-24 18:31:41,185] Trial 371 finished with value: 4.630827460306976 and parameters: {'n_estimators': 187, 'learning_rate': 0.195623687457047, 'max_depth': 2, 'subsample': 0.9665306459197675, 'colsample_bytree': 0.9518883483942285, 'gamma': 0.9706324032950211, 'reg_alpha': 0.5260003520647152, 'reg_lambda': 7.11529135094165}. Best is trial 215 with value: 4.604630426795878.\n",
      "[I 2025-07-24 18:31:41,451] Trial 372 finished with value: 4.9089352048984525 and parameters: {'n_estimators': 190, 'learning_rate': 0.19969837989233105, 'max_depth': 1, 'subsample': 0.9852372130958515, 'colsample_bytree': 0.9763827934737394, 'gamma': 0.8881434162189246, 'reg_alpha': 0.6096175375511282, 'reg_lambda': 7.765466683817637}. Best is trial 215 with value: 4.604630426795878.\n",
      "[I 2025-07-24 18:31:41,720] Trial 373 finished with value: 4.641089696453673 and parameters: {'n_estimators': 183, 'learning_rate': 0.1914574155420141, 'max_depth': 2, 'subsample': 0.9921950633796235, 'colsample_bytree': 0.9711302300386474, 'gamma': 1.0750034224876486, 'reg_alpha': 0.5123406062688399, 'reg_lambda': 6.972714976116615}. Best is trial 215 with value: 4.604630426795878.\n",
      "[I 2025-07-24 18:31:41,991] Trial 374 finished with value: 4.629587289780248 and parameters: {'n_estimators': 191, 'learning_rate': 0.20669285362496526, 'max_depth': 2, 'subsample': 0.9715663286274094, 'colsample_bytree': 0.9595494925062055, 'gamma': 1.005985648624635, 'reg_alpha': 0.6751263973240342, 'reg_lambda': 7.328640035259635}. Best is trial 215 with value: 4.604630426795878.\n",
      "[I 2025-07-24 18:31:42,253] Trial 375 finished with value: 4.626877509504678 and parameters: {'n_estimators': 187, 'learning_rate': 0.18236988842900265, 'max_depth': 2, 'subsample': 0.9807370831187094, 'colsample_bytree': 0.9799759625305556, 'gamma': 0.8338850493816339, 'reg_alpha': 0.6997257169998521, 'reg_lambda': 7.179230759048653}. Best is trial 215 with value: 4.604630426795878.\n",
      "[I 2025-07-24 18:31:42,521] Trial 376 finished with value: 4.647632913069381 and parameters: {'n_estimators': 190, 'learning_rate': 0.20149449284817936, 'max_depth': 2, 'subsample': 0.9998482457878249, 'colsample_bytree': 0.9656548375185979, 'gamma': 1.0829553224809731, 'reg_alpha': 0.6304258850977673, 'reg_lambda': 7.56280749264348}. Best is trial 215 with value: 4.604630426795878.\n",
      "[I 2025-07-24 18:31:42,690] Trial 377 finished with value: 4.687455452053858 and parameters: {'n_estimators': 59, 'learning_rate': 0.19462089280286465, 'max_depth': 2, 'subsample': 0.5044803261827451, 'colsample_bytree': 0.9800325281528026, 'gamma': 0.9201758033976859, 'reg_alpha': 0.6547300423416316, 'reg_lambda': 6.900484509132396}. Best is trial 215 with value: 4.604630426795878.\n",
      "[I 2025-07-24 18:31:42,963] Trial 378 finished with value: 5.8300603681574215 and parameters: {'n_estimators': 192, 'learning_rate': 0.20739806681360287, 'max_depth': 2, 'subsample': 0.7419886137817423, 'colsample_bytree': 0.6180226005408912, 'gamma': 1.1062665985280613, 'reg_alpha': 0.6891327619137617, 'reg_lambda': 7.392916443589465}. Best is trial 215 with value: 4.604630426795878.\n",
      "[I 2025-07-24 18:31:43,227] Trial 379 finished with value: 4.639670895813666 and parameters: {'n_estimators': 184, 'learning_rate': 0.19884103589743288, 'max_depth': 2, 'subsample': 0.962262005083648, 'colsample_bytree': 0.973383529878751, 'gamma': 0.9752487317675036, 'reg_alpha': 0.4248574614142017, 'reg_lambda': 7.649541945759496}. Best is trial 215 with value: 4.604630426795878.\n",
      "[I 2025-07-24 18:31:43,523] Trial 380 finished with value: 4.643260490421698 and parameters: {'n_estimators': 187, 'learning_rate': 0.18872249207018651, 'max_depth': 2, 'subsample': 0.975114284122696, 'colsample_bytree': 0.9856289260776023, 'gamma': 0.7382556497519948, 'reg_alpha': 0.585971049201632, 'reg_lambda': 7.166051787292836}. Best is trial 215 with value: 4.604630426795878.\n",
      "[I 2025-07-24 18:31:43,974] Trial 381 finished with value: 5.102107979664258 and parameters: {'n_estimators': 193, 'learning_rate': 0.20468391864619423, 'max_depth': 7, 'subsample': 0.9522951957364663, 'colsample_bytree': 0.9558903240468735, 'gamma': 1.1629115439172333, 'reg_alpha': 0.6455363731211408, 'reg_lambda': 6.928998367177026}. Best is trial 215 with value: 4.604630426795878.\n",
      "[I 2025-07-24 18:31:44,254] Trial 382 finished with value: 4.638099336280412 and parameters: {'n_estimators': 190, 'learning_rate': 0.2088510182130919, 'max_depth': 2, 'subsample': 0.9906064658447111, 'colsample_bytree': 0.9798526806617355, 'gamma': 0.4980865003231365, 'reg_alpha': 0.6611749647092876, 'reg_lambda': 7.458619916512777}. Best is trial 215 with value: 4.604630426795878.\n",
      "[I 2025-07-24 18:31:44,597] Trial 383 finished with value: 4.633031788893203 and parameters: {'n_estimators': 194, 'learning_rate': 0.1794529200927476, 'max_depth': 2, 'subsample': 0.9835246795517114, 'colsample_bytree': 0.9669719650132832, 'gamma': 0.8740160042231133, 'reg_alpha': 0.6804325739995387, 'reg_lambda': 7.959693039181003}. Best is trial 215 with value: 4.604630426795878.\n",
      "[I 2025-07-24 18:31:44,863] Trial 384 finished with value: 4.626653815915351 and parameters: {'n_estimators': 182, 'learning_rate': 0.1965441999521459, 'max_depth': 2, 'subsample': 0.973496078690354, 'colsample_bytree': 0.9732896393036897, 'gamma': 0.6120795541403146, 'reg_alpha': 0.6921941099809906, 'reg_lambda': 7.272739291608122}. Best is trial 215 with value: 4.604630426795878.\n",
      "[I 2025-07-24 18:31:45,125] Trial 385 finished with value: 4.65208660848402 and parameters: {'n_estimators': 188, 'learning_rate': 0.28662140189447155, 'max_depth': 2, 'subsample': 0.9996042080053424, 'colsample_bytree': 0.9848614920101267, 'gamma': 1.0535182927721016, 'reg_alpha': 0.5610408965237148, 'reg_lambda': 7.767930582061813}. Best is trial 215 with value: 4.604630426795878.\n",
      "[I 2025-07-24 18:31:45,391] Trial 386 finished with value: 4.769208655123772 and parameters: {'n_estimators': 192, 'learning_rate': 0.20232858174027246, 'max_depth': 2, 'subsample': 0.9867503885963477, 'colsample_bytree': 0.9928890500598123, 'gamma': 1.1646841820961957, 'reg_alpha': 0.7118550642354109, 'reg_lambda': 0.21870726295579335}. Best is trial 215 with value: 4.604630426795878.\n",
      "[I 2025-07-24 18:31:45,660] Trial 387 finished with value: 4.632396517037248 and parameters: {'n_estimators': 194, 'learning_rate': 0.1898650961168851, 'max_depth': 2, 'subsample': 0.9618116355931483, 'colsample_bytree': 0.9459783389213678, 'gamma': 0.7998541321733621, 'reg_alpha': 0.8458128726168966, 'reg_lambda': 7.07508700664078}. Best is trial 215 with value: 4.604630426795878.\n",
      "[I 2025-07-24 18:31:45,862] Trial 388 finished with value: 4.819792259928728 and parameters: {'n_estimators': 81, 'learning_rate': 0.21051345009860958, 'max_depth': 3, 'subsample': 0.9792556418596247, 'colsample_bytree': 0.961194092497266, 'gamma': 0.9836520789904273, 'reg_alpha': 0.8100728230814371, 'reg_lambda': 6.604837979280161}. Best is trial 215 with value: 4.604630426795878.\n",
      "[I 2025-07-24 18:31:46,113] Trial 389 finished with value: 4.636227522648248 and parameters: {'n_estimators': 185, 'learning_rate': 0.19596524497965456, 'max_depth': 2, 'subsample': 0.9999293390671603, 'colsample_bytree': 0.9788150160241941, 'gamma': 4.453203551490402, 'reg_alpha': 0.7149534683155174, 'reg_lambda': 6.763540531618644}. Best is trial 215 with value: 4.604630426795878.\n",
      "[I 2025-07-24 18:31:46,381] Trial 390 finished with value: 4.627378402450405 and parameters: {'n_estimators': 189, 'learning_rate': 0.20307457527657483, 'max_depth': 2, 'subsample': 0.9898403996420433, 'colsample_bytree': 0.9856104163274539, 'gamma': 1.189948146028123, 'reg_alpha': 0.6733182010850908, 'reg_lambda': 7.461144565222578}. Best is trial 215 with value: 4.604630426795878.\n",
      "[I 2025-07-24 18:31:46,652] Trial 391 finished with value: 4.620721904750807 and parameters: {'n_estimators': 196, 'learning_rate': 0.1844422089779657, 'max_depth': 2, 'subsample': 0.9715405242940883, 'colsample_bytree': 0.9738778914426586, 'gamma': 0.6859933681989668, 'reg_alpha': 0.4839778872274941, 'reg_lambda': 7.227174243600335}. Best is trial 215 with value: 4.604630426795878.\n",
      "[I 2025-07-24 18:31:46,935] Trial 392 finished with value: 4.625187016369491 and parameters: {'n_estimators': 197, 'learning_rate': 0.1861693065431459, 'max_depth': 2, 'subsample': 0.9690554796348069, 'colsample_bytree': 0.9689323500687826, 'gamma': 0.6384399629669237, 'reg_alpha': 0.552926535815855, 'reg_lambda': 6.889680652428017}. Best is trial 215 with value: 4.604630426795878.\n",
      "[I 2025-07-24 18:31:47,220] Trial 393 finished with value: 4.648789122011211 and parameters: {'n_estimators': 196, 'learning_rate': 0.184592170459587, 'max_depth': 2, 'subsample': 0.9572632132223554, 'colsample_bytree': 0.954474500735515, 'gamma': 0.007416430096486515, 'reg_alpha': 0.8677788643855011, 'reg_lambda': 7.1417217720342565}. Best is trial 215 with value: 4.604630426795878.\n",
      "[I 2025-07-24 18:31:47,539] Trial 394 finished with value: 4.643764764379559 and parameters: {'n_estimators': 179, 'learning_rate': 0.1789794469007494, 'max_depth': 2, 'subsample': 0.9759327217413195, 'colsample_bytree': 0.9728224937775244, 'gamma': 0.7100889425664738, 'reg_alpha': 0.4435478408323077, 'reg_lambda': 4.578898832146157}. Best is trial 215 with value: 4.604630426795878.\n",
      "[I 2025-07-24 18:31:47,880] Trial 395 finished with value: 4.91096397578311 and parameters: {'n_estimators': 197, 'learning_rate': 0.19452245203333682, 'max_depth': 1, 'subsample': 0.9668106385898602, 'colsample_bytree': 0.9996185140558136, 'gamma': 0.5583218563298027, 'reg_alpha': 0.47546486241473296, 'reg_lambda': 7.227379634393543}. Best is trial 215 with value: 4.604630426795878.\n",
      "[I 2025-07-24 18:31:48,259] Trial 396 finished with value: 5.568194877965142 and parameters: {'n_estimators': 195, 'learning_rate': 0.19098871866276806, 'max_depth': 2, 'subsample': 0.9363942658673317, 'colsample_bytree': 0.7849078204506323, 'gamma': 0.793655854117979, 'reg_alpha': 0.8081328971055767, 'reg_lambda': 6.972778727549503}. Best is trial 215 with value: 4.604630426795878.\n",
      "[I 2025-07-24 18:31:48,553] Trial 397 finished with value: 4.616009963055261 and parameters: {'n_estimators': 192, 'learning_rate': 0.1839484979962671, 'max_depth': 2, 'subsample': 0.9821346096908757, 'colsample_bytree': 0.9642425212385177, 'gamma': 0.9326807314012893, 'reg_alpha': 0.725093893024688, 'reg_lambda': 6.476798127896936}. Best is trial 215 with value: 4.604630426795878.\n",
      "[I 2025-07-24 18:31:48,842] Trial 398 finished with value: 4.644584583255301 and parameters: {'n_estimators': 190, 'learning_rate': 0.17657137518143573, 'max_depth': 2, 'subsample': 0.9764179670388539, 'colsample_bytree': 0.9588222387487428, 'gamma': 0.8535567839215252, 'reg_alpha': 0.5023143076266829, 'reg_lambda': 6.492233360538106}. Best is trial 215 with value: 4.604630426795878.\n",
      "[I 2025-07-24 18:31:49,130] Trial 399 finished with value: 4.644470847568754 and parameters: {'n_estimators': 187, 'learning_rate': 0.18246666492527705, 'max_depth': 2, 'subsample': 0.9841752408041897, 'colsample_bytree': 0.9473564826571769, 'gamma': 0.9018904030903995, 'reg_alpha': 0.511523587039771, 'reg_lambda': 6.329660291449851}. Best is trial 215 with value: 4.604630426795878.\n",
      "[I 2025-07-24 18:31:49,445] Trial 400 finished with value: 4.8626792706218875 and parameters: {'n_estimators': 194, 'learning_rate': 0.1848159574954185, 'max_depth': 3, 'subsample': 0.964849655111601, 'colsample_bytree': 0.9641093291780818, 'gamma': 1.0075484100461467, 'reg_alpha': 0.6991885199954425, 'reg_lambda': 6.627622110956039}. Best is trial 215 with value: 4.604630426795878.\n",
      "[I 2025-07-24 18:31:49,791] Trial 401 finished with value: 4.662336067904648 and parameters: {'n_estimators': 191, 'learning_rate': 0.1781045118042112, 'max_depth': 2, 'subsample': 0.9479345238742553, 'colsample_bytree': 0.9635100682788553, 'gamma': 0.6999261512527153, 'reg_alpha': 0.7160501650461584, 'reg_lambda': 6.79663071763348}. Best is trial 215 with value: 4.604630426795878.\n",
      "[I 2025-07-24 18:31:50,118] Trial 402 finished with value: 4.62730609898706 and parameters: {'n_estimators': 182, 'learning_rate': 0.18940893122514912, 'max_depth': 2, 'subsample': 0.990782666082147, 'colsample_bytree': 0.971233755268152, 'gamma': 0.9126488416186911, 'reg_alpha': 0.47776046592351645, 'reg_lambda': 6.468530267670633}. Best is trial 215 with value: 4.604630426795878.\n",
      "[I 2025-07-24 18:31:50,412] Trial 403 finished with value: 4.631940607436599 and parameters: {'n_estimators': 198, 'learning_rate': 0.19613653524002994, 'max_depth': 2, 'subsample': 0.9751541741576208, 'colsample_bytree': 0.8983209776630656, 'gamma': 0.8105998555319113, 'reg_alpha': 0.7344232133466206, 'reg_lambda': 6.2298587755450505}. Best is trial 215 with value: 4.604630426795878.\n",
      "[I 2025-07-24 18:31:50,686] Trial 404 finished with value: 4.646844939815881 and parameters: {'n_estimators': 187, 'learning_rate': 0.1838211061378133, 'max_depth': 2, 'subsample': 0.9997551331437093, 'colsample_bytree': 0.9548996634364004, 'gamma': 0.4522592416773574, 'reg_alpha': 0.4567480166189146, 'reg_lambda': 6.741250816649327}. Best is trial 215 with value: 4.604630426795878.\n",
      "[I 2025-07-24 18:31:50,990] Trial 405 finished with value: 4.624344889696856 and parameters: {'n_estimators': 191, 'learning_rate': 0.19275327830514552, 'max_depth': 2, 'subsample': 0.98409755592882, 'colsample_bytree': 0.9767539297906197, 'gamma': 1.0288092620377964, 'reg_alpha': 0.8282886886647649, 'reg_lambda': 7.007087326440967}. Best is trial 215 with value: 4.604630426795878.\n",
      "[I 2025-07-24 18:31:51,296] Trial 406 finished with value: 4.641496224839426 and parameters: {'n_estimators': 197, 'learning_rate': 0.19962016583760303, 'max_depth': 2, 'subsample': 0.9566106990964776, 'colsample_bytree': 0.987730462344726, 'gamma': 0.6448388834808622, 'reg_alpha': 0.7759958882437012, 'reg_lambda': 6.559383173546906}. Best is trial 215 with value: 4.604630426795878.\n",
      "[I 2025-07-24 18:31:51,587] Trial 407 finished with value: 4.680620122945222 and parameters: {'n_estimators': 185, 'learning_rate': 0.189359160229748, 'max_depth': 2, 'subsample': 0.5736907812836508, 'colsample_bytree': 0.9999993041509491, 'gamma': 0.7691416893118843, 'reg_alpha': 0.48266221016705924, 'reg_lambda': 7.632411026513735}. Best is trial 215 with value: 4.604630426795878.\n",
      "[I 2025-07-24 18:31:51,886] Trial 408 finished with value: 4.671837341772197 and parameters: {'n_estimators': 194, 'learning_rate': 0.20126716672584374, 'max_depth': 2, 'subsample': 0.8351225659291464, 'colsample_bytree': 0.9716561337543482, 'gamma': 0.3087455039160176, 'reg_alpha': 0.725886804871712, 'reg_lambda': 7.186156340322114}. Best is trial 215 with value: 4.604630426795878.\n",
      "[I 2025-07-24 18:31:52,201] Trial 409 finished with value: 4.629671034346046 and parameters: {'n_estimators': 148, 'learning_rate': 0.17593442745244292, 'max_depth': 2, 'subsample': 0.9704863824456781, 'colsample_bytree': 0.9628780556722306, 'gamma': 0.9056681564849649, 'reg_alpha': 0.6698900870471372, 'reg_lambda': 6.103415813210516}. Best is trial 215 with value: 4.604630426795878.\n",
      "[I 2025-07-24 18:31:52,529] Trial 410 finished with value: 4.918777975373054 and parameters: {'n_estimators': 200, 'learning_rate': 0.20487910700990586, 'max_depth': 4, 'subsample': 0.9923336007264324, 'colsample_bytree': 0.9915203687240092, 'gamma': 1.066530243613058, 'reg_alpha': 0.5402128370647247, 'reg_lambda': 6.809947933660314}. Best is trial 215 with value: 4.604630426795878.\n",
      "[I 2025-07-24 18:31:52,819] Trial 411 finished with value: 4.6410342607766895 and parameters: {'n_estimators': 192, 'learning_rate': 0.19665322608376162, 'max_depth': 2, 'subsample': 0.9817979686672209, 'colsample_bytree': 0.978886588446519, 'gamma': 1.1298430187786406, 'reg_alpha': 0.6077190201427826, 'reg_lambda': 8.59005446674867}. Best is trial 215 with value: 4.604630426795878.\n",
      "[I 2025-07-24 18:31:53,105] Trial 412 finished with value: 5.296146743311078 and parameters: {'n_estimators': 189, 'learning_rate': 0.18344183031401715, 'max_depth': 2, 'subsample': 0.9709564148459529, 'colsample_bytree': 0.6909824160873604, 'gamma': 0.9426716249816115, 'reg_alpha': 0.7965903632671238, 'reg_lambda': 0.7520434202123463}. Best is trial 215 with value: 4.604630426795878.\n",
      "[I 2025-07-24 18:31:53,426] Trial 413 finished with value: 4.641920316912876 and parameters: {'n_estimators': 195, 'learning_rate': 0.19259320175959313, 'max_depth': 2, 'subsample': 0.9922529366377282, 'colsample_bytree': 0.9692201537231957, 'gamma': 0.7516491643032841, 'reg_alpha': 0.4927580092682068, 'reg_lambda': 7.5178015975001315}. Best is trial 215 with value: 4.604630426795878.\n",
      "[I 2025-07-24 18:31:53,794] Trial 414 finished with value: 4.617958295940729 and parameters: {'n_estimators': 189, 'learning_rate': 0.2071400497150258, 'max_depth': 2, 'subsample': 0.9818796222269972, 'colsample_bytree': 0.9508063059858392, 'gamma': 1.0091640575242657, 'reg_alpha': 0.703101644799739, 'reg_lambda': 7.009144737144934}. Best is trial 215 with value: 4.604630426795878.\n",
      "[I 2025-07-24 18:31:54,044] Trial 415 finished with value: 4.939918811611221 and parameters: {'n_estimators': 100, 'learning_rate': 0.2084125484968389, 'max_depth': 2, 'subsample': 0.634353363829717, 'colsample_bytree': 0.9486029238568977, 'gamma': 1.1165560599015476, 'reg_alpha': 0.695001853133512, 'reg_lambda': 6.625356885590946}. Best is trial 215 with value: 4.604630426795878.\n",
      "[I 2025-07-24 18:31:54,385] Trial 416 finished with value: 4.634528254628585 and parameters: {'n_estimators': 185, 'learning_rate': 0.20558799836980304, 'max_depth': 2, 'subsample': 0.9638842051453568, 'colsample_bytree': 0.9335383674626098, 'gamma': 1.2407698536117755, 'reg_alpha': 0.7035469602420522, 'reg_lambda': 6.920841026533908}. Best is trial 215 with value: 4.604630426795878.\n",
      "[I 2025-07-24 18:31:54,773] Trial 417 finished with value: 4.86435637482354 and parameters: {'n_estimators': 181, 'learning_rate': 0.21183595435174737, 'max_depth': 2, 'subsample': 0.5294411914951289, 'colsample_bytree': 0.9420795594896094, 'gamma': 1.0302605081867495, 'reg_alpha': 0.7242047813528948, 'reg_lambda': 6.358844951851116}. Best is trial 215 with value: 4.604630426795878.\n",
      "[I 2025-07-24 18:31:55,131] Trial 418 finished with value: 4.628283160339868 and parameters: {'n_estimators': 189, 'learning_rate': 0.2017049848011165, 'max_depth': 2, 'subsample': 0.9770314866621056, 'colsample_bytree': 0.9595649295448961, 'gamma': 0.5057503325657609, 'reg_alpha': 0.6790017312805237, 'reg_lambda': 7.014867067504613}. Best is trial 215 with value: 4.604630426795878.\n",
      "[I 2025-07-24 18:31:55,431] Trial 419 finished with value: 5.530384273319321 and parameters: {'n_estimators': 198, 'learning_rate': 0.18705684200021067, 'max_depth': 2, 'subsample': 0.9911053209221197, 'colsample_bytree': 0.7416023286882139, 'gamma': 1.1778171344286168, 'reg_alpha': 0.7552184181650635, 'reg_lambda': 7.337346138763331}. Best is trial 215 with value: 4.604630426795878.\n",
      "[I 2025-07-24 18:31:55,700] Trial 420 finished with value: 4.662406350974753 and parameters: {'n_estimators': 193, 'learning_rate': 0.17333983859289065, 'max_depth': 2, 'subsample': 0.9831851889452563, 'colsample_bytree': 0.9496452844700415, 'gamma': 1.0124017373203253, 'reg_alpha': 0.8531119988265122, 'reg_lambda': 6.774470756515994}. Best is trial 215 with value: 4.604630426795878.\n",
      "[I 2025-07-24 18:31:55,964] Trial 421 finished with value: 4.643730634086076 and parameters: {'n_estimators': 177, 'learning_rate': 0.20698762488105854, 'max_depth': 2, 'subsample': 0.9553885178792887, 'colsample_bytree': 0.9397697734848519, 'gamma': 0.6407404877182519, 'reg_alpha': 0.7373139972633846, 'reg_lambda': 7.085591348533546}. Best is trial 215 with value: 4.604630426795878.\n",
      "[I 2025-07-24 18:31:56,330] Trial 422 finished with value: 4.641068533758096 and parameters: {'n_estimators': 188, 'learning_rate': 0.2004041430178821, 'max_depth': 2, 'subsample': 0.9711606224538337, 'colsample_bytree': 0.9522864757774101, 'gamma': 1.126535610799287, 'reg_alpha': 0.7057188202542438, 'reg_lambda': 6.438989223930996}. Best is trial 215 with value: 4.604630426795878.\n",
      "[I 2025-07-24 18:31:56,647] Trial 423 finished with value: 4.913773444233979 and parameters: {'n_estimators': 184, 'learning_rate': 0.21343338434179474, 'max_depth': 1, 'subsample': 0.9925138340093708, 'colsample_bytree': 0.9560195308536239, 'gamma': 0.8133714409364603, 'reg_alpha': 0.7786042571612006, 'reg_lambda': 7.618194307370218}. Best is trial 215 with value: 4.604630426795878.\n",
      "[I 2025-07-24 18:31:57,009] Trial 424 finished with value: 4.626968276896296 and parameters: {'n_estimators': 197, 'learning_rate': 0.19451850234681814, 'max_depth': 2, 'subsample': 0.9788227205460411, 'colsample_bytree': 0.9657702907601169, 'gamma': 0.9820946929419628, 'reg_alpha': 0.7437104444166898, 'reg_lambda': 6.888697908901445}. Best is trial 215 with value: 4.604630426795878.\n",
      "[I 2025-07-24 18:31:57,359] Trial 425 finished with value: 4.633462845089393 and parameters: {'n_estimators': 200, 'learning_rate': 0.20542500548169418, 'max_depth': 2, 'subsample': 0.9994250005611329, 'colsample_bytree': 0.9915889805321217, 'gamma': 1.2208111461989735, 'reg_alpha': 0.7659532193358404, 'reg_lambda': 7.840413316393441}. Best is trial 215 with value: 4.604630426795878.\n",
      "[I 2025-07-24 18:31:57,665] Trial 426 finished with value: 4.624707687182183 and parameters: {'n_estimators': 195, 'learning_rate': 0.19040960463334392, 'max_depth': 2, 'subsample': 0.9854543692880994, 'colsample_bytree': 0.9814980356620984, 'gamma': 0.8652078452048464, 'reg_alpha': 0.7175258526277368, 'reg_lambda': 7.326567516520868}. Best is trial 215 with value: 4.604630426795878.\n",
      "[I 2025-07-24 18:31:57,993] Trial 427 finished with value: 4.634143260301536 and parameters: {'n_estimators': 192, 'learning_rate': 0.18191041355331258, 'max_depth': 2, 'subsample': 0.9638467826002257, 'colsample_bytree': 0.9999241058718912, 'gamma': 1.2562994703168964, 'reg_alpha': 0.6452418448826214, 'reg_lambda': 6.57098386852116}. Best is trial 215 with value: 4.604630426795878.\n",
      "[I 2025-07-24 18:31:58,304] Trial 428 finished with value: 4.6315857410127785 and parameters: {'n_estimators': 187, 'learning_rate': 0.21831342194238917, 'max_depth': 2, 'subsample': 0.9998527990692185, 'colsample_bytree': 0.9723818912363228, 'gamma': 1.1042146652733258, 'reg_alpha': 0.8241348728718133, 'reg_lambda': 7.0995460987480605}. Best is trial 215 with value: 4.604630426795878.\n",
      "[I 2025-07-24 18:31:58,645] Trial 429 finished with value: 4.6398182143835065 and parameters: {'n_estimators': 195, 'learning_rate': 0.21023056611616253, 'max_depth': 2, 'subsample': 0.9745534863307791, 'colsample_bytree': 0.9874937505516618, 'gamma': 0.7053847540693138, 'reg_alpha': 0.798036731258295, 'reg_lambda': 7.5347388557477295}. Best is trial 215 with value: 4.604630426795878.\n",
      "[I 2025-07-24 18:31:58,957] Trial 430 finished with value: 4.643302608488915 and parameters: {'n_estimators': 189, 'learning_rate': 0.19974066895307704, 'max_depth': 2, 'subsample': 0.9855295948988229, 'colsample_bytree': 0.9612272154689027, 'gamma': 0.9742543565663342, 'reg_alpha': 0.6974977483134157, 'reg_lambda': 6.048740950583885}. Best is trial 215 with value: 4.604630426795878.\n",
      "[I 2025-07-24 18:31:59,249] Trial 431 finished with value: 4.653778950649097 and parameters: {'n_estimators': 192, 'learning_rate': 0.19463049269028362, 'max_depth': 2, 'subsample': 0.9692202030916968, 'colsample_bytree': 0.8264531908095909, 'gamma': 1.120003525268686, 'reg_alpha': 0.7718135274356327, 'reg_lambda': 6.719534039921055}. Best is trial 215 with value: 4.604630426795878.\n",
      "[I 2025-07-24 18:31:59,569] Trial 432 finished with value: 4.680698856735695 and parameters: {'n_estimators': 197, 'learning_rate': 0.2043395996876546, 'max_depth': 2, 'subsample': 0.9455877671663954, 'colsample_bytree': 0.9846731802218849, 'gamma': 0.5739097507861157, 'reg_alpha': 0.727746063093001, 'reg_lambda': 7.289756115653562}. Best is trial 215 with value: 4.604630426795878.\n",
      "[I 2025-07-24 18:32:00,211] Trial 433 finished with value: 4.824553420832016 and parameters: {'n_estimators': 185, 'learning_rate': 0.18831199807485932, 'max_depth': 3, 'subsample': 0.990228854617424, 'colsample_bytree': 0.967772511436326, 'gamma': 1.032828071090533, 'reg_alpha': 0.750550133238457, 'reg_lambda': 7.745527963410496}. Best is trial 215 with value: 4.604630426795878.\n",
      "[I 2025-07-24 18:32:00,488] Trial 434 finished with value: 4.644778249332248 and parameters: {'n_estimators': 181, 'learning_rate': 0.21117481401226698, 'max_depth': 2, 'subsample': 0.9779176839598915, 'colsample_bytree': 0.974976755170019, 'gamma': 0.8895582833947575, 'reg_alpha': 0.6829588842638622, 'reg_lambda': 6.958805317377337}. Best is trial 215 with value: 4.604630426795878.\n",
      "[I 2025-07-24 18:32:00,860] Trial 435 finished with value: 4.645848311826321 and parameters: {'n_estimators': 200, 'learning_rate': 0.17910312176434026, 'max_depth': 2, 'subsample': 0.9611724758853628, 'colsample_bytree': 0.9893364146124117, 'gamma': 1.2519663966396655, 'reg_alpha': 0.7911371942213298, 'reg_lambda': 6.272487322827229}. Best is trial 215 with value: 4.604630426795878.\n",
      "[I 2025-07-24 18:32:01,164] Trial 436 finished with value: 4.639604402624909 and parameters: {'n_estimators': 193, 'learning_rate': 0.2217253228170972, 'max_depth': 2, 'subsample': 0.9905524011670528, 'colsample_bytree': 0.955272759399632, 'gamma': 0.7857171634510226, 'reg_alpha': 0.8133707075262487, 'reg_lambda': 7.151560736761748}. Best is trial 215 with value: 4.604630426795878.\n",
      "[I 2025-07-24 18:32:01,451] Trial 437 finished with value: 4.6258237233225366 and parameters: {'n_estimators': 188, 'learning_rate': 0.19953380520312342, 'max_depth': 2, 'subsample': 0.9795020889133194, 'colsample_bytree': 0.9937082942365539, 'gamma': 0.9538062703540913, 'reg_alpha': 0.8356753093004227, 'reg_lambda': 7.426626412405934}. Best is trial 215 with value: 4.604630426795878.\n",
      "[I 2025-07-24 18:32:01,770] Trial 438 finished with value: 4.643427937225044 and parameters: {'n_estimators': 195, 'learning_rate': 0.16708409721273987, 'max_depth': 2, 'subsample': 0.9729760433637793, 'colsample_bytree': 0.9817994190779951, 'gamma': 1.1890496986430934, 'reg_alpha': 0.7343915717943925, 'reg_lambda': 6.671667167246533}. Best is trial 215 with value: 4.604630426795878.\n",
      "[I 2025-07-24 18:32:02,181] Trial 439 finished with value: 4.634545269611793 and parameters: {'n_estimators': 190, 'learning_rate': 0.20630930365274755, 'max_depth': 2, 'subsample': 0.9927164294080486, 'colsample_bytree': 0.9738598480759555, 'gamma': 1.354045361642084, 'reg_alpha': 0.7682411216792088, 'reg_lambda': 4.863772020955272}. Best is trial 215 with value: 4.604630426795878.\n",
      "[I 2025-07-24 18:32:02,458] Trial 440 finished with value: 4.627423580630283 and parameters: {'n_estimators': 197, 'learning_rate': 0.21623711401248094, 'max_depth': 2, 'subsample': 0.9998072261781845, 'colsample_bytree': 0.943289156219107, 'gamma': 1.0927315499316703, 'reg_alpha': 0.7471259130993324, 'reg_lambda': 9.678994365920211}. Best is trial 215 with value: 4.604630426795878.\n",
      "[I 2025-07-24 18:32:02,751] Trial 441 finished with value: 4.633100188542904 and parameters: {'n_estimators': 192, 'learning_rate': 0.1943915282701431, 'max_depth': 2, 'subsample': 0.9842331827335762, 'colsample_bytree': 0.9647744273545447, 'gamma': 0.7326174979215652, 'reg_alpha': 0.789478439513915, 'reg_lambda': 8.02603415413982}. Best is trial 215 with value: 4.604630426795878.\n",
      "[I 2025-07-24 18:32:03,069] Trial 442 finished with value: 4.630126017811204 and parameters: {'n_estimators': 185, 'learning_rate': 0.1852590313080085, 'max_depth': 2, 'subsample': 0.9620810303292342, 'colsample_bytree': 0.9839352063278499, 'gamma': 0.8529440607850928, 'reg_alpha': 0.6668357325445967, 'reg_lambda': 6.885415522653292}. Best is trial 215 with value: 4.604630426795878.\n",
      "[I 2025-07-24 18:32:03,352] Trial 443 finished with value: 4.618500995305485 and parameters: {'n_estimators': 197, 'learning_rate': 0.20130770647009263, 'max_depth': 2, 'subsample': 0.9839952567145436, 'colsample_bytree': 0.9767807829107964, 'gamma': 1.2950162584629332, 'reg_alpha': 0.7134153740110819, 'reg_lambda': 7.2008018799242315}. Best is trial 215 with value: 4.604630426795878.\n",
      "[I 2025-07-24 18:32:03,642] Trial 444 finished with value: 4.6447143108038205 and parameters: {'n_estimators': 198, 'learning_rate': 0.1907304066004815, 'max_depth': 2, 'subsample': 0.9516061332467867, 'colsample_bytree': 0.9572588099322651, 'gamma': 0.6617417314769528, 'reg_alpha': 0.7037341120269941, 'reg_lambda': 7.103381500711613}. Best is trial 215 with value: 4.604630426795878.\n",
      "[I 2025-07-24 18:32:04,036] Trial 445 finished with value: 4.969563733864907 and parameters: {'n_estimators': 189, 'learning_rate': 0.19710394482721716, 'max_depth': 5, 'subsample': 0.9697276148747536, 'colsample_bytree': 0.9682913687958252, 'gamma': 1.01426644948378, 'reg_alpha': 0.7125357174512111, 'reg_lambda': 6.498756821250864}. Best is trial 215 with value: 4.604630426795878.\n",
      "[I 2025-07-24 18:32:04,320] Trial 446 finished with value: 4.632058962889146 and parameters: {'n_estimators': 200, 'learning_rate': 0.20980288888507787, 'max_depth': 2, 'subsample': 0.9783116378863239, 'colsample_bytree': 0.9928545002122424, 'gamma': 1.3992950705995215, 'reg_alpha': 0.6840835124857985, 'reg_lambda': 7.254414855055874}. Best is trial 215 with value: 4.604630426795878.\n",
      "[I 2025-07-24 18:32:04,658] Trial 447 finished with value: 4.634894183956373 and parameters: {'n_estimators': 193, 'learning_rate': 0.20107035452465266, 'max_depth': 2, 'subsample': 0.9818253544901869, 'colsample_bytree': 0.9748784925675554, 'gamma': 0.5249645690801624, 'reg_alpha': 0.7213965717465474, 'reg_lambda': 6.752459737540709}. Best is trial 215 with value: 4.604630426795878.\n",
      "[I 2025-07-24 18:32:04,944] Trial 448 finished with value: 4.635464001824559 and parameters: {'n_estimators': 195, 'learning_rate': 0.1728859225171543, 'max_depth': 2, 'subsample': 0.9669673622734065, 'colsample_bytree': 0.9646186234595905, 'gamma': 1.1763292892034973, 'reg_alpha': 0.7346622053124378, 'reg_lambda': 6.966201850795419}. Best is trial 215 with value: 4.604630426795878.\n",
      "[I 2025-07-24 18:32:05,220] Trial 449 finished with value: 4.645127455934223 and parameters: {'n_estimators': 187, 'learning_rate': 0.1815085281410722, 'max_depth': 2, 'subsample': 0.9848600373675018, 'colsample_bytree': 0.9769618328638928, 'gamma': 0.9417442000233558, 'reg_alpha': 0.7006475593937599, 'reg_lambda': 7.341522811470552}. Best is trial 215 with value: 4.604630426795878.\n",
      "[I 2025-07-24 18:32:05,476] Trial 450 finished with value: 4.898405370069163 and parameters: {'n_estimators': 191, 'learning_rate': 0.1909749170218343, 'max_depth': 1, 'subsample': 0.973845380701867, 'colsample_bytree': 0.9917172704521756, 'gamma': 1.0765036818150744, 'reg_alpha': 0.7501851938396644, 'reg_lambda': 7.095679058183241}. Best is trial 215 with value: 4.604630426795878.\n",
      "[I 2025-07-24 18:32:05,757] Trial 451 finished with value: 4.649670832539109 and parameters: {'n_estimators': 200, 'learning_rate': 0.20545049305409346, 'max_depth': 2, 'subsample': 0.9572407597315814, 'colsample_bytree': 0.9486205623241405, 'gamma': 0.37439997023641597, 'reg_alpha': 0.7182425569290194, 'reg_lambda': 6.374691602815681}. Best is trial 215 with value: 4.604630426795878.\n",
      "[I 2025-07-24 18:32:06,023] Trial 452 finished with value: 4.638193481727405 and parameters: {'n_estimators': 183, 'learning_rate': 0.15447331752130156, 'max_depth': 2, 'subsample': 0.9906746250263017, 'colsample_bytree': 0.9831108942555811, 'gamma': 0.8307855412363886, 'reg_alpha': 0.6403526957045533, 'reg_lambda': 6.917712940766085}. Best is trial 215 with value: 4.604630426795878.\n",
      "[I 2025-07-24 18:32:06,304] Trial 453 finished with value: 4.6387640168686834 and parameters: {'n_estimators': 194, 'learning_rate': 0.2458540306122409, 'max_depth': 2, 'subsample': 0.9749745919485701, 'colsample_bytree': 0.924639619271528, 'gamma': 1.3046232847460404, 'reg_alpha': 0.6625422679575989, 'reg_lambda': 7.4341306642330025}. Best is trial 215 with value: 4.604630426795878.\n",
      "[I 2025-07-24 18:32:06,586] Trial 454 finished with value: 4.632218969416809 and parameters: {'n_estimators': 197, 'learning_rate': 0.21424824967698575, 'max_depth': 2, 'subsample': 0.984436730543811, 'colsample_bytree': 0.9600877816239862, 'gamma': 1.1949792552314447, 'reg_alpha': 0.7611164591989921, 'reg_lambda': 6.625093940966611}. Best is trial 215 with value: 4.604630426795878.\n",
      "[I 2025-07-24 18:32:06,901] Trial 455 finished with value: 4.850872848602289 and parameters: {'n_estimators': 190, 'learning_rate': 0.19947969786014424, 'max_depth': 3, 'subsample': 0.9641444960660925, 'colsample_bytree': 0.974930335787482, 'gamma': 1.4446323113222956, 'reg_alpha': 0.684896039585142, 'reg_lambda': 9.965908794290002}. Best is trial 215 with value: 4.604630426795878.\n",
      "[I 2025-07-24 18:32:07,174] Trial 456 finished with value: 4.643181010715877 and parameters: {'n_estimators': 187, 'learning_rate': 0.1959093426881452, 'max_depth': 2, 'subsample': 0.9922502841107528, 'colsample_bytree': 0.99367103173505, 'gamma': 1.9599322636566092, 'reg_alpha': 0.7325305357790569, 'reg_lambda': 6.178688370926497}. Best is trial 215 with value: 4.604630426795878.\n",
      "[I 2025-07-24 18:32:07,380] Trial 457 finished with value: 4.986563319494023 and parameters: {'n_estimators': 94, 'learning_rate': 0.044970408904137255, 'max_depth': 2, 'subsample': 0.9783806656769163, 'colsample_bytree': 0.9686503641489936, 'gamma': 0.6535432549361831, 'reg_alpha': 0.7747379946373798, 'reg_lambda': 7.202075982501593}. Best is trial 215 with value: 4.604630426795878.\n",
      "[I 2025-07-24 18:32:07,654] Trial 458 finished with value: 4.641782654579096 and parameters: {'n_estimators': 193, 'learning_rate': 0.18700813060158006, 'max_depth': 2, 'subsample': 0.998611019619902, 'colsample_bytree': 0.9842342182479813, 'gamma': 1.0324878248310854, 'reg_alpha': 0.7491285638046815, 'reg_lambda': 6.9023574652616935}. Best is trial 215 with value: 4.604630426795878.\n",
      "[I 2025-07-24 18:32:07,991] Trial 459 finished with value: 4.627412046460357 and parameters: {'n_estimators': 178, 'learning_rate': 0.20817108985702362, 'max_depth': 2, 'subsample': 0.9688064143961396, 'colsample_bytree': 0.9867389103321658, 'gamma': 0.7656008007632539, 'reg_alpha': 0.7215241830469638, 'reg_lambda': 8.355169451571472}. Best is trial 215 with value: 4.604630426795878.\n",
      "[I 2025-07-24 18:32:08,285] Trial 460 finished with value: 4.623904316031229 and parameters: {'n_estimators': 197, 'learning_rate': 0.21915187309860124, 'max_depth': 2, 'subsample': 0.9851376288781676, 'colsample_bytree': 0.9539784826533521, 'gamma': 0.9302935348799667, 'reg_alpha': 0.7024327395112291, 'reg_lambda': 7.322048107564958}. Best is trial 215 with value: 4.604630426795878.\n",
      "[I 2025-07-24 18:32:08,565] Trial 461 finished with value: 4.639565993701445 and parameters: {'n_estimators': 190, 'learning_rate': 0.20260624869378152, 'max_depth': 2, 'subsample': 0.976626999726878, 'colsample_bytree': 0.9992020435794094, 'gamma': 3.3568181143562, 'reg_alpha': 0.7585694089964397, 'reg_lambda': 7.0947236792499195}. Best is trial 215 with value: 4.604630426795878.\n",
      "[I 2025-07-24 18:32:08,841] Trial 462 finished with value: 5.677991993744228 and parameters: {'n_estimators': 182, 'learning_rate': 0.21124033773257378, 'max_depth': 2, 'subsample': 0.9999699879742993, 'colsample_bytree': 0.7674196997449443, 'gamma': 1.2984777572889366, 'reg_alpha': 0.7336691724440643, 'reg_lambda': 6.768895376798792}. Best is trial 215 with value: 4.604630426795878.\n",
      "[I 2025-07-24 18:32:09,121] Trial 463 finished with value: 4.64452059867831 and parameters: {'n_estimators': 195, 'learning_rate': 0.19216413301390214, 'max_depth': 2, 'subsample': 0.9550632832365761, 'colsample_bytree': 0.9715224312609952, 'gamma': 1.1541851115992656, 'reg_alpha': 0.7744955675077286, 'reg_lambda': 7.523623333606664}. Best is trial 215 with value: 4.604630426795878.\n",
      "[I 2025-07-24 18:32:09,408] Trial 464 finished with value: 4.64226169751475 and parameters: {'n_estimators': 185, 'learning_rate': 0.22719348548226154, 'max_depth': 2, 'subsample': 0.9887142109716099, 'colsample_bytree': 0.9789391833243345, 'gamma': 0.8650510603118474, 'reg_alpha': 0.6903722360682124, 'reg_lambda': 6.473194258280632}. Best is trial 215 with value: 4.604630426795878.\n",
      "[I 2025-07-24 18:32:09,704] Trial 465 finished with value: 4.64105072710737 and parameters: {'n_estimators': 200, 'learning_rate': 0.19803377494037608, 'max_depth': 2, 'subsample': 0.969818913142436, 'colsample_bytree': 0.9644367691732347, 'gamma': 1.0352954408074801, 'reg_alpha': 0.7454846130369973, 'reg_lambda': 7.697810230033395}. Best is trial 215 with value: 4.604630426795878.\n",
      "[I 2025-07-24 18:32:09,988] Trial 466 finished with value: 4.625977111046734 and parameters: {'n_estimators': 192, 'learning_rate': 0.18002064738456608, 'max_depth': 2, 'subsample': 0.9837973169366296, 'colsample_bytree': 0.9997870371653018, 'gamma': 0.5840646115904045, 'reg_alpha': 0.7874220053405097, 'reg_lambda': 7.292156437366415}. Best is trial 215 with value: 4.604630426795878.\n",
      "[I 2025-07-24 18:32:10,269] Trial 467 finished with value: 4.6541224357923054 and parameters: {'n_estimators': 188, 'learning_rate': 0.20525811000750654, 'max_depth': 2, 'subsample': 0.9385721822061539, 'colsample_bytree': 0.9364238647913035, 'gamma': 1.2381196478452299, 'reg_alpha': 0.7134505342270564, 'reg_lambda': 7.0282021637740355}. Best is trial 215 with value: 4.604630426795878.\n",
      "[I 2025-07-24 18:32:10,560] Trial 468 finished with value: 4.645834253324442 and parameters: {'n_estimators': 197, 'learning_rate': 0.21447422883217102, 'max_depth': 2, 'subsample': 0.9913325248830394, 'colsample_bytree': 0.8684936794998295, 'gamma': 0.7526892585864416, 'reg_alpha': 0.7664601996467205, 'reg_lambda': 5.909097591365131}. Best is trial 215 with value: 4.604630426795878.\n",
      "[I 2025-07-24 18:32:10,849] Trial 469 finished with value: 4.628077243917238 and parameters: {'n_estimators': 194, 'learning_rate': 0.18700553831022754, 'max_depth': 2, 'subsample': 0.9770893750391354, 'colsample_bytree': 0.9877882091148878, 'gamma': 1.099359553800379, 'reg_alpha': 0.7377348654133532, 'reg_lambda': 6.647494953273256}. Best is trial 215 with value: 4.604630426795878.\n",
      "[I 2025-07-24 18:32:11,202] Trial 470 finished with value: 4.639615115982963 and parameters: {'n_estimators': 191, 'learning_rate': 0.19460730618086078, 'max_depth': 2, 'subsample': 0.958795750821521, 'colsample_bytree': 0.9771236421069445, 'gamma': 1.3838372748384447, 'reg_alpha': 0.8624054904135203, 'reg_lambda': 7.4880700230381}. Best is trial 215 with value: 4.604630426795878.\n",
      "[I 2025-07-24 18:32:11,487] Trial 471 finished with value: 4.623397062027959 and parameters: {'n_estimators': 197, 'learning_rate': 0.2028726276911357, 'max_depth': 2, 'subsample': 0.9997835862574942, 'colsample_bytree': 0.9608977458449321, 'gamma': 0.44131119976577166, 'reg_alpha': 0.6667705419331559, 'reg_lambda': 7.180535877144612}. Best is trial 215 with value: 4.604630426795878.\n",
      "[I 2025-07-24 18:32:11,768] Trial 472 finished with value: 4.623216537768557 and parameters: {'n_estimators': 186, 'learning_rate': 0.2099711081803743, 'max_depth': 2, 'subsample': 0.9828907539073966, 'colsample_bytree': 0.9711270071074535, 'gamma': 0.96011072806948, 'reg_alpha': 0.8038541584489863, 'reg_lambda': 6.846594806024524}. Best is trial 215 with value: 4.604630426795878.\n",
      "[I 2025-07-24 18:32:12,169] Trial 473 finished with value: 5.051391505294272 and parameters: {'n_estimators': 190, 'learning_rate': 0.1967090794992874, 'max_depth': 6, 'subsample': 0.9702842400004077, 'colsample_bytree': 0.9918906147658417, 'gamma': 0.82113466349011, 'reg_alpha': 0.7112071684271155, 'reg_lambda': 6.292425052974025}. Best is trial 215 with value: 4.604630426795878.\n",
      "[I 2025-07-24 18:32:12,446] Trial 474 finished with value: 4.622854816513055 and parameters: {'n_estimators': 194, 'learning_rate': 0.22258040629385228, 'max_depth': 2, 'subsample': 0.9901594329044452, 'colsample_bytree': 0.8100934398270419, 'gamma': 1.2023081080325317, 'reg_alpha': 0.7556145836894211, 'reg_lambda': 7.766790849253942}. Best is trial 215 with value: 4.604630426795878.\n",
      "[I 2025-07-24 18:32:12,729] Trial 475 finished with value: 4.65584346982493 and parameters: {'n_estimators': 200, 'learning_rate': 0.19015882953746016, 'max_depth': 2, 'subsample': 0.9660574129049662, 'colsample_bytree': 0.9488282520975925, 'gamma': 1.470196957793858, 'reg_alpha': 0.7914690014527193, 'reg_lambda': 7.431961131793384}. Best is trial 215 with value: 4.604630426795878.\n",
      "[I 2025-07-24 18:32:13,015] Trial 476 finished with value: 4.638802036219291 and parameters: {'n_estimators': 184, 'learning_rate': 0.17791165014187182, 'max_depth': 2, 'subsample': 0.9786430555033363, 'colsample_bytree': 0.9845662686835835, 'gamma': 0.907221685836183, 'reg_alpha': 0.7224131832294711, 'reg_lambda': 7.053369595300272}. Best is trial 215 with value: 4.604630426795878.\n",
      "[I 2025-07-24 18:32:13,277] Trial 477 finished with value: 4.907605978623214 and parameters: {'n_estimators': 193, 'learning_rate': 0.20219757920510018, 'max_depth': 1, 'subsample': 0.9484906368736934, 'colsample_bytree': 0.9784819097814041, 'gamma': 1.1195951222131408, 'reg_alpha': 0.8888542327497823, 'reg_lambda': 6.56476585995607}. Best is trial 215 with value: 4.604630426795878.\n",
      "[I 2025-07-24 18:32:13,558] Trial 478 finished with value: 4.634227710468535 and parameters: {'n_estimators': 189, 'learning_rate': 0.20799533512305152, 'max_depth': 2, 'subsample': 0.9913796945647414, 'colsample_bytree': 0.967565613195703, 'gamma': 1.3284134908028278, 'reg_alpha': 0.8334391614609564, 'reg_lambda': 9.448932604168961}. Best is trial 215 with value: 4.604630426795878.\n",
      "[I 2025-07-24 18:32:13,829] Trial 479 finished with value: 4.623286460713252 and parameters: {'n_estimators': 180, 'learning_rate': 0.21667981111367604, 'max_depth': 2, 'subsample': 0.9823414339863485, 'colsample_bytree': 0.9585881285569506, 'gamma': 0.1927587592464426, 'reg_alpha': 0.7737724761595389, 'reg_lambda': 6.117223267101302}. Best is trial 215 with value: 4.604630426795878.\n",
      "[I 2025-07-24 18:32:14,051] Trial 480 finished with value: 4.635207287655878 and parameters: {'n_estimators': 113, 'learning_rate': 0.16386079107849302, 'max_depth': 2, 'subsample': 0.9736861881973845, 'colsample_bytree': 0.9924479668013381, 'gamma': 0.7020857935805613, 'reg_alpha': 0.6900861529169929, 'reg_lambda': 7.249833350365003}. Best is trial 215 with value: 4.604630426795878.\n",
      "[I 2025-07-24 18:32:14,389] Trial 481 finished with value: 4.648203690340927 and parameters: {'n_estimators': 197, 'learning_rate': 0.1843115562605786, 'max_depth': 2, 'subsample': 0.9617090991510273, 'colsample_bytree': 0.9781974622707399, 'gamma': 1.029407073214317, 'reg_alpha': 0.7456665711005701, 'reg_lambda': 6.80626103831982}. Best is trial 215 with value: 4.604630426795878.\n",
      "[I 2025-07-24 18:32:14,666] Trial 482 finished with value: 4.6426183633031055 and parameters: {'n_estimators': 195, 'learning_rate': 0.201766166172606, 'max_depth': 2, 'subsample': 0.9912768759284047, 'colsample_bytree': 0.9857375595917439, 'gamma': 1.2738136391344699, 'reg_alpha': 0.8174064435380047, 'reg_lambda': 7.625486062208633}. Best is trial 215 with value: 4.604630426795878.\n",
      "[I 2025-07-24 18:32:14,937] Trial 483 finished with value: 4.84455515418875 and parameters: {'n_estimators': 187, 'learning_rate': 0.19566723185556925, 'max_depth': 2, 'subsample': 0.7652673729482515, 'colsample_bytree': 0.8572887561050759, 'gamma': 4.233731926582915, 'reg_alpha': 0.7277048843010616, 'reg_lambda': 7.191973777944759}. Best is trial 215 with value: 4.604630426795878.\n",
      "[I 2025-07-24 18:32:16,204] Trial 484 finished with value: 4.82704627256665 and parameters: {'n_estimators': 198, 'learning_rate': 0.14918302309795622, 'max_depth': 3, 'subsample': 0.9817588333378839, 'colsample_bytree': 0.9696806544676482, 'gamma': 0.9505752394988305, 'reg_alpha': 0.76371135986611, 'reg_lambda': 7.008952203248424}. Best is trial 215 with value: 4.604630426795878.\n",
      "[I 2025-07-24 18:32:16,628] Trial 485 finished with value: 4.62970195556965 and parameters: {'n_estimators': 191, 'learning_rate': 0.21013430287361778, 'max_depth': 2, 'subsample': 0.9992655079010464, 'colsample_bytree': 0.9994998589264499, 'gamma': 1.113015823395998, 'reg_alpha': 0.7810957505881544, 'reg_lambda': 6.39256283813834}. Best is trial 215 with value: 4.604630426795878.\n",
      "[I 2025-07-24 18:32:16,936] Trial 486 finished with value: 4.637983819455904 and parameters: {'n_estimators': 124, 'learning_rate': 0.1905043079028208, 'max_depth': 2, 'subsample': 0.9721608498715065, 'colsample_bytree': 0.9743413697477485, 'gamma': 0.5973286235591039, 'reg_alpha': 0.7073603503927296, 'reg_lambda': 9.62660672593826}. Best is trial 215 with value: 4.604630426795878.\n",
      "[I 2025-07-24 18:32:17,453] Trial 487 finished with value: 4.952077947680695 and parameters: {'n_estimators': 193, 'learning_rate': 0.20570472661939632, 'max_depth': 5, 'subsample': 0.7096224542849736, 'colsample_bytree': 0.9854732115966229, 'gamma': 0.8177522318473693, 'reg_alpha': 0.6238864848676011, 'reg_lambda': 7.35618158205138}. Best is trial 215 with value: 4.604630426795878.\n",
      "[I 2025-07-24 18:32:17,758] Trial 488 finished with value: 4.627800249928871 and parameters: {'n_estimators': 200, 'learning_rate': 0.17316835522600504, 'max_depth': 2, 'subsample': 0.9862297732320577, 'colsample_bytree': 0.9531470049464371, 'gamma': 1.2023897991544104, 'reg_alpha': 0.7403791766664252, 'reg_lambda': 6.8031032841480865}. Best is trial 215 with value: 4.604630426795878.\n",
      "[I 2025-07-24 18:32:18,063] Trial 489 finished with value: 4.6310766620423385 and parameters: {'n_estimators': 189, 'learning_rate': 0.19835042176034637, 'max_depth': 2, 'subsample': 0.9640933782000418, 'colsample_bytree': 0.993209270815948, 'gamma': 0.9907782425044926, 'reg_alpha': 0.6773144772405363, 'reg_lambda': 7.900832946295448}. Best is trial 215 with value: 4.604630426795878.\n",
      "[I 2025-07-24 18:32:18,321] Trial 490 finished with value: 4.6275457424455455 and parameters: {'n_estimators': 158, 'learning_rate': 0.2123779267129008, 'max_depth': 2, 'subsample': 0.977389857746623, 'colsample_bytree': 0.96333478188459, 'gamma': 1.4130721030931734, 'reg_alpha': 0.7959078507370776, 'reg_lambda': 7.505177333013872}. Best is trial 215 with value: 4.604630426795878.\n",
      "[I 2025-07-24 18:32:18,595] Trial 491 finished with value: 4.661231738364216 and parameters: {'n_estimators': 183, 'learning_rate': 0.1846796133917607, 'max_depth': 2, 'subsample': 0.9995377098489935, 'colsample_bytree': 0.9436807635474463, 'gamma': 0.8784781251739665, 'reg_alpha': 0.7647737795682366, 'reg_lambda': 7.0440654781512375}. Best is trial 215 with value: 4.604630426795878.\n",
      "[I 2025-07-24 18:32:18,943] Trial 492 finished with value: 4.706016275070939 and parameters: {'n_estimators': 196, 'learning_rate': 0.21761837970477718, 'max_depth': 2, 'subsample': 0.9874509264132953, 'colsample_bytree': 0.981059448960033, 'gamma': 0.6882530950140854, 'reg_alpha': 0.7234104518381747, 'reg_lambda': 1.3863383085323626}. Best is trial 215 with value: 4.604630426795878.\n",
      "[I 2025-07-24 18:32:19,225] Trial 493 finished with value: 4.638849406807239 and parameters: {'n_estimators': 192, 'learning_rate': 0.19943571175665684, 'max_depth': 2, 'subsample': 0.9741925396853556, 'colsample_bytree': 0.97052242224586, 'gamma': 1.061320554353913, 'reg_alpha': 0.8413425913360295, 'reg_lambda': 6.627974250787154}. Best is trial 215 with value: 4.604630426795878.\n",
      "[I 2025-07-24 18:32:19,500] Trial 494 finished with value: 4.658604193155736 and parameters: {'n_estimators': 187, 'learning_rate': 0.19300987365310357, 'max_depth': 2, 'subsample': 0.9555271220111218, 'colsample_bytree': 0.9868016399240442, 'gamma': 1.2530539790335218, 'reg_alpha': 0.7480353774555895, 'reg_lambda': 7.255011671980075}. Best is trial 215 with value: 4.604630426795878.\n",
      "[I 2025-07-24 18:32:19,790] Trial 495 finished with value: 4.631267120444005 and parameters: {'n_estimators': 196, 'learning_rate': 0.20577627306371063, 'max_depth': 2, 'subsample': 0.9908937744367748, 'colsample_bytree': 0.9756321278297578, 'gamma': 1.1486251083159038, 'reg_alpha': 0.6997118707734528, 'reg_lambda': 6.894932690717219}. Best is trial 215 with value: 4.604630426795878.\n",
      "[I 2025-07-24 18:32:20,041] Trial 496 finished with value: 4.905548017204548 and parameters: {'n_estimators': 191, 'learning_rate': 0.1876621954333223, 'max_depth': 1, 'subsample': 0.9821109146399879, 'colsample_bytree': 0.9576310305006228, 'gamma': 0.5424039696705025, 'reg_alpha': 0.8134247587604208, 'reg_lambda': 7.465080647296733}. Best is trial 215 with value: 4.604630426795878.\n",
      "[I 2025-07-24 18:32:20,306] Trial 497 finished with value: 4.637289272983611 and parameters: {'n_estimators': 174, 'learning_rate': 0.2129938577499298, 'max_depth': 2, 'subsample': 0.9681376194227791, 'colsample_bytree': 0.9924659295956884, 'gamma': 1.5178656871091611, 'reg_alpha': 0.7765455311103804, 'reg_lambda': 5.996108758631104}. Best is trial 215 with value: 4.604630426795878.\n",
      "[I 2025-07-24 18:32:20,617] Trial 498 finished with value: 4.897157965290082 and parameters: {'n_estimators': 186, 'learning_rate': 0.20306634833716905, 'max_depth': 4, 'subsample': 0.9923942862206802, 'colsample_bytree': 0.9649039326023837, 'gamma': 1.3409788192861023, 'reg_alpha': 0.7372536676793524, 'reg_lambda': 7.687054678855009}. Best is trial 215 with value: 4.604630426795878.\n",
      "[I 2025-07-24 18:32:20,918] Trial 499 finished with value: 4.650435164729176 and parameters: {'n_estimators': 195, 'learning_rate': 0.17958244550643288, 'max_depth': 2, 'subsample': 0.9793056388643646, 'colsample_bytree': 0.911531740286896, 'gamma': 0.7871752185493761, 'reg_alpha': 0.65818118761204, 'reg_lambda': 9.161693639556473}. Best is trial 215 with value: 4.604630426795878.\n"
     ]
    },
    {
     "name": "stdout",
     "output_type": "stream",
     "text": [
      "Best trial params: {'n_estimators': 194, 'learning_rate': 0.20509288648627058, 'max_depth': 2, 'subsample': 0.9898026468847371, 'colsample_bytree': 0.9860848387520088, 'gamma': 0.9323453671730814, 'reg_alpha': 0.747528065482912, 'reg_lambda': 6.6747529133124175}\n",
      "Best trial RMSE: 4.6046\n",
      "2023 RMSE: 6.62\n",
      "2023 R²: 0.826\n"
     ]
    },
    {
     "data": {
      "application/vnd.plotly.v1+json": {
       "config": {
        "plotlyServerURL": "https://plot.ly"
       },
       "data": [
        {
         "customdata": [
          [
           "Eldin Jakupovic",
           38
          ],
          [
           "James Milner",
           37
          ],
          [
           "Óscar Ustari",
           36
          ],
          [
           "Gabriel Tamas",
           39
          ],
          [
           "Cristiano Ronaldo",
           38
          ],
          [
           "Shaun MacDonald",
           34
          ],
          [
           "Phil Jagielka",
           40
          ],
          [
           "Andy Lonergan",
           39
          ],
          [
           "Ashley Young",
           37
          ],
          [
           "Scott Carson",
           37
          ],
          [
           "Phil Bardsley",
           37
          ],
          [
           "David Martin",
           37
          ],
          [
           "Casemiro",
           31
          ],
          [
           "Hugo Lloris",
           36
          ],
          [
           "Curtis Davies",
           38
          ],
          [
           "Willy Caballero",
           41
          ],
          [
           "Fernandinho",
           37
          ],
          [
           "Nenê",
           41
          ],
          [
           "Thiago Silva",
           38
          ],
          [
           "Lukasz Fabianski",
           38
          ],
          [
           "John Ruddy",
           36
          ],
          [
           "Chu-young Park",
           37
          ],
          [
           "Dusan Kuciak",
           38
          ],
          [
           "Tim Krul",
           35
          ],
          [
           "Lukas Jutkiewicz",
           34
          ],
          [
           "Theo Walcott",
           34
          ],
          [
           "Alex Smithies",
           33
          ],
          [
           "Asmir Begovic",
           36
          ],
          [
           "Tom Heaton",
           37
          ],
          [
           "Richard Stearman",
           35
          ],
          [
           "Lewis Grabban",
           35
          ],
          [
           "David McGoldrick",
           35
          ],
          [
           "Gaëtan Bong",
           35
          ],
          [
           "Leon Clarke",
           38
          ],
          [
           "Shane Long",
           36
          ],
          [
           "Kamil Grosicki",
           35
          ],
          [
           "Martin Olsson",
           35
          ],
          [
           "Lee Peltier",
           36
          ],
          [
           "Adrian Mariappa",
           36
          ],
          [
           "Kei Kamara",
           38
          ],
          [
           "Mario Vrancic",
           33
          ],
          [
           "Jozy Altidore",
           33
          ],
          [
           "Brad Guzan",
           38
          ],
          [
           "Marouane Fellaini",
           35
          ],
          [
           "Ryan Bertrand",
           33
          ],
          [
           "Liam Bridcutt",
           34
          ],
          [
           "Jack Cork",
           33
          ],
          [
           "James McArthur",
           35
          ],
          [
           "Sone Aluko",
           34
          ],
          [
           "Fraizer Campbell",
           35
          ],
          [
           "Jonny Evans",
           35
          ],
          [
           "Gary Hooper",
           34
          ],
          [
           "Gaetano Berardi",
           34
          ],
          [
           "Elliott Bennett",
           34
          ],
          [
           "Stephen Quinn",
           37
          ],
          [
           "Adam Lallana",
           35
          ],
          [
           "Erik Pieters",
           34
          ],
          [
           "Chris Gunter",
           33
          ],
          [
           "Bojan Krkic",
           32
          ],
          [
           "Beram Kayal",
           35
          ],
          [
           "Diego Costa",
           34
          ],
          [
           "Henri Lansbury",
           32
          ],
          [
           "Dan Gosling",
           33
          ],
          [
           "Claudio Yacob",
           35
          ],
          [
           "Jonathan Howson",
           35
          ],
          [
           "Wayne Hennessey",
           36
          ],
          [
           "Marco Stiepermann",
           32
          ],
          [
           "Fabri",
           35
          ],
          [
           "Luke Daniels",
           35
          ],
          [
           "Chris Martin",
           34
          ],
          [
           "Pablo Hernández",
           38
          ],
          [
           "Lovre Kalinic",
           33
          ],
          [
           "David Luiz",
           35
          ],
          [
           "Teemu Pukki",
           33
          ],
          [
           "Alex Pearce",
           34
          ],
          [
           "Jason Puncheon",
           36
          ],
          [
           "Angelo Ogbonna",
           35
          ],
          [
           "Andy Carroll",
           34
          ],
          [
           "Sam Vokes",
           33
          ],
          [
           "Jordan Rhodes",
           33
          ],
          [
           "Bradley Johnson",
           35
          ],
          [
           "James Perch",
           37
          ],
          [
           "Elias Kachunga",
           30
          ],
          [
           "Billy Sharp",
           37
          ],
          [
           "Andreas Weimann",
           31
          ],
          [
           "Danny Rose",
           32
          ],
          [
           "Christian Benteke",
           32
          ],
          [
           "Chicharito",
           35
          ],
          [
           "Aleksandar Mitrović",
           28
          ],
          [
           "Carlos Sánchez",
           37
          ],
          [
           "Darren Randolph",
           36
          ],
          [
           "Joe Allen",
           33
          ],
          [
           "Mateo Kovacic",
           29
          ],
          [
           "Henri Saivet",
           32
          ],
          [
           "Wellington Paulista",
           39
          ],
          [
           "Zanka",
           33
          ],
          [
           "Chris Basham",
           34
          ],
          [
           "Fraser Forster",
           35
          ],
          [
           "Willian",
           34
          ],
          [
           "Jay Rodríguez",
           33
          ],
          [
           "İlkay Gündoğan",
           32
          ],
          [
           "John Fleck",
           31
          ],
          [
           "Sebastián Blanco",
           35
          ],
          [
           "Magnus Wolff Eikrem",
           32
          ],
          [
           "Chris Löwe",
           34
          ],
          [
           "Harry Arter",
           33
          ],
          [
           "Jack Rodwell",
           32
          ],
          [
           "Jordon Mutch",
           31
          ],
          [
           "Simon Dawkins",
           35
          ],
          [
           "Christopher Schindler",
           33
          ],
          [
           "Emilio Nsue",
           33
          ],
          [
           "Craig Cathcart",
           34
          ],
          [
           "Thiago Alcántara",
           32
          ],
          [
           "Sean Scannell",
           32
          ],
          [
           "Marc Albrighton",
           33
          ],
          [
           "Barry Bannan",
           33
          ],
          [
           "Jonathan Hogg",
           34
          ],
          [
           "James Tomkins",
           34
          ],
          [
           "Jack Colback",
           33
          ],
          [
           "Conor Hourihane",
           32
          ],
          [
           "Neil Etheridge",
           33
          ],
          [
           "Wes Foderingham",
           32
          ],
          [
           "David Button",
           34
          ],
          [
           "Jake Livermore",
           33
          ],
          [
           "Adam Smith",
           32
          ],
          [
           "Stefan Johansen",
           32
          ],
          [
           "Shane Ferguson",
           31
          ],
          [
           "Vegard Forren",
           35
          ],
          [
           "Odion Ighalo",
           34
          ],
          [
           "Scott Dann",
           36
          ],
          [
           "Tomás Mejías",
           34
          ],
          [
           "Ashley Barnes",
           33
          ],
          [
           "Aron Gunnarsson",
           34
          ],
          [
           "Libor Kozak",
           34
          ],
          [
           "Troy Deeney",
           34
          ],
          [
           "Kyle Naughton",
           34
          ],
          [
           "Luke Freeman",
           31
          ],
          [
           "Cheikhou Kouyaté",
           33
          ],
          [
           "Gary Madine",
           32
          ],
          [
           "Danny Welbeck",
           32
          ],
          [
           "Sam Baldock",
           34
          ],
          [
           "Mark Oxley",
           32
          ],
          [
           "Ryan Bennett",
           33
          ],
          [
           "Ben Hamer",
           35
          ],
          [
           "David Stockdale",
           37
          ],
          [
           "Luke Ayling",
           31
          ],
          [
           "Kyle Bartley",
           32
          ],
          [
           "Michal Zyro",
           30
          ],
          [
           "Séamus Coleman",
           34
          ],
          [
           "Giedrius Arlauskis",
           35
          ],
          [
           "Christian Eriksen",
           31
          ],
          [
           "Garath McCleary",
           35
          ],
          [
           "Róger Espinoza",
           36
          ],
          [
           "Bernd Leno",
           31
          ],
          [
           "Adam Clayton",
           34
          ],
          [
           "Ben Amos",
           33
          ],
          [
           "James Chester",
           34
          ],
          [
           "Tom Cleverley",
           33
          ],
          [
           "Danny Drinkwater",
           33
          ],
          [
           "Matty James",
           31
          ],
          [
           "Oliver Norwood",
           32
          ],
          [
           "Jason Steele",
           32
          ],
          [
           "Pablo Sarabia",
           30
          ],
          [
           "Luka Milivojevic",
           32
          ],
          [
           "Adlène Guédioura",
           37
          ],
          [
           "Ben Mee",
           33
          ],
          [
           "Juraj Kucka",
           36
          ],
          [
           "Martin Dúbravka",
           34
          ],
          [
           "Liam Cooper",
           31
          ],
          [
           "Robin Olsen",
           33
          ],
          [
           "Niclas Füllkrug",
           30
          ],
          [
           "Lucas Moura",
           30
          ],
          [
           "Matt Phillips",
           32
          ],
          [
           "George Friend",
           35
          ],
          [
           "Thomas Kaminski",
           30
          ],
          [
           "Victor Wanyama",
           32
          ],
          [
           "Martin Kelly",
           33
          ],
          [
           "Daniel Ayala",
           32
          ],
          [
           "Sean Morrison",
           32
          ],
          [
           "Salomón Rondón",
           33
          ],
          [
           "Korey Smith",
           32
          ],
          [
           "Philippe Coutinho",
           30
          ],
          [
           "Craig Noone",
           35
          ],
          [
           "Tadanari Lee",
           37
          ],
          [
           "Sung-yueng Ki",
           34
          ],
          [
           "Chung-yong Lee",
           34
          ],
          [
           "Joel Matip",
           31
          ],
          [
           "Moritz Leitner",
           30
          ],
          [
           "Albert Adomah",
           35
          ],
          [
           "Nathaniel Clyne",
           32
          ],
          [
           "Oscar",
           31
          ],
          [
           "Borja Bastón",
           30
          ],
          [
           "Federico Fernández",
           34
          ],
          [
           "Enda Stevens",
           32
          ],
          [
           "Loris Karius",
           30
          ],
          [
           "Danny Lafferty",
           34
          ],
          [
           "James McClean",
           34
          ],
          [
           "Stefan Ortega",
           30
          ],
          [
           "Thomas Eisfeld",
           30
          ],
          [
           "Valentin Roberge",
           35
          ],
          [
           "Junior Stanislas",
           33
          ],
          [
           "Luca Scapuzzi",
           32
          ],
          [
           "Kevin De Bruyne",
           32
          ],
          [
           "Jonathan Kodjia",
           33
          ],
          [
           "Jóhann Berg Gudmundsson",
           32
          ],
          [
           "David Cornell",
           32
          ],
          [
           "Román Golobart",
           30
          ],
          [
           "Steve Cook",
           32
          ],
          [
           "Joe Bennett",
           33
          ],
          [
           "John Brayford",
           35
          ],
          [
           "Ashley Westwood",
           33
          ],
          [
           "James Shea",
           31
          ],
          [
           "Heung-min Son",
           30
          ],
          [
           "Sammy Ameobi",
           30
          ],
          [
           "Matt Ritchie",
           33
          ],
          [
           "Aaron Cresswell",
           33
          ],
          [
           "Joel Ward",
           33
          ],
          [
           "Mateusz Klich",
           33
          ],
          [
           "Kalidou Koulibaly",
           31
          ],
          [
           "Adama Diomande",
           33
          ],
          [
           "Marcos Rojo",
           33
          ],
          [
           "Stuart O'Keefe",
           32
          ],
          [
           "Muhamed Besic",
           30
          ],
          [
           "Jordan Bowery",
           31
          ],
          [
           "Connor Wickham",
           30
          ],
          [
           "Kieran Trippier",
           32
          ],
          [
           "Alex McCarthy",
           33
          ],
          [
           "Ciaran Clark",
           33
          ],
          [
           "Jannik Vestergaard",
           30
          ],
          [
           "Karl Darlow",
           32
          ],
          [
           "Matej Vydra",
           31
          ],
          [
           "Scott Malone",
           32
          ],
          [
           "Jorginho",
           31
          ],
          [
           "Matthew Lowton",
           34
          ],
          [
           "Michail Antonio",
           33
          ],
          [
           "Lyle Taylor",
           33
          ],
          [
           "Filip Orsula",
           30
          ],
          [
           "Alisson",
           30
          ],
          [
           "Jordan Ayew",
           31
          ],
          [
           "Chris Wood",
           31
          ],
          [
           "Adam Matthews",
           31
          ],
          [
           "Onel Hernández",
           30
          ],
          [
           "Luke Garbutt",
           30
          ],
          [
           "Gary Gardner",
           30
          ],
          [
           "Sam Johnstone",
           29
          ],
          [
           "Jed Steer",
           30
          ],
          [
           "Ryan Tunnicliffe",
           30
          ],
          [
           "Ryan Allsop",
           30
          ],
          [
           "Kevin Long",
           32
          ],
          [
           "Joël Veltman",
           31
          ],
          [
           "Sead Hajrovic",
           30
          ],
          [
           "Neeskens Kebano",
           31
          ],
          [
           "Ahmed Hegazy",
           32
          ],
          [
           "Neto",
           33
          ],
          [
           "Emiliano Martínez",
           30
          ],
          [
           "Philip Heise",
           32
          ],
          [
           "Tomer Hemed",
           36
          ],
          [
           "Cédric Soares",
           31
          ],
          [
           "Romaine Sawyers",
           31
          ],
          [
           "Greg Cunningham",
           32
          ],
          [
           "Richie Towell",
           31
          ],
          [
           "Luke Brattan",
           33
          ],
          [
           "Marcus Bettinelli",
           31
          ],
          [
           "Phil Jones",
           31
          ],
          [
           "Michael Keane",
           30
          ],
          [
           "Will Keane",
           30
          ],
          [
           "Ezequiel Schelotto",
           34
          ],
          [
           "Shane Duffy",
           31
          ],
          [
           "Jack Grimmer",
           29
          ],
          [
           "Daniel Bachmann",
           28
          ],
          [
           "Jazz Richards",
           32
          ],
          [
           "Alphonse Areola",
           30
          ],
          [
           "Joe Mason",
           32
          ],
          [
           "Kwesi Appiah",
           32
          ],
          [
           "Adam Davies",
           30
          ],
          [
           "Adam Forshaw",
           31
          ],
          [
           "Ryan Watson",
           29
          ],
          [
           "Tom Carroll",
           30
          ],
          [
           "John Egan",
           30
          ],
          [
           "Grant Hanley",
           31
          ],
          [
           "Eirik Johansen",
           30
          ],
          [
           "Tommy Smith",
           31
          ],
          [
           "Emyr Huws",
           29
          ],
          [
           "Craig Dawson",
           33
          ],
          [
           "Wellington Silva",
           30
          ],
          [
           "Markus Henriksen",
           30
          ],
          [
           "Sam Clucas",
           32
          ],
          [
           "Nico Yennaris",
           30
          ],
          [
           "Ali Gabr",
           34
          ],
          [
           "Tom Cairney",
           32
          ],
          [
           "Simon Moore",
           33
          ],
          [
           "Sam Morsy",
           31
          ],
          [
           "Callum Wilson",
           31
          ],
          [
           "Danny Ward",
           32
          ],
          [
           "Odysseas Vlachodimos",
           29
          ],
          [
           "Grant Hall",
           31
          ],
          [
           "Pontus Jansson",
           32
          ],
          [
           "Nathaniel Mendez-Laing",
           30
          ],
          [
           "Luke Berry",
           30
          ],
          [
           "Mark Flekken",
           30
          ],
          [
           "Lee Nicholls",
           30
          ],
          [
           "Carl Jenkinson",
           31
          ],
          [
           "Allan",
           32
          ],
          [
           "Kenny McLean",
           31
          ],
          [
           "Lucas Digne",
           29
          ],
          [
           "Idrissa Gueye",
           33
          ],
          [
           "Serge Aurier",
           30
          ],
          [
           "Abdoulaye Doucouré",
           30
          ],
          [
           "Matz Sels",
           31
          ],
          [
           "Robbie Brady",
           31
          ],
          [
           "Scott Wootton",
           31
          ],
          [
           "Derrick Williams",
           30
          ],
          [
           "Bo-kyung Kim",
           33
          ],
          [
           "Tom Anderson",
           29
          ],
          [
           "Jamal Blackman",
           29
          ],
          [
           "Nathaniel Chalobah",
           28
          ],
          [
           "Conor Coady",
           30
          ],
          [
           "Ben Gibson",
           30
          ],
          [
           "Liam Moore",
           30
          ],
          [
           "Jack Robinson",
           29
          ],
          [
           "Ethan Ebanks-Landell",
           30
          ],
          [
           "Nathan Redmond",
           29
          ],
          [
           "Charlie Austin",
           33
          ],
          [
           "Jordan Pickford",
           29
          ],
          [
           "Stuart Armstrong",
           31
          ],
          [
           "Jonathan Bond",
           30
          ],
          [
           "Juan Agudelo",
           30
          ],
          [
           "Rodrigo",
           32
          ],
          [
           "Roberto Firmino",
           31
          ],
          [
           "Ross Barkley",
           29
          ],
          [
           "Phil Ofosu-Ayeh",
           31
          ],
          [
           "Dan Burn",
           31
          ],
          [
           "Danny Ings",
           30
          ],
          [
           "Matthias Fanimo",
           29
          ],
          [
           "Nick Powell",
           29
          ],
          [
           "Raheem Sterling",
           28
          ],
          [
           "Blair Turgott",
           29
          ],
          [
           "André Carrillo",
           32
          ],
          [
           "Fabian Schär",
           31
          ],
          [
           "Manuel Lanzini",
           30
          ],
          [
           "Daniel Bentley",
           29
          ],
          [
           "Kadeem Harris",
           29
          ],
          [
           "Marçal",
           34
          ],
          [
           "Jakob Haugaard",
           31
          ],
          [
           "Virgil van Dijk",
           31
          ],
          [
           "Ryan Fredericks",
           30
          ],
          [
           "Josip Drmic",
           30
          ],
          [
           "Liam O'Neil",
           29
          ],
          [
           "George Saville",
           30
          ],
          [
           "Zeki Fryers",
           30
          ],
          [
           "Jesse Lingard",
           30
          ],
          [
           "Willy Boly",
           32
          ],
          [
           "Mark Gillespie",
           31
          ],
          [
           "Krisztián Adorján",
           30
          ],
          [
           "Leandro Trossard",
           28
          ],
          [
           "Tim Ream",
           35
          ],
          [
           "Wataru Endo",
           30
          ],
          [
           "Conor Townsend",
           30
          ],
          [
           "George Baldock",
           30
          ],
          [
           "Ryan Fraser",
           29
          ],
          [
           "Lewis Dunk",
           31
          ],
          [
           "Jeff Hendrick",
           31
          ],
          [
           "Christian Nørgaard",
           29
          ],
          [
           "Divock Origi",
           27
          ],
          [
           "Mohamed Salah",
           30
          ],
          [
           "Tomas Kalas",
           29
          ],
          [
           "Jiri Skalak",
           31
          ],
          [
           "Todd Kane",
           29
          ],
          [
           "Felipe",
           34
          ],
          [
           "Tyias Browning",
           28
          ],
          [
           "Ben Heneghan",
           29
          ],
          [
           "Tom Ince",
           31
          ],
          [
           "Michael Hector",
           30
          ],
          [
           "Kurt Zouma",
           28
          ],
          [
           "Vladimír Coufal",
           30
          ],
          [
           "Cyrus Christie",
           30
          ],
          [
           "Tendayi Darikwa",
           31
          ],
          [
           "Kieron Freeman",
           31
          ],
          [
           "Max Ehmer",
           31
          ],
          [
           "Stuart Dallas",
           32
          ],
          [
           "Mesca",
           29
          ],
          [
           "Mohamed Elneny",
           30
          ],
          [
           "Adam Reach",
           30
          ],
          [
           "Connor Ripley",
           30
          ],
          [
           "Adam Smith",
           30
          ],
          [
           "Jack Stephens",
           29
          ],
          [
           "Rory Donnelly",
           31
          ],
          [
           "Raphaël Varane",
           30
          ],
          [
           "Jürgen Locadia",
           29
          ],
          [
           "Paddy McNair",
           28
          ],
          [
           "James Husband",
           29
          ],
          [
           "Daniel Johnson",
           30
          ],
          [
           "Callum Paterson",
           28
          ],
          [
           "Cauley Woodrow",
           28
          ],
          [
           "Paul Dummett",
           31
          ],
          [
           "Jonathan Williams",
           29
          ],
          [
           "Timo Werner",
           27
          ],
          [
           "Cody Cropper",
           30
          ],
          [
           "Ben Reeves",
           31
          ],
          [
           "Jay Fulton",
           29
          ],
          [
           "Riyad Mahrez",
           32
          ],
          [
           "Matt Doherty",
           31
          ],
          [
           "Nahki Wells",
           33
          ],
          [
           "James Tarkowski",
           30
          ],
          [
           "Hélder Costa",
           29
          ],
          [
           "Brad Smith",
           29
          ],
          [
           "Sebastian Lletget",
           30
          ],
          [
           "Aymeric Laporte",
           28
          ],
          [
           "Florin Andone",
           30
          ],
          [
           "Nathan Aké",
           28
          ],
          [
           "Charly Musonda Jr.",
           26
          ],
          [
           "Graham Burke",
           29
          ],
          [
           "Harry Maguire",
           30
          ],
          [
           "Jean Michaël Seri",
           31
          ],
          [
           "Donald Love",
           28
          ],
          [
           "Curtis Good",
           30
          ],
          [
           "George Evans",
           28
          ],
          [
           "James Ward-Prowse",
           28
          ],
          [
           "Massimo Luongo",
           30
          ],
          [
           "Emerson",
           28
          ],
          [
           "Jordan Graham",
           28
          ],
          [
           "Ryan Inniss",
           27
          ],
          [
           "Luke Shaw",
           27
          ],
          [
           "Joe Rothwell",
           28
          ],
          [
           "Callum Robinson",
           28
          ],
          [
           "Luke McGee",
           27
          ],
          [
           "Ben Pearson",
           28
          ],
          [
           "Jamaal Lascelles",
           29
          ],
          [
           "Patrick Bamford",
           29
          ],
          [
           "Gregor Zabret",
           28
          ],
          [
           "Jordan Clark",
           29
          ],
          [
           "Ming-Yang Yang",
           27
          ],
          [
           "Tom Hopper",
           29
          ],
          [
           "Emil Krafth",
           28
          ],
          [
           "Victor Lindelöf",
           28
          ],
          [
           "Bobby De Cordova-Reid",
           30
          ],
          [
           "John Stones",
           29
          ],
          [
           "Marek Rodák",
           26
          ],
          [
           "Jack Rose",
           28
          ],
          [
           "Ryan Christie",
           28
          ],
          [
           "Michael Petrasso",
           27
          ],
          [
           "Sean Maguire",
           29
          ],
          [
           "Nick Pope",
           31
          ],
          [
           "Kepa Arrizabalaga",
           28
          ],
          [
           "Ben Davies",
           30
          ],
          [
           "Álex Moreno",
           30
          ],
          [
           "John McGinn",
           28
          ],
          [
           "Joe Bryan",
           29
          ],
          [
           "Charlie Taylor",
           29
          ],
          [
           "Adedeji Oshilaja",
           29
          ],
          [
           "Joe Ralls",
           29
          ],
          [
           "Remi Matthews",
           29
          ],
          [
           "John Swift",
           27
          ],
          [
           "Janoi Donacien",
           29
          ],
          [
           "Josh Sheehan",
           28
          ],
          [
           "Jamie Vardy",
           36
          ],
          [
           "Liam Shephard",
           28
          ],
          [
           "Harry Toffolo",
           27
          ],
          [
           "Lewis Baker",
           28
          ],
          [
           "Sam Hoskins",
           30
          ],
          [
           "Jacob Murphy",
           28
          ],
          [
           "Josh Murphy",
           28
          ],
          [
           "Kevin Stewart",
           29
          ],
          [
           "Angus Gunn",
           27
          ],
          [
           "Danny Ward",
           30
          ],
          [
           "Conor McGrandles",
           27
          ],
          [
           "Andreas Pereira",
           27
          ],
          [
           "Jack Grealish",
           27
          ],
          [
           "Oleksandr Zinchenko",
           26
          ],
          [
           "Adama Traoré",
           27
          ],
          [
           "Saman Ghoddos",
           29
          ],
          [
           "Dejan Iliev",
           28
          ],
          [
           "Raúl Jiménez",
           31
          ],
          [
           "Isaac Hayden",
           28
          ],
          [
           "Kenny Tete",
           27
          ],
          [
           "Will Hughes",
           28
          ],
          [
           "Dan Potts",
           29
          ],
          [
           "Tom Lockyer",
           28
          ],
          [
           "Louis Thompson",
           28
          ],
          [
           "Brendan Galloway",
           27
          ],
          [
           "Christian Walton",
           27
          ],
          [
           "Solly March",
           28
          ],
          [
           "Oumar Niasse",
           32
          ],
          [
           "Jack O'Connell",
           29
          ],
          [
           "Adam Webster",
           28
          ],
          [
           "David Ferguson",
           28
          ],
          [
           "Connor Roberts",
           27
          ],
          [
           "Kean Bryan",
           26
          ],
          [
           "Calum Chambers",
           28
          ],
          [
           "Tom King",
           28
          ],
          [
           "Ricardo Pereira",
           29
          ],
          [
           "Ben Osborn",
           28
          ],
          [
           "George Honeyman",
           28
          ],
          [
           "Conor Grant",
           27
          ],
          [
           "Matthew Pennington",
           28
          ],
          [
           "Zack Steffen",
           28
          ],
          [
           "Alex Gilliead",
           27
          ],
          [
           "Joel Dixon",
           29
          ],
          [
           "Danilo Pantic",
           26
          ],
          [
           "Luke Simpson",
           28
          ],
          [
           "N'Golo Kanté",
           31
          ],
          [
           "Gonçalo Guedes",
           26
          ],
          [
           "Rúben Neves",
           26
          ],
          [
           "Fabinho",
           29
          ],
          [
           "Matheus Pereira",
           27
          ],
          [
           "Freddie Woodman",
           26
          ],
          [
           "Sean Raggett",
           29
          ],
          [
           "Anthony Cáceres",
           30
          ],
          [
           "Dominic Gape",
           28
          ],
          [
           "Lloyd Isgrove",
           30
          ],
          [
           "Harrison Reed",
           28
          ],
          [
           "Sam Gallagher",
           27
          ],
          [
           "Jason McCarthy",
           27
          ],
          [
           "Gedion Zelalem",
           26
          ],
          [
           "Thomas Partey",
           30
          ],
          [
           "Nélson Semedo",
           29
          ],
          [
           "Emiliano Marcondes",
           28
          ],
          [
           "Kortney Hause",
           27
          ],
          [
           "Freddie Ladapo",
           30
          ],
          [
           "André Onana",
           26
          ],
          [
           "Andrew Robertson",
           29
          ],
          [
           "Ola Aina",
           26
          ],
          [
           "Connor Ogilvie",
           27
          ],
          [
           "Sam Byram",
           29
          ],
          [
           "Ederson",
           29
          ],
          [
           "Leandro Rodríguez",
           30
          ],
          [
           "Jamal Lowe",
           28
          ],
          [
           "George Byers",
           26
          ],
          [
           "Bruno Fernandes",
           28
          ],
          [
           "Bernardo Silva",
           28
          ],
          [
           "Jindrich Stanek",
           27
          ],
          [
           "Ethan Horvath",
           27
          ],
          [
           "Gethin Jones",
           27
          ],
          [
           "Courtney Duffus",
           27
          ],
          [
           "Josh Cullen",
           26
          ],
          [
           "Alex Iwobi",
           27
          ],
          [
           "Nathan Mavila",
           27
          ],
          [
           "Lewis Page",
           26
          ],
          [
           "Josh Vickers",
           27
          ],
          [
           "Jan Bednarek",
           26
          ],
          [
           "Josh Onomah",
           26
          ],
          [
           "Lawrence Vigouroux",
           29
          ],
          [
           "Lloyd Jones",
           27
          ],
          [
           "Hiram Boateng",
           27
          ],
          [
           "Pelly Ruddock Mpanzu",
           29
          ],
          [
           "Jon Gorenc Stankovic",
           27
          ],
          [
           "Saša Lukić",
           26
          ],
          [
           "Reece James",
           29
          ],
          [
           "Alex Palmer",
           26
          ],
          [
           "Bartosz Kapustka",
           26
          ],
          [
           "Carlton Morris",
           27
          ],
          [
           "Duncan Watmore",
           29
          ],
          [
           "Lewis Cook",
           26
          ],
          [
           "Harry Winks",
           27
          ],
          [
           "Jack Stacey",
           27
          ],
          [
           "Youri Tielemans",
           25
          ],
          [
           "Tariqe Fosu",
           27
          ],
          [
           "José Sá",
           30
          ],
          [
           "Adam Armstrong",
           26
          ],
          [
           "Jamie Sterry",
           27
          ],
          [
           "Matt Targett",
           27
          ],
          [
           "Enes Ünal",
           26
          ],
          [
           "Jordan Lyden",
           27
          ],
          [
           "Ivan Toney",
           27
          ],
          [
           "Semi Ajayi",
           29
          ],
          [
           "Ken Sema",
           29
          ],
          [
           "Rob Holding",
           27
          ],
          [
           "Tyrone Mings",
           30
          ],
          [
           "Harry Cornick",
           28
          ],
          [
           "Wes Burns",
           28
          ],
          [
           "Samir Caetano",
           28
          ],
          [
           "Cameron Burgess",
           27
          ],
          [
           "Joe Gomez",
           26
          ],
          [
           "Adnan Maric",
           26
          ],
          [
           "Dan Barlaser",
           26
          ],
          [
           "Tommy Robson",
           27
          ],
          [
           "Rúben Dias",
           26
          ],
          [
           "Kasey Palmer",
           26
          ],
          [
           "Tom Beadling",
           27
          ],
          [
           "Tosin Adarabioyo",
           25
          ],
          [
           "Ryan Ledson",
           25
          ],
          [
           "Max Lowe",
           25
          ],
          [
           "Kyle Scott",
           25
          ],
          [
           "Dominic Solanke",
           25
          ],
          [
           "Dean Henderson",
           26
          ],
          [
           "Marcus Rashford",
           25
          ],
          [
           "Joachim Andersen",
           27
          ],
          [
           "Daniel Iversen",
           25
          ],
          [
           "Cameron Brannagan",
           26
          ],
          [
           "Filip Krovinovic",
           27
          ],
          [
           "Timothy Castagne",
           27
          ],
          [
           "Ryan Manning",
           26
          ],
          [
           "David Raya",
           27
          ],
          [
           "Soufyan Ahannach",
           28
          ],
          [
           "Jefferson Lerma",
           28
          ],
          [
           "Kevin Danso",
           24
          ],
          [
           "Harry Charsley",
           26
          ],
          [
           "Reece Burke",
           26
          ],
          [
           "Kevin Toner",
           26
          ],
          [
           "Matt Grimes",
           27
          ],
          [
           "Joe Williams",
           26
          ],
          [
           "Vitaly Janelt",
           25
          ],
          [
           "Callum Elder",
           28
          ],
          [
           "Sylvain Deslandes",
           25
          ],
          [
           "Issa Diop",
           26
          ],
          [
           "Paul Onuachu",
           28
          ],
          [
           "Miguel Almirón",
           29
          ],
          [
           "Jonathan Benteke",
           28
          ],
          [
           "Wilfred Ndidi",
           26
          ],
          [
           "Kieffer Moore",
           30
          ],
          [
           "David Brooks",
           25
          ],
          [
           "Jack Payne",
           28
          ],
          [
           "Amari'i Bell",
           29
          ],
          [
           "MJ Williams",
           27
          ],
          [
           "Harry Wilson",
           26
          ],
          [
           "Sergio Reguilón",
           26
          ],
          [
           "Corey Blackett-Taylor",
           25
          ],
          [
           "Alfie Whiteman",
           24
          ],
          [
           "Tomas Soucek",
           28
          ],
          [
           "Grant Ward",
           28
          ],
          [
           "Manuel Akanji",
           27
          ],
          [
           "Marc Cucurella",
           24
          ],
          [
           "Will Norris",
           29
          ],
          [
           "Joel Coleman",
           27
          ],
          [
           "Harry Burgoyne",
           26
          ],
          [
           "Guglielmo Vicario",
           26
          ],
          [
           "Joe Lolley",
           30
          ],
          [
           "Krystian Bielik",
           25
          ],
          [
           "Connor Mahoney",
           26
          ],
          [
           "Orel Mangala",
           25
          ],
          [
           "Josh Harrop",
           27
          ],
          [
           "Ashley Fletcher",
           27
          ],
          [
           "Saïd Benrahma",
           27
          ],
          [
           "Jordan Hugill",
           31
          ],
          [
           "Sammie Szmodics",
           27
          ],
          [
           "Hee-chan Hwang",
           27
          ],
          [
           "Demarai Gray",
           26
          ],
          [
           "Wout Faes",
           25
          ],
          [
           "Matija Sarkic",
           25
          ],
          [
           "Baily Cargill",
           27
          ],
          [
           "Josh Brownhill",
           27
          ],
          [
           "Conor Masterson",
           24
          ],
          [
           "James Maddison",
           26
          ],
          [
           "Nathan",
           27
          ],
          [
           "Taiwo Awoniyi",
           25
          ],
          [
           "Kelechi Iheanacho",
           26
          ],
          [
           "Marco Asensio",
           27
          ],
          [
           "Tyler Roberts",
           24
          ],
          [
           "Joe Rodon",
           25
          ],
          [
           "Harry Souttar",
           24
          ],
          [
           "Courtney Baker-Richardson",
           27
          ],
          [
           "George Thomas",
           26
          ],
          [
           "Kieran Tierney",
           25
          ],
          [
           "Fred Onyedinma",
           26
          ],
          [
           "Dominic Calvert-Lewin",
           26
          ],
          [
           "Matt Clarke",
           26
          ],
          [
           "Lynden Gooch",
           27
          ],
          [
           "Callum Connolly",
           25
          ],
          [
           "Jan Mlakar",
           24
          ],
          [
           "Kai Havertz",
           23
          ],
          [
           "Andre Green",
           24
          ],
          [
           "Ramadan Sobhi",
           26
          ],
          [
           "Liam Gibson",
           25
          ],
          [
           "Dael Fry",
           25
          ],
          [
           "Karlan Grant",
           25
          ],
          [
           "Tom Davies",
           24
          ],
          [
           "Rushian Hepburn-Murphy",
           24
          ],
          [
           "Herbie Kane",
           24
          ],
          [
           "Jonathan Leko",
           23
          ],
          [
           "Chris Willock",
           25
          ],
          [
           "Trent Alexander-Arnold",
           24
          ],
          [
           "Kyle Edwards",
           25
          ],
          [
           "Darnell Johnson",
           24
          ],
          [
           "Admiral Muskwe",
           24
          ],
          [
           "Ben Sheaf",
           25
          ],
          [
           "Jarrod Bowen",
           26
          ],
          [
           "Ben Chilwell",
           26
          ],
          [
           "Martin Ødegaard",
           24
          ],
          [
           "Jake Clarke-Salter",
           25
          ],
          [
           "Mateusz Hewelt",
           26
          ],
          [
           "Vlad Dragomir",
           23
          ],
          [
           "Daniel James",
           25
          ],
          [
           "Mathias Jensen",
           27
          ],
          [
           "Elijah Adebayo",
           25
          ],
          [
           "Anthony Georgiou",
           26
          ],
          [
           "Benny Ashley-Seal",
           24
          ],
          [
           "Benson Manuel",
           26
          ],
          [
           "Gustavo Hamer",
           25
          ],
          [
           "James Bree",
           25
          ],
          [
           "Ollie Watkins",
           27
          ],
          [
           "Marvelous Nakamba",
           29
          ],
          [
           "Donyell Malen",
           24
          ],
          [
           "Matthijs de Ligt",
           23
          ],
          [
           "Jaroslaw Jach",
           29
          ],
          [
           "Kristoffer Ajer",
           25
          ],
          [
           "João Virgínia",
           23
          ],
          [
           "Justin Kluivert",
           23
          ],
          [
           "Takehiro Tomiyasu",
           24
          ],
          [
           "Tyler Adams",
           24
          ],
          [
           "Sander Berge",
           25
          ],
          [
           "Joelinton",
           26
          ],
          [
           "Ben White",
           25
          ],
          [
           "Altay Bayındır",
           24
          ],
          [
           "Joe Lumley",
           28
          ],
          [
           "Nathan Holland",
           24
          ],
          [
           "Connor Ronan",
           25
          ],
          [
           "Konstantinos Tsimikas",
           27
          ],
          [
           "Mikel Merino",
           26
          ],
          [
           "Hannes Delcroix",
           24
          ],
          [
           "Daniel Grimshaw",
           25
          ],
          [
           "Rico Henry",
           25
          ],
          [
           "Josh Pask",
           25
          ],
          [
           "Regan Poole",
           24
          ],
          [
           "Tolaji Bola",
           24
          ],
          [
           "Marcus McGuane",
           24
          ],
          [
           "Josh Dasilva",
           24
          ],
          [
           "Eddie Nketiah",
           23
          ],
          [
           "Reiss Nelson",
           23
          ],
          [
           "Stephy Mavididi",
           25
          ],
          [
           "Joe Willock",
           23
          ],
          [
           "Noussair Mazraoui",
           25
          ],
          [
           "Caoimhín Kelleher",
           24
          ],
          [
           "Diogo Jota",
           26
          ],
          [
           "Harry Lewis",
           25
          ],
          [
           "Kyle Walker-Peters",
           26
          ],
          [
           "Federico Chiesa",
           25
          ],
          [
           "Hamza Choudhury",
           25
          ],
          [
           "Elliott Moore",
           26
          ],
          [
           "Axel Tuanzebe",
           25
          ],
          [
           "Grady Diangana",
           25
          ],
          [
           "Nathan Baxter",
           24
          ],
          [
           "Guido Rodríguez",
           29
          ],
          [
           "Ben Godfrey",
           25
          ],
          [
           "Nathan Broadhead",
           25
          ],
          [
           "Ben Woodburn",
           23
          ],
          [
           "Odsonne Edouard",
           25
          ],
          [
           "Christopher Nkunku",
           25
          ],
          [
           "Boubakary Soumaré",
           24
          ],
          [
           "Tahith Chong",
           23
          ],
          [
           "Shayon Harrison",
           25
          ],
          [
           "Djair Parfitt-Williams",
           26
          ],
          [
           "Jamal Lewis",
           25
          ],
          [
           "Trevoh Chalobah",
           23
          ],
          [
           "Jordan Williams",
           23
          ],
          [
           "Tom Dele-Bashiru",
           23
          ],
          [
           "Japhet Tanganga",
           24
          ],
          [
           "Dan Nlundulu",
           24
          ],
          [
           "Mason Mount",
           24
          ],
          [
           "Sean Longstaff",
           25
          ],
          [
           "Mason Holgate",
           26
          ],
          [
           "Alexander Isak",
           23
          ],
          [
           "Conor Chaplin",
           26
          ],
          [
           "Pervis Estupiñán",
           25
          ],
          [
           "Antonee Robinson",
           25
          ],
          [
           "Shayne Lavery",
           24
          ],
          [
           "Kalvin Phillips",
           27
          ],
          [
           "Darnell Furlong",
           27
          ],
          [
           "Keshi Anderson",
           28
          ],
          [
           "Adnan Kanuric",
           22
          ],
          [
           "Joe Powell",
           24
          ],
          [
           "Rodrigo Bentancur",
           26
          ],
          [
           "Cristian Romero",
           25
          ],
          [
           "Daichi Kamada",
           26
          ],
          [
           "Ibrahima Konaté",
           24
          ],
          [
           "Diogo Dalot",
           24
          ],
          [
           "Kazaiah Sterling",
           24
          ],
          [
           "Rodri",
           27
          ],
          [
           "Jayson Molumby",
           23
          ],
          [
           "Mark Travers",
           24
          ],
          [
           "Declan Rice",
           24
          ],
          [
           "Lasse Sörensen",
           23
          ],
          [
           "Sven Botman",
           23
          ],
          [
           "Gabriel Jesus",
           26
          ],
          [
           "Elliot Embleton",
           24
          ],
          [
           "Patson Daka",
           24
          ],
          [
           "Pontus Dahlberg",
           24
          ],
          [
           "Dan Agyei",
           25
          ],
          [
           "Niall Ennis",
           23
          ],
          [
           "Ferdi Kadıoğlu",
           23
          ],
          [
           "Sasa Kalajdzic",
           25
          ],
          [
           "Arijanet Muric",
           24
          ],
          [
           "Francisco Sierralta",
           26
          ],
          [
           "Nathaniel Phillips",
           26
          ],
          [
           "Carlos Soler",
           26
          ],
          [
           "Paulinho",
           25
          ],
          [
           "Junior Firpo",
           26
          ],
          [
           "Ibrahim Sangaré",
           25
          ],
          [
           "Charlie Goode",
           27
          ],
          [
           "Anel Ahmedhodzic",
           24
          ],
          [
           "Richarlison",
           26
          ],
          [
           "Lyanco",
           26
          ],
          [
           "Igor",
           25
          ],
          [
           "Joel Mumbongo",
           24
          ],
          [
           "Wesley Moraes",
           26
          ],
          [
           "Steven Benda",
           24
          ],
          [
           "Mike Trésor",
           23
          ],
          [
           "Tyrese Campbell",
           23
          ],
          [
           "Joe Hardy",
           24
          ],
          [
           "Przemyslaw Placheta",
           25
          ],
          [
           "Axel Disasi",
           25
          ],
          [
           "Darko Churlinov",
           22
          ],
          [
           "Joe Riley",
           26
          ],
          [
           "Daiki Hashioka",
           24
          ],
          [
           "Samuel Shashoua",
           24
          ],
          [
           "Sam Field",
           25
          ],
          [
           "Leon Bailey",
           25
          ],
          [
           "Yoane Wissa",
           26
          ],
          [
           "Jacob Lungi Sörensen",
           25
          ],
          [
           "Marcus Browne",
           25
          ],
          [
           "Chiedozie Ogbene",
           26
          ],
          [
           "Marc Guéhi",
           22
          ],
          [
           "Ian Poveda",
           23
          ],
          [
           "Emile Smith Rowe",
           22
          ],
          [
           "George McEachran",
           22
          ],
          [
           "Callum Hudson-Odoi",
           22
          ],
          [
           "Marcel Lavinier",
           22
          ],
          [
           "Kane Wilson",
           23
          ],
          [
           "Ryan Sessegnon",
           23
          ],
          [
           "Josh Sargent",
           23
          ],
          [
           "Boubacar Kamara",
           23
          ],
          [
           "Claudio Gomes",
           22
          ],
          [
           "Moussa Diaby",
           23
          ],
          [
           "Sam Hughes",
           25
          ],
          [
           "Jimmy Dunne",
           25
          ],
          [
           "Ethan Hamilton",
           24
          ],
          [
           "Manor Solomon",
           23
          ],
          [
           "Dan Kemp",
           24
          ],
          [
           "Jamie Cumming",
           23
          ],
          [
           "Richard Nartey",
           24
          ],
          [
           "Sandro Tonali",
           23
          ],
          [
           "Josh Benson",
           23
          ],
          [
           "Harvey Barnes",
           25
          ],
          [
           "Sam Surridge",
           24
          ],
          [
           "Marcus Tavernier",
           24
          ],
          [
           "Pau Torres",
           26
          ],
          [
           "Mads Hermansen",
           22
          ],
          [
           "Jadon Sancho",
           22
          ],
          [
           "Dara O'Shea",
           24
          ],
          [
           "Edson Álvarez",
           25
          ],
          [
           "Michal Karbownik",
           22
          ],
          [
           "Gonzalo Montiel",
           26
          ],
          [
           "Robert Sánchez",
           25
          ],
          [
           "Jordan Beyer",
           22
          ],
          [
           "Marcus Forss",
           23
          ],
          [
           "Vitaliy Mykolenko",
           24
          ],
          [
           "Yukinari Sugawara",
           22
          ],
          [
           "Yan Valery",
           24
          ],
          [
           "Tom McGill",
           23
          ],
          [
           "Steven Sessegnon",
           22
          ],
          [
           "Timothy Eyoma",
           23
          ],
          [
           "Rhian Brewster",
           23
          ],
          [
           "Matt O'Riley",
           22
          ],
          [
           "Phil Foden",
           23
          ],
          [
           "Oliver Skipp",
           22
          ],
          [
           "Mads Andersen",
           25
          ],
          [
           "Ismaïla Sarr",
           25
          ],
          [
           "Yves Bissouma",
           26
          ],
          [
           "Pascal Struijk",
           23
          ],
          [
           "Max Sanders",
           24
          ],
          [
           "Adam Parkes",
           23
          ],
          [
           "Ibrahima Diallo",
           24
          ],
          [
           "Bryan Mbeumo",
           23
          ],
          [
           "James Justin",
           25
          ],
          [
           "Ezri Konsa",
           25
          ],
          [
           "Nikola Milenković",
           25
          ],
          [
           "Marshall Munetsi",
           27
          ],
          [
           "Mats Wieffer",
           23
          ],
          [
           "Bruno Jordão",
           24
          ],
          [
           "Konstantinos Mavropanos",
           25
          ],
          [
           "Joe Worrall",
           26
          ],
          [
           "Jordan Green",
           28
          ],
          [
           "Jack Harrison",
           26
          ],
          [
           "Erling Haaland",
           22
          ],
          [
           "Kristoffer Klaesson",
           22
          ],
          [
           "Conor Coventry",
           23
          ],
          [
           "Lewis Gibson",
           22
          ],
          [
           "Jean-Philippe Mateta",
           25
          ],
          [
           "Jurrien Timber",
           21
          ],
          [
           "George Hirst",
           24
          ],
          [
           "Alfie Lewis",
           23
          ],
          [
           "Nathan Patterson",
           21
          ],
          [
           "Samuel Kalu",
           25
          ],
          [
           "Josh Knight",
           25
          ],
          [
           "Matt Turner",
           29
          ],
          [
           "Matty Cash",
           25
          ],
          [
           "Akin Famewo",
           24
          ],
          [
           "Ryan Yates",
           25
          ],
          [
           "Jakub Kiwior",
           23
          ],
          [
           "Ben Brereton Díaz",
           24
          ],
          [
           "Aaron Ramsdale",
           24
          ],
          [
           "Thanawat Suengchitthawon",
           23
          ],
          [
           "Brandon Austin",
           24
          ],
          [
           "Morgan Gibbs-White",
           23
          ],
          [
           "Jørgen Strand Larsen",
           23
          ],
          [
           "Andrew Irving",
           23
          ],
          [
           "Tom Edwards",
           24
          ],
          [
           "Peter Gwargis",
           22
          ],
          [
           "Mateusz Bogusz",
           22
          ],
          [
           "Dejan Kulusevski",
           22
          ],
          [
           "Bukayo Saka",
           21
          ],
          [
           "Elijah Dixon-Bonner",
           22
          ],
          [
           "Luis Longstaff",
           22
          ],
          [
           "Tommy Doyle",
           21
          ],
          [
           "Rayhaan Tulloch",
           22
          ],
          [
           "Bali Mumba",
           21
          ],
          [
           "Curtis Jones",
           22
          ],
          [
           "Scott Twine",
           23
          ],
          [
           "Tudor Baluta",
           24
          ],
          [
           "Ethan Galbraith",
           21
          ],
          [
           "Aaron Connolly",
           23
          ],
          [
           "Maxence Lacroix",
           23
          ],
          [
           "Cody Gakpo",
           24
          ],
          [
           "Gabriel Magalhães",
           25
          ],
          [
           "Joshua Zirkzee",
           21
          ],
          [
           "Santiago Bueno",
           24
          ],
          [
           "Ethan Pinnock",
           30
          ],
          [
           "Edouard Mendy",
           31
          ],
          [
           "Michael Obafemi",
           22
          ],
          [
           "Will Smallbone",
           23
          ],
          [
           "Lucas Paquetá",
           25
          ],
          [
           "Louie Moulden",
           21
          ],
          [
           "Omar Marmoush",
           24
          ],
          [
           "Ross Stewart",
           26
          ],
          [
           "Emmanuel Dennis",
           25
          ],
          [
           "Jean-Ricner Bellegarde",
           24
          ],
          [
           "Dominik Szoboszlai",
           22
          ],
          [
           "Jorge Segura",
           26
          ],
          [
           "Adama Diakhaby",
           26
          ],
          [
           "Will Mannion",
           24
          ],
          [
           "Rekeem Harper",
           23
          ],
          [
           "Jack Taylor",
           24
          ],
          [
           "Harvey Rodgers",
           26
          ],
          [
           "Caleb Okoli",
           21
          ],
          [
           "Calvin Bassey",
           23
          ],
          [
           "Benoît Badiashile",
           22
          ],
          [
           "Marc Leonard",
           21
          ],
          [
           "Terry Taylor",
           21
          ],
          [
           "Allan Tchaptchet",
           21
          ],
          [
           "Jayden Bogle",
           22
          ],
          [
           "Nico González",
           21
          ],
          [
           "Armel Bella-Kotchap",
           21
          ],
          [
           "Lyle Foster",
           22
          ],
          [
           "Ben Johnson",
           23
          ],
          [
           "Jens Cajuste",
           23
          ],
          [
           "Joe Aribo",
           26
          ],
          [
           "Vitinho",
           23
          ],
          [
           "Nathan Collins",
           22
          ],
          [
           "Gavin Kilkenny",
           23
          ],
          [
           "Marcos Senesi",
           26
          ],
          [
           "Indiana Vassilev",
           22
          ],
          [
           "Jacob Brown",
           24
          ],
          [
           "Paris Maghoma",
           21
          ],
          [
           "Ben Cottrell",
           21
          ],
          [
           "Brennan Johnson",
           21
          ],
          [
           "Reece James",
           23
          ],
          [
           "Kevin Schade",
           21
          ],
          [
           "Regan Slater",
           23
          ],
          [
           "Lewis Cass",
           23
          ],
          [
           "Crysencio Summerville",
           21
          ],
          [
           "Kiernan Dewsbury-Hall",
           24
          ],
          [
           "Wesley Fofana",
           22
          ],
          [
           "Josko Gvardiol",
           21
          ],
          [
           "Steven Alzate",
           24
          ],
          [
           "Bernardo Rosa",
           22
          ],
          [
           "Manuel Ugarte",
           21
          ],
          [
           "Aaron Wan-Bissaka",
           25
          ],
          [
           "Ryan Gravenberch",
           21
          ],
          [
           "Eberechi Eze",
           24
          ],
          [
           "Cohen Bramall",
           27
          ],
          [
           "Luis Díaz",
           26
          ],
          [
           "Lisandro Martínez",
           25
          ],
          [
           "Chris Mepham",
           25
          ],
          [
           "Djed Spence",
           22
          ],
          [
           "Matty Longstaff",
           23
          ],
          [
           "Taylor Richards",
           22
          ],
          [
           "Ian Maatsen",
           21
          ],
          [
           "Amadou Onana",
           21
          ],
          [
           "Jérémy Doku",
           21
          ],
          [
           "Jake Walker",
           22
          ],
          [
           "Jakub Stolarczyk",
           22
          ],
          [
           "Edo Kayembe",
           25
          ],
          [
           "Vitezslav Jaros",
           21
          ],
          [
           "Pedro Neto",
           23
          ],
          [
           "Maksim Paskotsi",
           20
          ],
          [
           "Siriki Dembélé",
           26
          ],
          [
           "Hákon Rafn Valdimarsson",
           21
          ],
          [
           "Ismaila Coulibaly",
           22
          ],
          [
           "Lucas Bergström",
           21
          ],
          [
           "Daniel Muñoz",
           26
          ],
          [
           "Jorge Cuenca",
           23
          ],
          [
           "Nathan Bishop",
           24
          ],
          [
           "William Saliba",
           21
          ],
          [
           "Dion Sanderson",
           23
          ],
          [
           "Elliot Thorpe",
           22
          ],
          [
           "Nicolás Domínguez",
           24
          ],
          [
           "Dion Pereira",
           24
          ],
          [
           "Ákos Onódi",
           21
          ],
          [
           "Aji Alese",
           22
          ],
          [
           "Taylor Perry",
           21
          ],
          [
           "Riccardo Calafiori",
           21
          ],
          [
           "Rhys Williams",
           22
          ],
          [
           "Neco Williams",
           22
          ],
          [
           "Anthony Driscoll-Glennon",
           23
          ],
          [
           "Anthony Gordon",
           22
          ],
          [
           "Morgan Rogers",
           20
          ],
          [
           "Jacob Ramsey",
           21
          ],
          [
           "Tyreece John-Jules",
           22
          ],
          [
           "Arthur Okonkwo",
           21
          ],
          [
           "Jeremy Ngakia",
           22
          ],
          [
           "Albert Grønbaek",
           22
          ],
          [
           "Joe Hodge",
           20
          ],
          [
           "Dynel Simeu",
           21
          ],
          [
           "Taylor Harwood-Bellis",
           21
          ],
          [
           "Joe Gelhardt",
           21
          ],
          [
           "Tino Livramento",
           20
          ],
          [
           "Noni Madueke",
           21
          ],
          [
           "Alex Mighten",
           20
          ],
          [
           "Nathan Wood",
           21
          ],
          [
           "Daniel Barden",
           22
          ],
          [
           "Tariq Lamptey",
           22
          ],
          [
           "Emmanuel Longelo",
           22
          ],
          [
           "Ryan Giles",
           23
          ],
          [
           "Kaoru Mitoma",
           25
          ],
          [
           "Luke Thomas",
           22
          ],
          [
           "James Garner",
           22
          ],
          [
           "Louie Watson",
           21
          ],
          [
           "Flynn Downes",
           24
          ],
          [
           "Josh Bowler",
           24
          ],
          [
           "Jack Young",
           22
          ],
          [
           "Nathan Ferguson",
           22
          ],
          [
           "Alexandre Jankewitz",
           21
          ],
          [
           "Brandon Williams",
           22
          ],
          [
           "Daniel Batty",
           25
          ],
          [
           "Ellis Simms",
           22
          ],
          [
           "Jackson Smith",
           21
          ],
          [
           "Ryan Longman",
           22
          ],
          [
           "Malcolm Ebiowei",
           19
          ],
          [
           "Luis Sinisterra",
           24
          ],
          [
           "Jesper Lindstrøm",
           23
          ],
          [
           "Julián Araujo",
           21
          ],
          [
           "Matheus Cunha",
           23
          ],
          [
           "Bruno Guimarães",
           25
          ],
          [
           "Jensen Weir",
           21
          ],
          [
           "Jaime Alvarado",
           23
          ],
          [
           "Maximilian Kilman",
           25
          ],
          [
           "Carlos Vinícius",
           28
          ],
          [
           "Karlo Ziger",
           22
          ],
          [
           "Luke Woolfenden",
           24
          ],
          [
           "Tyrese Francois",
           22
          ],
          [
           "Jack Spong",
           21
          ],
          [
           "Armstrong Oko-Flex",
           21
          ],
          [
           "Di'Shon Bernard",
           22
          ],
          [
           "D'Mani Mellor",
           22
          ],
          [
           "Ethan Laird",
           21
          ],
          [
           "Cody Drameh",
           21
          ],
          [
           "Sam Greenwood",
           21
          ],
          [
           "Daniel Adshead",
           21
          ],
          [
           "Luke Cundle",
           21
          ],
          [
           "Haydon Roberts",
           20
          ],
          [
           "Cameron Archer",
           21
          ],
          [
           "Shandon Baptiste",
           25
          ],
          [
           "Alexis Mac Allister",
           24
          ],
          [
           "Robbie Gotts",
           23
          ],
          [
           "Jamie Shackleton",
           23
          ],
          [
           "Luke McNally",
           23
          ],
          [
           "Amad Diallo",
           20
          ],
          [
           "Mykhaylo Mudryk",
           22
          ],
          [
           "Kwasi Sibo",
           25
          ],
          [
           "Georginio Rutter",
           20
          ],
          [
           "Christian Marques",
           20
          ],
          [
           "Kristian Sekularac",
           20
          ],
          [
           "Zak Swanson",
           22
          ],
          [
           "Mikkel Damsgaard",
           22
          ],
          [
           "Sepp van den Berg",
           21
          ],
          [
           "Illan Meslier",
           23
          ],
          [
           "Alex Gilbert",
           21
          ],
          [
           "Rhys Norrington-Davies",
           24
          ],
          [
           "Cheick Doucouré",
           23
          ],
          [
           "Mohammed Kudus",
           22
          ],
          [
           "Darwin Núñez",
           24
          ],
          [
           "Anis Slimane",
           22
          ],
          [
           "Taylor Gardner-Hickman",
           21
          ],
          [
           "Miguel Azeez",
           20
          ],
          [
           "Josh Martin",
           21
          ],
          [
           "Teden Mengi",
           20
          ],
          [
           "Owen Beck",
           21
          ],
          [
           "Pedro Porro",
           23
          ],
          [
           "Alpha Diounkou",
           21
          ],
          [
           "Yasser Larouci",
           22
          ],
          [
           "Oliwier Zych",
           19
          ],
          [
           "Destiny Udogie",
           20
          ],
          [
           "Micky van de Ven",
           21
          ],
          [
           "Harrison Ashby",
           21
          ],
          [
           "Fábio Carvalho",
           20
          ],
          [
           "Jack Clarke",
           22
          ],
          [
           "Oliver Casey",
           22
          ],
          [
           "Niall Huggins",
           22
          ],
          [
           "Lewis O'Brien",
           25
          ],
          [
           "Dan Chesters",
           21
          ],
          [
           "Kyle Taylor",
           23
          ],
          [
           "Victor Kristiansen",
           20
          ],
          [
           "Bart Verbruggen",
           20
          ],
          [
           "Harvey Elliott",
           20
          ],
          [
           "Matty Daly",
           22
          ],
          [
           "James Trafford",
           20
          ],
          [
           "Thomas Dickson-Peters",
           20
          ],
          [
           "Elliot Anderson",
           20
          ],
          [
           "Odel Offiah",
           21
          ],
          [
           "Jeremy Sarmiento",
           20
          ],
          [
           "Dennis Cirkin",
           21
          ],
          [
           "Cole Palmer",
           21
          ],
          [
           "Radu Drăgușin",
           21
          ],
          [
           "Pape Matar Sarr",
           20
          ],
          [
           "Armando Broja",
           21
          ],
          [
           "Joseph Anang",
           23
          ],
          [
           "Josh Wilson-Esbrand",
           20
          ],
          [
           "Jan Paul van Hecke",
           22
          ],
          [
           "Rayan Aït-Nouri",
           22
          ],
          [
           "Chris Richards",
           22
          ],
          [
           "James Furlong",
           20
          ],
          [
           "Ed Turns",
           20
          ],
          [
           "Eiran Cashin",
           21
          ],
          [
           "Harvey White",
           21
          ],
          [
           "CJ Egan-Riley",
           20
          ],
          [
           "Louie Barry",
           19
          ],
          [
           "Charlie Patino",
           19
          ],
          [
           "Lukas Jensen",
           24
          ],
          [
           "Will Dennis",
           22
          ],
          [
           "Anthony Elanga",
           21
          ],
          [
           "James McAtee",
           20
          ],
          [
           "Antoine Semenyo",
           23
          ],
          [
           "Dwight McNeil",
           23
          ],
          [
           "Filip Jørgensen",
           21
          ],
          [
           "Jesurun Rak-Sakyi",
           20
          ],
          [
           "Myles Peart-Harris",
           20
          ],
          [
           "Lewis Bate",
           20
          ],
          [
           "Derek Agyakwa",
           21
          ],
          [
           "Joe Gauci",
           22
          ],
          [
           "Aaron Hickey",
           21
          ],
          [
           "Woyo Coulibaly",
           24
          ],
          [
           "Tiago Cukur",
           20
          ],
          [
           "Beto",
           25
          ],
          [
           "Max Haygarth",
           21
          ],
          [
           "Leif Davis",
           23
          ],
          [
           "Xavier Simons",
           20
          ],
          [
           "Matheus Nunes",
           24
          ],
          [
           "Jean-Clair Todibo",
           23
          ],
          [
           "Sebastian Soto",
           22
          ],
          [
           "Denis Franchi",
           20
          ],
          [
           "Toti",
           24
          ],
          [
           "Hannibal",
           20
          ],
          [
           "Alfie Doughty",
           23
          ],
          [
           "Luke Mbete",
           19
          ],
          [
           "Alex Robertson",
           20
          ],
          [
           "Rasmus Højlund",
           20
          ],
          [
           "Caleb Watts",
           21
          ],
          [
           "Ollie O'Neill",
           20
          ],
          [
           "Liam Delap",
           20
          ],
          [
           "James Hill",
           21
          ],
          [
           "Liam McCarron",
           22
          ],
          [
           "Luke Matheson",
           20
          ],
          [
           "Levi Colwill",
           20
          ],
          [
           "Charlie McNeill",
           19
          ],
          [
           "Chem Campbell",
           20
          ],
          [
           "Dara Costelloe",
           20
          ],
          [
           "Tyler Morton",
           20
          ],
          [
           "Sam McCallum",
           22
          ],
          [
           "Malo Gusto",
           19
          ],
          [
           "Kasey McAteer",
           21
          ],
          [
           "Radek Vítek",
           19
          ],
          [
           "Iliman Ndiaye",
           23
          ],
          [
           "Conor Bradley",
           19
          ],
          [
           "Dale Taylor",
           19
          ],
          [
           "Lucas De Bolle",
           20
          ],
          [
           "Adrion Pajaziti",
           20
          ],
          [
           "João Pedro",
           21
          ],
          [
           "Kaine Kesler-Hayden",
           21
          ],
          [
           "Lewis Dobbin",
           20
          ],
          [
           "Wilfried Gnonto",
           19
          ],
          [
           "Roméo Lavia",
           19
          ],
          [
           "Femi Seriki",
           20
          ],
          [
           "Carlos Miguel",
           24
          ],
          [
           "Keane Lewis-Potter",
           22
          ],
          [
           "Lamare Bogarde",
           19
          ],
          [
           "Ben Greenwood",
           20
          ],
          [
           "Carl Rushworth",
           21
          ],
          [
           "Aaron Ramsey",
           20
          ],
          [
           "Juan Larios",
           19
          ],
          [
           "Jayden Bennetts",
           22
          ],
          [
           "Evan Ferguson",
           18
          ],
          [
           "Enzo Fernández",
           22
          ],
          [
           "Boubacar Traoré",
           21
          ],
          [
           "Jhon Durán",
           19
          ],
          [
           "Lewis Warrington",
           20
          ],
          [
           "Bilal El Khannouss",
           18
          ],
          [
           "Cameron Plain",
           22
          ],
          [
           "Brooklyn Genesini",
           21
          ],
          [
           "Gabriel Martinelli",
           21
          ],
          [
           "Christian Saydee",
           20
          ],
          [
           "Mipo Odubeko",
           20
          ],
          [
           "Aaron Rowe",
           22
          ],
          [
           "Simon Adingra",
           21
          ],
          [
           "Ilya Zabarnyi",
           20
          ],
          [
           "Julio Enciso",
           19
          ],
          [
           "Jarrad Branthwaite",
           20
          ],
          [
           "Leo Fuhr Hjelde",
           19
          ],
          [
           "Marcelo Pitaluga",
           21
          ],
          [
           "Tyler Onyango",
           20
          ],
          [
           "Jota Silva",
           23
          ],
          [
           "Darko Gyabi",
           19
          ],
          [
           "Vini Souza",
           24
          ],
          [
           "Jaden Philogene",
           21
          ],
          [
           "Rodrigo Gomes",
           19
          ],
          [
           "Yasin Ayari",
           19
          ],
          [
           "Marcelo Flores",
           19
          ],
          [
           "Joe Whitworth",
           19
          ],
          [
           "Divin Mubama",
           18
          ],
          [
           "Antwoine Hackford",
           19
          ],
          [
           "Luke Chambers",
           19
          ],
          [
           "Dane Scarlett",
           19
          ],
          [
           "Caleb Taylor",
           20
          ],
          [
           "Morato",
           21
          ],
          [
           "Anthony Mancini",
           22
          ],
          [
           "Emmanuel Agbadou",
           25
          ],
          [
           "Jaidon Anthony",
           23
          ],
          [
           "Charlie Savage",
           19
          ],
          [
           "Moisés Caicedo",
           21
          ],
          [
           "Chadi Riad",
           20
          ],
          [
           "Kamarai Swyer",
           21
          ],
          [
           "Jacob Greaves",
           22
          ],
          [
           "Jay Stansfield",
           20
          ],
          [
           "Tim Iroegbunam",
           19
          ],
          [
           "Rico Lewis",
           18
          ],
          [
           "Kgaogelo Chauke",
           20
          ],
          [
           "Harvey Davies",
           20
          ],
          [
           "Ji-soo Kim",
           18
          ],
          [
           "Kwadwo Baah",
           20
          ],
          [
           "Evanilson",
           23
          ],
          [
           "Jake O'Brien",
           22
          ],
          [
           "Lesley Ugochukwu",
           19
          ],
          [
           "Bobby Clark",
           18
          ],
          [
           "Yerson Mosquera",
           22
          ],
          [
           "Yegor Yarmolyuk",
           19
          ],
          [
           "Enock Agyei",
           18
          ],
          [
           "Tayo Adaramola",
           20
          ],
          [
           "Andrew Moran",
           20
          ],
          [
           "Liam Gibbs",
           20
          ],
          [
           "Antonín Kinský",
           20
          ],
          [
           "Welington",
           22
          ],
          [
           "Milos Kerkez",
           19
          ],
          [
           "Tyrick Mitchell",
           23
          ],
          [
           "Dylan Williams",
           20
          ],
          [
           "Kaide Gordon",
           18
          ],
          [
           "Jack Jenkins",
           21
          ],
          [
           "João Gomes",
           22
          ],
          [
           "Rodrigo Muniz",
           22
          ],
          [
           "Igor Thiago",
           21
          ],
          [
           "Omari Hutchinson",
           20
          ],
          [
           "Caleb Chukwuemeka",
           21
          ],
          [
           "Lino Sousa",
           18
          ],
          [
           "Wilson Odobert",
           18
          ],
          [
           "Savinho",
           19
          ],
          [
           "Matheus França",
           19
          ],
          [
           "Adam Wharton",
           19
          ],
          [
           "Ramón Sosa",
           23
          ],
          [
           "Luca Koleosho",
           18
          ],
          [
           "Kamaldeen Sulemana",
           21
          ],
          [
           "Daniel Jebbison",
           19
          ],
          [
           "Harry Boyes",
           21
          ],
          [
           "Justin Devenny",
           19
          ],
          [
           "Val Adedokun",
           20
          ],
          [
           "Carlos Alcaraz",
           20
          ],
          [
           "Abdukodir Khusanov",
           19
          ],
          [
           "Nicolas Jackson",
           21
          ],
          [
           "David Datro Fofana",
           20
          ],
          [
           "Bobby Thomas",
           22
          ],
          [
           "André",
           21
          ],
          [
           "Mathys Tel",
           18
          ],
          [
           "Ryan Finnigan",
           19
          ],
          [
           "Danilo",
           22
          ],
          [
           "Alejandro Garnacho",
           18
          ],
          [
           "Jack Wells-Morrison",
           19
          ],
          [
           "Luke Harris",
           18
          ],
          [
           "Kobbie Mainoo",
           17
          ],
          [
           "Alfie Pond",
           19
          ],
          [
           "Dango Ouattara",
           21
          ],
          [
           "Michael Kayode",
           18
          ],
          [
           "Maxime Estève",
           20
          ],
          [
           "Bénie Traoré",
           20
          ],
          [
           "Jack Hinchy",
           20
          ],
          [
           "Alex Scott",
           19
          ],
          [
           "Ashley Phillips",
           17
          ],
          [
           "Kaden Rodney",
           19
          ],
          [
           "Nasser Djiga",
           20
          ],
          [
           "Issahaku Fatawu",
           19
          ],
          [
           "Lucas Bergvall",
           17
          ],
          [
           "Bradley Ibrahim",
           19
          ],
          [
           "Mason Burstow",
           20
          ],
          [
           "Ryan Trevitt",
           20
          ],
          [
           "Seán Grehan",
           19
          ],
          [
           "Josh Feeney",
           18
          ],
          [
           "Amario Cozier-Duberry",
           18
          ],
          [
           "Mateus Fernandes",
           18
          ],
          [
           "Oliver Scarles",
           18
          ],
          [
           "Archie Gray",
           17
          ],
          [
           "Leny Yoro",
           17
          ],
          [
           "Zach Abbott",
           17
          ],
          [
           "Mark O'Mahony",
           18
          ],
          [
           "Joe Taylor",
           20
          ],
          [
           "Carlos Baleba",
           19
          ],
          [
           "Facundo Buonanotte",
           18
          ],
          [
           "Matai Akinmboni",
           16
          ],
          [
           "Diego Gómez",
           20
          ],
          [
           "Julio Soler",
           18
          ],
          [
           "Yankuba Minteh",
           18
          ],
          [
           "Ryan Oné",
           16
          ],
          [
           "Enso González",
           18
          ]
         ],
         "hovertemplate": "predicted_value=%{x}<br>market_value_in_million_eur=%{y}<br>name=%{customdata[0]}<br>age=%{customdata[1]}<extra></extra>",
         "legendgroup": "",
         "marker": {
          "color": "#636efa",
          "symbol": "circle"
         },
         "mode": "markers",
         "name": "",
         "showlegend": false,
         "type": "scattergl",
         "x": [
          0.17944641411304474,
          1.289300560951233,
          0.9747241735458374,
          0.08720187842845917,
          22.221723556518555,
          -0.4515797793865204,
          0.08758261799812317,
          -0.23405827581882477,
          0.4196971654891968,
          -0.23443903028964996,
          0.037924185395240784,
          0.17944641411304474,
          38.92974090576172,
          3.70993709564209,
          0.08758261799812317,
          0.17944641411304474,
          0.8871360421180725,
          0.046862684190273285,
          1.8088510036468506,
          0.5612195730209351,
          -0.23443903028964996,
          -0.41382378339767456,
          -0.5946270823478699,
          1.561072826385498,
          0.0930510014295578,
          1.5056049823760986,
          0.3257520794868469,
          0.5612195730209351,
          0.3940320909023285,
          0.019302448257803917,
          0.25559818744659424,
          0.6737428903579712,
          0.01892169378697872,
          -0.05363558977842331,
          0.574835479259491,
          0.29103654623031616,
          -0.2233462780714035,
          0.03754342347383499,
          0.08758261799812317,
          -0.41382378339767456,
          0.745143473148346,
          -0.3641836643218994,
          -0.1811227947473526,
          2.2886579036712646,
          2.0854477882385254,
          0.04369518905878067,
          1.4936017990112305,
          0.745143473148346,
          0.05531778186559677,
          -0.12191575765609741,
          2.448720932006836,
          -0.29721856117248535,
          -0.030736787244677544,
          -0.09710077941417694,
          0.3269988000392914,
          1.24973726272583,
          0.5981159210205078,
          -0.030736787244677544,
          0.28179529309272766,
          -0.05051513761281967,
          2.48663592338562,
          0.5779558420181274,
          0.745143473148346,
          0.2145511507987976,
          -0.29278308153152466,
          -0.06320217996835709,
          0.14943842589855194,
          0.2820221185684204,
          0.11116625368595123,
          0.04932103306055069,
          -0.3670227527618408,
          1.3823208808898926,
          1.46920907497406,
          2.48663592338562,
          -0.3942021131515503,
          0.18900176882743835,
          0.4010753631591797,
          -0.15790629386901855,
          -0.3641836643218994,
          -0.3641836643218994,
          0.018145853653550148,
          0.25828105211257935,
          0.11448322236537933,
          0.11760120093822479,
          1.7397946119308472,
          1.46920907497406,
          3.8326385021209717,
          1.3283716440200806,
          18.185016632080078,
          0.11159461736679077,
          0.8075367212295532,
          0.3316386044025421,
          33.13527297973633,
          -0.26406627893447876,
          0.11760120093822479,
          0.4010753631591797,
          0.5981159210205078,
          1.3823208808898926,
          3.515303373336792,
          1.149619698524475,
          17.962448120117188,
          2.4755733013153076,
          0.7738602757453918,
          0.360355406999588,
          -0.3945828676223755,
          0.5779558420181274,
          -0.19895347952842712,
          -0.366933137178421,
          -0.2841183543205261,
          0.18461161851882935,
          -0.03035603277385235,
          0.8145802617073059,
          11.865219116210938,
          -0.0416049025952816,
          1.492885947227478,
          -0.08650562167167664,
          -0.29278308153152466,
          1.0500153303146362,
          0.420828253030777,
          1.2210204601287842,
          0.49293914437294006,
          -0.13148243725299835,
          -0.13148243725299835,
          1.0744080543518066,
          0.7448046803474426,
          0.3316386044025421,
          0.025274066254496574,
          -0.1563815325498581,
          1.9446109533309937,
          0.25843843817710876,
          -0.2494027465581894,
          0.9091782569885254,
          0.6225087642669678,
          0.25559818744659424,
          0.6737428903579712,
          0.34677717089653015,
          0.6327450275421143,
          2.6518657207489014,
          0.25559818744659424,
          2.3078839778900146,
          -0.8956083655357361,
          0.14497126638889313,
          0.8145802617073059,
          -0.30271920561790466,
          -0.5946270823478699,
          2.8586249351501465,
          1.5250675678253174,
          -1.1637681722640991,
          1.8570376634597778,
          0.48829934000968933,
          13.084939002990723,
          -0.23659063875675201,
          0.018145853653550148,
          8.655295372009277,
          0.745143473148346,
          -0.06451769173145294,
          0.1901583969593048,
          1.3997724056243896,
          0.745143473148346,
          0.19052371382713318,
          1.9532493352890015,
          0.07479491829872131,
          19.774662017822266,
          4.120862007141113,
          -0.3424231708049774,
          1.7405709028244019,
          1.289300560951233,
          2.5405845642089844,
          4.4964985847473145,
          1.3823208808898926,
          2.7998764514923096,
          15.097082138061523,
          0.8308590650558472,
          -0.34126654267311096,
          2.071638584136963,
          2.473113775253296,
          0.7649217844009399,
          1.0500153303146362,
          1.9193228483200073,
          1.5997334718704224,
          0.16445155441761017,
          15.078866004943848,
          -0.11998546123504639,
          -0.41382378339767456,
          0.6717854738235474,
          0.22655442357063293,
          12.164589881896973,
          0.05883965268731117,
          -0.1869501918554306,
          1.2407985925674438,
          12.166855812072754,
          2.4246819019317627,
          1.0500153303146362,
          1.0500153303146362,
          1.0731629133224487,
          -0.38214290142059326,
          0.8109756112098694,
          5.343763828277588,
          -0.7321786880493164,
          0.1901583969593048,
          0.4535837173461914,
          -0.2841183543205261,
          59.80463790893555,
          0.9091782569885254,
          1.5056049823760986,
          -0.30233845114707947,
          -0.23294197022914886,
          2.141378164291382,
          0.39643552899360657,
          -0.8044295310974121,
          1.314849853515625,
          -0.44383442401885986,
          52.22730255126953,
          0.10619154572486877,
          1.0427721738815308,
          1.9066962003707886,
          1.2407985925674438,
          1.8372591733932495,
          23.431333541870117,
          -0.15790629386901855,
          2.522702932357788,
          -0.14743775129318237,
          0.750139594078064,
          -0.024978702887892723,
          1.0127253532409668,
          10.16142463684082,
          1.998559594154358,
          1.46920907497406,
          10.513389587402344,
          1.8324346542358398,
          1.189563274383545,
          1.0500153303146362,
          27.10777473449707,
          0.7649217844009399,
          6.764199256896973,
          0.04932103306055069,
          -0.6590842604637146,
          37.26749801635742,
          4.914847373962402,
          8.262086868286133,
          0.04606986418366432,
          0.7828949689865112,
          0.35115161538124084,
          0.06347963213920593,
          10.13698959350586,
          0.2201402485370636,
          -0.9074816703796387,
          -0.39964163303375244,
          0.8145802617073059,
          8.268213272094727,
          -0.5778629779815674,
          2.602158308029175,
          3.102950096130371,
          1.998559594154358,
          24.33493423461914,
          -0.017068851739168167,
          -0.46675926446914673,
          5.007543563842773,
          0.21924051642417908,
          0.39643552899360657,
          -0.9653229713439941,
          0.007323892787098885,
          1.4222644567489624,
          2.560925006866455,
          15.785209655761719,
          0.40558335185050964,
          -0.2060398906469345,
          3.9336323738098145,
          -0.2832479774951935,
          2.5000298023223877,
          -0.8453058004379272,
          7.897892951965332,
          -0.12191575765609741,
          -0.6232190132141113,
          -0.19336435198783875,
          1.4397159814834595,
          0.1905512660741806,
          0.9789872765541077,
          5.048698902130127,
          2.8194282054901123,
          -0.5175620317459106,
          1.2392070293426514,
          0.6618605852127075,
          1.9066962003707886,
          0.11647628992795944,
          0.14883127808570862,
          0.745143473148346,
          0.37554430961608887,
          0.23388835787773132,
          3.3887202739715576,
          -0.13148243725299835,
          0.19052371382713318,
          11.545683860778809,
          0.6737428903579712,
          13.590595245361328,
          0.689379870891571,
          3.795351982116699,
          0.2963562607765198,
          -0.35466501116752625,
          5.191455364227295,
          -0.19336435198783875,
          -0.41411980986595154,
          10.53506851196289,
          1.7110778093338013,
          22.092662811279297,
          7.048600196838379,
          9.366500854492188,
          15.51484203338623,
          6.125473976135254,
          0.6496957540512085,
          -0.5197827816009521,
          0.14419136941432953,
          -0.10598492622375488,
          0.2370007336139679,
          0.44301533699035645,
          3.560326337814331,
          21.173826217651367,
          5.267814636230469,
          1.9956897497177124,
          1.170813798904419,
          0.5452779531478882,
          13.470954895019531,
          0.506555438041687,
          16.08756446838379,
          4.809014320373535,
          -0.19336435198783875,
          -0.21883830428123474,
          6.722864151000977,
          24.32012939453125,
          9.609610557556152,
          -0.5849754214286804,
          4.86994743347168,
          14.457694053649902,
          -0.1968126893043518,
          2.953950881958008,
          64.94828033447266,
          0.4165913760662079,
          3.9541139602661133,
          4.4964985847473145,
          9.694648742675781,
          2.4920225143432617,
          0.16931243240833282,
          0.7944631576538086,
          -0.44383442401885986,
          37.880577087402344,
          0.9316408038139343,
          2.2459299564361572,
          -0.5850330591201782,
          3.183737277984619,
          0.9863754510879517,
          13.388036727905273,
          3.9734768867492676,
          -0.44383442401885986,
          -0.22099366784095764,
          18.488235473632812,
          -0.2233462780714035,
          6.977536201477051,
          1.8010228872299194,
          3.1246933937072754,
          9.962550163269043,
          13.355308532714844,
          4.027034759521484,
          10.175354957580566,
          11.133133888244629,
          79.12886810302734,
          3.1234588623046875,
          -0.06466451287269592,
          0.7587278485298157,
          3.728544235229492,
          1.1694775819778442,
          0.19583004713058472,
          0.2963562607765198,
          1.5455759763717651,
          29.758251190185547,
          9.146410942077637,
          0.08325792849063873,
          0.45661914348602295,
          -0.17147117853164673,
          -0.12356837093830109,
          2.3990626335144043,
          0.06351202726364136,
          10.057435035705566,
          1.327139973640442,
          -0.156993106007576,
          -0.5175620317459106,
          5.537941932678223,
          -0.6232190132141113,
          47.0504264831543,
          1.8179759979248047,
          5.8749566078186035,
          0.557428777217865,
          1.3101892471313477,
          1.0127253532409668,
          1.9959652423858643,
          1.0643388032913208,
          -0.11872092634439468,
          38.45038604736328,
          -0.156993106007576,
          0.5268841981887817,
          0.49263229966163635,
          21.930452346801758,
          8.226876258850098,
          0.6536257266998291,
          15.785209655761719,
          4.93546724319458,
          0.562069296836853,
          1.2814724445343018,
          34.88847351074219,
          0.40558335185050964,
          26.05329132080078,
          1.1975375413894653,
          0.06565555930137634,
          27.6229248046875,
          3.8482823371887207,
          -0.10487793385982513,
          -0.47559067606925964,
          1.1779553890228271,
          30.17522621154785,
          -0.10370764136314392,
          12.490324020385742,
          0.3943001329898834,
          0.013630582019686699,
          38.620758056640625,
          3.361726760864258,
          5.718204021453857,
          0.1979065090417862,
          2.3791422843933105,
          9.921317100524902,
          13.018633842468262,
          0.15703019499778748,
          0.2817148268222809,
          -0.28306901454925537,
          -0.3740461766719818,
          4.848649978637695,
          19.512529373168945,
          5.135987758636475,
          22.59634780883789,
          5.904597282409668,
          0.2988985478878021,
          8.676412582397461,
          -0.12093966454267502,
          0.20476755499839783,
          11.824311256408691,
          10.175254821777344,
          15.76605224609375,
          9.864065170288086,
          30.17522621154785,
          3.061478614807129,
          2.8159189224243164,
          -0.23294197022914886,
          1.7106248140335083,
          -0.14172561466693878,
          6.032243728637695,
          -0.2176745980978012,
          -0.0717211365699768,
          3.38559889793396,
          0.21317322552204132,
          2.5164926052093506,
          2.924471378326416,
          -0.10308728367090225,
          5.180263996124268,
          1.9736641645431519,
          0.9999664425849915,
          3.246168851852417,
          5.343763828277588,
          0.39679428935050964,
          7.9574809074401855,
          58.821739196777344,
          27.129945755004883,
          18.967388153076172,
          2.368208646774292,
          0.274464875459671,
          10.02431869506836,
          7.5779619216918945,
          3.6466729640960693,
          5.789605140686035,
          0.36706650257110596,
          1.6043556928634644,
          -0.0717211365699768,
          0.22396308183670044,
          0.7730617523193359,
          8.442854881286621,
          0.04932103306055069,
          3.5526113510131836,
          14.906306266784668,
          0.032956916838884354,
          2.466834306716919,
          2.2211520671844482,
          10.344866752624512,
          -0.04561593011021614,
          15.700482368469238,
          2.3387291431427,
          1.5477209091186523,
          0.45970383286476135,
          0.7513329982757568,
          5.950905799865723,
          0.3401039242744446,
          -0.14134491980075836,
          1.1489461660385132,
          -0.19422045350074768,
          25.58641242980957,
          38.160770416259766,
          37.75111770629883,
          47.954917907714844,
          14.858840942382812,
          10.226028442382812,
          -0.392977774143219,
          -0.35466501116752625,
          0.02210843376815319,
          -0.5730298757553101,
          9.944928169250488,
          3.4507241249084473,
          -0.17223478853702545,
          -0.31414735317230225,
          31.14813804626465,
          16.71073341369629,
          2.0960826873779297,
          3.7122461795806885,
          -0.6323425769805908,
          17.26932716369629,
          50.4671516418457,
          4.1551384925842285,
          -0.12257633358240128,
          1.9091548919677734,
          31.97931480407715,
          -0.7502631545066833,
          1.954430103302002,
          0.5680309534072876,
          69.97681427001953,
          71.2734375,
          3.246168851852417,
          0.9430437088012695,
          0.00306829740293324,
          -0.03479457274079323,
          4.124420166015625,
          17.910831451416016,
          -0.3074619174003601,
          0.166158527135849,
          0.7293316125869751,
          20.202722549438477,
          4.2093424797058105,
          0.314953088760376,
          -0.2915470004081726,
          0.5644256472587585,
          1.7629190683364868,
          3.6159539222717285,
          13.023720741271973,
          0.557428777217865,
          0.6911178827285767,
          1.3812460899353027,
          1.1210520267486572,
          1.9952093362808228,
          10.67570686340332,
          15.659008026123047,
          3.104646921157837,
          49.51768493652344,
          2.302278757095337,
          10.589338302612305,
          16.316762924194336,
          0.11650005728006363,
          15.33502197265625,
          19.00130271911621,
          1.0047732591629028,
          30.949874877929688,
          3.373859405517578,
          2.385159492492676,
          10.543937683105469,
          25.124347686767578,
          0.5992209315299988,
          0.609266996383667,
          4.914223670959473,
          0.23987796902656555,
          21.964380264282227,
          0.14025135338306427,
          1.576350212097168,
          -0.415788859128952,
          62.67262649536133,
          1.3161334991455078,
          0.23142756521701813,
          18.03817367553711,
          2.610637903213501,
          3.841526746749878,
          0.13759809732437134,
          20.57928466796875,
          18.549715042114258,
          60.233131408691406,
          30.036298751831055,
          2.7719383239746094,
          0.5680309534072876,
          5.017986297607422,
          26.530542373657227,
          2.7448296546936035,
          20.592466354370117,
          0.34807613492012024,
          15.214377403259277,
          7.737467288970947,
          0.04642186686396599,
          2.7279791831970215,
          -0.2287956178188324,
          6.032243728637695,
          0.45919811725616455,
          13.665159225463867,
          0.9863754510879517,
          0.5831384062767029,
          12.072571754455566,
          18.185016632080078,
          13.35637378692627,
          -0.18399813771247864,
          56.019798278808594,
          4.395887851715088,
          17.133085250854492,
          -0.27162352204322815,
          1.9172782897949219,
          0.49100449681282043,
          16.654502868652344,
          27.129945755004883,
          0.25710099935531616,
          0.9320034384727478,
          42.28257751464844,
          0.3021582365036011,
          30.448444366455078,
          28.63228988647461,
          0.2717788815498352,
          0.7257043123245239,
          0.2606576383113861,
          12.46231460571289,
          1.837418794631958,
          4.819538116455078,
          0.5650308728218079,
          17.420677185058594,
          0.42589178681373596,
          1.1210520267486572,
          26.483882904052734,
          1.1685365438461304,
          1.0332303047180176,
          15.959256172180176,
          21.2261962890625,
          12.551155090332031,
          2.730403184890747,
          0.013630582019686699,
          6.032243728637695,
          0.5831384062767029,
          52.589202880859375,
          2.4757726192474365,
          20.63686752319336,
          19.912723541259766,
          36.18046569824219,
          9.864583015441895,
          10.70134162902832,
          6.987236022949219,
          0.42638590931892395,
          0.901419460773468,
          31.503223419189453,
          1.5624507665634155,
          40.1113166809082,
          3.67868971824646,
          0.260358989238739,
          1.8329917192459106,
          2.5392377376556396,
          64.41059875488281,
          1.6985598802566528,
          3.9025330543518066,
          0.16879397630691528,
          7.02240514755249,
          9.619022369384766,
          18.122621536254883,
          0.8395432233810425,
          1.2254568338394165,
          1.6285308599472046,
          6.1029052734375,
          78.80113983154297,
          0.6100932359695435,
          0.22294975817203522,
          0.8395432233810425,
          0.8645322322845459,
          53.76771926879883,
          39.658267974853516,
          46.72340774536133,
          2.6959896087646484,
          0.2988985478878021,
          1.5719749927520752,
          18.41347312927246,
          10.273568153381348,
          4.563681602478027,
          0.6243717670440674,
          0.02532118372619152,
          4.199449062347412,
          3.964047431945801,
          3.0805306434631348,
          31.87543487548828,
          5.546419620513916,
          28.890613555908203,
          71.77227020263672,
          -0.04643794521689415,
          19.318561553955078,
          1.5539445877075195,
          18.342084884643555,
          27.948444366455078,
          18.34624671936035,
          21.20461654663086,
          18.44003677368164,
          42.41005325317383,
          17.434114456176758,
          0.8319221138954163,
          1.037528395652771,
          0.9263038635253906,
          15.580582618713379,
          52.517120361328125,
          3.933408260345459,
          0.7257261872291565,
          18.377077102661133,
          0.22294975817203522,
          0.9307221174240112,
          0.2070348560810089,
          0.24509790539741516,
          12.035223960876465,
          20.57928466796875,
          7.757948875427246,
          13.585086822509766,
          21.564437866210938,
          21.568557739257812,
          6.1376214027404785,
          56.3182487487793,
          -0.04761950299143791,
          21.17466163635254,
          73.09008026123047,
          4.707772731781006,
          0.9580543637275696,
          7.67189359664917,
          7.042886734008789,
          1.0722441673278809,
          23.051788330078125,
          21.71881866455078,
          0.6910106539726257,
          1.7678791284561157,
          16.795345306396484,
          75.01607513427734,
          28.322092056274414,
          4.726772308349609,
          0.4547620117664337,
          0.16319100558757782,
          12.289679527282715,
          21.634132385253906,
          0.5842039585113525,
          3.0607521533966064,
          13.768447875976562,
          1.321243405342102,
          68.50725555419922,
          14.442156791687012,
          17.914409637451172,
          32.755062103271484,
          1.257363200187683,
          20.548635482788086,
          10.685426712036133,
          1.0458197593688965,
          47.966461181640625,
          5.009047508239746,
          0.7925663590431213,
          0.3546953797340393,
          0.5931424498558044,
          28.420286178588867,
          37.59334182739258,
          21.544147491455078,
          36.86157989501953,
          19.252986907958984,
          0.42638590931892395,
          74.82108306884766,
          1.3926441669464111,
          3.3920347690582275,
          78.59799194335938,
          0.5644256472587585,
          31.468564987182617,
          50.037044525146484,
          1.421360969543457,
          20.391305923461914,
          1.5539445877075195,
          0.14684559404850006,
          0.4930027425289154,
          10.685426712036133,
          28.86609649658203,
          2.0377213954925537,
          1.965599775314331,
          9.297192573547363,
          49.06016159057617,
          -0.31414735317230225,
          13.16218376159668,
          15.646570205688477,
          0.6478361487388611,
          7.02240514755249,
          50.515628814697266,
          5.583089351654053,
          10.021336555480957,
          0.42638590931892395,
          6.565821170806885,
          0.312949538230896,
          5.874015808105469,
          4.542542457580566,
          0.06619749218225479,
          2.695688009262085,
          17.11260414123535,
          2.0298805236816406,
          0.3120754361152649,
          1.5424764156341553,
          1.8657472133636475,
          1.486473560333252,
          32.23055648803711,
          12.860838890075684,
          2.0793046951293945,
          0.5265035033226013,
          2.2432377338409424,
          31.513263702392578,
          2.716470718383789,
          47.6370849609375,
          0.17270608246326447,
          31.499225616455078,
          0.6142385601997375,
          0.2376636564731598,
          18.377077102661133,
          7.580714702606201,
          28.56765365600586,
          1.9421885013580322,
          60.75015640258789,
          0.13139291107654572,
          1.477995753288269,
          0.9109438061714172,
          18.43422508239746,
          0.6036195158958435,
          1.683998703956604,
          0.22294975817203522,
          39.4166374206543,
          0.15126842260360718,
          33.611480712890625,
          2.5392377376556396,
          5.369192123413086,
          51.688865661621094,
          3.6595778465270996,
          73.74422454833984,
          4.997567176818848,
          21.94220542907715,
          5.798756122589111,
          14.168371200561523,
          16.82769012451172,
          4.854227542877197,
          4.542542457580566,
          18.377077102661133,
          5.197261810302734,
          3.0805306434631348,
          -0.04761950299143791,
          1.1369987726211548,
          0.9307221174240112,
          7.580714702606201,
          3.87351393699646,
          87.7491455078125,
          23.187450408935547,
          3.2578694820404053,
          32.95390319824219,
          31.934486389160156,
          17.34225082397461,
          0.13759809732437134,
          0.37954646348953247,
          12.314071655273438,
          21.739299774169922,
          27.948444366455078,
          22.644386291503906,
          24.492502212524414,
          4.9313554763793945,
          1.1556183099746704,
          2.0793046951293945,
          18.03817367553711,
          5.146275997161865,
          0.20518994331359863,
          17.934890747070312,
          123.53595733642578,
          3.111785650253296,
          0.8282370567321777,
          1.3035725355148315,
          9.619022369384766,
          34.22470474243164,
          1.324038028717041,
          0.09672171622514725,
          12.162077903747559,
          3.953890800476074,
          0.8560543656349182,
          4.990172863006592,
          28.194005966186523,
          0.2370007336139679,
          5.409938812255859,
          3.504441738128662,
          17.720914840698242,
          28.027053833007812,
          0.5265035033226013,
          0.8568785786628723,
          13.471951484680176,
          4.1165032386779785,
          0.5644256472587585,
          2.6304163932800293,
          0.7214258313179016,
          3.080209255218506,
          31.1119384765625,
          73.40970611572266,
          0.5944602489471436,
          0.3401039242744446,
          5.029330730438232,
          0.18906788527965546,
          1.2379990816116333,
          27.570600509643555,
          3.9394547939300537,
          2.6629323959350586,
          1.6686484813690186,
          6.865652561187744,
          25.194948196411133,
          22.94304084777832,
          32.2100715637207,
          14.230754852294922,
          3.5459768772125244,
          9.457544326782227,
          23.042680740356445,
          3.3291993141174316,
          2.610637903213501,
          32.65446090698242,
          0.37954646348953247,
          8.529160499572754,
          2.884124755859375,
          14.395267486572266,
          10.301403045654297,
          28.250606536865234,
          0.5445498824119568,
          1.7029353380203247,
          -0.04761950299143791,
          1.5719749927520752,
          0.7707028985023499,
          0.1847088783979416,
          6.90684700012207,
          12.551155090332031,
          36.442684173583984,
          1.4774372577667236,
          0.6886703968048096,
          0.03284657374024391,
          7.325525283813477,
          33.88787841796875,
          11.918074607849121,
          1.7857450246810913,
          11.488656044006348,
          6.070149898529053,
          11.556641578674316,
          1.5824042558670044,
          15.413458824157715,
          1.9854751825332642,
          13.656682014465332,
          0.7655825614929199,
          4.683331489562988,
          0.21061429381370544,
          0.2182459682226181,
          20.54854393005371,
          62.443199157714844,
          11.169638633728027,
          0.6582551002502441,
          0.22294975817203522,
          5.286658763885498,
          7.510253429412842,
          46.73674774169922,
          33.88478469848633,
          6.0880866050720215,
          -0.24979645013809204,
          18.27690315246582,
          36.764347076416016,
          33.466896057128906,
          22.268291473388672,
          0.05310746654868126,
          43.535736083984375,
          32.63282775878906,
          4.6992950439453125,
          11.338214874267578,
          2.680868148803711,
          0.7368659973144531,
          9.563356399536133,
          16.925813674926758,
          25.99629020690918,
          0.19339503347873688,
          0.1087953969836235,
          1.775407314300537,
          0.0679190456867218,
          37.61712646484375,
          0.572567343711853,
          3.9025330543518066,
          1.2434049844741821,
          3.436598300933838,
          0.6280554533004761,
          9.477180480957031,
          10.70134162902832,
          0.3125688433647156,
          31.822839736938477,
          1.202572226524353,
          0.5944602489471436,
          15.238154411315918,
          0.27823394536972046,
          0.2674857974052429,
          0.8222174644470215,
          0.5944602489471436,
          6.890932083129883,
          5.03914213180542,
          10.348633766174316,
          0.3935263156890869,
          17.828264236450195,
          5.397923469543457,
          24.41458511352539,
          1.5972477197647095,
          2.220264434814453,
          4.868798732757568,
          2.2071919441223145,
          1.0412991046905518,
          2.4736783504486084,
          6.670497417449951,
          8.567935943603516,
          31.927261352539062,
          25.764705657958984,
          1.2803318500518799,
          1.6923578977584839,
          0.7561414241790771,
          18.96584701538086,
          0.032956916838884354,
          4.163052558898926,
          3.3573191165924072,
          14.279197692871094,
          8.384379386901855,
          1.2182209491729736,
          3.554454803466797,
          2.716470718383789,
          0.3240893483161926,
          3.5219500064849854,
          1.2182209491729736,
          14.31519603729248,
          0.4977864921092987,
          1.1057400703430176,
          0.12482060492038727,
          1.0489755868911743,
          2.8384361267089844,
          17.265602111816406,
          14.733007431030273,
          8.06346607208252,
          37.436439514160156,
          41.816226959228516,
          0.6009300947189331,
          0.24509790539741516,
          20.896543502807617,
          11.577765464782715,
          0.08394426852464676,
          0.8197592496871948,
          0.7368659973144531,
          -0.05250514671206474,
          0.9982662796974182,
          4.970370769500732,
          0.936216413974762,
          7.822171211242676,
          5.051982402801514,
          4.273614406585693,
          0.5788156390190125,
          1.6085007190704346,
          1.0169063806533813,
          9.645313262939453,
          3.9598231315612793,
          17.63823127746582,
          0.3240893483161926,
          3.0607521533966064,
          1.2615317106246948,
          24.484317779541016,
          14.0904541015625,
          0.13759809732437134,
          18.37409210205078,
          0.572567343711853,
          0.5159324407577515,
          -0.01670154370367527,
          21.90290069580078,
          9.57927131652832,
          20.784513473510742,
          0.46676814556121826,
          2.2248940467834473,
          14.719490051269531,
          18.76110076904297,
          39.569236755371094,
          4.849020957946777,
          1.173525094985962,
          2.4426138401031494,
          2.0058374404907227,
          3.9161360263824463,
          1.3361977338790894,
          28.874011993408203,
          0.8904160857200623,
          3.470036268234253,
          0.2121502310037613,
          15.787841796875,
          6.167316436767578,
          0.8248426914215088,
          19.135696411132812,
          6.416473388671875,
          0.6801925897598267,
          -0.01670154370367527,
          4.509174346923828,
          0.3092091679573059,
          -0.20892006158828735,
          7.420468807220459,
          2.5818018913269043,
          31.735836029052734,
          0.6075324416160583,
          2.7836251258850098,
          0.41581475734710693,
          4.459819793701172,
          -0.03272679075598717,
          5.4683637619018555,
          1.8944028615951538,
          10.483369827270508,
          6.90684700012207,
          23.54985237121582,
          20.501605987548828,
          -0.04761950299143791,
          1.5701955556869507,
          6.711093902587891,
          20.941503524780273,
          10.021336555480957,
          0.016931673511862755,
          0.03284657374024391,
          2.007359027862549,
          1.566867709159851,
          2.257214307785034,
          2.78566312789917,
          4.8579607009887695,
          0.2580221891403198,
          0.5074299573898315,
          21.11190414428711,
          5.6242828369140625,
          3.9696431159973145,
          18.94246482849121,
          1.3039385080337524,
          1.372593641281128,
          2.5273220539093018,
          2.8065783977508545,
          0.3035975694656372,
          1.099418044090271,
          21.025848388671875,
          2.106480360031128,
          0.6661056876182556,
          12.233895301818848,
          0.503521740436554,
          2.1448817253112793,
          1.6313416957855225,
          32.77214431762695,
          20.70856475830078,
          0.665465235710144,
          0.8620532155036926,
          2.3885176181793213,
          10.308792114257812,
          1.1628881692886353,
          1.9026668071746826,
          0.3851405382156372,
          6.513744831085205,
          0.6075324416160583,
          0.5933399200439453,
          4.5179877281188965,
          1.9103177785873413,
          1.0770536661148071,
          2.5726711750030518,
          10.142631530761719,
          0.3055359721183777,
          1.2954778671264648,
          0.8195887804031372,
          5.725393772125244,
          4.257340908050537,
          16.82364273071289,
          1.5541483163833618,
          0.2674857974052429,
          3.3352746963500977,
          2.7523818016052246,
          0.9590998888015747,
          0.37693655490875244,
          0.37693655490875244,
          17.810731887817383,
          0.712782084941864,
          0.9298676252365112,
          6.4583210945129395,
          5.638808250427246,
          0.35996150970458984,
          1.2095016241073608,
          17.11848258972168,
          0.8586236834526062,
          0.1756221055984497,
          1.338441252708435,
          4.557570457458496,
          9.777349472045898,
          0.31997984647750854,
          1.4855985641479492,
          9.845536231994629,
          4.08107852935791,
          5.585806369781494,
          -0.05250514671206474,
          0.9940019249916077,
          0.3955717086791992,
          0.13221387565135956,
          41.042022705078125,
          0.005767335649579763,
          0.7763846516609192,
          0.25404953956604004,
          3.1780776977539062,
          23.94979476928711,
          17.000627517700195,
          5.990492343902588,
          2.367492914199829,
          0.6221982836723328,
          1.266761064529419,
          1.5202449560165405,
          6.059383869171143,
          1.6564555168151855,
          6.59965705871582,
          5.565390586853027,
          1.518690586090088,
          4.1829633712768555,
          0.7383344173431396,
          0.7763846516609192,
          0.11874564737081528,
          0.8886343240737915,
          4.947336673736572,
          0.8228579759597778,
          16.917335510253906,
          0.5244372487068176,
          4.997567176818848,
          7.063638210296631,
          1.6386584043502808,
          7.528810977935791,
          1.7528910636901855,
          0.1349022090435028,
          6.676033020019531,
          1.4293581247329712,
          5.376505374908447,
          3.406069040298462,
          0.7375062704086304,
          0.8543041944503784,
          0.37019920349121094,
          2.5691990852355957,
          20.625965118408203,
          0.7321191430091858,
          5.806751728057861,
          1.9032511711120605,
          5.401430130004883,
          2.319760322570801,
          0.8905462622642517,
          1.4464768171310425,
          0.7217205762863159,
          0.1061854138970375,
          0.7106290459632874,
          3.506035089492798,
          2.5667572021484375,
          17.096689224243164,
          0.12028660625219345,
          4.233761310577393,
          0.47076597809791565,
          13.336588859558105,
          6.244766712188721,
          1.8506056070327759,
          3.39158034324646,
          0.3055359721183777,
          1.4201587438583374,
          8.241296768188477,
          12.723341941833496,
          7.806344509124756,
          6.088922500610352,
          4.488609790802002,
          2.8591883182525635,
          21.169675827026367,
          3.3412082195281982,
          0.2876827120780945,
          0.15388424694538116,
          0.14660465717315674,
          12.211065292358398,
          1.1280508041381836,
          1.8506056070327759,
          2.16989803314209,
          0.31962281465530396,
          10.548481941223145,
          4.687021255493164,
          0.37693655490875244,
          28.30072021484375,
          6.138020992279053,
          1.1112555265426636,
          1.379438877105713,
          0.9186152815818787,
          0.39651721715927124,
          2.9617831707000732,
          0.07062815874814987,
          5.828814506530762,
          3.2309296131134033,
          0.1061854138970375,
          3.1037967205047607,
          6.08119535446167,
          0.6323750615119934,
          2.3266499042510986,
          2.9620137214660645,
          3.154892921447754,
          1.395627737045288,
          0.893884539604187,
          0.1061854138970375,
          0.13620153069496155,
          0.8623163104057312,
          1.7968000173568726,
          2.276109457015991,
          1.0084036588668823,
          1.0361592769622803,
          1.1017327308654785,
          0.6360675692558289,
          -0.08548484742641449,
          0.3055359721183777,
          0.749875009059906,
          0.07956665009260178,
          1.7068248987197876,
          1.5375123023986816,
          0.3261035084724426,
          1.6625735759735107,
          0.6562983393669128,
          3.686518907546997
         ],
         "xaxis": "x",
         "y": [
          0.1,
          1.5,
          1,
          0.1,
          15,
          0.075,
          0.2,
          0.15,
          0.6,
          0.2,
          0.125,
          0.15,
          40,
          4,
          0.15,
          0.15,
          0.8,
          0.2,
          2,
          0.9,
          0.3,
          0.1,
          0.1,
          0.6,
          0.45,
          1,
          0.5,
          0.8,
          0.5,
          0.1,
          0.3,
          0.3,
          0.15,
          0.05,
          0.25,
          0.6,
          0.3,
          0.2,
          0.15,
          0.1,
          0.3,
          0.3,
          0.1,
          2.5,
          0.8,
          0.2,
          1,
          0.4,
          0.2,
          0.15,
          2,
          0.3,
          0.05,
          0.25,
          0.15,
          1.2,
          0.35,
          0.2,
          0.5,
          0.3,
          2,
          0.3,
          0.4,
          0.15,
          0.25,
          0.4,
          0.25,
          0.2,
          0.15,
          0.3,
          0.1,
          1,
          0.6,
          2.5,
          0.1,
          0.3,
          0.9,
          0.3,
          0.45,
          0.3,
          0.2,
          0.15,
          0.45,
          0.3,
          1.5,
          1,
          2.5,
          1,
          28,
          0.25,
          0.4,
          0.9,
          38,
          0.5,
          0.2,
          1.5,
          0.3,
          1.5,
          3,
          1,
          20,
          1,
          0.6,
          0.75,
          0.15,
          0.4,
          0.35,
          0.25,
          0.1,
          0.5,
          0.25,
          0.6,
          15,
          0.1,
          1,
          0.5,
          0.25,
          0.8,
          0.6,
          0.7,
          0.5,
          0.7,
          0.25,
          0.5,
          1.2,
          0.8,
          0.3,
          0.025,
          1.8,
          0.2,
          0.2,
          1,
          0.4,
          0.275,
          0.4,
          0.3,
          0.6,
          2,
          0.25,
          7,
          0.15,
          0.175,
          0.5,
          0.2,
          0.15,
          1.8,
          0.6,
          0.15,
          1,
          0.4,
          22,
          0.15,
          0.15,
          12,
          0.3,
          0.3,
          0.25,
          0.4,
          0.4,
          0.8,
          2,
          1,
          16,
          2,
          0.1,
          2,
          1.2,
          2.5,
          3,
          1.5,
          13,
          9,
          0.8,
          0.15,
          2.5,
          2.5,
          0.3,
          0.7,
          0.9,
          1.5,
          0.5,
          14,
          0.3,
          0.15,
          0.7,
          0.5,
          12,
          0.2,
          0.25,
          2,
          8,
          3.5,
          0.7,
          0.6,
          1.2,
          0.05,
          0.5,
          9,
          0.25,
          0.3,
          0.5,
          0.175,
          70,
          0.6,
          1.2,
          0.25,
          0.1,
          1.8,
          0.3,
          0.15,
          0.85,
          0.2,
          60,
          0.25,
          1,
          1.2,
          1.2,
          2,
          25,
          0.2,
          2.8,
          0.125,
          1.5,
          0.175,
          0.8,
          11,
          1.2,
          0.6,
          5,
          1.2,
          1.5,
          0.7,
          25,
          0.25,
          7,
          0.3,
          0.1,
          45,
          5,
          8,
          0.5,
          1,
          0.3,
          0.6,
          4,
          0.5,
          0.3,
          0.9,
          0.5,
          10,
          0.25,
          3,
          2.5,
          2.5,
          28,
          0.6,
          0.2,
          3,
          1,
          0.3,
          0.2,
          0.6,
          1.5,
          1.5,
          10,
          1,
          0.05,
          2,
          0.3,
          2.5,
          0.05,
          8,
          0.2,
          0.125,
          0.5,
          1.2,
          0.15,
          1,
          6,
          2,
          0.1,
          0.7,
          0.15,
          2,
          0.45,
          0.9,
          0.4,
          0.25,
          0.8,
          2,
          0.3,
          1,
          16,
          0.7,
          16,
          0.5,
          2.5,
          0.8,
          0.4,
          10,
          0.9,
          0.45,
          6,
          1.2,
          17,
          5,
          8,
          12,
          7,
          0.6,
          0.3,
          0.6,
          0.7,
          0.25,
          0.4,
          1.8,
          12,
          2,
          0.8,
          0.7,
          0.25,
          9.5,
          0.3,
          25,
          4.5,
          0.8,
          0.4,
          6,
          22,
          9,
          0.35,
          10,
          12,
          0.15,
          0.9,
          60,
          0.6,
          2.2,
          10,
          8,
          2,
          0.75,
          1.2,
          0.45,
          45,
          1.5,
          2,
          0.15,
          2.5,
          0.1,
          12,
          2.5,
          0.3,
          0.125,
          35,
          1,
          6.5,
          2,
          3.5,
          8,
          16,
          1.5,
          16,
          8,
          70,
          1.2,
          0.2,
          0.25,
          2,
          0.8,
          0.25,
          1.5,
          0.9,
          28,
          9,
          1,
          0.45,
          0.2,
          0.175,
          1.5,
          0.3,
          6,
          1,
          0.35,
          0.2,
          3.5,
          0.15,
          35,
          1.8,
          4.5,
          0.6,
          0.9,
          0.9,
          1.2,
          1,
          0.35,
          25,
          0.2,
          0.1,
          1.2,
          20,
          9,
          0.7,
          18,
          3.2,
          0.85,
          2,
          30,
          0.8,
          35,
          0.6,
          0.275,
          25,
          1.5,
          0.25,
          0.55,
          0.35,
          38,
          0.35,
          12,
          0.35,
          0.3,
          35,
          4,
          3.8,
          0.2,
          2.2,
          4.5,
          10,
          0.025,
          0.9,
          0.2,
          0.2,
          3,
          18,
          7,
          40,
          3,
          0.2,
          10,
          0.15,
          0.6,
          20,
          18,
          15,
          15,
          27,
          2.2,
          3.5,
          0.3,
          1.8,
          0.35,
          5,
          0.3,
          0.2,
          2.5,
          0.15,
          3.5,
          3,
          0.3,
          15,
          0.9,
          0.3,
          2.5,
          6,
          0.4,
          16,
          75,
          40,
          12,
          2,
          0.3,
          9,
          4,
          12,
          5,
          1,
          3,
          0.2,
          0.4,
          1,
          18,
          0.35,
          1.2,
          25,
          0.25,
          8,
          0.6,
          8,
          0.175,
          10,
          1,
          1.2,
          0.3,
          0.5,
          3.5,
          0.2,
          0.2,
          1.2,
          0.025,
          20,
          28,
          40,
          45,
          7,
          6,
          0.4,
          0.6,
          0.2,
          0.15,
          18,
          3.5,
          0.35,
          0.25,
          35,
          15,
          1.5,
          2.2,
          0.6,
          20,
          48,
          3.5,
          0.35,
          1.5,
          40,
          0.075,
          1.5,
          0.45,
          75,
          80,
          3.5,
          1.5,
          0.35,
          0.15,
          10,
          28,
          0.15,
          0.125,
          0.3,
          14,
          1.5,
          0.25,
          0.3,
          0.2,
          1,
          4,
          12,
          0.5,
          0.9,
          1.5,
          6,
          1,
          10,
          10,
          2,
          30,
          1.8,
          18,
          12,
          0.125,
          13,
          25,
          0.2,
          50,
          2.5,
          2.5,
          8,
          22,
          1.2,
          0.9,
          7,
          0.5,
          22,
          0.225,
          2,
          0.3,
          80,
          1.2,
          0.2,
          15,
          1.5,
          3,
          0.125,
          20,
          18,
          80,
          30,
          5,
          0.5,
          4.5,
          25,
          2.5,
          25,
          0.35,
          20,
          16,
          0.25,
          1.8,
          0.15,
          7,
          1.2,
          20,
          0.8,
          0.25,
          18,
          17,
          35,
          0.075,
          32,
          4,
          12,
          0.35,
          2,
          0.25,
          13,
          15,
          0.3,
          0.5,
          35,
          0.3,
          38,
          40,
          0.35,
          0.25,
          0.15,
          16,
          1.8,
          2.8,
          0.3,
          16,
          0.25,
          0.8,
          25,
          0.7,
          2,
          12,
          20,
          20,
          2,
          0.2,
          15,
          0.25,
          60,
          2.5,
          25,
          18,
          25,
          3,
          8,
          15,
          0.25,
          0.3,
          25,
          0.5,
          25,
          3.5,
          1.2,
          1.2,
          2.8,
          60,
          0.8,
          3,
          0.15,
          4.5,
          4.5,
          9,
          0.2,
          0.9,
          0.5,
          4,
          65,
          0.4,
          0.15,
          0.3,
          3.8,
          38,
          35,
          80,
          2,
          0.1,
          0.7,
          13,
          22,
          5,
          0.15,
          0.075,
          7,
          4.5,
          2,
          40,
          4,
          16,
          75,
          0.5,
          16,
          0.7,
          12,
          25,
          20,
          18,
          38,
          50,
          13,
          0.8,
          0.4,
          1,
          18,
          50,
          2.2,
          0.5,
          28,
          0.075,
          0.45,
          0.15,
          0.3,
          16,
          25,
          12,
          6,
          38,
          28,
          12,
          50,
          0.3,
          25,
          50,
          5,
          0.5,
          4.5,
          4.5,
          0.4,
          28,
          15,
          0.7,
          1,
          15,
          80,
          20,
          3,
          0.3,
          0.2,
          6,
          18,
          0.9,
          1.5,
          7,
          0.9,
          65,
          25,
          12,
          70,
          1.5,
          32,
          12,
          0.8,
          35,
          3.5,
          0.3,
          0.15,
          0.5,
          40,
          60,
          27,
          38,
          35,
          0.2,
          90,
          2.8,
          2,
          90,
          0.45,
          45,
          75,
          1.2,
          18,
          0.8,
          0.25,
          0.4,
          15,
          15,
          6,
          1.2,
          4,
          30,
          0.2,
          10,
          35,
          0.6,
          16,
          48,
          3.5,
          10,
          0.2,
          3,
          0.4,
          13,
          3,
          0.075,
          1.8,
          30,
          2.2,
          0.125,
          1.8,
          1,
          3.5,
          28,
          18,
          1.5,
          0.3,
          2,
          35,
          0.9,
          35,
          0.175,
          17,
          0.3,
          0.3,
          18,
          12,
          30,
          1.4,
          50,
          0.35,
          3.5,
          0.35,
          18,
          0.3,
          1,
          0.15,
          50,
          0.3,
          35,
          5,
          17,
          45,
          3.5,
          55,
          5,
          35,
          3,
          12,
          22,
          10,
          3.5,
          25,
          6,
          2,
          0.6,
          0.5,
          0.5,
          4,
          7,
          110,
          15,
          2.2,
          20,
          25,
          18,
          0.25,
          0.15,
          7,
          35,
          20,
          25,
          18,
          9,
          7,
          1.3,
          15,
          12,
          0.125,
          22,
          180,
          1.8,
          1.5,
          0.5,
          7,
          42,
          0.8,
          0.1,
          16,
          2.5,
          0.9,
          8,
          25,
          0.3,
          11,
          20,
          16,
          38,
          0.3,
          0.3,
          30,
          11,
          0.8,
          1.5,
          0.25,
          1.2,
          55,
          110,
          0.3,
          0.15,
          5,
          0.2,
          0.9,
          17,
          2.8,
          2.8,
          0.6,
          4,
          17,
          55,
          50,
          9,
          8,
          14,
          18,
          5,
          3.5,
          45,
          0.2,
          6,
          2.8,
          10,
          10,
          40,
          0.3,
          0.6,
          0.15,
          0.45,
          1.2,
          0.25,
          10,
          15,
          40,
          0.3,
          0.3,
          0.8,
          3.8,
          10,
          20,
          7,
          10,
          6,
          11,
          4,
          22,
          0.5,
          22,
          1,
          6,
          0.35,
          0.175,
          30,
          65,
          20,
          2.8,
          0.2,
          12,
          25,
          55,
          75,
          4,
          0.075,
          25,
          22,
          30,
          40,
          0.6,
          75,
          50,
          8,
          10,
          1.5,
          0.4,
          12,
          42,
          28,
          0.075,
          0.25,
          5,
          0.15,
          28,
          0.2,
          2,
          0.9,
          1,
          0.5,
          9,
          5,
          0.3,
          55,
          4,
          0.25,
          15,
          0.2,
          0.15,
          1.2,
          0.35,
          4.5,
          2,
          20,
          0.25,
          35,
          1.8,
          32,
          0.8,
          2,
          2.2,
          5,
          2,
          0.8,
          15,
          8,
          25,
          28,
          0.6,
          5,
          0.2,
          12,
          1,
          7,
          22,
          12,
          14,
          0.25,
          9,
          1.8,
          0.15,
          1.2,
          0.5,
          7,
          0.3,
          4,
          0.15,
          2.5,
          3,
          22,
          28,
          4,
          30,
          70,
          0.45,
          0.55,
          25,
          6,
          0.05,
          0.7,
          0.5,
          0.15,
          0.5,
          2.5,
          0.3,
          8,
          3.5,
          5,
          0.125,
          3,
          0.5,
          10,
          3,
          65,
          0.2,
          2,
          2.2,
          13,
          60,
          0.3,
          22,
          0.3,
          0.2,
          0.15,
          13,
          5,
          20,
          0.1,
          3,
          35,
          30,
          65,
          2.5,
          1.5,
          0.6,
          0.7,
          2,
          0.6,
          35,
          0.3,
          3.5,
          0.15,
          25,
          18,
          1,
          16,
          8,
          0.3,
          0.2,
          6,
          0.2,
          0.2,
          12,
          5,
          35,
          0.2,
          2.5,
          0.2,
          8,
          0.3,
          5,
          2.2,
          15,
          5,
          15,
          28,
          0.25,
          1.5,
          4,
          22,
          10,
          0.275,
          0.35,
          1.2,
          0.6,
          2.5,
          1,
          8,
          0.25,
          0.15,
          18,
          6,
          9,
          20,
          1.5,
          1,
          0.7,
          1.2,
          0.1,
          0.45,
          25,
          0.9,
          0.3,
          25,
          0.05,
          1,
          0.5,
          45,
          30,
          0.35,
          0.25,
          6,
          8,
          1.2,
          2,
          0.5,
          35,
          0.25,
          0.25,
          5,
          1,
          0.35,
          0.3,
          16,
          0.2,
          1,
          0.3,
          7,
          2.5,
          25,
          0.25,
          0.3,
          15,
          1.5,
          0.5,
          0.125,
          0.2,
          24,
          1.8,
          0.9,
          18,
          32,
          0.175,
          1,
          15,
          0.45,
          0.2,
          0.9,
          5,
          7,
          0.075,
          10,
          85,
          5,
          12,
          0.5,
          11,
          0.2,
          0.05,
          70,
          0.25,
          0.35,
          0.175,
          10,
          18,
          22,
          7,
          1.2,
          0.4,
          0.45,
          1,
          2,
          6,
          2.8,
          3,
          6,
          0.8,
          0.9,
          0.8,
          0.5,
          0.3,
          1.8,
          0.9,
          13,
          0.2,
          6,
          9,
          0.6,
          55,
          0.5,
          0.25,
          11,
          1.2,
          4,
          15,
          0.25,
          0.5,
          0.5,
          0.4,
          22,
          0.7,
          8,
          0.35,
          3,
          1,
          0.8,
          0.8,
          1.2,
          2.8,
          0.3,
          3,
          10,
          22,
          0.2,
          1.5,
          0.15,
          18,
          5,
          1,
          3,
          0.2,
          2,
          6,
          5,
          5,
          3.5,
          4,
          1,
          22,
          1,
          0.25,
          0.125,
          0.1,
          12,
          0.4,
          30,
          10,
          0.45,
          14,
          20,
          0.25,
          28,
          25,
          0.25,
          1,
          0.8,
          0.25,
          20,
          0.8,
          5,
          3.5,
          0.15,
          14,
          2,
          0.2,
          0.8,
          4,
          2,
          0.4,
          1.5,
          0.275,
          0.15,
          0.5,
          0.3,
          1.5,
          0.4,
          6,
          8,
          0.3,
          0.3,
          0.2,
          3,
          12,
          0.5,
          3,
          0.2,
          2,
          0.125,
          1.9
         ],
         "yaxis": "y"
        }
       ],
       "layout": {
        "legend": {
         "tracegroupgap": 0
        },
        "margin": {
         "t": 60
        },
        "template": {
         "data": {
          "bar": [
           {
            "error_x": {
             "color": "#2a3f5f"
            },
            "error_y": {
             "color": "#2a3f5f"
            },
            "marker": {
             "line": {
              "color": "#E5ECF6",
              "width": 0.5
             },
             "pattern": {
              "fillmode": "overlay",
              "size": 10,
              "solidity": 0.2
             }
            },
            "type": "bar"
           }
          ],
          "barpolar": [
           {
            "marker": {
             "line": {
              "color": "#E5ECF6",
              "width": 0.5
             },
             "pattern": {
              "fillmode": "overlay",
              "size": 10,
              "solidity": 0.2
             }
            },
            "type": "barpolar"
           }
          ],
          "carpet": [
           {
            "aaxis": {
             "endlinecolor": "#2a3f5f",
             "gridcolor": "white",
             "linecolor": "white",
             "minorgridcolor": "white",
             "startlinecolor": "#2a3f5f"
            },
            "baxis": {
             "endlinecolor": "#2a3f5f",
             "gridcolor": "white",
             "linecolor": "white",
             "minorgridcolor": "white",
             "startlinecolor": "#2a3f5f"
            },
            "type": "carpet"
           }
          ],
          "choropleth": [
           {
            "colorbar": {
             "outlinewidth": 0,
             "ticks": ""
            },
            "type": "choropleth"
           }
          ],
          "contour": [
           {
            "colorbar": {
             "outlinewidth": 0,
             "ticks": ""
            },
            "colorscale": [
             [
              0,
              "#0d0887"
             ],
             [
              0.1111111111111111,
              "#46039f"
             ],
             [
              0.2222222222222222,
              "#7201a8"
             ],
             [
              0.3333333333333333,
              "#9c179e"
             ],
             [
              0.4444444444444444,
              "#bd3786"
             ],
             [
              0.5555555555555556,
              "#d8576b"
             ],
             [
              0.6666666666666666,
              "#ed7953"
             ],
             [
              0.7777777777777778,
              "#fb9f3a"
             ],
             [
              0.8888888888888888,
              "#fdca26"
             ],
             [
              1,
              "#f0f921"
             ]
            ],
            "type": "contour"
           }
          ],
          "contourcarpet": [
           {
            "colorbar": {
             "outlinewidth": 0,
             "ticks": ""
            },
            "type": "contourcarpet"
           }
          ],
          "heatmap": [
           {
            "colorbar": {
             "outlinewidth": 0,
             "ticks": ""
            },
            "colorscale": [
             [
              0,
              "#0d0887"
             ],
             [
              0.1111111111111111,
              "#46039f"
             ],
             [
              0.2222222222222222,
              "#7201a8"
             ],
             [
              0.3333333333333333,
              "#9c179e"
             ],
             [
              0.4444444444444444,
              "#bd3786"
             ],
             [
              0.5555555555555556,
              "#d8576b"
             ],
             [
              0.6666666666666666,
              "#ed7953"
             ],
             [
              0.7777777777777778,
              "#fb9f3a"
             ],
             [
              0.8888888888888888,
              "#fdca26"
             ],
             [
              1,
              "#f0f921"
             ]
            ],
            "type": "heatmap"
           }
          ],
          "heatmapgl": [
           {
            "colorbar": {
             "outlinewidth": 0,
             "ticks": ""
            },
            "colorscale": [
             [
              0,
              "#0d0887"
             ],
             [
              0.1111111111111111,
              "#46039f"
             ],
             [
              0.2222222222222222,
              "#7201a8"
             ],
             [
              0.3333333333333333,
              "#9c179e"
             ],
             [
              0.4444444444444444,
              "#bd3786"
             ],
             [
              0.5555555555555556,
              "#d8576b"
             ],
             [
              0.6666666666666666,
              "#ed7953"
             ],
             [
              0.7777777777777778,
              "#fb9f3a"
             ],
             [
              0.8888888888888888,
              "#fdca26"
             ],
             [
              1,
              "#f0f921"
             ]
            ],
            "type": "heatmapgl"
           }
          ],
          "histogram": [
           {
            "marker": {
             "pattern": {
              "fillmode": "overlay",
              "size": 10,
              "solidity": 0.2
             }
            },
            "type": "histogram"
           }
          ],
          "histogram2d": [
           {
            "colorbar": {
             "outlinewidth": 0,
             "ticks": ""
            },
            "colorscale": [
             [
              0,
              "#0d0887"
             ],
             [
              0.1111111111111111,
              "#46039f"
             ],
             [
              0.2222222222222222,
              "#7201a8"
             ],
             [
              0.3333333333333333,
              "#9c179e"
             ],
             [
              0.4444444444444444,
              "#bd3786"
             ],
             [
              0.5555555555555556,
              "#d8576b"
             ],
             [
              0.6666666666666666,
              "#ed7953"
             ],
             [
              0.7777777777777778,
              "#fb9f3a"
             ],
             [
              0.8888888888888888,
              "#fdca26"
             ],
             [
              1,
              "#f0f921"
             ]
            ],
            "type": "histogram2d"
           }
          ],
          "histogram2dcontour": [
           {
            "colorbar": {
             "outlinewidth": 0,
             "ticks": ""
            },
            "colorscale": [
             [
              0,
              "#0d0887"
             ],
             [
              0.1111111111111111,
              "#46039f"
             ],
             [
              0.2222222222222222,
              "#7201a8"
             ],
             [
              0.3333333333333333,
              "#9c179e"
             ],
             [
              0.4444444444444444,
              "#bd3786"
             ],
             [
              0.5555555555555556,
              "#d8576b"
             ],
             [
              0.6666666666666666,
              "#ed7953"
             ],
             [
              0.7777777777777778,
              "#fb9f3a"
             ],
             [
              0.8888888888888888,
              "#fdca26"
             ],
             [
              1,
              "#f0f921"
             ]
            ],
            "type": "histogram2dcontour"
           }
          ],
          "mesh3d": [
           {
            "colorbar": {
             "outlinewidth": 0,
             "ticks": ""
            },
            "type": "mesh3d"
           }
          ],
          "parcoords": [
           {
            "line": {
             "colorbar": {
              "outlinewidth": 0,
              "ticks": ""
             }
            },
            "type": "parcoords"
           }
          ],
          "pie": [
           {
            "automargin": true,
            "type": "pie"
           }
          ],
          "scatter": [
           {
            "fillpattern": {
             "fillmode": "overlay",
             "size": 10,
             "solidity": 0.2
            },
            "type": "scatter"
           }
          ],
          "scatter3d": [
           {
            "line": {
             "colorbar": {
              "outlinewidth": 0,
              "ticks": ""
             }
            },
            "marker": {
             "colorbar": {
              "outlinewidth": 0,
              "ticks": ""
             }
            },
            "type": "scatter3d"
           }
          ],
          "scattercarpet": [
           {
            "marker": {
             "colorbar": {
              "outlinewidth": 0,
              "ticks": ""
             }
            },
            "type": "scattercarpet"
           }
          ],
          "scattergeo": [
           {
            "marker": {
             "colorbar": {
              "outlinewidth": 0,
              "ticks": ""
             }
            },
            "type": "scattergeo"
           }
          ],
          "scattergl": [
           {
            "marker": {
             "colorbar": {
              "outlinewidth": 0,
              "ticks": ""
             }
            },
            "type": "scattergl"
           }
          ],
          "scattermapbox": [
           {
            "marker": {
             "colorbar": {
              "outlinewidth": 0,
              "ticks": ""
             }
            },
            "type": "scattermapbox"
           }
          ],
          "scatterpolar": [
           {
            "marker": {
             "colorbar": {
              "outlinewidth": 0,
              "ticks": ""
             }
            },
            "type": "scatterpolar"
           }
          ],
          "scatterpolargl": [
           {
            "marker": {
             "colorbar": {
              "outlinewidth": 0,
              "ticks": ""
             }
            },
            "type": "scatterpolargl"
           }
          ],
          "scatterternary": [
           {
            "marker": {
             "colorbar": {
              "outlinewidth": 0,
              "ticks": ""
             }
            },
            "type": "scatterternary"
           }
          ],
          "surface": [
           {
            "colorbar": {
             "outlinewidth": 0,
             "ticks": ""
            },
            "colorscale": [
             [
              0,
              "#0d0887"
             ],
             [
              0.1111111111111111,
              "#46039f"
             ],
             [
              0.2222222222222222,
              "#7201a8"
             ],
             [
              0.3333333333333333,
              "#9c179e"
             ],
             [
              0.4444444444444444,
              "#bd3786"
             ],
             [
              0.5555555555555556,
              "#d8576b"
             ],
             [
              0.6666666666666666,
              "#ed7953"
             ],
             [
              0.7777777777777778,
              "#fb9f3a"
             ],
             [
              0.8888888888888888,
              "#fdca26"
             ],
             [
              1,
              "#f0f921"
             ]
            ],
            "type": "surface"
           }
          ],
          "table": [
           {
            "cells": {
             "fill": {
              "color": "#EBF0F8"
             },
             "line": {
              "color": "white"
             }
            },
            "header": {
             "fill": {
              "color": "#C8D4E3"
             },
             "line": {
              "color": "white"
             }
            },
            "type": "table"
           }
          ]
         },
         "layout": {
          "annotationdefaults": {
           "arrowcolor": "#2a3f5f",
           "arrowhead": 0,
           "arrowwidth": 1
          },
          "autotypenumbers": "strict",
          "coloraxis": {
           "colorbar": {
            "outlinewidth": 0,
            "ticks": ""
           }
          },
          "colorscale": {
           "diverging": [
            [
             0,
             "#8e0152"
            ],
            [
             0.1,
             "#c51b7d"
            ],
            [
             0.2,
             "#de77ae"
            ],
            [
             0.3,
             "#f1b6da"
            ],
            [
             0.4,
             "#fde0ef"
            ],
            [
             0.5,
             "#f7f7f7"
            ],
            [
             0.6,
             "#e6f5d0"
            ],
            [
             0.7,
             "#b8e186"
            ],
            [
             0.8,
             "#7fbc41"
            ],
            [
             0.9,
             "#4d9221"
            ],
            [
             1,
             "#276419"
            ]
           ],
           "sequential": [
            [
             0,
             "#0d0887"
            ],
            [
             0.1111111111111111,
             "#46039f"
            ],
            [
             0.2222222222222222,
             "#7201a8"
            ],
            [
             0.3333333333333333,
             "#9c179e"
            ],
            [
             0.4444444444444444,
             "#bd3786"
            ],
            [
             0.5555555555555556,
             "#d8576b"
            ],
            [
             0.6666666666666666,
             "#ed7953"
            ],
            [
             0.7777777777777778,
             "#fb9f3a"
            ],
            [
             0.8888888888888888,
             "#fdca26"
            ],
            [
             1,
             "#f0f921"
            ]
           ],
           "sequentialminus": [
            [
             0,
             "#0d0887"
            ],
            [
             0.1111111111111111,
             "#46039f"
            ],
            [
             0.2222222222222222,
             "#7201a8"
            ],
            [
             0.3333333333333333,
             "#9c179e"
            ],
            [
             0.4444444444444444,
             "#bd3786"
            ],
            [
             0.5555555555555556,
             "#d8576b"
            ],
            [
             0.6666666666666666,
             "#ed7953"
            ],
            [
             0.7777777777777778,
             "#fb9f3a"
            ],
            [
             0.8888888888888888,
             "#fdca26"
            ],
            [
             1,
             "#f0f921"
            ]
           ]
          },
          "colorway": [
           "#636efa",
           "#EF553B",
           "#00cc96",
           "#ab63fa",
           "#FFA15A",
           "#19d3f3",
           "#FF6692",
           "#B6E880",
           "#FF97FF",
           "#FECB52"
          ],
          "font": {
           "color": "#2a3f5f"
          },
          "geo": {
           "bgcolor": "white",
           "lakecolor": "white",
           "landcolor": "#E5ECF6",
           "showlakes": true,
           "showland": true,
           "subunitcolor": "white"
          },
          "hoverlabel": {
           "align": "left"
          },
          "hovermode": "closest",
          "mapbox": {
           "style": "light"
          },
          "paper_bgcolor": "white",
          "plot_bgcolor": "#E5ECF6",
          "polar": {
           "angularaxis": {
            "gridcolor": "white",
            "linecolor": "white",
            "ticks": ""
           },
           "bgcolor": "#E5ECF6",
           "radialaxis": {
            "gridcolor": "white",
            "linecolor": "white",
            "ticks": ""
           }
          },
          "scene": {
           "xaxis": {
            "backgroundcolor": "#E5ECF6",
            "gridcolor": "white",
            "gridwidth": 2,
            "linecolor": "white",
            "showbackground": true,
            "ticks": "",
            "zerolinecolor": "white"
           },
           "yaxis": {
            "backgroundcolor": "#E5ECF6",
            "gridcolor": "white",
            "gridwidth": 2,
            "linecolor": "white",
            "showbackground": true,
            "ticks": "",
            "zerolinecolor": "white"
           },
           "zaxis": {
            "backgroundcolor": "#E5ECF6",
            "gridcolor": "white",
            "gridwidth": 2,
            "linecolor": "white",
            "showbackground": true,
            "ticks": "",
            "zerolinecolor": "white"
           }
          },
          "shapedefaults": {
           "line": {
            "color": "#2a3f5f"
           }
          },
          "ternary": {
           "aaxis": {
            "gridcolor": "white",
            "linecolor": "white",
            "ticks": ""
           },
           "baxis": {
            "gridcolor": "white",
            "linecolor": "white",
            "ticks": ""
           },
           "bgcolor": "#E5ECF6",
           "caxis": {
            "gridcolor": "white",
            "linecolor": "white",
            "ticks": ""
           }
          },
          "title": {
           "x": 0.05
          },
          "xaxis": {
           "automargin": true,
           "gridcolor": "white",
           "linecolor": "white",
           "ticks": "",
           "title": {
            "standoff": 15
           },
           "zerolinecolor": "white",
           "zerolinewidth": 2
          },
          "yaxis": {
           "automargin": true,
           "gridcolor": "white",
           "linecolor": "white",
           "ticks": "",
           "title": {
            "standoff": 15
           },
           "zerolinecolor": "white",
           "zerolinewidth": 2
          }
         }
        },
        "xaxis": {
         "anchor": "y",
         "domain": [
          0,
          1
         ],
         "title": {
          "text": "predicted_value"
         }
        },
        "yaxis": {
         "anchor": "x",
         "domain": [
          0,
          1
         ],
         "title": {
          "text": "market_value_in_million_eur"
         }
        }
       }
      }
     },
     "metadata": {},
     "output_type": "display_data"
    }
   ],
   "source": [
    "forecast_df, regressor, y_test = predict_future_values(train_df, test_df, [2023, 2024, 2025, 2026, 2027, 2028], features)"
   ]
  },
  {
   "cell_type": "code",
   "execution_count": 255,
   "id": "6e2a600c",
   "metadata": {},
   "outputs": [],
   "source": [
    "# Merge with actual market values for evaluation\n",
    "\n",
    "merged = forecast_df.merge(test_df[[\"player_id\", \"name\"]], on=[\"player_id\"], how=\"left\")\n",
    "end = time.time()\n",
    "diff = end - start"
   ]
  },
  {
   "cell_type": "code",
   "execution_count": 256,
   "id": "82a7259f",
   "metadata": {},
   "outputs": [],
   "source": [
    "# plot_decision_tree_importance(regressor.best_estimator_, features)"
   ]
  },
  {
   "cell_type": "code",
   "execution_count": 257,
   "id": "073662f5",
   "metadata": {},
   "outputs": [
    {
     "data": {
      "application/vnd.plotly.v1+json": {
       "config": {
        "plotlyServerURL": "https://plot.ly"
       },
       "data": [
        {
         "customdata": [
          [
           22
          ],
          [
           23
          ],
          [
           24
          ],
          [
           25
          ],
          [
           27
          ],
          [
           27
          ],
          [
           28
          ],
          [
           30
          ],
          [
           30
          ],
          [
           31
          ],
          [
           32
          ],
          [
           33
          ],
          [
           34
          ],
          [
           35
          ]
         ],
         "hovertemplate": "name=Mohamed Salah<br>year=%{x}<br>predicted_value=%{y}<br>age=%{customdata[0]}<extra></extra>",
         "legendgroup": "Mohamed Salah",
         "line": {
          "color": "#636efa",
          "dash": "solid"
         },
         "marker": {
          "symbol": "circle"
         },
         "mode": "lines",
         "name": "Mohamed Salah",
         "orientation": "v",
         "showlegend": true,
         "type": "scatter",
         "x": [
          2015,
          2016,
          2017,
          2018,
          2019,
          2020,
          2021,
          2022,
          2023,
          2024,
          2025,
          2026,
          2027,
          2028
         ],
         "xaxis": "x",
         "y": [
          10,
          20,
          30,
          80,
          150,
          120,
          110,
          90,
          79.12886810302734,
          60.1993408203125,
          44.540042877197266,
          31.741676330566406,
          21.87796401977539,
          11.304757118225098
         ],
         "yaxis": "y"
        },
        {
         "customdata": [
          [
           19
          ],
          [
           20
          ],
          [
           21
          ],
          [
           22
          ],
          [
           23
          ],
          [
           24
          ],
          [
           25
          ],
          [
           26
          ],
          [
           27
          ],
          [
           28
          ],
          [
           29
          ],
          [
           30
          ],
          [
           31
          ]
         ],
         "hovertemplate": "name=Wilfred Ndidi<br>year=%{x}<br>predicted_value=%{y}<br>age=%{customdata[0]}<extra></extra>",
         "legendgroup": "Wilfred Ndidi",
         "line": {
          "color": "#EF553B",
          "dash": "solid"
         },
         "marker": {
          "symbol": "circle"
         },
         "mode": "lines",
         "name": "Wilfred Ndidi",
         "orientation": "v",
         "showlegend": true,
         "type": "scatter",
         "x": [
          2016,
          2017,
          2018,
          2019,
          2020,
          2021,
          2022,
          2023,
          2024,
          2025,
          2026,
          2027,
          2028
         ],
         "xaxis": "x",
         "y": [
          1,
          14,
          18,
          35,
          36,
          50,
          60,
          56.019798278808594,
          47.8217887878418,
          41.55081558227539,
          31.921092987060547,
          25.742977142333984,
          19.75839614868164
         ],
         "yaxis": "y"
        },
        {
         "customdata": [
          [
           18
          ],
          [
           20
          ],
          [
           21
          ],
          [
           22
          ],
          [
           23
          ],
          [
           24
          ],
          [
           25
          ],
          [
           26
          ],
          [
           27
          ],
          [
           28
          ],
          [
           29
          ]
         ],
         "hovertemplate": "name=Declan Rice<br>year=%{x}<br>predicted_value=%{y}<br>age=%{customdata[0]}<extra></extra>",
         "legendgroup": "Declan Rice",
         "line": {
          "color": "#00cc96",
          "dash": "solid"
         },
         "marker": {
          "symbol": "circle"
         },
         "mode": "lines",
         "name": "Declan Rice",
         "orientation": "v",
         "showlegend": true,
         "type": "scatter",
         "x": [
          2018,
          2019,
          2020,
          2021,
          2022,
          2023,
          2024,
          2025,
          2026,
          2027,
          2028
         ],
         "xaxis": "x",
         "y": [
          2,
          35,
          49.5,
          60,
          80,
          78.59799194335938,
          63.979461669921875,
          55.341365814208984,
          47.875118255615234,
          41.60414505004883,
          33.11246109008789
         ],
         "yaxis": "y"
        },
        {
         "customdata": [
          [
           17
          ],
          [
           18
          ],
          [
           18
          ],
          [
           19
          ],
          [
           20
          ],
          [
           21
          ],
          [
           22
          ],
          [
           23
          ],
          [
           24
          ],
          [
           25
          ],
          [
           26
          ],
          [
           27
          ]
         ],
         "hovertemplate": "name=Erling Haaland<br>year=%{x}<br>predicted_value=%{y}<br>age=%{customdata[0]}<extra></extra>",
         "legendgroup": "Erling Haaland",
         "line": {
          "color": "#ab63fa",
          "dash": "solid"
         },
         "marker": {
          "symbol": "circle"
         },
         "mode": "lines",
         "name": "Erling Haaland",
         "orientation": "v",
         "showlegend": true,
         "type": "scatter",
         "x": [
          2017,
          2018,
          2019,
          2020,
          2021,
          2022,
          2023,
          2024,
          2025,
          2026,
          2027,
          2028
         ],
         "xaxis": "x",
         "y": [
          0.3,
          2,
          5,
          60,
          110,
          150,
          123.53595733642578,
          108.30810546875,
          88.83486938476562,
          69.79376983642578,
          59.870540618896484,
          48.1202392578125
         ],
         "yaxis": "y"
        },
        {
         "customdata": [
          [
           17
          ],
          [
           17
          ],
          [
           18
          ],
          [
           20
          ],
          [
           21
          ],
          [
           22
          ],
          [
           23
          ],
          [
           24
          ],
          [
           25
          ]
         ],
         "hovertemplate": "name=Harvey Elliott<br>year=%{x}<br>predicted_value=%{y}<br>age=%{customdata[0]}<extra></extra>",
         "legendgroup": "Harvey Elliott",
         "line": {
          "color": "#FFA15A",
          "dash": "solid"
         },
         "marker": {
          "symbol": "circle"
         },
         "mode": "lines",
         "name": "Harvey Elliott",
         "orientation": "v",
         "showlegend": true,
         "type": "scatter",
         "x": [
          2020,
          2021,
          2022,
          2023,
          2024,
          2025,
          2026,
          2027,
          2028
         ],
         "xaxis": "x",
         "y": [
          3.6,
          15,
          22,
          31.735836029052734,
          33.55150604248047,
          33.612464904785156,
          33.353572845458984,
          36.0592041015625,
          33.537445068359375
         ],
         "yaxis": "y"
        },
        {
         "customdata": [
          [
           20
          ],
          [
           21
          ],
          [
           22
          ],
          [
           23
          ],
          [
           24
          ],
          [
           25
          ],
          [
           26
          ]
         ],
         "hovertemplate": "name=Cole Palmer<br>year=%{x}<br>predicted_value=%{y}<br>age=%{customdata[0]}<extra></extra>",
         "legendgroup": "Cole Palmer",
         "line": {
          "color": "#19d3f3",
          "dash": "solid"
         },
         "marker": {
          "symbol": "circle"
         },
         "mode": "lines",
         "name": "Cole Palmer",
         "orientation": "v",
         "showlegend": true,
         "type": "scatter",
         "x": [
          2022,
          2023,
          2024,
          2025,
          2026,
          2027,
          2028
         ],
         "xaxis": "x",
         "y": [
          6,
          10.483369827270508,
          14.237518310546875,
          15.26200008392334,
          17.416515350341797,
          17.416515350341797,
          16.93793296813965
         ],
         "yaxis": "y"
        },
        {
         "customdata": [
          [
           17
          ],
          [
           18
          ],
          [
           19
          ],
          [
           20
          ],
          [
           21
          ],
          [
           22
          ]
         ],
         "hovertemplate": "name=Ashley Phillips<br>year=%{x}<br>predicted_value=%{y}<br>age=%{customdata[0]}<extra></extra>",
         "legendgroup": "Ashley Phillips",
         "line": {
          "color": "#FF6692",
          "dash": "solid"
         },
         "marker": {
          "symbol": "circle"
         },
         "mode": "lines",
         "name": "Ashley Phillips",
         "orientation": "v",
         "showlegend": true,
         "type": "scatter",
         "x": [
          2023,
          2024,
          2025,
          2026,
          2027,
          2028
         ],
         "xaxis": "x",
         "y": [
          6.08119535446167,
          10.418102264404297,
          16.115829467773438,
          20.137834548950195,
          23.2933292388916,
          22.9700927734375
         ],
         "yaxis": "y"
        }
       ],
       "layout": {
        "annotations": [
         {
          "showarrow": false,
          "text": "2022/2023 boundary",
          "x": 2022.5,
          "xanchor": "left",
          "xref": "x",
          "y": 1,
          "yanchor": "top",
          "yref": "y domain"
         }
        ],
        "legend": {
         "title": {
          "text": "name"
         },
         "tracegroupgap": 0
        },
        "shapes": [
         {
          "line": {
           "color": "red",
           "dash": "dash"
          },
          "type": "line",
          "x0": 2022.5,
          "x1": 2022.5,
          "xref": "x",
          "y0": 0,
          "y1": 1,
          "yref": "y domain"
         }
        ],
        "template": {
         "data": {
          "bar": [
           {
            "error_x": {
             "color": "#2a3f5f"
            },
            "error_y": {
             "color": "#2a3f5f"
            },
            "marker": {
             "line": {
              "color": "#E5ECF6",
              "width": 0.5
             },
             "pattern": {
              "fillmode": "overlay",
              "size": 10,
              "solidity": 0.2
             }
            },
            "type": "bar"
           }
          ],
          "barpolar": [
           {
            "marker": {
             "line": {
              "color": "#E5ECF6",
              "width": 0.5
             },
             "pattern": {
              "fillmode": "overlay",
              "size": 10,
              "solidity": 0.2
             }
            },
            "type": "barpolar"
           }
          ],
          "carpet": [
           {
            "aaxis": {
             "endlinecolor": "#2a3f5f",
             "gridcolor": "white",
             "linecolor": "white",
             "minorgridcolor": "white",
             "startlinecolor": "#2a3f5f"
            },
            "baxis": {
             "endlinecolor": "#2a3f5f",
             "gridcolor": "white",
             "linecolor": "white",
             "minorgridcolor": "white",
             "startlinecolor": "#2a3f5f"
            },
            "type": "carpet"
           }
          ],
          "choropleth": [
           {
            "colorbar": {
             "outlinewidth": 0,
             "ticks": ""
            },
            "type": "choropleth"
           }
          ],
          "contour": [
           {
            "colorbar": {
             "outlinewidth": 0,
             "ticks": ""
            },
            "colorscale": [
             [
              0,
              "#0d0887"
             ],
             [
              0.1111111111111111,
              "#46039f"
             ],
             [
              0.2222222222222222,
              "#7201a8"
             ],
             [
              0.3333333333333333,
              "#9c179e"
             ],
             [
              0.4444444444444444,
              "#bd3786"
             ],
             [
              0.5555555555555556,
              "#d8576b"
             ],
             [
              0.6666666666666666,
              "#ed7953"
             ],
             [
              0.7777777777777778,
              "#fb9f3a"
             ],
             [
              0.8888888888888888,
              "#fdca26"
             ],
             [
              1,
              "#f0f921"
             ]
            ],
            "type": "contour"
           }
          ],
          "contourcarpet": [
           {
            "colorbar": {
             "outlinewidth": 0,
             "ticks": ""
            },
            "type": "contourcarpet"
           }
          ],
          "heatmap": [
           {
            "colorbar": {
             "outlinewidth": 0,
             "ticks": ""
            },
            "colorscale": [
             [
              0,
              "#0d0887"
             ],
             [
              0.1111111111111111,
              "#46039f"
             ],
             [
              0.2222222222222222,
              "#7201a8"
             ],
             [
              0.3333333333333333,
              "#9c179e"
             ],
             [
              0.4444444444444444,
              "#bd3786"
             ],
             [
              0.5555555555555556,
              "#d8576b"
             ],
             [
              0.6666666666666666,
              "#ed7953"
             ],
             [
              0.7777777777777778,
              "#fb9f3a"
             ],
             [
              0.8888888888888888,
              "#fdca26"
             ],
             [
              1,
              "#f0f921"
             ]
            ],
            "type": "heatmap"
           }
          ],
          "heatmapgl": [
           {
            "colorbar": {
             "outlinewidth": 0,
             "ticks": ""
            },
            "colorscale": [
             [
              0,
              "#0d0887"
             ],
             [
              0.1111111111111111,
              "#46039f"
             ],
             [
              0.2222222222222222,
              "#7201a8"
             ],
             [
              0.3333333333333333,
              "#9c179e"
             ],
             [
              0.4444444444444444,
              "#bd3786"
             ],
             [
              0.5555555555555556,
              "#d8576b"
             ],
             [
              0.6666666666666666,
              "#ed7953"
             ],
             [
              0.7777777777777778,
              "#fb9f3a"
             ],
             [
              0.8888888888888888,
              "#fdca26"
             ],
             [
              1,
              "#f0f921"
             ]
            ],
            "type": "heatmapgl"
           }
          ],
          "histogram": [
           {
            "marker": {
             "pattern": {
              "fillmode": "overlay",
              "size": 10,
              "solidity": 0.2
             }
            },
            "type": "histogram"
           }
          ],
          "histogram2d": [
           {
            "colorbar": {
             "outlinewidth": 0,
             "ticks": ""
            },
            "colorscale": [
             [
              0,
              "#0d0887"
             ],
             [
              0.1111111111111111,
              "#46039f"
             ],
             [
              0.2222222222222222,
              "#7201a8"
             ],
             [
              0.3333333333333333,
              "#9c179e"
             ],
             [
              0.4444444444444444,
              "#bd3786"
             ],
             [
              0.5555555555555556,
              "#d8576b"
             ],
             [
              0.6666666666666666,
              "#ed7953"
             ],
             [
              0.7777777777777778,
              "#fb9f3a"
             ],
             [
              0.8888888888888888,
              "#fdca26"
             ],
             [
              1,
              "#f0f921"
             ]
            ],
            "type": "histogram2d"
           }
          ],
          "histogram2dcontour": [
           {
            "colorbar": {
             "outlinewidth": 0,
             "ticks": ""
            },
            "colorscale": [
             [
              0,
              "#0d0887"
             ],
             [
              0.1111111111111111,
              "#46039f"
             ],
             [
              0.2222222222222222,
              "#7201a8"
             ],
             [
              0.3333333333333333,
              "#9c179e"
             ],
             [
              0.4444444444444444,
              "#bd3786"
             ],
             [
              0.5555555555555556,
              "#d8576b"
             ],
             [
              0.6666666666666666,
              "#ed7953"
             ],
             [
              0.7777777777777778,
              "#fb9f3a"
             ],
             [
              0.8888888888888888,
              "#fdca26"
             ],
             [
              1,
              "#f0f921"
             ]
            ],
            "type": "histogram2dcontour"
           }
          ],
          "mesh3d": [
           {
            "colorbar": {
             "outlinewidth": 0,
             "ticks": ""
            },
            "type": "mesh3d"
           }
          ],
          "parcoords": [
           {
            "line": {
             "colorbar": {
              "outlinewidth": 0,
              "ticks": ""
             }
            },
            "type": "parcoords"
           }
          ],
          "pie": [
           {
            "automargin": true,
            "type": "pie"
           }
          ],
          "scatter": [
           {
            "fillpattern": {
             "fillmode": "overlay",
             "size": 10,
             "solidity": 0.2
            },
            "type": "scatter"
           }
          ],
          "scatter3d": [
           {
            "line": {
             "colorbar": {
              "outlinewidth": 0,
              "ticks": ""
             }
            },
            "marker": {
             "colorbar": {
              "outlinewidth": 0,
              "ticks": ""
             }
            },
            "type": "scatter3d"
           }
          ],
          "scattercarpet": [
           {
            "marker": {
             "colorbar": {
              "outlinewidth": 0,
              "ticks": ""
             }
            },
            "type": "scattercarpet"
           }
          ],
          "scattergeo": [
           {
            "marker": {
             "colorbar": {
              "outlinewidth": 0,
              "ticks": ""
             }
            },
            "type": "scattergeo"
           }
          ],
          "scattergl": [
           {
            "marker": {
             "colorbar": {
              "outlinewidth": 0,
              "ticks": ""
             }
            },
            "type": "scattergl"
           }
          ],
          "scattermapbox": [
           {
            "marker": {
             "colorbar": {
              "outlinewidth": 0,
              "ticks": ""
             }
            },
            "type": "scattermapbox"
           }
          ],
          "scatterpolar": [
           {
            "marker": {
             "colorbar": {
              "outlinewidth": 0,
              "ticks": ""
             }
            },
            "type": "scatterpolar"
           }
          ],
          "scatterpolargl": [
           {
            "marker": {
             "colorbar": {
              "outlinewidth": 0,
              "ticks": ""
             }
            },
            "type": "scatterpolargl"
           }
          ],
          "scatterternary": [
           {
            "marker": {
             "colorbar": {
              "outlinewidth": 0,
              "ticks": ""
             }
            },
            "type": "scatterternary"
           }
          ],
          "surface": [
           {
            "colorbar": {
             "outlinewidth": 0,
             "ticks": ""
            },
            "colorscale": [
             [
              0,
              "#0d0887"
             ],
             [
              0.1111111111111111,
              "#46039f"
             ],
             [
              0.2222222222222222,
              "#7201a8"
             ],
             [
              0.3333333333333333,
              "#9c179e"
             ],
             [
              0.4444444444444444,
              "#bd3786"
             ],
             [
              0.5555555555555556,
              "#d8576b"
             ],
             [
              0.6666666666666666,
              "#ed7953"
             ],
             [
              0.7777777777777778,
              "#fb9f3a"
             ],
             [
              0.8888888888888888,
              "#fdca26"
             ],
             [
              1,
              "#f0f921"
             ]
            ],
            "type": "surface"
           }
          ],
          "table": [
           {
            "cells": {
             "fill": {
              "color": "#EBF0F8"
             },
             "line": {
              "color": "white"
             }
            },
            "header": {
             "fill": {
              "color": "#C8D4E3"
             },
             "line": {
              "color": "white"
             }
            },
            "type": "table"
           }
          ]
         },
         "layout": {
          "annotationdefaults": {
           "arrowcolor": "#2a3f5f",
           "arrowhead": 0,
           "arrowwidth": 1
          },
          "autotypenumbers": "strict",
          "coloraxis": {
           "colorbar": {
            "outlinewidth": 0,
            "ticks": ""
           }
          },
          "colorscale": {
           "diverging": [
            [
             0,
             "#8e0152"
            ],
            [
             0.1,
             "#c51b7d"
            ],
            [
             0.2,
             "#de77ae"
            ],
            [
             0.3,
             "#f1b6da"
            ],
            [
             0.4,
             "#fde0ef"
            ],
            [
             0.5,
             "#f7f7f7"
            ],
            [
             0.6,
             "#e6f5d0"
            ],
            [
             0.7,
             "#b8e186"
            ],
            [
             0.8,
             "#7fbc41"
            ],
            [
             0.9,
             "#4d9221"
            ],
            [
             1,
             "#276419"
            ]
           ],
           "sequential": [
            [
             0,
             "#0d0887"
            ],
            [
             0.1111111111111111,
             "#46039f"
            ],
            [
             0.2222222222222222,
             "#7201a8"
            ],
            [
             0.3333333333333333,
             "#9c179e"
            ],
            [
             0.4444444444444444,
             "#bd3786"
            ],
            [
             0.5555555555555556,
             "#d8576b"
            ],
            [
             0.6666666666666666,
             "#ed7953"
            ],
            [
             0.7777777777777778,
             "#fb9f3a"
            ],
            [
             0.8888888888888888,
             "#fdca26"
            ],
            [
             1,
             "#f0f921"
            ]
           ],
           "sequentialminus": [
            [
             0,
             "#0d0887"
            ],
            [
             0.1111111111111111,
             "#46039f"
            ],
            [
             0.2222222222222222,
             "#7201a8"
            ],
            [
             0.3333333333333333,
             "#9c179e"
            ],
            [
             0.4444444444444444,
             "#bd3786"
            ],
            [
             0.5555555555555556,
             "#d8576b"
            ],
            [
             0.6666666666666666,
             "#ed7953"
            ],
            [
             0.7777777777777778,
             "#fb9f3a"
            ],
            [
             0.8888888888888888,
             "#fdca26"
            ],
            [
             1,
             "#f0f921"
            ]
           ]
          },
          "colorway": [
           "#636efa",
           "#EF553B",
           "#00cc96",
           "#ab63fa",
           "#FFA15A",
           "#19d3f3",
           "#FF6692",
           "#B6E880",
           "#FF97FF",
           "#FECB52"
          ],
          "font": {
           "color": "#2a3f5f"
          },
          "geo": {
           "bgcolor": "white",
           "lakecolor": "white",
           "landcolor": "#E5ECF6",
           "showlakes": true,
           "showland": true,
           "subunitcolor": "white"
          },
          "hoverlabel": {
           "align": "left"
          },
          "hovermode": "closest",
          "mapbox": {
           "style": "light"
          },
          "paper_bgcolor": "white",
          "plot_bgcolor": "#E5ECF6",
          "polar": {
           "angularaxis": {
            "gridcolor": "white",
            "linecolor": "white",
            "ticks": ""
           },
           "bgcolor": "#E5ECF6",
           "radialaxis": {
            "gridcolor": "white",
            "linecolor": "white",
            "ticks": ""
           }
          },
          "scene": {
           "xaxis": {
            "backgroundcolor": "#E5ECF6",
            "gridcolor": "white",
            "gridwidth": 2,
            "linecolor": "white",
            "showbackground": true,
            "ticks": "",
            "zerolinecolor": "white"
           },
           "yaxis": {
            "backgroundcolor": "#E5ECF6",
            "gridcolor": "white",
            "gridwidth": 2,
            "linecolor": "white",
            "showbackground": true,
            "ticks": "",
            "zerolinecolor": "white"
           },
           "zaxis": {
            "backgroundcolor": "#E5ECF6",
            "gridcolor": "white",
            "gridwidth": 2,
            "linecolor": "white",
            "showbackground": true,
            "ticks": "",
            "zerolinecolor": "white"
           }
          },
          "shapedefaults": {
           "line": {
            "color": "#2a3f5f"
           }
          },
          "ternary": {
           "aaxis": {
            "gridcolor": "white",
            "linecolor": "white",
            "ticks": ""
           },
           "baxis": {
            "gridcolor": "white",
            "linecolor": "white",
            "ticks": ""
           },
           "bgcolor": "#E5ECF6",
           "caxis": {
            "gridcolor": "white",
            "linecolor": "white",
            "ticks": ""
           }
          },
          "title": {
           "x": 0.05
          },
          "xaxis": {
           "automargin": true,
           "gridcolor": "white",
           "linecolor": "white",
           "ticks": "",
           "title": {
            "standoff": 15
           },
           "zerolinecolor": "white",
           "zerolinewidth": 2
          },
          "yaxis": {
           "automargin": true,
           "gridcolor": "white",
           "linecolor": "white",
           "ticks": "",
           "title": {
            "standoff": 15
           },
           "zerolinecolor": "white",
           "zerolinewidth": 2
          }
         }
        },
        "title": {
         "text": "Predicted Market Values for Selected Players"
        },
        "xaxis": {
         "anchor": "y",
         "domain": [
          0,
          1
         ],
         "title": {
          "text": "year"
         }
        },
        "yaxis": {
         "anchor": "x",
         "domain": [
          0,
          1
         ],
         "title": {
          "text": "predicted_value"
         }
        }
       }
      }
     },
     "metadata": {},
     "output_type": "display_data"
    }
   ],
   "source": [
    "players = [418560, 357662, 565822, 859951, 148455, 274839, 542580, 568177]\n",
    "plot_player_value_trends(train_df=train_df, merged_df=merged, player_ids=players)\n"
   ]
  },
  {
   "cell_type": "code",
   "execution_count": 258,
   "id": "ffe03298",
   "metadata": {},
   "outputs": [
    {
     "name": "stderr",
     "output_type": "stream",
     "text": [
      "C:\\Users\\tomkn\\AppData\\Local\\Temp\\ipykernel_2016\\2121820575.py:2: SettingWithCopyWarning:\n",
      "\n",
      "\n",
      "A value is trying to be set on a copy of a slice from a DataFrame.\n",
      "Try using .loc[row_indexer,col_indexer] = value instead\n",
      "\n",
      "See the caveats in the documentation: https://pandas.pydata.org/pandas-docs/stable/user_guide/indexing.html#returning-a-view-versus-a-copy\n",
      "\n"
     ]
    }
   ],
   "source": [
    "output_df = merged.query(\"year == 2023\")\n",
    "output_df[\"actual_value\"] = y_test.values\n"
   ]
  },
  {
   "cell_type": "code",
   "execution_count": 259,
   "id": "bd4f4640",
   "metadata": {},
   "outputs": [
    {
     "name": "stderr",
     "output_type": "stream",
     "text": [
      "C:\\Users\\tomkn\\AppData\\Local\\Temp\\ipykernel_2016\\1487859311.py:1: SettingWithCopyWarning:\n",
      "\n",
      "\n",
      "A value is trying to be set on a copy of a slice from a DataFrame.\n",
      "Try using .loc[row_indexer,col_indexer] = value instead\n",
      "\n",
      "See the caveats in the documentation: https://pandas.pydata.org/pandas-docs/stable/user_guide/indexing.html#returning-a-view-versus-a-copy\n",
      "\n",
      "C:\\Users\\tomkn\\AppData\\Local\\Temp\\ipykernel_2016\\1487859311.py:2: SettingWithCopyWarning:\n",
      "\n",
      "\n",
      "A value is trying to be set on a copy of a slice from a DataFrame.\n",
      "Try using .loc[row_indexer,col_indexer] = value instead\n",
      "\n",
      "See the caveats in the documentation: https://pandas.pydata.org/pandas-docs/stable/user_guide/indexing.html#returning-a-view-versus-a-copy\n",
      "\n",
      "C:\\Users\\tomkn\\AppData\\Local\\Temp\\ipykernel_2016\\1487859311.py:3: SettingWithCopyWarning:\n",
      "\n",
      "\n",
      "A value is trying to be set on a copy of a slice from a DataFrame.\n",
      "Try using .loc[row_indexer,col_indexer] = value instead\n",
      "\n",
      "See the caveats in the documentation: https://pandas.pydata.org/pandas-docs/stable/user_guide/indexing.html#returning-a-view-versus-a-copy\n",
      "\n",
      "C:\\Users\\tomkn\\AppData\\Local\\Temp\\ipykernel_2016\\1487859311.py:4: SettingWithCopyWarning:\n",
      "\n",
      "\n",
      "A value is trying to be set on a copy of a slice from a DataFrame.\n",
      "Try using .loc[row_indexer,col_indexer] = value instead\n",
      "\n",
      "See the caveats in the documentation: https://pandas.pydata.org/pandas-docs/stable/user_guide/indexing.html#returning-a-view-versus-a-copy\n",
      "\n",
      "C:\\Users\\tomkn\\AppData\\Local\\Temp\\ipykernel_2016\\1487859311.py:5: SettingWithCopyWarning:\n",
      "\n",
      "\n",
      "A value is trying to be set on a copy of a slice from a DataFrame.\n",
      "Try using .loc[row_indexer,col_indexer] = value instead\n",
      "\n",
      "See the caveats in the documentation: https://pandas.pydata.org/pandas-docs/stable/user_guide/indexing.html#returning-a-view-versus-a-copy\n",
      "\n",
      "C:\\Users\\tomkn\\AppData\\Local\\Temp\\ipykernel_2016\\1487859311.py:6: SettingWithCopyWarning:\n",
      "\n",
      "\n",
      "A value is trying to be set on a copy of a slice from a DataFrame.\n",
      "Try using .loc[row_indexer,col_indexer] = value instead\n",
      "\n",
      "See the caveats in the documentation: https://pandas.pydata.org/pandas-docs/stable/user_guide/indexing.html#returning-a-view-versus-a-copy\n",
      "\n",
      "C:\\Users\\tomkn\\AppData\\Local\\Temp\\ipykernel_2016\\1487859311.py:7: SettingWithCopyWarning:\n",
      "\n",
      "\n",
      "A value is trying to be set on a copy of a slice from a DataFrame.\n",
      "Try using .loc[row_indexer,col_indexer] = value instead\n",
      "\n",
      "See the caveats in the documentation: https://pandas.pydata.org/pandas-docs/stable/user_guide/indexing.html#returning-a-view-versus-a-copy\n",
      "\n"
     ]
    }
   ],
   "source": [
    "output_df[\"model_output_id\"] = uuid.uuid4()\n",
    "output_df[\"model_run_date\"] = datetime.datetime.now()\n",
    "output_df[\"time_taken_seconds\"] = diff\n",
    "output_df[\"features_used\"] = str(features)\n",
    "output_df[\"model_type\"] = \"XG_Boost\"\n",
    "output_df[\"split_year\"] = test_start\n",
    "output_df[\"version\"] = version"
   ]
  },
  {
   "cell_type": "code",
   "execution_count": 260,
   "id": "ddf63cbf",
   "metadata": {},
   "outputs": [],
   "source": [
    "save_output_tables(output_df)"
   ]
  }
 ],
 "metadata": {
  "kernelspec": {
   "display_name": "Python 3",
   "language": "python",
   "name": "python3"
  },
  "language_info": {
   "codemirror_mode": {
    "name": "ipython",
    "version": 3
   },
   "file_extension": ".py",
   "mimetype": "text/x-python",
   "name": "python",
   "nbconvert_exporter": "python",
   "pygments_lexer": "ipython3",
   "version": "3.11.9"
  }
 },
 "nbformat": 4,
 "nbformat_minor": 5
}
