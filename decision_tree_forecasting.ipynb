{
 "cells": [
  {
   "cell_type": "code",
   "execution_count": 1,
   "id": "1b43e964",
   "metadata": {},
   "outputs": [
    {
     "name": "stderr",
     "output_type": "stream",
     "text": [
      "C:\\Users\\tomkn\\AppData\\Local\\Packages\\PythonSoftwareFoundation.Python.3.11_qbz5n2kfra8p0\\LocalCache\\local-packages\\Python311\\site-packages\\tqdm\\auto.py:21: TqdmWarning: IProgress not found. Please update jupyter and ipywidgets. See https://ipywidgets.readthedocs.io/en/stable/user_install.html\n",
      "  from .autonotebook import tqdm as notebook_tqdm\n"
     ]
    }
   ],
   "source": [
    "import pandas as pd\n",
    "from sklearn.metrics import root_mean_squared_error\n",
    "from typing import List, Tuple\n",
    "from xgboost import XGBRegressor \n",
    "import uuid\n",
    "import datetime \n",
    "import time\n",
    "from sklearn.model_selection import TimeSeriesSplit\n",
    "from utils.output_analysis import plot_player_value_trends, save_output_tables\n",
    "from utils.model import test_train_split, define_features, analysis_result , prepare_future_year_data\n",
    "from utils.xgboost_analysis import plot_basic_decision_tree, plot_feature_importance, create_shapley_values_plots\n",
    "import optuna\n",
    "from config import features, test_start, target, filter_out_synthetic\n",
    "import os\n"
   ]
  },
  {
   "cell_type": "code",
   "execution_count": 2,
   "id": "95766a24",
   "metadata": {},
   "outputs": [],
   "source": [
    "start = time.time()"
   ]
  },
  {
   "cell_type": "code",
   "execution_count": 3,
   "id": "577b7f61",
   "metadata": {},
   "outputs": [
    {
     "name": "stderr",
     "output_type": "stream",
     "text": [
      "C:\\Users\\tomkn\\AppData\\Local\\Temp\\ipykernel_26788\\4198838041.py:1: DtypeWarning: Columns (3,6,7,9,30,36) have mixed types. Specify dtype option on import or set low_memory=False.\n",
      "  pdf_mvp = pd.read_csv(\"data/intermediate/time_series_model_data_prep.csv\")\n"
     ]
    }
   ],
   "source": [
    "pdf_mvp = pd.read_csv(\"data/intermediate/time_series_model_data_prep.csv\") \n",
    "\n",
    "if filter_out_synthetic:\n",
    "    print(pdf_mvp.shape)\n",
    "    pdf_mvp = pdf_mvp[pdf_mvp[\"synthetic_flag\"] == False]\n",
    "    print(pdf_mvp.shape)"
   ]
  },
  {
   "cell_type": "code",
   "execution_count": 4,
   "id": "762ec1b7",
   "metadata": {},
   "outputs": [],
   "source": [
    "version  = \"v0.0.6\"\n",
    "forecast_id = uuid.uuid4()"
   ]
  },
  {
   "cell_type": "code",
   "execution_count": 5,
   "id": "18256918",
   "metadata": {},
   "outputs": [],
   "source": [
    "\n",
    "features = define_features(pdf_mvp, features)\n",
    "\n",
    "pdf_train, pdf_test = test_train_split(pdf_mvp, test_start)"
   ]
  },
  {
   "cell_type": "code",
   "execution_count": 6,
   "id": "3009ce79",
   "metadata": {},
   "outputs": [],
   "source": [
    "def objective(\n",
    "    trial: optuna.Trial,\n",
    "    X: pd.DataFrame,\n",
    "    y: pd.Series,\n",
    "    tscv: TimeSeriesSplit,\n",
    ") -> float:\n",
    "    params = {\n",
    "        \"n_estimators\": trial.suggest_int(\"n_estimators\", 50, 200),  # Number of trees\n",
    "        \"learning_rate\": trial.suggest_float(\"learning_rate\", 0.01, 0.3),  # Learning rate\n",
    "        \"max_depth\": trial.suggest_int(\"max_depth\", 1, 7),  # Tree depth\n",
    "        \"subsample\": trial.suggest_float(\"subsample\", 0.5, 1.0),  # Subsampling fraction\n",
    "        \"colsample_bytree\": trial.suggest_float(\"colsample_bytree\", 0.6, 1.0),\n",
    "        \"gamma\": trial.suggest_float(\"gamma\", 0, 5),  # Min loss reduction for split\n",
    "        \"reg_alpha\": trial.suggest_float(\"reg_alpha\", 0.0, 1.0),  # L1 regularization\n",
    "        \"reg_lambda\": trial.suggest_float(\"reg_lambda\", 0.1, 10.0),  # L2 regularization\n",
    "        \"random_state\": 42,\n",
    "        \"objective\": \"reg:squarederror\",\n",
    "        \"tree_method\": \"hist\",\n",
    "        \"verbosity\": 0,\n",
    "    }\n",
    "\n",
    "    rmse_scores = []\n",
    "\n",
    "    for train_idx, val_idx in tscv.split(X):\n",
    "        X_train, X_val = X.iloc[train_idx], X.iloc[val_idx]\n",
    "        y_train, y_val = y.iloc[train_idx], y.iloc[val_idx]\n",
    "\n",
    "        model = XGBRegressor(**params)\n",
    "        model.fit(X_train, y_train)\n",
    "\n",
    "        preds = model.predict(X_val)\n",
    "        rmse = root_mean_squared_error(y_val, preds)\n",
    "        rmse_scores.append(rmse)\n",
    "\n",
    "    return sum(rmse_scores) / len(rmse_scores)  # Average RMSE across folds\n"
   ]
  },
  {
   "cell_type": "code",
   "execution_count": 7,
   "id": "d0c1c16d",
   "metadata": {},
   "outputs": [],
   "source": [
    "\n",
    "def predict_future_values(\n",
    "    train_df: pd.DataFrame,\n",
    "    test_df: pd.DataFrame,\n",
    "    prediction_years: List[int],\n",
    "    features: List[str],\n",
    "    n_trials: int = 100,\n",
    ") -> Tuple[pd.DataFrame, XGBRegressor, pd.Series]:\n",
    "    \"\"\"\n",
    "    Predicts future player values for specified years using XGBoost and Optuna hyperparameter tuning.\n",
    "\n",
    "    Args:\n",
    "        train_df: Training DataFrame with features and target.\n",
    "        test_df: Initial test DataFrame to predict from (starting year).\n",
    "        prediction_years: List of years to predict, starting with the base year.\n",
    "        features: List of feature column names to use.\n",
    "        n_trials: Number of Optuna trials for hyperparameter search.\n",
    "\n",
    "    Returns:\n",
    "        Tuple of:\n",
    "            - DataFrame with predicted values for all prediction years concatenated.\n",
    "            - Trained XGBRegressor using best Optuna params.\n",
    "            - y_test from the base year (only valid for the first year).\n",
    "    \"\"\"\n",
    "\n",
    "    X_train = train_df[features]\n",
    "    y_train = train_df[target]\n",
    "\n",
    "    tscv = TimeSeriesSplit(n_splits=3)\n",
    "\n",
    "    study = optuna.create_study(direction=\"minimize\")\n",
    "    study.optimize(lambda trial: objective(trial, X_train, y_train, tscv), n_trials=n_trials, show_progress_bar=False)\n",
    "\n",
    "    print(f\"Best trial params: {study.best_trial.params}\")\n",
    "    print(f\"Best trial RMSE: {study.best_value:.4f}\")\n",
    "\n",
    "    # Train final model on all training data with best params\n",
    "    best_params = study.best_trial.params\n",
    "    # Add fixed params required by XGBRegressor\n",
    "    best_params.update({\n",
    "        \"random_state\": 42,\n",
    "        \"objective\": \"reg:squarederror\",\n",
    "        \"tree_method\": \"hist\",\n",
    "        \"verbosity\": 0,\n",
    "    })\n",
    "\n",
    "    model = XGBRegressor(**best_params)\n",
    "    model.fit(X_train, y_train)\n",
    "\n",
    "    predictions = []\n",
    "    current_df = test_df.copy()\n",
    "\n",
    "    for i, year in enumerate(prediction_years):\n",
    "        X_test = current_df[features]\n",
    "        current_df[\"predicted_value\"] = model.predict(X_test)\n",
    "        current_df[\"year\"] = year\n",
    "\n",
    "        if i == 0:\n",
    "            y_test = current_df[target]\n",
    "            analysis_result(current_df, y_test, year, target)\n",
    "            create_shapley_values_plots(model, X_train, X_test, features)\n",
    "            top_features = plot_feature_importance(model, features)\n",
    "        else:\n",
    "            current_df[\"age\"] = current_df[\"age_last_year\"] + 1\n",
    "\n",
    "        # Reduce contract years left by 1, never below 0\n",
    "        if \"contract_years_left\" in current_df.columns:\n",
    "            current_df[\"contract_years_left\"] = (current_df[\"contract_years_left\"] - 1).clip(lower=0)\n",
    "\n",
    "        current_df[\"age_last_year\"] = current_df[\"age\"]\n",
    "        current_df[\"value_last_year\"] = current_df[\"predicted_value\"]\n",
    "\n",
    "        predictions.append(current_df[[\"player_id\", \"year\", \"age\", \"predicted_value\"]].copy())\n",
    "\n",
    "        if i < len(prediction_years) - 1:\n",
    "            current_df = prepare_future_year_data(current_df)\n",
    "\n",
    "    all_predictions_df = pd.concat(predictions, ignore_index=True)\n",
    "    return all_predictions_df, model, y_test, top_features"
   ]
  },
  {
   "cell_type": "code",
   "execution_count": null,
   "id": "92b49796",
   "metadata": {},
   "outputs": [
    {
     "name": "stderr",
     "output_type": "stream",
     "text": [
      "[I 2025-08-15 13:21:37,038] A new study created in memory with name: no-name-d6f19445-2778-4aae-804e-c5975f9ecbf8\n",
      "[I 2025-08-15 13:21:37,476] Trial 0 finished with value: 4.970517228945687 and parameters: {'n_estimators': 156, 'learning_rate': 0.04357697000312506, 'max_depth': 3, 'subsample': 0.5354309104456072, 'colsample_bytree': 0.6357436021122752, 'gamma': 0.7138803522187104, 'reg_alpha': 0.2639707523288263, 'reg_lambda': 3.303831593647016}. Best is trial 0 with value: 4.970517228945687.\n",
      "[I 2025-08-15 13:21:37,697] Trial 1 finished with value: 5.346864529603507 and parameters: {'n_estimators': 60, 'learning_rate': 0.23267728121442152, 'max_depth': 3, 'subsample': 0.5933639495019056, 'colsample_bytree': 0.7064238145245424, 'gamma': 4.401354160896737, 'reg_alpha': 0.5905683525075686, 'reg_lambda': 5.635595920522651}. Best is trial 0 with value: 4.970517228945687.\n",
      "[I 2025-08-15 13:21:38,184] Trial 2 finished with value: 5.763154526588761 and parameters: {'n_estimators': 138, 'learning_rate': 0.28081229537780006, 'max_depth': 4, 'subsample': 0.7519106732088001, 'colsample_bytree': 0.8332224786815068, 'gamma': 2.224756628149698, 'reg_alpha': 0.13429518266389617, 'reg_lambda': 1.3268844894797645}. Best is trial 0 with value: 4.970517228945687.\n",
      "[I 2025-08-15 13:21:38,473] Trial 3 finished with value: 5.202706904933845 and parameters: {'n_estimators': 111, 'learning_rate': 0.13791103599544077, 'max_depth': 5, 'subsample': 0.945836066624288, 'colsample_bytree': 0.8339844139863795, 'gamma': 0.7809009746126255, 'reg_alpha': 0.7438872886002594, 'reg_lambda': 7.4622460472457455}. Best is trial 0 with value: 4.970517228945687.\n",
      "[I 2025-08-15 13:21:38,721] Trial 4 finished with value: 5.079757933552993 and parameters: {'n_estimators': 109, 'learning_rate': 0.17871418862903043, 'max_depth': 2, 'subsample': 0.580814159745638, 'colsample_bytree': 0.8019168150651831, 'gamma': 4.043677616044107, 'reg_alpha': 0.5751642479439587, 'reg_lambda': 0.36937108505127936}. Best is trial 0 with value: 4.970517228945687.\n",
      "[I 2025-08-15 13:21:39,253] Trial 5 finished with value: 5.116224932441672 and parameters: {'n_estimators': 196, 'learning_rate': 0.08985555684432665, 'max_depth': 6, 'subsample': 0.5210677908477785, 'colsample_bytree': 0.7869263043765601, 'gamma': 3.282860803854067, 'reg_alpha': 0.8939512341795071, 'reg_lambda': 9.894427575174625}. Best is trial 0 with value: 4.970517228945687.\n",
      "[I 2025-08-15 13:21:39,419] Trial 6 finished with value: 4.820366574730993 and parameters: {'n_estimators': 58, 'learning_rate': 0.26582696340208817, 'max_depth': 4, 'subsample': 0.6290619529165901, 'colsample_bytree': 0.9894060543006002, 'gamma': 2.112423767866169, 'reg_alpha': 0.21121820231804622, 'reg_lambda': 9.290270504626347}. Best is trial 6 with value: 4.820366574730993.\n",
      "[I 2025-08-15 13:21:39,803] Trial 7 finished with value: 4.99575414050981 and parameters: {'n_estimators': 100, 'learning_rate': 0.2780089625692827, 'max_depth': 6, 'subsample': 0.5370121157638189, 'colsample_bytree': 0.9982291578750864, 'gamma': 4.8249715588549185, 'reg_alpha': 0.8660830094163154, 'reg_lambda': 9.432043527883765}. Best is trial 6 with value: 4.820366574730993.\n",
      "[I 2025-08-15 13:21:40,296] Trial 8 finished with value: 5.1455005847344815 and parameters: {'n_estimators': 138, 'learning_rate': 0.10282294491524971, 'max_depth': 6, 'subsample': 0.9481261438370797, 'colsample_bytree': 0.7511753825248124, 'gamma': 0.27285795717718997, 'reg_alpha': 0.6875412858359671, 'reg_lambda': 7.703781047639842}. Best is trial 6 with value: 4.820366574730993.\n",
      "[I 2025-08-15 13:21:40,559] Trial 9 finished with value: 4.872194753726856 and parameters: {'n_estimators': 119, 'learning_rate': 0.0611167565386885, 'max_depth': 2, 'subsample': 0.9844045493449965, 'colsample_bytree': 0.6745915509531626, 'gamma': 1.7644481524257154, 'reg_alpha': 0.3915879148500615, 'reg_lambda': 9.774121736391129}. Best is trial 6 with value: 4.820366574730993.\n",
      "[I 2025-08-15 13:21:40,840] Trial 10 finished with value: 6.180196844592872 and parameters: {'n_estimators': 52, 'learning_rate': 0.19207926974118628, 'max_depth': 1, 'subsample': 0.7030213640772389, 'colsample_bytree': 0.9892561838923295, 'gamma': 2.964029801939864, 'reg_alpha': 0.04117632167701707, 'reg_lambda': 5.263484869264575}. Best is trial 6 with value: 4.820366574730993.\n",
      "[I 2025-08-15 13:21:41,048] Trial 11 finished with value: 7.376447759083509 and parameters: {'n_estimators': 83, 'learning_rate': 0.017572305120509314, 'max_depth': 1, 'subsample': 0.8128245649589539, 'colsample_bytree': 0.9078273423848973, 'gamma': 1.8379375011745067, 'reg_alpha': 0.3797367121164622, 'reg_lambda': 7.894564366467929}. Best is trial 6 with value: 4.820366574730993.\n",
      "[I 2025-08-15 13:21:41,470] Trial 12 finished with value: 5.0652905723051775 and parameters: {'n_estimators': 176, 'learning_rate': 0.22102879371734435, 'max_depth': 4, 'subsample': 0.6611316189206146, 'colsample_bytree': 0.6122859022916113, 'gamma': 1.640464967570835, 'reg_alpha': 0.35251425383272084, 'reg_lambda': 8.792391882189127}. Best is trial 6 with value: 4.820366574730993.\n",
      "[I 2025-08-15 13:21:41,991] Trial 13 finished with value: 5.246884880856396 and parameters: {'n_estimators': 78, 'learning_rate': 0.07730324899312324, 'max_depth': 3, 'subsample': 0.8493995009840654, 'colsample_bytree': 0.6871569993857566, 'gamma': 2.8290537280737498, 'reg_alpha': 0.2457834800104215, 'reg_lambda': 6.696165824880597}. Best is trial 6 with value: 4.820366574730993.\n",
      "[I 2025-08-15 13:21:42,273] Trial 14 finished with value: 4.938314782932554 and parameters: {'n_estimators': 80, 'learning_rate': 0.13109833712486002, 'max_depth': 2, 'subsample': 0.9965150525195706, 'colsample_bytree': 0.9084178840196413, 'gamma': 1.4736387936089417, 'reg_alpha': 0.47084223942604153, 'reg_lambda': 3.660064614931885}. Best is trial 6 with value: 4.820366574730993.\n",
      "[I 2025-08-15 13:21:42,946] Trial 15 finished with value: 5.188555967019352 and parameters: {'n_estimators': 126, 'learning_rate': 0.2423258214567868, 'max_depth': 7, 'subsample': 0.6530872621049127, 'colsample_bytree': 0.9147653863123535, 'gamma': 3.590592324998782, 'reg_alpha': 0.14802210978073327, 'reg_lambda': 8.802435943022836}. Best is trial 6 with value: 4.820366574730993.\n",
      "[I 2025-08-15 13:21:43,242] Trial 16 finished with value: 4.913022031437312 and parameters: {'n_estimators': 161, 'learning_rate': 0.054723350760512275, 'max_depth': 2, 'subsample': 0.8471154247902585, 'colsample_bytree': 0.6746610041428274, 'gamma': 2.3584536941308203, 'reg_alpha': 0.006075238729260524, 'reg_lambda': 9.975837738824849}. Best is trial 6 with value: 4.820366574730993.\n",
      "[I 2025-08-15 13:21:43,471] Trial 17 finished with value: 5.17424389553455 and parameters: {'n_estimators': 68, 'learning_rate': 0.16951232203740751, 'max_depth': 5, 'subsample': 0.7549600660685523, 'colsample_bytree': 0.7268324452727726, 'gamma': 1.1261704189983612, 'reg_alpha': 0.4522412294028508, 'reg_lambda': 3.822394718304929}. Best is trial 6 with value: 4.820366574730993.\n",
      "[I 2025-08-15 13:21:43,762] Trial 18 finished with value: 4.868758035638533 and parameters: {'n_estimators': 94, 'learning_rate': 0.12353730655262507, 'max_depth': 5, 'subsample': 0.6284306846066813, 'colsample_bytree': 0.9584585759192579, 'gamma': 2.085926318710023, 'reg_alpha': 0.27120641770320286, 'reg_lambda': 6.408443631611007}. Best is trial 6 with value: 4.820366574730993.\n",
      "[I 2025-08-15 13:21:44,052] Trial 19 finished with value: 4.814443292563701 and parameters: {'n_estimators': 94, 'learning_rate': 0.13317833407771995, 'max_depth': 5, 'subsample': 0.6144636739718511, 'colsample_bytree': 0.9538073649999282, 'gamma': 2.429430650208242, 'reg_alpha': 0.275584220420527, 'reg_lambda': 6.323828019445924}. Best is trial 19 with value: 4.814443292563701.\n",
      "[I 2025-08-15 13:21:44,341] Trial 20 finished with value: 5.061371343985241 and parameters: {'n_estimators': 67, 'learning_rate': 0.1964697744375315, 'max_depth': 7, 'subsample': 0.7082323984561076, 'colsample_bytree': 0.9441504493683444, 'gamma': 2.6760956793283897, 'reg_alpha': 0.12493838170027557, 'reg_lambda': 4.644985105115486}. Best is trial 19 with value: 4.814443292563701.\n",
      "[I 2025-08-15 13:21:44,619] Trial 21 finished with value: 4.80656446784221 and parameters: {'n_estimators': 96, 'learning_rate': 0.1354443281430326, 'max_depth': 5, 'subsample': 0.6192851073105985, 'colsample_bytree': 0.9569296976814465, 'gamma': 2.1798133231809134, 'reg_alpha': 0.25849150473404026, 'reg_lambda': 6.455591615807313}. Best is trial 21 with value: 4.80656446784221.\n",
      "[I 2025-08-15 13:21:44,895] Trial 22 finished with value: 5.10166697241198 and parameters: {'n_estimators': 95, 'learning_rate': 0.15838165120006759, 'max_depth': 5, 'subsample': 0.568626387851607, 'colsample_bytree': 0.8594582304156425, 'gamma': 3.3497492031984395, 'reg_alpha': 0.21334343154591137, 'reg_lambda': 6.419437154125929}. Best is trial 21 with value: 4.80656446784221.\n",
      "[I 2025-08-15 13:21:45,151] Trial 23 finished with value: 4.631981750153254 and parameters: {'n_estimators': 92, 'learning_rate': 0.11359144000634352, 'max_depth': 4, 'subsample': 0.6165852692127015, 'colsample_bytree': 0.9550613534147993, 'gamma': 2.4876758998344446, 'reg_alpha': 0.3184271382798265, 'reg_lambda': 2.4276343966548177}. Best is trial 23 with value: 4.631981750153254.\n",
      "[I 2025-08-15 13:21:45,465] Trial 24 finished with value: 5.1376227820209515 and parameters: {'n_estimators': 88, 'learning_rate': 0.11460994003495728, 'max_depth': 5, 'subsample': 0.5007971227051371, 'colsample_bytree': 0.868929026641427, 'gamma': 2.746081362780595, 'reg_alpha': 0.3293626570978752, 'reg_lambda': 2.4554768724087555}. Best is trial 23 with value: 4.631981750153254.\n",
      "[I 2025-08-15 13:21:45,939] Trial 25 finished with value: 5.036875722143287 and parameters: {'n_estimators': 105, 'learning_rate': 0.13874170502693756, 'max_depth': 6, 'subsample': 0.6924852061369715, 'colsample_bytree': 0.9392629523491273, 'gamma': 1.3520245959110513, 'reg_alpha': 0.5487693884480757, 'reg_lambda': 1.8914216128599173}. Best is trial 23 with value: 4.631981750153254.\n",
      "[I 2025-08-15 13:21:46,337] Trial 26 finished with value: 4.733686465146472 and parameters: {'n_estimators': 120, 'learning_rate': 0.09787102150536621, 'max_depth': 4, 'subsample': 0.6064616391638273, 'colsample_bytree': 0.8842975735581747, 'gamma': 3.79834643944369, 'reg_alpha': 0.42797547889750814, 'reg_lambda': 4.395420528843807}. Best is trial 23 with value: 4.631981750153254.\n",
      "[I 2025-08-15 13:21:46,774] Trial 27 finished with value: 4.9109239761917465 and parameters: {'n_estimators': 126, 'learning_rate': 0.0922599840177798, 'max_depth': 4, 'subsample': 0.5632578132565221, 'colsample_bytree': 0.8838960750834659, 'gamma': 3.7507110705170517, 'reg_alpha': 0.46464763781864477, 'reg_lambda': 4.425941847168987}. Best is trial 23 with value: 4.631981750153254.\n",
      "[I 2025-08-15 13:21:47,144] Trial 28 finished with value: 5.137379472102602 and parameters: {'n_estimators': 137, 'learning_rate': 0.019117151216414635, 'max_depth': 3, 'subsample': 0.6698269785141997, 'colsample_bytree': 0.922790014595834, 'gamma': 4.9491849485651835, 'reg_alpha': 0.6529120687971527, 'reg_lambda': 2.9027720539277357}. Best is trial 23 with value: 4.631981750153254.\n",
      "[I 2025-08-15 13:21:47,563] Trial 29 finished with value: 4.667232641279272 and parameters: {'n_estimators': 155, 'learning_rate': 0.07254513366869186, 'max_depth': 4, 'subsample': 0.5482586394582257, 'colsample_bytree': 0.9683117422413545, 'gamma': 3.179284537855084, 'reg_alpha': 0.41826223868847917, 'reg_lambda': 1.150330414638525}. Best is trial 23 with value: 4.631981750153254.\n",
      "[I 2025-08-15 13:21:47,891] Trial 30 finished with value: 4.979141385738529 and parameters: {'n_estimators': 148, 'learning_rate': 0.03663251232410225, 'max_depth': 3, 'subsample': 0.5453065584492378, 'colsample_bytree': 0.8939511451894436, 'gamma': 4.102772135770607, 'reg_alpha': 0.5076585255970771, 'reg_lambda': 0.10055197033034502}. Best is trial 23 with value: 4.631981750153254.\n",
      "[I 2025-08-15 13:21:48,682] Trial 31 finished with value: 4.710301181619429 and parameters: {'n_estimators': 166, 'learning_rate': 0.07126398742994888, 'max_depth': 4, 'subsample': 0.6078377113702295, 'colsample_bytree': 0.9680033696500281, 'gamma': 3.120938772137914, 'reg_alpha': 0.41222842532394977, 'reg_lambda': 1.7566653484128842}. Best is trial 23 with value: 4.631981750153254.\n",
      "[I 2025-08-15 13:21:49,224] Trial 32 finished with value: 4.742836812890982 and parameters: {'n_estimators': 172, 'learning_rate': 0.07308910315867347, 'max_depth': 4, 'subsample': 0.5880340656714885, 'colsample_bytree': 0.9654722297922649, 'gamma': 3.261351621563913, 'reg_alpha': 0.3901729574987737, 'reg_lambda': 1.0894394322395349}. Best is trial 23 with value: 4.631981750153254.\n",
      "[I 2025-08-15 13:21:49,891] Trial 33 finished with value: 4.7702754639197815 and parameters: {'n_estimators': 161, 'learning_rate': 0.046726839485765254, 'max_depth': 3, 'subsample': 0.5010461685868083, 'colsample_bytree': 0.9772461427779474, 'gamma': 3.0873653886853636, 'reg_alpha': 0.433296430828345, 'reg_lambda': 2.04143781744673}. Best is trial 23 with value: 4.631981750153254.\n",
      "[I 2025-08-15 13:21:51,275] Trial 34 finished with value: 4.966352426451841 and parameters: {'n_estimators': 177, 'learning_rate': 0.10920939328065438, 'max_depth': 4, 'subsample': 0.7292013158644459, 'colsample_bytree': 0.9265626455537616, 'gamma': 3.6968038220057586, 'reg_alpha': 0.32188513790605766, 'reg_lambda': 1.0258048473629695}. Best is trial 23 with value: 4.631981750153254.\n",
      "[I 2025-08-15 13:21:52,037] Trial 35 finished with value: 4.775343059724385 and parameters: {'n_estimators': 195, 'learning_rate': 0.07200751005436272, 'max_depth': 4, 'subsample': 0.5991895057022386, 'colsample_bytree': 0.8459513248897161, 'gamma': 3.949784235576715, 'reg_alpha': 0.5205380152114805, 'reg_lambda': 2.7330956925470304}. Best is trial 23 with value: 4.631981750153254.\n",
      "[I 2025-08-15 13:21:52,550] Trial 36 finished with value: 4.580052306705011 and parameters: {'n_estimators': 153, 'learning_rate': 0.09016902397488043, 'max_depth': 3, 'subsample': 0.5619134837889813, 'colsample_bytree': 0.8837234353936014, 'gamma': 4.420290085057836, 'reg_alpha': 0.5974994127434109, 'reg_lambda': 1.540138370813368}. Best is trial 36 with value: 4.580052306705011.\n",
      "[I 2025-08-15 13:21:52,980] Trial 37 finished with value: 4.852399895654301 and parameters: {'n_estimators': 147, 'learning_rate': 0.03718604932654426, 'max_depth': 3, 'subsample': 0.5430692690581816, 'colsample_bytree': 0.8214711798220671, 'gamma': 4.547983469573355, 'reg_alpha': 0.6276797583239248, 'reg_lambda': 1.628828405677986}. Best is trial 36 with value: 4.580052306705011.\n",
      "[I 2025-08-15 13:21:53,397] Trial 38 finished with value: 4.55845139226398 and parameters: {'n_estimators': 169, 'learning_rate': 0.08074729591263563, 'max_depth': 3, 'subsample': 0.5617910881408416, 'colsample_bytree': 0.9728828392459551, 'gamma': 4.36036345313157, 'reg_alpha': 0.8068011391997982, 'reg_lambda': 0.9313482947862306}. Best is trial 38 with value: 4.55845139226398.\n",
      "[I 2025-08-15 13:21:53,857] Trial 39 finished with value: 4.56172860545519 and parameters: {'n_estimators': 190, 'learning_rate': 0.08699292682864772, 'max_depth': 3, 'subsample': 0.5656733373753828, 'colsample_bytree': 0.934766626782248, 'gamma': 4.34125610059455, 'reg_alpha': 0.9950674767466324, 'reg_lambda': 0.6586685776077783}. Best is trial 38 with value: 4.55845139226398.\n",
      "[I 2025-08-15 13:21:54,268] Trial 40 finished with value: 4.771062463647247 and parameters: {'n_estimators': 187, 'learning_rate': 0.08723434935867705, 'max_depth': 3, 'subsample': 0.575598195453588, 'colsample_bytree': 0.7729537778551598, 'gamma': 4.439130578957624, 'reg_alpha': 0.9590677698814253, 'reg_lambda': 0.7732576308826687}. Best is trial 38 with value: 4.55845139226398.\n",
      "[I 2025-08-15 13:21:54,650] Trial 41 finished with value: 4.528657059366511 and parameters: {'n_estimators': 188, 'learning_rate': 0.08549673756950107, 'max_depth': 3, 'subsample': 0.5544954670829039, 'colsample_bytree': 0.9998987531899255, 'gamma': 4.20152202413606, 'reg_alpha': 0.7964568923553131, 'reg_lambda': 0.7229907751923073}. Best is trial 41 with value: 4.528657059366511.\n",
      "[I 2025-08-15 13:21:54,944] Trial 42 finished with value: 4.57588768682781 and parameters: {'n_estimators': 185, 'learning_rate': 0.11455245736448016, 'max_depth': 2, 'subsample': 0.528273247085917, 'colsample_bytree': 0.9377566132252484, 'gamma': 4.716226833865867, 'reg_alpha': 0.7703227386363053, 'reg_lambda': 0.6661139909617171}. Best is trial 41 with value: 4.528657059366511.\n",
      "[I 2025-08-15 13:21:55,250] Trial 43 finished with value: 4.663124843045018 and parameters: {'n_estimators': 185, 'learning_rate': 0.08610356572741262, 'max_depth': 2, 'subsample': 0.5201720009981293, 'colsample_bytree': 0.9879265325112849, 'gamma': 4.705852817180938, 'reg_alpha': 0.7886881780862443, 'reg_lambda': 0.44925099753698294}. Best is trial 41 with value: 4.528657059366511.\n",
      "[I 2025-08-15 13:21:55,653] Trial 44 finished with value: 5.168027207825715 and parameters: {'n_estimators': 200, 'learning_rate': 0.059248817278646886, 'max_depth': 2, 'subsample': 0.5315027085644471, 'colsample_bytree': 0.9301654937294266, 'gamma': 4.2001243406630415, 'reg_alpha': 0.7925410263817038, 'reg_lambda': 0.5185235257752148}. Best is trial 41 with value: 4.528657059366511.\n",
      "[I 2025-08-15 13:21:55,990] Trial 45 finished with value: 7.259640158512348 and parameters: {'n_estimators': 187, 'learning_rate': 0.15009938466430103, 'max_depth': 1, 'subsample': 0.561277859509078, 'colsample_bytree': 0.9933429412594003, 'gamma': 4.262846680821212, 'reg_alpha': 0.9931568096717233, 'reg_lambda': 1.5616116742050652}. Best is trial 41 with value: 4.528657059366511.\n",
      "[I 2025-08-15 13:21:56,377] Trial 46 finished with value: 6.181710452987926 and parameters: {'n_estimators': 180, 'learning_rate': 0.29808248243043123, 'max_depth': 3, 'subsample': 0.5210801297536112, 'colsample_bytree': 0.9049100349924659, 'gamma': 4.663354374096213, 'reg_alpha': 0.8752904494576794, 'reg_lambda': 0.18589720999105053}. Best is trial 41 with value: 4.528657059366511.\n",
      "[I 2025-08-15 13:21:56,686] Trial 47 finished with value: 4.513941515863626 and parameters: {'n_estimators': 192, 'learning_rate': 0.11029408776376665, 'max_depth': 2, 'subsample': 0.5824395415745842, 'colsample_bytree': 0.9350864687527309, 'gamma': 4.418959846540869, 'reg_alpha': 0.7118162341642207, 'reg_lambda': 0.7952216613458631}. Best is trial 47 with value: 4.513941515863626.\n",
      "[I 2025-08-15 13:21:57,052] Trial 48 finished with value: 5.214243214578903 and parameters: {'n_estimators': 193, 'learning_rate': 0.116348799013836, 'max_depth': 2, 'subsample': 0.6392946855536569, 'colsample_bytree': 0.9974982631287144, 'gamma': 4.970948122238221, 'reg_alpha': 0.7326200853737171, 'reg_lambda': 0.7183312524819222}. Best is trial 47 with value: 4.513941515863626.\n",
      "[I 2025-08-15 13:21:57,375] Trial 49 finished with value: 4.55546538787285 and parameters: {'n_estimators': 170, 'learning_rate': 0.10475391994510229, 'max_depth': 2, 'subsample': 0.5863053443093625, 'colsample_bytree': 0.9357129682574186, 'gamma': 3.9998549349734707, 'reg_alpha': 0.8266548870564847, 'reg_lambda': 3.2509124651127674}. Best is trial 47 with value: 4.513941515863626.\n",
      "[I 2025-08-15 13:21:57,739] Trial 50 finished with value: 6.988977731111466 and parameters: {'n_estimators': 172, 'learning_rate': 0.10072349933287957, 'max_depth': 1, 'subsample': 0.7924566165753285, 'colsample_bytree': 0.9763397836359525, 'gamma': 3.5419813232218393, 'reg_alpha': 0.8351003514836702, 'reg_lambda': 3.3778972476712994}. Best is trial 47 with value: 4.513941515863626.\n",
      "[I 2025-08-15 13:21:58,235] Trial 51 finished with value: 4.799341958104537 and parameters: {'n_estimators': 182, 'learning_rate': 0.104491913686692, 'max_depth': 2, 'subsample': 0.5889067353977196, 'colsample_bytree': 0.9402164518051721, 'gamma': 4.328783231119416, 'reg_alpha': 0.9218112051978138, 'reg_lambda': 0.9918759130554233}. Best is trial 47 with value: 4.513941515863626.\n",
      "[I 2025-08-15 13:21:58,607] Trial 52 finished with value: 4.788849712652958 and parameters: {'n_estimators': 192, 'learning_rate': 0.15294307130226892, 'max_depth': 2, 'subsample': 0.5237846132526612, 'colsample_bytree': 0.9397330062251431, 'gamma': 3.977560317972275, 'reg_alpha': 0.7391423547493262, 'reg_lambda': 2.2775120321685725}. Best is trial 47 with value: 4.513941515863626.\n",
      "[I 2025-08-15 13:21:58,919] Trial 53 finished with value: 7.4682067980636875 and parameters: {'n_estimators': 166, 'learning_rate': 0.12208492686075531, 'max_depth': 1, 'subsample': 0.5852817278197628, 'colsample_bytree': 0.913788651105333, 'gamma': 4.7416805420689805, 'reg_alpha': 0.8168668404492165, 'reg_lambda': 0.6109872335607276}. Best is trial 47 with value: 4.513941515863626.\n",
      "[I 2025-08-15 13:21:59,674] Trial 54 finished with value: 4.705410761568231 and parameters: {'n_estimators': 200, 'learning_rate': 0.08157416041925172, 'max_depth': 2, 'subsample': 0.5555895863660487, 'colsample_bytree': 0.9765853249189714, 'gamma': 4.517379663604113, 'reg_alpha': 0.6817074813008477, 'reg_lambda': 1.2119966543099834}. Best is trial 47 with value: 4.513941515863626.\n",
      "[I 2025-08-15 13:22:00,156] Trial 55 finished with value: 4.638499047376917 and parameters: {'n_estimators': 173, 'learning_rate': 0.05930013251137728, 'max_depth': 3, 'subsample': 0.6445611261630493, 'colsample_bytree': 0.9005258528919425, 'gamma': 4.132322595531674, 'reg_alpha': 0.9137167994620882, 'reg_lambda': 3.0527317239725065}. Best is trial 47 with value: 4.513941515863626.\n",
      "[I 2025-08-15 13:22:00,543] Trial 56 finished with value: 4.977765823161075 and parameters: {'n_estimators': 190, 'learning_rate': 0.1009968497015289, 'max_depth': 2, 'subsample': 0.509762266006386, 'colsample_bytree': 0.9518735807982387, 'gamma': 3.909072699689861, 'reg_alpha': 0.7725431315924577, 'reg_lambda': 2.112257264607667}. Best is trial 47 with value: 4.513941515863626.\n",
      "[I 2025-08-15 13:22:00,939] Trial 57 finished with value: 4.722504790834268 and parameters: {'n_estimators': 167, 'learning_rate': 0.12541452029037847, 'max_depth': 2, 'subsample': 0.5330579048797319, 'colsample_bytree': 0.9292030658400764, 'gamma': 4.800859929307919, 'reg_alpha': 0.7005868631305021, 'reg_lambda': 5.676390681844176}. Best is trial 47 with value: 4.513941515863626.\n",
      "[I 2025-08-15 13:22:01,478] Trial 58 finished with value: 4.8594879664397 and parameters: {'n_estimators': 181, 'learning_rate': 0.14493769336744455, 'max_depth': 3, 'subsample': 0.5727804772458933, 'colsample_bytree': 0.8653219494267156, 'gamma': 3.4410771269205767, 'reg_alpha': 0.8425494132496271, 'reg_lambda': 1.3714202152081012}. Best is trial 47 with value: 4.513941515863626.\n",
      "[I 2025-08-15 13:22:01,755] Trial 59 finished with value: 8.25119986134498 and parameters: {'n_estimators': 177, 'learning_rate': 0.1614171087527389, 'max_depth': 1, 'subsample': 0.6716435706760857, 'colsample_bytree': 0.9828323398922746, 'gamma': 4.544921268027143, 'reg_alpha': 0.9490319579034525, 'reg_lambda': 0.8076651970860212}. Best is trial 47 with value: 4.513941515863626.\n",
      "[I 2025-08-15 13:22:02,065] Trial 60 finished with value: 5.852423378047626 and parameters: {'n_estimators': 186, 'learning_rate': 0.04778487136243697, 'max_depth': 2, 'subsample': 0.6324710050141455, 'colsample_bytree': 0.8159645029022812, 'gamma': 0.16377256517768624, 'reg_alpha': 0.8702251367446582, 'reg_lambda': 0.39067112345243127}. Best is trial 47 with value: 4.513941515863626.\n",
      "[I 2025-08-15 13:22:02,431] Trial 61 finished with value: 4.605642688766343 and parameters: {'n_estimators': 147, 'learning_rate': 0.09669799004404296, 'max_depth': 3, 'subsample': 0.5572972371861112, 'colsample_bytree': 0.879721862123005, 'gamma': 4.372919284980188, 'reg_alpha': 0.6189599835077806, 'reg_lambda': 1.5301939036778807}. Best is trial 47 with value: 4.513941515863626.\n",
      "[I 2025-08-15 13:22:02,858] Trial 62 finished with value: 4.5943301044674385 and parameters: {'n_estimators': 159, 'learning_rate': 0.08466472105378277, 'max_depth': 3, 'subsample': 0.5931475561602562, 'colsample_bytree': 0.9198383047021867, 'gamma': 4.216066115119961, 'reg_alpha': 0.5747793479819542, 'reg_lambda': 0.19552607649558396}. Best is trial 47 with value: 4.513941515863626.\n",
      "[I 2025-08-15 13:22:03,253] Trial 63 finished with value: 4.617805419759052 and parameters: {'n_estimators': 154, 'learning_rate': 0.06480756267841414, 'max_depth': 3, 'subsample': 0.8856830622029623, 'colsample_bytree': 0.9461314808570445, 'gamma': 4.626487976262026, 'reg_alpha': 0.700421569438362, 'reg_lambda': 1.3581925838224}. Best is trial 47 with value: 4.513941515863626.\n",
      "[I 2025-08-15 13:22:03,606] Trial 64 finished with value: 4.627341552484679 and parameters: {'n_estimators': 168, 'learning_rate': 0.10794439548430847, 'max_depth': 2, 'subsample': 0.5696629640978219, 'colsample_bytree': 0.8946781711128007, 'gamma': 4.390695272616085, 'reg_alpha': 0.7595195268211475, 'reg_lambda': 1.872723468433895}. Best is trial 47 with value: 4.513941515863626.\n",
      "[I 2025-08-15 13:22:03,971] Trial 65 finished with value: 4.626817224751933 and parameters: {'n_estimators': 197, 'learning_rate': 0.0800536185982771, 'max_depth': 3, 'subsample': 0.5386800319751148, 'colsample_bytree': 0.9667910379261873, 'gamma': 4.845299999306547, 'reg_alpha': 0.6631360105828917, 'reg_lambda': 4.0267806007594595}. Best is trial 47 with value: 4.513941515863626.\n",
      "[I 2025-08-15 13:22:04,280] Trial 66 finished with value: 4.709271621583523 and parameters: {'n_estimators': 181, 'learning_rate': 0.08962995666601473, 'max_depth': 2, 'subsample': 0.6015932730141177, 'colsample_bytree': 0.9326949784811547, 'gamma': 3.895274532889954, 'reg_alpha': 0.726454943015522, 'reg_lambda': 0.8034819862085347}. Best is trial 47 with value: 4.513941515863626.\n",
      "[I 2025-08-15 13:22:04,563] Trial 67 finished with value: 7.428749079222324 and parameters: {'n_estimators': 190, 'learning_rate': 0.12251826820017755, 'max_depth': 1, 'subsample': 0.6187774835129533, 'colsample_bytree': 0.8530620421834002, 'gamma': 4.076907993909625, 'reg_alpha': 0.808962201928648, 'reg_lambda': 1.3471458283559503}. Best is trial 47 with value: 4.513941515863626.\n",
      "[I 2025-08-15 13:22:04,920] Trial 68 finished with value: 4.63051006093655 and parameters: {'n_estimators': 173, 'learning_rate': 0.18121090037867651, 'max_depth': 3, 'subsample': 0.5130504249504411, 'colsample_bytree': 0.9989822586993751, 'gamma': 3.680156443278255, 'reg_alpha': 0.9024345353143967, 'reg_lambda': 2.3771547727312026}. Best is trial 47 with value: 4.513941515863626.\n",
      "[I 2025-08-15 13:22:05,341] Trial 69 finished with value: 4.557907564815468 and parameters: {'n_estimators': 194, 'learning_rate': 0.13056409846365488, 'max_depth': 2, 'subsample': 0.5499683461000533, 'colsample_bytree': 0.9578248330398001, 'gamma': 0.5829982067289978, 'reg_alpha': 0.642710659374824, 'reg_lambda': 0.9482977435612332}. Best is trial 47 with value: 4.513941515863626.\n",
      "[I 2025-08-15 13:22:05,765] Trial 70 finished with value: 5.733910241836287 and parameters: {'n_estimators': 196, 'learning_rate': 0.1320490852955842, 'max_depth': 2, 'subsample': 0.5466574184849009, 'colsample_bytree': 0.6278021986173051, 'gamma': 0.4992588180625255, 'reg_alpha': 0.8497389951759785, 'reg_lambda': 1.0051922312080481}. Best is trial 47 with value: 4.513941515863626.\n",
      "[I 2025-08-15 13:22:06,112] Trial 71 finished with value: 4.64532948091568 and parameters: {'n_estimators': 133, 'learning_rate': 0.14163382387508366, 'max_depth': 2, 'subsample': 0.5814190595168764, 'colsample_bytree': 0.9489646229713659, 'gamma': 1.2470668826470517, 'reg_alpha': 0.6040235003951565, 'reg_lambda': 0.6636787485964044}. Best is trial 47 with value: 4.513941515863626.\n",
      "[I 2025-08-15 13:22:06,457] Trial 72 finished with value: 4.559511752379367 and parameters: {'n_estimators': 184, 'learning_rate': 0.11383730635072041, 'max_depth': 3, 'subsample': 0.5599844207701727, 'colsample_bytree': 0.9605815499616694, 'gamma': 0.843551230161844, 'reg_alpha': 0.6424122673752921, 'reg_lambda': 1.6986726443121447}. Best is trial 47 with value: 4.513941515863626.\n",
      "[I 2025-08-15 13:22:06,818] Trial 73 finished with value: 4.795840858738841 and parameters: {'n_estimators': 184, 'learning_rate': 0.10890042255185761, 'max_depth': 3, 'subsample': 0.5340586232412552, 'colsample_bytree': 0.9625897451758048, 'gamma': 0.13753221334078247, 'reg_alpha': 0.7618293958577904, 'reg_lambda': 0.38333678955236616}. Best is trial 47 with value: 4.513941515863626.\n",
      "[I 2025-08-15 13:22:07,186] Trial 74 finished with value: 4.625151236115961 and parameters: {'n_estimators': 190, 'learning_rate': 0.1165543005195024, 'max_depth': 2, 'subsample': 0.5544718971389525, 'colsample_bytree': 0.9720886186032837, 'gamma': 1.9642953023107228, 'reg_alpha': 0.6440815380222383, 'reg_lambda': 2.6795395108066815}. Best is trial 47 with value: 4.513941515863626.\n",
      "[I 2025-08-15 13:22:07,518] Trial 75 finished with value: 7.378495662499304 and parameters: {'n_estimators': 177, 'learning_rate': 0.0950505397470878, 'max_depth': 1, 'subsample': 0.5770527261477925, 'colsample_bytree': 0.9884956987057041, 'gamma': 0.5984152354188217, 'reg_alpha': 0.559241186014818, 'reg_lambda': 1.7844612402128857}. Best is trial 47 with value: 4.513941515863626.\n",
      "[I 2025-08-15 13:22:07,878] Trial 76 finished with value: 4.65574822129239 and parameters: {'n_estimators': 195, 'learning_rate': 0.1289242505237554, 'max_depth': 2, 'subsample': 0.5141679414882883, 'colsample_bytree': 0.9162653529873886, 'gamma': 0.945619124870481, 'reg_alpha': 0.7072898026338399, 'reg_lambda': 0.9268948346316477}. Best is trial 47 with value: 4.513941515863626.\n",
      "[I 2025-08-15 13:22:08,312] Trial 77 finished with value: 4.777672491900458 and parameters: {'n_estimators': 189, 'learning_rate': 0.11767290260010568, 'max_depth': 4, 'subsample': 0.6015080044505379, 'colsample_bytree': 0.9564433689051048, 'gamma': 0.8547052715576662, 'reg_alpha': 0.8166314560893597, 'reg_lambda': 1.299204371256866}. Best is trial 47 with value: 4.513941515863626.\n",
      "[I 2025-08-15 13:22:08,773] Trial 78 finished with value: 5.475967734840556 and parameters: {'n_estimators': 179, 'learning_rate': 0.13705189620459524, 'max_depth': 3, 'subsample': 0.53075187011957, 'colsample_bytree': 0.9826679006107575, 'gamma': 0.332313313321166, 'reg_alpha': 0.6677659555878719, 'reg_lambda': 0.20689991376529004}. Best is trial 47 with value: 4.513941515863626.\n",
      "[I 2025-08-15 13:22:09,085] Trial 79 finished with value: 4.649109081241979 and parameters: {'n_estimators': 200, 'learning_rate': 0.06640119969044543, 'max_depth': 2, 'subsample': 0.5481425030941084, 'colsample_bytree': 0.7370898176529673, 'gamma': 0.6508890147899368, 'reg_alpha': 0.7772231960326335, 'reg_lambda': 0.5836475344757973}. Best is trial 47 with value: 4.513941515863626.\n",
      "[I 2025-08-15 13:22:09,424] Trial 80 finished with value: 4.572468360865483 and parameters: {'n_estimators': 184, 'learning_rate': 0.07737216920586351, 'max_depth': 3, 'subsample': 0.5017430372040158, 'colsample_bytree': 0.9356800954816358, 'gamma': 1.6559508876634723, 'reg_alpha': 0.9466930622936802, 'reg_lambda': 1.865247895696883}. Best is trial 47 with value: 4.513941515863626.\n",
      "[I 2025-08-15 13:22:09,966] Trial 81 finished with value: 4.593580624359962 and parameters: {'n_estimators': 185, 'learning_rate': 0.07719658073682296, 'max_depth': 3, 'subsample': 0.5118282952709758, 'colsample_bytree': 0.9418305339781681, 'gamma': 1.6692572520607771, 'reg_alpha': 0.9904288615760674, 'reg_lambda': 2.075550024433897}. Best is trial 47 with value: 4.513941515863626.\n",
      "[I 2025-08-15 13:22:10,611] Trial 82 finished with value: 4.6288496026014645 and parameters: {'n_estimators': 193, 'learning_rate': 0.05192674966365258, 'max_depth': 3, 'subsample': 0.5723398382026716, 'colsample_bytree': 0.9593621503276512, 'gamma': 2.2968686072585918, 'reg_alpha': 0.879786251604892, 'reg_lambda': 1.04853750159111}. Best is trial 47 with value: 4.513941515863626.\n",
      "[I 2025-08-15 13:22:11,076] Trial 83 finished with value: 4.755326370182132 and parameters: {'n_estimators': 171, 'learning_rate': 0.10650602594513661, 'max_depth': 3, 'subsample': 0.5396337901930517, 'colsample_bytree': 0.9352118227062957, 'gamma': 1.0106986412672745, 'reg_alpha': 0.7976927462775759, 'reg_lambda': 1.8026364900439211}. Best is trial 47 with value: 4.513941515863626.\n",
      "[I 2025-08-15 13:22:11,392] Trial 84 finished with value: 4.623515343600658 and parameters: {'n_estimators': 163, 'learning_rate': 0.09176666508629987, 'max_depth': 2, 'subsample': 0.5257076832494073, 'colsample_bytree': 0.9217936522434828, 'gamma': 1.127846211296343, 'reg_alpha': 0.9489580922945549, 'reg_lambda': 1.5414582082355999}. Best is trial 47 with value: 4.513941515863626.\n",
      "[I 2025-08-15 13:22:11,739] Trial 85 finished with value: 4.743023411974169 and parameters: {'n_estimators': 183, 'learning_rate': 0.09700757614475136, 'max_depth': 3, 'subsample': 0.5646607060646452, 'colsample_bytree': 0.9507275148020196, 'gamma': 1.5334694099393682, 'reg_alpha': 0.976469552212624, 'reg_lambda': 1.123423273488141}. Best is trial 47 with value: 4.513941515863626.\n",
      "[I 2025-08-15 13:22:12,152] Trial 86 finished with value: 4.9938982369246405 and parameters: {'n_estimators': 175, 'learning_rate': 0.11402449070704562, 'max_depth': 4, 'subsample': 0.6115454050554634, 'colsample_bytree': 0.9076567068566217, 'gamma': 0.43764054729083385, 'reg_alpha': 0.9261628299931628, 'reg_lambda': 0.11346149864318567}. Best is trial 47 with value: 4.513941515863626.\n",
      "[I 2025-08-15 13:22:12,454] Trial 87 finished with value: 5.387687764233803 and parameters: {'n_estimators': 187, 'learning_rate': 0.02993816827874174, 'max_depth': 2, 'subsample': 0.5937574296534107, 'colsample_bytree': 0.9688698864068284, 'gamma': 0.034840847218108095, 'reg_alpha': 0.721420377850173, 'reg_lambda': 0.4324814360632799}. Best is trial 47 with value: 4.513941515863626.\n",
      "[I 2025-08-15 13:22:13,250] Trial 88 finished with value: 4.614657078328762 and parameters: {'n_estimators': 197, 'learning_rate': 0.07767033834470675, 'max_depth': 3, 'subsample': 0.5077067394173852, 'colsample_bytree': 0.9802052502980775, 'gamma': 4.896691982882764, 'reg_alpha': 0.7534966281108998, 'reg_lambda': 3.2563754713541835}. Best is trial 47 with value: 4.513941515863626.\n",
      "[I 2025-08-15 13:22:14,402] Trial 89 finished with value: 4.670311351451015 and parameters: {'n_estimators': 192, 'learning_rate': 0.07017394172882208, 'max_depth': 4, 'subsample': 0.7813643753556097, 'colsample_bytree': 0.9901057552012197, 'gamma': 0.8157864590771957, 'reg_alpha': 0.8406445147355087, 'reg_lambda': 2.549461044357458}. Best is trial 47 with value: 4.513941515863626.\n",
      "[I 2025-08-15 13:22:14,794] Trial 90 finished with value: 4.654356699318175 and parameters: {'n_estimators': 180, 'learning_rate': 0.23250147654989112, 'max_depth': 2, 'subsample': 0.9358090552100548, 'colsample_bytree': 0.7821892990650479, 'gamma': 2.6201734643182224, 'reg_alpha': 0.6402735864247048, 'reg_lambda': 0.7862421649669561}. Best is trial 47 with value: 4.513941515863626.\n",
      "[I 2025-08-15 13:22:15,200] Trial 91 finished with value: 4.769553774045225 and parameters: {'n_estimators': 150, 'learning_rate': 0.0890535450840765, 'max_depth': 3, 'subsample': 0.5609468314814645, 'colsample_bytree': 0.9299263091719052, 'gamma': 4.271549890794699, 'reg_alpha': 0.489965721740238, 'reg_lambda': 2.144057326501631}. Best is trial 47 with value: 4.513941515863626.\n",
      "[I 2025-08-15 13:22:15,609] Trial 92 finished with value: 5.84708777331551 and parameters: {'n_estimators': 169, 'learning_rate': 0.10295676929527994, 'max_depth': 3, 'subsample': 0.5017783454185072, 'colsample_bytree': 0.8876474789103981, 'gamma': 4.614677666137148, 'reg_alpha': 0.5879820620246838, 'reg_lambda': 1.5304945265616032}. Best is trial 47 with value: 4.513941515863626.\n",
      "[I 2025-08-15 13:22:16,093] Trial 93 finished with value: 4.712533557316498 and parameters: {'n_estimators': 184, 'learning_rate': 0.0811888715619941, 'max_depth': 3, 'subsample': 0.5526477388168765, 'colsample_bytree': 0.9446723246002929, 'gamma': 4.538328110792274, 'reg_alpha': 0.5292123190506689, 'reg_lambda': 1.2707062327933611}. Best is trial 47 with value: 4.513941515863626.\n",
      "[I 2025-08-15 13:22:16,448] Trial 94 finished with value: 4.656934657771493 and parameters: {'n_estimators': 141, 'learning_rate': 0.12693183837117208, 'max_depth': 3, 'subsample': 0.5829452538323011, 'colsample_bytree': 0.873817439334205, 'gamma': 4.437786003780143, 'reg_alpha': 0.6790859273998441, 'reg_lambda': 4.892017990866344}. Best is trial 47 with value: 4.513941515863626.\n",
      "[I 2025-08-15 13:22:16,880] Trial 95 finished with value: 4.6643029018893545 and parameters: {'n_estimators': 175, 'learning_rate': 0.11166481548332546, 'max_depth': 3, 'subsample': 0.521453718876758, 'colsample_bytree': 0.9630568948239736, 'gamma': 4.162866065739635, 'reg_alpha': 0.6153167650992903, 'reg_lambda': 0.5816603250493976}. Best is trial 47 with value: 4.513941515863626.\n",
      "[I 2025-08-15 13:22:17,338] Trial 96 finished with value: 4.858283301179315 and parameters: {'n_estimators': 165, 'learning_rate': 0.09672406254983638, 'max_depth': 2, 'subsample': 0.6272252693825913, 'colsample_bytree': 0.8963659929739287, 'gamma': 4.009288062567291, 'reg_alpha': 0.891007329158961, 'reg_lambda': 1.659278782817568}. Best is trial 47 with value: 4.513941515863626.\n",
      "[I 2025-08-15 13:22:17,645] Trial 97 finished with value: 7.409702936144762 and parameters: {'n_estimators': 187, 'learning_rate': 0.0632103399325102, 'max_depth': 1, 'subsample': 0.5442737184348007, 'colsample_bytree': 0.9162626122800683, 'gamma': 2.9353786648889386, 'reg_alpha': 0.9388140373770196, 'reg_lambda': 0.9115293986631606}. Best is trial 47 with value: 4.513941515863626.\n",
      "[I 2025-08-15 13:22:17,984] Trial 98 finished with value: 4.6651116529458045 and parameters: {'n_estimators': 178, 'learning_rate': 0.1470732933188685, 'max_depth': 2, 'subsample': 0.5626433367954783, 'colsample_bytree': 0.9540089529557468, 'gamma': 3.8020252770883345, 'reg_alpha': 0.7368114583702674, 'reg_lambda': 1.4301919681116764}. Best is trial 47 with value: 4.513941515863626.\n",
      "[I 2025-08-15 13:22:18,410] Trial 99 finished with value: 4.666088636470346 and parameters: {'n_estimators': 158, 'learning_rate': 0.12007010427963188, 'max_depth': 3, 'subsample': 0.580779174037244, 'colsample_bytree': 0.9254367681718979, 'gamma': 4.741955449662272, 'reg_alpha': 0.8263296350406355, 'reg_lambda': 1.9843987913577639}. Best is trial 47 with value: 4.513941515863626.\n"
     ]
    },
    {
     "name": "stdout",
     "output_type": "stream",
     "text": [
      "Best trial params: {'n_estimators': 192, 'learning_rate': 0.11029408776376665, 'max_depth': 2, 'subsample': 0.5824395415745842, 'colsample_bytree': 0.9350864687527309, 'gamma': 4.418959846540869, 'reg_alpha': 0.7118162341642207, 'reg_lambda': 0.7952216613458631}\n",
      "Best trial RMSE: 4.5139\n",
      "2023 RMSE: 5.97\n",
      "2023 R²: 0.848\n"
     ]
    },
    {
     "data": {
      "application/vnd.plotly.v1+json": {
       "config": {
        "plotlyServerURL": "https://plot.ly"
       },
       "data": [
        {
         "customdata": [
          [
           "Eldin Jakupovic",
           38
          ],
          [
           "James Milner",
           37
          ],
          [
           "Óscar Ustari",
           36
          ],
          [
           "Gabriel Tamas",
           39
          ],
          [
           "Cristiano Ronaldo",
           38
          ],
          [
           "Shaun MacDonald",
           34
          ],
          [
           "Phil Jagielka",
           40
          ],
          [
           "Andy Lonergan",
           39
          ],
          [
           "Ashley Young",
           37
          ],
          [
           "Scott Carson",
           37
          ],
          [
           "Phil Bardsley",
           37
          ],
          [
           "David Martin",
           37
          ],
          [
           "Casemiro",
           31
          ],
          [
           "Hugo Lloris",
           36
          ],
          [
           "Curtis Davies",
           38
          ],
          [
           "Willy Caballero",
           41
          ],
          [
           "Fernandinho",
           37
          ],
          [
           "Nenê",
           41
          ],
          [
           "Thiago Silva",
           38
          ],
          [
           "Lukasz Fabianski",
           38
          ],
          [
           "John Ruddy",
           36
          ],
          [
           "Chu-young Park",
           37
          ],
          [
           "Dusan Kuciak",
           38
          ],
          [
           "Tim Krul",
           35
          ],
          [
           "Lukas Jutkiewicz",
           34
          ],
          [
           "Theo Walcott",
           34
          ],
          [
           "Alex Smithies",
           33
          ],
          [
           "Asmir Begovic",
           36
          ],
          [
           "Tom Heaton",
           37
          ],
          [
           "Richard Stearman",
           35
          ],
          [
           "Lewis Grabban",
           35
          ],
          [
           "David McGoldrick",
           35
          ],
          [
           "Gaëtan Bong",
           35
          ],
          [
           "Leon Clarke",
           38
          ],
          [
           "Shane Long",
           36
          ],
          [
           "Kamil Grosicki",
           35
          ],
          [
           "Martin Olsson",
           35
          ],
          [
           "Lee Peltier",
           36
          ],
          [
           "Adrian Mariappa",
           36
          ],
          [
           "Kei Kamara",
           38
          ],
          [
           "Mario Vrancic",
           33
          ],
          [
           "Jozy Altidore",
           33
          ],
          [
           "Brad Guzan",
           38
          ],
          [
           "Marouane Fellaini",
           35
          ],
          [
           "Ryan Bertrand",
           33
          ],
          [
           "Liam Bridcutt",
           34
          ],
          [
           "Jack Cork",
           33
          ],
          [
           "James McArthur",
           35
          ],
          [
           "Sone Aluko",
           34
          ],
          [
           "Fraizer Campbell",
           35
          ],
          [
           "Jonny Evans",
           35
          ],
          [
           "Gary Hooper",
           34
          ],
          [
           "Gaetano Berardi",
           34
          ],
          [
           "Elliott Bennett",
           34
          ],
          [
           "Stephen Quinn",
           37
          ],
          [
           "Adam Lallana",
           35
          ],
          [
           "Erik Pieters",
           34
          ],
          [
           "Chris Gunter",
           33
          ],
          [
           "Bojan Krkic",
           32
          ],
          [
           "Beram Kayal",
           35
          ],
          [
           "Diego Costa",
           34
          ],
          [
           "Henri Lansbury",
           32
          ],
          [
           "Dan Gosling",
           33
          ],
          [
           "Claudio Yacob",
           35
          ],
          [
           "Jonathan Howson",
           35
          ],
          [
           "Wayne Hennessey",
           36
          ],
          [
           "Marco Stiepermann",
           32
          ],
          [
           "Fabri",
           35
          ],
          [
           "Luke Daniels",
           35
          ],
          [
           "Chris Martin",
           34
          ],
          [
           "Pablo Hernández",
           38
          ],
          [
           "Lovre Kalinic",
           33
          ],
          [
           "David Luiz",
           35
          ],
          [
           "Teemu Pukki",
           33
          ],
          [
           "Alex Pearce",
           34
          ],
          [
           "Jason Puncheon",
           36
          ],
          [
           "Angelo Ogbonna",
           35
          ],
          [
           "Andy Carroll",
           34
          ],
          [
           "Sam Vokes",
           33
          ],
          [
           "Jordan Rhodes",
           33
          ],
          [
           "Bradley Johnson",
           35
          ],
          [
           "James Perch",
           37
          ],
          [
           "Elias Kachunga",
           30
          ],
          [
           "Billy Sharp",
           37
          ],
          [
           "Andreas Weimann",
           31
          ],
          [
           "Danny Rose",
           32
          ],
          [
           "Christian Benteke",
           32
          ],
          [
           "Chicharito",
           35
          ],
          [
           "Aleksandar Mitrović",
           28
          ],
          [
           "Carlos Sánchez",
           37
          ],
          [
           "Darren Randolph",
           36
          ],
          [
           "Joe Allen",
           33
          ],
          [
           "Mateo Kovacic",
           29
          ],
          [
           "Henri Saivet",
           32
          ],
          [
           "Wellington Paulista",
           39
          ],
          [
           "Zanka",
           33
          ],
          [
           "Chris Basham",
           34
          ],
          [
           "Fraser Forster",
           35
          ],
          [
           "Willian",
           34
          ],
          [
           "Jay Rodríguez",
           33
          ],
          [
           "İlkay Gündoğan",
           32
          ],
          [
           "John Fleck",
           31
          ],
          [
           "Sebastián Blanco",
           35
          ],
          [
           "Magnus Wolff Eikrem",
           32
          ],
          [
           "Chris Löwe",
           34
          ],
          [
           "Harry Arter",
           33
          ],
          [
           "Jack Rodwell",
           32
          ],
          [
           "Jordon Mutch",
           31
          ],
          [
           "Simon Dawkins",
           35
          ],
          [
           "Christopher Schindler",
           33
          ],
          [
           "Emilio Nsue",
           33
          ],
          [
           "Craig Cathcart",
           34
          ],
          [
           "Thiago Alcántara",
           32
          ],
          [
           "Sean Scannell",
           32
          ],
          [
           "Marc Albrighton",
           33
          ],
          [
           "Barry Bannan",
           33
          ],
          [
           "Jonathan Hogg",
           34
          ],
          [
           "James Tomkins",
           34
          ],
          [
           "Jack Colback",
           33
          ],
          [
           "Conor Hourihane",
           32
          ],
          [
           "Neil Etheridge",
           33
          ],
          [
           "Wes Foderingham",
           32
          ],
          [
           "David Button",
           34
          ],
          [
           "Jake Livermore",
           33
          ],
          [
           "Adam Smith",
           32
          ],
          [
           "Stefan Johansen",
           32
          ],
          [
           "Shane Ferguson",
           31
          ],
          [
           "Vegard Forren",
           35
          ],
          [
           "Odion Ighalo",
           34
          ],
          [
           "Scott Dann",
           36
          ],
          [
           "Tomás Mejías",
           34
          ],
          [
           "Ashley Barnes",
           33
          ],
          [
           "Aron Gunnarsson",
           34
          ],
          [
           "Libor Kozak",
           34
          ],
          [
           "Troy Deeney",
           34
          ],
          [
           "Kyle Naughton",
           34
          ],
          [
           "Luke Freeman",
           31
          ],
          [
           "Cheikhou Kouyaté",
           33
          ],
          [
           "Gary Madine",
           32
          ],
          [
           "Danny Welbeck",
           32
          ],
          [
           "Sam Baldock",
           34
          ],
          [
           "Mark Oxley",
           32
          ],
          [
           "Ryan Bennett",
           33
          ],
          [
           "Ben Hamer",
           35
          ],
          [
           "David Stockdale",
           37
          ],
          [
           "Luke Ayling",
           31
          ],
          [
           "Kyle Bartley",
           32
          ],
          [
           "Michal Zyro",
           30
          ],
          [
           "Séamus Coleman",
           34
          ],
          [
           "Giedrius Arlauskis",
           35
          ],
          [
           "Christian Eriksen",
           31
          ],
          [
           "Garath McCleary",
           35
          ],
          [
           "Róger Espinoza",
           36
          ],
          [
           "Bernd Leno",
           31
          ],
          [
           "Adam Clayton",
           34
          ],
          [
           "Ben Amos",
           33
          ],
          [
           "James Chester",
           34
          ],
          [
           "Tom Cleverley",
           33
          ],
          [
           "Danny Drinkwater",
           33
          ],
          [
           "Matty James",
           31
          ],
          [
           "Oliver Norwood",
           32
          ],
          [
           "Jason Steele",
           32
          ],
          [
           "Pablo Sarabia",
           30
          ],
          [
           "Luka Milivojevic",
           32
          ],
          [
           "Adlène Guédioura",
           37
          ],
          [
           "Ben Mee",
           33
          ],
          [
           "Juraj Kucka",
           36
          ],
          [
           "Martin Dúbravka",
           34
          ],
          [
           "Liam Cooper",
           31
          ],
          [
           "Robin Olsen",
           33
          ],
          [
           "Niclas Füllkrug",
           30
          ],
          [
           "Lucas Moura",
           30
          ],
          [
           "Matt Phillips",
           32
          ],
          [
           "George Friend",
           35
          ],
          [
           "Thomas Kaminski",
           30
          ],
          [
           "Victor Wanyama",
           32
          ],
          [
           "Martin Kelly",
           33
          ],
          [
           "Daniel Ayala",
           32
          ],
          [
           "Sean Morrison",
           32
          ],
          [
           "Salomón Rondón",
           33
          ],
          [
           "Korey Smith",
           32
          ],
          [
           "Philippe Coutinho",
           30
          ],
          [
           "Craig Noone",
           35
          ],
          [
           "Tadanari Lee",
           37
          ],
          [
           "Sung-yueng Ki",
           34
          ],
          [
           "Chung-yong Lee",
           34
          ],
          [
           "Joel Matip",
           31
          ],
          [
           "Moritz Leitner",
           30
          ],
          [
           "Albert Adomah",
           35
          ],
          [
           "Nathaniel Clyne",
           32
          ],
          [
           "Oscar",
           31
          ],
          [
           "Borja Bastón",
           30
          ],
          [
           "Federico Fernández",
           34
          ],
          [
           "Enda Stevens",
           32
          ],
          [
           "Loris Karius",
           30
          ],
          [
           "Danny Lafferty",
           34
          ],
          [
           "James McClean",
           34
          ],
          [
           "Stefan Ortega",
           30
          ],
          [
           "Thomas Eisfeld",
           30
          ],
          [
           "Valentin Roberge",
           35
          ],
          [
           "Junior Stanislas",
           33
          ],
          [
           "Luca Scapuzzi",
           32
          ],
          [
           "Kevin De Bruyne",
           32
          ],
          [
           "Jonathan Kodjia",
           33
          ],
          [
           "Jóhann Berg Gudmundsson",
           32
          ],
          [
           "David Cornell",
           32
          ],
          [
           "Román Golobart",
           30
          ],
          [
           "Steve Cook",
           32
          ],
          [
           "Joe Bennett",
           33
          ],
          [
           "John Brayford",
           35
          ],
          [
           "Ashley Westwood",
           33
          ],
          [
           "James Shea",
           31
          ],
          [
           "Heung-min Son",
           30
          ],
          [
           "Sammy Ameobi",
           30
          ],
          [
           "Matt Ritchie",
           33
          ],
          [
           "Aaron Cresswell",
           33
          ],
          [
           "Joel Ward",
           33
          ],
          [
           "Mateusz Klich",
           33
          ],
          [
           "Kalidou Koulibaly",
           31
          ],
          [
           "Adama Diomande",
           33
          ],
          [
           "Marcos Rojo",
           33
          ],
          [
           "Stuart O'Keefe",
           32
          ],
          [
           "Muhamed Besic",
           30
          ],
          [
           "Jordan Bowery",
           31
          ],
          [
           "Connor Wickham",
           30
          ],
          [
           "Kieran Trippier",
           32
          ],
          [
           "Alex McCarthy",
           33
          ],
          [
           "Ciaran Clark",
           33
          ],
          [
           "Jannik Vestergaard",
           30
          ],
          [
           "Karl Darlow",
           32
          ],
          [
           "Matej Vydra",
           31
          ],
          [
           "Scott Malone",
           32
          ],
          [
           "Jorginho",
           31
          ],
          [
           "Matthew Lowton",
           34
          ],
          [
           "Michail Antonio",
           33
          ],
          [
           "Lyle Taylor",
           33
          ],
          [
           "Filip Orsula",
           30
          ],
          [
           "Alisson",
           30
          ],
          [
           "Jordan Ayew",
           31
          ],
          [
           "Chris Wood",
           31
          ],
          [
           "Adam Matthews",
           31
          ],
          [
           "Onel Hernández",
           30
          ],
          [
           "Luke Garbutt",
           30
          ],
          [
           "Gary Gardner",
           30
          ],
          [
           "Sam Johnstone",
           29
          ],
          [
           "Jed Steer",
           30
          ],
          [
           "Ryan Tunnicliffe",
           30
          ],
          [
           "Ryan Allsop",
           30
          ],
          [
           "Kevin Long",
           32
          ],
          [
           "Joël Veltman",
           31
          ],
          [
           "Sead Hajrovic",
           30
          ],
          [
           "Neeskens Kebano",
           31
          ],
          [
           "Ahmed Hegazy",
           32
          ],
          [
           "Neto",
           33
          ],
          [
           "Emiliano Martínez",
           30
          ],
          [
           "Philip Heise",
           32
          ],
          [
           "Tomer Hemed",
           36
          ],
          [
           "Cédric Soares",
           31
          ],
          [
           "Romaine Sawyers",
           31
          ],
          [
           "Greg Cunningham",
           32
          ],
          [
           "Richie Towell",
           31
          ],
          [
           "Luke Brattan",
           33
          ],
          [
           "Marcus Bettinelli",
           31
          ],
          [
           "Phil Jones",
           31
          ],
          [
           "Michael Keane",
           30
          ],
          [
           "Will Keane",
           30
          ],
          [
           "Ezequiel Schelotto",
           34
          ],
          [
           "Shane Duffy",
           31
          ],
          [
           "Jack Grimmer",
           29
          ],
          [
           "Daniel Bachmann",
           28
          ],
          [
           "Jazz Richards",
           32
          ],
          [
           "Alphonse Areola",
           30
          ],
          [
           "Joe Mason",
           32
          ],
          [
           "Kwesi Appiah",
           32
          ],
          [
           "Adam Davies",
           30
          ],
          [
           "Adam Forshaw",
           31
          ],
          [
           "Ryan Watson",
           29
          ],
          [
           "Tom Carroll",
           30
          ],
          [
           "John Egan",
           30
          ],
          [
           "Grant Hanley",
           31
          ],
          [
           "Eirik Johansen",
           30
          ],
          [
           "Tommy Smith",
           31
          ],
          [
           "Emyr Huws",
           29
          ],
          [
           "Craig Dawson",
           33
          ],
          [
           "Wellington Silva",
           30
          ],
          [
           "Markus Henriksen",
           30
          ],
          [
           "Sam Clucas",
           32
          ],
          [
           "Nico Yennaris",
           30
          ],
          [
           "Ali Gabr",
           34
          ],
          [
           "Tom Cairney",
           32
          ],
          [
           "Simon Moore",
           33
          ],
          [
           "Sam Morsy",
           31
          ],
          [
           "Callum Wilson",
           31
          ],
          [
           "Danny Ward",
           32
          ],
          [
           "Odysseas Vlachodimos",
           29
          ],
          [
           "Grant Hall",
           31
          ],
          [
           "Pontus Jansson",
           32
          ],
          [
           "Nathaniel Mendez-Laing",
           30
          ],
          [
           "Luke Berry",
           30
          ],
          [
           "Mark Flekken",
           30
          ],
          [
           "Lee Nicholls",
           30
          ],
          [
           "Carl Jenkinson",
           31
          ],
          [
           "Allan",
           32
          ],
          [
           "Kenny McLean",
           31
          ],
          [
           "Lucas Digne",
           29
          ],
          [
           "Idrissa Gueye",
           33
          ],
          [
           "Serge Aurier",
           30
          ],
          [
           "Abdoulaye Doucouré",
           30
          ],
          [
           "Matz Sels",
           31
          ],
          [
           "Robbie Brady",
           31
          ],
          [
           "Scott Wootton",
           31
          ],
          [
           "Derrick Williams",
           30
          ],
          [
           "Bo-kyung Kim",
           33
          ],
          [
           "Tom Anderson",
           29
          ],
          [
           "Jamal Blackman",
           29
          ],
          [
           "Nathaniel Chalobah",
           28
          ],
          [
           "Conor Coady",
           30
          ],
          [
           "Ben Gibson",
           30
          ],
          [
           "Liam Moore",
           30
          ],
          [
           "Jack Robinson",
           29
          ],
          [
           "Ethan Ebanks-Landell",
           30
          ],
          [
           "Nathan Redmond",
           29
          ],
          [
           "Charlie Austin",
           33
          ],
          [
           "Jordan Pickford",
           29
          ],
          [
           "Stuart Armstrong",
           31
          ],
          [
           "Jonathan Bond",
           30
          ],
          [
           "Juan Agudelo",
           30
          ],
          [
           "Rodrigo",
           32
          ],
          [
           "Roberto Firmino",
           31
          ],
          [
           "Ross Barkley",
           29
          ],
          [
           "Phil Ofosu-Ayeh",
           31
          ],
          [
           "Dan Burn",
           31
          ],
          [
           "Danny Ings",
           30
          ],
          [
           "Matthias Fanimo",
           29
          ],
          [
           "Nick Powell",
           29
          ],
          [
           "Raheem Sterling",
           28
          ],
          [
           "Blair Turgott",
           29
          ],
          [
           "André Carrillo",
           32
          ],
          [
           "Fabian Schär",
           31
          ],
          [
           "Manuel Lanzini",
           30
          ],
          [
           "Daniel Bentley",
           29
          ],
          [
           "Kadeem Harris",
           29
          ],
          [
           "Marçal",
           34
          ],
          [
           "Jakob Haugaard",
           31
          ],
          [
           "Virgil van Dijk",
           31
          ],
          [
           "Ryan Fredericks",
           30
          ],
          [
           "Josip Drmic",
           30
          ],
          [
           "Liam O'Neil",
           29
          ],
          [
           "George Saville",
           30
          ],
          [
           "Zeki Fryers",
           30
          ],
          [
           "Jesse Lingard",
           30
          ],
          [
           "Willy Boly",
           32
          ],
          [
           "Mark Gillespie",
           31
          ],
          [
           "Krisztián Adorján",
           30
          ],
          [
           "Leandro Trossard",
           28
          ],
          [
           "Tim Ream",
           35
          ],
          [
           "Wataru Endo",
           30
          ],
          [
           "Conor Townsend",
           30
          ],
          [
           "George Baldock",
           30
          ],
          [
           "Ryan Fraser",
           29
          ],
          [
           "Lewis Dunk",
           31
          ],
          [
           "Jeff Hendrick",
           31
          ],
          [
           "Christian Nørgaard",
           29
          ],
          [
           "Divock Origi",
           27
          ],
          [
           "Mohamed Salah",
           30
          ],
          [
           "Tomas Kalas",
           29
          ],
          [
           "Jiri Skalak",
           31
          ],
          [
           "Todd Kane",
           29
          ],
          [
           "Felipe",
           34
          ],
          [
           "Tyias Browning",
           28
          ],
          [
           "Ben Heneghan",
           29
          ],
          [
           "Tom Ince",
           31
          ],
          [
           "Michael Hector",
           30
          ],
          [
           "Kurt Zouma",
           28
          ],
          [
           "Vladimír Coufal",
           30
          ],
          [
           "Cyrus Christie",
           30
          ],
          [
           "Tendayi Darikwa",
           31
          ],
          [
           "Kieron Freeman",
           31
          ],
          [
           "Max Ehmer",
           31
          ],
          [
           "Stuart Dallas",
           32
          ],
          [
           "Mesca",
           29
          ],
          [
           "Mohamed Elneny",
           30
          ],
          [
           "Adam Reach",
           30
          ],
          [
           "Connor Ripley",
           30
          ],
          [
           "Adam Smith",
           30
          ],
          [
           "Jack Stephens",
           29
          ],
          [
           "Rory Donnelly",
           31
          ],
          [
           "Raphaël Varane",
           30
          ],
          [
           "Jürgen Locadia",
           29
          ],
          [
           "Paddy McNair",
           28
          ],
          [
           "James Husband",
           29
          ],
          [
           "Daniel Johnson",
           30
          ],
          [
           "Callum Paterson",
           28
          ],
          [
           "Cauley Woodrow",
           28
          ],
          [
           "Paul Dummett",
           31
          ],
          [
           "Jonathan Williams",
           29
          ],
          [
           "Timo Werner",
           27
          ],
          [
           "Cody Cropper",
           30
          ],
          [
           "Ben Reeves",
           31
          ],
          [
           "Jay Fulton",
           29
          ],
          [
           "Riyad Mahrez",
           32
          ],
          [
           "Matt Doherty",
           31
          ],
          [
           "Nahki Wells",
           33
          ],
          [
           "James Tarkowski",
           30
          ],
          [
           "Hélder Costa",
           29
          ],
          [
           "Brad Smith",
           29
          ],
          [
           "Sebastian Lletget",
           30
          ],
          [
           "Aymeric Laporte",
           28
          ],
          [
           "Florin Andone",
           30
          ],
          [
           "Nathan Aké",
           28
          ],
          [
           "Charly Musonda Jr.",
           26
          ],
          [
           "Graham Burke",
           29
          ],
          [
           "Harry Maguire",
           30
          ],
          [
           "Jean Michaël Seri",
           31
          ],
          [
           "Donald Love",
           28
          ],
          [
           "Curtis Good",
           30
          ],
          [
           "George Evans",
           28
          ],
          [
           "James Ward-Prowse",
           28
          ],
          [
           "Massimo Luongo",
           30
          ],
          [
           "Emerson",
           28
          ],
          [
           "Jordan Graham",
           28
          ],
          [
           "Ryan Inniss",
           27
          ],
          [
           "Luke Shaw",
           27
          ],
          [
           "Joe Rothwell",
           28
          ],
          [
           "Callum Robinson",
           28
          ],
          [
           "Luke McGee",
           27
          ],
          [
           "Ben Pearson",
           28
          ],
          [
           "Jamaal Lascelles",
           29
          ],
          [
           "Patrick Bamford",
           29
          ],
          [
           "Gregor Zabret",
           28
          ],
          [
           "Jordan Clark",
           29
          ],
          [
           "Ming-Yang Yang",
           27
          ],
          [
           "Tom Hopper",
           29
          ],
          [
           "Emil Krafth",
           28
          ],
          [
           "Victor Lindelöf",
           28
          ],
          [
           "Bobby De Cordova-Reid",
           30
          ],
          [
           "John Stones",
           29
          ],
          [
           "Marek Rodák",
           26
          ],
          [
           "Jack Rose",
           28
          ],
          [
           "Ryan Christie",
           28
          ],
          [
           "Michael Petrasso",
           27
          ],
          [
           "Sean Maguire",
           29
          ],
          [
           "Nick Pope",
           31
          ],
          [
           "Kepa Arrizabalaga",
           28
          ],
          [
           "Ben Davies",
           30
          ],
          [
           "Álex Moreno",
           30
          ],
          [
           "John McGinn",
           28
          ],
          [
           "Joe Bryan",
           29
          ],
          [
           "Charlie Taylor",
           29
          ],
          [
           "Adedeji Oshilaja",
           29
          ],
          [
           "Joe Ralls",
           29
          ],
          [
           "Remi Matthews",
           29
          ],
          [
           "John Swift",
           27
          ],
          [
           "Janoi Donacien",
           29
          ],
          [
           "Josh Sheehan",
           28
          ],
          [
           "Jamie Vardy",
           36
          ],
          [
           "Liam Shephard",
           28
          ],
          [
           "Harry Toffolo",
           27
          ],
          [
           "Lewis Baker",
           28
          ],
          [
           "Sam Hoskins",
           30
          ],
          [
           "Jacob Murphy",
           28
          ],
          [
           "Josh Murphy",
           28
          ],
          [
           "Kevin Stewart",
           29
          ],
          [
           "Angus Gunn",
           27
          ],
          [
           "Danny Ward",
           30
          ],
          [
           "Conor McGrandles",
           27
          ],
          [
           "Andreas Pereira",
           27
          ],
          [
           "Jack Grealish",
           27
          ],
          [
           "Oleksandr Zinchenko",
           26
          ],
          [
           "Adama Traoré",
           27
          ],
          [
           "Saman Ghoddos",
           29
          ],
          [
           "Dejan Iliev",
           28
          ],
          [
           "Raúl Jiménez",
           31
          ],
          [
           "Isaac Hayden",
           28
          ],
          [
           "Kenny Tete",
           27
          ],
          [
           "Will Hughes",
           28
          ],
          [
           "Dan Potts",
           29
          ],
          [
           "Tom Lockyer",
           28
          ],
          [
           "Louis Thompson",
           28
          ],
          [
           "Brendan Galloway",
           27
          ],
          [
           "Christian Walton",
           27
          ],
          [
           "Solly March",
           28
          ],
          [
           "Oumar Niasse",
           32
          ],
          [
           "Jack O'Connell",
           29
          ],
          [
           "Adam Webster",
           28
          ],
          [
           "David Ferguson",
           28
          ],
          [
           "Connor Roberts",
           27
          ],
          [
           "Kean Bryan",
           26
          ],
          [
           "Calum Chambers",
           28
          ],
          [
           "Tom King",
           28
          ],
          [
           "Ricardo Pereira",
           29
          ],
          [
           "Ben Osborn",
           28
          ],
          [
           "George Honeyman",
           28
          ],
          [
           "Conor Grant",
           27
          ],
          [
           "Matthew Pennington",
           28
          ],
          [
           "Zack Steffen",
           28
          ],
          [
           "Alex Gilliead",
           27
          ],
          [
           "Joel Dixon",
           29
          ],
          [
           "Danilo Pantic",
           26
          ],
          [
           "Luke Simpson",
           28
          ],
          [
           "N'Golo Kanté",
           31
          ],
          [
           "Gonçalo Guedes",
           26
          ],
          [
           "Rúben Neves",
           26
          ],
          [
           "Fabinho",
           29
          ],
          [
           "Matheus Pereira",
           27
          ],
          [
           "Freddie Woodman",
           26
          ],
          [
           "Sean Raggett",
           29
          ],
          [
           "Anthony Cáceres",
           30
          ],
          [
           "Dominic Gape",
           28
          ],
          [
           "Lloyd Isgrove",
           30
          ],
          [
           "Harrison Reed",
           28
          ],
          [
           "Sam Gallagher",
           27
          ],
          [
           "Jason McCarthy",
           27
          ],
          [
           "Gedion Zelalem",
           26
          ],
          [
           "Thomas Partey",
           30
          ],
          [
           "Nélson Semedo",
           29
          ],
          [
           "Emiliano Marcondes",
           28
          ],
          [
           "Kortney Hause",
           27
          ],
          [
           "Freddie Ladapo",
           30
          ],
          [
           "André Onana",
           26
          ],
          [
           "Andrew Robertson",
           29
          ],
          [
           "Ola Aina",
           26
          ],
          [
           "Connor Ogilvie",
           27
          ],
          [
           "Sam Byram",
           29
          ],
          [
           "Ederson",
           29
          ],
          [
           "Leandro Rodríguez",
           30
          ],
          [
           "Jamal Lowe",
           28
          ],
          [
           "George Byers",
           26
          ],
          [
           "Bruno Fernandes",
           28
          ],
          [
           "Bernardo Silva",
           28
          ],
          [
           "Jindrich Stanek",
           27
          ],
          [
           "Ethan Horvath",
           27
          ],
          [
           "Gethin Jones",
           27
          ],
          [
           "Courtney Duffus",
           27
          ],
          [
           "Josh Cullen",
           26
          ],
          [
           "Alex Iwobi",
           27
          ],
          [
           "Nathan Mavila",
           27
          ],
          [
           "Lewis Page",
           26
          ],
          [
           "Josh Vickers",
           27
          ],
          [
           "Jan Bednarek",
           26
          ],
          [
           "Josh Onomah",
           26
          ],
          [
           "Lawrence Vigouroux",
           29
          ],
          [
           "Lloyd Jones",
           27
          ],
          [
           "Hiram Boateng",
           27
          ],
          [
           "Pelly Ruddock Mpanzu",
           29
          ],
          [
           "Jon Gorenc Stankovic",
           27
          ],
          [
           "Saša Lukić",
           26
          ],
          [
           "Reece James",
           29
          ],
          [
           "Alex Palmer",
           26
          ],
          [
           "Bartosz Kapustka",
           26
          ],
          [
           "Carlton Morris",
           27
          ],
          [
           "Duncan Watmore",
           29
          ],
          [
           "Lewis Cook",
           26
          ],
          [
           "Harry Winks",
           27
          ],
          [
           "Jack Stacey",
           27
          ],
          [
           "Youri Tielemans",
           25
          ],
          [
           "Tariqe Fosu",
           27
          ],
          [
           "José Sá",
           30
          ],
          [
           "Adam Armstrong",
           26
          ],
          [
           "Jamie Sterry",
           27
          ],
          [
           "Matt Targett",
           27
          ],
          [
           "Enes Ünal",
           26
          ],
          [
           "Jordan Lyden",
           27
          ],
          [
           "Ivan Toney",
           27
          ],
          [
           "Semi Ajayi",
           29
          ],
          [
           "Ken Sema",
           29
          ],
          [
           "Rob Holding",
           27
          ],
          [
           "Tyrone Mings",
           30
          ],
          [
           "Harry Cornick",
           28
          ],
          [
           "Wes Burns",
           28
          ],
          [
           "Samir Caetano",
           28
          ],
          [
           "Cameron Burgess",
           27
          ],
          [
           "Joe Gomez",
           26
          ],
          [
           "Adnan Maric",
           26
          ],
          [
           "Dan Barlaser",
           26
          ],
          [
           "Tommy Robson",
           27
          ],
          [
           "Rúben Dias",
           26
          ],
          [
           "Kasey Palmer",
           26
          ],
          [
           "Tom Beadling",
           27
          ],
          [
           "Tosin Adarabioyo",
           25
          ],
          [
           "Ryan Ledson",
           25
          ],
          [
           "Max Lowe",
           25
          ],
          [
           "Kyle Scott",
           25
          ],
          [
           "Dominic Solanke",
           25
          ],
          [
           "Dean Henderson",
           26
          ],
          [
           "Marcus Rashford",
           25
          ],
          [
           "Joachim Andersen",
           27
          ],
          [
           "Daniel Iversen",
           25
          ],
          [
           "Cameron Brannagan",
           26
          ],
          [
           "Filip Krovinovic",
           27
          ],
          [
           "Timothy Castagne",
           27
          ],
          [
           "Ryan Manning",
           26
          ],
          [
           "David Raya",
           27
          ],
          [
           "Soufyan Ahannach",
           28
          ],
          [
           "Jefferson Lerma",
           28
          ],
          [
           "Kevin Danso",
           24
          ],
          [
           "Harry Charsley",
           26
          ],
          [
           "Reece Burke",
           26
          ],
          [
           "Kevin Toner",
           26
          ],
          [
           "Matt Grimes",
           27
          ],
          [
           "Joe Williams",
           26
          ],
          [
           "Vitaly Janelt",
           25
          ],
          [
           "Callum Elder",
           28
          ],
          [
           "Sylvain Deslandes",
           25
          ],
          [
           "Issa Diop",
           26
          ],
          [
           "Paul Onuachu",
           28
          ],
          [
           "Miguel Almirón",
           29
          ],
          [
           "Jonathan Benteke",
           28
          ],
          [
           "Wilfred Ndidi",
           26
          ],
          [
           "Kieffer Moore",
           30
          ],
          [
           "David Brooks",
           25
          ],
          [
           "Jack Payne",
           28
          ],
          [
           "Amari'i Bell",
           29
          ],
          [
           "MJ Williams",
           27
          ],
          [
           "Harry Wilson",
           26
          ],
          [
           "Sergio Reguilón",
           26
          ],
          [
           "Corey Blackett-Taylor",
           25
          ],
          [
           "Alfie Whiteman",
           24
          ],
          [
           "Tomas Soucek",
           28
          ],
          [
           "Grant Ward",
           28
          ],
          [
           "Manuel Akanji",
           27
          ],
          [
           "Marc Cucurella",
           24
          ],
          [
           "Will Norris",
           29
          ],
          [
           "Joel Coleman",
           27
          ],
          [
           "Harry Burgoyne",
           26
          ],
          [
           "Guglielmo Vicario",
           26
          ],
          [
           "Joe Lolley",
           30
          ],
          [
           "Krystian Bielik",
           25
          ],
          [
           "Connor Mahoney",
           26
          ],
          [
           "Orel Mangala",
           25
          ],
          [
           "Josh Harrop",
           27
          ],
          [
           "Ashley Fletcher",
           27
          ],
          [
           "Saïd Benrahma",
           27
          ],
          [
           "Jordan Hugill",
           31
          ],
          [
           "Sammie Szmodics",
           27
          ],
          [
           "Hee-chan Hwang",
           27
          ],
          [
           "Demarai Gray",
           26
          ],
          [
           "Wout Faes",
           25
          ],
          [
           "Matija Sarkic",
           25
          ],
          [
           "Baily Cargill",
           27
          ],
          [
           "Josh Brownhill",
           27
          ],
          [
           "Conor Masterson",
           24
          ],
          [
           "James Maddison",
           26
          ],
          [
           "Nathan",
           27
          ],
          [
           "Taiwo Awoniyi",
           25
          ],
          [
           "Kelechi Iheanacho",
           26
          ],
          [
           "Marco Asensio",
           27
          ],
          [
           "Tyler Roberts",
           24
          ],
          [
           "Joe Rodon",
           25
          ],
          [
           "Harry Souttar",
           24
          ],
          [
           "Courtney Baker-Richardson",
           27
          ],
          [
           "George Thomas",
           26
          ],
          [
           "Kieran Tierney",
           25
          ],
          [
           "Fred Onyedinma",
           26
          ],
          [
           "Dominic Calvert-Lewin",
           26
          ],
          [
           "Matt Clarke",
           26
          ],
          [
           "Lynden Gooch",
           27
          ],
          [
           "Callum Connolly",
           25
          ],
          [
           "Jan Mlakar",
           24
          ],
          [
           "Kai Havertz",
           23
          ],
          [
           "Andre Green",
           24
          ],
          [
           "Ramadan Sobhi",
           26
          ],
          [
           "Liam Gibson",
           25
          ],
          [
           "Dael Fry",
           25
          ],
          [
           "Karlan Grant",
           25
          ],
          [
           "Tom Davies",
           24
          ],
          [
           "Rushian Hepburn-Murphy",
           24
          ],
          [
           "Herbie Kane",
           24
          ],
          [
           "Jonathan Leko",
           23
          ],
          [
           "Chris Willock",
           25
          ],
          [
           "Trent Alexander-Arnold",
           24
          ],
          [
           "Kyle Edwards",
           25
          ],
          [
           "Darnell Johnson",
           24
          ],
          [
           "Admiral Muskwe",
           24
          ],
          [
           "Ben Sheaf",
           25
          ],
          [
           "Jarrod Bowen",
           26
          ],
          [
           "Ben Chilwell",
           26
          ],
          [
           "Martin Ødegaard",
           24
          ],
          [
           "Jake Clarke-Salter",
           25
          ],
          [
           "Mateusz Hewelt",
           26
          ],
          [
           "Vlad Dragomir",
           23
          ],
          [
           "Daniel James",
           25
          ],
          [
           "Mathias Jensen",
           27
          ],
          [
           "Elijah Adebayo",
           25
          ],
          [
           "Anthony Georgiou",
           26
          ],
          [
           "Benny Ashley-Seal",
           24
          ],
          [
           "Benson Manuel",
           26
          ],
          [
           "Gustavo Hamer",
           25
          ],
          [
           "James Bree",
           25
          ],
          [
           "Ollie Watkins",
           27
          ],
          [
           "Marvelous Nakamba",
           29
          ],
          [
           "Donyell Malen",
           24
          ],
          [
           "Matthijs de Ligt",
           23
          ],
          [
           "Jaroslaw Jach",
           29
          ],
          [
           "Kristoffer Ajer",
           25
          ],
          [
           "João Virgínia",
           23
          ],
          [
           "Justin Kluivert",
           23
          ],
          [
           "Takehiro Tomiyasu",
           24
          ],
          [
           "Tyler Adams",
           24
          ],
          [
           "Sander Berge",
           25
          ],
          [
           "Joelinton",
           26
          ],
          [
           "Ben White",
           25
          ],
          [
           "Altay Bayındır",
           24
          ],
          [
           "Joe Lumley",
           28
          ],
          [
           "Nathan Holland",
           24
          ],
          [
           "Connor Ronan",
           25
          ],
          [
           "Konstantinos Tsimikas",
           27
          ],
          [
           "Mikel Merino",
           26
          ],
          [
           "Hannes Delcroix",
           24
          ],
          [
           "Daniel Grimshaw",
           25
          ],
          [
           "Rico Henry",
           25
          ],
          [
           "Josh Pask",
           25
          ],
          [
           "Regan Poole",
           24
          ],
          [
           "Tolaji Bola",
           24
          ],
          [
           "Marcus McGuane",
           24
          ],
          [
           "Josh Dasilva",
           24
          ],
          [
           "Eddie Nketiah",
           23
          ],
          [
           "Reiss Nelson",
           23
          ],
          [
           "Stephy Mavididi",
           25
          ],
          [
           "Joe Willock",
           23
          ],
          [
           "Noussair Mazraoui",
           25
          ],
          [
           "Caoimhín Kelleher",
           24
          ],
          [
           "Diogo Jota",
           26
          ],
          [
           "Harry Lewis",
           25
          ],
          [
           "Kyle Walker-Peters",
           26
          ],
          [
           "Federico Chiesa",
           25
          ],
          [
           "Hamza Choudhury",
           25
          ],
          [
           "Elliott Moore",
           26
          ],
          [
           "Axel Tuanzebe",
           25
          ],
          [
           "Grady Diangana",
           25
          ],
          [
           "Nathan Baxter",
           24
          ],
          [
           "Guido Rodríguez",
           29
          ],
          [
           "Ben Godfrey",
           25
          ],
          [
           "Nathan Broadhead",
           25
          ],
          [
           "Ben Woodburn",
           23
          ],
          [
           "Odsonne Edouard",
           25
          ],
          [
           "Christopher Nkunku",
           25
          ],
          [
           "Boubakary Soumaré",
           24
          ],
          [
           "Tahith Chong",
           23
          ],
          [
           "Shayon Harrison",
           25
          ],
          [
           "Djair Parfitt-Williams",
           26
          ],
          [
           "Jamal Lewis",
           25
          ],
          [
           "Trevoh Chalobah",
           23
          ],
          [
           "Jordan Williams",
           23
          ],
          [
           "Tom Dele-Bashiru",
           23
          ],
          [
           "Japhet Tanganga",
           24
          ],
          [
           "Dan Nlundulu",
           24
          ],
          [
           "Mason Mount",
           24
          ],
          [
           "Sean Longstaff",
           25
          ],
          [
           "Mason Holgate",
           26
          ],
          [
           "Alexander Isak",
           23
          ],
          [
           "Conor Chaplin",
           26
          ],
          [
           "Pervis Estupiñán",
           25
          ],
          [
           "Antonee Robinson",
           25
          ],
          [
           "Shayne Lavery",
           24
          ],
          [
           "Kalvin Phillips",
           27
          ],
          [
           "Darnell Furlong",
           27
          ],
          [
           "Keshi Anderson",
           28
          ],
          [
           "Adnan Kanuric",
           22
          ],
          [
           "Joe Powell",
           24
          ],
          [
           "Rodrigo Bentancur",
           26
          ],
          [
           "Cristian Romero",
           25
          ],
          [
           "Daichi Kamada",
           26
          ],
          [
           "Ibrahima Konaté",
           24
          ],
          [
           "Diogo Dalot",
           24
          ],
          [
           "Kazaiah Sterling",
           24
          ],
          [
           "Rodri",
           27
          ],
          [
           "Jayson Molumby",
           23
          ],
          [
           "Mark Travers",
           24
          ],
          [
           "Declan Rice",
           24
          ],
          [
           "Lasse Sörensen",
           23
          ],
          [
           "Sven Botman",
           23
          ],
          [
           "Gabriel Jesus",
           26
          ],
          [
           "Elliot Embleton",
           24
          ],
          [
           "Patson Daka",
           24
          ],
          [
           "Pontus Dahlberg",
           24
          ],
          [
           "Dan Agyei",
           25
          ],
          [
           "Niall Ennis",
           23
          ],
          [
           "Ferdi Kadıoğlu",
           23
          ],
          [
           "Sasa Kalajdzic",
           25
          ],
          [
           "Arijanet Muric",
           24
          ],
          [
           "Francisco Sierralta",
           26
          ],
          [
           "Nathaniel Phillips",
           26
          ],
          [
           "Carlos Soler",
           26
          ],
          [
           "Paulinho",
           25
          ],
          [
           "Junior Firpo",
           26
          ],
          [
           "Ibrahim Sangaré",
           25
          ],
          [
           "Charlie Goode",
           27
          ],
          [
           "Anel Ahmedhodzic",
           24
          ],
          [
           "Richarlison",
           26
          ],
          [
           "Lyanco",
           26
          ],
          [
           "Igor",
           25
          ],
          [
           "Joel Mumbongo",
           24
          ],
          [
           "Wesley Moraes",
           26
          ],
          [
           "Steven Benda",
           24
          ],
          [
           "Mike Trésor",
           23
          ],
          [
           "Tyrese Campbell",
           23
          ],
          [
           "Joe Hardy",
           24
          ],
          [
           "Przemyslaw Placheta",
           25
          ],
          [
           "Axel Disasi",
           25
          ],
          [
           "Darko Churlinov",
           22
          ],
          [
           "Joe Riley",
           26
          ],
          [
           "Daiki Hashioka",
           24
          ],
          [
           "Samuel Shashoua",
           24
          ],
          [
           "Sam Field",
           25
          ],
          [
           "Leon Bailey",
           25
          ],
          [
           "Yoane Wissa",
           26
          ],
          [
           "Jacob Lungi Sörensen",
           25
          ],
          [
           "Marcus Browne",
           25
          ],
          [
           "Chiedozie Ogbene",
           26
          ],
          [
           "Marc Guéhi",
           22
          ],
          [
           "Ian Poveda",
           23
          ],
          [
           "Emile Smith Rowe",
           22
          ],
          [
           "George McEachran",
           22
          ],
          [
           "Callum Hudson-Odoi",
           22
          ],
          [
           "Marcel Lavinier",
           22
          ],
          [
           "Kane Wilson",
           23
          ],
          [
           "Ryan Sessegnon",
           23
          ],
          [
           "Josh Sargent",
           23
          ],
          [
           "Boubacar Kamara",
           23
          ],
          [
           "Claudio Gomes",
           22
          ],
          [
           "Moussa Diaby",
           23
          ],
          [
           "Sam Hughes",
           25
          ],
          [
           "Jimmy Dunne",
           25
          ],
          [
           "Ethan Hamilton",
           24
          ],
          [
           "Manor Solomon",
           23
          ],
          [
           "Dan Kemp",
           24
          ],
          [
           "Jamie Cumming",
           23
          ],
          [
           "Richard Nartey",
           24
          ],
          [
           "Sandro Tonali",
           23
          ],
          [
           "Josh Benson",
           23
          ],
          [
           "Harvey Barnes",
           25
          ],
          [
           "Sam Surridge",
           24
          ],
          [
           "Marcus Tavernier",
           24
          ],
          [
           "Pau Torres",
           26
          ],
          [
           "Mads Hermansen",
           22
          ],
          [
           "Jadon Sancho",
           22
          ],
          [
           "Dara O'Shea",
           24
          ],
          [
           "Edson Álvarez",
           25
          ],
          [
           "Michal Karbownik",
           22
          ],
          [
           "Gonzalo Montiel",
           26
          ],
          [
           "Robert Sánchez",
           25
          ],
          [
           "Jordan Beyer",
           22
          ],
          [
           "Marcus Forss",
           23
          ],
          [
           "Vitaliy Mykolenko",
           24
          ],
          [
           "Yukinari Sugawara",
           22
          ],
          [
           "Yan Valery",
           24
          ],
          [
           "Tom McGill",
           23
          ],
          [
           "Steven Sessegnon",
           22
          ],
          [
           "Timothy Eyoma",
           23
          ],
          [
           "Rhian Brewster",
           23
          ],
          [
           "Matt O'Riley",
           22
          ],
          [
           "Phil Foden",
           23
          ],
          [
           "Oliver Skipp",
           22
          ],
          [
           "Mads Andersen",
           25
          ],
          [
           "Ismaïla Sarr",
           25
          ],
          [
           "Yves Bissouma",
           26
          ],
          [
           "Pascal Struijk",
           23
          ],
          [
           "Max Sanders",
           24
          ],
          [
           "Adam Parkes",
           23
          ],
          [
           "Ibrahima Diallo",
           24
          ],
          [
           "Bryan Mbeumo",
           23
          ],
          [
           "James Justin",
           25
          ],
          [
           "Ezri Konsa",
           25
          ],
          [
           "Nikola Milenković",
           25
          ],
          [
           "Marshall Munetsi",
           27
          ],
          [
           "Mats Wieffer",
           23
          ],
          [
           "Bruno Jordão",
           24
          ],
          [
           "Konstantinos Mavropanos",
           25
          ],
          [
           "Joe Worrall",
           26
          ],
          [
           "Jordan Green",
           28
          ],
          [
           "Jack Harrison",
           26
          ],
          [
           "Erling Haaland",
           22
          ],
          [
           "Kristoffer Klaesson",
           22
          ],
          [
           "Conor Coventry",
           23
          ],
          [
           "Lewis Gibson",
           22
          ],
          [
           "Jean-Philippe Mateta",
           25
          ],
          [
           "Jurrien Timber",
           21
          ],
          [
           "George Hirst",
           24
          ],
          [
           "Alfie Lewis",
           23
          ],
          [
           "Nathan Patterson",
           21
          ],
          [
           "Samuel Kalu",
           25
          ],
          [
           "Josh Knight",
           25
          ],
          [
           "Matt Turner",
           29
          ],
          [
           "Matty Cash",
           25
          ],
          [
           "Akin Famewo",
           24
          ],
          [
           "Ryan Yates",
           25
          ],
          [
           "Jakub Kiwior",
           23
          ],
          [
           "Ben Brereton Díaz",
           24
          ],
          [
           "Aaron Ramsdale",
           24
          ],
          [
           "Thanawat Suengchitthawon",
           23
          ],
          [
           "Brandon Austin",
           24
          ],
          [
           "Morgan Gibbs-White",
           23
          ],
          [
           "Jørgen Strand Larsen",
           23
          ],
          [
           "Andrew Irving",
           23
          ],
          [
           "Tom Edwards",
           24
          ],
          [
           "Peter Gwargis",
           22
          ],
          [
           "Mateusz Bogusz",
           22
          ],
          [
           "Dejan Kulusevski",
           22
          ],
          [
           "Bukayo Saka",
           21
          ],
          [
           "Elijah Dixon-Bonner",
           22
          ],
          [
           "Luis Longstaff",
           22
          ],
          [
           "Tommy Doyle",
           21
          ],
          [
           "Rayhaan Tulloch",
           22
          ],
          [
           "Bali Mumba",
           21
          ],
          [
           "Curtis Jones",
           22
          ],
          [
           "Scott Twine",
           23
          ],
          [
           "Tudor Baluta",
           24
          ],
          [
           "Ethan Galbraith",
           21
          ],
          [
           "Aaron Connolly",
           23
          ],
          [
           "Maxence Lacroix",
           23
          ],
          [
           "Cody Gakpo",
           24
          ],
          [
           "Gabriel Magalhães",
           25
          ],
          [
           "Joshua Zirkzee",
           21
          ],
          [
           "Santiago Bueno",
           24
          ],
          [
           "Ethan Pinnock",
           30
          ],
          [
           "Edouard Mendy",
           31
          ],
          [
           "Michael Obafemi",
           22
          ],
          [
           "Will Smallbone",
           23
          ],
          [
           "Lucas Paquetá",
           25
          ],
          [
           "Louie Moulden",
           21
          ],
          [
           "Omar Marmoush",
           24
          ],
          [
           "Ross Stewart",
           26
          ],
          [
           "Emmanuel Dennis",
           25
          ],
          [
           "Jean-Ricner Bellegarde",
           24
          ],
          [
           "Dominik Szoboszlai",
           22
          ],
          [
           "Jorge Segura",
           26
          ],
          [
           "Adama Diakhaby",
           26
          ],
          [
           "Will Mannion",
           24
          ],
          [
           "Rekeem Harper",
           23
          ],
          [
           "Jack Taylor",
           24
          ],
          [
           "Harvey Rodgers",
           26
          ],
          [
           "Caleb Okoli",
           21
          ],
          [
           "Calvin Bassey",
           23
          ],
          [
           "Benoît Badiashile",
           22
          ],
          [
           "Marc Leonard",
           21
          ],
          [
           "Terry Taylor",
           21
          ],
          [
           "Allan Tchaptchet",
           21
          ],
          [
           "Jayden Bogle",
           22
          ],
          [
           "Nico González",
           21
          ],
          [
           "Armel Bella-Kotchap",
           21
          ],
          [
           "Lyle Foster",
           22
          ],
          [
           "Ben Johnson",
           23
          ],
          [
           "Jens Cajuste",
           23
          ],
          [
           "Joe Aribo",
           26
          ],
          [
           "Vitinho",
           23
          ],
          [
           "Nathan Collins",
           22
          ],
          [
           "Gavin Kilkenny",
           23
          ],
          [
           "Marcos Senesi",
           26
          ],
          [
           "Indiana Vassilev",
           22
          ],
          [
           "Jacob Brown",
           24
          ],
          [
           "Paris Maghoma",
           21
          ],
          [
           "Ben Cottrell",
           21
          ],
          [
           "Brennan Johnson",
           21
          ],
          [
           "Reece James",
           23
          ],
          [
           "Kevin Schade",
           21
          ],
          [
           "Regan Slater",
           23
          ],
          [
           "Lewis Cass",
           23
          ],
          [
           "Crysencio Summerville",
           21
          ],
          [
           "Kiernan Dewsbury-Hall",
           24
          ],
          [
           "Wesley Fofana",
           22
          ],
          [
           "Josko Gvardiol",
           21
          ],
          [
           "Steven Alzate",
           24
          ],
          [
           "Bernardo Rosa",
           22
          ],
          [
           "Manuel Ugarte",
           21
          ],
          [
           "Aaron Wan-Bissaka",
           25
          ],
          [
           "Ryan Gravenberch",
           21
          ],
          [
           "Eberechi Eze",
           24
          ],
          [
           "Cohen Bramall",
           27
          ],
          [
           "Luis Díaz",
           26
          ],
          [
           "Lisandro Martínez",
           25
          ],
          [
           "Chris Mepham",
           25
          ],
          [
           "Djed Spence",
           22
          ],
          [
           "Matty Longstaff",
           23
          ],
          [
           "Taylor Richards",
           22
          ],
          [
           "Ian Maatsen",
           21
          ],
          [
           "Amadou Onana",
           21
          ],
          [
           "Jérémy Doku",
           21
          ],
          [
           "Jake Walker",
           22
          ],
          [
           "Jakub Stolarczyk",
           22
          ],
          [
           "Edo Kayembe",
           25
          ],
          [
           "Vitezslav Jaros",
           21
          ],
          [
           "Pedro Neto",
           23
          ],
          [
           "Maksim Paskotsi",
           20
          ],
          [
           "Siriki Dembélé",
           26
          ],
          [
           "Hákon Rafn Valdimarsson",
           21
          ],
          [
           "Ismaila Coulibaly",
           22
          ],
          [
           "Lucas Bergström",
           21
          ],
          [
           "Daniel Muñoz",
           26
          ],
          [
           "Jorge Cuenca",
           23
          ],
          [
           "Nathan Bishop",
           24
          ],
          [
           "William Saliba",
           21
          ],
          [
           "Dion Sanderson",
           23
          ],
          [
           "Elliot Thorpe",
           22
          ],
          [
           "Nicolás Domínguez",
           24
          ],
          [
           "Dion Pereira",
           24
          ],
          [
           "Ákos Onódi",
           21
          ],
          [
           "Aji Alese",
           22
          ],
          [
           "Taylor Perry",
           21
          ],
          [
           "Riccardo Calafiori",
           21
          ],
          [
           "Rhys Williams",
           22
          ],
          [
           "Neco Williams",
           22
          ],
          [
           "Anthony Driscoll-Glennon",
           23
          ],
          [
           "Anthony Gordon",
           22
          ],
          [
           "Morgan Rogers",
           20
          ],
          [
           "Jacob Ramsey",
           21
          ],
          [
           "Tyreece John-Jules",
           22
          ],
          [
           "Arthur Okonkwo",
           21
          ],
          [
           "Jeremy Ngakia",
           22
          ],
          [
           "Albert Grønbaek",
           22
          ],
          [
           "Joe Hodge",
           20
          ],
          [
           "Dynel Simeu",
           21
          ],
          [
           "Taylor Harwood-Bellis",
           21
          ],
          [
           "Joe Gelhardt",
           21
          ],
          [
           "Tino Livramento",
           20
          ],
          [
           "Noni Madueke",
           21
          ],
          [
           "Alex Mighten",
           20
          ],
          [
           "Nathan Wood",
           21
          ],
          [
           "Daniel Barden",
           22
          ],
          [
           "Tariq Lamptey",
           22
          ],
          [
           "Emmanuel Longelo",
           22
          ],
          [
           "Ryan Giles",
           23
          ],
          [
           "Kaoru Mitoma",
           25
          ],
          [
           "Luke Thomas",
           22
          ],
          [
           "James Garner",
           22
          ],
          [
           "Louie Watson",
           21
          ],
          [
           "Flynn Downes",
           24
          ],
          [
           "Josh Bowler",
           24
          ],
          [
           "Jack Young",
           22
          ],
          [
           "Nathan Ferguson",
           22
          ],
          [
           "Alexandre Jankewitz",
           21
          ],
          [
           "Brandon Williams",
           22
          ],
          [
           "Daniel Batty",
           25
          ],
          [
           "Ellis Simms",
           22
          ],
          [
           "Jackson Smith",
           21
          ],
          [
           "Ryan Longman",
           22
          ],
          [
           "Malcolm Ebiowei",
           19
          ],
          [
           "Luis Sinisterra",
           24
          ],
          [
           "Jesper Lindstrøm",
           23
          ],
          [
           "Julián Araujo",
           21
          ],
          [
           "Matheus Cunha",
           23
          ],
          [
           "Bruno Guimarães",
           25
          ],
          [
           "Jensen Weir",
           21
          ],
          [
           "Jaime Alvarado",
           23
          ],
          [
           "Maximilian Kilman",
           25
          ],
          [
           "Carlos Vinícius",
           28
          ],
          [
           "Karlo Ziger",
           22
          ],
          [
           "Luke Woolfenden",
           24
          ],
          [
           "Tyrese Francois",
           22
          ],
          [
           "Jack Spong",
           21
          ],
          [
           "Armstrong Oko-Flex",
           21
          ],
          [
           "Di'Shon Bernard",
           22
          ],
          [
           "D'Mani Mellor",
           22
          ],
          [
           "Ethan Laird",
           21
          ],
          [
           "Cody Drameh",
           21
          ],
          [
           "Sam Greenwood",
           21
          ],
          [
           "Daniel Adshead",
           21
          ],
          [
           "Luke Cundle",
           21
          ],
          [
           "Haydon Roberts",
           20
          ],
          [
           "Cameron Archer",
           21
          ],
          [
           "Shandon Baptiste",
           25
          ],
          [
           "Alexis Mac Allister",
           24
          ],
          [
           "Robbie Gotts",
           23
          ],
          [
           "Jamie Shackleton",
           23
          ],
          [
           "Luke McNally",
           23
          ],
          [
           "Amad Diallo",
           20
          ],
          [
           "Mykhaylo Mudryk",
           22
          ],
          [
           "Kwasi Sibo",
           25
          ],
          [
           "Georginio Rutter",
           20
          ],
          [
           "Christian Marques",
           20
          ],
          [
           "Kristian Sekularac",
           20
          ],
          [
           "Zak Swanson",
           22
          ],
          [
           "Mikkel Damsgaard",
           22
          ],
          [
           "Sepp van den Berg",
           21
          ],
          [
           "Illan Meslier",
           23
          ],
          [
           "Alex Gilbert",
           21
          ],
          [
           "Rhys Norrington-Davies",
           24
          ],
          [
           "Cheick Doucouré",
           23
          ],
          [
           "Mohammed Kudus",
           22
          ],
          [
           "Darwin Núñez",
           24
          ],
          [
           "Anis Slimane",
           22
          ],
          [
           "Taylor Gardner-Hickman",
           21
          ],
          [
           "Miguel Azeez",
           20
          ],
          [
           "Josh Martin",
           21
          ],
          [
           "Teden Mengi",
           20
          ],
          [
           "Owen Beck",
           21
          ],
          [
           "Pedro Porro",
           23
          ],
          [
           "Alpha Diounkou",
           21
          ],
          [
           "Yasser Larouci",
           22
          ],
          [
           "Oliwier Zych",
           19
          ],
          [
           "Destiny Udogie",
           20
          ],
          [
           "Micky van de Ven",
           21
          ],
          [
           "Harrison Ashby",
           21
          ],
          [
           "Fábio Carvalho",
           20
          ],
          [
           "Jack Clarke",
           22
          ],
          [
           "Oliver Casey",
           22
          ],
          [
           "Niall Huggins",
           22
          ],
          [
           "Lewis O'Brien",
           25
          ],
          [
           "Dan Chesters",
           21
          ],
          [
           "Kyle Taylor",
           23
          ],
          [
           "Victor Kristiansen",
           20
          ],
          [
           "Bart Verbruggen",
           20
          ],
          [
           "Harvey Elliott",
           20
          ],
          [
           "Matty Daly",
           22
          ],
          [
           "James Trafford",
           20
          ],
          [
           "Thomas Dickson-Peters",
           20
          ],
          [
           "Elliot Anderson",
           20
          ],
          [
           "Odel Offiah",
           21
          ],
          [
           "Jeremy Sarmiento",
           20
          ],
          [
           "Dennis Cirkin",
           21
          ],
          [
           "Cole Palmer",
           21
          ],
          [
           "Radu Drăgușin",
           21
          ],
          [
           "Pape Matar Sarr",
           20
          ],
          [
           "Armando Broja",
           21
          ],
          [
           "Joseph Anang",
           23
          ],
          [
           "Josh Wilson-Esbrand",
           20
          ],
          [
           "Jan Paul van Hecke",
           22
          ],
          [
           "Rayan Aït-Nouri",
           22
          ],
          [
           "Chris Richards",
           22
          ],
          [
           "James Furlong",
           20
          ],
          [
           "Ed Turns",
           20
          ],
          [
           "Eiran Cashin",
           21
          ],
          [
           "Harvey White",
           21
          ],
          [
           "CJ Egan-Riley",
           20
          ],
          [
           "Louie Barry",
           19
          ],
          [
           "Charlie Patino",
           19
          ],
          [
           "Lukas Jensen",
           24
          ],
          [
           "Will Dennis",
           22
          ],
          [
           "Anthony Elanga",
           21
          ],
          [
           "James McAtee",
           20
          ],
          [
           "Antoine Semenyo",
           23
          ],
          [
           "Dwight McNeil",
           23
          ],
          [
           "Filip Jørgensen",
           21
          ],
          [
           "Jesurun Rak-Sakyi",
           20
          ],
          [
           "Myles Peart-Harris",
           20
          ],
          [
           "Lewis Bate",
           20
          ],
          [
           "Derek Agyakwa",
           21
          ],
          [
           "Joe Gauci",
           22
          ],
          [
           "Aaron Hickey",
           21
          ],
          [
           "Woyo Coulibaly",
           24
          ],
          [
           "Tiago Cukur",
           20
          ],
          [
           "Beto",
           25
          ],
          [
           "Max Haygarth",
           21
          ],
          [
           "Leif Davis",
           23
          ],
          [
           "Xavier Simons",
           20
          ],
          [
           "Matheus Nunes",
           24
          ],
          [
           "Jean-Clair Todibo",
           23
          ],
          [
           "Sebastian Soto",
           22
          ],
          [
           "Denis Franchi",
           20
          ],
          [
           "Toti",
           24
          ],
          [
           "Hannibal",
           20
          ],
          [
           "Alfie Doughty",
           23
          ],
          [
           "Luke Mbete",
           19
          ],
          [
           "Alex Robertson",
           20
          ],
          [
           "Rasmus Højlund",
           20
          ],
          [
           "Caleb Watts",
           21
          ],
          [
           "Ollie O'Neill",
           20
          ],
          [
           "Liam Delap",
           20
          ],
          [
           "James Hill",
           21
          ],
          [
           "Liam McCarron",
           22
          ],
          [
           "Luke Matheson",
           20
          ],
          [
           "Levi Colwill",
           20
          ],
          [
           "Charlie McNeill",
           19
          ],
          [
           "Chem Campbell",
           20
          ],
          [
           "Dara Costelloe",
           20
          ],
          [
           "Tyler Morton",
           20
          ],
          [
           "Sam McCallum",
           22
          ],
          [
           "Malo Gusto",
           19
          ],
          [
           "Kasey McAteer",
           21
          ],
          [
           "Radek Vítek",
           19
          ],
          [
           "Iliman Ndiaye",
           23
          ],
          [
           "Conor Bradley",
           19
          ],
          [
           "Dale Taylor",
           19
          ],
          [
           "Lucas De Bolle",
           20
          ],
          [
           "Adrion Pajaziti",
           20
          ],
          [
           "João Pedro",
           21
          ],
          [
           "Kaine Kesler-Hayden",
           21
          ],
          [
           "Lewis Dobbin",
           20
          ],
          [
           "Wilfried Gnonto",
           19
          ],
          [
           "Roméo Lavia",
           19
          ],
          [
           "Femi Seriki",
           20
          ],
          [
           "Carlos Miguel",
           24
          ],
          [
           "Keane Lewis-Potter",
           22
          ],
          [
           "Lamare Bogarde",
           19
          ],
          [
           "Ben Greenwood",
           20
          ],
          [
           "Carl Rushworth",
           21
          ],
          [
           "Aaron Ramsey",
           20
          ],
          [
           "Juan Larios",
           19
          ],
          [
           "Jayden Bennetts",
           22
          ],
          [
           "Evan Ferguson",
           18
          ],
          [
           "Enzo Fernández",
           22
          ],
          [
           "Boubacar Traoré",
           21
          ],
          [
           "Jhon Durán",
           19
          ],
          [
           "Lewis Warrington",
           20
          ],
          [
           "Bilal El Khannouss",
           18
          ],
          [
           "Cameron Plain",
           22
          ],
          [
           "Brooklyn Genesini",
           21
          ],
          [
           "Gabriel Martinelli",
           21
          ],
          [
           "Christian Saydee",
           20
          ],
          [
           "Mipo Odubeko",
           20
          ],
          [
           "Aaron Rowe",
           22
          ],
          [
           "Simon Adingra",
           21
          ],
          [
           "Ilya Zabarnyi",
           20
          ],
          [
           "Julio Enciso",
           19
          ],
          [
           "Jarrad Branthwaite",
           20
          ],
          [
           "Leo Fuhr Hjelde",
           19
          ],
          [
           "Marcelo Pitaluga",
           21
          ],
          [
           "Tyler Onyango",
           20
          ],
          [
           "Jota Silva",
           23
          ],
          [
           "Darko Gyabi",
           19
          ],
          [
           "Vini Souza",
           24
          ],
          [
           "Jaden Philogene",
           21
          ],
          [
           "Rodrigo Gomes",
           19
          ],
          [
           "Yasin Ayari",
           19
          ],
          [
           "Marcelo Flores",
           19
          ],
          [
           "Joe Whitworth",
           19
          ],
          [
           "Divin Mubama",
           18
          ],
          [
           "Antwoine Hackford",
           19
          ],
          [
           "Luke Chambers",
           19
          ],
          [
           "Dane Scarlett",
           19
          ],
          [
           "Caleb Taylor",
           20
          ],
          [
           "Morato",
           21
          ],
          [
           "Anthony Mancini",
           22
          ],
          [
           "Emmanuel Agbadou",
           25
          ],
          [
           "Jaidon Anthony",
           23
          ],
          [
           "Charlie Savage",
           19
          ],
          [
           "Moisés Caicedo",
           21
          ],
          [
           "Chadi Riad",
           20
          ],
          [
           "Kamarai Swyer",
           21
          ],
          [
           "Jacob Greaves",
           22
          ],
          [
           "Jay Stansfield",
           20
          ],
          [
           "Tim Iroegbunam",
           19
          ],
          [
           "Rico Lewis",
           18
          ],
          [
           "Kgaogelo Chauke",
           20
          ],
          [
           "Harvey Davies",
           20
          ],
          [
           "Ji-soo Kim",
           18
          ],
          [
           "Kwadwo Baah",
           20
          ],
          [
           "Evanilson",
           23
          ],
          [
           "Jake O'Brien",
           22
          ],
          [
           "Lesley Ugochukwu",
           19
          ],
          [
           "Bobby Clark",
           18
          ],
          [
           "Yerson Mosquera",
           22
          ],
          [
           "Yegor Yarmolyuk",
           19
          ],
          [
           "Enock Agyei",
           18
          ],
          [
           "Tayo Adaramola",
           20
          ],
          [
           "Andrew Moran",
           20
          ],
          [
           "Liam Gibbs",
           20
          ],
          [
           "Antonín Kinský",
           20
          ],
          [
           "Welington",
           22
          ],
          [
           "Milos Kerkez",
           19
          ],
          [
           "Tyrick Mitchell",
           23
          ],
          [
           "Dylan Williams",
           20
          ],
          [
           "Kaide Gordon",
           18
          ],
          [
           "Jack Jenkins",
           21
          ],
          [
           "João Gomes",
           22
          ],
          [
           "Rodrigo Muniz",
           22
          ],
          [
           "Igor Thiago",
           21
          ],
          [
           "Omari Hutchinson",
           20
          ],
          [
           "Caleb Chukwuemeka",
           21
          ],
          [
           "Lino Sousa",
           18
          ],
          [
           "Wilson Odobert",
           18
          ],
          [
           "Savinho",
           19
          ],
          [
           "Matheus França",
           19
          ],
          [
           "Adam Wharton",
           19
          ],
          [
           "Ramón Sosa",
           23
          ],
          [
           "Luca Koleosho",
           18
          ],
          [
           "Kamaldeen Sulemana",
           21
          ],
          [
           "Daniel Jebbison",
           19
          ],
          [
           "Harry Boyes",
           21
          ],
          [
           "Justin Devenny",
           19
          ],
          [
           "Val Adedokun",
           20
          ],
          [
           "Carlos Alcaraz",
           20
          ],
          [
           "Abdukodir Khusanov",
           19
          ],
          [
           "Nicolas Jackson",
           21
          ],
          [
           "David Datro Fofana",
           20
          ],
          [
           "Bobby Thomas",
           22
          ],
          [
           "André",
           21
          ],
          [
           "Mathys Tel",
           18
          ],
          [
           "Ryan Finnigan",
           19
          ],
          [
           "Danilo",
           22
          ],
          [
           "Alejandro Garnacho",
           18
          ],
          [
           "Jack Wells-Morrison",
           19
          ],
          [
           "Luke Harris",
           18
          ],
          [
           "Kobbie Mainoo",
           17
          ],
          [
           "Alfie Pond",
           19
          ],
          [
           "Dango Ouattara",
           21
          ],
          [
           "Michael Kayode",
           18
          ],
          [
           "Maxime Estève",
           20
          ],
          [
           "Bénie Traoré",
           20
          ],
          [
           "Jack Hinchy",
           20
          ],
          [
           "Alex Scott",
           19
          ],
          [
           "Ashley Phillips",
           17
          ],
          [
           "Kaden Rodney",
           19
          ],
          [
           "Nasser Djiga",
           20
          ],
          [
           "Issahaku Fatawu",
           19
          ],
          [
           "Lucas Bergvall",
           17
          ],
          [
           "Bradley Ibrahim",
           19
          ],
          [
           "Mason Burstow",
           20
          ],
          [
           "Ryan Trevitt",
           20
          ],
          [
           "Seán Grehan",
           19
          ],
          [
           "Josh Feeney",
           18
          ],
          [
           "Amario Cozier-Duberry",
           18
          ],
          [
           "Mateus Fernandes",
           18
          ],
          [
           "Oliver Scarles",
           18
          ],
          [
           "Archie Gray",
           17
          ],
          [
           "Leny Yoro",
           17
          ],
          [
           "Zach Abbott",
           17
          ],
          [
           "Mark O'Mahony",
           18
          ],
          [
           "Joe Taylor",
           20
          ],
          [
           "Carlos Baleba",
           19
          ],
          [
           "Facundo Buonanotte",
           18
          ],
          [
           "Matai Akinmboni",
           16
          ],
          [
           "Diego Gómez",
           20
          ],
          [
           "Julio Soler",
           18
          ],
          [
           "Yankuba Minteh",
           18
          ],
          [
           "Ryan Oné",
           16
          ],
          [
           "Enso González",
           18
          ],
          [
           "Bastian Schweinsteiger",
           38
          ],
          [
           "Robert Huth",
           38
          ],
          [
           "Jonathan Walters",
           39
          ],
          [
           "Wayne Rooney",
           37
          ],
          [
           "Darren Fletcher",
           39
          ],
          [
           "Peter Whittingham",
           38
          ],
          [
           "Glen Johnson",
           38
          ],
          [
           "Dean Marney",
           39
          ],
          [
           "Stewart Downing",
           38
          ],
          [
           "Liam Ridgewell",
           38
          ],
          [
           "David Fox",
           39
          ],
          [
           "Adam Federici",
           38
          ],
          [
           "Christian Fuchs",
           37
          ],
          [
           "Per Mertesacker",
           38
          ],
          [
           "Georgios Samaras",
           37
          ],
          [
           "Alan Hutton",
           38
          ],
          [
           "Almen Abdi",
           36
          ],
          [
           "Richard Chaplow",
           38
          ],
          [
           "Michael Dawson",
           39
          ],
          [
           "Wes Morgan",
           39
          ],
          [
           "Paul Gallagher",
           38
          ],
          [
           "Mike Williamson",
           39
          ],
          [
           "Stephen Kelly",
           39
          ],
          [
           "Michael Turner",
           39
          ],
          [
           "Alexander Tettey",
           36
          ],
          [
           "James Collins",
           39
          ],
          [
           "Darren Bent",
           39
          ],
          [
           "Lewis Price",
           39
          ],
          [
           "Lee Camp",
           38
          ],
          [
           "Tom Huddlestone",
           36
          ],
          [
           "Leighton Baines",
           38
          ],
          [
           "Simon Francis",
           38
          ],
          [
           "Grant Leadbitter",
           37
          ],
          [
           "Wayne Routledge",
           38
          ],
          [
           "Ben Watson",
           37
          ],
          [
           "Aaron Lennon",
           36
          ],
          [
           "Keiren Westwood",
           38
          ],
          [
           "Liam Rosenior",
           38
          ],
          [
           "Elliott Ward",
           38
          ],
          [
           "Matt Jarvis",
           36
          ],
          [
           "Jamie Mackie",
           37
          ],
          [
           "Alex Baptiste",
           37
          ],
          [
           "Danny Guthrie",
           36
          ],
          [
           "Steven Taylor",
           37
          ],
          [
           "Jean Beausejour",
           38
          ],
          [
           "Marouane Chamakh",
           39
          ],
          [
           "Mousa Dembélé",
           35
          ],
          [
           "Goran Popov",
           38
          ],
          [
           "Pablo Zabaleta",
           38
          ],
          [
           "Leroy Lita",
           38
          ],
          [
           "Brett Holman",
           38
          ],
          [
           "Anders Lindegaard",
           39
          ],
          [
           "David Jones",
           38
          ],
          [
           "Paul McShane",
           37
          ],
          [
           "Jonas Olsson",
           39
          ],
          [
           "Elsad Zverotic",
           36
          ],
          [
           "Nikica Jelavic",
           38
          ],
          [
           "Michel Vorm",
           39
          ],
          [
           "Younès Kaboul",
           37
          ],
          [
           "Gary Cahill",
           37
          ],
          [
           "James Morrison",
           37
          ],
          [
           "Martin Cranie",
           36
          ],
          [
           "Kenwyne Jones",
           38
          ],
          [
           "Mile Jedinak",
           38
          ],
          [
           "Peter Ramage",
           39
          ],
          [
           "Nedum Onuoha",
           36
          ],
          [
           "Sol Bamba",
           38
          ],
          [
           "Jesús Gámez",
           37
          ],
          [
           "Danny Graham",
           37
          ],
          [
           "Andrew Taylor",
           36
          ],
          [
           "Ross Turnbull",
           38
          ],
          [
           "Dwight Tiendalli",
           38
          ],
          [
           "Patrick McCarthy",
           39
          ],
          [
           "Andrew Surman",
           36
          ],
          [
           "Marc Wilson",
           36
          ],
          [
           "Danny Fox",
           37
          ],
          [
           "Geoff Cameron",
           38
          ],
          [
           "Sebastian Larsson",
           38
          ],
          [
           "Mark Noble",
           36
          ],
          [
           "Antonio Valencia",
           37
          ],
          [
           "Ryan Taylor",
           38
          ],
          [
           "David Nugent",
           38
          ],
          [
           "Joe Ledley",
           36
          ],
          [
           "Matthew Connolly",
           35
          ],
          [
           "Joey O'Brien",
           37
          ],
          [
           "Stephen Ward",
           37
          ],
          [
           "Roland Lamah",
           35
          ],
          [
           "Kevin Doyle",
           39
          ],
          [
           "Daniel Pudil",
           37
          ],
          [
           "Chris Brunt",
           38
          ],
          [
           "Branislav Ivanovic",
           39
          ],
          [
           "Billy Jones",
           35
          ],
          [
           "Marc Pugh",
           35
          ],
          [
           "Nathan Dyer",
           35
          ],
          [
           "Tommy Elphick",
           35
          ],
          [
           "Craig Gardner",
           36
          ],
          [
           "Danny Simpson",
           36
          ],
          [
           "Winston Reid",
           34
          ],
          [
           "Camilo Zúñiga",
           37
          ],
          [
           "Jordi Gómez",
           37
          ],
          [
           "Rob Elliot",
           37
          ],
          [
           "Jonathan Parr",
           34
          ],
          [
           "Jay Tabb",
           39
          ],
          [
           "Darron Gibson",
           35
          ],
          [
           "Kieran Gibbs",
           33
          ],
          [
           "George Boyd",
           37
          ],
          [
           "Glenn Murray",
           39
          ],
          [
           "Ryan Shawcross",
           35
          ],
          [
           "Modibo Maïga",
           35
          ],
          [
           "Mark Bunn",
           38
          ],
          [
           "Dale Stephens",
           34
          ],
          [
           "Fabian Delph",
           33
          ],
          [
           "Ignacio Scocco",
           37
          ],
          [
           "Stephen Henderson",
           34
          ],
          [
           "Ramires",
           36
          ],
          [
           "André Santos",
           39
          ],
          [
           "Leonardo Ulloa",
           36
          ],
          [
           "Florin Gardos",
           34
          ],
          [
           "Wilson Palacios",
           39
          ],
          [
           "Yannick Sagbo",
           35
          ],
          [
           "Charlie Daniels",
           36
          ],
          [
           "Kagisho Dikgacoi",
           38
          ],
          [
           "Timm Klose",
           35
          ],
          [
           "Ahmed Elmohamady",
           35
          ],
          [
           "Rene Gilmartin",
           35
          ],
          [
           "Anthony Pilkington",
           35
          ],
          [
           "Ashley Williams",
           38
          ],
          [
           "Neil Taylor",
           34
          ],
          [
           "Mohamed Diamé",
           35
          ],
          [
           "Luciano Becchio",
           39
          ],
          [
           "Brek Shea",
           33
          ],
          [
           "Miguel Britos",
           37
          ],
          [
           "Dean Moxey",
           37
          ],
          [
           "Bongani Khumalo",
           36
          ],
          [
           "Alejandro Faurlín",
           36
          ],
          [
           "Ryan Shotton",
           34
          ],
          [
           "Lee Tomlin",
           34
          ],
          [
           "Steve Morison",
           39
          ],
          [
           "Gedo",
           38
          ],
          [
           "Ikechi Anya",
           35
          ],
          [
           "Csaba Somogyi",
           37
          ],
          [
           "Ricky Holmes",
           36
          ],
          [
           "Essaïd Belkalem",
           34
          ]
         ],
         "hovertemplate": "predicted_value=%{x}<br>market_value_in_million_eur=%{y}<br>name=%{customdata[0]}<br>age=%{customdata[1]}<extra></extra>",
         "legendgroup": "",
         "marker": {
          "color": "#636efa",
          "symbol": "circle"
         },
         "mode": "markers",
         "name": "",
         "showlegend": false,
         "type": "scattergl",
         "x": [
          -0.5677729845046997,
          1.3007627725601196,
          0.36457395553588867,
          -0.4563228487968445,
          25.270488739013672,
          -0.6575918197631836,
          -0.4669092893600464,
          -0.5677729845046997,
          0.6369101405143738,
          -0.4028145968914032,
          -0.4669092893600464,
          -0.3128063380718231,
          40.33894729614258,
          5.939133644104004,
          -0.43305280804634094,
          -0.43305280804634094,
          0.9645267128944397,
          -0.3128063380718231,
          2.9030096530914307,
          0.6611675024032593,
          0.11808402836322784,
          -1.1837409734725952,
          -0.5726677775382996,
          1.2713590860366821,
          0.1872437745332718,
          1.2433003187179565,
          0.22110025584697723,
          0.2298537790775299,
          0.3413468599319458,
          -0.4669092893600464,
          -0.11751481890678406,
          0.3307174742221832,
          -0.42826399207115173,
          -0.4901793599128723,
          0.22110025584697723,
          0.22110025584697723,
          -0.3136398196220398,
          -0.4563228487968445,
          -0.43305280804634094,
          -0.5897890329360962,
          0.36457395553588867,
          -0.258708655834198,
          -0.5897890329360962,
          3.497401237487793,
          2.1262972354888916,
          -0.43305280804634094,
          1.2094439268112183,
          0.48482057452201843,
          -0.4563228487968445,
          -0.3360763192176819,
          3.3823752403259277,
          -0.33048373460769653,
          -0.4563228487968445,
          -0.43305280804634094,
          -0.145573690533638,
          1.453229546546936,
          0.1872437745332718,
          -0.4563228487968445,
          -0.038613080978393555,
          -0.42826399207115173,
          2.9673006534576416,
          0.5144453048706055,
          0.36457395553588867,
          -0.3136398196220398,
          -0.258708655834198,
          -0.29256513714790344,
          -0.258708655834198,
          -0.23064984381198883,
          -0.43305280804634094,
          -0.258708655834198,
          -0.4563228487968445,
          1.5366449356079102,
          0.39376670122146606,
          3.00115704536438,
          -0.43305280804634094,
          -0.3136398196220398,
          0.6611675024032593,
          0.3515539765357971,
          -0.29256513714790344,
          -0.3136398196220398,
          -0.43305280804634094,
          0.7182283401489258,
          -0.145573690533638,
          -0.34749630093574524,
          1.9638681411743164,
          1.2433003187179565,
          5.186959266662598,
          1.36354660987854,
          17.540414810180664,
          -0.3360763192176819,
          0.24915921688079834,
          0.36457395553588867,
          38.11934280395508,
          0.26076701283454895,
          -0.19339334964752197,
          0.7457911372184753,
          0.07534821331501007,
          1.5366449356079102,
          4.514949321746826,
          1.3153594732284546,
          23.691370010375977,
          2.0924408435821533,
          0.36457395553588867,
          0.36457395553588867,
          -0.4563228487968445,
          0.1872437745332718,
          -0.29256513714790344,
          -0.2102373093366623,
          -0.2793228328227997,
          0.22110025584697723,
          -0.43305280804634094,
          0.36457395553588867,
          15.848047256469727,
          -0.3136398196220398,
          1.6705228090286255,
          0.08163344860076904,
          -0.258708655834198,
          1.0611647367477417,
          -0.17943017184734344,
          1.5366449356079102,
          0.36457395553588867,
          0.5617550611495972,
          -0.258708655834198,
          0.9409186244010925,
          1.512172818183899,
          0.3926329016685486,
          0.31569814682006836,
          -0.33048373460769653,
          2.2465438842773438,
          -0.19339334964752197,
          -0.5726677775382996,
          0.9070621132850647,
          0.22110025584697723,
          0.2547319829463959,
          0.36457395553588867,
          -0.145573690533638,
          0.3307174742221832,
          3.007422685623169,
          -0.038613080978393555,
          3.2082059383392334,
          -0.5446089506149292,
          0.16801561415195465,
          0.36457395553588867,
          -0.4563228487968445,
          -0.6575918197631836,
          3.00115704536438,
          1.2433003187179565,
          -0.623645544052124,
          2.319941520690918,
          -0.145573690533638,
          16.096851348876953,
          -0.5726677775382996,
          -0.43305280804634094,
          11.536210060119629,
          0.36457395553588867,
          -0.2102373093366623,
          0.034636273980140686,
          1.2433003187179565,
          0.6579192876815796,
          0.36457395553588867,
          2.2652676105499268,
          0.21084918081760406,
          21.249263763427734,
          4.511214256286621,
          -0.5897890329360962,
          2.0415289402008057,
          1.2433003187179565,
          3.8266491889953613,
          5.645788669586182,
          1.5366449356079102,
          2.134758949279785,
          16.017194747924805,
          0.9409186244010925,
          -0.5726677775382996,
          3.478574752807617,
          3.2945027351379395,
          0.48482057452201843,
          0.9409186244010925,
          1.6705228090286255,
          1.5358027219772339,
          0.22110025584697723,
          16.017194747924805,
          -0.33048373460769653,
          -0.5726677775382996,
          0.7182283401489258,
          -0.13846218585968018,
          15.451253890991211,
          -0.145573690533638,
          -0.3136398196220398,
          1.691910982131958,
          15.444058418273926,
          2.419642448425293,
          1.438045620918274,
          0.9070621132850647,
          1.438045620918274,
          -0.623645544052124,
          0.36457395553588867,
          5.266666889190674,
          -1.275956153869629,
          -0.3136398196220398,
          -0.010554211214184761,
          -0.7682734727859497,
          80.74429321289062,
          1.2342629432678223,
          1.150704026222229,
          -0.43305280804634094,
          -0.43305280804634094,
          2.0924408435821533,
          -0.038613080978393555,
          -0.5726677775382996,
          1.2094439268112183,
          -0.42826399207115173,
          82.8399887084961,
          0.31569814682006836,
          0.2762257158756256,
          2.134648323059082,
          1.6037672758102417,
          2.1262972354888916,
          27.703556060791016,
          -0.145573690533638,
          2.2465438842773438,
          -0.3136398196220398,
          0.8061984181404114,
          0.7413756847381592,
          1.0751553773880005,
          16.096820831298828,
          2.1262972354888916,
          1.7404277324676514,
          10.74698543548584,
          2.1676506996154785,
          1.2094439268112183,
          0.9409186244010925,
          34.6130256652832,
          0.3307174742221832,
          8.921271324157715,
          -0.29256513714790344,
          -0.5897890329360962,
          41.16559600830078,
          5.409424781799316,
          6.465933799743652,
          0.19064123928546906,
          0.9409186244010925,
          -0.2784560024738312,
          0.6579192876815796,
          10.234431266784668,
          0.14777140319347382,
          -0.30242496728897095,
          -0.23064984381198883,
          0.3307174742221832,
          8.983625411987305,
          -1.4223370552062988,
          2.154356002807617,
          3.00115704536438,
          2.333004951477051,
          27.01616096496582,
          -0.038613080978393555,
          -0.40499401092529297,
          4.217177867889404,
          0.36457395553588867,
          -0.145573690533638,
          -0.5446089506149292,
          -0.007652668282389641,
          1.5366449356079102,
          2.2465438842773438,
          15.505378723144531,
          0.36457395553588867,
          -0.30242496728897095,
          4.419026851654053,
          -0.3132910430431366,
          2.3742942810058594,
          -0.5897890329360962,
          8.629417419433594,
          -0.4563228487968445,
          -0.4524214267730713,
          -0.07246959209442139,
          1.2433003187179565,
          0.4078139364719391,
          0.9409186244010925,
          5.611931800842285,
          2.576390027999878,
          -0.9243611097335815,
          1.2433003187179565,
          1.459065556526184,
          2.558650493621826,
          -0.20187845826148987,
          0.36457395553588867,
          0.36457395553588867,
          -0.7525025606155396,
          0.22110025584697723,
          4.471374034881592,
          -0.34749630093574524,
          0.36457395553588867,
          17.241424560546875,
          0.36457395553588867,
          14.170781135559082,
          0.6579192876815796,
          5.766035556793213,
          0.36457395553588867,
          -0.9788495302200317,
          7.1616668701171875,
          -0.038613080978393555,
          -0.9166499972343445,
          13.007275581359863,
          1.6705228090286255,
          24.394615173339844,
          9.611444473266602,
          8.814023971557617,
          15.56917953491211,
          6.9351301193237305,
          0.3307174742221832,
          -0.3360763192176819,
          0.14777140319347382,
          0.07566824555397034,
          0.5306939482688904,
          0.14960922300815582,
          3.73298716545105,
          22.452241897583008,
          5.066712379455566,
          1.6705228090286255,
          1.7921062707901,
          0.41417378187179565,
          16.100587844848633,
          0.22110025584697723,
          19.062252044677734,
          5.066712379455566,
          -0.145573690533638,
          -0.258708655834198,
          9.59593391418457,
          25.909086227416992,
          11.29440975189209,
          -0.4669092893600464,
          7.35780668258667,
          15.507356643676758,
          -0.19783341884613037,
          2.474954128265381,
          56.431884765625,
          0.19660645723342896,
          4.39096736907959,
          7.619970798492432,
          9.716179847717285,
          1.8650768995285034,
          0.36457395553588867,
          0.9070621132850647,
          -0.4563228487968445,
          41.73089599609375,
          0.9689773321151733,
          2.1262972354888916,
          -0.5897890329360962,
          3.0981454849243164,
          0.9316816329956055,
          15.116860389709473,
          5.2836151123046875,
          0.11808402836322784,
          -0.5573175549507141,
          18.308929443359375,
          0.030320409685373306,
          7.005037307739258,
          1.6705228090286255,
          3.2282721996307373,
          9.277297019958496,
          16.640453338623047,
          4.888094902038574,
          10.06746768951416,
          11.347399711608887,
          89.22982025146484,
          3.2945027351379395,
          -0.40499401092529297,
          0.6294184923171997,
          5.500035762786865,
          0.8201887011528015,
          -0.37520632147789,
          0.36457395553588867,
          1.2713590860366821,
          29.100460052490234,
          10.842596054077148,
          0.3926329016685486,
          0.1872437745332718,
          -0.4669092893600464,
          0.387785941362381,
          3.00115704536438,
          -0.3132910430431366,
          8.203728675842285,
          1.2433003187179565,
          -0.43305280804634094,
          -0.5726677775382996,
          6.1774468421936035,
          -0.5897890329360962,
          53.552310943603516,
          1.4997692108154297,
          5.96318244934082,
          0.07635994255542755,
          1.5366449356079102,
          0.9549089074134827,
          1.7202531099319458,
          1.438045620918274,
          -0.19339334964752197,
          37.252750396728516,
          -0.43305280804634094,
          0.5274012684822083,
          0.47954702377319336,
          29.840723037719727,
          9.734904289245605,
          0.9070621132850647,
          18.352638244628906,
          4.619377613067627,
          0.5076058506965637,
          1.36354660987854,
          37.568138122558594,
          0.3926329016685486,
          26.831937789916992,
          1.568077802658081,
          -0.024734798818826675,
          31.64218521118164,
          4.419026851654053,
          0.08080154657363892,
          0.31569814682006836,
          1.0826225280761719,
          30.3310604095459,
          0.22110025584697723,
          13.266997337341309,
          0.023675046861171722,
          -0.0946546345949173,
          31.00973892211914,
          3.1963250637054443,
          5.96318244934082,
          0.32174548506736755,
          2.402353048324585,
          10.035394668579102,
          13.673653602600098,
          0.011279290542006493,
          0.18239565193653107,
          -0.005455931648612022,
          -0.3180798590183258,
          6.112929344177246,
          18.164676666259766,
          6.085624694824219,
          24.848806381225586,
          5.778794288635254,
          0.4078139364719391,
          10.19619369506836,
          0.02840055152773857,
          0.45631980895996094,
          13.967487335205078,
          10.150252342224121,
          17.221776962280273,
          10.216246604919434,
          30.44349479675293,
          2.3827662467956543,
          2.6943697929382324,
          -0.43305280804634094,
          1.471710443496704,
          -0.22110341489315033,
          7.713913440704346,
          -0.04800480604171753,
          -0.05881350487470627,
          4.39096736907959,
          0.5352330803871155,
          3.120649814605713,
          3.1234138011932373,
          0.4249351918697357,
          5.055405139923096,
          1.9470722675323486,
          0.7078471183776855,
          3.013352155685425,
          5.066712379455566,
          0.24081505835056305,
          8.731183052062988,
          61.531620025634766,
          26.62799644470215,
          19.95085334777832,
          2.2699391841888428,
          -0.37046515941619873,
          15.235760688781738,
          8.337468147277832,
          4.1299285888671875,
          6.323650360107422,
          -0.11567696928977966,
          1.8573848009109497,
          -0.05881350487470627,
          0.32525792717933655,
          0.9947187304496765,
          9.212696075439453,
          -0.39342886209487915,
          3.1957108974456787,
          15.350292205810547,
          0.5352330803871155,
          2.852085828781128,
          1.9606947898864746,
          10.52702808380127,
          -0.005455931648612022,
          16.66745948791504,
          2.4104666709899902,
          1.5312526226043701,
          0.19690527021884918,
          0.31004035472869873,
          6.090896129608154,
          0.684410572052002,
          -0.3180798590183258,
          1.568077802658081,
          -0.4748161733150482,
          33.454376220703125,
          37.486358642578125,
          37.486358642578125,
          54.3133544921875,
          12.978616714477539,
          10.36087417602539,
          -0.2155108004808426,
          -0.007652668282389641,
          -0.05881350487470627,
          -0.5726677775382996,
          10.197006225585938,
          3.4634454250335693,
          0.36665409803390503,
          -0.13253271579742432,
          28.236005783081055,
          18.030231475830078,
          1.9751309156417847,
          4.181556701660156,
          -0.13846218585968018,
          19.985183715820312,
          52.610313415527344,
          4.851633071899414,
          0.6599994897842407,
          1.471710443496704,
          40.85748291015625,
          -0.7245092391967773,
          1.9751309156417847,
          0.5149093866348267,
          76.71607971191406,
          79.607666015625,
          2.878632068634033,
          0.9608622789382935,
          0.10609488189220428,
          -0.12344090640544891,
          4.779452323913574,
          19.585243225097656,
          -0.00744054839015007,
          0.38909420371055603,
          0.4599781334400177,
          18.3214168548584,
          3.7715187072753906,
          0.1341591477394104,
          0.08486560732126236,
          0.9396101236343384,
          1.7399898767471313,
          3.4634454250335693,
          12.447640419006348,
          0.08964583277702332,
          0.8648195862770081,
          1.418206810951233,
          2.86211895942688,
          1.471710443496704,
          12.451668739318848,
          15.093612670898438,
          3.0414109230041504,
          45.78590774536133,
          2.2506022453308105,
          11.875760078430176,
          15.373626708984375,
          0.5569913387298584,
          16.066057205200195,
          20.583589553833008,
          1.1127082109451294,
          30.968021392822266,
          3.229567289352417,
          1.8989332914352417,
          10.81750202178955,
          25.917709350585938,
          0.9829677939414978,
          0.8114350438117981,
          5.287437438964844,
          0.5149093866348267,
          20.381492614746094,
          0.4480302631855011,
          2.4916787147521973,
          -0.05881350487470627,
          79.50296020507812,
          1.418206810951233,
          0.387785941362381,
          17.856830596923828,
          2.3550214767456055,
          3.3399133682250977,
          0.5250436067581177,
          24.37429428100586,
          19.532835006713867,
          60.54281997680664,
          29.87255096435547,
          2.489741563796997,
          0.820488452911377,
          5.4707207679748535,
          24.97577667236328,
          2.4103705883026123,
          21.76397705078125,
          0.394712895154953,
          15.27161979675293,
          8.458609580993652,
          0.31331005692481995,
          3.3040366172790527,
          0.4456728994846344,
          7.420568466186523,
          0.6602038741111755,
          15.430063247680664,
          0.8114350438117981,
          0.5663442015647888,
          11.752882957458496,
          17.512353897094727,
          14.717845916748047,
          -0.0946546345949173,
          59.447296142578125,
          5.437456130981445,
          16.201210021972656,
          0.18337060511112213,
          1.8281335830688477,
          0.47359511256217957,
          16.478824615478516,
          25.65105438232422,
          0.8935458660125732,
          1.2807743549346924,
          35.832332611083984,
          0.5700397491455078,
          33.804012298583984,
          27.501583099365234,
          -0.37520632147789,
          0.7260398268699646,
          0.2574373483657837,
          16.446578979492188,
          1.6705228090286255,
          4.102151393890381,
          0.8229828476905823,
          16.63564109802246,
          0.2882622480392456,
          1.1381922960281372,
          24.835357666015625,
          1.2433003187179565,
          0.858898937702179,
          16.49911117553711,
          18.466711044311523,
          11.441950798034668,
          2.455885171890259,
          -0.03075467236340046,
          8.322139739990234,
          0.905779242515564,
          49.52134704589844,
          2.8509230613708496,
          19.019447326660156,
          18.367433547973633,
          38.13935852050781,
          9.197246551513672,
          9.797430992126465,
          6.45387601852417,
          0.6002007126808167,
          0.7399929165840149,
          32.22007751464844,
          1.302791714668274,
          38.49702072143555,
          3.321425437927246,
          0.5149093866348267,
          1.362857460975647,
          2.5549497604370117,
          69.23213958740234,
          1.6474485397338867,
          3.2933666706085205,
          0.4776206314563751,
          6.748482704162598,
          9.160097122192383,
          18.4467716217041,
          1.1127082109451294,
          1.5824036598205566,
          1.391252875328064,
          6.384966850280762,
          77.04024505615234,
          0.8742946982383728,
          0.4078139364719391,
          0.8845716118812561,
          1.063258171081543,
          49.34278869628906,
          31.64154815673828,
          54.577030181884766,
          2.7830867767333984,
          0.23594450950622559,
          1.2086589336395264,
          18.25898551940918,
          11.762876510620117,
          5.624542713165283,
          0.8935458660125732,
          0.37395745515823364,
          3.523376703262329,
          5.5392961502075195,
          2.916963815689087,
          52.764312744140625,
          6.533870697021484,
          25.776668548583984,
          66.26237487792969,
          -0.02348930761218071,
          20.016265869140625,
          1.400006651878357,
          18.276453018188477,
          27.242029190063477,
          17.249563217163086,
          21.049198150634766,
          19.832111358642578,
          45.920169830322266,
          15.995702743530273,
          0.9549089074134827,
          0.9945412278175354,
          1.174815058708191,
          16.194154739379883,
          52.38350296020508,
          4.019839286804199,
          1.7386523485183716,
          18.017221450805664,
          0.3519448935985565,
          0.9396101236343384,
          -0.13296043872833252,
          0.48465612530708313,
          11.599346160888672,
          19.969175338745117,
          8.874279975891113,
          11.823089599609375,
          19.785053253173828,
          20.066259384155273,
          6.773775577545166,
          59.640403747558594,
          0.387785941362381,
          18.601430892944336,
          61.3294563293457,
          4.247596740722656,
          0.7399929165840149,
          8.165265083312988,
          6.748482704162598,
          1.1127082109451294,
          23.19574737548828,
          20.241331100463867,
          0.8742946982383728,
          1.7258775234222412,
          17.236127853393555,
          65.3930435180664,
          25.8408260345459,
          4.877394199371338,
          0.940014123916626,
          -0.00744054839015007,
          11.939078330993652,
          21.056699752807617,
          0.856512725353241,
          2.954113245010376,
          12.585590362548828,
          1.5347267389297485,
          74.57051086425781,
          16.576183319091797,
          18.048688888549805,
          54.5825080871582,
          1.418206810951233,
          19.875526428222656,
          12.307117462158203,
          0.9968191981315613,
          47.212989807128906,
          5.4707207679748535,
          0.5650073289871216,
          0.5013765692710876,
          1.0316898822784424,
          25.624126434326172,
          40.77083969116211,
          18.721681594848633,
          40.05773162841797,
          21.87163734436035,
          0.8935458660125732,
          90.58816528320312,
          1.5627855062484741,
          2.9821720123291016,
          89.09234619140625,
          0.9114440679550171,
          32.2113151550293,
          47.963706970214844,
          1.5347267389297485,
          19.1124324798584,
          1.5347267389297485,
          0.6241996884346008,
          0.7293325066566467,
          9.569293975830078,
          26.34054183959961,
          2.351454496383667,
          1.994551181793213,
          8.923717498779297,
          47.25183868408203,
          0.3648802638053894,
          11.82756519317627,
          14.685481071472168,
          1.1149647235870361,
          8.343172073364258,
          51.02842330932617,
          5.750734806060791,
          10.032062530517578,
          0.6034935116767883,
          6.71982479095459,
          0.5926093459129333,
          4.813920497894287,
          4.284745693206787,
          0.28816354274749756,
          2.489741563796997,
          18.272584915161133,
          2.3863699436187744,
          0.6393362283706665,
          1.892049789428711,
          1.7909221649169922,
          1.4975775480270386,
          42.85379409790039,
          13.909448623657227,
          2.0739219188690186,
          0.720447301864624,
          2.320075511932373,
          32.15086364746094,
          2.526890993118286,
          45.73524856567383,
          0.7752856016159058,
          31.903554916381836,
          1.0209647417068481,
          0.7631890177726746,
          18.324193954467773,
          8.202413558959961,
          26.556705474853516,
          2.5536012649536133,
          57.431392669677734,
          0.520829975605011,
          1.4637211561203003,
          1.0316898822784424,
          22.744915008544922,
          0.7575966119766235,
          1.6474485397338867,
          0.3910787105560303,
          41.21597671508789,
          0.6034935116767883,
          39.61404800415039,
          2.493034601211548,
          6.914715766906738,
          50.48679733276367,
          3.180035352706909,
          77.3230972290039,
          6.145193576812744,
          21.890657424926758,
          4.668134689331055,
          13.518461227416992,
          17.155763626098633,
          5.491543292999268,
          4.404992580413818,
          19.7528133392334,
          4.0630316734313965,
          2.954113245010376,
          0.4529939889907837,
          1.1595981121063232,
          1.1676393747329712,
          8.812365531921387,
          3.4741032123565674,
          114.63572692871094,
          22.223953247070312,
          2.907068967819214,
          28.99869155883789,
          33.33308029174805,
          15.875456809997559,
          0.4529939889907837,
          0.6580561995506287,
          11.479100227355957,
          19.21513557434082,
          25.803674697875977,
          23.228076934814453,
          21.401384353637695,
          4.478358268737793,
          1.2754074335098267,
          2.0772149562835693,
          17.693944931030273,
          4.478358268737793,
          0.22349105775356293,
          19.01331901550293,
          139.7073516845703,
          2.836045980453491,
          1.0316898822784424,
          1.624948501586914,
          10.743123054504395,
          35.49190139770508,
          1.391252875328064,
          0.38909420371055603,
          12.340275764465332,
          3.3727376461029053,
          0.9874293804168701,
          5.736048698425293,
          27.654407501220703,
          0.5645504593849182,
          5.5952839851379395,
          4.035553455352783,
          17.722970962524414,
          26.812284469604492,
          0.6373500227928162,
          1.8934860229492188,
          14.500143051147461,
          3.685185670852661,
          0.9767593145370483,
          2.526890993118286,
          0.7200283408164978,
          2.891167163848877,
          38.63678741455078,
          67.91619110107422,
          1.1013264656066895,
          0.48371079564094543,
          4.888247013092041,
          0.5523543357849121,
          1.6366093158721924,
          26.58147430419922,
          3.2642462253570557,
          2.5549497604370117,
          1.8206545114517212,
          6.813691139221191,
          22.492355346679688,
          21.451553344726562,
          35.6151123046875,
          12.138845443725586,
          3.7690742015838623,
          10.349002838134766,
          26.078235626220703,
          3.2294118404388428,
          2.526890993118286,
          34.77616500854492,
          0.6413209438323975,
          10.82303237915039,
          2.837592840194702,
          13.409440994262695,
          10.233576774597168,
          29.565135955810547,
          0.7399929165840149,
          1.994551181793213,
          0.37066468596458435,
          1.391252875328064,
          1.1315393447875977,
          0.30841511487960815,
          5.31658411026001,
          13.338788986206055,
          37.25506591796875,
          1.4810112714767456,
          0.6581129431724548,
          0.6580561995506287,
          8.632646560668945,
          34.7939567565918,
          9.800692558288574,
          3.147646427154541,
          11.353374481201172,
          6.109886646270752,
          10.977270126342773,
          3.220269203186035,
          16.224075317382812,
          2.139130115509033,
          14.20754623413086,
          1.476794719696045,
          4.577089309692383,
          0.7954238653182983,
          0.20329760015010834,
          23.13585090637207,
          65.4974594116211,
          10.957564353942871,
          0.8226562142372131,
          0.5569913387298584,
          4.037232398986816,
          7.979100227355957,
          46.66695785522461,
          39.420257568359375,
          6.137946128845215,
          0.38909420371055603,
          16.145044326782227,
          35.70286560058594,
          36.78364562988281,
          21.443458557128906,
          0.13226976990699768,
          40.94622039794922,
          31.62871551513672,
          4.828797340393066,
          10.433243751525879,
          2.9868693351745605,
          1.193726658821106,
          9.89453125,
          17.88606071472168,
          26.355588912963867,
          0.6524626016616821,
          0.6751774549484253,
          2.1110713481903076,
          0.6065338253974915,
          37.8033561706543,
          0.9313732385635376,
          3.321425437927246,
          1.5731987953186035,
          3.2294118404388428,
          1.1520283222198486,
          9.608431816101074,
          9.569293975830078,
          0.7575966119766235,
          41.53269577026367,
          0.9907221794128418,
          0.7928279042243958,
          14.745041847229004,
          0.5926093459129333,
          0.7752856016159058,
          1.3408453464508057,
          0.7309125065803528,
          7.451603889465332,
          4.853179454803467,
          10.643110275268555,
          0.6581129431724548,
          21.17481231689453,
          7.006555557250977,
          22.32648468017578,
          1.9946593046188354,
          2.0621581077575684,
          4.169134616851807,
          2.4202263355255127,
          1.657684087753296,
          2.3148229122161865,
          4.533970832824707,
          7.381506443023682,
          30.11634063720703,
          26.284992218017578,
          1.770819067955017,
          1.45295250415802,
          0.6919694542884827,
          19.785598754882812,
          0.5165132880210876,
          3.622441291809082,
          3.9431910514831543,
          13.897258758544922,
          11.297760963439941,
          1.664668083190918,
          2.870880365371704,
          2.493034601211548,
          1.22922682762146,
          3.383514881134033,
          1.6915404796600342,
          13.085453987121582,
          0.6002007126808167,
          1.2671420574188232,
          0.5013765692710876,
          1.361792802810669,
          2.4350697994232178,
          16.682355880737305,
          13.34572696685791,
          7.6701765060424805,
          40.73691177368164,
          41.533077239990234,
          1.3896080255508423,
          0.6373500227928162,
          22.387500762939453,
          11.210561752319336,
          0.6524626016616821,
          0.9114440679550171,
          1.2486578226089478,
          0.5902533531188965,
          1.4817955493927002,
          4.289381504058838,
          1.3408453464508057,
          7.501753330230713,
          4.189983367919922,
          3.7342090606689453,
          0.895832896232605,
          2.1374928951263428,
          1.7195992469787598,
          9.414756774902344,
          3.5105321407318115,
          19.961681365966797,
          0.6919694542884827,
          2.954113245010376,
          1.3573964834213257,
          20.436479568481445,
          14.374395370483398,
          0.387785941362381,
          15.450773239135742,
          0.6241996884346008,
          0.5902533531188965,
          0.013629291206598282,
          20.15381622314453,
          8.724827766418457,
          19.1124324798584,
          0.6393362283706665,
          2.0772149562835693,
          14.169210433959961,
          19.822542190551758,
          49.6311149597168,
          4.779085159301758,
          1.8046754598617554,
          1.9186843633651733,
          2.171349287033081,
          5.226839065551758,
          1.9731673002243042,
          30.448976516723633,
          1.7593388557434082,
          3.413907289505005,
          0.7752856016159058,
          16.45885467529297,
          8.522149085998535,
          1.6462204456329346,
          16.145044326782227,
          4.845643520355225,
          0.6919694542884827,
          0.5523543357849121,
          3.8261239528656006,
          1.0160791873931885,
          0.4529939889907837,
          5.408830642700195,
          3.3300158977508545,
          25.111223220825195,
          0.895832896232605,
          3.939758539199829,
          0.6580561995506287,
          4.814744472503662,
          0.7032362222671509,
          4.218042373657227,
          2.571019411087036,
          16.425674438476562,
          6.411125659942627,
          23.69752311706543,
          20.864933013916016,
          0.38909420371055603,
          2.4486780166625977,
          8.338891983032227,
          21.789302825927734,
          9.847721099853516,
          0.7032362222671509,
          0.7032362222671509,
          2.3295979499816895,
          2.0608713626861572,
          2.1374928951263428,
          2.571019411087036,
          3.0543212890625,
          0.37395745515823364,
          0.8114200830459595,
          21.318078994750977,
          7.662736415863037,
          5.73068380355835,
          20.54553985595703,
          2.3650991916656494,
          1.9962824583053589,
          2.4350697994232178,
          2.3148229122161865,
          0.6580561995506287,
          1.4907926321029663,
          18.93744659423828,
          1.7373439073562622,
          0.895832896232605,
          12.167646408081055,
          0.6393362283706665,
          1.735242486000061,
          1.947736144065857,
          36.294944763183594,
          19.23267936706543,
          1.1656678915023804,
          0.8619763851165771,
          4.07703971862793,
          8.12656307220459,
          3.172828197479248,
          2.5394649505615234,
          0.9203519225120544,
          7.66740083694458,
          0.895832896232605,
          0.9238916635513306,
          3.237258195877075,
          2.342881917953491,
          1.2205990552902222,
          2.1374928951263428,
          10.182774543762207,
          0.7954238653182983,
          1.657684087753296,
          1.0751065015792847,
          4.449260234832764,
          3.7190420627593994,
          15.486924171447754,
          1.45295250415802,
          0.6393362283706665,
          2.3224422931671143,
          3.7987606525421143,
          1.3276928663253784,
          0.8072335720062256,
          0.5902533531188965,
          17.03351593017578,
          1.3651585578918457,
          2.788806438446045,
          4.189983367919922,
          4.563122749328613,
          0.6241996884346008,
          1.2215769290924072,
          16.091772079467773,
          1.3651585578918457,
          0.5902533531188965,
          1.468753457069397,
          3.8451085090637207,
          7.381506443023682,
          0.5352330803871155,
          4.055535316467285,
          11.419795036315918,
          4.117037773132324,
          6.574066162109375,
          0.6085852980613708,
          1.0020456314086914,
          0.46743044257164,
          0.5902533531188965,
          40.8265380859375,
          0.5902533531188965,
          1.0160791873931885,
          0.5523543357849121,
          4.744453430175781,
          24.47815704345703,
          14.338507652282715,
          8.436422348022461,
          2.171349287033081,
          0.6065338253974915,
          1.624948501586914,
          1.2215769290924072,
          4.189983367919922,
          3.420703649520874,
          4.866490364074707,
          3.6192209720611572,
          1.7195992469787598,
          2.6385021209716797,
          1.0160791873931885,
          1.0160791873931885,
          0.6241996884346008,
          1.4455206394195557,
          3.5631825923919678,
          0.895832896232605,
          14.876741409301758,
          0.6241996884346008,
          4.015389442443848,
          6.813691139221191,
          1.9249217510223389,
          10.0629301071167,
          1.8392082452774048,
          0.6393362283706665,
          5.646406650543213,
          1.7195992469787598,
          3.8521125316619873,
          5.078670024871826,
          0.895832896232605,
          1.4455206394195557,
          0.6393362283706665,
          2.171349287033081,
          19.14048957824707,
          0.8126307129859924,
          4.833789825439453,
          2.698047399520874,
          4.361692905426025,
          2.944751739501953,
          0.8619763851165771,
          1.7568556070327759,
          1.1370216608047485,
          0.6751774549484253,
          2.1519691944122314,
          3.263268232345581,
          3.1275908946990967,
          19.055551528930664,
          0.7752856016159058,
          3.1504456996917725,
          0.6580561995506287,
          14.024672508239746,
          7.591133117675781,
          2.421785831451416,
          2.660914182662964,
          0.9313732385635376,
          1.947736144065857,
          8.944974899291992,
          12.024582862854004,
          5.950000762939453,
          6.075796127319336,
          3.2663474082946777,
          3.4065520763397217,
          19.894405364990234,
          2.6868717670440674,
          0.6241996884346008,
          0.6393362283706665,
          0.6393362283706665,
          10.728933334350586,
          3.6541287899017334,
          10.11518669128418,
          5.086675643920898,
          0.5013765692710876,
          8.982563972473145,
          3.5631825923919678,
          0.6580561995506287,
          24.49640655517578,
          7.276149272918701,
          1.2292091846466064,
          1.7195992469787598,
          2.266651153564453,
          0.6241996884346008,
          4.2703423500061035,
          0.6393362283706665,
          6.3390326499938965,
          2.8094520568847656,
          0.5902533531188965,
          3.66898250579834,
          4.446179389953613,
          1.0160791873931885,
          2.003775119781494,
          2.037631034851074,
          3.4274861812591553,
          1.5755356550216675,
          1.275362253189087,
          0.6393362283706665,
          0.6393362283706665,
          1.3651585578918457,
          1.6878606081008911,
          2.037631034851074,
          1.1394133567810059,
          1.9313136339187622,
          1.2493351697921753,
          0.8619763851165771,
          0.5902533531188965,
          0.5902533531188965,
          1.7781496047973633,
          1.5672509670257568,
          1.7195992469787598,
          1.7195992469787598,
          0.5902533531188965,
          1.2002524137496948,
          0.9702907204627991,
          2.48358416557312,
          0.7948121428489685,
          1.3711564540863037,
          0.28466421365737915,
          1.3711564540863037,
          0.28466421365737915,
          0.28466421365737915,
          0.7948121428489685,
          0.17152905464172363,
          -0.14243000745773315,
          -0.0028149958234280348,
          -0.15955126285552979,
          -0.14243000745773315,
          0.17152905464172363,
          0.5059059262275696,
          -0.15955126285552979,
          0.17152905464172363,
          0.09975402057170868,
          -0.15955126285552979,
          -0.15955126285552979,
          0.11659792065620422,
          -0.14243000745773315,
          -0.15955126285552979,
          -0.15955126285552979,
          -0.0028149958234280348,
          0.11659792065620422,
          0.09975402057170868,
          0.09975402057170868,
          -0.15955126285552979,
          -0.15955126285552979,
          -0.0028149958234280348,
          0.6513383984565735,
          0.17152905464172363,
          0.6513383984565735,
          -0.0028149958234280348,
          -0.15955126285552979,
          0.7948121428489685,
          -0.14243000745773315,
          0.09975402057170868,
          -0.15955126285552979,
          -0.14243000745773315,
          0.17152905464172363,
          -0.0028149958234280348,
          -0.15955126285552979,
          -0.0028149958234280348,
          -0.0028149958234280348,
          0.09975402057170868,
          0.39162471890449524,
          -0.15955126285552979,
          0.17152905464172363,
          -0.15955126285552979,
          -0.14243000745773315,
          -0.0028149958234280348,
          -0.15955126285552979,
          -0.0028149958234280348,
          -0.15955126285552979,
          -0.15955126285552979,
          -0.15955126285552979,
          0.17152905464172363,
          0.5059059262275696,
          0.11659792065620422,
          0.28466421365737915,
          -0.14243000745773315,
          -0.14243000745773315,
          0.28466421365737915,
          -0.15955126285552979,
          -0.02608499303460121,
          -0.0028149958234280348,
          0.28466421365737915,
          0.09975402057170868,
          -0.0028149958234280348,
          -0.15955126285552979,
          -0.15955126285552979,
          -0.15955126285552979,
          0.6513383984565735,
          -0.15955126285552979,
          -0.0028149958234280348,
          -0.15955126285552979,
          0.17152905464172363,
          0.7948121428489685,
          1.3711564540863037,
          -0.15955126285552979,
          -0.15955126285552979,
          -0.0028149958234280348,
          -0.02608499303460121,
          -0.15955126285552979,
          0.17152905464172363,
          -0.15955126285552979,
          -0.15955126285552979,
          0.09975402057170868,
          0.17152905464172363,
          0.28466421365737915,
          -0.0028149958234280348,
          0.28466421365737915,
          -0.0028149958234280348,
          -0.0028149958234280348,
          -0.02608499303460121,
          0.11659792065620422,
          0.28466421365737915,
          -0.14243000745773315,
          -0.0028149958234280348,
          -0.14243000745773315,
          -0.15955126285552979,
          -0.15955126285552979,
          0.09975402057170868,
          0.7948121428489685,
          0.28466421365737915,
          0.11659792065620422,
          0.28466421365737915,
          -0.0028149958234280348,
          -0.15955126285552979,
          0.7948121428489685,
          1.786975622177124,
          0.28466421365737915,
          -0.02608499303460121,
          -0.02608499303460121,
          -0.15955126285552979,
          -0.15955126285552979,
          -0.02608499303460121,
          -0.15955126285552979,
          -0.15955126285552979,
          0.6513383984565735,
          -0.02608499303460121,
          -0.02608499303460121,
          1.3711564540863037,
          -0.15955126285552979,
          -0.0028149958234280348,
          0.6513383984565735,
          0.17152905464172363,
          0.17152905464172363,
          -0.15955126285552979,
          0.11659792065620422,
          0.6513383984565735,
          -0.0028149958234280348,
          -0.0028149958234280348,
          -0.15955126285552979,
          -0.02608499303460121,
          0.5059059262275696,
          -0.15955126285552979,
          -0.15955126285552979,
          -0.14243000745773315,
          -0.15955126285552979,
          -0.15955126285552979,
          -0.15955126285552979
         ],
         "xaxis": "x",
         "y": [
          0.1,
          1.5,
          1,
          0.1,
          15,
          0.075,
          0.2,
          0.15,
          0.6,
          0.2,
          0.125,
          0.15,
          40,
          4,
          0.15,
          0.15,
          0.8,
          0.2,
          2,
          0.9,
          0.3,
          0.1,
          0.1,
          0.6,
          0.45,
          1,
          0.5,
          0.8,
          0.5,
          0.1,
          0.3,
          0.3,
          0.15,
          0.05,
          0.25,
          0.6,
          0.3,
          0.2,
          0.15,
          0.1,
          0.3,
          0.3,
          0.1,
          2.5,
          0.8,
          0.2,
          1,
          0.4,
          0.2,
          0.15,
          2,
          0.3,
          0.05,
          0.25,
          0.15,
          1.2,
          0.35,
          0.2,
          0.5,
          0.3,
          2,
          0.3,
          0.4,
          0.15,
          0.25,
          0.4,
          0.25,
          0.2,
          0.15,
          0.3,
          0.1,
          1,
          0.6,
          2.5,
          0.1,
          0.3,
          0.9,
          0.3,
          0.45,
          0.3,
          0.2,
          0.15,
          0.45,
          0.3,
          1.5,
          1,
          2.5,
          1,
          28,
          0.25,
          0.4,
          0.9,
          38,
          0.5,
          0.2,
          1.5,
          0.3,
          1.5,
          3,
          1,
          20,
          1,
          0.6,
          0.75,
          0.15,
          0.4,
          0.35,
          0.25,
          0.1,
          0.5,
          0.25,
          0.6,
          15,
          0.1,
          1,
          0.5,
          0.25,
          0.8,
          0.6,
          0.7,
          0.5,
          0.7,
          0.25,
          0.5,
          1.2,
          0.8,
          0.3,
          0.025,
          1.8,
          0.2,
          0.2,
          1,
          0.4,
          0.275,
          0.4,
          0.3,
          0.6,
          2,
          0.25,
          7,
          0.15,
          0.175,
          0.5,
          0.2,
          0.15,
          1.8,
          0.6,
          0.15,
          1,
          0.4,
          22,
          0.15,
          0.15,
          12,
          0.3,
          0.3,
          0.25,
          0.4,
          0.4,
          0.8,
          2,
          1,
          16,
          2,
          0.1,
          2,
          1.2,
          2.5,
          3,
          1.5,
          13,
          9,
          0.8,
          0.15,
          2.5,
          2.5,
          0.3,
          0.7,
          0.9,
          1.5,
          0.5,
          14,
          0.3,
          0.15,
          0.7,
          0.5,
          12,
          0.2,
          0.25,
          2,
          8,
          3.5,
          0.7,
          0.6,
          1.2,
          0.05,
          0.5,
          9,
          0.25,
          0.3,
          0.5,
          0.175,
          70,
          0.6,
          1.2,
          0.25,
          0.1,
          1.8,
          0.3,
          0.15,
          0.85,
          0.2,
          60,
          0.25,
          1,
          1.2,
          1.2,
          2,
          25,
          0.2,
          2.8,
          0.125,
          1.5,
          0.175,
          0.8,
          11,
          1.2,
          0.6,
          5,
          1.2,
          1.5,
          0.7,
          25,
          0.25,
          7,
          0.3,
          0.1,
          45,
          5,
          8,
          0.5,
          1,
          0.3,
          0.6,
          4,
          0.5,
          0.3,
          0.9,
          0.5,
          10,
          0.25,
          3,
          2.5,
          2.5,
          28,
          0.6,
          0.2,
          3,
          1,
          0.3,
          0.2,
          0.6,
          1.5,
          1.5,
          10,
          1,
          0.05,
          2,
          0.3,
          2.5,
          0.05,
          8,
          0.2,
          0.125,
          0.5,
          1.2,
          0.15,
          1,
          6,
          2,
          0.1,
          0.7,
          0.15,
          2,
          0.45,
          0.9,
          0.4,
          0.25,
          0.8,
          2,
          0.3,
          1,
          16,
          0.7,
          16,
          0.5,
          2.5,
          0.8,
          0.4,
          10,
          0.9,
          0.45,
          6,
          1.2,
          17,
          5,
          8,
          12,
          7,
          0.6,
          0.3,
          0.6,
          0.7,
          0.25,
          0.4,
          1.8,
          12,
          2,
          0.8,
          0.7,
          0.25,
          9.5,
          0.3,
          25,
          4.5,
          0.8,
          0.4,
          6,
          22,
          9,
          0.35,
          10,
          12,
          0.15,
          0.9,
          60,
          0.6,
          2.2,
          10,
          8,
          2,
          0.75,
          1.2,
          0.45,
          45,
          1.5,
          2,
          0.15,
          2.5,
          0.1,
          12,
          2.5,
          0.3,
          0.125,
          35,
          1,
          6.5,
          2,
          3.5,
          8,
          16,
          1.5,
          16,
          8,
          70,
          1.2,
          0.2,
          0.25,
          2,
          0.8,
          0.25,
          1.5,
          0.9,
          28,
          9,
          1,
          0.45,
          0.2,
          0.175,
          1.5,
          0.3,
          6,
          1,
          0.35,
          0.2,
          3.5,
          0.15,
          35,
          1.8,
          4.5,
          0.6,
          0.9,
          0.9,
          1.2,
          1,
          0.35,
          25,
          0.2,
          0.1,
          1.2,
          20,
          9,
          0.7,
          18,
          3.2,
          0.85,
          2,
          30,
          0.8,
          35,
          0.6,
          0.275,
          25,
          1.5,
          0.25,
          0.55,
          0.35,
          38,
          0.35,
          12,
          0.35,
          0.3,
          35,
          4,
          3.8,
          0.2,
          2.2,
          4.5,
          10,
          0.025,
          0.9,
          0.2,
          0.2,
          3,
          18,
          7,
          40,
          3,
          0.2,
          10,
          0.15,
          0.6,
          20,
          18,
          15,
          15,
          27,
          2.2,
          3.5,
          0.3,
          1.8,
          0.35,
          5,
          0.3,
          0.2,
          2.5,
          0.15,
          3.5,
          3,
          0.3,
          15,
          0.9,
          0.3,
          2.5,
          6,
          0.4,
          16,
          75,
          40,
          12,
          2,
          0.3,
          9,
          4,
          12,
          5,
          1,
          3,
          0.2,
          0.4,
          1,
          18,
          0.35,
          1.2,
          25,
          0.25,
          8,
          0.6,
          8,
          0.175,
          10,
          1,
          1.2,
          0.3,
          0.5,
          3.5,
          0.2,
          0.2,
          1.2,
          0.025,
          20,
          28,
          40,
          45,
          7,
          6,
          0.4,
          0.6,
          0.2,
          0.15,
          18,
          3.5,
          0.35,
          0.25,
          35,
          15,
          1.5,
          2.2,
          0.6,
          20,
          48,
          3.5,
          0.35,
          1.5,
          40,
          0.075,
          1.5,
          0.45,
          75,
          80,
          3.5,
          1.5,
          0.35,
          0.15,
          10,
          28,
          0.15,
          0.125,
          0.3,
          14,
          1.5,
          0.25,
          0.3,
          0.2,
          1,
          4,
          12,
          0.5,
          0.9,
          1.5,
          6,
          1,
          10,
          10,
          2,
          30,
          1.8,
          18,
          12,
          0.125,
          13,
          25,
          0.2,
          50,
          2.5,
          2.5,
          8,
          22,
          1.2,
          0.9,
          7,
          0.5,
          22,
          0.225,
          2,
          0.3,
          80,
          1.2,
          0.2,
          15,
          1.5,
          3,
          0.125,
          20,
          18,
          80,
          30,
          5,
          0.5,
          4.5,
          25,
          2.5,
          25,
          0.35,
          20,
          16,
          0.25,
          1.8,
          0.15,
          7,
          1.2,
          20,
          0.8,
          0.25,
          18,
          17,
          35,
          0.075,
          32,
          4,
          12,
          0.35,
          2,
          0.25,
          13,
          15,
          0.3,
          0.5,
          35,
          0.3,
          38,
          40,
          0.35,
          0.25,
          0.15,
          16,
          1.8,
          2.8,
          0.3,
          16,
          0.25,
          0.8,
          25,
          0.7,
          2,
          12,
          20,
          20,
          2,
          0.2,
          15,
          0.25,
          60,
          2.5,
          25,
          18,
          25,
          3,
          8,
          15,
          0.25,
          0.3,
          25,
          0.5,
          25,
          3.5,
          1.2,
          1.2,
          2.8,
          60,
          0.8,
          3,
          0.15,
          4.5,
          4.5,
          9,
          0.2,
          0.9,
          0.5,
          4,
          65,
          0.4,
          0.15,
          0.3,
          3.8,
          38,
          35,
          80,
          2,
          0.1,
          0.7,
          13,
          22,
          5,
          0.15,
          0.075,
          7,
          4.5,
          2,
          40,
          4,
          16,
          75,
          0.5,
          16,
          0.7,
          12,
          25,
          20,
          18,
          38,
          50,
          13,
          0.8,
          0.4,
          1,
          18,
          50,
          2.2,
          0.5,
          28,
          0.075,
          0.45,
          0.15,
          0.3,
          16,
          25,
          12,
          6,
          38,
          28,
          12,
          50,
          0.3,
          25,
          50,
          5,
          0.5,
          4.5,
          4.5,
          0.4,
          28,
          15,
          0.7,
          1,
          15,
          80,
          20,
          3,
          0.3,
          0.2,
          6,
          18,
          0.9,
          1.5,
          7,
          0.9,
          65,
          25,
          12,
          70,
          1.5,
          32,
          12,
          0.8,
          35,
          3.5,
          0.3,
          0.15,
          0.5,
          40,
          60,
          27,
          38,
          35,
          0.2,
          90,
          2.8,
          2,
          90,
          0.45,
          45,
          75,
          1.2,
          18,
          0.8,
          0.25,
          0.4,
          15,
          15,
          6,
          1.2,
          4,
          30,
          0.2,
          10,
          35,
          0.6,
          16,
          48,
          3.5,
          10,
          0.2,
          3,
          0.4,
          13,
          3,
          0.075,
          1.8,
          30,
          2.2,
          0.125,
          1.8,
          1,
          3.5,
          28,
          18,
          1.5,
          0.3,
          2,
          35,
          0.9,
          35,
          0.175,
          17,
          0.3,
          0.3,
          18,
          12,
          30,
          1.4,
          50,
          0.35,
          3.5,
          0.35,
          18,
          0.3,
          1,
          0.15,
          50,
          0.3,
          35,
          5,
          17,
          45,
          3.5,
          55,
          5,
          35,
          3,
          12,
          22,
          10,
          3.5,
          25,
          6,
          2,
          0.6,
          0.5,
          0.5,
          4,
          7,
          110,
          15,
          2.2,
          20,
          25,
          18,
          0.25,
          0.15,
          7,
          35,
          20,
          25,
          18,
          9,
          7,
          1.3,
          15,
          12,
          0.125,
          22,
          180,
          1.8,
          1.5,
          0.5,
          7,
          42,
          0.8,
          0.1,
          16,
          2.5,
          0.9,
          8,
          25,
          0.3,
          11,
          20,
          16,
          38,
          0.3,
          0.3,
          30,
          11,
          0.8,
          1.5,
          0.25,
          1.2,
          55,
          110,
          0.3,
          0.15,
          5,
          0.2,
          0.9,
          17,
          2.8,
          2.8,
          0.6,
          4,
          17,
          55,
          50,
          9,
          8,
          14,
          18,
          5,
          3.5,
          45,
          0.2,
          6,
          2.8,
          10,
          10,
          40,
          0.3,
          0.6,
          0.15,
          0.45,
          1.2,
          0.25,
          10,
          15,
          40,
          0.3,
          0.3,
          0.8,
          3.8,
          10,
          20,
          7,
          10,
          6,
          11,
          4,
          22,
          0.5,
          22,
          1,
          6,
          0.35,
          0.175,
          30,
          65,
          20,
          2.8,
          0.2,
          12,
          25,
          55,
          75,
          4,
          0.075,
          25,
          22,
          30,
          40,
          0.6,
          75,
          50,
          8,
          10,
          1.5,
          0.4,
          12,
          42,
          28,
          0.075,
          0.25,
          5,
          0.15,
          28,
          0.2,
          2,
          0.9,
          1,
          0.5,
          9,
          5,
          0.3,
          55,
          4,
          0.25,
          15,
          0.2,
          0.15,
          1.2,
          0.35,
          4.5,
          2,
          20,
          0.25,
          35,
          1.8,
          32,
          0.8,
          2,
          2.2,
          5,
          2,
          0.8,
          15,
          8,
          25,
          28,
          0.6,
          5,
          0.2,
          12,
          1,
          7,
          22,
          12,
          14,
          0.25,
          9,
          1.8,
          0.15,
          1.2,
          0.5,
          7,
          0.3,
          4,
          0.15,
          2.5,
          3,
          22,
          28,
          4,
          30,
          70,
          0.45,
          0.55,
          25,
          6,
          0.05,
          0.7,
          0.5,
          0.15,
          0.5,
          2.5,
          0.3,
          8,
          3.5,
          5,
          0.125,
          3,
          0.5,
          10,
          3,
          65,
          0.2,
          2,
          2.2,
          13,
          60,
          0.3,
          22,
          0.3,
          0.2,
          0.15,
          13,
          5,
          20,
          0.1,
          3,
          35,
          30,
          65,
          2.5,
          1.5,
          0.6,
          0.7,
          2,
          0.6,
          35,
          0.3,
          3.5,
          0.15,
          25,
          18,
          1,
          16,
          8,
          0.3,
          0.2,
          6,
          0.2,
          0.2,
          12,
          5,
          35,
          0.2,
          2.5,
          0.2,
          8,
          0.3,
          5,
          2.2,
          15,
          5,
          15,
          28,
          0.25,
          1.5,
          4,
          22,
          10,
          0.275,
          0.35,
          1.2,
          0.6,
          2.5,
          1,
          8,
          0.25,
          0.15,
          18,
          6,
          9,
          20,
          1.5,
          1,
          0.7,
          1.2,
          0.1,
          0.45,
          25,
          0.9,
          0.3,
          25,
          0.05,
          1,
          0.5,
          45,
          30,
          0.35,
          0.25,
          6,
          8,
          1.2,
          2,
          0.5,
          35,
          0.25,
          0.25,
          5,
          1,
          0.35,
          0.3,
          16,
          0.2,
          1,
          0.3,
          7,
          2.5,
          25,
          0.25,
          0.3,
          15,
          1.5,
          0.5,
          0.125,
          0.2,
          24,
          1.8,
          0.9,
          18,
          32,
          0.175,
          1,
          15,
          0.45,
          0.2,
          0.9,
          5,
          7,
          0.075,
          10,
          85,
          5,
          12,
          0.5,
          11,
          0.2,
          0.05,
          70,
          0.25,
          0.35,
          0.175,
          10,
          18,
          22,
          7,
          1.2,
          0.4,
          0.45,
          1,
          2,
          6,
          2.8,
          3,
          6,
          0.8,
          0.9,
          0.8,
          0.5,
          0.3,
          1.8,
          0.9,
          13,
          0.2,
          6,
          9,
          0.6,
          55,
          0.5,
          0.25,
          11,
          1.2,
          4,
          15,
          0.25,
          0.5,
          0.5,
          0.4,
          22,
          0.7,
          8,
          0.35,
          3,
          1,
          0.8,
          0.8,
          1.2,
          2.8,
          0.3,
          3,
          10,
          22,
          0.2,
          1.5,
          0.15,
          18,
          5,
          1,
          3,
          0.2,
          2,
          6,
          5,
          5,
          3.5,
          4,
          1,
          22,
          1,
          0.25,
          0.125,
          0.1,
          12,
          0.4,
          30,
          10,
          0.45,
          14,
          20,
          0.25,
          28,
          25,
          0.25,
          1,
          0.8,
          0.25,
          20,
          0.8,
          5,
          3.5,
          0.15,
          14,
          2,
          0.2,
          0.8,
          4,
          2,
          0.4,
          1.5,
          0.275,
          0.15,
          0.5,
          0.3,
          1.5,
          0.4,
          6,
          8,
          0.3,
          0.3,
          0.2,
          3,
          12,
          0.5,
          3,
          0.2,
          2,
          0.125,
          1.9,
          0.791015625,
          1.1865234375,
          0.474609375,
          1.265625,
          0.474609375,
          0.4449462890625,
          0.83056640625,
          0.3375,
          0.140625,
          0.158203125,
          0.0333709716796875,
          0.140625,
          0.375,
          0.59326171875,
          0.059326171875,
          0.31640625,
          0.2373046875,
          0.0296630859375,
          0.1125,
          0.28125,
          0.140625,
          0.0889892578125,
          0.0622924804687499,
          0.177978515625,
          0.28125,
          0.253125,
          0.2373046875,
          0.10546875,
          0.0843749999999999,
          0.1875,
          0.675,
          0.3375,
          0.675,
          0.1687499999999999,
          0.10546875,
          0.75,
          0.15,
          0.2373046875,
          0.0622924804687499,
          0.1265625,
          0.3375,
          0.16875,
          0.1125,
          0.1687499999999999,
          0.1687499999999999,
          0.2669677734375,
          0.5249999999999999,
          0.031640625,
          0.3375,
          0.04449462890625,
          0.1265625,
          0.1875,
          0.1107421874999999,
          0.16875,
          0.0791015625,
          0.028125,
          0.02109375,
          0.3375,
          0.59326171875,
          0.3,
          0.474609375,
          0.140625,
          0.13348388671875,
          0.474609375,
          0.048944091796875,
          0.221484375,
          0.1875,
          0.474609375,
          0.253125,
          0.158203125,
          0.0622924804687499,
          0.0177978515625,
          0.066741943359375,
          0.675,
          0.005625,
          0.1687499999999999,
          0.1124999999999999,
          0.375,
          0.75,
          1.0125000000000002,
          0.0622924804687499,
          0.1125,
          0.1687499999999999,
          0.2109375,
          0.0140625,
          0.3796875,
          0.1125,
          0.106787109375,
          0.253125,
          0.31640625,
          0.45,
          0.1687499999999999,
          0.421875,
          0.1968749999999999,
          0.1687499999999999,
          0.2109375,
          0.28125,
          0.4499999999999999,
          0.11865234375,
          0.1875,
          0.15,
          0.075,
          0.0533935546875,
          0.253125,
          0.75,
          0.50625,
          0.28125,
          0.45,
          0.1687499999999999,
          0.0791015625,
          0.75,
          1.35,
          0.45,
          0.225,
          0.2249999999999999,
          0.0355957031249999,
          0.1125,
          0.225,
          0.1001129150390625,
          0.1124999999999999,
          0.675,
          0.22247314453125,
          0.2249999999999999,
          1.0125000000000002,
          0.05625,
          0.1875,
          0.6328125,
          0.375,
          0.375,
          0.04449462890625,
          0.3,
          0.6328125,
          0.16875,
          0.1687499999999999,
          0.028125,
          0.225,
          0.5625,
          0.0791015625,
          0.06328125,
          0.1265625,
          0.0158203125,
          0.1107421874999999,
          0.1125
         ],
         "yaxis": "y"
        }
       ],
       "layout": {
        "legend": {
         "tracegroupgap": 0
        },
        "margin": {
         "t": 60
        },
        "template": {
         "data": {
          "bar": [
           {
            "error_x": {
             "color": "#2a3f5f"
            },
            "error_y": {
             "color": "#2a3f5f"
            },
            "marker": {
             "line": {
              "color": "#E5ECF6",
              "width": 0.5
             },
             "pattern": {
              "fillmode": "overlay",
              "size": 10,
              "solidity": 0.2
             }
            },
            "type": "bar"
           }
          ],
          "barpolar": [
           {
            "marker": {
             "line": {
              "color": "#E5ECF6",
              "width": 0.5
             },
             "pattern": {
              "fillmode": "overlay",
              "size": 10,
              "solidity": 0.2
             }
            },
            "type": "barpolar"
           }
          ],
          "carpet": [
           {
            "aaxis": {
             "endlinecolor": "#2a3f5f",
             "gridcolor": "white",
             "linecolor": "white",
             "minorgridcolor": "white",
             "startlinecolor": "#2a3f5f"
            },
            "baxis": {
             "endlinecolor": "#2a3f5f",
             "gridcolor": "white",
             "linecolor": "white",
             "minorgridcolor": "white",
             "startlinecolor": "#2a3f5f"
            },
            "type": "carpet"
           }
          ],
          "choropleth": [
           {
            "colorbar": {
             "outlinewidth": 0,
             "ticks": ""
            },
            "type": "choropleth"
           }
          ],
          "contour": [
           {
            "colorbar": {
             "outlinewidth": 0,
             "ticks": ""
            },
            "colorscale": [
             [
              0,
              "#0d0887"
             ],
             [
              0.1111111111111111,
              "#46039f"
             ],
             [
              0.2222222222222222,
              "#7201a8"
             ],
             [
              0.3333333333333333,
              "#9c179e"
             ],
             [
              0.4444444444444444,
              "#bd3786"
             ],
             [
              0.5555555555555556,
              "#d8576b"
             ],
             [
              0.6666666666666666,
              "#ed7953"
             ],
             [
              0.7777777777777778,
              "#fb9f3a"
             ],
             [
              0.8888888888888888,
              "#fdca26"
             ],
             [
              1,
              "#f0f921"
             ]
            ],
            "type": "contour"
           }
          ],
          "contourcarpet": [
           {
            "colorbar": {
             "outlinewidth": 0,
             "ticks": ""
            },
            "type": "contourcarpet"
           }
          ],
          "heatmap": [
           {
            "colorbar": {
             "outlinewidth": 0,
             "ticks": ""
            },
            "colorscale": [
             [
              0,
              "#0d0887"
             ],
             [
              0.1111111111111111,
              "#46039f"
             ],
             [
              0.2222222222222222,
              "#7201a8"
             ],
             [
              0.3333333333333333,
              "#9c179e"
             ],
             [
              0.4444444444444444,
              "#bd3786"
             ],
             [
              0.5555555555555556,
              "#d8576b"
             ],
             [
              0.6666666666666666,
              "#ed7953"
             ],
             [
              0.7777777777777778,
              "#fb9f3a"
             ],
             [
              0.8888888888888888,
              "#fdca26"
             ],
             [
              1,
              "#f0f921"
             ]
            ],
            "type": "heatmap"
           }
          ],
          "heatmapgl": [
           {
            "colorbar": {
             "outlinewidth": 0,
             "ticks": ""
            },
            "colorscale": [
             [
              0,
              "#0d0887"
             ],
             [
              0.1111111111111111,
              "#46039f"
             ],
             [
              0.2222222222222222,
              "#7201a8"
             ],
             [
              0.3333333333333333,
              "#9c179e"
             ],
             [
              0.4444444444444444,
              "#bd3786"
             ],
             [
              0.5555555555555556,
              "#d8576b"
             ],
             [
              0.6666666666666666,
              "#ed7953"
             ],
             [
              0.7777777777777778,
              "#fb9f3a"
             ],
             [
              0.8888888888888888,
              "#fdca26"
             ],
             [
              1,
              "#f0f921"
             ]
            ],
            "type": "heatmapgl"
           }
          ],
          "histogram": [
           {
            "marker": {
             "pattern": {
              "fillmode": "overlay",
              "size": 10,
              "solidity": 0.2
             }
            },
            "type": "histogram"
           }
          ],
          "histogram2d": [
           {
            "colorbar": {
             "outlinewidth": 0,
             "ticks": ""
            },
            "colorscale": [
             [
              0,
              "#0d0887"
             ],
             [
              0.1111111111111111,
              "#46039f"
             ],
             [
              0.2222222222222222,
              "#7201a8"
             ],
             [
              0.3333333333333333,
              "#9c179e"
             ],
             [
              0.4444444444444444,
              "#bd3786"
             ],
             [
              0.5555555555555556,
              "#d8576b"
             ],
             [
              0.6666666666666666,
              "#ed7953"
             ],
             [
              0.7777777777777778,
              "#fb9f3a"
             ],
             [
              0.8888888888888888,
              "#fdca26"
             ],
             [
              1,
              "#f0f921"
             ]
            ],
            "type": "histogram2d"
           }
          ],
          "histogram2dcontour": [
           {
            "colorbar": {
             "outlinewidth": 0,
             "ticks": ""
            },
            "colorscale": [
             [
              0,
              "#0d0887"
             ],
             [
              0.1111111111111111,
              "#46039f"
             ],
             [
              0.2222222222222222,
              "#7201a8"
             ],
             [
              0.3333333333333333,
              "#9c179e"
             ],
             [
              0.4444444444444444,
              "#bd3786"
             ],
             [
              0.5555555555555556,
              "#d8576b"
             ],
             [
              0.6666666666666666,
              "#ed7953"
             ],
             [
              0.7777777777777778,
              "#fb9f3a"
             ],
             [
              0.8888888888888888,
              "#fdca26"
             ],
             [
              1,
              "#f0f921"
             ]
            ],
            "type": "histogram2dcontour"
           }
          ],
          "mesh3d": [
           {
            "colorbar": {
             "outlinewidth": 0,
             "ticks": ""
            },
            "type": "mesh3d"
           }
          ],
          "parcoords": [
           {
            "line": {
             "colorbar": {
              "outlinewidth": 0,
              "ticks": ""
             }
            },
            "type": "parcoords"
           }
          ],
          "pie": [
           {
            "automargin": true,
            "type": "pie"
           }
          ],
          "scatter": [
           {
            "fillpattern": {
             "fillmode": "overlay",
             "size": 10,
             "solidity": 0.2
            },
            "type": "scatter"
           }
          ],
          "scatter3d": [
           {
            "line": {
             "colorbar": {
              "outlinewidth": 0,
              "ticks": ""
             }
            },
            "marker": {
             "colorbar": {
              "outlinewidth": 0,
              "ticks": ""
             }
            },
            "type": "scatter3d"
           }
          ],
          "scattercarpet": [
           {
            "marker": {
             "colorbar": {
              "outlinewidth": 0,
              "ticks": ""
             }
            },
            "type": "scattercarpet"
           }
          ],
          "scattergeo": [
           {
            "marker": {
             "colorbar": {
              "outlinewidth": 0,
              "ticks": ""
             }
            },
            "type": "scattergeo"
           }
          ],
          "scattergl": [
           {
            "marker": {
             "colorbar": {
              "outlinewidth": 0,
              "ticks": ""
             }
            },
            "type": "scattergl"
           }
          ],
          "scattermapbox": [
           {
            "marker": {
             "colorbar": {
              "outlinewidth": 0,
              "ticks": ""
             }
            },
            "type": "scattermapbox"
           }
          ],
          "scatterpolar": [
           {
            "marker": {
             "colorbar": {
              "outlinewidth": 0,
              "ticks": ""
             }
            },
            "type": "scatterpolar"
           }
          ],
          "scatterpolargl": [
           {
            "marker": {
             "colorbar": {
              "outlinewidth": 0,
              "ticks": ""
             }
            },
            "type": "scatterpolargl"
           }
          ],
          "scatterternary": [
           {
            "marker": {
             "colorbar": {
              "outlinewidth": 0,
              "ticks": ""
             }
            },
            "type": "scatterternary"
           }
          ],
          "surface": [
           {
            "colorbar": {
             "outlinewidth": 0,
             "ticks": ""
            },
            "colorscale": [
             [
              0,
              "#0d0887"
             ],
             [
              0.1111111111111111,
              "#46039f"
             ],
             [
              0.2222222222222222,
              "#7201a8"
             ],
             [
              0.3333333333333333,
              "#9c179e"
             ],
             [
              0.4444444444444444,
              "#bd3786"
             ],
             [
              0.5555555555555556,
              "#d8576b"
             ],
             [
              0.6666666666666666,
              "#ed7953"
             ],
             [
              0.7777777777777778,
              "#fb9f3a"
             ],
             [
              0.8888888888888888,
              "#fdca26"
             ],
             [
              1,
              "#f0f921"
             ]
            ],
            "type": "surface"
           }
          ],
          "table": [
           {
            "cells": {
             "fill": {
              "color": "#EBF0F8"
             },
             "line": {
              "color": "white"
             }
            },
            "header": {
             "fill": {
              "color": "#C8D4E3"
             },
             "line": {
              "color": "white"
             }
            },
            "type": "table"
           }
          ]
         },
         "layout": {
          "annotationdefaults": {
           "arrowcolor": "#2a3f5f",
           "arrowhead": 0,
           "arrowwidth": 1
          },
          "autotypenumbers": "strict",
          "coloraxis": {
           "colorbar": {
            "outlinewidth": 0,
            "ticks": ""
           }
          },
          "colorscale": {
           "diverging": [
            [
             0,
             "#8e0152"
            ],
            [
             0.1,
             "#c51b7d"
            ],
            [
             0.2,
             "#de77ae"
            ],
            [
             0.3,
             "#f1b6da"
            ],
            [
             0.4,
             "#fde0ef"
            ],
            [
             0.5,
             "#f7f7f7"
            ],
            [
             0.6,
             "#e6f5d0"
            ],
            [
             0.7,
             "#b8e186"
            ],
            [
             0.8,
             "#7fbc41"
            ],
            [
             0.9,
             "#4d9221"
            ],
            [
             1,
             "#276419"
            ]
           ],
           "sequential": [
            [
             0,
             "#0d0887"
            ],
            [
             0.1111111111111111,
             "#46039f"
            ],
            [
             0.2222222222222222,
             "#7201a8"
            ],
            [
             0.3333333333333333,
             "#9c179e"
            ],
            [
             0.4444444444444444,
             "#bd3786"
            ],
            [
             0.5555555555555556,
             "#d8576b"
            ],
            [
             0.6666666666666666,
             "#ed7953"
            ],
            [
             0.7777777777777778,
             "#fb9f3a"
            ],
            [
             0.8888888888888888,
             "#fdca26"
            ],
            [
             1,
             "#f0f921"
            ]
           ],
           "sequentialminus": [
            [
             0,
             "#0d0887"
            ],
            [
             0.1111111111111111,
             "#46039f"
            ],
            [
             0.2222222222222222,
             "#7201a8"
            ],
            [
             0.3333333333333333,
             "#9c179e"
            ],
            [
             0.4444444444444444,
             "#bd3786"
            ],
            [
             0.5555555555555556,
             "#d8576b"
            ],
            [
             0.6666666666666666,
             "#ed7953"
            ],
            [
             0.7777777777777778,
             "#fb9f3a"
            ],
            [
             0.8888888888888888,
             "#fdca26"
            ],
            [
             1,
             "#f0f921"
            ]
           ]
          },
          "colorway": [
           "#636efa",
           "#EF553B",
           "#00cc96",
           "#ab63fa",
           "#FFA15A",
           "#19d3f3",
           "#FF6692",
           "#B6E880",
           "#FF97FF",
           "#FECB52"
          ],
          "font": {
           "color": "#2a3f5f"
          },
          "geo": {
           "bgcolor": "white",
           "lakecolor": "white",
           "landcolor": "#E5ECF6",
           "showlakes": true,
           "showland": true,
           "subunitcolor": "white"
          },
          "hoverlabel": {
           "align": "left"
          },
          "hovermode": "closest",
          "mapbox": {
           "style": "light"
          },
          "paper_bgcolor": "white",
          "plot_bgcolor": "#E5ECF6",
          "polar": {
           "angularaxis": {
            "gridcolor": "white",
            "linecolor": "white",
            "ticks": ""
           },
           "bgcolor": "#E5ECF6",
           "radialaxis": {
            "gridcolor": "white",
            "linecolor": "white",
            "ticks": ""
           }
          },
          "scene": {
           "xaxis": {
            "backgroundcolor": "#E5ECF6",
            "gridcolor": "white",
            "gridwidth": 2,
            "linecolor": "white",
            "showbackground": true,
            "ticks": "",
            "zerolinecolor": "white"
           },
           "yaxis": {
            "backgroundcolor": "#E5ECF6",
            "gridcolor": "white",
            "gridwidth": 2,
            "linecolor": "white",
            "showbackground": true,
            "ticks": "",
            "zerolinecolor": "white"
           },
           "zaxis": {
            "backgroundcolor": "#E5ECF6",
            "gridcolor": "white",
            "gridwidth": 2,
            "linecolor": "white",
            "showbackground": true,
            "ticks": "",
            "zerolinecolor": "white"
           }
          },
          "shapedefaults": {
           "line": {
            "color": "#2a3f5f"
           }
          },
          "ternary": {
           "aaxis": {
            "gridcolor": "white",
            "linecolor": "white",
            "ticks": ""
           },
           "baxis": {
            "gridcolor": "white",
            "linecolor": "white",
            "ticks": ""
           },
           "bgcolor": "#E5ECF6",
           "caxis": {
            "gridcolor": "white",
            "linecolor": "white",
            "ticks": ""
           }
          },
          "title": {
           "x": 0.05
          },
          "xaxis": {
           "automargin": true,
           "gridcolor": "white",
           "linecolor": "white",
           "ticks": "",
           "title": {
            "standoff": 15
           },
           "zerolinecolor": "white",
           "zerolinewidth": 2
          },
          "yaxis": {
           "automargin": true,
           "gridcolor": "white",
           "linecolor": "white",
           "ticks": "",
           "title": {
            "standoff": 15
           },
           "zerolinecolor": "white",
           "zerolinewidth": 2
          }
         }
        },
        "xaxis": {
         "anchor": "y",
         "domain": [
          0,
          1
         ],
         "title": {
          "text": "predicted_value"
         }
        },
        "yaxis": {
         "anchor": "x",
         "domain": [
          0,
          1
         ],
         "title": {
          "text": "market_value_in_million_eur"
         }
        }
       }
      }
     },
     "metadata": {},
     "output_type": "display_data"
    },
    {
     "data": {
      "image/png": "[encoded data removed]",
      "text/plain": [
       "<Figure size 800x950 with 2 Axes>"
      ]
     },
     "metadata": {},
     "output_type": "display_data"
    },
    {
     "data": {
      "image/png": "[encoded data removed]",
      "text/plain": [
       "<Figure size 800x650 with 3 Axes>"
      ]
     },
     "metadata": {},
     "output_type": "display_data"
    },
    {
     "data": {
      "image/png": "[encoded data removed]",
      "text/plain": [
       "<Figure size 800x600 with 1 Axes>"
      ]
     },
     "metadata": {},
     "output_type": "display_data"
    }
   ],
   "source": [
    "forecast_df, regressor, y_test, top_features = predict_future_values(    pdf_train, \n",
    "    pdf_test, [2023, 2024, 2025, 2026, 2027, 2028, 2029, 2030, 2031, 2032], features)"
   ]
  },
  {
   "cell_type": "code",
   "execution_count": 9,
   "id": "6e2a600c",
   "metadata": {},
   "outputs": [],
   "source": [
    "# Merge with actual market values for evaluation\n",
    "\n",
    "merged = forecast_df.merge(pdf_test[[\"player_id\", \"name\"]], on=[\"player_id\"], how=\"left\")\n",
    "end = time.time()\n",
    "diff = end - start"
   ]
  },
  {
   "cell_type": "code",
   "execution_count": 27,
   "id": "ea2e158f",
   "metadata": {},
   "outputs": [],
   "source": [
    "players = [418560, 357662, 565822, 859951, 148455, 274839, 542580, 568177, 197838, 225693, 8198]"
   ]
  },
  {
   "cell_type": "code",
   "execution_count": 28,
   "id": "f5faafdf",
   "metadata": {},
   "outputs": [
    {
     "data": {
      "application/vnd.plotly.v1+json": {
       "config": {
        "plotlyServerURL": "https://plot.ly"
       },
       "data": [
        {
         "customdata": [
          [
           29
          ],
          [
           31
          ],
          [
           31
          ],
          [
           32
          ],
          [
           34
          ],
          [
           35
          ],
          [
           36
          ],
          [
           37
          ],
          [
           38
          ],
          [
           39
          ],
          [
           40
          ],
          [
           41
          ],
          [
           42
          ],
          [
           43
          ],
          [
           44
          ],
          [
           45
          ],
          [
           46
          ],
          [
           47
          ]
         ],
         "hovertemplate": "name=Cristiano Ronaldo<br>year=%{x}<br>predicted_value=%{y}<br>age=%{customdata[0]}<extra></extra>",
         "legendgroup": "Cristiano Ronaldo",
         "line": {
          "color": "#636efa",
          "dash": "solid"
         },
         "marker": {
          "symbol": "circle"
         },
         "mode": "lines",
         "name": "Cristiano Ronaldo",
         "orientation": "v",
         "showlegend": true,
         "type": "scatter",
         "x": [
          2015,
          2016,
          2017,
          2018,
          2019,
          2020,
          2021,
          2022,
          2023,
          2024,
          2025,
          2026,
          2027,
          2028,
          2029,
          2030,
          2031,
          2032
         ],
         "xaxis": "x",
         "y": [
          120,
          110,
          100,
          120,
          90,
          60,
          50,
          30,
          25.270488739013672,
          22.252140045166016,
          16.078096389770508,
          13.26224136352539,
          10.867231369018555,
          8.865884780883789,
          6.760868549346924,
          4.668591022491455,
          3.497401237487793,
          2.2465438842773438
         ],
         "yaxis": "y"
        },
        {
         "customdata": [
          [
           22
          ],
          [
           23
          ],
          [
           24
          ],
          [
           25
          ],
          [
           27
          ],
          [
           27
          ],
          [
           28
          ],
          [
           30
          ],
          [
           30
          ],
          [
           31
          ],
          [
           32
          ],
          [
           33
          ],
          [
           34
          ],
          [
           35
          ],
          [
           36
          ],
          [
           37
          ],
          [
           38
          ],
          [
           39
          ]
         ],
         "hovertemplate": "name=Mohamed Salah<br>year=%{x}<br>predicted_value=%{y}<br>age=%{customdata[0]}<extra></extra>",
         "legendgroup": "Mohamed Salah",
         "line": {
          "color": "#EF553B",
          "dash": "solid"
         },
         "marker": {
          "symbol": "circle"
         },
         "mode": "lines",
         "name": "Mohamed Salah",
         "orientation": "v",
         "showlegend": true,
         "type": "scatter",
         "x": [
          2015,
          2016,
          2017,
          2018,
          2019,
          2020,
          2021,
          2022,
          2023,
          2024,
          2025,
          2026,
          2027,
          2028,
          2029,
          2030,
          2031,
          2032
         ],
         "xaxis": "x",
         "y": [
          10,
          20,
          30,
          80,
          150,
          120,
          110,
          90,
          89.22982025146484,
          89.22982025146484,
          89.22982025146484,
          89.22982025146484,
          89.22982025146484,
          89.22982025146484,
          89.22982025146484,
          89.22982025146484,
          89.22982025146484,
          89.22982025146484
         ],
         "yaxis": "y"
        },
        {
         "customdata": [
          [
           28
          ],
          [
           29
          ],
          [
           30
          ],
          [
           30
          ],
          [
           32
          ],
          [
           33
          ],
          [
           34
          ],
          [
           35
          ],
          [
           36
          ],
          [
           37
          ],
          [
           38
          ],
          [
           39
          ],
          [
           40
          ],
          [
           41
          ],
          [
           42
          ],
          [
           43
          ],
          [
           44
          ],
          [
           45
          ]
         ],
         "hovertemplate": "name=Jamie Vardy<br>year=%{x}<br>predicted_value=%{y}<br>age=%{customdata[0]}<extra></extra>",
         "legendgroup": "Jamie Vardy",
         "line": {
          "color": "#00cc96",
          "dash": "solid"
         },
         "marker": {
          "symbol": "circle"
         },
         "mode": "lines",
         "name": "Jamie Vardy",
         "orientation": "v",
         "showlegend": true,
         "type": "scatter",
         "x": [
          2015,
          2016,
          2017,
          2018,
          2019,
          2020,
          2021,
          2022,
          2023,
          2024,
          2025,
          2026,
          2027,
          2028,
          2029,
          2030,
          2031,
          2032
         ],
         "xaxis": "x",
         "y": [
          2,
          12,
          15,
          18,
          20,
          16,
          10,
          5,
          4.39096736907959,
          3.00115704536438,
          2.1262972354888916,
          1.2433003187179565,
          0.36457395553588867,
          -0.33048373460769653,
          -0.5897890329360962,
          -0.5897890329360962,
          -0.5897890329360962,
          -0.5897890329360962
         ],
         "yaxis": "y"
        },
        {
         "customdata": [
          [
           21
          ],
          [
           22
          ],
          [
           23
          ],
          [
           24
          ],
          [
           25
          ],
          [
           26
          ],
          [
           27
          ],
          [
           28
          ],
          [
           29
          ],
          [
           30
          ],
          [
           31
          ],
          [
           32
          ],
          [
           33
          ],
          [
           34
          ],
          [
           35
          ],
          [
           36
          ],
          [
           37
          ],
          [
           38
          ]
         ],
         "hovertemplate": "name=Fabinho<br>year=%{x}<br>predicted_value=%{y}<br>age=%{customdata[0]}<extra></extra>",
         "legendgroup": "Fabinho",
         "line": {
          "color": "#ab63fa",
          "dash": "solid"
         },
         "marker": {
          "symbol": "circle"
         },
         "mode": "lines",
         "name": "Fabinho",
         "orientation": "v",
         "showlegend": true,
         "type": "scatter",
         "x": [
          2015,
          2016,
          2017,
          2018,
          2019,
          2020,
          2021,
          2022,
          2023,
          2024,
          2025,
          2026,
          2027,
          2028,
          2029,
          2030,
          2031,
          2032
         ],
         "xaxis": "x",
         "y": [
          4.5,
          15,
          20,
          40,
          45,
          56,
          60,
          60,
          54.3133544921875,
          41.19307327270508,
          34.16261672973633,
          25.909086227416992,
          22.256086349487305,
          16.082042694091797,
          13.266190528869629,
          10.871180534362793,
          8.869833946228027,
          6.764815330505371
         ],
         "yaxis": "y"
        },
        {
         "customdata": [
          [
           19
          ],
          [
           20
          ],
          [
           21
          ],
          [
           22
          ],
          [
           23
          ],
          [
           24
          ],
          [
           25
          ],
          [
           26
          ],
          [
           27
          ],
          [
           28
          ],
          [
           29
          ],
          [
           30
          ],
          [
           31
          ],
          [
           32
          ],
          [
           33
          ],
          [
           34
          ],
          [
           35
          ]
         ],
         "hovertemplate": "name=Wilfred Ndidi<br>year=%{x}<br>predicted_value=%{y}<br>age=%{customdata[0]}<extra></extra>",
         "legendgroup": "Wilfred Ndidi",
         "line": {
          "color": "#FFA15A",
          "dash": "solid"
         },
         "marker": {
          "symbol": "circle"
         },
         "mode": "lines",
         "name": "Wilfred Ndidi",
         "orientation": "v",
         "showlegend": true,
         "type": "scatter",
         "x": [
          2016,
          2017,
          2018,
          2019,
          2020,
          2021,
          2022,
          2023,
          2024,
          2025,
          2026,
          2027,
          2028,
          2029,
          2030,
          2031,
          2032
         ],
         "xaxis": "x",
         "y": [
          1,
          14,
          18,
          35,
          36,
          50,
          60,
          59.447296142578125,
          47.9445686340332,
          39.79693603515625,
          30.223276138305664,
          25.94471549987793,
          22.452241897583008,
          15.957846641540527,
          13.141995429992676,
          10.74698543548584,
          8.745638847351074
         ],
         "yaxis": "y"
        },
        {
         "customdata": [
          [
           18
          ],
          [
           20
          ],
          [
           21
          ],
          [
           22
          ],
          [
           23
          ],
          [
           24
          ],
          [
           25
          ],
          [
           26
          ],
          [
           27
          ],
          [
           28
          ],
          [
           29
          ],
          [
           30
          ],
          [
           31
          ],
          [
           32
          ],
          [
           33
          ]
         ],
         "hovertemplate": "name=Declan Rice<br>year=%{x}<br>predicted_value=%{y}<br>age=%{customdata[0]}<extra></extra>",
         "legendgroup": "Declan Rice",
         "line": {
          "color": "#19d3f3",
          "dash": "solid"
         },
         "marker": {
          "symbol": "circle"
         },
         "mode": "lines",
         "name": "Declan Rice",
         "orientation": "v",
         "showlegend": true,
         "type": "scatter",
         "x": [
          2018,
          2019,
          2020,
          2021,
          2022,
          2023,
          2024,
          2025,
          2026,
          2027,
          2028,
          2029,
          2030,
          2031,
          2032
         ],
         "xaxis": "x",
         "y": [
          2,
          35,
          49.5,
          60,
          80,
          89.09234619140625,
          84.92803192138672,
          83.73773193359375,
          83.04531860351562,
          80.72310638427734,
          78.8128433227539,
          77.14146423339844,
          77.14146423339844,
          77.14146423339844,
          77.14146423339844
         ],
         "yaxis": "y"
        },
        {
         "customdata": [
          [
           17
          ],
          [
           18
          ],
          [
           18
          ],
          [
           19
          ],
          [
           20
          ],
          [
           21
          ],
          [
           22
          ],
          [
           23
          ],
          [
           24
          ],
          [
           25
          ],
          [
           26
          ],
          [
           27
          ],
          [
           28
          ],
          [
           29
          ],
          [
           30
          ],
          [
           31
          ]
         ],
         "hovertemplate": "name=Erling Haaland<br>year=%{x}<br>predicted_value=%{y}<br>age=%{customdata[0]}<extra></extra>",
         "legendgroup": "Erling Haaland",
         "line": {
          "color": "#FF6692",
          "dash": "solid"
         },
         "marker": {
          "symbol": "circle"
         },
         "mode": "lines",
         "name": "Erling Haaland",
         "orientation": "v",
         "showlegend": true,
         "type": "scatter",
         "x": [
          2017,
          2018,
          2019,
          2020,
          2021,
          2022,
          2023,
          2024,
          2025,
          2026,
          2027,
          2028,
          2029,
          2030,
          2031,
          2032
         ],
         "xaxis": "x",
         "y": [
          0.3,
          2,
          5,
          60,
          110,
          150,
          139.7073516845703,
          132.6551513671875,
          128.4908447265625,
          128.4908447265625,
          126.28939819335938,
          125.59698486328125,
          123.27477264404297,
          120.28643035888672,
          118.61505126953125,
          118.61505126953125
         ],
         "yaxis": "y"
        },
        {
         "customdata": [
          [
           17
          ],
          [
           17
          ],
          [
           18
          ],
          [
           20
          ],
          [
           21
          ],
          [
           22
          ],
          [
           23
          ],
          [
           24
          ],
          [
           25
          ],
          [
           26
          ],
          [
           27
          ],
          [
           28
          ],
          [
           29
          ]
         ],
         "hovertemplate": "name=Harvey Elliott<br>year=%{x}<br>predicted_value=%{y}<br>age=%{customdata[0]}<extra></extra>",
         "legendgroup": "Harvey Elliott",
         "line": {
          "color": "#B6E880",
          "dash": "solid"
         },
         "marker": {
          "symbol": "circle"
         },
         "mode": "lines",
         "name": "Harvey Elliott",
         "orientation": "v",
         "showlegend": true,
         "type": "scatter",
         "x": [
          2020,
          2021,
          2022,
          2023,
          2024,
          2025,
          2026,
          2027,
          2028,
          2029,
          2030,
          2031,
          2032
         ],
         "xaxis": "x",
         "y": [
          3.6,
          15,
          22,
          25.111223220825195,
          29.336971282958984,
          27.21330451965332,
          27.05609703063965,
          27.05609703063965,
          27.05609703063965,
          26.163753509521484,
          25.46454620361328,
          24.545305252075195,
          19.889846801757812
         ],
         "yaxis": "y"
        },
        {
         "customdata": [
          [
           20
          ],
          [
           21
          ],
          [
           22
          ],
          [
           23
          ],
          [
           24
          ],
          [
           25
          ],
          [
           26
          ],
          [
           27
          ],
          [
           28
          ],
          [
           29
          ],
          [
           30
          ]
         ],
         "hovertemplate": "name=Cole Palmer<br>year=%{x}<br>predicted_value=%{y}<br>age=%{customdata[0]}<extra></extra>",
         "legendgroup": "Cole Palmer",
         "line": {
          "color": "#FF97FF",
          "dash": "solid"
         },
         "marker": {
          "symbol": "circle"
         },
         "mode": "lines",
         "name": "Cole Palmer",
         "orientation": "v",
         "showlegend": true,
         "type": "scatter",
         "x": [
          2022,
          2023,
          2024,
          2025,
          2026,
          2027,
          2028,
          2029,
          2030,
          2031,
          2032
         ],
         "xaxis": "x",
         "y": [
          6,
          16.425674438476562,
          26.890125274658203,
          38.19465255737305,
          51.772682189941406,
          64.02210235595703,
          74.45022583007812,
          73.6605453491211,
          71.83346557617188,
          68.994140625,
          67.37934875488281
         ],
         "yaxis": "y"
        },
        {
         "customdata": [
          [
           17
          ],
          [
           18
          ],
          [
           19
          ],
          [
           20
          ],
          [
           21
          ],
          [
           22
          ],
          [
           23
          ],
          [
           24
          ],
          [
           25
          ],
          [
           26
          ]
         ],
         "hovertemplate": "name=Ashley Phillips<br>year=%{x}<br>predicted_value=%{y}<br>age=%{customdata[0]}<extra></extra>",
         "legendgroup": "Ashley Phillips",
         "line": {
          "color": "#FECB52",
          "dash": "solid"
         },
         "marker": {
          "symbol": "circle"
         },
         "mode": "lines",
         "name": "Ashley Phillips",
         "orientation": "v",
         "showlegend": true,
         "type": "scatter",
         "x": [
          2023,
          2024,
          2025,
          2026,
          2027,
          2028,
          2029,
          2030,
          2031,
          2032
         ],
         "xaxis": "x",
         "y": [
          4.446179389953613,
          5.321037292480469,
          7.637702465057373,
          10.056886672973633,
          13.333574295043945,
          14.372454643249512,
          13.736641883850098,
          13.736641883850098,
          13.736641883850098,
          13.271961212158203
         ],
         "yaxis": "y"
        }
       ],
       "layout": {
        "annotations": [
         {
          "showarrow": false,
          "text": "2022/2023 boundary",
          "x": 2022.5,
          "xanchor": "left",
          "xref": "x",
          "y": 1,
          "yanchor": "top",
          "yref": "y domain"
         }
        ],
        "legend": {
         "title": {
          "text": "name"
         },
         "tracegroupgap": 0
        },
        "shapes": [
         {
          "line": {
           "color": "red",
           "dash": "dash"
          },
          "type": "line",
          "x0": 2022.5,
          "x1": 2022.5,
          "xref": "x",
          "y0": 0,
          "y1": 1,
          "yref": "y domain"
         }
        ],
        "template": {
         "data": {
          "bar": [
           {
            "error_x": {
             "color": "#2a3f5f"
            },
            "error_y": {
             "color": "#2a3f5f"
            },
            "marker": {
             "line": {
              "color": "#E5ECF6",
              "width": 0.5
             },
             "pattern": {
              "fillmode": "overlay",
              "size": 10,
              "solidity": 0.2
             }
            },
            "type": "bar"
           }
          ],
          "barpolar": [
           {
            "marker": {
             "line": {
              "color": "#E5ECF6",
              "width": 0.5
             },
             "pattern": {
              "fillmode": "overlay",
              "size": 10,
              "solidity": 0.2
             }
            },
            "type": "barpolar"
           }
          ],
          "carpet": [
           {
            "aaxis": {
             "endlinecolor": "#2a3f5f",
             "gridcolor": "white",
             "linecolor": "white",
             "minorgridcolor": "white",
             "startlinecolor": "#2a3f5f"
            },
            "baxis": {
             "endlinecolor": "#2a3f5f",
             "gridcolor": "white",
             "linecolor": "white",
             "minorgridcolor": "white",
             "startlinecolor": "#2a3f5f"
            },
            "type": "carpet"
           }
          ],
          "choropleth": [
           {
            "colorbar": {
             "outlinewidth": 0,
             "ticks": ""
            },
            "type": "choropleth"
           }
          ],
          "contour": [
           {
            "colorbar": {
             "outlinewidth": 0,
             "ticks": ""
            },
            "colorscale": [
             [
              0,
              "#0d0887"
             ],
             [
              0.1111111111111111,
              "#46039f"
             ],
             [
              0.2222222222222222,
              "#7201a8"
             ],
             [
              0.3333333333333333,
              "#9c179e"
             ],
             [
              0.4444444444444444,
              "#bd3786"
             ],
             [
              0.5555555555555556,
              "#d8576b"
             ],
             [
              0.6666666666666666,
              "#ed7953"
             ],
             [
              0.7777777777777778,
              "#fb9f3a"
             ],
             [
              0.8888888888888888,
              "#fdca26"
             ],
             [
              1,
              "#f0f921"
             ]
            ],
            "type": "contour"
           }
          ],
          "contourcarpet": [
           {
            "colorbar": {
             "outlinewidth": 0,
             "ticks": ""
            },
            "type": "contourcarpet"
           }
          ],
          "heatmap": [
           {
            "colorbar": {
             "outlinewidth": 0,
             "ticks": ""
            },
            "colorscale": [
             [
              0,
              "#0d0887"
             ],
             [
              0.1111111111111111,
              "#46039f"
             ],
             [
              0.2222222222222222,
              "#7201a8"
             ],
             [
              0.3333333333333333,
              "#9c179e"
             ],
             [
              0.4444444444444444,
              "#bd3786"
             ],
             [
              0.5555555555555556,
              "#d8576b"
             ],
             [
              0.6666666666666666,
              "#ed7953"
             ],
             [
              0.7777777777777778,
              "#fb9f3a"
             ],
             [
              0.8888888888888888,
              "#fdca26"
             ],
             [
              1,
              "#f0f921"
             ]
            ],
            "type": "heatmap"
           }
          ],
          "heatmapgl": [
           {
            "colorbar": {
             "outlinewidth": 0,
             "ticks": ""
            },
            "colorscale": [
             [
              0,
              "#0d0887"
             ],
             [
              0.1111111111111111,
              "#46039f"
             ],
             [
              0.2222222222222222,
              "#7201a8"
             ],
             [
              0.3333333333333333,
              "#9c179e"
             ],
             [
              0.4444444444444444,
              "#bd3786"
             ],
             [
              0.5555555555555556,
              "#d8576b"
             ],
             [
              0.6666666666666666,
              "#ed7953"
             ],
             [
              0.7777777777777778,
              "#fb9f3a"
             ],
             [
              0.8888888888888888,
              "#fdca26"
             ],
             [
              1,
              "#f0f921"
             ]
            ],
            "type": "heatmapgl"
           }
          ],
          "histogram": [
           {
            "marker": {
             "pattern": {
              "fillmode": "overlay",
              "size": 10,
              "solidity": 0.2
             }
            },
            "type": "histogram"
           }
          ],
          "histogram2d": [
           {
            "colorbar": {
             "outlinewidth": 0,
             "ticks": ""
            },
            "colorscale": [
             [
              0,
              "#0d0887"
             ],
             [
              0.1111111111111111,
              "#46039f"
             ],
             [
              0.2222222222222222,
              "#7201a8"
             ],
             [
              0.3333333333333333,
              "#9c179e"
             ],
             [
              0.4444444444444444,
              "#bd3786"
             ],
             [
              0.5555555555555556,
              "#d8576b"
             ],
             [
              0.6666666666666666,
              "#ed7953"
             ],
             [
              0.7777777777777778,
              "#fb9f3a"
             ],
             [
              0.8888888888888888,
              "#fdca26"
             ],
             [
              1,
              "#f0f921"
             ]
            ],
            "type": "histogram2d"
           }
          ],
          "histogram2dcontour": [
           {
            "colorbar": {
             "outlinewidth": 0,
             "ticks": ""
            },
            "colorscale": [
             [
              0,
              "#0d0887"
             ],
             [
              0.1111111111111111,
              "#46039f"
             ],
             [
              0.2222222222222222,
              "#7201a8"
             ],
             [
              0.3333333333333333,
              "#9c179e"
             ],
             [
              0.4444444444444444,
              "#bd3786"
             ],
             [
              0.5555555555555556,
              "#d8576b"
             ],
             [
              0.6666666666666666,
              "#ed7953"
             ],
             [
              0.7777777777777778,
              "#fb9f3a"
             ],
             [
              0.8888888888888888,
              "#fdca26"
             ],
             [
              1,
              "#f0f921"
             ]
            ],
            "type": "histogram2dcontour"
           }
          ],
          "mesh3d": [
           {
            "colorbar": {
             "outlinewidth": 0,
             "ticks": ""
            },
            "type": "mesh3d"
           }
          ],
          "parcoords": [
           {
            "line": {
             "colorbar": {
              "outlinewidth": 0,
              "ticks": ""
             }
            },
            "type": "parcoords"
           }
          ],
          "pie": [
           {
            "automargin": true,
            "type": "pie"
           }
          ],
          "scatter": [
           {
            "fillpattern": {
             "fillmode": "overlay",
             "size": 10,
             "solidity": 0.2
            },
            "type": "scatter"
           }
          ],
          "scatter3d": [
           {
            "line": {
             "colorbar": {
              "outlinewidth": 0,
              "ticks": ""
             }
            },
            "marker": {
             "colorbar": {
              "outlinewidth": 0,
              "ticks": ""
             }
            },
            "type": "scatter3d"
           }
          ],
          "scattercarpet": [
           {
            "marker": {
             "colorbar": {
              "outlinewidth": 0,
              "ticks": ""
             }
            },
            "type": "scattercarpet"
           }
          ],
          "scattergeo": [
           {
            "marker": {
             "colorbar": {
              "outlinewidth": 0,
              "ticks": ""
             }
            },
            "type": "scattergeo"
           }
          ],
          "scattergl": [
           {
            "marker": {
             "colorbar": {
              "outlinewidth": 0,
              "ticks": ""
             }
            },
            "type": "scattergl"
           }
          ],
          "scattermapbox": [
           {
            "marker": {
             "colorbar": {
              "outlinewidth": 0,
              "ticks": ""
             }
            },
            "type": "scattermapbox"
           }
          ],
          "scatterpolar": [
           {
            "marker": {
             "colorbar": {
              "outlinewidth": 0,
              "ticks": ""
             }
            },
            "type": "scatterpolar"
           }
          ],
          "scatterpolargl": [
           {
            "marker": {
             "colorbar": {
              "outlinewidth": 0,
              "ticks": ""
             }
            },
            "type": "scatterpolargl"
           }
          ],
          "scatterternary": [
           {
            "marker": {
             "colorbar": {
              "outlinewidth": 0,
              "ticks": ""
             }
            },
            "type": "scatterternary"
           }
          ],
          "surface": [
           {
            "colorbar": {
             "outlinewidth": 0,
             "ticks": ""
            },
            "colorscale": [
             [
              0,
              "#0d0887"
             ],
             [
              0.1111111111111111,
              "#46039f"
             ],
             [
              0.2222222222222222,
              "#7201a8"
             ],
             [
              0.3333333333333333,
              "#9c179e"
             ],
             [
              0.4444444444444444,
              "#bd3786"
             ],
             [
              0.5555555555555556,
              "#d8576b"
             ],
             [
              0.6666666666666666,
              "#ed7953"
             ],
             [
              0.7777777777777778,
              "#fb9f3a"
             ],
             [
              0.8888888888888888,
              "#fdca26"
             ],
             [
              1,
              "#f0f921"
             ]
            ],
            "type": "surface"
           }
          ],
          "table": [
           {
            "cells": {
             "fill": {
              "color": "#EBF0F8"
             },
             "line": {
              "color": "white"
             }
            },
            "header": {
             "fill": {
              "color": "#C8D4E3"
             },
             "line": {
              "color": "white"
             }
            },
            "type": "table"
           }
          ]
         },
         "layout": {
          "annotationdefaults": {
           "arrowcolor": "#2a3f5f",
           "arrowhead": 0,
           "arrowwidth": 1
          },
          "autotypenumbers": "strict",
          "coloraxis": {
           "colorbar": {
            "outlinewidth": 0,
            "ticks": ""
           }
          },
          "colorscale": {
           "diverging": [
            [
             0,
             "#8e0152"
            ],
            [
             0.1,
             "#c51b7d"
            ],
            [
             0.2,
             "#de77ae"
            ],
            [
             0.3,
             "#f1b6da"
            ],
            [
             0.4,
             "#fde0ef"
            ],
            [
             0.5,
             "#f7f7f7"
            ],
            [
             0.6,
             "#e6f5d0"
            ],
            [
             0.7,
             "#b8e186"
            ],
            [
             0.8,
             "#7fbc41"
            ],
            [
             0.9,
             "#4d9221"
            ],
            [
             1,
             "#276419"
            ]
           ],
           "sequential": [
            [
             0,
             "#0d0887"
            ],
            [
             0.1111111111111111,
             "#46039f"
            ],
            [
             0.2222222222222222,
             "#7201a8"
            ],
            [
             0.3333333333333333,
             "#9c179e"
            ],
            [
             0.4444444444444444,
             "#bd3786"
            ],
            [
             0.5555555555555556,
             "#d8576b"
            ],
            [
             0.6666666666666666,
             "#ed7953"
            ],
            [
             0.7777777777777778,
             "#fb9f3a"
            ],
            [
             0.8888888888888888,
             "#fdca26"
            ],
            [
             1,
             "#f0f921"
            ]
           ],
           "sequentialminus": [
            [
             0,
             "#0d0887"
            ],
            [
             0.1111111111111111,
             "#46039f"
            ],
            [
             0.2222222222222222,
             "#7201a8"
            ],
            [
             0.3333333333333333,
             "#9c179e"
            ],
            [
             0.4444444444444444,
             "#bd3786"
            ],
            [
             0.5555555555555556,
             "#d8576b"
            ],
            [
             0.6666666666666666,
             "#ed7953"
            ],
            [
             0.7777777777777778,
             "#fb9f3a"
            ],
            [
             0.8888888888888888,
             "#fdca26"
            ],
            [
             1,
             "#f0f921"
            ]
           ]
          },
          "colorway": [
           "#636efa",
           "#EF553B",
           "#00cc96",
           "#ab63fa",
           "#FFA15A",
           "#19d3f3",
           "#FF6692",
           "#B6E880",
           "#FF97FF",
           "#FECB52"
          ],
          "font": {
           "color": "#2a3f5f"
          },
          "geo": {
           "bgcolor": "white",
           "lakecolor": "white",
           "landcolor": "#E5ECF6",
           "showlakes": true,
           "showland": true,
           "subunitcolor": "white"
          },
          "hoverlabel": {
           "align": "left"
          },
          "hovermode": "closest",
          "mapbox": {
           "style": "light"
          },
          "paper_bgcolor": "white",
          "plot_bgcolor": "#E5ECF6",
          "polar": {
           "angularaxis": {
            "gridcolor": "white",
            "linecolor": "white",
            "ticks": ""
           },
           "bgcolor": "#E5ECF6",
           "radialaxis": {
            "gridcolor": "white",
            "linecolor": "white",
            "ticks": ""
           }
          },
          "scene": {
           "xaxis": {
            "backgroundcolor": "#E5ECF6",
            "gridcolor": "white",
            "gridwidth": 2,
            "linecolor": "white",
            "showbackground": true,
            "ticks": "",
            "zerolinecolor": "white"
           },
           "yaxis": {
            "backgroundcolor": "#E5ECF6",
            "gridcolor": "white",
            "gridwidth": 2,
            "linecolor": "white",
            "showbackground": true,
            "ticks": "",
            "zerolinecolor": "white"
           },
           "zaxis": {
            "backgroundcolor": "#E5ECF6",
            "gridcolor": "white",
            "gridwidth": 2,
            "linecolor": "white",
            "showbackground": true,
            "ticks": "",
            "zerolinecolor": "white"
           }
          },
          "shapedefaults": {
           "line": {
            "color": "#2a3f5f"
           }
          },
          "ternary": {
           "aaxis": {
            "gridcolor": "white",
            "linecolor": "white",
            "ticks": ""
           },
           "baxis": {
            "gridcolor": "white",
            "linecolor": "white",
            "ticks": ""
           },
           "bgcolor": "#E5ECF6",
           "caxis": {
            "gridcolor": "white",
            "linecolor": "white",
            "ticks": ""
           }
          },
          "title": {
           "x": 0.05
          },
          "xaxis": {
           "automargin": true,
           "gridcolor": "white",
           "linecolor": "white",
           "ticks": "",
           "title": {
            "standoff": 15
           },
           "zerolinecolor": "white",
           "zerolinewidth": 2
          },
          "yaxis": {
           "automargin": true,
           "gridcolor": "white",
           "linecolor": "white",
           "ticks": "",
           "title": {
            "standoff": 15
           },
           "zerolinecolor": "white",
           "zerolinewidth": 2
          }
         }
        },
        "title": {
         "text": "Predicted Market Values for Selected Players"
        },
        "xaxis": {
         "anchor": "y",
         "domain": [
          0,
          1
         ],
         "title": {
          "text": "year"
         }
        },
        "yaxis": {
         "anchor": "x",
         "domain": [
          0,
          1
         ],
         "title": {
          "text": "predicted_value"
         }
        }
       }
      }
     },
     "metadata": {},
     "output_type": "display_data"
    }
   ],
   "source": [
    "\n",
    "plot_player_value_trends(\n",
    "    pdf_train, merged,\n",
    "    player_ids=players\n",
    ")\n",
    "\n",
    "\n"
   ]
  },
  {
   "cell_type": "code",
   "execution_count": 29,
   "id": "575bfe67",
   "metadata": {},
   "outputs": [
    {
     "data": {
      "application/vnd.plotly.v1+json": {
       "config": {
        "plotlyServerURL": "https://plot.ly"
       },
       "data": [
        {
         "customdata": [
          [
           23
          ],
          [
           24
          ],
          [
           25
          ],
          [
           26
          ],
          [
           27
          ],
          [
           28
          ],
          [
           29
          ],
          [
           30
          ],
          [
           32
          ],
          [
           33
          ],
          [
           34
          ],
          [
           35
          ],
          [
           36
          ],
          [
           37
          ],
          [
           38
          ],
          [
           39
          ],
          [
           40
          ],
          [
           41
          ]
         ],
         "hovertemplate": "name=Kevin De Bruyne<br>year=%{x}<br>predicted_value=%{y}<br>age=%{customdata[0]}<extra></extra>",
         "legendgroup": "Kevin De Bruyne",
         "line": {
          "color": "#636efa",
          "dash": "solid"
         },
         "marker": {
          "symbol": "circle"
         },
         "mode": "lines",
         "name": "Kevin De Bruyne",
         "orientation": "v",
         "showlegend": true,
         "type": "scatter",
         "x": [
          2015,
          2016,
          2017,
          2018,
          2019,
          2020,
          2021,
          2022,
          2023,
          2024,
          2025,
          2026,
          2027,
          2028,
          2029,
          2030,
          2031,
          2032
         ],
         "xaxis": "x",
         "y": [
          28,
          60,
          65,
          110,
          130,
          120,
          100,
          85,
          80.74429321289062,
          80.74429321289062,
          80.74429321289062,
          80.74429321289062,
          80.74429321289062,
          80.74429321289062,
          80.74429321289062,
          80.74429321289062,
          80.74429321289062,
          80.74429321289062
         ],
         "yaxis": "y"
        },
        {
         "customdata": [
          [
           22
          ],
          [
           23
          ],
          [
           24
          ],
          [
           25
          ],
          [
           26
          ],
          [
           27
          ],
          [
           28
          ],
          [
           29
          ],
          [
           30
          ],
          [
           31
          ],
          [
           32
          ],
          [
           33
          ],
          [
           34
          ],
          [
           35
          ],
          [
           36
          ],
          [
           37
          ],
          [
           38
          ],
          [
           39
          ]
         ],
         "hovertemplate": "name=Heung-min Son<br>year=%{x}<br>predicted_value=%{y}<br>age=%{customdata[0]}<extra></extra>",
         "legendgroup": "Heung-min Son",
         "line": {
          "color": "#EF553B",
          "dash": "solid"
         },
         "marker": {
          "symbol": "circle"
         },
         "mode": "lines",
         "name": "Heung-min Son",
         "orientation": "v",
         "showlegend": true,
         "type": "scatter",
         "x": [
          2015,
          2016,
          2017,
          2018,
          2019,
          2020,
          2021,
          2022,
          2023,
          2024,
          2025,
          2026,
          2027,
          2028,
          2029,
          2030,
          2031,
          2032
         ],
         "xaxis": "x",
         "y": [
          16,
          25,
          25,
          35,
          65,
          64,
          85,
          75,
          82.8399887084961,
          82.8399887084961,
          82.8399887084961,
          82.8399887084961,
          82.8399887084961,
          82.8399887084961,
          82.8399887084961,
          82.8399887084961,
          82.8399887084961,
          82.8399887084961
         ],
         "yaxis": "y"
        },
        {
         "customdata": [
          [
           22
          ],
          [
           23
          ],
          [
           24
          ],
          [
           25
          ],
          [
           27
          ],
          [
           27
          ],
          [
           28
          ],
          [
           30
          ],
          [
           30
          ],
          [
           31
          ],
          [
           32
          ],
          [
           33
          ],
          [
           34
          ],
          [
           35
          ],
          [
           36
          ],
          [
           37
          ],
          [
           38
          ],
          [
           39
          ]
         ],
         "hovertemplate": "name=Mohamed Salah<br>year=%{x}<br>predicted_value=%{y}<br>age=%{customdata[0]}<extra></extra>",
         "legendgroup": "Mohamed Salah",
         "line": {
          "color": "#00cc96",
          "dash": "solid"
         },
         "marker": {
          "symbol": "circle"
         },
         "mode": "lines",
         "name": "Mohamed Salah",
         "orientation": "v",
         "showlegend": true,
         "type": "scatter",
         "x": [
          2015,
          2016,
          2017,
          2018,
          2019,
          2020,
          2021,
          2022,
          2023,
          2024,
          2025,
          2026,
          2027,
          2028,
          2029,
          2030,
          2031,
          2032
         ],
         "xaxis": "x",
         "y": [
          10,
          20,
          30,
          80,
          150,
          120,
          110,
          90,
          89.22982025146484,
          89.22982025146484,
          89.22982025146484,
          89.22982025146484,
          89.22982025146484,
          89.22982025146484,
          89.22982025146484,
          89.22982025146484,
          89.22982025146484,
          89.22982025146484
         ],
         "yaxis": "y"
        },
        {
         "customdata": [
          [
           20
          ],
          [
           21
          ],
          [
           22
          ],
          [
           23
          ],
          [
           24
          ],
          [
           25
          ],
          [
           26
          ],
          [
           27
          ],
          [
           28
          ],
          [
           29
          ],
          [
           30
          ],
          [
           31
          ],
          [
           32
          ],
          [
           33
          ],
          [
           34
          ],
          [
           35
          ],
          [
           36
          ],
          [
           37
          ]
         ],
         "hovertemplate": "name=Bernardo Silva<br>year=%{x}<br>predicted_value=%{y}<br>age=%{customdata[0]}<extra></extra>",
         "legendgroup": "Bernardo Silva",
         "line": {
          "color": "#ab63fa",
          "dash": "solid"
         },
         "marker": {
          "symbol": "circle"
         },
         "mode": "lines",
         "name": "Bernardo Silva",
         "orientation": "v",
         "showlegend": true,
         "type": "scatter",
         "x": [
          2015,
          2016,
          2017,
          2018,
          2019,
          2020,
          2021,
          2022,
          2023,
          2024,
          2025,
          2026,
          2027,
          2028,
          2029,
          2030,
          2031,
          2032
         ],
         "xaxis": "x",
         "y": [
          3.5,
          15,
          25,
          40,
          80,
          80,
          70,
          80,
          79.607666015625,
          77.54183959960938,
          75.8704605102539,
          75.8704605102539,
          75.8704605102539,
          75.8704605102539,
          75.8704605102539,
          75.8704605102539,
          75.8704605102539,
          75.8704605102539
         ],
         "yaxis": "y"
        },
        {
         "customdata": [
          [
           17
          ],
          [
           18
          ],
          [
           19
          ],
          [
           20
          ],
          [
           21
          ],
          [
           22
          ],
          [
           23
          ],
          [
           24
          ],
          [
           25
          ],
          [
           26
          ],
          [
           27
          ],
          [
           28
          ],
          [
           29
          ],
          [
           30
          ],
          [
           31
          ],
          [
           32
          ]
         ],
         "hovertemplate": "name=Alexander Isak<br>year=%{x}<br>predicted_value=%{y}<br>age=%{customdata[0]}<extra></extra>",
         "legendgroup": "Alexander Isak",
         "line": {
          "color": "#FFA15A",
          "dash": "solid"
         },
         "marker": {
          "symbol": "circle"
         },
         "mode": "lines",
         "name": "Alexander Isak",
         "orientation": "v",
         "showlegend": true,
         "type": "scatter",
         "x": [
          2017,
          2018,
          2019,
          2020,
          2021,
          2022,
          2023,
          2024,
          2025,
          2026,
          2027,
          2028,
          2029,
          2030,
          2031,
          2032
         ],
         "xaxis": "x",
         "y": [
          6,
          6,
          8,
          25,
          22,
          30,
          54.5825080871582,
          70.14334869384766,
          83.40225219726562,
          114.41555786132812,
          113.72314453125,
          112.4464340209961,
          109.45809173583984,
          107.89082336425781,
          107.89082336425781,
          107.89082336425781
         ],
         "yaxis": "y"
        },
        {
         "customdata": [
          [
           20
          ],
          [
           21
          ],
          [
           22
          ],
          [
           23
          ],
          [
           24
          ],
          [
           25
          ],
          [
           27
          ],
          [
           28
          ],
          [
           29
          ],
          [
           30
          ],
          [
           31
          ],
          [
           32
          ],
          [
           33
          ],
          [
           34
          ],
          [
           35
          ],
          [
           36
          ]
         ],
         "hovertemplate": "name=Rodri<br>year=%{x}<br>predicted_value=%{y}<br>age=%{customdata[0]}<extra></extra>",
         "legendgroup": "Rodri",
         "line": {
          "color": "#19d3f3",
          "dash": "solid"
         },
         "marker": {
          "symbol": "circle"
         },
         "mode": "lines",
         "name": "Rodri",
         "orientation": "v",
         "showlegend": true,
         "type": "scatter",
         "x": [
          2017,
          2018,
          2019,
          2020,
          2021,
          2022,
          2023,
          2024,
          2025,
          2026,
          2027,
          2028,
          2029,
          2030,
          2031,
          2032
         ],
         "xaxis": "x",
         "y": [
          1.5,
          20,
          60,
          64,
          70,
          80,
          90.58816528320312,
          87.57353973388672,
          85.66327667236328,
          83.99189758300781,
          83.99189758300781,
          83.99189758300781,
          83.99189758300781,
          83.99189758300781,
          83.99189758300781,
          83.99189758300781
         ],
         "yaxis": "y"
        },
        {
         "customdata": [
          [
           18
          ],
          [
           20
          ],
          [
           21
          ],
          [
           22
          ],
          [
           23
          ],
          [
           24
          ],
          [
           25
          ],
          [
           26
          ],
          [
           27
          ],
          [
           28
          ],
          [
           29
          ],
          [
           30
          ],
          [
           31
          ],
          [
           32
          ],
          [
           33
          ]
         ],
         "hovertemplate": "name=Declan Rice<br>year=%{x}<br>predicted_value=%{y}<br>age=%{customdata[0]}<extra></extra>",
         "legendgroup": "Declan Rice",
         "line": {
          "color": "#FF6692",
          "dash": "solid"
         },
         "marker": {
          "symbol": "circle"
         },
         "mode": "lines",
         "name": "Declan Rice",
         "orientation": "v",
         "showlegend": true,
         "type": "scatter",
         "x": [
          2018,
          2019,
          2020,
          2021,
          2022,
          2023,
          2024,
          2025,
          2026,
          2027,
          2028,
          2029,
          2030,
          2031,
          2032
         ],
         "xaxis": "x",
         "y": [
          2,
          35,
          49.5,
          60,
          80,
          89.09234619140625,
          84.92803192138672,
          83.73773193359375,
          83.04531860351562,
          80.72310638427734,
          78.8128433227539,
          77.14146423339844,
          77.14146423339844,
          77.14146423339844,
          77.14146423339844
         ],
         "yaxis": "y"
        },
        {
         "customdata": [
          [
           18
          ],
          [
           19
          ],
          [
           20
          ],
          [
           21
          ],
          [
           23
          ],
          [
           24
          ],
          [
           25
          ],
          [
           26
          ],
          [
           27
          ],
          [
           28
          ],
          [
           29
          ],
          [
           30
          ],
          [
           31
          ],
          [
           32
          ]
         ],
         "hovertemplate": "name=Phil Foden<br>year=%{x}<br>predicted_value=%{y}<br>age=%{customdata[0]}<extra></extra>",
         "legendgroup": "Phil Foden",
         "line": {
          "color": "#B6E880",
          "dash": "solid"
         },
         "marker": {
          "symbol": "circle"
         },
         "mode": "lines",
         "name": "Phil Foden",
         "orientation": "v",
         "showlegend": true,
         "type": "scatter",
         "x": [
          2019,
          2020,
          2021,
          2022,
          2023,
          2024,
          2025,
          2026,
          2027,
          2028,
          2029,
          2030,
          2031,
          2032
         ],
         "xaxis": "x",
         "y": [
          25,
          27,
          70,
          90,
          114.63572692871094,
          113.28053283691406,
          113.28053283691406,
          112.0902328491211,
          111.39781951904297,
          109.07560729980469,
          106.23628234863281,
          104.56490325927734,
          104.56490325927734,
          104.56490325927734
         ],
         "yaxis": "y"
        },
        {
         "customdata": [
          [
           17
          ],
          [
           18
          ],
          [
           18
          ],
          [
           19
          ],
          [
           20
          ],
          [
           21
          ],
          [
           22
          ],
          [
           23
          ],
          [
           24
          ],
          [
           25
          ],
          [
           26
          ],
          [
           27
          ],
          [
           28
          ],
          [
           29
          ],
          [
           30
          ],
          [
           31
          ]
         ],
         "hovertemplate": "name=Erling Haaland<br>year=%{x}<br>predicted_value=%{y}<br>age=%{customdata[0]}<extra></extra>",
         "legendgroup": "Erling Haaland",
         "line": {
          "color": "#FF97FF",
          "dash": "solid"
         },
         "marker": {
          "symbol": "circle"
         },
         "mode": "lines",
         "name": "Erling Haaland",
         "orientation": "v",
         "showlegend": true,
         "type": "scatter",
         "x": [
          2017,
          2018,
          2019,
          2020,
          2021,
          2022,
          2023,
          2024,
          2025,
          2026,
          2027,
          2028,
          2029,
          2030,
          2031,
          2032
         ],
         "xaxis": "x",
         "y": [
          0.3,
          2,
          5,
          60,
          110,
          150,
          139.7073516845703,
          132.6551513671875,
          128.4908447265625,
          128.4908447265625,
          126.28939819335938,
          125.59698486328125,
          123.27477264404297,
          120.28643035888672,
          118.61505126953125,
          118.61505126953125
         ],
         "yaxis": "y"
        },
        {
         "customdata": [
          [
           20
          ],
          [
           21
          ],
          [
           22
          ],
          [
           23
          ],
          [
           24
          ],
          [
           25
          ],
          [
           26
          ],
          [
           27
          ],
          [
           28
          ],
          [
           29
          ],
          [
           30
          ]
         ],
         "hovertemplate": "name=Cole Palmer<br>year=%{x}<br>predicted_value=%{y}<br>age=%{customdata[0]}<extra></extra>",
         "legendgroup": "Cole Palmer",
         "line": {
          "color": "#FECB52",
          "dash": "solid"
         },
         "marker": {
          "symbol": "circle"
         },
         "mode": "lines",
         "name": "Cole Palmer",
         "orientation": "v",
         "showlegend": true,
         "type": "scatter",
         "x": [
          2022,
          2023,
          2024,
          2025,
          2026,
          2027,
          2028,
          2029,
          2030,
          2031,
          2032
         ],
         "xaxis": "x",
         "y": [
          6,
          16.425674438476562,
          26.890125274658203,
          38.19465255737305,
          51.772682189941406,
          64.02210235595703,
          74.45022583007812,
          73.6605453491211,
          71.83346557617188,
          68.994140625,
          67.37934875488281
         ],
         "yaxis": "y"
        }
       ],
       "layout": {
        "annotations": [
         {
          "showarrow": false,
          "text": "2022/2023 boundary",
          "x": 2022.5,
          "xanchor": "left",
          "xref": "x",
          "y": 1,
          "yanchor": "top",
          "yref": "y domain"
         }
        ],
        "legend": {
         "title": {
          "text": "name"
         },
         "tracegroupgap": 0
        },
        "shapes": [
         {
          "line": {
           "color": "red",
           "dash": "dash"
          },
          "type": "line",
          "x0": 2022.5,
          "x1": 2022.5,
          "xref": "x",
          "y0": 0,
          "y1": 1,
          "yref": "y domain"
         }
        ],
        "template": {
         "data": {
          "bar": [
           {
            "error_x": {
             "color": "#2a3f5f"
            },
            "error_y": {
             "color": "#2a3f5f"
            },
            "marker": {
             "line": {
              "color": "#E5ECF6",
              "width": 0.5
             },
             "pattern": {
              "fillmode": "overlay",
              "size": 10,
              "solidity": 0.2
             }
            },
            "type": "bar"
           }
          ],
          "barpolar": [
           {
            "marker": {
             "line": {
              "color": "#E5ECF6",
              "width": 0.5
             },
             "pattern": {
              "fillmode": "overlay",
              "size": 10,
              "solidity": 0.2
             }
            },
            "type": "barpolar"
           }
          ],
          "carpet": [
           {
            "aaxis": {
             "endlinecolor": "#2a3f5f",
             "gridcolor": "white",
             "linecolor": "white",
             "minorgridcolor": "white",
             "startlinecolor": "#2a3f5f"
            },
            "baxis": {
             "endlinecolor": "#2a3f5f",
             "gridcolor": "white",
             "linecolor": "white",
             "minorgridcolor": "white",
             "startlinecolor": "#2a3f5f"
            },
            "type": "carpet"
           }
          ],
          "choropleth": [
           {
            "colorbar": {
             "outlinewidth": 0,
             "ticks": ""
            },
            "type": "choropleth"
           }
          ],
          "contour": [
           {
            "colorbar": {
             "outlinewidth": 0,
             "ticks": ""
            },
            "colorscale": [
             [
              0,
              "#0d0887"
             ],
             [
              0.1111111111111111,
              "#46039f"
             ],
             [
              0.2222222222222222,
              "#7201a8"
             ],
             [
              0.3333333333333333,
              "#9c179e"
             ],
             [
              0.4444444444444444,
              "#bd3786"
             ],
             [
              0.5555555555555556,
              "#d8576b"
             ],
             [
              0.6666666666666666,
              "#ed7953"
             ],
             [
              0.7777777777777778,
              "#fb9f3a"
             ],
             [
              0.8888888888888888,
              "#fdca26"
             ],
             [
              1,
              "#f0f921"
             ]
            ],
            "type": "contour"
           }
          ],
          "contourcarpet": [
           {
            "colorbar": {
             "outlinewidth": 0,
             "ticks": ""
            },
            "type": "contourcarpet"
           }
          ],
          "heatmap": [
           {
            "colorbar": {
             "outlinewidth": 0,
             "ticks": ""
            },
            "colorscale": [
             [
              0,
              "#0d0887"
             ],
             [
              0.1111111111111111,
              "#46039f"
             ],
             [
              0.2222222222222222,
              "#7201a8"
             ],
             [
              0.3333333333333333,
              "#9c179e"
             ],
             [
              0.4444444444444444,
              "#bd3786"
             ],
             [
              0.5555555555555556,
              "#d8576b"
             ],
             [
              0.6666666666666666,
              "#ed7953"
             ],
             [
              0.7777777777777778,
              "#fb9f3a"
             ],
             [
              0.8888888888888888,
              "#fdca26"
             ],
             [
              1,
              "#f0f921"
             ]
            ],
            "type": "heatmap"
           }
          ],
          "heatmapgl": [
           {
            "colorbar": {
             "outlinewidth": 0,
             "ticks": ""
            },
            "colorscale": [
             [
              0,
              "#0d0887"
             ],
             [
              0.1111111111111111,
              "#46039f"
             ],
             [
              0.2222222222222222,
              "#7201a8"
             ],
             [
              0.3333333333333333,
              "#9c179e"
             ],
             [
              0.4444444444444444,
              "#bd3786"
             ],
             [
              0.5555555555555556,
              "#d8576b"
             ],
             [
              0.6666666666666666,
              "#ed7953"
             ],
             [
              0.7777777777777778,
              "#fb9f3a"
             ],
             [
              0.8888888888888888,
              "#fdca26"
             ],
             [
              1,
              "#f0f921"
             ]
            ],
            "type": "heatmapgl"
           }
          ],
          "histogram": [
           {
            "marker": {
             "pattern": {
              "fillmode": "overlay",
              "size": 10,
              "solidity": 0.2
             }
            },
            "type": "histogram"
           }
          ],
          "histogram2d": [
           {
            "colorbar": {
             "outlinewidth": 0,
             "ticks": ""
            },
            "colorscale": [
             [
              0,
              "#0d0887"
             ],
             [
              0.1111111111111111,
              "#46039f"
             ],
             [
              0.2222222222222222,
              "#7201a8"
             ],
             [
              0.3333333333333333,
              "#9c179e"
             ],
             [
              0.4444444444444444,
              "#bd3786"
             ],
             [
              0.5555555555555556,
              "#d8576b"
             ],
             [
              0.6666666666666666,
              "#ed7953"
             ],
             [
              0.7777777777777778,
              "#fb9f3a"
             ],
             [
              0.8888888888888888,
              "#fdca26"
             ],
             [
              1,
              "#f0f921"
             ]
            ],
            "type": "histogram2d"
           }
          ],
          "histogram2dcontour": [
           {
            "colorbar": {
             "outlinewidth": 0,
             "ticks": ""
            },
            "colorscale": [
             [
              0,
              "#0d0887"
             ],
             [
              0.1111111111111111,
              "#46039f"
             ],
             [
              0.2222222222222222,
              "#7201a8"
             ],
             [
              0.3333333333333333,
              "#9c179e"
             ],
             [
              0.4444444444444444,
              "#bd3786"
             ],
             [
              0.5555555555555556,
              "#d8576b"
             ],
             [
              0.6666666666666666,
              "#ed7953"
             ],
             [
              0.7777777777777778,
              "#fb9f3a"
             ],
             [
              0.8888888888888888,
              "#fdca26"
             ],
             [
              1,
              "#f0f921"
             ]
            ],
            "type": "histogram2dcontour"
           }
          ],
          "mesh3d": [
           {
            "colorbar": {
             "outlinewidth": 0,
             "ticks": ""
            },
            "type": "mesh3d"
           }
          ],
          "parcoords": [
           {
            "line": {
             "colorbar": {
              "outlinewidth": 0,
              "ticks": ""
             }
            },
            "type": "parcoords"
           }
          ],
          "pie": [
           {
            "automargin": true,
            "type": "pie"
           }
          ],
          "scatter": [
           {
            "fillpattern": {
             "fillmode": "overlay",
             "size": 10,
             "solidity": 0.2
            },
            "type": "scatter"
           }
          ],
          "scatter3d": [
           {
            "line": {
             "colorbar": {
              "outlinewidth": 0,
              "ticks": ""
             }
            },
            "marker": {
             "colorbar": {
              "outlinewidth": 0,
              "ticks": ""
             }
            },
            "type": "scatter3d"
           }
          ],
          "scattercarpet": [
           {
            "marker": {
             "colorbar": {
              "outlinewidth": 0,
              "ticks": ""
             }
            },
            "type": "scattercarpet"
           }
          ],
          "scattergeo": [
           {
            "marker": {
             "colorbar": {
              "outlinewidth": 0,
              "ticks": ""
             }
            },
            "type": "scattergeo"
           }
          ],
          "scattergl": [
           {
            "marker": {
             "colorbar": {
              "outlinewidth": 0,
              "ticks": ""
             }
            },
            "type": "scattergl"
           }
          ],
          "scattermapbox": [
           {
            "marker": {
             "colorbar": {
              "outlinewidth": 0,
              "ticks": ""
             }
            },
            "type": "scattermapbox"
           }
          ],
          "scatterpolar": [
           {
            "marker": {
             "colorbar": {
              "outlinewidth": 0,
              "ticks": ""
             }
            },
            "type": "scatterpolar"
           }
          ],
          "scatterpolargl": [
           {
            "marker": {
             "colorbar": {
              "outlinewidth": 0,
              "ticks": ""
             }
            },
            "type": "scatterpolargl"
           }
          ],
          "scatterternary": [
           {
            "marker": {
             "colorbar": {
              "outlinewidth": 0,
              "ticks": ""
             }
            },
            "type": "scatterternary"
           }
          ],
          "surface": [
           {
            "colorbar": {
             "outlinewidth": 0,
             "ticks": ""
            },
            "colorscale": [
             [
              0,
              "#0d0887"
             ],
             [
              0.1111111111111111,
              "#46039f"
             ],
             [
              0.2222222222222222,
              "#7201a8"
             ],
             [
              0.3333333333333333,
              "#9c179e"
             ],
             [
              0.4444444444444444,
              "#bd3786"
             ],
             [
              0.5555555555555556,
              "#d8576b"
             ],
             [
              0.6666666666666666,
              "#ed7953"
             ],
             [
              0.7777777777777778,
              "#fb9f3a"
             ],
             [
              0.8888888888888888,
              "#fdca26"
             ],
             [
              1,
              "#f0f921"
             ]
            ],
            "type": "surface"
           }
          ],
          "table": [
           {
            "cells": {
             "fill": {
              "color": "#EBF0F8"
             },
             "line": {
              "color": "white"
             }
            },
            "header": {
             "fill": {
              "color": "#C8D4E3"
             },
             "line": {
              "color": "white"
             }
            },
            "type": "table"
           }
          ]
         },
         "layout": {
          "annotationdefaults": {
           "arrowcolor": "#2a3f5f",
           "arrowhead": 0,
           "arrowwidth": 1
          },
          "autotypenumbers": "strict",
          "coloraxis": {
           "colorbar": {
            "outlinewidth": 0,
            "ticks": ""
           }
          },
          "colorscale": {
           "diverging": [
            [
             0,
             "#8e0152"
            ],
            [
             0.1,
             "#c51b7d"
            ],
            [
             0.2,
             "#de77ae"
            ],
            [
             0.3,
             "#f1b6da"
            ],
            [
             0.4,
             "#fde0ef"
            ],
            [
             0.5,
             "#f7f7f7"
            ],
            [
             0.6,
             "#e6f5d0"
            ],
            [
             0.7,
             "#b8e186"
            ],
            [
             0.8,
             "#7fbc41"
            ],
            [
             0.9,
             "#4d9221"
            ],
            [
             1,
             "#276419"
            ]
           ],
           "sequential": [
            [
             0,
             "#0d0887"
            ],
            [
             0.1111111111111111,
             "#46039f"
            ],
            [
             0.2222222222222222,
             "#7201a8"
            ],
            [
             0.3333333333333333,
             "#9c179e"
            ],
            [
             0.4444444444444444,
             "#bd3786"
            ],
            [
             0.5555555555555556,
             "#d8576b"
            ],
            [
             0.6666666666666666,
             "#ed7953"
            ],
            [
             0.7777777777777778,
             "#fb9f3a"
            ],
            [
             0.8888888888888888,
             "#fdca26"
            ],
            [
             1,
             "#f0f921"
            ]
           ],
           "sequentialminus": [
            [
             0,
             "#0d0887"
            ],
            [
             0.1111111111111111,
             "#46039f"
            ],
            [
             0.2222222222222222,
             "#7201a8"
            ],
            [
             0.3333333333333333,
             "#9c179e"
            ],
            [
             0.4444444444444444,
             "#bd3786"
            ],
            [
             0.5555555555555556,
             "#d8576b"
            ],
            [
             0.6666666666666666,
             "#ed7953"
            ],
            [
             0.7777777777777778,
             "#fb9f3a"
            ],
            [
             0.8888888888888888,
             "#fdca26"
            ],
            [
             1,
             "#f0f921"
            ]
           ]
          },
          "colorway": [
           "#636efa",
           "#EF553B",
           "#00cc96",
           "#ab63fa",
           "#FFA15A",
           "#19d3f3",
           "#FF6692",
           "#B6E880",
           "#FF97FF",
           "#FECB52"
          ],
          "font": {
           "color": "#2a3f5f"
          },
          "geo": {
           "bgcolor": "white",
           "lakecolor": "white",
           "landcolor": "#E5ECF6",
           "showlakes": true,
           "showland": true,
           "subunitcolor": "white"
          },
          "hoverlabel": {
           "align": "left"
          },
          "hovermode": "closest",
          "mapbox": {
           "style": "light"
          },
          "paper_bgcolor": "white",
          "plot_bgcolor": "#E5ECF6",
          "polar": {
           "angularaxis": {
            "gridcolor": "white",
            "linecolor": "white",
            "ticks": ""
           },
           "bgcolor": "#E5ECF6",
           "radialaxis": {
            "gridcolor": "white",
            "linecolor": "white",
            "ticks": ""
           }
          },
          "scene": {
           "xaxis": {
            "backgroundcolor": "#E5ECF6",
            "gridcolor": "white",
            "gridwidth": 2,
            "linecolor": "white",
            "showbackground": true,
            "ticks": "",
            "zerolinecolor": "white"
           },
           "yaxis": {
            "backgroundcolor": "#E5ECF6",
            "gridcolor": "white",
            "gridwidth": 2,
            "linecolor": "white",
            "showbackground": true,
            "ticks": "",
            "zerolinecolor": "white"
           },
           "zaxis": {
            "backgroundcolor": "#E5ECF6",
            "gridcolor": "white",
            "gridwidth": 2,
            "linecolor": "white",
            "showbackground": true,
            "ticks": "",
            "zerolinecolor": "white"
           }
          },
          "shapedefaults": {
           "line": {
            "color": "#2a3f5f"
           }
          },
          "ternary": {
           "aaxis": {
            "gridcolor": "white",
            "linecolor": "white",
            "ticks": ""
           },
           "baxis": {
            "gridcolor": "white",
            "linecolor": "white",
            "ticks": ""
           },
           "bgcolor": "#E5ECF6",
           "caxis": {
            "gridcolor": "white",
            "linecolor": "white",
            "ticks": ""
           }
          },
          "title": {
           "x": 0.05
          },
          "xaxis": {
           "automargin": true,
           "gridcolor": "white",
           "linecolor": "white",
           "ticks": "",
           "title": {
            "standoff": 15
           },
           "zerolinecolor": "white",
           "zerolinewidth": 2
          },
          "yaxis": {
           "automargin": true,
           "gridcolor": "white",
           "linecolor": "white",
           "ticks": "",
           "title": {
            "standoff": 15
           },
           "zerolinecolor": "white",
           "zerolinewidth": 2
          }
         }
        },
        "title": {
         "text": "Predicted Market Values for Selected Players"
        },
        "xaxis": {
         "anchor": "y",
         "domain": [
          0,
          1
         ],
         "title": {
          "text": "year"
         }
        },
        "yaxis": {
         "anchor": "x",
         "domain": [
          0,
          1
         ],
         "title": {
          "text": "predicted_value"
         }
        }
       }
      }
     },
     "metadata": {},
     "output_type": "display_data"
    }
   ],
   "source": [
    "plot_player_value_trends(\n",
    "    pdf_train, merged,\n",
    "    top_year=2032,\n",
    "    top_n=10\n",
    ")"
   ]
  },
  {
   "cell_type": "code",
   "execution_count": 13,
   "id": "ffe03298",
   "metadata": {},
   "outputs": [
    {
     "name": "stderr",
     "output_type": "stream",
     "text": [
      "C:\\Users\\tomkn\\AppData\\Local\\Temp\\ipykernel_26788\\2121820575.py:2: SettingWithCopyWarning:\n",
      "\n",
      "\n",
      "A value is trying to be set on a copy of a slice from a DataFrame.\n",
      "Try using .loc[row_indexer,col_indexer] = value instead\n",
      "\n",
      "See the caveats in the documentation: https://pandas.pydata.org/pandas-docs/stable/user_guide/indexing.html#returning-a-view-versus-a-copy\n",
      "\n"
     ]
    }
   ],
   "source": [
    "output_df = merged.query(\"year == 2023\")\n",
    "output_df[\"actual_value\"] = y_test.values\n"
   ]
  },
  {
   "cell_type": "code",
   "execution_count": 14,
   "id": "ff1ecd6d",
   "metadata": {},
   "outputs": [],
   "source": [
    "pdf_feature_importance = top_features.reset_index()\n",
    "pdf_feature_importance.columns = [\"feature\", \"importance\"]\n",
    "pdf_feature_importance[\"model_output_id\"] = forecast_id"
   ]
  },
  {
   "cell_type": "code",
   "execution_count": 16,
   "id": "92f0235e",
   "metadata": {},
   "outputs": [
    {
     "data": {
      "image/png": "[encoded data removed]",
      "text/plain": [
       "<Figure size 2400x1600 with 1 Axes>"
      ]
     },
     "metadata": {},
     "output_type": "display_data"
    }
   ],
   "source": [
    "\n",
    "\n",
    "\n",
    "plot_basic_decision_tree(pdf_train, features, target, max_depth=4)"
   ]
  },
  {
   "cell_type": "code",
   "execution_count": 18,
   "id": "bd4f4640",
   "metadata": {},
   "outputs": [
    {
     "name": "stderr",
     "output_type": "stream",
     "text": [
      "C:\\Users\\tomkn\\AppData\\Local\\Temp\\ipykernel_26788\\2774007858.py:1: SettingWithCopyWarning:\n",
      "\n",
      "\n",
      "A value is trying to be set on a copy of a slice from a DataFrame.\n",
      "Try using .loc[row_indexer,col_indexer] = value instead\n",
      "\n",
      "See the caveats in the documentation: https://pandas.pydata.org/pandas-docs/stable/user_guide/indexing.html#returning-a-view-versus-a-copy\n",
      "\n",
      "C:\\Users\\tomkn\\AppData\\Local\\Temp\\ipykernel_26788\\2774007858.py:2: SettingWithCopyWarning:\n",
      "\n",
      "\n",
      "A value is trying to be set on a copy of a slice from a DataFrame.\n",
      "Try using .loc[row_indexer,col_indexer] = value instead\n",
      "\n",
      "See the caveats in the documentation: https://pandas.pydata.org/pandas-docs/stable/user_guide/indexing.html#returning-a-view-versus-a-copy\n",
      "\n",
      "C:\\Users\\tomkn\\AppData\\Local\\Temp\\ipykernel_26788\\2774007858.py:3: SettingWithCopyWarning:\n",
      "\n",
      "\n",
      "A value is trying to be set on a copy of a slice from a DataFrame.\n",
      "Try using .loc[row_indexer,col_indexer] = value instead\n",
      "\n",
      "See the caveats in the documentation: https://pandas.pydata.org/pandas-docs/stable/user_guide/indexing.html#returning-a-view-versus-a-copy\n",
      "\n",
      "C:\\Users\\tomkn\\AppData\\Local\\Temp\\ipykernel_26788\\2774007858.py:4: SettingWithCopyWarning:\n",
      "\n",
      "\n",
      "A value is trying to be set on a copy of a slice from a DataFrame.\n",
      "Try using .loc[row_indexer,col_indexer] = value instead\n",
      "\n",
      "See the caveats in the documentation: https://pandas.pydata.org/pandas-docs/stable/user_guide/indexing.html#returning-a-view-versus-a-copy\n",
      "\n",
      "C:\\Users\\tomkn\\AppData\\Local\\Temp\\ipykernel_26788\\2774007858.py:5: SettingWithCopyWarning:\n",
      "\n",
      "\n",
      "A value is trying to be set on a copy of a slice from a DataFrame.\n",
      "Try using .loc[row_indexer,col_indexer] = value instead\n",
      "\n",
      "See the caveats in the documentation: https://pandas.pydata.org/pandas-docs/stable/user_guide/indexing.html#returning-a-view-versus-a-copy\n",
      "\n",
      "C:\\Users\\tomkn\\AppData\\Local\\Temp\\ipykernel_26788\\2774007858.py:6: SettingWithCopyWarning:\n",
      "\n",
      "\n",
      "A value is trying to be set on a copy of a slice from a DataFrame.\n",
      "Try using .loc[row_indexer,col_indexer] = value instead\n",
      "\n",
      "See the caveats in the documentation: https://pandas.pydata.org/pandas-docs/stable/user_guide/indexing.html#returning-a-view-versus-a-copy\n",
      "\n",
      "C:\\Users\\tomkn\\AppData\\Local\\Temp\\ipykernel_26788\\2774007858.py:7: SettingWithCopyWarning:\n",
      "\n",
      "\n",
      "A value is trying to be set on a copy of a slice from a DataFrame.\n",
      "Try using .loc[row_indexer,col_indexer] = value instead\n",
      "\n",
      "See the caveats in the documentation: https://pandas.pydata.org/pandas-docs/stable/user_guide/indexing.html#returning-a-view-versus-a-copy\n",
      "\n"
     ]
    }
   ],
   "source": [
    "output_df[\"model_output_id\"] = forecast_id\n",
    "output_df[\"model_run_date\"] = datetime.datetime.now()\n",
    "output_df[\"time_taken_seconds\"] = diff\n",
    "output_df[\"features_used\"] = str(features)\n",
    "output_df[\"model_type\"] = \"XG_Boost\"\n",
    "output_df[\"split_year\"] = test_start\n",
    "output_df[\"version\"] = version"
   ]
  },
  {
   "cell_type": "code",
   "execution_count": 19,
   "id": "ddf63cbf",
   "metadata": {},
   "outputs": [],
   "source": [
    "save_output_tables(output_df)"
   ]
  },
  {
   "cell_type": "code",
   "execution_count": 21,
   "id": "e279e35a",
   "metadata": {},
   "outputs": [],
   "source": [
    "\n",
    "feature_path = \"data/output/feature_importance.csv\"\n",
    "\n",
    "# Check if files exist\n",
    "feature_exists = os.path.isfile(feature_path)\n",
    "\n",
    "# Append output\n",
    "pdf_feature_importance.to_csv(feature_path, mode=\"a\", index=False, header=not feature_exists)\n",
    "\n"
   ]
  }
 ],
 "metadata": {
  "kernelspec": {
   "display_name": "Python 3",
   "language": "python",
   "name": "python3"
  },
  "language_info": {
   "codemirror_mode": {
    "name": "ipython",
    "version": 3
   },
   "file_extension": ".py",
   "mimetype": "text/x-python",
   "name": "python",
   "nbconvert_exporter": "python",
   "pygments_lexer": "ipython3",
   "version": "3.11.9"
  }
 },
 "nbformat": 4,
 "nbformat_minor": 5
}
