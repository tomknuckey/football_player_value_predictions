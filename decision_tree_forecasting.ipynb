{
 "cells": [
  {
   "cell_type": "code",
   "execution_count": 23,
   "id": "1b43e964",
   "metadata": {},
   "outputs": [],
   "source": [
    "import pandas as pd\n",
    "import plotly.express as px\n",
    "from sklearn.tree import DecisionTreeRegressor\n",
    "from sklearn import tree\n",
    "import matplotlib.pyplot as plt\n",
    "from sklearn.metrics import root_mean_squared_error\n",
    "from sklearn.metrics import r2_score\n",
    "from typing import List, Tuple\n",
    "from xgboost import XGBRegressor \n",
    "import uuid\n",
    "import datetime \n",
    "import time\n",
    "from sklearn.model_selection import RandomizedSearchCV, TimeSeriesSplit, GridSearchCV, train_test_split\n",
    "from utils.output_analysis import plot_decision_tree_importance, plot_player_value_trends, save_output_tables\n",
    "from utils.model import test_train_split, define_features\n",
    "import optuna\n",
    "from config import features, test_start\n",
    "\n"
   ]
  },
  {
   "cell_type": "code",
   "execution_count": 24,
   "id": "95766a24",
   "metadata": {},
   "outputs": [],
   "source": [
    "start = time.time()"
   ]
  },
  {
   "cell_type": "code",
   "execution_count": 25,
   "id": "577b7f61",
   "metadata": {},
   "outputs": [],
   "source": [
    "pdf_mvp = pd.read_csv(\"data/intermediate/time_series_model_data_prep.csv\") "
   ]
  },
  {
   "cell_type": "code",
   "execution_count": 26,
   "id": "762ec1b7",
   "metadata": {},
   "outputs": [],
   "source": [
    "version  = \"v0.0.4\""
   ]
  },
  {
   "cell_type": "code",
   "execution_count": 27,
   "id": "18256918",
   "metadata": {},
   "outputs": [],
   "source": [
    "\n",
    "features = define_features(pdf_mvp, features)\n",
    "\n",
    "pdf_train, pdf_test = test_train_split(pdf_mvp, test_start)"
   ]
  },
  {
   "cell_type": "code",
   "execution_count": null,
   "id": "d0c1c16d",
   "metadata": {},
   "outputs": [],
   "source": [
    "def objective(\n",
    "    trial: optuna.Trial,\n",
    "    X: pd.DataFrame,\n",
    "    y: pd.Series,\n",
    "    tscv: TimeSeriesSplit,\n",
    ") -> float:\n",
    "    params = {\n",
    "        \"n_estimators\": trial.suggest_int(\"n_estimators\", 50, 200),  # Number of trees\n",
    "        \"learning_rate\": trial.suggest_float(\"learning_rate\", 0.01, 0.3),  # Learning rate\n",
    "        \"max_depth\": trial.suggest_int(\"max_depth\", 1, 7),  # Tree depth\n",
    "        \"subsample\": trial.suggest_float(\"subsample\", 0.5, 1.0),  # Subsampling fraction\n",
    "        \"colsample_bytree\": trial.suggest_float(\"colsample_bytree\", 0.6, 1.0),\n",
    "        \"gamma\": trial.suggest_float(\"gamma\", 0, 5),  # Min loss reduction for split\n",
    "        \"reg_alpha\": trial.suggest_float(\"reg_alpha\", 0.0, 1.0),  # L1 regularization\n",
    "        \"reg_lambda\": trial.suggest_float(\"reg_lambda\", 0.1, 10.0),  # L2 regularization\n",
    "        \"random_state\": 42,\n",
    "        \"objective\": \"reg:squarederror\",\n",
    "        \"tree_method\": \"hist\",\n",
    "        \"verbosity\": 0,\n",
    "    }\n",
    "\n",
    "    rmse_scores = []\n",
    "\n",
    "    for train_idx, val_idx in tscv.split(X):\n",
    "        X_train, X_val = X.iloc[train_idx], X.iloc[val_idx]\n",
    "        y_train, y_val = y.iloc[train_idx], y.iloc[val_idx]\n",
    "\n",
    "        model = XGBRegressor(**params)\n",
    "        model.fit(X_train, y_train)\n",
    "\n",
    "        preds = model.predict(X_val)\n",
    "        rmse = root_mean_squared_error(y_val, preds)\n",
    "        rmse_scores.append(rmse)\n",
    "\n",
    "    return sum(rmse_scores) / len(rmse_scores)  # Average RMSE across folds\n",
    "\n",
    "\n",
    "def predict_future_values(\n",
    "    train_df: pd.DataFrame,\n",
    "    test_df: pd.DataFrame,\n",
    "    prediction_years: List[int],\n",
    "    features: List[str],\n",
    "    n_trials: int = 500,\n",
    ") -> Tuple[pd.DataFrame, XGBRegressor, pd.Series]:\n",
    "    \"\"\"\n",
    "    Predicts future player values for specified years using XGBoost and Optuna hyperparameter tuning.\n",
    "\n",
    "    Args:\n",
    "        train_df: Training DataFrame with features and target.\n",
    "        test_df: Initial test DataFrame to predict from (starting year).\n",
    "        prediction_years: List of years to predict, starting with the base year.\n",
    "        features: List of feature column names to use.\n",
    "        n_trials: Number of Optuna trials for hyperparameter search.\n",
    "\n",
    "    Returns:\n",
    "        Tuple of:\n",
    "            - DataFrame with predicted values for all prediction years concatenated.\n",
    "            - Trained XGBRegressor using best Optuna params.\n",
    "            - y_test from the base year (only valid for the first year).\n",
    "    \"\"\"\n",
    "    target = \"market_value_in_million_eur\"\n",
    "\n",
    "    X_train = train_df[features]\n",
    "    y_train = train_df[target]\n",
    "\n",
    "    tscv = TimeSeriesSplit(n_splits=3)\n",
    "\n",
    "    study = optuna.create_study(direction=\"minimize\")\n",
    "    study.optimize(lambda trial: objective(trial, X_train, y_train, tscv), n_trials=n_trials, show_progress_bar=False)\n",
    "\n",
    "    print(f\"Best trial params: {study.best_trial.params}\")\n",
    "    print(f\"Best trial RMSE: {study.best_value:.4f}\")\n",
    "\n",
    "    # Train final model on all training data with best params\n",
    "    best_params = study.best_trial.params\n",
    "    # Add fixed params required by XGBRegressor\n",
    "    best_params.update({\n",
    "        \"random_state\": 42,\n",
    "        \"objective\": \"reg:squarederror\",\n",
    "        \"tree_method\": \"hist\",\n",
    "        \"verbosity\": 0,\n",
    "    })\n",
    "\n",
    "    model = XGBRegressor(**best_params)\n",
    "    model.fit(X_train, y_train)\n",
    "\n",
    "    predictions = []\n",
    "    current_df = test_df.copy()\n",
    "\n",
    "    for i, year in enumerate(prediction_years):\n",
    "        X_test = current_df[features]\n",
    "        current_df[\"predicted_value\"] = model.predict(X_test)\n",
    "        current_df[\"year\"] = year\n",
    "\n",
    "        if i == 0:\n",
    "            y_test = current_df[target]\n",
    "            rmse = root_mean_squared_error(y_test, current_df[\"predicted_value\"])\n",
    "            r2 = r2_score(y_test, current_df[\"predicted_value\"])\n",
    "            print(f\"{year} RMSE: {rmse:.2f}\")\n",
    "            print(f\"{year} R²: {r2:.3f}\")\n",
    "\n",
    "            fig = px.scatter(current_df, x=\"predicted_value\", y=target, hover_data=[\"name\", \"age\"])\n",
    "            fig.show()\n",
    "        else:\n",
    "            current_df[\"age\"] = current_df[\"age_last_year\"] + 1\n",
    "\n",
    "        # Reduce contract years left by 1, never below 0\n",
    "        if \"contract_years_left\" in current_df.columns:\n",
    "            current_df[\"contract_years_left\"] = (current_df[\"contract_years_left\"] - 1).clip(lower=0)\n",
    "\n",
    "        current_df[\"age_last_year\"] = current_df[\"age\"]\n",
    "        current_df[\"value_last_year\"] = current_df[\"predicted_value\"]\n",
    "\n",
    "        predictions.append(current_df[[\"player_id\", \"year\", \"age\", \"predicted_value\"]].copy())\n",
    "\n",
    "        if i < len(prediction_years) - 1:\n",
    "            pos_cols = [col for col in current_df.columns if col.startswith(\"pos_\")]\n",
    "            subpos_cols = [col for col in current_df.columns if col.startswith(\"subpos_\")]\n",
    "            static_cols = pos_cols + subpos_cols\n",
    "\n",
    "            carry_cols = [\"player_id\", \"value_last_year\", \"age\", *static_cols]\n",
    "            if \"contract_years_left\" in current_df.columns:\n",
    "                carry_cols.append(\"contract_years_left\")\n",
    "            current_df = current_df[carry_cols].copy()\n",
    "            current_df.rename(columns={\"age\": \"age_last_year\"}, inplace=True)\n",
    "\n",
    "    all_predictions_df = pd.concat(predictions, ignore_index=True)\n",
    "    return all_predictions_df, model, y_test\n"
   ]
  },
  {
   "cell_type": "code",
   "execution_count": 29,
   "id": "92b49796",
   "metadata": {},
   "outputs": [
    {
     "name": "stderr",
     "output_type": "stream",
     "text": [
      "[I 2025-07-28 13:52:08,723] A new study created in memory with name: no-name-36cd3722-7666-4a5a-b2b9-f932d768e335\n",
      "[I 2025-07-28 13:52:09,087] Trial 0 finished with value: 4.994467230287506 and parameters: {'n_estimators': 117, 'learning_rate': 0.2592740675351793, 'max_depth': 3, 'subsample': 0.8803722255255383, 'colsample_bytree': 0.8937561655644777, 'gamma': 0.7883246511800407, 'reg_alpha': 0.6884664600756704, 'reg_lambda': 5.3758521598784705}. Best is trial 0 with value: 4.994467230287506.\n",
      "[I 2025-07-28 13:52:09,519] Trial 1 finished with value: 5.136053021749941 and parameters: {'n_estimators': 173, 'learning_rate': 0.04377374511440721, 'max_depth': 3, 'subsample': 0.5160686895503911, 'colsample_bytree': 0.8428334879578111, 'gamma': 4.958992112407961, 'reg_alpha': 0.006002665156320086, 'reg_lambda': 7.940659149656092}. Best is trial 0 with value: 4.994467230287506.\n",
      "[I 2025-07-28 13:52:09,866] Trial 2 finished with value: 5.276520584455757 and parameters: {'n_estimators': 70, 'learning_rate': 0.1354959903988066, 'max_depth': 6, 'subsample': 0.6598238120415365, 'colsample_bytree': 0.8299912023571729, 'gamma': 3.1747994299243754, 'reg_alpha': 0.4212518710167248, 'reg_lambda': 0.7435610865741823}. Best is trial 0 with value: 4.994467230287506.\n",
      "[I 2025-07-28 13:52:10,527] Trial 3 finished with value: 5.093402796333886 and parameters: {'n_estimators': 170, 'learning_rate': 0.23294730687045295, 'max_depth': 7, 'subsample': 0.6763572060739069, 'colsample_bytree': 0.9864373133279645, 'gamma': 0.6004242498864831, 'reg_alpha': 0.7690448662641414, 'reg_lambda': 2.7032344053041317}. Best is trial 0 with value: 4.994467230287506.\n",
      "[I 2025-07-28 13:52:10,779] Trial 4 finished with value: 5.000125909043695 and parameters: {'n_estimators': 85, 'learning_rate': 0.15953590662874512, 'max_depth': 7, 'subsample': 0.9570861875140251, 'colsample_bytree': 0.9577151307775258, 'gamma': 0.6240898713817905, 'reg_alpha': 0.2400366230910892, 'reg_lambda': 3.3333442384211445}. Best is trial 0 with value: 4.994467230287506.\n",
      "[I 2025-07-28 13:52:11,111] Trial 5 finished with value: 6.3317919503151865 and parameters: {'n_estimators': 163, 'learning_rate': 0.1634682180157542, 'max_depth': 5, 'subsample': 0.6384300409663577, 'colsample_bytree': 0.6446315235663782, 'gamma': 0.891076848686449, 'reg_alpha': 0.16389376421963608, 'reg_lambda': 7.652107870172868}. Best is trial 0 with value: 4.994467230287506.\n",
      "[I 2025-07-28 13:52:11,339] Trial 6 finished with value: 5.261683773304035 and parameters: {'n_estimators': 73, 'learning_rate': 0.14239494922113025, 'max_depth': 6, 'subsample': 0.8964494308358537, 'colsample_bytree': 0.8121877967883231, 'gamma': 1.12919911424054, 'reg_alpha': 0.373635153463717, 'reg_lambda': 5.652588009340818}. Best is trial 0 with value: 4.994467230287506.\n",
      "[I 2025-07-28 13:52:11,570] Trial 7 finished with value: 5.071680337304002 and parameters: {'n_estimators': 111, 'learning_rate': 0.20334924718227668, 'max_depth': 6, 'subsample': 0.5188969525113721, 'colsample_bytree': 0.9111239179024988, 'gamma': 0.4550411703336843, 'reg_alpha': 0.6014657203851758, 'reg_lambda': 5.4907112066745976}. Best is trial 0 with value: 4.994467230287506.\n",
      "[I 2025-07-28 13:52:11,698] Trial 8 finished with value: 4.917061116613621 and parameters: {'n_estimators': 102, 'learning_rate': 0.1541643146178509, 'max_depth': 1, 'subsample': 0.8688352800027815, 'colsample_bytree': 0.8639766914275524, 'gamma': 4.494572434491351, 'reg_alpha': 0.07029263632509475, 'reg_lambda': 9.36223683114321}. Best is trial 8 with value: 4.917061116613621.\n",
      "[I 2025-07-28 13:52:11,884] Trial 9 finished with value: 7.2713822641992545 and parameters: {'n_estimators': 69, 'learning_rate': 0.035385843606974964, 'max_depth': 7, 'subsample': 0.5886959419952948, 'colsample_bytree': 0.6387300490710712, 'gamma': 1.6199598398451576, 'reg_alpha': 0.6005779377557205, 'reg_lambda': 9.144341676655651}. Best is trial 8 with value: 4.917061116613621.\n",
      "[I 2025-07-28 13:52:12,081] Trial 10 finished with value: 5.061997506997046 and parameters: {'n_estimators': 144, 'learning_rate': 0.08559736729796998, 'max_depth': 1, 'subsample': 0.7760760448063071, 'colsample_bytree': 0.7452101319037955, 'gamma': 4.950148275255941, 'reg_alpha': 0.9749744343381412, 'reg_lambda': 9.729351030064443}. Best is trial 8 with value: 4.917061116613621.\n",
      "[I 2025-07-28 13:52:12,337] Trial 11 finished with value: 4.918881814232272 and parameters: {'n_estimators': 115, 'learning_rate': 0.2808709343306647, 'max_depth': 1, 'subsample': 0.8371396113239177, 'colsample_bytree': 0.8993242658999925, 'gamma': 3.2631020188841693, 'reg_alpha': 0.7972702580428812, 'reg_lambda': 6.555153577415477}. Best is trial 8 with value: 4.917061116613621.\n",
      "[I 2025-07-28 13:52:12,524] Trial 12 finished with value: 4.959133198588007 and parameters: {'n_estimators': 96, 'learning_rate': 0.2976561984571803, 'max_depth': 1, 'subsample': 0.7877972135731981, 'colsample_bytree': 0.7406440514837247, 'gamma': 3.670292883246586, 'reg_alpha': 0.9004641960233704, 'reg_lambda': 7.7217460573985655}. Best is trial 8 with value: 4.917061116613621.\n",
      "[I 2025-07-28 13:52:12,750] Trial 13 finished with value: 4.78305157057473 and parameters: {'n_estimators': 136, 'learning_rate': 0.0950047399503027, 'max_depth': 2, 'subsample': 0.8546205643378086, 'colsample_bytree': 0.8979786448203035, 'gamma': 4.013008367667576, 'reg_alpha': 0.004147249033816192, 'reg_lambda': 6.867549377085058}. Best is trial 13 with value: 4.78305157057473.\n",
      "[I 2025-07-28 13:52:12,978] Trial 14 finished with value: 5.218179800757269 and parameters: {'n_estimators': 140, 'learning_rate': 0.093707933513376, 'max_depth': 2, 'subsample': 0.9666573319534397, 'colsample_bytree': 0.7469426779834267, 'gamma': 4.1003194903562505, 'reg_alpha': 0.0037917645867415082, 'reg_lambda': 8.719379060433958}. Best is trial 13 with value: 4.78305157057473.\n",
      "[I 2025-07-28 13:52:13,388] Trial 15 finished with value: 4.854611775318754 and parameters: {'n_estimators': 195, 'learning_rate': 0.09462180622969057, 'max_depth': 3, 'subsample': 0.8344064993198581, 'colsample_bytree': 0.942149807092463, 'gamma': 2.3466048846314878, 'reg_alpha': 0.1455040357265936, 'reg_lambda': 6.573602561873349}. Best is trial 13 with value: 4.78305157057473.\n",
      "[I 2025-07-28 13:52:13,690] Trial 16 finished with value: 4.900156912486119 and parameters: {'n_estimators': 199, 'learning_rate': 0.09261381326515965, 'max_depth': 3, 'subsample': 0.7159442420503475, 'colsample_bytree': 0.9432246222346139, 'gamma': 2.297127501923728, 'reg_alpha': 0.2512024659523374, 'reg_lambda': 3.641384242717974}. Best is trial 13 with value: 4.78305157057473.\n",
      "[I 2025-07-28 13:52:14,033] Trial 17 finished with value: 5.111646173633695 and parameters: {'n_estimators': 200, 'learning_rate': 0.013130478337153195, 'max_depth': 4, 'subsample': 0.8275049109089707, 'colsample_bytree': 0.9845167257547938, 'gamma': 2.2669137533149417, 'reg_alpha': 0.16916820326882695, 'reg_lambda': 6.670951609878985}. Best is trial 13 with value: 4.78305157057473.\n",
      "[I 2025-07-28 13:52:14,285] Trial 18 finished with value: 4.788277492732867 and parameters: {'n_estimators': 137, 'learning_rate': 0.06697266191707937, 'max_depth': 2, 'subsample': 0.9217069171582372, 'colsample_bytree': 0.9328936792371911, 'gamma': 2.851679640842633, 'reg_alpha': 0.35337832615571974, 'reg_lambda': 6.5781051687531935}. Best is trial 13 with value: 4.78305157057473.\n",
      "[I 2025-07-28 13:52:14,555] Trial 19 finished with value: 5.343603261849637 and parameters: {'n_estimators': 133, 'learning_rate': 0.05768470640357107, 'max_depth': 2, 'subsample': 0.9961035143391646, 'colsample_bytree': 0.7802379302169322, 'gamma': 3.0686513191311007, 'reg_alpha': 0.35919225874480537, 'reg_lambda': 4.2418196357227}. Best is trial 13 with value: 4.78305157057473.\n",
      "[I 2025-07-28 13:52:14,772] Trial 20 finished with value: 4.6489575827265215 and parameters: {'n_estimators': 152, 'learning_rate': 0.11833032065177379, 'max_depth': 2, 'subsample': 0.9201942563189616, 'colsample_bytree': 0.8714523784705173, 'gamma': 3.9066507652390254, 'reg_alpha': 0.4954199952212025, 'reg_lambda': 1.9363269465007682}. Best is trial 20 with value: 4.6489575827265215.\n",
      "[I 2025-07-28 13:52:14,971] Trial 21 finished with value: 4.657116998981478 and parameters: {'n_estimators': 156, 'learning_rate': 0.12307224999656055, 'max_depth': 2, 'subsample': 0.9233734456005738, 'colsample_bytree': 0.8687619012235951, 'gamma': 4.029895529015207, 'reg_alpha': 0.4696655594016505, 'reg_lambda': 1.158369972935259}. Best is trial 20 with value: 4.6489575827265215.\n",
      "[I 2025-07-28 13:52:15,186] Trial 22 finished with value: 4.662724347082599 and parameters: {'n_estimators': 157, 'learning_rate': 0.11933869318734663, 'max_depth': 2, 'subsample': 0.9351319998924397, 'colsample_bytree': 0.8649260982928024, 'gamma': 3.8408581264609234, 'reg_alpha': 0.4877443199705943, 'reg_lambda': 0.8095734077819279}. Best is trial 20 with value: 4.6489575827265215.\n",
      "[I 2025-07-28 13:52:15,411] Trial 23 finished with value: 5.178755150078488 and parameters: {'n_estimators': 153, 'learning_rate': 0.1234701238088883, 'max_depth': 4, 'subsample': 0.9329101168432935, 'colsample_bytree': 0.8658968320254493, 'gamma': 3.7161870684872014, 'reg_alpha': 0.5235920149912023, 'reg_lambda': 0.5030385677311457}. Best is trial 20 with value: 4.6489575827265215.\n",
      "[I 2025-07-28 13:52:15,614] Trial 24 finished with value: 4.668611822728606 and parameters: {'n_estimators': 185, 'learning_rate': 0.19196423758926784, 'max_depth': 2, 'subsample': 0.992328834648157, 'colsample_bytree': 0.8605694597845783, 'gamma': 4.4203479424719365, 'reg_alpha': 0.47218086512653124, 'reg_lambda': 1.8107704798072124}. Best is trial 20 with value: 4.6489575827265215.\n",
      "[I 2025-07-28 13:52:15,825] Trial 25 finished with value: 5.472815511370347 and parameters: {'n_estimators': 157, 'learning_rate': 0.11322196700773447, 'max_depth': 3, 'subsample': 0.9231483201276024, 'colsample_bytree': 0.7929305223132301, 'gamma': 3.66554549663211, 'reg_alpha': 0.5378052368829892, 'reg_lambda': 1.435837559749239}. Best is trial 20 with value: 4.6489575827265215.\n",
      "[I 2025-07-28 13:52:16,092] Trial 26 finished with value: 4.70958412959557 and parameters: {'n_estimators': 180, 'learning_rate': 0.17864836537099998, 'max_depth': 2, 'subsample': 0.788543349281895, 'colsample_bytree': 0.8306935854081221, 'gamma': 0.03358272084206737, 'reg_alpha': 0.6076707400428843, 'reg_lambda': 2.03149066437774}. Best is trial 20 with value: 4.6489575827265215.\n",
      "[I 2025-07-28 13:52:16,400] Trial 27 finished with value: 5.911574759320004 and parameters: {'n_estimators': 152, 'learning_rate': 0.12227628691932328, 'max_depth': 4, 'subsample': 0.900634379657649, 'colsample_bytree': 0.7641119394579649, 'gamma': 4.48434754501392, 'reg_alpha': 0.47549262358440175, 'reg_lambda': 0.23585551339767985}. Best is trial 20 with value: 4.6489575827265215.\n",
      "[I 2025-07-28 13:52:16,628] Trial 28 finished with value: 5.035600459289291 and parameters: {'n_estimators': 128, 'learning_rate': 0.11335746106813514, 'max_depth': 1, 'subsample': 0.954744631287245, 'colsample_bytree': 0.6737096542392651, 'gamma': 4.047565582852378, 'reg_alpha': 0.3236556078045464, 'reg_lambda': 1.2859300719424693}. Best is trial 20 with value: 4.6489575827265215.\n",
      "[I 2025-07-28 13:52:16,948] Trial 29 finished with value: 5.041134909541878 and parameters: {'n_estimators': 123, 'learning_rate': 0.20567173543896164, 'max_depth': 3, 'subsample': 0.8750150274077643, 'colsample_bytree': 0.8820297793247218, 'gamma': 2.778787615570785, 'reg_alpha': 0.660785143633619, 'reg_lambda': 2.5789150590370915}. Best is trial 20 with value: 4.6489575827265215.\n",
      "[I 2025-07-28 13:52:17,189] Trial 30 finished with value: 5.050914159198133 and parameters: {'n_estimators': 167, 'learning_rate': 0.13904760363106547, 'max_depth': 3, 'subsample': 0.8956887285898644, 'colsample_bytree': 0.8070805523468185, 'gamma': 3.5475031126201193, 'reg_alpha': 0.7149263141301593, 'reg_lambda': 1.1493504305170394}. Best is trial 20 with value: 4.6489575827265215.\n",
      "[I 2025-07-28 13:52:17,334] Trial 31 finished with value: 4.676156549343777 and parameters: {'n_estimators': 50, 'learning_rate': 0.18488339953666114, 'max_depth': 2, 'subsample': 0.9907651671800928, 'colsample_bytree': 0.8634033632971164, 'gamma': 4.474305698236125, 'reg_alpha': 0.45388344653546053, 'reg_lambda': 2.049148728373681}. Best is trial 20 with value: 4.6489575827265215.\n",
      "[I 2025-07-28 13:52:17,542] Trial 32 finished with value: 4.6790619427346 and parameters: {'n_estimators': 181, 'learning_rate': 0.23573602116332493, 'max_depth': 2, 'subsample': 0.9998810360056671, 'colsample_bytree': 0.849960812772226, 'gamma': 4.753569402496709, 'reg_alpha': 0.538536854416481, 'reg_lambda': 1.925255950009081}. Best is trial 20 with value: 4.6489575827265215.\n",
      "[I 2025-07-28 13:52:17,952] Trial 33 finished with value: 5.186715652542255 and parameters: {'n_estimators': 186, 'learning_rate': 0.18664672721608572, 'max_depth': 3, 'subsample': 0.9464850353998661, 'colsample_bytree': 0.9201472954826828, 'gamma': 4.242569893163847, 'reg_alpha': 0.42248901946419426, 'reg_lambda': 0.8810262247820957}. Best is trial 20 with value: 4.6489575827265215.\n",
      "[I 2025-07-28 13:52:18,317] Trial 34 finished with value: 4.666108053698799 and parameters: {'n_estimators': 175, 'learning_rate': 0.23864805751247797, 'max_depth': 2, 'subsample': 0.9664576404513133, 'colsample_bytree': 0.8850163798550088, 'gamma': 3.400977246186743, 'reg_alpha': 0.4681406756107325, 'reg_lambda': 3.083815154864592}. Best is trial 20 with value: 4.6489575827265215.\n",
      "[I 2025-07-28 13:52:18,502] Trial 35 finished with value: 4.929809104025139 and parameters: {'n_estimators': 148, 'learning_rate': 0.23105609635168986, 'max_depth': 1, 'subsample': 0.9247084335858322, 'colsample_bytree': 0.8849551323950183, 'gamma': 3.349673236647395, 'reg_alpha': 0.2669389177140044, 'reg_lambda': 2.8520385913722524}. Best is trial 20 with value: 4.6489575827265215.\n",
      "[I 2025-07-28 13:52:18,758] Trial 36 finished with value: 5.20605980572225 and parameters: {'n_estimators': 169, 'learning_rate': 0.1652952663448705, 'max_depth': 5, 'subsample': 0.9566204886075433, 'colsample_bytree': 0.8322702866118622, 'gamma': 3.803757832266144, 'reg_alpha': 0.4278871716833338, 'reg_lambda': 4.371707433256872}. Best is trial 20 with value: 4.6489575827265215.\n",
      "[I 2025-07-28 13:52:18,987] Trial 37 finished with value: 4.688723248427845 and parameters: {'n_estimators': 160, 'learning_rate': 0.262717964125188, 'max_depth': 2, 'subsample': 0.8154440884215726, 'colsample_bytree': 0.9683966729979445, 'gamma': 2.7318053685964783, 'reg_alpha': 0.6795379898646365, 'reg_lambda': 3.3793043940570406}. Best is trial 20 with value: 4.6489575827265215.\n",
      "[I 2025-07-28 13:52:19,641] Trial 38 finished with value: 5.078573534388198 and parameters: {'n_estimators': 175, 'learning_rate': 0.07380314837189411, 'max_depth': 5, 'subsample': 0.7440673783847815, 'colsample_bytree': 0.9170941315862489, 'gamma': 3.4518063431294985, 'reg_alpha': 0.3013262260885022, 'reg_lambda': 0.13645226639913277}. Best is trial 20 with value: 4.6489575827265215.\n",
      "[I 2025-07-28 13:52:19,874] Trial 39 finished with value: 4.911650117677474 and parameters: {'n_estimators': 162, 'learning_rate': 0.1414121289677444, 'max_depth': 1, 'subsample': 0.8973869580447308, 'colsample_bytree': 0.8408742562247274, 'gamma': 1.9785999668588945, 'reg_alpha': 0.5782293884765641, 'reg_lambda': 2.5596678583771526}. Best is trial 20 with value: 4.6489575827265215.\n",
      "[I 2025-07-28 13:52:20,169] Trial 40 finished with value: 5.6204556173608475 and parameters: {'n_estimators': 175, 'learning_rate': 0.10781120724443821, 'max_depth': 3, 'subsample': 0.9734497923234836, 'colsample_bytree': 0.6046795744921809, 'gamma': 3.091549745468331, 'reg_alpha': 0.3911145614445929, 'reg_lambda': 0.7948891133208003}. Best is trial 20 with value: 4.6489575827265215.\n",
      "[I 2025-07-28 13:52:20,450] Trial 41 finished with value: 4.700435754116556 and parameters: {'n_estimators': 185, 'learning_rate': 0.2127489727751184, 'max_depth': 2, 'subsample': 0.9759326691988541, 'colsample_bytree': 0.8767444633436422, 'gamma': 4.319451813141666, 'reg_alpha': 0.49455208025876307, 'reg_lambda': 1.5712453056387101}. Best is trial 20 with value: 4.6489575827265215.\n",
      "[I 2025-07-28 13:52:20,701] Trial 42 finished with value: 4.695622851181423 and parameters: {'n_estimators': 190, 'learning_rate': 0.24150316369869385, 'max_depth': 2, 'subsample': 0.934771140017474, 'colsample_bytree': 0.8519547452930176, 'gamma': 4.753494120749766, 'reg_alpha': 0.4793617354697831, 'reg_lambda': 1.800690217893918}. Best is trial 20 with value: 4.6489575827265215.\n",
      "[I 2025-07-28 13:52:20,936] Trial 43 finished with value: 4.664268773371368 and parameters: {'n_estimators': 168, 'learning_rate': 0.15151992973838516, 'max_depth': 2, 'subsample': 0.9114706172435569, 'colsample_bytree': 0.8171811211692661, 'gamma': 3.8471485856492733, 'reg_alpha': 0.5535703217006392, 'reg_lambda': 2.278367045376738}. Best is trial 20 with value: 4.6489575827265215.\n",
      "[I 2025-07-28 13:52:21,141] Trial 44 finished with value: 4.9272572248746735 and parameters: {'n_estimators': 149, 'learning_rate': 0.153764073575704, 'max_depth': 1, 'subsample': 0.8709743069977347, 'colsample_bytree': 0.8134360045639131, 'gamma': 3.927648878611794, 'reg_alpha': 0.5689193769909059, 'reg_lambda': 2.4146952365865046}. Best is trial 20 with value: 4.6489575827265215.\n",
      "[I 2025-07-28 13:52:21,456] Trial 45 finished with value: 4.991056743608608 and parameters: {'n_estimators': 166, 'learning_rate': 0.1314960724502803, 'max_depth': 3, 'subsample': 0.9038786902779633, 'colsample_bytree': 0.8203971835541993, 'gamma': 3.8673563701718985, 'reg_alpha': 0.6291038220967085, 'reg_lambda': 3.0455141731679163}. Best is trial 20 with value: 4.6489575827265215.\n",
      "[I 2025-07-28 13:52:21,811] Trial 46 finished with value: 4.94219453972837 and parameters: {'n_estimators': 143, 'learning_rate': 0.16918548717577442, 'max_depth': 1, 'subsample': 0.599218249210979, 'colsample_bytree': 0.9001097934756613, 'gamma': 4.188813442497197, 'reg_alpha': 0.733716593471943, 'reg_lambda': 3.7714851931474485}. Best is trial 20 with value: 4.6489575827265215.\n",
      "[I 2025-07-28 13:52:22,180] Trial 47 finished with value: 5.177736856215468 and parameters: {'n_estimators': 157, 'learning_rate': 0.14713237926297285, 'max_depth': 2, 'subsample': 0.9113163419126624, 'colsample_bytree': 0.791327220419826, 'gamma': 3.4315024187426597, 'reg_alpha': 0.826970069041158, 'reg_lambda': 4.901805568551644}. Best is trial 20 with value: 4.6489575827265215.\n",
      "[I 2025-07-28 13:52:22,645] Trial 48 finished with value: 6.219818074391507 and parameters: {'n_estimators': 175, 'learning_rate': 0.1278103099460424, 'max_depth': 4, 'subsample': 0.8612076734992244, 'colsample_bytree': 0.6993722698414926, 'gamma': 4.739839134354646, 'reg_alpha': 0.41372931454672923, 'reg_lambda': 0.9566016113756222}. Best is trial 20 with value: 4.6489575827265215.\n",
      "[I 2025-07-28 13:52:22,874] Trial 49 finished with value: 4.918819737335297 and parameters: {'n_estimators': 163, 'learning_rate': 0.10579943960841998, 'max_depth': 1, 'subsample': 0.8475734910681116, 'colsample_bytree': 0.8982936824752092, 'gamma': 3.1638330824130247, 'reg_alpha': 0.6432706377022017, 'reg_lambda': 2.2674965589022427}. Best is trial 20 with value: 4.6489575827265215.\n"
     ]
    },
    {
     "name": "stdout",
     "output_type": "stream",
     "text": [
      "Best trial params: {'n_estimators': 152, 'learning_rate': 0.11833032065177379, 'max_depth': 2, 'subsample': 0.9201942563189616, 'colsample_bytree': 0.8714523784705173, 'gamma': 3.9066507652390254, 'reg_alpha': 0.4954199952212025, 'reg_lambda': 1.9363269465007682}\n",
      "Best trial RMSE: 4.6490\n",
      "2023 RMSE: 6.61\n",
      "2023 R²: 0.827\n"
     ]
    },
    {
     "data": {
      "application/vnd.plotly.v1+json": {
       "config": {
        "plotlyServerURL": "https://plot.ly"
       },
       "data": [
        {
         "customdata": [
          [
           "Eldin Jakupovic",
           38
          ],
          [
           "James Milner",
           37
          ],
          [
           "Óscar Ustari",
           36
          ],
          [
           "Gabriel Tamas",
           39
          ],
          [
           "Cristiano Ronaldo",
           38
          ],
          [
           "Shaun MacDonald",
           34
          ],
          [
           "Phil Jagielka",
           40
          ],
          [
           "Andy Lonergan",
           39
          ],
          [
           "Ashley Young",
           37
          ],
          [
           "Scott Carson",
           37
          ],
          [
           "Phil Bardsley",
           37
          ],
          [
           "David Martin",
           37
          ],
          [
           "Casemiro",
           31
          ],
          [
           "Hugo Lloris",
           36
          ],
          [
           "Curtis Davies",
           38
          ],
          [
           "Willy Caballero",
           41
          ],
          [
           "Fernandinho",
           37
          ],
          [
           "Nenê",
           41
          ],
          [
           "Thiago Silva",
           38
          ],
          [
           "Lukasz Fabianski",
           38
          ],
          [
           "John Ruddy",
           36
          ],
          [
           "Chu-young Park",
           37
          ],
          [
           "Dusan Kuciak",
           38
          ],
          [
           "Tim Krul",
           35
          ],
          [
           "Lukas Jutkiewicz",
           34
          ],
          [
           "Theo Walcott",
           34
          ],
          [
           "Alex Smithies",
           33
          ],
          [
           "Asmir Begovic",
           36
          ],
          [
           "Tom Heaton",
           37
          ],
          [
           "Richard Stearman",
           35
          ],
          [
           "Lewis Grabban",
           35
          ],
          [
           "David McGoldrick",
           35
          ],
          [
           "Gaëtan Bong",
           35
          ],
          [
           "Leon Clarke",
           38
          ],
          [
           "Shane Long",
           36
          ],
          [
           "Kamil Grosicki",
           35
          ],
          [
           "Martin Olsson",
           35
          ],
          [
           "Lee Peltier",
           36
          ],
          [
           "Adrian Mariappa",
           36
          ],
          [
           "Kei Kamara",
           38
          ],
          [
           "Mario Vrancic",
           33
          ],
          [
           "Jozy Altidore",
           33
          ],
          [
           "Brad Guzan",
           38
          ],
          [
           "Marouane Fellaini",
           35
          ],
          [
           "Ryan Bertrand",
           33
          ],
          [
           "Liam Bridcutt",
           34
          ],
          [
           "Jack Cork",
           33
          ],
          [
           "James McArthur",
           35
          ],
          [
           "Sone Aluko",
           34
          ],
          [
           "Fraizer Campbell",
           35
          ],
          [
           "Jonny Evans",
           35
          ],
          [
           "Gary Hooper",
           34
          ],
          [
           "Gaetano Berardi",
           34
          ],
          [
           "Elliott Bennett",
           34
          ],
          [
           "Stephen Quinn",
           37
          ],
          [
           "Adam Lallana",
           35
          ],
          [
           "Erik Pieters",
           34
          ],
          [
           "Chris Gunter",
           33
          ],
          [
           "Bojan Krkic",
           32
          ],
          [
           "Beram Kayal",
           35
          ],
          [
           "Diego Costa",
           34
          ],
          [
           "Henri Lansbury",
           32
          ],
          [
           "Dan Gosling",
           33
          ],
          [
           "Claudio Yacob",
           35
          ],
          [
           "Jonathan Howson",
           35
          ],
          [
           "Wayne Hennessey",
           36
          ],
          [
           "Marco Stiepermann",
           32
          ],
          [
           "Fabri",
           35
          ],
          [
           "Luke Daniels",
           35
          ],
          [
           "Chris Martin",
           34
          ],
          [
           "Pablo Hernández",
           38
          ],
          [
           "Lovre Kalinic",
           33
          ],
          [
           "David Luiz",
           35
          ],
          [
           "Teemu Pukki",
           33
          ],
          [
           "Alex Pearce",
           34
          ],
          [
           "Jason Puncheon",
           36
          ],
          [
           "Angelo Ogbonna",
           35
          ],
          [
           "Andy Carroll",
           34
          ],
          [
           "Sam Vokes",
           33
          ],
          [
           "Jordan Rhodes",
           33
          ],
          [
           "Bradley Johnson",
           35
          ],
          [
           "James Perch",
           37
          ],
          [
           "Elias Kachunga",
           30
          ],
          [
           "Billy Sharp",
           37
          ],
          [
           "Andreas Weimann",
           31
          ],
          [
           "Danny Rose",
           32
          ],
          [
           "Christian Benteke",
           32
          ],
          [
           "Chicharito",
           35
          ],
          [
           "Aleksandar Mitrović",
           28
          ],
          [
           "Carlos Sánchez",
           37
          ],
          [
           "Darren Randolph",
           36
          ],
          [
           "Joe Allen",
           33
          ],
          [
           "Mateo Kovacic",
           29
          ],
          [
           "Henri Saivet",
           32
          ],
          [
           "Wellington Paulista",
           39
          ],
          [
           "Zanka",
           33
          ],
          [
           "Chris Basham",
           34
          ],
          [
           "Fraser Forster",
           35
          ],
          [
           "Willian",
           34
          ],
          [
           "Jay Rodríguez",
           33
          ],
          [
           "İlkay Gündoğan",
           32
          ],
          [
           "John Fleck",
           31
          ],
          [
           "Sebastián Blanco",
           35
          ],
          [
           "Magnus Wolff Eikrem",
           32
          ],
          [
           "Chris Löwe",
           34
          ],
          [
           "Harry Arter",
           33
          ],
          [
           "Jack Rodwell",
           32
          ],
          [
           "Jordon Mutch",
           31
          ],
          [
           "Simon Dawkins",
           35
          ],
          [
           "Christopher Schindler",
           33
          ],
          [
           "Emilio Nsue",
           33
          ],
          [
           "Craig Cathcart",
           34
          ],
          [
           "Thiago Alcántara",
           32
          ],
          [
           "Sean Scannell",
           32
          ],
          [
           "Marc Albrighton",
           33
          ],
          [
           "Barry Bannan",
           33
          ],
          [
           "Jonathan Hogg",
           34
          ],
          [
           "James Tomkins",
           34
          ],
          [
           "Jack Colback",
           33
          ],
          [
           "Conor Hourihane",
           32
          ],
          [
           "Neil Etheridge",
           33
          ],
          [
           "Wes Foderingham",
           32
          ],
          [
           "David Button",
           34
          ],
          [
           "Jake Livermore",
           33
          ],
          [
           "Adam Smith",
           32
          ],
          [
           "Stefan Johansen",
           32
          ],
          [
           "Shane Ferguson",
           31
          ],
          [
           "Vegard Forren",
           35
          ],
          [
           "Odion Ighalo",
           34
          ],
          [
           "Scott Dann",
           36
          ],
          [
           "Tomás Mejías",
           34
          ],
          [
           "Ashley Barnes",
           33
          ],
          [
           "Aron Gunnarsson",
           34
          ],
          [
           "Libor Kozak",
           34
          ],
          [
           "Troy Deeney",
           34
          ],
          [
           "Kyle Naughton",
           34
          ],
          [
           "Luke Freeman",
           31
          ],
          [
           "Cheikhou Kouyaté",
           33
          ],
          [
           "Gary Madine",
           32
          ],
          [
           "Danny Welbeck",
           32
          ],
          [
           "Sam Baldock",
           34
          ],
          [
           "Mark Oxley",
           32
          ],
          [
           "Ryan Bennett",
           33
          ],
          [
           "Ben Hamer",
           35
          ],
          [
           "David Stockdale",
           37
          ],
          [
           "Luke Ayling",
           31
          ],
          [
           "Kyle Bartley",
           32
          ],
          [
           "Michal Zyro",
           30
          ],
          [
           "Séamus Coleman",
           34
          ],
          [
           "Giedrius Arlauskis",
           35
          ],
          [
           "Christian Eriksen",
           31
          ],
          [
           "Garath McCleary",
           35
          ],
          [
           "Róger Espinoza",
           36
          ],
          [
           "Bernd Leno",
           31
          ],
          [
           "Adam Clayton",
           34
          ],
          [
           "Ben Amos",
           33
          ],
          [
           "James Chester",
           34
          ],
          [
           "Tom Cleverley",
           33
          ],
          [
           "Danny Drinkwater",
           33
          ],
          [
           "Matty James",
           31
          ],
          [
           "Oliver Norwood",
           32
          ],
          [
           "Jason Steele",
           32
          ],
          [
           "Pablo Sarabia",
           30
          ],
          [
           "Luka Milivojevic",
           32
          ],
          [
           "Adlène Guédioura",
           37
          ],
          [
           "Ben Mee",
           33
          ],
          [
           "Juraj Kucka",
           36
          ],
          [
           "Martin Dúbravka",
           34
          ],
          [
           "Liam Cooper",
           31
          ],
          [
           "Robin Olsen",
           33
          ],
          [
           "Niclas Füllkrug",
           30
          ],
          [
           "Lucas Moura",
           30
          ],
          [
           "Matt Phillips",
           32
          ],
          [
           "George Friend",
           35
          ],
          [
           "Thomas Kaminski",
           30
          ],
          [
           "Victor Wanyama",
           32
          ],
          [
           "Martin Kelly",
           33
          ],
          [
           "Daniel Ayala",
           32
          ],
          [
           "Sean Morrison",
           32
          ],
          [
           "Salomón Rondón",
           33
          ],
          [
           "Korey Smith",
           32
          ],
          [
           "Philippe Coutinho",
           30
          ],
          [
           "Craig Noone",
           35
          ],
          [
           "Tadanari Lee",
           37
          ],
          [
           "Sung-yueng Ki",
           34
          ],
          [
           "Chung-yong Lee",
           34
          ],
          [
           "Joel Matip",
           31
          ],
          [
           "Moritz Leitner",
           30
          ],
          [
           "Albert Adomah",
           35
          ],
          [
           "Nathaniel Clyne",
           32
          ],
          [
           "Oscar",
           31
          ],
          [
           "Borja Bastón",
           30
          ],
          [
           "Federico Fernández",
           34
          ],
          [
           "Enda Stevens",
           32
          ],
          [
           "Loris Karius",
           30
          ],
          [
           "Danny Lafferty",
           34
          ],
          [
           "James McClean",
           34
          ],
          [
           "Stefan Ortega",
           30
          ],
          [
           "Thomas Eisfeld",
           30
          ],
          [
           "Valentin Roberge",
           35
          ],
          [
           "Junior Stanislas",
           33
          ],
          [
           "Luca Scapuzzi",
           32
          ],
          [
           "Kevin De Bruyne",
           32
          ],
          [
           "Jonathan Kodjia",
           33
          ],
          [
           "Jóhann Berg Gudmundsson",
           32
          ],
          [
           "David Cornell",
           32
          ],
          [
           "Román Golobart",
           30
          ],
          [
           "Steve Cook",
           32
          ],
          [
           "Joe Bennett",
           33
          ],
          [
           "John Brayford",
           35
          ],
          [
           "Ashley Westwood",
           33
          ],
          [
           "James Shea",
           31
          ],
          [
           "Heung-min Son",
           30
          ],
          [
           "Sammy Ameobi",
           30
          ],
          [
           "Matt Ritchie",
           33
          ],
          [
           "Aaron Cresswell",
           33
          ],
          [
           "Joel Ward",
           33
          ],
          [
           "Mateusz Klich",
           33
          ],
          [
           "Kalidou Koulibaly",
           31
          ],
          [
           "Adama Diomande",
           33
          ],
          [
           "Marcos Rojo",
           33
          ],
          [
           "Stuart O'Keefe",
           32
          ],
          [
           "Muhamed Besic",
           30
          ],
          [
           "Jordan Bowery",
           31
          ],
          [
           "Connor Wickham",
           30
          ],
          [
           "Kieran Trippier",
           32
          ],
          [
           "Alex McCarthy",
           33
          ],
          [
           "Ciaran Clark",
           33
          ],
          [
           "Jannik Vestergaard",
           30
          ],
          [
           "Karl Darlow",
           32
          ],
          [
           "Matej Vydra",
           31
          ],
          [
           "Scott Malone",
           32
          ],
          [
           "Jorginho",
           31
          ],
          [
           "Matthew Lowton",
           34
          ],
          [
           "Michail Antonio",
           33
          ],
          [
           "Lyle Taylor",
           33
          ],
          [
           "Filip Orsula",
           30
          ],
          [
           "Alisson",
           30
          ],
          [
           "Jordan Ayew",
           31
          ],
          [
           "Chris Wood",
           31
          ],
          [
           "Adam Matthews",
           31
          ],
          [
           "Onel Hernández",
           30
          ],
          [
           "Luke Garbutt",
           30
          ],
          [
           "Gary Gardner",
           30
          ],
          [
           "Sam Johnstone",
           29
          ],
          [
           "Jed Steer",
           30
          ],
          [
           "Ryan Tunnicliffe",
           30
          ],
          [
           "Ryan Allsop",
           30
          ],
          [
           "Kevin Long",
           32
          ],
          [
           "Joël Veltman",
           31
          ],
          [
           "Sead Hajrovic",
           30
          ],
          [
           "Neeskens Kebano",
           31
          ],
          [
           "Ahmed Hegazy",
           32
          ],
          [
           "Neto",
           33
          ],
          [
           "Emiliano Martínez",
           30
          ],
          [
           "Philip Heise",
           32
          ],
          [
           "Tomer Hemed",
           36
          ],
          [
           "Cédric Soares",
           31
          ],
          [
           "Romaine Sawyers",
           31
          ],
          [
           "Greg Cunningham",
           32
          ],
          [
           "Richie Towell",
           31
          ],
          [
           "Luke Brattan",
           33
          ],
          [
           "Marcus Bettinelli",
           31
          ],
          [
           "Phil Jones",
           31
          ],
          [
           "Michael Keane",
           30
          ],
          [
           "Will Keane",
           30
          ],
          [
           "Ezequiel Schelotto",
           34
          ],
          [
           "Shane Duffy",
           31
          ],
          [
           "Jack Grimmer",
           29
          ],
          [
           "Daniel Bachmann",
           28
          ],
          [
           "Jazz Richards",
           32
          ],
          [
           "Alphonse Areola",
           30
          ],
          [
           "Joe Mason",
           32
          ],
          [
           "Kwesi Appiah",
           32
          ],
          [
           "Adam Davies",
           30
          ],
          [
           "Adam Forshaw",
           31
          ],
          [
           "Ryan Watson",
           29
          ],
          [
           "Tom Carroll",
           30
          ],
          [
           "John Egan",
           30
          ],
          [
           "Grant Hanley",
           31
          ],
          [
           "Eirik Johansen",
           30
          ],
          [
           "Tommy Smith",
           31
          ],
          [
           "Emyr Huws",
           29
          ],
          [
           "Craig Dawson",
           33
          ],
          [
           "Wellington Silva",
           30
          ],
          [
           "Markus Henriksen",
           30
          ],
          [
           "Sam Clucas",
           32
          ],
          [
           "Nico Yennaris",
           30
          ],
          [
           "Ali Gabr",
           34
          ],
          [
           "Tom Cairney",
           32
          ],
          [
           "Simon Moore",
           33
          ],
          [
           "Sam Morsy",
           31
          ],
          [
           "Callum Wilson",
           31
          ],
          [
           "Danny Ward",
           32
          ],
          [
           "Odysseas Vlachodimos",
           29
          ],
          [
           "Grant Hall",
           31
          ],
          [
           "Pontus Jansson",
           32
          ],
          [
           "Nathaniel Mendez-Laing",
           30
          ],
          [
           "Luke Berry",
           30
          ],
          [
           "Mark Flekken",
           30
          ],
          [
           "Lee Nicholls",
           30
          ],
          [
           "Carl Jenkinson",
           31
          ],
          [
           "Allan",
           32
          ],
          [
           "Kenny McLean",
           31
          ],
          [
           "Lucas Digne",
           29
          ],
          [
           "Idrissa Gueye",
           33
          ],
          [
           "Serge Aurier",
           30
          ],
          [
           "Abdoulaye Doucouré",
           30
          ],
          [
           "Matz Sels",
           31
          ],
          [
           "Robbie Brady",
           31
          ],
          [
           "Scott Wootton",
           31
          ],
          [
           "Derrick Williams",
           30
          ],
          [
           "Bo-kyung Kim",
           33
          ],
          [
           "Tom Anderson",
           29
          ],
          [
           "Jamal Blackman",
           29
          ],
          [
           "Nathaniel Chalobah",
           28
          ],
          [
           "Conor Coady",
           30
          ],
          [
           "Ben Gibson",
           30
          ],
          [
           "Liam Moore",
           30
          ],
          [
           "Jack Robinson",
           29
          ],
          [
           "Ethan Ebanks-Landell",
           30
          ],
          [
           "Nathan Redmond",
           29
          ],
          [
           "Charlie Austin",
           33
          ],
          [
           "Jordan Pickford",
           29
          ],
          [
           "Stuart Armstrong",
           31
          ],
          [
           "Jonathan Bond",
           30
          ],
          [
           "Juan Agudelo",
           30
          ],
          [
           "Rodrigo",
           32
          ],
          [
           "Roberto Firmino",
           31
          ],
          [
           "Ross Barkley",
           29
          ],
          [
           "Phil Ofosu-Ayeh",
           31
          ],
          [
           "Dan Burn",
           31
          ],
          [
           "Danny Ings",
           30
          ],
          [
           "Matthias Fanimo",
           29
          ],
          [
           "Nick Powell",
           29
          ],
          [
           "Raheem Sterling",
           28
          ],
          [
           "Blair Turgott",
           29
          ],
          [
           "André Carrillo",
           32
          ],
          [
           "Fabian Schär",
           31
          ],
          [
           "Manuel Lanzini",
           30
          ],
          [
           "Daniel Bentley",
           29
          ],
          [
           "Kadeem Harris",
           29
          ],
          [
           "Marçal",
           34
          ],
          [
           "Jakob Haugaard",
           31
          ],
          [
           "Virgil van Dijk",
           31
          ],
          [
           "Ryan Fredericks",
           30
          ],
          [
           "Josip Drmic",
           30
          ],
          [
           "Liam O'Neil",
           29
          ],
          [
           "George Saville",
           30
          ],
          [
           "Zeki Fryers",
           30
          ],
          [
           "Jesse Lingard",
           30
          ],
          [
           "Willy Boly",
           32
          ],
          [
           "Mark Gillespie",
           31
          ],
          [
           "Krisztián Adorján",
           30
          ],
          [
           "Leandro Trossard",
           28
          ],
          [
           "Tim Ream",
           35
          ],
          [
           "Wataru Endo",
           30
          ],
          [
           "Conor Townsend",
           30
          ],
          [
           "George Baldock",
           30
          ],
          [
           "Ryan Fraser",
           29
          ],
          [
           "Lewis Dunk",
           31
          ],
          [
           "Jeff Hendrick",
           31
          ],
          [
           "Christian Nørgaard",
           29
          ],
          [
           "Divock Origi",
           27
          ],
          [
           "Mohamed Salah",
           30
          ],
          [
           "Tomas Kalas",
           29
          ],
          [
           "Jiri Skalak",
           31
          ],
          [
           "Todd Kane",
           29
          ],
          [
           "Felipe",
           34
          ],
          [
           "Tyias Browning",
           28
          ],
          [
           "Ben Heneghan",
           29
          ],
          [
           "Tom Ince",
           31
          ],
          [
           "Michael Hector",
           30
          ],
          [
           "Kurt Zouma",
           28
          ],
          [
           "Vladimír Coufal",
           30
          ],
          [
           "Cyrus Christie",
           30
          ],
          [
           "Tendayi Darikwa",
           31
          ],
          [
           "Kieron Freeman",
           31
          ],
          [
           "Max Ehmer",
           31
          ],
          [
           "Stuart Dallas",
           32
          ],
          [
           "Mesca",
           29
          ],
          [
           "Mohamed Elneny",
           30
          ],
          [
           "Adam Reach",
           30
          ],
          [
           "Connor Ripley",
           30
          ],
          [
           "Adam Smith",
           30
          ],
          [
           "Jack Stephens",
           29
          ],
          [
           "Rory Donnelly",
           31
          ],
          [
           "Raphaël Varane",
           30
          ],
          [
           "Jürgen Locadia",
           29
          ],
          [
           "Paddy McNair",
           28
          ],
          [
           "James Husband",
           29
          ],
          [
           "Daniel Johnson",
           30
          ],
          [
           "Callum Paterson",
           28
          ],
          [
           "Cauley Woodrow",
           28
          ],
          [
           "Paul Dummett",
           31
          ],
          [
           "Jonathan Williams",
           29
          ],
          [
           "Timo Werner",
           27
          ],
          [
           "Cody Cropper",
           30
          ],
          [
           "Ben Reeves",
           31
          ],
          [
           "Jay Fulton",
           29
          ],
          [
           "Riyad Mahrez",
           32
          ],
          [
           "Matt Doherty",
           31
          ],
          [
           "Nahki Wells",
           33
          ],
          [
           "James Tarkowski",
           30
          ],
          [
           "Hélder Costa",
           29
          ],
          [
           "Brad Smith",
           29
          ],
          [
           "Sebastian Lletget",
           30
          ],
          [
           "Aymeric Laporte",
           28
          ],
          [
           "Florin Andone",
           30
          ],
          [
           "Nathan Aké",
           28
          ],
          [
           "Charly Musonda Jr.",
           26
          ],
          [
           "Graham Burke",
           29
          ],
          [
           "Harry Maguire",
           30
          ],
          [
           "Jean Michaël Seri",
           31
          ],
          [
           "Donald Love",
           28
          ],
          [
           "Curtis Good",
           30
          ],
          [
           "George Evans",
           28
          ],
          [
           "James Ward-Prowse",
           28
          ],
          [
           "Massimo Luongo",
           30
          ],
          [
           "Emerson",
           28
          ],
          [
           "Jordan Graham",
           28
          ],
          [
           "Ryan Inniss",
           27
          ],
          [
           "Luke Shaw",
           27
          ],
          [
           "Joe Rothwell",
           28
          ],
          [
           "Callum Robinson",
           28
          ],
          [
           "Luke McGee",
           27
          ],
          [
           "Ben Pearson",
           28
          ],
          [
           "Jamaal Lascelles",
           29
          ],
          [
           "Patrick Bamford",
           29
          ],
          [
           "Gregor Zabret",
           28
          ],
          [
           "Jordan Clark",
           29
          ],
          [
           "Ming-Yang Yang",
           27
          ],
          [
           "Tom Hopper",
           29
          ],
          [
           "Emil Krafth",
           28
          ],
          [
           "Victor Lindelöf",
           28
          ],
          [
           "Bobby De Cordova-Reid",
           30
          ],
          [
           "John Stones",
           29
          ],
          [
           "Marek Rodák",
           26
          ],
          [
           "Jack Rose",
           28
          ],
          [
           "Ryan Christie",
           28
          ],
          [
           "Michael Petrasso",
           27
          ],
          [
           "Sean Maguire",
           29
          ],
          [
           "Nick Pope",
           31
          ],
          [
           "Kepa Arrizabalaga",
           28
          ],
          [
           "Ben Davies",
           30
          ],
          [
           "Álex Moreno",
           30
          ],
          [
           "John McGinn",
           28
          ],
          [
           "Joe Bryan",
           29
          ],
          [
           "Charlie Taylor",
           29
          ],
          [
           "Adedeji Oshilaja",
           29
          ],
          [
           "Joe Ralls",
           29
          ],
          [
           "Remi Matthews",
           29
          ],
          [
           "John Swift",
           27
          ],
          [
           "Janoi Donacien",
           29
          ],
          [
           "Josh Sheehan",
           28
          ],
          [
           "Jamie Vardy",
           36
          ],
          [
           "Liam Shephard",
           28
          ],
          [
           "Harry Toffolo",
           27
          ],
          [
           "Lewis Baker",
           28
          ],
          [
           "Sam Hoskins",
           30
          ],
          [
           "Jacob Murphy",
           28
          ],
          [
           "Josh Murphy",
           28
          ],
          [
           "Kevin Stewart",
           29
          ],
          [
           "Angus Gunn",
           27
          ],
          [
           "Danny Ward",
           30
          ],
          [
           "Conor McGrandles",
           27
          ],
          [
           "Andreas Pereira",
           27
          ],
          [
           "Jack Grealish",
           27
          ],
          [
           "Oleksandr Zinchenko",
           26
          ],
          [
           "Adama Traoré",
           27
          ],
          [
           "Saman Ghoddos",
           29
          ],
          [
           "Dejan Iliev",
           28
          ],
          [
           "Raúl Jiménez",
           31
          ],
          [
           "Isaac Hayden",
           28
          ],
          [
           "Kenny Tete",
           27
          ],
          [
           "Will Hughes",
           28
          ],
          [
           "Dan Potts",
           29
          ],
          [
           "Tom Lockyer",
           28
          ],
          [
           "Louis Thompson",
           28
          ],
          [
           "Brendan Galloway",
           27
          ],
          [
           "Christian Walton",
           27
          ],
          [
           "Solly March",
           28
          ],
          [
           "Oumar Niasse",
           32
          ],
          [
           "Jack O'Connell",
           29
          ],
          [
           "Adam Webster",
           28
          ],
          [
           "David Ferguson",
           28
          ],
          [
           "Connor Roberts",
           27
          ],
          [
           "Kean Bryan",
           26
          ],
          [
           "Calum Chambers",
           28
          ],
          [
           "Tom King",
           28
          ],
          [
           "Ricardo Pereira",
           29
          ],
          [
           "Ben Osborn",
           28
          ],
          [
           "George Honeyman",
           28
          ],
          [
           "Conor Grant",
           27
          ],
          [
           "Matthew Pennington",
           28
          ],
          [
           "Zack Steffen",
           28
          ],
          [
           "Alex Gilliead",
           27
          ],
          [
           "Joel Dixon",
           29
          ],
          [
           "Danilo Pantic",
           26
          ],
          [
           "Luke Simpson",
           28
          ],
          [
           "N'Golo Kanté",
           31
          ],
          [
           "Gonçalo Guedes",
           26
          ],
          [
           "Rúben Neves",
           26
          ],
          [
           "Fabinho",
           29
          ],
          [
           "Matheus Pereira",
           27
          ],
          [
           "Freddie Woodman",
           26
          ],
          [
           "Sean Raggett",
           29
          ],
          [
           "Anthony Cáceres",
           30
          ],
          [
           "Dominic Gape",
           28
          ],
          [
           "Lloyd Isgrove",
           30
          ],
          [
           "Harrison Reed",
           28
          ],
          [
           "Sam Gallagher",
           27
          ],
          [
           "Jason McCarthy",
           27
          ],
          [
           "Gedion Zelalem",
           26
          ],
          [
           "Thomas Partey",
           30
          ],
          [
           "Nélson Semedo",
           29
          ],
          [
           "Emiliano Marcondes",
           28
          ],
          [
           "Kortney Hause",
           27
          ],
          [
           "Freddie Ladapo",
           30
          ],
          [
           "André Onana",
           26
          ],
          [
           "Andrew Robertson",
           29
          ],
          [
           "Ola Aina",
           26
          ],
          [
           "Connor Ogilvie",
           27
          ],
          [
           "Sam Byram",
           29
          ],
          [
           "Ederson",
           29
          ],
          [
           "Leandro Rodríguez",
           30
          ],
          [
           "Jamal Lowe",
           28
          ],
          [
           "George Byers",
           26
          ],
          [
           "Bruno Fernandes",
           28
          ],
          [
           "Bernardo Silva",
           28
          ],
          [
           "Jindrich Stanek",
           27
          ],
          [
           "Ethan Horvath",
           27
          ],
          [
           "Gethin Jones",
           27
          ],
          [
           "Courtney Duffus",
           27
          ],
          [
           "Josh Cullen",
           26
          ],
          [
           "Alex Iwobi",
           27
          ],
          [
           "Nathan Mavila",
           27
          ],
          [
           "Lewis Page",
           26
          ],
          [
           "Josh Vickers",
           27
          ],
          [
           "Jan Bednarek",
           26
          ],
          [
           "Josh Onomah",
           26
          ],
          [
           "Lawrence Vigouroux",
           29
          ],
          [
           "Lloyd Jones",
           27
          ],
          [
           "Hiram Boateng",
           27
          ],
          [
           "Pelly Ruddock Mpanzu",
           29
          ],
          [
           "Jon Gorenc Stankovic",
           27
          ],
          [
           "Saša Lukić",
           26
          ],
          [
           "Reece James",
           29
          ],
          [
           "Alex Palmer",
           26
          ],
          [
           "Bartosz Kapustka",
           26
          ],
          [
           "Carlton Morris",
           27
          ],
          [
           "Duncan Watmore",
           29
          ],
          [
           "Lewis Cook",
           26
          ],
          [
           "Harry Winks",
           27
          ],
          [
           "Jack Stacey",
           27
          ],
          [
           "Youri Tielemans",
           25
          ],
          [
           "Tariqe Fosu",
           27
          ],
          [
           "José Sá",
           30
          ],
          [
           "Adam Armstrong",
           26
          ],
          [
           "Jamie Sterry",
           27
          ],
          [
           "Matt Targett",
           27
          ],
          [
           "Enes Ünal",
           26
          ],
          [
           "Jordan Lyden",
           27
          ],
          [
           "Ivan Toney",
           27
          ],
          [
           "Semi Ajayi",
           29
          ],
          [
           "Ken Sema",
           29
          ],
          [
           "Rob Holding",
           27
          ],
          [
           "Tyrone Mings",
           30
          ],
          [
           "Harry Cornick",
           28
          ],
          [
           "Wes Burns",
           28
          ],
          [
           "Samir Caetano",
           28
          ],
          [
           "Cameron Burgess",
           27
          ],
          [
           "Joe Gomez",
           26
          ],
          [
           "Adnan Maric",
           26
          ],
          [
           "Dan Barlaser",
           26
          ],
          [
           "Tommy Robson",
           27
          ],
          [
           "Rúben Dias",
           26
          ],
          [
           "Kasey Palmer",
           26
          ],
          [
           "Tom Beadling",
           27
          ],
          [
           "Tosin Adarabioyo",
           25
          ],
          [
           "Ryan Ledson",
           25
          ],
          [
           "Max Lowe",
           25
          ],
          [
           "Kyle Scott",
           25
          ],
          [
           "Dominic Solanke",
           25
          ],
          [
           "Dean Henderson",
           26
          ],
          [
           "Marcus Rashford",
           25
          ],
          [
           "Joachim Andersen",
           27
          ],
          [
           "Daniel Iversen",
           25
          ],
          [
           "Cameron Brannagan",
           26
          ],
          [
           "Filip Krovinovic",
           27
          ],
          [
           "Timothy Castagne",
           27
          ],
          [
           "Ryan Manning",
           26
          ],
          [
           "David Raya",
           27
          ],
          [
           "Soufyan Ahannach",
           28
          ],
          [
           "Jefferson Lerma",
           28
          ],
          [
           "Kevin Danso",
           24
          ],
          [
           "Harry Charsley",
           26
          ],
          [
           "Reece Burke",
           26
          ],
          [
           "Kevin Toner",
           26
          ],
          [
           "Matt Grimes",
           27
          ],
          [
           "Joe Williams",
           26
          ],
          [
           "Vitaly Janelt",
           25
          ],
          [
           "Callum Elder",
           28
          ],
          [
           "Sylvain Deslandes",
           25
          ],
          [
           "Issa Diop",
           26
          ],
          [
           "Paul Onuachu",
           28
          ],
          [
           "Miguel Almirón",
           29
          ],
          [
           "Jonathan Benteke",
           28
          ],
          [
           "Wilfred Ndidi",
           26
          ],
          [
           "Kieffer Moore",
           30
          ],
          [
           "David Brooks",
           25
          ],
          [
           "Jack Payne",
           28
          ],
          [
           "Amari'i Bell",
           29
          ],
          [
           "MJ Williams",
           27
          ],
          [
           "Harry Wilson",
           26
          ],
          [
           "Sergio Reguilón",
           26
          ],
          [
           "Corey Blackett-Taylor",
           25
          ],
          [
           "Alfie Whiteman",
           24
          ],
          [
           "Tomas Soucek",
           28
          ],
          [
           "Grant Ward",
           28
          ],
          [
           "Manuel Akanji",
           27
          ],
          [
           "Marc Cucurella",
           24
          ],
          [
           "Will Norris",
           29
          ],
          [
           "Joel Coleman",
           27
          ],
          [
           "Harry Burgoyne",
           26
          ],
          [
           "Guglielmo Vicario",
           26
          ],
          [
           "Joe Lolley",
           30
          ],
          [
           "Krystian Bielik",
           25
          ],
          [
           "Connor Mahoney",
           26
          ],
          [
           "Orel Mangala",
           25
          ],
          [
           "Josh Harrop",
           27
          ],
          [
           "Ashley Fletcher",
           27
          ],
          [
           "Saïd Benrahma",
           27
          ],
          [
           "Jordan Hugill",
           31
          ],
          [
           "Sammie Szmodics",
           27
          ],
          [
           "Hee-chan Hwang",
           27
          ],
          [
           "Demarai Gray",
           26
          ],
          [
           "Wout Faes",
           25
          ],
          [
           "Matija Sarkic",
           25
          ],
          [
           "Baily Cargill",
           27
          ],
          [
           "Josh Brownhill",
           27
          ],
          [
           "Conor Masterson",
           24
          ],
          [
           "James Maddison",
           26
          ],
          [
           "Nathan",
           27
          ],
          [
           "Taiwo Awoniyi",
           25
          ],
          [
           "Kelechi Iheanacho",
           26
          ],
          [
           "Marco Asensio",
           27
          ],
          [
           "Tyler Roberts",
           24
          ],
          [
           "Joe Rodon",
           25
          ],
          [
           "Harry Souttar",
           24
          ],
          [
           "Courtney Baker-Richardson",
           27
          ],
          [
           "George Thomas",
           26
          ],
          [
           "Kieran Tierney",
           25
          ],
          [
           "Fred Onyedinma",
           26
          ],
          [
           "Dominic Calvert-Lewin",
           26
          ],
          [
           "Matt Clarke",
           26
          ],
          [
           "Lynden Gooch",
           27
          ],
          [
           "Callum Connolly",
           25
          ],
          [
           "Jan Mlakar",
           24
          ],
          [
           "Kai Havertz",
           23
          ],
          [
           "Andre Green",
           24
          ],
          [
           "Ramadan Sobhi",
           26
          ],
          [
           "Liam Gibson",
           25
          ],
          [
           "Dael Fry",
           25
          ],
          [
           "Karlan Grant",
           25
          ],
          [
           "Tom Davies",
           24
          ],
          [
           "Rushian Hepburn-Murphy",
           24
          ],
          [
           "Herbie Kane",
           24
          ],
          [
           "Jonathan Leko",
           23
          ],
          [
           "Chris Willock",
           25
          ],
          [
           "Trent Alexander-Arnold",
           24
          ],
          [
           "Kyle Edwards",
           25
          ],
          [
           "Darnell Johnson",
           24
          ],
          [
           "Admiral Muskwe",
           24
          ],
          [
           "Ben Sheaf",
           25
          ],
          [
           "Jarrod Bowen",
           26
          ],
          [
           "Ben Chilwell",
           26
          ],
          [
           "Martin Ødegaard",
           24
          ],
          [
           "Jake Clarke-Salter",
           25
          ],
          [
           "Mateusz Hewelt",
           26
          ],
          [
           "Vlad Dragomir",
           23
          ],
          [
           "Daniel James",
           25
          ],
          [
           "Mathias Jensen",
           27
          ],
          [
           "Elijah Adebayo",
           25
          ],
          [
           "Anthony Georgiou",
           26
          ],
          [
           "Benny Ashley-Seal",
           24
          ],
          [
           "Benson Manuel",
           26
          ],
          [
           "Gustavo Hamer",
           25
          ],
          [
           "James Bree",
           25
          ],
          [
           "Ollie Watkins",
           27
          ],
          [
           "Marvelous Nakamba",
           29
          ],
          [
           "Donyell Malen",
           24
          ],
          [
           "Matthijs de Ligt",
           23
          ],
          [
           "Jaroslaw Jach",
           29
          ],
          [
           "Kristoffer Ajer",
           25
          ],
          [
           "João Virgínia",
           23
          ],
          [
           "Justin Kluivert",
           23
          ],
          [
           "Takehiro Tomiyasu",
           24
          ],
          [
           "Tyler Adams",
           24
          ],
          [
           "Sander Berge",
           25
          ],
          [
           "Joelinton",
           26
          ],
          [
           "Ben White",
           25
          ],
          [
           "Altay Bayındır",
           24
          ],
          [
           "Joe Lumley",
           28
          ],
          [
           "Nathan Holland",
           24
          ],
          [
           "Connor Ronan",
           25
          ],
          [
           "Konstantinos Tsimikas",
           27
          ],
          [
           "Mikel Merino",
           26
          ],
          [
           "Hannes Delcroix",
           24
          ],
          [
           "Daniel Grimshaw",
           25
          ],
          [
           "Rico Henry",
           25
          ],
          [
           "Josh Pask",
           25
          ],
          [
           "Regan Poole",
           24
          ],
          [
           "Tolaji Bola",
           24
          ],
          [
           "Marcus McGuane",
           24
          ],
          [
           "Josh Dasilva",
           24
          ],
          [
           "Eddie Nketiah",
           23
          ],
          [
           "Reiss Nelson",
           23
          ],
          [
           "Stephy Mavididi",
           25
          ],
          [
           "Joe Willock",
           23
          ],
          [
           "Noussair Mazraoui",
           25
          ],
          [
           "Caoimhín Kelleher",
           24
          ],
          [
           "Diogo Jota",
           26
          ],
          [
           "Harry Lewis",
           25
          ],
          [
           "Kyle Walker-Peters",
           26
          ],
          [
           "Federico Chiesa",
           25
          ],
          [
           "Hamza Choudhury",
           25
          ],
          [
           "Elliott Moore",
           26
          ],
          [
           "Axel Tuanzebe",
           25
          ],
          [
           "Grady Diangana",
           25
          ],
          [
           "Nathan Baxter",
           24
          ],
          [
           "Guido Rodríguez",
           29
          ],
          [
           "Ben Godfrey",
           25
          ],
          [
           "Nathan Broadhead",
           25
          ],
          [
           "Ben Woodburn",
           23
          ],
          [
           "Odsonne Edouard",
           25
          ],
          [
           "Christopher Nkunku",
           25
          ],
          [
           "Boubakary Soumaré",
           24
          ],
          [
           "Tahith Chong",
           23
          ],
          [
           "Shayon Harrison",
           25
          ],
          [
           "Djair Parfitt-Williams",
           26
          ],
          [
           "Jamal Lewis",
           25
          ],
          [
           "Trevoh Chalobah",
           23
          ],
          [
           "Jordan Williams",
           23
          ],
          [
           "Tom Dele-Bashiru",
           23
          ],
          [
           "Japhet Tanganga",
           24
          ],
          [
           "Dan Nlundulu",
           24
          ],
          [
           "Mason Mount",
           24
          ],
          [
           "Sean Longstaff",
           25
          ],
          [
           "Mason Holgate",
           26
          ],
          [
           "Alexander Isak",
           23
          ],
          [
           "Conor Chaplin",
           26
          ],
          [
           "Pervis Estupiñán",
           25
          ],
          [
           "Antonee Robinson",
           25
          ],
          [
           "Shayne Lavery",
           24
          ],
          [
           "Kalvin Phillips",
           27
          ],
          [
           "Darnell Furlong",
           27
          ],
          [
           "Keshi Anderson",
           28
          ],
          [
           "Adnan Kanuric",
           22
          ],
          [
           "Joe Powell",
           24
          ],
          [
           "Rodrigo Bentancur",
           26
          ],
          [
           "Cristian Romero",
           25
          ],
          [
           "Daichi Kamada",
           26
          ],
          [
           "Ibrahima Konaté",
           24
          ],
          [
           "Diogo Dalot",
           24
          ],
          [
           "Kazaiah Sterling",
           24
          ],
          [
           "Rodri",
           27
          ],
          [
           "Jayson Molumby",
           23
          ],
          [
           "Mark Travers",
           24
          ],
          [
           "Declan Rice",
           24
          ],
          [
           "Lasse Sörensen",
           23
          ],
          [
           "Sven Botman",
           23
          ],
          [
           "Gabriel Jesus",
           26
          ],
          [
           "Elliot Embleton",
           24
          ],
          [
           "Patson Daka",
           24
          ],
          [
           "Pontus Dahlberg",
           24
          ],
          [
           "Dan Agyei",
           25
          ],
          [
           "Niall Ennis",
           23
          ],
          [
           "Ferdi Kadıoğlu",
           23
          ],
          [
           "Sasa Kalajdzic",
           25
          ],
          [
           "Arijanet Muric",
           24
          ],
          [
           "Francisco Sierralta",
           26
          ],
          [
           "Nathaniel Phillips",
           26
          ],
          [
           "Carlos Soler",
           26
          ],
          [
           "Paulinho",
           25
          ],
          [
           "Junior Firpo",
           26
          ],
          [
           "Ibrahim Sangaré",
           25
          ],
          [
           "Charlie Goode",
           27
          ],
          [
           "Anel Ahmedhodzic",
           24
          ],
          [
           "Richarlison",
           26
          ],
          [
           "Lyanco",
           26
          ],
          [
           "Igor",
           25
          ],
          [
           "Joel Mumbongo",
           24
          ],
          [
           "Wesley Moraes",
           26
          ],
          [
           "Steven Benda",
           24
          ],
          [
           "Mike Trésor",
           23
          ],
          [
           "Tyrese Campbell",
           23
          ],
          [
           "Joe Hardy",
           24
          ],
          [
           "Przemyslaw Placheta",
           25
          ],
          [
           "Axel Disasi",
           25
          ],
          [
           "Darko Churlinov",
           22
          ],
          [
           "Joe Riley",
           26
          ],
          [
           "Daiki Hashioka",
           24
          ],
          [
           "Samuel Shashoua",
           24
          ],
          [
           "Sam Field",
           25
          ],
          [
           "Leon Bailey",
           25
          ],
          [
           "Yoane Wissa",
           26
          ],
          [
           "Jacob Lungi Sörensen",
           25
          ],
          [
           "Marcus Browne",
           25
          ],
          [
           "Chiedozie Ogbene",
           26
          ],
          [
           "Marc Guéhi",
           22
          ],
          [
           "Ian Poveda",
           23
          ],
          [
           "Emile Smith Rowe",
           22
          ],
          [
           "George McEachran",
           22
          ],
          [
           "Callum Hudson-Odoi",
           22
          ],
          [
           "Marcel Lavinier",
           22
          ],
          [
           "Kane Wilson",
           23
          ],
          [
           "Ryan Sessegnon",
           23
          ],
          [
           "Josh Sargent",
           23
          ],
          [
           "Boubacar Kamara",
           23
          ],
          [
           "Claudio Gomes",
           22
          ],
          [
           "Moussa Diaby",
           23
          ],
          [
           "Sam Hughes",
           25
          ],
          [
           "Jimmy Dunne",
           25
          ],
          [
           "Ethan Hamilton",
           24
          ],
          [
           "Manor Solomon",
           23
          ],
          [
           "Dan Kemp",
           24
          ],
          [
           "Jamie Cumming",
           23
          ],
          [
           "Richard Nartey",
           24
          ],
          [
           "Sandro Tonali",
           23
          ],
          [
           "Josh Benson",
           23
          ],
          [
           "Harvey Barnes",
           25
          ],
          [
           "Sam Surridge",
           24
          ],
          [
           "Marcus Tavernier",
           24
          ],
          [
           "Pau Torres",
           26
          ],
          [
           "Mads Hermansen",
           22
          ],
          [
           "Jadon Sancho",
           22
          ],
          [
           "Dara O'Shea",
           24
          ],
          [
           "Edson Álvarez",
           25
          ],
          [
           "Michal Karbownik",
           22
          ],
          [
           "Gonzalo Montiel",
           26
          ],
          [
           "Robert Sánchez",
           25
          ],
          [
           "Jordan Beyer",
           22
          ],
          [
           "Marcus Forss",
           23
          ],
          [
           "Vitaliy Mykolenko",
           24
          ],
          [
           "Yukinari Sugawara",
           22
          ],
          [
           "Yan Valery",
           24
          ],
          [
           "Tom McGill",
           23
          ],
          [
           "Steven Sessegnon",
           22
          ],
          [
           "Timothy Eyoma",
           23
          ],
          [
           "Rhian Brewster",
           23
          ],
          [
           "Matt O'Riley",
           22
          ],
          [
           "Phil Foden",
           23
          ],
          [
           "Oliver Skipp",
           22
          ],
          [
           "Mads Andersen",
           25
          ],
          [
           "Ismaïla Sarr",
           25
          ],
          [
           "Yves Bissouma",
           26
          ],
          [
           "Pascal Struijk",
           23
          ],
          [
           "Max Sanders",
           24
          ],
          [
           "Adam Parkes",
           23
          ],
          [
           "Ibrahima Diallo",
           24
          ],
          [
           "Bryan Mbeumo",
           23
          ],
          [
           "James Justin",
           25
          ],
          [
           "Ezri Konsa",
           25
          ],
          [
           "Nikola Milenković",
           25
          ],
          [
           "Marshall Munetsi",
           27
          ],
          [
           "Mats Wieffer",
           23
          ],
          [
           "Bruno Jordão",
           24
          ],
          [
           "Konstantinos Mavropanos",
           25
          ],
          [
           "Joe Worrall",
           26
          ],
          [
           "Jordan Green",
           28
          ],
          [
           "Jack Harrison",
           26
          ],
          [
           "Erling Haaland",
           22
          ],
          [
           "Kristoffer Klaesson",
           22
          ],
          [
           "Conor Coventry",
           23
          ],
          [
           "Lewis Gibson",
           22
          ],
          [
           "Jean-Philippe Mateta",
           25
          ],
          [
           "Jurrien Timber",
           21
          ],
          [
           "George Hirst",
           24
          ],
          [
           "Alfie Lewis",
           23
          ],
          [
           "Nathan Patterson",
           21
          ],
          [
           "Samuel Kalu",
           25
          ],
          [
           "Josh Knight",
           25
          ],
          [
           "Matt Turner",
           29
          ],
          [
           "Matty Cash",
           25
          ],
          [
           "Akin Famewo",
           24
          ],
          [
           "Ryan Yates",
           25
          ],
          [
           "Jakub Kiwior",
           23
          ],
          [
           "Ben Brereton Díaz",
           24
          ],
          [
           "Aaron Ramsdale",
           24
          ],
          [
           "Thanawat Suengchitthawon",
           23
          ],
          [
           "Brandon Austin",
           24
          ],
          [
           "Morgan Gibbs-White",
           23
          ],
          [
           "Jørgen Strand Larsen",
           23
          ],
          [
           "Andrew Irving",
           23
          ],
          [
           "Tom Edwards",
           24
          ],
          [
           "Peter Gwargis",
           22
          ],
          [
           "Mateusz Bogusz",
           22
          ],
          [
           "Dejan Kulusevski",
           22
          ],
          [
           "Bukayo Saka",
           21
          ],
          [
           "Elijah Dixon-Bonner",
           22
          ],
          [
           "Luis Longstaff",
           22
          ],
          [
           "Tommy Doyle",
           21
          ],
          [
           "Rayhaan Tulloch",
           22
          ],
          [
           "Bali Mumba",
           21
          ],
          [
           "Curtis Jones",
           22
          ],
          [
           "Scott Twine",
           23
          ],
          [
           "Tudor Baluta",
           24
          ],
          [
           "Ethan Galbraith",
           21
          ],
          [
           "Aaron Connolly",
           23
          ],
          [
           "Maxence Lacroix",
           23
          ],
          [
           "Cody Gakpo",
           24
          ],
          [
           "Gabriel Magalhães",
           25
          ],
          [
           "Joshua Zirkzee",
           21
          ],
          [
           "Santiago Bueno",
           24
          ],
          [
           "Ethan Pinnock",
           30
          ],
          [
           "Edouard Mendy",
           31
          ],
          [
           "Michael Obafemi",
           22
          ],
          [
           "Will Smallbone",
           23
          ],
          [
           "Lucas Paquetá",
           25
          ],
          [
           "Louie Moulden",
           21
          ],
          [
           "Omar Marmoush",
           24
          ],
          [
           "Ross Stewart",
           26
          ],
          [
           "Emmanuel Dennis",
           25
          ],
          [
           "Jean-Ricner Bellegarde",
           24
          ],
          [
           "Dominik Szoboszlai",
           22
          ],
          [
           "Jorge Segura",
           26
          ],
          [
           "Adama Diakhaby",
           26
          ],
          [
           "Will Mannion",
           24
          ],
          [
           "Rekeem Harper",
           23
          ],
          [
           "Jack Taylor",
           24
          ],
          [
           "Harvey Rodgers",
           26
          ],
          [
           "Caleb Okoli",
           21
          ],
          [
           "Calvin Bassey",
           23
          ],
          [
           "Benoît Badiashile",
           22
          ],
          [
           "Marc Leonard",
           21
          ],
          [
           "Terry Taylor",
           21
          ],
          [
           "Allan Tchaptchet",
           21
          ],
          [
           "Jayden Bogle",
           22
          ],
          [
           "Nico González",
           21
          ],
          [
           "Armel Bella-Kotchap",
           21
          ],
          [
           "Lyle Foster",
           22
          ],
          [
           "Ben Johnson",
           23
          ],
          [
           "Jens Cajuste",
           23
          ],
          [
           "Joe Aribo",
           26
          ],
          [
           "Vitinho",
           23
          ],
          [
           "Nathan Collins",
           22
          ],
          [
           "Gavin Kilkenny",
           23
          ],
          [
           "Marcos Senesi",
           26
          ],
          [
           "Indiana Vassilev",
           22
          ],
          [
           "Jacob Brown",
           24
          ],
          [
           "Paris Maghoma",
           21
          ],
          [
           "Ben Cottrell",
           21
          ],
          [
           "Brennan Johnson",
           21
          ],
          [
           "Reece James",
           23
          ],
          [
           "Kevin Schade",
           21
          ],
          [
           "Regan Slater",
           23
          ],
          [
           "Lewis Cass",
           23
          ],
          [
           "Crysencio Summerville",
           21
          ],
          [
           "Kiernan Dewsbury-Hall",
           24
          ],
          [
           "Wesley Fofana",
           22
          ],
          [
           "Josko Gvardiol",
           21
          ],
          [
           "Steven Alzate",
           24
          ],
          [
           "Bernardo Rosa",
           22
          ],
          [
           "Manuel Ugarte",
           21
          ],
          [
           "Aaron Wan-Bissaka",
           25
          ],
          [
           "Ryan Gravenberch",
           21
          ],
          [
           "Eberechi Eze",
           24
          ],
          [
           "Cohen Bramall",
           27
          ],
          [
           "Luis Díaz",
           26
          ],
          [
           "Lisandro Martínez",
           25
          ],
          [
           "Chris Mepham",
           25
          ],
          [
           "Djed Spence",
           22
          ],
          [
           "Matty Longstaff",
           23
          ],
          [
           "Taylor Richards",
           22
          ],
          [
           "Ian Maatsen",
           21
          ],
          [
           "Amadou Onana",
           21
          ],
          [
           "Jérémy Doku",
           21
          ],
          [
           "Jake Walker",
           22
          ],
          [
           "Jakub Stolarczyk",
           22
          ],
          [
           "Edo Kayembe",
           25
          ],
          [
           "Vitezslav Jaros",
           21
          ],
          [
           "Pedro Neto",
           23
          ],
          [
           "Maksim Paskotsi",
           20
          ],
          [
           "Siriki Dembélé",
           26
          ],
          [
           "Hákon Rafn Valdimarsson",
           21
          ],
          [
           "Ismaila Coulibaly",
           22
          ],
          [
           "Lucas Bergström",
           21
          ],
          [
           "Daniel Muñoz",
           26
          ],
          [
           "Jorge Cuenca",
           23
          ],
          [
           "Nathan Bishop",
           24
          ],
          [
           "William Saliba",
           21
          ],
          [
           "Dion Sanderson",
           23
          ],
          [
           "Elliot Thorpe",
           22
          ],
          [
           "Nicolás Domínguez",
           24
          ],
          [
           "Dion Pereira",
           24
          ],
          [
           "Ákos Onódi",
           21
          ],
          [
           "Aji Alese",
           22
          ],
          [
           "Taylor Perry",
           21
          ],
          [
           "Riccardo Calafiori",
           21
          ],
          [
           "Rhys Williams",
           22
          ],
          [
           "Neco Williams",
           22
          ],
          [
           "Anthony Driscoll-Glennon",
           23
          ],
          [
           "Anthony Gordon",
           22
          ],
          [
           "Morgan Rogers",
           20
          ],
          [
           "Jacob Ramsey",
           21
          ],
          [
           "Tyreece John-Jules",
           22
          ],
          [
           "Arthur Okonkwo",
           21
          ],
          [
           "Jeremy Ngakia",
           22
          ],
          [
           "Albert Grønbaek",
           22
          ],
          [
           "Joe Hodge",
           20
          ],
          [
           "Dynel Simeu",
           21
          ],
          [
           "Taylor Harwood-Bellis",
           21
          ],
          [
           "Joe Gelhardt",
           21
          ],
          [
           "Tino Livramento",
           20
          ],
          [
           "Noni Madueke",
           21
          ],
          [
           "Alex Mighten",
           20
          ],
          [
           "Nathan Wood",
           21
          ],
          [
           "Daniel Barden",
           22
          ],
          [
           "Tariq Lamptey",
           22
          ],
          [
           "Emmanuel Longelo",
           22
          ],
          [
           "Ryan Giles",
           23
          ],
          [
           "Kaoru Mitoma",
           25
          ],
          [
           "Luke Thomas",
           22
          ],
          [
           "James Garner",
           22
          ],
          [
           "Louie Watson",
           21
          ],
          [
           "Flynn Downes",
           24
          ],
          [
           "Josh Bowler",
           24
          ],
          [
           "Jack Young",
           22
          ],
          [
           "Nathan Ferguson",
           22
          ],
          [
           "Alexandre Jankewitz",
           21
          ],
          [
           "Brandon Williams",
           22
          ],
          [
           "Daniel Batty",
           25
          ],
          [
           "Ellis Simms",
           22
          ],
          [
           "Jackson Smith",
           21
          ],
          [
           "Ryan Longman",
           22
          ],
          [
           "Malcolm Ebiowei",
           19
          ],
          [
           "Luis Sinisterra",
           24
          ],
          [
           "Jesper Lindstrøm",
           23
          ],
          [
           "Julián Araujo",
           21
          ],
          [
           "Matheus Cunha",
           23
          ],
          [
           "Bruno Guimarães",
           25
          ],
          [
           "Jensen Weir",
           21
          ],
          [
           "Jaime Alvarado",
           23
          ],
          [
           "Maximilian Kilman",
           25
          ],
          [
           "Carlos Vinícius",
           28
          ],
          [
           "Karlo Ziger",
           22
          ],
          [
           "Luke Woolfenden",
           24
          ],
          [
           "Tyrese Francois",
           22
          ],
          [
           "Jack Spong",
           21
          ],
          [
           "Armstrong Oko-Flex",
           21
          ],
          [
           "Di'Shon Bernard",
           22
          ],
          [
           "D'Mani Mellor",
           22
          ],
          [
           "Ethan Laird",
           21
          ],
          [
           "Cody Drameh",
           21
          ],
          [
           "Sam Greenwood",
           21
          ],
          [
           "Daniel Adshead",
           21
          ],
          [
           "Luke Cundle",
           21
          ],
          [
           "Haydon Roberts",
           20
          ],
          [
           "Cameron Archer",
           21
          ],
          [
           "Shandon Baptiste",
           25
          ],
          [
           "Alexis Mac Allister",
           24
          ],
          [
           "Robbie Gotts",
           23
          ],
          [
           "Jamie Shackleton",
           23
          ],
          [
           "Luke McNally",
           23
          ],
          [
           "Amad Diallo",
           20
          ],
          [
           "Mykhaylo Mudryk",
           22
          ],
          [
           "Kwasi Sibo",
           25
          ],
          [
           "Georginio Rutter",
           20
          ],
          [
           "Christian Marques",
           20
          ],
          [
           "Kristian Sekularac",
           20
          ],
          [
           "Zak Swanson",
           22
          ],
          [
           "Mikkel Damsgaard",
           22
          ],
          [
           "Sepp van den Berg",
           21
          ],
          [
           "Illan Meslier",
           23
          ],
          [
           "Alex Gilbert",
           21
          ],
          [
           "Rhys Norrington-Davies",
           24
          ],
          [
           "Cheick Doucouré",
           23
          ],
          [
           "Mohammed Kudus",
           22
          ],
          [
           "Darwin Núñez",
           24
          ],
          [
           "Anis Slimane",
           22
          ],
          [
           "Taylor Gardner-Hickman",
           21
          ],
          [
           "Miguel Azeez",
           20
          ],
          [
           "Josh Martin",
           21
          ],
          [
           "Teden Mengi",
           20
          ],
          [
           "Owen Beck",
           21
          ],
          [
           "Pedro Porro",
           23
          ],
          [
           "Alpha Diounkou",
           21
          ],
          [
           "Yasser Larouci",
           22
          ],
          [
           "Oliwier Zych",
           19
          ],
          [
           "Destiny Udogie",
           20
          ],
          [
           "Micky van de Ven",
           21
          ],
          [
           "Harrison Ashby",
           21
          ],
          [
           "Fábio Carvalho",
           20
          ],
          [
           "Jack Clarke",
           22
          ],
          [
           "Oliver Casey",
           22
          ],
          [
           "Niall Huggins",
           22
          ],
          [
           "Lewis O'Brien",
           25
          ],
          [
           "Dan Chesters",
           21
          ],
          [
           "Kyle Taylor",
           23
          ],
          [
           "Victor Kristiansen",
           20
          ],
          [
           "Bart Verbruggen",
           20
          ],
          [
           "Harvey Elliott",
           20
          ],
          [
           "Matty Daly",
           22
          ],
          [
           "James Trafford",
           20
          ],
          [
           "Thomas Dickson-Peters",
           20
          ],
          [
           "Elliot Anderson",
           20
          ],
          [
           "Odel Offiah",
           21
          ],
          [
           "Jeremy Sarmiento",
           20
          ],
          [
           "Dennis Cirkin",
           21
          ],
          [
           "Cole Palmer",
           21
          ],
          [
           "Radu Drăgușin",
           21
          ],
          [
           "Pape Matar Sarr",
           20
          ],
          [
           "Armando Broja",
           21
          ],
          [
           "Joseph Anang",
           23
          ],
          [
           "Josh Wilson-Esbrand",
           20
          ],
          [
           "Jan Paul van Hecke",
           22
          ],
          [
           "Rayan Aït-Nouri",
           22
          ],
          [
           "Chris Richards",
           22
          ],
          [
           "James Furlong",
           20
          ],
          [
           "Ed Turns",
           20
          ],
          [
           "Eiran Cashin",
           21
          ],
          [
           "Harvey White",
           21
          ],
          [
           "CJ Egan-Riley",
           20
          ],
          [
           "Louie Barry",
           19
          ],
          [
           "Charlie Patino",
           19
          ],
          [
           "Lukas Jensen",
           24
          ],
          [
           "Will Dennis",
           22
          ],
          [
           "Anthony Elanga",
           21
          ],
          [
           "James McAtee",
           20
          ],
          [
           "Antoine Semenyo",
           23
          ],
          [
           "Dwight McNeil",
           23
          ],
          [
           "Filip Jørgensen",
           21
          ],
          [
           "Jesurun Rak-Sakyi",
           20
          ],
          [
           "Myles Peart-Harris",
           20
          ],
          [
           "Lewis Bate",
           20
          ],
          [
           "Derek Agyakwa",
           21
          ],
          [
           "Joe Gauci",
           22
          ],
          [
           "Aaron Hickey",
           21
          ],
          [
           "Woyo Coulibaly",
           24
          ],
          [
           "Tiago Cukur",
           20
          ],
          [
           "Beto",
           25
          ],
          [
           "Max Haygarth",
           21
          ],
          [
           "Leif Davis",
           23
          ],
          [
           "Xavier Simons",
           20
          ],
          [
           "Matheus Nunes",
           24
          ],
          [
           "Jean-Clair Todibo",
           23
          ],
          [
           "Sebastian Soto",
           22
          ],
          [
           "Denis Franchi",
           20
          ],
          [
           "Toti",
           24
          ],
          [
           "Hannibal",
           20
          ],
          [
           "Alfie Doughty",
           23
          ],
          [
           "Luke Mbete",
           19
          ],
          [
           "Alex Robertson",
           20
          ],
          [
           "Rasmus Højlund",
           20
          ],
          [
           "Caleb Watts",
           21
          ],
          [
           "Ollie O'Neill",
           20
          ],
          [
           "Liam Delap",
           20
          ],
          [
           "James Hill",
           21
          ],
          [
           "Liam McCarron",
           22
          ],
          [
           "Luke Matheson",
           20
          ],
          [
           "Levi Colwill",
           20
          ],
          [
           "Charlie McNeill",
           19
          ],
          [
           "Chem Campbell",
           20
          ],
          [
           "Dara Costelloe",
           20
          ],
          [
           "Tyler Morton",
           20
          ],
          [
           "Sam McCallum",
           22
          ],
          [
           "Malo Gusto",
           19
          ],
          [
           "Kasey McAteer",
           21
          ],
          [
           "Radek Vítek",
           19
          ],
          [
           "Iliman Ndiaye",
           23
          ],
          [
           "Conor Bradley",
           19
          ],
          [
           "Dale Taylor",
           19
          ],
          [
           "Lucas De Bolle",
           20
          ],
          [
           "Adrion Pajaziti",
           20
          ],
          [
           "João Pedro",
           21
          ],
          [
           "Kaine Kesler-Hayden",
           21
          ],
          [
           "Lewis Dobbin",
           20
          ],
          [
           "Wilfried Gnonto",
           19
          ],
          [
           "Roméo Lavia",
           19
          ],
          [
           "Femi Seriki",
           20
          ],
          [
           "Carlos Miguel",
           24
          ],
          [
           "Keane Lewis-Potter",
           22
          ],
          [
           "Lamare Bogarde",
           19
          ],
          [
           "Ben Greenwood",
           20
          ],
          [
           "Carl Rushworth",
           21
          ],
          [
           "Aaron Ramsey",
           20
          ],
          [
           "Juan Larios",
           19
          ],
          [
           "Jayden Bennetts",
           22
          ],
          [
           "Evan Ferguson",
           18
          ],
          [
           "Enzo Fernández",
           22
          ],
          [
           "Boubacar Traoré",
           21
          ],
          [
           "Jhon Durán",
           19
          ],
          [
           "Lewis Warrington",
           20
          ],
          [
           "Bilal El Khannouss",
           18
          ],
          [
           "Cameron Plain",
           22
          ],
          [
           "Brooklyn Genesini",
           21
          ],
          [
           "Gabriel Martinelli",
           21
          ],
          [
           "Christian Saydee",
           20
          ],
          [
           "Mipo Odubeko",
           20
          ],
          [
           "Aaron Rowe",
           22
          ],
          [
           "Simon Adingra",
           21
          ],
          [
           "Ilya Zabarnyi",
           20
          ],
          [
           "Julio Enciso",
           19
          ],
          [
           "Jarrad Branthwaite",
           20
          ],
          [
           "Leo Fuhr Hjelde",
           19
          ],
          [
           "Marcelo Pitaluga",
           21
          ],
          [
           "Tyler Onyango",
           20
          ],
          [
           "Jota Silva",
           23
          ],
          [
           "Darko Gyabi",
           19
          ],
          [
           "Vini Souza",
           24
          ],
          [
           "Jaden Philogene",
           21
          ],
          [
           "Rodrigo Gomes",
           19
          ],
          [
           "Yasin Ayari",
           19
          ],
          [
           "Marcelo Flores",
           19
          ],
          [
           "Joe Whitworth",
           19
          ],
          [
           "Divin Mubama",
           18
          ],
          [
           "Antwoine Hackford",
           19
          ],
          [
           "Luke Chambers",
           19
          ],
          [
           "Dane Scarlett",
           19
          ],
          [
           "Caleb Taylor",
           20
          ],
          [
           "Morato",
           21
          ],
          [
           "Anthony Mancini",
           22
          ],
          [
           "Emmanuel Agbadou",
           25
          ],
          [
           "Jaidon Anthony",
           23
          ],
          [
           "Charlie Savage",
           19
          ],
          [
           "Moisés Caicedo",
           21
          ],
          [
           "Chadi Riad",
           20
          ],
          [
           "Kamarai Swyer",
           21
          ],
          [
           "Jacob Greaves",
           22
          ],
          [
           "Jay Stansfield",
           20
          ],
          [
           "Tim Iroegbunam",
           19
          ],
          [
           "Rico Lewis",
           18
          ],
          [
           "Kgaogelo Chauke",
           20
          ],
          [
           "Harvey Davies",
           20
          ],
          [
           "Ji-soo Kim",
           18
          ],
          [
           "Kwadwo Baah",
           20
          ],
          [
           "Evanilson",
           23
          ],
          [
           "Jake O'Brien",
           22
          ],
          [
           "Lesley Ugochukwu",
           19
          ],
          [
           "Bobby Clark",
           18
          ],
          [
           "Yerson Mosquera",
           22
          ],
          [
           "Yegor Yarmolyuk",
           19
          ],
          [
           "Enock Agyei",
           18
          ],
          [
           "Tayo Adaramola",
           20
          ],
          [
           "Andrew Moran",
           20
          ],
          [
           "Liam Gibbs",
           20
          ],
          [
           "Antonín Kinský",
           20
          ],
          [
           "Welington",
           22
          ],
          [
           "Milos Kerkez",
           19
          ],
          [
           "Tyrick Mitchell",
           23
          ],
          [
           "Dylan Williams",
           20
          ],
          [
           "Kaide Gordon",
           18
          ],
          [
           "Jack Jenkins",
           21
          ],
          [
           "João Gomes",
           22
          ],
          [
           "Rodrigo Muniz",
           22
          ],
          [
           "Igor Thiago",
           21
          ],
          [
           "Omari Hutchinson",
           20
          ],
          [
           "Caleb Chukwuemeka",
           21
          ],
          [
           "Lino Sousa",
           18
          ],
          [
           "Wilson Odobert",
           18
          ],
          [
           "Savinho",
           19
          ],
          [
           "Matheus França",
           19
          ],
          [
           "Adam Wharton",
           19
          ],
          [
           "Ramón Sosa",
           23
          ],
          [
           "Luca Koleosho",
           18
          ],
          [
           "Kamaldeen Sulemana",
           21
          ],
          [
           "Daniel Jebbison",
           19
          ],
          [
           "Harry Boyes",
           21
          ],
          [
           "Justin Devenny",
           19
          ],
          [
           "Val Adedokun",
           20
          ],
          [
           "Carlos Alcaraz",
           20
          ],
          [
           "Abdukodir Khusanov",
           19
          ],
          [
           "Nicolas Jackson",
           21
          ],
          [
           "David Datro Fofana",
           20
          ],
          [
           "Bobby Thomas",
           22
          ],
          [
           "André",
           21
          ],
          [
           "Mathys Tel",
           18
          ],
          [
           "Ryan Finnigan",
           19
          ],
          [
           "Danilo",
           22
          ],
          [
           "Alejandro Garnacho",
           18
          ],
          [
           "Jack Wells-Morrison",
           19
          ],
          [
           "Luke Harris",
           18
          ],
          [
           "Kobbie Mainoo",
           17
          ],
          [
           "Alfie Pond",
           19
          ],
          [
           "Dango Ouattara",
           21
          ],
          [
           "Michael Kayode",
           18
          ],
          [
           "Maxime Estève",
           20
          ],
          [
           "Bénie Traoré",
           20
          ],
          [
           "Jack Hinchy",
           20
          ],
          [
           "Alex Scott",
           19
          ],
          [
           "Ashley Phillips",
           17
          ],
          [
           "Kaden Rodney",
           19
          ],
          [
           "Nasser Djiga",
           20
          ],
          [
           "Issahaku Fatawu",
           19
          ],
          [
           "Lucas Bergvall",
           17
          ],
          [
           "Bradley Ibrahim",
           19
          ],
          [
           "Mason Burstow",
           20
          ],
          [
           "Ryan Trevitt",
           20
          ],
          [
           "Seán Grehan",
           19
          ],
          [
           "Josh Feeney",
           18
          ],
          [
           "Amario Cozier-Duberry",
           18
          ],
          [
           "Mateus Fernandes",
           18
          ],
          [
           "Oliver Scarles",
           18
          ],
          [
           "Archie Gray",
           17
          ],
          [
           "Leny Yoro",
           17
          ],
          [
           "Zach Abbott",
           17
          ],
          [
           "Mark O'Mahony",
           18
          ],
          [
           "Joe Taylor",
           20
          ],
          [
           "Carlos Baleba",
           19
          ],
          [
           "Facundo Buonanotte",
           18
          ],
          [
           "Matai Akinmboni",
           16
          ],
          [
           "Diego Gómez",
           20
          ],
          [
           "Julio Soler",
           18
          ],
          [
           "Yankuba Minteh",
           18
          ],
          [
           "Ryan Oné",
           16
          ],
          [
           "Enso González",
           18
          ]
         ],
         "hovertemplate": "predicted_value=%{x}<br>market_value_in_million_eur=%{y}<br>name=%{customdata[0]}<br>age=%{customdata[1]}<extra></extra>",
         "legendgroup": "",
         "marker": {
          "color": "#636efa",
          "symbol": "circle"
         },
         "mode": "markers",
         "name": "",
         "showlegend": false,
         "type": "scattergl",
         "x": [
          -0.16887038946151733,
          1.17294180393219,
          0.5630733966827393,
          -0.2755492329597473,
          25.54480743408203,
          -0.8156352043151855,
          -0.33867019414901733,
          -0.38033899664878845,
          0.18180501461029053,
          -0.31721797585487366,
          -0.33867019414901733,
          -0.16887038946151733,
          40.22063446044922,
          5.4411139488220215,
          -0.33867019414901733,
          -0.16887038946151733,
          0.7894060611724854,
          -0.3227444291114807,
          1.2773844003677368,
          0.3516048192977905,
          -0.31721797585487366,
          -0.6841927766799927,
          -0.5902708172798157,
          1.4705325365066528,
          -0.0955197662115097,
          1.3685952425003052,
          0.12022760510444641,
          0.3516048192977905,
          0.14335258305072784,
          -0.40415167808532715,
          0.004254422150552273,
          0.2818446159362793,
          -0.34103071689605713,
          -0.32149678468704224,
          0.13907381892204285,
          -0.009481226094067097,
          -0.3718406856060028,
          -0.2755492329597473,
          -0.33867019414901733,
          -0.7154374122619629,
          0.31255167722702026,
          -0.41778820753097534,
          -0.49969014525413513,
          2.9753546714782715,
          1.9033113718032837,
          -0.40415167808532715,
          1.3685952425003052,
          0.31255167722702026,
          -0.34103071689605713,
          -0.38697826862335205,
          2.694176435470581,
          -0.41037988662719727,
          -0.34103071689605713,
          -0.42118412256240845,
          0.03496155887842178,
          1.1386264562606812,
          0.11953985691070557,
          -0.34103071689605713,
          0.05020199716091156,
          -0.3562712073326111,
          2.826260566711426,
          0.10429944097995758,
          0.31255167722702026,
          -0.20272845029830933,
          -0.3870811462402344,
          -0.1789158433675766,
          -0.18680264055728912,
          -0.03292868286371231,
          -0.23435181379318237,
          -0.24867603182792664,
          -0.42873555421829224,
          1.2925004959106445,
          1.3007327318191528,
          2.826260566711426,
          -0.5732637047767639,
          -0.15248741209506989,
          0.1163235455751419,
          -0.1648576706647873,
          -0.41778820753097534,
          -0.41778820753097534,
          -0.3539106845855713,
          -0.049572188407182693,
          0.004254422150552273,
          -0.18319454789161682,
          1.5544887781143188,
          1.3007327318191528,
          4.66865348815918,
          1.254785180091858,
          18.014842987060547,
          -0.2755492329597473,
          0.35482123494148254,
          0.1434396356344223,
          32.414424896240234,
          -0.3559148907661438,
          -0.18319454789161682,
          0.1163235455751419,
          0.11953985691070557,
          1.2925004959106445,
          4.013546943664551,
          1.07675302028656,
          21.588125228881836,
          1.8880711793899536,
          0.34371793270111084,
          0.1322493553161621,
          -0.5101427435874939,
          0.10429944097995758,
          -0.3718406856060028,
          -0.3796728253364563,
          -0.6636356711387634,
          -0.049572188407182693,
          -0.40415167808532715,
          0.32779210805892944,
          15.117471694946289,
          0.15703533589839935,
          1.4360135793685913,
          -0.13415054976940155,
          -0.3870811462402344,
          0.8596000075340271,
          0.05020199716091156,
          1.2176793813705444,
          0.3284798264503479,
          -0.45341992378234863,
          -0.20204074680805206,
          0.8596000075340271,
          0.4725455939769745,
          0.1434396356344223,
          -0.20272845029830933,
          -0.36443233489990234,
          1.8573638200759888,
          -0.1372469812631607,
          -0.4866401255130768,
          0.8136524558067322,
          0.11953985691070557,
          0.004254422150552273,
          0.2818446159362793,
          0.05020199716091156,
          0.34371793270111084,
          2.8722081184387207,
          0.004254422150552273,
          2.439206600189209,
          -0.8714994788169861,
          0.3636592626571655,
          0.32779210805892944,
          -0.3403429687023163,
          -0.7111586928367615,
          2.7365329265594482,
          1.3007327318191528,
          -0.5902673602104187,
          1.725279450416565,
          0.22000177204608917,
          15.02763557434082,
          -0.6417850255966187,
          -0.3539106845855713,
          9.586536407470703,
          0.31255167722702026,
          -0.19463250041007996,
          -0.20272845029830933,
          1.353354811668396,
          0.31255167722702026,
          0.1434396356344223,
          2.2455523014068604,
          -0.2004893571138382,
          21.681692123413086,
          4.151487827301025,
          -0.6847303509712219,
          1.4962064027786255,
          1.2831608057022095,
          2.654954195022583,
          5.2058329582214355,
          1.2925004959106445,
          2.4284443855285645,
          15.997252464294434,
          0.7239246368408203,
          -0.6564398407936096,
          2.203801393508911,
          2.7365329265594482,
          0.32779210805892944,
          0.8596000075340271,
          1.6742385625839233,
          1.4502588510513306,
          -0.06481262296438217,
          16.159770965576172,
          -0.36443233489990234,
          -0.6369059681892395,
          0.11953985691070557,
          -0.20272845029830933,
          13.728375434875488,
          0.3947247862815857,
          -0.3718406856060028,
          1.122700572013855,
          13.933248519897461,
          2.2171263694763184,
          0.8596000075340271,
          0.8596000075340271,
          1.3891633749008179,
          -0.8003947138786316,
          0.32779210805892944,
          4.9927849769592285,
          -0.16561932861804962,
          -0.20272845029830933,
          0.09029294550418854,
          -0.6163488030433655,
          59.50714111328125,
          0.8136524558067322,
          1.3007327318191528,
          -0.4034639894962311,
          -0.04438769817352295,
          1.7676361799240112,
          0.05020199716091156,
          -0.8255519270896912,
          1.1650573015213013,
          -0.38269945979118347,
          53.35028839111328,
          -0.16263748705387115,
          0.878990650177002,
          1.725279450416565,
          1.122700572013855,
          1.752395749092102,
          26.153223037719727,
          -0.1648576706647873,
          2.8722081184387207,
          0.14179490506649017,
          1.0836881399154663,
          0.22826318442821503,
          0.8618119359016418,
          12.500120162963867,
          1.6860566139221191,
          1.3685952425003052,
          11.142928123474121,
          1.666006326675415,
          1.07675302028656,
          0.8596000075340271,
          30.22979736328125,
          0.32779210805892944,
          9.030644416809082,
          -0.24867603182792664,
          -0.3752076029777527,
          38.27690505981445,
          4.463222026824951,
          9.685391426086426,
          0.35466375946998596,
          1.0814226865768433,
          0.382709264755249,
          0.5032035708427429,
          9.875843048095703,
          0.5797650814056396,
          -0.23137740790843964,
          0.1577230542898178,
          0.32779210805892944,
          9.076591491699219,
          -0.24011407792568207,
          1.943402647972107,
          2.8722081184387207,
          1.8950793743133545,
          25.822532653808594,
          -0.11891011893749237,
          -0.5537294745445251,
          4.850276947021484,
          0.1746058315038681,
          0.05020199716091156,
          -0.8407924771308899,
          -0.11891011893749237,
          1.0834777355194092,
          1.9033113718032837,
          17.153533935546875,
          0.6416085958480835,
          -0.36443233489990234,
          3.7644333839416504,
          0.07529526948928833,
          2.3452985286712646,
          -0.9695068001747131,
          7.641490459442139,
          -0.38697826862335205,
          -0.7023873925209045,
          0.15927396714687347,
          1.2854925394058228,
          0.23103506863117218,
          0.8443595170974731,
          5.653268337249756,
          2.694176435470581,
          -0.20540782809257507,
          1.1905630826950073,
          0.6067511439323425,
          1.725279450416565,
          0.29810184240341187,
          0.5184440016746521,
          0.31255167722702026,
          0.382709264755249,
          -0.049572188407182693,
          3.9582149982452393,
          -0.20204074680805206,
          -0.10793943703174591,
          13.592591285705566,
          0.2818446159362793,
          13.848756790161133,
          0.32779210805892944,
          5.720794677734375,
          0.1586800217628479,
          -0.025766238570213318,
          5.673421382904053,
          0.15927396714687347,
          -0.3718406856060028,
          12.75149917602539,
          1.4809662103652954,
          22.988117218017578,
          9.232282638549805,
          9.566381454467773,
          17.059967041015625,
          6.403112888336182,
          0.32779210805892944,
          -0.5524994730949402,
          0.40996527671813965,
          -0.21484777331352234,
          0.458166241645813,
          0.5525091290473938,
          3.527092695236206,
          22.258880615234375,
          5.074364185333252,
          2.034001350402832,
          1.2670058012008667,
          0.4433227777481079,
          14.518519401550293,
          0.07359232008457184,
          16.78683090209961,
          4.699360370635986,
          0.4106529653072357,
          0.11108773946762085,
          9.228692054748535,
          25.27030372619629,
          10.018694877624512,
          -0.5732637047767639,
          5.3142170906066895,
          15.861468315124512,
          -0.03865226358175278,
          2.56164288520813,
          67.43832397460938,
          0.5896919369697571,
          4.015811920166016,
          4.954453945159912,
          9.953124046325684,
          2.497816801071167,
          0.5184440016746521,
          0.7239246368408203,
          -0.3403429687023163,
          40.09601974487305,
          1.219363808631897,
          2.081451177597046,
          -0.3752076029777527,
          3.3636977672576904,
          0.6995071768760681,
          14.340494155883789,
          4.672244548797607,
          -0.38269945979118347,
          -0.13360758125782013,
          18.079776763916016,
          -0.6232197880744934,
          6.547915458679199,
          1.646947979927063,
          3.34892201423645,
          9.975556373596191,
          14.912178039550781,
          4.136247158050537,
          10.460575103759766,
          11.699474334716797,
          76.83702850341797,
          3.231971263885498,
          -0.364060640335083,
          0.7049776911735535,
          5.2935051918029785,
          0.9077594876289368,
          0.24440740048885345,
          0.1163235455751419,
          1.6604961156845093,
          29.6146240234375,
          9.592045783996582,
          0.5184440016746521,
          0.11953985691070557,
          -0.40415167808532715,
          0.15859104692935944,
          2.7365329265594482,
          0.12574462592601776,
          9.045856475830078,
          1.5248206853866577,
          0.12541207671165466,
          -0.12687638401985168,
          6.043454647064209,
          -0.7809188365936279,
          48.537052154541016,
          1.840222716331482,
          5.505160808563232,
          0.635639488697052,
          1.4983898401260376,
          0.8618119359016418,
          1.8347519636154175,
          0.8596000075340271,
          0.17296114563941956,
          36.843841552734375,
          0.12541207671165466,
          0.6432042717933655,
          0.6865212321281433,
          26.362245559692383,
          9.023260116577148,
          0.6356205940246582,
          16.94451141357422,
          4.793892860412598,
          0.7441181540489197,
          1.258201003074646,
          38.69072341918945,
          0.6416085958480835,
          26.299882888793945,
          1.1658159494400024,
          0.1812864989042282,
          30.3817081451416,
          3.9582149982452393,
          0.006703787483274937,
          0.11319601535797119,
          0.9077594876289368,
          29.96139144897461,
          0.25259435176849365,
          13.00131893157959,
          0.23893679678440094,
          -0.15500400960445404,
          37.51597595214844,
          3.358227014541626,
          5.41685676574707,
          0.32283952832221985,
          2.5026743412017822,
          9.956568717956543,
          13.517282485961914,
          0.17888455092906952,
          0.36746877431869507,
          -0.05842898413538933,
          -0.07612970471382141,
          4.764015197753906,
          19.306907653808594,
          6.213821887969971,
          22.93255615234375,
          5.886773109436035,
          0.40930333733558655,
          9.388287544250488,
          0.042453695088624954,
          0.4899179935455322,
          12.669919967651367,
          11.041483879089355,
          16.427631378173828,
          10.154616355895996,
          29.96139144897461,
          2.8716912269592285,
          2.367685317993164,
          -0.04438769817352295,
          1.7352544069290161,
          0.20273858308792114,
          6.661103248596191,
          0.07529526948928833,
          -0.09171304106712341,
          3.992988348007202,
          0.32688504457473755,
          2.4780452251434326,
          2.3469741344451904,
          0.1550510972738266,
          5.6636199951171875,
          1.831872820854187,
          0.9132301807403564,
          2.876917839050293,
          5.201807498931885,
          0.45320838689804077,
          8.006736755371094,
          60.9575309753418,
          27.32581329345703,
          18.61507797241211,
          2.3325703144073486,
          0.38533493876457214,
          13.592591285705566,
          7.645905494689941,
          3.8296396732330322,
          5.447563648223877,
          0.382709264755249,
          1.439566969871521,
          -0.09171304106712341,
          0.43763911724090576,
          1.002742052078247,
          8.884282112121582,
          -0.24867603182792664,
          3.514613389968872,
          15.988898277282715,
          0.2231963723897934,
          2.4780452251434326,
          2.0560007095336914,
          11.333334922790527,
          0.0919775664806366,
          16.427631378173828,
          2.117901563644409,
          1.4554928541183472,
          0.36199814081192017,
          0.6301689743995667,
          5.632604122161865,
          0.34148186445236206,
          0.1396176666021347,
          1.1627551317214966,
          -0.0451570563018322,
          30.020774841308594,
          37.792049407958984,
          37.26905822753906,
          48.96232604980469,
          14.892340660095215,
          10.317682266235352,
          0.05189364403486252,
          0.22561268508434296,
          -0.07647262513637543,
          -0.3475028872489929,
          11.120536804199219,
          3.6724233627319336,
          0.2759351432323456,
          -0.07184958457946777,
          31.73457908630371,
          17.673748016357422,
          1.8966253995895386,
          3.8296396732330322,
          -0.10038088262081146,
          17.28067970275879,
          53.17180252075195,
          4.173957347869873,
          0.2759351432323456,
          1.8861702680587769,
          36.196659088134766,
          -0.4211551547050476,
          1.9026142358779907,
          0.5915106534957886,
          67.84205627441406,
          70.73786163330078,
          2.876917839050293,
          1.053162932395935,
          0.2993367612361908,
          0.028560660779476166,
          4.020332336425781,
          17.95564842224121,
          -0.09460386633872986,
          0.23103506863117218,
          0.7765508890151978,
          20.365201950073242,
          4.18312406539917,
          0.34426605701446533,
          -0.05842898413538933,
          0.8476237654685974,
          1.7760006189346313,
          3.6760144233703613,
          13.566571235656738,
          0.635639488697052,
          0.5394118428230286,
          1.3127251863479614,
          1.2067152261734009,
          1.8861702680587769,
          10.912080764770508,
          15.77657413482666,
          2.707117795944214,
          49.416015625,
          2.244588851928711,
          10.998126029968262,
          16.680389404296875,
          0.23103506863117218,
          16.543188095092773,
          18.905790328979492,
          1.0485984086990356,
          31.009593963623047,
          3.3365817070007324,
          2.3166444301605225,
          11.17423152923584,
          26.077627182006836,
          0.6503433585166931,
          0.4880385398864746,
          4.764015197753906,
          0.39528241753578186,
          21.690927505493164,
          0.23185421526432037,
          1.684511661529541,
          -0.2455846518278122,
          61.83072280883789,
          1.328650951385498,
          0.3749898672103882,
          18.022340774536133,
          2.669081449508667,
          3.22946834564209,
          0.26459598541259766,
          19.542402267456055,
          18.2100772857666,
          60.73039245605469,
          30.336044311523438,
          2.813789129257202,
          0.5915106534957886,
          5.167201519012451,
          26.798608779907227,
          2.895895481109619,
          20.386043548583984,
          0.46403372287750244,
          15.222280502319336,
          7.907853603363037,
          0.2589702904224396,
          2.564995765686035,
          -0.056609146296978,
          6.661103248596191,
          0.5975474715232849,
          13.584419250488281,
          0.6995071768760681,
          0.7731416821479797,
          12.653890609741211,
          18.014842987060547,
          13.56322956085205,
          -0.26637494564056396,
          56.70785903930664,
          4.582254886627197,
          17.035390853881836,
          0.0623488612473011,
          1.9540327787399292,
          0.40532803535461426,
          17.518836975097656,
          27.32581329345703,
          0.6040295958518982,
          1.245261549949646,
          43.82290267944336,
          0.18113572895526886,
          30.672916412353516,
          28.425378799438477,
          0.4142071306705475,
          0.8625848889350891,
          0.22534778714179993,
          12.678343772888184,
          1.8983267545700073,
          4.618688106536865,
          0.6127880215644836,
          17.061279296875,
          0.42125385999679565,
          1.2067152261734009,
          26.87315559387207,
          1.2953561544418335,
          1.0564794540405273,
          16.564218521118164,
          20.89818572998047,
          13.0039701461792,
          2.808863639831543,
          -0.07647262513637543,
          6.661103248596191,
          0.7731416821479797,
          51.86749267578125,
          2.493971109390259,
          20.398862838745117,
          19.587135314941406,
          36.293399810791016,
          9.774600982666016,
          10.236583709716797,
          6.85464334487915,
          0.7271941304206848,
          0.7978260517120361,
          31.144559860229492,
          1.3318673372268677,
          37.77939987182617,
          3.05143666267395,
          0.43763911724090576,
          1.7908918857574463,
          2.654996395111084,
          64.26167297363281,
          1.6016262769699097,
          3.070423126220703,
          0.11250291764736176,
          6.592367649078369,
          9.229571342468262,
          17.8804874420166,
          1.0026508569717407,
          1.3816651105880737,
          1.5826396942138672,
          5.912564277648926,
          75.75865173339844,
          0.8794862627983093,
          0.2964584231376648,
          1.0026508569717407,
          1.1324166059494019,
          49.7825813293457,
          38.02998733520508,
          46.88896179199219,
          2.700943946838379,
          0.40930333733558655,
          1.5507773160934448,
          17.99067497253418,
          11.080666542053223,
          4.869158744812012,
          0.7921282649040222,
          0.18508750200271606,
          4.301118850708008,
          3.754425048828125,
          3.131418466567993,
          31.86907386779785,
          6.043454647064209,
          27.567358016967773,
          73.10752868652344,
          0.17124076187610626,
          18.951738357543945,
          1.7346247434616089,
          18.274694442749023,
          27.519878387451172,
          18.78895378112793,
          19.588350296020508,
          18.38886260986328,
          39.056819915771484,
          17.4045467376709,
          0.866090714931488,
          1.0675849914550781,
          1.2004634141921997,
          16.280582427978516,
          51.4578971862793,
          3.3604910373687744,
          0.9923311471939087,
          17.99067497253418,
          0.2964584231376648,
          1.0485984086990356,
          0.2964584231376648,
          0.6040295958518982,
          12.348751068115234,
          19.542402267456055,
          7.907853603363037,
          13.810203552246094,
          21.46150779724121,
          20.860843658447266,
          6.006423473358154,
          56.686744689941406,
          0.31872260570526123,
          20.836843490600586,
          72.98297119140625,
          4.4830121994018555,
          0.78190016746521,
          7.907853603363037,
          6.592367649078369,
          1.1614433526992798,
          23.492122650146484,
          21.145896911621094,
          0.8984728455543518,
          1.806817650794983,
          17.78194236755371,
          74.19143676757812,
          27.519878387451172,
          4.465063095092773,
          0.43709444999694824,
          0.0934947282075882,
          12.458938598632812,
          20.860843658447266,
          0.8794862627983093,
          3.0995559692382812,
          13.650786399841309,
          1.5758321285247803,
          64.84410095214844,
          14.73012924194336,
          17.681621551513672,
          32.2785758972168,
          1.3127251863479614,
          20.44481086730957,
          10.236583709716797,
          1.2555811405181885,
          48.001956939697266,
          5.108919143676758,
          0.6491554975509644,
          0.4397298991680145,
          0.8954121470451355,
          27.464317321777344,
          37.5828857421875,
          21.089197158813477,
          37.03785705566406,
          18.951738357543945,
          0.7271941304206848,
          74.65900421142578,
          1.5899174213409424,
          3.47469162940979,
          78.48530578613281,
          0.8476237654685974,
          31.8836612701416,
          49.460506439208984,
          1.6377055644989014,
          19.853832244873047,
          1.7346247434616089,
          0.3423588275909424,
          0.7037925124168396,
          10.236583709716797,
          28.043794631958008,
          2.124711751937866,
          1.9203258752822876,
          8.966463088989258,
          48.939605712890625,
          -0.03567468374967575,
          13.27536392211914,
          15.801382064819336,
          0.8329418301582336,
          6.592367649078369,
          49.69560241699219,
          5.584523677825928,
          9.820548057556152,
          0.7271941304206848,
          6.415397644042969,
          0.5710111260414124,
          5.680649280548096,
          4.4370646476745605,
          0.25051093101501465,
          2.7150049209594727,
          17.061279296875,
          2.1236424446105957,
          0.38830631971359253,
          1.5826396942138672,
          1.8098784685134888,
          1.6217797994613647,
          32.279258728027344,
          13.229416847229004,
          2.187023401260376,
          0.7890675663948059,
          2.561811685562134,
          31.964048385620117,
          2.700943946838379,
          48.69951248168945,
          0.3239131569862366,
          31.983034133911133,
          0.8689917325973511,
          0.580627977848053,
          17.99067497253418,
          7.861906051635742,
          28.06490707397461,
          2.196106433868408,
          61.58750915527344,
          0.33733150362968445,
          1.6217797994613647,
          1.0167357921600342,
          18.009660720825195,
          0.7731416821479797,
          1.6954845190048218,
          0.3749898672103882,
          38.679840087890625,
          0.5721670985221863,
          32.68988800048828,
          2.654996395111084,
          5.740495204925537,
          51.18986511230469,
          3.609358310699463,
          73.9868392944336,
          4.856240749359131,
          20.860843658447266,
          5.427858352661133,
          14.531261444091797,
          16.339488983154297,
          5.324460506439209,
          4.4370646476745605,
          17.99067497253418,
          4.660483360290527,
          3.131418466567993,
          0.31872260570526123,
          1.301528811454773,
          1.0485984086990356,
          7.861906051635742,
          4.127768516540527,
          87.5790023803711,
          22.70355796813965,
          3.2670936584472656,
          32.00294876098633,
          32.00637435913086,
          17.606307983398438,
          0.34312736988067627,
          0.5011512041091919,
          12.458938598632812,
          21.145896911621094,
          27.519878387451172,
          22.10696029663086,
          23.987245559692383,
          4.959525108337402,
          1.3532074689865112,
          2.166933059692383,
          18.022340774536133,
          5.093998432159424,
          0.061676282435655594,
          17.681621551513672,
          126.08568572998047,
          3.1527180671691895,
          1.2855329513549805,
          1.3391854763031006,
          9.229571342468262,
          34.81725311279297,
          1.773626685142517,
          0.19917254149913788,
          12.338103294372559,
          3.3604910373687744,
          1.1324166059494019,
          4.933815002441406,
          28.06490707397461,
          0.458166241645813,
          5.2929816246032715,
          3.657083511352539,
          17.950504302978516,
          28.033794403076172,
          0.7890675663948059,
          0.9616276621818542,
          13.726889610290527,
          3.653472423553467,
          0.8476237654685974,
          2.700943946838379,
          0.7421150207519531,
          2.922666311264038,
          34.03927230834961,
          75.29878997802734,
          0.8371292352676392,
          0.34148186445236206,
          4.904181957244873,
          0.4708399176597595,
          1.3391854763031006,
          28.460905075073242,
          4.108407974243164,
          2.6960184574127197,
          1.6466271877288818,
          6.546420097351074,
          24.61266326904297,
          22.497156143188477,
          31.8836612701416,
          13.637886047363281,
          3.6620090007781982,
          9.887029647827148,
          25.436717987060547,
          3.4243998527526855,
          2.669081449508667,
          32.99782943725586,
          0.5796825289726257,
          8.437182426452637,
          2.776416540145874,
          14.7943696975708,
          10.007163047790527,
          28.876937866210938,
          0.5704315304756165,
          1.7187385559082031,
          0.2401912659406662,
          1.5507773160934448,
          1.1005542278289795,
          0.19103436172008514,
          6.787933349609375,
          13.0039701461792,
          37.7291374206543,
          1.3664847612380981,
          0.7231284379959106,
          0.21919424831867218,
          7.193572044372559,
          33.895484924316406,
          10.814554214477539,
          1.9291741847991943,
          11.474958419799805,
          5.89357852935791,
          12.056318283081055,
          2.1002562046051025,
          14.975112915039062,
          2.155160903930664,
          13.584419250488281,
          0.9912620186805725,
          4.828469753265381,
          0.5568841099739075,
          0.434975266456604,
          20.935497283935547,
          59.64832305908203,
          10.75985336303711,
          0.8794862627983093,
          0.2964584231376648,
          5.2929277420043945,
          7.633241176605225,
          48.02188491821289,
          34.81725311279297,
          5.997391700744629,
          0.030060425400733948,
          17.99273109436035,
          37.103721618652344,
          36.055076599121094,
          21.943281173706055,
          0.19385944306850433,
          45.3718376159668,
          31.8836612701416,
          4.4830121994018555,
          10.861998558044434,
          2.7998311519622803,
          0.9434736371040344,
          9.03688907623291,
          16.867250442504883,
          25.390727996826172,
          0.29502254724502563,
          0.41057050228118896,
          2.008805751800537,
          0.26661577820777893,
          37.49932098388672,
          0.5765832662582397,
          3.070423126220703,
          0.9813382029533386,
          3.574160099029541,
          0.7368804812431335,
          9.470468521118164,
          10.236583709716797,
          0.7168744206428528,
          32.50907516479492,
          1.301528811454773,
          0.8371292352676392,
          15.571961402893066,
          0.4771527051925659,
          0.4060606062412262,
          0.9753362536430359,
          0.8371292352676392,
          6.787933349609375,
          4.821940898895264,
          9.900933265686035,
          0.5540162920951843,
          17.72727394104004,
          5.15219259262085,
          24.208484649658203,
          1.6325418949127197,
          2.6182165145874023,
          4.668315887451172,
          2.2510111331939697,
          1.1700732707977295,
          2.7175090312957764,
          5.660362243652344,
          8.021223068237305,
          31.37451171875,
          25.367311477661133,
          1.4419902563095093,
          1.5175800323486328,
          0.8359732627868652,
          18.616092681884766,
          0.2231963723897934,
          3.9055206775665283,
          3.695434808731079,
          14.209834098815918,
          8.49496841430664,
          1.3073230981826782,
          3.6620090007781982,
          2.700943946838379,
          0.5221537947654724,
          3.606022596359253,
          1.3073230981826782,
          14.276201248168945,
          0.7412791848182678,
          1.5883655548095703,
          0.33604127168655396,
          1.2282664775848389,
          3.7629928588867188,
          17.101856231689453,
          14.840316772460938,
          8.123266220092773,
          37.08260726928711,
          39.056819915771484,
          0.6406133770942688,
          0.6040295958518982,
          19.588350296020508,
          12.253765106201172,
          0.2706179618835449,
          1.2855329513549805,
          0.9434736371040344,
          0.18733175098896027,
          0.8605745434761047,
          4.803991794586182,
          1.0985006093978882,
          7.28180456161499,
          4.323285102844238,
          4.110137939453125,
          0.6872637867927551,
          2.101381778717041,
          1.1700732707977295,
          8.760037422180176,
          3.464303731918335,
          17.767032623291016,
          0.5221537947654724,
          3.0995559692382812,
          1.413527488708496,
          22.360929489135742,
          13.420265197753906,
          0.34312736988067627,
          18.649005889892578,
          0.4980516731739044,
          0.513977587223053,
          0.2231963723897934,
          19.94953155517578,
          9.03688907623291,
          20.01262092590332,
          0.6484346985816956,
          2.6655001640319824,
          14.349698066711426,
          19.043357849121094,
          38.2519416809082,
          4.636453151702881,
          1.4230036735534668,
          2.4151556491851807,
          2.3213424682617188,
          3.799414873123169,
          1.3147352933883667,
          28.480939865112305,
          0.8649895787239075,
          3.4703474044799805,
          0.3709242343902588,
          15.298218727111816,
          6.317691802978516,
          0.8649895787239075,
          18.621097564697266,
          6.554264068603516,
          0.7231284379959106,
          0.3017278015613556,
          4.297524452209473,
          0.5134496092796326,
          0.17401529848575592,
          6.78288459777832,
          2.4519803524017334,
          28.457443237304688,
          0.7350521683692932,
          2.9942290782928467,
          0.4521041512489319,
          4.166543960571289,
          0.2977256178855896,
          4.887300968170166,
          2.341496467590332,
          9.751605033874512,
          6.787933349609375,
          21.735910415649414,
          20.4622859954834,
          0.2401912659406662,
          1.7207820415496826,
          6.7775373458862305,
          20.525197982788086,
          9.820548057556152,
          0.2977256178855896,
          0.2977256178855896,
          1.9890656471252441,
          1.567665696144104,
          2.2779064178466797,
          2.905607223510742,
          4.279280662536621,
          0.3438800275325775,
          0.5086570382118225,
          21.31151008605957,
          4.71522331237793,
          4.370408058166504,
          18.78805923461914,
          1.053475260734558,
          1.3147352933883667,
          2.904843330383301,
          2.9904747009277344,
          0.38830631971359253,
          1.0317531824111938,
          20.915910720825195,
          2.2325196266174316,
          0.7472001910209656,
          12.958023071289062,
          0.4813143014907837,
          2.1603825092315674,
          1.4838474988937378,
          32.125823974609375,
          19.8997802734375,
          0.9293885827064514,
          0.7585110068321228,
          2.6566672325134277,
          9.197921752929688,
          1.301528811454773,
          2.14512038230896,
          0.35963696241378784,
          5.614414691925049,
          0.7350521683692932,
          0.6430221199989319,
          4.271691799163818,
          2.341496467590332,
          1.1444482803344727,
          2.5827345848083496,
          9.4128999710083,
          0.4949117600917816,
          1.3306610584259033,
          0.8595259785652161,
          4.834973335266113,
          3.6994199752807617,
          16.04315185546875,
          1.7685176134109497,
          0.4060606062412262,
          3.6121087074279785,
          3.367394208908081,
          0.9425989389419556,
          0.43046534061431885,
          0.43046534061431885,
          18.272993087768555,
          0.8405393958091736,
          1.259978175163269,
          5.763759136199951,
          5.4501519203186035,
          0.6294481158256531,
          1.234761357307434,
          16.490785598754883,
          1.0453755855560303,
          0.29321572184562683,
          1.4325562715530396,
          4.1931891441345215,
          8.812106132507324,
          0.34587156772613525,
          1.6931262016296387,
          9.505825996398926,
          4.203843116760254,
          5.121352672576904,
          0.2658631205558777,
          1.0575976371765137,
          0.5051533579826355,
          0.32288289070129395,
          42.3231315612793,
          0.2121317833662033,
          0.7829241156578064,
          0.4708399176597595,
          2.925726890563965,
          21.965330123901367,
          16.820363998413086,
          5.244327545166016,
          2.449314832687378,
          0.6108964085578918,
          1.2828729152679443,
          2.021939754486084,
          4.838843822479248,
          2.1002562046051025,
          6.209233283996582,
          5.2540483474731445,
          1.741094946861267,
          3.570070505142212,
          0.808296263217926,
          0.7829241156578064,
          0.3186839818954468,
          0.9119551777839661,
          4.71024227142334,
          0.7931477427482605,
          16.867250442504883,
          0.4661891460418701,
          4.856240749359131,
          6.611353397369385,
          1.872494101524353,
          7.237976551055908,
          1.589717149734497,
          0.30914151668548584,
          6.614109992980957,
          1.6748343706130981,
          5.035568714141846,
          3.7834293842315674,
          0.7612852454185486,
          0.9533842206001282,
          0.5027976632118225,
          2.4660046100616455,
          19.90131187438965,
          0.9002369046211243,
          4.870706558227539,
          1.656442642211914,
          5.195169448852539,
          2.248924732208252,
          1.3764557838439941,
          1.4861434698104858,
          0.8564652800559998,
          0.33988460898399353,
          0.72934490442276,
          3.606022596359253,
          2.485929489135742,
          17.827890396118164,
          0.2580793499946594,
          3.5541446208953857,
          0.46232783794403076,
          12.800646781921387,
          6.186559677124023,
          1.9431180953979492,
          3.768322706222534,
          0.4949117600917816,
          1.4861434698104858,
          8.054590225219727,
          11.25222396850586,
          6.970219612121582,
          5.880624771118164,
          4.760605335235596,
          3.7154171466827393,
          21.072248458862305,
          3.7374818325042725,
          0.38830631971359253,
          0.35170236229896545,
          0.2580793499946594,
          12.058897018432617,
          1.1138089895248413,
          1.9431180953979492,
          2.087780237197876,
          0.39230847358703613,
          9.735678672790527,
          4.165212154388428,
          0.43046534061431885,
          27.75092124938965,
          5.8914594650268555,
          1.0135128498077393,
          1.5020692348480225,
          1.0970923900604248,
          0.5027976632118225,
          3.270297050476074,
          0.2580793499946594,
          5.877901554107666,
          3.566073417663574,
          0.2613532245159149,
          3.045074462890625,
          4.870706558227539,
          0.8288716673851013,
          2.133727788925171,
          2.700734853744507,
          3.1172115802764893,
          1.8921902179718018,
          1.0742557048797607,
          0.2613532245159149,
          0.16656525433063507,
          0.9119551777839661,
          1.984595537185669,
          2.154040575027466,
          1.1202033758163452,
          1.1923404932022095,
          1.1138089895248413,
          0.6954514384269714,
          0.2121317833662033,
          0.41638028621673584,
          1.041671872138977,
          0.27400514483451843,
          1.6195636987686157,
          1.4519851207733154,
          0.39149951934814453,
          1.4585816860198975,
          0.8697949051856995,
          3.987539768218994
         ],
         "xaxis": "x",
         "y": [
          0.1,
          1.5,
          1,
          0.1,
          15,
          0.075,
          0.2,
          0.15,
          0.6,
          0.2,
          0.125,
          0.15,
          40,
          4,
          0.15,
          0.15,
          0.8,
          0.2,
          2,
          0.9,
          0.3,
          0.1,
          0.1,
          0.6,
          0.45,
          1,
          0.5,
          0.8,
          0.5,
          0.1,
          0.3,
          0.3,
          0.15,
          0.05,
          0.25,
          0.6,
          0.3,
          0.2,
          0.15,
          0.1,
          0.3,
          0.3,
          0.1,
          2.5,
          0.8,
          0.2,
          1,
          0.4,
          0.2,
          0.15,
          2,
          0.3,
          0.05,
          0.25,
          0.15,
          1.2,
          0.35,
          0.2,
          0.5,
          0.3,
          2,
          0.3,
          0.4,
          0.15,
          0.25,
          0.4,
          0.25,
          0.2,
          0.15,
          0.3,
          0.1,
          1,
          0.6,
          2.5,
          0.1,
          0.3,
          0.9,
          0.3,
          0.45,
          0.3,
          0.2,
          0.15,
          0.45,
          0.3,
          1.5,
          1,
          2.5,
          1,
          28,
          0.25,
          0.4,
          0.9,
          38,
          0.5,
          0.2,
          1.5,
          0.3,
          1.5,
          3,
          1,
          20,
          1,
          0.6,
          0.75,
          0.15,
          0.4,
          0.35,
          0.25,
          0.1,
          0.5,
          0.25,
          0.6,
          15,
          0.1,
          1,
          0.5,
          0.25,
          0.8,
          0.6,
          0.7,
          0.5,
          0.7,
          0.25,
          0.5,
          1.2,
          0.8,
          0.3,
          0.025,
          1.8,
          0.2,
          0.2,
          1,
          0.4,
          0.275,
          0.4,
          0.3,
          0.6,
          2,
          0.25,
          7,
          0.15,
          0.175,
          0.5,
          0.2,
          0.15,
          1.8,
          0.6,
          0.15,
          1,
          0.4,
          22,
          0.15,
          0.15,
          12,
          0.3,
          0.3,
          0.25,
          0.4,
          0.4,
          0.8,
          2,
          1,
          16,
          2,
          0.1,
          2,
          1.2,
          2.5,
          3,
          1.5,
          13,
          9,
          0.8,
          0.15,
          2.5,
          2.5,
          0.3,
          0.7,
          0.9,
          1.5,
          0.5,
          14,
          0.3,
          0.15,
          0.7,
          0.5,
          12,
          0.2,
          0.25,
          2,
          8,
          3.5,
          0.7,
          0.6,
          1.2,
          0.05,
          0.5,
          9,
          0.25,
          0.3,
          0.5,
          0.175,
          70,
          0.6,
          1.2,
          0.25,
          0.1,
          1.8,
          0.3,
          0.15,
          0.85,
          0.2,
          60,
          0.25,
          1,
          1.2,
          1.2,
          2,
          25,
          0.2,
          2.8,
          0.125,
          1.5,
          0.175,
          0.8,
          11,
          1.2,
          0.6,
          5,
          1.2,
          1.5,
          0.7,
          25,
          0.25,
          7,
          0.3,
          0.1,
          45,
          5,
          8,
          0.5,
          1,
          0.3,
          0.6,
          4,
          0.5,
          0.3,
          0.9,
          0.5,
          10,
          0.25,
          3,
          2.5,
          2.5,
          28,
          0.6,
          0.2,
          3,
          1,
          0.3,
          0.2,
          0.6,
          1.5,
          1.5,
          10,
          1,
          0.05,
          2,
          0.3,
          2.5,
          0.05,
          8,
          0.2,
          0.125,
          0.5,
          1.2,
          0.15,
          1,
          6,
          2,
          0.1,
          0.7,
          0.15,
          2,
          0.45,
          0.9,
          0.4,
          0.25,
          0.8,
          2,
          0.3,
          1,
          16,
          0.7,
          16,
          0.5,
          2.5,
          0.8,
          0.4,
          10,
          0.9,
          0.45,
          6,
          1.2,
          17,
          5,
          8,
          12,
          7,
          0.6,
          0.3,
          0.6,
          0.7,
          0.25,
          0.4,
          1.8,
          12,
          2,
          0.8,
          0.7,
          0.25,
          9.5,
          0.3,
          25,
          4.5,
          0.8,
          0.4,
          6,
          22,
          9,
          0.35,
          10,
          12,
          0.15,
          0.9,
          60,
          0.6,
          2.2,
          10,
          8,
          2,
          0.75,
          1.2,
          0.45,
          45,
          1.5,
          2,
          0.15,
          2.5,
          0.1,
          12,
          2.5,
          0.3,
          0.125,
          35,
          1,
          6.5,
          2,
          3.5,
          8,
          16,
          1.5,
          16,
          8,
          70,
          1.2,
          0.2,
          0.25,
          2,
          0.8,
          0.25,
          1.5,
          0.9,
          28,
          9,
          1,
          0.45,
          0.2,
          0.175,
          1.5,
          0.3,
          6,
          1,
          0.35,
          0.2,
          3.5,
          0.15,
          35,
          1.8,
          4.5,
          0.6,
          0.9,
          0.9,
          1.2,
          1,
          0.35,
          25,
          0.2,
          0.1,
          1.2,
          20,
          9,
          0.7,
          18,
          3.2,
          0.85,
          2,
          30,
          0.8,
          35,
          0.6,
          0.275,
          25,
          1.5,
          0.25,
          0.55,
          0.35,
          38,
          0.35,
          12,
          0.35,
          0.3,
          35,
          4,
          3.8,
          0.2,
          2.2,
          4.5,
          10,
          0.025,
          0.9,
          0.2,
          0.2,
          3,
          18,
          7,
          40,
          3,
          0.2,
          10,
          0.15,
          0.6,
          20,
          18,
          15,
          15,
          27,
          2.2,
          3.5,
          0.3,
          1.8,
          0.35,
          5,
          0.3,
          0.2,
          2.5,
          0.15,
          3.5,
          3,
          0.3,
          15,
          0.9,
          0.3,
          2.5,
          6,
          0.4,
          16,
          75,
          40,
          12,
          2,
          0.3,
          9,
          4,
          12,
          5,
          1,
          3,
          0.2,
          0.4,
          1,
          18,
          0.35,
          1.2,
          25,
          0.25,
          8,
          0.6,
          8,
          0.175,
          10,
          1,
          1.2,
          0.3,
          0.5,
          3.5,
          0.2,
          0.2,
          1.2,
          0.025,
          20,
          28,
          40,
          45,
          7,
          6,
          0.4,
          0.6,
          0.2,
          0.15,
          18,
          3.5,
          0.35,
          0.25,
          35,
          15,
          1.5,
          2.2,
          0.6,
          20,
          48,
          3.5,
          0.35,
          1.5,
          40,
          0.075,
          1.5,
          0.45,
          75,
          80,
          3.5,
          1.5,
          0.35,
          0.15,
          10,
          28,
          0.15,
          0.125,
          0.3,
          14,
          1.5,
          0.25,
          0.3,
          0.2,
          1,
          4,
          12,
          0.5,
          0.9,
          1.5,
          6,
          1,
          10,
          10,
          2,
          30,
          1.8,
          18,
          12,
          0.125,
          13,
          25,
          0.2,
          50,
          2.5,
          2.5,
          8,
          22,
          1.2,
          0.9,
          7,
          0.5,
          22,
          0.225,
          2,
          0.3,
          80,
          1.2,
          0.2,
          15,
          1.5,
          3,
          0.125,
          20,
          18,
          80,
          30,
          5,
          0.5,
          4.5,
          25,
          2.5,
          25,
          0.35,
          20,
          16,
          0.25,
          1.8,
          0.15,
          7,
          1.2,
          20,
          0.8,
          0.25,
          18,
          17,
          35,
          0.075,
          32,
          4,
          12,
          0.35,
          2,
          0.25,
          13,
          15,
          0.3,
          0.5,
          35,
          0.3,
          38,
          40,
          0.35,
          0.25,
          0.15,
          16,
          1.8,
          2.8,
          0.3,
          16,
          0.25,
          0.8,
          25,
          0.7,
          2,
          12,
          20,
          20,
          2,
          0.2,
          15,
          0.25,
          60,
          2.5,
          25,
          18,
          25,
          3,
          8,
          15,
          0.25,
          0.3,
          25,
          0.5,
          25,
          3.5,
          1.2,
          1.2,
          2.8,
          60,
          0.8,
          3,
          0.15,
          4.5,
          4.5,
          9,
          0.2,
          0.9,
          0.5,
          4,
          65,
          0.4,
          0.15,
          0.3,
          3.8,
          38,
          35,
          80,
          2,
          0.1,
          0.7,
          13,
          22,
          5,
          0.15,
          0.075,
          7,
          4.5,
          2,
          40,
          4,
          16,
          75,
          0.5,
          16,
          0.7,
          12,
          25,
          20,
          18,
          38,
          50,
          13,
          0.8,
          0.4,
          1,
          18,
          50,
          2.2,
          0.5,
          28,
          0.075,
          0.45,
          0.15,
          0.3,
          16,
          25,
          12,
          6,
          38,
          28,
          12,
          50,
          0.3,
          25,
          50,
          5,
          0.5,
          4.5,
          4.5,
          0.4,
          28,
          15,
          0.7,
          1,
          15,
          80,
          20,
          3,
          0.3,
          0.2,
          6,
          18,
          0.9,
          1.5,
          7,
          0.9,
          65,
          25,
          12,
          70,
          1.5,
          32,
          12,
          0.8,
          35,
          3.5,
          0.3,
          0.15,
          0.5,
          40,
          60,
          27,
          38,
          35,
          0.2,
          90,
          2.8,
          2,
          90,
          0.45,
          45,
          75,
          1.2,
          18,
          0.8,
          0.25,
          0.4,
          15,
          15,
          6,
          1.2,
          4,
          30,
          0.2,
          10,
          35,
          0.6,
          16,
          48,
          3.5,
          10,
          0.2,
          3,
          0.4,
          13,
          3,
          0.075,
          1.8,
          30,
          2.2,
          0.125,
          1.8,
          1,
          3.5,
          28,
          18,
          1.5,
          0.3,
          2,
          35,
          0.9,
          35,
          0.175,
          17,
          0.3,
          0.3,
          18,
          12,
          30,
          1.4,
          50,
          0.35,
          3.5,
          0.35,
          18,
          0.3,
          1,
          0.15,
          50,
          0.3,
          35,
          5,
          17,
          45,
          3.5,
          55,
          5,
          35,
          3,
          12,
          22,
          10,
          3.5,
          25,
          6,
          2,
          0.6,
          0.5,
          0.5,
          4,
          7,
          110,
          15,
          2.2,
          20,
          25,
          18,
          0.25,
          0.15,
          7,
          35,
          20,
          25,
          18,
          9,
          7,
          1.3,
          15,
          12,
          0.125,
          22,
          180,
          1.8,
          1.5,
          0.5,
          7,
          42,
          0.8,
          0.1,
          16,
          2.5,
          0.9,
          8,
          25,
          0.3,
          11,
          20,
          16,
          38,
          0.3,
          0.3,
          30,
          11,
          0.8,
          1.5,
          0.25,
          1.2,
          55,
          110,
          0.3,
          0.15,
          5,
          0.2,
          0.9,
          17,
          2.8,
          2.8,
          0.6,
          4,
          17,
          55,
          50,
          9,
          8,
          14,
          18,
          5,
          3.5,
          45,
          0.2,
          6,
          2.8,
          10,
          10,
          40,
          0.3,
          0.6,
          0.15,
          0.45,
          1.2,
          0.25,
          10,
          15,
          40,
          0.3,
          0.3,
          0.8,
          3.8,
          10,
          20,
          7,
          10,
          6,
          11,
          4,
          22,
          0.5,
          22,
          1,
          6,
          0.35,
          0.175,
          30,
          65,
          20,
          2.8,
          0.2,
          12,
          25,
          55,
          75,
          4,
          0.075,
          25,
          22,
          30,
          40,
          0.6,
          75,
          50,
          8,
          10,
          1.5,
          0.4,
          12,
          42,
          28,
          0.075,
          0.25,
          5,
          0.15,
          28,
          0.2,
          2,
          0.9,
          1,
          0.5,
          9,
          5,
          0.3,
          55,
          4,
          0.25,
          15,
          0.2,
          0.15,
          1.2,
          0.35,
          4.5,
          2,
          20,
          0.25,
          35,
          1.8,
          32,
          0.8,
          2,
          2.2,
          5,
          2,
          0.8,
          15,
          8,
          25,
          28,
          0.6,
          5,
          0.2,
          12,
          1,
          7,
          22,
          12,
          14,
          0.25,
          9,
          1.8,
          0.15,
          1.2,
          0.5,
          7,
          0.3,
          4,
          0.15,
          2.5,
          3,
          22,
          28,
          4,
          30,
          70,
          0.45,
          0.55,
          25,
          6,
          0.05,
          0.7,
          0.5,
          0.15,
          0.5,
          2.5,
          0.3,
          8,
          3.5,
          5,
          0.125,
          3,
          0.5,
          10,
          3,
          65,
          0.2,
          2,
          2.2,
          13,
          60,
          0.3,
          22,
          0.3,
          0.2,
          0.15,
          13,
          5,
          20,
          0.1,
          3,
          35,
          30,
          65,
          2.5,
          1.5,
          0.6,
          0.7,
          2,
          0.6,
          35,
          0.3,
          3.5,
          0.15,
          25,
          18,
          1,
          16,
          8,
          0.3,
          0.2,
          6,
          0.2,
          0.2,
          12,
          5,
          35,
          0.2,
          2.5,
          0.2,
          8,
          0.3,
          5,
          2.2,
          15,
          5,
          15,
          28,
          0.25,
          1.5,
          4,
          22,
          10,
          0.275,
          0.35,
          1.2,
          0.6,
          2.5,
          1,
          8,
          0.25,
          0.15,
          18,
          6,
          9,
          20,
          1.5,
          1,
          0.7,
          1.2,
          0.1,
          0.45,
          25,
          0.9,
          0.3,
          25,
          0.05,
          1,
          0.5,
          45,
          30,
          0.35,
          0.25,
          6,
          8,
          1.2,
          2,
          0.5,
          35,
          0.25,
          0.25,
          5,
          1,
          0.35,
          0.3,
          16,
          0.2,
          1,
          0.3,
          7,
          2.5,
          25,
          0.25,
          0.3,
          15,
          1.5,
          0.5,
          0.125,
          0.2,
          24,
          1.8,
          0.9,
          18,
          32,
          0.175,
          1,
          15,
          0.45,
          0.2,
          0.9,
          5,
          7,
          0.075,
          10,
          85,
          5,
          12,
          0.5,
          11,
          0.2,
          0.05,
          70,
          0.25,
          0.35,
          0.175,
          10,
          18,
          22,
          7,
          1.2,
          0.4,
          0.45,
          1,
          2,
          6,
          2.8,
          3,
          6,
          0.8,
          0.9,
          0.8,
          0.5,
          0.3,
          1.8,
          0.9,
          13,
          0.2,
          6,
          9,
          0.6,
          55,
          0.5,
          0.25,
          11,
          1.2,
          4,
          15,
          0.25,
          0.5,
          0.5,
          0.4,
          22,
          0.7,
          8,
          0.35,
          3,
          1,
          0.8,
          0.8,
          1.2,
          2.8,
          0.3,
          3,
          10,
          22,
          0.2,
          1.5,
          0.15,
          18,
          5,
          1,
          3,
          0.2,
          2,
          6,
          5,
          5,
          3.5,
          4,
          1,
          22,
          1,
          0.25,
          0.125,
          0.1,
          12,
          0.4,
          30,
          10,
          0.45,
          14,
          20,
          0.25,
          28,
          25,
          0.25,
          1,
          0.8,
          0.25,
          20,
          0.8,
          5,
          3.5,
          0.15,
          14,
          2,
          0.2,
          0.8,
          4,
          2,
          0.4,
          1.5,
          0.275,
          0.15,
          0.5,
          0.3,
          1.5,
          0.4,
          6,
          8,
          0.3,
          0.3,
          0.2,
          3,
          12,
          0.5,
          3,
          0.2,
          2,
          0.125,
          1.9
         ],
         "yaxis": "y"
        }
       ],
       "layout": {
        "legend": {
         "tracegroupgap": 0
        },
        "margin": {
         "t": 60
        },
        "template": {
         "data": {
          "bar": [
           {
            "error_x": {
             "color": "#2a3f5f"
            },
            "error_y": {
             "color": "#2a3f5f"
            },
            "marker": {
             "line": {
              "color": "#E5ECF6",
              "width": 0.5
             },
             "pattern": {
              "fillmode": "overlay",
              "size": 10,
              "solidity": 0.2
             }
            },
            "type": "bar"
           }
          ],
          "barpolar": [
           {
            "marker": {
             "line": {
              "color": "#E5ECF6",
              "width": 0.5
             },
             "pattern": {
              "fillmode": "overlay",
              "size": 10,
              "solidity": 0.2
             }
            },
            "type": "barpolar"
           }
          ],
          "carpet": [
           {
            "aaxis": {
             "endlinecolor": "#2a3f5f",
             "gridcolor": "white",
             "linecolor": "white",
             "minorgridcolor": "white",
             "startlinecolor": "#2a3f5f"
            },
            "baxis": {
             "endlinecolor": "#2a3f5f",
             "gridcolor": "white",
             "linecolor": "white",
             "minorgridcolor": "white",
             "startlinecolor": "#2a3f5f"
            },
            "type": "carpet"
           }
          ],
          "choropleth": [
           {
            "colorbar": {
             "outlinewidth": 0,
             "ticks": ""
            },
            "type": "choropleth"
           }
          ],
          "contour": [
           {
            "colorbar": {
             "outlinewidth": 0,
             "ticks": ""
            },
            "colorscale": [
             [
              0,
              "#0d0887"
             ],
             [
              0.1111111111111111,
              "#46039f"
             ],
             [
              0.2222222222222222,
              "#7201a8"
             ],
             [
              0.3333333333333333,
              "#9c179e"
             ],
             [
              0.4444444444444444,
              "#bd3786"
             ],
             [
              0.5555555555555556,
              "#d8576b"
             ],
             [
              0.6666666666666666,
              "#ed7953"
             ],
             [
              0.7777777777777778,
              "#fb9f3a"
             ],
             [
              0.8888888888888888,
              "#fdca26"
             ],
             [
              1,
              "#f0f921"
             ]
            ],
            "type": "contour"
           }
          ],
          "contourcarpet": [
           {
            "colorbar": {
             "outlinewidth": 0,
             "ticks": ""
            },
            "type": "contourcarpet"
           }
          ],
          "heatmap": [
           {
            "colorbar": {
             "outlinewidth": 0,
             "ticks": ""
            },
            "colorscale": [
             [
              0,
              "#0d0887"
             ],
             [
              0.1111111111111111,
              "#46039f"
             ],
             [
              0.2222222222222222,
              "#7201a8"
             ],
             [
              0.3333333333333333,
              "#9c179e"
             ],
             [
              0.4444444444444444,
              "#bd3786"
             ],
             [
              0.5555555555555556,
              "#d8576b"
             ],
             [
              0.6666666666666666,
              "#ed7953"
             ],
             [
              0.7777777777777778,
              "#fb9f3a"
             ],
             [
              0.8888888888888888,
              "#fdca26"
             ],
             [
              1,
              "#f0f921"
             ]
            ],
            "type": "heatmap"
           }
          ],
          "heatmapgl": [
           {
            "colorbar": {
             "outlinewidth": 0,
             "ticks": ""
            },
            "colorscale": [
             [
              0,
              "#0d0887"
             ],
             [
              0.1111111111111111,
              "#46039f"
             ],
             [
              0.2222222222222222,
              "#7201a8"
             ],
             [
              0.3333333333333333,
              "#9c179e"
             ],
             [
              0.4444444444444444,
              "#bd3786"
             ],
             [
              0.5555555555555556,
              "#d8576b"
             ],
             [
              0.6666666666666666,
              "#ed7953"
             ],
             [
              0.7777777777777778,
              "#fb9f3a"
             ],
             [
              0.8888888888888888,
              "#fdca26"
             ],
             [
              1,
              "#f0f921"
             ]
            ],
            "type": "heatmapgl"
           }
          ],
          "histogram": [
           {
            "marker": {
             "pattern": {
              "fillmode": "overlay",
              "size": 10,
              "solidity": 0.2
             }
            },
            "type": "histogram"
           }
          ],
          "histogram2d": [
           {
            "colorbar": {
             "outlinewidth": 0,
             "ticks": ""
            },
            "colorscale": [
             [
              0,
              "#0d0887"
             ],
             [
              0.1111111111111111,
              "#46039f"
             ],
             [
              0.2222222222222222,
              "#7201a8"
             ],
             [
              0.3333333333333333,
              "#9c179e"
             ],
             [
              0.4444444444444444,
              "#bd3786"
             ],
             [
              0.5555555555555556,
              "#d8576b"
             ],
             [
              0.6666666666666666,
              "#ed7953"
             ],
             [
              0.7777777777777778,
              "#fb9f3a"
             ],
             [
              0.8888888888888888,
              "#fdca26"
             ],
             [
              1,
              "#f0f921"
             ]
            ],
            "type": "histogram2d"
           }
          ],
          "histogram2dcontour": [
           {
            "colorbar": {
             "outlinewidth": 0,
             "ticks": ""
            },
            "colorscale": [
             [
              0,
              "#0d0887"
             ],
             [
              0.1111111111111111,
              "#46039f"
             ],
             [
              0.2222222222222222,
              "#7201a8"
             ],
             [
              0.3333333333333333,
              "#9c179e"
             ],
             [
              0.4444444444444444,
              "#bd3786"
             ],
             [
              0.5555555555555556,
              "#d8576b"
             ],
             [
              0.6666666666666666,
              "#ed7953"
             ],
             [
              0.7777777777777778,
              "#fb9f3a"
             ],
             [
              0.8888888888888888,
              "#fdca26"
             ],
             [
              1,
              "#f0f921"
             ]
            ],
            "type": "histogram2dcontour"
           }
          ],
          "mesh3d": [
           {
            "colorbar": {
             "outlinewidth": 0,
             "ticks": ""
            },
            "type": "mesh3d"
           }
          ],
          "parcoords": [
           {
            "line": {
             "colorbar": {
              "outlinewidth": 0,
              "ticks": ""
             }
            },
            "type": "parcoords"
           }
          ],
          "pie": [
           {
            "automargin": true,
            "type": "pie"
           }
          ],
          "scatter": [
           {
            "fillpattern": {
             "fillmode": "overlay",
             "size": 10,
             "solidity": 0.2
            },
            "type": "scatter"
           }
          ],
          "scatter3d": [
           {
            "line": {
             "colorbar": {
              "outlinewidth": 0,
              "ticks": ""
             }
            },
            "marker": {
             "colorbar": {
              "outlinewidth": 0,
              "ticks": ""
             }
            },
            "type": "scatter3d"
           }
          ],
          "scattercarpet": [
           {
            "marker": {
             "colorbar": {
              "outlinewidth": 0,
              "ticks": ""
             }
            },
            "type": "scattercarpet"
           }
          ],
          "scattergeo": [
           {
            "marker": {
             "colorbar": {
              "outlinewidth": 0,
              "ticks": ""
             }
            },
            "type": "scattergeo"
           }
          ],
          "scattergl": [
           {
            "marker": {
             "colorbar": {
              "outlinewidth": 0,
              "ticks": ""
             }
            },
            "type": "scattergl"
           }
          ],
          "scattermapbox": [
           {
            "marker": {
             "colorbar": {
              "outlinewidth": 0,
              "ticks": ""
             }
            },
            "type": "scattermapbox"
           }
          ],
          "scatterpolar": [
           {
            "marker": {
             "colorbar": {
              "outlinewidth": 0,
              "ticks": ""
             }
            },
            "type": "scatterpolar"
           }
          ],
          "scatterpolargl": [
           {
            "marker": {
             "colorbar": {
              "outlinewidth": 0,
              "ticks": ""
             }
            },
            "type": "scatterpolargl"
           }
          ],
          "scatterternary": [
           {
            "marker": {
             "colorbar": {
              "outlinewidth": 0,
              "ticks": ""
             }
            },
            "type": "scatterternary"
           }
          ],
          "surface": [
           {
            "colorbar": {
             "outlinewidth": 0,
             "ticks": ""
            },
            "colorscale": [
             [
              0,
              "#0d0887"
             ],
             [
              0.1111111111111111,
              "#46039f"
             ],
             [
              0.2222222222222222,
              "#7201a8"
             ],
             [
              0.3333333333333333,
              "#9c179e"
             ],
             [
              0.4444444444444444,
              "#bd3786"
             ],
             [
              0.5555555555555556,
              "#d8576b"
             ],
             [
              0.6666666666666666,
              "#ed7953"
             ],
             [
              0.7777777777777778,
              "#fb9f3a"
             ],
             [
              0.8888888888888888,
              "#fdca26"
             ],
             [
              1,
              "#f0f921"
             ]
            ],
            "type": "surface"
           }
          ],
          "table": [
           {
            "cells": {
             "fill": {
              "color": "#EBF0F8"
             },
             "line": {
              "color": "white"
             }
            },
            "header": {
             "fill": {
              "color": "#C8D4E3"
             },
             "line": {
              "color": "white"
             }
            },
            "type": "table"
           }
          ]
         },
         "layout": {
          "annotationdefaults": {
           "arrowcolor": "#2a3f5f",
           "arrowhead": 0,
           "arrowwidth": 1
          },
          "autotypenumbers": "strict",
          "coloraxis": {
           "colorbar": {
            "outlinewidth": 0,
            "ticks": ""
           }
          },
          "colorscale": {
           "diverging": [
            [
             0,
             "#8e0152"
            ],
            [
             0.1,
             "#c51b7d"
            ],
            [
             0.2,
             "#de77ae"
            ],
            [
             0.3,
             "#f1b6da"
            ],
            [
             0.4,
             "#fde0ef"
            ],
            [
             0.5,
             "#f7f7f7"
            ],
            [
             0.6,
             "#e6f5d0"
            ],
            [
             0.7,
             "#b8e186"
            ],
            [
             0.8,
             "#7fbc41"
            ],
            [
             0.9,
             "#4d9221"
            ],
            [
             1,
             "#276419"
            ]
           ],
           "sequential": [
            [
             0,
             "#0d0887"
            ],
            [
             0.1111111111111111,
             "#46039f"
            ],
            [
             0.2222222222222222,
             "#7201a8"
            ],
            [
             0.3333333333333333,
             "#9c179e"
            ],
            [
             0.4444444444444444,
             "#bd3786"
            ],
            [
             0.5555555555555556,
             "#d8576b"
            ],
            [
             0.6666666666666666,
             "#ed7953"
            ],
            [
             0.7777777777777778,
             "#fb9f3a"
            ],
            [
             0.8888888888888888,
             "#fdca26"
            ],
            [
             1,
             "#f0f921"
            ]
           ],
           "sequentialminus": [
            [
             0,
             "#0d0887"
            ],
            [
             0.1111111111111111,
             "#46039f"
            ],
            [
             0.2222222222222222,
             "#7201a8"
            ],
            [
             0.3333333333333333,
             "#9c179e"
            ],
            [
             0.4444444444444444,
             "#bd3786"
            ],
            [
             0.5555555555555556,
             "#d8576b"
            ],
            [
             0.6666666666666666,
             "#ed7953"
            ],
            [
             0.7777777777777778,
             "#fb9f3a"
            ],
            [
             0.8888888888888888,
             "#fdca26"
            ],
            [
             1,
             "#f0f921"
            ]
           ]
          },
          "colorway": [
           "#636efa",
           "#EF553B",
           "#00cc96",
           "#ab63fa",
           "#FFA15A",
           "#19d3f3",
           "#FF6692",
           "#B6E880",
           "#FF97FF",
           "#FECB52"
          ],
          "font": {
           "color": "#2a3f5f"
          },
          "geo": {
           "bgcolor": "white",
           "lakecolor": "white",
           "landcolor": "#E5ECF6",
           "showlakes": true,
           "showland": true,
           "subunitcolor": "white"
          },
          "hoverlabel": {
           "align": "left"
          },
          "hovermode": "closest",
          "mapbox": {
           "style": "light"
          },
          "paper_bgcolor": "white",
          "plot_bgcolor": "#E5ECF6",
          "polar": {
           "angularaxis": {
            "gridcolor": "white",
            "linecolor": "white",
            "ticks": ""
           },
           "bgcolor": "#E5ECF6",
           "radialaxis": {
            "gridcolor": "white",
            "linecolor": "white",
            "ticks": ""
           }
          },
          "scene": {
           "xaxis": {
            "backgroundcolor": "#E5ECF6",
            "gridcolor": "white",
            "gridwidth": 2,
            "linecolor": "white",
            "showbackground": true,
            "ticks": "",
            "zerolinecolor": "white"
           },
           "yaxis": {
            "backgroundcolor": "#E5ECF6",
            "gridcolor": "white",
            "gridwidth": 2,
            "linecolor": "white",
            "showbackground": true,
            "ticks": "",
            "zerolinecolor": "white"
           },
           "zaxis": {
            "backgroundcolor": "#E5ECF6",
            "gridcolor": "white",
            "gridwidth": 2,
            "linecolor": "white",
            "showbackground": true,
            "ticks": "",
            "zerolinecolor": "white"
           }
          },
          "shapedefaults": {
           "line": {
            "color": "#2a3f5f"
           }
          },
          "ternary": {
           "aaxis": {
            "gridcolor": "white",
            "linecolor": "white",
            "ticks": ""
           },
           "baxis": {
            "gridcolor": "white",
            "linecolor": "white",
            "ticks": ""
           },
           "bgcolor": "#E5ECF6",
           "caxis": {
            "gridcolor": "white",
            "linecolor": "white",
            "ticks": ""
           }
          },
          "title": {
           "x": 0.05
          },
          "xaxis": {
           "automargin": true,
           "gridcolor": "white",
           "linecolor": "white",
           "ticks": "",
           "title": {
            "standoff": 15
           },
           "zerolinecolor": "white",
           "zerolinewidth": 2
          },
          "yaxis": {
           "automargin": true,
           "gridcolor": "white",
           "linecolor": "white",
           "ticks": "",
           "title": {
            "standoff": 15
           },
           "zerolinecolor": "white",
           "zerolinewidth": 2
          }
         }
        },
        "xaxis": {
         "anchor": "y",
         "domain": [
          0,
          1
         ],
         "title": {
          "text": "predicted_value"
         }
        },
        "yaxis": {
         "anchor": "x",
         "domain": [
          0,
          1
         ],
         "title": {
          "text": "market_value_in_million_eur"
         }
        }
       }
      }
     },
     "metadata": {},
     "output_type": "display_data"
    }
   ],
   "source": [
    "forecast_df, regressor, y_test = predict_future_values(    pdf_train, \n",
    "    pdf_test, [2023, 2024, 2025, 2026, 2027, 2028], features)"
   ]
  },
  {
   "cell_type": "code",
   "execution_count": 30,
   "id": "6e2a600c",
   "metadata": {},
   "outputs": [],
   "source": [
    "# Merge with actual market values for evaluation\n",
    "\n",
    "merged = forecast_df.merge(pdf_test[[\"player_id\", \"name\"]], on=[\"player_id\"], how=\"left\")\n",
    "end = time.time()\n",
    "diff = end - start"
   ]
  },
  {
   "cell_type": "code",
   "execution_count": 31,
   "id": "82a7259f",
   "metadata": {},
   "outputs": [],
   "source": [
    "# plot_decision_tree_importance(regressor.best_estimator_, features)"
   ]
  },
  {
   "cell_type": "code",
   "execution_count": 32,
   "id": "073662f5",
   "metadata": {},
   "outputs": [
    {
     "data": {
      "application/vnd.plotly.v1+json": {
       "config": {
        "plotlyServerURL": "https://plot.ly"
       },
       "data": [
        {
         "customdata": [
          [
           22
          ],
          [
           23
          ],
          [
           24
          ],
          [
           25
          ],
          [
           27
          ],
          [
           27
          ],
          [
           28
          ],
          [
           30
          ],
          [
           30
          ],
          [
           31
          ],
          [
           32
          ],
          [
           33
          ],
          [
           34
          ],
          [
           35
          ]
         ],
         "hovertemplate": "name=Mohamed Salah<br>year=%{x}<br>predicted_value=%{y}<br>age=%{customdata[0]}<extra></extra>",
         "legendgroup": "Mohamed Salah",
         "line": {
          "color": "#636efa",
          "dash": "solid"
         },
         "marker": {
          "symbol": "circle"
         },
         "mode": "lines",
         "name": "Mohamed Salah",
         "orientation": "v",
         "showlegend": true,
         "type": "scatter",
         "x": [
          2015,
          2016,
          2017,
          2018,
          2019,
          2020,
          2021,
          2022,
          2023,
          2024,
          2025,
          2026,
          2027,
          2028
         ],
         "xaxis": "x",
         "y": [
          10,
          20,
          30,
          80,
          150,
          120,
          110,
          90,
          76.83702850341797,
          61.8585090637207,
          47.745731353759766,
          37.9787712097168,
          25.006000518798828,
          21.771528244018555
         ],
         "yaxis": "y"
        },
        {
         "customdata": [
          [
           19
          ],
          [
           20
          ],
          [
           21
          ],
          [
           22
          ],
          [
           23
          ],
          [
           24
          ],
          [
           25
          ],
          [
           26
          ],
          [
           27
          ],
          [
           28
          ],
          [
           29
          ],
          [
           30
          ],
          [
           31
          ]
         ],
         "hovertemplate": "name=Wilfred Ndidi<br>year=%{x}<br>predicted_value=%{y}<br>age=%{customdata[0]}<extra></extra>",
         "legendgroup": "Wilfred Ndidi",
         "line": {
          "color": "#EF553B",
          "dash": "solid"
         },
         "marker": {
          "symbol": "circle"
         },
         "mode": "lines",
         "name": "Wilfred Ndidi",
         "orientation": "v",
         "showlegend": true,
         "type": "scatter",
         "x": [
          2016,
          2017,
          2018,
          2019,
          2020,
          2021,
          2022,
          2023,
          2024,
          2025,
          2026,
          2027,
          2028
         ],
         "xaxis": "x",
         "y": [
          1,
          14,
          18,
          35,
          36,
          50,
          60,
          56.70785903930664,
          48.09359359741211,
          46.86509704589844,
          39.23772430419922,
          31.82441520690918,
          25.590274810791016
         ],
         "yaxis": "y"
        },
        {
         "customdata": [
          [
           18
          ],
          [
           20
          ],
          [
           21
          ],
          [
           22
          ],
          [
           23
          ],
          [
           24
          ],
          [
           25
          ],
          [
           26
          ],
          [
           27
          ],
          [
           28
          ],
          [
           29
          ]
         ],
         "hovertemplate": "name=Declan Rice<br>year=%{x}<br>predicted_value=%{y}<br>age=%{customdata[0]}<extra></extra>",
         "legendgroup": "Declan Rice",
         "line": {
          "color": "#00cc96",
          "dash": "solid"
         },
         "marker": {
          "symbol": "circle"
         },
         "mode": "lines",
         "name": "Declan Rice",
         "orientation": "v",
         "showlegend": true,
         "type": "scatter",
         "x": [
          2018,
          2019,
          2020,
          2021,
          2022,
          2023,
          2024,
          2025,
          2026,
          2027,
          2028
         ],
         "xaxis": "x",
         "y": [
          2,
          35,
          49.5,
          60,
          80,
          78.48530578613281,
          62.337669372558594,
          56.1862907409668,
          48.05558395385742,
          46.86944580078125,
          39.2471923828125
         ],
         "yaxis": "y"
        },
        {
         "customdata": [
          [
           17
          ],
          [
           18
          ],
          [
           18
          ],
          [
           19
          ],
          [
           20
          ],
          [
           21
          ],
          [
           22
          ],
          [
           23
          ],
          [
           24
          ],
          [
           25
          ],
          [
           26
          ],
          [
           27
          ]
         ],
         "hovertemplate": "name=Erling Haaland<br>year=%{x}<br>predicted_value=%{y}<br>age=%{customdata[0]}<extra></extra>",
         "legendgroup": "Erling Haaland",
         "line": {
          "color": "#ab63fa",
          "dash": "solid"
         },
         "marker": {
          "symbol": "circle"
         },
         "mode": "lines",
         "name": "Erling Haaland",
         "orientation": "v",
         "showlegend": true,
         "type": "scatter",
         "x": [
          2017,
          2018,
          2019,
          2020,
          2021,
          2022,
          2023,
          2024,
          2025,
          2026,
          2027,
          2028
         ],
         "xaxis": "x",
         "y": [
          0.3,
          2,
          5,
          60,
          110,
          150,
          126.08568572998047,
          109.00456237792969,
          83.2921371459961,
          67.74411010742188,
          60.392215728759766,
          55.24943923950195
         ],
         "yaxis": "y"
        },
        {
         "customdata": [
          [
           17
          ],
          [
           17
          ],
          [
           18
          ],
          [
           20
          ],
          [
           21
          ],
          [
           22
          ],
          [
           23
          ],
          [
           24
          ],
          [
           25
          ]
         ],
         "hovertemplate": "name=Harvey Elliott<br>year=%{x}<br>predicted_value=%{y}<br>age=%{customdata[0]}<extra></extra>",
         "legendgroup": "Harvey Elliott",
         "line": {
          "color": "#FFA15A",
          "dash": "solid"
         },
         "marker": {
          "symbol": "circle"
         },
         "mode": "lines",
         "name": "Harvey Elliott",
         "orientation": "v",
         "showlegend": true,
         "type": "scatter",
         "x": [
          2020,
          2021,
          2022,
          2023,
          2024,
          2025,
          2026,
          2027,
          2028
         ],
         "xaxis": "x",
         "y": [
          3.6,
          15,
          22,
          28.457443237304688,
          29.927249908447266,
          30.10093879699707,
          31.283998489379883,
          31.331478118896484,
          31.331478118896484
         ],
         "yaxis": "y"
        },
        {
         "customdata": [
          [
           20
          ],
          [
           21
          ],
          [
           22
          ],
          [
           23
          ],
          [
           24
          ],
          [
           25
          ],
          [
           26
          ]
         ],
         "hovertemplate": "name=Cole Palmer<br>year=%{x}<br>predicted_value=%{y}<br>age=%{customdata[0]}<extra></extra>",
         "legendgroup": "Cole Palmer",
         "line": {
          "color": "#19d3f3",
          "dash": "solid"
         },
         "marker": {
          "symbol": "circle"
         },
         "mode": "lines",
         "name": "Cole Palmer",
         "orientation": "v",
         "showlegend": true,
         "type": "scatter",
         "x": [
          2022,
          2023,
          2024,
          2025,
          2026,
          2027,
          2028
         ],
         "xaxis": "x",
         "y": [
          6,
          9.751605033874512,
          12.352726936340332,
          14.381802558898926,
          15.092670440673828,
          17.31363296508789,
          17.813547134399414
         ],
         "yaxis": "y"
        },
        {
         "customdata": [
          [
           17
          ],
          [
           18
          ],
          [
           19
          ],
          [
           20
          ],
          [
           21
          ],
          [
           22
          ]
         ],
         "hovertemplate": "name=Ashley Phillips<br>year=%{x}<br>predicted_value=%{y}<br>age=%{customdata[0]}<extra></extra>",
         "legendgroup": "Ashley Phillips",
         "line": {
          "color": "#FF6692",
          "dash": "solid"
         },
         "marker": {
          "symbol": "circle"
         },
         "mode": "lines",
         "name": "Ashley Phillips",
         "orientation": "v",
         "showlegend": true,
         "type": "scatter",
         "x": [
          2023,
          2024,
          2025,
          2026,
          2027,
          2028
         ],
         "xaxis": "x",
         "y": [
          4.870706558227539,
          7.15293025970459,
          10.581512451171875,
          15.515103340148926,
          19.626317977905273,
          20.572677612304688
         ],
         "yaxis": "y"
        }
       ],
       "layout": {
        "annotations": [
         {
          "showarrow": false,
          "text": "2022/2023 boundary",
          "x": 2022.5,
          "xanchor": "left",
          "xref": "x",
          "y": 1,
          "yanchor": "top",
          "yref": "y domain"
         }
        ],
        "legend": {
         "title": {
          "text": "name"
         },
         "tracegroupgap": 0
        },
        "shapes": [
         {
          "line": {
           "color": "red",
           "dash": "dash"
          },
          "type": "line",
          "x0": 2022.5,
          "x1": 2022.5,
          "xref": "x",
          "y0": 0,
          "y1": 1,
          "yref": "y domain"
         }
        ],
        "template": {
         "data": {
          "bar": [
           {
            "error_x": {
             "color": "#2a3f5f"
            },
            "error_y": {
             "color": "#2a3f5f"
            },
            "marker": {
             "line": {
              "color": "#E5ECF6",
              "width": 0.5
             },
             "pattern": {
              "fillmode": "overlay",
              "size": 10,
              "solidity": 0.2
             }
            },
            "type": "bar"
           }
          ],
          "barpolar": [
           {
            "marker": {
             "line": {
              "color": "#E5ECF6",
              "width": 0.5
             },
             "pattern": {
              "fillmode": "overlay",
              "size": 10,
              "solidity": 0.2
             }
            },
            "type": "barpolar"
           }
          ],
          "carpet": [
           {
            "aaxis": {
             "endlinecolor": "#2a3f5f",
             "gridcolor": "white",
             "linecolor": "white",
             "minorgridcolor": "white",
             "startlinecolor": "#2a3f5f"
            },
            "baxis": {
             "endlinecolor": "#2a3f5f",
             "gridcolor": "white",
             "linecolor": "white",
             "minorgridcolor": "white",
             "startlinecolor": "#2a3f5f"
            },
            "type": "carpet"
           }
          ],
          "choropleth": [
           {
            "colorbar": {
             "outlinewidth": 0,
             "ticks": ""
            },
            "type": "choropleth"
           }
          ],
          "contour": [
           {
            "colorbar": {
             "outlinewidth": 0,
             "ticks": ""
            },
            "colorscale": [
             [
              0,
              "#0d0887"
             ],
             [
              0.1111111111111111,
              "#46039f"
             ],
             [
              0.2222222222222222,
              "#7201a8"
             ],
             [
              0.3333333333333333,
              "#9c179e"
             ],
             [
              0.4444444444444444,
              "#bd3786"
             ],
             [
              0.5555555555555556,
              "#d8576b"
             ],
             [
              0.6666666666666666,
              "#ed7953"
             ],
             [
              0.7777777777777778,
              "#fb9f3a"
             ],
             [
              0.8888888888888888,
              "#fdca26"
             ],
             [
              1,
              "#f0f921"
             ]
            ],
            "type": "contour"
           }
          ],
          "contourcarpet": [
           {
            "colorbar": {
             "outlinewidth": 0,
             "ticks": ""
            },
            "type": "contourcarpet"
           }
          ],
          "heatmap": [
           {
            "colorbar": {
             "outlinewidth": 0,
             "ticks": ""
            },
            "colorscale": [
             [
              0,
              "#0d0887"
             ],
             [
              0.1111111111111111,
              "#46039f"
             ],
             [
              0.2222222222222222,
              "#7201a8"
             ],
             [
              0.3333333333333333,
              "#9c179e"
             ],
             [
              0.4444444444444444,
              "#bd3786"
             ],
             [
              0.5555555555555556,
              "#d8576b"
             ],
             [
              0.6666666666666666,
              "#ed7953"
             ],
             [
              0.7777777777777778,
              "#fb9f3a"
             ],
             [
              0.8888888888888888,
              "#fdca26"
             ],
             [
              1,
              "#f0f921"
             ]
            ],
            "type": "heatmap"
           }
          ],
          "heatmapgl": [
           {
            "colorbar": {
             "outlinewidth": 0,
             "ticks": ""
            },
            "colorscale": [
             [
              0,
              "#0d0887"
             ],
             [
              0.1111111111111111,
              "#46039f"
             ],
             [
              0.2222222222222222,
              "#7201a8"
             ],
             [
              0.3333333333333333,
              "#9c179e"
             ],
             [
              0.4444444444444444,
              "#bd3786"
             ],
             [
              0.5555555555555556,
              "#d8576b"
             ],
             [
              0.6666666666666666,
              "#ed7953"
             ],
             [
              0.7777777777777778,
              "#fb9f3a"
             ],
             [
              0.8888888888888888,
              "#fdca26"
             ],
             [
              1,
              "#f0f921"
             ]
            ],
            "type": "heatmapgl"
           }
          ],
          "histogram": [
           {
            "marker": {
             "pattern": {
              "fillmode": "overlay",
              "size": 10,
              "solidity": 0.2
             }
            },
            "type": "histogram"
           }
          ],
          "histogram2d": [
           {
            "colorbar": {
             "outlinewidth": 0,
             "ticks": ""
            },
            "colorscale": [
             [
              0,
              "#0d0887"
             ],
             [
              0.1111111111111111,
              "#46039f"
             ],
             [
              0.2222222222222222,
              "#7201a8"
             ],
             [
              0.3333333333333333,
              "#9c179e"
             ],
             [
              0.4444444444444444,
              "#bd3786"
             ],
             [
              0.5555555555555556,
              "#d8576b"
             ],
             [
              0.6666666666666666,
              "#ed7953"
             ],
             [
              0.7777777777777778,
              "#fb9f3a"
             ],
             [
              0.8888888888888888,
              "#fdca26"
             ],
             [
              1,
              "#f0f921"
             ]
            ],
            "type": "histogram2d"
           }
          ],
          "histogram2dcontour": [
           {
            "colorbar": {
             "outlinewidth": 0,
             "ticks": ""
            },
            "colorscale": [
             [
              0,
              "#0d0887"
             ],
             [
              0.1111111111111111,
              "#46039f"
             ],
             [
              0.2222222222222222,
              "#7201a8"
             ],
             [
              0.3333333333333333,
              "#9c179e"
             ],
             [
              0.4444444444444444,
              "#bd3786"
             ],
             [
              0.5555555555555556,
              "#d8576b"
             ],
             [
              0.6666666666666666,
              "#ed7953"
             ],
             [
              0.7777777777777778,
              "#fb9f3a"
             ],
             [
              0.8888888888888888,
              "#fdca26"
             ],
             [
              1,
              "#f0f921"
             ]
            ],
            "type": "histogram2dcontour"
           }
          ],
          "mesh3d": [
           {
            "colorbar": {
             "outlinewidth": 0,
             "ticks": ""
            },
            "type": "mesh3d"
           }
          ],
          "parcoords": [
           {
            "line": {
             "colorbar": {
              "outlinewidth": 0,
              "ticks": ""
             }
            },
            "type": "parcoords"
           }
          ],
          "pie": [
           {
            "automargin": true,
            "type": "pie"
           }
          ],
          "scatter": [
           {
            "fillpattern": {
             "fillmode": "overlay",
             "size": 10,
             "solidity": 0.2
            },
            "type": "scatter"
           }
          ],
          "scatter3d": [
           {
            "line": {
             "colorbar": {
              "outlinewidth": 0,
              "ticks": ""
             }
            },
            "marker": {
             "colorbar": {
              "outlinewidth": 0,
              "ticks": ""
             }
            },
            "type": "scatter3d"
           }
          ],
          "scattercarpet": [
           {
            "marker": {
             "colorbar": {
              "outlinewidth": 0,
              "ticks": ""
             }
            },
            "type": "scattercarpet"
           }
          ],
          "scattergeo": [
           {
            "marker": {
             "colorbar": {
              "outlinewidth": 0,
              "ticks": ""
             }
            },
            "type": "scattergeo"
           }
          ],
          "scattergl": [
           {
            "marker": {
             "colorbar": {
              "outlinewidth": 0,
              "ticks": ""
             }
            },
            "type": "scattergl"
           }
          ],
          "scattermapbox": [
           {
            "marker": {
             "colorbar": {
              "outlinewidth": 0,
              "ticks": ""
             }
            },
            "type": "scattermapbox"
           }
          ],
          "scatterpolar": [
           {
            "marker": {
             "colorbar": {
              "outlinewidth": 0,
              "ticks": ""
             }
            },
            "type": "scatterpolar"
           }
          ],
          "scatterpolargl": [
           {
            "marker": {
             "colorbar": {
              "outlinewidth": 0,
              "ticks": ""
             }
            },
            "type": "scatterpolargl"
           }
          ],
          "scatterternary": [
           {
            "marker": {
             "colorbar": {
              "outlinewidth": 0,
              "ticks": ""
             }
            },
            "type": "scatterternary"
           }
          ],
          "surface": [
           {
            "colorbar": {
             "outlinewidth": 0,
             "ticks": ""
            },
            "colorscale": [
             [
              0,
              "#0d0887"
             ],
             [
              0.1111111111111111,
              "#46039f"
             ],
             [
              0.2222222222222222,
              "#7201a8"
             ],
             [
              0.3333333333333333,
              "#9c179e"
             ],
             [
              0.4444444444444444,
              "#bd3786"
             ],
             [
              0.5555555555555556,
              "#d8576b"
             ],
             [
              0.6666666666666666,
              "#ed7953"
             ],
             [
              0.7777777777777778,
              "#fb9f3a"
             ],
             [
              0.8888888888888888,
              "#fdca26"
             ],
             [
              1,
              "#f0f921"
             ]
            ],
            "type": "surface"
           }
          ],
          "table": [
           {
            "cells": {
             "fill": {
              "color": "#EBF0F8"
             },
             "line": {
              "color": "white"
             }
            },
            "header": {
             "fill": {
              "color": "#C8D4E3"
             },
             "line": {
              "color": "white"
             }
            },
            "type": "table"
           }
          ]
         },
         "layout": {
          "annotationdefaults": {
           "arrowcolor": "#2a3f5f",
           "arrowhead": 0,
           "arrowwidth": 1
          },
          "autotypenumbers": "strict",
          "coloraxis": {
           "colorbar": {
            "outlinewidth": 0,
            "ticks": ""
           }
          },
          "colorscale": {
           "diverging": [
            [
             0,
             "#8e0152"
            ],
            [
             0.1,
             "#c51b7d"
            ],
            [
             0.2,
             "#de77ae"
            ],
            [
             0.3,
             "#f1b6da"
            ],
            [
             0.4,
             "#fde0ef"
            ],
            [
             0.5,
             "#f7f7f7"
            ],
            [
             0.6,
             "#e6f5d0"
            ],
            [
             0.7,
             "#b8e186"
            ],
            [
             0.8,
             "#7fbc41"
            ],
            [
             0.9,
             "#4d9221"
            ],
            [
             1,
             "#276419"
            ]
           ],
           "sequential": [
            [
             0,
             "#0d0887"
            ],
            [
             0.1111111111111111,
             "#46039f"
            ],
            [
             0.2222222222222222,
             "#7201a8"
            ],
            [
             0.3333333333333333,
             "#9c179e"
            ],
            [
             0.4444444444444444,
             "#bd3786"
            ],
            [
             0.5555555555555556,
             "#d8576b"
            ],
            [
             0.6666666666666666,
             "#ed7953"
            ],
            [
             0.7777777777777778,
             "#fb9f3a"
            ],
            [
             0.8888888888888888,
             "#fdca26"
            ],
            [
             1,
             "#f0f921"
            ]
           ],
           "sequentialminus": [
            [
             0,
             "#0d0887"
            ],
            [
             0.1111111111111111,
             "#46039f"
            ],
            [
             0.2222222222222222,
             "#7201a8"
            ],
            [
             0.3333333333333333,
             "#9c179e"
            ],
            [
             0.4444444444444444,
             "#bd3786"
            ],
            [
             0.5555555555555556,
             "#d8576b"
            ],
            [
             0.6666666666666666,
             "#ed7953"
            ],
            [
             0.7777777777777778,
             "#fb9f3a"
            ],
            [
             0.8888888888888888,
             "#fdca26"
            ],
            [
             1,
             "#f0f921"
            ]
           ]
          },
          "colorway": [
           "#636efa",
           "#EF553B",
           "#00cc96",
           "#ab63fa",
           "#FFA15A",
           "#19d3f3",
           "#FF6692",
           "#B6E880",
           "#FF97FF",
           "#FECB52"
          ],
          "font": {
           "color": "#2a3f5f"
          },
          "geo": {
           "bgcolor": "white",
           "lakecolor": "white",
           "landcolor": "#E5ECF6",
           "showlakes": true,
           "showland": true,
           "subunitcolor": "white"
          },
          "hoverlabel": {
           "align": "left"
          },
          "hovermode": "closest",
          "mapbox": {
           "style": "light"
          },
          "paper_bgcolor": "white",
          "plot_bgcolor": "#E5ECF6",
          "polar": {
           "angularaxis": {
            "gridcolor": "white",
            "linecolor": "white",
            "ticks": ""
           },
           "bgcolor": "#E5ECF6",
           "radialaxis": {
            "gridcolor": "white",
            "linecolor": "white",
            "ticks": ""
           }
          },
          "scene": {
           "xaxis": {
            "backgroundcolor": "#E5ECF6",
            "gridcolor": "white",
            "gridwidth": 2,
            "linecolor": "white",
            "showbackground": true,
            "ticks": "",
            "zerolinecolor": "white"
           },
           "yaxis": {
            "backgroundcolor": "#E5ECF6",
            "gridcolor": "white",
            "gridwidth": 2,
            "linecolor": "white",
            "showbackground": true,
            "ticks": "",
            "zerolinecolor": "white"
           },
           "zaxis": {
            "backgroundcolor": "#E5ECF6",
            "gridcolor": "white",
            "gridwidth": 2,
            "linecolor": "white",
            "showbackground": true,
            "ticks": "",
            "zerolinecolor": "white"
           }
          },
          "shapedefaults": {
           "line": {
            "color": "#2a3f5f"
           }
          },
          "ternary": {
           "aaxis": {
            "gridcolor": "white",
            "linecolor": "white",
            "ticks": ""
           },
           "baxis": {
            "gridcolor": "white",
            "linecolor": "white",
            "ticks": ""
           },
           "bgcolor": "#E5ECF6",
           "caxis": {
            "gridcolor": "white",
            "linecolor": "white",
            "ticks": ""
           }
          },
          "title": {
           "x": 0.05
          },
          "xaxis": {
           "automargin": true,
           "gridcolor": "white",
           "linecolor": "white",
           "ticks": "",
           "title": {
            "standoff": 15
           },
           "zerolinecolor": "white",
           "zerolinewidth": 2
          },
          "yaxis": {
           "automargin": true,
           "gridcolor": "white",
           "linecolor": "white",
           "ticks": "",
           "title": {
            "standoff": 15
           },
           "zerolinecolor": "white",
           "zerolinewidth": 2
          }
         }
        },
        "title": {
         "text": "Predicted Market Values for Selected Players"
        },
        "xaxis": {
         "anchor": "y",
         "domain": [
          0,
          1
         ],
         "title": {
          "text": "year"
         }
        },
        "yaxis": {
         "anchor": "x",
         "domain": [
          0,
          1
         ],
         "title": {
          "text": "predicted_value"
         }
        }
       }
      }
     },
     "metadata": {},
     "output_type": "display_data"
    }
   ],
   "source": [
    "players = [418560, 357662, 565822, 859951, 148455, 274839, 542580, 568177]\n",
    "plot_player_value_trends(pdf_train, merged_df=merged, player_ids=players)\n"
   ]
  },
  {
   "cell_type": "code",
   "execution_count": 33,
   "id": "ffe03298",
   "metadata": {},
   "outputs": [
    {
     "name": "stderr",
     "output_type": "stream",
     "text": [
      "C:\\Users\\tomkn\\AppData\\Local\\Temp\\ipykernel_2900\\2121820575.py:2: SettingWithCopyWarning:\n",
      "\n",
      "\n",
      "A value is trying to be set on a copy of a slice from a DataFrame.\n",
      "Try using .loc[row_indexer,col_indexer] = value instead\n",
      "\n",
      "See the caveats in the documentation: https://pandas.pydata.org/pandas-docs/stable/user_guide/indexing.html#returning-a-view-versus-a-copy\n",
      "\n"
     ]
    }
   ],
   "source": [
    "output_df = merged.query(\"year == 2023\")\n",
    "output_df[\"actual_value\"] = y_test.values\n"
   ]
  },
  {
   "cell_type": "code",
   "execution_count": 34,
   "id": "bd4f4640",
   "metadata": {},
   "outputs": [
    {
     "name": "stderr",
     "output_type": "stream",
     "text": [
      "C:\\Users\\tomkn\\AppData\\Local\\Temp\\ipykernel_2900\\1487859311.py:1: SettingWithCopyWarning:\n",
      "\n",
      "\n",
      "A value is trying to be set on a copy of a slice from a DataFrame.\n",
      "Try using .loc[row_indexer,col_indexer] = value instead\n",
      "\n",
      "See the caveats in the documentation: https://pandas.pydata.org/pandas-docs/stable/user_guide/indexing.html#returning-a-view-versus-a-copy\n",
      "\n",
      "C:\\Users\\tomkn\\AppData\\Local\\Temp\\ipykernel_2900\\1487859311.py:2: SettingWithCopyWarning:\n",
      "\n",
      "\n",
      "A value is trying to be set on a copy of a slice from a DataFrame.\n",
      "Try using .loc[row_indexer,col_indexer] = value instead\n",
      "\n",
      "See the caveats in the documentation: https://pandas.pydata.org/pandas-docs/stable/user_guide/indexing.html#returning-a-view-versus-a-copy\n",
      "\n",
      "C:\\Users\\tomkn\\AppData\\Local\\Temp\\ipykernel_2900\\1487859311.py:3: SettingWithCopyWarning:\n",
      "\n",
      "\n",
      "A value is trying to be set on a copy of a slice from a DataFrame.\n",
      "Try using .loc[row_indexer,col_indexer] = value instead\n",
      "\n",
      "See the caveats in the documentation: https://pandas.pydata.org/pandas-docs/stable/user_guide/indexing.html#returning-a-view-versus-a-copy\n",
      "\n",
      "C:\\Users\\tomkn\\AppData\\Local\\Temp\\ipykernel_2900\\1487859311.py:4: SettingWithCopyWarning:\n",
      "\n",
      "\n",
      "A value is trying to be set on a copy of a slice from a DataFrame.\n",
      "Try using .loc[row_indexer,col_indexer] = value instead\n",
      "\n",
      "See the caveats in the documentation: https://pandas.pydata.org/pandas-docs/stable/user_guide/indexing.html#returning-a-view-versus-a-copy\n",
      "\n",
      "C:\\Users\\tomkn\\AppData\\Local\\Temp\\ipykernel_2900\\1487859311.py:5: SettingWithCopyWarning:\n",
      "\n",
      "\n",
      "A value is trying to be set on a copy of a slice from a DataFrame.\n",
      "Try using .loc[row_indexer,col_indexer] = value instead\n",
      "\n",
      "See the caveats in the documentation: https://pandas.pydata.org/pandas-docs/stable/user_guide/indexing.html#returning-a-view-versus-a-copy\n",
      "\n",
      "C:\\Users\\tomkn\\AppData\\Local\\Temp\\ipykernel_2900\\1487859311.py:6: SettingWithCopyWarning:\n",
      "\n",
      "\n",
      "A value is trying to be set on a copy of a slice from a DataFrame.\n",
      "Try using .loc[row_indexer,col_indexer] = value instead\n",
      "\n",
      "See the caveats in the documentation: https://pandas.pydata.org/pandas-docs/stable/user_guide/indexing.html#returning-a-view-versus-a-copy\n",
      "\n",
      "C:\\Users\\tomkn\\AppData\\Local\\Temp\\ipykernel_2900\\1487859311.py:7: SettingWithCopyWarning:\n",
      "\n",
      "\n",
      "A value is trying to be set on a copy of a slice from a DataFrame.\n",
      "Try using .loc[row_indexer,col_indexer] = value instead\n",
      "\n",
      "See the caveats in the documentation: https://pandas.pydata.org/pandas-docs/stable/user_guide/indexing.html#returning-a-view-versus-a-copy\n",
      "\n"
     ]
    }
   ],
   "source": [
    "output_df[\"model_output_id\"] = uuid.uuid4()\n",
    "output_df[\"model_run_date\"] = datetime.datetime.now()\n",
    "output_df[\"time_taken_seconds\"] = diff\n",
    "output_df[\"features_used\"] = str(features)\n",
    "output_df[\"model_type\"] = \"XG_Boost\"\n",
    "output_df[\"split_year\"] = test_start\n",
    "output_df[\"version\"] = version"
   ]
  },
  {
   "cell_type": "code",
   "execution_count": null,
   "id": "ddf63cbf",
   "metadata": {},
   "outputs": [],
   "source": [
    "save_output_tables(output_df)"
   ]
  }
 ],
 "metadata": {
  "kernelspec": {
   "display_name": "Python 3",
   "language": "python",
   "name": "python3"
  },
  "language_info": {
   "codemirror_mode": {
    "name": "ipython",
    "version": 3
   },
   "file_extension": ".py",
   "mimetype": "text/x-python",
   "name": "python",
   "nbconvert_exporter": "python",
   "pygments_lexer": "ipython3",
   "version": "3.11.9"
  }
 },
 "nbformat": 4,
 "nbformat_minor": 5
}
