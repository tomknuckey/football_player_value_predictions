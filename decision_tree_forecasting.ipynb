{
 "cells": [
  {
   "cell_type": "code",
   "execution_count": 2,
   "id": "1b43e964",
   "metadata": {},
   "outputs": [
    {
     "name": "stderr",
     "output_type": "stream",
     "text": [
      "C:\\Users\\tomkn\\AppData\\Local\\Packages\\PythonSoftwareFoundation.Python.3.11_qbz5n2kfra8p0\\LocalCache\\local-packages\\Python311\\site-packages\\tqdm\\auto.py:21: TqdmWarning: IProgress not found. Please update jupyter and ipywidgets. See https://ipywidgets.readthedocs.io/en/stable/user_install.html\n",
      "  from .autonotebook import tqdm as notebook_tqdm\n"
     ]
    }
   ],
   "source": [
    "import pandas as pd\n",
    "import plotly.express as px\n",
    "from sklearn.tree import DecisionTreeRegressor\n",
    "from sklearn import tree\n",
    "import matplotlib.pyplot as plt\n",
    "from sklearn.metrics import root_mean_squared_error\n",
    "from typing import List, Tuple\n",
    "from xgboost import XGBRegressor \n",
    "import uuid\n",
    "import datetime \n",
    "import time\n",
    "from sklearn.model_selection import RandomizedSearchCV, TimeSeriesSplit, GridSearchCV, train_test_split\n",
    "from utils.output_analysis import plot_decision_tree_importance, plot_player_value_trends, save_output_tables, create_shapley_values_plots\n",
    "from utils.model import test_train_split, define_features, analysis_result\n",
    "import optuna\n",
    "from config import features, test_start, target\n",
    "\n"
   ]
  },
  {
   "cell_type": "code",
   "execution_count": 3,
   "id": "95766a24",
   "metadata": {},
   "outputs": [],
   "source": [
    "start = time.time()"
   ]
  },
  {
   "cell_type": "code",
   "execution_count": 4,
   "id": "577b7f61",
   "metadata": {},
   "outputs": [],
   "source": [
    "pdf_mvp = pd.read_csv(\"data/intermediate/time_series_model_data_prep.csv\") "
   ]
  },
  {
   "cell_type": "code",
   "execution_count": 5,
   "id": "762ec1b7",
   "metadata": {},
   "outputs": [],
   "source": [
    "version  = \"v0.0.4\""
   ]
  },
  {
   "cell_type": "code",
   "execution_count": 6,
   "id": "18256918",
   "metadata": {},
   "outputs": [],
   "source": [
    "\n",
    "features = define_features(pdf_mvp, features)\n",
    "\n",
    "pdf_train, pdf_test = test_train_split(pdf_mvp, test_start)"
   ]
  },
  {
   "cell_type": "code",
   "execution_count": 7,
   "id": "3009ce79",
   "metadata": {},
   "outputs": [],
   "source": [
    "def objective(\n",
    "    trial: optuna.Trial,\n",
    "    X: pd.DataFrame,\n",
    "    y: pd.Series,\n",
    "    tscv: TimeSeriesSplit,\n",
    ") -> float:\n",
    "    params = {\n",
    "        \"n_estimators\": trial.suggest_int(\"n_estimators\", 50, 200),  # Number of trees\n",
    "        \"learning_rate\": trial.suggest_float(\"learning_rate\", 0.01, 0.3),  # Learning rate\n",
    "        \"max_depth\": trial.suggest_int(\"max_depth\", 1, 7),  # Tree depth\n",
    "        \"subsample\": trial.suggest_float(\"subsample\", 0.5, 1.0),  # Subsampling fraction\n",
    "        \"colsample_bytree\": trial.suggest_float(\"colsample_bytree\", 0.6, 1.0),\n",
    "        \"gamma\": trial.suggest_float(\"gamma\", 0, 5),  # Min loss reduction for split\n",
    "        \"reg_alpha\": trial.suggest_float(\"reg_alpha\", 0.0, 1.0),  # L1 regularization\n",
    "        \"reg_lambda\": trial.suggest_float(\"reg_lambda\", 0.1, 10.0),  # L2 regularization\n",
    "        \"random_state\": 42,\n",
    "        \"objective\": \"reg:squarederror\",\n",
    "        \"tree_method\": \"hist\",\n",
    "        \"verbosity\": 0,\n",
    "    }\n",
    "\n",
    "    rmse_scores = []\n",
    "\n",
    "    for train_idx, val_idx in tscv.split(X):\n",
    "        X_train, X_val = X.iloc[train_idx], X.iloc[val_idx]\n",
    "        y_train, y_val = y.iloc[train_idx], y.iloc[val_idx]\n",
    "\n",
    "        model = XGBRegressor(**params)\n",
    "        model.fit(X_train, y_train)\n",
    "\n",
    "        preds = model.predict(X_val)\n",
    "        rmse = root_mean_squared_error(y_val, preds)\n",
    "        rmse_scores.append(rmse)\n",
    "\n",
    "    return sum(rmse_scores) / len(rmse_scores)  # Average RMSE across folds\n"
   ]
  },
  {
   "cell_type": "code",
   "execution_count": 8,
   "id": "1f0540cc",
   "metadata": {},
   "outputs": [],
   "source": [
    "\n",
    "from utils.model import prepare_future_year_data"
   ]
  },
  {
   "cell_type": "code",
   "execution_count": 9,
   "id": "d0c1c16d",
   "metadata": {},
   "outputs": [],
   "source": [
    "\n",
    "\n",
    "\n",
    "\n",
    "def predict_future_values(\n",
    "    train_df: pd.DataFrame,\n",
    "    test_df: pd.DataFrame,\n",
    "    prediction_years: List[int],\n",
    "    features: List[str],\n",
    "    n_trials: int = 20,\n",
    ") -> Tuple[pd.DataFrame, XGBRegressor, pd.Series]:\n",
    "    \"\"\"\n",
    "    Predicts future player values for specified years using XGBoost and Optuna hyperparameter tuning.\n",
    "\n",
    "    Args:\n",
    "        train_df: Training DataFrame with features and target.\n",
    "        test_df: Initial test DataFrame to predict from (starting year).\n",
    "        prediction_years: List of years to predict, starting with the base year.\n",
    "        features: List of feature column names to use.\n",
    "        n_trials: Number of Optuna trials for hyperparameter search.\n",
    "\n",
    "    Returns:\n",
    "        Tuple of:\n",
    "            - DataFrame with predicted values for all prediction years concatenated.\n",
    "            - Trained XGBRegressor using best Optuna params.\n",
    "            - y_test from the base year (only valid for the first year).\n",
    "    \"\"\"\n",
    "\n",
    "    X_train = train_df[features]\n",
    "    y_train = train_df[target]\n",
    "\n",
    "    tscv = TimeSeriesSplit(n_splits=3)\n",
    "\n",
    "    study = optuna.create_study(direction=\"minimize\")\n",
    "    study.optimize(lambda trial: objective(trial, X_train, y_train, tscv), n_trials=n_trials, show_progress_bar=False)\n",
    "\n",
    "    print(f\"Best trial params: {study.best_trial.params}\")\n",
    "    print(f\"Best trial RMSE: {study.best_value:.4f}\")\n",
    "\n",
    "    # Train final model on all training data with best params\n",
    "    best_params = study.best_trial.params\n",
    "    # Add fixed params required by XGBRegressor\n",
    "    best_params.update({\n",
    "        \"random_state\": 42,\n",
    "        \"objective\": \"reg:squarederror\",\n",
    "        \"tree_method\": \"hist\",\n",
    "        \"verbosity\": 0,\n",
    "    })\n",
    "\n",
    "    model = XGBRegressor(**best_params)\n",
    "    model.fit(X_train, y_train)\n",
    "\n",
    "    predictions = []\n",
    "    current_df = test_df.copy()\n",
    "\n",
    "    for i, year in enumerate(prediction_years):\n",
    "        X_test = current_df[features]\n",
    "        current_df[\"predicted_value\"] = model.predict(X_test)\n",
    "        current_df[\"year\"] = year\n",
    "\n",
    "        if i == 0:\n",
    "            y_test = current_df[target]\n",
    "            analysis_result(current_df, y_test, year, target)\n",
    "            create_shapley_values_plots(model, X_train, features)\n",
    "        else:\n",
    "            current_df[\"age\"] = current_df[\"age_last_year\"] + 1\n",
    "\n",
    "        # Reduce contract years left by 1, never below 0\n",
    "        if \"contract_years_left\" in current_df.columns:\n",
    "            current_df[\"contract_years_left\"] = (current_df[\"contract_years_left\"] - 1).clip(lower=0)\n",
    "\n",
    "        current_df[\"age_last_year\"] = current_df[\"age\"]\n",
    "        current_df[\"value_last_year\"] = current_df[\"predicted_value\"]\n",
    "\n",
    "        predictions.append(current_df[[\"player_id\", \"year\", \"age\", \"predicted_value\"]].copy())\n",
    "\n",
    "        if i < len(prediction_years) - 1:\n",
    "            current_df = prepare_future_year_data(current_df)\n",
    "\n",
    "    all_predictions_df = pd.concat(predictions, ignore_index=True)\n",
    "    return all_predictions_df, model, y_test\n"
   ]
  },
  {
   "cell_type": "code",
   "execution_count": 10,
   "id": "8ce4be3d",
   "metadata": {},
   "outputs": [
    {
     "data": {
      "application/vnd.microsoft.datawrangler.viewer.v0+json": {
       "columns": [
        {
         "name": "index",
         "rawType": "int64",
         "type": "integer"
        },
        {
         "name": "player_id",
         "rawType": "int64",
         "type": "integer"
        },
        {
         "name": "name",
         "rawType": "object",
         "type": "string"
        },
        {
         "name": "year",
         "rawType": "int64",
         "type": "integer"
        },
        {
         "name": "date_of_birth",
         "rawType": "object",
         "type": "string"
        },
        {
         "name": "market_value_in_million_eur",
         "rawType": "float64",
         "type": "float"
        },
        {
         "name": "age",
         "rawType": "int64",
         "type": "integer"
        },
        {
         "name": "position",
         "rawType": "object",
         "type": "string"
        },
        {
         "name": "sub_position",
         "rawType": "object",
         "type": "string"
        },
        {
         "name": "contract_years_left",
         "rawType": "float64",
         "type": "float"
        },
        {
         "name": "value_last_year",
         "rawType": "float64",
         "type": "float"
        },
        {
         "name": "age_last_year",
         "rawType": "float64",
         "type": "float"
        },
        {
         "name": "pos_Attack",
         "rawType": "bool",
         "type": "boolean"
        },
        {
         "name": "pos_Defender",
         "rawType": "bool",
         "type": "boolean"
        },
        {
         "name": "pos_Goalkeeper",
         "rawType": "bool",
         "type": "boolean"
        },
        {
         "name": "pos_Midfield",
         "rawType": "bool",
         "type": "boolean"
        },
        {
         "name": "subpos_Attacking Midfield",
         "rawType": "bool",
         "type": "boolean"
        },
        {
         "name": "subpos_Central Midfield",
         "rawType": "bool",
         "type": "boolean"
        },
        {
         "name": "subpos_Centre-Back",
         "rawType": "bool",
         "type": "boolean"
        },
        {
         "name": "subpos_Centre-Forward",
         "rawType": "bool",
         "type": "boolean"
        },
        {
         "name": "subpos_Defensive Midfield",
         "rawType": "bool",
         "type": "boolean"
        },
        {
         "name": "subpos_Goalkeeper",
         "rawType": "bool",
         "type": "boolean"
        },
        {
         "name": "subpos_Left Midfield",
         "rawType": "bool",
         "type": "boolean"
        },
        {
         "name": "subpos_Left Winger",
         "rawType": "bool",
         "type": "boolean"
        },
        {
         "name": "subpos_Left-Back",
         "rawType": "bool",
         "type": "boolean"
        },
        {
         "name": "subpos_Right Midfield",
         "rawType": "bool",
         "type": "boolean"
        },
        {
         "name": "subpos_Right Winger",
         "rawType": "bool",
         "type": "boolean"
        },
        {
         "name": "subpos_Right-Back",
         "rawType": "bool",
         "type": "boolean"
        },
        {
         "name": "subpos_Second Striker",
         "rawType": "bool",
         "type": "boolean"
        },
        {
         "name": "age_from_peak",
         "rawType": "int64",
         "type": "integer"
        }
       ],
       "ref": "7a0485b9-8236-453c-bf7e-5210bd2d760b",
       "rows": [
        [
         "0",
         "132",
         "Tomas Rosicky",
         "2005",
         "1980-10-04 00:00:00",
         "11.0",
         "24",
         "Midfield",
         "Attacking Midfield",
         "0.0",
         "13.0",
         "24.0",
         "False",
         "False",
         "False",
         "True",
         "True",
         "False",
         "False",
         "False",
         "False",
         "False",
         "False",
         "False",
         "False",
         "False",
         "False",
         "False",
         "False",
         "1"
        ],
        [
         "1",
         "132",
         "Tomas Rosicky",
         "2006",
         "1980-10-04 00:00:00",
         "11.0",
         "25",
         "Midfield",
         "Attacking Midfield",
         "0.0",
         "11.0",
         "24.0",
         "False",
         "False",
         "False",
         "True",
         "True",
         "False",
         "False",
         "False",
         "False",
         "False",
         "False",
         "False",
         "False",
         "False",
         "False",
         "False",
         "False",
         "0"
        ],
        [
         "2",
         "132",
         "Tomas Rosicky",
         "2007",
         "1980-10-04 00:00:00",
         "14.4",
         "26",
         "Midfield",
         "Attacking Midfield",
         "0.0",
         "11.0",
         "25.0",
         "False",
         "False",
         "False",
         "True",
         "True",
         "False",
         "False",
         "False",
         "False",
         "False",
         "False",
         "False",
         "False",
         "False",
         "False",
         "False",
         "False",
         "1"
        ],
        [
         "3",
         "132",
         "Tomas Rosicky",
         "2008",
         "1980-10-04 00:00:00",
         "17.5",
         "27",
         "Midfield",
         "Attacking Midfield",
         "0.0",
         "14.4",
         "26.0",
         "False",
         "False",
         "False",
         "True",
         "True",
         "False",
         "False",
         "False",
         "False",
         "False",
         "False",
         "False",
         "False",
         "False",
         "False",
         "False",
         "False",
         "4"
        ],
        [
         "4",
         "132",
         "Tomas Rosicky",
         "2009",
         "1980-10-04 00:00:00",
         "15.5",
         "28",
         "Midfield",
         "Attacking Midfield",
         "0.0",
         "17.5",
         "27.0",
         "False",
         "False",
         "False",
         "True",
         "True",
         "False",
         "False",
         "False",
         "False",
         "False",
         "False",
         "False",
         "False",
         "False",
         "False",
         "False",
         "False",
         "9"
        ],
        [
         "5",
         "132",
         "Tomas Rosicky",
         "2010",
         "1980-10-04 00:00:00",
         "11.0",
         "29",
         "Midfield",
         "Attacking Midfield",
         "0.0",
         "15.5",
         "28.0",
         "False",
         "False",
         "False",
         "True",
         "True",
         "False",
         "False",
         "False",
         "False",
         "False",
         "False",
         "False",
         "False",
         "False",
         "False",
         "False",
         "False",
         "16"
        ],
        [
         "6",
         "132",
         "Tomas Rosicky",
         "2011",
         "1980-10-04 00:00:00",
         "7.5",
         "30",
         "Midfield",
         "Attacking Midfield",
         "0.0",
         "11.0",
         "29.0",
         "False",
         "False",
         "False",
         "True",
         "True",
         "False",
         "False",
         "False",
         "False",
         "False",
         "False",
         "False",
         "False",
         "False",
         "False",
         "False",
         "False",
         "25"
        ],
        [
         "7",
         "132",
         "Tomas Rosicky",
         "2012",
         "1980-10-04 00:00:00",
         "3.5",
         "31",
         "Midfield",
         "Attacking Midfield",
         "0.0",
         "7.5",
         "30.0",
         "False",
         "False",
         "False",
         "True",
         "True",
         "False",
         "False",
         "False",
         "False",
         "False",
         "False",
         "False",
         "False",
         "False",
         "False",
         "False",
         "False",
         "36"
        ],
        [
         "8",
         "132",
         "Tomas Rosicky",
         "2013",
         "1980-10-04 00:00:00",
         "2.0",
         "32",
         "Midfield",
         "Attacking Midfield",
         "0.0",
         "3.5",
         "31.0",
         "False",
         "False",
         "False",
         "True",
         "True",
         "False",
         "False",
         "False",
         "False",
         "False",
         "False",
         "False",
         "False",
         "False",
         "False",
         "False",
         "False",
         "49"
        ],
        [
         "9",
         "132",
         "Tomas Rosicky",
         "2014",
         "1980-10-04 00:00:00",
         "2.0",
         "33",
         "Midfield",
         "Attacking Midfield",
         "0.0",
         "2.0",
         "32.0",
         "False",
         "False",
         "False",
         "True",
         "True",
         "False",
         "False",
         "False",
         "False",
         "False",
         "False",
         "False",
         "False",
         "False",
         "False",
         "False",
         "False",
         "64"
        ],
        [
         "10",
         "132",
         "Tomas Rosicky",
         "2015",
         "1980-10-04 00:00:00",
         "2.0",
         "34",
         "Midfield",
         "Attacking Midfield",
         "0.0",
         "2.0",
         "33.0",
         "False",
         "False",
         "False",
         "True",
         "True",
         "False",
         "False",
         "False",
         "False",
         "False",
         "False",
         "False",
         "False",
         "False",
         "False",
         "False",
         "False",
         "81"
        ],
        [
         "11",
         "132",
         "Tomas Rosicky",
         "2016",
         "1980-10-04 00:00:00",
         "1.5",
         "35",
         "Midfield",
         "Attacking Midfield",
         "0.0",
         "2.0",
         "34.0",
         "False",
         "False",
         "False",
         "True",
         "True",
         "False",
         "False",
         "False",
         "False",
         "False",
         "False",
         "False",
         "False",
         "False",
         "False",
         "False",
         "False",
         "100"
        ],
        [
         "12",
         "132",
         "Tomas Rosicky",
         "2017",
         "1980-10-04 00:00:00",
         "0.35",
         "36",
         "Midfield",
         "Attacking Midfield",
         "0.0",
         "1.5",
         "35.0",
         "False",
         "False",
         "False",
         "True",
         "True",
         "False",
         "False",
         "False",
         "False",
         "False",
         "False",
         "False",
         "False",
         "False",
         "False",
         "False",
         "False",
         "121"
        ],
        [
         "13",
         "488",
         "Gerhard Tremmel",
         "2005",
         "1978-11-16 00:00:00",
         "0.75",
         "26",
         "Goalkeeper",
         "Goalkeeper",
         "0.0",
         "1.0",
         "25.0",
         "False",
         "False",
         "True",
         "False",
         "False",
         "False",
         "False",
         "False",
         "False",
         "True",
         "False",
         "False",
         "False",
         "False",
         "False",
         "False",
         "False",
         "1"
        ],
        [
         "14",
         "488",
         "Gerhard Tremmel",
         "2006",
         "1978-11-16 00:00:00",
         "1.2",
         "27",
         "Goalkeeper",
         "Goalkeeper",
         "0.0",
         "0.75",
         "26.0",
         "False",
         "False",
         "True",
         "False",
         "False",
         "False",
         "False",
         "False",
         "False",
         "True",
         "False",
         "False",
         "False",
         "False",
         "False",
         "False",
         "False",
         "4"
        ],
        [
         "15",
         "488",
         "Gerhard Tremmel",
         "2007",
         "1978-11-16 00:00:00",
         "0.8",
         "28",
         "Goalkeeper",
         "Goalkeeper",
         "0.0",
         "1.2",
         "27.0",
         "False",
         "False",
         "True",
         "False",
         "False",
         "False",
         "False",
         "False",
         "False",
         "True",
         "False",
         "False",
         "False",
         "False",
         "False",
         "False",
         "False",
         "9"
        ],
        [
         "16",
         "488",
         "Gerhard Tremmel",
         "2008",
         "1978-11-16 00:00:00",
         "1.2",
         "29",
         "Goalkeeper",
         "Goalkeeper",
         "0.0",
         "0.8",
         "28.0",
         "False",
         "False",
         "True",
         "False",
         "False",
         "False",
         "False",
         "False",
         "False",
         "True",
         "False",
         "False",
         "False",
         "False",
         "False",
         "False",
         "False",
         "16"
        ],
        [
         "17",
         "488",
         "Gerhard Tremmel",
         "2009",
         "1978-11-16 00:00:00",
         "2.2",
         "30",
         "Goalkeeper",
         "Goalkeeper",
         "0.0",
         "1.2",
         "29.0",
         "False",
         "False",
         "True",
         "False",
         "False",
         "False",
         "False",
         "False",
         "False",
         "True",
         "False",
         "False",
         "False",
         "False",
         "False",
         "False",
         "False",
         "25"
        ],
        [
         "18",
         "488",
         "Gerhard Tremmel",
         "2010",
         "1978-11-16 00:00:00",
         "1.5",
         "31",
         "Goalkeeper",
         "Goalkeeper",
         "0.0",
         "2.2",
         "30.0",
         "False",
         "False",
         "True",
         "False",
         "False",
         "False",
         "False",
         "False",
         "False",
         "True",
         "False",
         "False",
         "False",
         "False",
         "False",
         "False",
         "False",
         "36"
        ],
        [
         "19",
         "488",
         "Gerhard Tremmel",
         "2012",
         "1978-11-16 00:00:00",
         "0.5",
         "33",
         "Goalkeeper",
         "Goalkeeper",
         "0.0",
         "1.5",
         "31.0",
         "False",
         "False",
         "True",
         "False",
         "False",
         "False",
         "False",
         "False",
         "False",
         "True",
         "False",
         "False",
         "False",
         "False",
         "False",
         "False",
         "False",
         "64"
        ],
        [
         "20",
         "488",
         "Gerhard Tremmel",
         "2013",
         "1978-11-16 00:00:00",
         "0.75",
         "34",
         "Goalkeeper",
         "Goalkeeper",
         "0.0",
         "0.5",
         "33.0",
         "False",
         "False",
         "True",
         "False",
         "False",
         "False",
         "False",
         "False",
         "False",
         "True",
         "False",
         "False",
         "False",
         "False",
         "False",
         "False",
         "False",
         "81"
        ],
        [
         "21",
         "488",
         "Gerhard Tremmel",
         "2014",
         "1978-11-16 00:00:00",
         "1.0",
         "35",
         "Goalkeeper",
         "Goalkeeper",
         "0.0",
         "0.75",
         "34.0",
         "False",
         "False",
         "True",
         "False",
         "False",
         "False",
         "False",
         "False",
         "False",
         "True",
         "False",
         "False",
         "False",
         "False",
         "False",
         "False",
         "False",
         "100"
        ],
        [
         "22",
         "488",
         "Gerhard Tremmel",
         "2015",
         "1978-11-16 00:00:00",
         "1.0",
         "36",
         "Goalkeeper",
         "Goalkeeper",
         "0.0",
         "1.0",
         "35.0",
         "False",
         "False",
         "True",
         "False",
         "False",
         "False",
         "False",
         "False",
         "False",
         "True",
         "False",
         "False",
         "False",
         "False",
         "False",
         "False",
         "False",
         "121"
        ],
        [
         "23",
         "488",
         "Gerhard Tremmel",
         "2016",
         "1978-11-16 00:00:00",
         "0.5",
         "37",
         "Goalkeeper",
         "Goalkeeper",
         "0.0",
         "1.0",
         "36.0",
         "False",
         "False",
         "True",
         "False",
         "False",
         "False",
         "False",
         "False",
         "False",
         "True",
         "False",
         "False",
         "False",
         "False",
         "False",
         "False",
         "False",
         "144"
        ],
        [
         "24",
         "488",
         "Gerhard Tremmel",
         "2017",
         "1978-11-16 00:00:00",
         "0.25",
         "38",
         "Goalkeeper",
         "Goalkeeper",
         "0.0",
         "0.5",
         "37.0",
         "False",
         "False",
         "True",
         "False",
         "False",
         "False",
         "False",
         "False",
         "False",
         "True",
         "False",
         "False",
         "False",
         "False",
         "False",
         "False",
         "False",
         "169"
        ],
        [
         "25",
         "1397",
         "Michael Owen",
         "2006",
         "1979-12-14 00:00:00",
         "20.0",
         "26",
         "Attack",
         "Centre-Forward",
         "0.0",
         "30.0",
         "24.0",
         "True",
         "False",
         "False",
         "False",
         "False",
         "False",
         "False",
         "True",
         "False",
         "False",
         "False",
         "False",
         "False",
         "False",
         "False",
         "False",
         "False",
         "1"
        ],
        [
         "26",
         "1397",
         "Michael Owen",
         "2007",
         "1979-12-14 00:00:00",
         "15.0",
         "27",
         "Attack",
         "Centre-Forward",
         "0.0",
         "20.0",
         "26.0",
         "True",
         "False",
         "False",
         "False",
         "False",
         "False",
         "False",
         "True",
         "False",
         "False",
         "False",
         "False",
         "False",
         "False",
         "False",
         "False",
         "False",
         "4"
        ],
        [
         "27",
         "1397",
         "Michael Owen",
         "2008",
         "1979-12-14 00:00:00",
         "12.0",
         "28",
         "Attack",
         "Centre-Forward",
         "0.0",
         "15.0",
         "27.0",
         "True",
         "False",
         "False",
         "False",
         "False",
         "False",
         "False",
         "True",
         "False",
         "False",
         "False",
         "False",
         "False",
         "False",
         "False",
         "False",
         "False",
         "9"
        ],
        [
         "28",
         "1397",
         "Michael Owen",
         "2009",
         "1979-12-14 00:00:00",
         "15.5",
         "29",
         "Attack",
         "Centre-Forward",
         "0.0",
         "12.0",
         "28.0",
         "True",
         "False",
         "False",
         "False",
         "False",
         "False",
         "False",
         "True",
         "False",
         "False",
         "False",
         "False",
         "False",
         "False",
         "False",
         "False",
         "False",
         "16"
        ],
        [
         "29",
         "1397",
         "Michael Owen",
         "2010",
         "1979-12-14 00:00:00",
         "11.0",
         "30",
         "Attack",
         "Centre-Forward",
         "0.0",
         "15.5",
         "29.0",
         "True",
         "False",
         "False",
         "False",
         "False",
         "False",
         "False",
         "True",
         "False",
         "False",
         "False",
         "False",
         "False",
         "False",
         "False",
         "False",
         "False",
         "25"
        ],
        [
         "30",
         "1397",
         "Michael Owen",
         "2011",
         "1979-12-14 00:00:00",
         "7.0",
         "31",
         "Attack",
         "Centre-Forward",
         "0.0",
         "11.0",
         "30.0",
         "True",
         "False",
         "False",
         "False",
         "False",
         "False",
         "False",
         "True",
         "False",
         "False",
         "False",
         "False",
         "False",
         "False",
         "False",
         "False",
         "False",
         "36"
        ],
        [
         "31",
         "1397",
         "Michael Owen",
         "2012",
         "1979-12-14 00:00:00",
         "2.5",
         "32",
         "Attack",
         "Centre-Forward",
         "0.0",
         "7.0",
         "31.0",
         "True",
         "False",
         "False",
         "False",
         "False",
         "False",
         "False",
         "True",
         "False",
         "False",
         "False",
         "False",
         "False",
         "False",
         "False",
         "False",
         "False",
         "49"
        ],
        [
         "32",
         "1397",
         "Michael Owen",
         "2013",
         "1979-12-14 00:00:00",
         "1.0",
         "33",
         "Attack",
         "Centre-Forward",
         "0.0",
         "2.5",
         "32.0",
         "True",
         "False",
         "False",
         "False",
         "False",
         "False",
         "False",
         "True",
         "False",
         "False",
         "False",
         "False",
         "False",
         "False",
         "False",
         "False",
         "False",
         "64"
        ],
        [
         "33",
         "1573",
         "Thomas Hitzlsperger",
         "2005",
         "1982-04-05 00:00:00",
         "4.0",
         "22",
         "Midfield",
         "Central Midfield",
         "0.0",
         "4.5",
         "22.0",
         "False",
         "False",
         "False",
         "True",
         "False",
         "True",
         "False",
         "False",
         "False",
         "False",
         "False",
         "False",
         "False",
         "False",
         "False",
         "False",
         "False",
         "9"
        ],
        [
         "34",
         "1573",
         "Thomas Hitzlsperger",
         "2006",
         "1982-04-05 00:00:00",
         "3.0",
         "23",
         "Midfield",
         "Central Midfield",
         "0.0",
         "4.0",
         "22.0",
         "False",
         "False",
         "False",
         "True",
         "False",
         "True",
         "False",
         "False",
         "False",
         "False",
         "False",
         "False",
         "False",
         "False",
         "False",
         "False",
         "False",
         "4"
        ],
        [
         "35",
         "1573",
         "Thomas Hitzlsperger",
         "2007",
         "1982-04-05 00:00:00",
         "3.2",
         "24",
         "Midfield",
         "Central Midfield",
         "0.0",
         "3.0",
         "23.0",
         "False",
         "False",
         "False",
         "True",
         "False",
         "True",
         "False",
         "False",
         "False",
         "False",
         "False",
         "False",
         "False",
         "False",
         "False",
         "False",
         "False",
         "1"
        ],
        [
         "36",
         "1573",
         "Thomas Hitzlsperger",
         "2008",
         "1982-04-05 00:00:00",
         "7.5",
         "25",
         "Midfield",
         "Central Midfield",
         "0.0",
         "3.2",
         "24.0",
         "False",
         "False",
         "False",
         "True",
         "False",
         "True",
         "False",
         "False",
         "False",
         "False",
         "False",
         "False",
         "False",
         "False",
         "False",
         "False",
         "False",
         "0"
        ],
        [
         "37",
         "1573",
         "Thomas Hitzlsperger",
         "2009",
         "1982-04-05 00:00:00",
         "9.0",
         "27",
         "Midfield",
         "Central Midfield",
         "0.0",
         "7.5",
         "25.0",
         "False",
         "False",
         "False",
         "True",
         "False",
         "True",
         "False",
         "False",
         "False",
         "False",
         "False",
         "False",
         "False",
         "False",
         "False",
         "False",
         "False",
         "4"
        ],
        [
         "38",
         "1573",
         "Thomas Hitzlsperger",
         "2010",
         "1982-04-05 00:00:00",
         "6.5",
         "27",
         "Midfield",
         "Central Midfield",
         "0.0",
         "9.0",
         "27.0",
         "False",
         "False",
         "False",
         "True",
         "False",
         "True",
         "False",
         "False",
         "False",
         "False",
         "False",
         "False",
         "False",
         "False",
         "False",
         "False",
         "False",
         "4"
        ],
        [
         "39",
         "1573",
         "Thomas Hitzlsperger",
         "2011",
         "1982-04-05 00:00:00",
         "4.5",
         "28",
         "Midfield",
         "Central Midfield",
         "0.0",
         "6.5",
         "27.0",
         "False",
         "False",
         "False",
         "True",
         "False",
         "True",
         "False",
         "False",
         "False",
         "False",
         "False",
         "False",
         "False",
         "False",
         "False",
         "False",
         "False",
         "9"
        ],
        [
         "40",
         "1573",
         "Thomas Hitzlsperger",
         "2012",
         "1982-04-05 00:00:00",
         "2.0",
         "29",
         "Midfield",
         "Central Midfield",
         "0.0",
         "4.5",
         "28.0",
         "False",
         "False",
         "False",
         "True",
         "False",
         "True",
         "False",
         "False",
         "False",
         "False",
         "False",
         "False",
         "False",
         "False",
         "False",
         "False",
         "False",
         "16"
        ],
        [
         "41",
         "1573",
         "Thomas Hitzlsperger",
         "2013",
         "1982-04-05 00:00:00",
         "1.0",
         "30",
         "Midfield",
         "Central Midfield",
         "0.0",
         "2.0",
         "29.0",
         "False",
         "False",
         "False",
         "True",
         "False",
         "True",
         "False",
         "False",
         "False",
         "False",
         "False",
         "False",
         "False",
         "False",
         "False",
         "False",
         "False",
         "25"
        ],
        [
         "42",
         "2514",
         "Bastian Schweinsteiger",
         "2005",
         "1984-08-01 00:00:00",
         "4.0",
         "20",
         "Midfield",
         "Central Midfield",
         "0.0",
         "3.25",
         "20.0",
         "False",
         "False",
         "False",
         "True",
         "False",
         "True",
         "False",
         "False",
         "False",
         "False",
         "False",
         "False",
         "False",
         "False",
         "False",
         "False",
         "False",
         "25"
        ],
        [
         "43",
         "2514",
         "Bastian Schweinsteiger",
         "2006",
         "1984-08-01 00:00:00",
         "8.0",
         "21",
         "Midfield",
         "Central Midfield",
         "0.0",
         "4.0",
         "20.0",
         "False",
         "False",
         "False",
         "True",
         "False",
         "True",
         "False",
         "False",
         "False",
         "False",
         "False",
         "False",
         "False",
         "False",
         "False",
         "False",
         "False",
         "16"
        ],
        [
         "44",
         "2514",
         "Bastian Schweinsteiger",
         "2008",
         "1984-08-01 00:00:00",
         "10.0",
         "23",
         "Midfield",
         "Central Midfield",
         "0.0",
         "8.0",
         "21.0",
         "False",
         "False",
         "False",
         "True",
         "False",
         "True",
         "False",
         "False",
         "False",
         "False",
         "False",
         "False",
         "False",
         "False",
         "False",
         "False",
         "False",
         "4"
        ],
        [
         "45",
         "2514",
         "Bastian Schweinsteiger",
         "2009",
         "1984-08-01 00:00:00",
         "16.0",
         "24",
         "Midfield",
         "Central Midfield",
         "0.0",
         "10.0",
         "23.0",
         "False",
         "False",
         "False",
         "True",
         "False",
         "True",
         "False",
         "False",
         "False",
         "False",
         "False",
         "False",
         "False",
         "False",
         "False",
         "False",
         "False",
         "1"
        ],
        [
         "46",
         "2514",
         "Bastian Schweinsteiger",
         "2010",
         "1984-08-01 00:00:00",
         "19.0",
         "25",
         "Midfield",
         "Central Midfield",
         "0.0",
         "16.0",
         "24.0",
         "False",
         "False",
         "False",
         "True",
         "False",
         "True",
         "False",
         "False",
         "False",
         "False",
         "False",
         "False",
         "False",
         "False",
         "False",
         "False",
         "False",
         "0"
        ],
        [
         "47",
         "2514",
         "Bastian Schweinsteiger",
         "2011",
         "1984-08-01 00:00:00",
         "40.0",
         "26",
         "Midfield",
         "Central Midfield",
         "0.0",
         "19.0",
         "25.0",
         "False",
         "False",
         "False",
         "True",
         "False",
         "True",
         "False",
         "False",
         "False",
         "False",
         "False",
         "False",
         "False",
         "False",
         "False",
         "False",
         "False",
         "1"
        ],
        [
         "48",
         "2514",
         "Bastian Schweinsteiger",
         "2012",
         "1984-08-01 00:00:00",
         "38.0",
         "27",
         "Midfield",
         "Central Midfield",
         "0.0",
         "40.0",
         "26.0",
         "False",
         "False",
         "False",
         "True",
         "False",
         "True",
         "False",
         "False",
         "False",
         "False",
         "False",
         "False",
         "False",
         "False",
         "False",
         "False",
         "False",
         "4"
        ],
        [
         "49",
         "2514",
         "Bastian Schweinsteiger",
         "2013",
         "1984-08-01 00:00:00",
         "35.0",
         "28",
         "Midfield",
         "Central Midfield",
         "0.0",
         "38.0",
         "27.0",
         "False",
         "False",
         "False",
         "True",
         "False",
         "True",
         "False",
         "False",
         "False",
         "False",
         "False",
         "False",
         "False",
         "False",
         "False",
         "False",
         "False",
         "9"
        ]
       ],
       "shape": {
        "columns": 29,
        "rows": 12014
       }
      },
      "text/html": [
       "<div>\n",
       "<style scoped>\n",
       "    .dataframe tbody tr th:only-of-type {\n",
       "        vertical-align: middle;\n",
       "    }\n",
       "\n",
       "    .dataframe tbody tr th {\n",
       "        vertical-align: top;\n",
       "    }\n",
       "\n",
       "    .dataframe thead th {\n",
       "        text-align: right;\n",
       "    }\n",
       "</style>\n",
       "<table border=\"1\" class=\"dataframe\">\n",
       "  <thead>\n",
       "    <tr style=\"text-align: right;\">\n",
       "      <th></th>\n",
       "      <th>player_id</th>\n",
       "      <th>name</th>\n",
       "      <th>year</th>\n",
       "      <th>date_of_birth</th>\n",
       "      <th>market_value_in_million_eur</th>\n",
       "      <th>age</th>\n",
       "      <th>position</th>\n",
       "      <th>sub_position</th>\n",
       "      <th>contract_years_left</th>\n",
       "      <th>value_last_year</th>\n",
       "      <th>...</th>\n",
       "      <th>subpos_Defensive Midfield</th>\n",
       "      <th>subpos_Goalkeeper</th>\n",
       "      <th>subpos_Left Midfield</th>\n",
       "      <th>subpos_Left Winger</th>\n",
       "      <th>subpos_Left-Back</th>\n",
       "      <th>subpos_Right Midfield</th>\n",
       "      <th>subpos_Right Winger</th>\n",
       "      <th>subpos_Right-Back</th>\n",
       "      <th>subpos_Second Striker</th>\n",
       "      <th>age_from_peak</th>\n",
       "    </tr>\n",
       "  </thead>\n",
       "  <tbody>\n",
       "    <tr>\n",
       "      <th>0</th>\n",
       "      <td>132</td>\n",
       "      <td>Tomas Rosicky</td>\n",
       "      <td>2005</td>\n",
       "      <td>1980-10-04 00:00:00</td>\n",
       "      <td>11.0</td>\n",
       "      <td>24</td>\n",
       "      <td>Midfield</td>\n",
       "      <td>Attacking Midfield</td>\n",
       "      <td>0.0</td>\n",
       "      <td>13.00</td>\n",
       "      <td>...</td>\n",
       "      <td>False</td>\n",
       "      <td>False</td>\n",
       "      <td>False</td>\n",
       "      <td>False</td>\n",
       "      <td>False</td>\n",
       "      <td>False</td>\n",
       "      <td>False</td>\n",
       "      <td>False</td>\n",
       "      <td>False</td>\n",
       "      <td>1</td>\n",
       "    </tr>\n",
       "    <tr>\n",
       "      <th>1</th>\n",
       "      <td>132</td>\n",
       "      <td>Tomas Rosicky</td>\n",
       "      <td>2006</td>\n",
       "      <td>1980-10-04 00:00:00</td>\n",
       "      <td>11.0</td>\n",
       "      <td>25</td>\n",
       "      <td>Midfield</td>\n",
       "      <td>Attacking Midfield</td>\n",
       "      <td>0.0</td>\n",
       "      <td>11.00</td>\n",
       "      <td>...</td>\n",
       "      <td>False</td>\n",
       "      <td>False</td>\n",
       "      <td>False</td>\n",
       "      <td>False</td>\n",
       "      <td>False</td>\n",
       "      <td>False</td>\n",
       "      <td>False</td>\n",
       "      <td>False</td>\n",
       "      <td>False</td>\n",
       "      <td>0</td>\n",
       "    </tr>\n",
       "    <tr>\n",
       "      <th>2</th>\n",
       "      <td>132</td>\n",
       "      <td>Tomas Rosicky</td>\n",
       "      <td>2007</td>\n",
       "      <td>1980-10-04 00:00:00</td>\n",
       "      <td>14.4</td>\n",
       "      <td>26</td>\n",
       "      <td>Midfield</td>\n",
       "      <td>Attacking Midfield</td>\n",
       "      <td>0.0</td>\n",
       "      <td>11.00</td>\n",
       "      <td>...</td>\n",
       "      <td>False</td>\n",
       "      <td>False</td>\n",
       "      <td>False</td>\n",
       "      <td>False</td>\n",
       "      <td>False</td>\n",
       "      <td>False</td>\n",
       "      <td>False</td>\n",
       "      <td>False</td>\n",
       "      <td>False</td>\n",
       "      <td>1</td>\n",
       "    </tr>\n",
       "    <tr>\n",
       "      <th>3</th>\n",
       "      <td>132</td>\n",
       "      <td>Tomas Rosicky</td>\n",
       "      <td>2008</td>\n",
       "      <td>1980-10-04 00:00:00</td>\n",
       "      <td>17.5</td>\n",
       "      <td>27</td>\n",
       "      <td>Midfield</td>\n",
       "      <td>Attacking Midfield</td>\n",
       "      <td>0.0</td>\n",
       "      <td>14.40</td>\n",
       "      <td>...</td>\n",
       "      <td>False</td>\n",
       "      <td>False</td>\n",
       "      <td>False</td>\n",
       "      <td>False</td>\n",
       "      <td>False</td>\n",
       "      <td>False</td>\n",
       "      <td>False</td>\n",
       "      <td>False</td>\n",
       "      <td>False</td>\n",
       "      <td>4</td>\n",
       "    </tr>\n",
       "    <tr>\n",
       "      <th>4</th>\n",
       "      <td>132</td>\n",
       "      <td>Tomas Rosicky</td>\n",
       "      <td>2009</td>\n",
       "      <td>1980-10-04 00:00:00</td>\n",
       "      <td>15.5</td>\n",
       "      <td>28</td>\n",
       "      <td>Midfield</td>\n",
       "      <td>Attacking Midfield</td>\n",
       "      <td>0.0</td>\n",
       "      <td>17.50</td>\n",
       "      <td>...</td>\n",
       "      <td>False</td>\n",
       "      <td>False</td>\n",
       "      <td>False</td>\n",
       "      <td>False</td>\n",
       "      <td>False</td>\n",
       "      <td>False</td>\n",
       "      <td>False</td>\n",
       "      <td>False</td>\n",
       "      <td>False</td>\n",
       "      <td>9</td>\n",
       "    </tr>\n",
       "    <tr>\n",
       "      <th>...</th>\n",
       "      <td>...</td>\n",
       "      <td>...</td>\n",
       "      <td>...</td>\n",
       "      <td>...</td>\n",
       "      <td>...</td>\n",
       "      <td>...</td>\n",
       "      <td>...</td>\n",
       "      <td>...</td>\n",
       "      <td>...</td>\n",
       "      <td>...</td>\n",
       "      <td>...</td>\n",
       "      <td>...</td>\n",
       "      <td>...</td>\n",
       "      <td>...</td>\n",
       "      <td>...</td>\n",
       "      <td>...</td>\n",
       "      <td>...</td>\n",
       "      <td>...</td>\n",
       "      <td>...</td>\n",
       "      <td>...</td>\n",
       "      <td>...</td>\n",
       "    </tr>\n",
       "    <tr>\n",
       "      <th>14137</th>\n",
       "      <td>842341</td>\n",
       "      <td>Maxime Estève</td>\n",
       "      <td>2022</td>\n",
       "      <td>2002-05-26 00:00:00</td>\n",
       "      <td>4.5</td>\n",
       "      <td>20</td>\n",
       "      <td>Defender</td>\n",
       "      <td>Centre-Back</td>\n",
       "      <td>0.0</td>\n",
       "      <td>0.80</td>\n",
       "      <td>...</td>\n",
       "      <td>False</td>\n",
       "      <td>False</td>\n",
       "      <td>False</td>\n",
       "      <td>False</td>\n",
       "      <td>False</td>\n",
       "      <td>False</td>\n",
       "      <td>False</td>\n",
       "      <td>False</td>\n",
       "      <td>False</td>\n",
       "      <td>25</td>\n",
       "    </tr>\n",
       "    <tr>\n",
       "      <th>14141</th>\n",
       "      <td>852024</td>\n",
       "      <td>Bénie Traoré</td>\n",
       "      <td>2022</td>\n",
       "      <td>2002-11-30 00:00:00</td>\n",
       "      <td>1.0</td>\n",
       "      <td>19</td>\n",
       "      <td>Attack</td>\n",
       "      <td>Centre-Forward</td>\n",
       "      <td>6.0</td>\n",
       "      <td>1.20</td>\n",
       "      <td>...</td>\n",
       "      <td>False</td>\n",
       "      <td>False</td>\n",
       "      <td>False</td>\n",
       "      <td>False</td>\n",
       "      <td>False</td>\n",
       "      <td>False</td>\n",
       "      <td>False</td>\n",
       "      <td>False</td>\n",
       "      <td>False</td>\n",
       "      <td>36</td>\n",
       "    </tr>\n",
       "    <tr>\n",
       "      <th>14145</th>\n",
       "      <td>855256</td>\n",
       "      <td>Alex Scott</td>\n",
       "      <td>2022</td>\n",
       "      <td>2003-08-21 00:00:00</td>\n",
       "      <td>0.8</td>\n",
       "      <td>18</td>\n",
       "      <td>Midfield</td>\n",
       "      <td>Central Midfield</td>\n",
       "      <td>6.0</td>\n",
       "      <td>0.05</td>\n",
       "      <td>...</td>\n",
       "      <td>False</td>\n",
       "      <td>False</td>\n",
       "      <td>False</td>\n",
       "      <td>False</td>\n",
       "      <td>False</td>\n",
       "      <td>False</td>\n",
       "      <td>False</td>\n",
       "      <td>False</td>\n",
       "      <td>False</td>\n",
       "      <td>49</td>\n",
       "    </tr>\n",
       "    <tr>\n",
       "      <th>14152</th>\n",
       "      <td>862297</td>\n",
       "      <td>Nasser Djiga</td>\n",
       "      <td>2022</td>\n",
       "      <td>2002-11-15 00:00:00</td>\n",
       "      <td>0.5</td>\n",
       "      <td>19</td>\n",
       "      <td>Defender</td>\n",
       "      <td>Centre-Back</td>\n",
       "      <td>6.0</td>\n",
       "      <td>0.50</td>\n",
       "      <td>...</td>\n",
       "      <td>False</td>\n",
       "      <td>False</td>\n",
       "      <td>False</td>\n",
       "      <td>False</td>\n",
       "      <td>False</td>\n",
       "      <td>False</td>\n",
       "      <td>False</td>\n",
       "      <td>False</td>\n",
       "      <td>False</td>\n",
       "      <td>36</td>\n",
       "    </tr>\n",
       "    <tr>\n",
       "      <th>14157</th>\n",
       "      <td>864121</td>\n",
       "      <td>Issahaku Fatawu</td>\n",
       "      <td>2022</td>\n",
       "      <td>2004-03-08 00:00:00</td>\n",
       "      <td>0.5</td>\n",
       "      <td>17</td>\n",
       "      <td>Attack</td>\n",
       "      <td>Right Winger</td>\n",
       "      <td>6.0</td>\n",
       "      <td>0.10</td>\n",
       "      <td>...</td>\n",
       "      <td>False</td>\n",
       "      <td>False</td>\n",
       "      <td>False</td>\n",
       "      <td>False</td>\n",
       "      <td>False</td>\n",
       "      <td>False</td>\n",
       "      <td>True</td>\n",
       "      <td>False</td>\n",
       "      <td>False</td>\n",
       "      <td>64</td>\n",
       "    </tr>\n",
       "  </tbody>\n",
       "</table>\n",
       "<p>12014 rows × 29 columns</p>\n",
       "</div>"
      ],
      "text/plain": [
       "       player_id             name  year        date_of_birth  \\\n",
       "0            132    Tomas Rosicky  2005  1980-10-04 00:00:00   \n",
       "1            132    Tomas Rosicky  2006  1980-10-04 00:00:00   \n",
       "2            132    Tomas Rosicky  2007  1980-10-04 00:00:00   \n",
       "3            132    Tomas Rosicky  2008  1980-10-04 00:00:00   \n",
       "4            132    Tomas Rosicky  2009  1980-10-04 00:00:00   \n",
       "...          ...              ...   ...                  ...   \n",
       "14137     842341    Maxime Estève  2022  2002-05-26 00:00:00   \n",
       "14141     852024     Bénie Traoré  2022  2002-11-30 00:00:00   \n",
       "14145     855256       Alex Scott  2022  2003-08-21 00:00:00   \n",
       "14152     862297     Nasser Djiga  2022  2002-11-15 00:00:00   \n",
       "14157     864121  Issahaku Fatawu  2022  2004-03-08 00:00:00   \n",
       "\n",
       "       market_value_in_million_eur  age  position        sub_position  \\\n",
       "0                             11.0   24  Midfield  Attacking Midfield   \n",
       "1                             11.0   25  Midfield  Attacking Midfield   \n",
       "2                             14.4   26  Midfield  Attacking Midfield   \n",
       "3                             17.5   27  Midfield  Attacking Midfield   \n",
       "4                             15.5   28  Midfield  Attacking Midfield   \n",
       "...                            ...  ...       ...                 ...   \n",
       "14137                          4.5   20  Defender         Centre-Back   \n",
       "14141                          1.0   19    Attack      Centre-Forward   \n",
       "14145                          0.8   18  Midfield    Central Midfield   \n",
       "14152                          0.5   19  Defender         Centre-Back   \n",
       "14157                          0.5   17    Attack        Right Winger   \n",
       "\n",
       "       contract_years_left  value_last_year  ...  subpos_Defensive Midfield  \\\n",
       "0                      0.0            13.00  ...                      False   \n",
       "1                      0.0            11.00  ...                      False   \n",
       "2                      0.0            11.00  ...                      False   \n",
       "3                      0.0            14.40  ...                      False   \n",
       "4                      0.0            17.50  ...                      False   \n",
       "...                    ...              ...  ...                        ...   \n",
       "14137                  0.0             0.80  ...                      False   \n",
       "14141                  6.0             1.20  ...                      False   \n",
       "14145                  6.0             0.05  ...                      False   \n",
       "14152                  6.0             0.50  ...                      False   \n",
       "14157                  6.0             0.10  ...                      False   \n",
       "\n",
       "       subpos_Goalkeeper  subpos_Left Midfield  subpos_Left Winger  \\\n",
       "0                  False                 False               False   \n",
       "1                  False                 False               False   \n",
       "2                  False                 False               False   \n",
       "3                  False                 False               False   \n",
       "4                  False                 False               False   \n",
       "...                  ...                   ...                 ...   \n",
       "14137              False                 False               False   \n",
       "14141              False                 False               False   \n",
       "14145              False                 False               False   \n",
       "14152              False                 False               False   \n",
       "14157              False                 False               False   \n",
       "\n",
       "       subpos_Left-Back  subpos_Right Midfield  subpos_Right Winger  \\\n",
       "0                 False                  False                False   \n",
       "1                 False                  False                False   \n",
       "2                 False                  False                False   \n",
       "3                 False                  False                False   \n",
       "4                 False                  False                False   \n",
       "...                 ...                    ...                  ...   \n",
       "14137             False                  False                False   \n",
       "14141             False                  False                False   \n",
       "14145             False                  False                False   \n",
       "14152             False                  False                False   \n",
       "14157             False                  False                 True   \n",
       "\n",
       "       subpos_Right-Back  subpos_Second Striker  age_from_peak  \n",
       "0                  False                  False              1  \n",
       "1                  False                  False              0  \n",
       "2                  False                  False              1  \n",
       "3                  False                  False              4  \n",
       "4                  False                  False              9  \n",
       "...                  ...                    ...            ...  \n",
       "14137              False                  False             25  \n",
       "14141              False                  False             36  \n",
       "14145              False                  False             49  \n",
       "14152              False                  False             36  \n",
       "14157              False                  False             64  \n",
       "\n",
       "[12014 rows x 29 columns]"
      ]
     },
     "execution_count": 10,
     "metadata": {},
     "output_type": "execute_result"
    }
   ],
   "source": [
    "pdf_train"
   ]
  },
  {
   "cell_type": "code",
   "execution_count": 11,
   "id": "92b49796",
   "metadata": {},
   "outputs": [
    {
     "name": "stderr",
     "output_type": "stream",
     "text": [
      "[I 2025-07-31 16:44:15,669] A new study created in memory with name: no-name-a5355d39-d6d9-4474-b082-6d19b080de0f\n",
      "[I 2025-07-31 16:44:15,998] Trial 0 finished with value: 4.804722060548634 and parameters: {'n_estimators': 69, 'learning_rate': 0.16897489289511838, 'max_depth': 5, 'subsample': 0.7494125249125357, 'colsample_bytree': 0.9822990222264116, 'gamma': 0.3641929733332949, 'reg_alpha': 0.13147977855695792, 'reg_lambda': 4.620237106053038}. Best is trial 0 with value: 4.804722060548634.\n",
      "[I 2025-07-31 16:44:16,223] Trial 1 finished with value: 5.21964773267207 and parameters: {'n_estimators': 128, 'learning_rate': 0.22825059837301362, 'max_depth': 2, 'subsample': 0.58084404835995, 'colsample_bytree': 0.7683838908458354, 'gamma': 3.2902328102981313, 'reg_alpha': 0.45778389544797327, 'reg_lambda': 7.161070678603882}. Best is trial 0 with value: 4.804722060548634.\n",
      "[I 2025-07-31 16:44:16,546] Trial 2 finished with value: 6.047105799299016 and parameters: {'n_estimators': 148, 'learning_rate': 0.19613329482581554, 'max_depth': 7, 'subsample': 0.9242756062617363, 'colsample_bytree': 0.7685499569665228, 'gamma': 3.4696457607414373, 'reg_alpha': 0.6459395883102651, 'reg_lambda': 3.7123331003655973}. Best is trial 0 with value: 4.804722060548634.\n",
      "[I 2025-07-31 16:44:16,828] Trial 3 finished with value: 5.3414077161934435 and parameters: {'n_estimators': 127, 'learning_rate': 0.1184042114950867, 'max_depth': 5, 'subsample': 0.6585788234862922, 'colsample_bytree': 0.8039789946751659, 'gamma': 3.2308921648545192, 'reg_alpha': 0.49447938360775845, 'reg_lambda': 9.189118119956573}. Best is trial 0 with value: 4.804722060548634.\n",
      "[I 2025-07-31 16:44:17,136] Trial 4 finished with value: 5.8179109371629165 and parameters: {'n_estimators': 148, 'learning_rate': 0.10638945002414023, 'max_depth': 4, 'subsample': 0.9413919090333648, 'colsample_bytree': 0.783069491303771, 'gamma': 4.175734307431997, 'reg_alpha': 0.35045941870789876, 'reg_lambda': 1.938879358461106}. Best is trial 0 with value: 4.804722060548634.\n",
      "[I 2025-07-31 16:44:17,377] Trial 5 finished with value: 4.739890276099968 and parameters: {'n_estimators': 161, 'learning_rate': 0.2611692575521678, 'max_depth': 2, 'subsample': 0.8056073931190724, 'colsample_bytree': 0.8422057466047346, 'gamma': 3.6169057424105695, 'reg_alpha': 0.1181957921510225, 'reg_lambda': 4.294894636694038}. Best is trial 5 with value: 4.739890276099968.\n",
      "[I 2025-07-31 16:44:17,491] Trial 6 finished with value: 4.937775911243704 and parameters: {'n_estimators': 64, 'learning_rate': 0.2801797925163393, 'max_depth': 1, 'subsample': 0.8712088630686925, 'colsample_bytree': 0.8051172731420322, 'gamma': 3.9358879472862096, 'reg_alpha': 0.5654745582560117, 'reg_lambda': 9.406689571023103}. Best is trial 5 with value: 4.739890276099968.\n",
      "[I 2025-07-31 16:44:17,766] Trial 7 finished with value: 5.849756530377218 and parameters: {'n_estimators': 75, 'learning_rate': 0.29372100352344743, 'max_depth': 7, 'subsample': 0.7881905205217093, 'colsample_bytree': 0.7295478641526459, 'gamma': 1.3050601498102892, 'reg_alpha': 0.16613174692450794, 'reg_lambda': 0.24530139377602667}. Best is trial 5 with value: 4.739890276099968.\n",
      "[I 2025-07-31 16:44:17,929] Trial 8 finished with value: 5.786173181442121 and parameters: {'n_estimators': 70, 'learning_rate': 0.2932366447046525, 'max_depth': 3, 'subsample': 0.7076535989703312, 'colsample_bytree': 0.6374789543447793, 'gamma': 1.9357632473631525, 'reg_alpha': 0.006024681053805936, 'reg_lambda': 7.9613345107931845}. Best is trial 5 with value: 4.739890276099968.\n",
      "[I 2025-07-31 16:44:18,304] Trial 9 finished with value: 6.625483301602082 and parameters: {'n_estimators': 92, 'learning_rate': 0.06530497447182548, 'max_depth': 7, 'subsample': 0.6665501332599528, 'colsample_bytree': 0.66904716073769, 'gamma': 0.7282169985613657, 'reg_alpha': 0.49140469872776815, 'reg_lambda': 1.5255210358579607}. Best is trial 5 with value: 4.739890276099968.\n",
      "[I 2025-07-31 16:44:18,624] Trial 10 finished with value: 5.518674617505154 and parameters: {'n_estimators': 200, 'learning_rate': 0.02276530873398938, 'max_depth': 1, 'subsample': 0.5218765128927095, 'colsample_bytree': 0.9131411743802686, 'gamma': 4.926668782561563, 'reg_alpha': 0.8259769373076176, 'reg_lambda': 5.564143033736396}. Best is trial 5 with value: 4.739890276099968.\n",
      "[I 2025-07-31 16:44:19,125] Trial 11 finished with value: 4.986534879861513 and parameters: {'n_estimators': 188, 'learning_rate': 0.18283574658540164, 'max_depth': 5, 'subsample': 0.8063291991183613, 'colsample_bytree': 0.9861902513003666, 'gamma': 0.05119367898198085, 'reg_alpha': 0.1907748067613123, 'reg_lambda': 4.243131830898829}. Best is trial 5 with value: 4.739890276099968.\n",
      "[I 2025-07-31 16:44:19,512] Trial 12 finished with value: 5.160271727268402 and parameters: {'n_estimators': 172, 'learning_rate': 0.23724290768093592, 'max_depth': 5, 'subsample': 0.8367514014902296, 'colsample_bytree': 0.8897805097326938, 'gamma': 2.111331013480439, 'reg_alpha': 0.06036565182625046, 'reg_lambda': 6.022588290368942}. Best is trial 5 with value: 4.739890276099968.\n",
      "[I 2025-07-31 16:44:19,741] Trial 13 finished with value: 4.743032233772644 and parameters: {'n_estimators': 102, 'learning_rate': 0.15548001065632855, 'max_depth': 3, 'subsample': 0.7491489978222694, 'colsample_bytree': 0.9814675238423033, 'gamma': 2.6849486393754405, 'reg_alpha': 0.2663817709118919, 'reg_lambda': 3.7219274903656583}. Best is trial 5 with value: 4.739890276099968.\n",
      "[I 2025-07-31 16:44:19,947] Trial 14 finished with value: 5.006855812571906 and parameters: {'n_estimators': 101, 'learning_rate': 0.1224252322689055, 'max_depth': 3, 'subsample': 0.9979204172826701, 'colsample_bytree': 0.8907347137638777, 'gamma': 2.7574934541100746, 'reg_alpha': 0.26736059819747887, 'reg_lambda': 3.1469442447225555}. Best is trial 5 with value: 4.739890276099968.\n",
      "[I 2025-07-31 16:44:20,148] Trial 15 finished with value: 4.729860566664296 and parameters: {'n_estimators': 108, 'learning_rate': 0.23000811895922715, 'max_depth': 2, 'subsample': 0.7382883532154241, 'colsample_bytree': 0.9331868551521879, 'gamma': 2.63561893528035, 'reg_alpha': 0.32574071070090377, 'reg_lambda': 2.6653180890594315}. Best is trial 15 with value: 4.729860566664296.\n",
      "[I 2025-07-31 16:44:20,477] Trial 16 finished with value: 4.783035218723011 and parameters: {'n_estimators': 155, 'learning_rate': 0.2487744258358329, 'max_depth': 2, 'subsample': 0.634537755533499, 'colsample_bytree': 0.8454703804261761, 'gamma': 4.590949972189261, 'reg_alpha': 0.34884607858160327, 'reg_lambda': 2.2439998145435696}. Best is trial 15 with value: 4.729860566664296.\n",
      "[I 2025-07-31 16:44:20,724] Trial 17 finished with value: 4.731291270822926 and parameters: {'n_estimators': 115, 'learning_rate': 0.20632739688546653, 'max_depth': 2, 'subsample': 0.848919226873471, 'colsample_bytree': 0.9216077284266342, 'gamma': 1.643844087996776, 'reg_alpha': 0.7280496626771948, 'reg_lambda': 0.19329716164301214}. Best is trial 15 with value: 4.729860566664296.\n",
      "[I 2025-07-31 16:44:20,949] Trial 18 finished with value: 4.936152566985749 and parameters: {'n_estimators': 114, 'learning_rate': 0.2065612678963755, 'max_depth': 1, 'subsample': 0.8861655806116435, 'colsample_bytree': 0.9373965633064005, 'gamma': 1.3783787477345855, 'reg_alpha': 0.9873222288271197, 'reg_lambda': 0.1115433810826385}. Best is trial 15 with value: 4.729860566664296.\n",
      "[I 2025-07-31 16:44:21,281] Trial 19 finished with value: 5.122328450964496 and parameters: {'n_estimators': 135, 'learning_rate': 0.2156830323307663, 'max_depth': 4, 'subsample': 0.7061591296524532, 'colsample_bytree': 0.9273358655421469, 'gamma': 1.5820051783225018, 'reg_alpha': 0.7230246630903702, 'reg_lambda': 1.2175699817434205}. Best is trial 15 with value: 4.729860566664296.\n"
     ]
    },
    {
     "name": "stdout",
     "output_type": "stream",
     "text": [
      "Best trial params: {'n_estimators': 108, 'learning_rate': 0.23000811895922715, 'max_depth': 2, 'subsample': 0.7382883532154241, 'colsample_bytree': 0.9331868551521879, 'gamma': 2.63561893528035, 'reg_alpha': 0.32574071070090377, 'reg_lambda': 2.6653180890594315}\n",
      "Best trial RMSE: 4.7299\n",
      "2023 RMSE: 6.73\n",
      "2023 R²: 0.821\n"
     ]
    },
    {
     "data": {
      "application/vnd.plotly.v1+json": {
       "config": {
        "plotlyServerURL": "https://plot.ly"
       },
       "data": [
        {
         "customdata": [
          [
           "Eldin Jakupovic",
           38
          ],
          [
           "James Milner",
           37
          ],
          [
           "Óscar Ustari",
           36
          ],
          [
           "Gabriel Tamas",
           39
          ],
          [
           "Cristiano Ronaldo",
           38
          ],
          [
           "Shaun MacDonald",
           34
          ],
          [
           "Phil Jagielka",
           40
          ],
          [
           "Andy Lonergan",
           39
          ],
          [
           "Ashley Young",
           37
          ],
          [
           "Scott Carson",
           37
          ],
          [
           "Phil Bardsley",
           37
          ],
          [
           "David Martin",
           37
          ],
          [
           "Casemiro",
           31
          ],
          [
           "Hugo Lloris",
           36
          ],
          [
           "Curtis Davies",
           38
          ],
          [
           "Willy Caballero",
           41
          ],
          [
           "Fernandinho",
           37
          ],
          [
           "Nenê",
           41
          ],
          [
           "Thiago Silva",
           38
          ],
          [
           "Lukasz Fabianski",
           38
          ],
          [
           "John Ruddy",
           36
          ],
          [
           "Chu-young Park",
           37
          ],
          [
           "Dusan Kuciak",
           38
          ],
          [
           "Tim Krul",
           35
          ],
          [
           "Lukas Jutkiewicz",
           34
          ],
          [
           "Theo Walcott",
           34
          ],
          [
           "Alex Smithies",
           33
          ],
          [
           "Asmir Begovic",
           36
          ],
          [
           "Tom Heaton",
           37
          ],
          [
           "Richard Stearman",
           35
          ],
          [
           "Lewis Grabban",
           35
          ],
          [
           "David McGoldrick",
           35
          ],
          [
           "Gaëtan Bong",
           35
          ],
          [
           "Leon Clarke",
           38
          ],
          [
           "Shane Long",
           36
          ],
          [
           "Kamil Grosicki",
           35
          ],
          [
           "Martin Olsson",
           35
          ],
          [
           "Lee Peltier",
           36
          ],
          [
           "Adrian Mariappa",
           36
          ],
          [
           "Kei Kamara",
           38
          ],
          [
           "Mario Vrancic",
           33
          ],
          [
           "Jozy Altidore",
           33
          ],
          [
           "Brad Guzan",
           38
          ],
          [
           "Marouane Fellaini",
           35
          ],
          [
           "Ryan Bertrand",
           33
          ],
          [
           "Liam Bridcutt",
           34
          ],
          [
           "Jack Cork",
           33
          ],
          [
           "James McArthur",
           35
          ],
          [
           "Sone Aluko",
           34
          ],
          [
           "Fraizer Campbell",
           35
          ],
          [
           "Jonny Evans",
           35
          ],
          [
           "Gary Hooper",
           34
          ],
          [
           "Gaetano Berardi",
           34
          ],
          [
           "Elliott Bennett",
           34
          ],
          [
           "Stephen Quinn",
           37
          ],
          [
           "Adam Lallana",
           35
          ],
          [
           "Erik Pieters",
           34
          ],
          [
           "Chris Gunter",
           33
          ],
          [
           "Bojan Krkic",
           32
          ],
          [
           "Beram Kayal",
           35
          ],
          [
           "Diego Costa",
           34
          ],
          [
           "Henri Lansbury",
           32
          ],
          [
           "Dan Gosling",
           33
          ],
          [
           "Claudio Yacob",
           35
          ],
          [
           "Jonathan Howson",
           35
          ],
          [
           "Wayne Hennessey",
           36
          ],
          [
           "Marco Stiepermann",
           32
          ],
          [
           "Fabri",
           35
          ],
          [
           "Luke Daniels",
           35
          ],
          [
           "Chris Martin",
           34
          ],
          [
           "Pablo Hernández",
           38
          ],
          [
           "Lovre Kalinic",
           33
          ],
          [
           "David Luiz",
           35
          ],
          [
           "Teemu Pukki",
           33
          ],
          [
           "Alex Pearce",
           34
          ],
          [
           "Jason Puncheon",
           36
          ],
          [
           "Angelo Ogbonna",
           35
          ],
          [
           "Andy Carroll",
           34
          ],
          [
           "Sam Vokes",
           33
          ],
          [
           "Jordan Rhodes",
           33
          ],
          [
           "Bradley Johnson",
           35
          ],
          [
           "James Perch",
           37
          ],
          [
           "Elias Kachunga",
           30
          ],
          [
           "Billy Sharp",
           37
          ],
          [
           "Andreas Weimann",
           31
          ],
          [
           "Danny Rose",
           32
          ],
          [
           "Christian Benteke",
           32
          ],
          [
           "Chicharito",
           35
          ],
          [
           "Aleksandar Mitrović",
           28
          ],
          [
           "Carlos Sánchez",
           37
          ],
          [
           "Darren Randolph",
           36
          ],
          [
           "Joe Allen",
           33
          ],
          [
           "Mateo Kovacic",
           29
          ],
          [
           "Henri Saivet",
           32
          ],
          [
           "Wellington Paulista",
           39
          ],
          [
           "Zanka",
           33
          ],
          [
           "Chris Basham",
           34
          ],
          [
           "Fraser Forster",
           35
          ],
          [
           "Willian",
           34
          ],
          [
           "Jay Rodríguez",
           33
          ],
          [
           "İlkay Gündoğan",
           32
          ],
          [
           "John Fleck",
           31
          ],
          [
           "Sebastián Blanco",
           35
          ],
          [
           "Magnus Wolff Eikrem",
           32
          ],
          [
           "Chris Löwe",
           34
          ],
          [
           "Harry Arter",
           33
          ],
          [
           "Jack Rodwell",
           32
          ],
          [
           "Jordon Mutch",
           31
          ],
          [
           "Simon Dawkins",
           35
          ],
          [
           "Christopher Schindler",
           33
          ],
          [
           "Emilio Nsue",
           33
          ],
          [
           "Craig Cathcart",
           34
          ],
          [
           "Thiago Alcántara",
           32
          ],
          [
           "Sean Scannell",
           32
          ],
          [
           "Marc Albrighton",
           33
          ],
          [
           "Barry Bannan",
           33
          ],
          [
           "Jonathan Hogg",
           34
          ],
          [
           "James Tomkins",
           34
          ],
          [
           "Jack Colback",
           33
          ],
          [
           "Conor Hourihane",
           32
          ],
          [
           "Neil Etheridge",
           33
          ],
          [
           "Wes Foderingham",
           32
          ],
          [
           "David Button",
           34
          ],
          [
           "Jake Livermore",
           33
          ],
          [
           "Adam Smith",
           32
          ],
          [
           "Stefan Johansen",
           32
          ],
          [
           "Shane Ferguson",
           31
          ],
          [
           "Vegard Forren",
           35
          ],
          [
           "Odion Ighalo",
           34
          ],
          [
           "Scott Dann",
           36
          ],
          [
           "Tomás Mejías",
           34
          ],
          [
           "Ashley Barnes",
           33
          ],
          [
           "Aron Gunnarsson",
           34
          ],
          [
           "Libor Kozak",
           34
          ],
          [
           "Troy Deeney",
           34
          ],
          [
           "Kyle Naughton",
           34
          ],
          [
           "Luke Freeman",
           31
          ],
          [
           "Cheikhou Kouyaté",
           33
          ],
          [
           "Gary Madine",
           32
          ],
          [
           "Danny Welbeck",
           32
          ],
          [
           "Sam Baldock",
           34
          ],
          [
           "Mark Oxley",
           32
          ],
          [
           "Ryan Bennett",
           33
          ],
          [
           "Ben Hamer",
           35
          ],
          [
           "David Stockdale",
           37
          ],
          [
           "Luke Ayling",
           31
          ],
          [
           "Kyle Bartley",
           32
          ],
          [
           "Michal Zyro",
           30
          ],
          [
           "Séamus Coleman",
           34
          ],
          [
           "Giedrius Arlauskis",
           35
          ],
          [
           "Christian Eriksen",
           31
          ],
          [
           "Garath McCleary",
           35
          ],
          [
           "Róger Espinoza",
           36
          ],
          [
           "Bernd Leno",
           31
          ],
          [
           "Adam Clayton",
           34
          ],
          [
           "Ben Amos",
           33
          ],
          [
           "James Chester",
           34
          ],
          [
           "Tom Cleverley",
           33
          ],
          [
           "Danny Drinkwater",
           33
          ],
          [
           "Matty James",
           31
          ],
          [
           "Oliver Norwood",
           32
          ],
          [
           "Jason Steele",
           32
          ],
          [
           "Pablo Sarabia",
           30
          ],
          [
           "Luka Milivojevic",
           32
          ],
          [
           "Adlène Guédioura",
           37
          ],
          [
           "Ben Mee",
           33
          ],
          [
           "Juraj Kucka",
           36
          ],
          [
           "Martin Dúbravka",
           34
          ],
          [
           "Liam Cooper",
           31
          ],
          [
           "Robin Olsen",
           33
          ],
          [
           "Niclas Füllkrug",
           30
          ],
          [
           "Lucas Moura",
           30
          ],
          [
           "Matt Phillips",
           32
          ],
          [
           "George Friend",
           35
          ],
          [
           "Thomas Kaminski",
           30
          ],
          [
           "Victor Wanyama",
           32
          ],
          [
           "Martin Kelly",
           33
          ],
          [
           "Daniel Ayala",
           32
          ],
          [
           "Sean Morrison",
           32
          ],
          [
           "Salomón Rondón",
           33
          ],
          [
           "Korey Smith",
           32
          ],
          [
           "Philippe Coutinho",
           30
          ],
          [
           "Craig Noone",
           35
          ],
          [
           "Tadanari Lee",
           37
          ],
          [
           "Sung-yueng Ki",
           34
          ],
          [
           "Chung-yong Lee",
           34
          ],
          [
           "Joel Matip",
           31
          ],
          [
           "Moritz Leitner",
           30
          ],
          [
           "Albert Adomah",
           35
          ],
          [
           "Nathaniel Clyne",
           32
          ],
          [
           "Oscar",
           31
          ],
          [
           "Borja Bastón",
           30
          ],
          [
           "Federico Fernández",
           34
          ],
          [
           "Enda Stevens",
           32
          ],
          [
           "Loris Karius",
           30
          ],
          [
           "Danny Lafferty",
           34
          ],
          [
           "James McClean",
           34
          ],
          [
           "Stefan Ortega",
           30
          ],
          [
           "Thomas Eisfeld",
           30
          ],
          [
           "Valentin Roberge",
           35
          ],
          [
           "Junior Stanislas",
           33
          ],
          [
           "Luca Scapuzzi",
           32
          ],
          [
           "Kevin De Bruyne",
           32
          ],
          [
           "Jonathan Kodjia",
           33
          ],
          [
           "Jóhann Berg Gudmundsson",
           32
          ],
          [
           "David Cornell",
           32
          ],
          [
           "Román Golobart",
           30
          ],
          [
           "Steve Cook",
           32
          ],
          [
           "Joe Bennett",
           33
          ],
          [
           "John Brayford",
           35
          ],
          [
           "Ashley Westwood",
           33
          ],
          [
           "James Shea",
           31
          ],
          [
           "Heung-min Son",
           30
          ],
          [
           "Sammy Ameobi",
           30
          ],
          [
           "Matt Ritchie",
           33
          ],
          [
           "Aaron Cresswell",
           33
          ],
          [
           "Joel Ward",
           33
          ],
          [
           "Mateusz Klich",
           33
          ],
          [
           "Kalidou Koulibaly",
           31
          ],
          [
           "Adama Diomande",
           33
          ],
          [
           "Marcos Rojo",
           33
          ],
          [
           "Stuart O'Keefe",
           32
          ],
          [
           "Muhamed Besic",
           30
          ],
          [
           "Jordan Bowery",
           31
          ],
          [
           "Connor Wickham",
           30
          ],
          [
           "Kieran Trippier",
           32
          ],
          [
           "Alex McCarthy",
           33
          ],
          [
           "Ciaran Clark",
           33
          ],
          [
           "Jannik Vestergaard",
           30
          ],
          [
           "Karl Darlow",
           32
          ],
          [
           "Matej Vydra",
           31
          ],
          [
           "Scott Malone",
           32
          ],
          [
           "Jorginho",
           31
          ],
          [
           "Matthew Lowton",
           34
          ],
          [
           "Michail Antonio",
           33
          ],
          [
           "Lyle Taylor",
           33
          ],
          [
           "Filip Orsula",
           30
          ],
          [
           "Alisson",
           30
          ],
          [
           "Jordan Ayew",
           31
          ],
          [
           "Chris Wood",
           31
          ],
          [
           "Adam Matthews",
           31
          ],
          [
           "Onel Hernández",
           30
          ],
          [
           "Luke Garbutt",
           30
          ],
          [
           "Gary Gardner",
           30
          ],
          [
           "Sam Johnstone",
           29
          ],
          [
           "Jed Steer",
           30
          ],
          [
           "Ryan Tunnicliffe",
           30
          ],
          [
           "Ryan Allsop",
           30
          ],
          [
           "Kevin Long",
           32
          ],
          [
           "Joël Veltman",
           31
          ],
          [
           "Sead Hajrovic",
           30
          ],
          [
           "Neeskens Kebano",
           31
          ],
          [
           "Ahmed Hegazy",
           32
          ],
          [
           "Neto",
           33
          ],
          [
           "Emiliano Martínez",
           30
          ],
          [
           "Philip Heise",
           32
          ],
          [
           "Tomer Hemed",
           36
          ],
          [
           "Cédric Soares",
           31
          ],
          [
           "Romaine Sawyers",
           31
          ],
          [
           "Greg Cunningham",
           32
          ],
          [
           "Richie Towell",
           31
          ],
          [
           "Luke Brattan",
           33
          ],
          [
           "Marcus Bettinelli",
           31
          ],
          [
           "Phil Jones",
           31
          ],
          [
           "Michael Keane",
           30
          ],
          [
           "Will Keane",
           30
          ],
          [
           "Ezequiel Schelotto",
           34
          ],
          [
           "Shane Duffy",
           31
          ],
          [
           "Jack Grimmer",
           29
          ],
          [
           "Daniel Bachmann",
           28
          ],
          [
           "Jazz Richards",
           32
          ],
          [
           "Alphonse Areola",
           30
          ],
          [
           "Joe Mason",
           32
          ],
          [
           "Kwesi Appiah",
           32
          ],
          [
           "Adam Davies",
           30
          ],
          [
           "Adam Forshaw",
           31
          ],
          [
           "Ryan Watson",
           29
          ],
          [
           "Tom Carroll",
           30
          ],
          [
           "John Egan",
           30
          ],
          [
           "Grant Hanley",
           31
          ],
          [
           "Eirik Johansen",
           30
          ],
          [
           "Tommy Smith",
           31
          ],
          [
           "Emyr Huws",
           29
          ],
          [
           "Craig Dawson",
           33
          ],
          [
           "Wellington Silva",
           30
          ],
          [
           "Markus Henriksen",
           30
          ],
          [
           "Sam Clucas",
           32
          ],
          [
           "Nico Yennaris",
           30
          ],
          [
           "Ali Gabr",
           34
          ],
          [
           "Tom Cairney",
           32
          ],
          [
           "Simon Moore",
           33
          ],
          [
           "Sam Morsy",
           31
          ],
          [
           "Callum Wilson",
           31
          ],
          [
           "Danny Ward",
           32
          ],
          [
           "Odysseas Vlachodimos",
           29
          ],
          [
           "Grant Hall",
           31
          ],
          [
           "Pontus Jansson",
           32
          ],
          [
           "Nathaniel Mendez-Laing",
           30
          ],
          [
           "Luke Berry",
           30
          ],
          [
           "Mark Flekken",
           30
          ],
          [
           "Lee Nicholls",
           30
          ],
          [
           "Carl Jenkinson",
           31
          ],
          [
           "Allan",
           32
          ],
          [
           "Kenny McLean",
           31
          ],
          [
           "Lucas Digne",
           29
          ],
          [
           "Idrissa Gueye",
           33
          ],
          [
           "Serge Aurier",
           30
          ],
          [
           "Abdoulaye Doucouré",
           30
          ],
          [
           "Matz Sels",
           31
          ],
          [
           "Robbie Brady",
           31
          ],
          [
           "Scott Wootton",
           31
          ],
          [
           "Derrick Williams",
           30
          ],
          [
           "Bo-kyung Kim",
           33
          ],
          [
           "Tom Anderson",
           29
          ],
          [
           "Jamal Blackman",
           29
          ],
          [
           "Nathaniel Chalobah",
           28
          ],
          [
           "Conor Coady",
           30
          ],
          [
           "Ben Gibson",
           30
          ],
          [
           "Liam Moore",
           30
          ],
          [
           "Jack Robinson",
           29
          ],
          [
           "Ethan Ebanks-Landell",
           30
          ],
          [
           "Nathan Redmond",
           29
          ],
          [
           "Charlie Austin",
           33
          ],
          [
           "Jordan Pickford",
           29
          ],
          [
           "Stuart Armstrong",
           31
          ],
          [
           "Jonathan Bond",
           30
          ],
          [
           "Juan Agudelo",
           30
          ],
          [
           "Rodrigo",
           32
          ],
          [
           "Roberto Firmino",
           31
          ],
          [
           "Ross Barkley",
           29
          ],
          [
           "Phil Ofosu-Ayeh",
           31
          ],
          [
           "Dan Burn",
           31
          ],
          [
           "Danny Ings",
           30
          ],
          [
           "Matthias Fanimo",
           29
          ],
          [
           "Nick Powell",
           29
          ],
          [
           "Raheem Sterling",
           28
          ],
          [
           "Blair Turgott",
           29
          ],
          [
           "André Carrillo",
           32
          ],
          [
           "Fabian Schär",
           31
          ],
          [
           "Manuel Lanzini",
           30
          ],
          [
           "Daniel Bentley",
           29
          ],
          [
           "Kadeem Harris",
           29
          ],
          [
           "Marçal",
           34
          ],
          [
           "Jakob Haugaard",
           31
          ],
          [
           "Virgil van Dijk",
           31
          ],
          [
           "Ryan Fredericks",
           30
          ],
          [
           "Josip Drmic",
           30
          ],
          [
           "Liam O'Neil",
           29
          ],
          [
           "George Saville",
           30
          ],
          [
           "Zeki Fryers",
           30
          ],
          [
           "Jesse Lingard",
           30
          ],
          [
           "Willy Boly",
           32
          ],
          [
           "Mark Gillespie",
           31
          ],
          [
           "Krisztián Adorján",
           30
          ],
          [
           "Leandro Trossard",
           28
          ],
          [
           "Tim Ream",
           35
          ],
          [
           "Wataru Endo",
           30
          ],
          [
           "Conor Townsend",
           30
          ],
          [
           "George Baldock",
           30
          ],
          [
           "Ryan Fraser",
           29
          ],
          [
           "Lewis Dunk",
           31
          ],
          [
           "Jeff Hendrick",
           31
          ],
          [
           "Christian Nørgaard",
           29
          ],
          [
           "Divock Origi",
           27
          ],
          [
           "Mohamed Salah",
           30
          ],
          [
           "Tomas Kalas",
           29
          ],
          [
           "Jiri Skalak",
           31
          ],
          [
           "Todd Kane",
           29
          ],
          [
           "Felipe",
           34
          ],
          [
           "Tyias Browning",
           28
          ],
          [
           "Ben Heneghan",
           29
          ],
          [
           "Tom Ince",
           31
          ],
          [
           "Michael Hector",
           30
          ],
          [
           "Kurt Zouma",
           28
          ],
          [
           "Vladimír Coufal",
           30
          ],
          [
           "Cyrus Christie",
           30
          ],
          [
           "Tendayi Darikwa",
           31
          ],
          [
           "Kieron Freeman",
           31
          ],
          [
           "Max Ehmer",
           31
          ],
          [
           "Stuart Dallas",
           32
          ],
          [
           "Mesca",
           29
          ],
          [
           "Mohamed Elneny",
           30
          ],
          [
           "Adam Reach",
           30
          ],
          [
           "Connor Ripley",
           30
          ],
          [
           "Adam Smith",
           30
          ],
          [
           "Jack Stephens",
           29
          ],
          [
           "Rory Donnelly",
           31
          ],
          [
           "Raphaël Varane",
           30
          ],
          [
           "Jürgen Locadia",
           29
          ],
          [
           "Paddy McNair",
           28
          ],
          [
           "James Husband",
           29
          ],
          [
           "Daniel Johnson",
           30
          ],
          [
           "Callum Paterson",
           28
          ],
          [
           "Cauley Woodrow",
           28
          ],
          [
           "Paul Dummett",
           31
          ],
          [
           "Jonathan Williams",
           29
          ],
          [
           "Timo Werner",
           27
          ],
          [
           "Cody Cropper",
           30
          ],
          [
           "Ben Reeves",
           31
          ],
          [
           "Jay Fulton",
           29
          ],
          [
           "Riyad Mahrez",
           32
          ],
          [
           "Matt Doherty",
           31
          ],
          [
           "Nahki Wells",
           33
          ],
          [
           "James Tarkowski",
           30
          ],
          [
           "Hélder Costa",
           29
          ],
          [
           "Brad Smith",
           29
          ],
          [
           "Sebastian Lletget",
           30
          ],
          [
           "Aymeric Laporte",
           28
          ],
          [
           "Florin Andone",
           30
          ],
          [
           "Nathan Aké",
           28
          ],
          [
           "Charly Musonda Jr.",
           26
          ],
          [
           "Graham Burke",
           29
          ],
          [
           "Harry Maguire",
           30
          ],
          [
           "Jean Michaël Seri",
           31
          ],
          [
           "Donald Love",
           28
          ],
          [
           "Curtis Good",
           30
          ],
          [
           "George Evans",
           28
          ],
          [
           "James Ward-Prowse",
           28
          ],
          [
           "Massimo Luongo",
           30
          ],
          [
           "Emerson",
           28
          ],
          [
           "Jordan Graham",
           28
          ],
          [
           "Ryan Inniss",
           27
          ],
          [
           "Luke Shaw",
           27
          ],
          [
           "Joe Rothwell",
           28
          ],
          [
           "Callum Robinson",
           28
          ],
          [
           "Luke McGee",
           27
          ],
          [
           "Ben Pearson",
           28
          ],
          [
           "Jamaal Lascelles",
           29
          ],
          [
           "Patrick Bamford",
           29
          ],
          [
           "Gregor Zabret",
           28
          ],
          [
           "Jordan Clark",
           29
          ],
          [
           "Ming-Yang Yang",
           27
          ],
          [
           "Tom Hopper",
           29
          ],
          [
           "Emil Krafth",
           28
          ],
          [
           "Victor Lindelöf",
           28
          ],
          [
           "Bobby De Cordova-Reid",
           30
          ],
          [
           "John Stones",
           29
          ],
          [
           "Marek Rodák",
           26
          ],
          [
           "Jack Rose",
           28
          ],
          [
           "Ryan Christie",
           28
          ],
          [
           "Michael Petrasso",
           27
          ],
          [
           "Sean Maguire",
           29
          ],
          [
           "Nick Pope",
           31
          ],
          [
           "Kepa Arrizabalaga",
           28
          ],
          [
           "Ben Davies",
           30
          ],
          [
           "Álex Moreno",
           30
          ],
          [
           "John McGinn",
           28
          ],
          [
           "Joe Bryan",
           29
          ],
          [
           "Charlie Taylor",
           29
          ],
          [
           "Adedeji Oshilaja",
           29
          ],
          [
           "Joe Ralls",
           29
          ],
          [
           "Remi Matthews",
           29
          ],
          [
           "John Swift",
           27
          ],
          [
           "Janoi Donacien",
           29
          ],
          [
           "Josh Sheehan",
           28
          ],
          [
           "Jamie Vardy",
           36
          ],
          [
           "Liam Shephard",
           28
          ],
          [
           "Harry Toffolo",
           27
          ],
          [
           "Lewis Baker",
           28
          ],
          [
           "Sam Hoskins",
           30
          ],
          [
           "Jacob Murphy",
           28
          ],
          [
           "Josh Murphy",
           28
          ],
          [
           "Kevin Stewart",
           29
          ],
          [
           "Angus Gunn",
           27
          ],
          [
           "Danny Ward",
           30
          ],
          [
           "Conor McGrandles",
           27
          ],
          [
           "Andreas Pereira",
           27
          ],
          [
           "Jack Grealish",
           27
          ],
          [
           "Oleksandr Zinchenko",
           26
          ],
          [
           "Adama Traoré",
           27
          ],
          [
           "Saman Ghoddos",
           29
          ],
          [
           "Dejan Iliev",
           28
          ],
          [
           "Raúl Jiménez",
           31
          ],
          [
           "Isaac Hayden",
           28
          ],
          [
           "Kenny Tete",
           27
          ],
          [
           "Will Hughes",
           28
          ],
          [
           "Dan Potts",
           29
          ],
          [
           "Tom Lockyer",
           28
          ],
          [
           "Louis Thompson",
           28
          ],
          [
           "Brendan Galloway",
           27
          ],
          [
           "Christian Walton",
           27
          ],
          [
           "Solly March",
           28
          ],
          [
           "Oumar Niasse",
           32
          ],
          [
           "Jack O'Connell",
           29
          ],
          [
           "Adam Webster",
           28
          ],
          [
           "David Ferguson",
           28
          ],
          [
           "Connor Roberts",
           27
          ],
          [
           "Kean Bryan",
           26
          ],
          [
           "Calum Chambers",
           28
          ],
          [
           "Tom King",
           28
          ],
          [
           "Ricardo Pereira",
           29
          ],
          [
           "Ben Osborn",
           28
          ],
          [
           "George Honeyman",
           28
          ],
          [
           "Conor Grant",
           27
          ],
          [
           "Matthew Pennington",
           28
          ],
          [
           "Zack Steffen",
           28
          ],
          [
           "Alex Gilliead",
           27
          ],
          [
           "Joel Dixon",
           29
          ],
          [
           "Danilo Pantic",
           26
          ],
          [
           "Luke Simpson",
           28
          ],
          [
           "N'Golo Kanté",
           31
          ],
          [
           "Gonçalo Guedes",
           26
          ],
          [
           "Rúben Neves",
           26
          ],
          [
           "Fabinho",
           29
          ],
          [
           "Matheus Pereira",
           27
          ],
          [
           "Freddie Woodman",
           26
          ],
          [
           "Sean Raggett",
           29
          ],
          [
           "Anthony Cáceres",
           30
          ],
          [
           "Dominic Gape",
           28
          ],
          [
           "Lloyd Isgrove",
           30
          ],
          [
           "Harrison Reed",
           28
          ],
          [
           "Sam Gallagher",
           27
          ],
          [
           "Jason McCarthy",
           27
          ],
          [
           "Gedion Zelalem",
           26
          ],
          [
           "Thomas Partey",
           30
          ],
          [
           "Nélson Semedo",
           29
          ],
          [
           "Emiliano Marcondes",
           28
          ],
          [
           "Kortney Hause",
           27
          ],
          [
           "Freddie Ladapo",
           30
          ],
          [
           "André Onana",
           26
          ],
          [
           "Andrew Robertson",
           29
          ],
          [
           "Ola Aina",
           26
          ],
          [
           "Connor Ogilvie",
           27
          ],
          [
           "Sam Byram",
           29
          ],
          [
           "Ederson",
           29
          ],
          [
           "Leandro Rodríguez",
           30
          ],
          [
           "Jamal Lowe",
           28
          ],
          [
           "George Byers",
           26
          ],
          [
           "Bruno Fernandes",
           28
          ],
          [
           "Bernardo Silva",
           28
          ],
          [
           "Jindrich Stanek",
           27
          ],
          [
           "Ethan Horvath",
           27
          ],
          [
           "Gethin Jones",
           27
          ],
          [
           "Courtney Duffus",
           27
          ],
          [
           "Josh Cullen",
           26
          ],
          [
           "Alex Iwobi",
           27
          ],
          [
           "Nathan Mavila",
           27
          ],
          [
           "Lewis Page",
           26
          ],
          [
           "Josh Vickers",
           27
          ],
          [
           "Jan Bednarek",
           26
          ],
          [
           "Josh Onomah",
           26
          ],
          [
           "Lawrence Vigouroux",
           29
          ],
          [
           "Lloyd Jones",
           27
          ],
          [
           "Hiram Boateng",
           27
          ],
          [
           "Pelly Ruddock Mpanzu",
           29
          ],
          [
           "Jon Gorenc Stankovic",
           27
          ],
          [
           "Saša Lukić",
           26
          ],
          [
           "Reece James",
           29
          ],
          [
           "Alex Palmer",
           26
          ],
          [
           "Bartosz Kapustka",
           26
          ],
          [
           "Carlton Morris",
           27
          ],
          [
           "Duncan Watmore",
           29
          ],
          [
           "Lewis Cook",
           26
          ],
          [
           "Harry Winks",
           27
          ],
          [
           "Jack Stacey",
           27
          ],
          [
           "Youri Tielemans",
           25
          ],
          [
           "Tariqe Fosu",
           27
          ],
          [
           "José Sá",
           30
          ],
          [
           "Adam Armstrong",
           26
          ],
          [
           "Jamie Sterry",
           27
          ],
          [
           "Matt Targett",
           27
          ],
          [
           "Enes Ünal",
           26
          ],
          [
           "Jordan Lyden",
           27
          ],
          [
           "Ivan Toney",
           27
          ],
          [
           "Semi Ajayi",
           29
          ],
          [
           "Ken Sema",
           29
          ],
          [
           "Rob Holding",
           27
          ],
          [
           "Tyrone Mings",
           30
          ],
          [
           "Harry Cornick",
           28
          ],
          [
           "Wes Burns",
           28
          ],
          [
           "Samir Caetano",
           28
          ],
          [
           "Cameron Burgess",
           27
          ],
          [
           "Joe Gomez",
           26
          ],
          [
           "Adnan Maric",
           26
          ],
          [
           "Dan Barlaser",
           26
          ],
          [
           "Tommy Robson",
           27
          ],
          [
           "Rúben Dias",
           26
          ],
          [
           "Kasey Palmer",
           26
          ],
          [
           "Tom Beadling",
           27
          ],
          [
           "Tosin Adarabioyo",
           25
          ],
          [
           "Ryan Ledson",
           25
          ],
          [
           "Max Lowe",
           25
          ],
          [
           "Kyle Scott",
           25
          ],
          [
           "Dominic Solanke",
           25
          ],
          [
           "Dean Henderson",
           26
          ],
          [
           "Marcus Rashford",
           25
          ],
          [
           "Joachim Andersen",
           27
          ],
          [
           "Daniel Iversen",
           25
          ],
          [
           "Cameron Brannagan",
           26
          ],
          [
           "Filip Krovinovic",
           27
          ],
          [
           "Timothy Castagne",
           27
          ],
          [
           "Ryan Manning",
           26
          ],
          [
           "David Raya",
           27
          ],
          [
           "Soufyan Ahannach",
           28
          ],
          [
           "Jefferson Lerma",
           28
          ],
          [
           "Kevin Danso",
           24
          ],
          [
           "Harry Charsley",
           26
          ],
          [
           "Reece Burke",
           26
          ],
          [
           "Kevin Toner",
           26
          ],
          [
           "Matt Grimes",
           27
          ],
          [
           "Joe Williams",
           26
          ],
          [
           "Vitaly Janelt",
           25
          ],
          [
           "Callum Elder",
           28
          ],
          [
           "Sylvain Deslandes",
           25
          ],
          [
           "Issa Diop",
           26
          ],
          [
           "Paul Onuachu",
           28
          ],
          [
           "Miguel Almirón",
           29
          ],
          [
           "Jonathan Benteke",
           28
          ],
          [
           "Wilfred Ndidi",
           26
          ],
          [
           "Kieffer Moore",
           30
          ],
          [
           "David Brooks",
           25
          ],
          [
           "Jack Payne",
           28
          ],
          [
           "Amari'i Bell",
           29
          ],
          [
           "MJ Williams",
           27
          ],
          [
           "Harry Wilson",
           26
          ],
          [
           "Sergio Reguilón",
           26
          ],
          [
           "Corey Blackett-Taylor",
           25
          ],
          [
           "Alfie Whiteman",
           24
          ],
          [
           "Tomas Soucek",
           28
          ],
          [
           "Grant Ward",
           28
          ],
          [
           "Manuel Akanji",
           27
          ],
          [
           "Marc Cucurella",
           24
          ],
          [
           "Will Norris",
           29
          ],
          [
           "Joel Coleman",
           27
          ],
          [
           "Harry Burgoyne",
           26
          ],
          [
           "Guglielmo Vicario",
           26
          ],
          [
           "Joe Lolley",
           30
          ],
          [
           "Krystian Bielik",
           25
          ],
          [
           "Connor Mahoney",
           26
          ],
          [
           "Orel Mangala",
           25
          ],
          [
           "Josh Harrop",
           27
          ],
          [
           "Ashley Fletcher",
           27
          ],
          [
           "Saïd Benrahma",
           27
          ],
          [
           "Jordan Hugill",
           31
          ],
          [
           "Sammie Szmodics",
           27
          ],
          [
           "Hee-chan Hwang",
           27
          ],
          [
           "Demarai Gray",
           26
          ],
          [
           "Wout Faes",
           25
          ],
          [
           "Matija Sarkic",
           25
          ],
          [
           "Baily Cargill",
           27
          ],
          [
           "Josh Brownhill",
           27
          ],
          [
           "Conor Masterson",
           24
          ],
          [
           "James Maddison",
           26
          ],
          [
           "Nathan",
           27
          ],
          [
           "Taiwo Awoniyi",
           25
          ],
          [
           "Kelechi Iheanacho",
           26
          ],
          [
           "Marco Asensio",
           27
          ],
          [
           "Tyler Roberts",
           24
          ],
          [
           "Joe Rodon",
           25
          ],
          [
           "Harry Souttar",
           24
          ],
          [
           "Courtney Baker-Richardson",
           27
          ],
          [
           "George Thomas",
           26
          ],
          [
           "Kieran Tierney",
           25
          ],
          [
           "Fred Onyedinma",
           26
          ],
          [
           "Dominic Calvert-Lewin",
           26
          ],
          [
           "Matt Clarke",
           26
          ],
          [
           "Lynden Gooch",
           27
          ],
          [
           "Callum Connolly",
           25
          ],
          [
           "Jan Mlakar",
           24
          ],
          [
           "Kai Havertz",
           23
          ],
          [
           "Andre Green",
           24
          ],
          [
           "Ramadan Sobhi",
           26
          ],
          [
           "Liam Gibson",
           25
          ],
          [
           "Dael Fry",
           25
          ],
          [
           "Karlan Grant",
           25
          ],
          [
           "Tom Davies",
           24
          ],
          [
           "Rushian Hepburn-Murphy",
           24
          ],
          [
           "Herbie Kane",
           24
          ],
          [
           "Jonathan Leko",
           23
          ],
          [
           "Chris Willock",
           25
          ],
          [
           "Trent Alexander-Arnold",
           24
          ],
          [
           "Kyle Edwards",
           25
          ],
          [
           "Darnell Johnson",
           24
          ],
          [
           "Admiral Muskwe",
           24
          ],
          [
           "Ben Sheaf",
           25
          ],
          [
           "Jarrod Bowen",
           26
          ],
          [
           "Ben Chilwell",
           26
          ],
          [
           "Martin Ødegaard",
           24
          ],
          [
           "Jake Clarke-Salter",
           25
          ],
          [
           "Mateusz Hewelt",
           26
          ],
          [
           "Vlad Dragomir",
           23
          ],
          [
           "Daniel James",
           25
          ],
          [
           "Mathias Jensen",
           27
          ],
          [
           "Elijah Adebayo",
           25
          ],
          [
           "Anthony Georgiou",
           26
          ],
          [
           "Benny Ashley-Seal",
           24
          ],
          [
           "Benson Manuel",
           26
          ],
          [
           "Gustavo Hamer",
           25
          ],
          [
           "James Bree",
           25
          ],
          [
           "Ollie Watkins",
           27
          ],
          [
           "Marvelous Nakamba",
           29
          ],
          [
           "Donyell Malen",
           24
          ],
          [
           "Matthijs de Ligt",
           23
          ],
          [
           "Jaroslaw Jach",
           29
          ],
          [
           "Kristoffer Ajer",
           25
          ],
          [
           "João Virgínia",
           23
          ],
          [
           "Justin Kluivert",
           23
          ],
          [
           "Takehiro Tomiyasu",
           24
          ],
          [
           "Tyler Adams",
           24
          ],
          [
           "Sander Berge",
           25
          ],
          [
           "Joelinton",
           26
          ],
          [
           "Ben White",
           25
          ],
          [
           "Altay Bayındır",
           24
          ],
          [
           "Joe Lumley",
           28
          ],
          [
           "Nathan Holland",
           24
          ],
          [
           "Connor Ronan",
           25
          ],
          [
           "Konstantinos Tsimikas",
           27
          ],
          [
           "Mikel Merino",
           26
          ],
          [
           "Hannes Delcroix",
           24
          ],
          [
           "Daniel Grimshaw",
           25
          ],
          [
           "Rico Henry",
           25
          ],
          [
           "Josh Pask",
           25
          ],
          [
           "Regan Poole",
           24
          ],
          [
           "Tolaji Bola",
           24
          ],
          [
           "Marcus McGuane",
           24
          ],
          [
           "Josh Dasilva",
           24
          ],
          [
           "Eddie Nketiah",
           23
          ],
          [
           "Reiss Nelson",
           23
          ],
          [
           "Stephy Mavididi",
           25
          ],
          [
           "Joe Willock",
           23
          ],
          [
           "Noussair Mazraoui",
           25
          ],
          [
           "Caoimhín Kelleher",
           24
          ],
          [
           "Diogo Jota",
           26
          ],
          [
           "Harry Lewis",
           25
          ],
          [
           "Kyle Walker-Peters",
           26
          ],
          [
           "Federico Chiesa",
           25
          ],
          [
           "Hamza Choudhury",
           25
          ],
          [
           "Elliott Moore",
           26
          ],
          [
           "Axel Tuanzebe",
           25
          ],
          [
           "Grady Diangana",
           25
          ],
          [
           "Nathan Baxter",
           24
          ],
          [
           "Guido Rodríguez",
           29
          ],
          [
           "Ben Godfrey",
           25
          ],
          [
           "Nathan Broadhead",
           25
          ],
          [
           "Ben Woodburn",
           23
          ],
          [
           "Odsonne Edouard",
           25
          ],
          [
           "Christopher Nkunku",
           25
          ],
          [
           "Boubakary Soumaré",
           24
          ],
          [
           "Tahith Chong",
           23
          ],
          [
           "Shayon Harrison",
           25
          ],
          [
           "Djair Parfitt-Williams",
           26
          ],
          [
           "Jamal Lewis",
           25
          ],
          [
           "Trevoh Chalobah",
           23
          ],
          [
           "Jordan Williams",
           23
          ],
          [
           "Tom Dele-Bashiru",
           23
          ],
          [
           "Japhet Tanganga",
           24
          ],
          [
           "Dan Nlundulu",
           24
          ],
          [
           "Mason Mount",
           24
          ],
          [
           "Sean Longstaff",
           25
          ],
          [
           "Mason Holgate",
           26
          ],
          [
           "Alexander Isak",
           23
          ],
          [
           "Conor Chaplin",
           26
          ],
          [
           "Pervis Estupiñán",
           25
          ],
          [
           "Antonee Robinson",
           25
          ],
          [
           "Shayne Lavery",
           24
          ],
          [
           "Kalvin Phillips",
           27
          ],
          [
           "Darnell Furlong",
           27
          ],
          [
           "Keshi Anderson",
           28
          ],
          [
           "Adnan Kanuric",
           22
          ],
          [
           "Joe Powell",
           24
          ],
          [
           "Rodrigo Bentancur",
           26
          ],
          [
           "Cristian Romero",
           25
          ],
          [
           "Daichi Kamada",
           26
          ],
          [
           "Ibrahima Konaté",
           24
          ],
          [
           "Diogo Dalot",
           24
          ],
          [
           "Kazaiah Sterling",
           24
          ],
          [
           "Rodri",
           27
          ],
          [
           "Jayson Molumby",
           23
          ],
          [
           "Mark Travers",
           24
          ],
          [
           "Declan Rice",
           24
          ],
          [
           "Lasse Sörensen",
           23
          ],
          [
           "Sven Botman",
           23
          ],
          [
           "Gabriel Jesus",
           26
          ],
          [
           "Elliot Embleton",
           24
          ],
          [
           "Patson Daka",
           24
          ],
          [
           "Pontus Dahlberg",
           24
          ],
          [
           "Dan Agyei",
           25
          ],
          [
           "Niall Ennis",
           23
          ],
          [
           "Ferdi Kadıoğlu",
           23
          ],
          [
           "Sasa Kalajdzic",
           25
          ],
          [
           "Arijanet Muric",
           24
          ],
          [
           "Francisco Sierralta",
           26
          ],
          [
           "Nathaniel Phillips",
           26
          ],
          [
           "Carlos Soler",
           26
          ],
          [
           "Paulinho",
           25
          ],
          [
           "Junior Firpo",
           26
          ],
          [
           "Ibrahim Sangaré",
           25
          ],
          [
           "Charlie Goode",
           27
          ],
          [
           "Anel Ahmedhodzic",
           24
          ],
          [
           "Richarlison",
           26
          ],
          [
           "Lyanco",
           26
          ],
          [
           "Igor",
           25
          ],
          [
           "Joel Mumbongo",
           24
          ],
          [
           "Wesley Moraes",
           26
          ],
          [
           "Steven Benda",
           24
          ],
          [
           "Mike Trésor",
           23
          ],
          [
           "Tyrese Campbell",
           23
          ],
          [
           "Joe Hardy",
           24
          ],
          [
           "Przemyslaw Placheta",
           25
          ],
          [
           "Axel Disasi",
           25
          ],
          [
           "Darko Churlinov",
           22
          ],
          [
           "Joe Riley",
           26
          ],
          [
           "Daiki Hashioka",
           24
          ],
          [
           "Samuel Shashoua",
           24
          ],
          [
           "Sam Field",
           25
          ],
          [
           "Leon Bailey",
           25
          ],
          [
           "Yoane Wissa",
           26
          ],
          [
           "Jacob Lungi Sörensen",
           25
          ],
          [
           "Marcus Browne",
           25
          ],
          [
           "Chiedozie Ogbene",
           26
          ],
          [
           "Marc Guéhi",
           22
          ],
          [
           "Ian Poveda",
           23
          ],
          [
           "Emile Smith Rowe",
           22
          ],
          [
           "George McEachran",
           22
          ],
          [
           "Callum Hudson-Odoi",
           22
          ],
          [
           "Marcel Lavinier",
           22
          ],
          [
           "Kane Wilson",
           23
          ],
          [
           "Ryan Sessegnon",
           23
          ],
          [
           "Josh Sargent",
           23
          ],
          [
           "Boubacar Kamara",
           23
          ],
          [
           "Claudio Gomes",
           22
          ],
          [
           "Moussa Diaby",
           23
          ],
          [
           "Sam Hughes",
           25
          ],
          [
           "Jimmy Dunne",
           25
          ],
          [
           "Ethan Hamilton",
           24
          ],
          [
           "Manor Solomon",
           23
          ],
          [
           "Dan Kemp",
           24
          ],
          [
           "Jamie Cumming",
           23
          ],
          [
           "Richard Nartey",
           24
          ],
          [
           "Sandro Tonali",
           23
          ],
          [
           "Josh Benson",
           23
          ],
          [
           "Harvey Barnes",
           25
          ],
          [
           "Sam Surridge",
           24
          ],
          [
           "Marcus Tavernier",
           24
          ],
          [
           "Pau Torres",
           26
          ],
          [
           "Mads Hermansen",
           22
          ],
          [
           "Jadon Sancho",
           22
          ],
          [
           "Dara O'Shea",
           24
          ],
          [
           "Edson Álvarez",
           25
          ],
          [
           "Michal Karbownik",
           22
          ],
          [
           "Gonzalo Montiel",
           26
          ],
          [
           "Robert Sánchez",
           25
          ],
          [
           "Jordan Beyer",
           22
          ],
          [
           "Marcus Forss",
           23
          ],
          [
           "Vitaliy Mykolenko",
           24
          ],
          [
           "Yukinari Sugawara",
           22
          ],
          [
           "Yan Valery",
           24
          ],
          [
           "Tom McGill",
           23
          ],
          [
           "Steven Sessegnon",
           22
          ],
          [
           "Timothy Eyoma",
           23
          ],
          [
           "Rhian Brewster",
           23
          ],
          [
           "Matt O'Riley",
           22
          ],
          [
           "Phil Foden",
           23
          ],
          [
           "Oliver Skipp",
           22
          ],
          [
           "Mads Andersen",
           25
          ],
          [
           "Ismaïla Sarr",
           25
          ],
          [
           "Yves Bissouma",
           26
          ],
          [
           "Pascal Struijk",
           23
          ],
          [
           "Max Sanders",
           24
          ],
          [
           "Adam Parkes",
           23
          ],
          [
           "Ibrahima Diallo",
           24
          ],
          [
           "Bryan Mbeumo",
           23
          ],
          [
           "James Justin",
           25
          ],
          [
           "Ezri Konsa",
           25
          ],
          [
           "Nikola Milenković",
           25
          ],
          [
           "Marshall Munetsi",
           27
          ],
          [
           "Mats Wieffer",
           23
          ],
          [
           "Bruno Jordão",
           24
          ],
          [
           "Konstantinos Mavropanos",
           25
          ],
          [
           "Joe Worrall",
           26
          ],
          [
           "Jordan Green",
           28
          ],
          [
           "Jack Harrison",
           26
          ],
          [
           "Erling Haaland",
           22
          ],
          [
           "Kristoffer Klaesson",
           22
          ],
          [
           "Conor Coventry",
           23
          ],
          [
           "Lewis Gibson",
           22
          ],
          [
           "Jean-Philippe Mateta",
           25
          ],
          [
           "Jurrien Timber",
           21
          ],
          [
           "George Hirst",
           24
          ],
          [
           "Alfie Lewis",
           23
          ],
          [
           "Nathan Patterson",
           21
          ],
          [
           "Samuel Kalu",
           25
          ],
          [
           "Josh Knight",
           25
          ],
          [
           "Matt Turner",
           29
          ],
          [
           "Matty Cash",
           25
          ],
          [
           "Akin Famewo",
           24
          ],
          [
           "Ryan Yates",
           25
          ],
          [
           "Jakub Kiwior",
           23
          ],
          [
           "Ben Brereton Díaz",
           24
          ],
          [
           "Aaron Ramsdale",
           24
          ],
          [
           "Thanawat Suengchitthawon",
           23
          ],
          [
           "Brandon Austin",
           24
          ],
          [
           "Morgan Gibbs-White",
           23
          ],
          [
           "Jørgen Strand Larsen",
           23
          ],
          [
           "Andrew Irving",
           23
          ],
          [
           "Tom Edwards",
           24
          ],
          [
           "Peter Gwargis",
           22
          ],
          [
           "Mateusz Bogusz",
           22
          ],
          [
           "Dejan Kulusevski",
           22
          ],
          [
           "Bukayo Saka",
           21
          ],
          [
           "Elijah Dixon-Bonner",
           22
          ],
          [
           "Luis Longstaff",
           22
          ],
          [
           "Tommy Doyle",
           21
          ],
          [
           "Rayhaan Tulloch",
           22
          ],
          [
           "Bali Mumba",
           21
          ],
          [
           "Curtis Jones",
           22
          ],
          [
           "Scott Twine",
           23
          ],
          [
           "Tudor Baluta",
           24
          ],
          [
           "Ethan Galbraith",
           21
          ],
          [
           "Aaron Connolly",
           23
          ],
          [
           "Maxence Lacroix",
           23
          ],
          [
           "Cody Gakpo",
           24
          ],
          [
           "Gabriel Magalhães",
           25
          ],
          [
           "Joshua Zirkzee",
           21
          ],
          [
           "Santiago Bueno",
           24
          ],
          [
           "Ethan Pinnock",
           30
          ],
          [
           "Edouard Mendy",
           31
          ],
          [
           "Michael Obafemi",
           22
          ],
          [
           "Will Smallbone",
           23
          ],
          [
           "Lucas Paquetá",
           25
          ],
          [
           "Louie Moulden",
           21
          ],
          [
           "Omar Marmoush",
           24
          ],
          [
           "Ross Stewart",
           26
          ],
          [
           "Emmanuel Dennis",
           25
          ],
          [
           "Jean-Ricner Bellegarde",
           24
          ],
          [
           "Dominik Szoboszlai",
           22
          ],
          [
           "Jorge Segura",
           26
          ],
          [
           "Adama Diakhaby",
           26
          ],
          [
           "Will Mannion",
           24
          ],
          [
           "Rekeem Harper",
           23
          ],
          [
           "Jack Taylor",
           24
          ],
          [
           "Harvey Rodgers",
           26
          ],
          [
           "Caleb Okoli",
           21
          ],
          [
           "Calvin Bassey",
           23
          ],
          [
           "Benoît Badiashile",
           22
          ],
          [
           "Marc Leonard",
           21
          ],
          [
           "Terry Taylor",
           21
          ],
          [
           "Allan Tchaptchet",
           21
          ],
          [
           "Jayden Bogle",
           22
          ],
          [
           "Nico González",
           21
          ],
          [
           "Armel Bella-Kotchap",
           21
          ],
          [
           "Lyle Foster",
           22
          ],
          [
           "Ben Johnson",
           23
          ],
          [
           "Jens Cajuste",
           23
          ],
          [
           "Joe Aribo",
           26
          ],
          [
           "Vitinho",
           23
          ],
          [
           "Nathan Collins",
           22
          ],
          [
           "Gavin Kilkenny",
           23
          ],
          [
           "Marcos Senesi",
           26
          ],
          [
           "Indiana Vassilev",
           22
          ],
          [
           "Jacob Brown",
           24
          ],
          [
           "Paris Maghoma",
           21
          ],
          [
           "Ben Cottrell",
           21
          ],
          [
           "Brennan Johnson",
           21
          ],
          [
           "Reece James",
           23
          ],
          [
           "Kevin Schade",
           21
          ],
          [
           "Regan Slater",
           23
          ],
          [
           "Lewis Cass",
           23
          ],
          [
           "Crysencio Summerville",
           21
          ],
          [
           "Kiernan Dewsbury-Hall",
           24
          ],
          [
           "Wesley Fofana",
           22
          ],
          [
           "Josko Gvardiol",
           21
          ],
          [
           "Steven Alzate",
           24
          ],
          [
           "Bernardo Rosa",
           22
          ],
          [
           "Manuel Ugarte",
           21
          ],
          [
           "Aaron Wan-Bissaka",
           25
          ],
          [
           "Ryan Gravenberch",
           21
          ],
          [
           "Eberechi Eze",
           24
          ],
          [
           "Cohen Bramall",
           27
          ],
          [
           "Luis Díaz",
           26
          ],
          [
           "Lisandro Martínez",
           25
          ],
          [
           "Chris Mepham",
           25
          ],
          [
           "Djed Spence",
           22
          ],
          [
           "Matty Longstaff",
           23
          ],
          [
           "Taylor Richards",
           22
          ],
          [
           "Ian Maatsen",
           21
          ],
          [
           "Amadou Onana",
           21
          ],
          [
           "Jérémy Doku",
           21
          ],
          [
           "Jake Walker",
           22
          ],
          [
           "Jakub Stolarczyk",
           22
          ],
          [
           "Edo Kayembe",
           25
          ],
          [
           "Vitezslav Jaros",
           21
          ],
          [
           "Pedro Neto",
           23
          ],
          [
           "Maksim Paskotsi",
           20
          ],
          [
           "Siriki Dembélé",
           26
          ],
          [
           "Hákon Rafn Valdimarsson",
           21
          ],
          [
           "Ismaila Coulibaly",
           22
          ],
          [
           "Lucas Bergström",
           21
          ],
          [
           "Daniel Muñoz",
           26
          ],
          [
           "Jorge Cuenca",
           23
          ],
          [
           "Nathan Bishop",
           24
          ],
          [
           "William Saliba",
           21
          ],
          [
           "Dion Sanderson",
           23
          ],
          [
           "Elliot Thorpe",
           22
          ],
          [
           "Nicolás Domínguez",
           24
          ],
          [
           "Dion Pereira",
           24
          ],
          [
           "Ákos Onódi",
           21
          ],
          [
           "Aji Alese",
           22
          ],
          [
           "Taylor Perry",
           21
          ],
          [
           "Riccardo Calafiori",
           21
          ],
          [
           "Rhys Williams",
           22
          ],
          [
           "Neco Williams",
           22
          ],
          [
           "Anthony Driscoll-Glennon",
           23
          ],
          [
           "Anthony Gordon",
           22
          ],
          [
           "Morgan Rogers",
           20
          ],
          [
           "Jacob Ramsey",
           21
          ],
          [
           "Tyreece John-Jules",
           22
          ],
          [
           "Arthur Okonkwo",
           21
          ],
          [
           "Jeremy Ngakia",
           22
          ],
          [
           "Albert Grønbaek",
           22
          ],
          [
           "Joe Hodge",
           20
          ],
          [
           "Dynel Simeu",
           21
          ],
          [
           "Taylor Harwood-Bellis",
           21
          ],
          [
           "Joe Gelhardt",
           21
          ],
          [
           "Tino Livramento",
           20
          ],
          [
           "Noni Madueke",
           21
          ],
          [
           "Alex Mighten",
           20
          ],
          [
           "Nathan Wood",
           21
          ],
          [
           "Daniel Barden",
           22
          ],
          [
           "Tariq Lamptey",
           22
          ],
          [
           "Emmanuel Longelo",
           22
          ],
          [
           "Ryan Giles",
           23
          ],
          [
           "Kaoru Mitoma",
           25
          ],
          [
           "Luke Thomas",
           22
          ],
          [
           "James Garner",
           22
          ],
          [
           "Louie Watson",
           21
          ],
          [
           "Flynn Downes",
           24
          ],
          [
           "Josh Bowler",
           24
          ],
          [
           "Jack Young",
           22
          ],
          [
           "Nathan Ferguson",
           22
          ],
          [
           "Alexandre Jankewitz",
           21
          ],
          [
           "Brandon Williams",
           22
          ],
          [
           "Daniel Batty",
           25
          ],
          [
           "Ellis Simms",
           22
          ],
          [
           "Jackson Smith",
           21
          ],
          [
           "Ryan Longman",
           22
          ],
          [
           "Malcolm Ebiowei",
           19
          ],
          [
           "Luis Sinisterra",
           24
          ],
          [
           "Jesper Lindstrøm",
           23
          ],
          [
           "Julián Araujo",
           21
          ],
          [
           "Matheus Cunha",
           23
          ],
          [
           "Bruno Guimarães",
           25
          ],
          [
           "Jensen Weir",
           21
          ],
          [
           "Jaime Alvarado",
           23
          ],
          [
           "Maximilian Kilman",
           25
          ],
          [
           "Carlos Vinícius",
           28
          ],
          [
           "Karlo Ziger",
           22
          ],
          [
           "Luke Woolfenden",
           24
          ],
          [
           "Tyrese Francois",
           22
          ],
          [
           "Jack Spong",
           21
          ],
          [
           "Armstrong Oko-Flex",
           21
          ],
          [
           "Di'Shon Bernard",
           22
          ],
          [
           "D'Mani Mellor",
           22
          ],
          [
           "Ethan Laird",
           21
          ],
          [
           "Cody Drameh",
           21
          ],
          [
           "Sam Greenwood",
           21
          ],
          [
           "Daniel Adshead",
           21
          ],
          [
           "Luke Cundle",
           21
          ],
          [
           "Haydon Roberts",
           20
          ],
          [
           "Cameron Archer",
           21
          ],
          [
           "Shandon Baptiste",
           25
          ],
          [
           "Alexis Mac Allister",
           24
          ],
          [
           "Robbie Gotts",
           23
          ],
          [
           "Jamie Shackleton",
           23
          ],
          [
           "Luke McNally",
           23
          ],
          [
           "Amad Diallo",
           20
          ],
          [
           "Mykhaylo Mudryk",
           22
          ],
          [
           "Kwasi Sibo",
           25
          ],
          [
           "Georginio Rutter",
           20
          ],
          [
           "Christian Marques",
           20
          ],
          [
           "Kristian Sekularac",
           20
          ],
          [
           "Zak Swanson",
           22
          ],
          [
           "Mikkel Damsgaard",
           22
          ],
          [
           "Sepp van den Berg",
           21
          ],
          [
           "Illan Meslier",
           23
          ],
          [
           "Alex Gilbert",
           21
          ],
          [
           "Rhys Norrington-Davies",
           24
          ],
          [
           "Cheick Doucouré",
           23
          ],
          [
           "Mohammed Kudus",
           22
          ],
          [
           "Darwin Núñez",
           24
          ],
          [
           "Anis Slimane",
           22
          ],
          [
           "Taylor Gardner-Hickman",
           21
          ],
          [
           "Miguel Azeez",
           20
          ],
          [
           "Josh Martin",
           21
          ],
          [
           "Teden Mengi",
           20
          ],
          [
           "Owen Beck",
           21
          ],
          [
           "Pedro Porro",
           23
          ],
          [
           "Alpha Diounkou",
           21
          ],
          [
           "Yasser Larouci",
           22
          ],
          [
           "Oliwier Zych",
           19
          ],
          [
           "Destiny Udogie",
           20
          ],
          [
           "Micky van de Ven",
           21
          ],
          [
           "Harrison Ashby",
           21
          ],
          [
           "Fábio Carvalho",
           20
          ],
          [
           "Jack Clarke",
           22
          ],
          [
           "Oliver Casey",
           22
          ],
          [
           "Niall Huggins",
           22
          ],
          [
           "Lewis O'Brien",
           25
          ],
          [
           "Dan Chesters",
           21
          ],
          [
           "Kyle Taylor",
           23
          ],
          [
           "Victor Kristiansen",
           20
          ],
          [
           "Bart Verbruggen",
           20
          ],
          [
           "Harvey Elliott",
           20
          ],
          [
           "Matty Daly",
           22
          ],
          [
           "James Trafford",
           20
          ],
          [
           "Thomas Dickson-Peters",
           20
          ],
          [
           "Elliot Anderson",
           20
          ],
          [
           "Odel Offiah",
           21
          ],
          [
           "Jeremy Sarmiento",
           20
          ],
          [
           "Dennis Cirkin",
           21
          ],
          [
           "Cole Palmer",
           21
          ],
          [
           "Radu Drăgușin",
           21
          ],
          [
           "Pape Matar Sarr",
           20
          ],
          [
           "Armando Broja",
           21
          ],
          [
           "Joseph Anang",
           23
          ],
          [
           "Josh Wilson-Esbrand",
           20
          ],
          [
           "Jan Paul van Hecke",
           22
          ],
          [
           "Rayan Aït-Nouri",
           22
          ],
          [
           "Chris Richards",
           22
          ],
          [
           "James Furlong",
           20
          ],
          [
           "Ed Turns",
           20
          ],
          [
           "Eiran Cashin",
           21
          ],
          [
           "Harvey White",
           21
          ],
          [
           "CJ Egan-Riley",
           20
          ],
          [
           "Louie Barry",
           19
          ],
          [
           "Charlie Patino",
           19
          ],
          [
           "Lukas Jensen",
           24
          ],
          [
           "Will Dennis",
           22
          ],
          [
           "Anthony Elanga",
           21
          ],
          [
           "James McAtee",
           20
          ],
          [
           "Antoine Semenyo",
           23
          ],
          [
           "Dwight McNeil",
           23
          ],
          [
           "Filip Jørgensen",
           21
          ],
          [
           "Jesurun Rak-Sakyi",
           20
          ],
          [
           "Myles Peart-Harris",
           20
          ],
          [
           "Lewis Bate",
           20
          ],
          [
           "Derek Agyakwa",
           21
          ],
          [
           "Joe Gauci",
           22
          ],
          [
           "Aaron Hickey",
           21
          ],
          [
           "Woyo Coulibaly",
           24
          ],
          [
           "Tiago Cukur",
           20
          ],
          [
           "Beto",
           25
          ],
          [
           "Max Haygarth",
           21
          ],
          [
           "Leif Davis",
           23
          ],
          [
           "Xavier Simons",
           20
          ],
          [
           "Matheus Nunes",
           24
          ],
          [
           "Jean-Clair Todibo",
           23
          ],
          [
           "Sebastian Soto",
           22
          ],
          [
           "Denis Franchi",
           20
          ],
          [
           "Toti",
           24
          ],
          [
           "Hannibal",
           20
          ],
          [
           "Alfie Doughty",
           23
          ],
          [
           "Luke Mbete",
           19
          ],
          [
           "Alex Robertson",
           20
          ],
          [
           "Rasmus Højlund",
           20
          ],
          [
           "Caleb Watts",
           21
          ],
          [
           "Ollie O'Neill",
           20
          ],
          [
           "Liam Delap",
           20
          ],
          [
           "James Hill",
           21
          ],
          [
           "Liam McCarron",
           22
          ],
          [
           "Luke Matheson",
           20
          ],
          [
           "Levi Colwill",
           20
          ],
          [
           "Charlie McNeill",
           19
          ],
          [
           "Chem Campbell",
           20
          ],
          [
           "Dara Costelloe",
           20
          ],
          [
           "Tyler Morton",
           20
          ],
          [
           "Sam McCallum",
           22
          ],
          [
           "Malo Gusto",
           19
          ],
          [
           "Kasey McAteer",
           21
          ],
          [
           "Radek Vítek",
           19
          ],
          [
           "Iliman Ndiaye",
           23
          ],
          [
           "Conor Bradley",
           19
          ],
          [
           "Dale Taylor",
           19
          ],
          [
           "Lucas De Bolle",
           20
          ],
          [
           "Adrion Pajaziti",
           20
          ],
          [
           "João Pedro",
           21
          ],
          [
           "Kaine Kesler-Hayden",
           21
          ],
          [
           "Lewis Dobbin",
           20
          ],
          [
           "Wilfried Gnonto",
           19
          ],
          [
           "Roméo Lavia",
           19
          ],
          [
           "Femi Seriki",
           20
          ],
          [
           "Carlos Miguel",
           24
          ],
          [
           "Keane Lewis-Potter",
           22
          ],
          [
           "Lamare Bogarde",
           19
          ],
          [
           "Ben Greenwood",
           20
          ],
          [
           "Carl Rushworth",
           21
          ],
          [
           "Aaron Ramsey",
           20
          ],
          [
           "Juan Larios",
           19
          ],
          [
           "Jayden Bennetts",
           22
          ],
          [
           "Evan Ferguson",
           18
          ],
          [
           "Enzo Fernández",
           22
          ],
          [
           "Boubacar Traoré",
           21
          ],
          [
           "Jhon Durán",
           19
          ],
          [
           "Lewis Warrington",
           20
          ],
          [
           "Bilal El Khannouss",
           18
          ],
          [
           "Cameron Plain",
           22
          ],
          [
           "Brooklyn Genesini",
           21
          ],
          [
           "Gabriel Martinelli",
           21
          ],
          [
           "Christian Saydee",
           20
          ],
          [
           "Mipo Odubeko",
           20
          ],
          [
           "Aaron Rowe",
           22
          ],
          [
           "Simon Adingra",
           21
          ],
          [
           "Ilya Zabarnyi",
           20
          ],
          [
           "Julio Enciso",
           19
          ],
          [
           "Jarrad Branthwaite",
           20
          ],
          [
           "Leo Fuhr Hjelde",
           19
          ],
          [
           "Marcelo Pitaluga",
           21
          ],
          [
           "Tyler Onyango",
           20
          ],
          [
           "Jota Silva",
           23
          ],
          [
           "Darko Gyabi",
           19
          ],
          [
           "Vini Souza",
           24
          ],
          [
           "Jaden Philogene",
           21
          ],
          [
           "Rodrigo Gomes",
           19
          ],
          [
           "Yasin Ayari",
           19
          ],
          [
           "Marcelo Flores",
           19
          ],
          [
           "Joe Whitworth",
           19
          ],
          [
           "Divin Mubama",
           18
          ],
          [
           "Antwoine Hackford",
           19
          ],
          [
           "Luke Chambers",
           19
          ],
          [
           "Dane Scarlett",
           19
          ],
          [
           "Caleb Taylor",
           20
          ],
          [
           "Morato",
           21
          ],
          [
           "Anthony Mancini",
           22
          ],
          [
           "Emmanuel Agbadou",
           25
          ],
          [
           "Jaidon Anthony",
           23
          ],
          [
           "Charlie Savage",
           19
          ],
          [
           "Moisés Caicedo",
           21
          ],
          [
           "Chadi Riad",
           20
          ],
          [
           "Kamarai Swyer",
           21
          ],
          [
           "Jacob Greaves",
           22
          ],
          [
           "Jay Stansfield",
           20
          ],
          [
           "Tim Iroegbunam",
           19
          ],
          [
           "Rico Lewis",
           18
          ],
          [
           "Kgaogelo Chauke",
           20
          ],
          [
           "Harvey Davies",
           20
          ],
          [
           "Ji-soo Kim",
           18
          ],
          [
           "Kwadwo Baah",
           20
          ],
          [
           "Evanilson",
           23
          ],
          [
           "Jake O'Brien",
           22
          ],
          [
           "Lesley Ugochukwu",
           19
          ],
          [
           "Bobby Clark",
           18
          ],
          [
           "Yerson Mosquera",
           22
          ],
          [
           "Yegor Yarmolyuk",
           19
          ],
          [
           "Enock Agyei",
           18
          ],
          [
           "Tayo Adaramola",
           20
          ],
          [
           "Andrew Moran",
           20
          ],
          [
           "Liam Gibbs",
           20
          ],
          [
           "Antonín Kinský",
           20
          ],
          [
           "Welington",
           22
          ],
          [
           "Milos Kerkez",
           19
          ],
          [
           "Tyrick Mitchell",
           23
          ],
          [
           "Dylan Williams",
           20
          ],
          [
           "Kaide Gordon",
           18
          ],
          [
           "Jack Jenkins",
           21
          ],
          [
           "João Gomes",
           22
          ],
          [
           "Rodrigo Muniz",
           22
          ],
          [
           "Igor Thiago",
           21
          ],
          [
           "Omari Hutchinson",
           20
          ],
          [
           "Caleb Chukwuemeka",
           21
          ],
          [
           "Lino Sousa",
           18
          ],
          [
           "Wilson Odobert",
           18
          ],
          [
           "Savinho",
           19
          ],
          [
           "Matheus França",
           19
          ],
          [
           "Adam Wharton",
           19
          ],
          [
           "Ramón Sosa",
           23
          ],
          [
           "Luca Koleosho",
           18
          ],
          [
           "Kamaldeen Sulemana",
           21
          ],
          [
           "Daniel Jebbison",
           19
          ],
          [
           "Harry Boyes",
           21
          ],
          [
           "Justin Devenny",
           19
          ],
          [
           "Val Adedokun",
           20
          ],
          [
           "Carlos Alcaraz",
           20
          ],
          [
           "Abdukodir Khusanov",
           19
          ],
          [
           "Nicolas Jackson",
           21
          ],
          [
           "David Datro Fofana",
           20
          ],
          [
           "Bobby Thomas",
           22
          ],
          [
           "André",
           21
          ],
          [
           "Mathys Tel",
           18
          ],
          [
           "Ryan Finnigan",
           19
          ],
          [
           "Danilo",
           22
          ],
          [
           "Alejandro Garnacho",
           18
          ],
          [
           "Jack Wells-Morrison",
           19
          ],
          [
           "Luke Harris",
           18
          ],
          [
           "Kobbie Mainoo",
           17
          ],
          [
           "Alfie Pond",
           19
          ],
          [
           "Dango Ouattara",
           21
          ],
          [
           "Michael Kayode",
           18
          ],
          [
           "Maxime Estève",
           20
          ],
          [
           "Bénie Traoré",
           20
          ],
          [
           "Jack Hinchy",
           20
          ],
          [
           "Alex Scott",
           19
          ],
          [
           "Ashley Phillips",
           17
          ],
          [
           "Kaden Rodney",
           19
          ],
          [
           "Nasser Djiga",
           20
          ],
          [
           "Issahaku Fatawu",
           19
          ],
          [
           "Lucas Bergvall",
           17
          ],
          [
           "Bradley Ibrahim",
           19
          ],
          [
           "Mason Burstow",
           20
          ],
          [
           "Ryan Trevitt",
           20
          ],
          [
           "Seán Grehan",
           19
          ],
          [
           "Josh Feeney",
           18
          ],
          [
           "Amario Cozier-Duberry",
           18
          ],
          [
           "Mateus Fernandes",
           18
          ],
          [
           "Oliver Scarles",
           18
          ],
          [
           "Archie Gray",
           17
          ],
          [
           "Leny Yoro",
           17
          ],
          [
           "Zach Abbott",
           17
          ],
          [
           "Mark O'Mahony",
           18
          ],
          [
           "Joe Taylor",
           20
          ],
          [
           "Carlos Baleba",
           19
          ],
          [
           "Facundo Buonanotte",
           18
          ],
          [
           "Matai Akinmboni",
           16
          ],
          [
           "Diego Gómez",
           20
          ],
          [
           "Julio Soler",
           18
          ],
          [
           "Yankuba Minteh",
           18
          ],
          [
           "Ryan Oné",
           16
          ],
          [
           "Enso González",
           18
          ]
         ],
         "hovertemplate": "predicted_value=%{x}<br>market_value_in_million_eur=%{y}<br>name=%{customdata[0]}<br>age=%{customdata[1]}<extra></extra>",
         "legendgroup": "",
         "marker": {
          "color": "#636efa",
          "symbol": "circle"
         },
         "mode": "markers",
         "name": "",
         "showlegend": false,
         "type": "scattergl",
         "x": [
          -0.38296979665756226,
          1.517236590385437,
          0.6258590221405029,
          -0.53841632604599,
          23.50104522705078,
          -1.1114882230758667,
          -0.4937897026538849,
          -0.4265017509460449,
          0.4715072810649872,
          -0.47112828493118286,
          -0.4937897026538849,
          -0.38296979665756226,
          39.28354263305664,
          5.5423994064331055,
          -0.4937897026538849,
          -0.38296979665756226,
          1.0309338569641113,
          -0.4937897026538849,
          1.298290729522705,
          0.5823270678520203,
          -0.47112828493118286,
          -0.9782141447067261,
          -0.7369309067726135,
          1.4709181785583496,
          -0.29647260904312134,
          1.4894115924835205,
          -0.011657261289656162,
          0.5823270678520203,
          0.18901315331459045,
          -0.6944602131843567,
          -0.3454829156398773,
          0.14037352800369263,
          -0.7390867471694946,
          -0.712411642074585,
          -0.05227024853229523,
          -0.1721307337284088,
          -0.48686400055885315,
          -0.53841632604599,
          -0.4937897026538849,
          -0.9782141447067261,
          0.31436893343925476,
          -0.6608594655990601,
          -0.6933989524841309,
          2.935696840286255,
          2.2437639236450195,
          -0.6070662140846252,
          1.4474921226501465,
          0.31436893343925476,
          -0.6097733378410339,
          -0.9130820631980896,
          2.935696840286255,
          -0.8764048218727112,
          -0.7390867471694946,
          -0.8864423036575317,
          -0.17148762941360474,
          1.3165662288665771,
          -0.07894527167081833,
          -0.7390867471694946,
          -0.388909250497818,
          -0.7390867471694946,
          2.8052332401275635,
          -0.07894527167081833,
          0.31436893343925476,
          -0.3559381365776062,
          -0.48686400055885315,
          -0.1753736436367035,
          -0.4433320462703705,
          -0.3325120508670807,
          -0.5836403369903564,
          -0.6173275113105774,
          -0.5819482803344727,
          1.4273861646652222,
          1.3600982427597046,
          2.8052332401275635,
          -0.7379921674728394,
          -0.24266165494918823,
          0.2708369791507721,
          -0.38901486992836,
          -0.6608594655990601,
          -0.6608594655990601,
          -0.4937897026538849,
          -0.03508331626653671,
          -0.3454829156398773,
          -0.41665685176849365,
          1.3165662288665771,
          1.3600982427597046,
          4.328548431396484,
          1.1861028671264648,
          18.512331008911133,
          -0.45102229714393616,
          0.23254510760307312,
          0.2708369791507721,
          36.72861099243164,
          -0.48686400055885315,
          -0.41665685176849365,
          0.2708369791507721,
          -0.07894527167081833,
          1.4273861646652222,
          4.452890396118164,
          1.1425708532333374,
          20.322757720947266,
          2.2437639236450195,
          0.31436893343925476,
          0.2708369791507721,
          -0.7826187014579773,
          -0.07894527167081833,
          -0.39947009086608887,
          -0.7024095058441162,
          -1.0545425415039062,
          -0.122477225959301,
          -0.6944602131843567,
          0.31436893343925476,
          15.357447624206543,
          -0.2769492566585541,
          1.1245841979980469,
          -0.2150195837020874,
          -0.48686400055885315,
          0.7864015102386475,
          -0.08409371227025986,
          1.3165662288665771,
          0.3816569745540619,
          -0.5949901342391968,
          -0.37604400515556335,
          0.8737953901290894,
          0.5239237546920776,
          0.2708369791507721,
          -0.4433320462703705,
          -0.7024095058441162,
          2.0697684288024902,
          -0.24266165494918823,
          -0.8940693736076355,
          0.6124061942100525,
          0.00844863336533308,
          -0.3454829156398773,
          0.14037352800369263,
          -0.17148762941360474,
          0.31436893343925476,
          3.066622734069824,
          -0.3454829156398773,
          2.542755603790283,
          -1.2224162817001343,
          0.4435351490974426,
          0.31436893343925476,
          -0.671798825263977,
          -0.7369309067726135,
          2.935696840286255,
          1.3600982427597046,
          -1.1853468418121338,
          2.2002320289611816,
          -0.06066766381263733,
          15.313916206359863,
          -0.6749052405357361,
          -0.4937897026538849,
          9.362197875976562,
          0.31436893343925476,
          -0.591589629650116,
          -0.4433320462703705,
          1.3600982427597046,
          0.31436893343925476,
          0.2708369791507721,
          1.9812862873077393,
          -0.32314538955688477,
          20.452068328857422,
          4.633469581604004,
          -0.8042188286781311,
          1.3165662288665771,
          1.517236590385437,
          2.827570915222168,
          5.2309088706970215,
          1.4273861646652222,
          2.7320353984832764,
          15.523829460144043,
          0.8721829652786255,
          -1.0048893690109253,
          1.50798761844635,
          3.0230908393859863,
          0.31436893343925476,
          0.7864015102386475,
          1.3600982427597046,
          1.1425708532333374,
          -0.122477225959301,
          15.350985527038574,
          -0.5730960965156555,
          -0.9782141447067261,
          0.00844863336533308,
          -0.31401872634887695,
          13.742859840393066,
          -0.13441818952560425,
          -0.3575506806373596,
          1.3165662288665771,
          13.699328422546387,
          2.106837749481201,
          0.7864015102386475,
          0.7864015102386475,
          0.9342908263206482,
          -1.1114882230758667,
          0.31436893343925476,
          4.650433540344238,
          -0.7455492615699768,
          -0.4433320462703705,
          -0.22114115953445435,
          -1.0545425415039062,
          54.964595794677734,
          0.6124061942100525,
          1.4894115924835205,
          -0.6271722912788391,
          -0.615657389163971,
          2.2002320289611816,
          -0.17148762941360474,
          -1.0484213829040527,
          1.403960108757019,
          -0.671798825263977,
          48.72206497192383,
          -0.4929855167865753,
          0.9056383371353149,
          2.2002320289611816,
          1.3165662288665771,
          2.2002320289611816,
          23.220447540283203,
          -0.38901486992836,
          2.9792287349700928,
          -0.40626260638237,
          0.8673328757286072,
          0.20612689852714539,
          0.9007086157798767,
          13.500574111938477,
          2.0921061038970947,
          1.3600982427597046,
          11.56788158416748,
          1.4273861646652222,
          1.1425708532333374,
          0.7864015102386475,
          28.121383666992188,
          0.31436893343925476,
          9.296327590942383,
          -0.6173275113105774,
          -0.9678199291229248,
          37.282989501953125,
          4.4129109382629395,
          9.07738208770752,
          0.1937902867794037,
          0.7302854657173157,
          -0.07805415242910385,
          0.3079064190387726,
          11.717942237854004,
          -0.023598220199346542,
          -0.7088720202445984,
          -0.33897456526756287,
          0.31436893343925476,
          9.47032356262207,
          -0.6414097547531128,
          2.19411039352417,
          2.9792287349700928,
          2.311051845550537,
          26.708322525024414,
          -0.2150195837020874,
          -0.7113170623779297,
          4.546075820922852,
          0.2708369791507721,
          -0.17148762941360474,
          -1.0484213829040527,
          -0.12762567400932312,
          1.2084403038024902,
          2.2437639236450195,
          15.946744918823242,
          0.17744296789169312,
          -0.7024095058441162,
          4.283597946166992,
          -0.417340487241745,
          2.187720537185669,
          -1.1550202369689941,
          7.775323867797852,
          -0.9130820631980896,
          -1.1788842678070068,
          -0.06713017076253891,
          1.3600982427597046,
          0.414463609457016,
          0.7864015102386475,
          5.353243827819824,
          2.935696840286255,
          -0.856999933719635,
          1.3165662288665771,
          0.714768648147583,
          2.2002320289611816,
          -0.005104818381369114,
          0.34963980317115784,
          0.31436893343925476,
          0.009339728392660618,
          -0.122477225959301,
          4.502543926239014,
          -0.37604400515556335,
          0.05189114436507225,
          13.5253324508667,
          0.14037352800369263,
          14.239151000976562,
          0.31436893343925476,
          5.011962890625,
          0.4001502990722656,
          -0.17795014381408691,
          5.378798484802246,
          -0.06713017076253891,
          -0.48686400055885315,
          13.806913375854492,
          1.3165662288665771,
          22.413578033447266,
          10.868403434753418,
          9.550924301147461,
          15.905012130737305,
          6.982433795928955,
          0.31436893343925476,
          -0.7826187014579773,
          -0.09268481284379959,
          -0.2150195837020874,
          0.74229896068573,
          0.03276578336954117,
          3.783425807952881,
          21.40492820739746,
          4.5813469886779785,
          1.4389010667800903,
          1.14988112449646,
          0.46538764238357544,
          14.193921089172363,
          -0.25294065475463867,
          16.51219367980957,
          4.502543926239014,
          -0.06713017076253891,
          -0.5802580714225769,
          10.607013702392578,
          23.347576141357422,
          11.14628791809082,
          -0.7379921674728394,
          5.309711933135986,
          15.176987648010254,
          -0.24340063333511353,
          2.609041452407837,
          66.00215148925781,
          0.01979493722319603,
          4.631856918334961,
          5.011962890625,
          10.861610412597656,
          1.79266357421875,
          0.4372197687625885,
          0.7428695559501648,
          -0.671798825263977,
          38.66732406616211,
          0.823470950126648,
          2.0633058547973633,
          -0.8804256319999695,
          3.3009750843048096,
          0.6813894510269165,
          13.779929161071777,
          4.502543926239014,
          -0.671798825263977,
          -0.6396111845970154,
          18.636676788330078,
          -0.7058100700378418,
          7.215022563934326,
          1.3536356687545776,
          2.972766160964966,
          9.785947799682617,
          15.094970703125,
          4.546075820922852,
          9.922995567321777,
          11.367349624633789,
          74.31092834472656,
          3.0580313205718994,
          -0.7441137433052063,
          0.2863326966762543,
          5.274440765380859,
          1.116437315940857,
          -0.3320751488208771,
          0.4001502990722656,
          1.4389010667800903,
          29.893171310424805,
          10.818078994750977,
          0.3079064190387726,
          -0.07894527167081833,
          -0.6944602131843567,
          0.43187040090560913,
          2.935696840286255,
          -0.5657907128334045,
          9.638318061828613,
          1.3536356687545776,
          -0.546570897102356,
          -0.856999933719635,
          5.637919902801514,
          -1.1788842678070068,
          46.464622497558594,
          1.5513802766799927,
          5.304612636566162,
          0.1937902867794037,
          1.3536356687545776,
          0.9007086157798767,
          1.9464362859725952,
          0.7864015102386475,
          -0.40626260638237,
          42.00042724609375,
          -0.546570897102356,
          0.7440975308418274,
          0.6361146569252014,
          23.568702697753906,
          10.562064170837402,
          0.5688742399215698,
          15.946744918823242,
          5.040666103363037,
          0.6361146569252014,
          1.3536356687545776,
          34.42397689819336,
          0.17744296789169312,
          24.74026870727539,
          0.9459835886955261,
          -0.5466036200523376,
          27.012203216552734,
          4.502543926239014,
          0.022343099117279053,
          -0.4080611765384674,
          1.1620978116989136,
          30.4726619720459,
          -0.0854077860713005,
          12.249414443969727,
          0.1505618691444397,
          -0.20282040536403656,
          38.190040588378906,
          3.6960318088531494,
          5.088883399963379,
          0.1766381561756134,
          2.0769007205963135,
          9.877335548400879,
          13.293314933776855,
          0.07003889977931976,
          -0.07805415242910385,
          0.1096801906824112,
          -0.5467092990875244,
          5.262878894805908,
          19.282085418701172,
          5.39729118347168,
          23.398653030395508,
          6.033979415893555,
          0.5444888472557068,
          8.4751615524292,
          -0.12616389989852905,
          0.06880532205104828,
          13.611393928527832,
          10.341477394104004,
          16.443103790283203,
          11.14628791809082,
          30.4726619720459,
          2.565509557723999,
          2.565509557723999,
          -0.615657389163971,
          1.681843638420105,
          -0.3065204918384552,
          6.301615238189697,
          -0.37560710310935974,
          -0.24455371499061584,
          4.529218673706055,
          0.3460235297679901,
          2.387272834777832,
          2.960566520690918,
          0.5194501876831055,
          5.3921918869018555,
          2.027247190475464,
          0.767040491104126,
          3.381758451461792,
          4.650433540344238,
          0.33162054419517517,
          8.161264419555664,
          59.36978530883789,
          27.04747772216797,
          19.126012802124023,
          1.7253756523132324,
          0.16874565184116364,
          13.5253324508667,
          7.938287734985352,
          4.006404399871826,
          5.262878894805908,
          -0.036320801824331284,
          1.5884701013565063,
          -0.24455371499061584,
          0.5838426947593689,
          1.0590498447418213,
          8.517080307006836,
          -0.6173275113105774,
          3.386240243911743,
          15.91107177734375,
          0.45262280106544495,
          2.387272834777832,
          1.9462488889694214,
          10.272391319274902,
          0.13310620188713074,
          16.401371002197266,
          2.0769007205963135,
          1.546736717224121,
          0.3170028626918793,
          0.6305804252624512,
          5.373699188232422,
          0.814822793006897,
          -0.26189395785331726,
          0.995637059211731,
          -0.6353905200958252,
          27.90243911743164,
          37.43520736694336,
          38.4354248046875,
          48.61424255371094,
          14.030754089355469,
          10.236395835876465,
          -0.3389299213886261,
          -0.17795014381408691,
          -0.15715987980365753,
          -0.8385062217712402,
          10.230657577514648,
          3.832409143447876,
          0.32476571202278137,
          0.06969340145587921,
          31.90557861328125,
          16.955394744873047,
          2.1204326152801514,
          4.04813814163208,
          -0.6237900257110596,
          17.179141998291016,
          53.3576545715332,
          4.356313228607178,
          0.32476571202278137,
          1.7253756523132324,
          33.313655853271484,
          -1.1418148279190063,
          1.9464362859725952,
          0.6273746490478516,
          66.6506576538086,
          64.97174072265625,
          3.381758451461792,
          1.0590498447418213,
          0.33162054419517517,
          -0.10817714780569077,
          4.44370698928833,
          17.926742553710938,
          0.02228623628616333,
          0.3270696997642517,
          0.7381945252418518,
          19.592456817626953,
          4.399845123291016,
          0.4435351490974426,
          0.06401963531970978,
          0.9516937136650085,
          1.7692375183105469,
          4.0937981605529785,
          13.279153823852539,
          0.1937902867794037,
          0.49233123660087585,
          1.4763450622558594,
          1.2110806703567505,
          1.8546890020370483,
          10.742378234863281,
          15.504234313964844,
          3.2709386348724365,
          51.0853157043457,
          2.3811511993408203,
          11.636967658996582,
          17.316083908081055,
          0.3270696997642517,
          16.17970848083496,
          19.221221923828125,
          1.0826196670532227,
          29.952831268310547,
          3.3427083492279053,
          1.7253756523132324,
          10.582762718200684,
          24.556543350219727,
          0.857176661491394,
          0.7671709060668945,
          5.304612636566162,
          0.6255760788917542,
          21.34033966064453,
          0.4675162732601166,
          1.7021828889846802,
          -0.24455371499061584,
          59.28361892700195,
          1.3889511823654175,
          0.5210627317428589,
          17.82325553894043,
          2.7551236152648926,
          3.6643786430358887,
          0.43366897106170654,
          20.331525802612305,
          18.422243118286133,
          59.873504638671875,
          29.169363021850586,
          2.865943431854248,
          0.6273746490478516,
          5.616782188415527,
          25.95224952697754,
          2.4346799850463867,
          19.885587692260742,
          0.3186441957950592,
          15.193862915039062,
          7.726495742797852,
          0.3801223039627075,
          2.5199451446533203,
          0.11142680048942566,
          6.301615238189697,
          0.6312499642372131,
          13.686991691589355,
          0.6813894510269165,
          0.7412043809890747,
          12.010199546813965,
          18.512331008911133,
          13.596625328063965,
          -0.5251483917236328,
          56.83745574951172,
          4.365617752075195,
          17.939836502075195,
          0.014393716119229794,
          1.7253756523132324,
          0.4636410176753998,
          17.736459732055664,
          27.04747772216797,
          0.7852524518966675,
          1.3343582153320312,
          42.44786071777344,
          0.12502072751522064,
          30.203542709350586,
          28.115324020385742,
          -0.26298853754997253,
          0.8469679951667786,
          0.2240453064441681,
          12.303328514099121,
          1.4829490184783936,
          4.807682514190674,
          0.7605633735656738,
          17.25211524963379,
          0.3762471079826355,
          1.2110806703567505,
          24.95925521850586,
          1.179640293121338,
          1.200644612312317,
          16.87604331970215,
          20.928508758544922,
          12.330643653869629,
          2.865943431854248,
          -0.20282040536403656,
          6.301615238189697,
          0.7412043809890747,
          51.709957122802734,
          2.387272834777832,
          20.570585250854492,
          20.250139236450195,
          35.575599670410156,
          9.735147476196289,
          10.567679405212402,
          6.902137756347656,
          0.5254756808280945,
          0.6747819185256958,
          32.466529846191406,
          1.0391690731048584,
          43.9146614074707,
          3.6625800132751465,
          0.7131561040878296,
          1.8403207063674927,
          2.5811281204223633,
          62.251556396484375,
          1.3099591732025146,
          3.571193218231201,
          0.11322534829378128,
          6.998130798339844,
          9.735147476196289,
          18.407821655273438,
          0.8212303519248962,
          1.3160806894302368,
          1.4889260530471802,
          6.193949222564697,
          72.3395004272461,
          0.9516937136650085,
          0.4754023551940918,
          0.8212303519248962,
          1.3109321594238281,
          57.419925689697266,
          40.228614807128906,
          46.19794845581055,
          2.7968568801879883,
          0.5444888472557068,
          1.3596127033233643,
          18.537134170532227,
          10.54102897644043,
          4.546293258666992,
          0.6498174667358398,
          0.15307427942752838,
          4.070603847503662,
          3.941291093826294,
          3.057624578475952,
          30.940223693847656,
          5.683579921722412,
          30.382564544677734,
          68.95614624023438,
          -0.07985275238752365,
          19.066356658935547,
          1.8202147483825684,
          17.781522750854492,
          27.367921829223633,
          18.795276641845703,
          20.38581085205078,
          18.704179763793945,
          41.096290588378906,
          17.275543212890625,
          1.1419918537139893,
          0.9455722570419312,
          1.2235382795333862,
          15.416840553283691,
          51.709957122802734,
          3.9058244228363037,
          1.062513828277588,
          18.407821655273438,
          0.4754023551940918,
          0.9952256679534912,
          0.43366897106170654,
          0.7433329224586487,
          12.288909912109375,
          20.331525802612305,
          7.814074993133545,
          13.55571174621582,
          21.298606872558594,
          21.36138153076172,
          6.3544230461120605,
          54.8212890625,
          0.5009568929672241,
          20.978160858154297,
          71.02694702148438,
          4.764150619506836,
          0.716515302658081,
          7.684762001037598,
          7.085710048675537,
          1.1060458421707153,
          22.500972747802734,
          21.34033966064453,
          0.9020403027534485,
          1.7529268264770508,
          17.75359535217285,
          74.32723999023438,
          27.4553165435791,
          4.849601745605469,
          0.2417093962430954,
          0.016164671629667282,
          12.288909912109375,
          21.403114318847656,
          0.9516937136650085,
          3.057624578475952,
          13.684863090515137,
          1.5353994369506836,
          67.8189697265625,
          14.307666778564453,
          18.12911033630371,
          32.52149200439453,
          1.1715295314788818,
          20.744579315185547,
          10.525945663452148,
          1.093074917793274,
          47.77794647216797,
          5.5732502937316895,
          0.5391935110092163,
          0.4568435251712799,
          0.9516937136650085,
          28.753738403320312,
          35.79350662231445,
          20.978160858154297,
          35.79350662231445,
          19.02462387084961,
          0.5254756808280945,
          72.99482727050781,
          1.7093948125839233,
          3.1684443950653076,
          80.55250549316406,
          0.9516937136650085,
          31.749820709228516,
          48.69196319580078,
          1.7093948125839233,
          20.570585250854492,
          1.8202147483825684,
          0.2760506570339203,
          0.5621528029441833,
          10.525945663452148,
          27.193925857543945,
          2.044257640838623,
          1.902716875076294,
          9.630433082580566,
          49.7291259765625,
          0.06969340145587921,
          13.279153823852539,
          15.1753511428833,
          0.9899635910987854,
          6.998130798339844,
          49.01240539550781,
          5.964892864227295,
          9.95087718963623,
          0.5254756808280945,
          6.505489826202393,
          0.811385452747345,
          5.943558692932129,
          4.502761363983154,
          0.2596735656261444,
          2.705470085144043,
          17.206453323364258,
          2.035459280014038,
          0.5374396443367004,
          1.3596127033233643,
          1.7032732963562012,
          1.7967886924743652,
          32.650142669677734,
          13.105157852172852,
          2.2688214778900146,
          0.6994709968566895,
          2.5056610107421875,
          31.45673942565918,
          2.884436845779419,
          48.80046081542969,
          0.3673471510410309,
          31.365354537963867,
          0.7184247970581055,
          0.6926161646842957,
          18.407821655273438,
          7.510766506195068,
          27.4553165435791,
          1.8592743873596191,
          62.494415283203125,
          0.37722912430763245,
          1.7511281967163086,
          0.9952256679534912,
          18.358169555664062,
          0.8287844061851501,
          1.4704326391220093,
          0.4754023551940918,
          37.94992446899414,
          0.6559390425682068,
          34.053775787353516,
          2.5811281204223633,
          5.2935590744018555,
          49.64773178100586,
          3.682220458984375,
          68.08194732666016,
          4.80501651763916,
          21.61226463317871,
          6.050252914428711,
          13.987222671508789,
          16.350133895874023,
          4.7184906005859375,
          4.502761363983154,
          18.407821655273438,
          5.150327682495117,
          3.057624578475952,
          0.5009568929672241,
          1.2670702934265137,
          0.9952256679534912,
          7.510766506195068,
          4.16934871673584,
          86.91736602783203,
          21.688207626342773,
          3.1428897380828857,
          34.82835006713867,
          33.115966796875,
          17.16472053527832,
          0.43366897106170654,
          0.5608657598495483,
          12.376303672790527,
          21.427919387817383,
          27.367921829223633,
          21.957138061523438,
          23.110713958740234,
          4.97311544418335,
          1.550784945487976,
          2.7168915271759033,
          17.82325553894043,
          5.0148491859436035,
          0.2425386905670166,
          18.216690063476562,
          121.07191467285156,
          3.4581775665283203,
          1.0390876531600952,
          1.4615952968597412,
          9.735147476196289,
          33.34008026123047,
          1.142085313796997,
          0.3270696997642517,
          12.005616188049316,
          4.070603847503662,
          1.2652716636657715,
          5.373699188232422,
          27.367921829223633,
          0.74229896068573,
          5.2935590744018555,
          3.413658618927002,
          18.623924255371094,
          28.646127700805664,
          0.6994709968566895,
          1.0179635286331177,
          12.288909912109375,
          4.359529495239258,
          0.9516937136650085,
          2.7551236152648926,
          0.7133978009223938,
          2.947976589202881,
          32.05592727661133,
          74.45706176757812,
          0.7184247970581055,
          0.814822793006897,
          4.9707231521606445,
          0.2352011650800705,
          1.419861912727356,
          27.56052589416504,
          3.674426317214966,
          2.842517614364624,
          1.3785663843154907,
          6.7824015617370605,
          23.815814971923828,
          22.565406799316406,
          32.56256103515625,
          13.693770408630371,
          3.413658618927002,
          10.85981273651123,
          24.592201232910156,
          3.475863218307495,
          2.7551236152648926,
          33.34901428222656,
          0.5608657598495483,
          8.401844024658203,
          2.563185453414917,
          14.133670806884766,
          10.525945663452148,
          28.177326202392578,
          0.6729833483695984,
          1.6525293588638306,
          0.5009568929672241,
          1.3596127033233643,
          1.2235382795333862,
          0.15495873987674713,
          6.91397762298584,
          12.330643653869629,
          35.57546615600586,
          1.3135489225387573,
          0.8504453301429749,
          0.49177929759025574,
          7.452637672424316,
          32.50185012817383,
          12.04734992980957,
          2.0994255542755127,
          11.062822341918945,
          6.330996513366699,
          11.968465805053711,
          1.7093948125839233,
          14.527299880981445,
          2.181427478790283,
          13.641331672668457,
          1.014178991317749,
          4.502761363983154,
          0.47394636273384094,
          0.4500459134578705,
          20.61078643798828,
          59.93776321411133,
          10.84151554107666,
          1.0390876531600952,
          0.4754023551940918,
          5.523411750793457,
          7.492454528808594,
          46.73823547363281,
          33.34008026123047,
          6.287134647369385,
          0.28353774547576904,
          17.438508987426758,
          36.639549255371094,
          37.16316223144531,
          21.298606872558594,
          0.33271515369415283,
          43.796592712402344,
          32.01594924926758,
          4.7184906005859375,
          11.231045722961426,
          2.7986555099487305,
          1.014178991317749,
          9.382405281066895,
          16.127826690673828,
          27.137596130371094,
          0.3460235297679901,
          0.5608657598495483,
          2.110020875930786,
          0.45426666736602783,
          37.213497161865234,
          0.6672942638397217,
          3.571193218231201,
          0.872683584690094,
          3.6498587131500244,
          0.8951948881149292,
          9.588699340820312,
          10.567679405212402,
          0.766758918762207,
          31.45673942565918,
          1.308803677558899,
          0.7184247970581055,
          14.924468994140625,
          0.6509120464324951,
          0.5847660303115845,
          1.055912971496582,
          0.7184247970581055,
          6.872243881225586,
          5.310724258422852,
          10.614243507385254,
          0.7630513310432434,
          18.465970993041992,
          5.032336711883545,
          23.311973571777344,
          1.204571008682251,
          2.586763858795166,
          5.268990516662598,
          2.243913412094116,
          1.5072557926177979,
          2.6766035556793213,
          6.055050373077393,
          8.118484497070312,
          31.558740615844727,
          26.037208557128906,
          1.6420530080795288,
          1.3552823066711426,
          0.8738712072372437,
          19.1129207611084,
          0.45262280106544495,
          3.941291093826294,
          3.0079710483551025,
          14.30469799041748,
          8.364385604858398,
          1.419861912727356,
          3.622807502746582,
          2.884436845779419,
          0.7630513310432434,
          3.69159197807312,
          1.419861912727356,
          14.30469799041748,
          0.6994709968566895,
          1.1120285987854004,
          0.5634426474571228,
          1.6482242345809937,
          3.1486852169036865,
          17.804405212402344,
          14.436981201171875,
          8.084683418273926,
          36.023414611816406,
          40.900184631347656,
          1.1607846021652222,
          0.7433329224586487,
          20.176660537719727,
          11.67772102355957,
          0.4568435251712799,
          0.9934274554252625,
          1.014178991317749,
          0.4500459134578705,
          1.1111310720443726,
          5.310724258422852,
          0.8401841521263123,
          8.133553504943848,
          5.237586975097656,
          4.353921890258789,
          0.7604745030403137,
          2.082630157470703,
          1.419861912727356,
          9.659750938415527,
          3.984822988510132,
          18.427326202392578,
          0.7630513310432434,
          3.057624578475952,
          1.357814073562622,
          23.512868881225586,
          13.29267406463623,
          0.43366897106170654,
          18.412017822265625,
          0.6672942638397217,
          0.45697465538978577,
          0.45262280106544495,
          20.194223403930664,
          9.424139022827148,
          20.85540199279785,
          0.42429283261299133,
          2.181427478790283,
          14.03134822845459,
          19.21941566467285,
          37.57643127441406,
          5.268990516662598,
          1.6917065382003784,
          2.241556406021118,
          2.0329763889312744,
          4.0931549072265625,
          1.578788161277771,
          27.984722137451172,
          0.757581353187561,
          3.6498587131500244,
          0.6297815442085266,
          15.22852897644043,
          6.132715225219727,
          0.7158479690551758,
          18.38210678100586,
          6.740981101989746,
          0.8047847151756287,
          0.45262280106544495,
          4.676756858825684,
          0.5923929214477539,
          0.3901370167732239,
          6.825981616973877,
          2.1854963302612305,
          29.0538330078125,
          0.7604745030403137,
          2.745690107345581,
          0.45156586170196533,
          3.928893566131592,
          0.4500459134578705,
          5.187933921813965,
          2.4759440422058105,
          10.095200538635254,
          6.91397762298584,
          22.780075073242188,
          20.2471923828125,
          0.5009568929672241,
          1.578788161277771,
          6.877570152282715,
          21.44968032836914,
          9.95087718963623,
          0.4500459134578705,
          0.49177929759025574,
          2.2835867404937744,
          1.8514257669448853,
          2.283289670944214,
          2.585216760635376,
          4.193375110626221,
          0.4378896653652191,
          0.4461129307746887,
          21.805267333984375,
          5.39651346206665,
          3.879615545272827,
          18.407821655273438,
          1.077872395515442,
          1.9409884214401245,
          2.617898464202881,
          2.617898464202881,
          0.49177929759025574,
          1.0899649858474731,
          21.072473526000977,
          2.1380717754364014,
          0.610379695892334,
          12.114913940429688,
          0.42429283261299133,
          1.9328818321228027,
          1.5795811414718628,
          32.67996597290039,
          20.786312103271484,
          0.8401841521263123,
          0.8951948881149292,
          2.5731189250946045,
          9.622077941894531,
          1.2670702934265137,
          2.0439815521240234,
          0.3503754436969757,
          6.209916114807129,
          0.7604745030403137,
          0.7347214818000793,
          4.125492572784424,
          2.5176773071289062,
          1.014178991317749,
          2.3931713104248047,
          9.5830659866333,
          0.29995110630989075,
          1.578788161277771,
          0.8251206874847412,
          5.397306442260742,
          4.533524990081787,
          15.380144119262695,
          1.8874179124832153,
          0.5847660303115845,
          3.653419017791748,
          2.786485195159912,
          1.2973302602767944,
          0.47394636273384094,
          0.47394636273384094,
          17.21753692626953,
          0.8747742176055908,
          0.9767354726791382,
          5.498474597930908,
          5.1796464920043945,
          0.47394636273384094,
          1.2865564823150635,
          16.446256637573242,
          0.858595609664917,
          0.47394636273384094,
          1.3968439102172852,
          3.7237045764923096,
          8.444095611572266,
          0.2963700294494629,
          1.8282521963119507,
          9.52584171295166,
          4.138814449310303,
          5.175362586975098,
          0.4500459134578705,
          0.7324036359786987,
          0.5634426474571228,
          0.3434467017650604,
          41.62190628051758,
          0.34496667981147766,
          0.761994481086731,
          0.45262280106544495,
          2.8983230590820312,
          22.821807861328125,
          15.562891006469727,
          5.438247203826904,
          2.4349045753479004,
          0.7363807559013367,
          1.578788161277771,
          2.068404197692871,
          5.379541873931885,
          1.7967886924743652,
          6.7095794677734375,
          4.82338285446167,
          1.5618164539337158,
          3.089931011199951,
          1.0468097925186157,
          0.761994481086731,
          0.45156586170196533,
          1.0681226253509521,
          4.187966346740723,
          0.8261083960533142,
          15.918670654296875,
          0.45697465538978577,
          4.80501651763916,
          6.90674352645874,
          1.83445405960083,
          7.12312650680542,
          1.5604711771011353,
          0.47394636273384094,
          6.132715225219727,
          1.4047927856445312,
          4.495875835418701,
          3.4032864570617676,
          0.784375011920929,
          0.9855941534042358,
          0.5606949925422668,
          2.1919028759002686,
          20.614118576049805,
          0.7280514240264893,
          5.380334854125977,
          2.124730348587036,
          5.397250175476074,
          2.1786184310913086,
          1.2981902360916138,
          1.730402946472168,
          0.8747742176055908,
          0.47394636273384094,
          0.6726250052452087,
          3.6498587131500244,
          2.619049549102783,
          17.92759132385254,
          0.5189617276191711,
          3.620717763900757,
          0.4747394323348999,
          12.64267635345459,
          6.661840915679932,
          2.438452959060669,
          3.4568610191345215,
          0.29995110630989075,
          1.730402946472168,
          7.832785129547119,
          11.138538360595703,
          6.809010028839111,
          5.482148170471191,
          4.529616832733154,
          2.7368316650390625,
          20.371536254882812,
          3.5998857021331787,
          0.4500459134578705,
          0.3503754436969757,
          0.5189617276191711,
          13.200096130371094,
          1.1479122638702393,
          2.438452959060669,
          2.597379207611084,
          0.4943562150001526,
          10.34608268737793,
          4.187966346740723,
          0.47394636273384094,
          27.681577682495117,
          5.628763675689697,
          0.8578025102615356,
          1.5618164539337158,
          0.8578025102615356,
          0.5606949925422668,
          3.3494317531585693,
          0.5189617276191711,
          6.091986656188965,
          3.4482710361480713,
          0.47394636273384094,
          2.841385841369629,
          5.58986234664917,
          0.7681964039802551,
          2.4425129890441895,
          3.285189390182495,
          3.046574831008911,
          1.5626094341278076,
          1.0975896120071411,
          0.47394636273384094,
          0.5606949925422668,
          1.0681226253509521,
          2.1979589462280273,
          2.383807897567749,
          0.9009901285171509,
          1.106178879737854,
          1.1479122638702393,
          0.9777231812477112,
          0.34496667981147766,
          0.29995110630989075,
          0.896685004234314,
          0.3503754436969757,
          1.7721363306045532,
          1.578788161277771,
          0.5189617276191711,
          1.8389743566513062,
          1.1961795091629028,
          3.865161895751953
         ],
         "xaxis": "x",
         "y": [
          0.1,
          1.5,
          1,
          0.1,
          15,
          0.075,
          0.2,
          0.15,
          0.6,
          0.2,
          0.125,
          0.15,
          40,
          4,
          0.15,
          0.15,
          0.8,
          0.2,
          2,
          0.9,
          0.3,
          0.1,
          0.1,
          0.6,
          0.45,
          1,
          0.5,
          0.8,
          0.5,
          0.1,
          0.3,
          0.3,
          0.15,
          0.05,
          0.25,
          0.6,
          0.3,
          0.2,
          0.15,
          0.1,
          0.3,
          0.3,
          0.1,
          2.5,
          0.8,
          0.2,
          1,
          0.4,
          0.2,
          0.15,
          2,
          0.3,
          0.05,
          0.25,
          0.15,
          1.2,
          0.35,
          0.2,
          0.5,
          0.3,
          2,
          0.3,
          0.4,
          0.15,
          0.25,
          0.4,
          0.25,
          0.2,
          0.15,
          0.3,
          0.1,
          1,
          0.6,
          2.5,
          0.1,
          0.3,
          0.9,
          0.3,
          0.45,
          0.3,
          0.2,
          0.15,
          0.45,
          0.3,
          1.5,
          1,
          2.5,
          1,
          28,
          0.25,
          0.4,
          0.9,
          38,
          0.5,
          0.2,
          1.5,
          0.3,
          1.5,
          3,
          1,
          20,
          1,
          0.6,
          0.75,
          0.15,
          0.4,
          0.35,
          0.25,
          0.1,
          0.5,
          0.25,
          0.6,
          15,
          0.1,
          1,
          0.5,
          0.25,
          0.8,
          0.6,
          0.7,
          0.5,
          0.7,
          0.25,
          0.5,
          1.2,
          0.8,
          0.3,
          0.025,
          1.8,
          0.2,
          0.2,
          1,
          0.4,
          0.275,
          0.4,
          0.3,
          0.6,
          2,
          0.25,
          7,
          0.15,
          0.175,
          0.5,
          0.2,
          0.15,
          1.8,
          0.6,
          0.15,
          1,
          0.4,
          22,
          0.15,
          0.15,
          12,
          0.3,
          0.3,
          0.25,
          0.4,
          0.4,
          0.8,
          2,
          1,
          16,
          2,
          0.1,
          2,
          1.2,
          2.5,
          3,
          1.5,
          13,
          9,
          0.8,
          0.15,
          2.5,
          2.5,
          0.3,
          0.7,
          0.9,
          1.5,
          0.5,
          14,
          0.3,
          0.15,
          0.7,
          0.5,
          12,
          0.2,
          0.25,
          2,
          8,
          3.5,
          0.7,
          0.6,
          1.2,
          0.05,
          0.5,
          9,
          0.25,
          0.3,
          0.5,
          0.175,
          70,
          0.6,
          1.2,
          0.25,
          0.1,
          1.8,
          0.3,
          0.15,
          0.85,
          0.2,
          60,
          0.25,
          1,
          1.2,
          1.2,
          2,
          25,
          0.2,
          2.8,
          0.125,
          1.5,
          0.175,
          0.8,
          11,
          1.2,
          0.6,
          5,
          1.2,
          1.5,
          0.7,
          25,
          0.25,
          7,
          0.3,
          0.1,
          45,
          5,
          8,
          0.5,
          1,
          0.3,
          0.6,
          4,
          0.5,
          0.3,
          0.9,
          0.5,
          10,
          0.25,
          3,
          2.5,
          2.5,
          28,
          0.6,
          0.2,
          3,
          1,
          0.3,
          0.2,
          0.6,
          1.5,
          1.5,
          10,
          1,
          0.05,
          2,
          0.3,
          2.5,
          0.05,
          8,
          0.2,
          0.125,
          0.5,
          1.2,
          0.15,
          1,
          6,
          2,
          0.1,
          0.7,
          0.15,
          2,
          0.45,
          0.9,
          0.4,
          0.25,
          0.8,
          2,
          0.3,
          1,
          16,
          0.7,
          16,
          0.5,
          2.5,
          0.8,
          0.4,
          10,
          0.9,
          0.45,
          6,
          1.2,
          17,
          5,
          8,
          12,
          7,
          0.6,
          0.3,
          0.6,
          0.7,
          0.25,
          0.4,
          1.8,
          12,
          2,
          0.8,
          0.7,
          0.25,
          9.5,
          0.3,
          25,
          4.5,
          0.8,
          0.4,
          6,
          22,
          9,
          0.35,
          10,
          12,
          0.15,
          0.9,
          60,
          0.6,
          2.2,
          10,
          8,
          2,
          0.75,
          1.2,
          0.45,
          45,
          1.5,
          2,
          0.15,
          2.5,
          0.1,
          12,
          2.5,
          0.3,
          0.125,
          35,
          1,
          6.5,
          2,
          3.5,
          8,
          16,
          1.5,
          16,
          8,
          70,
          1.2,
          0.2,
          0.25,
          2,
          0.8,
          0.25,
          1.5,
          0.9,
          28,
          9,
          1,
          0.45,
          0.2,
          0.175,
          1.5,
          0.3,
          6,
          1,
          0.35,
          0.2,
          3.5,
          0.15,
          35,
          1.8,
          4.5,
          0.6,
          0.9,
          0.9,
          1.2,
          1,
          0.35,
          25,
          0.2,
          0.1,
          1.2,
          20,
          9,
          0.7,
          18,
          3.2,
          0.85,
          2,
          30,
          0.8,
          35,
          0.6,
          0.275,
          25,
          1.5,
          0.25,
          0.55,
          0.35,
          38,
          0.35,
          12,
          0.35,
          0.3,
          35,
          4,
          3.8,
          0.2,
          2.2,
          4.5,
          10,
          0.025,
          0.9,
          0.2,
          0.2,
          3,
          18,
          7,
          40,
          3,
          0.2,
          10,
          0.15,
          0.6,
          20,
          18,
          15,
          15,
          27,
          2.2,
          3.5,
          0.3,
          1.8,
          0.35,
          5,
          0.3,
          0.2,
          2.5,
          0.15,
          3.5,
          3,
          0.3,
          15,
          0.9,
          0.3,
          2.5,
          6,
          0.4,
          16,
          75,
          40,
          12,
          2,
          0.3,
          9,
          4,
          12,
          5,
          1,
          3,
          0.2,
          0.4,
          1,
          18,
          0.35,
          1.2,
          25,
          0.25,
          8,
          0.6,
          8,
          0.175,
          10,
          1,
          1.2,
          0.3,
          0.5,
          3.5,
          0.2,
          0.2,
          1.2,
          0.025,
          20,
          28,
          40,
          45,
          7,
          6,
          0.4,
          0.6,
          0.2,
          0.15,
          18,
          3.5,
          0.35,
          0.25,
          35,
          15,
          1.5,
          2.2,
          0.6,
          20,
          48,
          3.5,
          0.35,
          1.5,
          40,
          0.075,
          1.5,
          0.45,
          75,
          80,
          3.5,
          1.5,
          0.35,
          0.15,
          10,
          28,
          0.15,
          0.125,
          0.3,
          14,
          1.5,
          0.25,
          0.3,
          0.2,
          1,
          4,
          12,
          0.5,
          0.9,
          1.5,
          6,
          1,
          10,
          10,
          2,
          30,
          1.8,
          18,
          12,
          0.125,
          13,
          25,
          0.2,
          50,
          2.5,
          2.5,
          8,
          22,
          1.2,
          0.9,
          7,
          0.5,
          22,
          0.225,
          2,
          0.3,
          80,
          1.2,
          0.2,
          15,
          1.5,
          3,
          0.125,
          20,
          18,
          80,
          30,
          5,
          0.5,
          4.5,
          25,
          2.5,
          25,
          0.35,
          20,
          16,
          0.25,
          1.8,
          0.15,
          7,
          1.2,
          20,
          0.8,
          0.25,
          18,
          17,
          35,
          0.075,
          32,
          4,
          12,
          0.35,
          2,
          0.25,
          13,
          15,
          0.3,
          0.5,
          35,
          0.3,
          38,
          40,
          0.35,
          0.25,
          0.15,
          16,
          1.8,
          2.8,
          0.3,
          16,
          0.25,
          0.8,
          25,
          0.7,
          2,
          12,
          20,
          20,
          2,
          0.2,
          15,
          0.25,
          60,
          2.5,
          25,
          18,
          25,
          3,
          8,
          15,
          0.25,
          0.3,
          25,
          0.5,
          25,
          3.5,
          1.2,
          1.2,
          2.8,
          60,
          0.8,
          3,
          0.15,
          4.5,
          4.5,
          9,
          0.2,
          0.9,
          0.5,
          4,
          65,
          0.4,
          0.15,
          0.3,
          3.8,
          38,
          35,
          80,
          2,
          0.1,
          0.7,
          13,
          22,
          5,
          0.15,
          0.075,
          7,
          4.5,
          2,
          40,
          4,
          16,
          75,
          0.5,
          16,
          0.7,
          12,
          25,
          20,
          18,
          38,
          50,
          13,
          0.8,
          0.4,
          1,
          18,
          50,
          2.2,
          0.5,
          28,
          0.075,
          0.45,
          0.15,
          0.3,
          16,
          25,
          12,
          6,
          38,
          28,
          12,
          50,
          0.3,
          25,
          50,
          5,
          0.5,
          4.5,
          4.5,
          0.4,
          28,
          15,
          0.7,
          1,
          15,
          80,
          20,
          3,
          0.3,
          0.2,
          6,
          18,
          0.9,
          1.5,
          7,
          0.9,
          65,
          25,
          12,
          70,
          1.5,
          32,
          12,
          0.8,
          35,
          3.5,
          0.3,
          0.15,
          0.5,
          40,
          60,
          27,
          38,
          35,
          0.2,
          90,
          2.8,
          2,
          90,
          0.45,
          45,
          75,
          1.2,
          18,
          0.8,
          0.25,
          0.4,
          15,
          15,
          6,
          1.2,
          4,
          30,
          0.2,
          10,
          35,
          0.6,
          16,
          48,
          3.5,
          10,
          0.2,
          3,
          0.4,
          13,
          3,
          0.075,
          1.8,
          30,
          2.2,
          0.125,
          1.8,
          1,
          3.5,
          28,
          18,
          1.5,
          0.3,
          2,
          35,
          0.9,
          35,
          0.175,
          17,
          0.3,
          0.3,
          18,
          12,
          30,
          1.4,
          50,
          0.35,
          3.5,
          0.35,
          18,
          0.3,
          1,
          0.15,
          50,
          0.3,
          35,
          5,
          17,
          45,
          3.5,
          55,
          5,
          35,
          3,
          12,
          22,
          10,
          3.5,
          25,
          6,
          2,
          0.6,
          0.5,
          0.5,
          4,
          7,
          110,
          15,
          2.2,
          20,
          25,
          18,
          0.25,
          0.15,
          7,
          35,
          20,
          25,
          18,
          9,
          7,
          1.3,
          15,
          12,
          0.125,
          22,
          180,
          1.8,
          1.5,
          0.5,
          7,
          42,
          0.8,
          0.1,
          16,
          2.5,
          0.9,
          8,
          25,
          0.3,
          11,
          20,
          16,
          38,
          0.3,
          0.3,
          30,
          11,
          0.8,
          1.5,
          0.25,
          1.2,
          55,
          110,
          0.3,
          0.15,
          5,
          0.2,
          0.9,
          17,
          2.8,
          2.8,
          0.6,
          4,
          17,
          55,
          50,
          9,
          8,
          14,
          18,
          5,
          3.5,
          45,
          0.2,
          6,
          2.8,
          10,
          10,
          40,
          0.3,
          0.6,
          0.15,
          0.45,
          1.2,
          0.25,
          10,
          15,
          40,
          0.3,
          0.3,
          0.8,
          3.8,
          10,
          20,
          7,
          10,
          6,
          11,
          4,
          22,
          0.5,
          22,
          1,
          6,
          0.35,
          0.175,
          30,
          65,
          20,
          2.8,
          0.2,
          12,
          25,
          55,
          75,
          4,
          0.075,
          25,
          22,
          30,
          40,
          0.6,
          75,
          50,
          8,
          10,
          1.5,
          0.4,
          12,
          42,
          28,
          0.075,
          0.25,
          5,
          0.15,
          28,
          0.2,
          2,
          0.9,
          1,
          0.5,
          9,
          5,
          0.3,
          55,
          4,
          0.25,
          15,
          0.2,
          0.15,
          1.2,
          0.35,
          4.5,
          2,
          20,
          0.25,
          35,
          1.8,
          32,
          0.8,
          2,
          2.2,
          5,
          2,
          0.8,
          15,
          8,
          25,
          28,
          0.6,
          5,
          0.2,
          12,
          1,
          7,
          22,
          12,
          14,
          0.25,
          9,
          1.8,
          0.15,
          1.2,
          0.5,
          7,
          0.3,
          4,
          0.15,
          2.5,
          3,
          22,
          28,
          4,
          30,
          70,
          0.45,
          0.55,
          25,
          6,
          0.05,
          0.7,
          0.5,
          0.15,
          0.5,
          2.5,
          0.3,
          8,
          3.5,
          5,
          0.125,
          3,
          0.5,
          10,
          3,
          65,
          0.2,
          2,
          2.2,
          13,
          60,
          0.3,
          22,
          0.3,
          0.2,
          0.15,
          13,
          5,
          20,
          0.1,
          3,
          35,
          30,
          65,
          2.5,
          1.5,
          0.6,
          0.7,
          2,
          0.6,
          35,
          0.3,
          3.5,
          0.15,
          25,
          18,
          1,
          16,
          8,
          0.3,
          0.2,
          6,
          0.2,
          0.2,
          12,
          5,
          35,
          0.2,
          2.5,
          0.2,
          8,
          0.3,
          5,
          2.2,
          15,
          5,
          15,
          28,
          0.25,
          1.5,
          4,
          22,
          10,
          0.275,
          0.35,
          1.2,
          0.6,
          2.5,
          1,
          8,
          0.25,
          0.15,
          18,
          6,
          9,
          20,
          1.5,
          1,
          0.7,
          1.2,
          0.1,
          0.45,
          25,
          0.9,
          0.3,
          25,
          0.05,
          1,
          0.5,
          45,
          30,
          0.35,
          0.25,
          6,
          8,
          1.2,
          2,
          0.5,
          35,
          0.25,
          0.25,
          5,
          1,
          0.35,
          0.3,
          16,
          0.2,
          1,
          0.3,
          7,
          2.5,
          25,
          0.25,
          0.3,
          15,
          1.5,
          0.5,
          0.125,
          0.2,
          24,
          1.8,
          0.9,
          18,
          32,
          0.175,
          1,
          15,
          0.45,
          0.2,
          0.9,
          5,
          7,
          0.075,
          10,
          85,
          5,
          12,
          0.5,
          11,
          0.2,
          0.05,
          70,
          0.25,
          0.35,
          0.175,
          10,
          18,
          22,
          7,
          1.2,
          0.4,
          0.45,
          1,
          2,
          6,
          2.8,
          3,
          6,
          0.8,
          0.9,
          0.8,
          0.5,
          0.3,
          1.8,
          0.9,
          13,
          0.2,
          6,
          9,
          0.6,
          55,
          0.5,
          0.25,
          11,
          1.2,
          4,
          15,
          0.25,
          0.5,
          0.5,
          0.4,
          22,
          0.7,
          8,
          0.35,
          3,
          1,
          0.8,
          0.8,
          1.2,
          2.8,
          0.3,
          3,
          10,
          22,
          0.2,
          1.5,
          0.15,
          18,
          5,
          1,
          3,
          0.2,
          2,
          6,
          5,
          5,
          3.5,
          4,
          1,
          22,
          1,
          0.25,
          0.125,
          0.1,
          12,
          0.4,
          30,
          10,
          0.45,
          14,
          20,
          0.25,
          28,
          25,
          0.25,
          1,
          0.8,
          0.25,
          20,
          0.8,
          5,
          3.5,
          0.15,
          14,
          2,
          0.2,
          0.8,
          4,
          2,
          0.4,
          1.5,
          0.275,
          0.15,
          0.5,
          0.3,
          1.5,
          0.4,
          6,
          8,
          0.3,
          0.3,
          0.2,
          3,
          12,
          0.5,
          3,
          0.2,
          2,
          0.125,
          1.9
         ],
         "yaxis": "y"
        }
       ],
       "layout": {
        "legend": {
         "tracegroupgap": 0
        },
        "margin": {
         "t": 60
        },
        "template": {
         "data": {
          "bar": [
           {
            "error_x": {
             "color": "#2a3f5f"
            },
            "error_y": {
             "color": "#2a3f5f"
            },
            "marker": {
             "line": {
              "color": "#E5ECF6",
              "width": 0.5
             },
             "pattern": {
              "fillmode": "overlay",
              "size": 10,
              "solidity": 0.2
             }
            },
            "type": "bar"
           }
          ],
          "barpolar": [
           {
            "marker": {
             "line": {
              "color": "#E5ECF6",
              "width": 0.5
             },
             "pattern": {
              "fillmode": "overlay",
              "size": 10,
              "solidity": 0.2
             }
            },
            "type": "barpolar"
           }
          ],
          "carpet": [
           {
            "aaxis": {
             "endlinecolor": "#2a3f5f",
             "gridcolor": "white",
             "linecolor": "white",
             "minorgridcolor": "white",
             "startlinecolor": "#2a3f5f"
            },
            "baxis": {
             "endlinecolor": "#2a3f5f",
             "gridcolor": "white",
             "linecolor": "white",
             "minorgridcolor": "white",
             "startlinecolor": "#2a3f5f"
            },
            "type": "carpet"
           }
          ],
          "choropleth": [
           {
            "colorbar": {
             "outlinewidth": 0,
             "ticks": ""
            },
            "type": "choropleth"
           }
          ],
          "contour": [
           {
            "colorbar": {
             "outlinewidth": 0,
             "ticks": ""
            },
            "colorscale": [
             [
              0,
              "#0d0887"
             ],
             [
              0.1111111111111111,
              "#46039f"
             ],
             [
              0.2222222222222222,
              "#7201a8"
             ],
             [
              0.3333333333333333,
              "#9c179e"
             ],
             [
              0.4444444444444444,
              "#bd3786"
             ],
             [
              0.5555555555555556,
              "#d8576b"
             ],
             [
              0.6666666666666666,
              "#ed7953"
             ],
             [
              0.7777777777777778,
              "#fb9f3a"
             ],
             [
              0.8888888888888888,
              "#fdca26"
             ],
             [
              1,
              "#f0f921"
             ]
            ],
            "type": "contour"
           }
          ],
          "contourcarpet": [
           {
            "colorbar": {
             "outlinewidth": 0,
             "ticks": ""
            },
            "type": "contourcarpet"
           }
          ],
          "heatmap": [
           {
            "colorbar": {
             "outlinewidth": 0,
             "ticks": ""
            },
            "colorscale": [
             [
              0,
              "#0d0887"
             ],
             [
              0.1111111111111111,
              "#46039f"
             ],
             [
              0.2222222222222222,
              "#7201a8"
             ],
             [
              0.3333333333333333,
              "#9c179e"
             ],
             [
              0.4444444444444444,
              "#bd3786"
             ],
             [
              0.5555555555555556,
              "#d8576b"
             ],
             [
              0.6666666666666666,
              "#ed7953"
             ],
             [
              0.7777777777777778,
              "#fb9f3a"
             ],
             [
              0.8888888888888888,
              "#fdca26"
             ],
             [
              1,
              "#f0f921"
             ]
            ],
            "type": "heatmap"
           }
          ],
          "heatmapgl": [
           {
            "colorbar": {
             "outlinewidth": 0,
             "ticks": ""
            },
            "colorscale": [
             [
              0,
              "#0d0887"
             ],
             [
              0.1111111111111111,
              "#46039f"
             ],
             [
              0.2222222222222222,
              "#7201a8"
             ],
             [
              0.3333333333333333,
              "#9c179e"
             ],
             [
              0.4444444444444444,
              "#bd3786"
             ],
             [
              0.5555555555555556,
              "#d8576b"
             ],
             [
              0.6666666666666666,
              "#ed7953"
             ],
             [
              0.7777777777777778,
              "#fb9f3a"
             ],
             [
              0.8888888888888888,
              "#fdca26"
             ],
             [
              1,
              "#f0f921"
             ]
            ],
            "type": "heatmapgl"
           }
          ],
          "histogram": [
           {
            "marker": {
             "pattern": {
              "fillmode": "overlay",
              "size": 10,
              "solidity": 0.2
             }
            },
            "type": "histogram"
           }
          ],
          "histogram2d": [
           {
            "colorbar": {
             "outlinewidth": 0,
             "ticks": ""
            },
            "colorscale": [
             [
              0,
              "#0d0887"
             ],
             [
              0.1111111111111111,
              "#46039f"
             ],
             [
              0.2222222222222222,
              "#7201a8"
             ],
             [
              0.3333333333333333,
              "#9c179e"
             ],
             [
              0.4444444444444444,
              "#bd3786"
             ],
             [
              0.5555555555555556,
              "#d8576b"
             ],
             [
              0.6666666666666666,
              "#ed7953"
             ],
             [
              0.7777777777777778,
              "#fb9f3a"
             ],
             [
              0.8888888888888888,
              "#fdca26"
             ],
             [
              1,
              "#f0f921"
             ]
            ],
            "type": "histogram2d"
           }
          ],
          "histogram2dcontour": [
           {
            "colorbar": {
             "outlinewidth": 0,
             "ticks": ""
            },
            "colorscale": [
             [
              0,
              "#0d0887"
             ],
             [
              0.1111111111111111,
              "#46039f"
             ],
             [
              0.2222222222222222,
              "#7201a8"
             ],
             [
              0.3333333333333333,
              "#9c179e"
             ],
             [
              0.4444444444444444,
              "#bd3786"
             ],
             [
              0.5555555555555556,
              "#d8576b"
             ],
             [
              0.6666666666666666,
              "#ed7953"
             ],
             [
              0.7777777777777778,
              "#fb9f3a"
             ],
             [
              0.8888888888888888,
              "#fdca26"
             ],
             [
              1,
              "#f0f921"
             ]
            ],
            "type": "histogram2dcontour"
           }
          ],
          "mesh3d": [
           {
            "colorbar": {
             "outlinewidth": 0,
             "ticks": ""
            },
            "type": "mesh3d"
           }
          ],
          "parcoords": [
           {
            "line": {
             "colorbar": {
              "outlinewidth": 0,
              "ticks": ""
             }
            },
            "type": "parcoords"
           }
          ],
          "pie": [
           {
            "automargin": true,
            "type": "pie"
           }
          ],
          "scatter": [
           {
            "fillpattern": {
             "fillmode": "overlay",
             "size": 10,
             "solidity": 0.2
            },
            "type": "scatter"
           }
          ],
          "scatter3d": [
           {
            "line": {
             "colorbar": {
              "outlinewidth": 0,
              "ticks": ""
             }
            },
            "marker": {
             "colorbar": {
              "outlinewidth": 0,
              "ticks": ""
             }
            },
            "type": "scatter3d"
           }
          ],
          "scattercarpet": [
           {
            "marker": {
             "colorbar": {
              "outlinewidth": 0,
              "ticks": ""
             }
            },
            "type": "scattercarpet"
           }
          ],
          "scattergeo": [
           {
            "marker": {
             "colorbar": {
              "outlinewidth": 0,
              "ticks": ""
             }
            },
            "type": "scattergeo"
           }
          ],
          "scattergl": [
           {
            "marker": {
             "colorbar": {
              "outlinewidth": 0,
              "ticks": ""
             }
            },
            "type": "scattergl"
           }
          ],
          "scattermapbox": [
           {
            "marker": {
             "colorbar": {
              "outlinewidth": 0,
              "ticks": ""
             }
            },
            "type": "scattermapbox"
           }
          ],
          "scatterpolar": [
           {
            "marker": {
             "colorbar": {
              "outlinewidth": 0,
              "ticks": ""
             }
            },
            "type": "scatterpolar"
           }
          ],
          "scatterpolargl": [
           {
            "marker": {
             "colorbar": {
              "outlinewidth": 0,
              "ticks": ""
             }
            },
            "type": "scatterpolargl"
           }
          ],
          "scatterternary": [
           {
            "marker": {
             "colorbar": {
              "outlinewidth": 0,
              "ticks": ""
             }
            },
            "type": "scatterternary"
           }
          ],
          "surface": [
           {
            "colorbar": {
             "outlinewidth": 0,
             "ticks": ""
            },
            "colorscale": [
             [
              0,
              "#0d0887"
             ],
             [
              0.1111111111111111,
              "#46039f"
             ],
             [
              0.2222222222222222,
              "#7201a8"
             ],
             [
              0.3333333333333333,
              "#9c179e"
             ],
             [
              0.4444444444444444,
              "#bd3786"
             ],
             [
              0.5555555555555556,
              "#d8576b"
             ],
             [
              0.6666666666666666,
              "#ed7953"
             ],
             [
              0.7777777777777778,
              "#fb9f3a"
             ],
             [
              0.8888888888888888,
              "#fdca26"
             ],
             [
              1,
              "#f0f921"
             ]
            ],
            "type": "surface"
           }
          ],
          "table": [
           {
            "cells": {
             "fill": {
              "color": "#EBF0F8"
             },
             "line": {
              "color": "white"
             }
            },
            "header": {
             "fill": {
              "color": "#C8D4E3"
             },
             "line": {
              "color": "white"
             }
            },
            "type": "table"
           }
          ]
         },
         "layout": {
          "annotationdefaults": {
           "arrowcolor": "#2a3f5f",
           "arrowhead": 0,
           "arrowwidth": 1
          },
          "autotypenumbers": "strict",
          "coloraxis": {
           "colorbar": {
            "outlinewidth": 0,
            "ticks": ""
           }
          },
          "colorscale": {
           "diverging": [
            [
             0,
             "#8e0152"
            ],
            [
             0.1,
             "#c51b7d"
            ],
            [
             0.2,
             "#de77ae"
            ],
            [
             0.3,
             "#f1b6da"
            ],
            [
             0.4,
             "#fde0ef"
            ],
            [
             0.5,
             "#f7f7f7"
            ],
            [
             0.6,
             "#e6f5d0"
            ],
            [
             0.7,
             "#b8e186"
            ],
            [
             0.8,
             "#7fbc41"
            ],
            [
             0.9,
             "#4d9221"
            ],
            [
             1,
             "#276419"
            ]
           ],
           "sequential": [
            [
             0,
             "#0d0887"
            ],
            [
             0.1111111111111111,
             "#46039f"
            ],
            [
             0.2222222222222222,
             "#7201a8"
            ],
            [
             0.3333333333333333,
             "#9c179e"
            ],
            [
             0.4444444444444444,
             "#bd3786"
            ],
            [
             0.5555555555555556,
             "#d8576b"
            ],
            [
             0.6666666666666666,
             "#ed7953"
            ],
            [
             0.7777777777777778,
             "#fb9f3a"
            ],
            [
             0.8888888888888888,
             "#fdca26"
            ],
            [
             1,
             "#f0f921"
            ]
           ],
           "sequentialminus": [
            [
             0,
             "#0d0887"
            ],
            [
             0.1111111111111111,
             "#46039f"
            ],
            [
             0.2222222222222222,
             "#7201a8"
            ],
            [
             0.3333333333333333,
             "#9c179e"
            ],
            [
             0.4444444444444444,
             "#bd3786"
            ],
            [
             0.5555555555555556,
             "#d8576b"
            ],
            [
             0.6666666666666666,
             "#ed7953"
            ],
            [
             0.7777777777777778,
             "#fb9f3a"
            ],
            [
             0.8888888888888888,
             "#fdca26"
            ],
            [
             1,
             "#f0f921"
            ]
           ]
          },
          "colorway": [
           "#636efa",
           "#EF553B",
           "#00cc96",
           "#ab63fa",
           "#FFA15A",
           "#19d3f3",
           "#FF6692",
           "#B6E880",
           "#FF97FF",
           "#FECB52"
          ],
          "font": {
           "color": "#2a3f5f"
          },
          "geo": {
           "bgcolor": "white",
           "lakecolor": "white",
           "landcolor": "#E5ECF6",
           "showlakes": true,
           "showland": true,
           "subunitcolor": "white"
          },
          "hoverlabel": {
           "align": "left"
          },
          "hovermode": "closest",
          "mapbox": {
           "style": "light"
          },
          "paper_bgcolor": "white",
          "plot_bgcolor": "#E5ECF6",
          "polar": {
           "angularaxis": {
            "gridcolor": "white",
            "linecolor": "white",
            "ticks": ""
           },
           "bgcolor": "#E5ECF6",
           "radialaxis": {
            "gridcolor": "white",
            "linecolor": "white",
            "ticks": ""
           }
          },
          "scene": {
           "xaxis": {
            "backgroundcolor": "#E5ECF6",
            "gridcolor": "white",
            "gridwidth": 2,
            "linecolor": "white",
            "showbackground": true,
            "ticks": "",
            "zerolinecolor": "white"
           },
           "yaxis": {
            "backgroundcolor": "#E5ECF6",
            "gridcolor": "white",
            "gridwidth": 2,
            "linecolor": "white",
            "showbackground": true,
            "ticks": "",
            "zerolinecolor": "white"
           },
           "zaxis": {
            "backgroundcolor": "#E5ECF6",
            "gridcolor": "white",
            "gridwidth": 2,
            "linecolor": "white",
            "showbackground": true,
            "ticks": "",
            "zerolinecolor": "white"
           }
          },
          "shapedefaults": {
           "line": {
            "color": "#2a3f5f"
           }
          },
          "ternary": {
           "aaxis": {
            "gridcolor": "white",
            "linecolor": "white",
            "ticks": ""
           },
           "baxis": {
            "gridcolor": "white",
            "linecolor": "white",
            "ticks": ""
           },
           "bgcolor": "#E5ECF6",
           "caxis": {
            "gridcolor": "white",
            "linecolor": "white",
            "ticks": ""
           }
          },
          "title": {
           "x": 0.05
          },
          "xaxis": {
           "automargin": true,
           "gridcolor": "white",
           "linecolor": "white",
           "ticks": "",
           "title": {
            "standoff": 15
           },
           "zerolinecolor": "white",
           "zerolinewidth": 2
          },
          "yaxis": {
           "automargin": true,
           "gridcolor": "white",
           "linecolor": "white",
           "ticks": "",
           "title": {
            "standoff": 15
           },
           "zerolinecolor": "white",
           "zerolinewidth": 2
          }
         }
        },
        "xaxis": {
         "anchor": "y",
         "domain": [
          0,
          1
         ],
         "title": {
          "text": "predicted_value"
         }
        },
        "yaxis": {
         "anchor": "x",
         "domain": [
          0,
          1
         ],
         "title": {
          "text": "market_value_in_million_eur"
         }
        }
       }
      }
     },
     "metadata": {},
     "output_type": "display_data"
    },
    {
     "data": {
      "image/png": "[encoded data removed]",
      "text/plain": [
       "<Figure size 800x950 with 2 Axes>"
      ]
     },
     "metadata": {},
     "output_type": "display_data"
    }
   ],
   "source": [
    "forecast_df, regressor, y_test = predict_future_values(    pdf_train, \n",
    "    pdf_test, [2023, 2024, 2025, 2026, 2027, 2028], features)"
   ]
  },
  {
   "cell_type": "code",
   "execution_count": 12,
   "id": "6e2a600c",
   "metadata": {},
   "outputs": [],
   "source": [
    "# Merge with actual market values for evaluation\n",
    "\n",
    "merged = forecast_df.merge(pdf_test[[\"player_id\", \"name\"]], on=[\"player_id\"], how=\"left\")\n",
    "end = time.time()\n",
    "diff = end - start"
   ]
  },
  {
   "cell_type": "code",
   "execution_count": 13,
   "id": "82a7259f",
   "metadata": {},
   "outputs": [],
   "source": [
    "# plot_decision_tree_importance(regressor.best_estimator_, features)"
   ]
  },
  {
   "cell_type": "code",
   "execution_count": 14,
   "id": "073662f5",
   "metadata": {},
   "outputs": [
    {
     "data": {
      "application/vnd.plotly.v1+json": {
       "config": {
        "plotlyServerURL": "https://plot.ly"
       },
       "data": [
        {
         "customdata": [
          [
           22
          ],
          [
           23
          ],
          [
           24
          ],
          [
           25
          ],
          [
           27
          ],
          [
           27
          ],
          [
           28
          ],
          [
           30
          ],
          [
           30
          ],
          [
           31
          ],
          [
           32
          ],
          [
           33
          ],
          [
           34
          ],
          [
           35
          ]
         ],
         "hovertemplate": "name=Mohamed Salah<br>year=%{x}<br>predicted_value=%{y}<br>age=%{customdata[0]}<extra></extra>",
         "legendgroup": "Mohamed Salah",
         "line": {
          "color": "#636efa",
          "dash": "solid"
         },
         "marker": {
          "symbol": "circle"
         },
         "mode": "lines",
         "name": "Mohamed Salah",
         "orientation": "v",
         "showlegend": true,
         "type": "scatter",
         "x": [
          2015,
          2016,
          2017,
          2018,
          2019,
          2020,
          2021,
          2022,
          2023,
          2024,
          2025,
          2026,
          2027,
          2028
         ],
         "xaxis": "x",
         "y": [
          10,
          20,
          30,
          80,
          150,
          120,
          110,
          90,
          74.31092834472656,
          58.05106735229492,
          40.71936798095703,
          32.65260696411133,
          23.913360595703125,
          15.651527404785156
         ],
         "yaxis": "y"
        },
        {
         "customdata": [
          [
           19
          ],
          [
           20
          ],
          [
           21
          ],
          [
           22
          ],
          [
           23
          ],
          [
           24
          ],
          [
           25
          ],
          [
           26
          ],
          [
           27
          ],
          [
           28
          ],
          [
           29
          ],
          [
           30
          ],
          [
           31
          ]
         ],
         "hovertemplate": "name=Wilfred Ndidi<br>year=%{x}<br>predicted_value=%{y}<br>age=%{customdata[0]}<extra></extra>",
         "legendgroup": "Wilfred Ndidi",
         "line": {
          "color": "#EF553B",
          "dash": "solid"
         },
         "marker": {
          "symbol": "circle"
         },
         "mode": "lines",
         "name": "Wilfred Ndidi",
         "orientation": "v",
         "showlegend": true,
         "type": "scatter",
         "x": [
          2016,
          2017,
          2018,
          2019,
          2020,
          2021,
          2022,
          2023,
          2024,
          2025,
          2026,
          2027,
          2028
         ],
         "xaxis": "x",
         "y": [
          1,
          14,
          18,
          35,
          36,
          50,
          60,
          56.83745574951172,
          49.772544860839844,
          47.46757125854492,
          36.5735969543457,
          25.47393035888672,
          20.453685760498047
         ],
         "yaxis": "y"
        },
        {
         "customdata": [
          [
           18
          ],
          [
           20
          ],
          [
           21
          ],
          [
           22
          ],
          [
           23
          ],
          [
           24
          ],
          [
           25
          ],
          [
           26
          ],
          [
           27
          ],
          [
           28
          ],
          [
           29
          ]
         ],
         "hovertemplate": "name=Declan Rice<br>year=%{x}<br>predicted_value=%{y}<br>age=%{customdata[0]}<extra></extra>",
         "legendgroup": "Declan Rice",
         "line": {
          "color": "#00cc96",
          "dash": "solid"
         },
         "marker": {
          "symbol": "circle"
         },
         "mode": "lines",
         "name": "Declan Rice",
         "orientation": "v",
         "showlegend": true,
         "type": "scatter",
         "x": [
          2018,
          2019,
          2020,
          2021,
          2022,
          2023,
          2024,
          2025,
          2026,
          2027,
          2028
         ],
         "xaxis": "x",
         "y": [
          2,
          35,
          49.5,
          60,
          80,
          80.55250549316406,
          73.10781860351562,
          60.16029357910156,
          54.71148681640625,
          49.30647659301758,
          44.665592193603516
         ],
         "yaxis": "y"
        },
        {
         "customdata": [
          [
           17
          ],
          [
           18
          ],
          [
           18
          ],
          [
           19
          ],
          [
           20
          ],
          [
           21
          ],
          [
           22
          ],
          [
           23
          ],
          [
           24
          ],
          [
           25
          ],
          [
           26
          ],
          [
           27
          ]
         ],
         "hovertemplate": "name=Erling Haaland<br>year=%{x}<br>predicted_value=%{y}<br>age=%{customdata[0]}<extra></extra>",
         "legendgroup": "Erling Haaland",
         "line": {
          "color": "#ab63fa",
          "dash": "solid"
         },
         "marker": {
          "symbol": "circle"
         },
         "mode": "lines",
         "name": "Erling Haaland",
         "orientation": "v",
         "showlegend": true,
         "type": "scatter",
         "x": [
          2017,
          2018,
          2019,
          2020,
          2021,
          2022,
          2023,
          2024,
          2025,
          2026,
          2027,
          2028
         ],
         "xaxis": "x",
         "y": [
          0.3,
          2,
          5,
          60,
          110,
          150,
          121.07191467285156,
          106.48163604736328,
          86.21404266357422,
          62.977821350097656,
          54.8212890625,
          48.579689025878906
         ],
         "yaxis": "y"
        },
        {
         "customdata": [
          [
           17
          ],
          [
           17
          ],
          [
           18
          ],
          [
           20
          ],
          [
           21
          ],
          [
           22
          ],
          [
           23
          ],
          [
           24
          ],
          [
           25
          ]
         ],
         "hovertemplate": "name=Harvey Elliott<br>year=%{x}<br>predicted_value=%{y}<br>age=%{customdata[0]}<extra></extra>",
         "legendgroup": "Harvey Elliott",
         "line": {
          "color": "#FFA15A",
          "dash": "solid"
         },
         "marker": {
          "symbol": "circle"
         },
         "mode": "lines",
         "name": "Harvey Elliott",
         "orientation": "v",
         "showlegend": true,
         "type": "scatter",
         "x": [
          2020,
          2021,
          2022,
          2023,
          2024,
          2025,
          2026,
          2027,
          2028
         ],
         "xaxis": "x",
         "y": [
          3.6,
          15,
          22,
          29.0538330078125,
          30.103439331054688,
          31.77008628845215,
          32.32930374145508,
          32.37283706665039,
          33.185585021972656
         ],
         "yaxis": "y"
        },
        {
         "customdata": [
          [
           20
          ],
          [
           21
          ],
          [
           22
          ],
          [
           23
          ],
          [
           24
          ],
          [
           25
          ],
          [
           26
          ]
         ],
         "hovertemplate": "name=Cole Palmer<br>year=%{x}<br>predicted_value=%{y}<br>age=%{customdata[0]}<extra></extra>",
         "legendgroup": "Cole Palmer",
         "line": {
          "color": "#19d3f3",
          "dash": "solid"
         },
         "marker": {
          "symbol": "circle"
         },
         "mode": "lines",
         "name": "Cole Palmer",
         "orientation": "v",
         "showlegend": true,
         "type": "scatter",
         "x": [
          2022,
          2023,
          2024,
          2025,
          2026,
          2027,
          2028
         ],
         "xaxis": "x",
         "y": [
          6,
          10.095200538635254,
          13.610812187194824,
          14.307666778564453,
          14.307666778564453,
          14.307666778564453,
          13.987222671508789
         ],
         "yaxis": "y"
        },
        {
         "customdata": [
          [
           17
          ],
          [
           18
          ],
          [
           19
          ],
          [
           20
          ],
          [
           21
          ],
          [
           22
          ]
         ],
         "hovertemplate": "name=Ashley Phillips<br>year=%{x}<br>predicted_value=%{y}<br>age=%{customdata[0]}<extra></extra>",
         "legendgroup": "Ashley Phillips",
         "line": {
          "color": "#FF6692",
          "dash": "solid"
         },
         "marker": {
          "symbol": "circle"
         },
         "mode": "lines",
         "name": "Ashley Phillips",
         "orientation": "v",
         "showlegend": true,
         "type": "scatter",
         "x": [
          2023,
          2024,
          2025,
          2026,
          2027,
          2028
         ],
         "xaxis": "x",
         "y": [
          5.58986234664917,
          8.48582935333252,
          13.393445014953613,
          17.640352249145508,
          20.462921142578125,
          21.491413116455078
         ],
         "yaxis": "y"
        }
       ],
       "layout": {
        "annotations": [
         {
          "showarrow": false,
          "text": "2022/2023 boundary",
          "x": 2022.5,
          "xanchor": "left",
          "xref": "x",
          "y": 1,
          "yanchor": "top",
          "yref": "y domain"
         }
        ],
        "legend": {
         "title": {
          "text": "name"
         },
         "tracegroupgap": 0
        },
        "shapes": [
         {
          "line": {
           "color": "red",
           "dash": "dash"
          },
          "type": "line",
          "x0": 2022.5,
          "x1": 2022.5,
          "xref": "x",
          "y0": 0,
          "y1": 1,
          "yref": "y domain"
         }
        ],
        "template": {
         "data": {
          "bar": [
           {
            "error_x": {
             "color": "#2a3f5f"
            },
            "error_y": {
             "color": "#2a3f5f"
            },
            "marker": {
             "line": {
              "color": "#E5ECF6",
              "width": 0.5
             },
             "pattern": {
              "fillmode": "overlay",
              "size": 10,
              "solidity": 0.2
             }
            },
            "type": "bar"
           }
          ],
          "barpolar": [
           {
            "marker": {
             "line": {
              "color": "#E5ECF6",
              "width": 0.5
             },
             "pattern": {
              "fillmode": "overlay",
              "size": 10,
              "solidity": 0.2
             }
            },
            "type": "barpolar"
           }
          ],
          "carpet": [
           {
            "aaxis": {
             "endlinecolor": "#2a3f5f",
             "gridcolor": "white",
             "linecolor": "white",
             "minorgridcolor": "white",
             "startlinecolor": "#2a3f5f"
            },
            "baxis": {
             "endlinecolor": "#2a3f5f",
             "gridcolor": "white",
             "linecolor": "white",
             "minorgridcolor": "white",
             "startlinecolor": "#2a3f5f"
            },
            "type": "carpet"
           }
          ],
          "choropleth": [
           {
            "colorbar": {
             "outlinewidth": 0,
             "ticks": ""
            },
            "type": "choropleth"
           }
          ],
          "contour": [
           {
            "colorbar": {
             "outlinewidth": 0,
             "ticks": ""
            },
            "colorscale": [
             [
              0,
              "#0d0887"
             ],
             [
              0.1111111111111111,
              "#46039f"
             ],
             [
              0.2222222222222222,
              "#7201a8"
             ],
             [
              0.3333333333333333,
              "#9c179e"
             ],
             [
              0.4444444444444444,
              "#bd3786"
             ],
             [
              0.5555555555555556,
              "#d8576b"
             ],
             [
              0.6666666666666666,
              "#ed7953"
             ],
             [
              0.7777777777777778,
              "#fb9f3a"
             ],
             [
              0.8888888888888888,
              "#fdca26"
             ],
             [
              1,
              "#f0f921"
             ]
            ],
            "type": "contour"
           }
          ],
          "contourcarpet": [
           {
            "colorbar": {
             "outlinewidth": 0,
             "ticks": ""
            },
            "type": "contourcarpet"
           }
          ],
          "heatmap": [
           {
            "colorbar": {
             "outlinewidth": 0,
             "ticks": ""
            },
            "colorscale": [
             [
              0,
              "#0d0887"
             ],
             [
              0.1111111111111111,
              "#46039f"
             ],
             [
              0.2222222222222222,
              "#7201a8"
             ],
             [
              0.3333333333333333,
              "#9c179e"
             ],
             [
              0.4444444444444444,
              "#bd3786"
             ],
             [
              0.5555555555555556,
              "#d8576b"
             ],
             [
              0.6666666666666666,
              "#ed7953"
             ],
             [
              0.7777777777777778,
              "#fb9f3a"
             ],
             [
              0.8888888888888888,
              "#fdca26"
             ],
             [
              1,
              "#f0f921"
             ]
            ],
            "type": "heatmap"
           }
          ],
          "heatmapgl": [
           {
            "colorbar": {
             "outlinewidth": 0,
             "ticks": ""
            },
            "colorscale": [
             [
              0,
              "#0d0887"
             ],
             [
              0.1111111111111111,
              "#46039f"
             ],
             [
              0.2222222222222222,
              "#7201a8"
             ],
             [
              0.3333333333333333,
              "#9c179e"
             ],
             [
              0.4444444444444444,
              "#bd3786"
             ],
             [
              0.5555555555555556,
              "#d8576b"
             ],
             [
              0.6666666666666666,
              "#ed7953"
             ],
             [
              0.7777777777777778,
              "#fb9f3a"
             ],
             [
              0.8888888888888888,
              "#fdca26"
             ],
             [
              1,
              "#f0f921"
             ]
            ],
            "type": "heatmapgl"
           }
          ],
          "histogram": [
           {
            "marker": {
             "pattern": {
              "fillmode": "overlay",
              "size": 10,
              "solidity": 0.2
             }
            },
            "type": "histogram"
           }
          ],
          "histogram2d": [
           {
            "colorbar": {
             "outlinewidth": 0,
             "ticks": ""
            },
            "colorscale": [
             [
              0,
              "#0d0887"
             ],
             [
              0.1111111111111111,
              "#46039f"
             ],
             [
              0.2222222222222222,
              "#7201a8"
             ],
             [
              0.3333333333333333,
              "#9c179e"
             ],
             [
              0.4444444444444444,
              "#bd3786"
             ],
             [
              0.5555555555555556,
              "#d8576b"
             ],
             [
              0.6666666666666666,
              "#ed7953"
             ],
             [
              0.7777777777777778,
              "#fb9f3a"
             ],
             [
              0.8888888888888888,
              "#fdca26"
             ],
             [
              1,
              "#f0f921"
             ]
            ],
            "type": "histogram2d"
           }
          ],
          "histogram2dcontour": [
           {
            "colorbar": {
             "outlinewidth": 0,
             "ticks": ""
            },
            "colorscale": [
             [
              0,
              "#0d0887"
             ],
             [
              0.1111111111111111,
              "#46039f"
             ],
             [
              0.2222222222222222,
              "#7201a8"
             ],
             [
              0.3333333333333333,
              "#9c179e"
             ],
             [
              0.4444444444444444,
              "#bd3786"
             ],
             [
              0.5555555555555556,
              "#d8576b"
             ],
             [
              0.6666666666666666,
              "#ed7953"
             ],
             [
              0.7777777777777778,
              "#fb9f3a"
             ],
             [
              0.8888888888888888,
              "#fdca26"
             ],
             [
              1,
              "#f0f921"
             ]
            ],
            "type": "histogram2dcontour"
           }
          ],
          "mesh3d": [
           {
            "colorbar": {
             "outlinewidth": 0,
             "ticks": ""
            },
            "type": "mesh3d"
           }
          ],
          "parcoords": [
           {
            "line": {
             "colorbar": {
              "outlinewidth": 0,
              "ticks": ""
             }
            },
            "type": "parcoords"
           }
          ],
          "pie": [
           {
            "automargin": true,
            "type": "pie"
           }
          ],
          "scatter": [
           {
            "fillpattern": {
             "fillmode": "overlay",
             "size": 10,
             "solidity": 0.2
            },
            "type": "scatter"
           }
          ],
          "scatter3d": [
           {
            "line": {
             "colorbar": {
              "outlinewidth": 0,
              "ticks": ""
             }
            },
            "marker": {
             "colorbar": {
              "outlinewidth": 0,
              "ticks": ""
             }
            },
            "type": "scatter3d"
           }
          ],
          "scattercarpet": [
           {
            "marker": {
             "colorbar": {
              "outlinewidth": 0,
              "ticks": ""
             }
            },
            "type": "scattercarpet"
           }
          ],
          "scattergeo": [
           {
            "marker": {
             "colorbar": {
              "outlinewidth": 0,
              "ticks": ""
             }
            },
            "type": "scattergeo"
           }
          ],
          "scattergl": [
           {
            "marker": {
             "colorbar": {
              "outlinewidth": 0,
              "ticks": ""
             }
            },
            "type": "scattergl"
           }
          ],
          "scattermapbox": [
           {
            "marker": {
             "colorbar": {
              "outlinewidth": 0,
              "ticks": ""
             }
            },
            "type": "scattermapbox"
           }
          ],
          "scatterpolar": [
           {
            "marker": {
             "colorbar": {
              "outlinewidth": 0,
              "ticks": ""
             }
            },
            "type": "scatterpolar"
           }
          ],
          "scatterpolargl": [
           {
            "marker": {
             "colorbar": {
              "outlinewidth": 0,
              "ticks": ""
             }
            },
            "type": "scatterpolargl"
           }
          ],
          "scatterternary": [
           {
            "marker": {
             "colorbar": {
              "outlinewidth": 0,
              "ticks": ""
             }
            },
            "type": "scatterternary"
           }
          ],
          "surface": [
           {
            "colorbar": {
             "outlinewidth": 0,
             "ticks": ""
            },
            "colorscale": [
             [
              0,
              "#0d0887"
             ],
             [
              0.1111111111111111,
              "#46039f"
             ],
             [
              0.2222222222222222,
              "#7201a8"
             ],
             [
              0.3333333333333333,
              "#9c179e"
             ],
             [
              0.4444444444444444,
              "#bd3786"
             ],
             [
              0.5555555555555556,
              "#d8576b"
             ],
             [
              0.6666666666666666,
              "#ed7953"
             ],
             [
              0.7777777777777778,
              "#fb9f3a"
             ],
             [
              0.8888888888888888,
              "#fdca26"
             ],
             [
              1,
              "#f0f921"
             ]
            ],
            "type": "surface"
           }
          ],
          "table": [
           {
            "cells": {
             "fill": {
              "color": "#EBF0F8"
             },
             "line": {
              "color": "white"
             }
            },
            "header": {
             "fill": {
              "color": "#C8D4E3"
             },
             "line": {
              "color": "white"
             }
            },
            "type": "table"
           }
          ]
         },
         "layout": {
          "annotationdefaults": {
           "arrowcolor": "#2a3f5f",
           "arrowhead": 0,
           "arrowwidth": 1
          },
          "autotypenumbers": "strict",
          "coloraxis": {
           "colorbar": {
            "outlinewidth": 0,
            "ticks": ""
           }
          },
          "colorscale": {
           "diverging": [
            [
             0,
             "#8e0152"
            ],
            [
             0.1,
             "#c51b7d"
            ],
            [
             0.2,
             "#de77ae"
            ],
            [
             0.3,
             "#f1b6da"
            ],
            [
             0.4,
             "#fde0ef"
            ],
            [
             0.5,
             "#f7f7f7"
            ],
            [
             0.6,
             "#e6f5d0"
            ],
            [
             0.7,
             "#b8e186"
            ],
            [
             0.8,
             "#7fbc41"
            ],
            [
             0.9,
             "#4d9221"
            ],
            [
             1,
             "#276419"
            ]
           ],
           "sequential": [
            [
             0,
             "#0d0887"
            ],
            [
             0.1111111111111111,
             "#46039f"
            ],
            [
             0.2222222222222222,
             "#7201a8"
            ],
            [
             0.3333333333333333,
             "#9c179e"
            ],
            [
             0.4444444444444444,
             "#bd3786"
            ],
            [
             0.5555555555555556,
             "#d8576b"
            ],
            [
             0.6666666666666666,
             "#ed7953"
            ],
            [
             0.7777777777777778,
             "#fb9f3a"
            ],
            [
             0.8888888888888888,
             "#fdca26"
            ],
            [
             1,
             "#f0f921"
            ]
           ],
           "sequentialminus": [
            [
             0,
             "#0d0887"
            ],
            [
             0.1111111111111111,
             "#46039f"
            ],
            [
             0.2222222222222222,
             "#7201a8"
            ],
            [
             0.3333333333333333,
             "#9c179e"
            ],
            [
             0.4444444444444444,
             "#bd3786"
            ],
            [
             0.5555555555555556,
             "#d8576b"
            ],
            [
             0.6666666666666666,
             "#ed7953"
            ],
            [
             0.7777777777777778,
             "#fb9f3a"
            ],
            [
             0.8888888888888888,
             "#fdca26"
            ],
            [
             1,
             "#f0f921"
            ]
           ]
          },
          "colorway": [
           "#636efa",
           "#EF553B",
           "#00cc96",
           "#ab63fa",
           "#FFA15A",
           "#19d3f3",
           "#FF6692",
           "#B6E880",
           "#FF97FF",
           "#FECB52"
          ],
          "font": {
           "color": "#2a3f5f"
          },
          "geo": {
           "bgcolor": "white",
           "lakecolor": "white",
           "landcolor": "#E5ECF6",
           "showlakes": true,
           "showland": true,
           "subunitcolor": "white"
          },
          "hoverlabel": {
           "align": "left"
          },
          "hovermode": "closest",
          "mapbox": {
           "style": "light"
          },
          "paper_bgcolor": "white",
          "plot_bgcolor": "#E5ECF6",
          "polar": {
           "angularaxis": {
            "gridcolor": "white",
            "linecolor": "white",
            "ticks": ""
           },
           "bgcolor": "#E5ECF6",
           "radialaxis": {
            "gridcolor": "white",
            "linecolor": "white",
            "ticks": ""
           }
          },
          "scene": {
           "xaxis": {
            "backgroundcolor": "#E5ECF6",
            "gridcolor": "white",
            "gridwidth": 2,
            "linecolor": "white",
            "showbackground": true,
            "ticks": "",
            "zerolinecolor": "white"
           },
           "yaxis": {
            "backgroundcolor": "#E5ECF6",
            "gridcolor": "white",
            "gridwidth": 2,
            "linecolor": "white",
            "showbackground": true,
            "ticks": "",
            "zerolinecolor": "white"
           },
           "zaxis": {
            "backgroundcolor": "#E5ECF6",
            "gridcolor": "white",
            "gridwidth": 2,
            "linecolor": "white",
            "showbackground": true,
            "ticks": "",
            "zerolinecolor": "white"
           }
          },
          "shapedefaults": {
           "line": {
            "color": "#2a3f5f"
           }
          },
          "ternary": {
           "aaxis": {
            "gridcolor": "white",
            "linecolor": "white",
            "ticks": ""
           },
           "baxis": {
            "gridcolor": "white",
            "linecolor": "white",
            "ticks": ""
           },
           "bgcolor": "#E5ECF6",
           "caxis": {
            "gridcolor": "white",
            "linecolor": "white",
            "ticks": ""
           }
          },
          "title": {
           "x": 0.05
          },
          "xaxis": {
           "automargin": true,
           "gridcolor": "white",
           "linecolor": "white",
           "ticks": "",
           "title": {
            "standoff": 15
           },
           "zerolinecolor": "white",
           "zerolinewidth": 2
          },
          "yaxis": {
           "automargin": true,
           "gridcolor": "white",
           "linecolor": "white",
           "ticks": "",
           "title": {
            "standoff": 15
           },
           "zerolinecolor": "white",
           "zerolinewidth": 2
          }
         }
        },
        "title": {
         "text": "Predicted Market Values for Selected Players"
        },
        "xaxis": {
         "anchor": "y",
         "domain": [
          0,
          1
         ],
         "title": {
          "text": "year"
         }
        },
        "yaxis": {
         "anchor": "x",
         "domain": [
          0,
          1
         ],
         "title": {
          "text": "predicted_value"
         }
        }
       }
      }
     },
     "metadata": {},
     "output_type": "display_data"
    }
   ],
   "source": [
    "players = [418560, 357662, 565822, 859951, 148455, 274839, 542580, 568177]\n",
    "plot_player_value_trends(pdf_train, merged_df=merged, player_ids=players)\n"
   ]
  },
  {
   "cell_type": "code",
   "execution_count": 15,
   "id": "ffe03298",
   "metadata": {},
   "outputs": [
    {
     "name": "stderr",
     "output_type": "stream",
     "text": [
      "C:\\Users\\tomkn\\AppData\\Local\\Temp\\ipykernel_15428\\2121820575.py:2: SettingWithCopyWarning:\n",
      "\n",
      "\n",
      "A value is trying to be set on a copy of a slice from a DataFrame.\n",
      "Try using .loc[row_indexer,col_indexer] = value instead\n",
      "\n",
      "See the caveats in the documentation: https://pandas.pydata.org/pandas-docs/stable/user_guide/indexing.html#returning-a-view-versus-a-copy\n",
      "\n"
     ]
    }
   ],
   "source": [
    "output_df = merged.query(\"year == 2023\")\n",
    "output_df[\"actual_value\"] = y_test.values\n"
   ]
  },
  {
   "cell_type": "code",
   "execution_count": 16,
   "id": "bd4f4640",
   "metadata": {},
   "outputs": [
    {
     "name": "stderr",
     "output_type": "stream",
     "text": [
      "C:\\Users\\tomkn\\AppData\\Local\\Temp\\ipykernel_15428\\1487859311.py:1: SettingWithCopyWarning:\n",
      "\n",
      "\n",
      "A value is trying to be set on a copy of a slice from a DataFrame.\n",
      "Try using .loc[row_indexer,col_indexer] = value instead\n",
      "\n",
      "See the caveats in the documentation: https://pandas.pydata.org/pandas-docs/stable/user_guide/indexing.html#returning-a-view-versus-a-copy\n",
      "\n",
      "C:\\Users\\tomkn\\AppData\\Local\\Temp\\ipykernel_15428\\1487859311.py:2: SettingWithCopyWarning:\n",
      "\n",
      "\n",
      "A value is trying to be set on a copy of a slice from a DataFrame.\n",
      "Try using .loc[row_indexer,col_indexer] = value instead\n",
      "\n",
      "See the caveats in the documentation: https://pandas.pydata.org/pandas-docs/stable/user_guide/indexing.html#returning-a-view-versus-a-copy\n",
      "\n",
      "C:\\Users\\tomkn\\AppData\\Local\\Temp\\ipykernel_15428\\1487859311.py:3: SettingWithCopyWarning:\n",
      "\n",
      "\n",
      "A value is trying to be set on a copy of a slice from a DataFrame.\n",
      "Try using .loc[row_indexer,col_indexer] = value instead\n",
      "\n",
      "See the caveats in the documentation: https://pandas.pydata.org/pandas-docs/stable/user_guide/indexing.html#returning-a-view-versus-a-copy\n",
      "\n",
      "C:\\Users\\tomkn\\AppData\\Local\\Temp\\ipykernel_15428\\1487859311.py:4: SettingWithCopyWarning:\n",
      "\n",
      "\n",
      "A value is trying to be set on a copy of a slice from a DataFrame.\n",
      "Try using .loc[row_indexer,col_indexer] = value instead\n",
      "\n",
      "See the caveats in the documentation: https://pandas.pydata.org/pandas-docs/stable/user_guide/indexing.html#returning-a-view-versus-a-copy\n",
      "\n",
      "C:\\Users\\tomkn\\AppData\\Local\\Temp\\ipykernel_15428\\1487859311.py:5: SettingWithCopyWarning:\n",
      "\n",
      "\n",
      "A value is trying to be set on a copy of a slice from a DataFrame.\n",
      "Try using .loc[row_indexer,col_indexer] = value instead\n",
      "\n",
      "See the caveats in the documentation: https://pandas.pydata.org/pandas-docs/stable/user_guide/indexing.html#returning-a-view-versus-a-copy\n",
      "\n",
      "C:\\Users\\tomkn\\AppData\\Local\\Temp\\ipykernel_15428\\1487859311.py:6: SettingWithCopyWarning:\n",
      "\n",
      "\n",
      "A value is trying to be set on a copy of a slice from a DataFrame.\n",
      "Try using .loc[row_indexer,col_indexer] = value instead\n",
      "\n",
      "See the caveats in the documentation: https://pandas.pydata.org/pandas-docs/stable/user_guide/indexing.html#returning-a-view-versus-a-copy\n",
      "\n",
      "C:\\Users\\tomkn\\AppData\\Local\\Temp\\ipykernel_15428\\1487859311.py:7: SettingWithCopyWarning:\n",
      "\n",
      "\n",
      "A value is trying to be set on a copy of a slice from a DataFrame.\n",
      "Try using .loc[row_indexer,col_indexer] = value instead\n",
      "\n",
      "See the caveats in the documentation: https://pandas.pydata.org/pandas-docs/stable/user_guide/indexing.html#returning-a-view-versus-a-copy\n",
      "\n"
     ]
    }
   ],
   "source": [
    "output_df[\"model_output_id\"] = uuid.uuid4()\n",
    "output_df[\"model_run_date\"] = datetime.datetime.now()\n",
    "output_df[\"time_taken_seconds\"] = diff\n",
    "output_df[\"features_used\"] = str(features)\n",
    "output_df[\"model_type\"] = \"XG_Boost\"\n",
    "output_df[\"split_year\"] = test_start\n",
    "output_df[\"version\"] = version"
   ]
  },
  {
   "cell_type": "code",
   "execution_count": 17,
   "id": "ddf63cbf",
   "metadata": {},
   "outputs": [],
   "source": [
    "# save_output_tables(output_df)"
   ]
  }
 ],
 "metadata": {
  "kernelspec": {
   "display_name": "Python 3",
   "language": "python",
   "name": "python3"
  },
  "language_info": {
   "codemirror_mode": {
    "name": "ipython",
    "version": 3
   },
   "file_extension": ".py",
   "mimetype": "text/x-python",
   "name": "python",
   "nbconvert_exporter": "python",
   "pygments_lexer": "ipython3",
   "version": "3.11.9"
  }
 },
 "nbformat": 4,
 "nbformat_minor": 5
}
