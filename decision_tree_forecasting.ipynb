{
 "cells": [
  {
   "cell_type": "code",
   "execution_count": 15,
   "id": "1b43e964",
   "metadata": {},
   "outputs": [],
   "source": [
    "import pandas as pd\n",
    "import plotly.express as px\n",
    "from sklearn.tree import DecisionTreeRegressor\n",
    "from sklearn import tree\n",
    "import matplotlib.pyplot as plt\n",
    "from sklearn.metrics import root_mean_squared_error\n",
    "from typing import List, Tuple\n",
    "from xgboost import XGBRegressor \n",
    "import uuid\n",
    "import datetime \n",
    "import time\n",
    "from sklearn.model_selection import RandomizedSearchCV, TimeSeriesSplit, GridSearchCV, train_test_split\n",
    "from utils.output_analysis import plot_decision_tree_importance, plot_player_value_trends, save_output_tables, create_shapley_values_plots\n",
    "from utils.model import test_train_split, define_features, analysis_result , prepare_future_year_data\n",
    "import optuna\n",
    "from config import features, test_start, target\n",
    "\n"
   ]
  },
  {
   "cell_type": "code",
   "execution_count": 16,
   "id": "95766a24",
   "metadata": {},
   "outputs": [],
   "source": [
    "start = time.time()"
   ]
  },
  {
   "cell_type": "code",
   "execution_count": 17,
   "id": "577b7f61",
   "metadata": {},
   "outputs": [],
   "source": [
    "pdf_mvp = pd.read_csv(\"data/intermediate/time_series_model_data_prep.csv\") "
   ]
  },
  {
   "cell_type": "code",
   "execution_count": 18,
   "id": "762ec1b7",
   "metadata": {},
   "outputs": [],
   "source": [
    "version  = \"v0.0.5\""
   ]
  },
  {
   "cell_type": "code",
   "execution_count": 19,
   "id": "18256918",
   "metadata": {},
   "outputs": [],
   "source": [
    "\n",
    "features = define_features(pdf_mvp, features)\n",
    "\n",
    "pdf_train, pdf_test = test_train_split(pdf_mvp, test_start)"
   ]
  },
  {
   "cell_type": "code",
   "execution_count": 20,
   "id": "3009ce79",
   "metadata": {},
   "outputs": [],
   "source": [
    "def objective(\n",
    "    trial: optuna.Trial,\n",
    "    X: pd.DataFrame,\n",
    "    y: pd.Series,\n",
    "    tscv: TimeSeriesSplit,\n",
    ") -> float:\n",
    "    params = {\n",
    "        \"n_estimators\": trial.suggest_int(\"n_estimators\", 50, 200),  # Number of trees\n",
    "        \"learning_rate\": trial.suggest_float(\"learning_rate\", 0.01, 0.3),  # Learning rate\n",
    "        \"max_depth\": trial.suggest_int(\"max_depth\", 1, 7),  # Tree depth\n",
    "        \"subsample\": trial.suggest_float(\"subsample\", 0.5, 1.0),  # Subsampling fraction\n",
    "        \"colsample_bytree\": trial.suggest_float(\"colsample_bytree\", 0.6, 1.0),\n",
    "        \"gamma\": trial.suggest_float(\"gamma\", 0, 5),  # Min loss reduction for split\n",
    "        \"reg_alpha\": trial.suggest_float(\"reg_alpha\", 0.0, 1.0),  # L1 regularization\n",
    "        \"reg_lambda\": trial.suggest_float(\"reg_lambda\", 0.1, 10.0),  # L2 regularization\n",
    "        \"random_state\": 42,\n",
    "        \"objective\": \"reg:squarederror\",\n",
    "        \"tree_method\": \"hist\",\n",
    "        \"verbosity\": 0,\n",
    "    }\n",
    "\n",
    "    rmse_scores = []\n",
    "\n",
    "    for train_idx, val_idx in tscv.split(X):\n",
    "        X_train, X_val = X.iloc[train_idx], X.iloc[val_idx]\n",
    "        y_train, y_val = y.iloc[train_idx], y.iloc[val_idx]\n",
    "\n",
    "        model = XGBRegressor(**params)\n",
    "        model.fit(X_train, y_train)\n",
    "\n",
    "        preds = model.predict(X_val)\n",
    "        rmse = root_mean_squared_error(y_val, preds)\n",
    "        rmse_scores.append(rmse)\n",
    "\n",
    "    return sum(rmse_scores) / len(rmse_scores)  # Average RMSE across folds\n"
   ]
  },
  {
   "cell_type": "code",
   "execution_count": 21,
   "id": "d0c1c16d",
   "metadata": {},
   "outputs": [],
   "source": [
    "def predict_future_values(\n",
    "    train_df: pd.DataFrame,\n",
    "    test_df: pd.DataFrame,\n",
    "    prediction_years: List[int],\n",
    "    features: List[str],\n",
    "    n_trials: int = 100,\n",
    ") -> Tuple[pd.DataFrame, XGBRegressor, pd.Series]:\n",
    "    \"\"\"\n",
    "    Predicts future player values for specified years using XGBoost and Optuna hyperparameter tuning.\n",
    "\n",
    "    Args:\n",
    "        train_df: Training DataFrame with features and target.\n",
    "        test_df: Initial test DataFrame to predict from (starting year).\n",
    "        prediction_years: List of years to predict, starting with the base year.\n",
    "        features: List of feature column names to use.\n",
    "        n_trials: Number of Optuna trials for hyperparameter search.\n",
    "\n",
    "    Returns:\n",
    "        Tuple of:\n",
    "            - DataFrame with predicted values for all prediction years concatenated.\n",
    "            - Trained XGBRegressor using best Optuna params.\n",
    "            - y_test from the base year (only valid for the first year).\n",
    "    \"\"\"\n",
    "\n",
    "    X_train = train_df[features]\n",
    "    y_train = train_df[target]\n",
    "\n",
    "    tscv = TimeSeriesSplit(n_splits=3)\n",
    "\n",
    "    study = optuna.create_study(direction=\"minimize\")\n",
    "    study.optimize(lambda trial: objective(trial, X_train, y_train, tscv), n_trials=n_trials, show_progress_bar=False)\n",
    "\n",
    "    print(f\"Best trial params: {study.best_trial.params}\")\n",
    "    print(f\"Best trial RMSE: {study.best_value:.4f}\")\n",
    "\n",
    "    # Train final model on all training data with best params\n",
    "    best_params = study.best_trial.params\n",
    "    # Add fixed params required by XGBRegressor\n",
    "    best_params.update({\n",
    "        \"random_state\": 42,\n",
    "        \"objective\": \"reg:squarederror\",\n",
    "        \"tree_method\": \"hist\",\n",
    "        \"verbosity\": 0,\n",
    "    })\n",
    "\n",
    "    model = XGBRegressor(**best_params)\n",
    "    model.fit(X_train, y_train)\n",
    "\n",
    "    predictions = []\n",
    "    current_df = test_df.copy()\n",
    "\n",
    "    for i, year in enumerate(prediction_years):\n",
    "        X_test = current_df[features]\n",
    "        current_df[\"predicted_value\"] = model.predict(X_test)\n",
    "        current_df[\"year\"] = year\n",
    "\n",
    "        if i == 0:\n",
    "            y_test = current_df[target]\n",
    "            analysis_result(current_df, y_test, year, target)\n",
    "            create_shapley_values_plots(model, X_train, features)\n",
    "        else:\n",
    "            current_df[\"age\"] = current_df[\"age_last_year\"] + 1\n",
    "\n",
    "        # Reduce contract years left by 1, never below 0\n",
    "        if \"contract_years_left\" in current_df.columns:\n",
    "            current_df[\"contract_years_left\"] = (current_df[\"contract_years_left\"] - 1).clip(lower=0)\n",
    "\n",
    "        current_df[\"age_last_year\"] = current_df[\"age\"]\n",
    "        current_df[\"value_last_year\"] = current_df[\"predicted_value\"]\n",
    "\n",
    "        predictions.append(current_df[[\"player_id\", \"year\", \"age\", \"predicted_value\"]].copy())\n",
    "\n",
    "        if i < len(prediction_years) - 1:\n",
    "            current_df = prepare_future_year_data(current_df)\n",
    "\n",
    "    all_predictions_df = pd.concat(predictions, ignore_index=True)\n",
    "    return all_predictions_df, model, y_test"
   ]
  },
  {
   "cell_type": "code",
   "execution_count": 22,
   "id": "92b49796",
   "metadata": {},
   "outputs": [
    {
     "name": "stderr",
     "output_type": "stream",
     "text": [
      "[I 2025-08-07 14:21:02,235] A new study created in memory with name: no-name-a6146f4d-991e-4457-ac8c-4aae20f28060\n",
      "[I 2025-08-07 14:21:02,740] Trial 0 finished with value: 4.817993059601668 and parameters: {'n_estimators': 198, 'learning_rate': 0.05609069603211923, 'max_depth': 4, 'subsample': 0.9828034447619454, 'colsample_bytree': 0.988699108500531, 'gamma': 4.325909660115898, 'reg_alpha': 0.49532782856078483, 'reg_lambda': 5.949588151753516}. Best is trial 0 with value: 4.817993059601668.\n",
      "[I 2025-08-07 14:21:03,309] Trial 1 finished with value: 5.369957594011031 and parameters: {'n_estimators': 182, 'learning_rate': 0.11166513352207981, 'max_depth': 6, 'subsample': 0.6728213125500948, 'colsample_bytree': 0.7824095199688716, 'gamma': 0.027105036474208144, 'reg_alpha': 0.005494170060941883, 'reg_lambda': 0.4926134730070093}. Best is trial 0 with value: 4.817993059601668.\n",
      "[I 2025-08-07 14:21:03,573] Trial 2 finished with value: 4.867499387405715 and parameters: {'n_estimators': 173, 'learning_rate': 0.07829996907994935, 'max_depth': 2, 'subsample': 0.5956834774557613, 'colsample_bytree': 0.8352310878920032, 'gamma': 4.352495709180458, 'reg_alpha': 0.9586679221356801, 'reg_lambda': 8.461288078782582}. Best is trial 0 with value: 4.817993059601668.\n",
      "[I 2025-08-07 14:21:03,777] Trial 3 finished with value: 4.901322933333141 and parameters: {'n_estimators': 152, 'learning_rate': 0.21931084781424212, 'max_depth': 1, 'subsample': 0.6669494296864171, 'colsample_bytree': 0.8118188760470397, 'gamma': 2.928813514442366, 'reg_alpha': 0.8464958137371579, 'reg_lambda': 7.340824675688859}. Best is trial 0 with value: 4.817993059601668.\n",
      "[I 2025-08-07 14:21:04,019] Trial 4 finished with value: 5.165139520410745 and parameters: {'n_estimators': 102, 'learning_rate': 0.19391720817148847, 'max_depth': 4, 'subsample': 0.9966724211654436, 'colsample_bytree': 0.6709339349653402, 'gamma': 0.9688920980932447, 'reg_alpha': 0.6295297929821398, 'reg_lambda': 2.6870159498207107}. Best is trial 0 with value: 4.817993059601668.\n",
      "[I 2025-08-07 14:21:04,246] Trial 5 finished with value: 4.935143942537679 and parameters: {'n_estimators': 74, 'learning_rate': 0.21700059049666826, 'max_depth': 5, 'subsample': 0.5724939426527051, 'colsample_bytree': 0.9254946124857983, 'gamma': 1.8092731883547963, 'reg_alpha': 0.41392435046645437, 'reg_lambda': 9.307419426574262}. Best is trial 0 with value: 4.817993059601668.\n",
      "[I 2025-08-07 14:21:04,390] Trial 6 finished with value: 5.1020982561711135 and parameters: {'n_estimators': 65, 'learning_rate': 0.07012442082410365, 'max_depth': 3, 'subsample': 0.7734489591134255, 'colsample_bytree': 0.6284739590502623, 'gamma': 4.687793227980795, 'reg_alpha': 0.9958492192539317, 'reg_lambda': 3.6255899588681246}. Best is trial 0 with value: 4.817993059601668.\n",
      "[I 2025-08-07 14:21:04,763] Trial 7 finished with value: 5.095033339314682 and parameters: {'n_estimators': 164, 'learning_rate': 0.2181805735891071, 'max_depth': 6, 'subsample': 0.662536366411198, 'colsample_bytree': 0.6704265774179902, 'gamma': 4.832034774501846, 'reg_alpha': 0.3127708842704858, 'reg_lambda': 5.284835505970074}. Best is trial 0 with value: 4.817993059601668.\n",
      "[I 2025-08-07 14:21:05,042] Trial 8 finished with value: 5.453457927526791 and parameters: {'n_estimators': 103, 'learning_rate': 0.27577008359597993, 'max_depth': 5, 'subsample': 0.6630264827732022, 'colsample_bytree': 0.6173008297922509, 'gamma': 4.169637025472347, 'reg_alpha': 0.6497357671691469, 'reg_lambda': 8.333059136836171}. Best is trial 0 with value: 4.817993059601668.\n",
      "[I 2025-08-07 14:21:05,526] Trial 9 finished with value: 5.8148692521248195 and parameters: {'n_estimators': 123, 'learning_rate': 0.19089943849877108, 'max_depth': 7, 'subsample': 0.7563856752477697, 'colsample_bytree': 0.8174141583640577, 'gamma': 3.6153751798387064, 'reg_alpha': 0.8484720207532235, 'reg_lambda': 5.256550744551378}. Best is trial 0 with value: 4.817993059601668.\n",
      "[I 2025-08-07 14:21:05,877] Trial 10 finished with value: 5.27682031875246 and parameters: {'n_estimators': 189, 'learning_rate': 0.012235626492124195, 'max_depth': 3, 'subsample': 0.9996959941828573, 'colsample_bytree': 0.9991024822349013, 'gamma': 2.69552233318435, 'reg_alpha': 0.19974476377462347, 'reg_lambda': 6.748424317775346}. Best is trial 0 with value: 4.817993059601668.\n",
      "[I 2025-08-07 14:21:06,143] Trial 11 finished with value: 4.936436489822888 and parameters: {'n_estimators': 197, 'learning_rate': 0.06536502186824766, 'max_depth': 1, 'subsample': 0.8813496209136182, 'colsample_bytree': 0.9051235131426651, 'gamma': 3.81664301117359, 'reg_alpha': 0.5641714575887484, 'reg_lambda': 9.998185252320347}. Best is trial 0 with value: 4.817993059601668.\n",
      "[I 2025-08-07 14:21:06,434] Trial 12 finished with value: 5.993540356093376 and parameters: {'n_estimators': 158, 'learning_rate': 0.011131397810833457, 'max_depth': 2, 'subsample': 0.8697357458959157, 'colsample_bytree': 0.892110728710784, 'gamma': 3.3429493535341197, 'reg_alpha': 0.7724997705335541, 'reg_lambda': 6.685662188748761}. Best is trial 0 with value: 4.817993059601668.\n",
      "[I 2025-08-07 14:21:06,816] Trial 13 finished with value: 4.638707954588271 and parameters: {'n_estimators': 141, 'learning_rate': 0.11816433615414507, 'max_depth': 3, 'subsample': 0.5020836880539763, 'colsample_bytree': 0.9961003158951752, 'gamma': 1.892976509663618, 'reg_alpha': 0.4562535630550941, 'reg_lambda': 8.382093510732878}. Best is trial 13 with value: 4.638707954588271.\n",
      "[I 2025-08-07 14:21:07,120] Trial 14 finished with value: 4.75832566871101 and parameters: {'n_estimators': 134, 'learning_rate': 0.13179587163176812, 'max_depth': 4, 'subsample': 0.5081638768861474, 'colsample_bytree': 0.977049748623218, 'gamma': 1.7773578462466764, 'reg_alpha': 0.413819957569765, 'reg_lambda': 3.8593523138455104}. Best is trial 13 with value: 4.638707954588271.\n",
      "[I 2025-08-07 14:21:07,410] Trial 15 finished with value: 4.718084404720632 and parameters: {'n_estimators': 136, 'learning_rate': 0.14747389870702365, 'max_depth': 3, 'subsample': 0.5042388819773956, 'colsample_bytree': 0.9771918078505883, 'gamma': 1.8598583983778527, 'reg_alpha': 0.25720211357263895, 'reg_lambda': 3.4126107091037676}. Best is trial 13 with value: 4.638707954588271.\n",
      "[I 2025-08-07 14:21:07,688] Trial 16 finished with value: 4.89887442893456 and parameters: {'n_estimators': 129, 'learning_rate': 0.15081537289049002, 'max_depth': 3, 'subsample': 0.5119117470140248, 'colsample_bytree': 0.9385158915712761, 'gamma': 1.9272450808731858, 'reg_alpha': 0.17165865063103503, 'reg_lambda': 1.8635986129497786}. Best is trial 13 with value: 4.638707954588271.\n",
      "[I 2025-08-07 14:21:07,964] Trial 17 finished with value: 4.719588926949897 and parameters: {'n_estimators': 144, 'learning_rate': 0.10999572339115435, 'max_depth': 2, 'subsample': 0.5768476966828403, 'colsample_bytree': 0.8719954411413532, 'gamma': 0.8907095731110997, 'reg_alpha': 0.24188475461164693, 'reg_lambda': 4.074448670942327}. Best is trial 13 with value: 4.638707954588271.\n",
      "[I 2025-08-07 14:21:08,197] Trial 18 finished with value: 4.953426924923651 and parameters: {'n_estimators': 113, 'learning_rate': 0.16784723649195313, 'max_depth': 3, 'subsample': 0.5027435106597394, 'colsample_bytree': 0.7591970256889276, 'gamma': 1.1543635425872687, 'reg_alpha': 0.03494831836148499, 'reg_lambda': 1.4254635168800225}. Best is trial 13 with value: 4.638707954588271.\n",
      "[I 2025-08-07 14:21:08,399] Trial 19 finished with value: 4.879462853566009 and parameters: {'n_estimators': 81, 'learning_rate': 0.2678623019124795, 'max_depth': 2, 'subsample': 0.6147957707010036, 'colsample_bytree': 0.9576869444711413, 'gamma': 2.319913791785383, 'reg_alpha': 0.3609085982681154, 'reg_lambda': 3.004063802642185}. Best is trial 13 with value: 4.638707954588271.\n",
      "[I 2025-08-07 14:21:08,590] Trial 20 finished with value: 5.197054230600345 and parameters: {'n_estimators': 50, 'learning_rate': 0.09618406134701238, 'max_depth': 5, 'subsample': 0.82474121373569, 'colsample_bytree': 0.8681922639257693, 'gamma': 0.34686559254460647, 'reg_alpha': 0.09222746453361896, 'reg_lambda': 4.448046187353407}. Best is trial 13 with value: 4.638707954588271.\n",
      "[I 2025-08-07 14:21:08,849] Trial 21 finished with value: 4.724135269371526 and parameters: {'n_estimators': 139, 'learning_rate': 0.12461945528172703, 'max_depth': 2, 'subsample': 0.557902341375446, 'colsample_bytree': 0.8751498992218188, 'gamma': 1.1927940980340805, 'reg_alpha': 0.2543159402357582, 'reg_lambda': 2.6147255609039943}. Best is trial 13 with value: 4.638707954588271.\n",
      "[I 2025-08-07 14:21:09,119] Trial 22 finished with value: 4.9424097591212 and parameters: {'n_estimators': 147, 'learning_rate': 0.1489449626752477, 'max_depth': 1, 'subsample': 0.5504217274893947, 'colsample_bytree': 0.945145938675359, 'gamma': 0.7062388669592179, 'reg_alpha': 0.2818750514944458, 'reg_lambda': 4.310028767201774}. Best is trial 13 with value: 4.638707954588271.\n",
      "[I 2025-08-07 14:21:09,365] Trial 23 finished with value: 5.044701675356612 and parameters: {'n_estimators': 121, 'learning_rate': 0.09819872904732832, 'max_depth': 3, 'subsample': 0.6046922828853873, 'colsample_bytree': 0.7511272661936016, 'gamma': 1.491611294047948, 'reg_alpha': 0.13330141174779303, 'reg_lambda': 5.8876513590933826}. Best is trial 13 with value: 4.638707954588271.\n",
      "[I 2025-08-07 14:21:09,616] Trial 24 finished with value: 4.76560734203731 and parameters: {'n_estimators': 168, 'learning_rate': 0.17152147867235668, 'max_depth': 2, 'subsample': 0.5431753871437792, 'colsample_bytree': 0.9139072826733575, 'gamma': 2.4030478861925806, 'reg_alpha': 0.48856002677605875, 'reg_lambda': 3.3152524584778984}. Best is trial 13 with value: 4.638707954588271.\n",
      "[I 2025-08-07 14:21:09,896] Trial 25 finished with value: 4.836926738454459 and parameters: {'n_estimators': 144, 'learning_rate': 0.13129961491943795, 'max_depth': 3, 'subsample': 0.7097933478195235, 'colsample_bytree': 0.851833075767403, 'gamma': 0.6720908387712994, 'reg_alpha': 0.23190343191331508, 'reg_lambda': 4.647076457335547}. Best is trial 13 with value: 4.638707954588271.\n",
      "[I 2025-08-07 14:21:10,154] Trial 26 finished with value: 4.691306582699004 and parameters: {'n_estimators': 108, 'learning_rate': 0.0462459028230201, 'max_depth': 4, 'subsample': 0.6271566433469177, 'colsample_bytree': 0.9624001173891845, 'gamma': 2.1468292639449427, 'reg_alpha': 0.358528788916202, 'reg_lambda': 1.3445710139714997}. Best is trial 13 with value: 4.638707954588271.\n",
      "[I 2025-08-07 14:21:10,381] Trial 27 finished with value: 4.930722617840192 and parameters: {'n_estimators': 88, 'learning_rate': 0.03382894246567408, 'max_depth': 4, 'subsample': 0.637210895610332, 'colsample_bytree': 0.9476302238957117, 'gamma': 2.1253318067949487, 'reg_alpha': 0.4093709787822719, 'reg_lambda': 0.995271763356226}. Best is trial 13 with value: 4.638707954588271.\n",
      "[I 2025-08-07 14:21:10,673] Trial 28 finished with value: 4.688596688932713 and parameters: {'n_estimators': 103, 'learning_rate': 0.041160878117231334, 'max_depth': 5, 'subsample': 0.5343282311142543, 'colsample_bytree': 0.9732959695913788, 'gamma': 2.9748317374063618, 'reg_alpha': 0.33841844807961013, 'reg_lambda': 1.5139190107665488}. Best is trial 13 with value: 4.638707954588271.\n",
      "[I 2025-08-07 14:21:10,964] Trial 29 finished with value: 4.687860803315583 and parameters: {'n_estimators': 95, 'learning_rate': 0.04599836027707109, 'max_depth': 5, 'subsample': 0.7151497280011411, 'colsample_bytree': 0.997506390430995, 'gamma': 2.9900755143878093, 'reg_alpha': 0.5029600299092373, 'reg_lambda': 0.307973915621381}. Best is trial 13 with value: 4.638707954588271.\n",
      "[I 2025-08-07 14:21:11,292] Trial 30 finished with value: 4.770450258588272 and parameters: {'n_estimators': 96, 'learning_rate': 0.03436954835201688, 'max_depth': 6, 'subsample': 0.9402985637866863, 'colsample_bytree': 0.9805498457028843, 'gamma': 3.0569823112412835, 'reg_alpha': 0.49819649983346637, 'reg_lambda': 0.39249786867984526}. Best is trial 13 with value: 4.638707954588271.\n",
      "[I 2025-08-07 14:21:11,584] Trial 31 finished with value: 4.7152571913912205 and parameters: {'n_estimators': 111, 'learning_rate': 0.04681917492645277, 'max_depth': 5, 'subsample': 0.628358576043857, 'colsample_bytree': 0.9989145046812733, 'gamma': 2.7321635612709283, 'reg_alpha': 0.5867424933032583, 'reg_lambda': 2.069457807231745}. Best is trial 13 with value: 4.638707954588271.\n",
      "[I 2025-08-07 14:21:11,834] Trial 32 finished with value: 4.701660876987871 and parameters: {'n_estimators': 89, 'learning_rate': 0.04941760146346269, 'max_depth': 4, 'subsample': 0.7258086334093402, 'colsample_bytree': 0.9623565111311879, 'gamma': 3.2915618822662696, 'reg_alpha': 0.4697550493141088, 'reg_lambda': 0.13205273089666317}. Best is trial 13 with value: 4.638707954588271.\n",
      "[I 2025-08-07 14:21:12,166] Trial 33 finished with value: 4.891453911295822 and parameters: {'n_estimators': 113, 'learning_rate': 0.07647054781650452, 'max_depth': 6, 'subsample': 0.7059319181640114, 'colsample_bytree': 0.9282511472837865, 'gamma': 2.493434244039391, 'reg_alpha': 0.33192287385888747, 'reg_lambda': 1.0112225488727231}. Best is trial 13 with value: 4.638707954588271.\n",
      "[I 2025-08-07 14:21:12,447] Trial 34 finished with value: 4.695780575218744 and parameters: {'n_estimators': 100, 'learning_rate': 0.035033316718759616, 'max_depth': 5, 'subsample': 0.5323110645603601, 'colsample_bytree': 0.968827714834435, 'gamma': 1.4651218789965168, 'reg_alpha': 0.5689426025474971, 'reg_lambda': 1.1075558192110395}. Best is trial 13 with value: 4.638707954588271.\n",
      "[I 2025-08-07 14:21:12,646] Trial 35 finished with value: 4.7445154047470695 and parameters: {'n_estimators': 68, 'learning_rate': 0.08988460151984037, 'max_depth': 4, 'subsample': 0.7904248077011153, 'colsample_bytree': 0.9897962994651324, 'gamma': 2.982957391676956, 'reg_alpha': 0.3660793758486431, 'reg_lambda': 1.9920866556874346}. Best is trial 13 with value: 4.638707954588271.\n",
      "[I 2025-08-07 14:21:12,989] Trial 36 finished with value: 5.264076171855003 and parameters: {'n_estimators': 118, 'learning_rate': 0.02615260263725069, 'max_depth': 5, 'subsample': 0.5812847077027603, 'colsample_bytree': 0.8997554336847555, 'gamma': 2.2288744985277376, 'reg_alpha': 0.6928444008558997, 'reg_lambda': 8.129189541061109}. Best is trial 13 with value: 4.638707954588271.\n",
      "[I 2025-08-07 14:21:13,377] Trial 37 finished with value: 4.913829024887075 and parameters: {'n_estimators': 107, 'learning_rate': 0.05723303237394266, 'max_depth': 7, 'subsample': 0.6898091045322109, 'colsample_bytree': 0.9558988003504784, 'gamma': 2.7008438466307902, 'reg_alpha': 0.518795071439974, 'reg_lambda': 0.6483910889416705}. Best is trial 13 with value: 4.638707954588271.\n",
      "[I 2025-08-07 14:21:13,606] Trial 38 finished with value: 4.831575451521145 and parameters: {'n_estimators': 92, 'learning_rate': 0.08627147724306991, 'max_depth': 4, 'subsample': 0.6404983107100595, 'colsample_bytree': 0.9259944359017062, 'gamma': 3.795297830441344, 'reg_alpha': 0.4496607975795668, 'reg_lambda': 1.6186061093881559}. Best is trial 13 with value: 4.638707954588271.\n",
      "[I 2025-08-07 14:21:13,861] Trial 39 finished with value: 5.154290358245356 and parameters: {'n_estimators': 81, 'learning_rate': 0.06041891914501164, 'max_depth': 5, 'subsample': 0.5932845510265439, 'colsample_bytree': 0.7085223265384053, 'gamma': 3.3013884521441392, 'reg_alpha': 0.3764632726465663, 'reg_lambda': 2.5120922059457365}. Best is trial 13 with value: 4.638707954588271.\n",
      "[I 2025-08-07 14:21:14,207] Trial 40 finished with value: 5.376444088035419 and parameters: {'n_estimators': 126, 'learning_rate': 0.07817794680943137, 'max_depth': 6, 'subsample': 0.7472896361866035, 'colsample_bytree': 0.7890240801638532, 'gamma': 2.148528641443616, 'reg_alpha': 0.7168273729603553, 'reg_lambda': 7.805018701131406}. Best is trial 13 with value: 4.638707954588271.\n",
      "[I 2025-08-07 14:21:14,479] Trial 41 finished with value: 4.681646763175717 and parameters: {'n_estimators': 101, 'learning_rate': 0.04076348765897453, 'max_depth': 5, 'subsample': 0.5319353321860637, 'colsample_bytree': 0.9650932300356792, 'gamma': 1.5298201610897464, 'reg_alpha': 0.5582437879358033, 'reg_lambda': 1.0171359556713233}. Best is trial 13 with value: 4.638707954588271.\n",
      "[I 2025-08-07 14:21:14,756] Trial 42 finished with value: 4.679283815338372 and parameters: {'n_estimators': 104, 'learning_rate': 0.048867342824260335, 'max_depth': 5, 'subsample': 0.5333261803351506, 'colsample_bytree': 0.9966755262736154, 'gamma': 1.993895443904331, 'reg_alpha': 0.5398912538027818, 'reg_lambda': 0.6005230329090314}. Best is trial 13 with value: 4.638707954588271.\n",
      "[I 2025-08-07 14:21:15,146] Trial 43 finished with value: 5.083945112283516 and parameters: {'n_estimators': 98, 'learning_rate': 0.01978997551198913, 'max_depth': 6, 'subsample': 0.5318847103446606, 'colsample_bytree': 0.9975300418035032, 'gamma': 1.5341688449691209, 'reg_alpha': 0.6191257331422384, 'reg_lambda': 0.5781126330435908}. Best is trial 13 with value: 4.638707954588271.\n",
      "[I 2025-08-07 14:21:15,454] Trial 44 finished with value: 4.689000123287 and parameters: {'n_estimators': 82, 'learning_rate': 0.06252200833213255, 'max_depth': 5, 'subsample': 0.5631586828072176, 'colsample_bytree': 0.9772028442970276, 'gamma': 1.7452722496342594, 'reg_alpha': 0.5359239634391548, 'reg_lambda': 0.7634713372568909}. Best is trial 13 with value: 4.638707954588271.\n",
      "[I 2025-08-07 14:21:15,788] Trial 45 finished with value: 5.091129499769791 and parameters: {'n_estimators': 104, 'learning_rate': 0.2997490451241166, 'max_depth': 5, 'subsample': 0.5273413592429856, 'colsample_bytree': 0.999656227964818, 'gamma': 2.793928570865812, 'reg_alpha': 0.4468076423884263, 'reg_lambda': 2.4553431797552934}. Best is trial 13 with value: 4.638707954588271.\n",
      "[I 2025-08-07 14:21:16,099] Trial 46 finished with value: 5.3817970029855475 and parameters: {'n_estimators': 71, 'learning_rate': 0.04165414305411008, 'max_depth': 6, 'subsample': 0.9580328025175391, 'colsample_bytree': 0.9384713758141866, 'gamma': 4.143681254075908, 'reg_alpha': 0.6529965352894621, 'reg_lambda': 9.10416078591984}. Best is trial 13 with value: 4.638707954588271.\n",
      "[I 2025-08-07 14:21:16,440] Trial 47 finished with value: 4.648584402006122 and parameters: {'n_estimators': 157, 'learning_rate': 0.02337376849793645, 'max_depth': 4, 'subsample': 0.5912243964416518, 'colsample_bytree': 0.9819404221723573, 'gamma': 3.137826433725392, 'reg_alpha': 0.7681384181506123, 'reg_lambda': 0.1752309969550388}. Best is trial 13 with value: 4.638707954588271.\n",
      "[I 2025-08-07 14:21:16,788] Trial 48 finished with value: 4.7261255165471665 and parameters: {'n_estimators': 179, 'learning_rate': 0.022321053182518324, 'max_depth': 4, 'subsample': 0.583601449054687, 'colsample_bytree': 0.9176038449910958, 'gamma': 1.983298442986836, 'reg_alpha': 0.8921981460952311, 'reg_lambda': 0.11575147679091438}. Best is trial 13 with value: 4.638707954588271.\n",
      "[I 2025-08-07 14:21:17,096] Trial 49 finished with value: 4.7821809626307425 and parameters: {'n_estimators': 156, 'learning_rate': 0.1155491556698142, 'max_depth': 4, 'subsample': 0.6603281180897217, 'colsample_bytree': 0.9827651303884166, 'gamma': 3.5983403775431, 'reg_alpha': 0.7703978157658072, 'reg_lambda': 6.742697706128717}. Best is trial 13 with value: 4.638707954588271.\n",
      "[I 2025-08-07 14:21:17,586] Trial 50 finished with value: 5.254475767119445 and parameters: {'n_estimators': 165, 'learning_rate': 0.07061924015386473, 'max_depth': 7, 'subsample': 0.5660776690151466, 'colsample_bytree': 0.8246743862291855, 'gamma': 1.6746226896577543, 'reg_alpha': 0.7741689671707109, 'reg_lambda': 5.883788277740746}. Best is trial 13 with value: 4.638707954588271.\n",
      "[I 2025-08-07 14:21:17,913] Trial 51 finished with value: 5.69370737233218 and parameters: {'n_estimators': 131, 'learning_rate': 0.010174943371567872, 'max_depth': 5, 'subsample': 0.5161381350762269, 'colsample_bytree': 0.9731075429147562, 'gamma': 3.1640100187276965, 'reg_alpha': 0.6096019593893065, 'reg_lambda': 0.4123579429017384}. Best is trial 13 with value: 4.638707954588271.\n",
      "[I 2025-08-07 14:21:18,275] Trial 52 finished with value: 4.809924189343349 and parameters: {'n_estimators': 151, 'learning_rate': 0.02675756375360585, 'max_depth': 5, 'subsample': 0.5489705414667799, 'colsample_bytree': 0.9406248571839096, 'gamma': 2.5181473590744083, 'reg_alpha': 0.5431811810798222, 'reg_lambda': 1.5464874282803285}. Best is trial 13 with value: 4.638707954588271.\n",
      "[I 2025-08-07 14:21:18,585] Trial 53 finished with value: 4.811399835635184 and parameters: {'n_estimators': 117, 'learning_rate': 0.0505005971320316, 'max_depth': 5, 'subsample': 0.5286977577784873, 'colsample_bytree': 0.9568792046442812, 'gamma': 3.507807480711796, 'reg_alpha': 0.421490472208946, 'reg_lambda': 1.039159341663818}. Best is trial 13 with value: 4.638707954588271.\n",
      "[I 2025-08-07 14:21:18,814] Trial 54 finished with value: 4.957015365508386 and parameters: {'n_estimators': 94, 'learning_rate': 0.037080526756369095, 'max_depth': 4, 'subsample': 0.5011980164005038, 'colsample_bytree': 0.9857672148531028, 'gamma': 1.3517902322360942, 'reg_alpha': 0.9756522636605985, 'reg_lambda': 7.3774019968528215}. Best is trial 13 with value: 4.638707954588271.\n",
      "[I 2025-08-07 14:21:19,059] Trial 55 finished with value: 4.989664540927076 and parameters: {'n_estimators': 84, 'learning_rate': 0.0678825462385737, 'max_depth': 5, 'subsample': 0.6114750673524124, 'colsample_bytree': 0.8879672413641471, 'gamma': 2.9229947315420874, 'reg_alpha': 0.922859834425052, 'reg_lambda': 2.1400811871893097}. Best is trial 13 with value: 4.638707954588271.\n",
      "[I 2025-08-07 14:21:19,295] Trial 56 finished with value: 4.927440447023006 and parameters: {'n_estimators': 60, 'learning_rate': 0.1970191109525345, 'max_depth': 6, 'subsample': 0.5525766770744467, 'colsample_bytree': 0.9672545931088559, 'gamma': 2.499923159032151, 'reg_alpha': 0.6795862147842955, 'reg_lambda': 8.84835648496764}. Best is trial 13 with value: 4.638707954588271.\n",
      "[I 2025-08-07 14:21:19,498] Trial 57 finished with value: 5.40396382794534 and parameters: {'n_estimators': 75, 'learning_rate': 0.10812493008341412, 'max_depth': 3, 'subsample': 0.8424687446689543, 'colsample_bytree': 0.6007969745929607, 'gamma': 3.822360399021923, 'reg_alpha': 0.30206432108118036, 'reg_lambda': 0.15848012343394782}. Best is trial 13 with value: 4.638707954588271.\n",
      "[I 2025-08-07 14:21:19,777] Trial 58 finished with value: 5.135259361373172 and parameters: {'n_estimators': 157, 'learning_rate': 0.019219841423328575, 'max_depth': 3, 'subsample': 0.5257887150144142, 'colsample_bytree': 0.9842686149294366, 'gamma': 1.9225664699108778, 'reg_alpha': 0.5824272229984803, 'reg_lambda': 9.885558126726306}. Best is trial 13 with value: 4.638707954588271.\n",
      "[I 2025-08-07 14:21:20,075] Trial 59 finished with value: 4.908691577520248 and parameters: {'n_estimators': 142, 'learning_rate': 0.2431363631069967, 'max_depth': 4, 'subsample': 0.5903547595797163, 'colsample_bytree': 0.9477599029589607, 'gamma': 1.1017973881991745, 'reg_alpha': 0.5110465253959533, 'reg_lambda': 1.3013979902360755}. Best is trial 13 with value: 4.638707954588271.\n",
      "[I 2025-08-07 14:21:20,447] Trial 60 finished with value: 4.956894213348132 and parameters: {'n_estimators': 125, 'learning_rate': 0.08848583567023117, 'max_depth': 6, 'subsample': 0.5431358251016106, 'colsample_bytree': 0.9317340945327677, 'gamma': 3.1023081773164622, 'reg_alpha': 0.7286671726888858, 'reg_lambda': 0.784781468346049}. Best is trial 13 with value: 4.638707954588271.\n",
      "[I 2025-08-07 14:21:20,698] Trial 61 finished with value: 4.721881912769544 and parameters: {'n_estimators': 84, 'learning_rate': 0.058653207670778876, 'max_depth': 5, 'subsample': 0.5684847556198287, 'colsample_bytree': 0.973015961045614, 'gamma': 1.6697356365353593, 'reg_alpha': 0.46375598754141384, 'reg_lambda': 1.784614449241377}. Best is trial 13 with value: 4.638707954588271.\n",
      "[I 2025-08-07 14:21:20,977] Trial 62 finished with value: 4.670127022786258 and parameters: {'n_estimators': 104, 'learning_rate': 0.05604816102326303, 'max_depth': 5, 'subsample': 0.5672516247229933, 'colsample_bytree': 0.989144022551062, 'gamma': 1.302649196242971, 'reg_alpha': 0.5310762312938879, 'reg_lambda': 0.6969036241678623}. Best is trial 13 with value: 4.638707954588271.\n",
      "[I 2025-08-07 14:21:21,263] Trial 63 finished with value: 4.6672819420603044 and parameters: {'n_estimators': 104, 'learning_rate': 0.05219239113376515, 'max_depth': 5, 'subsample': 0.516253794908932, 'colsample_bytree': 0.9869454963493528, 'gamma': 0.8120902034279914, 'reg_alpha': 0.3982563601503124, 'reg_lambda': 0.45671703010578757}. Best is trial 13 with value: 4.638707954588271.\n",
      "[I 2025-08-07 14:21:21,599] Trial 64 finished with value: 4.675116687389488 and parameters: {'n_estimators': 134, 'learning_rate': 0.05012154795450612, 'max_depth': 5, 'subsample': 0.5178478364166745, 'colsample_bytree': 0.9883229595497072, 'gamma': 0.1883117532372236, 'reg_alpha': 0.39459923067394964, 'reg_lambda': 0.39447443924075154}. Best is trial 13 with value: 4.638707954588271.\n",
      "[I 2025-08-07 14:21:21,885] Trial 65 finished with value: 4.653927505054884 and parameters: {'n_estimators': 136, 'learning_rate': 0.02775252007080724, 'max_depth': 4, 'subsample': 0.5157197358861626, 'colsample_bytree': 0.9912450184786307, 'gamma': 0.2153925840785269, 'reg_alpha': 0.40017931511040933, 'reg_lambda': 0.6453090538607873}. Best is trial 13 with value: 4.638707954588271.\n",
      "[I 2025-08-07 14:21:22,169] Trial 66 finished with value: 5.374934387993144 and parameters: {'n_estimators': 136, 'learning_rate': 0.028135487042080756, 'max_depth': 4, 'subsample': 0.5113540496764757, 'colsample_bytree': 0.6628123259561878, 'gamma': 0.05287578464186232, 'reg_alpha': 0.400279975783006, 'reg_lambda': 0.6772428772144712}. Best is trial 13 with value: 4.638707954588271.\n",
      "[I 2025-08-07 14:21:22,435] Trial 67 finished with value: 4.6189773971338965 and parameters: {'n_estimators': 132, 'learning_rate': 0.05437777907943503, 'max_depth': 3, 'subsample': 0.5122484530942693, 'colsample_bytree': 0.9882930916032872, 'gamma': 0.3840314890595796, 'reg_alpha': 0.4313991354312062, 'reg_lambda': 0.4832337672707804}. Best is trial 67 with value: 4.6189773971338965.\n",
      "[I 2025-08-07 14:21:22,709] Trial 68 finished with value: 4.696168565217685 and parameters: {'n_estimators': 131, 'learning_rate': 0.06990586418768, 'max_depth': 3, 'subsample': 0.5007283419097992, 'colsample_bytree': 0.9135894377448162, 'gamma': 0.40105711156063373, 'reg_alpha': 0.2871494639339466, 'reg_lambda': 1.2245846149996154}. Best is trial 67 with value: 4.6189773971338965.\n",
      "[I 2025-08-07 14:21:22,967] Trial 69 finished with value: 4.776748250210853 and parameters: {'n_estimators': 141, 'learning_rate': 0.1401723897237735, 'max_depth': 3, 'subsample': 0.517627756470794, 'colsample_bytree': 0.9520145998313265, 'gamma': 0.0077891935106991494, 'reg_alpha': 0.39294312665969194, 'reg_lambda': 5.060634532528862}. Best is trial 67 with value: 4.6189773971338965.\n",
      "[I 2025-08-07 14:21:23,207] Trial 70 finished with value: 4.73549885856423 and parameters: {'n_estimators': 149, 'learning_rate': 0.103411611923411, 'max_depth': 2, 'subsample': 0.5575029235704885, 'colsample_bytree': 0.9833557885968875, 'gamma': 0.39814327216415885, 'reg_alpha': 0.43606047038132867, 'reg_lambda': 0.31634475659901806}. Best is trial 67 with value: 4.6189773971338965.\n",
      "[I 2025-08-07 14:21:23,506] Trial 71 finished with value: 4.673973165266578 and parameters: {'n_estimators': 135, 'learning_rate': 0.05341805121946848, 'max_depth': 4, 'subsample': 0.5466349306258262, 'colsample_bytree': 0.9902719997452138, 'gamma': 0.6026403471861171, 'reg_alpha': 0.4794451346424786, 'reg_lambda': 0.7701312045922789}. Best is trial 67 with value: 4.6189773971338965.\n",
      "[I 2025-08-07 14:21:23,788] Trial 72 finished with value: 4.686257658304398 and parameters: {'n_estimators': 134, 'learning_rate': 0.08007366682545743, 'max_depth': 4, 'subsample': 0.5145170053657282, 'colsample_bytree': 0.9848040158533349, 'gamma': 0.6369057794194172, 'reg_alpha': 0.33475489830089294, 'reg_lambda': 0.8460649389821864}. Best is trial 67 with value: 4.6189773971338965.\n",
      "[I 2025-08-07 14:21:24,056] Trial 73 finished with value: 4.649845874656496 and parameters: {'n_estimators': 120, 'learning_rate': 0.05383569998182943, 'max_depth': 4, 'subsample': 0.5442978836364062, 'colsample_bytree': 0.9608023430901044, 'gamma': 0.8590366452082919, 'reg_alpha': 0.48151874953418916, 'reg_lambda': 0.40854376154280647}. Best is trial 67 with value: 4.6189773971338965.\n",
      "[I 2025-08-07 14:21:24,340] Trial 74 finished with value: 4.850794862117014 and parameters: {'n_estimators': 120, 'learning_rate': 0.030408279205851915, 'max_depth': 4, 'subsample': 0.6036428552663964, 'colsample_bytree': 0.9598990093893193, 'gamma': 0.9296386859568458, 'reg_alpha': 0.45980521732748847, 'reg_lambda': 5.585705052816506}. Best is trial 67 with value: 4.6189773971338965.\n",
      "[I 2025-08-07 14:21:24,588] Trial 75 finished with value: 4.64775264855685 and parameters: {'n_estimators': 127, 'learning_rate': 0.05423909200367785, 'max_depth': 3, 'subsample': 0.5769719379871844, 'colsample_bytree': 0.9725051920654957, 'gamma': 0.7764738360024181, 'reg_alpha': 0.4810590427524268, 'reg_lambda': 1.7591629004860287}. Best is trial 67 with value: 4.6189773971338965.\n",
      "[I 2025-08-07 14:21:24,855] Trial 76 finished with value: 5.186003280045187 and parameters: {'n_estimators': 146, 'learning_rate': 0.014215116408213033, 'max_depth': 3, 'subsample': 0.57385125615331, 'colsample_bytree': 0.9684127295670213, 'gamma': 0.7870587903190946, 'reg_alpha': 0.4300916200428132, 'reg_lambda': 1.7199072539230196}. Best is trial 67 with value: 4.6189773971338965.\n",
      "[I 2025-08-07 14:21:25,090] Trial 77 finished with value: 4.764069786415965 and parameters: {'n_estimators': 115, 'learning_rate': 0.1180309165921247, 'max_depth': 3, 'subsample': 0.6201403740458586, 'colsample_bytree': 0.9485115823295645, 'gamma': 1.130650754680558, 'reg_alpha': 0.4882450715889203, 'reg_lambda': 3.0469014315845233}. Best is trial 67 with value: 4.6189773971338965.\n",
      "[I 2025-08-07 14:21:25,365] Trial 78 finished with value: 4.7136913908204265 and parameters: {'n_estimators': 127, 'learning_rate': 0.07370885758239204, 'max_depth': 3, 'subsample': 0.5993811702602302, 'colsample_bytree': 0.9374218649713827, 'gamma': 0.5272774203971455, 'reg_alpha': 0.8266629354171651, 'reg_lambda': 0.10500547167610452}. Best is trial 67 with value: 4.6189773971338965.\n",
      "[I 2025-08-07 14:21:25,584] Trial 79 finished with value: 4.76206828781761 and parameters: {'n_estimators': 121, 'learning_rate': 0.06171240666042036, 'max_depth': 2, 'subsample': 0.5787201729264161, 'colsample_bytree': 0.9724997563800686, 'gamma': 0.7747736546588543, 'reg_alpha': 0.35533251063719185, 'reg_lambda': 6.369966877255898}. Best is trial 67 with value: 4.6189773971338965.\n",
      "[I 2025-08-07 14:21:25,859] Trial 80 finished with value: 4.763432544742627 and parameters: {'n_estimators': 154, 'learning_rate': 0.09706547235145532, 'max_depth': 3, 'subsample': 0.6457033538741546, 'colsample_bytree': 0.9580935294855168, 'gamma': 0.2403413150226138, 'reg_alpha': 0.32061918702593245, 'reg_lambda': 1.3096555406011499}. Best is trial 67 with value: 4.6189773971338965.\n",
      "[I 2025-08-07 14:21:26,152] Trial 81 finished with value: 4.671335329089694 and parameters: {'n_estimators': 139, 'learning_rate': 0.055594645125114646, 'max_depth': 4, 'subsample': 0.5441493977655872, 'colsample_bytree': 0.9925090552380922, 'gamma': 0.5990057992281201, 'reg_alpha': 0.4716752437930314, 'reg_lambda': 0.8650158699986754}. Best is trial 67 with value: 4.6189773971338965.\n",
      "[I 2025-08-07 14:21:26,491] Trial 82 finished with value: 4.625415465985559 and parameters: {'n_estimators': 160, 'learning_rate': 0.04264379949689746, 'max_depth': 4, 'subsample': 0.5436609402840615, 'colsample_bytree': 0.9926975615212141, 'gamma': 0.9861805459132489, 'reg_alpha': 0.5113467373301868, 'reg_lambda': 0.5140652449349801}. Best is trial 67 with value: 4.6189773971338965.\n",
      "[I 2025-08-07 14:21:26,752] Trial 83 finished with value: 5.166217792142366 and parameters: {'n_estimators': 110, 'learning_rate': 0.038333727313351926, 'max_depth': 4, 'subsample': 0.564441603133226, 'colsample_bytree': 0.7648785555310442, 'gamma': 1.3222730657892774, 'reg_alpha': 0.518207508137469, 'reg_lambda': 0.45613257896380494}. Best is trial 67 with value: 4.6189773971338965.\n",
      "[I 2025-08-07 14:21:27,049] Trial 84 finished with value: 4.638690817664126 and parameters: {'n_estimators': 172, 'learning_rate': 0.042426069124200716, 'max_depth': 3, 'subsample': 0.5433840491611276, 'colsample_bytree': 0.9792093249641576, 'gamma': 0.9066138912109589, 'reg_alpha': 0.3752679691257252, 'reg_lambda': 1.1444248796995289}. Best is trial 67 with value: 4.6189773971338965.\n",
      "[I 2025-08-07 14:21:27,363] Trial 85 finished with value: 4.613016447512915 and parameters: {'n_estimators': 171, 'learning_rate': 0.031464006349472634, 'max_depth': 3, 'subsample': 0.5005604999705554, 'colsample_bytree': 0.9733427467007918, 'gamma': 0.8607626943384242, 'reg_alpha': 0.3718830433210938, 'reg_lambda': 1.2404537963183628}. Best is trial 85 with value: 4.613016447512915.\n",
      "[I 2025-08-07 14:21:27,666] Trial 86 finished with value: 4.760818864136695 and parameters: {'n_estimators': 176, 'learning_rate': 0.019051214439413367, 'max_depth': 3, 'subsample': 0.5014620790825289, 'colsample_bytree': 0.9765939449824608, 'gamma': 1.0511991999304267, 'reg_alpha': 0.36560785361310566, 'reg_lambda': 2.0912500680888595}. Best is trial 85 with value: 4.613016447512915.\n",
      "[I 2025-08-07 14:21:28,028] Trial 87 finished with value: 4.651293717386494 and parameters: {'n_estimators': 171, 'learning_rate': 0.03177469224381475, 'max_depth': 3, 'subsample': 0.5349060076027561, 'colsample_bytree': 0.9668084700287812, 'gamma': 0.9631275909834898, 'reg_alpha': 0.21829646928913848, 'reg_lambda': 2.3603185492977588}. Best is trial 85 with value: 4.613016447512915.\n",
      "[I 2025-08-07 14:21:28,322] Trial 88 finished with value: 4.730966590222909 and parameters: {'n_estimators': 184, 'learning_rate': 0.03320596491156214, 'max_depth': 2, 'subsample': 0.5399899107780315, 'colsample_bytree': 0.9514530242465749, 'gamma': 1.005439041618832, 'reg_alpha': 0.21133601610440556, 'reg_lambda': 2.7875606044335703}. Best is trial 85 with value: 4.613016447512915.\n",
      "[I 2025-08-07 14:21:28,615] Trial 89 finished with value: 4.670209636555459 and parameters: {'n_estimators': 170, 'learning_rate': 0.04097489999531656, 'max_depth': 3, 'subsample': 0.5558013231090215, 'colsample_bytree': 0.9194926160879616, 'gamma': 0.9089305791583352, 'reg_alpha': 0.15386215727265018, 'reg_lambda': 2.3370359967216645}. Best is trial 85 with value: 4.613016447512915.\n",
      "[I 2025-08-07 14:21:28,933] Trial 90 finished with value: 4.638889393700465 and parameters: {'n_estimators': 194, 'learning_rate': 0.17314536600906963, 'max_depth': 3, 'subsample': 0.5862701492325468, 'colsample_bytree': 0.7292010303583846, 'gamma': 0.485759009540451, 'reg_alpha': 0.12849059657687922, 'reg_lambda': 1.4965743930499262}. Best is trial 85 with value: 4.613016447512915.\n",
      "[I 2025-08-07 14:21:29,247] Trial 91 finished with value: 4.673113680035251 and parameters: {'n_estimators': 187, 'learning_rate': 0.1616251204126567, 'max_depth': 3, 'subsample': 0.5870740725590416, 'colsample_bytree': 0.720207427868609, 'gamma': 1.2081655804009381, 'reg_alpha': 0.08719449248330005, 'reg_lambda': 1.5953559812901061}. Best is trial 85 with value: 4.613016447512915.\n",
      "[I 2025-08-07 14:21:29,567] Trial 92 finished with value: 4.752248769345402 and parameters: {'n_estimators': 194, 'learning_rate': 0.18147241547288895, 'max_depth': 3, 'subsample': 0.525606979249285, 'colsample_bytree': 0.72019699510334, 'gamma': 0.84993138141019, 'reg_alpha': 0.04117187878113139, 'reg_lambda': 1.1751283444653138}. Best is trial 85 with value: 4.613016447512915.\n",
      "[I 2025-08-07 14:21:29,860] Trial 93 finished with value: 4.871920810144253 and parameters: {'n_estimators': 162, 'learning_rate': 0.17655912252750644, 'max_depth': 3, 'subsample': 0.542373784214693, 'colsample_bytree': 0.8536755452919953, 'gamma': 0.46195530647536026, 'reg_alpha': 0.11774429395736517, 'reg_lambda': 3.847310952690685}. Best is trial 85 with value: 4.613016447512915.\n",
      "[I 2025-08-07 14:21:30,136] Trial 94 finished with value: 4.679958235444727 and parameters: {'n_estimators': 160, 'learning_rate': 0.15554482503427625, 'max_depth': 3, 'subsample': 0.5558460187162833, 'colsample_bytree': 0.6444276405332956, 'gamma': 0.7219728808376389, 'reg_alpha': 0.2587587462461314, 'reg_lambda': 1.9252050778130763}. Best is trial 85 with value: 4.613016447512915.\n",
      "[I 2025-08-07 14:21:30,416] Trial 95 finished with value: 4.605870186053797 and parameters: {'n_estimators': 173, 'learning_rate': 0.19720802267395807, 'max_depth': 2, 'subsample': 0.9060566555884135, 'colsample_bytree': 0.9606464004942881, 'gamma': 0.5484029270225322, 'reg_alpha': 0.09815449580753066, 'reg_lambda': 1.3833240549723884}. Best is trial 95 with value: 4.605870186053797.\n",
      "[I 2025-08-07 14:21:30,650] Trial 96 finished with value: 4.927852971467055 and parameters: {'n_estimators': 166, 'learning_rate': 0.19995176526972505, 'max_depth': 1, 'subsample': 0.5827236047607508, 'colsample_bytree': 0.9331923355994676, 'gamma': 0.2873209287217468, 'reg_alpha': 0.034319082885963054, 'reg_lambda': 1.4759721407922006}. Best is trial 95 with value: 4.605870186053797.\n",
      "[I 2025-08-07 14:21:30,930] Trial 97 finished with value: 4.859690111796746 and parameters: {'n_estimators': 197, 'learning_rate': 0.17948288663239978, 'max_depth': 2, 'subsample': 0.9805057620037778, 'colsample_bytree': 0.8066733924885471, 'gamma': 0.5146101239251909, 'reg_alpha': 0.17271223771039448, 'reg_lambda': 1.0186037568858435}. Best is trial 95 with value: 4.605870186053797.\n",
      "[I 2025-08-07 14:21:31,193] Trial 98 finished with value: 4.584930517087844 and parameters: {'n_estimators': 174, 'learning_rate': 0.20547036309178543, 'max_depth': 2, 'subsample': 0.8937505330724662, 'colsample_bytree': 0.9992328029103099, 'gamma': 0.14105490113389885, 'reg_alpha': 0.06606517050459793, 'reg_lambda': 1.3679384358915208}. Best is trial 98 with value: 4.584930517087844.\n",
      "[I 2025-08-07 14:21:31,441] Trial 99 finished with value: 4.910606470680178 and parameters: {'n_estimators': 175, 'learning_rate': 0.21346319811715833, 'max_depth': 1, 'subsample': 0.902644255746009, 'colsample_bytree': 0.7439481943372438, 'gamma': 0.40361064448857265, 'reg_alpha': 0.002683599446408863, 'reg_lambda': 1.3615601472514838}. Best is trial 98 with value: 4.584930517087844.\n"
     ]
    },
    {
     "name": "stdout",
     "output_type": "stream",
     "text": [
      "Best trial params: {'n_estimators': 174, 'learning_rate': 0.20547036309178543, 'max_depth': 2, 'subsample': 0.8937505330724662, 'colsample_bytree': 0.9992328029103099, 'gamma': 0.14105490113389885, 'reg_alpha': 0.06606517050459793, 'reg_lambda': 1.3679384358915208}\n",
      "Best trial RMSE: 4.5849\n",
      "2023 RMSE: 6.26\n",
      "2023 R²: 0.845\n"
     ]
    },
    {
     "data": {
      "application/vnd.plotly.v1+json": {
       "config": {
        "plotlyServerURL": "https://plot.ly"
       },
       "data": [
        {
         "customdata": [
          [
           "Eldin Jakupovic",
           38
          ],
          [
           "James Milner",
           37
          ],
          [
           "Óscar Ustari",
           36
          ],
          [
           "Gabriel Tamas",
           39
          ],
          [
           "Cristiano Ronaldo",
           38
          ],
          [
           "Shaun MacDonald",
           34
          ],
          [
           "Phil Jagielka",
           40
          ],
          [
           "Andy Lonergan",
           39
          ],
          [
           "Ashley Young",
           37
          ],
          [
           "Scott Carson",
           37
          ],
          [
           "Phil Bardsley",
           37
          ],
          [
           "David Martin",
           37
          ],
          [
           "Casemiro",
           31
          ],
          [
           "Hugo Lloris",
           36
          ],
          [
           "Curtis Davies",
           38
          ],
          [
           "Willy Caballero",
           41
          ],
          [
           "Fernandinho",
           37
          ],
          [
           "Nenê",
           41
          ],
          [
           "Thiago Silva",
           38
          ],
          [
           "Lukasz Fabianski",
           38
          ],
          [
           "John Ruddy",
           36
          ],
          [
           "Chu-young Park",
           37
          ],
          [
           "Dusan Kuciak",
           38
          ],
          [
           "Tim Krul",
           35
          ],
          [
           "Lukas Jutkiewicz",
           34
          ],
          [
           "Theo Walcott",
           34
          ],
          [
           "Alex Smithies",
           33
          ],
          [
           "Asmir Begovic",
           36
          ],
          [
           "Tom Heaton",
           37
          ],
          [
           "Richard Stearman",
           35
          ],
          [
           "Lewis Grabban",
           35
          ],
          [
           "David McGoldrick",
           35
          ],
          [
           "Gaëtan Bong",
           35
          ],
          [
           "Leon Clarke",
           38
          ],
          [
           "Shane Long",
           36
          ],
          [
           "Kamil Grosicki",
           35
          ],
          [
           "Martin Olsson",
           35
          ],
          [
           "Lee Peltier",
           36
          ],
          [
           "Adrian Mariappa",
           36
          ],
          [
           "Kei Kamara",
           38
          ],
          [
           "Mario Vrancic",
           33
          ],
          [
           "Jozy Altidore",
           33
          ],
          [
           "Brad Guzan",
           38
          ],
          [
           "Marouane Fellaini",
           35
          ],
          [
           "Ryan Bertrand",
           33
          ],
          [
           "Liam Bridcutt",
           34
          ],
          [
           "Jack Cork",
           33
          ],
          [
           "James McArthur",
           35
          ],
          [
           "Sone Aluko",
           34
          ],
          [
           "Fraizer Campbell",
           35
          ],
          [
           "Jonny Evans",
           35
          ],
          [
           "Gary Hooper",
           34
          ],
          [
           "Gaetano Berardi",
           34
          ],
          [
           "Elliott Bennett",
           34
          ],
          [
           "Stephen Quinn",
           37
          ],
          [
           "Adam Lallana",
           35
          ],
          [
           "Erik Pieters",
           34
          ],
          [
           "Chris Gunter",
           33
          ],
          [
           "Bojan Krkic",
           32
          ],
          [
           "Beram Kayal",
           35
          ],
          [
           "Diego Costa",
           34
          ],
          [
           "Henri Lansbury",
           32
          ],
          [
           "Dan Gosling",
           33
          ],
          [
           "Claudio Yacob",
           35
          ],
          [
           "Jonathan Howson",
           35
          ],
          [
           "Wayne Hennessey",
           36
          ],
          [
           "Marco Stiepermann",
           32
          ],
          [
           "Fabri",
           35
          ],
          [
           "Luke Daniels",
           35
          ],
          [
           "Chris Martin",
           34
          ],
          [
           "Pablo Hernández",
           38
          ],
          [
           "Lovre Kalinic",
           33
          ],
          [
           "David Luiz",
           35
          ],
          [
           "Teemu Pukki",
           33
          ],
          [
           "Alex Pearce",
           34
          ],
          [
           "Jason Puncheon",
           36
          ],
          [
           "Angelo Ogbonna",
           35
          ],
          [
           "Andy Carroll",
           34
          ],
          [
           "Sam Vokes",
           33
          ],
          [
           "Jordan Rhodes",
           33
          ],
          [
           "Bradley Johnson",
           35
          ],
          [
           "James Perch",
           37
          ],
          [
           "Elias Kachunga",
           30
          ],
          [
           "Billy Sharp",
           37
          ],
          [
           "Andreas Weimann",
           31
          ],
          [
           "Danny Rose",
           32
          ],
          [
           "Christian Benteke",
           32
          ],
          [
           "Chicharito",
           35
          ],
          [
           "Aleksandar Mitrović",
           28
          ],
          [
           "Carlos Sánchez",
           37
          ],
          [
           "Darren Randolph",
           36
          ],
          [
           "Joe Allen",
           33
          ],
          [
           "Mateo Kovacic",
           29
          ],
          [
           "Henri Saivet",
           32
          ],
          [
           "Wellington Paulista",
           39
          ],
          [
           "Zanka",
           33
          ],
          [
           "Chris Basham",
           34
          ],
          [
           "Fraser Forster",
           35
          ],
          [
           "Willian",
           34
          ],
          [
           "Jay Rodríguez",
           33
          ],
          [
           "İlkay Gündoğan",
           32
          ],
          [
           "John Fleck",
           31
          ],
          [
           "Sebastián Blanco",
           35
          ],
          [
           "Magnus Wolff Eikrem",
           32
          ],
          [
           "Chris Löwe",
           34
          ],
          [
           "Harry Arter",
           33
          ],
          [
           "Jack Rodwell",
           32
          ],
          [
           "Jordon Mutch",
           31
          ],
          [
           "Simon Dawkins",
           35
          ],
          [
           "Christopher Schindler",
           33
          ],
          [
           "Emilio Nsue",
           33
          ],
          [
           "Craig Cathcart",
           34
          ],
          [
           "Thiago Alcántara",
           32
          ],
          [
           "Sean Scannell",
           32
          ],
          [
           "Marc Albrighton",
           33
          ],
          [
           "Barry Bannan",
           33
          ],
          [
           "Jonathan Hogg",
           34
          ],
          [
           "James Tomkins",
           34
          ],
          [
           "Jack Colback",
           33
          ],
          [
           "Conor Hourihane",
           32
          ],
          [
           "Neil Etheridge",
           33
          ],
          [
           "Wes Foderingham",
           32
          ],
          [
           "David Button",
           34
          ],
          [
           "Jake Livermore",
           33
          ],
          [
           "Adam Smith",
           32
          ],
          [
           "Stefan Johansen",
           32
          ],
          [
           "Shane Ferguson",
           31
          ],
          [
           "Vegard Forren",
           35
          ],
          [
           "Odion Ighalo",
           34
          ],
          [
           "Scott Dann",
           36
          ],
          [
           "Tomás Mejías",
           34
          ],
          [
           "Ashley Barnes",
           33
          ],
          [
           "Aron Gunnarsson",
           34
          ],
          [
           "Libor Kozak",
           34
          ],
          [
           "Troy Deeney",
           34
          ],
          [
           "Kyle Naughton",
           34
          ],
          [
           "Luke Freeman",
           31
          ],
          [
           "Cheikhou Kouyaté",
           33
          ],
          [
           "Gary Madine",
           32
          ],
          [
           "Danny Welbeck",
           32
          ],
          [
           "Sam Baldock",
           34
          ],
          [
           "Mark Oxley",
           32
          ],
          [
           "Ryan Bennett",
           33
          ],
          [
           "Ben Hamer",
           35
          ],
          [
           "David Stockdale",
           37
          ],
          [
           "Luke Ayling",
           31
          ],
          [
           "Kyle Bartley",
           32
          ],
          [
           "Michal Zyro",
           30
          ],
          [
           "Séamus Coleman",
           34
          ],
          [
           "Giedrius Arlauskis",
           35
          ],
          [
           "Christian Eriksen",
           31
          ],
          [
           "Garath McCleary",
           35
          ],
          [
           "Róger Espinoza",
           36
          ],
          [
           "Bernd Leno",
           31
          ],
          [
           "Adam Clayton",
           34
          ],
          [
           "Ben Amos",
           33
          ],
          [
           "James Chester",
           34
          ],
          [
           "Tom Cleverley",
           33
          ],
          [
           "Danny Drinkwater",
           33
          ],
          [
           "Matty James",
           31
          ],
          [
           "Oliver Norwood",
           32
          ],
          [
           "Jason Steele",
           32
          ],
          [
           "Pablo Sarabia",
           30
          ],
          [
           "Luka Milivojevic",
           32
          ],
          [
           "Adlène Guédioura",
           37
          ],
          [
           "Ben Mee",
           33
          ],
          [
           "Juraj Kucka",
           36
          ],
          [
           "Martin Dúbravka",
           34
          ],
          [
           "Liam Cooper",
           31
          ],
          [
           "Robin Olsen",
           33
          ],
          [
           "Niclas Füllkrug",
           30
          ],
          [
           "Lucas Moura",
           30
          ],
          [
           "Matt Phillips",
           32
          ],
          [
           "George Friend",
           35
          ],
          [
           "Thomas Kaminski",
           30
          ],
          [
           "Victor Wanyama",
           32
          ],
          [
           "Martin Kelly",
           33
          ],
          [
           "Daniel Ayala",
           32
          ],
          [
           "Sean Morrison",
           32
          ],
          [
           "Salomón Rondón",
           33
          ],
          [
           "Korey Smith",
           32
          ],
          [
           "Philippe Coutinho",
           30
          ],
          [
           "Craig Noone",
           35
          ],
          [
           "Tadanari Lee",
           37
          ],
          [
           "Sung-yueng Ki",
           34
          ],
          [
           "Chung-yong Lee",
           34
          ],
          [
           "Joel Matip",
           31
          ],
          [
           "Moritz Leitner",
           30
          ],
          [
           "Albert Adomah",
           35
          ],
          [
           "Nathaniel Clyne",
           32
          ],
          [
           "Oscar",
           31
          ],
          [
           "Borja Bastón",
           30
          ],
          [
           "Federico Fernández",
           34
          ],
          [
           "Enda Stevens",
           32
          ],
          [
           "Loris Karius",
           30
          ],
          [
           "Danny Lafferty",
           34
          ],
          [
           "James McClean",
           34
          ],
          [
           "Stefan Ortega",
           30
          ],
          [
           "Thomas Eisfeld",
           30
          ],
          [
           "Valentin Roberge",
           35
          ],
          [
           "Junior Stanislas",
           33
          ],
          [
           "Luca Scapuzzi",
           32
          ],
          [
           "Kevin De Bruyne",
           32
          ],
          [
           "Jonathan Kodjia",
           33
          ],
          [
           "Jóhann Berg Gudmundsson",
           32
          ],
          [
           "David Cornell",
           32
          ],
          [
           "Román Golobart",
           30
          ],
          [
           "Steve Cook",
           32
          ],
          [
           "Joe Bennett",
           33
          ],
          [
           "John Brayford",
           35
          ],
          [
           "Ashley Westwood",
           33
          ],
          [
           "James Shea",
           31
          ],
          [
           "Heung-min Son",
           30
          ],
          [
           "Sammy Ameobi",
           30
          ],
          [
           "Matt Ritchie",
           33
          ],
          [
           "Aaron Cresswell",
           33
          ],
          [
           "Joel Ward",
           33
          ],
          [
           "Mateusz Klich",
           33
          ],
          [
           "Kalidou Koulibaly",
           31
          ],
          [
           "Adama Diomande",
           33
          ],
          [
           "Marcos Rojo",
           33
          ],
          [
           "Stuart O'Keefe",
           32
          ],
          [
           "Muhamed Besic",
           30
          ],
          [
           "Jordan Bowery",
           31
          ],
          [
           "Connor Wickham",
           30
          ],
          [
           "Kieran Trippier",
           32
          ],
          [
           "Alex McCarthy",
           33
          ],
          [
           "Ciaran Clark",
           33
          ],
          [
           "Jannik Vestergaard",
           30
          ],
          [
           "Karl Darlow",
           32
          ],
          [
           "Matej Vydra",
           31
          ],
          [
           "Scott Malone",
           32
          ],
          [
           "Jorginho",
           31
          ],
          [
           "Matthew Lowton",
           34
          ],
          [
           "Michail Antonio",
           33
          ],
          [
           "Lyle Taylor",
           33
          ],
          [
           "Filip Orsula",
           30
          ],
          [
           "Alisson",
           30
          ],
          [
           "Jordan Ayew",
           31
          ],
          [
           "Chris Wood",
           31
          ],
          [
           "Adam Matthews",
           31
          ],
          [
           "Onel Hernández",
           30
          ],
          [
           "Luke Garbutt",
           30
          ],
          [
           "Gary Gardner",
           30
          ],
          [
           "Sam Johnstone",
           29
          ],
          [
           "Jed Steer",
           30
          ],
          [
           "Ryan Tunnicliffe",
           30
          ],
          [
           "Ryan Allsop",
           30
          ],
          [
           "Kevin Long",
           32
          ],
          [
           "Joël Veltman",
           31
          ],
          [
           "Sead Hajrovic",
           30
          ],
          [
           "Neeskens Kebano",
           31
          ],
          [
           "Ahmed Hegazy",
           32
          ],
          [
           "Neto",
           33
          ],
          [
           "Emiliano Martínez",
           30
          ],
          [
           "Philip Heise",
           32
          ],
          [
           "Tomer Hemed",
           36
          ],
          [
           "Cédric Soares",
           31
          ],
          [
           "Romaine Sawyers",
           31
          ],
          [
           "Greg Cunningham",
           32
          ],
          [
           "Richie Towell",
           31
          ],
          [
           "Luke Brattan",
           33
          ],
          [
           "Marcus Bettinelli",
           31
          ],
          [
           "Phil Jones",
           31
          ],
          [
           "Michael Keane",
           30
          ],
          [
           "Will Keane",
           30
          ],
          [
           "Ezequiel Schelotto",
           34
          ],
          [
           "Shane Duffy",
           31
          ],
          [
           "Jack Grimmer",
           29
          ],
          [
           "Daniel Bachmann",
           28
          ],
          [
           "Jazz Richards",
           32
          ],
          [
           "Alphonse Areola",
           30
          ],
          [
           "Joe Mason",
           32
          ],
          [
           "Kwesi Appiah",
           32
          ],
          [
           "Adam Davies",
           30
          ],
          [
           "Adam Forshaw",
           31
          ],
          [
           "Ryan Watson",
           29
          ],
          [
           "Tom Carroll",
           30
          ],
          [
           "John Egan",
           30
          ],
          [
           "Grant Hanley",
           31
          ],
          [
           "Eirik Johansen",
           30
          ],
          [
           "Tommy Smith",
           31
          ],
          [
           "Emyr Huws",
           29
          ],
          [
           "Craig Dawson",
           33
          ],
          [
           "Wellington Silva",
           30
          ],
          [
           "Markus Henriksen",
           30
          ],
          [
           "Sam Clucas",
           32
          ],
          [
           "Nico Yennaris",
           30
          ],
          [
           "Ali Gabr",
           34
          ],
          [
           "Tom Cairney",
           32
          ],
          [
           "Simon Moore",
           33
          ],
          [
           "Sam Morsy",
           31
          ],
          [
           "Callum Wilson",
           31
          ],
          [
           "Danny Ward",
           32
          ],
          [
           "Odysseas Vlachodimos",
           29
          ],
          [
           "Grant Hall",
           31
          ],
          [
           "Pontus Jansson",
           32
          ],
          [
           "Nathaniel Mendez-Laing",
           30
          ],
          [
           "Luke Berry",
           30
          ],
          [
           "Mark Flekken",
           30
          ],
          [
           "Lee Nicholls",
           30
          ],
          [
           "Carl Jenkinson",
           31
          ],
          [
           "Allan",
           32
          ],
          [
           "Kenny McLean",
           31
          ],
          [
           "Lucas Digne",
           29
          ],
          [
           "Idrissa Gueye",
           33
          ],
          [
           "Serge Aurier",
           30
          ],
          [
           "Abdoulaye Doucouré",
           30
          ],
          [
           "Matz Sels",
           31
          ],
          [
           "Robbie Brady",
           31
          ],
          [
           "Scott Wootton",
           31
          ],
          [
           "Derrick Williams",
           30
          ],
          [
           "Bo-kyung Kim",
           33
          ],
          [
           "Tom Anderson",
           29
          ],
          [
           "Jamal Blackman",
           29
          ],
          [
           "Nathaniel Chalobah",
           28
          ],
          [
           "Conor Coady",
           30
          ],
          [
           "Ben Gibson",
           30
          ],
          [
           "Liam Moore",
           30
          ],
          [
           "Jack Robinson",
           29
          ],
          [
           "Ethan Ebanks-Landell",
           30
          ],
          [
           "Nathan Redmond",
           29
          ],
          [
           "Charlie Austin",
           33
          ],
          [
           "Jordan Pickford",
           29
          ],
          [
           "Stuart Armstrong",
           31
          ],
          [
           "Jonathan Bond",
           30
          ],
          [
           "Juan Agudelo",
           30
          ],
          [
           "Rodrigo",
           32
          ],
          [
           "Roberto Firmino",
           31
          ],
          [
           "Ross Barkley",
           29
          ],
          [
           "Phil Ofosu-Ayeh",
           31
          ],
          [
           "Dan Burn",
           31
          ],
          [
           "Danny Ings",
           30
          ],
          [
           "Matthias Fanimo",
           29
          ],
          [
           "Nick Powell",
           29
          ],
          [
           "Raheem Sterling",
           28
          ],
          [
           "Blair Turgott",
           29
          ],
          [
           "André Carrillo",
           32
          ],
          [
           "Fabian Schär",
           31
          ],
          [
           "Manuel Lanzini",
           30
          ],
          [
           "Daniel Bentley",
           29
          ],
          [
           "Kadeem Harris",
           29
          ],
          [
           "Marçal",
           34
          ],
          [
           "Jakob Haugaard",
           31
          ],
          [
           "Virgil van Dijk",
           31
          ],
          [
           "Ryan Fredericks",
           30
          ],
          [
           "Josip Drmic",
           30
          ],
          [
           "Liam O'Neil",
           29
          ],
          [
           "George Saville",
           30
          ],
          [
           "Zeki Fryers",
           30
          ],
          [
           "Jesse Lingard",
           30
          ],
          [
           "Willy Boly",
           32
          ],
          [
           "Mark Gillespie",
           31
          ],
          [
           "Krisztián Adorján",
           30
          ],
          [
           "Leandro Trossard",
           28
          ],
          [
           "Tim Ream",
           35
          ],
          [
           "Wataru Endo",
           30
          ],
          [
           "Conor Townsend",
           30
          ],
          [
           "George Baldock",
           30
          ],
          [
           "Ryan Fraser",
           29
          ],
          [
           "Lewis Dunk",
           31
          ],
          [
           "Jeff Hendrick",
           31
          ],
          [
           "Christian Nørgaard",
           29
          ],
          [
           "Divock Origi",
           27
          ],
          [
           "Mohamed Salah",
           30
          ],
          [
           "Tomas Kalas",
           29
          ],
          [
           "Jiri Skalak",
           31
          ],
          [
           "Todd Kane",
           29
          ],
          [
           "Felipe",
           34
          ],
          [
           "Tyias Browning",
           28
          ],
          [
           "Ben Heneghan",
           29
          ],
          [
           "Tom Ince",
           31
          ],
          [
           "Michael Hector",
           30
          ],
          [
           "Kurt Zouma",
           28
          ],
          [
           "Vladimír Coufal",
           30
          ],
          [
           "Cyrus Christie",
           30
          ],
          [
           "Tendayi Darikwa",
           31
          ],
          [
           "Kieron Freeman",
           31
          ],
          [
           "Max Ehmer",
           31
          ],
          [
           "Stuart Dallas",
           32
          ],
          [
           "Mesca",
           29
          ],
          [
           "Mohamed Elneny",
           30
          ],
          [
           "Adam Reach",
           30
          ],
          [
           "Connor Ripley",
           30
          ],
          [
           "Adam Smith",
           30
          ],
          [
           "Jack Stephens",
           29
          ],
          [
           "Rory Donnelly",
           31
          ],
          [
           "Raphaël Varane",
           30
          ],
          [
           "Jürgen Locadia",
           29
          ],
          [
           "Paddy McNair",
           28
          ],
          [
           "James Husband",
           29
          ],
          [
           "Daniel Johnson",
           30
          ],
          [
           "Callum Paterson",
           28
          ],
          [
           "Cauley Woodrow",
           28
          ],
          [
           "Paul Dummett",
           31
          ],
          [
           "Jonathan Williams",
           29
          ],
          [
           "Timo Werner",
           27
          ],
          [
           "Cody Cropper",
           30
          ],
          [
           "Ben Reeves",
           31
          ],
          [
           "Jay Fulton",
           29
          ],
          [
           "Riyad Mahrez",
           32
          ],
          [
           "Matt Doherty",
           31
          ],
          [
           "Nahki Wells",
           33
          ],
          [
           "James Tarkowski",
           30
          ],
          [
           "Hélder Costa",
           29
          ],
          [
           "Brad Smith",
           29
          ],
          [
           "Sebastian Lletget",
           30
          ],
          [
           "Aymeric Laporte",
           28
          ],
          [
           "Florin Andone",
           30
          ],
          [
           "Nathan Aké",
           28
          ],
          [
           "Charly Musonda Jr.",
           26
          ],
          [
           "Graham Burke",
           29
          ],
          [
           "Harry Maguire",
           30
          ],
          [
           "Jean Michaël Seri",
           31
          ],
          [
           "Donald Love",
           28
          ],
          [
           "Curtis Good",
           30
          ],
          [
           "George Evans",
           28
          ],
          [
           "James Ward-Prowse",
           28
          ],
          [
           "Massimo Luongo",
           30
          ],
          [
           "Emerson",
           28
          ],
          [
           "Jordan Graham",
           28
          ],
          [
           "Ryan Inniss",
           27
          ],
          [
           "Luke Shaw",
           27
          ],
          [
           "Joe Rothwell",
           28
          ],
          [
           "Callum Robinson",
           28
          ],
          [
           "Luke McGee",
           27
          ],
          [
           "Ben Pearson",
           28
          ],
          [
           "Jamaal Lascelles",
           29
          ],
          [
           "Patrick Bamford",
           29
          ],
          [
           "Gregor Zabret",
           28
          ],
          [
           "Jordan Clark",
           29
          ],
          [
           "Ming-Yang Yang",
           27
          ],
          [
           "Tom Hopper",
           29
          ],
          [
           "Emil Krafth",
           28
          ],
          [
           "Victor Lindelöf",
           28
          ],
          [
           "Bobby De Cordova-Reid",
           30
          ],
          [
           "John Stones",
           29
          ],
          [
           "Marek Rodák",
           26
          ],
          [
           "Jack Rose",
           28
          ],
          [
           "Ryan Christie",
           28
          ],
          [
           "Michael Petrasso",
           27
          ],
          [
           "Sean Maguire",
           29
          ],
          [
           "Nick Pope",
           31
          ],
          [
           "Kepa Arrizabalaga",
           28
          ],
          [
           "Ben Davies",
           30
          ],
          [
           "Álex Moreno",
           30
          ],
          [
           "John McGinn",
           28
          ],
          [
           "Joe Bryan",
           29
          ],
          [
           "Charlie Taylor",
           29
          ],
          [
           "Adedeji Oshilaja",
           29
          ],
          [
           "Joe Ralls",
           29
          ],
          [
           "Remi Matthews",
           29
          ],
          [
           "John Swift",
           27
          ],
          [
           "Janoi Donacien",
           29
          ],
          [
           "Josh Sheehan",
           28
          ],
          [
           "Jamie Vardy",
           36
          ],
          [
           "Liam Shephard",
           28
          ],
          [
           "Harry Toffolo",
           27
          ],
          [
           "Lewis Baker",
           28
          ],
          [
           "Sam Hoskins",
           30
          ],
          [
           "Jacob Murphy",
           28
          ],
          [
           "Josh Murphy",
           28
          ],
          [
           "Kevin Stewart",
           29
          ],
          [
           "Angus Gunn",
           27
          ],
          [
           "Danny Ward",
           30
          ],
          [
           "Conor McGrandles",
           27
          ],
          [
           "Andreas Pereira",
           27
          ],
          [
           "Jack Grealish",
           27
          ],
          [
           "Oleksandr Zinchenko",
           26
          ],
          [
           "Adama Traoré",
           27
          ],
          [
           "Saman Ghoddos",
           29
          ],
          [
           "Dejan Iliev",
           28
          ],
          [
           "Raúl Jiménez",
           31
          ],
          [
           "Isaac Hayden",
           28
          ],
          [
           "Kenny Tete",
           27
          ],
          [
           "Will Hughes",
           28
          ],
          [
           "Dan Potts",
           29
          ],
          [
           "Tom Lockyer",
           28
          ],
          [
           "Louis Thompson",
           28
          ],
          [
           "Brendan Galloway",
           27
          ],
          [
           "Christian Walton",
           27
          ],
          [
           "Solly March",
           28
          ],
          [
           "Oumar Niasse",
           32
          ],
          [
           "Jack O'Connell",
           29
          ],
          [
           "Adam Webster",
           28
          ],
          [
           "David Ferguson",
           28
          ],
          [
           "Connor Roberts",
           27
          ],
          [
           "Kean Bryan",
           26
          ],
          [
           "Calum Chambers",
           28
          ],
          [
           "Tom King",
           28
          ],
          [
           "Ricardo Pereira",
           29
          ],
          [
           "Ben Osborn",
           28
          ],
          [
           "George Honeyman",
           28
          ],
          [
           "Conor Grant",
           27
          ],
          [
           "Matthew Pennington",
           28
          ],
          [
           "Zack Steffen",
           28
          ],
          [
           "Alex Gilliead",
           27
          ],
          [
           "Joel Dixon",
           29
          ],
          [
           "Danilo Pantic",
           26
          ],
          [
           "Luke Simpson",
           28
          ],
          [
           "N'Golo Kanté",
           31
          ],
          [
           "Gonçalo Guedes",
           26
          ],
          [
           "Rúben Neves",
           26
          ],
          [
           "Fabinho",
           29
          ],
          [
           "Matheus Pereira",
           27
          ],
          [
           "Freddie Woodman",
           26
          ],
          [
           "Sean Raggett",
           29
          ],
          [
           "Anthony Cáceres",
           30
          ],
          [
           "Dominic Gape",
           28
          ],
          [
           "Lloyd Isgrove",
           30
          ],
          [
           "Harrison Reed",
           28
          ],
          [
           "Sam Gallagher",
           27
          ],
          [
           "Jason McCarthy",
           27
          ],
          [
           "Gedion Zelalem",
           26
          ],
          [
           "Thomas Partey",
           30
          ],
          [
           "Nélson Semedo",
           29
          ],
          [
           "Emiliano Marcondes",
           28
          ],
          [
           "Kortney Hause",
           27
          ],
          [
           "Freddie Ladapo",
           30
          ],
          [
           "André Onana",
           26
          ],
          [
           "Andrew Robertson",
           29
          ],
          [
           "Ola Aina",
           26
          ],
          [
           "Connor Ogilvie",
           27
          ],
          [
           "Sam Byram",
           29
          ],
          [
           "Ederson",
           29
          ],
          [
           "Leandro Rodríguez",
           30
          ],
          [
           "Jamal Lowe",
           28
          ],
          [
           "George Byers",
           26
          ],
          [
           "Bruno Fernandes",
           28
          ],
          [
           "Bernardo Silva",
           28
          ],
          [
           "Jindrich Stanek",
           27
          ],
          [
           "Ethan Horvath",
           27
          ],
          [
           "Gethin Jones",
           27
          ],
          [
           "Courtney Duffus",
           27
          ],
          [
           "Josh Cullen",
           26
          ],
          [
           "Alex Iwobi",
           27
          ],
          [
           "Nathan Mavila",
           27
          ],
          [
           "Lewis Page",
           26
          ],
          [
           "Josh Vickers",
           27
          ],
          [
           "Jan Bednarek",
           26
          ],
          [
           "Josh Onomah",
           26
          ],
          [
           "Lawrence Vigouroux",
           29
          ],
          [
           "Lloyd Jones",
           27
          ],
          [
           "Hiram Boateng",
           27
          ],
          [
           "Pelly Ruddock Mpanzu",
           29
          ],
          [
           "Jon Gorenc Stankovic",
           27
          ],
          [
           "Saša Lukić",
           26
          ],
          [
           "Reece James",
           29
          ],
          [
           "Alex Palmer",
           26
          ],
          [
           "Bartosz Kapustka",
           26
          ],
          [
           "Carlton Morris",
           27
          ],
          [
           "Duncan Watmore",
           29
          ],
          [
           "Lewis Cook",
           26
          ],
          [
           "Harry Winks",
           27
          ],
          [
           "Jack Stacey",
           27
          ],
          [
           "Youri Tielemans",
           25
          ],
          [
           "Tariqe Fosu",
           27
          ],
          [
           "José Sá",
           30
          ],
          [
           "Adam Armstrong",
           26
          ],
          [
           "Jamie Sterry",
           27
          ],
          [
           "Matt Targett",
           27
          ],
          [
           "Enes Ünal",
           26
          ],
          [
           "Jordan Lyden",
           27
          ],
          [
           "Ivan Toney",
           27
          ],
          [
           "Semi Ajayi",
           29
          ],
          [
           "Ken Sema",
           29
          ],
          [
           "Rob Holding",
           27
          ],
          [
           "Tyrone Mings",
           30
          ],
          [
           "Harry Cornick",
           28
          ],
          [
           "Wes Burns",
           28
          ],
          [
           "Samir Caetano",
           28
          ],
          [
           "Cameron Burgess",
           27
          ],
          [
           "Joe Gomez",
           26
          ],
          [
           "Adnan Maric",
           26
          ],
          [
           "Dan Barlaser",
           26
          ],
          [
           "Tommy Robson",
           27
          ],
          [
           "Rúben Dias",
           26
          ],
          [
           "Kasey Palmer",
           26
          ],
          [
           "Tom Beadling",
           27
          ],
          [
           "Tosin Adarabioyo",
           25
          ],
          [
           "Ryan Ledson",
           25
          ],
          [
           "Max Lowe",
           25
          ],
          [
           "Kyle Scott",
           25
          ],
          [
           "Dominic Solanke",
           25
          ],
          [
           "Dean Henderson",
           26
          ],
          [
           "Marcus Rashford",
           25
          ],
          [
           "Joachim Andersen",
           27
          ],
          [
           "Daniel Iversen",
           25
          ],
          [
           "Cameron Brannagan",
           26
          ],
          [
           "Filip Krovinovic",
           27
          ],
          [
           "Timothy Castagne",
           27
          ],
          [
           "Ryan Manning",
           26
          ],
          [
           "David Raya",
           27
          ],
          [
           "Soufyan Ahannach",
           28
          ],
          [
           "Jefferson Lerma",
           28
          ],
          [
           "Kevin Danso",
           24
          ],
          [
           "Harry Charsley",
           26
          ],
          [
           "Reece Burke",
           26
          ],
          [
           "Kevin Toner",
           26
          ],
          [
           "Matt Grimes",
           27
          ],
          [
           "Joe Williams",
           26
          ],
          [
           "Vitaly Janelt",
           25
          ],
          [
           "Callum Elder",
           28
          ],
          [
           "Sylvain Deslandes",
           25
          ],
          [
           "Issa Diop",
           26
          ],
          [
           "Paul Onuachu",
           28
          ],
          [
           "Miguel Almirón",
           29
          ],
          [
           "Jonathan Benteke",
           28
          ],
          [
           "Wilfred Ndidi",
           26
          ],
          [
           "Kieffer Moore",
           30
          ],
          [
           "David Brooks",
           25
          ],
          [
           "Jack Payne",
           28
          ],
          [
           "Amari'i Bell",
           29
          ],
          [
           "MJ Williams",
           27
          ],
          [
           "Harry Wilson",
           26
          ],
          [
           "Sergio Reguilón",
           26
          ],
          [
           "Corey Blackett-Taylor",
           25
          ],
          [
           "Alfie Whiteman",
           24
          ],
          [
           "Tomas Soucek",
           28
          ],
          [
           "Grant Ward",
           28
          ],
          [
           "Manuel Akanji",
           27
          ],
          [
           "Marc Cucurella",
           24
          ],
          [
           "Will Norris",
           29
          ],
          [
           "Joel Coleman",
           27
          ],
          [
           "Harry Burgoyne",
           26
          ],
          [
           "Guglielmo Vicario",
           26
          ],
          [
           "Joe Lolley",
           30
          ],
          [
           "Krystian Bielik",
           25
          ],
          [
           "Connor Mahoney",
           26
          ],
          [
           "Orel Mangala",
           25
          ],
          [
           "Josh Harrop",
           27
          ],
          [
           "Ashley Fletcher",
           27
          ],
          [
           "Saïd Benrahma",
           27
          ],
          [
           "Jordan Hugill",
           31
          ],
          [
           "Sammie Szmodics",
           27
          ],
          [
           "Hee-chan Hwang",
           27
          ],
          [
           "Demarai Gray",
           26
          ],
          [
           "Wout Faes",
           25
          ],
          [
           "Matija Sarkic",
           25
          ],
          [
           "Baily Cargill",
           27
          ],
          [
           "Josh Brownhill",
           27
          ],
          [
           "Conor Masterson",
           24
          ],
          [
           "James Maddison",
           26
          ],
          [
           "Nathan",
           27
          ],
          [
           "Taiwo Awoniyi",
           25
          ],
          [
           "Kelechi Iheanacho",
           26
          ],
          [
           "Marco Asensio",
           27
          ],
          [
           "Tyler Roberts",
           24
          ],
          [
           "Joe Rodon",
           25
          ],
          [
           "Harry Souttar",
           24
          ],
          [
           "Courtney Baker-Richardson",
           27
          ],
          [
           "George Thomas",
           26
          ],
          [
           "Kieran Tierney",
           25
          ],
          [
           "Fred Onyedinma",
           26
          ],
          [
           "Dominic Calvert-Lewin",
           26
          ],
          [
           "Matt Clarke",
           26
          ],
          [
           "Lynden Gooch",
           27
          ],
          [
           "Callum Connolly",
           25
          ],
          [
           "Jan Mlakar",
           24
          ],
          [
           "Kai Havertz",
           23
          ],
          [
           "Andre Green",
           24
          ],
          [
           "Ramadan Sobhi",
           26
          ],
          [
           "Liam Gibson",
           25
          ],
          [
           "Dael Fry",
           25
          ],
          [
           "Karlan Grant",
           25
          ],
          [
           "Tom Davies",
           24
          ],
          [
           "Rushian Hepburn-Murphy",
           24
          ],
          [
           "Herbie Kane",
           24
          ],
          [
           "Jonathan Leko",
           23
          ],
          [
           "Chris Willock",
           25
          ],
          [
           "Trent Alexander-Arnold",
           24
          ],
          [
           "Kyle Edwards",
           25
          ],
          [
           "Darnell Johnson",
           24
          ],
          [
           "Admiral Muskwe",
           24
          ],
          [
           "Ben Sheaf",
           25
          ],
          [
           "Jarrod Bowen",
           26
          ],
          [
           "Ben Chilwell",
           26
          ],
          [
           "Martin Ødegaard",
           24
          ],
          [
           "Jake Clarke-Salter",
           25
          ],
          [
           "Mateusz Hewelt",
           26
          ],
          [
           "Vlad Dragomir",
           23
          ],
          [
           "Daniel James",
           25
          ],
          [
           "Mathias Jensen",
           27
          ],
          [
           "Elijah Adebayo",
           25
          ],
          [
           "Anthony Georgiou",
           26
          ],
          [
           "Benny Ashley-Seal",
           24
          ],
          [
           "Benson Manuel",
           26
          ],
          [
           "Gustavo Hamer",
           25
          ],
          [
           "James Bree",
           25
          ],
          [
           "Ollie Watkins",
           27
          ],
          [
           "Marvelous Nakamba",
           29
          ],
          [
           "Donyell Malen",
           24
          ],
          [
           "Matthijs de Ligt",
           23
          ],
          [
           "Jaroslaw Jach",
           29
          ],
          [
           "Kristoffer Ajer",
           25
          ],
          [
           "João Virgínia",
           23
          ],
          [
           "Justin Kluivert",
           23
          ],
          [
           "Takehiro Tomiyasu",
           24
          ],
          [
           "Tyler Adams",
           24
          ],
          [
           "Sander Berge",
           25
          ],
          [
           "Joelinton",
           26
          ],
          [
           "Ben White",
           25
          ],
          [
           "Altay Bayındır",
           24
          ],
          [
           "Joe Lumley",
           28
          ],
          [
           "Nathan Holland",
           24
          ],
          [
           "Connor Ronan",
           25
          ],
          [
           "Konstantinos Tsimikas",
           27
          ],
          [
           "Mikel Merino",
           26
          ],
          [
           "Hannes Delcroix",
           24
          ],
          [
           "Daniel Grimshaw",
           25
          ],
          [
           "Rico Henry",
           25
          ],
          [
           "Josh Pask",
           25
          ],
          [
           "Regan Poole",
           24
          ],
          [
           "Tolaji Bola",
           24
          ],
          [
           "Marcus McGuane",
           24
          ],
          [
           "Josh Dasilva",
           24
          ],
          [
           "Eddie Nketiah",
           23
          ],
          [
           "Reiss Nelson",
           23
          ],
          [
           "Stephy Mavididi",
           25
          ],
          [
           "Joe Willock",
           23
          ],
          [
           "Noussair Mazraoui",
           25
          ],
          [
           "Caoimhín Kelleher",
           24
          ],
          [
           "Diogo Jota",
           26
          ],
          [
           "Harry Lewis",
           25
          ],
          [
           "Kyle Walker-Peters",
           26
          ],
          [
           "Federico Chiesa",
           25
          ],
          [
           "Hamza Choudhury",
           25
          ],
          [
           "Elliott Moore",
           26
          ],
          [
           "Axel Tuanzebe",
           25
          ],
          [
           "Grady Diangana",
           25
          ],
          [
           "Nathan Baxter",
           24
          ],
          [
           "Guido Rodríguez",
           29
          ],
          [
           "Ben Godfrey",
           25
          ],
          [
           "Nathan Broadhead",
           25
          ],
          [
           "Ben Woodburn",
           23
          ],
          [
           "Odsonne Edouard",
           25
          ],
          [
           "Christopher Nkunku",
           25
          ],
          [
           "Boubakary Soumaré",
           24
          ],
          [
           "Tahith Chong",
           23
          ],
          [
           "Shayon Harrison",
           25
          ],
          [
           "Djair Parfitt-Williams",
           26
          ],
          [
           "Jamal Lewis",
           25
          ],
          [
           "Trevoh Chalobah",
           23
          ],
          [
           "Jordan Williams",
           23
          ],
          [
           "Tom Dele-Bashiru",
           23
          ],
          [
           "Japhet Tanganga",
           24
          ],
          [
           "Dan Nlundulu",
           24
          ],
          [
           "Mason Mount",
           24
          ],
          [
           "Sean Longstaff",
           25
          ],
          [
           "Mason Holgate",
           26
          ],
          [
           "Alexander Isak",
           23
          ],
          [
           "Conor Chaplin",
           26
          ],
          [
           "Pervis Estupiñán",
           25
          ],
          [
           "Antonee Robinson",
           25
          ],
          [
           "Shayne Lavery",
           24
          ],
          [
           "Kalvin Phillips",
           27
          ],
          [
           "Darnell Furlong",
           27
          ],
          [
           "Keshi Anderson",
           28
          ],
          [
           "Adnan Kanuric",
           22
          ],
          [
           "Joe Powell",
           24
          ],
          [
           "Rodrigo Bentancur",
           26
          ],
          [
           "Cristian Romero",
           25
          ],
          [
           "Daichi Kamada",
           26
          ],
          [
           "Ibrahima Konaté",
           24
          ],
          [
           "Diogo Dalot",
           24
          ],
          [
           "Kazaiah Sterling",
           24
          ],
          [
           "Rodri",
           27
          ],
          [
           "Jayson Molumby",
           23
          ],
          [
           "Mark Travers",
           24
          ],
          [
           "Declan Rice",
           24
          ],
          [
           "Lasse Sörensen",
           23
          ],
          [
           "Sven Botman",
           23
          ],
          [
           "Gabriel Jesus",
           26
          ],
          [
           "Elliot Embleton",
           24
          ],
          [
           "Patson Daka",
           24
          ],
          [
           "Pontus Dahlberg",
           24
          ],
          [
           "Dan Agyei",
           25
          ],
          [
           "Niall Ennis",
           23
          ],
          [
           "Ferdi Kadıoğlu",
           23
          ],
          [
           "Sasa Kalajdzic",
           25
          ],
          [
           "Arijanet Muric",
           24
          ],
          [
           "Francisco Sierralta",
           26
          ],
          [
           "Nathaniel Phillips",
           26
          ],
          [
           "Carlos Soler",
           26
          ],
          [
           "Paulinho",
           25
          ],
          [
           "Junior Firpo",
           26
          ],
          [
           "Ibrahim Sangaré",
           25
          ],
          [
           "Charlie Goode",
           27
          ],
          [
           "Anel Ahmedhodzic",
           24
          ],
          [
           "Richarlison",
           26
          ],
          [
           "Lyanco",
           26
          ],
          [
           "Igor",
           25
          ],
          [
           "Joel Mumbongo",
           24
          ],
          [
           "Wesley Moraes",
           26
          ],
          [
           "Steven Benda",
           24
          ],
          [
           "Mike Trésor",
           23
          ],
          [
           "Tyrese Campbell",
           23
          ],
          [
           "Joe Hardy",
           24
          ],
          [
           "Przemyslaw Placheta",
           25
          ],
          [
           "Axel Disasi",
           25
          ],
          [
           "Darko Churlinov",
           22
          ],
          [
           "Joe Riley",
           26
          ],
          [
           "Daiki Hashioka",
           24
          ],
          [
           "Samuel Shashoua",
           24
          ],
          [
           "Sam Field",
           25
          ],
          [
           "Leon Bailey",
           25
          ],
          [
           "Yoane Wissa",
           26
          ],
          [
           "Jacob Lungi Sörensen",
           25
          ],
          [
           "Marcus Browne",
           25
          ],
          [
           "Chiedozie Ogbene",
           26
          ],
          [
           "Marc Guéhi",
           22
          ],
          [
           "Ian Poveda",
           23
          ],
          [
           "Emile Smith Rowe",
           22
          ],
          [
           "George McEachran",
           22
          ],
          [
           "Callum Hudson-Odoi",
           22
          ],
          [
           "Marcel Lavinier",
           22
          ],
          [
           "Kane Wilson",
           23
          ],
          [
           "Ryan Sessegnon",
           23
          ],
          [
           "Josh Sargent",
           23
          ],
          [
           "Boubacar Kamara",
           23
          ],
          [
           "Claudio Gomes",
           22
          ],
          [
           "Moussa Diaby",
           23
          ],
          [
           "Sam Hughes",
           25
          ],
          [
           "Jimmy Dunne",
           25
          ],
          [
           "Ethan Hamilton",
           24
          ],
          [
           "Manor Solomon",
           23
          ],
          [
           "Dan Kemp",
           24
          ],
          [
           "Jamie Cumming",
           23
          ],
          [
           "Richard Nartey",
           24
          ],
          [
           "Sandro Tonali",
           23
          ],
          [
           "Josh Benson",
           23
          ],
          [
           "Harvey Barnes",
           25
          ],
          [
           "Sam Surridge",
           24
          ],
          [
           "Marcus Tavernier",
           24
          ],
          [
           "Pau Torres",
           26
          ],
          [
           "Mads Hermansen",
           22
          ],
          [
           "Jadon Sancho",
           22
          ],
          [
           "Dara O'Shea",
           24
          ],
          [
           "Edson Álvarez",
           25
          ],
          [
           "Michal Karbownik",
           22
          ],
          [
           "Gonzalo Montiel",
           26
          ],
          [
           "Robert Sánchez",
           25
          ],
          [
           "Jordan Beyer",
           22
          ],
          [
           "Marcus Forss",
           23
          ],
          [
           "Vitaliy Mykolenko",
           24
          ],
          [
           "Yukinari Sugawara",
           22
          ],
          [
           "Yan Valery",
           24
          ],
          [
           "Tom McGill",
           23
          ],
          [
           "Steven Sessegnon",
           22
          ],
          [
           "Timothy Eyoma",
           23
          ],
          [
           "Rhian Brewster",
           23
          ],
          [
           "Matt O'Riley",
           22
          ],
          [
           "Phil Foden",
           23
          ],
          [
           "Oliver Skipp",
           22
          ],
          [
           "Mads Andersen",
           25
          ],
          [
           "Ismaïla Sarr",
           25
          ],
          [
           "Yves Bissouma",
           26
          ],
          [
           "Pascal Struijk",
           23
          ],
          [
           "Max Sanders",
           24
          ],
          [
           "Adam Parkes",
           23
          ],
          [
           "Ibrahima Diallo",
           24
          ],
          [
           "Bryan Mbeumo",
           23
          ],
          [
           "James Justin",
           25
          ],
          [
           "Ezri Konsa",
           25
          ],
          [
           "Nikola Milenković",
           25
          ],
          [
           "Marshall Munetsi",
           27
          ],
          [
           "Mats Wieffer",
           23
          ],
          [
           "Bruno Jordão",
           24
          ],
          [
           "Konstantinos Mavropanos",
           25
          ],
          [
           "Joe Worrall",
           26
          ],
          [
           "Jordan Green",
           28
          ],
          [
           "Jack Harrison",
           26
          ],
          [
           "Erling Haaland",
           22
          ],
          [
           "Kristoffer Klaesson",
           22
          ],
          [
           "Conor Coventry",
           23
          ],
          [
           "Lewis Gibson",
           22
          ],
          [
           "Jean-Philippe Mateta",
           25
          ],
          [
           "Jurrien Timber",
           21
          ],
          [
           "George Hirst",
           24
          ],
          [
           "Alfie Lewis",
           23
          ],
          [
           "Nathan Patterson",
           21
          ],
          [
           "Samuel Kalu",
           25
          ],
          [
           "Josh Knight",
           25
          ],
          [
           "Matt Turner",
           29
          ],
          [
           "Matty Cash",
           25
          ],
          [
           "Akin Famewo",
           24
          ],
          [
           "Ryan Yates",
           25
          ],
          [
           "Jakub Kiwior",
           23
          ],
          [
           "Ben Brereton Díaz",
           24
          ],
          [
           "Aaron Ramsdale",
           24
          ],
          [
           "Thanawat Suengchitthawon",
           23
          ],
          [
           "Brandon Austin",
           24
          ],
          [
           "Morgan Gibbs-White",
           23
          ],
          [
           "Jørgen Strand Larsen",
           23
          ],
          [
           "Andrew Irving",
           23
          ],
          [
           "Tom Edwards",
           24
          ],
          [
           "Peter Gwargis",
           22
          ],
          [
           "Mateusz Bogusz",
           22
          ],
          [
           "Dejan Kulusevski",
           22
          ],
          [
           "Bukayo Saka",
           21
          ],
          [
           "Elijah Dixon-Bonner",
           22
          ],
          [
           "Luis Longstaff",
           22
          ],
          [
           "Tommy Doyle",
           21
          ],
          [
           "Rayhaan Tulloch",
           22
          ],
          [
           "Bali Mumba",
           21
          ],
          [
           "Curtis Jones",
           22
          ],
          [
           "Scott Twine",
           23
          ],
          [
           "Tudor Baluta",
           24
          ],
          [
           "Ethan Galbraith",
           21
          ],
          [
           "Aaron Connolly",
           23
          ],
          [
           "Maxence Lacroix",
           23
          ],
          [
           "Cody Gakpo",
           24
          ],
          [
           "Gabriel Magalhães",
           25
          ],
          [
           "Joshua Zirkzee",
           21
          ],
          [
           "Santiago Bueno",
           24
          ],
          [
           "Ethan Pinnock",
           30
          ],
          [
           "Edouard Mendy",
           31
          ],
          [
           "Michael Obafemi",
           22
          ],
          [
           "Will Smallbone",
           23
          ],
          [
           "Lucas Paquetá",
           25
          ],
          [
           "Louie Moulden",
           21
          ],
          [
           "Omar Marmoush",
           24
          ],
          [
           "Ross Stewart",
           26
          ],
          [
           "Emmanuel Dennis",
           25
          ],
          [
           "Jean-Ricner Bellegarde",
           24
          ],
          [
           "Dominik Szoboszlai",
           22
          ],
          [
           "Jorge Segura",
           26
          ],
          [
           "Adama Diakhaby",
           26
          ],
          [
           "Will Mannion",
           24
          ],
          [
           "Rekeem Harper",
           23
          ],
          [
           "Jack Taylor",
           24
          ],
          [
           "Harvey Rodgers",
           26
          ],
          [
           "Caleb Okoli",
           21
          ],
          [
           "Calvin Bassey",
           23
          ],
          [
           "Benoît Badiashile",
           22
          ],
          [
           "Marc Leonard",
           21
          ],
          [
           "Terry Taylor",
           21
          ],
          [
           "Allan Tchaptchet",
           21
          ],
          [
           "Jayden Bogle",
           22
          ],
          [
           "Nico González",
           21
          ],
          [
           "Armel Bella-Kotchap",
           21
          ],
          [
           "Lyle Foster",
           22
          ],
          [
           "Ben Johnson",
           23
          ],
          [
           "Jens Cajuste",
           23
          ],
          [
           "Joe Aribo",
           26
          ],
          [
           "Vitinho",
           23
          ],
          [
           "Nathan Collins",
           22
          ],
          [
           "Gavin Kilkenny",
           23
          ],
          [
           "Marcos Senesi",
           26
          ],
          [
           "Indiana Vassilev",
           22
          ],
          [
           "Jacob Brown",
           24
          ],
          [
           "Paris Maghoma",
           21
          ],
          [
           "Ben Cottrell",
           21
          ],
          [
           "Brennan Johnson",
           21
          ],
          [
           "Reece James",
           23
          ],
          [
           "Kevin Schade",
           21
          ],
          [
           "Regan Slater",
           23
          ],
          [
           "Lewis Cass",
           23
          ],
          [
           "Crysencio Summerville",
           21
          ],
          [
           "Kiernan Dewsbury-Hall",
           24
          ],
          [
           "Wesley Fofana",
           22
          ],
          [
           "Josko Gvardiol",
           21
          ],
          [
           "Steven Alzate",
           24
          ],
          [
           "Bernardo Rosa",
           22
          ],
          [
           "Manuel Ugarte",
           21
          ],
          [
           "Aaron Wan-Bissaka",
           25
          ],
          [
           "Ryan Gravenberch",
           21
          ],
          [
           "Eberechi Eze",
           24
          ],
          [
           "Cohen Bramall",
           27
          ],
          [
           "Luis Díaz",
           26
          ],
          [
           "Lisandro Martínez",
           25
          ],
          [
           "Chris Mepham",
           25
          ],
          [
           "Djed Spence",
           22
          ],
          [
           "Matty Longstaff",
           23
          ],
          [
           "Taylor Richards",
           22
          ],
          [
           "Ian Maatsen",
           21
          ],
          [
           "Amadou Onana",
           21
          ],
          [
           "Jérémy Doku",
           21
          ],
          [
           "Jake Walker",
           22
          ],
          [
           "Jakub Stolarczyk",
           22
          ],
          [
           "Edo Kayembe",
           25
          ],
          [
           "Vitezslav Jaros",
           21
          ],
          [
           "Pedro Neto",
           23
          ],
          [
           "Maksim Paskotsi",
           20
          ],
          [
           "Siriki Dembélé",
           26
          ],
          [
           "Hákon Rafn Valdimarsson",
           21
          ],
          [
           "Ismaila Coulibaly",
           22
          ],
          [
           "Lucas Bergström",
           21
          ],
          [
           "Daniel Muñoz",
           26
          ],
          [
           "Jorge Cuenca",
           23
          ],
          [
           "Nathan Bishop",
           24
          ],
          [
           "William Saliba",
           21
          ],
          [
           "Dion Sanderson",
           23
          ],
          [
           "Elliot Thorpe",
           22
          ],
          [
           "Nicolás Domínguez",
           24
          ],
          [
           "Dion Pereira",
           24
          ],
          [
           "Ákos Onódi",
           21
          ],
          [
           "Aji Alese",
           22
          ],
          [
           "Taylor Perry",
           21
          ],
          [
           "Riccardo Calafiori",
           21
          ],
          [
           "Rhys Williams",
           22
          ],
          [
           "Neco Williams",
           22
          ],
          [
           "Anthony Driscoll-Glennon",
           23
          ],
          [
           "Anthony Gordon",
           22
          ],
          [
           "Morgan Rogers",
           20
          ],
          [
           "Jacob Ramsey",
           21
          ],
          [
           "Tyreece John-Jules",
           22
          ],
          [
           "Arthur Okonkwo",
           21
          ],
          [
           "Jeremy Ngakia",
           22
          ],
          [
           "Albert Grønbaek",
           22
          ],
          [
           "Joe Hodge",
           20
          ],
          [
           "Dynel Simeu",
           21
          ],
          [
           "Taylor Harwood-Bellis",
           21
          ],
          [
           "Joe Gelhardt",
           21
          ],
          [
           "Tino Livramento",
           20
          ],
          [
           "Noni Madueke",
           21
          ],
          [
           "Alex Mighten",
           20
          ],
          [
           "Nathan Wood",
           21
          ],
          [
           "Daniel Barden",
           22
          ],
          [
           "Tariq Lamptey",
           22
          ],
          [
           "Emmanuel Longelo",
           22
          ],
          [
           "Ryan Giles",
           23
          ],
          [
           "Kaoru Mitoma",
           25
          ],
          [
           "Luke Thomas",
           22
          ],
          [
           "James Garner",
           22
          ],
          [
           "Louie Watson",
           21
          ],
          [
           "Flynn Downes",
           24
          ],
          [
           "Josh Bowler",
           24
          ],
          [
           "Jack Young",
           22
          ],
          [
           "Nathan Ferguson",
           22
          ],
          [
           "Alexandre Jankewitz",
           21
          ],
          [
           "Brandon Williams",
           22
          ],
          [
           "Daniel Batty",
           25
          ],
          [
           "Ellis Simms",
           22
          ],
          [
           "Jackson Smith",
           21
          ],
          [
           "Ryan Longman",
           22
          ],
          [
           "Malcolm Ebiowei",
           19
          ],
          [
           "Luis Sinisterra",
           24
          ],
          [
           "Jesper Lindstrøm",
           23
          ],
          [
           "Julián Araujo",
           21
          ],
          [
           "Matheus Cunha",
           23
          ],
          [
           "Bruno Guimarães",
           25
          ],
          [
           "Jensen Weir",
           21
          ],
          [
           "Jaime Alvarado",
           23
          ],
          [
           "Maximilian Kilman",
           25
          ],
          [
           "Carlos Vinícius",
           28
          ],
          [
           "Karlo Ziger",
           22
          ],
          [
           "Luke Woolfenden",
           24
          ],
          [
           "Tyrese Francois",
           22
          ],
          [
           "Jack Spong",
           21
          ],
          [
           "Armstrong Oko-Flex",
           21
          ],
          [
           "Di'Shon Bernard",
           22
          ],
          [
           "D'Mani Mellor",
           22
          ],
          [
           "Ethan Laird",
           21
          ],
          [
           "Cody Drameh",
           21
          ],
          [
           "Sam Greenwood",
           21
          ],
          [
           "Daniel Adshead",
           21
          ],
          [
           "Luke Cundle",
           21
          ],
          [
           "Haydon Roberts",
           20
          ],
          [
           "Cameron Archer",
           21
          ],
          [
           "Shandon Baptiste",
           25
          ],
          [
           "Alexis Mac Allister",
           24
          ],
          [
           "Robbie Gotts",
           23
          ],
          [
           "Jamie Shackleton",
           23
          ],
          [
           "Luke McNally",
           23
          ],
          [
           "Amad Diallo",
           20
          ],
          [
           "Mykhaylo Mudryk",
           22
          ],
          [
           "Kwasi Sibo",
           25
          ],
          [
           "Georginio Rutter",
           20
          ],
          [
           "Christian Marques",
           20
          ],
          [
           "Kristian Sekularac",
           20
          ],
          [
           "Zak Swanson",
           22
          ],
          [
           "Mikkel Damsgaard",
           22
          ],
          [
           "Sepp van den Berg",
           21
          ],
          [
           "Illan Meslier",
           23
          ],
          [
           "Alex Gilbert",
           21
          ],
          [
           "Rhys Norrington-Davies",
           24
          ],
          [
           "Cheick Doucouré",
           23
          ],
          [
           "Mohammed Kudus",
           22
          ],
          [
           "Darwin Núñez",
           24
          ],
          [
           "Anis Slimane",
           22
          ],
          [
           "Taylor Gardner-Hickman",
           21
          ],
          [
           "Miguel Azeez",
           20
          ],
          [
           "Josh Martin",
           21
          ],
          [
           "Teden Mengi",
           20
          ],
          [
           "Owen Beck",
           21
          ],
          [
           "Pedro Porro",
           23
          ],
          [
           "Alpha Diounkou",
           21
          ],
          [
           "Yasser Larouci",
           22
          ],
          [
           "Oliwier Zych",
           19
          ],
          [
           "Destiny Udogie",
           20
          ],
          [
           "Micky van de Ven",
           21
          ],
          [
           "Harrison Ashby",
           21
          ],
          [
           "Fábio Carvalho",
           20
          ],
          [
           "Jack Clarke",
           22
          ],
          [
           "Oliver Casey",
           22
          ],
          [
           "Niall Huggins",
           22
          ],
          [
           "Lewis O'Brien",
           25
          ],
          [
           "Dan Chesters",
           21
          ],
          [
           "Kyle Taylor",
           23
          ],
          [
           "Victor Kristiansen",
           20
          ],
          [
           "Bart Verbruggen",
           20
          ],
          [
           "Harvey Elliott",
           20
          ],
          [
           "Matty Daly",
           22
          ],
          [
           "James Trafford",
           20
          ],
          [
           "Thomas Dickson-Peters",
           20
          ],
          [
           "Elliot Anderson",
           20
          ],
          [
           "Odel Offiah",
           21
          ],
          [
           "Jeremy Sarmiento",
           20
          ],
          [
           "Dennis Cirkin",
           21
          ],
          [
           "Cole Palmer",
           21
          ],
          [
           "Radu Drăgușin",
           21
          ],
          [
           "Pape Matar Sarr",
           20
          ],
          [
           "Armando Broja",
           21
          ],
          [
           "Joseph Anang",
           23
          ],
          [
           "Josh Wilson-Esbrand",
           20
          ],
          [
           "Jan Paul van Hecke",
           22
          ],
          [
           "Rayan Aït-Nouri",
           22
          ],
          [
           "Chris Richards",
           22
          ],
          [
           "James Furlong",
           20
          ],
          [
           "Ed Turns",
           20
          ],
          [
           "Eiran Cashin",
           21
          ],
          [
           "Harvey White",
           21
          ],
          [
           "CJ Egan-Riley",
           20
          ],
          [
           "Louie Barry",
           19
          ],
          [
           "Charlie Patino",
           19
          ],
          [
           "Lukas Jensen",
           24
          ],
          [
           "Will Dennis",
           22
          ],
          [
           "Anthony Elanga",
           21
          ],
          [
           "James McAtee",
           20
          ],
          [
           "Antoine Semenyo",
           23
          ],
          [
           "Dwight McNeil",
           23
          ],
          [
           "Filip Jørgensen",
           21
          ],
          [
           "Jesurun Rak-Sakyi",
           20
          ],
          [
           "Myles Peart-Harris",
           20
          ],
          [
           "Lewis Bate",
           20
          ],
          [
           "Derek Agyakwa",
           21
          ],
          [
           "Joe Gauci",
           22
          ],
          [
           "Aaron Hickey",
           21
          ],
          [
           "Woyo Coulibaly",
           24
          ],
          [
           "Tiago Cukur",
           20
          ],
          [
           "Beto",
           25
          ],
          [
           "Max Haygarth",
           21
          ],
          [
           "Leif Davis",
           23
          ],
          [
           "Xavier Simons",
           20
          ],
          [
           "Matheus Nunes",
           24
          ],
          [
           "Jean-Clair Todibo",
           23
          ],
          [
           "Sebastian Soto",
           22
          ],
          [
           "Denis Franchi",
           20
          ],
          [
           "Toti",
           24
          ],
          [
           "Hannibal",
           20
          ],
          [
           "Alfie Doughty",
           23
          ],
          [
           "Luke Mbete",
           19
          ],
          [
           "Alex Robertson",
           20
          ],
          [
           "Rasmus Højlund",
           20
          ],
          [
           "Caleb Watts",
           21
          ],
          [
           "Ollie O'Neill",
           20
          ],
          [
           "Liam Delap",
           20
          ],
          [
           "James Hill",
           21
          ],
          [
           "Liam McCarron",
           22
          ],
          [
           "Luke Matheson",
           20
          ],
          [
           "Levi Colwill",
           20
          ],
          [
           "Charlie McNeill",
           19
          ],
          [
           "Chem Campbell",
           20
          ],
          [
           "Dara Costelloe",
           20
          ],
          [
           "Tyler Morton",
           20
          ],
          [
           "Sam McCallum",
           22
          ],
          [
           "Malo Gusto",
           19
          ],
          [
           "Kasey McAteer",
           21
          ],
          [
           "Radek Vítek",
           19
          ],
          [
           "Iliman Ndiaye",
           23
          ],
          [
           "Conor Bradley",
           19
          ],
          [
           "Dale Taylor",
           19
          ],
          [
           "Lucas De Bolle",
           20
          ],
          [
           "Adrion Pajaziti",
           20
          ],
          [
           "João Pedro",
           21
          ],
          [
           "Kaine Kesler-Hayden",
           21
          ],
          [
           "Lewis Dobbin",
           20
          ],
          [
           "Wilfried Gnonto",
           19
          ],
          [
           "Roméo Lavia",
           19
          ],
          [
           "Femi Seriki",
           20
          ],
          [
           "Carlos Miguel",
           24
          ],
          [
           "Keane Lewis-Potter",
           22
          ],
          [
           "Lamare Bogarde",
           19
          ],
          [
           "Ben Greenwood",
           20
          ],
          [
           "Carl Rushworth",
           21
          ],
          [
           "Aaron Ramsey",
           20
          ],
          [
           "Juan Larios",
           19
          ],
          [
           "Jayden Bennetts",
           22
          ],
          [
           "Evan Ferguson",
           18
          ],
          [
           "Enzo Fernández",
           22
          ],
          [
           "Boubacar Traoré",
           21
          ],
          [
           "Jhon Durán",
           19
          ],
          [
           "Lewis Warrington",
           20
          ],
          [
           "Bilal El Khannouss",
           18
          ],
          [
           "Cameron Plain",
           22
          ],
          [
           "Brooklyn Genesini",
           21
          ],
          [
           "Gabriel Martinelli",
           21
          ],
          [
           "Christian Saydee",
           20
          ],
          [
           "Mipo Odubeko",
           20
          ],
          [
           "Aaron Rowe",
           22
          ],
          [
           "Simon Adingra",
           21
          ],
          [
           "Ilya Zabarnyi",
           20
          ],
          [
           "Julio Enciso",
           19
          ],
          [
           "Jarrad Branthwaite",
           20
          ],
          [
           "Leo Fuhr Hjelde",
           19
          ],
          [
           "Marcelo Pitaluga",
           21
          ],
          [
           "Tyler Onyango",
           20
          ],
          [
           "Jota Silva",
           23
          ],
          [
           "Darko Gyabi",
           19
          ],
          [
           "Vini Souza",
           24
          ],
          [
           "Jaden Philogene",
           21
          ],
          [
           "Rodrigo Gomes",
           19
          ],
          [
           "Yasin Ayari",
           19
          ],
          [
           "Marcelo Flores",
           19
          ],
          [
           "Joe Whitworth",
           19
          ],
          [
           "Divin Mubama",
           18
          ],
          [
           "Antwoine Hackford",
           19
          ],
          [
           "Luke Chambers",
           19
          ],
          [
           "Dane Scarlett",
           19
          ],
          [
           "Caleb Taylor",
           20
          ],
          [
           "Morato",
           21
          ],
          [
           "Anthony Mancini",
           22
          ],
          [
           "Emmanuel Agbadou",
           25
          ],
          [
           "Jaidon Anthony",
           23
          ],
          [
           "Charlie Savage",
           19
          ],
          [
           "Moisés Caicedo",
           21
          ],
          [
           "Chadi Riad",
           20
          ],
          [
           "Kamarai Swyer",
           21
          ],
          [
           "Jacob Greaves",
           22
          ],
          [
           "Jay Stansfield",
           20
          ],
          [
           "Tim Iroegbunam",
           19
          ],
          [
           "Rico Lewis",
           18
          ],
          [
           "Kgaogelo Chauke",
           20
          ],
          [
           "Harvey Davies",
           20
          ],
          [
           "Ji-soo Kim",
           18
          ],
          [
           "Kwadwo Baah",
           20
          ],
          [
           "Evanilson",
           23
          ],
          [
           "Jake O'Brien",
           22
          ],
          [
           "Lesley Ugochukwu",
           19
          ],
          [
           "Bobby Clark",
           18
          ],
          [
           "Yerson Mosquera",
           22
          ],
          [
           "Yegor Yarmolyuk",
           19
          ],
          [
           "Enock Agyei",
           18
          ],
          [
           "Tayo Adaramola",
           20
          ],
          [
           "Andrew Moran",
           20
          ],
          [
           "Liam Gibbs",
           20
          ],
          [
           "Antonín Kinský",
           20
          ],
          [
           "Welington",
           22
          ],
          [
           "Milos Kerkez",
           19
          ],
          [
           "Tyrick Mitchell",
           23
          ],
          [
           "Dylan Williams",
           20
          ],
          [
           "Kaide Gordon",
           18
          ],
          [
           "Jack Jenkins",
           21
          ],
          [
           "João Gomes",
           22
          ],
          [
           "Rodrigo Muniz",
           22
          ],
          [
           "Igor Thiago",
           21
          ],
          [
           "Omari Hutchinson",
           20
          ],
          [
           "Caleb Chukwuemeka",
           21
          ],
          [
           "Lino Sousa",
           18
          ],
          [
           "Wilson Odobert",
           18
          ],
          [
           "Savinho",
           19
          ],
          [
           "Matheus França",
           19
          ],
          [
           "Adam Wharton",
           19
          ],
          [
           "Ramón Sosa",
           23
          ],
          [
           "Luca Koleosho",
           18
          ],
          [
           "Kamaldeen Sulemana",
           21
          ],
          [
           "Daniel Jebbison",
           19
          ],
          [
           "Harry Boyes",
           21
          ],
          [
           "Justin Devenny",
           19
          ],
          [
           "Val Adedokun",
           20
          ],
          [
           "Carlos Alcaraz",
           20
          ],
          [
           "Abdukodir Khusanov",
           19
          ],
          [
           "Nicolas Jackson",
           21
          ],
          [
           "David Datro Fofana",
           20
          ],
          [
           "Bobby Thomas",
           22
          ],
          [
           "André",
           21
          ],
          [
           "Mathys Tel",
           18
          ],
          [
           "Ryan Finnigan",
           19
          ],
          [
           "Danilo",
           22
          ],
          [
           "Alejandro Garnacho",
           18
          ],
          [
           "Jack Wells-Morrison",
           19
          ],
          [
           "Luke Harris",
           18
          ],
          [
           "Kobbie Mainoo",
           17
          ],
          [
           "Alfie Pond",
           19
          ],
          [
           "Dango Ouattara",
           21
          ],
          [
           "Michael Kayode",
           18
          ],
          [
           "Maxime Estève",
           20
          ],
          [
           "Bénie Traoré",
           20
          ],
          [
           "Jack Hinchy",
           20
          ],
          [
           "Alex Scott",
           19
          ],
          [
           "Ashley Phillips",
           17
          ],
          [
           "Kaden Rodney",
           19
          ],
          [
           "Nasser Djiga",
           20
          ],
          [
           "Issahaku Fatawu",
           19
          ],
          [
           "Lucas Bergvall",
           17
          ],
          [
           "Bradley Ibrahim",
           19
          ],
          [
           "Mason Burstow",
           20
          ],
          [
           "Ryan Trevitt",
           20
          ],
          [
           "Seán Grehan",
           19
          ],
          [
           "Josh Feeney",
           18
          ],
          [
           "Amario Cozier-Duberry",
           18
          ],
          [
           "Mateus Fernandes",
           18
          ],
          [
           "Oliver Scarles",
           18
          ],
          [
           "Archie Gray",
           17
          ],
          [
           "Leny Yoro",
           17
          ],
          [
           "Zach Abbott",
           17
          ],
          [
           "Mark O'Mahony",
           18
          ],
          [
           "Joe Taylor",
           20
          ],
          [
           "Carlos Baleba",
           19
          ],
          [
           "Facundo Buonanotte",
           18
          ],
          [
           "Matai Akinmboni",
           16
          ],
          [
           "Diego Gómez",
           20
          ],
          [
           "Julio Soler",
           18
          ],
          [
           "Yankuba Minteh",
           18
          ],
          [
           "Ryan Oné",
           16
          ],
          [
           "Enso González",
           18
          ]
         ],
         "hovertemplate": "predicted_value=%{x}<br>market_value_in_million_eur=%{y}<br>name=%{customdata[0]}<br>age=%{customdata[1]}<extra></extra>",
         "legendgroup": "",
         "marker": {
          "color": "#636efa",
          "symbol": "circle"
         },
         "mode": "markers",
         "name": "",
         "showlegend": false,
         "type": "scattergl",
         "x": [
          -0.46310874819755554,
          1.7711619138717651,
          0.7864769697189331,
          -0.3572831451892853,
          24.63583755493164,
          -1.0716257095336914,
          -0.35092708468437195,
          -0.5683968663215637,
          0.6482406854629517,
          -2.8101003170013428,
          -0.2582758665084839,
          -0.24491187930107117,
          42.49152374267578,
          5.47835111618042,
          -0.3123907744884491,
          -0.3123907744884491,
          0.3270537853240967,
          -0.24491187930107117,
          1.6818605661392212,
          1.148441195487976,
          -0.9850765466690063,
          -2.9357831478118896,
          -0.8983192443847656,
          1.578717589378357,
          0.47164878249168396,
          1.7491341829299927,
          0.18143770098686218,
          0.6482406854629517,
          0.6027821898460388,
          -0.35092708468437195,
          0.3718724846839905,
          0.7479408383369446,
          -0.43415579199790955,
          -0.3958193361759186,
          0.4352852404117584,
          0.3161712884902954,
          -0.15891993045806885,
          -0.3572831451892853,
          -0.3123907744884491,
          -0.6444714665412903,
          0.7810292840003967,
          -0.15891993045806885,
          -0.6444714665412903,
          3.1682887077331543,
          2.1801652908325195,
          -0.2683555483818054,
          1.6571474075317383,
          1.1607451438903809,
          -0.16714604198932648,
          -0.28980422019958496,
          3.173736333847046,
          -0.23147381842136383,
          -0.3572831451892853,
          -0.3815537989139557,
          0.32552772760391235,
          1.3051493167877197,
          0.48940029740333557,
          -0.3572831451892853,
          0.33097538352012634,
          -0.4396034777164459,
          2.9264278411865234,
          1.0831866264343262,
          0.7810292840003967,
          0.13896287977695465,
          -0.16436761617660522,
          0.22416366636753082,
          0.09492767602205276,
          0.13582472503185272,
          -0.3123907744884491,
          0.09492767602205276,
          -0.6111308336257935,
          2.389061212539673,
          -0.46713292598724365,
          2.7135207653045654,
          -0.5662384033203125,
          0.08948000520467758,
          1.148441195487976,
          -0.1790483146905899,
          0.1312912106513977,
          -0.15891993045806885,
          -0.3178384304046631,
          -0.030703235417604446,
          0.27876704931259155,
          0.05639153718948364,
          2.631479501724243,
          1.5589970350265503,
          4.881979942321777,
          1.9387128353118896,
          19.371318817138672,
          -0.24576890468597412,
          0.4761822521686554,
          0.5271813869476318,
          37.906314849853516,
          -0.41509559750556946,
          0.2801763117313385,
          1.0825215578079224,
          0.3967490494251251,
          2.389061212539673,
          4.245633125305176,
          1.5953606367111206,
          21.288084030151367,
          2.1048357486724854,
          0.7864769697189331,
          0.5326290130615234,
          -0.6111308336257935,
          0.5768249034881592,
          0.0826752707362175,
          -0.22165095806121826,
          0.23187735676765442,
          0.18143770098686218,
          -0.3123907744884491,
          0.7864769697189331,
          14.788869857788086,
          0.1566745638847351,
          1.3821027278900146,
          0.49302494525909424,
          -0.16436761617660522,
          1.439687728881836,
          0.5219979286193848,
          2.3836135864257812,
          0.5326290130615234,
          0.2624247968196869,
          -0.15891993045806885,
          1.1040068864822388,
          1.2775846719741821,
          0.9986419081687927,
          -0.4495525658130646,
          -0.23147381842136383,
          2.5598812103271484,
          0.2801763117313385,
          -0.6444714665412903,
          1.1140871047973633,
          0.4793204665184021,
          1.1903605461120605,
          0.7864769697189331,
          0.33097538352012634,
          0.6957324147224426,
          2.90454363822937,
          0.33097538352012634,
          3.0293848514556885,
          -0.7390958070755005,
          -0.014524289406836033,
          0.7864769697189331,
          -0.6111308336257935,
          -0.7390958070755005,
          2.7502336502075195,
          1.5067886114120483,
          -0.6954761147499084,
          2.1401798725128174,
          0.33097538352012634,
          15.571290016174316,
          -0.4543342888355255,
          -0.3178384304046631,
          8.661454200744629,
          0.7810292840003967,
          -0.16399499773979187,
          0.7482762932777405,
          1.5535491704940796,
          0.7755273580551147,
          0.4749731719493866,
          1.9930260181427002,
          0.35412099957466125,
          20.67848777770996,
          4.769431114196777,
          -0.6499191522598267,
          2.0011584758758545,
          1.299701452255249,
          3.41778302192688,
          4.680870532989502,
          2.389061212539673,
          2.6390061378479004,
          17.841957092285156,
          0.9962611794471741,
          -0.6444714665412903,
          1.4651422500610352,
          3.8343801498413086,
          1.1661927700042725,
          1.0599716901779175,
          1.7051135301589966,
          1.5668771266937256,
          0.1759900152683258,
          17.66101837158203,
          -0.04133658483624458,
          -0.6444714665412903,
          -0.012951753102242947,
          0.33557960391044617,
          13.220575332641602,
          0.19713746011257172,
          0.031217176467180252,
          1.9209612607955933,
          12.972508430480957,
          3.5910091400146484,
          1.6837337017059326,
          1.0214358568191528,
          1.5553433895111084,
          -0.6996665596961975,
          0.7864769697189331,
          7.523773670196533,
          -3.3145956993103027,
          0.09492767602205276,
          0.5066059231758118,
          -2.5026705265045166,
          71.9527359008789,
          2.1138241291046143,
          1.6685154438018799,
          -0.5662384033203125,
          -0.44078099727630615,
          2.4076526165008545,
          0.33097538352012634,
          -0.8983192443847656,
          1.639395833015442,
          -0.6019894480705261,
          59.85327911376953,
          -0.3148192763328552,
          2.0958447456359863,
          2.640380859375,
          1.9209612607955933,
          2.019120931625366,
          27.02399253845215,
          0.07712779939174652,
          3.0807087421417236,
          -0.03891029581427574,
          0.8373802900314331,
          1.4837883710861206,
          1.56658935546875,
          11.778664588928223,
          2.024568557739258,
          2.1827592849731445,
          9.910003662109375,
          2.311124086380005,
          1.5431522130966187,
          1.0599716901779175,
          28.147045135498047,
          0.8405919671058655,
          8.25516128540039,
          0.24191516637802124,
          -0.8154242038726807,
          39.83007049560547,
          5.006949424743652,
          8.493806838989258,
          0.23896227777004242,
          0.8124672770500183,
          0.2649489641189575,
          1.4827035665512085,
          9.616708755493164,
          0.855933427810669,
          -0.4599359631538391,
          -0.010317115113139153,
          0.8405919671058655,
          8.661454200744629,
          -3.4799644947052,
          2.7425730228424072,
          2.9058303833007812,
          0.5613590478897095,
          29.960317611694336,
          0.07712779939174652,
          -0.40701496601104736,
          6.6360297203063965,
          0.480420857667923,
          0.33097538352012634,
          -0.796751856803894,
          -1.9600359201431274,
          1.483535885810852,
          2.7521908283233643,
          16.285430908203125,
          0.6580867171287537,
          -0.30834656953811646,
          4.661543846130371,
          -0.05151069536805153,
          1.7465887069702148,
          -1.007629156112671,
          8.521912574768066,
          -0.3572831451892853,
          -0.6292010545730591,
          0.14629746973514557,
          1.5013407468795776,
          0.10802019387483597,
          1.0023155212402344,
          5.036372661590576,
          2.737705707550049,
          -2.5319607257843018,
          1.2529408931732178,
          -0.4731418192386627,
          2.473572015762329,
          0.45112499594688416,
          0.4042390286922455,
          0.7810292840003967,
          -1.910500407218933,
          0.18143770098686218,
          4.105452537536621,
          0.038640014827251434,
          0.4749731719493866,
          13.601771354675293,
          0.7864769697189331,
          14.49394416809082,
          1.5820846557617188,
          4.680118083953857,
          0.6705580353736877,
          0.004639444872736931,
          5.692860126495361,
          -0.051262516528367996,
          -2.2266359329223633,
          10.883479118347168,
          1.3936095237731934,
          24.101837158203125,
          7.128378868103027,
          9.453668594360352,
          16.039226531982422,
          6.319963455200195,
          0.7883836627006531,
          -0.3597639501094818,
          0.855933427810669,
          0.03599319979548454,
          0.5417394042015076,
          0.2973518669605255,
          3.964264154434204,
          21.214445114135742,
          5.207887172698975,
          1.6690768003463745,
          1.206653356552124,
          0.8530654311180115,
          14.367576599121094,
          0.4352852404117584,
          16.96208381652832,
          4.811365127563477,
          -0.051262516528367996,
          -0.03346262499690056,
          6.9687323570251465,
          25.88595962524414,
          10.945704460144043,
          -0.2872135043144226,
          6.118528842926025,
          16.857860565185547,
          0.19313651323318481,
          3.297149896621704,
          71.07701110839844,
          0.9166206121444702,
          4.380221366882324,
          5.656430721282959,
          9.174322128295898,
          2.393019676208496,
          0.5943760275840759,
          1.2551273107528687,
          -0.6633391976356506,
          41.040504455566406,
          1.1669456958770752,
          2.2330501079559326,
          -0.7288265228271484,
          3.5098087787628174,
          1.020930528640747,
          13.889886856079102,
          4.649251461029053,
          -1.0372849702835083,
          -1.650256633758545,
          21.309404373168945,
          0.11807321012020111,
          8.929004669189453,
          1.415229082107544,
          2.7403104305267334,
          10.291168212890625,
          15.673142433166504,
          4.963994026184082,
          11.027059555053711,
          11.600630760192871,
          79.04891204833984,
          2.916501522064209,
          -0.3067384362220764,
          0.6377092599868774,
          4.432809352874756,
          0.9564981460571289,
          -0.1928499937057495,
          0.6705580353736877,
          1.665970802307129,
          28.884653091430664,
          9.254822731018066,
          0.8756992816925049,
          0.4371919631958008,
          -0.40313535928726196,
          -0.08055257797241211,
          2.5579240322113037,
          -0.1029222160577774,
          10.772954940795898,
          1.1767587661743164,
          -0.44078099727630615,
          -0.7728617787361145,
          5.627902984619141,
          -0.6966798305511475,
          50.131248474121094,
          2.194758176803589,
          5.692821502685547,
          0.533944308757782,
          2.35302472114563,
          0.9894462823867798,
          1.9791147708892822,
          1.6315252780914307,
          0.1517859846353531,
          42.60434341430664,
          -0.44078099727630615,
          0.505375862121582,
          0.7301506996154785,
          30.02744483947754,
          7.96837854385376,
          1.096335530281067,
          16.285430908203125,
          5.036922931671143,
          1.4044862985610962,
          1.7871230840682983,
          43.17073440551758,
          0.893450915813446,
          27.887426376342773,
          1.4246138334274292,
          0.7867250442504883,
          29.157794952392578,
          4.656096458435059,
          -0.363269180059433,
          -0.5434861183166504,
          1.4277561902999878,
          29.49834632873535,
          0.04759971424937248,
          13.262892723083496,
          0.19365404546260834,
          -0.17659616470336914,
          38.04124450683594,
          3.748678684234619,
          5.692821502685547,
          0.6422447562217712,
          2.410029411315918,
          11.410689353942871,
          13.545137405395508,
          -0.20206761360168457,
          0.31513017416000366,
          0.2260909527540207,
          -0.363269180059433,
          5.7504706382751465,
          19.84436798095703,
          5.333105564117432,
          26.949602127075195,
          6.397378921508789,
          0.1307326853275299,
          9.624373435974121,
          -0.1619204431772232,
          1.0031788349151611,
          12.32930850982666,
          10.904593467712402,
          18.865795135498047,
          10.145601272583008,
          32.21910095214844,
          3.2332980632781982,
          2.5644097328186035,
          -0.44078099727630615,
          1.5026710033416748,
          0.09284089505672455,
          6.474976539611816,
          0.5629370212554932,
          -0.44694986939430237,
          3.6394410133361816,
          0.33632892370224,
          2.6758453845977783,
          2.988980770111084,
          0.10958457738161087,
          7.190243721008301,
          1.6428523063659668,
          0.4150494635105133,
          2.9131548404693604,
          5.207887172698975,
          0.18898333609104156,
          9.079500198364258,
          69.62382507324219,
          27.509197235107422,
          20.53093147277832,
          2.5116608142852783,
          -2.3987069129943848,
          12.547028541564941,
          9.28088665008545,
          4.2689714431762695,
          6.500612258911133,
          0.32057783007621765,
          1.4800890684127808,
          -0.44694986939430237,
          0.5084052681922913,
          0.7331516146659851,
          9.6357421875,
          0.061979640275239944,
          3.1447460651397705,
          15.94387149810791,
          0.14922906458377838,
          2.385545253753662,
          1.8392025232315063,
          13.167622566223145,
          0.0353541374206543,
          16.98375129699707,
          1.7150458097457886,
          1.262940764427185,
          0.25950127840042114,
          0.5009963512420654,
          8.208130836486816,
          -0.1325366497039795,
          -0.363269180059433,
          1.289880394935608,
          -0.5508123636245728,
          29.133886337280273,
          34.32074737548828,
          34.23004913330078,
          49.07737731933594,
          14.643261909484863,
          11.503376007080078,
          -0.2823520600795746,
          -1.419952392578125,
          -0.3974669873714447,
          -0.5827246904373169,
          10.658390045166016,
          3.4339823722839355,
          0.06639286875724792,
          -2.478733777999878,
          33.84101867675781,
          17.958879470825195,
          2.194758176803589,
          5.031928539276123,
          0.13403449952602386,
          18.448102951049805,
          53.106292724609375,
          4.81402587890625,
          1.0374919176101685,
          1.761966347694397,
          39.55442428588867,
          -0.9235795140266418,
          2.194758176803589,
          0.6411941051483154,
          64.4282455444336,
          75.2420883178711,
          3.02876615524292,
          1.3136628866195679,
          -0.061575159430503845,
          -0.2434753030538559,
          4.4016594886779785,
          18.64275360107422,
          0.15439732372760773,
          0.148492693901062,
          0.6466417908668518,
          19.87169075012207,
          4.705477237701416,
          0.12898534536361694,
          -1.2011140584945679,
          1.3272963762283325,
          2.0053982734680176,
          3.478017568588257,
          13.694483757019043,
          0.9166206121444702,
          0.5050811171531677,
          1.3944311141967773,
          1.5553392171859741,
          1.9521037340164185,
          11.359041213989258,
          15.923466682434082,
          3.582043170928955,
          54.00796890258789,
          2.7566699981689453,
          10.359007835388184,
          17.117456436157227,
          -0.5270319581031799,
          17.55418586730957,
          19.99454689025879,
          1.8646266460418701,
          31.43071746826172,
          3.251340627670288,
          2.0004360675811768,
          12.153157234191895,
          27.561237335205078,
          1.4044862985610962,
          0.5745437741279602,
          4.691190719604492,
          0.39279410243034363,
          23.72003936767578,
          0.29556334018707275,
          2.753310441970825,
          -0.6953499913215637,
          70.20481872558594,
          1.350395917892456,
          0.21733032166957855,
          19.9832820892334,
          2.7065341472625732,
          3.4399921894073486,
          -0.17342841625213623,
          22.863815307617188,
          19.720571517944336,
          64.50926971435547,
          29.48888397216797,
          2.541245460510254,
          -0.17170462012290955,
          5.039935111999512,
          27.0819149017334,
          2.2152700424194336,
          23.603641510009766,
          0.5755285024642944,
          15.711763381958008,
          9.010724067687988,
          0.29904690384864807,
          2.5939130783081055,
          0.9456714391708374,
          5.929256439208984,
          0.8241353034973145,
          14.42635726928711,
          0.6382544636726379,
          0.8081731200218201,
          13.07700252532959,
          18.43878173828125,
          14.85479736328125,
          -0.5214295387268066,
          54.30035400390625,
          4.67771577835083,
          18.39447021484375,
          -0.2823520600795746,
          1.9791147708892822,
          -0.6473103165626526,
          18.171688079833984,
          27.729278564453125,
          1.4942995309829712,
          2.0388875007629395,
          43.900733947753906,
          1.0815069675445557,
          33.65580368041992,
          30.96883773803711,
          -0.10019879788160324,
          0.5862929821014404,
          0.5209845304489136,
          15.947996139526367,
          1.6053664684295654,
          4.964400768280029,
          1.2437957525253296,
          17.525602340698242,
          0.5042295455932617,
          1.3381909132003784,
          25.990659713745117,
          1.1767587661743164,
          0.6912392973899841,
          17.35877799987793,
          21.052953720092773,
          12.692047119140625,
          3.2428014278411865,
          -0.3209477365016937,
          6.2194671630859375,
          -0.27832597494125366,
          55.24231719970703,
          2.5253524780273438,
          20.36304473876953,
          20.556066513061523,
          37.404884338378906,
          9.762741088867188,
          13.437019348144531,
          6.536843776702881,
          0.4604833722114563,
          0.9126943349838257,
          32.37373733520508,
          1.2757331132888794,
          36.24428176879883,
          4.270597457885742,
          0.5829312205314636,
          1.6704555749893188,
          3.597959518432617,
          68.8927001953125,
          2.5017189979553223,
          3.6813204288482666,
          -0.18219837546348572,
          7.093327045440674,
          9.762741088867188,
          17.74030876159668,
          2.026628255844116,
          0.4488767087459564,
          1.443189263343811,
          9.308149337768555,
          78.01443481445312,
          0.6588466763496399,
          0.17329508066177368,
          0.9353756308555603,
          -0.6547491550445557,
          49.50074005126953,
          39.10944366455078,
          49.82149124145508,
          3.0263891220092773,
          0.035139720886945724,
          0.31489765644073486,
          18.773435592651367,
          11.841033935546875,
          4.800931453704834,
          1.591381311416626,
          0.4116744101047516,
          4.310528755187988,
          3.93337082862854,
          3.1470947265625,
          35.09941864013672,
          5.901525497436523,
          31.38254165649414,
          69.40030670166016,
          0.662821352481842,
          19.855037689208984,
          1.521131992340088,
          18.722078323364258,
          29.706130981445312,
          19.18661117553711,
          20.367938995361328,
          21.22047996520996,
          44.91295623779297,
          18.258466720581055,
          0.7355983853340149,
          1.4852290153503418,
          1.5498677492141724,
          17.98657989501953,
          53.051002502441406,
          4.255125522613525,
          0.15378117561340332,
          19.409889221191406,
          0.4933260977268219,
          1.3504953384399414,
          -0.8771823048591614,
          -0.7998062372207642,
          13.27243423461914,
          20.4682559967041,
          8.187467575073242,
          13.271928787231445,
          23.935012817382812,
          22.714370727539062,
          6.811359882354736,
          55.83483123779297,
          -0.08055257797241211,
          20.884763717651367,
          69.69525146484375,
          4.695879936218262,
          0.9126943349838257,
          7.408048152923584,
          7.283464431762695,
          0.9672741293907166,
          23.34071922302246,
          21.303091049194336,
          0.7935802340507507,
          2.0992379188537598,
          17.7313289642334,
          72.86424255371094,
          26.254472732543945,
          4.690232753753662,
          1.5824568271636963,
          0.30688241124153137,
          14.001428604125977,
          23.831218719482422,
          0.6588466763496399,
          3.1416471004486084,
          15.157175064086914,
          1.350395917892456,
          63.85610580444336,
          15.969168663024902,
          17.568185806274414,
          34.3607063293457,
          1.350395917892456,
          21.962055206298828,
          11.173990249633789,
          1.1709188222885132,
          49.131839752197266,
          5.039935111999512,
          1.051354169845581,
          0.6807441115379333,
          1.3327440023422241,
          29.561981201171875,
          38.83295440673828,
          22.01677703857422,
          37.06585693359375,
          20.138898849487305,
          1.4566476345062256,
          78.23751831054688,
          2.0689609050750732,
          3.871108055114746,
          81.38470458984375,
          0.6533989906311035,
          33.752742767333984,
          52.105098724365234,
          1.350395917892456,
          20.974393844604492,
          1.350395917892456,
          0.46797293424606323,
          0.9339825510978699,
          11.173990249633789,
          26.9119930267334,
          1.795543909072876,
          1.6238911151885986,
          10.259048461914062,
          49.518768310546875,
          -0.748650074005127,
          13.137402534484863,
          15.975689888000488,
          1.2860044240951538,
          7.067231178283691,
          53.67830276489258,
          5.673367977142334,
          10.566025733947754,
          0.514598548412323,
          8.287507057189941,
          0.6633039712905884,
          5.355833053588867,
          4.651844501495361,
          -0.3594781756401062,
          2.6759791374206543,
          18.992778778076172,
          2.3416402339935303,
          0.5424004793167114,
          1.2757331132888794,
          3.0473787784576416,
          1.3944311141967773,
          34.45759582519531,
          13.963993072509766,
          2.0862553119659424,
          0.7805145978927612,
          1.9856804609298706,
          31.74773597717285,
          2.7313826084136963,
          44.981597900390625,
          0.042948611080646515,
          29.47048568725586,
          1.5229551792144775,
          0.3324452340602875,
          19.38658332824707,
          7.408048152923584,
          29.57600975036621,
          3.401517868041992,
          65.5406494140625,
          0.2066357135772705,
          1.640607237815857,
          1.3450477123260498,
          20.676856994628906,
          0.8359179496765137,
          1.3076317310333252,
          0.22741003334522247,
          41.78544998168945,
          0.4913993775844574,
          35.35533905029297,
          3.1217570304870605,
          5.98382043838501,
          56.42369842529297,
          3.2587366104125977,
          77.54934692382812,
          4.614508628845215,
          22.758405685424805,
          5.711620330810547,
          15.068178176879883,
          18.955318450927734,
          4.9420552253723145,
          5.399162769317627,
          18.7540340423584,
          4.682405471801758,
          3.1470947265625,
          0.3312230110168457,
          1.4421916007995605,
          1.8205914497375488,
          7.381952285766602,
          4.924256801605225,
          103.43083190917969,
          20.47470474243164,
          3.3944361209869385,
          34.229156494140625,
          33.48204803466797,
          17.31083106994629,
          0.34352684020996094,
          0.4564198851585388,
          12.736082077026367,
          22.369461059570312,
          26.210437774658203,
          25.232589721679688,
          21.938072204589844,
          5.5375871658325195,
          1.5751482248306274,
          2.787811279296875,
          18.866430282592773,
          5.259172439575195,
          0.12629207968711853,
          18.52584457397461,
          143.22198486328125,
          2.813589572906494,
          1.2300776243209839,
          1.2179960012435913,
          10.710376739501953,
          38.16669845581055,
          0.9992042183876038,
          0.14304502308368683,
          11.737548828125,
          4.1550517082214355,
          0.8948943018913269,
          5.504428863525391,
          29.53197479248047,
          0.2515281140804291,
          5.672054290771484,
          4.744553089141846,
          17.384145736694336,
          28.557159423828125,
          0.4604833722114563,
          3.529930591583252,
          13.27255916595459,
          4.938814163208008,
          1.3272963762283325,
          2.541245460510254,
          1.0881335735321045,
          2.624586343765259,
          36.12101364135742,
          81.61319732666016,
          -0.0114296181127429,
          0.10300328582525253,
          5.033532619476318,
          0.44563913345336914,
          1.1958192586898804,
          30.555103302001953,
          3.882453203201294,
          3.3092939853668213,
          1.957749366760254,
          7.817338943481445,
          24.36358642578125,
          24.668771743774414,
          34.2429313659668,
          13.573851585388184,
          3.850766181945801,
          9.188902854919434,
          26.30809783935547,
          3.7096502780914307,
          2.5357978343963623,
          32.43999099731445,
          0.8041096329689026,
          15.008626937866211,
          2.7287657260894775,
          15.486507415771484,
          10.826059341430664,
          31.163066864013672,
          0.6588466763496399,
          1.7790844440460205,
          -0.12311495840549469,
          1.247604250907898,
          0.8894466161727905,
          0.17329508066177368,
          5.717703819274902,
          13.495331764221191,
          37.173126220703125,
          1.3573518991470337,
          1.1694447994232178,
          0.2025722861289978,
          6.783092021942139,
          38.508392333984375,
          11.000316619873047,
          1.7558952569961548,
          11.057472229003906,
          6.1357316970825195,
          12.027514457702637,
          1.640607237815857,
          14.687567710876465,
          2.7607858180999756,
          14.359016418457031,
          2.0751841068267822,
          4.715329647064209,
          0.6032755374908447,
          -0.5995050072669983,
          23.05061912536621,
          68.14559936523438,
          9.972827911376953,
          0.9004420638084412,
          -0.18219837546348572,
          5.186110496520996,
          9.015167236328125,
          49.032806396484375,
          38.8189697265625,
          6.729760646820068,
          0.1252935528755188,
          18.33631706237793,
          35.2526969909668,
          36.89900588989258,
          22.435104370117188,
          -2.3847267627716064,
          49.62590408325195,
          32.33528137207031,
          5.375855445861816,
          13.709362983703613,
          3.667956590652466,
          1.4552887678146362,
          11.260017395019531,
          18.665874481201172,
          29.588220596313477,
          0.8854860067367554,
          0.2025722861289978,
          1.6883862018585205,
          -0.8049108982086182,
          37.81608581542969,
          1.4052300453186035,
          4.405330657958984,
          1.3410590887069702,
          3.4056479930877686,
          0.7075590491294861,
          10.292047500610352,
          11.173990249633789,
          0.7627630829811096,
          35.176246643066406,
          1.614201545715332,
          0.7500609755516052,
          15.68545150756836,
          0.6450387835502625,
          1.228796362876892,
          1.6050881147384644,
          1.0750694274902344,
          9.716231346130371,
          5.643852233886719,
          10.615596771240234,
          0.8140835165977478,
          19.171743392944336,
          6.905843257904053,
          26.428699493408203,
          1.588961124420166,
          2.5788910388946533,
          4.758086681365967,
          2.3091166019439697,
          1.687562346458435,
          1.9327623844146729,
          4.992427825927734,
          7.329273700714111,
          32.77381896972656,
          24.492094039916992,
          1.8932641744613647,
          0.788206160068512,
          0.7777199745178223,
          19.658926010131836,
          0.7479187846183777,
          4.194502353668213,
          4.005842208862305,
          13.828075408935547,
          7.895164966583252,
          1.2130526304244995,
          3.0304276943206787,
          3.1771602630615234,
          0.3990272283554077,
          4.305553913116455,
          1.1903716325759888,
          14.695210456848145,
          0.4550357162952423,
          1.1912732124328613,
          0.7755773067474365,
          1.7521876096725464,
          3.2357773780822754,
          18.393301010131836,
          15.26686954498291,
          8.147459983825684,
          34.57524871826172,
          41.8033447265625,
          1.0218982696533203,
          0.25067099928855896,
          20.4682559967041,
          12.872490882873535,
          0.01986399106681347,
          0.5121451020240784,
          1.4552887678146362,
          0.6089003682136536,
          1.3241827487945557,
          5.545949935913086,
          1.6228394508361816,
          8.11713695526123,
          4.547281742095947,
          3.729461193084717,
          0.7830531001091003,
          2.277678966522217,
          1.4715174436569214,
          8.776052474975586,
          4.626286029815674,
          20.267396926879883,
          0.5184246301651001,
          3.1416471004486084,
          1.289415717124939,
          22.1027774810791,
          14.143293380737305,
          0.1678474098443985,
          18.121320724487305,
          0.7615472674369812,
          0.35401371121406555,
          -0.42233696579933167,
          20.231786727905273,
          8.973180770874023,
          20.974393844604492,
          0.46537116169929504,
          2.2397804260253906,
          14.743121147155762,
          19.19417953491211,
          40.84464645385742,
          4.726543426513672,
          1.1780192852020264,
          0.8972638249397278,
          1.9701517820358276,
          3.5946085453033447,
          0.3970915973186493,
          30.139938354492188,
          0.7817451357841492,
          3.393343687057495,
          0.8839629888534546,
          16.542116165161133,
          8.85493278503418,
          0.388114869594574,
          18.008420944213867,
          5.542414665222168,
          0.7777199745178223,
          0.19179147481918335,
          5.060804843902588,
          1.0216172933578491,
          0.3257753551006317,
          6.334568500518799,
          2.573636770248413,
          29.751935958862305,
          0.7885007858276367,
          2.2229738235473633,
          0.41385751962661743,
          3.8492445945739746,
          0.6143480539321899,
          5.406026363372803,
          3.271223306655884,
          11.259822845458984,
          8.99885368347168,
          23.919849395751953,
          20.55810546875,
          0.1974889189004898,
          2.335545063018799,
          7.088052272796631,
          21.948293685913086,
          10.710376739501953,
          0.6143480539321899,
          0.6143480539321899,
          2.384218692779541,
          2.3660480976104736,
          1.8717819452285767,
          3.6297452449798584,
          4.376645088195801,
          0.11809994280338287,
          0.624360203742981,
          20.19596290588379,
          6.409790992736816,
          4.930508136749268,
          18.7540340423584,
          2.959738254547119,
          1.6712721586227417,
          3.0593297481536865,
          2.5604095458984375,
          0.41385751962661743,
          3.4766457080841064,
          20.386642456054688,
          1.648798942565918,
          0.7885007858276367,
          12.862783432006836,
          0.629824161529541,
          1.4443509578704834,
          1.2944343090057373,
          36.76869583129883,
          22.106407165527344,
          0.9311906099319458,
          0.6781627535820007,
          2.8643643856048584,
          9.807234764099121,
          1.171423316001892,
          2.9508395195007324,
          0.1442755162715912,
          6.023608684539795,
          0.7885007858276367,
          1.0811628103256226,
          3.2741808891296387,
          2.656775951385498,
          1.185038447380066,
          2.6801249980926514,
          10.258191108703613,
          0.7764511108398438,
          1.6435271501541138,
          0.9147054553031921,
          5.390416145324707,
          4.237259387969971,
          15.919534683227539,
          0.9783433079719543,
          0.7586995959281921,
          3.160102128982544,
          3.7823147773742676,
          1.5753284692764282,
          -0.18260681629180908,
          0.6266518831253052,
          18.121320724487305,
          1.5159846544265747,
          1.0567073822021484,
          5.0612616539001465,
          6.4758076667785645,
          0.2534307539463043,
          1.537803053855896,
          16.611425399780273,
          1.9570178985595703,
          0.33626222610473633,
          1.550082802772522,
          3.359945058822632,
          7.708520412445068,
          0.47106245160102844,
          2.231163501739502,
          10.677624702453613,
          3.8692030906677246,
          7.039687156677246,
          0.2500910758972168,
          0.29607096314430237,
          0.34323298931121826,
          0.28726592659950256,
          46.257450103759766,
          0.26951444149017334,
          1.2672145366668701,
          0.44563913345336914,
          3.4833335876464844,
          21.90302276611328,
          14.8753662109375,
          4.718018054962158,
          1.960817575454712,
          -0.5604756474494934,
          1.10725998878479,
          1.593206524848938,
          4.921081066131592,
          1.5919911861419678,
          5.331608772277832,
          4.94766092300415,
          1.6986147165298462,
          3.8830676078796387,
          1.2494632005691528,
          1.2672145366668701,
          0.35757020115852356,
          0.20635797083377838,
          6.431722640991211,
          0.7885007858276367,
          15.726225852966309,
          0.6637699007987976,
          5.478880882263184,
          7.9520721435546875,
          2.292950391769409,
          8.862374305725098,
          1.9585896730422974,
          0.7586995959281921,
          5.573783874511719,
          1.3248158693313599,
          4.273996353149414,
          5.091064453125,
          0.7830531001091003,
          -0.1728888899087906,
          0.263889878988266,
          1.9701517820358276,
          21.881555557250977,
          0.5436366200447083,
          4.970563888549805,
          2.6237900257110596,
          5.751225471496582,
          2.1725165843963623,
          0.8922483325004578,
          1.9951156377792358,
          0.9015365839004517,
          0.19712461531162262,
          3.4629065990448,
          3.6732869148254395,
          2.548074960708618,
          18.678964614868164,
          0.030644789338111877,
          4.1488471031188965,
          0.5004551410675049,
          12.152434349060059,
          7.088052272796631,
          2.2447080612182617,
          2.5823569297790527,
          1.4525842666625977,
          2.465212106704712,
          9.7188720703125,
          18.370712280273438,
          7.744995594024658,
          6.080509185791016,
          4.511931419372559,
          2.7369542121887207,
          20.52210235595703,
          3.6439876556396484,
          0.37532174587249756,
          0.2617167532444,
          0.4105915427207947,
          11.491345405578613,
          3.9645326137542725,
          3.529719114303589,
          3.529719114303589,
          0.4997544288635254,
          9.888908386230469,
          5.047353744506836,
          0.45097222924232483,
          25.907350540161133,
          5.113918781280518,
          1.43743896484375,
          1.8507641553878784,
          1.272985577583313,
          0.5303462743759155,
          2.8538148403167725,
          0.4105915427207947,
          6.0991315841674805,
          2.575469970703125,
          0.33081457018852234,
          3.0928802490234375,
          6.4134979248046875,
          1.3112497329711914,
          2.3092377185821533,
          2.0142481327056885,
          5.543134689331055,
          1.6702146530151367,
          2.217409610748291,
          0.47189152240753174,
          0.4138661026954651,
          1.8952313661575317,
          4.405692100524902,
          1.8186640739440918,
          1.2162607908248901,
          3.522165060043335,
          1.6676992177963257,
          1.273846983909607,
          0.26951444149017334,
          0.43653860688209534,
          1.115944504737854,
          0.09326217323541641,
          1.8685157299041748,
          1.483820915222168,
          0.28726592659950256,
          1.1419826745986938,
          0.6313305497169495,
          3.6095192432403564
         ],
         "xaxis": "x",
         "y": [
          0.1,
          1.5,
          1,
          0.1,
          15,
          0.075,
          0.2,
          0.15,
          0.6,
          0.2,
          0.125,
          0.15,
          40,
          4,
          0.15,
          0.15,
          0.8,
          0.2,
          2,
          0.9,
          0.3,
          0.1,
          0.1,
          0.6,
          0.45,
          1,
          0.5,
          0.8,
          0.5,
          0.1,
          0.3,
          0.3,
          0.15,
          0.05,
          0.25,
          0.6,
          0.3,
          0.2,
          0.15,
          0.1,
          0.3,
          0.3,
          0.1,
          2.5,
          0.8,
          0.2,
          1,
          0.4,
          0.2,
          0.15,
          2,
          0.3,
          0.05,
          0.25,
          0.15,
          1.2,
          0.35,
          0.2,
          0.5,
          0.3,
          2,
          0.3,
          0.4,
          0.15,
          0.25,
          0.4,
          0.25,
          0.2,
          0.15,
          0.3,
          0.1,
          1,
          0.6,
          2.5,
          0.1,
          0.3,
          0.9,
          0.3,
          0.45,
          0.3,
          0.2,
          0.15,
          0.45,
          0.3,
          1.5,
          1,
          2.5,
          1,
          28,
          0.25,
          0.4,
          0.9,
          38,
          0.5,
          0.2,
          1.5,
          0.3,
          1.5,
          3,
          1,
          20,
          1,
          0.6,
          0.75,
          0.15,
          0.4,
          0.35,
          0.25,
          0.1,
          0.5,
          0.25,
          0.6,
          15,
          0.1,
          1,
          0.5,
          0.25,
          0.8,
          0.6,
          0.7,
          0.5,
          0.7,
          0.25,
          0.5,
          1.2,
          0.8,
          0.3,
          0.025,
          1.8,
          0.2,
          0.2,
          1,
          0.4,
          0.275,
          0.4,
          0.3,
          0.6,
          2,
          0.25,
          7,
          0.15,
          0.175,
          0.5,
          0.2,
          0.15,
          1.8,
          0.6,
          0.15,
          1,
          0.4,
          22,
          0.15,
          0.15,
          12,
          0.3,
          0.3,
          0.25,
          0.4,
          0.4,
          0.8,
          2,
          1,
          16,
          2,
          0.1,
          2,
          1.2,
          2.5,
          3,
          1.5,
          13,
          9,
          0.8,
          0.15,
          2.5,
          2.5,
          0.3,
          0.7,
          0.9,
          1.5,
          0.5,
          14,
          0.3,
          0.15,
          0.7,
          0.5,
          12,
          0.2,
          0.25,
          2,
          8,
          3.5,
          0.7,
          0.6,
          1.2,
          0.05,
          0.5,
          9,
          0.25,
          0.3,
          0.5,
          0.175,
          70,
          0.6,
          1.2,
          0.25,
          0.1,
          1.8,
          0.3,
          0.15,
          0.85,
          0.2,
          60,
          0.25,
          1,
          1.2,
          1.2,
          2,
          25,
          0.2,
          2.8,
          0.125,
          1.5,
          0.175,
          0.8,
          11,
          1.2,
          0.6,
          5,
          1.2,
          1.5,
          0.7,
          25,
          0.25,
          7,
          0.3,
          0.1,
          45,
          5,
          8,
          0.5,
          1,
          0.3,
          0.6,
          4,
          0.5,
          0.3,
          0.9,
          0.5,
          10,
          0.25,
          3,
          2.5,
          2.5,
          28,
          0.6,
          0.2,
          3,
          1,
          0.3,
          0.2,
          0.6,
          1.5,
          1.5,
          10,
          1,
          0.05,
          2,
          0.3,
          2.5,
          0.05,
          8,
          0.2,
          0.125,
          0.5,
          1.2,
          0.15,
          1,
          6,
          2,
          0.1,
          0.7,
          0.15,
          2,
          0.45,
          0.9,
          0.4,
          0.25,
          0.8,
          2,
          0.3,
          1,
          16,
          0.7,
          16,
          0.5,
          2.5,
          0.8,
          0.4,
          10,
          0.9,
          0.45,
          6,
          1.2,
          17,
          5,
          8,
          12,
          7,
          0.6,
          0.3,
          0.6,
          0.7,
          0.25,
          0.4,
          1.8,
          12,
          2,
          0.8,
          0.7,
          0.25,
          9.5,
          0.3,
          25,
          4.5,
          0.8,
          0.4,
          6,
          22,
          9,
          0.35,
          10,
          12,
          0.15,
          0.9,
          60,
          0.6,
          2.2,
          10,
          8,
          2,
          0.75,
          1.2,
          0.45,
          45,
          1.5,
          2,
          0.15,
          2.5,
          0.1,
          12,
          2.5,
          0.3,
          0.125,
          35,
          1,
          6.5,
          2,
          3.5,
          8,
          16,
          1.5,
          16,
          8,
          70,
          1.2,
          0.2,
          0.25,
          2,
          0.8,
          0.25,
          1.5,
          0.9,
          28,
          9,
          1,
          0.45,
          0.2,
          0.175,
          1.5,
          0.3,
          6,
          1,
          0.35,
          0.2,
          3.5,
          0.15,
          35,
          1.8,
          4.5,
          0.6,
          0.9,
          0.9,
          1.2,
          1,
          0.35,
          25,
          0.2,
          0.1,
          1.2,
          20,
          9,
          0.7,
          18,
          3.2,
          0.85,
          2,
          30,
          0.8,
          35,
          0.6,
          0.275,
          25,
          1.5,
          0.25,
          0.55,
          0.35,
          38,
          0.35,
          12,
          0.35,
          0.3,
          35,
          4,
          3.8,
          0.2,
          2.2,
          4.5,
          10,
          0.025,
          0.9,
          0.2,
          0.2,
          3,
          18,
          7,
          40,
          3,
          0.2,
          10,
          0.15,
          0.6,
          20,
          18,
          15,
          15,
          27,
          2.2,
          3.5,
          0.3,
          1.8,
          0.35,
          5,
          0.3,
          0.2,
          2.5,
          0.15,
          3.5,
          3,
          0.3,
          15,
          0.9,
          0.3,
          2.5,
          6,
          0.4,
          16,
          75,
          40,
          12,
          2,
          0.3,
          9,
          4,
          12,
          5,
          1,
          3,
          0.2,
          0.4,
          1,
          18,
          0.35,
          1.2,
          25,
          0.25,
          8,
          0.6,
          8,
          0.175,
          10,
          1,
          1.2,
          0.3,
          0.5,
          3.5,
          0.2,
          0.2,
          1.2,
          0.025,
          20,
          28,
          40,
          45,
          7,
          6,
          0.4,
          0.6,
          0.2,
          0.15,
          18,
          3.5,
          0.35,
          0.25,
          35,
          15,
          1.5,
          2.2,
          0.6,
          20,
          48,
          3.5,
          0.35,
          1.5,
          40,
          0.075,
          1.5,
          0.45,
          75,
          80,
          3.5,
          1.5,
          0.35,
          0.15,
          10,
          28,
          0.15,
          0.125,
          0.3,
          14,
          1.5,
          0.25,
          0.3,
          0.2,
          1,
          4,
          12,
          0.5,
          0.9,
          1.5,
          6,
          1,
          10,
          10,
          2,
          30,
          1.8,
          18,
          12,
          0.125,
          13,
          25,
          0.2,
          50,
          2.5,
          2.5,
          8,
          22,
          1.2,
          0.9,
          7,
          0.5,
          22,
          0.225,
          2,
          0.3,
          80,
          1.2,
          0.2,
          15,
          1.5,
          3,
          0.125,
          20,
          18,
          80,
          30,
          5,
          0.5,
          4.5,
          25,
          2.5,
          25,
          0.35,
          20,
          16,
          0.25,
          1.8,
          0.15,
          7,
          1.2,
          20,
          0.8,
          0.25,
          18,
          17,
          35,
          0.075,
          32,
          4,
          12,
          0.35,
          2,
          0.25,
          13,
          15,
          0.3,
          0.5,
          35,
          0.3,
          38,
          40,
          0.35,
          0.25,
          0.15,
          16,
          1.8,
          2.8,
          0.3,
          16,
          0.25,
          0.8,
          25,
          0.7,
          2,
          12,
          20,
          20,
          2,
          0.2,
          15,
          0.25,
          60,
          2.5,
          25,
          18,
          25,
          3,
          8,
          15,
          0.25,
          0.3,
          25,
          0.5,
          25,
          3.5,
          1.2,
          1.2,
          2.8,
          60,
          0.8,
          3,
          0.15,
          4.5,
          4.5,
          9,
          0.2,
          0.9,
          0.5,
          4,
          65,
          0.4,
          0.15,
          0.3,
          3.8,
          38,
          35,
          80,
          2,
          0.1,
          0.7,
          13,
          22,
          5,
          0.15,
          0.075,
          7,
          4.5,
          2,
          40,
          4,
          16,
          75,
          0.5,
          16,
          0.7,
          12,
          25,
          20,
          18,
          38,
          50,
          13,
          0.8,
          0.4,
          1,
          18,
          50,
          2.2,
          0.5,
          28,
          0.075,
          0.45,
          0.15,
          0.3,
          16,
          25,
          12,
          6,
          38,
          28,
          12,
          50,
          0.3,
          25,
          50,
          5,
          0.5,
          4.5,
          4.5,
          0.4,
          28,
          15,
          0.7,
          1,
          15,
          80,
          20,
          3,
          0.3,
          0.2,
          6,
          18,
          0.9,
          1.5,
          7,
          0.9,
          65,
          25,
          12,
          70,
          1.5,
          32,
          12,
          0.8,
          35,
          3.5,
          0.3,
          0.15,
          0.5,
          40,
          60,
          27,
          38,
          35,
          0.2,
          90,
          2.8,
          2,
          90,
          0.45,
          45,
          75,
          1.2,
          18,
          0.8,
          0.25,
          0.4,
          15,
          15,
          6,
          1.2,
          4,
          30,
          0.2,
          10,
          35,
          0.6,
          16,
          48,
          3.5,
          10,
          0.2,
          3,
          0.4,
          13,
          3,
          0.075,
          1.8,
          30,
          2.2,
          0.125,
          1.8,
          1,
          3.5,
          28,
          18,
          1.5,
          0.3,
          2,
          35,
          0.9,
          35,
          0.175,
          17,
          0.3,
          0.3,
          18,
          12,
          30,
          1.4,
          50,
          0.35,
          3.5,
          0.35,
          18,
          0.3,
          1,
          0.15,
          50,
          0.3,
          35,
          5,
          17,
          45,
          3.5,
          55,
          5,
          35,
          3,
          12,
          22,
          10,
          3.5,
          25,
          6,
          2,
          0.6,
          0.5,
          0.5,
          4,
          7,
          110,
          15,
          2.2,
          20,
          25,
          18,
          0.25,
          0.15,
          7,
          35,
          20,
          25,
          18,
          9,
          7,
          1.3,
          15,
          12,
          0.125,
          22,
          180,
          1.8,
          1.5,
          0.5,
          7,
          42,
          0.8,
          0.1,
          16,
          2.5,
          0.9,
          8,
          25,
          0.3,
          11,
          20,
          16,
          38,
          0.3,
          0.3,
          30,
          11,
          0.8,
          1.5,
          0.25,
          1.2,
          55,
          110,
          0.3,
          0.15,
          5,
          0.2,
          0.9,
          17,
          2.8,
          2.8,
          0.6,
          4,
          17,
          55,
          50,
          9,
          8,
          14,
          18,
          5,
          3.5,
          45,
          0.2,
          6,
          2.8,
          10,
          10,
          40,
          0.3,
          0.6,
          0.15,
          0.45,
          1.2,
          0.25,
          10,
          15,
          40,
          0.3,
          0.3,
          0.8,
          3.8,
          10,
          20,
          7,
          10,
          6,
          11,
          4,
          22,
          0.5,
          22,
          1,
          6,
          0.35,
          0.175,
          30,
          65,
          20,
          2.8,
          0.2,
          12,
          25,
          55,
          75,
          4,
          0.075,
          25,
          22,
          30,
          40,
          0.6,
          75,
          50,
          8,
          10,
          1.5,
          0.4,
          12,
          42,
          28,
          0.075,
          0.25,
          5,
          0.15,
          28,
          0.2,
          2,
          0.9,
          1,
          0.5,
          9,
          5,
          0.3,
          55,
          4,
          0.25,
          15,
          0.2,
          0.15,
          1.2,
          0.35,
          4.5,
          2,
          20,
          0.25,
          35,
          1.8,
          32,
          0.8,
          2,
          2.2,
          5,
          2,
          0.8,
          15,
          8,
          25,
          28,
          0.6,
          5,
          0.2,
          12,
          1,
          7,
          22,
          12,
          14,
          0.25,
          9,
          1.8,
          0.15,
          1.2,
          0.5,
          7,
          0.3,
          4,
          0.15,
          2.5,
          3,
          22,
          28,
          4,
          30,
          70,
          0.45,
          0.55,
          25,
          6,
          0.05,
          0.7,
          0.5,
          0.15,
          0.5,
          2.5,
          0.3,
          8,
          3.5,
          5,
          0.125,
          3,
          0.5,
          10,
          3,
          65,
          0.2,
          2,
          2.2,
          13,
          60,
          0.3,
          22,
          0.3,
          0.2,
          0.15,
          13,
          5,
          20,
          0.1,
          3,
          35,
          30,
          65,
          2.5,
          1.5,
          0.6,
          0.7,
          2,
          0.6,
          35,
          0.3,
          3.5,
          0.15,
          25,
          18,
          1,
          16,
          8,
          0.3,
          0.2,
          6,
          0.2,
          0.2,
          12,
          5,
          35,
          0.2,
          2.5,
          0.2,
          8,
          0.3,
          5,
          2.2,
          15,
          5,
          15,
          28,
          0.25,
          1.5,
          4,
          22,
          10,
          0.275,
          0.35,
          1.2,
          0.6,
          2.5,
          1,
          8,
          0.25,
          0.15,
          18,
          6,
          9,
          20,
          1.5,
          1,
          0.7,
          1.2,
          0.1,
          0.45,
          25,
          0.9,
          0.3,
          25,
          0.05,
          1,
          0.5,
          45,
          30,
          0.35,
          0.25,
          6,
          8,
          1.2,
          2,
          0.5,
          35,
          0.25,
          0.25,
          5,
          1,
          0.35,
          0.3,
          16,
          0.2,
          1,
          0.3,
          7,
          2.5,
          25,
          0.25,
          0.3,
          15,
          1.5,
          0.5,
          0.125,
          0.2,
          24,
          1.8,
          0.9,
          18,
          32,
          0.175,
          1,
          15,
          0.45,
          0.2,
          0.9,
          5,
          7,
          0.075,
          10,
          85,
          5,
          12,
          0.5,
          11,
          0.2,
          0.05,
          70,
          0.25,
          0.35,
          0.175,
          10,
          18,
          22,
          7,
          1.2,
          0.4,
          0.45,
          1,
          2,
          6,
          2.8,
          3,
          6,
          0.8,
          0.9,
          0.8,
          0.5,
          0.3,
          1.8,
          0.9,
          13,
          0.2,
          6,
          9,
          0.6,
          55,
          0.5,
          0.25,
          11,
          1.2,
          4,
          15,
          0.25,
          0.5,
          0.5,
          0.4,
          22,
          0.7,
          8,
          0.35,
          3,
          1,
          0.8,
          0.8,
          1.2,
          2.8,
          0.3,
          3,
          10,
          22,
          0.2,
          1.5,
          0.15,
          18,
          5,
          1,
          3,
          0.2,
          2,
          6,
          5,
          5,
          3.5,
          4,
          1,
          22,
          1,
          0.25,
          0.125,
          0.1,
          12,
          0.4,
          30,
          10,
          0.45,
          14,
          20,
          0.25,
          28,
          25,
          0.25,
          1,
          0.8,
          0.25,
          20,
          0.8,
          5,
          3.5,
          0.15,
          14,
          2,
          0.2,
          0.8,
          4,
          2,
          0.4,
          1.5,
          0.275,
          0.15,
          0.5,
          0.3,
          1.5,
          0.4,
          6,
          8,
          0.3,
          0.3,
          0.2,
          3,
          12,
          0.5,
          3,
          0.2,
          2,
          0.125,
          1.9
         ],
         "yaxis": "y"
        }
       ],
       "layout": {
        "legend": {
         "tracegroupgap": 0
        },
        "margin": {
         "t": 60
        },
        "template": {
         "data": {
          "bar": [
           {
            "error_x": {
             "color": "#2a3f5f"
            },
            "error_y": {
             "color": "#2a3f5f"
            },
            "marker": {
             "line": {
              "color": "#E5ECF6",
              "width": 0.5
             },
             "pattern": {
              "fillmode": "overlay",
              "size": 10,
              "solidity": 0.2
             }
            },
            "type": "bar"
           }
          ],
          "barpolar": [
           {
            "marker": {
             "line": {
              "color": "#E5ECF6",
              "width": 0.5
             },
             "pattern": {
              "fillmode": "overlay",
              "size": 10,
              "solidity": 0.2
             }
            },
            "type": "barpolar"
           }
          ],
          "carpet": [
           {
            "aaxis": {
             "endlinecolor": "#2a3f5f",
             "gridcolor": "white",
             "linecolor": "white",
             "minorgridcolor": "white",
             "startlinecolor": "#2a3f5f"
            },
            "baxis": {
             "endlinecolor": "#2a3f5f",
             "gridcolor": "white",
             "linecolor": "white",
             "minorgridcolor": "white",
             "startlinecolor": "#2a3f5f"
            },
            "type": "carpet"
           }
          ],
          "choropleth": [
           {
            "colorbar": {
             "outlinewidth": 0,
             "ticks": ""
            },
            "type": "choropleth"
           }
          ],
          "contour": [
           {
            "colorbar": {
             "outlinewidth": 0,
             "ticks": ""
            },
            "colorscale": [
             [
              0,
              "#0d0887"
             ],
             [
              0.1111111111111111,
              "#46039f"
             ],
             [
              0.2222222222222222,
              "#7201a8"
             ],
             [
              0.3333333333333333,
              "#9c179e"
             ],
             [
              0.4444444444444444,
              "#bd3786"
             ],
             [
              0.5555555555555556,
              "#d8576b"
             ],
             [
              0.6666666666666666,
              "#ed7953"
             ],
             [
              0.7777777777777778,
              "#fb9f3a"
             ],
             [
              0.8888888888888888,
              "#fdca26"
             ],
             [
              1,
              "#f0f921"
             ]
            ],
            "type": "contour"
           }
          ],
          "contourcarpet": [
           {
            "colorbar": {
             "outlinewidth": 0,
             "ticks": ""
            },
            "type": "contourcarpet"
           }
          ],
          "heatmap": [
           {
            "colorbar": {
             "outlinewidth": 0,
             "ticks": ""
            },
            "colorscale": [
             [
              0,
              "#0d0887"
             ],
             [
              0.1111111111111111,
              "#46039f"
             ],
             [
              0.2222222222222222,
              "#7201a8"
             ],
             [
              0.3333333333333333,
              "#9c179e"
             ],
             [
              0.4444444444444444,
              "#bd3786"
             ],
             [
              0.5555555555555556,
              "#d8576b"
             ],
             [
              0.6666666666666666,
              "#ed7953"
             ],
             [
              0.7777777777777778,
              "#fb9f3a"
             ],
             [
              0.8888888888888888,
              "#fdca26"
             ],
             [
              1,
              "#f0f921"
             ]
            ],
            "type": "heatmap"
           }
          ],
          "heatmapgl": [
           {
            "colorbar": {
             "outlinewidth": 0,
             "ticks": ""
            },
            "colorscale": [
             [
              0,
              "#0d0887"
             ],
             [
              0.1111111111111111,
              "#46039f"
             ],
             [
              0.2222222222222222,
              "#7201a8"
             ],
             [
              0.3333333333333333,
              "#9c179e"
             ],
             [
              0.4444444444444444,
              "#bd3786"
             ],
             [
              0.5555555555555556,
              "#d8576b"
             ],
             [
              0.6666666666666666,
              "#ed7953"
             ],
             [
              0.7777777777777778,
              "#fb9f3a"
             ],
             [
              0.8888888888888888,
              "#fdca26"
             ],
             [
              1,
              "#f0f921"
             ]
            ],
            "type": "heatmapgl"
           }
          ],
          "histogram": [
           {
            "marker": {
             "pattern": {
              "fillmode": "overlay",
              "size": 10,
              "solidity": 0.2
             }
            },
            "type": "histogram"
           }
          ],
          "histogram2d": [
           {
            "colorbar": {
             "outlinewidth": 0,
             "ticks": ""
            },
            "colorscale": [
             [
              0,
              "#0d0887"
             ],
             [
              0.1111111111111111,
              "#46039f"
             ],
             [
              0.2222222222222222,
              "#7201a8"
             ],
             [
              0.3333333333333333,
              "#9c179e"
             ],
             [
              0.4444444444444444,
              "#bd3786"
             ],
             [
              0.5555555555555556,
              "#d8576b"
             ],
             [
              0.6666666666666666,
              "#ed7953"
             ],
             [
              0.7777777777777778,
              "#fb9f3a"
             ],
             [
              0.8888888888888888,
              "#fdca26"
             ],
             [
              1,
              "#f0f921"
             ]
            ],
            "type": "histogram2d"
           }
          ],
          "histogram2dcontour": [
           {
            "colorbar": {
             "outlinewidth": 0,
             "ticks": ""
            },
            "colorscale": [
             [
              0,
              "#0d0887"
             ],
             [
              0.1111111111111111,
              "#46039f"
             ],
             [
              0.2222222222222222,
              "#7201a8"
             ],
             [
              0.3333333333333333,
              "#9c179e"
             ],
             [
              0.4444444444444444,
              "#bd3786"
             ],
             [
              0.5555555555555556,
              "#d8576b"
             ],
             [
              0.6666666666666666,
              "#ed7953"
             ],
             [
              0.7777777777777778,
              "#fb9f3a"
             ],
             [
              0.8888888888888888,
              "#fdca26"
             ],
             [
              1,
              "#f0f921"
             ]
            ],
            "type": "histogram2dcontour"
           }
          ],
          "mesh3d": [
           {
            "colorbar": {
             "outlinewidth": 0,
             "ticks": ""
            },
            "type": "mesh3d"
           }
          ],
          "parcoords": [
           {
            "line": {
             "colorbar": {
              "outlinewidth": 0,
              "ticks": ""
             }
            },
            "type": "parcoords"
           }
          ],
          "pie": [
           {
            "automargin": true,
            "type": "pie"
           }
          ],
          "scatter": [
           {
            "fillpattern": {
             "fillmode": "overlay",
             "size": 10,
             "solidity": 0.2
            },
            "type": "scatter"
           }
          ],
          "scatter3d": [
           {
            "line": {
             "colorbar": {
              "outlinewidth": 0,
              "ticks": ""
             }
            },
            "marker": {
             "colorbar": {
              "outlinewidth": 0,
              "ticks": ""
             }
            },
            "type": "scatter3d"
           }
          ],
          "scattercarpet": [
           {
            "marker": {
             "colorbar": {
              "outlinewidth": 0,
              "ticks": ""
             }
            },
            "type": "scattercarpet"
           }
          ],
          "scattergeo": [
           {
            "marker": {
             "colorbar": {
              "outlinewidth": 0,
              "ticks": ""
             }
            },
            "type": "scattergeo"
           }
          ],
          "scattergl": [
           {
            "marker": {
             "colorbar": {
              "outlinewidth": 0,
              "ticks": ""
             }
            },
            "type": "scattergl"
           }
          ],
          "scattermapbox": [
           {
            "marker": {
             "colorbar": {
              "outlinewidth": 0,
              "ticks": ""
             }
            },
            "type": "scattermapbox"
           }
          ],
          "scatterpolar": [
           {
            "marker": {
             "colorbar": {
              "outlinewidth": 0,
              "ticks": ""
             }
            },
            "type": "scatterpolar"
           }
          ],
          "scatterpolargl": [
           {
            "marker": {
             "colorbar": {
              "outlinewidth": 0,
              "ticks": ""
             }
            },
            "type": "scatterpolargl"
           }
          ],
          "scatterternary": [
           {
            "marker": {
             "colorbar": {
              "outlinewidth": 0,
              "ticks": ""
             }
            },
            "type": "scatterternary"
           }
          ],
          "surface": [
           {
            "colorbar": {
             "outlinewidth": 0,
             "ticks": ""
            },
            "colorscale": [
             [
              0,
              "#0d0887"
             ],
             [
              0.1111111111111111,
              "#46039f"
             ],
             [
              0.2222222222222222,
              "#7201a8"
             ],
             [
              0.3333333333333333,
              "#9c179e"
             ],
             [
              0.4444444444444444,
              "#bd3786"
             ],
             [
              0.5555555555555556,
              "#d8576b"
             ],
             [
              0.6666666666666666,
              "#ed7953"
             ],
             [
              0.7777777777777778,
              "#fb9f3a"
             ],
             [
              0.8888888888888888,
              "#fdca26"
             ],
             [
              1,
              "#f0f921"
             ]
            ],
            "type": "surface"
           }
          ],
          "table": [
           {
            "cells": {
             "fill": {
              "color": "#EBF0F8"
             },
             "line": {
              "color": "white"
             }
            },
            "header": {
             "fill": {
              "color": "#C8D4E3"
             },
             "line": {
              "color": "white"
             }
            },
            "type": "table"
           }
          ]
         },
         "layout": {
          "annotationdefaults": {
           "arrowcolor": "#2a3f5f",
           "arrowhead": 0,
           "arrowwidth": 1
          },
          "autotypenumbers": "strict",
          "coloraxis": {
           "colorbar": {
            "outlinewidth": 0,
            "ticks": ""
           }
          },
          "colorscale": {
           "diverging": [
            [
             0,
             "#8e0152"
            ],
            [
             0.1,
             "#c51b7d"
            ],
            [
             0.2,
             "#de77ae"
            ],
            [
             0.3,
             "#f1b6da"
            ],
            [
             0.4,
             "#fde0ef"
            ],
            [
             0.5,
             "#f7f7f7"
            ],
            [
             0.6,
             "#e6f5d0"
            ],
            [
             0.7,
             "#b8e186"
            ],
            [
             0.8,
             "#7fbc41"
            ],
            [
             0.9,
             "#4d9221"
            ],
            [
             1,
             "#276419"
            ]
           ],
           "sequential": [
            [
             0,
             "#0d0887"
            ],
            [
             0.1111111111111111,
             "#46039f"
            ],
            [
             0.2222222222222222,
             "#7201a8"
            ],
            [
             0.3333333333333333,
             "#9c179e"
            ],
            [
             0.4444444444444444,
             "#bd3786"
            ],
            [
             0.5555555555555556,
             "#d8576b"
            ],
            [
             0.6666666666666666,
             "#ed7953"
            ],
            [
             0.7777777777777778,
             "#fb9f3a"
            ],
            [
             0.8888888888888888,
             "#fdca26"
            ],
            [
             1,
             "#f0f921"
            ]
           ],
           "sequentialminus": [
            [
             0,
             "#0d0887"
            ],
            [
             0.1111111111111111,
             "#46039f"
            ],
            [
             0.2222222222222222,
             "#7201a8"
            ],
            [
             0.3333333333333333,
             "#9c179e"
            ],
            [
             0.4444444444444444,
             "#bd3786"
            ],
            [
             0.5555555555555556,
             "#d8576b"
            ],
            [
             0.6666666666666666,
             "#ed7953"
            ],
            [
             0.7777777777777778,
             "#fb9f3a"
            ],
            [
             0.8888888888888888,
             "#fdca26"
            ],
            [
             1,
             "#f0f921"
            ]
           ]
          },
          "colorway": [
           "#636efa",
           "#EF553B",
           "#00cc96",
           "#ab63fa",
           "#FFA15A",
           "#19d3f3",
           "#FF6692",
           "#B6E880",
           "#FF97FF",
           "#FECB52"
          ],
          "font": {
           "color": "#2a3f5f"
          },
          "geo": {
           "bgcolor": "white",
           "lakecolor": "white",
           "landcolor": "#E5ECF6",
           "showlakes": true,
           "showland": true,
           "subunitcolor": "white"
          },
          "hoverlabel": {
           "align": "left"
          },
          "hovermode": "closest",
          "mapbox": {
           "style": "light"
          },
          "paper_bgcolor": "white",
          "plot_bgcolor": "#E5ECF6",
          "polar": {
           "angularaxis": {
            "gridcolor": "white",
            "linecolor": "white",
            "ticks": ""
           },
           "bgcolor": "#E5ECF6",
           "radialaxis": {
            "gridcolor": "white",
            "linecolor": "white",
            "ticks": ""
           }
          },
          "scene": {
           "xaxis": {
            "backgroundcolor": "#E5ECF6",
            "gridcolor": "white",
            "gridwidth": 2,
            "linecolor": "white",
            "showbackground": true,
            "ticks": "",
            "zerolinecolor": "white"
           },
           "yaxis": {
            "backgroundcolor": "#E5ECF6",
            "gridcolor": "white",
            "gridwidth": 2,
            "linecolor": "white",
            "showbackground": true,
            "ticks": "",
            "zerolinecolor": "white"
           },
           "zaxis": {
            "backgroundcolor": "#E5ECF6",
            "gridcolor": "white",
            "gridwidth": 2,
            "linecolor": "white",
            "showbackground": true,
            "ticks": "",
            "zerolinecolor": "white"
           }
          },
          "shapedefaults": {
           "line": {
            "color": "#2a3f5f"
           }
          },
          "ternary": {
           "aaxis": {
            "gridcolor": "white",
            "linecolor": "white",
            "ticks": ""
           },
           "baxis": {
            "gridcolor": "white",
            "linecolor": "white",
            "ticks": ""
           },
           "bgcolor": "#E5ECF6",
           "caxis": {
            "gridcolor": "white",
            "linecolor": "white",
            "ticks": ""
           }
          },
          "title": {
           "x": 0.05
          },
          "xaxis": {
           "automargin": true,
           "gridcolor": "white",
           "linecolor": "white",
           "ticks": "",
           "title": {
            "standoff": 15
           },
           "zerolinecolor": "white",
           "zerolinewidth": 2
          },
          "yaxis": {
           "automargin": true,
           "gridcolor": "white",
           "linecolor": "white",
           "ticks": "",
           "title": {
            "standoff": 15
           },
           "zerolinecolor": "white",
           "zerolinewidth": 2
          }
         }
        },
        "xaxis": {
         "anchor": "y",
         "domain": [
          0,
          1
         ],
         "title": {
          "text": "predicted_value"
         }
        },
        "yaxis": {
         "anchor": "x",
         "domain": [
          0,
          1
         ],
         "title": {
          "text": "market_value_in_million_eur"
         }
        }
       }
      }
     },
     "metadata": {},
     "output_type": "display_data"
    },
    {
     "data": {
      "image/png": "[encoded data removed]",
      "text/plain": [
       "<Figure size 800x950 with 2 Axes>"
      ]
     },
     "metadata": {},
     "output_type": "display_data"
    }
   ],
   "source": [
    "forecast_df, regressor, y_test = predict_future_values(    pdf_train, \n",
    "    pdf_test, [2023, 2024, 2025, 2026, 2027, 2028], features)"
   ]
  },
  {
   "cell_type": "code",
   "execution_count": 23,
   "id": "6e2a600c",
   "metadata": {},
   "outputs": [],
   "source": [
    "# Merge with actual market values for evaluation\n",
    "\n",
    "merged = forecast_df.merge(pdf_test[[\"player_id\", \"name\"]], on=[\"player_id\"], how=\"left\")\n",
    "end = time.time()\n",
    "diff = end - start"
   ]
  },
  {
   "cell_type": "code",
   "execution_count": 24,
   "id": "073662f5",
   "metadata": {},
   "outputs": [
    {
     "data": {
      "application/vnd.plotly.v1+json": {
       "config": {
        "plotlyServerURL": "https://plot.ly"
       },
       "data": [
        {
         "customdata": [
          [
           22
          ],
          [
           23
          ],
          [
           24
          ],
          [
           25
          ],
          [
           27
          ],
          [
           27
          ],
          [
           28
          ],
          [
           30
          ],
          [
           30
          ],
          [
           31
          ],
          [
           32
          ],
          [
           33
          ],
          [
           34
          ],
          [
           35
          ]
         ],
         "hovertemplate": "name=Mohamed Salah<br>year=%{x}<br>predicted_value=%{y}<br>age=%{customdata[0]}<extra></extra>",
         "legendgroup": "Mohamed Salah",
         "line": {
          "color": "#636efa",
          "dash": "solid"
         },
         "marker": {
          "symbol": "circle"
         },
         "mode": "lines",
         "name": "Mohamed Salah",
         "orientation": "v",
         "showlegend": true,
         "type": "scatter",
         "x": [
          2015,
          2016,
          2017,
          2018,
          2019,
          2020,
          2021,
          2022,
          2023,
          2024,
          2025,
          2026,
          2027,
          2028
         ],
         "xaxis": "x",
         "y": [
          10,
          20,
          30,
          80,
          150,
          120,
          110,
          90,
          79.04891204833984,
          60.44134521484375,
          46.6401252746582,
          37.82859420776367,
          25.312564849853516,
          20.667287826538086
         ],
         "yaxis": "y"
        },
        {
         "customdata": [
          [
           19
          ],
          [
           20
          ],
          [
           21
          ],
          [
           22
          ],
          [
           23
          ],
          [
           24
          ],
          [
           25
          ],
          [
           26
          ],
          [
           27
          ],
          [
           28
          ],
          [
           29
          ],
          [
           30
          ],
          [
           31
          ]
         ],
         "hovertemplate": "name=Wilfred Ndidi<br>year=%{x}<br>predicted_value=%{y}<br>age=%{customdata[0]}<extra></extra>",
         "legendgroup": "Wilfred Ndidi",
         "line": {
          "color": "#EF553B",
          "dash": "solid"
         },
         "marker": {
          "symbol": "circle"
         },
         "mode": "lines",
         "name": "Wilfred Ndidi",
         "orientation": "v",
         "showlegend": true,
         "type": "scatter",
         "x": [
          2016,
          2017,
          2018,
          2019,
          2020,
          2021,
          2022,
          2023,
          2024,
          2025,
          2026,
          2027,
          2028
         ],
         "xaxis": "x",
         "y": [
          1,
          14,
          18,
          35,
          36,
          50,
          60,
          54.30035400390625,
          49.329315185546875,
          47.821414947509766,
          42.38997268676758,
          35.13764572143555,
          28.11827850341797
         ],
         "yaxis": "y"
        },
        {
         "customdata": [
          [
           18
          ],
          [
           20
          ],
          [
           21
          ],
          [
           22
          ],
          [
           23
          ],
          [
           24
          ],
          [
           25
          ],
          [
           26
          ],
          [
           27
          ],
          [
           28
          ],
          [
           29
          ]
         ],
         "hovertemplate": "name=Declan Rice<br>year=%{x}<br>predicted_value=%{y}<br>age=%{customdata[0]}<extra></extra>",
         "legendgroup": "Declan Rice",
         "line": {
          "color": "#00cc96",
          "dash": "solid"
         },
         "marker": {
          "symbol": "circle"
         },
         "mode": "lines",
         "name": "Declan Rice",
         "orientation": "v",
         "showlegend": true,
         "type": "scatter",
         "x": [
          2018,
          2019,
          2020,
          2021,
          2022,
          2023,
          2024,
          2025,
          2026,
          2027,
          2028
         ],
         "xaxis": "x",
         "y": [
          2,
          35,
          49.5,
          60,
          80,
          81.38470458984375,
          69.0000991821289,
          62.87144088745117,
          54.56785583496094,
          47.75995635986328,
          39.22188186645508
         ],
         "yaxis": "y"
        },
        {
         "customdata": [
          [
           17
          ],
          [
           18
          ],
          [
           18
          ],
          [
           19
          ],
          [
           20
          ],
          [
           21
          ],
          [
           22
          ],
          [
           23
          ],
          [
           24
          ],
          [
           25
          ],
          [
           26
          ],
          [
           27
          ]
         ],
         "hovertemplate": "name=Erling Haaland<br>year=%{x}<br>predicted_value=%{y}<br>age=%{customdata[0]}<extra></extra>",
         "legendgroup": "Erling Haaland",
         "line": {
          "color": "#ab63fa",
          "dash": "solid"
         },
         "marker": {
          "symbol": "circle"
         },
         "mode": "lines",
         "name": "Erling Haaland",
         "orientation": "v",
         "showlegend": true,
         "type": "scatter",
         "x": [
          2017,
          2018,
          2019,
          2020,
          2021,
          2022,
          2023,
          2024,
          2025,
          2026,
          2027,
          2028
         ],
         "xaxis": "x",
         "y": [
          0.3,
          2,
          5,
          60,
          110,
          150,
          143.22198486328125,
          130.7821044921875,
          119.6654052734375,
          103.17018127441406,
          85.90089416503906,
          77.8709487915039
         ],
         "yaxis": "y"
        },
        {
         "customdata": [
          [
           17
          ],
          [
           17
          ],
          [
           18
          ],
          [
           20
          ],
          [
           21
          ],
          [
           22
          ],
          [
           23
          ],
          [
           24
          ],
          [
           25
          ]
         ],
         "hovertemplate": "name=Harvey Elliott<br>year=%{x}<br>predicted_value=%{y}<br>age=%{customdata[0]}<extra></extra>",
         "legendgroup": "Harvey Elliott",
         "line": {
          "color": "#FFA15A",
          "dash": "solid"
         },
         "marker": {
          "symbol": "circle"
         },
         "mode": "lines",
         "name": "Harvey Elliott",
         "orientation": "v",
         "showlegend": true,
         "type": "scatter",
         "x": [
          2020,
          2021,
          2022,
          2023,
          2024,
          2025,
          2026,
          2027,
          2028
         ],
         "xaxis": "x",
         "y": [
          3.6,
          15,
          22,
          29.751935958862305,
          30.70246124267578,
          31.933332443237305,
          31.66098976135254,
          31.74043083190918,
          31.74043083190918
         ],
         "yaxis": "y"
        },
        {
         "customdata": [
          [
           20
          ],
          [
           21
          ],
          [
           22
          ],
          [
           23
          ],
          [
           24
          ],
          [
           25
          ],
          [
           26
          ]
         ],
         "hovertemplate": "name=Cole Palmer<br>year=%{x}<br>predicted_value=%{y}<br>age=%{customdata[0]}<extra></extra>",
         "legendgroup": "Cole Palmer",
         "line": {
          "color": "#19d3f3",
          "dash": "solid"
         },
         "marker": {
          "symbol": "circle"
         },
         "mode": "lines",
         "name": "Cole Palmer",
         "orientation": "v",
         "showlegend": true,
         "type": "scatter",
         "x": [
          2022,
          2023,
          2024,
          2025,
          2026,
          2027,
          2028
         ],
         "xaxis": "x",
         "y": [
          6,
          11.259822845458984,
          15.636842727661133,
          19.37531852722168,
          22.23940086364746,
          22.167583465576172,
          21.749256134033203
         ],
         "yaxis": "y"
        },
        {
         "customdata": [
          [
           17
          ],
          [
           18
          ],
          [
           19
          ],
          [
           20
          ],
          [
           21
          ],
          [
           22
          ]
         ],
         "hovertemplate": "name=Ashley Phillips<br>year=%{x}<br>predicted_value=%{y}<br>age=%{customdata[0]}<extra></extra>",
         "legendgroup": "Ashley Phillips",
         "line": {
          "color": "#FF6692",
          "dash": "solid"
         },
         "marker": {
          "symbol": "circle"
         },
         "mode": "lines",
         "name": "Ashley Phillips",
         "orientation": "v",
         "showlegend": true,
         "type": "scatter",
         "x": [
          2023,
          2024,
          2025,
          2026,
          2027,
          2028
         ],
         "xaxis": "x",
         "y": [
          6.4134979248046875,
          10.627547264099121,
          16.4768123626709,
          21.01214599609375,
          24.635133743286133,
          28.339448928833008
         ],
         "yaxis": "y"
        }
       ],
       "layout": {
        "annotations": [
         {
          "showarrow": false,
          "text": "2022/2023 boundary",
          "x": 2022.5,
          "xanchor": "left",
          "xref": "x",
          "y": 1,
          "yanchor": "top",
          "yref": "y domain"
         }
        ],
        "legend": {
         "title": {
          "text": "name"
         },
         "tracegroupgap": 0
        },
        "shapes": [
         {
          "line": {
           "color": "red",
           "dash": "dash"
          },
          "type": "line",
          "x0": 2022.5,
          "x1": 2022.5,
          "xref": "x",
          "y0": 0,
          "y1": 1,
          "yref": "y domain"
         }
        ],
        "template": {
         "data": {
          "bar": [
           {
            "error_x": {
             "color": "#2a3f5f"
            },
            "error_y": {
             "color": "#2a3f5f"
            },
            "marker": {
             "line": {
              "color": "#E5ECF6",
              "width": 0.5
             },
             "pattern": {
              "fillmode": "overlay",
              "size": 10,
              "solidity": 0.2
             }
            },
            "type": "bar"
           }
          ],
          "barpolar": [
           {
            "marker": {
             "line": {
              "color": "#E5ECF6",
              "width": 0.5
             },
             "pattern": {
              "fillmode": "overlay",
              "size": 10,
              "solidity": 0.2
             }
            },
            "type": "barpolar"
           }
          ],
          "carpet": [
           {
            "aaxis": {
             "endlinecolor": "#2a3f5f",
             "gridcolor": "white",
             "linecolor": "white",
             "minorgridcolor": "white",
             "startlinecolor": "#2a3f5f"
            },
            "baxis": {
             "endlinecolor": "#2a3f5f",
             "gridcolor": "white",
             "linecolor": "white",
             "minorgridcolor": "white",
             "startlinecolor": "#2a3f5f"
            },
            "type": "carpet"
           }
          ],
          "choropleth": [
           {
            "colorbar": {
             "outlinewidth": 0,
             "ticks": ""
            },
            "type": "choropleth"
           }
          ],
          "contour": [
           {
            "colorbar": {
             "outlinewidth": 0,
             "ticks": ""
            },
            "colorscale": [
             [
              0,
              "#0d0887"
             ],
             [
              0.1111111111111111,
              "#46039f"
             ],
             [
              0.2222222222222222,
              "#7201a8"
             ],
             [
              0.3333333333333333,
              "#9c179e"
             ],
             [
              0.4444444444444444,
              "#bd3786"
             ],
             [
              0.5555555555555556,
              "#d8576b"
             ],
             [
              0.6666666666666666,
              "#ed7953"
             ],
             [
              0.7777777777777778,
              "#fb9f3a"
             ],
             [
              0.8888888888888888,
              "#fdca26"
             ],
             [
              1,
              "#f0f921"
             ]
            ],
            "type": "contour"
           }
          ],
          "contourcarpet": [
           {
            "colorbar": {
             "outlinewidth": 0,
             "ticks": ""
            },
            "type": "contourcarpet"
           }
          ],
          "heatmap": [
           {
            "colorbar": {
             "outlinewidth": 0,
             "ticks": ""
            },
            "colorscale": [
             [
              0,
              "#0d0887"
             ],
             [
              0.1111111111111111,
              "#46039f"
             ],
             [
              0.2222222222222222,
              "#7201a8"
             ],
             [
              0.3333333333333333,
              "#9c179e"
             ],
             [
              0.4444444444444444,
              "#bd3786"
             ],
             [
              0.5555555555555556,
              "#d8576b"
             ],
             [
              0.6666666666666666,
              "#ed7953"
             ],
             [
              0.7777777777777778,
              "#fb9f3a"
             ],
             [
              0.8888888888888888,
              "#fdca26"
             ],
             [
              1,
              "#f0f921"
             ]
            ],
            "type": "heatmap"
           }
          ],
          "heatmapgl": [
           {
            "colorbar": {
             "outlinewidth": 0,
             "ticks": ""
            },
            "colorscale": [
             [
              0,
              "#0d0887"
             ],
             [
              0.1111111111111111,
              "#46039f"
             ],
             [
              0.2222222222222222,
              "#7201a8"
             ],
             [
              0.3333333333333333,
              "#9c179e"
             ],
             [
              0.4444444444444444,
              "#bd3786"
             ],
             [
              0.5555555555555556,
              "#d8576b"
             ],
             [
              0.6666666666666666,
              "#ed7953"
             ],
             [
              0.7777777777777778,
              "#fb9f3a"
             ],
             [
              0.8888888888888888,
              "#fdca26"
             ],
             [
              1,
              "#f0f921"
             ]
            ],
            "type": "heatmapgl"
           }
          ],
          "histogram": [
           {
            "marker": {
             "pattern": {
              "fillmode": "overlay",
              "size": 10,
              "solidity": 0.2
             }
            },
            "type": "histogram"
           }
          ],
          "histogram2d": [
           {
            "colorbar": {
             "outlinewidth": 0,
             "ticks": ""
            },
            "colorscale": [
             [
              0,
              "#0d0887"
             ],
             [
              0.1111111111111111,
              "#46039f"
             ],
             [
              0.2222222222222222,
              "#7201a8"
             ],
             [
              0.3333333333333333,
              "#9c179e"
             ],
             [
              0.4444444444444444,
              "#bd3786"
             ],
             [
              0.5555555555555556,
              "#d8576b"
             ],
             [
              0.6666666666666666,
              "#ed7953"
             ],
             [
              0.7777777777777778,
              "#fb9f3a"
             ],
             [
              0.8888888888888888,
              "#fdca26"
             ],
             [
              1,
              "#f0f921"
             ]
            ],
            "type": "histogram2d"
           }
          ],
          "histogram2dcontour": [
           {
            "colorbar": {
             "outlinewidth": 0,
             "ticks": ""
            },
            "colorscale": [
             [
              0,
              "#0d0887"
             ],
             [
              0.1111111111111111,
              "#46039f"
             ],
             [
              0.2222222222222222,
              "#7201a8"
             ],
             [
              0.3333333333333333,
              "#9c179e"
             ],
             [
              0.4444444444444444,
              "#bd3786"
             ],
             [
              0.5555555555555556,
              "#d8576b"
             ],
             [
              0.6666666666666666,
              "#ed7953"
             ],
             [
              0.7777777777777778,
              "#fb9f3a"
             ],
             [
              0.8888888888888888,
              "#fdca26"
             ],
             [
              1,
              "#f0f921"
             ]
            ],
            "type": "histogram2dcontour"
           }
          ],
          "mesh3d": [
           {
            "colorbar": {
             "outlinewidth": 0,
             "ticks": ""
            },
            "type": "mesh3d"
           }
          ],
          "parcoords": [
           {
            "line": {
             "colorbar": {
              "outlinewidth": 0,
              "ticks": ""
             }
            },
            "type": "parcoords"
           }
          ],
          "pie": [
           {
            "automargin": true,
            "type": "pie"
           }
          ],
          "scatter": [
           {
            "fillpattern": {
             "fillmode": "overlay",
             "size": 10,
             "solidity": 0.2
            },
            "type": "scatter"
           }
          ],
          "scatter3d": [
           {
            "line": {
             "colorbar": {
              "outlinewidth": 0,
              "ticks": ""
             }
            },
            "marker": {
             "colorbar": {
              "outlinewidth": 0,
              "ticks": ""
             }
            },
            "type": "scatter3d"
           }
          ],
          "scattercarpet": [
           {
            "marker": {
             "colorbar": {
              "outlinewidth": 0,
              "ticks": ""
             }
            },
            "type": "scattercarpet"
           }
          ],
          "scattergeo": [
           {
            "marker": {
             "colorbar": {
              "outlinewidth": 0,
              "ticks": ""
             }
            },
            "type": "scattergeo"
           }
          ],
          "scattergl": [
           {
            "marker": {
             "colorbar": {
              "outlinewidth": 0,
              "ticks": ""
             }
            },
            "type": "scattergl"
           }
          ],
          "scattermapbox": [
           {
            "marker": {
             "colorbar": {
              "outlinewidth": 0,
              "ticks": ""
             }
            },
            "type": "scattermapbox"
           }
          ],
          "scatterpolar": [
           {
            "marker": {
             "colorbar": {
              "outlinewidth": 0,
              "ticks": ""
             }
            },
            "type": "scatterpolar"
           }
          ],
          "scatterpolargl": [
           {
            "marker": {
             "colorbar": {
              "outlinewidth": 0,
              "ticks": ""
             }
            },
            "type": "scatterpolargl"
           }
          ],
          "scatterternary": [
           {
            "marker": {
             "colorbar": {
              "outlinewidth": 0,
              "ticks": ""
             }
            },
            "type": "scatterternary"
           }
          ],
          "surface": [
           {
            "colorbar": {
             "outlinewidth": 0,
             "ticks": ""
            },
            "colorscale": [
             [
              0,
              "#0d0887"
             ],
             [
              0.1111111111111111,
              "#46039f"
             ],
             [
              0.2222222222222222,
              "#7201a8"
             ],
             [
              0.3333333333333333,
              "#9c179e"
             ],
             [
              0.4444444444444444,
              "#bd3786"
             ],
             [
              0.5555555555555556,
              "#d8576b"
             ],
             [
              0.6666666666666666,
              "#ed7953"
             ],
             [
              0.7777777777777778,
              "#fb9f3a"
             ],
             [
              0.8888888888888888,
              "#fdca26"
             ],
             [
              1,
              "#f0f921"
             ]
            ],
            "type": "surface"
           }
          ],
          "table": [
           {
            "cells": {
             "fill": {
              "color": "#EBF0F8"
             },
             "line": {
              "color": "white"
             }
            },
            "header": {
             "fill": {
              "color": "#C8D4E3"
             },
             "line": {
              "color": "white"
             }
            },
            "type": "table"
           }
          ]
         },
         "layout": {
          "annotationdefaults": {
           "arrowcolor": "#2a3f5f",
           "arrowhead": 0,
           "arrowwidth": 1
          },
          "autotypenumbers": "strict",
          "coloraxis": {
           "colorbar": {
            "outlinewidth": 0,
            "ticks": ""
           }
          },
          "colorscale": {
           "diverging": [
            [
             0,
             "#8e0152"
            ],
            [
             0.1,
             "#c51b7d"
            ],
            [
             0.2,
             "#de77ae"
            ],
            [
             0.3,
             "#f1b6da"
            ],
            [
             0.4,
             "#fde0ef"
            ],
            [
             0.5,
             "#f7f7f7"
            ],
            [
             0.6,
             "#e6f5d0"
            ],
            [
             0.7,
             "#b8e186"
            ],
            [
             0.8,
             "#7fbc41"
            ],
            [
             0.9,
             "#4d9221"
            ],
            [
             1,
             "#276419"
            ]
           ],
           "sequential": [
            [
             0,
             "#0d0887"
            ],
            [
             0.1111111111111111,
             "#46039f"
            ],
            [
             0.2222222222222222,
             "#7201a8"
            ],
            [
             0.3333333333333333,
             "#9c179e"
            ],
            [
             0.4444444444444444,
             "#bd3786"
            ],
            [
             0.5555555555555556,
             "#d8576b"
            ],
            [
             0.6666666666666666,
             "#ed7953"
            ],
            [
             0.7777777777777778,
             "#fb9f3a"
            ],
            [
             0.8888888888888888,
             "#fdca26"
            ],
            [
             1,
             "#f0f921"
            ]
           ],
           "sequentialminus": [
            [
             0,
             "#0d0887"
            ],
            [
             0.1111111111111111,
             "#46039f"
            ],
            [
             0.2222222222222222,
             "#7201a8"
            ],
            [
             0.3333333333333333,
             "#9c179e"
            ],
            [
             0.4444444444444444,
             "#bd3786"
            ],
            [
             0.5555555555555556,
             "#d8576b"
            ],
            [
             0.6666666666666666,
             "#ed7953"
            ],
            [
             0.7777777777777778,
             "#fb9f3a"
            ],
            [
             0.8888888888888888,
             "#fdca26"
            ],
            [
             1,
             "#f0f921"
            ]
           ]
          },
          "colorway": [
           "#636efa",
           "#EF553B",
           "#00cc96",
           "#ab63fa",
           "#FFA15A",
           "#19d3f3",
           "#FF6692",
           "#B6E880",
           "#FF97FF",
           "#FECB52"
          ],
          "font": {
           "color": "#2a3f5f"
          },
          "geo": {
           "bgcolor": "white",
           "lakecolor": "white",
           "landcolor": "#E5ECF6",
           "showlakes": true,
           "showland": true,
           "subunitcolor": "white"
          },
          "hoverlabel": {
           "align": "left"
          },
          "hovermode": "closest",
          "mapbox": {
           "style": "light"
          },
          "paper_bgcolor": "white",
          "plot_bgcolor": "#E5ECF6",
          "polar": {
           "angularaxis": {
            "gridcolor": "white",
            "linecolor": "white",
            "ticks": ""
           },
           "bgcolor": "#E5ECF6",
           "radialaxis": {
            "gridcolor": "white",
            "linecolor": "white",
            "ticks": ""
           }
          },
          "scene": {
           "xaxis": {
            "backgroundcolor": "#E5ECF6",
            "gridcolor": "white",
            "gridwidth": 2,
            "linecolor": "white",
            "showbackground": true,
            "ticks": "",
            "zerolinecolor": "white"
           },
           "yaxis": {
            "backgroundcolor": "#E5ECF6",
            "gridcolor": "white",
            "gridwidth": 2,
            "linecolor": "white",
            "showbackground": true,
            "ticks": "",
            "zerolinecolor": "white"
           },
           "zaxis": {
            "backgroundcolor": "#E5ECF6",
            "gridcolor": "white",
            "gridwidth": 2,
            "linecolor": "white",
            "showbackground": true,
            "ticks": "",
            "zerolinecolor": "white"
           }
          },
          "shapedefaults": {
           "line": {
            "color": "#2a3f5f"
           }
          },
          "ternary": {
           "aaxis": {
            "gridcolor": "white",
            "linecolor": "white",
            "ticks": ""
           },
           "baxis": {
            "gridcolor": "white",
            "linecolor": "white",
            "ticks": ""
           },
           "bgcolor": "#E5ECF6",
           "caxis": {
            "gridcolor": "white",
            "linecolor": "white",
            "ticks": ""
           }
          },
          "title": {
           "x": 0.05
          },
          "xaxis": {
           "automargin": true,
           "gridcolor": "white",
           "linecolor": "white",
           "ticks": "",
           "title": {
            "standoff": 15
           },
           "zerolinecolor": "white",
           "zerolinewidth": 2
          },
          "yaxis": {
           "automargin": true,
           "gridcolor": "white",
           "linecolor": "white",
           "ticks": "",
           "title": {
            "standoff": 15
           },
           "zerolinecolor": "white",
           "zerolinewidth": 2
          }
         }
        },
        "title": {
         "text": "Predicted Market Values for Selected Players"
        },
        "xaxis": {
         "anchor": "y",
         "domain": [
          0,
          1
         ],
         "title": {
          "text": "year"
         }
        },
        "yaxis": {
         "anchor": "x",
         "domain": [
          0,
          1
         ],
         "title": {
          "text": "predicted_value"
         }
        }
       }
      }
     },
     "metadata": {},
     "output_type": "display_data"
    }
   ],
   "source": [
    "players = [418560, 357662, 565822, 859951, 148455, 274839, 542580, 568177]\n",
    "plot_player_value_trends(pdf_train, merged_df=merged, player_ids=players)\n"
   ]
  },
  {
   "cell_type": "code",
   "execution_count": 25,
   "id": "ffe03298",
   "metadata": {},
   "outputs": [
    {
     "name": "stderr",
     "output_type": "stream",
     "text": [
      "C:\\Users\\tomkn\\AppData\\Local\\Temp\\ipykernel_21888\\2121820575.py:2: SettingWithCopyWarning:\n",
      "\n",
      "\n",
      "A value is trying to be set on a copy of a slice from a DataFrame.\n",
      "Try using .loc[row_indexer,col_indexer] = value instead\n",
      "\n",
      "See the caveats in the documentation: https://pandas.pydata.org/pandas-docs/stable/user_guide/indexing.html#returning-a-view-versus-a-copy\n",
      "\n"
     ]
    }
   ],
   "source": [
    "output_df = merged.query(\"year == 2023\")\n",
    "output_df[\"actual_value\"] = y_test.values\n"
   ]
  },
  {
   "cell_type": "code",
   "execution_count": 26,
   "id": "bd4f4640",
   "metadata": {},
   "outputs": [
    {
     "name": "stderr",
     "output_type": "stream",
     "text": [
      "C:\\Users\\tomkn\\AppData\\Local\\Temp\\ipykernel_21888\\1487859311.py:1: SettingWithCopyWarning:\n",
      "\n",
      "\n",
      "A value is trying to be set on a copy of a slice from a DataFrame.\n",
      "Try using .loc[row_indexer,col_indexer] = value instead\n",
      "\n",
      "See the caveats in the documentation: https://pandas.pydata.org/pandas-docs/stable/user_guide/indexing.html#returning-a-view-versus-a-copy\n",
      "\n",
      "C:\\Users\\tomkn\\AppData\\Local\\Temp\\ipykernel_21888\\1487859311.py:2: SettingWithCopyWarning:\n",
      "\n",
      "\n",
      "A value is trying to be set on a copy of a slice from a DataFrame.\n",
      "Try using .loc[row_indexer,col_indexer] = value instead\n",
      "\n",
      "See the caveats in the documentation: https://pandas.pydata.org/pandas-docs/stable/user_guide/indexing.html#returning-a-view-versus-a-copy\n",
      "\n",
      "C:\\Users\\tomkn\\AppData\\Local\\Temp\\ipykernel_21888\\1487859311.py:3: SettingWithCopyWarning:\n",
      "\n",
      "\n",
      "A value is trying to be set on a copy of a slice from a DataFrame.\n",
      "Try using .loc[row_indexer,col_indexer] = value instead\n",
      "\n",
      "See the caveats in the documentation: https://pandas.pydata.org/pandas-docs/stable/user_guide/indexing.html#returning-a-view-versus-a-copy\n",
      "\n",
      "C:\\Users\\tomkn\\AppData\\Local\\Temp\\ipykernel_21888\\1487859311.py:4: SettingWithCopyWarning:\n",
      "\n",
      "\n",
      "A value is trying to be set on a copy of a slice from a DataFrame.\n",
      "Try using .loc[row_indexer,col_indexer] = value instead\n",
      "\n",
      "See the caveats in the documentation: https://pandas.pydata.org/pandas-docs/stable/user_guide/indexing.html#returning-a-view-versus-a-copy\n",
      "\n",
      "C:\\Users\\tomkn\\AppData\\Local\\Temp\\ipykernel_21888\\1487859311.py:5: SettingWithCopyWarning:\n",
      "\n",
      "\n",
      "A value is trying to be set on a copy of a slice from a DataFrame.\n",
      "Try using .loc[row_indexer,col_indexer] = value instead\n",
      "\n",
      "See the caveats in the documentation: https://pandas.pydata.org/pandas-docs/stable/user_guide/indexing.html#returning-a-view-versus-a-copy\n",
      "\n",
      "C:\\Users\\tomkn\\AppData\\Local\\Temp\\ipykernel_21888\\1487859311.py:6: SettingWithCopyWarning:\n",
      "\n",
      "\n",
      "A value is trying to be set on a copy of a slice from a DataFrame.\n",
      "Try using .loc[row_indexer,col_indexer] = value instead\n",
      "\n",
      "See the caveats in the documentation: https://pandas.pydata.org/pandas-docs/stable/user_guide/indexing.html#returning-a-view-versus-a-copy\n",
      "\n",
      "C:\\Users\\tomkn\\AppData\\Local\\Temp\\ipykernel_21888\\1487859311.py:7: SettingWithCopyWarning:\n",
      "\n",
      "\n",
      "A value is trying to be set on a copy of a slice from a DataFrame.\n",
      "Try using .loc[row_indexer,col_indexer] = value instead\n",
      "\n",
      "See the caveats in the documentation: https://pandas.pydata.org/pandas-docs/stable/user_guide/indexing.html#returning-a-view-versus-a-copy\n",
      "\n"
     ]
    }
   ],
   "source": [
    "output_df[\"model_output_id\"] = uuid.uuid4()\n",
    "output_df[\"model_run_date\"] = datetime.datetime.now()\n",
    "output_df[\"time_taken_seconds\"] = diff\n",
    "output_df[\"features_used\"] = str(features)\n",
    "output_df[\"model_type\"] = \"XG_Boost\"\n",
    "output_df[\"split_year\"] = test_start\n",
    "output_df[\"version\"] = version"
   ]
  },
  {
   "cell_type": "code",
   "execution_count": 27,
   "id": "ddf63cbf",
   "metadata": {},
   "outputs": [],
   "source": [
    "save_output_tables(output_df)"
   ]
  },
  {
   "cell_type": "code",
   "execution_count": null,
   "id": "e279e35a",
   "metadata": {},
   "outputs": [],
   "source": []
  }
 ],
 "metadata": {
  "kernelspec": {
   "display_name": "Python 3",
   "language": "python",
   "name": "python3"
  },
  "language_info": {
   "codemirror_mode": {
    "name": "ipython",
    "version": 3
   },
   "file_extension": ".py",
   "mimetype": "text/x-python",
   "name": "python",
   "nbconvert_exporter": "python",
   "pygments_lexer": "ipython3",
   "version": "3.11.9"
  }
 },
 "nbformat": 4,
 "nbformat_minor": 5
}
