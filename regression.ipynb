{
 "cells": [
  {
   "cell_type": "code",
   "execution_count": 23,
   "id": "f51071b7",
   "metadata": {},
   "outputs": [],
   "source": [
    "import pandas as pd\n",
    "from utils.output_analysis import plot_player_value_trends, save_output_tables\n",
    "\n",
    "from sklearn.linear_model import LinearRegression\n",
    "from sklearn.metrics import mean_squared_error as root_mean_squared_error, r2_score\n",
    "from sklearn.preprocessing import StandardScaler\n",
    "from typing import List\n",
    "import plotly.express as px\n",
    "from config import features, test_start, target\n",
    "from utils.model import test_train_split, define_features, analysis_result, prepare_future_year_data\n",
    "\n",
    "import uuid\n",
    "import datetime \n",
    "import time"
   ]
  },
  {
   "cell_type": "code",
   "execution_count": 24,
   "id": "6f7be76a",
   "metadata": {},
   "outputs": [],
   "source": [
    "start = time.time()\n",
    "version  = \"v0.0.1\""
   ]
  },
  {
   "cell_type": "code",
   "execution_count": 25,
   "id": "cd0e30f5",
   "metadata": {},
   "outputs": [],
   "source": [
    "pdf_mvp = pd.read_csv(\"data/intermediate/time_series_model_data_prep.csv\")"
   ]
  },
  {
   "cell_type": "code",
   "execution_count": 26,
   "id": "ea5e583e",
   "metadata": {},
   "outputs": [],
   "source": [
    "\n",
    "\n",
    "\n",
    "def predict_future_values(\n",
    "    train_df: pd.DataFrame,\n",
    "    test_df: pd.DataFrame,\n",
    "    prediction_years: List[int],\n",
    "    features: List[str],\n",
    "    max_depth: int = None  # Not used\n",
    ") -> tuple[List[pd.DataFrame], LinearRegression, pd.Series]:\n",
    "    \"\"\"\n",
    "    Predicts future player values using Linear Regression with standardized features.\n",
    "\n",
    "    Returns:\n",
    "        - List of yearly predicted DataFrames\n",
    "        - Trained LinearRegression model\n",
    "        - Actual values from base test year (for evaluation)\n",
    "    \"\"\"\n",
    "\n",
    "    # Scale features\n",
    "    scaler = StandardScaler()\n",
    "    X_train_raw = train_df[features]\n",
    "    X_train_scaled = scaler.fit_transform(X_train_raw)\n",
    "    y_train = train_df[target]\n",
    "\n",
    "    # Fit regression model\n",
    "    regressor = LinearRegression()\n",
    "    regressor.fit(X_train_scaled, y_train)\n",
    "\n",
    "    predictions = []\n",
    "    current_df = test_df.copy()\n",
    "\n",
    "    for i, year in enumerate(prediction_years):\n",
    "        # Handle age-based features\n",
    "        current_df[\"age\"] = current_df[\"age_last_year\"] + 1\n",
    "        current_df[\"age_from_peak\"] = (current_df[\"age\"] - 25) ** 2\n",
    "\n",
    "        # Decrease contract years left by 1, not below 0\n",
    "        if \"contract_years_left\" in current_df.columns:\n",
    "            current_df[\"contract_years_left\"] = (current_df[\"contract_years_left\"] - 1).clip(lower=0)\n",
    "\n",
    "        X_test_raw = current_df[features]\n",
    "        X_test_scaled = scaler.transform(X_test_raw)\n",
    "\n",
    "        current_df[\"predicted_value\"] = regressor.predict(X_test_scaled)\n",
    "        current_df[\"year\"] = year\n",
    "\n",
    "        if i == 0:\n",
    "            y_test = current_df[target]\n",
    "            analysis_result(current_df, y_test, year, target)\n",
    "        # Prepare next year’s data\n",
    "        current_df[\"age_last_year\"] = current_df[\"age\"]\n",
    "        current_df[\"value_last_year\"] = current_df[\"predicted_value\"]\n",
    "\n",
    "        # Save results (including contract years if available)\n",
    "        cols_to_keep = [\"player_id\", \"year\", \"age\", \"predicted_value\", \"age_from_peak\"]\n",
    "        if \"contract_years_left\" in current_df.columns:\n",
    "            cols_to_keep.append(\"contract_years_left\")\n",
    "\n",
    "        predictions.append(current_df[cols_to_keep].copy())\n",
    "\n",
    "        if i < len(prediction_years) - 1:\n",
    "            current_df = prepare_future_year_data(current_df)\n",
    "\n",
    "\n",
    "    return predictions, regressor, y_test\n"
   ]
  },
  {
   "cell_type": "code",
   "execution_count": 27,
   "id": "f77e9fa6",
   "metadata": {},
   "outputs": [],
   "source": [
    "#TODO - This is temporary fix\n",
    "pdf_mvp[[\"team_ppg\", \"team_goal_difference\", \"team_goals_scored\", \"team_goals_conceded\"]] = (\n",
    "    pdf_mvp[[\"team_ppg\", \"team_goal_difference\", \"team_goals_scored\", \"team_goals_conceded\"]].fillna(0)\n",
    ")\n"
   ]
  },
  {
   "cell_type": "code",
   "execution_count": 28,
   "id": "e5fc9e42",
   "metadata": {},
   "outputs": [],
   "source": [
    "\n",
    "features = define_features(pdf_mvp, features)\n",
    "\n",
    "pdf_train, pdf_test = test_train_split(pdf_mvp, test_start)"
   ]
  },
  {
   "cell_type": "code",
   "execution_count": 29,
   "id": "5f2e9971",
   "metadata": {},
   "outputs": [
    {
     "name": "stdout",
     "output_type": "stream",
     "text": [
      "2023 RMSE: 6.44\n",
      "2023 R²: 0.836\n"
     ]
    },
    {
     "data": {
      "application/vnd.plotly.v1+json": {
       "config": {
        "plotlyServerURL": "https://plot.ly"
       },
       "data": [
        {
         "customdata": [
          [
           "Eldin Jakupovic",
           38
          ],
          [
           "James Milner",
           37
          ],
          [
           "Óscar Ustari",
           36
          ],
          [
           "Gabriel Tamas",
           39
          ],
          [
           "Cristiano Ronaldo",
           38
          ],
          [
           "Shaun MacDonald",
           34
          ],
          [
           "Phil Jagielka",
           40
          ],
          [
           "Andy Lonergan",
           39
          ],
          [
           "Ashley Young",
           37
          ],
          [
           "Scott Carson",
           37
          ],
          [
           "Phil Bardsley",
           37
          ],
          [
           "David Martin",
           37
          ],
          [
           "Casemiro",
           31
          ],
          [
           "Hugo Lloris",
           36
          ],
          [
           "Curtis Davies",
           38
          ],
          [
           "Willy Caballero",
           41
          ],
          [
           "Fernandinho",
           38
          ],
          [
           "Nenê",
           42
          ],
          [
           "Thiago Silva",
           38
          ],
          [
           "Lukasz Fabianski",
           38
          ],
          [
           "John Ruddy",
           36
          ],
          [
           "Chu-young Park",
           37
          ],
          [
           "Dusan Kuciak",
           38
          ],
          [
           "Tim Krul",
           35
          ],
          [
           "Lukas Jutkiewicz",
           34
          ],
          [
           "Theo Walcott",
           34
          ],
          [
           "Alex Smithies",
           33
          ],
          [
           "Asmir Begovic",
           36
          ],
          [
           "Tom Heaton",
           37
          ],
          [
           "Richard Stearman",
           35
          ],
          [
           "Lewis Grabban",
           35
          ],
          [
           "David McGoldrick",
           35
          ],
          [
           "Gaëtan Bong",
           35
          ],
          [
           "Leon Clarke",
           36
          ],
          [
           "Shane Long",
           36
          ],
          [
           "Kamil Grosicki",
           35
          ],
          [
           "Martin Olsson",
           35
          ],
          [
           "Lee Peltier",
           36
          ],
          [
           "Adrian Mariappa",
           36
          ],
          [
           "Kei Kamara",
           38
          ],
          [
           "Mario Vrancic",
           33
          ],
          [
           "Jozy Altidore",
           33
          ],
          [
           "Brad Guzan",
           38
          ],
          [
           "Marouane Fellaini",
           35
          ],
          [
           "Ryan Bertrand",
           33
          ],
          [
           "Liam Bridcutt",
           34
          ],
          [
           "Jack Cork",
           33
          ],
          [
           "James McArthur",
           35
          ],
          [
           "Sone Aluko",
           34
          ],
          [
           "Fraizer Campbell",
           35
          ],
          [
           "Jonny Evans",
           35
          ],
          [
           "Gary Hooper",
           35
          ],
          [
           "Gaetano Berardi",
           34
          ],
          [
           "Elliott Bennett",
           34
          ],
          [
           "Stephen Quinn",
           35
          ],
          [
           "Adam Lallana",
           35
          ],
          [
           "Erik Pieters",
           34
          ],
          [
           "Chris Gunter",
           34
          ],
          [
           "Bojan Krkic",
           32
          ],
          [
           "Beram Kayal",
           35
          ],
          [
           "Diego Costa",
           34
          ],
          [
           "Henri Lansbury",
           32
          ],
          [
           "Dan Gosling",
           33
          ],
          [
           "Claudio Yacob",
           35
          ],
          [
           "Jonathan Howson",
           35
          ],
          [
           "Wayne Hennessey",
           36
          ],
          [
           "Marco Stiepermann",
           32
          ],
          [
           "Fabri",
           35
          ],
          [
           "Luke Daniels",
           35
          ],
          [
           "Chris Martin",
           34
          ],
          [
           "Pablo Hernández",
           37
          ],
          [
           "Lovre Kalinic",
           33
          ],
          [
           "David Luiz",
           35
          ],
          [
           "Teemu Pukki",
           33
          ],
          [
           "Alex Pearce",
           34
          ],
          [
           "Jason Puncheon",
           36
          ],
          [
           "Angelo Ogbonna",
           35
          ],
          [
           "Andy Carroll",
           34
          ],
          [
           "Sam Vokes",
           33
          ],
          [
           "Jordan Rhodes",
           33
          ],
          [
           "Bradley Johnson",
           36
          ],
          [
           "James Perch",
           35
          ],
          [
           "Elias Kachunga",
           31
          ],
          [
           "Billy Sharp",
           37
          ],
          [
           "Andreas Weimann",
           31
          ],
          [
           "Danny Rose",
           32
          ],
          [
           "Christian Benteke",
           32
          ],
          [
           "Chicharito",
           35
          ],
          [
           "Aleksandar Mitrović",
           28
          ],
          [
           "Carlos Sánchez",
           36
          ],
          [
           "Darren Randolph",
           36
          ],
          [
           "Joe Allen",
           33
          ],
          [
           "Mateo Kovacic",
           29
          ],
          [
           "Henri Saivet",
           32
          ],
          [
           "Wellington Paulista",
           39
          ],
          [
           "Zanka",
           33
          ],
          [
           "Chris Basham",
           34
          ],
          [
           "Fraser Forster",
           35
          ],
          [
           "Willian",
           34
          ],
          [
           "Jay Rodríguez",
           33
          ],
          [
           "İlkay Gündoğan",
           32
          ],
          [
           "John Fleck",
           31
          ],
          [
           "Sebastián Blanco",
           35
          ],
          [
           "Magnus Wolff Eikrem",
           32
          ],
          [
           "Chris Löwe",
           34
          ],
          [
           "Harry Arter",
           33
          ],
          [
           "Jack Rodwell",
           32
          ],
          [
           "Jordon Mutch",
           31
          ],
          [
           "Simon Dawkins",
           35
          ],
          [
           "Christopher Schindler",
           33
          ],
          [
           "Emilio Nsue",
           33
          ],
          [
           "Craig Cathcart",
           34
          ],
          [
           "Thiago Alcántara",
           32
          ],
          [
           "Sean Scannell",
           30
          ],
          [
           "Marc Albrighton",
           33
          ],
          [
           "Barry Bannan",
           33
          ],
          [
           "Jonathan Hogg",
           34
          ],
          [
           "James Tomkins",
           34
          ],
          [
           "Jack Colback",
           33
          ],
          [
           "Conor Hourihane",
           32
          ],
          [
           "Neil Etheridge",
           33
          ],
          [
           "Wes Foderingham",
           32
          ],
          [
           "David Button",
           34
          ],
          [
           "Jake Livermore",
           33
          ],
          [
           "Adam Smith",
           32
          ],
          [
           "Stefan Johansen",
           32
          ],
          [
           "Shane Ferguson",
           31
          ],
          [
           "Vegard Forren",
           33
          ],
          [
           "Odion Ighalo",
           33
          ],
          [
           "Scott Dann",
           36
          ],
          [
           "Tomás Mejías",
           34
          ],
          [
           "Ashley Barnes",
           33
          ],
          [
           "Aron Gunnarsson",
           33
          ],
          [
           "Libor Kozak",
           33
          ],
          [
           "Troy Deeney",
           34
          ],
          [
           "Kyle Naughton",
           34
          ],
          [
           "Luke Freeman",
           31
          ],
          [
           "Cheikhou Kouyaté",
           33
          ],
          [
           "Gary Madine",
           32
          ],
          [
           "Danny Welbeck",
           32
          ],
          [
           "Sam Baldock",
           34
          ],
          [
           "Mark Oxley",
           27
          ],
          [
           "Ryan Bennett",
           33
          ],
          [
           "Ben Hamer",
           35
          ],
          [
           "David Stockdale",
           37
          ],
          [
           "Luke Ayling",
           31
          ],
          [
           "Kyle Bartley",
           31
          ],
          [
           "Michal Zyro",
           30
          ],
          [
           "Séamus Coleman",
           34
          ],
          [
           "Giedrius Arlauskis",
           35
          ],
          [
           "Christian Eriksen",
           31
          ],
          [
           "Garath McCleary",
           36
          ],
          [
           "Róger Espinoza",
           36
          ],
          [
           "Bernd Leno",
           31
          ],
          [
           "Adam Clayton",
           33
          ],
          [
           "Ben Amos",
           33
          ],
          [
           "James Chester",
           34
          ],
          [
           "Tom Cleverley",
           33
          ],
          [
           "Danny Drinkwater",
           33
          ],
          [
           "Matty James",
           31
          ],
          [
           "Oliver Norwood",
           32
          ],
          [
           "Jason Steele",
           32
          ],
          [
           "Pablo Sarabia",
           31
          ],
          [
           "Luka Milivojevic",
           31
          ],
          [
           "Adlène Guédioura",
           38
          ],
          [
           "Ben Mee",
           33
          ],
          [
           "Juraj Kucka",
           36
          ],
          [
           "Martin Dúbravka",
           34
          ],
          [
           "Liam Cooper",
           31
          ],
          [
           "Robin Olsen",
           33
          ],
          [
           "Niclas Füllkrug",
           30
          ],
          [
           "Lucas Moura",
           30
          ],
          [
           "Matt Phillips",
           32
          ],
          [
           "George Friend",
           35
          ],
          [
           "Thomas Kaminski",
           30
          ],
          [
           "Victor Wanyama",
           32
          ],
          [
           "Martin Kelly",
           33
          ],
          [
           "Daniel Ayala",
           32
          ],
          [
           "Sean Morrison",
           32
          ],
          [
           "Salomón Rondón",
           33
          ],
          [
           "Korey Smith",
           32
          ],
          [
           "Philippe Coutinho",
           30
          ],
          [
           "Craig Noone",
           35
          ],
          [
           "Tadanari Lee",
           37
          ],
          [
           "Sung-yueng Ki",
           34
          ],
          [
           "Chung-yong Lee",
           34
          ],
          [
           "Joel Matip",
           31
          ],
          [
           "Moritz Leitner",
           30
          ],
          [
           "Albert Adomah",
           35
          ],
          [
           "Nathaniel Clyne",
           32
          ],
          [
           "Oscar",
           31
          ],
          [
           "Borja Bastón",
           30
          ],
          [
           "Federico Fernández",
           34
          ],
          [
           "Enda Stevens",
           32
          ],
          [
           "Loris Karius",
           30
          ],
          [
           "Danny Lafferty",
           34
          ],
          [
           "James McClean",
           34
          ],
          [
           "Stefan Ortega",
           30
          ],
          [
           "Thomas Eisfeld",
           30
          ],
          [
           "Valentin Roberge",
           35
          ],
          [
           "Junior Stanislas",
           33
          ],
          [
           "Luca Scapuzzi",
           32
          ],
          [
           "Kevin De Bruyne",
           31
          ],
          [
           "Jonathan Kodjia",
           33
          ],
          [
           "Jóhann Berg Gudmundsson",
           32
          ],
          [
           "David Cornell",
           32
          ],
          [
           "Román Golobart",
           30
          ],
          [
           "Steve Cook",
           32
          ],
          [
           "Joe Bennett",
           33
          ],
          [
           "John Brayford",
           35
          ],
          [
           "Ashley Westwood",
           33
          ],
          [
           "James Shea",
           31
          ],
          [
           "Heung-min Son",
           30
          ],
          [
           "Sammy Ameobi",
           31
          ],
          [
           "Matt Ritchie",
           33
          ],
          [
           "Aaron Cresswell",
           33
          ],
          [
           "Joel Ward",
           33
          ],
          [
           "Mateusz Klich",
           33
          ],
          [
           "Kalidou Koulibaly",
           31
          ],
          [
           "Adama Diomande",
           32
          ],
          [
           "Marcos Rojo",
           33
          ],
          [
           "Stuart O'Keefe",
           30
          ],
          [
           "Muhamed Besic",
           30
          ],
          [
           "Jordan Bowery",
           26
          ],
          [
           "Connor Wickham",
           28
          ],
          [
           "Kieran Trippier",
           32
          ],
          [
           "Alex McCarthy",
           33
          ],
          [
           "Ciaran Clark",
           33
          ],
          [
           "Jannik Vestergaard",
           30
          ],
          [
           "Karl Darlow",
           32
          ],
          [
           "Matej Vydra",
           31
          ],
          [
           "Scott Malone",
           32
          ],
          [
           "Jorginho",
           31
          ],
          [
           "Matthew Lowton",
           34
          ],
          [
           "Michail Antonio",
           33
          ],
          [
           "Lyle Taylor",
           33
          ],
          [
           "Filip Orsula",
           30
          ],
          [
           "Alisson",
           30
          ],
          [
           "Jordan Ayew",
           31
          ],
          [
           "Chris Wood",
           31
          ],
          [
           "Adam Matthews",
           29
          ],
          [
           "Onel Hernández",
           30
          ],
          [
           "Luke Garbutt",
           29
          ],
          [
           "Gary Gardner",
           30
          ],
          [
           "Sam Johnstone",
           30
          ],
          [
           "Jed Steer",
           30
          ],
          [
           "Ryan Tunnicliffe",
           30
          ],
          [
           "Ryan Allsop",
           30
          ],
          [
           "Kevin Long",
           32
          ],
          [
           "Joël Veltman",
           31
          ],
          [
           "Sead Hajrovic",
           29
          ],
          [
           "Neeskens Kebano",
           31
          ],
          [
           "Ahmed Hegazy",
           31
          ],
          [
           "Neto",
           33
          ],
          [
           "Emiliano Martínez",
           30
          ],
          [
           "Philip Heise",
           32
          ],
          [
           "Tomer Hemed",
           36
          ],
          [
           "Cédric Soares",
           31
          ],
          [
           "Romaine Sawyers",
           31
          ],
          [
           "Greg Cunningham",
           32
          ],
          [
           "Richie Towell",
           31
          ],
          [
           "Luke Brattan",
           33
          ],
          [
           "Marcus Bettinelli",
           31
          ],
          [
           "Phil Jones",
           31
          ],
          [
           "Michael Keane",
           30
          ],
          [
           "Will Keane",
           30
          ],
          [
           "Ezequiel Schelotto",
           33
          ],
          [
           "Shane Duffy",
           31
          ],
          [
           "Jack Grimmer",
           29
          ],
          [
           "Daniel Bachmann",
           28
          ],
          [
           "Jazz Richards",
           32
          ],
          [
           "Alphonse Areola",
           30
          ],
          [
           "Joe Mason",
           32
          ],
          [
           "Kwesi Appiah",
           31
          ],
          [
           "Adam Davies",
           30
          ],
          [
           "Adam Forshaw",
           31
          ],
          [
           "Ryan Watson",
           24
          ],
          [
           "Tom Carroll",
           31
          ],
          [
           "John Egan",
           30
          ],
          [
           "Grant Hanley",
           31
          ],
          [
           "Eirik Johansen",
           30
          ],
          [
           "Tommy Smith",
           31
          ],
          [
           "Emyr Huws",
           27
          ],
          [
           "Craig Dawson",
           33
          ],
          [
           "Wellington Silva",
           30
          ],
          [
           "Markus Henriksen",
           30
          ],
          [
           "Sam Clucas",
           32
          ],
          [
           "Nico Yennaris",
           29
          ],
          [
           "Ali Gabr",
           34
          ],
          [
           "Tom Cairney",
           32
          ],
          [
           "Simon Moore",
           33
          ],
          [
           "Sam Morsy",
           31
          ],
          [
           "Callum Wilson",
           31
          ],
          [
           "Danny Ward",
           32
          ],
          [
           "Odysseas Vlachodimos",
           29
          ],
          [
           "Grant Hall",
           31
          ],
          [
           "Pontus Jansson",
           32
          ],
          [
           "Nathaniel Mendez-Laing",
           31
          ],
          [
           "Luke Berry",
           30
          ],
          [
           "Mark Flekken",
           30
          ],
          [
           "Lee Nicholls",
           30
          ],
          [
           "Carl Jenkinson",
           31
          ],
          [
           "Allan",
           32
          ],
          [
           "Kenny McLean",
           31
          ],
          [
           "Lucas Digne",
           29
          ],
          [
           "Idrissa Gueye",
           33
          ],
          [
           "Serge Aurier",
           30
          ],
          [
           "Abdoulaye Doucouré",
           30
          ],
          [
           "Matz Sels",
           31
          ],
          [
           "Robbie Brady",
           31
          ],
          [
           "Scott Wootton",
           31
          ],
          [
           "Derrick Williams",
           30
          ],
          [
           "Bo-kyung Kim",
           33
          ],
          [
           "Tom Anderson",
           24
          ],
          [
           "Jamal Blackman",
           29
          ],
          [
           "Nathaniel Chalobah",
           28
          ],
          [
           "Conor Coady",
           30
          ],
          [
           "Ben Gibson",
           30
          ],
          [
           "Liam Moore",
           30
          ],
          [
           "Jack Robinson",
           29
          ],
          [
           "Ethan Ebanks-Landell",
           26
          ],
          [
           "Nathan Redmond",
           29
          ],
          [
           "Charlie Austin",
           33
          ],
          [
           "Jordan Pickford",
           29
          ],
          [
           "Stuart Armstrong",
           31
          ],
          [
           "Jonathan Bond",
           30
          ],
          [
           "Juan Agudelo",
           30
          ],
          [
           "Rodrigo",
           32
          ],
          [
           "Roberto Firmino",
           31
          ],
          [
           "Ross Barkley",
           29
          ],
          [
           "Phil Ofosu-Ayeh",
           31
          ],
          [
           "Dan Burn",
           30
          ],
          [
           "Danny Ings",
           30
          ],
          [
           "Matthias Fanimo",
           29
          ],
          [
           "Nick Powell",
           29
          ],
          [
           "Raheem Sterling",
           28
          ],
          [
           "Blair Turgott",
           29
          ],
          [
           "André Carrillo",
           31
          ],
          [
           "Fabian Schär",
           31
          ],
          [
           "Manuel Lanzini",
           30
          ],
          [
           "Daniel Bentley",
           29
          ],
          [
           "Kadeem Harris",
           30
          ],
          [
           "Marçal",
           34
          ],
          [
           "Jakob Haugaard",
           31
          ],
          [
           "Virgil van Dijk",
           31
          ],
          [
           "Ryan Fredericks",
           30
          ],
          [
           "Josip Drmic",
           30
          ],
          [
           "Liam O'Neil",
           30
          ],
          [
           "George Saville",
           29
          ],
          [
           "Zeki Fryers",
           28
          ],
          [
           "Jesse Lingard",
           30
          ],
          [
           "Willy Boly",
           32
          ],
          [
           "Mark Gillespie",
           31
          ],
          [
           "Krisztián Adorján",
           29
          ],
          [
           "Leandro Trossard",
           28
          ],
          [
           "Tim Ream",
           35
          ],
          [
           "Wataru Endo",
           30
          ],
          [
           "Conor Townsend",
           30
          ],
          [
           "George Baldock",
           30
          ],
          [
           "Ryan Fraser",
           29
          ],
          [
           "Lewis Dunk",
           31
          ],
          [
           "Jeff Hendrick",
           31
          ],
          [
           "Christian Nørgaard",
           29
          ],
          [
           "Divock Origi",
           28
          ],
          [
           "Mohamed Salah",
           31
          ],
          [
           "Tomas Kalas",
           30
          ],
          [
           "Jiri Skalak",
           31
          ],
          [
           "Todd Kane",
           29
          ],
          [
           "Felipe",
           33
          ],
          [
           "Tyias Browning",
           28
          ],
          [
           "Ben Heneghan",
           29
          ],
          [
           "Tom Ince",
           31
          ],
          [
           "Michael Hector",
           30
          ],
          [
           "Kurt Zouma",
           28
          ],
          [
           "Vladimír Coufal",
           30
          ],
          [
           "Cyrus Christie",
           30
          ],
          [
           "Tendayi Darikwa",
           31
          ],
          [
           "Kieron Freeman",
           31
          ],
          [
           "Max Ehmer",
           25
          ],
          [
           "Stuart Dallas",
           32
          ],
          [
           "Mesca",
           29
          ],
          [
           "Mohamed Elneny",
           30
          ],
          [
           "Adam Reach",
           30
          ],
          [
           "Connor Ripley",
           30
          ],
          [
           "Adam Smith",
           30
          ],
          [
           "Jack Stephens",
           29
          ],
          [
           "Rory Donnelly",
           31
          ],
          [
           "Raphaël Varane",
           29
          ],
          [
           "Jürgen Locadia",
           29
          ],
          [
           "Paddy McNair",
           28
          ],
          [
           "James Husband",
           29
          ],
          [
           "Daniel Johnson",
           30
          ],
          [
           "Callum Paterson",
           28
          ],
          [
           "Cauley Woodrow",
           28
          ],
          [
           "Paul Dummett",
           31
          ],
          [
           "Jonathan Williams",
           30
          ],
          [
           "Timo Werner",
           27
          ],
          [
           "Cody Cropper",
           30
          ],
          [
           "Ben Reeves",
           25
          ],
          [
           "Jay Fulton",
           29
          ],
          [
           "Riyad Mahrez",
           32
          ],
          [
           "Matt Doherty",
           31
          ],
          [
           "Nahki Wells",
           32
          ],
          [
           "James Tarkowski",
           30
          ],
          [
           "Hélder Costa",
           29
          ],
          [
           "Brad Smith",
           29
          ],
          [
           "Sebastian Lletget",
           30
          ],
          [
           "Aymeric Laporte",
           29
          ],
          [
           "Florin Andone",
           30
          ],
          [
           "Nathan Aké",
           28
          ],
          [
           "Charly Musonda Jr.",
           26
          ],
          [
           "Graham Burke",
           29
          ],
          [
           "Harry Maguire",
           30
          ],
          [
           "Jean Michaël Seri",
           31
          ],
          [
           "Donald Love",
           28
          ],
          [
           "Curtis Good",
           30
          ],
          [
           "George Evans",
           28
          ],
          [
           "James Ward-Prowse",
           28
          ],
          [
           "Massimo Luongo",
           30
          ],
          [
           "Emerson",
           28
          ],
          [
           "Jordan Graham",
           28
          ],
          [
           "Ryan Inniss",
           28
          ],
          [
           "Luke Shaw",
           27
          ],
          [
           "Joe Rothwell",
           28
          ],
          [
           "Callum Robinson",
           28
          ],
          [
           "Luke McGee",
           27
          ],
          [
           "Ben Pearson",
           28
          ],
          [
           "Jamaal Lascelles",
           29
          ],
          [
           "Patrick Bamford",
           29
          ],
          [
           "Gregor Zabret",
           27
          ],
          [
           "Jordan Clark",
           29
          ],
          [
           "Ming-Yang Yang",
           27
          ],
          [
           "Tom Hopper",
           29
          ],
          [
           "Emil Krafth",
           28
          ],
          [
           "Victor Lindelöf",
           28
          ],
          [
           "Bobby De Cordova-Reid",
           30
          ],
          [
           "John Stones",
           29
          ],
          [
           "Marek Rodák",
           26
          ],
          [
           "Jack Rose",
           23
          ],
          [
           "Ryan Christie",
           28
          ],
          [
           "Michael Petrasso",
           27
          ],
          [
           "Sean Maguire",
           29
          ],
          [
           "Nick Pope",
           31
          ],
          [
           "Kepa Arrizabalaga",
           28
          ],
          [
           "Ben Davies",
           29
          ],
          [
           "Álex Moreno",
           29
          ],
          [
           "John McGinn",
           28
          ],
          [
           "Joe Bryan",
           29
          ],
          [
           "Charlie Taylor",
           29
          ],
          [
           "Adedeji Oshilaja",
           30
          ],
          [
           "Joe Ralls",
           29
          ],
          [
           "Remi Matthews",
           29
          ],
          [
           "John Swift",
           27
          ],
          [
           "Janoi Donacien",
           29
          ],
          [
           "Josh Sheehan",
           28
          ],
          [
           "Jamie Vardy",
           36
          ],
          [
           "Liam Shephard",
           22
          ],
          [
           "Harry Toffolo",
           27
          ],
          [
           "Lewis Baker",
           28
          ],
          [
           "Sam Hoskins",
           23
          ],
          [
           "Jacob Murphy",
           28
          ],
          [
           "Josh Murphy",
           28
          ],
          [
           "Kevin Stewart",
           29
          ],
          [
           "Angus Gunn",
           27
          ],
          [
           "Danny Ward",
           30
          ],
          [
           "Conor McGrandles",
           27
          ],
          [
           "Andreas Pereira",
           27
          ],
          [
           "Jack Grealish",
           27
          ],
          [
           "Oleksandr Zinchenko",
           26
          ],
          [
           "Adama Traoré",
           27
          ],
          [
           "Saman Ghoddos",
           29
          ],
          [
           "Dejan Iliev",
           28
          ],
          [
           "Raúl Jiménez",
           32
          ],
          [
           "Isaac Hayden",
           28
          ],
          [
           "Kenny Tete",
           27
          ],
          [
           "Will Hughes",
           28
          ],
          [
           "Dan Potts",
           29
          ],
          [
           "Tom Lockyer",
           28
          ],
          [
           "Louis Thompson",
           28
          ],
          [
           "Brendan Galloway",
           27
          ],
          [
           "Christian Walton",
           27
          ],
          [
           "Solly March",
           28
          ],
          [
           "Oumar Niasse",
           33
          ],
          [
           "Jack O'Connell",
           29
          ],
          [
           "Adam Webster",
           28
          ],
          [
           "David Ferguson",
           22
          ],
          [
           "Connor Roberts",
           27
          ],
          [
           "Kean Bryan",
           26
          ],
          [
           "Calum Chambers",
           28
          ],
          [
           "Tom King",
           27
          ],
          [
           "Ricardo Pereira",
           29
          ],
          [
           "Ben Osborn",
           28
          ],
          [
           "George Honeyman",
           28
          ],
          [
           "Conor Grant",
           28
          ],
          [
           "Matthew Pennington",
           28
          ],
          [
           "Zack Steffen",
           28
          ],
          [
           "Alex Gilliead",
           22
          ],
          [
           "Joel Dixon",
           29
          ],
          [
           "Danilo Pantic",
           26
          ],
          [
           "Luke Simpson",
           29
          ],
          [
           "N'Golo Kanté",
           32
          ],
          [
           "Gonçalo Guedes",
           26
          ],
          [
           "Rúben Neves",
           26
          ],
          [
           "Fabinho",
           29
          ],
          [
           "Matheus Pereira",
           26
          ],
          [
           "Freddie Woodman",
           26
          ],
          [
           "Sean Raggett",
           29
          ],
          [
           "Anthony Cáceres",
           30
          ],
          [
           "Dominic Gape",
           28
          ],
          [
           "Lloyd Isgrove",
           30
          ],
          [
           "Harrison Reed",
           28
          ],
          [
           "Sam Gallagher",
           27
          ],
          [
           "Jason McCarthy",
           27
          ],
          [
           "Gedion Zelalem",
           26
          ],
          [
           "Thomas Partey",
           30
          ],
          [
           "Nélson Semedo",
           29
          ],
          [
           "Emiliano Marcondes",
           28
          ],
          [
           "Kortney Hause",
           27
          ],
          [
           "Freddie Ladapo",
           30
          ],
          [
           "André Onana",
           26
          ],
          [
           "Andrew Robertson",
           29
          ],
          [
           "Ola Aina",
           26
          ],
          [
           "Connor Ogilvie",
           27
          ],
          [
           "Sam Byram",
           29
          ],
          [
           "Ederson",
           29
          ],
          [
           "Leandro Rodríguez",
           30
          ],
          [
           "Jamal Lowe",
           28
          ],
          [
           "George Byers",
           27
          ],
          [
           "Bruno Fernandes",
           28
          ],
          [
           "Bernardo Silva",
           28
          ],
          [
           "Jindrich Stanek",
           27
          ],
          [
           "Ethan Horvath",
           27
          ],
          [
           "Gethin Jones",
           27
          ],
          [
           "Courtney Duffus",
           27
          ],
          [
           "Josh Cullen",
           26
          ],
          [
           "Alex Iwobi",
           27
          ],
          [
           "Nathan Mavila",
           27
          ],
          [
           "Lewis Page",
           24
          ],
          [
           "Josh Vickers",
           27
          ],
          [
           "Jan Bednarek",
           27
          ],
          [
           "Josh Onomah",
           26
          ],
          [
           "Lawrence Vigouroux",
           27
          ],
          [
           "Lloyd Jones",
           27
          ],
          [
           "Hiram Boateng",
           25
          ],
          [
           "Pelly Ruddock Mpanzu",
           29
          ],
          [
           "Jon Gorenc Stankovic",
           27
          ],
          [
           "Saša Lukić",
           26
          ],
          [
           "Reece James",
           29
          ],
          [
           "Alex Palmer",
           26
          ],
          [
           "Bartosz Kapustka",
           26
          ],
          [
           "Carlton Morris",
           27
          ],
          [
           "Duncan Watmore",
           29
          ],
          [
           "Lewis Cook",
           26
          ],
          [
           "Harry Winks",
           27
          ],
          [
           "Jack Stacey",
           27
          ],
          [
           "Youri Tielemans",
           26
          ],
          [
           "Tariqe Fosu",
           27
          ],
          [
           "José Sá",
           30
          ],
          [
           "Adam Armstrong",
           26
          ],
          [
           "Jamie Sterry",
           25
          ],
          [
           "Matt Targett",
           27
          ],
          [
           "Enes Ünal",
           25
          ],
          [
           "Jordan Lyden",
           25
          ],
          [
           "Ivan Toney",
           27
          ],
          [
           "Semi Ajayi",
           29
          ],
          [
           "Ken Sema",
           29
          ],
          [
           "Rob Holding",
           27
          ],
          [
           "Tyrone Mings",
           30
          ],
          [
           "Harry Cornick",
           28
          ],
          [
           "Wes Burns",
           28
          ],
          [
           "Samir Caetano",
           28
          ],
          [
           "Cameron Burgess",
           27
          ],
          [
           "Joe Gomez",
           25
          ],
          [
           "Adnan Maric",
           26
          ],
          [
           "Dan Barlaser",
           26
          ],
          [
           "Tommy Robson",
           28
          ],
          [
           "Rúben Dias",
           26
          ],
          [
           "Kasey Palmer",
           26
          ],
          [
           "Tom Beadling",
           25
          ],
          [
           "Tosin Adarabioyo",
           25
          ],
          [
           "Ryan Ledson",
           25
          ],
          [
           "Max Lowe",
           26
          ],
          [
           "Kyle Scott",
           25
          ],
          [
           "Dominic Solanke",
           25
          ],
          [
           "Dean Henderson",
           26
          ],
          [
           "Marcus Rashford",
           25
          ],
          [
           "Joachim Andersen",
           27
          ],
          [
           "Daniel Iversen",
           25
          ],
          [
           "Cameron Brannagan",
           27
          ],
          [
           "Filip Krovinovic",
           27
          ],
          [
           "Timothy Castagne",
           27
          ],
          [
           "Ryan Manning",
           26
          ],
          [
           "David Raya",
           27
          ],
          [
           "Soufyan Ahannach",
           27
          ],
          [
           "Jefferson Lerma",
           28
          ],
          [
           "Kevin Danso",
           24
          ],
          [
           "Harry Charsley",
           26
          ],
          [
           "Reece Burke",
           26
          ],
          [
           "Kevin Toner",
           26
          ],
          [
           "Matt Grimes",
           27
          ],
          [
           "Joe Williams",
           26
          ],
          [
           "Vitaly Janelt",
           24
          ],
          [
           "Callum Elder",
           28
          ],
          [
           "Sylvain Deslandes",
           25
          ],
          [
           "Issa Diop",
           26
          ],
          [
           "Paul Onuachu",
           28
          ],
          [
           "Miguel Almirón",
           29
          ],
          [
           "Jonathan Benteke",
           28
          ],
          [
           "Wilfred Ndidi",
           26
          ],
          [
           "Kieffer Moore",
           30
          ],
          [
           "David Brooks",
           25
          ],
          [
           "Jack Payne",
           28
          ],
          [
           "Amari'i Bell",
           29
          ],
          [
           "MJ Williams",
           27
          ],
          [
           "Harry Wilson",
           26
          ],
          [
           "Sergio Reguilón",
           26
          ],
          [
           "Corey Blackett-Taylor",
           25
          ],
          [
           "Alfie Whiteman",
           24
          ],
          [
           "Tomas Soucek",
           28
          ],
          [
           "Grant Ward",
           28
          ],
          [
           "Manuel Akanji",
           27
          ],
          [
           "Marc Cucurella",
           24
          ],
          [
           "Will Norris",
           29
          ],
          [
           "Joel Coleman",
           25
          ],
          [
           "Harry Burgoyne",
           26
          ],
          [
           "Guglielmo Vicario",
           26
          ],
          [
           "Joe Lolley",
           30
          ],
          [
           "Krystian Bielik",
           25
          ],
          [
           "Connor Mahoney",
           26
          ],
          [
           "Orel Mangala",
           25
          ],
          [
           "Josh Harrop",
           27
          ],
          [
           "Ashley Fletcher",
           27
          ],
          [
           "Saïd Benrahma",
           27
          ],
          [
           "Jordan Hugill",
           30
          ],
          [
           "Sammie Szmodics",
           27
          ],
          [
           "Hee-chan Hwang",
           27
          ],
          [
           "Demarai Gray",
           26
          ],
          [
           "Wout Faes",
           25
          ],
          [
           "Matija Sarkic",
           25
          ],
          [
           "Baily Cargill",
           28
          ],
          [
           "Josh Brownhill",
           27
          ],
          [
           "Conor Masterson",
           24
          ],
          [
           "James Maddison",
           26
          ],
          [
           "Nathan",
           27
          ],
          [
           "Taiwo Awoniyi",
           25
          ],
          [
           "Kelechi Iheanacho",
           26
          ],
          [
           "Marco Asensio",
           27
          ],
          [
           "Tyler Roberts",
           24
          ],
          [
           "Joe Rodon",
           25
          ],
          [
           "Harry Souttar",
           24
          ],
          [
           "Courtney Baker-Richardson",
           25
          ],
          [
           "George Thomas",
           26
          ],
          [
           "Kieran Tierney",
           26
          ],
          [
           "Fred Onyedinma",
           26
          ],
          [
           "Dominic Calvert-Lewin",
           26
          ],
          [
           "Matt Clarke",
           26
          ],
          [
           "Lynden Gooch",
           27
          ],
          [
           "Callum Connolly",
           25
          ],
          [
           "Jan Mlakar",
           24
          ],
          [
           "Kai Havertz",
           24
          ],
          [
           "Andre Green",
           24
          ],
          [
           "Ramadan Sobhi",
           26
          ],
          [
           "Liam Gibson",
           26
          ],
          [
           "Dael Fry",
           25
          ],
          [
           "Karlan Grant",
           25
          ],
          [
           "Tom Davies",
           24
          ],
          [
           "Rushian Hepburn-Murphy",
           24
          ],
          [
           "Herbie Kane",
           24
          ],
          [
           "Jonathan Leko",
           24
          ],
          [
           "Chris Willock",
           25
          ],
          [
           "Trent Alexander-Arnold",
           24
          ],
          [
           "Kyle Edwards",
           25
          ],
          [
           "Darnell Johnson",
           24
          ],
          [
           "Admiral Muskwe",
           24
          ],
          [
           "Ben Sheaf",
           25
          ],
          [
           "Jarrod Bowen",
           26
          ],
          [
           "Ben Chilwell",
           26
          ],
          [
           "Martin Ødegaard",
           24
          ],
          [
           "Jake Clarke-Salter",
           25
          ],
          [
           "Mateusz Hewelt",
           25
          ],
          [
           "Vlad Dragomir",
           23
          ],
          [
           "Daniel James",
           25
          ],
          [
           "Mathias Jensen",
           27
          ],
          [
           "Elijah Adebayo",
           25
          ],
          [
           "Anthony Georgiou",
           25
          ],
          [
           "Benny Ashley-Seal",
           24
          ],
          [
           "Benson Manuel",
           25
          ],
          [
           "Gustavo Hamer",
           25
          ],
          [
           "James Bree",
           25
          ],
          [
           "Ollie Watkins",
           27
          ],
          [
           "Marvelous Nakamba",
           29
          ],
          [
           "Donyell Malen",
           24
          ],
          [
           "Matthijs de Ligt",
           23
          ],
          [
           "Jaroslaw Jach",
           29
          ],
          [
           "Kristoffer Ajer",
           25
          ],
          [
           "João Virgínia",
           23
          ],
          [
           "Justin Kluivert",
           23
          ],
          [
           "Takehiro Tomiyasu",
           24
          ],
          [
           "Tyler Adams",
           24
          ],
          [
           "Sander Berge",
           25
          ],
          [
           "Joelinton",
           26
          ],
          [
           "Ben White",
           25
          ],
          [
           "Altay Bayındır",
           24
          ],
          [
           "Joe Lumley",
           28
          ],
          [
           "Nathan Holland",
           25
          ],
          [
           "Connor Ronan",
           25
          ],
          [
           "Konstantinos Tsimikas",
           27
          ],
          [
           "Mikel Merino",
           26
          ],
          [
           "Hannes Delcroix",
           23
          ],
          [
           "Daniel Grimshaw",
           25
          ],
          [
           "Rico Henry",
           25
          ],
          [
           "Josh Pask",
           25
          ],
          [
           "Regan Poole",
           25
          ],
          [
           "Tolaji Bola",
           24
          ],
          [
           "Marcus McGuane",
           24
          ],
          [
           "Josh Dasilva",
           24
          ],
          [
           "Eddie Nketiah",
           24
          ],
          [
           "Reiss Nelson",
           23
          ],
          [
           "Stephy Mavididi",
           24
          ],
          [
           "Joe Willock",
           23
          ],
          [
           "Noussair Mazraoui",
           25
          ],
          [
           "Caoimhín Kelleher",
           24
          ],
          [
           "Diogo Jota",
           26
          ],
          [
           "Harry Lewis",
           25
          ],
          [
           "Kyle Walker-Peters",
           26
          ],
          [
           "Federico Chiesa",
           25
          ],
          [
           "Hamza Choudhury",
           25
          ],
          [
           "Elliott Moore",
           26
          ],
          [
           "Axel Tuanzebe",
           25
          ],
          [
           "Grady Diangana",
           25
          ],
          [
           "Nathan Baxter",
           24
          ],
          [
           "Guido Rodríguez",
           29
          ],
          [
           "Ben Godfrey",
           25
          ],
          [
           "Nathan Broadhead",
           25
          ],
          [
           "Ben Woodburn",
           23
          ],
          [
           "Odsonne Edouard",
           25
          ],
          [
           "Christopher Nkunku",
           25
          ],
          [
           "Boubakary Soumaré",
           24
          ],
          [
           "Tahith Chong",
           23
          ],
          [
           "Shayon Harrison",
           26
          ],
          [
           "Djair Parfitt-Williams",
           27
          ],
          [
           "Jamal Lewis",
           25
          ],
          [
           "Trevoh Chalobah",
           23
          ],
          [
           "Jordan Williams",
           23
          ],
          [
           "Tom Dele-Bashiru",
           23
          ],
          [
           "Japhet Tanganga",
           24
          ],
          [
           "Dan Nlundulu",
           24
          ],
          [
           "Mason Mount",
           24
          ],
          [
           "Sean Longstaff",
           25
          ],
          [
           "Mason Holgate",
           26
          ],
          [
           "Alexander Isak",
           23
          ],
          [
           "Conor Chaplin",
           26
          ],
          [
           "Pervis Estupiñán",
           25
          ],
          [
           "Antonee Robinson",
           25
          ],
          [
           "Shayne Lavery",
           24
          ],
          [
           "Kalvin Phillips",
           27
          ],
          [
           "Darnell Furlong",
           27
          ],
          [
           "Keshi Anderson",
           28
          ],
          [
           "Adnan Kanuric",
           22
          ],
          [
           "Joe Powell",
           24
          ],
          [
           "Rodrigo Bentancur",
           25
          ],
          [
           "Cristian Romero",
           24
          ],
          [
           "Daichi Kamada",
           26
          ],
          [
           "Ibrahima Konaté",
           24
          ],
          [
           "Diogo Dalot",
           24
          ],
          [
           "Kazaiah Sterling",
           24
          ],
          [
           "Rodri",
           26
          ],
          [
           "Jayson Molumby",
           23
          ],
          [
           "Mark Travers",
           24
          ],
          [
           "Declan Rice",
           24
          ],
          [
           "Lasse Sörensen",
           23
          ],
          [
           "Sven Botman",
           23
          ],
          [
           "Gabriel Jesus",
           26
          ],
          [
           "Elliot Embleton",
           24
          ],
          [
           "Patson Daka",
           24
          ],
          [
           "Pontus Dahlberg",
           24
          ],
          [
           "Dan Agyei",
           21
          ],
          [
           "Niall Ennis",
           24
          ],
          [
           "Ferdi Kadıoğlu",
           23
          ],
          [
           "Sasa Kalajdzic",
           25
          ],
          [
           "Arijanet Muric",
           24
          ],
          [
           "Francisco Sierralta",
           26
          ],
          [
           "Nathaniel Phillips",
           26
          ],
          [
           "Carlos Soler",
           26
          ],
          [
           "Paulinho",
           26
          ],
          [
           "Junior Firpo",
           26
          ],
          [
           "Ibrahim Sangaré",
           25
          ],
          [
           "Charlie Goode",
           27
          ],
          [
           "Anel Ahmedhodzic",
           24
          ],
          [
           "Richarlison",
           25
          ],
          [
           "Lyanco",
           26
          ],
          [
           "Igor",
           25
          ],
          [
           "Joel Mumbongo",
           23
          ],
          [
           "Wesley Moraes",
           26
          ],
          [
           "Steven Benda",
           24
          ],
          [
           "Mike Trésor",
           23
          ],
          [
           "Tyrese Campbell",
           23
          ],
          [
           "Joe Hardy",
           24
          ],
          [
           "Przemyslaw Placheta",
           25
          ],
          [
           "Axel Disasi",
           25
          ],
          [
           "Darko Churlinov",
           22
          ],
          [
           "Joe Riley",
           21
          ],
          [
           "Daiki Hashioka",
           23
          ],
          [
           "Samuel Shashoua",
           23
          ],
          [
           "Sam Field",
           25
          ],
          [
           "Leon Bailey",
           25
          ],
          [
           "Yoane Wissa",
           26
          ],
          [
           "Jacob Lungi Sörensen",
           25
          ],
          [
           "Marcus Browne",
           25
          ],
          [
           "Chiedozie Ogbene",
           26
          ],
          [
           "Marc Guéhi",
           22
          ],
          [
           "Ian Poveda",
           23
          ],
          [
           "Emile Smith Rowe",
           22
          ],
          [
           "George McEachran",
           20
          ],
          [
           "Callum Hudson-Odoi",
           22
          ],
          [
           "Marcel Lavinier",
           22
          ],
          [
           "Kane Wilson",
           23
          ],
          [
           "Ryan Sessegnon",
           23
          ],
          [
           "Josh Sargent",
           23
          ],
          [
           "Boubacar Kamara",
           23
          ],
          [
           "Claudio Gomes",
           22
          ],
          [
           "Moussa Diaby",
           23
          ],
          [
           "Sam Hughes",
           26
          ],
          [
           "Jimmy Dunne",
           25
          ],
          [
           "Ethan Hamilton",
           24
          ],
          [
           "Manor Solomon",
           23
          ],
          [
           "Dan Kemp",
           24
          ],
          [
           "Jamie Cumming",
           23
          ],
          [
           "Richard Nartey",
           23
          ],
          [
           "Sandro Tonali",
           22
          ],
          [
           "Josh Benson",
           23
          ],
          [
           "Harvey Barnes",
           25
          ],
          [
           "Sam Surridge",
           24
          ],
          [
           "Marcus Tavernier",
           24
          ],
          [
           "Pau Torres",
           26
          ],
          [
           "Mads Hermansen",
           22
          ],
          [
           "Jadon Sancho",
           23
          ],
          [
           "Dara O'Shea",
           24
          ],
          [
           "Edson Álvarez",
           25
          ],
          [
           "Michal Karbownik",
           21
          ],
          [
           "Gonzalo Montiel",
           26
          ],
          [
           "Robert Sánchez",
           25
          ],
          [
           "Jordan Beyer",
           23
          ],
          [
           "Marcus Forss",
           23
          ],
          [
           "Vitaliy Mykolenko",
           23
          ],
          [
           "Yukinari Sugawara",
           22
          ],
          [
           "Yan Valery",
           24
          ],
          [
           "Tom McGill",
           23
          ],
          [
           "Steven Sessegnon",
           23
          ],
          [
           "Timothy Eyoma",
           23
          ],
          [
           "Rhian Brewster",
           23
          ],
          [
           "Matt O'Riley",
           22
          ],
          [
           "Phil Foden",
           22
          ],
          [
           "Oliver Skipp",
           22
          ],
          [
           "Mads Andersen",
           25
          ],
          [
           "Ismaïla Sarr",
           25
          ],
          [
           "Yves Bissouma",
           26
          ],
          [
           "Pascal Struijk",
           23
          ],
          [
           "Max Sanders",
           24
          ],
          [
           "Adam Parkes",
           21
          ],
          [
           "Ibrahima Diallo",
           24
          ],
          [
           "Bryan Mbeumo",
           23
          ],
          [
           "James Justin",
           25
          ],
          [
           "Ezri Konsa",
           25
          ],
          [
           "Nikola Milenković",
           25
          ],
          [
           "Marshall Munetsi",
           26
          ],
          [
           "Mats Wieffer",
           23
          ],
          [
           "Bruno Jordão",
           24
          ],
          [
           "Konstantinos Mavropanos",
           25
          ],
          [
           "Joe Worrall",
           26
          ],
          [
           "Jordan Green",
           26
          ],
          [
           "Jack Harrison",
           26
          ],
          [
           "Erling Haaland",
           22
          ],
          [
           "Kristoffer Klaesson",
           22
          ],
          [
           "Conor Coventry",
           23
          ],
          [
           "Lewis Gibson",
           21
          ],
          [
           "Jean-Philippe Mateta",
           25
          ],
          [
           "Jurrien Timber",
           21
          ],
          [
           "George Hirst",
           24
          ],
          [
           "Alfie Lewis",
           24
          ],
          [
           "Nathan Patterson",
           21
          ],
          [
           "Samuel Kalu",
           25
          ],
          [
           "Josh Knight",
           25
          ],
          [
           "Matt Turner",
           28
          ],
          [
           "Matty Cash",
           25
          ],
          [
           "Akin Famewo",
           24
          ],
          [
           "Ryan Yates",
           25
          ],
          [
           "Jakub Kiwior",
           23
          ],
          [
           "Ben Brereton Díaz",
           24
          ],
          [
           "Aaron Ramsdale",
           25
          ],
          [
           "Thanawat Suengchitthawon",
           23
          ],
          [
           "Brandon Austin",
           24
          ],
          [
           "Morgan Gibbs-White",
           23
          ],
          [
           "Jørgen Strand Larsen",
           22
          ],
          [
           "Andrew Irving",
           23
          ],
          [
           "Tom Edwards",
           24
          ],
          [
           "Peter Gwargis",
           22
          ],
          [
           "Mateusz Bogusz",
           21
          ],
          [
           "Dejan Kulusevski",
           22
          ],
          [
           "Bukayo Saka",
           21
          ],
          [
           "Elijah Dixon-Bonner",
           22
          ],
          [
           "Luis Longstaff",
           22
          ],
          [
           "Tommy Doyle",
           21
          ],
          [
           "Rayhaan Tulloch",
           22
          ],
          [
           "Bali Mumba",
           21
          ],
          [
           "Curtis Jones",
           22
          ],
          [
           "Scott Twine",
           24
          ],
          [
           "Tudor Baluta",
           24
          ],
          [
           "Ethan Galbraith",
           22
          ],
          [
           "Aaron Connolly",
           23
          ],
          [
           "Maxence Lacroix",
           22
          ],
          [
           "Cody Gakpo",
           23
          ],
          [
           "Gabriel Magalhães",
           25
          ],
          [
           "Joshua Zirkzee",
           21
          ],
          [
           "Santiago Bueno",
           24
          ],
          [
           "Ethan Pinnock",
           30
          ],
          [
           "Edouard Mendy",
           31
          ],
          [
           "Michael Obafemi",
           22
          ],
          [
           "Will Smallbone",
           23
          ],
          [
           "Lucas Paquetá",
           25
          ],
          [
           "Louie Moulden",
           21
          ],
          [
           "Omar Marmoush",
           24
          ],
          [
           "Ross Stewart",
           26
          ],
          [
           "Emmanuel Dennis",
           25
          ],
          [
           "Jean-Ricner Bellegarde",
           24
          ],
          [
           "Dominik Szoboszlai",
           22
          ],
          [
           "Jorge Segura",
           26
          ],
          [
           "Adama Diakhaby",
           26
          ],
          [
           "Will Mannion",
           25
          ],
          [
           "Rekeem Harper",
           23
          ],
          [
           "Jack Taylor",
           24
          ],
          [
           "Harvey Rodgers",
           26
          ],
          [
           "Caleb Okoli",
           21
          ],
          [
           "Calvin Bassey",
           23
          ],
          [
           "Benoît Badiashile",
           22
          ],
          [
           "Marc Leonard",
           20
          ],
          [
           "Terry Taylor",
           22
          ],
          [
           "Allan Tchaptchet",
           21
          ],
          [
           "Jayden Bogle",
           22
          ],
          [
           "Nico González",
           21
          ],
          [
           "Armel Bella-Kotchap",
           21
          ],
          [
           "Lyle Foster",
           22
          ],
          [
           "Ben Johnson",
           23
          ],
          [
           "Jens Cajuste",
           23
          ],
          [
           "Joe Aribo",
           26
          ],
          [
           "Vitinho",
           23
          ],
          [
           "Nathan Collins",
           22
          ],
          [
           "Gavin Kilkenny",
           23
          ],
          [
           "Marcos Senesi",
           25
          ],
          [
           "Indiana Vassilev",
           22
          ],
          [
           "Jacob Brown",
           25
          ],
          [
           "Paris Maghoma",
           20
          ],
          [
           "Ben Cottrell",
           21
          ],
          [
           "Brennan Johnson",
           21
          ],
          [
           "Reece James",
           23
          ],
          [
           "Kevin Schade",
           21
          ],
          [
           "Regan Slater",
           23
          ],
          [
           "Lewis Cass",
           23
          ],
          [
           "Crysencio Summerville",
           21
          ],
          [
           "Kiernan Dewsbury-Hall",
           24
          ],
          [
           "Wesley Fofana",
           22
          ],
          [
           "Josko Gvardiol",
           21
          ],
          [
           "Steven Alzate",
           24
          ],
          [
           "Bernardo Rosa",
           23
          ],
          [
           "Manuel Ugarte",
           21
          ],
          [
           "Aaron Wan-Bissaka",
           25
          ],
          [
           "Ryan Gravenberch",
           20
          ],
          [
           "Eberechi Eze",
           24
          ],
          [
           "Cohen Bramall",
           27
          ],
          [
           "Luis Díaz",
           26
          ],
          [
           "Lisandro Martínez",
           24
          ],
          [
           "Chris Mepham",
           25
          ],
          [
           "Djed Spence",
           22
          ],
          [
           "Matty Longstaff",
           23
          ],
          [
           "Taylor Richards",
           22
          ],
          [
           "Ian Maatsen",
           21
          ],
          [
           "Amadou Onana",
           21
          ],
          [
           "Jérémy Doku",
           20
          ],
          [
           "Jake Walker",
           22
          ],
          [
           "Jakub Stolarczyk",
           21
          ],
          [
           "Edo Kayembe",
           24
          ],
          [
           "Vitezslav Jaros",
           21
          ],
          [
           "Pedro Neto",
           23
          ],
          [
           "Maksim Paskotsi",
           19
          ],
          [
           "Siriki Dembélé",
           26
          ],
          [
           "Hákon Rafn Valdimarsson",
           21
          ],
          [
           "Ismaila Coulibaly",
           22
          ],
          [
           "Lucas Bergström",
           20
          ],
          [
           "Daniel Muñoz",
           26
          ],
          [
           "Jorge Cuenca",
           23
          ],
          [
           "Nathan Bishop",
           23
          ],
          [
           "William Saliba",
           22
          ],
          [
           "Dion Sanderson",
           23
          ],
          [
           "Elliot Thorpe",
           22
          ],
          [
           "Nicolás Domínguez",
           24
          ],
          [
           "Dion Pereira",
           24
          ],
          [
           "Ákos Onódi",
           20
          ],
          [
           "Aji Alese",
           22
          ],
          [
           "Taylor Perry",
           22
          ],
          [
           "Riccardo Calafiori",
           21
          ],
          [
           "Rhys Williams",
           22
          ],
          [
           "Neco Williams",
           22
          ],
          [
           "Anthony Driscoll-Glennon",
           22
          ],
          [
           "Anthony Gordon",
           22
          ],
          [
           "Morgan Rogers",
           20
          ],
          [
           "Jacob Ramsey",
           21
          ],
          [
           "Tyreece John-Jules",
           22
          ],
          [
           "Arthur Okonkwo",
           21
          ],
          [
           "Jeremy Ngakia",
           22
          ],
          [
           "Albert Grønbaek",
           22
          ],
          [
           "Joe Hodge",
           21
          ],
          [
           "Dynel Simeu",
           20
          ],
          [
           "Taylor Harwood-Bellis",
           20
          ],
          [
           "Joe Gelhardt",
           20
          ],
          [
           "Tino Livramento",
           20
          ],
          [
           "Noni Madueke",
           20
          ],
          [
           "Alex Mighten",
           21
          ],
          [
           "Nathan Wood",
           20
          ],
          [
           "Daniel Barden",
           22
          ],
          [
           "Tariq Lamptey",
           22
          ],
          [
           "Emmanuel Longelo",
           22
          ],
          [
           "Ryan Giles",
           23
          ],
          [
           "Kaoru Mitoma",
           25
          ],
          [
           "Luke Thomas",
           22
          ],
          [
           "James Garner",
           22
          ],
          [
           "Louie Watson",
           21
          ],
          [
           "Flynn Downes",
           24
          ],
          [
           "Josh Bowler",
           24
          ],
          [
           "Jack Young",
           22
          ],
          [
           "Nathan Ferguson",
           22
          ],
          [
           "Alexandre Jankewitz",
           21
          ],
          [
           "Brandon Williams",
           22
          ],
          [
           "Daniel Batty",
           25
          ],
          [
           "Ellis Simms",
           22
          ],
          [
           "Jackson Smith",
           22
          ],
          [
           "Ryan Longman",
           22
          ],
          [
           "Malcolm Ebiowei",
           19
          ],
          [
           "Luis Sinisterra",
           23
          ],
          [
           "Jesper Lindstrøm",
           23
          ],
          [
           "Julián Araujo",
           22
          ],
          [
           "Matheus Cunha",
           24
          ],
          [
           "Bruno Guimarães",
           25
          ],
          [
           "Jensen Weir",
           21
          ],
          [
           "Jaime Alvarado",
           24
          ],
          [
           "Maximilian Kilman",
           25
          ],
          [
           "Carlos Vinícius",
           27
          ],
          [
           "Karlo Ziger",
           22
          ],
          [
           "Luke Woolfenden",
           24
          ],
          [
           "Tyrese Francois",
           22
          ],
          [
           "Jack Spong",
           21
          ],
          [
           "Armstrong Oko-Flex",
           21
          ],
          [
           "Di'Shon Bernard",
           22
          ],
          [
           "D'Mani Mellor",
           22
          ],
          [
           "Ethan Laird",
           21
          ],
          [
           "Cody Drameh",
           21
          ],
          [
           "Sam Greenwood",
           21
          ],
          [
           "Daniel Adshead",
           21
          ],
          [
           "Luke Cundle",
           21
          ],
          [
           "Haydon Roberts",
           21
          ],
          [
           "Cameron Archer",
           21
          ],
          [
           "Shandon Baptiste",
           24
          ],
          [
           "Alexis Mac Allister",
           24
          ],
          [
           "Robbie Gotts",
           22
          ],
          [
           "Jamie Shackleton",
           23
          ],
          [
           "Luke McNally",
           23
          ],
          [
           "Amad Diallo",
           20
          ],
          [
           "Mykhaylo Mudryk",
           22
          ],
          [
           "Kwasi Sibo",
           25
          ],
          [
           "Georginio Rutter",
           20
          ],
          [
           "Christian Marques",
           19
          ],
          [
           "Kristian Sekularac",
           19
          ],
          [
           "Zak Swanson",
           22
          ],
          [
           "Mikkel Damsgaard",
           22
          ],
          [
           "Sepp van den Berg",
           21
          ],
          [
           "Illan Meslier",
           23
          ],
          [
           "Alex Gilbert",
           20
          ],
          [
           "Rhys Norrington-Davies",
           24
          ],
          [
           "Cheick Doucouré",
           23
          ],
          [
           "Mohammed Kudus",
           22
          ],
          [
           "Darwin Núñez",
           23
          ],
          [
           "Anis Slimane",
           22
          ],
          [
           "Taylor Gardner-Hickman",
           21
          ],
          [
           "Miguel Azeez",
           20
          ],
          [
           "Josh Martin",
           21
          ],
          [
           "Teden Mengi",
           21
          ],
          [
           "Owen Beck",
           20
          ],
          [
           "Pedro Porro",
           23
          ],
          [
           "Alpha Diounkou",
           21
          ],
          [
           "Yasser Larouci",
           22
          ],
          [
           "Oliwier Zych",
           18
          ],
          [
           "Destiny Udogie",
           20
          ],
          [
           "Micky van de Ven",
           22
          ],
          [
           "Harrison Ashby",
           21
          ],
          [
           "Fábio Carvalho",
           20
          ],
          [
           "Jack Clarke",
           22
          ],
          [
           "Oliver Casey",
           22
          ],
          [
           "Niall Huggins",
           22
          ],
          [
           "Lewis O'Brien",
           24
          ],
          [
           "Dan Chesters",
           20
          ],
          [
           "Kyle Taylor",
           23
          ],
          [
           "Victor Kristiansen",
           20
          ],
          [
           "Bart Verbruggen",
           20
          ],
          [
           "Harvey Elliott",
           19
          ],
          [
           "Matty Daly",
           21
          ],
          [
           "James Trafford",
           20
          ],
          [
           "Thomas Dickson-Peters",
           19
          ],
          [
           "Elliot Anderson",
           20
          ],
          [
           "Odel Offiah",
           21
          ],
          [
           "Jeremy Sarmiento",
           21
          ],
          [
           "Dennis Cirkin",
           21
          ],
          [
           "Cole Palmer",
           21
          ],
          [
           "Radu Drăgușin",
           21
          ],
          [
           "Pape Matar Sarr",
           20
          ],
          [
           "Armando Broja",
           21
          ],
          [
           "Joseph Anang",
           23
          ],
          [
           "Josh Wilson-Esbrand",
           20
          ],
          [
           "Jan Paul van Hecke",
           22
          ],
          [
           "Rayan Aït-Nouri",
           22
          ],
          [
           "Chris Richards",
           23
          ],
          [
           "James Furlong",
           21
          ],
          [
           "Ed Turns",
           21
          ],
          [
           "Eiran Cashin",
           21
          ],
          [
           "Harvey White",
           20
          ],
          [
           "CJ Egan-Riley",
           20
          ],
          [
           "Louie Barry",
           20
          ],
          [
           "Charlie Patino",
           19
          ],
          [
           "Lukas Jensen",
           24
          ],
          [
           "Will Dennis",
           22
          ],
          [
           "Anthony Elanga",
           20
          ],
          [
           "James McAtee",
           20
          ],
          [
           "Antoine Semenyo",
           23
          ],
          [
           "Dwight McNeil",
           23
          ],
          [
           "Filip Jørgensen",
           21
          ],
          [
           "Jesurun Rak-Sakyi",
           20
          ],
          [
           "Myles Peart-Harris",
           19
          ],
          [
           "Lewis Bate",
           19
          ],
          [
           "Derek Agyakwa",
           21
          ],
          [
           "Joe Gauci",
           22
          ],
          [
           "Aaron Hickey",
           20
          ],
          [
           "Woyo Coulibaly",
           24
          ],
          [
           "Tiago Cukur",
           20
          ],
          [
           "Beto",
           25
          ],
          [
           "Max Haygarth",
           20
          ],
          [
           "Leif Davis",
           23
          ],
          [
           "Xavier Simons",
           20
          ],
          [
           "Matheus Nunes",
           24
          ],
          [
           "Jean-Clair Todibo",
           23
          ],
          [
           "Sebastian Soto",
           22
          ],
          [
           "Denis Franchi",
           20
          ],
          [
           "Toti",
           23
          ],
          [
           "Hannibal",
           20
          ],
          [
           "Alfie Doughty",
           23
          ],
          [
           "Luke Mbete",
           19
          ],
          [
           "Alex Robertson",
           19
          ],
          [
           "Rasmus Højlund",
           20
          ],
          [
           "Caleb Watts",
           21
          ],
          [
           "Ollie O'Neill",
           20
          ],
          [
           "Liam Delap",
           20
          ],
          [
           "James Hill",
           21
          ],
          [
           "Liam McCarron",
           22
          ],
          [
           "Luke Matheson",
           19
          ],
          [
           "Levi Colwill",
           20
          ],
          [
           "Charlie McNeill",
           20
          ],
          [
           "Chem Campbell",
           20
          ],
          [
           "Dara Costelloe",
           20
          ],
          [
           "Tyler Morton",
           20
          ],
          [
           "Sam McCallum",
           22
          ],
          [
           "Malo Gusto",
           19
          ],
          [
           "Kasey McAteer",
           21
          ],
          [
           "Radek Vítek",
           20
          ],
          [
           "Iliman Ndiaye",
           23
          ],
          [
           "Conor Bradley",
           19
          ],
          [
           "Dale Taylor",
           19
          ],
          [
           "Lucas De Bolle",
           20
          ],
          [
           "Adrion Pajaziti",
           20
          ],
          [
           "João Pedro",
           21
          ],
          [
           "Kaine Kesler-Hayden",
           20
          ],
          [
           "Lewis Dobbin",
           19
          ],
          [
           "Wilfried Gnonto",
           19
          ],
          [
           "Roméo Lavia",
           19
          ],
          [
           "Femi Seriki",
           20
          ],
          [
           "Carlos Miguel",
           24
          ],
          [
           "Keane Lewis-Potter",
           22
          ],
          [
           "Lamare Bogarde",
           19
          ],
          [
           "Ben Greenwood",
           20
          ],
          [
           "Carl Rushworth",
           22
          ],
          [
           "Aaron Ramsey",
           20
          ],
          [
           "Juan Larios",
           19
          ],
          [
           "Jayden Bennetts",
           22
          ],
          [
           "Evan Ferguson",
           18
          ],
          [
           "Enzo Fernández",
           22
          ],
          [
           "Boubacar Traoré",
           21
          ],
          [
           "Jhon Durán",
           19
          ],
          [
           "Lewis Warrington",
           21
          ],
          [
           "Bilal El Khannouss",
           19
          ],
          [
           "Cameron Plain",
           22
          ],
          [
           "Brooklyn Genesini",
           21
          ],
          [
           "Gabriel Martinelli",
           21
          ],
          [
           "Christian Saydee",
           19
          ],
          [
           "Mipo Odubeko",
           19
          ],
          [
           "Aaron Rowe",
           22
          ],
          [
           "Simon Adingra",
           21
          ],
          [
           "Ilya Zabarnyi",
           20
          ],
          [
           "Julio Enciso",
           19
          ],
          [
           "Jarrad Branthwaite",
           20
          ],
          [
           "Leo Fuhr Hjelde",
           19
          ],
          [
           "Marcelo Pitaluga",
           18
          ],
          [
           "Tyler Onyango",
           20
          ],
          [
           "Jota Silva",
           23
          ],
          [
           "Darko Gyabi",
           19
          ],
          [
           "Vini Souza",
           23
          ],
          [
           "Jaden Philogene",
           21
          ],
          [
           "Rodrigo Gomes",
           19
          ],
          [
           "Yasin Ayari",
           19
          ],
          [
           "Marcelo Flores",
           19
          ],
          [
           "Joe Whitworth",
           19
          ],
          [
           "Divin Mubama",
           19
          ],
          [
           "Antwoine Hackford",
           17
          ],
          [
           "Luke Chambers",
           19
          ],
          [
           "Dane Scarlett",
           19
          ],
          [
           "Caleb Taylor",
           20
          ],
          [
           "Morato",
           21
          ],
          [
           "Anthony Mancini",
           19
          ],
          [
           "Emmanuel Agbadou",
           25
          ],
          [
           "Jaidon Anthony",
           23
          ],
          [
           "Charlie Savage",
           19
          ],
          [
           "Moisés Caicedo",
           21
          ],
          [
           "Chadi Riad",
           20
          ],
          [
           "Kamarai Swyer",
           20
          ],
          [
           "Jacob Greaves",
           22
          ],
          [
           "Jay Stansfield",
           20
          ],
          [
           "Tim Iroegbunam",
           19
          ],
          [
           "Rico Lewis",
           18
          ],
          [
           "Kgaogelo Chauke",
           20
          ],
          [
           "Harvey Davies",
           20
          ],
          [
           "Ji-soo Kim",
           18
          ],
          [
           "Kwadwo Baah",
           20
          ],
          [
           "Evanilson",
           23
          ],
          [
           "Jake O'Brien",
           22
          ],
          [
           "Lesley Ugochukwu",
           19
          ],
          [
           "Bobby Clark",
           18
          ],
          [
           "Yerson Mosquera",
           22
          ],
          [
           "Yegor Yarmolyuk",
           19
          ],
          [
           "Enock Agyei",
           18
          ],
          [
           "Tayo Adaramola",
           19
          ],
          [
           "Andrew Moran",
           20
          ],
          [
           "Liam Gibbs",
           20
          ],
          [
           "Antonín Kinský",
           20
          ],
          [
           "Welington",
           22
          ],
          [
           "Milos Kerkez",
           19
          ],
          [
           "Tyrick Mitchell",
           23
          ],
          [
           "Dylan Williams",
           18
          ],
          [
           "Kaide Gordon",
           18
          ],
          [
           "Jack Jenkins",
           20
          ],
          [
           "João Gomes",
           22
          ],
          [
           "Rodrigo Muniz",
           22
          ],
          [
           "Igor Thiago",
           21
          ],
          [
           "Omari Hutchinson",
           20
          ],
          [
           "Caleb Chukwuemeka",
           20
          ],
          [
           "Lino Sousa",
           18
          ],
          [
           "Wilson Odobert",
           18
          ],
          [
           "Savinho",
           19
          ],
          [
           "Matheus França",
           19
          ],
          [
           "Adam Wharton",
           19
          ],
          [
           "Ramón Sosa",
           23
          ],
          [
           "Luca Koleosho",
           19
          ],
          [
           "Kamaldeen Sulemana",
           21
          ],
          [
           "Daniel Jebbison",
           19
          ],
          [
           "Harry Boyes",
           21
          ],
          [
           "Justin Devenny",
           19
          ],
          [
           "Val Adedokun",
           19
          ],
          [
           "Carlos Alcaraz",
           20
          ],
          [
           "Abdukodir Khusanov",
           19
          ],
          [
           "Nicolas Jackson",
           21
          ],
          [
           "David Datro Fofana",
           20
          ],
          [
           "Bobby Thomas",
           22
          ],
          [
           "André",
           21
          ],
          [
           "Mathys Tel",
           18
          ],
          [
           "Ryan Finnigan",
           20
          ],
          [
           "Danilo",
           21
          ],
          [
           "Alejandro Garnacho",
           19
          ],
          [
           "Jack Wells-Morrison",
           19
          ],
          [
           "Luke Harris",
           18
          ],
          [
           "Kobbie Mainoo",
           18
          ],
          [
           "Alfie Pond",
           19
          ],
          [
           "Dango Ouattara",
           21
          ],
          [
           "Michael Kayode",
           17
          ],
          [
           "Maxime Estève",
           21
          ],
          [
           "Bénie Traoré",
           20
          ],
          [
           "Jack Hinchy",
           20
          ],
          [
           "Alex Scott",
           19
          ],
          [
           "Ashley Phillips",
           18
          ],
          [
           "Kaden Rodney",
           19
          ],
          [
           "Nasser Djiga",
           20
          ],
          [
           "Issahaku Fatawu",
           18
          ],
          [
           "Lucas Bergvall",
           17
          ],
          [
           "Bradley Ibrahim",
           19
          ],
          [
           "Mason Burstow",
           19
          ],
          [
           "Ryan Trevitt",
           20
          ],
          [
           "Seán Grehan",
           18
          ],
          [
           "Josh Feeney",
           18
          ],
          [
           "Amario Cozier-Duberry",
           18
          ],
          [
           "Mateus Fernandes",
           19
          ],
          [
           "Oliver Scarles",
           17
          ],
          [
           "Archie Gray",
           17
          ],
          [
           "Leny Yoro",
           17
          ],
          [
           "Zach Abbott",
           17
          ],
          [
           "Mark O'Mahony",
           18
          ],
          [
           "Joe Taylor",
           20
          ],
          [
           "Carlos Baleba",
           19
          ],
          [
           "Facundo Buonanotte",
           18
          ],
          [
           "Matai Akinmboni",
           17
          ],
          [
           "Diego Gómez",
           20
          ],
          [
           "Julio Soler",
           18
          ],
          [
           "Yankuba Minteh",
           19
          ],
          [
           "Ryan Oné",
           17
          ],
          [
           "Enso González",
           18
          ]
         ],
         "hovertemplate": "predicted_value=%{x}<br>market_value_in_million_eur=%{y}<br>name=%{customdata[0]}<br>age=%{customdata[1]}<extra></extra>",
         "legendgroup": "",
         "marker": {
          "color": "#636efa",
          "symbol": "circle"
         },
         "mode": "markers",
         "name": "",
         "showlegend": false,
         "type": "scattergl",
         "x": [
          -2.0209292899147115,
          0.7681332100852885,
          -0.9076480399147115,
          -1.9623355399147115,
          26.18414883508529,
          -1.4467105399147115,
          -3.4388980399147115,
          -2.0521792899147115,
          -0.026788664914711546,
          0.44000821008528845,
          -2.2494449149147115,
          -1.6791324149147115,
          47.97516446008529,
          5.5259457100852885,
          -1.8314761649147115,
          -2.4955386649147115,
          1.5611019600852885,
          -2.1771792899147115,
          3.5864925850852885,
          -0.7162417899147115,
          -0.20452303991471155,
          0.16071133508528845,
          -2.0072574149147115,
          -0.052179289914711546,
          -1.1556949149147115,
          0.7564144600852885,
          -0.5599917899147115,
          -0.8197574149147115,
          -0.8490542899147115,
          -2.5482730399147115,
          -0.9779605399147115,
          -1.9330386649147115,
          -1.0912417899147115,
          -2.7611636649147115,
          -1.0443667899147115,
          -0.49944491491471155,
          -1.1791324149147115,
          -1.5580386649147115,
          -1.4740542899147115,
          -2.0053042899147115,
          -0.48186678991471155,
          -0.7162417899147115,
          -2.0541324149147115,
          2.9126644600852885,
          1.5220394600852885,
          -0.9935855399147115,
          0.022039460085288454,
          -0.25530428991471155,
          -0.6420230399147115,
          -0.9330386649147115,
          3.2603207100852885,
          -1.2846011649147115,
          -1.2025699149147115,
          -1.9642886649147115,
          -1.2123355399147115,
          0.7720394600852885,
          -0.9799136649147115,
          -1.2025699149147115,
          -0.6420230399147115,
          -1.2357730399147115,
          2.2642269600852885,
          0.36188321008528845,
          -0.48186678991471155,
          -1.0287417899147115,
          -1.3060855399147115,
          -1.2357730399147115,
          -0.31389803991471155,
          -0.9408511649147115,
          -1.4271792899147115,
          -0.9681949149147115,
          -1.3451480399147115,
          1.5571957100852885,
          2.2954769600852885,
          2.4653988350852885,
          -1.1185855399147115,
          -1.5756167899147115,
          0.006414460085288454,
          0.33258633508528845,
          -1.3021792899147115,
          -0.8822574149147115,
          -1.7162417899147115,
          0.5493832100852885,
          -0.34124178991471155,
          -2.8471011649147115,
          2.6236019600852885,
          0.9556332100852885,
          4.9771175850852885,
          0.35407071008528845,
          18.77789883508529,
          -1.1967105399147115,
          -1.0189761649147115,
          -0.29827303991471155,
          41.33844571008529,
          0.8462582100852885,
          -1.8471011649147115,
          1.0513363350852885,
          -1.7846011649147115,
          1.1275082100852885,
          6.5591488350852885,
          0.8150082100852885,
          24.19782071008529,
          0.40094571008528845,
          -0.33733553991471155,
          0.41657071008528845,
          -1.1674136649147115,
          -0.6771792899147115,
          -1.6537417899147115,
          -0.33342928991471155,
          -0.22722811803971155,
          -0.33855624303971155,
          -1.0697574149147115,
          -0.23577303991471155,
          18.92828946008529,
          0.16266446008528845,
          0.30914883508528845,
          -0.36467928991471155,
          -1.1263980399147115,
          0.28375821008528845,
          -0.49749178991471155,
          1.2915707100852885,
          -0.37444491491471155,
          1.1040707100852885,
          -1.0170230399147115,
          0.35016446008528845,
          2.0396175850852885,
          0.13532071008528845,
          0.6118832100852885,
          -0.8705386649147115,
          1.8111019600852885,
          -0.9369449149147115,
          -1.2963199149147115,
          -0.32561678991471155,
          -0.20842928991471155,
          0.24860196008528845,
          -0.5033511649147115,
          -0.9213199149147115,
          -0.8763980399147115,
          2.3696957100852885,
          -0.42522616491471155,
          5.0181332100852885,
          -0.9916324149147115,
          0.14508633508528845,
          -0.24358553991471155,
          -1.3803042899147115,
          -1.4740542899147115,
          2.7739925850852885,
          1.0435238350852885,
          -0.6049136649147115,
          1.5552425850852885,
          -1.1029605399147115,
          18.84235196008529,
          -1.0873355399147115,
          -1.7162417899147115,
          10.844305085085288,
          -0.48186678991471155,
          -0.7025699149147115,
          -0.034601164914711546,
          0.26032071008528845,
          0.5923519600852885,
          -0.12639803991471155,
          1.2525082100852885,
          0.7837582100852885,
          25.92047696008529,
          4.3579769600852885,
          -2.1654605399147115,
          2.5864925850852885,
          -0.27483553991471155,
          4.7427425850852885,
          5.6939144600852885,
          1.7486019600852885,
          2.2993832100852885,
          19.17438321008529,
          0.8345394600852885,
          -1.4388980399147115,
          3.0825863350852885,
          3.7056332100852885,
          0.023992585085288454,
          0.39899258508528845,
          1.3306332100852885,
          1.2329769600852885,
          -0.48967928991471155,
          19.16657071008529,
          -0.7709292899147115,
          -1.7806949149147115,
          0.7290707100852885,
          -0.056085539914711546,
          17.87555508508529,
          -0.32171053991471155,
          -0.7279605399147115,
          1.8130550850852885,
          17.13532071008529,
          2.9224300850852885,
          1.2525082100852885,
          -0.9467105399147115,
          1.8814144600852885,
          -1.8666324149147115,
          -0.6654605399147115,
          7.3853207100852885,
          1.3657894600852885,
          -1.1576480399147115,
          -0.16155428991471155,
          1.5064144600852885,
          84.2681332100853,
          0.9927425850852885,
          1.8189144600852885,
          -0.8939761649147115,
          -0.40764803991471155,
          1.6001644600852885,
          -0.6185855399147115,
          -1.4721011649147115,
          0.42047696008528845,
          -0.8021792899147115,
          78.2114925850853,
          1.1411800850852885,
          0.40289883508528845,
          1.7427425850852885,
          2.1958675850852885,
          1.4517269600852885,
          32.92316250696029,
          -0.39910311803971155,
          2.2642269600852885,
          -0.5092105399147115,
          0.8228207100852885,
          1.0767269600852885,
          0.9634457100852885,
          17.77789883508529,
          1.7818050850852885,
          1.7095394600852885,
          11.895086335085288,
          2.5552425850852885,
          0.6431332100852885,
          0.30524258508528845,
          39.01032071008529,
          -0.8275699149147115,
          10.703680085085288,
          -0.8002261649147115,
          -0.6752261649147115,
          49.09821133508529,
          9.014226960085288,
          12.746648835085288,
          0.10993008508528845,
          1.1880550850852885,
          -0.14983553991471155,
          0.9048519600852885,
          11.898992585085288,
          0.6411800850852885,
          -0.15374178991471155,
          -0.22991366491471155,
          -0.5306949149147115,
          9.641180085085288,
          1.6880550850852885,
          2.5122738350852885,
          2.9028988350852885,
          5.1079769600852885,
          28.42633633508529,
          -0.43889803991471155,
          -1.3021792899147115,
          6.5318050850852885,
          0.5611019600852885,
          -0.5326480399147115,
          -0.5560855399147115,
          1.5884457100852885,
          2.0982113350852885,
          2.2486019600852885,
          20.07282071008529,
          0.39508633508528845,
          -0.7221011649147115,
          4.3833675850852885,
          -0.054132414914711546,
          1.9126644600852885,
          -1.0541324149147115,
          9.523992585085288,
          -0.7982730399147115,
          -0.31389803991471155,
          -1.0756167899147115,
          0.8032894600852885,
          0.6040707100852885,
          0.33844571008528845,
          4.8482113350852885,
          2.5864925850852885,
          1.3521175850852885,
          0.8755550850852885,
          2.4243832100852885,
          3.3345394600852885,
          2.4517269600852885,
          0.36383633508528845,
          -0.11858553991471155,
          2.0025082100852885,
          -0.6068667899147115,
          4.9751644600852885,
          -2.1830386649147115,
          0.35407071008528845,
          19.32672696008529,
          -0.14788241491471155,
          14.805242585085288,
          0.8911800850852885,
          6.3013363350852885,
          0.7329769600852885,
          -0.21233553991471155,
          8.367742585085288,
          0.17633633508528845,
          1.4849300850852885,
          13.025945710085288,
          1.4165707100852885,
          25.73883633508529,
          11.951726960085288,
          9.328680085085288,
          23.06500821008529,
          7.6821957100852885,
          -0.5971011649147115,
          -0.11467928991471155,
          0.7720394600852885,
          -0.14202303991471155,
          0.34235196008528845,
          0.7642269600852885,
          3.8189144600852885,
          22.91071133508529,
          4.9419613350852885,
          1.6861019600852885,
          1.7193050850852885,
          0.28180508508528845,
          16.02594571008529,
          -0.5111636649147115,
          20.18805508508529,
          4.5220394600852885,
          -0.13811678991471155,
          -0.25530428991471155,
          10.084539460085288,
          30.75714688196029,
          14.926824616335288,
          -0.6635074149147115,
          9.609930085085288,
          17.76813321008529,
          0.30719571008528845,
          2.8657894600852885,
          70.7525082100853,
          0.21344571008528845,
          4.2642269600852885,
          9.906805085085288,
          10.889226960085288,
          2.3208675850852885,
          0.7251644600852885,
          -0.0013980399147115463,
          -0.5951480399147115,
          54.63727383508529,
          0.7036800850852885,
          2.0689144600852885,
          -0.37249178991471155,
          3.4439144600852885,
          0.7642269600852885,
          16.35407071008529,
          5.9751644600852885,
          0.6861019600852885,
          1.5103207100852885,
          23.98883633508529,
          0.5142269600852885,
          9.682195710085288,
          1.8853207100852885,
          2.7935238350852885,
          9.420476960085288,
          20.74078946008529,
          4.8032894600852885,
          11.565008210085288,
          11.096258210085288,
          92.7095394600853,
          3.9732113350852885,
          -0.044366789914711546,
          1.0474300850852885,
          5.4048519600852885,
          0.7739925850852885,
          -1.4349917899147115,
          0.6939144600852885,
          1.4751644600852885,
          30.03180508508529,
          13.731023835085288,
          0.6021175850852885,
          -0.6674136649147115,
          -1.9642886649147115,
          0.41266446008528845,
          2.5943050850852885,
          -0.7689761649147115,
          11.584539460085288,
          0.9771175850852885,
          -0.5365542899147115,
          -0.5834292899147115,
          6.1978207100852885,
          -0.7592105399147115,
          56.57282071008529,
          1.5728207100852885,
          5.2974300850852885,
          0.09430508508528845,
          2.6704769600852885,
          0.5650082100852885,
          1.0181332100852885,
          1.5962582100852885,
          0.39313321008528845,
          41.52008633508529,
          -0.5365542899147115,
          0.7446957100852885,
          0.7095394600852885,
          34.17047696008529,
          10.570867585085288,
          0.0005550850852884537,
          22.31305508508529,
          4.6236019600852885,
          0.7095394600852885,
          1.4556332100852885,
          43.69000821008529,
          0.46344571008528845,
          27.15485196008529,
          2.0864925850852885,
          0.34625821008528845,
          38.96539883508529,
          3.9946957100852885,
          -0.17913241491471155,
          1.0806332100852885,
          2.9907894600852885,
          34.41657071008529,
          0.014226960085288454,
          15.316961335085288,
          0.40485196008528845,
          0.25446133508528845,
          36.31500821008529,
          2.8579769600852885,
          5.3638363350852885,
          0.7290707100852885,
          2.3189144600852885,
          10.797430085085288,
          14.635320710085288,
          -0.16546053991471155,
          0.28375821008528845,
          0.40485196008528845,
          -0.16350741491471155,
          5.9302425850852885,
          21.56696133508529,
          8.529851960085288,
          28.49274258508529,
          5.2896175850852885,
          0.5691586007102885,
          11.137762116335288,
          -0.7611636649147115,
          0.39899258508528845,
          15.211492585085288,
          9.096258210085288,
          19.63336758508529,
          11.266180085085288,
          34.36969571008529,
          2.9302425850852885,
          4.1177425850852885,
          -0.40764803991471155,
          1.1587582100852885,
          0.19391446008528845,
          7.2056332100852885,
          0.6704769600852885,
          -0.33733553991471155,
          3.0083675850852885,
          0.7271175850852885,
          3.6314144600852885,
          3.3071957100852885,
          1.5220394600852885,
          8.979070710085288,
          1.6763363350852885,
          2.1900082100852885,
          2.7017269600852885,
          4.9595394600852885,
          -0.06780428991471155,
          10.971258210085288,
          68.7407894600853,
          26.73688321008529,
          19.99078946008529,
          2.4907894600852885,
          1.8521175850852885,
          17.96930508508529,
          8.787664460085288,
          4.3443050850852885,
          6.4478207100852885,
          -0.24749178991471155,
          1.8696957100852885,
          -0.33733553991471155,
          0.11188321008528845,
          0.8032894600852885,
          10.006414460085288,
          -0.8490542899147115,
          2.0083675850852885,
          16.58258633508529,
          0.8052425850852885,
          2.0005550850852885,
          0.21539883508528845,
          10.668523835085288,
          0.36969571008528845,
          18.30914883508529,
          1.6431332100852885,
          1.3736019600852885,
          -0.16546053991471155,
          0.21539883508528845,
          7.5650082100852885,
          2.5181332100852885,
          -0.21233553991471155,
          1.9712582100852885,
          -0.5678042899147115,
          37.52594571008529,
          37.98297696008529,
          37.67828946008529,
          57.36578946008529,
          11.959539460085288,
          9.668523835085288,
          -0.13616366491471155,
          1.7095394600852885,
          0.029851960085288454,
          -0.020929289914711546,
          10.111883210085288,
          3.0689144600852885,
          0.09430508508528845,
          1.9361019600852885,
          37.14313321008529,
          21.76618008508529,
          1.9126644600852885,
          4.6157894600852885,
          0.28961758508528845,
          16.55328946008529,
          63.62555508508529,
          5.0122738350852885,
          0.9048519600852885,
          1.2700863350852885,
          44.96735196008529,
          -0.6400699149147115,
          1.3853207100852885,
          0.07282071008528845,
          85.5376644600853,
          81.2642269600853,
          2.6431332100852885,
          0.9419613350852885,
          -0.015069914914711546,
          -0.10686678991471155,
          5.3970394600852885,
          20.36969571008529,
          0.043523835085288454,
          0.48493008508528845,
          0.13532071008528845,
          20.80133633508529,
          3.3423519600852885,
          -0.026788664914711546,
          1.8228207100852885,
          0.7798519600852885,
          1.1900082100852885,
          3.4243832100852885,
          12.002508210085288,
          0.27789883508528845,
          0.8113461007102885,
          1.6065121163352885,
          5.2681332100852885,
          1.8306332100852885,
          10.893133210085288,
          14.268133210085288,
          2.9263363350852885,
          54.33453946008529,
          2.3091488350852885,
          14.213445710085288,
          15.022039460085288,
          1.3989925850852885,
          17.06696133508529,
          17.91266446008529,
          1.6040707100852885,
          34.83063321008529,
          3.4068050850852885,
          1.6196957100852885,
          9.889226960085288,
          28.40289883508529,
          1.1216488350852885,
          1.1861019600852885,
          4.6626644600852885,
          0.5083675850852885,
          23.39313321008529,
          0.6548519600852885,
          2.6392269600852885,
          -0.19280428991471155,
          73.5825863350853,
          1.4126644600852885,
          0.5650082100852885,
          16.89508633508529,
          1.9595394600852885,
          1.8599300850852885,
          0.9946957100852885,
          23.60016446008529,
          18.52399258508529,
          69.8286800850853,
          27.06110196008529,
          2.1275082100852885,
          1.7134457100852885,
          4.8071957100852885,
          28.57868008508529,
          2.4673519600852885,
          24.29157071008529,
          0.7368832100852885,
          16.15094571008529,
          7.8657894600852885,
          0.006414460085288454,
          3.1060238350852885,
          1.0650082100852885,
          6.3150082100852885,
          0.23688321008528845,
          14.615789460085288,
          0.36578946008528845,
          0.5064144600852885,
          10.729070710085288,
          18.53375821008529,
          17.81891446008529,
          0.10407071008528845,
          56.45172696008529,
          3.7544613350852885,
          15.982976960085288,
          0.30328946008528845,
          1.6919613350852885,
          1.8501644600852885,
          19.22907071008529,
          25.52594571008529,
          1.8150082100852885,
          1.7837582100852885,
          45.67438321008529,
          0.023992585085288454,
          31.98297696008529,
          29.18610196008529,
          -0.7787417899147115,
          0.44586758508528845,
          0.057195710085288454,
          12.406805085085288,
          2.1157894600852885,
          6.0611019600852885,
          1.0454769600852885,
          15.357976960085288,
          0.6626644600852885,
          0.9302425850852885,
          24.30133633508529,
          1.2486019600852885,
          1.2095394600852885,
          19.61578946008529,
          20.76227383508529,
          9.994695710085288,
          1.9185238350852885,
          -0.020929289914711546,
          8.076726960085288,
          2.3032894600852885,
          52.06500821008529,
          3.5923519600852885,
          21.29743008508529,
          18.59430508508529,
          38.53375821008529,
          8.231023835085288,
          9.061101960085288,
          5.6704769600852885,
          0.44782071008528845,
          0.7056332100852885,
          31.85407071008529,
          0.8931332100852885,
          42.05328946008529,
          3.2661800850852885,
          0.7915707100852885,
          1.2486019600852885,
          2.8743343819602885,
          73.7141781319603,
          2.3111019600852885,
          3.1099300850852885,
          1.3247738350852885,
          5.8325863350852885,
          7.9048519600852885,
          15.811101960085288,
          1.5728207100852885,
          2.5298519600852885,
          1.6978207100852885,
          7.1509457100852885,
          79.0005550850853,
          0.47125821008528845,
          0.5689144600852885,
          0.46735196008528845,
          3.2876644600852885,
          47.17047696008529,
          36.30524258508529,
          50.79157071008529,
          3.2974300850852885,
          0.15485196008528845,
          3.0767269600852885,
          17.72125821008529,
          11.740789460085288,
          6.5493832100852885,
          1.5943050850852885,
          0.36969571008528845,
          3.2251644600852885,
          5.6314144600852885,
          2.7427425850852885,
          42.88727383508529,
          6.7954769600852885,
          26.82672696008529,
          66.7329769600853,
          0.5493832100852885,
          19.17438321008529,
          1.4946957100852885,
          17.90094571008529,
          26.66461758508529,
          17.02594571008529,
          18.35016446008529,
          19.45953946008529,
          43.12555508508529,
          14.969305085085288,
          0.6646175850852885,
          1.1060238350852885,
          1.0532894600852885,
          16.66461758508529,
          48.89703946008529,
          3.4907894600852885,
          2.6704769600852885,
          17.93414883508529,
          0.49469571008528845,
          0.7700863350852885,
          2.4380550850852885,
          2.7993832100852885,
          9.807195710085288,
          17.76813321008529,
          7.5806332100852885,
          10.606023835085288,
          22.61578946008529,
          19.59430508508529,
          7.3111019600852885,
          60.84430508508529,
          0.30719571008528845,
          20.55524258508529,
          63.32672696008529,
          4.1001644600852885,
          0.44391446008528845,
          6.7818050850852885,
          6.4126644600852885,
          1.5611019600852885,
          23.46735196008529,
          21.34625821008529,
          1.2974300850852885,
          3.5806332100852885,
          17.96930508508529,
          62.54352383508529,
          24.10407071008529,
          5.5571957100852885,
          1.0728207100852885,
          0.42438321008528845,
          10.813055085085288,
          21.27985196008529,
          0.8521175850852885,
          2.8384457100852885,
          12.369695710085288,
          1.7583675850852885,
          71.3696957100853,
          16.74078946008529,
          16.00055508508529,
          36.61578946008529,
          1.1861019600852885,
          20.99860196008529,
          11.398992585085288,
          0.9380550850852885,
          46.56891446008529,
          4.5630550850852885,
          0.9595394600852885,
          0.6919613350852885,
          1.2603207100852885,
          27.96344571008529,
          41.45172696008529,
          21.49078946008529,
          40.16266446008529,
          20.67243008508529,
          1.4048519600852885,
          82.4361019600853,
          1.6978207100852885,
          3.3308773507102885,
          82.3955746163353,
          0.7876644600852885,
          31.69782071008529,
          51.24274258508529,
          1.7681332100852885,
          19.24664883508529,
          1.5982113350852885,
          0.5083675850852885,
          0.6489925850852885,
          8.797430085085288,
          23.16266446008529,
          2.4771175850852885,
          1.4673519600852885,
          9.256414460085288,
          46.59235196008529,
          1.7603207100852885,
          11.287664460085288,
          14.299383210085288,
          1.1489925850852885,
          6.8599300850852885,
          51.51813321008529,
          4.8716488350852885,
          9.004461335085288,
          0.33844571008528845,
          6.4243832100852885,
          1.0806332100852885,
          4.0142269600852885,
          4.2466488350852885,
          2.0825863350852885,
          2.2114925850852885,
          16.94196133508529,
          1.9614925850852885,
          1.4595394600852885,
          1.2349300850852885,
          2.7876644600852885,
          1.3071957100852885,
          34.76813321008529,
          16.29743008508529,
          1.7720394600852885,
          0.8970394600852885,
          3.8892269600852885,
          30.55719571008529,
          2.8970394600852885,
          39.63141446008529,
          1.8150082100852885,
          31.94196133508529,
          1.7153988350852885,
          0.9536800850852885,
          17.80328946008529,
          7.1841488350852885,
          26.31110196008529,
          4.3150082100852885,
          57.51032071008529,
          0.35211758508528845,
          0.7153988350852885,
          0.9282894600852885,
          19.26227383508529,
          1.2446957100852885,
          2.2056332100852885,
          0.32672696008528845,
          39.75250821008529,
          0.32672696008528845,
          33.62164883508529,
          2.1978207100852885,
          7.4653988350852885,
          49.72516446008529,
          3.1040707100852885,
          76.2935238350853,
          7.0239925850852885,
          21.19000821008529,
          4.3775082100852885,
          13.945867585085288,
          15.522039460085288,
          5.5943050850852885,
          4.8111019600852885,
          19.24078946008529,
          4.0396175850852885,
          2.9224300850852885,
          1.0650082100852885,
          1.3833675850852885,
          1.7232113350852885,
          5.7271175850852885,
          3.6782894600852885,
          95.1079769600853,
          18.20563321008529,
          2.4712582100852885,
          26.93610196008529,
          34.72125821008529,
          14.906805085085288,
          0.6314144600852885,
          0.9712582100852885,
          9.857976960085288,
          26.35797696008529,
          23.67243008508529,
          23.97907071008529,
          19.58258633508529,
          4.1196957100852885,
          2.0064144600852885,
          2.3150082100852885,
          15.809148835085288,
          4.5161800850852885,
          0.6704769600852885,
          19.67828946008529,
          151.5728207100853,
          2.6626644600852885,
          1.7486019600852885,
          1.3696957100852885,
          13.971258210085288,
          31.28180508508529,
          1.5344906319602885,
          0.36041836633528845,
          9.281805085085288,
          3.6236019600852885,
          0.8091488350852885,
          5.5845394600852885,
          26.48493008508529,
          0.8091488350852885,
          5.2642269600852885,
          5.8345394600852885,
          16.53180508508529,
          27.03766446008529,
          1.1470394600852885,
          2.0943050850852885,
          16.46344571008529,
          3.6177425850852885,
          1.1392269600852885,
          2.1607113350852885,
          1.5571957100852885,
          2.9868832100852885,
          38.78766446008529,
          71.5220394600853,
          2.4204769600852885,
          2.9517269600852885,
          3.7290707100852885,
          0.6743832100852885,
          1.2036800850852885,
          29.25641446008529,
          3.1392269600852885,
          2.4868832100852885,
          1.5650082100852885,
          6.3599300850852885,
          20.52399258508529,
          26.61188321008529,
          33.04743008508529,
          9.336492585085288,
          3.1646175850852885,
          12.994695710085288,
          30.00446133508529,
          2.6294613350852885,
          2.5220394600852885,
          37.18219571008529,
          0.9946957100852885,
          8.695867585085288,
          2.6118832100852885,
          13.477117585085288,
          8.846258210085288,
          30.62360196008529,
          0.6665707100852885,
          1.7153988350852885,
          0.21344571008528845,
          1.1118832100852885,
          1.1353207100852885,
          0.25836758508528845,
          4.9556332100852885,
          11.904851960085288,
          31.11578946008529,
          2.0259457100852885,
          1.1196957100852885,
          1.1021175850852885,
          6.7153988350852885,
          26.74469571008529,
          8.234930085085288,
          4.0806332100852885,
          9.391180085085288,
          5.5337582100852885,
          9.428289460085288,
          2.7739925850852885,
          12.832586335085288,
          2.1314144600852885,
          14.736883210085288,
          2.4361019600852885,
          4.2251644600852885,
          1.7993832100852885,
          2.8736019600852885,
          20.90875821008529,
          58.32477383508529,
          8.883367585085288,
          -0.14592928991471155,
          1.9536800850852885,
          3.9517269600852885,
          6.4673519600852885,
          39.61969571008529,
          33.90680508508529,
          5.0962582100852885,
          0.6900082100852885,
          13.264226960085288,
          30.15289883508529,
          36.23688321008529,
          26.35016446008529,
          2.1431332100852885,
          48.32477383508529,
          31.34625821008529,
          4.6372738350852885,
          9.469305085085288,
          3.2486019600852885,
          1.4673519600852885,
          6.8071957100852885,
          13.264226960085288,
          27.76618008508529,
          1.4673519600852885,
          1.3130550850852885,
          2.0611019600852885,
          2.6450863350852885,
          35.55328946008529,
          2.2837582100852885,
          3.1861019600852885,
          1.9712582100852885,
          1.6196957100852885,
          2.2818050850852885,
          10.349920319460288,
          8.889959381960288,
          1.0318050850852885,
          33.59625821008529,
          1.1411800850852885,
          0.5728207100852885,
          14.150945710085288,
          0.8286800850852885,
          2.0025082100852885,
          1.5025082100852885,
          0.7993832100852885,
          6.8247738350852885,
          6.1743832100852885,
          9.133367585085288,
          0.45563321008528845,
          23.38141446008529,
          5.5611019600852885,
          23.07477383508529,
          3.4107113350852885,
          4.1704769600852885,
          3.9146175850852885,
          2.0884457100852885,
          1.6626644600852885,
          2.0708675850852885,
          4.5220394600852885,
          6.1528988350852885,
          26.48493008508529,
          21.49078946008529,
          1.9439144600852885,
          2.0103207100852885,
          0.8872738350852885,
          18.62555508508529,
          1.2290707100852885,
          3.5298519600852885,
          5.7896175850852885,
          12.553289460085288,
          9.756414460085288,
          0.8423519600852885,
          3.0064144600852885,
          2.8579769600852885,
          2.1314144600852885,
          3.5083675850852885,
          1.1861019600852885,
          12.127508210085288,
          0.29157071008528845,
          1.6450863350852885,
          0.7700863350852885,
          2.1782894600852885,
          3.5220394600852885,
          16.52399258508529,
          14.147039460085288,
          6.1177425850852885,
          34.43024258508529,
          44.49078946008529,
          1.6001644600852885,
          1.0571957100852885,
          18.26422696008529,
          11.199773835085288,
          1.8872738350852885,
          1.3364925850852885,
          1.5611019600852885,
          1.2486019600852885,
          1.6782894600852885,
          4.3169613350852885,
          1.3970394600852885,
          5.7583675850852885,
          3.6255550850852885,
          3.8462582100852885,
          0.9556332100852885,
          1.7368832100852885,
          1.8833675850852885,
          8.756414460085288,
          3.3423519600852885,
          20.73688321008529,
          0.9243832100852885,
          2.6939144600852885,
          1.2739925850852885,
          16.91266446008529,
          12.897039460085288,
          0.19782071008528845,
          13.996648835085288,
          1.3872738350852885,
          1.9282894600852885,
          2.7583675850852885,
          16.35797696008529,
          6.6216488350852885,
          19.37555508508529,
          2.2310238350852885,
          0.8208675850852885,
          11.623601960085288,
          20.15485196008529,
          44.74274258508529,
          2.6275082100852885,
          1.6880550850852885,
          3.6079769600852885,
          1.9927425850852885,
          3.9986019600852885,
          3.1118832100852885,
          28.92243008508529,
          3.2720394600852885,
          1.9790707100852885,
          2.2661800850852885,
          13.258367585085288,
          7.9243832100852885,
          2.3208675850852885,
          13.572820710085288,
          5.0630550850852885,
          1.0181332100852885,
          0.9927425850852885,
          3.5103207100852885,
          0.9385433663352885,
          0.6275082100852885,
          5.3560238350852885,
          3.5454769600852885,
          25.48297696008529,
          1.4556332100852885,
          3.2388363350852885,
          1.3306332100852885,
          3.6275082100852885,
          1.3833675850852885,
          4.7368832100852885,
          2.7622738350852885,
          17.27203946008529,
          5.7798519600852885,
          18.36578946008529,
          18.00641446008529,
          1.0278988350852885,
          3.8892269600852885,
          7.3052425850852885,
          21.19391446008529,
          9.856023835085288,
          1.3091488350852885,
          1.5513363350852885,
          2.4204769600852885,
          2.6040707100852885,
          1.7134457100852885,
          3.2095394600852885,
          4.9048519600852885,
          -0.12053866491471155,
          1.4126644600852885,
          20.13922696008529,
          8.377508210085288,
          6.5220394600852885,
          21.40875821008529,
          2.7407894600852885,
          2.4517269600852885,
          2.8150082100852885,
          2.0103207100852885,
          1.0552425850852885,
          2.4224300850852885,
          16.16071133508529,
          1.8755550850852885,
          1.2915707100852885,
          10.107976960085288,
          1.7896175850852885,
          1.8462582100852885,
          2.6236019600852885,
          31.22516446008529,
          19.46344571008529,
          1.2232113350852885,
          1.2193050850852885,
          4.4165707100852885,
          7.4829769600852885,
          4.2193050850852885,
          4.3501644600852885,
          3.1548519600852885,
          8.395086335085288,
          1.4556332100852885,
          2.0611019600852885,
          3.1919613350852885,
          2.1294613350852885,
          1.1548519600852885,
          2.0044613350852885,
          8.686101960085288,
          1.5220394600852885,
          2.1392269600852885,
          1.3716488350852885,
          5.6548519600852885,
          3.4790707100852885,
          13.121648835085288,
          2.2642269600852885,
          1.5728207100852885,
          2.9653988350852885,
          5.3560238350852885,
          1.6997738350852885,
          2.2017269600852885,
          1.2954769600852885,
          18.22907071008529,
          2.1568050850852885,
          1.6294613350852885,
          4.8384457100852885,
          4.9243832100852885,
          0.34430508508528845,
          1.3443050850852885,
          14.291570710085288,
          2.5767269600852885,
          1.3618832100852885,
          2.0025082100852885,
          2.8579769600852885,
          6.3169613350852885,
          1.1411800850852885,
          3.7407894600852885,
          10.381414460085288,
          2.9751644600852885,
          4.4087582100852885,
          1.1040707100852885,
          2.2642269600852885,
          0.8228207100852885,
          0.9341488350852885,
          41.81500821008529,
          1.6548519600852885,
          1.5747738350852885,
          0.8443050850852885,
          5.7388363350852885,
          17.89899258508529,
          12.463445710085288,
          6.8833675850852885,
          2.2114925850852885,
          3.0552425850852885,
          1.3526058663352885,
          2.1079769600852885,
          4.1665707100852885,
          2.2329769600852885,
          4.7388363350852885,
          3.0513363350852885,
          2.2407894600852885,
          4.9400082100852885,
          1.9517269600852885,
          1.4400082100852885,
          0.6568050850852885,
          3.3267269600852885,
          4.1724300850852885,
          1.3736019600852885,
          10.992742585085288,
          0.7525082100852885,
          3.7544613350852885,
          6.7075863350852885,
          2.2798519600852885,
          9.166570710085288,
          2.5571957100852885,
          1.7954769600852885,
          5.7075863350852885,
          2.2212582100852885,
          3.5689144600852885,
          5.4068050850852885,
          1.1353207100852885,
          3.0318050850852885,
          2.2564144600852885,
          2.1704769600852885,
          19.20368008508529,
          1.3286800850852885,
          4.1626644600852885,
          3.7954769600852885,
          4.2896175850852885,
          2.3540707100852885,
          2.1392269600852885,
          2.1275082100852885,
          2.0689144600852885,
          1.2329769600852885,
          2.7368832100852885,
          3.0142269600852885,
          3.5435238350852885,
          19.62750821008529,
          2.4712582100852885,
          4.8814144600852885,
          1.4087582100852885,
          11.537664460085288,
          8.629461335085288,
          2.3071957100852885,
          3.0689144600852885,
          2.0982113350852885,
          2.8521175850852885,
          8.781805085085288,
          10.100164460085288,
          6.4439144600852885,
          6.2095394600852885,
          3.9458675850852885,
          3.2896175850852885,
          18.43414883508529,
          2.8111019600852885,
          -0.29046053991471155,
          1.9439144600852885,
          1.8345394600852885,
          8.432195710085288,
          4.2251644600852885,
          8.758367585085288,
          4.2857113350852885,
          0.45758633508528845,
          7.3853207100852885,
          4.2017269600852885,
          1.0415707100852885,
          23.74469571008529,
          7.9146175850852885,
          1.7564144600852885,
          2.6431332100852885,
          4.0845394600852885,
          1.7837582100852885,
          3.3716488350852885,
          2.0318050850852885,
          5.3111019600852885,
          1.3755550850852885,
          1.5454769600852885,
          2.9595394600852885,
          5.1997738350852885,
          2.0767269600852885,
          2.3208675850852885,
          3.1314144600852885,
          3.6978207100852885,
          4.2251644600852885,
          2.8286800850852885,
          1.5571957100852885,
          2.3345394600852885,
          2.7622738350852885,
          4.7642269600852885,
          2.2837582100852885,
          2.4614925850852885,
          3.2505550850852885,
          2.8286800850852885,
          2.1939144600852885,
          1.7622738350852885,
          0.9009457100852885,
          2.6079769600852885,
          3.0532894600852885,
          2.2153988350852885,
          1.6196957100852885,
          1.5005550850852885,
          2.8345394600852885,
          1.0903988350852885,
          3.2024593819602885
         ],
         "xaxis": "x",
         "y": [
          0.1,
          1.5,
          1,
          0.1,
          15,
          0.075,
          0.2,
          0.15,
          0.6,
          0.2,
          0.125,
          0.15,
          40,
          4,
          0.15,
          0.15,
          0.8,
          0.2,
          2,
          0.9,
          0.3,
          0.1,
          0.1,
          0.6,
          0.45,
          1,
          0.5,
          0.8,
          0.5,
          0.1,
          0.3,
          0.3,
          0.15,
          0.05,
          0.25,
          0.6,
          0.3,
          0.2,
          0.15,
          0.1,
          0.3,
          0.3,
          0.1,
          2.5,
          0.8,
          0.2,
          1,
          0.4,
          0.2,
          0.15,
          2,
          0.3,
          0.05,
          0.25,
          0.15,
          1.2,
          0.35,
          0.2,
          0.5,
          0.3,
          2,
          0.3,
          0.4,
          0.15,
          0.25,
          0.4,
          0.25,
          0.2,
          0.15,
          0.3,
          0.1,
          1,
          0.6,
          2.5,
          0.1,
          0.3,
          0.9,
          0.3,
          0.45,
          0.3,
          0.2,
          0.15,
          0.45,
          0.3,
          1.5,
          1,
          2.5,
          1,
          28,
          0.25,
          0.4,
          0.9,
          38,
          0.5,
          0.2,
          1.5,
          0.3,
          1.5,
          3,
          1,
          20,
          1,
          0.6,
          0.75,
          0.15,
          0.4,
          0.35,
          0.25,
          0.1,
          0.5,
          0.25,
          0.6,
          15,
          0.1,
          1,
          0.5,
          0.25,
          0.8,
          0.6,
          0.7,
          0.5,
          0.7,
          0.25,
          0.5,
          1.2,
          0.8,
          0.3,
          0.025,
          1.8,
          0.2,
          0.2,
          1,
          0.4,
          0.275,
          0.4,
          0.3,
          0.6,
          2,
          0.25,
          7,
          0.15,
          0.175,
          0.5,
          0.2,
          0.15,
          1.8,
          0.6,
          0.15,
          1,
          0.4,
          22,
          0.15,
          0.15,
          12,
          0.3,
          0.3,
          0.25,
          0.4,
          0.4,
          0.8,
          2,
          1,
          16,
          2,
          0.1,
          2,
          1.2,
          2.5,
          3,
          1.5,
          13,
          9,
          0.8,
          0.15,
          2.5,
          2.5,
          0.3,
          0.7,
          0.9,
          1.5,
          0.5,
          14,
          0.3,
          0.15,
          0.7,
          0.5,
          12,
          0.2,
          0.25,
          2,
          8,
          3.5,
          0.7,
          0.6,
          1.2,
          0.05,
          0.5,
          9,
          0.25,
          0.3,
          0.5,
          0.175,
          70,
          0.6,
          1.2,
          0.25,
          0.1,
          1.8,
          0.3,
          0.15,
          0.85,
          0.2,
          60,
          0.25,
          1,
          1.2,
          1.2,
          2,
          25,
          0.2,
          2.8,
          0.125,
          1.5,
          0.175,
          0.8,
          11,
          1.2,
          0.6,
          5,
          1.2,
          1.5,
          0.7,
          25,
          0.25,
          7,
          0.3,
          0.1,
          45,
          5,
          8,
          0.5,
          1,
          0.3,
          0.6,
          4,
          0.5,
          0.3,
          0.9,
          0.5,
          10,
          0.25,
          3,
          2.5,
          2.5,
          28,
          0.6,
          0.2,
          3,
          1,
          0.3,
          0.2,
          0.6,
          1.5,
          1.5,
          10,
          1,
          0.05,
          2,
          0.3,
          2.5,
          0.05,
          8,
          0.2,
          0.125,
          0.5,
          1.2,
          0.15,
          1,
          6,
          2,
          0.1,
          0.7,
          0.15,
          2,
          0.45,
          0.9,
          0.4,
          0.25,
          0.8,
          2,
          0.3,
          1,
          16,
          0.7,
          16,
          0.5,
          2.5,
          0.8,
          0.4,
          10,
          0.9,
          0.45,
          6,
          1.2,
          17,
          5,
          8,
          12,
          7,
          0.6,
          0.3,
          0.6,
          0.7,
          0.25,
          0.4,
          1.8,
          12,
          2,
          0.8,
          0.7,
          0.25,
          9.5,
          0.3,
          25,
          4.5,
          0.8,
          0.4,
          6,
          22,
          9,
          0.35,
          10,
          12,
          0.15,
          0.9,
          60,
          0.6,
          2.2,
          10,
          8,
          2,
          0.75,
          1.2,
          0.45,
          45,
          1.5,
          2,
          0.15,
          2.5,
          0.1,
          12,
          2.5,
          0.3,
          0.125,
          35,
          1,
          6.5,
          2,
          3.5,
          8,
          16,
          1.5,
          16,
          8,
          70,
          1.2,
          0.2,
          0.25,
          2,
          0.8,
          0.25,
          1.5,
          0.9,
          28,
          9,
          1,
          0.45,
          0.2,
          0.175,
          1.5,
          0.3,
          6,
          1,
          0.35,
          0.2,
          3.5,
          0.15,
          35,
          1.8,
          4.5,
          0.6,
          0.9,
          0.9,
          1.2,
          1,
          0.35,
          25,
          0.2,
          0.1,
          1.2,
          20,
          9,
          0.7,
          18,
          3.2,
          0.85,
          2,
          30,
          0.8,
          35,
          0.6,
          0.275,
          25,
          1.5,
          0.25,
          0.55,
          0.35,
          38,
          0.35,
          12,
          0.35,
          0.3,
          35,
          4,
          3.8,
          0.2,
          2.2,
          4.5,
          10,
          0.025,
          0.9,
          0.2,
          0.2,
          3,
          18,
          7,
          40,
          3,
          0.2,
          10,
          0.15,
          0.6,
          20,
          18,
          15,
          15,
          27,
          2.2,
          3.5,
          0.3,
          1.8,
          0.35,
          5,
          0.3,
          0.2,
          2.5,
          0.15,
          3.5,
          3,
          0.3,
          15,
          0.9,
          0.3,
          2.5,
          6,
          0.4,
          16,
          75,
          40,
          12,
          2,
          0.3,
          9,
          4,
          12,
          5,
          1,
          3,
          0.2,
          0.4,
          1,
          18,
          0.35,
          1.2,
          25,
          0.25,
          8,
          0.6,
          8,
          0.175,
          10,
          1,
          1.2,
          0.3,
          0.5,
          3.5,
          0.2,
          0.2,
          1.2,
          0.025,
          20,
          28,
          40,
          45,
          7,
          6,
          0.4,
          0.6,
          0.2,
          0.15,
          18,
          3.5,
          0.35,
          0.25,
          35,
          15,
          1.5,
          2.2,
          0.6,
          20,
          48,
          3.5,
          0.35,
          1.5,
          40,
          0.075,
          1.5,
          0.45,
          75,
          80,
          3.5,
          1.5,
          0.35,
          0.15,
          10,
          28,
          0.15,
          0.125,
          0.3,
          14,
          1.5,
          0.25,
          0.3,
          0.2,
          1,
          4,
          12,
          0.5,
          0.9,
          1.5,
          6,
          1,
          10,
          10,
          2,
          30,
          1.8,
          18,
          12,
          0.125,
          13,
          25,
          0.2,
          50,
          2.5,
          2.5,
          8,
          22,
          1.2,
          0.9,
          7,
          0.5,
          22,
          0.225,
          2,
          0.3,
          80,
          1.2,
          0.2,
          15,
          1.5,
          3,
          0.125,
          20,
          18,
          80,
          30,
          5,
          0.5,
          4.5,
          25,
          2.5,
          25,
          0.35,
          20,
          16,
          0.25,
          1.8,
          0.15,
          7,
          1.2,
          20,
          0.8,
          0.25,
          18,
          17,
          35,
          0.075,
          32,
          4,
          12,
          0.35,
          2,
          0.25,
          13,
          15,
          0.3,
          0.5,
          35,
          0.3,
          38,
          40,
          0.35,
          0.25,
          0.15,
          16,
          1.8,
          2.8,
          0.3,
          16,
          0.25,
          0.8,
          25,
          0.7,
          2,
          12,
          20,
          20,
          2,
          0.2,
          15,
          0.25,
          60,
          2.5,
          25,
          18,
          25,
          3,
          8,
          15,
          0.25,
          0.3,
          25,
          0.5,
          25,
          3.5,
          1.2,
          1.2,
          2.8,
          60,
          0.8,
          3,
          0.15,
          4.5,
          4.5,
          9,
          0.2,
          0.9,
          0.5,
          4,
          65,
          0.4,
          0.15,
          0.3,
          3.8,
          38,
          35,
          80,
          2,
          0.1,
          0.7,
          13,
          22,
          5,
          0.15,
          0.075,
          7,
          4.5,
          2,
          40,
          4,
          16,
          75,
          0.5,
          16,
          0.7,
          12,
          25,
          20,
          18,
          38,
          50,
          13,
          0.8,
          0.4,
          1,
          18,
          50,
          2.2,
          0.5,
          28,
          0.075,
          0.45,
          0.15,
          0.3,
          16,
          25,
          12,
          6,
          38,
          28,
          12,
          50,
          0.3,
          25,
          50,
          5,
          0.5,
          4.5,
          4.5,
          0.4,
          28,
          15,
          0.7,
          1,
          15,
          80,
          20,
          3,
          0.3,
          0.2,
          6,
          18,
          0.9,
          1.5,
          7,
          0.9,
          65,
          25,
          12,
          70,
          1.5,
          32,
          12,
          0.8,
          35,
          3.5,
          0.3,
          0.15,
          0.5,
          40,
          60,
          27,
          38,
          35,
          0.2,
          90,
          2.8,
          2,
          90,
          0.45,
          45,
          75,
          1.2,
          18,
          0.8,
          0.25,
          0.4,
          15,
          15,
          6,
          1.2,
          4,
          30,
          0.2,
          10,
          35,
          0.6,
          16,
          48,
          3.5,
          10,
          0.2,
          3,
          0.4,
          13,
          3,
          0.075,
          1.8,
          30,
          2.2,
          0.125,
          1.8,
          1,
          3.5,
          28,
          18,
          1.5,
          0.3,
          2,
          35,
          0.9,
          35,
          0.175,
          17,
          0.3,
          0.3,
          18,
          12,
          30,
          1.4,
          50,
          0.35,
          3.5,
          0.35,
          18,
          0.3,
          1,
          0.15,
          50,
          0.3,
          35,
          5,
          17,
          45,
          3.5,
          55,
          5,
          35,
          3,
          12,
          22,
          10,
          3.5,
          25,
          6,
          2,
          0.6,
          0.5,
          0.5,
          4,
          7,
          110,
          15,
          2.2,
          20,
          25,
          18,
          0.25,
          0.15,
          7,
          35,
          20,
          25,
          18,
          9,
          7,
          1.3,
          15,
          12,
          0.125,
          22,
          180,
          1.8,
          1.5,
          0.5,
          7,
          42,
          0.8,
          0.1,
          16,
          2.5,
          0.9,
          8,
          25,
          0.3,
          11,
          20,
          16,
          38,
          0.3,
          0.3,
          30,
          11,
          0.8,
          1.5,
          0.25,
          1.2,
          55,
          110,
          0.3,
          0.15,
          5,
          0.2,
          0.9,
          17,
          2.8,
          2.8,
          0.6,
          4,
          17,
          55,
          50,
          9,
          8,
          14,
          18,
          5,
          3.5,
          45,
          0.2,
          6,
          2.8,
          10,
          10,
          40,
          0.3,
          0.6,
          0.15,
          0.45,
          1.2,
          0.25,
          10,
          15,
          40,
          0.3,
          0.3,
          0.8,
          3.8,
          10,
          20,
          7,
          10,
          6,
          11,
          4,
          22,
          0.5,
          22,
          1,
          6,
          0.35,
          0.175,
          30,
          65,
          20,
          2.8,
          0.2,
          12,
          25,
          55,
          75,
          4,
          0.075,
          25,
          22,
          30,
          40,
          0.6,
          75,
          50,
          8,
          10,
          1.5,
          0.4,
          12,
          42,
          28,
          0.075,
          0.25,
          5,
          0.15,
          28,
          0.2,
          2,
          0.9,
          1,
          0.5,
          9,
          5,
          0.3,
          55,
          4,
          0.25,
          15,
          0.2,
          0.15,
          1.2,
          0.35,
          4.5,
          2,
          20,
          0.25,
          35,
          1.8,
          32,
          0.8,
          2,
          2.2,
          5,
          2,
          0.8,
          15,
          8,
          25,
          28,
          0.6,
          5,
          0.2,
          12,
          1,
          7,
          22,
          12,
          14,
          0.25,
          9,
          1.8,
          0.15,
          1.2,
          0.5,
          7,
          0.3,
          4,
          0.15,
          2.5,
          3,
          22,
          28,
          4,
          30,
          70,
          0.45,
          0.55,
          25,
          6,
          0.05,
          0.7,
          0.5,
          0.15,
          0.5,
          2.5,
          0.3,
          8,
          3.5,
          5,
          0.125,
          3,
          0.5,
          10,
          3,
          65,
          0.2,
          2,
          2.2,
          13,
          60,
          0.3,
          22,
          0.3,
          0.2,
          0.15,
          13,
          5,
          20,
          0.1,
          3,
          35,
          30,
          65,
          2.5,
          1.5,
          0.6,
          0.7,
          2,
          0.6,
          35,
          0.3,
          3.5,
          0.15,
          25,
          18,
          1,
          16,
          8,
          0.3,
          0.2,
          6,
          0.2,
          0.2,
          12,
          5,
          35,
          0.2,
          2.5,
          0.2,
          8,
          0.3,
          5,
          2.2,
          15,
          5,
          15,
          28,
          0.25,
          1.5,
          4,
          22,
          10,
          0.275,
          0.35,
          1.2,
          0.6,
          2.5,
          1,
          8,
          0.25,
          0.15,
          18,
          6,
          9,
          20,
          1.5,
          1,
          0.7,
          1.2,
          0.1,
          0.45,
          25,
          0.9,
          0.3,
          25,
          0.05,
          1,
          0.5,
          45,
          30,
          0.35,
          0.25,
          6,
          8,
          1.2,
          2,
          0.5,
          35,
          0.25,
          0.25,
          5,
          1,
          0.35,
          0.3,
          16,
          0.2,
          1,
          0.3,
          7,
          2.5,
          25,
          0.25,
          0.3,
          15,
          1.5,
          0.5,
          0.125,
          0.2,
          24,
          1.8,
          0.9,
          18,
          32,
          0.175,
          1,
          15,
          0.45,
          0.2,
          0.9,
          5,
          7,
          0.075,
          10,
          85,
          5,
          12,
          0.5,
          11,
          0.2,
          0.05,
          70,
          0.25,
          0.35,
          0.175,
          10,
          18,
          22,
          7,
          1.2,
          0.4,
          0.45,
          1,
          2,
          6,
          2.8,
          3,
          6,
          0.8,
          0.9,
          0.8,
          0.5,
          0.3,
          1.8,
          0.9,
          13,
          0.2,
          6,
          9,
          0.6,
          55,
          0.5,
          0.25,
          11,
          1.2,
          4,
          15,
          0.25,
          0.5,
          0.5,
          0.4,
          22,
          0.7,
          8,
          0.35,
          3,
          1,
          0.8,
          0.8,
          1.2,
          2.8,
          0.3,
          3,
          10,
          22,
          0.2,
          1.5,
          0.15,
          18,
          5,
          1,
          3,
          0.2,
          2,
          6,
          5,
          5,
          3.5,
          4,
          1,
          22,
          1,
          0.25,
          0.125,
          0.1,
          12,
          0.4,
          30,
          10,
          0.45,
          14,
          20,
          0.25,
          28,
          25,
          0.25,
          1,
          0.8,
          0.25,
          20,
          0.8,
          5,
          3.5,
          0.15,
          14,
          2,
          0.2,
          0.8,
          4,
          2,
          0.4,
          1.5,
          0.275,
          0.15,
          0.5,
          0.3,
          1.5,
          0.4,
          6,
          8,
          0.3,
          0.3,
          0.2,
          3,
          12,
          0.5,
          3,
          0.2,
          2,
          0.125,
          1.9
         ],
         "yaxis": "y"
        }
       ],
       "layout": {
        "legend": {
         "tracegroupgap": 0
        },
        "margin": {
         "t": 60
        },
        "template": {
         "data": {
          "bar": [
           {
            "error_x": {
             "color": "#2a3f5f"
            },
            "error_y": {
             "color": "#2a3f5f"
            },
            "marker": {
             "line": {
              "color": "#E5ECF6",
              "width": 0.5
             },
             "pattern": {
              "fillmode": "overlay",
              "size": 10,
              "solidity": 0.2
             }
            },
            "type": "bar"
           }
          ],
          "barpolar": [
           {
            "marker": {
             "line": {
              "color": "#E5ECF6",
              "width": 0.5
             },
             "pattern": {
              "fillmode": "overlay",
              "size": 10,
              "solidity": 0.2
             }
            },
            "type": "barpolar"
           }
          ],
          "carpet": [
           {
            "aaxis": {
             "endlinecolor": "#2a3f5f",
             "gridcolor": "white",
             "linecolor": "white",
             "minorgridcolor": "white",
             "startlinecolor": "#2a3f5f"
            },
            "baxis": {
             "endlinecolor": "#2a3f5f",
             "gridcolor": "white",
             "linecolor": "white",
             "minorgridcolor": "white",
             "startlinecolor": "#2a3f5f"
            },
            "type": "carpet"
           }
          ],
          "choropleth": [
           {
            "colorbar": {
             "outlinewidth": 0,
             "ticks": ""
            },
            "type": "choropleth"
           }
          ],
          "contour": [
           {
            "colorbar": {
             "outlinewidth": 0,
             "ticks": ""
            },
            "colorscale": [
             [
              0,
              "#0d0887"
             ],
             [
              0.1111111111111111,
              "#46039f"
             ],
             [
              0.2222222222222222,
              "#7201a8"
             ],
             [
              0.3333333333333333,
              "#9c179e"
             ],
             [
              0.4444444444444444,
              "#bd3786"
             ],
             [
              0.5555555555555556,
              "#d8576b"
             ],
             [
              0.6666666666666666,
              "#ed7953"
             ],
             [
              0.7777777777777778,
              "#fb9f3a"
             ],
             [
              0.8888888888888888,
              "#fdca26"
             ],
             [
              1,
              "#f0f921"
             ]
            ],
            "type": "contour"
           }
          ],
          "contourcarpet": [
           {
            "colorbar": {
             "outlinewidth": 0,
             "ticks": ""
            },
            "type": "contourcarpet"
           }
          ],
          "heatmap": [
           {
            "colorbar": {
             "outlinewidth": 0,
             "ticks": ""
            },
            "colorscale": [
             [
              0,
              "#0d0887"
             ],
             [
              0.1111111111111111,
              "#46039f"
             ],
             [
              0.2222222222222222,
              "#7201a8"
             ],
             [
              0.3333333333333333,
              "#9c179e"
             ],
             [
              0.4444444444444444,
              "#bd3786"
             ],
             [
              0.5555555555555556,
              "#d8576b"
             ],
             [
              0.6666666666666666,
              "#ed7953"
             ],
             [
              0.7777777777777778,
              "#fb9f3a"
             ],
             [
              0.8888888888888888,
              "#fdca26"
             ],
             [
              1,
              "#f0f921"
             ]
            ],
            "type": "heatmap"
           }
          ],
          "heatmapgl": [
           {
            "colorbar": {
             "outlinewidth": 0,
             "ticks": ""
            },
            "colorscale": [
             [
              0,
              "#0d0887"
             ],
             [
              0.1111111111111111,
              "#46039f"
             ],
             [
              0.2222222222222222,
              "#7201a8"
             ],
             [
              0.3333333333333333,
              "#9c179e"
             ],
             [
              0.4444444444444444,
              "#bd3786"
             ],
             [
              0.5555555555555556,
              "#d8576b"
             ],
             [
              0.6666666666666666,
              "#ed7953"
             ],
             [
              0.7777777777777778,
              "#fb9f3a"
             ],
             [
              0.8888888888888888,
              "#fdca26"
             ],
             [
              1,
              "#f0f921"
             ]
            ],
            "type": "heatmapgl"
           }
          ],
          "histogram": [
           {
            "marker": {
             "pattern": {
              "fillmode": "overlay",
              "size": 10,
              "solidity": 0.2
             }
            },
            "type": "histogram"
           }
          ],
          "histogram2d": [
           {
            "colorbar": {
             "outlinewidth": 0,
             "ticks": ""
            },
            "colorscale": [
             [
              0,
              "#0d0887"
             ],
             [
              0.1111111111111111,
              "#46039f"
             ],
             [
              0.2222222222222222,
              "#7201a8"
             ],
             [
              0.3333333333333333,
              "#9c179e"
             ],
             [
              0.4444444444444444,
              "#bd3786"
             ],
             [
              0.5555555555555556,
              "#d8576b"
             ],
             [
              0.6666666666666666,
              "#ed7953"
             ],
             [
              0.7777777777777778,
              "#fb9f3a"
             ],
             [
              0.8888888888888888,
              "#fdca26"
             ],
             [
              1,
              "#f0f921"
             ]
            ],
            "type": "histogram2d"
           }
          ],
          "histogram2dcontour": [
           {
            "colorbar": {
             "outlinewidth": 0,
             "ticks": ""
            },
            "colorscale": [
             [
              0,
              "#0d0887"
             ],
             [
              0.1111111111111111,
              "#46039f"
             ],
             [
              0.2222222222222222,
              "#7201a8"
             ],
             [
              0.3333333333333333,
              "#9c179e"
             ],
             [
              0.4444444444444444,
              "#bd3786"
             ],
             [
              0.5555555555555556,
              "#d8576b"
             ],
             [
              0.6666666666666666,
              "#ed7953"
             ],
             [
              0.7777777777777778,
              "#fb9f3a"
             ],
             [
              0.8888888888888888,
              "#fdca26"
             ],
             [
              1,
              "#f0f921"
             ]
            ],
            "type": "histogram2dcontour"
           }
          ],
          "mesh3d": [
           {
            "colorbar": {
             "outlinewidth": 0,
             "ticks": ""
            },
            "type": "mesh3d"
           }
          ],
          "parcoords": [
           {
            "line": {
             "colorbar": {
              "outlinewidth": 0,
              "ticks": ""
             }
            },
            "type": "parcoords"
           }
          ],
          "pie": [
           {
            "automargin": true,
            "type": "pie"
           }
          ],
          "scatter": [
           {
            "fillpattern": {
             "fillmode": "overlay",
             "size": 10,
             "solidity": 0.2
            },
            "type": "scatter"
           }
          ],
          "scatter3d": [
           {
            "line": {
             "colorbar": {
              "outlinewidth": 0,
              "ticks": ""
             }
            },
            "marker": {
             "colorbar": {
              "outlinewidth": 0,
              "ticks": ""
             }
            },
            "type": "scatter3d"
           }
          ],
          "scattercarpet": [
           {
            "marker": {
             "colorbar": {
              "outlinewidth": 0,
              "ticks": ""
             }
            },
            "type": "scattercarpet"
           }
          ],
          "scattergeo": [
           {
            "marker": {
             "colorbar": {
              "outlinewidth": 0,
              "ticks": ""
             }
            },
            "type": "scattergeo"
           }
          ],
          "scattergl": [
           {
            "marker": {
             "colorbar": {
              "outlinewidth": 0,
              "ticks": ""
             }
            },
            "type": "scattergl"
           }
          ],
          "scattermapbox": [
           {
            "marker": {
             "colorbar": {
              "outlinewidth": 0,
              "ticks": ""
             }
            },
            "type": "scattermapbox"
           }
          ],
          "scatterpolar": [
           {
            "marker": {
             "colorbar": {
              "outlinewidth": 0,
              "ticks": ""
             }
            },
            "type": "scatterpolar"
           }
          ],
          "scatterpolargl": [
           {
            "marker": {
             "colorbar": {
              "outlinewidth": 0,
              "ticks": ""
             }
            },
            "type": "scatterpolargl"
           }
          ],
          "scatterternary": [
           {
            "marker": {
             "colorbar": {
              "outlinewidth": 0,
              "ticks": ""
             }
            },
            "type": "scatterternary"
           }
          ],
          "surface": [
           {
            "colorbar": {
             "outlinewidth": 0,
             "ticks": ""
            },
            "colorscale": [
             [
              0,
              "#0d0887"
             ],
             [
              0.1111111111111111,
              "#46039f"
             ],
             [
              0.2222222222222222,
              "#7201a8"
             ],
             [
              0.3333333333333333,
              "#9c179e"
             ],
             [
              0.4444444444444444,
              "#bd3786"
             ],
             [
              0.5555555555555556,
              "#d8576b"
             ],
             [
              0.6666666666666666,
              "#ed7953"
             ],
             [
              0.7777777777777778,
              "#fb9f3a"
             ],
             [
              0.8888888888888888,
              "#fdca26"
             ],
             [
              1,
              "#f0f921"
             ]
            ],
            "type": "surface"
           }
          ],
          "table": [
           {
            "cells": {
             "fill": {
              "color": "#EBF0F8"
             },
             "line": {
              "color": "white"
             }
            },
            "header": {
             "fill": {
              "color": "#C8D4E3"
             },
             "line": {
              "color": "white"
             }
            },
            "type": "table"
           }
          ]
         },
         "layout": {
          "annotationdefaults": {
           "arrowcolor": "#2a3f5f",
           "arrowhead": 0,
           "arrowwidth": 1
          },
          "autotypenumbers": "strict",
          "coloraxis": {
           "colorbar": {
            "outlinewidth": 0,
            "ticks": ""
           }
          },
          "colorscale": {
           "diverging": [
            [
             0,
             "#8e0152"
            ],
            [
             0.1,
             "#c51b7d"
            ],
            [
             0.2,
             "#de77ae"
            ],
            [
             0.3,
             "#f1b6da"
            ],
            [
             0.4,
             "#fde0ef"
            ],
            [
             0.5,
             "#f7f7f7"
            ],
            [
             0.6,
             "#e6f5d0"
            ],
            [
             0.7,
             "#b8e186"
            ],
            [
             0.8,
             "#7fbc41"
            ],
            [
             0.9,
             "#4d9221"
            ],
            [
             1,
             "#276419"
            ]
           ],
           "sequential": [
            [
             0,
             "#0d0887"
            ],
            [
             0.1111111111111111,
             "#46039f"
            ],
            [
             0.2222222222222222,
             "#7201a8"
            ],
            [
             0.3333333333333333,
             "#9c179e"
            ],
            [
             0.4444444444444444,
             "#bd3786"
            ],
            [
             0.5555555555555556,
             "#d8576b"
            ],
            [
             0.6666666666666666,
             "#ed7953"
            ],
            [
             0.7777777777777778,
             "#fb9f3a"
            ],
            [
             0.8888888888888888,
             "#fdca26"
            ],
            [
             1,
             "#f0f921"
            ]
           ],
           "sequentialminus": [
            [
             0,
             "#0d0887"
            ],
            [
             0.1111111111111111,
             "#46039f"
            ],
            [
             0.2222222222222222,
             "#7201a8"
            ],
            [
             0.3333333333333333,
             "#9c179e"
            ],
            [
             0.4444444444444444,
             "#bd3786"
            ],
            [
             0.5555555555555556,
             "#d8576b"
            ],
            [
             0.6666666666666666,
             "#ed7953"
            ],
            [
             0.7777777777777778,
             "#fb9f3a"
            ],
            [
             0.8888888888888888,
             "#fdca26"
            ],
            [
             1,
             "#f0f921"
            ]
           ]
          },
          "colorway": [
           "#636efa",
           "#EF553B",
           "#00cc96",
           "#ab63fa",
           "#FFA15A",
           "#19d3f3",
           "#FF6692",
           "#B6E880",
           "#FF97FF",
           "#FECB52"
          ],
          "font": {
           "color": "#2a3f5f"
          },
          "geo": {
           "bgcolor": "white",
           "lakecolor": "white",
           "landcolor": "#E5ECF6",
           "showlakes": true,
           "showland": true,
           "subunitcolor": "white"
          },
          "hoverlabel": {
           "align": "left"
          },
          "hovermode": "closest",
          "mapbox": {
           "style": "light"
          },
          "paper_bgcolor": "white",
          "plot_bgcolor": "#E5ECF6",
          "polar": {
           "angularaxis": {
            "gridcolor": "white",
            "linecolor": "white",
            "ticks": ""
           },
           "bgcolor": "#E5ECF6",
           "radialaxis": {
            "gridcolor": "white",
            "linecolor": "white",
            "ticks": ""
           }
          },
          "scene": {
           "xaxis": {
            "backgroundcolor": "#E5ECF6",
            "gridcolor": "white",
            "gridwidth": 2,
            "linecolor": "white",
            "showbackground": true,
            "ticks": "",
            "zerolinecolor": "white"
           },
           "yaxis": {
            "backgroundcolor": "#E5ECF6",
            "gridcolor": "white",
            "gridwidth": 2,
            "linecolor": "white",
            "showbackground": true,
            "ticks": "",
            "zerolinecolor": "white"
           },
           "zaxis": {
            "backgroundcolor": "#E5ECF6",
            "gridcolor": "white",
            "gridwidth": 2,
            "linecolor": "white",
            "showbackground": true,
            "ticks": "",
            "zerolinecolor": "white"
           }
          },
          "shapedefaults": {
           "line": {
            "color": "#2a3f5f"
           }
          },
          "ternary": {
           "aaxis": {
            "gridcolor": "white",
            "linecolor": "white",
            "ticks": ""
           },
           "baxis": {
            "gridcolor": "white",
            "linecolor": "white",
            "ticks": ""
           },
           "bgcolor": "#E5ECF6",
           "caxis": {
            "gridcolor": "white",
            "linecolor": "white",
            "ticks": ""
           }
          },
          "title": {
           "x": 0.05
          },
          "xaxis": {
           "automargin": true,
           "gridcolor": "white",
           "linecolor": "white",
           "ticks": "",
           "title": {
            "standoff": 15
           },
           "zerolinecolor": "white",
           "zerolinewidth": 2
          },
          "yaxis": {
           "automargin": true,
           "gridcolor": "white",
           "linecolor": "white",
           "ticks": "",
           "title": {
            "standoff": 15
           },
           "zerolinecolor": "white",
           "zerolinewidth": 2
          }
         }
        },
        "xaxis": {
         "anchor": "y",
         "domain": [
          0,
          1
         ],
         "title": {
          "text": "predicted_value"
         }
        },
        "yaxis": {
         "anchor": "x",
         "domain": [
          0,
          1
         ],
         "title": {
          "text": "market_value_in_million_eur"
         }
        }
       }
      }
     },
     "metadata": {},
     "output_type": "display_data"
    }
   ],
   "source": [
    "\n",
    "\n",
    "predicted_dfs, regressor, y_test = predict_future_values(\n",
    "    pdf_train, \n",
    "    pdf_test,\n",
    "    prediction_years=[2023, 2024, 2025, 2026, 2027, 2028, 2029, 2030, 2031, 2032, 2033, 2034, 2035, 2036, 2037, 2038],\n",
    "    features=features\n",
    ")\n",
    "\n",
    "forecast_df = pd.concat(predicted_dfs, ignore_index=True)"
   ]
  },
  {
   "cell_type": "code",
   "execution_count": 30,
   "id": "bc877592",
   "metadata": {},
   "outputs": [
    {
     "name": "stdout",
     "output_type": "stream",
     "text": [
      "\n",
      "🔎 Linear Regression Coefficients:\n",
      "                  Feature   Coefficient\n",
      "  subpos_Central Midfield  1.181015e+13\n",
      "    subpos_Centre-Forward  9.516351e+12\n",
      "subpos_Defensive Midfield  8.907077e+12\n",
      "subpos_Attacking Midfield  7.174904e+12\n",
      "           pos_Goalkeeper  7.037091e+12\n",
      "             pos_Defender  6.747465e+12\n",
      "      subpos_Right Winger  6.109785e+12\n",
      "       subpos_Centre-Back  5.605286e+12\n",
      "       subpos_Left Winger  5.504963e+12\n",
      "        subpos_Right-Back  4.065359e+12\n",
      "     subpos_Left Midfield  4.053734e+12\n",
      "         subpos_Left-Back  3.589590e+12\n",
      "    subpos_Right Midfield  2.852409e+12\n",
      "        subpos_Goalkeeper  2.687274e+12\n",
      "             pos_Midfield -2.286779e+12\n",
      "    subpos_Second Striker  1.873380e+12\n",
      "        team_goals_scored -1.407437e+12\n",
      "      team_goals_conceded  1.389713e+12\n",
      "     team_goal_difference  9.802367e+11\n",
      "       goal_contributions -8.744784e+11\n",
      "               pos_Attack  7.532547e+11\n",
      "                    goals  5.488049e+11\n",
      "           contrib_per_90  4.420332e+11\n",
      "                  assists  4.031925e+11\n",
      "           assists_per_90 -3.184214e+11\n",
      "             goals_per_90 -2.371955e+11\n",
      "          value_last_year  9.644147e+00\n",
      "            total_minutes  8.727532e-01\n",
      "            age_last_year -8.349551e-01\n",
      "             games_played -4.701599e-01\n",
      "      contract_years_left  4.085013e-01\n",
      "                 team_ppg -2.031890e-01\n"
     ]
    }
   ],
   "source": [
    "# Print coefficients\n",
    "coef_df = pd.DataFrame({\n",
    "    \"Feature\": features,\n",
    "    \"Coefficient\": regressor.coef_\n",
    "}).sort_values(by=\"Coefficient\", key=abs, ascending=False)\n",
    "\n",
    "print(\"\\n🔎 Linear Regression Coefficients:\")\n",
    "print(coef_df.to_string(index=False))"
   ]
  },
  {
   "cell_type": "code",
   "execution_count": 31,
   "id": "40b825f0",
   "metadata": {},
   "outputs": [],
   "source": [
    "# Merge with actual market values for evaluation\n",
    "\n",
    "merged = forecast_df.merge(pdf_test[[\"player_id\", \"name\"]], on=[\"player_id\"], how=\"left\")\n",
    "end = time.time()\n",
    "diff = end - start"
   ]
  },
  {
   "cell_type": "code",
   "execution_count": 32,
   "id": "6304edb9",
   "metadata": {},
   "outputs": [
    {
     "data": {
      "application/vnd.plotly.v1+json": {
       "config": {
        "plotlyServerURL": "https://plot.ly"
       },
       "data": [
        {
         "customdata": [
          [
           22
          ],
          [
           23
          ],
          [
           24
          ],
          [
           25
          ],
          [
           27
          ],
          [
           27
          ],
          [
           28
          ],
          [
           30
          ],
          [
           31
          ],
          [
           32
          ],
          [
           33
          ],
          [
           34
          ],
          [
           35
          ],
          [
           36
          ],
          [
           37
          ],
          [
           38
          ],
          [
           39
          ],
          [
           40
          ],
          [
           41
          ],
          [
           42
          ],
          [
           43
          ],
          [
           44
          ],
          [
           45
          ],
          [
           46
          ]
         ],
         "hovertemplate": "name=Mohamed Salah<br>year=%{x}<br>predicted_value=%{y}<br>age=%{customdata[0]}<extra></extra>",
         "legendgroup": "Mohamed Salah",
         "line": {
          "color": "#636efa",
          "dash": "solid"
         },
         "marker": {
          "symbol": "circle"
         },
         "mode": "lines",
         "name": "Mohamed Salah",
         "orientation": "v",
         "showlegend": true,
         "type": "scatter",
         "x": [
          2015,
          2016,
          2017,
          2018,
          2019,
          2020,
          2021,
          2022,
          2023,
          2024,
          2025,
          2026,
          2027,
          2028,
          2029,
          2030,
          2031,
          2032,
          2033,
          2034,
          2035,
          2036,
          2037,
          2038
         ],
         "xaxis": "x",
         "y": [
          10,
          20,
          30,
          80,
          150,
          120,
          110,
          90,
          92.7095394600853,
          94.9048519600853,
          96.7681332100853,
          98.3228207100853,
          99.5923519600853,
          100.5923519600853,
          101.3462582100853,
          101.8696957100853,
          102.1782894600853,
          102.2876644600853,
          102.2095394600853,
          101.9595394600853,
          101.5493832100853,
          100.9907894600853,
          100.2915707100853,
          99.4634457100853
         ],
         "yaxis": "y"
        },
        {
         "customdata": [
          [
           19
          ],
          [
           20
          ],
          [
           21
          ],
          [
           22
          ],
          [
           23
          ],
          [
           24
          ],
          [
           25
          ],
          [
           26
          ],
          [
           27
          ],
          [
           28
          ],
          [
           29
          ],
          [
           30
          ],
          [
           31
          ],
          [
           32
          ],
          [
           33
          ],
          [
           34
          ],
          [
           35
          ],
          [
           36
          ],
          [
           37
          ],
          [
           38
          ],
          [
           39
          ],
          [
           40
          ],
          [
           41
          ]
         ],
         "hovertemplate": "name=Wilfred Ndidi<br>year=%{x}<br>predicted_value=%{y}<br>age=%{customdata[0]}<extra></extra>",
         "legendgroup": "Wilfred Ndidi",
         "line": {
          "color": "#EF553B",
          "dash": "solid"
         },
         "marker": {
          "symbol": "circle"
         },
         "mode": "lines",
         "name": "Wilfred Ndidi",
         "orientation": "v",
         "showlegend": true,
         "type": "scatter",
         "x": [
          2016,
          2017,
          2018,
          2019,
          2020,
          2021,
          2022,
          2023,
          2024,
          2025,
          2026,
          2027,
          2028,
          2029,
          2030,
          2031,
          2032,
          2033,
          2034,
          2035,
          2036,
          2037,
          2038
         ],
         "xaxis": "x",
         "y": [
          1,
          14,
          18,
          35,
          36,
          50,
          60,
          56.45172696008529,
          52.82672696008529,
          49.12750821008529,
          45.36188321008529,
          41.68219571008529,
          38.08063321008529,
          34.55328946008529,
          31.09235196008529,
          27.69782071008529,
          24.36188321008529,
          21.08063321008529,
          17.85016446008529,
          14.666570710085288,
          11.529851960085288,
          8.432195710085288,
          5.3736019600852885
         ],
         "yaxis": "y"
        },
        {
         "customdata": [
          [
           18
          ],
          [
           20
          ],
          [
           21
          ],
          [
           22
          ],
          [
           23
          ],
          [
           24
          ],
          [
           25
          ],
          [
           26
          ],
          [
           27
          ],
          [
           28
          ],
          [
           29
          ],
          [
           30
          ],
          [
           31
          ],
          [
           32
          ],
          [
           33
          ],
          [
           34
          ],
          [
           35
          ],
          [
           36
          ],
          [
           37
          ],
          [
           38
          ],
          [
           39
          ]
         ],
         "hovertemplate": "name=Declan Rice<br>year=%{x}<br>predicted_value=%{y}<br>age=%{customdata[0]}<extra></extra>",
         "legendgroup": "Declan Rice",
         "line": {
          "color": "#00cc96",
          "dash": "solid"
         },
         "marker": {
          "symbol": "circle"
         },
         "mode": "lines",
         "name": "Declan Rice",
         "orientation": "v",
         "showlegend": true,
         "type": "scatter",
         "x": [
          2018,
          2019,
          2020,
          2021,
          2022,
          2023,
          2024,
          2025,
          2026,
          2027,
          2028,
          2029,
          2030,
          2031,
          2032,
          2033,
          2034,
          2035,
          2036,
          2037,
          2038
         ],
         "xaxis": "x",
         "y": [
          2,
          35,
          49.5,
          60,
          80,
          82.3955746163353,
          84.2979183663353,
          85.7393246163353,
          86.7549496163353,
          87.3760433663353,
          87.7744808663353,
          87.9658871163353,
          87.9658871163353,
          87.7901058663353,
          87.4463558663353,
          86.9502621163353,
          86.3096371163353,
          85.5361996163353,
          84.6377621163353,
          83.6260433663353,
          82.5049496163353
         ],
         "yaxis": "y"
        },
        {
         "customdata": [
          [
           17
          ],
          [
           18
          ],
          [
           18
          ],
          [
           19
          ],
          [
           20
          ],
          [
           21
          ],
          [
           22
          ],
          [
           23
          ],
          [
           24
          ],
          [
           25
          ],
          [
           26
          ],
          [
           27
          ],
          [
           28
          ],
          [
           29
          ],
          [
           30
          ],
          [
           31
          ],
          [
           32
          ],
          [
           33
          ],
          [
           34
          ],
          [
           35
          ],
          [
           36
          ],
          [
           37
          ]
         ],
         "hovertemplate": "name=Erling Haaland<br>year=%{x}<br>predicted_value=%{y}<br>age=%{customdata[0]}<extra></extra>",
         "legendgroup": "Erling Haaland",
         "line": {
          "color": "#ab63fa",
          "dash": "solid"
         },
         "marker": {
          "symbol": "circle"
         },
         "mode": "lines",
         "name": "Erling Haaland",
         "orientation": "v",
         "showlegend": true,
         "type": "scatter",
         "x": [
          2017,
          2018,
          2019,
          2020,
          2021,
          2022,
          2023,
          2024,
          2025,
          2026,
          2027,
          2028,
          2029,
          2030,
          2031,
          2032,
          2033,
          2034,
          2035,
          2036,
          2037,
          2038
         ],
         "xaxis": "x",
         "y": [
          0.3,
          2,
          5,
          60,
          110,
          150,
          151.5728207100853,
          152.7114925850853,
          153.4439144600853,
          153.7993832100853,
          153.8052425850853,
          153.4849300850853,
          153.0083675850853,
          152.3872738350853,
          151.6314144600853,
          150.7505550850853,
          149.7525082100853,
          148.6470394600853,
          147.4400082100853,
          146.1392269600853,
          144.7505550850853,
          143.2818050850853
         ],
         "yaxis": "y"
        },
        {
         "customdata": [
          [
           20
          ],
          [
           21
          ],
          [
           22
          ],
          [
           23
          ],
          [
           24
          ],
          [
           25
          ],
          [
           26
          ],
          [
           27
          ],
          [
           28
          ],
          [
           29
          ],
          [
           30
          ],
          [
           31
          ],
          [
           32
          ],
          [
           33
          ],
          [
           34
          ],
          [
           35
          ],
          [
           36
          ],
          [
           37
          ],
          [
           38
          ]
         ],
         "hovertemplate": "name=Illan Meslier<br>year=%{x}<br>predicted_value=%{y}<br>age=%{customdata[0]}<extra></extra>",
         "legendgroup": "Illan Meslier",
         "line": {
          "color": "#FFA15A",
          "dash": "solid"
         },
         "marker": {
          "symbol": "circle"
         },
         "mode": "lines",
         "name": "Illan Meslier",
         "orientation": "v",
         "showlegend": true,
         "type": "scatter",
         "x": [
          2020,
          2021,
          2022,
          2023,
          2024,
          2025,
          2026,
          2027,
          2028,
          2029,
          2030,
          2031,
          2032,
          2033,
          2034,
          2035,
          2036,
          2037,
          2038
         ],
         "xaxis": "x",
         "y": [
          5,
          17,
          20,
          19.37555508508529,
          18.46735196008529,
          17.29743008508529,
          16.03180508508529,
          14.676336335085288,
          13.236883210085288,
          11.721258210085288,
          10.133367585085288,
          8.477117585085288,
          6.7583675850852885,
          4.9829769600852885,
          3.1528988350852885,
          1.2720394600852885,
          -0.6556949149147115,
          -2.6263980399147115,
          -4.6381167899147115
         ],
         "yaxis": "y"
        },
        {
         "customdata": [
          [
           17
          ],
          [
           17
          ],
          [
           18
          ],
          [
           19
          ],
          [
           20
          ],
          [
           21
          ],
          [
           22
          ],
          [
           23
          ],
          [
           24
          ],
          [
           25
          ],
          [
           26
          ],
          [
           27
          ],
          [
           28
          ],
          [
           29
          ],
          [
           30
          ],
          [
           31
          ],
          [
           32
          ],
          [
           33
          ],
          [
           34
          ]
         ],
         "hovertemplate": "name=Harvey Elliott<br>year=%{x}<br>predicted_value=%{y}<br>age=%{customdata[0]}<extra></extra>",
         "legendgroup": "Harvey Elliott",
         "line": {
          "color": "#19d3f3",
          "dash": "solid"
         },
         "marker": {
          "symbol": "circle"
         },
         "mode": "lines",
         "name": "Harvey Elliott",
         "orientation": "v",
         "showlegend": true,
         "type": "scatter",
         "x": [
          2020,
          2021,
          2022,
          2023,
          2024,
          2025,
          2026,
          2027,
          2028,
          2029,
          2030,
          2031,
          2032,
          2033,
          2034,
          2035,
          2036,
          2037,
          2038
         ],
         "xaxis": "x",
         "y": [
          3.6,
          15,
          22,
          25.48297696008529,
          28.39703946008529,
          30.77985196008529,
          32.67047696008529,
          34.25250821008529,
          35.54547696008529,
          36.56891446008529,
          37.34625821008529,
          37.88922696008529,
          38.21735196008529,
          38.34235196008529,
          38.28375821008529,
          38.04938321008529,
          37.65485196008529,
          37.10797696008529,
          36.42047696008529
         ],
         "yaxis": "y"
        },
        {
         "customdata": [
          [
           18
          ],
          [
           19
          ],
          [
           20
          ],
          [
           21
          ],
          [
           22
          ],
          [
           23
          ],
          [
           24
          ],
          [
           25
          ],
          [
           26
          ],
          [
           27
          ],
          [
           28
          ],
          [
           29
          ],
          [
           30
          ],
          [
           31
          ],
          [
           32
          ],
          [
           33
          ]
         ],
         "hovertemplate": "name=Ashley Phillips<br>year=%{x}<br>predicted_value=%{y}<br>age=%{customdata[0]}<extra></extra>",
         "legendgroup": "Ashley Phillips",
         "line": {
          "color": "#FF6692",
          "dash": "solid"
         },
         "marker": {
          "symbol": "circle"
         },
         "mode": "lines",
         "name": "Ashley Phillips",
         "orientation": "v",
         "showlegend": true,
         "type": "scatter",
         "x": [
          2023,
          2024,
          2025,
          2026,
          2027,
          2028,
          2029,
          2030,
          2031,
          2032,
          2033,
          2034,
          2035,
          2036,
          2037,
          2038
         ],
         "xaxis": "x",
         "y": [
          5.1997738350852885,
          6.9341488350852885,
          8.369695710085288,
          9.527898835085288,
          10.426336335085288,
          11.084539460085288,
          11.518133210085288,
          11.742742585085288,
          11.773992585085288,
          11.625555085085288,
          11.309148835085288,
          10.836492585085288,
          10.219305085085288,
          9.467351960085288,
          8.590398835085288,
          7.5962582100852885
         ],
         "yaxis": "y"
        }
       ],
       "layout": {
        "annotations": [
         {
          "showarrow": false,
          "text": "2022/2023 boundary",
          "x": 2022.5,
          "xanchor": "left",
          "xref": "x",
          "y": 1,
          "yanchor": "top",
          "yref": "y domain"
         }
        ],
        "legend": {
         "title": {
          "text": "name"
         },
         "tracegroupgap": 0
        },
        "shapes": [
         {
          "line": {
           "color": "red",
           "dash": "dash"
          },
          "type": "line",
          "x0": 2022.5,
          "x1": 2022.5,
          "xref": "x",
          "y0": 0,
          "y1": 1,
          "yref": "y domain"
         }
        ],
        "template": {
         "data": {
          "bar": [
           {
            "error_x": {
             "color": "#2a3f5f"
            },
            "error_y": {
             "color": "#2a3f5f"
            },
            "marker": {
             "line": {
              "color": "#E5ECF6",
              "width": 0.5
             },
             "pattern": {
              "fillmode": "overlay",
              "size": 10,
              "solidity": 0.2
             }
            },
            "type": "bar"
           }
          ],
          "barpolar": [
           {
            "marker": {
             "line": {
              "color": "#E5ECF6",
              "width": 0.5
             },
             "pattern": {
              "fillmode": "overlay",
              "size": 10,
              "solidity": 0.2
             }
            },
            "type": "barpolar"
           }
          ],
          "carpet": [
           {
            "aaxis": {
             "endlinecolor": "#2a3f5f",
             "gridcolor": "white",
             "linecolor": "white",
             "minorgridcolor": "white",
             "startlinecolor": "#2a3f5f"
            },
            "baxis": {
             "endlinecolor": "#2a3f5f",
             "gridcolor": "white",
             "linecolor": "white",
             "minorgridcolor": "white",
             "startlinecolor": "#2a3f5f"
            },
            "type": "carpet"
           }
          ],
          "choropleth": [
           {
            "colorbar": {
             "outlinewidth": 0,
             "ticks": ""
            },
            "type": "choropleth"
           }
          ],
          "contour": [
           {
            "colorbar": {
             "outlinewidth": 0,
             "ticks": ""
            },
            "colorscale": [
             [
              0,
              "#0d0887"
             ],
             [
              0.1111111111111111,
              "#46039f"
             ],
             [
              0.2222222222222222,
              "#7201a8"
             ],
             [
              0.3333333333333333,
              "#9c179e"
             ],
             [
              0.4444444444444444,
              "#bd3786"
             ],
             [
              0.5555555555555556,
              "#d8576b"
             ],
             [
              0.6666666666666666,
              "#ed7953"
             ],
             [
              0.7777777777777778,
              "#fb9f3a"
             ],
             [
              0.8888888888888888,
              "#fdca26"
             ],
             [
              1,
              "#f0f921"
             ]
            ],
            "type": "contour"
           }
          ],
          "contourcarpet": [
           {
            "colorbar": {
             "outlinewidth": 0,
             "ticks": ""
            },
            "type": "contourcarpet"
           }
          ],
          "heatmap": [
           {
            "colorbar": {
             "outlinewidth": 0,
             "ticks": ""
            },
            "colorscale": [
             [
              0,
              "#0d0887"
             ],
             [
              0.1111111111111111,
              "#46039f"
             ],
             [
              0.2222222222222222,
              "#7201a8"
             ],
             [
              0.3333333333333333,
              "#9c179e"
             ],
             [
              0.4444444444444444,
              "#bd3786"
             ],
             [
              0.5555555555555556,
              "#d8576b"
             ],
             [
              0.6666666666666666,
              "#ed7953"
             ],
             [
              0.7777777777777778,
              "#fb9f3a"
             ],
             [
              0.8888888888888888,
              "#fdca26"
             ],
             [
              1,
              "#f0f921"
             ]
            ],
            "type": "heatmap"
           }
          ],
          "heatmapgl": [
           {
            "colorbar": {
             "outlinewidth": 0,
             "ticks": ""
            },
            "colorscale": [
             [
              0,
              "#0d0887"
             ],
             [
              0.1111111111111111,
              "#46039f"
             ],
             [
              0.2222222222222222,
              "#7201a8"
             ],
             [
              0.3333333333333333,
              "#9c179e"
             ],
             [
              0.4444444444444444,
              "#bd3786"
             ],
             [
              0.5555555555555556,
              "#d8576b"
             ],
             [
              0.6666666666666666,
              "#ed7953"
             ],
             [
              0.7777777777777778,
              "#fb9f3a"
             ],
             [
              0.8888888888888888,
              "#fdca26"
             ],
             [
              1,
              "#f0f921"
             ]
            ],
            "type": "heatmapgl"
           }
          ],
          "histogram": [
           {
            "marker": {
             "pattern": {
              "fillmode": "overlay",
              "size": 10,
              "solidity": 0.2
             }
            },
            "type": "histogram"
           }
          ],
          "histogram2d": [
           {
            "colorbar": {
             "outlinewidth": 0,
             "ticks": ""
            },
            "colorscale": [
             [
              0,
              "#0d0887"
             ],
             [
              0.1111111111111111,
              "#46039f"
             ],
             [
              0.2222222222222222,
              "#7201a8"
             ],
             [
              0.3333333333333333,
              "#9c179e"
             ],
             [
              0.4444444444444444,
              "#bd3786"
             ],
             [
              0.5555555555555556,
              "#d8576b"
             ],
             [
              0.6666666666666666,
              "#ed7953"
             ],
             [
              0.7777777777777778,
              "#fb9f3a"
             ],
             [
              0.8888888888888888,
              "#fdca26"
             ],
             [
              1,
              "#f0f921"
             ]
            ],
            "type": "histogram2d"
           }
          ],
          "histogram2dcontour": [
           {
            "colorbar": {
             "outlinewidth": 0,
             "ticks": ""
            },
            "colorscale": [
             [
              0,
              "#0d0887"
             ],
             [
              0.1111111111111111,
              "#46039f"
             ],
             [
              0.2222222222222222,
              "#7201a8"
             ],
             [
              0.3333333333333333,
              "#9c179e"
             ],
             [
              0.4444444444444444,
              "#bd3786"
             ],
             [
              0.5555555555555556,
              "#d8576b"
             ],
             [
              0.6666666666666666,
              "#ed7953"
             ],
             [
              0.7777777777777778,
              "#fb9f3a"
             ],
             [
              0.8888888888888888,
              "#fdca26"
             ],
             [
              1,
              "#f0f921"
             ]
            ],
            "type": "histogram2dcontour"
           }
          ],
          "mesh3d": [
           {
            "colorbar": {
             "outlinewidth": 0,
             "ticks": ""
            },
            "type": "mesh3d"
           }
          ],
          "parcoords": [
           {
            "line": {
             "colorbar": {
              "outlinewidth": 0,
              "ticks": ""
             }
            },
            "type": "parcoords"
           }
          ],
          "pie": [
           {
            "automargin": true,
            "type": "pie"
           }
          ],
          "scatter": [
           {
            "fillpattern": {
             "fillmode": "overlay",
             "size": 10,
             "solidity": 0.2
            },
            "type": "scatter"
           }
          ],
          "scatter3d": [
           {
            "line": {
             "colorbar": {
              "outlinewidth": 0,
              "ticks": ""
             }
            },
            "marker": {
             "colorbar": {
              "outlinewidth": 0,
              "ticks": ""
             }
            },
            "type": "scatter3d"
           }
          ],
          "scattercarpet": [
           {
            "marker": {
             "colorbar": {
              "outlinewidth": 0,
              "ticks": ""
             }
            },
            "type": "scattercarpet"
           }
          ],
          "scattergeo": [
           {
            "marker": {
             "colorbar": {
              "outlinewidth": 0,
              "ticks": ""
             }
            },
            "type": "scattergeo"
           }
          ],
          "scattergl": [
           {
            "marker": {
             "colorbar": {
              "outlinewidth": 0,
              "ticks": ""
             }
            },
            "type": "scattergl"
           }
          ],
          "scattermapbox": [
           {
            "marker": {
             "colorbar": {
              "outlinewidth": 0,
              "ticks": ""
             }
            },
            "type": "scattermapbox"
           }
          ],
          "scatterpolar": [
           {
            "marker": {
             "colorbar": {
              "outlinewidth": 0,
              "ticks": ""
             }
            },
            "type": "scatterpolar"
           }
          ],
          "scatterpolargl": [
           {
            "marker": {
             "colorbar": {
              "outlinewidth": 0,
              "ticks": ""
             }
            },
            "type": "scatterpolargl"
           }
          ],
          "scatterternary": [
           {
            "marker": {
             "colorbar": {
              "outlinewidth": 0,
              "ticks": ""
             }
            },
            "type": "scatterternary"
           }
          ],
          "surface": [
           {
            "colorbar": {
             "outlinewidth": 0,
             "ticks": ""
            },
            "colorscale": [
             [
              0,
              "#0d0887"
             ],
             [
              0.1111111111111111,
              "#46039f"
             ],
             [
              0.2222222222222222,
              "#7201a8"
             ],
             [
              0.3333333333333333,
              "#9c179e"
             ],
             [
              0.4444444444444444,
              "#bd3786"
             ],
             [
              0.5555555555555556,
              "#d8576b"
             ],
             [
              0.6666666666666666,
              "#ed7953"
             ],
             [
              0.7777777777777778,
              "#fb9f3a"
             ],
             [
              0.8888888888888888,
              "#fdca26"
             ],
             [
              1,
              "#f0f921"
             ]
            ],
            "type": "surface"
           }
          ],
          "table": [
           {
            "cells": {
             "fill": {
              "color": "#EBF0F8"
             },
             "line": {
              "color": "white"
             }
            },
            "header": {
             "fill": {
              "color": "#C8D4E3"
             },
             "line": {
              "color": "white"
             }
            },
            "type": "table"
           }
          ]
         },
         "layout": {
          "annotationdefaults": {
           "arrowcolor": "#2a3f5f",
           "arrowhead": 0,
           "arrowwidth": 1
          },
          "autotypenumbers": "strict",
          "coloraxis": {
           "colorbar": {
            "outlinewidth": 0,
            "ticks": ""
           }
          },
          "colorscale": {
           "diverging": [
            [
             0,
             "#8e0152"
            ],
            [
             0.1,
             "#c51b7d"
            ],
            [
             0.2,
             "#de77ae"
            ],
            [
             0.3,
             "#f1b6da"
            ],
            [
             0.4,
             "#fde0ef"
            ],
            [
             0.5,
             "#f7f7f7"
            ],
            [
             0.6,
             "#e6f5d0"
            ],
            [
             0.7,
             "#b8e186"
            ],
            [
             0.8,
             "#7fbc41"
            ],
            [
             0.9,
             "#4d9221"
            ],
            [
             1,
             "#276419"
            ]
           ],
           "sequential": [
            [
             0,
             "#0d0887"
            ],
            [
             0.1111111111111111,
             "#46039f"
            ],
            [
             0.2222222222222222,
             "#7201a8"
            ],
            [
             0.3333333333333333,
             "#9c179e"
            ],
            [
             0.4444444444444444,
             "#bd3786"
            ],
            [
             0.5555555555555556,
             "#d8576b"
            ],
            [
             0.6666666666666666,
             "#ed7953"
            ],
            [
             0.7777777777777778,
             "#fb9f3a"
            ],
            [
             0.8888888888888888,
             "#fdca26"
            ],
            [
             1,
             "#f0f921"
            ]
           ],
           "sequentialminus": [
            [
             0,
             "#0d0887"
            ],
            [
             0.1111111111111111,
             "#46039f"
            ],
            [
             0.2222222222222222,
             "#7201a8"
            ],
            [
             0.3333333333333333,
             "#9c179e"
            ],
            [
             0.4444444444444444,
             "#bd3786"
            ],
            [
             0.5555555555555556,
             "#d8576b"
            ],
            [
             0.6666666666666666,
             "#ed7953"
            ],
            [
             0.7777777777777778,
             "#fb9f3a"
            ],
            [
             0.8888888888888888,
             "#fdca26"
            ],
            [
             1,
             "#f0f921"
            ]
           ]
          },
          "colorway": [
           "#636efa",
           "#EF553B",
           "#00cc96",
           "#ab63fa",
           "#FFA15A",
           "#19d3f3",
           "#FF6692",
           "#B6E880",
           "#FF97FF",
           "#FECB52"
          ],
          "font": {
           "color": "#2a3f5f"
          },
          "geo": {
           "bgcolor": "white",
           "lakecolor": "white",
           "landcolor": "#E5ECF6",
           "showlakes": true,
           "showland": true,
           "subunitcolor": "white"
          },
          "hoverlabel": {
           "align": "left"
          },
          "hovermode": "closest",
          "mapbox": {
           "style": "light"
          },
          "paper_bgcolor": "white",
          "plot_bgcolor": "#E5ECF6",
          "polar": {
           "angularaxis": {
            "gridcolor": "white",
            "linecolor": "white",
            "ticks": ""
           },
           "bgcolor": "#E5ECF6",
           "radialaxis": {
            "gridcolor": "white",
            "linecolor": "white",
            "ticks": ""
           }
          },
          "scene": {
           "xaxis": {
            "backgroundcolor": "#E5ECF6",
            "gridcolor": "white",
            "gridwidth": 2,
            "linecolor": "white",
            "showbackground": true,
            "ticks": "",
            "zerolinecolor": "white"
           },
           "yaxis": {
            "backgroundcolor": "#E5ECF6",
            "gridcolor": "white",
            "gridwidth": 2,
            "linecolor": "white",
            "showbackground": true,
            "ticks": "",
            "zerolinecolor": "white"
           },
           "zaxis": {
            "backgroundcolor": "#E5ECF6",
            "gridcolor": "white",
            "gridwidth": 2,
            "linecolor": "white",
            "showbackground": true,
            "ticks": "",
            "zerolinecolor": "white"
           }
          },
          "shapedefaults": {
           "line": {
            "color": "#2a3f5f"
           }
          },
          "ternary": {
           "aaxis": {
            "gridcolor": "white",
            "linecolor": "white",
            "ticks": ""
           },
           "baxis": {
            "gridcolor": "white",
            "linecolor": "white",
            "ticks": ""
           },
           "bgcolor": "#E5ECF6",
           "caxis": {
            "gridcolor": "white",
            "linecolor": "white",
            "ticks": ""
           }
          },
          "title": {
           "x": 0.05
          },
          "xaxis": {
           "automargin": true,
           "gridcolor": "white",
           "linecolor": "white",
           "ticks": "",
           "title": {
            "standoff": 15
           },
           "zerolinecolor": "white",
           "zerolinewidth": 2
          },
          "yaxis": {
           "automargin": true,
           "gridcolor": "white",
           "linecolor": "white",
           "ticks": "",
           "title": {
            "standoff": 15
           },
           "zerolinecolor": "white",
           "zerolinewidth": 2
          }
         }
        },
        "title": {
         "text": "Predicted Market Values for Selected Players"
        },
        "xaxis": {
         "anchor": "y",
         "domain": [
          0,
          1
         ],
         "title": {
          "text": "year"
         }
        },
        "yaxis": {
         "anchor": "x",
         "domain": [
          0,
          1
         ],
         "title": {
          "text": "predicted_value"
         }
        }
       }
      }
     },
     "metadata": {},
     "output_type": "display_data"
    }
   ],
   "source": [
    "players = [418560, 357662, 565822, 859951, 148455, 274839, 542586]\n",
    "plot_player_value_trends(pdf_train, merged_df=merged, player_ids=players)"
   ]
  },
  {
   "cell_type": "code",
   "execution_count": 33,
   "id": "2bb75c68",
   "metadata": {},
   "outputs": [
    {
     "name": "stderr",
     "output_type": "stream",
     "text": [
      "C:\\Users\\tomkn\\AppData\\Local\\Temp\\ipykernel_17596\\2121820575.py:2: SettingWithCopyWarning:\n",
      "\n",
      "\n",
      "A value is trying to be set on a copy of a slice from a DataFrame.\n",
      "Try using .loc[row_indexer,col_indexer] = value instead\n",
      "\n",
      "See the caveats in the documentation: https://pandas.pydata.org/pandas-docs/stable/user_guide/indexing.html#returning-a-view-versus-a-copy\n",
      "\n"
     ]
    }
   ],
   "source": [
    "output_df = merged.query(\"year == 2023\")\n",
    "output_df[\"actual_value\"] = y_test.values\n"
   ]
  },
  {
   "cell_type": "code",
   "execution_count": 34,
   "id": "395ece02",
   "metadata": {},
   "outputs": [
    {
     "name": "stderr",
     "output_type": "stream",
     "text": [
      "C:\\Users\\tomkn\\AppData\\Local\\Temp\\ipykernel_17596\\770660196.py:1: SettingWithCopyWarning:\n",
      "\n",
      "\n",
      "A value is trying to be set on a copy of a slice from a DataFrame.\n",
      "Try using .loc[row_indexer,col_indexer] = value instead\n",
      "\n",
      "See the caveats in the documentation: https://pandas.pydata.org/pandas-docs/stable/user_guide/indexing.html#returning-a-view-versus-a-copy\n",
      "\n",
      "C:\\Users\\tomkn\\AppData\\Local\\Temp\\ipykernel_17596\\770660196.py:2: SettingWithCopyWarning:\n",
      "\n",
      "\n",
      "A value is trying to be set on a copy of a slice from a DataFrame.\n",
      "Try using .loc[row_indexer,col_indexer] = value instead\n",
      "\n",
      "See the caveats in the documentation: https://pandas.pydata.org/pandas-docs/stable/user_guide/indexing.html#returning-a-view-versus-a-copy\n",
      "\n",
      "C:\\Users\\tomkn\\AppData\\Local\\Temp\\ipykernel_17596\\770660196.py:3: SettingWithCopyWarning:\n",
      "\n",
      "\n",
      "A value is trying to be set on a copy of a slice from a DataFrame.\n",
      "Try using .loc[row_indexer,col_indexer] = value instead\n",
      "\n",
      "See the caveats in the documentation: https://pandas.pydata.org/pandas-docs/stable/user_guide/indexing.html#returning-a-view-versus-a-copy\n",
      "\n",
      "C:\\Users\\tomkn\\AppData\\Local\\Temp\\ipykernel_17596\\770660196.py:4: SettingWithCopyWarning:\n",
      "\n",
      "\n",
      "A value is trying to be set on a copy of a slice from a DataFrame.\n",
      "Try using .loc[row_indexer,col_indexer] = value instead\n",
      "\n",
      "See the caveats in the documentation: https://pandas.pydata.org/pandas-docs/stable/user_guide/indexing.html#returning-a-view-versus-a-copy\n",
      "\n",
      "C:\\Users\\tomkn\\AppData\\Local\\Temp\\ipykernel_17596\\770660196.py:5: SettingWithCopyWarning:\n",
      "\n",
      "\n",
      "A value is trying to be set on a copy of a slice from a DataFrame.\n",
      "Try using .loc[row_indexer,col_indexer] = value instead\n",
      "\n",
      "See the caveats in the documentation: https://pandas.pydata.org/pandas-docs/stable/user_guide/indexing.html#returning-a-view-versus-a-copy\n",
      "\n",
      "C:\\Users\\tomkn\\AppData\\Local\\Temp\\ipykernel_17596\\770660196.py:6: SettingWithCopyWarning:\n",
      "\n",
      "\n",
      "A value is trying to be set on a copy of a slice from a DataFrame.\n",
      "Try using .loc[row_indexer,col_indexer] = value instead\n",
      "\n",
      "See the caveats in the documentation: https://pandas.pydata.org/pandas-docs/stable/user_guide/indexing.html#returning-a-view-versus-a-copy\n",
      "\n",
      "C:\\Users\\tomkn\\AppData\\Local\\Temp\\ipykernel_17596\\770660196.py:7: SettingWithCopyWarning:\n",
      "\n",
      "\n",
      "A value is trying to be set on a copy of a slice from a DataFrame.\n",
      "Try using .loc[row_indexer,col_indexer] = value instead\n",
      "\n",
      "See the caveats in the documentation: https://pandas.pydata.org/pandas-docs/stable/user_guide/indexing.html#returning-a-view-versus-a-copy\n",
      "\n"
     ]
    }
   ],
   "source": [
    "output_df[\"model_output_id\"] = uuid.uuid4()\n",
    "output_df[\"model_run_date\"] = datetime.datetime.now()\n",
    "output_df[\"time_taken_seconds\"] = diff\n",
    "output_df[\"features_used\"] = str(features)\n",
    "output_df[\"model_type\"] = \"Regression\"\n",
    "output_df[\"split_year\"] = test_start\n",
    "output_df[\"version\"] = version"
   ]
  },
  {
   "cell_type": "code",
   "execution_count": 35,
   "id": "5a9dd6d2",
   "metadata": {},
   "outputs": [],
   "source": [
    "save_output_tables(output_df)"
   ]
  }
 ],
 "metadata": {
  "kernelspec": {
   "display_name": "Python 3",
   "language": "python",
   "name": "python3"
  },
  "language_info": {
   "codemirror_mode": {
    "name": "ipython",
    "version": 3
   },
   "file_extension": ".py",
   "mimetype": "text/x-python",
   "name": "python",
   "nbconvert_exporter": "python",
   "pygments_lexer": "ipython3",
   "version": "3.11.9"
  }
 },
 "nbformat": 4,
 "nbformat_minor": 5
}
