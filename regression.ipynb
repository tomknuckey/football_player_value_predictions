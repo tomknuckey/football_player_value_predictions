{
 "cells": [
  {
   "cell_type": "code",
   "execution_count": 8,
   "id": "f51071b7",
   "metadata": {},
   "outputs": [],
   "source": [
    "import pandas as pd\n",
    "from utils.output_analysis import plot_player_value_trends, save_output_tables\n",
    "\n",
    "from sklearn.linear_model import LinearRegression\n",
    "from sklearn.metrics import mean_squared_error as root_mean_squared_error, r2_score\n",
    "from sklearn.preprocessing import StandardScaler\n",
    "from typing import List\n",
    "import plotly.express as px\n",
    "from config import features, test_start, target\n",
    "from utils.model import test_train_split, define_features, analysis_result, prepare_future_year_data\n",
    "\n",
    "import uuid\n",
    "import datetime \n",
    "import time"
   ]
  },
  {
   "cell_type": "code",
   "execution_count": 9,
   "id": "6f7be76a",
   "metadata": {},
   "outputs": [],
   "source": [
    "start = time.time()\n",
    "version  = \"v0.0.1\""
   ]
  },
  {
   "cell_type": "code",
   "execution_count": 10,
   "id": "cd0e30f5",
   "metadata": {},
   "outputs": [],
   "source": [
    "pdf_mvp = pd.read_csv(\"data/intermediate/time_series_model_data_prep.csv\")"
   ]
  },
  {
   "cell_type": "code",
   "execution_count": 11,
   "id": "ea5e583e",
   "metadata": {},
   "outputs": [],
   "source": [
    "\n",
    "\n",
    "\n",
    "def predict_future_values(\n",
    "    train_df: pd.DataFrame,\n",
    "    test_df: pd.DataFrame,\n",
    "    prediction_years: List[int],\n",
    "    features: List[str],\n",
    "    max_depth: int = None  # Not used\n",
    ") -> tuple[List[pd.DataFrame], LinearRegression, pd.Series]:\n",
    "    \"\"\"\n",
    "    Predicts future player values using Linear Regression with standardized features.\n",
    "\n",
    "    Returns:\n",
    "        - List of yearly predicted DataFrames\n",
    "        - Trained LinearRegression model\n",
    "        - Actual values from base test year (for evaluation)\n",
    "    \"\"\"\n",
    "\n",
    "    # Scale features\n",
    "    scaler = StandardScaler()\n",
    "    X_train_raw = train_df[features]\n",
    "    X_train_scaled = scaler.fit_transform(X_train_raw)\n",
    "    y_train = train_df[target]\n",
    "\n",
    "    # Fit regression model\n",
    "    regressor = LinearRegression()\n",
    "    regressor.fit(X_train_scaled, y_train)\n",
    "\n",
    "    predictions = []\n",
    "    current_df = test_df.copy()\n",
    "\n",
    "    for i, year in enumerate(prediction_years):\n",
    "        # Handle age-based features\n",
    "        current_df[\"age\"] = current_df[\"age_last_year\"] + 1\n",
    "        current_df[\"age_from_peak\"] = (current_df[\"age\"] - 25) ** 2\n",
    "\n",
    "        # Decrease contract years left by 1, not below 0\n",
    "        if \"contract_years_left\" in current_df.columns:\n",
    "            current_df[\"contract_years_left\"] = (current_df[\"contract_years_left\"] - 1).clip(lower=0)\n",
    "\n",
    "        X_test_raw = current_df[features]\n",
    "        X_test_scaled = scaler.transform(X_test_raw)\n",
    "\n",
    "        current_df[\"predicted_value\"] = regressor.predict(X_test_scaled)\n",
    "        current_df[\"year\"] = year\n",
    "\n",
    "        if i == 0:\n",
    "            y_test = current_df[target]\n",
    "            analysis_result(current_df, y_test, year, target)\n",
    "        # Prepare next year’s data\n",
    "        current_df[\"age_last_year\"] = current_df[\"age\"]\n",
    "        current_df[\"value_last_year\"] = current_df[\"predicted_value\"]\n",
    "\n",
    "        # Save results (including contract years if available)\n",
    "        cols_to_keep = [\"player_id\", \"year\", \"age\", \"predicted_value\", \"age_from_peak\"]\n",
    "        if \"contract_years_left\" in current_df.columns:\n",
    "            cols_to_keep.append(\"contract_years_left\")\n",
    "\n",
    "        predictions.append(current_df[cols_to_keep].copy())\n",
    "\n",
    "        if i < len(prediction_years) - 1:\n",
    "            current_df = prepare_future_year_data(current_df)\n",
    "\n",
    "\n",
    "    return predictions, regressor, y_test\n"
   ]
  },
  {
   "cell_type": "code",
   "execution_count": null,
   "id": "f77e9fa6",
   "metadata": {},
   "outputs": [],
   "source": [
    "#TODO - This is temporary fix\n",
    "pdf_mvp[[\"team_ppg\", \"team_goal_difference\", \"team_goals_scored\", \"team_goals_conceded\"]] = (\n",
    "    pdf_mvp[[\"team_ppg\", \"team_goal_difference\", \"team_goals_scored\", \"team_goals_conceded\"]].fillna(0)\n",
    ")\n"
   ]
  },
  {
   "cell_type": "code",
   "execution_count": 13,
   "id": "e5fc9e42",
   "metadata": {},
   "outputs": [],
   "source": [
    "\n",
    "features = define_features(pdf_mvp, features)\n",
    "\n",
    "pdf_train, pdf_test = test_train_split(pdf_mvp, test_start)"
   ]
  },
  {
   "cell_type": "code",
   "execution_count": 14,
   "id": "5f2e9971",
   "metadata": {},
   "outputs": [
    {
     "name": "stdout",
     "output_type": "stream",
     "text": [
      "2023 RMSE: 6.75\n",
      "2023 R²: 0.819\n"
     ]
    },
    {
     "data": {
      "application/vnd.plotly.v1+json": {
       "config": {
        "plotlyServerURL": "https://plot.ly"
       },
       "data": [
        {
         "customdata": [
          [
           "Eldin Jakupovic",
           38
          ],
          [
           "James Milner",
           37
          ],
          [
           "Óscar Ustari",
           36
          ],
          [
           "Gabriel Tamas",
           39
          ],
          [
           "Cristiano Ronaldo",
           38
          ],
          [
           "Shaun MacDonald",
           34
          ],
          [
           "Phil Jagielka",
           40
          ],
          [
           "Andy Lonergan",
           39
          ],
          [
           "Ashley Young",
           37
          ],
          [
           "Scott Carson",
           37
          ],
          [
           "Phil Bardsley",
           37
          ],
          [
           "David Martin",
           37
          ],
          [
           "Casemiro",
           31
          ],
          [
           "Hugo Lloris",
           36
          ],
          [
           "Curtis Davies",
           38
          ],
          [
           "Willy Caballero",
           41
          ],
          [
           "Fernandinho",
           38
          ],
          [
           "Nenê",
           42
          ],
          [
           "Thiago Silva",
           38
          ],
          [
           "Lukasz Fabianski",
           38
          ],
          [
           "John Ruddy",
           36
          ],
          [
           "Chu-young Park",
           37
          ],
          [
           "Dusan Kuciak",
           38
          ],
          [
           "Tim Krul",
           35
          ],
          [
           "Lukas Jutkiewicz",
           34
          ],
          [
           "Theo Walcott",
           34
          ],
          [
           "Alex Smithies",
           33
          ],
          [
           "Asmir Begovic",
           36
          ],
          [
           "Tom Heaton",
           37
          ],
          [
           "Richard Stearman",
           35
          ],
          [
           "Lewis Grabban",
           35
          ],
          [
           "David McGoldrick",
           35
          ],
          [
           "Gaëtan Bong",
           35
          ],
          [
           "Leon Clarke",
           36
          ],
          [
           "Shane Long",
           36
          ],
          [
           "Kamil Grosicki",
           35
          ],
          [
           "Martin Olsson",
           35
          ],
          [
           "Lee Peltier",
           36
          ],
          [
           "Adrian Mariappa",
           36
          ],
          [
           "Kei Kamara",
           38
          ],
          [
           "Mario Vrancic",
           33
          ],
          [
           "Jozy Altidore",
           33
          ],
          [
           "Brad Guzan",
           38
          ],
          [
           "Marouane Fellaini",
           35
          ],
          [
           "Ryan Bertrand",
           33
          ],
          [
           "Liam Bridcutt",
           34
          ],
          [
           "Jack Cork",
           33
          ],
          [
           "James McArthur",
           35
          ],
          [
           "Sone Aluko",
           34
          ],
          [
           "Fraizer Campbell",
           35
          ],
          [
           "Jonny Evans",
           35
          ],
          [
           "Gary Hooper",
           35
          ],
          [
           "Gaetano Berardi",
           34
          ],
          [
           "Elliott Bennett",
           34
          ],
          [
           "Stephen Quinn",
           35
          ],
          [
           "Adam Lallana",
           35
          ],
          [
           "Erik Pieters",
           34
          ],
          [
           "Chris Gunter",
           34
          ],
          [
           "Bojan Krkic",
           32
          ],
          [
           "Beram Kayal",
           35
          ],
          [
           "Diego Costa",
           34
          ],
          [
           "Henri Lansbury",
           32
          ],
          [
           "Dan Gosling",
           33
          ],
          [
           "Claudio Yacob",
           35
          ],
          [
           "Jonathan Howson",
           35
          ],
          [
           "Wayne Hennessey",
           36
          ],
          [
           "Marco Stiepermann",
           32
          ],
          [
           "Fabri",
           35
          ],
          [
           "Luke Daniels",
           35
          ],
          [
           "Chris Martin",
           34
          ],
          [
           "Pablo Hernández",
           37
          ],
          [
           "Lovre Kalinic",
           33
          ],
          [
           "David Luiz",
           35
          ],
          [
           "Teemu Pukki",
           33
          ],
          [
           "Alex Pearce",
           34
          ],
          [
           "Jason Puncheon",
           36
          ],
          [
           "Angelo Ogbonna",
           35
          ],
          [
           "Andy Carroll",
           34
          ],
          [
           "Sam Vokes",
           33
          ],
          [
           "Jordan Rhodes",
           33
          ],
          [
           "Bradley Johnson",
           36
          ],
          [
           "James Perch",
           35
          ],
          [
           "Elias Kachunga",
           31
          ],
          [
           "Billy Sharp",
           37
          ],
          [
           "Andreas Weimann",
           31
          ],
          [
           "Danny Rose",
           32
          ],
          [
           "Christian Benteke",
           32
          ],
          [
           "Chicharito",
           35
          ],
          [
           "Aleksandar Mitrović",
           28
          ],
          [
           "Carlos Sánchez",
           36
          ],
          [
           "Darren Randolph",
           36
          ],
          [
           "Joe Allen",
           33
          ],
          [
           "Mateo Kovacic",
           29
          ],
          [
           "Henri Saivet",
           32
          ],
          [
           "Wellington Paulista",
           39
          ],
          [
           "Zanka",
           33
          ],
          [
           "Chris Basham",
           34
          ],
          [
           "Fraser Forster",
           35
          ],
          [
           "Willian",
           34
          ],
          [
           "Jay Rodríguez",
           33
          ],
          [
           "İlkay Gündoğan",
           32
          ],
          [
           "John Fleck",
           31
          ],
          [
           "Sebastián Blanco",
           35
          ],
          [
           "Magnus Wolff Eikrem",
           32
          ],
          [
           "Chris Löwe",
           34
          ],
          [
           "Harry Arter",
           33
          ],
          [
           "Jack Rodwell",
           32
          ],
          [
           "Jordon Mutch",
           31
          ],
          [
           "Simon Dawkins",
           35
          ],
          [
           "Christopher Schindler",
           33
          ],
          [
           "Emilio Nsue",
           33
          ],
          [
           "Craig Cathcart",
           34
          ],
          [
           "Thiago Alcántara",
           32
          ],
          [
           "Sean Scannell",
           30
          ],
          [
           "Marc Albrighton",
           33
          ],
          [
           "Barry Bannan",
           33
          ],
          [
           "Jonathan Hogg",
           34
          ],
          [
           "James Tomkins",
           34
          ],
          [
           "Jack Colback",
           33
          ],
          [
           "Conor Hourihane",
           32
          ],
          [
           "Neil Etheridge",
           33
          ],
          [
           "Wes Foderingham",
           32
          ],
          [
           "David Button",
           34
          ],
          [
           "Jake Livermore",
           33
          ],
          [
           "Adam Smith",
           32
          ],
          [
           "Stefan Johansen",
           32
          ],
          [
           "Shane Ferguson",
           31
          ],
          [
           "Vegard Forren",
           33
          ],
          [
           "Odion Ighalo",
           33
          ],
          [
           "Scott Dann",
           36
          ],
          [
           "Tomás Mejías",
           34
          ],
          [
           "Ashley Barnes",
           33
          ],
          [
           "Aron Gunnarsson",
           33
          ],
          [
           "Libor Kozak",
           33
          ],
          [
           "Troy Deeney",
           34
          ],
          [
           "Kyle Naughton",
           34
          ],
          [
           "Luke Freeman",
           31
          ],
          [
           "Cheikhou Kouyaté",
           33
          ],
          [
           "Gary Madine",
           32
          ],
          [
           "Danny Welbeck",
           32
          ],
          [
           "Sam Baldock",
           34
          ],
          [
           "Mark Oxley",
           27
          ],
          [
           "Ryan Bennett",
           33
          ],
          [
           "Ben Hamer",
           35
          ],
          [
           "David Stockdale",
           37
          ],
          [
           "Luke Ayling",
           31
          ],
          [
           "Kyle Bartley",
           31
          ],
          [
           "Michal Zyro",
           30
          ],
          [
           "Séamus Coleman",
           34
          ],
          [
           "Giedrius Arlauskis",
           35
          ],
          [
           "Christian Eriksen",
           31
          ],
          [
           "Garath McCleary",
           36
          ],
          [
           "Róger Espinoza",
           36
          ],
          [
           "Bernd Leno",
           31
          ],
          [
           "Adam Clayton",
           33
          ],
          [
           "Ben Amos",
           33
          ],
          [
           "James Chester",
           34
          ],
          [
           "Tom Cleverley",
           33
          ],
          [
           "Danny Drinkwater",
           33
          ],
          [
           "Matty James",
           31
          ],
          [
           "Oliver Norwood",
           32
          ],
          [
           "Jason Steele",
           32
          ],
          [
           "Pablo Sarabia",
           31
          ],
          [
           "Luka Milivojevic",
           31
          ],
          [
           "Adlène Guédioura",
           38
          ],
          [
           "Ben Mee",
           33
          ],
          [
           "Juraj Kucka",
           36
          ],
          [
           "Martin Dúbravka",
           34
          ],
          [
           "Liam Cooper",
           31
          ],
          [
           "Robin Olsen",
           33
          ],
          [
           "Niclas Füllkrug",
           30
          ],
          [
           "Lucas Moura",
           30
          ],
          [
           "Matt Phillips",
           32
          ],
          [
           "George Friend",
           35
          ],
          [
           "Thomas Kaminski",
           30
          ],
          [
           "Victor Wanyama",
           32
          ],
          [
           "Martin Kelly",
           33
          ],
          [
           "Daniel Ayala",
           32
          ],
          [
           "Sean Morrison",
           32
          ],
          [
           "Salomón Rondón",
           33
          ],
          [
           "Korey Smith",
           32
          ],
          [
           "Philippe Coutinho",
           30
          ],
          [
           "Craig Noone",
           35
          ],
          [
           "Tadanari Lee",
           37
          ],
          [
           "Sung-yueng Ki",
           34
          ],
          [
           "Chung-yong Lee",
           34
          ],
          [
           "Joel Matip",
           31
          ],
          [
           "Moritz Leitner",
           30
          ],
          [
           "Albert Adomah",
           35
          ],
          [
           "Nathaniel Clyne",
           32
          ],
          [
           "Oscar",
           31
          ],
          [
           "Borja Bastón",
           30
          ],
          [
           "Federico Fernández",
           34
          ],
          [
           "Enda Stevens",
           32
          ],
          [
           "Loris Karius",
           30
          ],
          [
           "Danny Lafferty",
           34
          ],
          [
           "James McClean",
           34
          ],
          [
           "Stefan Ortega",
           30
          ],
          [
           "Thomas Eisfeld",
           30
          ],
          [
           "Valentin Roberge",
           35
          ],
          [
           "Junior Stanislas",
           33
          ],
          [
           "Luca Scapuzzi",
           32
          ],
          [
           "Kevin De Bruyne",
           31
          ],
          [
           "Jonathan Kodjia",
           33
          ],
          [
           "Jóhann Berg Gudmundsson",
           32
          ],
          [
           "David Cornell",
           32
          ],
          [
           "Román Golobart",
           30
          ],
          [
           "Steve Cook",
           32
          ],
          [
           "Joe Bennett",
           33
          ],
          [
           "John Brayford",
           35
          ],
          [
           "Ashley Westwood",
           33
          ],
          [
           "James Shea",
           31
          ],
          [
           "Heung-min Son",
           30
          ],
          [
           "Sammy Ameobi",
           31
          ],
          [
           "Matt Ritchie",
           33
          ],
          [
           "Aaron Cresswell",
           33
          ],
          [
           "Joel Ward",
           33
          ],
          [
           "Mateusz Klich",
           33
          ],
          [
           "Kalidou Koulibaly",
           31
          ],
          [
           "Adama Diomande",
           32
          ],
          [
           "Marcos Rojo",
           33
          ],
          [
           "Stuart O'Keefe",
           30
          ],
          [
           "Muhamed Besic",
           30
          ],
          [
           "Jordan Bowery",
           26
          ],
          [
           "Connor Wickham",
           28
          ],
          [
           "Kieran Trippier",
           32
          ],
          [
           "Alex McCarthy",
           33
          ],
          [
           "Ciaran Clark",
           33
          ],
          [
           "Jannik Vestergaard",
           30
          ],
          [
           "Karl Darlow",
           32
          ],
          [
           "Matej Vydra",
           31
          ],
          [
           "Scott Malone",
           32
          ],
          [
           "Jorginho",
           31
          ],
          [
           "Matthew Lowton",
           34
          ],
          [
           "Michail Antonio",
           33
          ],
          [
           "Lyle Taylor",
           33
          ],
          [
           "Filip Orsula",
           30
          ],
          [
           "Alisson",
           30
          ],
          [
           "Jordan Ayew",
           31
          ],
          [
           "Chris Wood",
           31
          ],
          [
           "Adam Matthews",
           29
          ],
          [
           "Onel Hernández",
           30
          ],
          [
           "Luke Garbutt",
           29
          ],
          [
           "Gary Gardner",
           30
          ],
          [
           "Sam Johnstone",
           30
          ],
          [
           "Jed Steer",
           30
          ],
          [
           "Ryan Tunnicliffe",
           30
          ],
          [
           "Ryan Allsop",
           30
          ],
          [
           "Kevin Long",
           32
          ],
          [
           "Joël Veltman",
           31
          ],
          [
           "Sead Hajrovic",
           29
          ],
          [
           "Neeskens Kebano",
           31
          ],
          [
           "Ahmed Hegazy",
           31
          ],
          [
           "Neto",
           33
          ],
          [
           "Emiliano Martínez",
           30
          ],
          [
           "Philip Heise",
           32
          ],
          [
           "Tomer Hemed",
           36
          ],
          [
           "Cédric Soares",
           31
          ],
          [
           "Romaine Sawyers",
           31
          ],
          [
           "Greg Cunningham",
           32
          ],
          [
           "Richie Towell",
           31
          ],
          [
           "Luke Brattan",
           33
          ],
          [
           "Marcus Bettinelli",
           31
          ],
          [
           "Phil Jones",
           31
          ],
          [
           "Michael Keane",
           30
          ],
          [
           "Will Keane",
           30
          ],
          [
           "Ezequiel Schelotto",
           33
          ],
          [
           "Shane Duffy",
           31
          ],
          [
           "Jack Grimmer",
           29
          ],
          [
           "Daniel Bachmann",
           28
          ],
          [
           "Jazz Richards",
           32
          ],
          [
           "Alphonse Areola",
           30
          ],
          [
           "Joe Mason",
           32
          ],
          [
           "Kwesi Appiah",
           31
          ],
          [
           "Adam Davies",
           30
          ],
          [
           "Adam Forshaw",
           31
          ],
          [
           "Ryan Watson",
           24
          ],
          [
           "Tom Carroll",
           31
          ],
          [
           "John Egan",
           30
          ],
          [
           "Grant Hanley",
           31
          ],
          [
           "Eirik Johansen",
           30
          ],
          [
           "Tommy Smith",
           31
          ],
          [
           "Emyr Huws",
           27
          ],
          [
           "Craig Dawson",
           33
          ],
          [
           "Wellington Silva",
           30
          ],
          [
           "Markus Henriksen",
           30
          ],
          [
           "Sam Clucas",
           32
          ],
          [
           "Nico Yennaris",
           29
          ],
          [
           "Ali Gabr",
           34
          ],
          [
           "Tom Cairney",
           32
          ],
          [
           "Simon Moore",
           33
          ],
          [
           "Sam Morsy",
           31
          ],
          [
           "Callum Wilson",
           31
          ],
          [
           "Danny Ward",
           32
          ],
          [
           "Odysseas Vlachodimos",
           29
          ],
          [
           "Grant Hall",
           31
          ],
          [
           "Pontus Jansson",
           32
          ],
          [
           "Nathaniel Mendez-Laing",
           31
          ],
          [
           "Luke Berry",
           30
          ],
          [
           "Mark Flekken",
           30
          ],
          [
           "Lee Nicholls",
           30
          ],
          [
           "Carl Jenkinson",
           31
          ],
          [
           "Allan",
           32
          ],
          [
           "Kenny McLean",
           31
          ],
          [
           "Lucas Digne",
           29
          ],
          [
           "Idrissa Gueye",
           33
          ],
          [
           "Serge Aurier",
           30
          ],
          [
           "Abdoulaye Doucouré",
           30
          ],
          [
           "Matz Sels",
           31
          ],
          [
           "Robbie Brady",
           31
          ],
          [
           "Scott Wootton",
           31
          ],
          [
           "Derrick Williams",
           30
          ],
          [
           "Bo-kyung Kim",
           33
          ],
          [
           "Tom Anderson",
           24
          ],
          [
           "Jamal Blackman",
           29
          ],
          [
           "Nathaniel Chalobah",
           28
          ],
          [
           "Conor Coady",
           30
          ],
          [
           "Ben Gibson",
           30
          ],
          [
           "Liam Moore",
           30
          ],
          [
           "Jack Robinson",
           29
          ],
          [
           "Ethan Ebanks-Landell",
           26
          ],
          [
           "Nathan Redmond",
           29
          ],
          [
           "Charlie Austin",
           33
          ],
          [
           "Jordan Pickford",
           29
          ],
          [
           "Stuart Armstrong",
           31
          ],
          [
           "Jonathan Bond",
           30
          ],
          [
           "Juan Agudelo",
           30
          ],
          [
           "Rodrigo",
           32
          ],
          [
           "Roberto Firmino",
           31
          ],
          [
           "Ross Barkley",
           29
          ],
          [
           "Phil Ofosu-Ayeh",
           31
          ],
          [
           "Dan Burn",
           30
          ],
          [
           "Danny Ings",
           30
          ],
          [
           "Matthias Fanimo",
           29
          ],
          [
           "Nick Powell",
           29
          ],
          [
           "Raheem Sterling",
           28
          ],
          [
           "Blair Turgott",
           29
          ],
          [
           "André Carrillo",
           31
          ],
          [
           "Fabian Schär",
           31
          ],
          [
           "Manuel Lanzini",
           30
          ],
          [
           "Daniel Bentley",
           29
          ],
          [
           "Kadeem Harris",
           30
          ],
          [
           "Marçal",
           34
          ],
          [
           "Jakob Haugaard",
           31
          ],
          [
           "Virgil van Dijk",
           31
          ],
          [
           "Ryan Fredericks",
           30
          ],
          [
           "Josip Drmic",
           30
          ],
          [
           "Liam O'Neil",
           30
          ],
          [
           "George Saville",
           29
          ],
          [
           "Zeki Fryers",
           28
          ],
          [
           "Jesse Lingard",
           30
          ],
          [
           "Willy Boly",
           32
          ],
          [
           "Mark Gillespie",
           31
          ],
          [
           "Krisztián Adorján",
           29
          ],
          [
           "Leandro Trossard",
           28
          ],
          [
           "Tim Ream",
           35
          ],
          [
           "Wataru Endo",
           30
          ],
          [
           "Conor Townsend",
           30
          ],
          [
           "George Baldock",
           30
          ],
          [
           "Ryan Fraser",
           29
          ],
          [
           "Lewis Dunk",
           31
          ],
          [
           "Jeff Hendrick",
           31
          ],
          [
           "Christian Nørgaard",
           29
          ],
          [
           "Divock Origi",
           28
          ],
          [
           "Mohamed Salah",
           31
          ],
          [
           "Tomas Kalas",
           30
          ],
          [
           "Jiri Skalak",
           31
          ],
          [
           "Todd Kane",
           29
          ],
          [
           "Felipe",
           33
          ],
          [
           "Tyias Browning",
           28
          ],
          [
           "Ben Heneghan",
           29
          ],
          [
           "Tom Ince",
           31
          ],
          [
           "Michael Hector",
           30
          ],
          [
           "Kurt Zouma",
           28
          ],
          [
           "Vladimír Coufal",
           30
          ],
          [
           "Cyrus Christie",
           30
          ],
          [
           "Tendayi Darikwa",
           31
          ],
          [
           "Kieron Freeman",
           31
          ],
          [
           "Max Ehmer",
           25
          ],
          [
           "Stuart Dallas",
           32
          ],
          [
           "Mesca",
           29
          ],
          [
           "Mohamed Elneny",
           30
          ],
          [
           "Adam Reach",
           30
          ],
          [
           "Connor Ripley",
           30
          ],
          [
           "Adam Smith",
           30
          ],
          [
           "Jack Stephens",
           29
          ],
          [
           "Rory Donnelly",
           31
          ],
          [
           "Raphaël Varane",
           29
          ],
          [
           "Jürgen Locadia",
           29
          ],
          [
           "Paddy McNair",
           28
          ],
          [
           "James Husband",
           29
          ],
          [
           "Daniel Johnson",
           30
          ],
          [
           "Callum Paterson",
           28
          ],
          [
           "Cauley Woodrow",
           28
          ],
          [
           "Paul Dummett",
           31
          ],
          [
           "Jonathan Williams",
           30
          ],
          [
           "Timo Werner",
           27
          ],
          [
           "Cody Cropper",
           30
          ],
          [
           "Ben Reeves",
           25
          ],
          [
           "Jay Fulton",
           29
          ],
          [
           "Riyad Mahrez",
           32
          ],
          [
           "Matt Doherty",
           31
          ],
          [
           "Nahki Wells",
           32
          ],
          [
           "James Tarkowski",
           30
          ],
          [
           "Hélder Costa",
           29
          ],
          [
           "Brad Smith",
           29
          ],
          [
           "Sebastian Lletget",
           30
          ],
          [
           "Aymeric Laporte",
           29
          ],
          [
           "Florin Andone",
           30
          ],
          [
           "Nathan Aké",
           28
          ],
          [
           "Charly Musonda Jr.",
           26
          ],
          [
           "Graham Burke",
           29
          ],
          [
           "Harry Maguire",
           30
          ],
          [
           "Jean Michaël Seri",
           31
          ],
          [
           "Donald Love",
           28
          ],
          [
           "Curtis Good",
           30
          ],
          [
           "George Evans",
           28
          ],
          [
           "James Ward-Prowse",
           28
          ],
          [
           "Massimo Luongo",
           30
          ],
          [
           "Emerson",
           28
          ],
          [
           "Jordan Graham",
           28
          ],
          [
           "Ryan Inniss",
           28
          ],
          [
           "Luke Shaw",
           27
          ],
          [
           "Joe Rothwell",
           28
          ],
          [
           "Callum Robinson",
           28
          ],
          [
           "Luke McGee",
           27
          ],
          [
           "Ben Pearson",
           28
          ],
          [
           "Jamaal Lascelles",
           29
          ],
          [
           "Patrick Bamford",
           29
          ],
          [
           "Gregor Zabret",
           27
          ],
          [
           "Jordan Clark",
           29
          ],
          [
           "Ming-Yang Yang",
           27
          ],
          [
           "Tom Hopper",
           29
          ],
          [
           "Emil Krafth",
           28
          ],
          [
           "Victor Lindelöf",
           28
          ],
          [
           "Bobby De Cordova-Reid",
           30
          ],
          [
           "John Stones",
           29
          ],
          [
           "Marek Rodák",
           26
          ],
          [
           "Jack Rose",
           23
          ],
          [
           "Ryan Christie",
           28
          ],
          [
           "Michael Petrasso",
           27
          ],
          [
           "Sean Maguire",
           29
          ],
          [
           "Nick Pope",
           31
          ],
          [
           "Kepa Arrizabalaga",
           28
          ],
          [
           "Ben Davies",
           29
          ],
          [
           "Álex Moreno",
           29
          ],
          [
           "John McGinn",
           28
          ],
          [
           "Joe Bryan",
           29
          ],
          [
           "Charlie Taylor",
           29
          ],
          [
           "Adedeji Oshilaja",
           30
          ],
          [
           "Joe Ralls",
           29
          ],
          [
           "Remi Matthews",
           29
          ],
          [
           "John Swift",
           27
          ],
          [
           "Janoi Donacien",
           29
          ],
          [
           "Josh Sheehan",
           28
          ],
          [
           "Jamie Vardy",
           36
          ],
          [
           "Liam Shephard",
           22
          ],
          [
           "Harry Toffolo",
           27
          ],
          [
           "Lewis Baker",
           28
          ],
          [
           "Sam Hoskins",
           23
          ],
          [
           "Jacob Murphy",
           28
          ],
          [
           "Josh Murphy",
           28
          ],
          [
           "Kevin Stewart",
           29
          ],
          [
           "Angus Gunn",
           27
          ],
          [
           "Danny Ward",
           30
          ],
          [
           "Conor McGrandles",
           27
          ],
          [
           "Andreas Pereira",
           27
          ],
          [
           "Jack Grealish",
           27
          ],
          [
           "Oleksandr Zinchenko",
           26
          ],
          [
           "Adama Traoré",
           27
          ],
          [
           "Saman Ghoddos",
           29
          ],
          [
           "Dejan Iliev",
           28
          ],
          [
           "Raúl Jiménez",
           32
          ],
          [
           "Isaac Hayden",
           28
          ],
          [
           "Kenny Tete",
           27
          ],
          [
           "Will Hughes",
           28
          ],
          [
           "Dan Potts",
           29
          ],
          [
           "Tom Lockyer",
           28
          ],
          [
           "Louis Thompson",
           28
          ],
          [
           "Brendan Galloway",
           27
          ],
          [
           "Christian Walton",
           27
          ],
          [
           "Solly March",
           28
          ],
          [
           "Oumar Niasse",
           33
          ],
          [
           "Jack O'Connell",
           29
          ],
          [
           "Adam Webster",
           28
          ],
          [
           "David Ferguson",
           22
          ],
          [
           "Connor Roberts",
           27
          ],
          [
           "Kean Bryan",
           26
          ],
          [
           "Calum Chambers",
           28
          ],
          [
           "Tom King",
           27
          ],
          [
           "Ricardo Pereira",
           29
          ],
          [
           "Ben Osborn",
           28
          ],
          [
           "George Honeyman",
           28
          ],
          [
           "Conor Grant",
           28
          ],
          [
           "Matthew Pennington",
           28
          ],
          [
           "Zack Steffen",
           28
          ],
          [
           "Alex Gilliead",
           22
          ],
          [
           "Joel Dixon",
           29
          ],
          [
           "Danilo Pantic",
           26
          ],
          [
           "Luke Simpson",
           29
          ],
          [
           "N'Golo Kanté",
           32
          ],
          [
           "Gonçalo Guedes",
           26
          ],
          [
           "Rúben Neves",
           26
          ],
          [
           "Fabinho",
           29
          ],
          [
           "Matheus Pereira",
           26
          ],
          [
           "Freddie Woodman",
           26
          ],
          [
           "Sean Raggett",
           29
          ],
          [
           "Anthony Cáceres",
           30
          ],
          [
           "Dominic Gape",
           28
          ],
          [
           "Lloyd Isgrove",
           30
          ],
          [
           "Harrison Reed",
           28
          ],
          [
           "Sam Gallagher",
           27
          ],
          [
           "Jason McCarthy",
           27
          ],
          [
           "Gedion Zelalem",
           26
          ],
          [
           "Thomas Partey",
           30
          ],
          [
           "Nélson Semedo",
           29
          ],
          [
           "Emiliano Marcondes",
           28
          ],
          [
           "Kortney Hause",
           27
          ],
          [
           "Freddie Ladapo",
           30
          ],
          [
           "André Onana",
           26
          ],
          [
           "Andrew Robertson",
           29
          ],
          [
           "Ola Aina",
           26
          ],
          [
           "Connor Ogilvie",
           27
          ],
          [
           "Sam Byram",
           29
          ],
          [
           "Ederson",
           29
          ],
          [
           "Leandro Rodríguez",
           30
          ],
          [
           "Jamal Lowe",
           28
          ],
          [
           "George Byers",
           27
          ],
          [
           "Bruno Fernandes",
           28
          ],
          [
           "Bernardo Silva",
           28
          ],
          [
           "Jindrich Stanek",
           27
          ],
          [
           "Ethan Horvath",
           27
          ],
          [
           "Gethin Jones",
           27
          ],
          [
           "Courtney Duffus",
           27
          ],
          [
           "Josh Cullen",
           26
          ],
          [
           "Alex Iwobi",
           27
          ],
          [
           "Nathan Mavila",
           27
          ],
          [
           "Lewis Page",
           24
          ],
          [
           "Josh Vickers",
           27
          ],
          [
           "Jan Bednarek",
           27
          ],
          [
           "Josh Onomah",
           26
          ],
          [
           "Lawrence Vigouroux",
           27
          ],
          [
           "Lloyd Jones",
           27
          ],
          [
           "Hiram Boateng",
           25
          ],
          [
           "Pelly Ruddock Mpanzu",
           29
          ],
          [
           "Jon Gorenc Stankovic",
           27
          ],
          [
           "Saša Lukić",
           26
          ],
          [
           "Reece James",
           29
          ],
          [
           "Alex Palmer",
           26
          ],
          [
           "Bartosz Kapustka",
           26
          ],
          [
           "Carlton Morris",
           27
          ],
          [
           "Duncan Watmore",
           29
          ],
          [
           "Lewis Cook",
           26
          ],
          [
           "Harry Winks",
           27
          ],
          [
           "Jack Stacey",
           27
          ],
          [
           "Youri Tielemans",
           26
          ],
          [
           "Tariqe Fosu",
           27
          ],
          [
           "José Sá",
           30
          ],
          [
           "Adam Armstrong",
           26
          ],
          [
           "Jamie Sterry",
           25
          ],
          [
           "Matt Targett",
           27
          ],
          [
           "Enes Ünal",
           25
          ],
          [
           "Jordan Lyden",
           25
          ],
          [
           "Ivan Toney",
           27
          ],
          [
           "Semi Ajayi",
           29
          ],
          [
           "Ken Sema",
           29
          ],
          [
           "Rob Holding",
           27
          ],
          [
           "Tyrone Mings",
           30
          ],
          [
           "Harry Cornick",
           28
          ],
          [
           "Wes Burns",
           28
          ],
          [
           "Samir Caetano",
           28
          ],
          [
           "Cameron Burgess",
           27
          ],
          [
           "Joe Gomez",
           25
          ],
          [
           "Adnan Maric",
           26
          ],
          [
           "Dan Barlaser",
           26
          ],
          [
           "Tommy Robson",
           28
          ],
          [
           "Rúben Dias",
           26
          ],
          [
           "Kasey Palmer",
           26
          ],
          [
           "Tom Beadling",
           25
          ],
          [
           "Tosin Adarabioyo",
           25
          ],
          [
           "Ryan Ledson",
           25
          ],
          [
           "Max Lowe",
           26
          ],
          [
           "Kyle Scott",
           25
          ],
          [
           "Dominic Solanke",
           25
          ],
          [
           "Dean Henderson",
           26
          ],
          [
           "Marcus Rashford",
           25
          ],
          [
           "Joachim Andersen",
           27
          ],
          [
           "Daniel Iversen",
           25
          ],
          [
           "Cameron Brannagan",
           27
          ],
          [
           "Filip Krovinovic",
           27
          ],
          [
           "Timothy Castagne",
           27
          ],
          [
           "Ryan Manning",
           26
          ],
          [
           "David Raya",
           27
          ],
          [
           "Soufyan Ahannach",
           27
          ],
          [
           "Jefferson Lerma",
           28
          ],
          [
           "Kevin Danso",
           24
          ],
          [
           "Harry Charsley",
           26
          ],
          [
           "Reece Burke",
           26
          ],
          [
           "Kevin Toner",
           26
          ],
          [
           "Matt Grimes",
           27
          ],
          [
           "Joe Williams",
           26
          ],
          [
           "Vitaly Janelt",
           24
          ],
          [
           "Callum Elder",
           28
          ],
          [
           "Sylvain Deslandes",
           25
          ],
          [
           "Issa Diop",
           26
          ],
          [
           "Paul Onuachu",
           28
          ],
          [
           "Miguel Almirón",
           29
          ],
          [
           "Jonathan Benteke",
           28
          ],
          [
           "Wilfred Ndidi",
           26
          ],
          [
           "Kieffer Moore",
           30
          ],
          [
           "David Brooks",
           25
          ],
          [
           "Jack Payne",
           28
          ],
          [
           "Amari'i Bell",
           29
          ],
          [
           "MJ Williams",
           27
          ],
          [
           "Harry Wilson",
           26
          ],
          [
           "Sergio Reguilón",
           26
          ],
          [
           "Corey Blackett-Taylor",
           25
          ],
          [
           "Alfie Whiteman",
           24
          ],
          [
           "Tomas Soucek",
           28
          ],
          [
           "Grant Ward",
           28
          ],
          [
           "Manuel Akanji",
           27
          ],
          [
           "Marc Cucurella",
           24
          ],
          [
           "Will Norris",
           29
          ],
          [
           "Joel Coleman",
           25
          ],
          [
           "Harry Burgoyne",
           26
          ],
          [
           "Guglielmo Vicario",
           26
          ],
          [
           "Joe Lolley",
           30
          ],
          [
           "Krystian Bielik",
           25
          ],
          [
           "Connor Mahoney",
           26
          ],
          [
           "Orel Mangala",
           25
          ],
          [
           "Josh Harrop",
           27
          ],
          [
           "Ashley Fletcher",
           27
          ],
          [
           "Saïd Benrahma",
           27
          ],
          [
           "Jordan Hugill",
           30
          ],
          [
           "Sammie Szmodics",
           27
          ],
          [
           "Hee-chan Hwang",
           27
          ],
          [
           "Demarai Gray",
           26
          ],
          [
           "Wout Faes",
           25
          ],
          [
           "Matija Sarkic",
           25
          ],
          [
           "Baily Cargill",
           28
          ],
          [
           "Josh Brownhill",
           27
          ],
          [
           "Conor Masterson",
           24
          ],
          [
           "James Maddison",
           26
          ],
          [
           "Nathan",
           27
          ],
          [
           "Taiwo Awoniyi",
           25
          ],
          [
           "Kelechi Iheanacho",
           26
          ],
          [
           "Marco Asensio",
           27
          ],
          [
           "Tyler Roberts",
           24
          ],
          [
           "Joe Rodon",
           25
          ],
          [
           "Harry Souttar",
           24
          ],
          [
           "Courtney Baker-Richardson",
           25
          ],
          [
           "George Thomas",
           26
          ],
          [
           "Kieran Tierney",
           26
          ],
          [
           "Fred Onyedinma",
           26
          ],
          [
           "Dominic Calvert-Lewin",
           26
          ],
          [
           "Matt Clarke",
           26
          ],
          [
           "Lynden Gooch",
           27
          ],
          [
           "Callum Connolly",
           25
          ],
          [
           "Jan Mlakar",
           24
          ],
          [
           "Kai Havertz",
           24
          ],
          [
           "Andre Green",
           24
          ],
          [
           "Ramadan Sobhi",
           26
          ],
          [
           "Liam Gibson",
           26
          ],
          [
           "Dael Fry",
           25
          ],
          [
           "Karlan Grant",
           25
          ],
          [
           "Tom Davies",
           24
          ],
          [
           "Rushian Hepburn-Murphy",
           24
          ],
          [
           "Herbie Kane",
           24
          ],
          [
           "Jonathan Leko",
           24
          ],
          [
           "Chris Willock",
           25
          ],
          [
           "Trent Alexander-Arnold",
           24
          ],
          [
           "Kyle Edwards",
           25
          ],
          [
           "Darnell Johnson",
           24
          ],
          [
           "Admiral Muskwe",
           24
          ],
          [
           "Ben Sheaf",
           25
          ],
          [
           "Jarrod Bowen",
           26
          ],
          [
           "Ben Chilwell",
           26
          ],
          [
           "Martin Ødegaard",
           24
          ],
          [
           "Jake Clarke-Salter",
           25
          ],
          [
           "Mateusz Hewelt",
           25
          ],
          [
           "Vlad Dragomir",
           23
          ],
          [
           "Daniel James",
           25
          ],
          [
           "Mathias Jensen",
           27
          ],
          [
           "Elijah Adebayo",
           25
          ],
          [
           "Anthony Georgiou",
           25
          ],
          [
           "Benny Ashley-Seal",
           24
          ],
          [
           "Benson Manuel",
           25
          ],
          [
           "Gustavo Hamer",
           25
          ],
          [
           "James Bree",
           25
          ],
          [
           "Ollie Watkins",
           27
          ],
          [
           "Marvelous Nakamba",
           29
          ],
          [
           "Donyell Malen",
           24
          ],
          [
           "Matthijs de Ligt",
           23
          ],
          [
           "Jaroslaw Jach",
           29
          ],
          [
           "Kristoffer Ajer",
           25
          ],
          [
           "João Virgínia",
           23
          ],
          [
           "Justin Kluivert",
           23
          ],
          [
           "Takehiro Tomiyasu",
           24
          ],
          [
           "Tyler Adams",
           24
          ],
          [
           "Sander Berge",
           25
          ],
          [
           "Joelinton",
           26
          ],
          [
           "Ben White",
           25
          ],
          [
           "Altay Bayındır",
           24
          ],
          [
           "Joe Lumley",
           28
          ],
          [
           "Nathan Holland",
           25
          ],
          [
           "Connor Ronan",
           25
          ],
          [
           "Konstantinos Tsimikas",
           27
          ],
          [
           "Mikel Merino",
           26
          ],
          [
           "Hannes Delcroix",
           23
          ],
          [
           "Daniel Grimshaw",
           25
          ],
          [
           "Rico Henry",
           25
          ],
          [
           "Josh Pask",
           25
          ],
          [
           "Regan Poole",
           25
          ],
          [
           "Tolaji Bola",
           24
          ],
          [
           "Marcus McGuane",
           24
          ],
          [
           "Josh Dasilva",
           24
          ],
          [
           "Eddie Nketiah",
           24
          ],
          [
           "Reiss Nelson",
           23
          ],
          [
           "Stephy Mavididi",
           24
          ],
          [
           "Joe Willock",
           23
          ],
          [
           "Noussair Mazraoui",
           25
          ],
          [
           "Caoimhín Kelleher",
           24
          ],
          [
           "Diogo Jota",
           26
          ],
          [
           "Harry Lewis",
           25
          ],
          [
           "Kyle Walker-Peters",
           26
          ],
          [
           "Federico Chiesa",
           25
          ],
          [
           "Hamza Choudhury",
           25
          ],
          [
           "Elliott Moore",
           26
          ],
          [
           "Axel Tuanzebe",
           25
          ],
          [
           "Grady Diangana",
           25
          ],
          [
           "Nathan Baxter",
           24
          ],
          [
           "Guido Rodríguez",
           29
          ],
          [
           "Ben Godfrey",
           25
          ],
          [
           "Nathan Broadhead",
           25
          ],
          [
           "Ben Woodburn",
           23
          ],
          [
           "Odsonne Edouard",
           25
          ],
          [
           "Christopher Nkunku",
           25
          ],
          [
           "Boubakary Soumaré",
           24
          ],
          [
           "Tahith Chong",
           23
          ],
          [
           "Shayon Harrison",
           26
          ],
          [
           "Djair Parfitt-Williams",
           27
          ],
          [
           "Jamal Lewis",
           25
          ],
          [
           "Trevoh Chalobah",
           23
          ],
          [
           "Jordan Williams",
           23
          ],
          [
           "Tom Dele-Bashiru",
           23
          ],
          [
           "Japhet Tanganga",
           24
          ],
          [
           "Dan Nlundulu",
           24
          ],
          [
           "Mason Mount",
           24
          ],
          [
           "Sean Longstaff",
           25
          ],
          [
           "Mason Holgate",
           26
          ],
          [
           "Alexander Isak",
           23
          ],
          [
           "Conor Chaplin",
           26
          ],
          [
           "Pervis Estupiñán",
           25
          ],
          [
           "Antonee Robinson",
           25
          ],
          [
           "Shayne Lavery",
           24
          ],
          [
           "Kalvin Phillips",
           27
          ],
          [
           "Darnell Furlong",
           27
          ],
          [
           "Keshi Anderson",
           28
          ],
          [
           "Adnan Kanuric",
           22
          ],
          [
           "Joe Powell",
           24
          ],
          [
           "Rodrigo Bentancur",
           25
          ],
          [
           "Cristian Romero",
           24
          ],
          [
           "Daichi Kamada",
           26
          ],
          [
           "Ibrahima Konaté",
           24
          ],
          [
           "Diogo Dalot",
           24
          ],
          [
           "Kazaiah Sterling",
           24
          ],
          [
           "Rodri",
           26
          ],
          [
           "Jayson Molumby",
           23
          ],
          [
           "Mark Travers",
           24
          ],
          [
           "Declan Rice",
           24
          ],
          [
           "Lasse Sörensen",
           23
          ],
          [
           "Sven Botman",
           23
          ],
          [
           "Gabriel Jesus",
           26
          ],
          [
           "Elliot Embleton",
           24
          ],
          [
           "Patson Daka",
           24
          ],
          [
           "Pontus Dahlberg",
           24
          ],
          [
           "Dan Agyei",
           21
          ],
          [
           "Niall Ennis",
           24
          ],
          [
           "Ferdi Kadıoğlu",
           23
          ],
          [
           "Sasa Kalajdzic",
           25
          ],
          [
           "Arijanet Muric",
           24
          ],
          [
           "Francisco Sierralta",
           26
          ],
          [
           "Nathaniel Phillips",
           26
          ],
          [
           "Carlos Soler",
           26
          ],
          [
           "Paulinho",
           26
          ],
          [
           "Junior Firpo",
           26
          ],
          [
           "Ibrahim Sangaré",
           25
          ],
          [
           "Charlie Goode",
           27
          ],
          [
           "Anel Ahmedhodzic",
           24
          ],
          [
           "Richarlison",
           25
          ],
          [
           "Lyanco",
           26
          ],
          [
           "Igor",
           25
          ],
          [
           "Joel Mumbongo",
           23
          ],
          [
           "Wesley Moraes",
           26
          ],
          [
           "Steven Benda",
           24
          ],
          [
           "Mike Trésor",
           23
          ],
          [
           "Tyrese Campbell",
           23
          ],
          [
           "Joe Hardy",
           24
          ],
          [
           "Przemyslaw Placheta",
           25
          ],
          [
           "Axel Disasi",
           25
          ],
          [
           "Darko Churlinov",
           22
          ],
          [
           "Joe Riley",
           21
          ],
          [
           "Daiki Hashioka",
           23
          ],
          [
           "Samuel Shashoua",
           23
          ],
          [
           "Sam Field",
           25
          ],
          [
           "Leon Bailey",
           25
          ],
          [
           "Yoane Wissa",
           26
          ],
          [
           "Jacob Lungi Sörensen",
           25
          ],
          [
           "Marcus Browne",
           25
          ],
          [
           "Chiedozie Ogbene",
           26
          ],
          [
           "Marc Guéhi",
           22
          ],
          [
           "Ian Poveda",
           23
          ],
          [
           "Emile Smith Rowe",
           22
          ],
          [
           "George McEachran",
           20
          ],
          [
           "Callum Hudson-Odoi",
           22
          ],
          [
           "Marcel Lavinier",
           22
          ],
          [
           "Kane Wilson",
           23
          ],
          [
           "Ryan Sessegnon",
           23
          ],
          [
           "Josh Sargent",
           23
          ],
          [
           "Boubacar Kamara",
           23
          ],
          [
           "Claudio Gomes",
           22
          ],
          [
           "Moussa Diaby",
           23
          ],
          [
           "Sam Hughes",
           26
          ],
          [
           "Jimmy Dunne",
           25
          ],
          [
           "Ethan Hamilton",
           24
          ],
          [
           "Manor Solomon",
           23
          ],
          [
           "Dan Kemp",
           24
          ],
          [
           "Jamie Cumming",
           23
          ],
          [
           "Richard Nartey",
           23
          ],
          [
           "Sandro Tonali",
           22
          ],
          [
           "Josh Benson",
           23
          ],
          [
           "Harvey Barnes",
           25
          ],
          [
           "Sam Surridge",
           24
          ],
          [
           "Marcus Tavernier",
           24
          ],
          [
           "Pau Torres",
           26
          ],
          [
           "Mads Hermansen",
           22
          ],
          [
           "Jadon Sancho",
           23
          ],
          [
           "Dara O'Shea",
           24
          ],
          [
           "Edson Álvarez",
           25
          ],
          [
           "Michal Karbownik",
           21
          ],
          [
           "Gonzalo Montiel",
           26
          ],
          [
           "Robert Sánchez",
           25
          ],
          [
           "Jordan Beyer",
           23
          ],
          [
           "Marcus Forss",
           23
          ],
          [
           "Vitaliy Mykolenko",
           23
          ],
          [
           "Yukinari Sugawara",
           22
          ],
          [
           "Yan Valery",
           24
          ],
          [
           "Tom McGill",
           23
          ],
          [
           "Steven Sessegnon",
           23
          ],
          [
           "Timothy Eyoma",
           23
          ],
          [
           "Rhian Brewster",
           23
          ],
          [
           "Matt O'Riley",
           22
          ],
          [
           "Phil Foden",
           22
          ],
          [
           "Oliver Skipp",
           22
          ],
          [
           "Mads Andersen",
           25
          ],
          [
           "Ismaïla Sarr",
           25
          ],
          [
           "Yves Bissouma",
           26
          ],
          [
           "Pascal Struijk",
           23
          ],
          [
           "Max Sanders",
           24
          ],
          [
           "Adam Parkes",
           21
          ],
          [
           "Ibrahima Diallo",
           24
          ],
          [
           "Bryan Mbeumo",
           23
          ],
          [
           "James Justin",
           25
          ],
          [
           "Ezri Konsa",
           25
          ],
          [
           "Nikola Milenković",
           25
          ],
          [
           "Marshall Munetsi",
           26
          ],
          [
           "Mats Wieffer",
           23
          ],
          [
           "Bruno Jordão",
           24
          ],
          [
           "Konstantinos Mavropanos",
           25
          ],
          [
           "Joe Worrall",
           26
          ],
          [
           "Jordan Green",
           26
          ],
          [
           "Jack Harrison",
           26
          ],
          [
           "Erling Haaland",
           22
          ],
          [
           "Kristoffer Klaesson",
           22
          ],
          [
           "Conor Coventry",
           23
          ],
          [
           "Lewis Gibson",
           21
          ],
          [
           "Jean-Philippe Mateta",
           25
          ],
          [
           "Jurrien Timber",
           21
          ],
          [
           "George Hirst",
           24
          ],
          [
           "Alfie Lewis",
           24
          ],
          [
           "Nathan Patterson",
           21
          ],
          [
           "Samuel Kalu",
           25
          ],
          [
           "Josh Knight",
           25
          ],
          [
           "Matt Turner",
           28
          ],
          [
           "Matty Cash",
           25
          ],
          [
           "Akin Famewo",
           24
          ],
          [
           "Ryan Yates",
           25
          ],
          [
           "Jakub Kiwior",
           23
          ],
          [
           "Ben Brereton Díaz",
           24
          ],
          [
           "Aaron Ramsdale",
           25
          ],
          [
           "Thanawat Suengchitthawon",
           23
          ],
          [
           "Brandon Austin",
           24
          ],
          [
           "Morgan Gibbs-White",
           23
          ],
          [
           "Jørgen Strand Larsen",
           22
          ],
          [
           "Andrew Irving",
           23
          ],
          [
           "Tom Edwards",
           24
          ],
          [
           "Peter Gwargis",
           22
          ],
          [
           "Mateusz Bogusz",
           21
          ],
          [
           "Dejan Kulusevski",
           22
          ],
          [
           "Bukayo Saka",
           21
          ],
          [
           "Elijah Dixon-Bonner",
           22
          ],
          [
           "Luis Longstaff",
           22
          ],
          [
           "Tommy Doyle",
           21
          ],
          [
           "Rayhaan Tulloch",
           22
          ],
          [
           "Bali Mumba",
           21
          ],
          [
           "Curtis Jones",
           22
          ],
          [
           "Scott Twine",
           24
          ],
          [
           "Tudor Baluta",
           24
          ],
          [
           "Ethan Galbraith",
           22
          ],
          [
           "Aaron Connolly",
           23
          ],
          [
           "Maxence Lacroix",
           22
          ],
          [
           "Cody Gakpo",
           23
          ],
          [
           "Gabriel Magalhães",
           25
          ],
          [
           "Joshua Zirkzee",
           21
          ],
          [
           "Santiago Bueno",
           24
          ],
          [
           "Ethan Pinnock",
           30
          ],
          [
           "Edouard Mendy",
           31
          ],
          [
           "Michael Obafemi",
           22
          ],
          [
           "Will Smallbone",
           23
          ],
          [
           "Lucas Paquetá",
           25
          ],
          [
           "Louie Moulden",
           21
          ],
          [
           "Omar Marmoush",
           24
          ],
          [
           "Ross Stewart",
           26
          ],
          [
           "Emmanuel Dennis",
           25
          ],
          [
           "Jean-Ricner Bellegarde",
           24
          ],
          [
           "Dominik Szoboszlai",
           22
          ],
          [
           "Jorge Segura",
           26
          ],
          [
           "Adama Diakhaby",
           26
          ],
          [
           "Will Mannion",
           25
          ],
          [
           "Rekeem Harper",
           23
          ],
          [
           "Jack Taylor",
           24
          ],
          [
           "Harvey Rodgers",
           26
          ],
          [
           "Caleb Okoli",
           21
          ],
          [
           "Calvin Bassey",
           23
          ],
          [
           "Benoît Badiashile",
           22
          ],
          [
           "Marc Leonard",
           20
          ],
          [
           "Terry Taylor",
           22
          ],
          [
           "Allan Tchaptchet",
           21
          ],
          [
           "Jayden Bogle",
           22
          ],
          [
           "Nico González",
           21
          ],
          [
           "Armel Bella-Kotchap",
           21
          ],
          [
           "Lyle Foster",
           22
          ],
          [
           "Ben Johnson",
           23
          ],
          [
           "Jens Cajuste",
           23
          ],
          [
           "Joe Aribo",
           26
          ],
          [
           "Vitinho",
           23
          ],
          [
           "Nathan Collins",
           22
          ],
          [
           "Gavin Kilkenny",
           23
          ],
          [
           "Marcos Senesi",
           25
          ],
          [
           "Indiana Vassilev",
           22
          ],
          [
           "Jacob Brown",
           25
          ],
          [
           "Paris Maghoma",
           20
          ],
          [
           "Ben Cottrell",
           21
          ],
          [
           "Brennan Johnson",
           21
          ],
          [
           "Reece James",
           23
          ],
          [
           "Kevin Schade",
           21
          ],
          [
           "Regan Slater",
           23
          ],
          [
           "Lewis Cass",
           23
          ],
          [
           "Crysencio Summerville",
           21
          ],
          [
           "Kiernan Dewsbury-Hall",
           24
          ],
          [
           "Wesley Fofana",
           22
          ],
          [
           "Josko Gvardiol",
           21
          ],
          [
           "Steven Alzate",
           24
          ],
          [
           "Bernardo Rosa",
           23
          ],
          [
           "Manuel Ugarte",
           21
          ],
          [
           "Aaron Wan-Bissaka",
           25
          ],
          [
           "Ryan Gravenberch",
           20
          ],
          [
           "Eberechi Eze",
           24
          ],
          [
           "Cohen Bramall",
           27
          ],
          [
           "Luis Díaz",
           26
          ],
          [
           "Lisandro Martínez",
           24
          ],
          [
           "Chris Mepham",
           25
          ],
          [
           "Djed Spence",
           22
          ],
          [
           "Matty Longstaff",
           23
          ],
          [
           "Taylor Richards",
           22
          ],
          [
           "Ian Maatsen",
           21
          ],
          [
           "Amadou Onana",
           21
          ],
          [
           "Jérémy Doku",
           20
          ],
          [
           "Jake Walker",
           22
          ],
          [
           "Jakub Stolarczyk",
           21
          ],
          [
           "Edo Kayembe",
           24
          ],
          [
           "Vitezslav Jaros",
           21
          ],
          [
           "Pedro Neto",
           23
          ],
          [
           "Maksim Paskotsi",
           19
          ],
          [
           "Siriki Dembélé",
           26
          ],
          [
           "Hákon Rafn Valdimarsson",
           21
          ],
          [
           "Ismaila Coulibaly",
           22
          ],
          [
           "Lucas Bergström",
           20
          ],
          [
           "Daniel Muñoz",
           26
          ],
          [
           "Jorge Cuenca",
           23
          ],
          [
           "Nathan Bishop",
           23
          ],
          [
           "William Saliba",
           22
          ],
          [
           "Dion Sanderson",
           23
          ],
          [
           "Elliot Thorpe",
           22
          ],
          [
           "Nicolás Domínguez",
           24
          ],
          [
           "Dion Pereira",
           24
          ],
          [
           "Ákos Onódi",
           20
          ],
          [
           "Aji Alese",
           22
          ],
          [
           "Taylor Perry",
           22
          ],
          [
           "Riccardo Calafiori",
           21
          ],
          [
           "Rhys Williams",
           22
          ],
          [
           "Neco Williams",
           22
          ],
          [
           "Anthony Driscoll-Glennon",
           22
          ],
          [
           "Anthony Gordon",
           22
          ],
          [
           "Morgan Rogers",
           20
          ],
          [
           "Jacob Ramsey",
           21
          ],
          [
           "Tyreece John-Jules",
           22
          ],
          [
           "Arthur Okonkwo",
           21
          ],
          [
           "Jeremy Ngakia",
           22
          ],
          [
           "Albert Grønbaek",
           22
          ],
          [
           "Joe Hodge",
           21
          ],
          [
           "Dynel Simeu",
           20
          ],
          [
           "Taylor Harwood-Bellis",
           20
          ],
          [
           "Joe Gelhardt",
           20
          ],
          [
           "Tino Livramento",
           20
          ],
          [
           "Noni Madueke",
           20
          ],
          [
           "Alex Mighten",
           21
          ],
          [
           "Nathan Wood",
           20
          ],
          [
           "Daniel Barden",
           22
          ],
          [
           "Tariq Lamptey",
           22
          ],
          [
           "Emmanuel Longelo",
           22
          ],
          [
           "Ryan Giles",
           23
          ],
          [
           "Kaoru Mitoma",
           25
          ],
          [
           "Luke Thomas",
           22
          ],
          [
           "James Garner",
           22
          ],
          [
           "Louie Watson",
           21
          ],
          [
           "Flynn Downes",
           24
          ],
          [
           "Josh Bowler",
           24
          ],
          [
           "Jack Young",
           22
          ],
          [
           "Nathan Ferguson",
           22
          ],
          [
           "Alexandre Jankewitz",
           21
          ],
          [
           "Brandon Williams",
           22
          ],
          [
           "Daniel Batty",
           25
          ],
          [
           "Ellis Simms",
           22
          ],
          [
           "Jackson Smith",
           22
          ],
          [
           "Ryan Longman",
           22
          ],
          [
           "Malcolm Ebiowei",
           19
          ],
          [
           "Luis Sinisterra",
           23
          ],
          [
           "Jesper Lindstrøm",
           23
          ],
          [
           "Julián Araujo",
           22
          ],
          [
           "Matheus Cunha",
           24
          ],
          [
           "Bruno Guimarães",
           25
          ],
          [
           "Jensen Weir",
           21
          ],
          [
           "Jaime Alvarado",
           24
          ],
          [
           "Maximilian Kilman",
           25
          ],
          [
           "Carlos Vinícius",
           27
          ],
          [
           "Karlo Ziger",
           22
          ],
          [
           "Luke Woolfenden",
           24
          ],
          [
           "Tyrese Francois",
           22
          ],
          [
           "Jack Spong",
           21
          ],
          [
           "Armstrong Oko-Flex",
           21
          ],
          [
           "Di'Shon Bernard",
           22
          ],
          [
           "D'Mani Mellor",
           22
          ],
          [
           "Ethan Laird",
           21
          ],
          [
           "Cody Drameh",
           21
          ],
          [
           "Sam Greenwood",
           21
          ],
          [
           "Daniel Adshead",
           21
          ],
          [
           "Luke Cundle",
           21
          ],
          [
           "Haydon Roberts",
           21
          ],
          [
           "Cameron Archer",
           21
          ],
          [
           "Shandon Baptiste",
           24
          ],
          [
           "Alexis Mac Allister",
           24
          ],
          [
           "Robbie Gotts",
           22
          ],
          [
           "Jamie Shackleton",
           23
          ],
          [
           "Luke McNally",
           23
          ],
          [
           "Amad Diallo",
           20
          ],
          [
           "Mykhaylo Mudryk",
           22
          ],
          [
           "Kwasi Sibo",
           25
          ],
          [
           "Georginio Rutter",
           20
          ],
          [
           "Christian Marques",
           19
          ],
          [
           "Kristian Sekularac",
           19
          ],
          [
           "Zak Swanson",
           22
          ],
          [
           "Mikkel Damsgaard",
           22
          ],
          [
           "Sepp van den Berg",
           21
          ],
          [
           "Illan Meslier",
           23
          ],
          [
           "Alex Gilbert",
           20
          ],
          [
           "Rhys Norrington-Davies",
           24
          ],
          [
           "Cheick Doucouré",
           23
          ],
          [
           "Mohammed Kudus",
           22
          ],
          [
           "Darwin Núñez",
           23
          ],
          [
           "Anis Slimane",
           22
          ],
          [
           "Taylor Gardner-Hickman",
           21
          ],
          [
           "Miguel Azeez",
           20
          ],
          [
           "Josh Martin",
           21
          ],
          [
           "Teden Mengi",
           21
          ],
          [
           "Owen Beck",
           20
          ],
          [
           "Pedro Porro",
           23
          ],
          [
           "Alpha Diounkou",
           21
          ],
          [
           "Yasser Larouci",
           22
          ],
          [
           "Oliwier Zych",
           18
          ],
          [
           "Destiny Udogie",
           20
          ],
          [
           "Micky van de Ven",
           22
          ],
          [
           "Harrison Ashby",
           21
          ],
          [
           "Fábio Carvalho",
           20
          ],
          [
           "Jack Clarke",
           22
          ],
          [
           "Oliver Casey",
           22
          ],
          [
           "Niall Huggins",
           22
          ],
          [
           "Lewis O'Brien",
           24
          ],
          [
           "Dan Chesters",
           20
          ],
          [
           "Kyle Taylor",
           23
          ],
          [
           "Victor Kristiansen",
           20
          ],
          [
           "Bart Verbruggen",
           20
          ],
          [
           "Harvey Elliott",
           19
          ],
          [
           "Matty Daly",
           21
          ],
          [
           "James Trafford",
           20
          ],
          [
           "Thomas Dickson-Peters",
           19
          ],
          [
           "Elliot Anderson",
           20
          ],
          [
           "Odel Offiah",
           21
          ],
          [
           "Jeremy Sarmiento",
           21
          ],
          [
           "Dennis Cirkin",
           21
          ],
          [
           "Cole Palmer",
           21
          ],
          [
           "Radu Drăgușin",
           21
          ],
          [
           "Pape Matar Sarr",
           20
          ],
          [
           "Armando Broja",
           21
          ],
          [
           "Joseph Anang",
           23
          ],
          [
           "Josh Wilson-Esbrand",
           20
          ],
          [
           "Jan Paul van Hecke",
           22
          ],
          [
           "Rayan Aït-Nouri",
           22
          ],
          [
           "Chris Richards",
           23
          ],
          [
           "James Furlong",
           21
          ],
          [
           "Ed Turns",
           21
          ],
          [
           "Eiran Cashin",
           21
          ],
          [
           "Harvey White",
           20
          ],
          [
           "CJ Egan-Riley",
           20
          ],
          [
           "Louie Barry",
           20
          ],
          [
           "Charlie Patino",
           19
          ],
          [
           "Lukas Jensen",
           24
          ],
          [
           "Will Dennis",
           22
          ],
          [
           "Anthony Elanga",
           20
          ],
          [
           "James McAtee",
           20
          ],
          [
           "Antoine Semenyo",
           23
          ],
          [
           "Dwight McNeil",
           23
          ],
          [
           "Filip Jørgensen",
           21
          ],
          [
           "Jesurun Rak-Sakyi",
           20
          ],
          [
           "Myles Peart-Harris",
           19
          ],
          [
           "Lewis Bate",
           19
          ],
          [
           "Derek Agyakwa",
           21
          ],
          [
           "Joe Gauci",
           22
          ],
          [
           "Aaron Hickey",
           20
          ],
          [
           "Woyo Coulibaly",
           24
          ],
          [
           "Tiago Cukur",
           20
          ],
          [
           "Beto",
           25
          ],
          [
           "Max Haygarth",
           20
          ],
          [
           "Leif Davis",
           23
          ],
          [
           "Xavier Simons",
           20
          ],
          [
           "Matheus Nunes",
           24
          ],
          [
           "Jean-Clair Todibo",
           23
          ],
          [
           "Sebastian Soto",
           22
          ],
          [
           "Denis Franchi",
           20
          ],
          [
           "Toti",
           23
          ],
          [
           "Hannibal",
           20
          ],
          [
           "Alfie Doughty",
           23
          ],
          [
           "Luke Mbete",
           19
          ],
          [
           "Alex Robertson",
           19
          ],
          [
           "Rasmus Højlund",
           20
          ],
          [
           "Caleb Watts",
           21
          ],
          [
           "Ollie O'Neill",
           20
          ],
          [
           "Liam Delap",
           20
          ],
          [
           "James Hill",
           21
          ],
          [
           "Liam McCarron",
           22
          ],
          [
           "Luke Matheson",
           19
          ],
          [
           "Levi Colwill",
           20
          ],
          [
           "Charlie McNeill",
           20
          ],
          [
           "Chem Campbell",
           20
          ],
          [
           "Dara Costelloe",
           20
          ],
          [
           "Tyler Morton",
           20
          ],
          [
           "Sam McCallum",
           22
          ],
          [
           "Malo Gusto",
           19
          ],
          [
           "Kasey McAteer",
           21
          ],
          [
           "Radek Vítek",
           20
          ],
          [
           "Iliman Ndiaye",
           23
          ],
          [
           "Conor Bradley",
           19
          ],
          [
           "Dale Taylor",
           19
          ],
          [
           "Lucas De Bolle",
           20
          ],
          [
           "Adrion Pajaziti",
           20
          ],
          [
           "João Pedro",
           21
          ],
          [
           "Kaine Kesler-Hayden",
           20
          ],
          [
           "Lewis Dobbin",
           19
          ],
          [
           "Wilfried Gnonto",
           19
          ],
          [
           "Roméo Lavia",
           19
          ],
          [
           "Femi Seriki",
           20
          ],
          [
           "Carlos Miguel",
           24
          ],
          [
           "Keane Lewis-Potter",
           22
          ],
          [
           "Lamare Bogarde",
           19
          ],
          [
           "Ben Greenwood",
           20
          ],
          [
           "Carl Rushworth",
           22
          ],
          [
           "Aaron Ramsey",
           20
          ],
          [
           "Juan Larios",
           19
          ],
          [
           "Jayden Bennetts",
           22
          ],
          [
           "Evan Ferguson",
           18
          ],
          [
           "Enzo Fernández",
           22
          ],
          [
           "Boubacar Traoré",
           21
          ],
          [
           "Jhon Durán",
           19
          ],
          [
           "Lewis Warrington",
           21
          ],
          [
           "Bilal El Khannouss",
           19
          ],
          [
           "Cameron Plain",
           22
          ],
          [
           "Brooklyn Genesini",
           21
          ],
          [
           "Gabriel Martinelli",
           21
          ],
          [
           "Christian Saydee",
           19
          ],
          [
           "Mipo Odubeko",
           19
          ],
          [
           "Aaron Rowe",
           22
          ],
          [
           "Simon Adingra",
           21
          ],
          [
           "Ilya Zabarnyi",
           20
          ],
          [
           "Julio Enciso",
           19
          ],
          [
           "Jarrad Branthwaite",
           20
          ],
          [
           "Leo Fuhr Hjelde",
           19
          ],
          [
           "Marcelo Pitaluga",
           18
          ],
          [
           "Tyler Onyango",
           20
          ],
          [
           "Jota Silva",
           23
          ],
          [
           "Darko Gyabi",
           19
          ],
          [
           "Vini Souza",
           23
          ],
          [
           "Jaden Philogene",
           21
          ],
          [
           "Rodrigo Gomes",
           19
          ],
          [
           "Yasin Ayari",
           19
          ],
          [
           "Marcelo Flores",
           19
          ],
          [
           "Joe Whitworth",
           19
          ],
          [
           "Divin Mubama",
           19
          ],
          [
           "Antwoine Hackford",
           17
          ],
          [
           "Luke Chambers",
           19
          ],
          [
           "Dane Scarlett",
           19
          ],
          [
           "Caleb Taylor",
           20
          ],
          [
           "Morato",
           21
          ],
          [
           "Anthony Mancini",
           19
          ],
          [
           "Emmanuel Agbadou",
           25
          ],
          [
           "Jaidon Anthony",
           23
          ],
          [
           "Charlie Savage",
           19
          ],
          [
           "Moisés Caicedo",
           21
          ],
          [
           "Chadi Riad",
           20
          ],
          [
           "Kamarai Swyer",
           20
          ],
          [
           "Jacob Greaves",
           22
          ],
          [
           "Jay Stansfield",
           20
          ],
          [
           "Tim Iroegbunam",
           19
          ],
          [
           "Rico Lewis",
           18
          ],
          [
           "Kgaogelo Chauke",
           20
          ],
          [
           "Harvey Davies",
           20
          ],
          [
           "Ji-soo Kim",
           18
          ],
          [
           "Kwadwo Baah",
           20
          ],
          [
           "Evanilson",
           23
          ],
          [
           "Jake O'Brien",
           22
          ],
          [
           "Lesley Ugochukwu",
           19
          ],
          [
           "Bobby Clark",
           18
          ],
          [
           "Yerson Mosquera",
           22
          ],
          [
           "Yegor Yarmolyuk",
           19
          ],
          [
           "Enock Agyei",
           18
          ],
          [
           "Tayo Adaramola",
           19
          ],
          [
           "Andrew Moran",
           20
          ],
          [
           "Liam Gibbs",
           20
          ],
          [
           "Antonín Kinský",
           20
          ],
          [
           "Welington",
           22
          ],
          [
           "Milos Kerkez",
           19
          ],
          [
           "Tyrick Mitchell",
           23
          ],
          [
           "Dylan Williams",
           18
          ],
          [
           "Kaide Gordon",
           18
          ],
          [
           "Jack Jenkins",
           20
          ],
          [
           "João Gomes",
           22
          ],
          [
           "Rodrigo Muniz",
           22
          ],
          [
           "Igor Thiago",
           21
          ],
          [
           "Omari Hutchinson",
           20
          ],
          [
           "Caleb Chukwuemeka",
           20
          ],
          [
           "Lino Sousa",
           18
          ],
          [
           "Wilson Odobert",
           18
          ],
          [
           "Savinho",
           19
          ],
          [
           "Matheus França",
           19
          ],
          [
           "Adam Wharton",
           19
          ],
          [
           "Ramón Sosa",
           23
          ],
          [
           "Luca Koleosho",
           19
          ],
          [
           "Kamaldeen Sulemana",
           21
          ],
          [
           "Daniel Jebbison",
           19
          ],
          [
           "Harry Boyes",
           21
          ],
          [
           "Justin Devenny",
           19
          ],
          [
           "Val Adedokun",
           19
          ],
          [
           "Carlos Alcaraz",
           20
          ],
          [
           "Abdukodir Khusanov",
           19
          ],
          [
           "Nicolas Jackson",
           21
          ],
          [
           "David Datro Fofana",
           20
          ],
          [
           "Bobby Thomas",
           22
          ],
          [
           "André",
           21
          ],
          [
           "Mathys Tel",
           18
          ],
          [
           "Ryan Finnigan",
           20
          ],
          [
           "Danilo",
           21
          ],
          [
           "Alejandro Garnacho",
           19
          ],
          [
           "Jack Wells-Morrison",
           19
          ],
          [
           "Luke Harris",
           18
          ],
          [
           "Kobbie Mainoo",
           18
          ],
          [
           "Alfie Pond",
           19
          ],
          [
           "Dango Ouattara",
           21
          ],
          [
           "Michael Kayode",
           17
          ],
          [
           "Maxime Estève",
           21
          ],
          [
           "Bénie Traoré",
           20
          ],
          [
           "Jack Hinchy",
           20
          ],
          [
           "Alex Scott",
           19
          ],
          [
           "Ashley Phillips",
           18
          ],
          [
           "Kaden Rodney",
           19
          ],
          [
           "Nasser Djiga",
           20
          ],
          [
           "Issahaku Fatawu",
           18
          ],
          [
           "Lucas Bergvall",
           17
          ],
          [
           "Bradley Ibrahim",
           19
          ],
          [
           "Mason Burstow",
           19
          ],
          [
           "Ryan Trevitt",
           20
          ],
          [
           "Seán Grehan",
           18
          ],
          [
           "Josh Feeney",
           18
          ],
          [
           "Amario Cozier-Duberry",
           18
          ],
          [
           "Mateus Fernandes",
           19
          ],
          [
           "Oliver Scarles",
           17
          ],
          [
           "Archie Gray",
           17
          ],
          [
           "Leny Yoro",
           17
          ],
          [
           "Zach Abbott",
           17
          ],
          [
           "Mark O'Mahony",
           18
          ],
          [
           "Joe Taylor",
           20
          ],
          [
           "Carlos Baleba",
           19
          ],
          [
           "Facundo Buonanotte",
           18
          ],
          [
           "Matai Akinmboni",
           17
          ],
          [
           "Diego Gómez",
           20
          ],
          [
           "Julio Soler",
           18
          ],
          [
           "Yankuba Minteh",
           19
          ],
          [
           "Ryan Oné",
           17
          ],
          [
           "Enso González",
           18
          ]
         ],
         "hovertemplate": "predicted_value=%{x}<br>market_value_in_million_eur=%{y}<br>name=%{customdata[0]}<br>age=%{customdata[1]}<extra></extra>",
         "legendgroup": "",
         "marker": {
          "color": "#636efa",
          "symbol": "circle"
         },
         "mode": "markers",
         "name": "",
         "showlegend": false,
         "type": "scattergl",
         "x": [
          -1.719924741359347,
          0.737106508640653,
          -0.946487241359347,
          -1.899612241359347,
          27.893356508640654,
          -0.981643491359347,
          -2.868362241359347,
          -1.704299741359347,
          -0.48554974135934703,
          0.873825258640653,
          -1.712112241359347,
          -1.251174741359347,
          48.64335650864065,
          6.209762758640653,
          -1.782424741359347,
          -2.485549741359347,
          2.112106508640653,
          -1.387893491359347,
          2.123825258640653,
          -0.508987241359347,
          0.26445025864065297,
          0.737106508640653,
          -2.048049741359347,
          0.40507525864065297,
          -0.606643491359347,
          1.065231508640653,
          -0.649612241359347,
          -0.49336224135934703,
          -0.43086224135934703,
          -2.048049741359347,
          -0.41914349135934703,
          -1.294143491359347,
          -0.587112241359347,
          -2.137893491359347,
          -0.887893491359347,
          -0.37226849135934703,
          -1.071487241359347,
          -1.454299741359347,
          -1.462112241359347,
          -1.856643491359347,
          -0.41914349135934703,
          -0.606643491359347,
          -2.094924741359347,
          3.580856508640653,
          1.686325258640653,
          -1.012893491359347,
          0.580856508640653,
          0.23710650864065297,
          -0.38789349135934703,
          -0.41914349135934703,
          3.209762758640653,
          -1.169143491359347,
          -1.126174741359347,
          -1.606643491359347,
          -1.137893491359347,
          1.049606508640653,
          -0.548049741359347,
          -1.126174741359347,
          -0.700393491359347,
          -0.762893491359347,
          2.924606508640653,
          0.893356508640653,
          -0.41914349135934703,
          -1.044143491359347,
          -1.231643491359347,
          -0.852737241359347,
          -0.13789349135934703,
          -0.594924741359347,
          -1.508987241359347,
          -0.856643491359347,
          -1.106643491359347,
          2.030075258640653,
          2.787887758640653,
          2.674606508640653,
          -1.133987241359347,
          -1.512893491359347,
          0.38163775864065297,
          0.955856508640653,
          -0.794143491359347,
          -0.794143491359347,
          -1.637893491359347,
          1.049606508640653,
          -0.26289349135934703,
          -2.200393491359347,
          3.330856508640653,
          1.076950258640653,
          5.674606508640653,
          1.018356508640653,
          19.987106508640654,
          -0.731643491359347,
          -0.626174741359347,
          -0.23164349135934703,
          42.89335650864065,
          1.518356508640653,
          -1.200393491359347,
          0.819137758640653,
          -1.258987241359347,
          1.623825258640653,
          5.174606508640653,
          0.893356508640653,
          25.612106508640654,
          1.080856508640653,
          -0.10664349135934703,
          0.643356508640653,
          -1.087112241359347,
          -0.23164349135934703,
          -1.200393491359347,
          0.08085650864065297,
          0.35429400864065297,
          -0.33711224135934703,
          -1.008987241359347,
          -0.21211224135934703,
          20.143356508640654,
          0.36210650864065297,
          0.737106508640653,
          0.08085650864065297,
          -1.075393491359347,
          0.881637758640653,
          -0.13789349135934703,
          1.830856508640653,
          -0.45429974135934703,
          0.15507525864065297,
          -1.102737241359347,
          0.36210650864065297,
          1.217575258640653,
          0.580856508640653,
          1.205856508640653,
          -0.891799741359347,
          2.424606508640653,
          -0.508987241359347,
          -1.391799741359347,
          0.23710650864065297,
          -0.23164349135934703,
          0.830856508640653,
          -0.38789349135934703,
          -0.837112241359347,
          -0.20039349135934703,
          3.174606508640653,
          -0.32539349135934703,
          3.862106508640653,
          -0.48164349135934703,
          -0.02461224135934703,
          -0.24336224135934703,
          -1.462112241359347,
          -1.087112241359347,
          2.944137758640653,
          1.053512758640653,
          -0.13789349135934703,
          1.936325258640653,
          -1.165237241359347,
          19.143356508640654,
          -0.809768491359347,
          -1.637893491359347,
          9.764450258640654,
          -0.41914349135934703,
          -0.38398724135934703,
          0.45195025864065297,
          0.33085650864065297,
          1.143356508640653,
          -0.10664349135934703,
          1.424606508640653,
          0.34257525864065297,
          24.565231508640654,
          4.862106508640653,
          -2.075393491359347,
          2.076950258640653,
          -0.13789349135934703,
          4.350387758640653,
          5.889450258640653,
          2.030075258640653,
          3.018356508640653,
          20.580856508640654,
          1.096481508640653,
          -1.352737241359347,
          1.709762758640653,
          4.268356508640653,
          0.518356508640653,
          0.40507525864065297,
          1.373825258640653,
          1.768356508640653,
          -0.45039349135934703,
          20.612106508640654,
          -0.512893491359347,
          -1.637893491359347,
          1.237106508640653,
          0.612106508640653,
          18.569137758640654,
          -0.32539349135934703,
          -0.45039349135934703,
          1.826950258640653,
          18.424606508640654,
          3.549606508640653,
          1.787887758640653,
          -0.35273724135934703,
          2.233200258640653,
          -1.376174741359347,
          -0.512893491359347,
          7.709762758640653,
          1.768356508640653,
          -1.149612241359347,
          0.36210650864065297,
          2.018356508640653,
          84.45585650864065,
          1.612106508640653,
          1.533981508640653,
          -1.016799741359347,
          -0.47773724135934703,
          2.061325258640653,
          -0.540237241359347,
          -1.383987241359347,
          0.862106508640653,
          -0.40742474135934703,
          73.83085650864065,
          1.705856508640653,
          2.127731508640653,
          2.444137758640653,
          1.662887758640653,
          1.580856508640653,
          34.70195025864065,
          -0.28633099135934703,
          2.780075258640653,
          -0.512893491359347,
          1.112106508640653,
          1.549606508640653,
          1.393356508640653,
          15.483200258640654,
          1.826950258640653,
          2.248825258640653,
          12.381637758640654,
          3.045700258640653,
          1.205856508640653,
          0.39726275864065297,
          40.48710650864065,
          -0.30586224135934703,
          9.237106508640654,
          -0.29414349135934703,
          -0.665237241359347,
          49.99882525864065,
          5.955856508640653,
          9.737106508640654,
          0.12382525864065297,
          1.299606508640653,
          0.20195025864065297,
          1.393356508640653,
          11.764450258640654,
          0.991012758640653,
          0.26835650864065297,
          0.06132525864065297,
          -0.12617474135934703,
          9.588669008640654,
          2.030075258640653,
          3.080856508640653,
          2.983200258640653,
          4.045700258640653,
          28.366012758640654,
          -0.37617474135934703,
          -0.762893491359347,
          7.264450258640653,
          0.737106508640653,
          -0.47773724135934703,
          -0.13789349135934703,
          2.018356508640653,
          2.569137758640653,
          2.717575258640653,
          21.014450258640654,
          0.45585650864065297,
          -0.24336224135934703,
          4.967575258640653,
          0.35820025864065297,
          1.811325258640653,
          -1.016799741359347,
          8.881637758640654,
          -0.731643491359347,
          0.14335650864065297,
          -0.657424741359347,
          0.862106508640653,
          0.42460650864065297,
          0.39335650864065297,
          5.295700258640653,
          2.678512758640653,
          1.655075258640653,
          0.991012758640653,
          2.737106508640653,
          2.256637758640653,
          3.080856508640653,
          0.33476275864065297,
          -0.07539349135934703,
          2.330856508640653,
          -0.602737241359347,
          4.455856508640653,
          -1.790237241359347,
          0.42460650864065297,
          18.455856508640654,
          -0.04414349135934703,
          15.451950258640654,
          1.342575258640653,
          7.022262758640653,
          0.971481508640653,
          0.33085650864065297,
          7.053512758640653,
          0.09257525864065297,
          1.944137758640653,
          13.862106508640654,
          1.518356508640653,
          25.303512758640654,
          10.955856508640654,
          9.311325258640654,
          20.830856508640654,
          7.569137758640653,
          -0.07539349135934703,
          0.28007525864065297,
          1.201950258640653,
          0.08085650864065297,
          0.631637758640653,
          1.100387758640653,
          4.237106508640653,
          23.811325258640654,
          5.084762758640653,
          1.701950258640653,
          0.31913775864065297,
          0.569137758640653,
          17.674606508640654,
          -0.41914349135934703,
          19.381637758640654,
          4.737106508640653,
          -0.26679974135934703,
          -0.20039349135934703,
          10.580856508640654,
          32.51054400864065,
          12.565231508640654,
          -0.20429974135934703,
          8.116012758640654,
          19.424606508640654,
          0.955856508640653,
          3.487106508640653,
          70.54960650864065,
          0.737106508640653,
          4.643356508640653,
          7.951950258640653,
          11.924606508640654,
          2.569137758640653,
          0.940231508640653,
          0.553512758640653,
          -0.719924741359347,
          54.53007525864065,
          1.198044008640653,
          2.205856508640653,
          -0.48164349135934703,
          4.018356508640653,
          1.178512758640653,
          17.549606508640654,
          5.326950258640653,
          1.084762758640653,
          2.049606508640653,
          22.080856508640654,
          0.05351275864065297,
          9.705856508640654,
          2.037887758640653,
          2.873825258640653,
          9.862106508640654,
          19.483200258640654,
          5.487106508640653,
          10.424606508640654,
          11.987106508640654,
          89.08085650864065,
          4.530075258640653,
          0.42460650864065297,
          1.553512758640653,
          5.959762758640653,
          1.045700258640653,
          -1.016799741359347,
          0.955856508640653,
          1.881637758640653,
          29.381637758640654,
          11.600387758640654,
          1.061325258640653,
          -0.19648724135934703,
          -1.438674741359347,
          0.26445025864065297,
          2.780075258640653,
          -0.07539349135934703,
          12.424606508640654,
          1.112106508640653,
          -0.688674741359347,
          -0.735549741359347,
          6.389450258640653,
          -0.700393491359347,
          58.53007525864065,
          2.080856508640653,
          5.412887758640653,
          0.11601275864065297,
          3.393356508640653,
          0.612106508640653,
          1.799606508640653,
          2.280075258640653,
          0.924606508640653,
          42.22148150864065,
          -0.688674741359347,
          0.799606508640653,
          0.768356508640653,
          36.15898150864065,
          11.420700258640654,
          0.549606508640653,
          21.186325258640654,
          4.971481508640653,
          1.194137758640653,
          2.049606508640653,
          45.80351275864065,
          0.955856508640653,
          26.795700258640654,
          2.580856508640653,
          0.705856508640653,
          39.01445025864065,
          4.612106508640653,
          -0.19648724135934703,
          1.530075258640653,
          3.362106508640653,
          31.487106508640654,
          0.04960650864065297,
          14.076950258640654,
          0.987106508640653,
          0.553512758640653,
          37.74101275864065,
          3.455856508640653,
          5.612106508640653,
          1.014450258640653,
          2.862106508640653,
          11.006637758640654,
          15.299606508640654,
          -0.36836224135934703,
          -0.04414349135934703,
          0.737106508640653,
          -0.10664349135934703,
          6.459762758640653,
          21.756637758640654,
          7.268356508640653,
          29.366012758640654,
          5.748825258640653,
          0.29960650864065297,
          9.440231508640654,
          -0.512893491359347,
          0.924606508640653,
          15.475387758640654,
          9.733200258640654,
          20.225387758640654,
          11.600387758640654,
          32.23710650864065,
          3.530075258640653,
          2.686325258640653,
          -0.47773724135934703,
          1.174606508640653,
          0.49882525864065297,
          7.893356508640653,
          1.076950258640653,
          -0.38789349135934703,
          3.330856508640653,
          0.616012758640653,
          2.756637758640653,
          3.862106508640653,
          1.658981508640653,
          7.377731508640653,
          1.737106508640653,
          2.549606508640653,
          2.631637758640653,
          5.045700258640653,
          -0.13789349135934703,
          8.518356508640654,
          70.87773150864065,
          26.842575258640654,
          20.643356508640654,
          3.018356508640653,
          2.100387758640653,
          17.237106508640654,
          9.518356508640654,
          4.436325258640653,
          6.205856508640653,
          0.14726275864065297,
          1.280075258640653,
          -0.38789349135934703,
          0.42851275864065297,
          0.678512758640653,
          10.018356508640654,
          -0.41914349135934703,
          2.561325258640653,
          17.069137758640654,
          0.701950258640653,
          2.272262758640653,
          0.631637758640653,
          11.139450258640654,
          0.670700258640653,
          19.092575258640654,
          1.424606508640653,
          1.518356508640653,
          0.14335650864065297,
          0.46757525864065297,
          8.123825258640654,
          3.096481508640653,
          -0.35273724135934703,
          2.549606508640653,
          -0.743362241359347,
          39.48710650864065,
          39.92460650864065,
          39.48710650864065,
          59.98710650864065,
          12.487106508640654,
          10.319137758640654,
          -0.21992474135934703,
          2.143356508640653,
          -0.10664349135934703,
          0.17460650864065297,
          10.268356508640654,
          3.174606508640653,
          0.06523150864065297,
          2.268356508640653,
          38.70585650864065,
          21.248825258640654,
          2.518356508640653,
          5.155075258640653,
          0.768356508640653,
          15.631637758640654,
          64.69413775864065,
          4.334762758640653,
          1.366012758640653,
          1.334762758640653,
          45.59257525864065,
          -0.26289349135934703,
          1.893356508640653,
          0.01835650864065297,
          83.48710650864065,
          80.26835650864065,
          2.912887758640653,
          1.256637758640653,
          0.29570025864065297,
          0.23710650864065297,
          3.737106508640653,
          18.940231508640654,
          0.49101275864065297,
          0.889450258640653,
          -0.05586224135934703,
          21.576950258640654,
          3.799606508640653,
          0.28007525864065297,
          2.178512758640653,
          1.112106508640653,
          1.674606508640653,
          3.424606508640653,
          12.549606508640654,
          0.717575258640653,
          0.705856508640653,
          1.549606508640653,
          0.987106508640653,
          2.065231508640653,
          9.643356508640654,
          14.737106508640654,
          3.491012758640653,
          54.79960650864065,
          2.783981508640653,
          13.530075258640654,
          15.612106508640654,
          1.842575258640653,
          18.272262758640654,
          18.737106508640654,
          1.924606508640653,
          34.51835650864065,
          3.483200258640653,
          1.752731508640653,
          10.600387758640654,
          29.983200258640654,
          1.643356508640653,
          1.424606508640653,
          4.795700258640653,
          0.42851275864065297,
          23.944137758640654,
          0.549606508640653,
          3.174606508640653,
          -0.20429974135934703,
          75.49101275864065,
          1.549606508640653,
          0.39335650864065297,
          16.686325258640654,
          2.299606508640653,
          2.076950258640653,
          1.393356508640653,
          17.737106508640654,
          18.631637758640654,
          69.70585650864065,
          25.491012758640654,
          1.991012758640653,
          2.112106508640653,
          5.080856508640653,
          27.998825258640654,
          2.576950258640653,
          23.928512758640654,
          1.143356508640653,
          15.362106508640654,
          8.467575258640654,
          0.26835650864065297,
          1.897262758640653,
          1.420700258640653,
          6.518356508640653,
          0.518356508640653,
          13.018356508640654,
          0.37382525864065297,
          0.780075258640653,
          10.795700258640654,
          19.330856508640654,
          17.674606508640654,
          0.518356508640653,
          58.61210650864065,
          5.174606508640653,
          17.127731508640654,
          0.42460650864065297,
          1.397262758640653,
          2.174606508640653,
          18.080856508640654,
          25.545700258640654,
          2.424606508640653,
          2.069137758640653,
          44.36210650864065,
          0.783981508640653,
          31.795700258640654,
          29.412887758640654,
          -0.524612241359347,
          0.22538775864065297,
          0.26445025864065297,
          11.350387758640654,
          2.393356508640653,
          6.455856508640653,
          1.612106508640653,
          15.174606508640654,
          1.174606508640653,
          0.955856508640653,
          25.455856508640654,
          1.393356508640653,
          1.424606508640653,
          16.362106508640654,
          21.877731508640654,
          10.295700258640654,
          2.194137758640653,
          0.31132525864065297,
          6.487106508640653,
          2.592575258640653,
          50.73710650864065,
          4.299606508640653,
          20.393356508640654,
          19.299606508640654,
          40.67460650864065,
          8.549606508640654,
          9.795700258640654,
          5.795700258640653,
          0.42460650864065297,
          0.799606508640653,
          33.44413775864065,
          1.393356508640653,
          41.04960650864065,
          3.678512758640653,
          0.955856508640653,
          1.455856508640653,
          3.354294008640653,
          71.10429400864065,
          2.768356508640653,
          3.205856508640653,
          1.787887758640653,
          5.897262758640653,
          8.205856508640654,
          17.080856508640654,
          2.018356508640653,
          2.893356508640653,
          1.830856508640653,
          7.705856508640653,
          79.81132525864065,
          0.47148150864065297,
          0.40507525864065297,
          0.893356508640653,
          3.612106508640653,
          42.70585650864065,
          37.63945025864065,
          47.36210650864065,
          3.764450258640653,
          0.26445025864065297,
          3.393356508640653,
          18.549606508640654,
          10.299606508640654,
          4.705856508640653,
          2.033981508640653,
          0.737106508640653,
          4.174606508640653,
          2.580856508640653,
          2.819137758640653,
          35.70585650864065,
          6.893356508640653,
          28.408981508640654,
          69.70195025864065,
          0.905075258640653,
          18.897262758640654,
          1.631637758640653,
          16.612106508640654,
          27.139450258640654,
          18.018356508640654,
          17.205856508640654,
          19.580856508640654,
          41.83085650864065,
          15.780075258640654,
          0.537887758640653,
          1.549606508640653,
          1.455856508640653,
          16.834762758640654,
          51.20585650864065,
          3.819137758640653,
          2.936325258640653,
          18.537887758640654,
          0.826950258640653,
          1.139450258640653,
          2.787887758640653,
          3.049606508640653,
          10.612106508640654,
          17.455856508640654,
          8.737106508640654,
          11.018356508640654,
          23.737106508640654,
          20.795700258640654,
          7.272262758640653,
          60.54960650864065,
          0.07695025864065297,
          21.342575258640654,
          66.39335650864065,
          4.080856508640653,
          0.31913775864065297,
          6.998825258640653,
          6.768356508640653,
          1.819137758640653,
          24.830856508640654,
          21.553512758640654,
          1.315231508640653,
          4.080856508640653,
          16.737106508640654,
          65.23710650864065,
          24.893356508640654,
          4.721481508640653,
          1.549606508640653,
          0.893356508640653,
          11.647262758640654,
          21.850387758640654,
          0.764450258640653,
          2.830856508640653,
          13.131637758640654,
          1.799606508640653,
          74.64335650864065,
          14.549606508640654,
          16.764450258640654,
          31.893356508640654,
          1.112106508640653,
          20.623825258640654,
          9.194137758640654,
          1.237106508640653,
          48.42460650864065,
          4.737106508640653,
          1.377731508640653,
          0.819137758640653,
          1.799606508640653,
          28.893356508640654,
          40.73320025864065,
          22.830856508640654,
          41.34257525864065,
          19.022262758640654,
          1.830856508640653,
          80.42460650864065,
          2.049606508640653,
          3.494919008640653,
          80.56523150864065,
          0.674606508640653,
          31.678512758640654,
          51.23710650864065,
          1.862106508640653,
          19.987106508640654,
          1.451950258640653,
          0.830856508640653,
          1.018356508640653,
          9.522262758640654,
          25.237106508640654,
          1.905075258640653,
          1.381637758640653,
          9.889450258640654,
          48.86210650864065,
          2.143356508640653,
          11.709762758640654,
          14.830856508640654,
          1.506637758640653,
          5.662887758640653,
          50.26835650864065,
          4.944137758640653,
          9.030075258640654,
          0.705856508640653,
          7.112106508640653,
          1.303512758640653,
          4.846481508640653,
          4.330856508640653,
          2.487106508640653,
          2.221481508640653,
          16.123825258640654,
          2.362106508640653,
          1.643356508640653,
          1.475387758640653,
          3.237106508640653,
          1.174606508640653,
          31.674606508640654,
          12.612106508640654,
          1.643356508640653,
          1.424606508640653,
          2.299606508640653,
          30.756637758640654,
          3.049606508640653,
          41.26835650864065,
          2.143356508640653,
          30.737106508640654,
          2.092575258640653,
          0.893356508640653,
          18.842575258640654,
          7.393356508640653,
          26.580856508640654,
          4.674606508640653,
          56.51835650864065,
          0.22538775864065297,
          1.014450258640653,
          1.268356508640653,
          19.643356508640654,
          1.830856508640653,
          2.467575258640653,
          0.569137758640653,
          41.48710650864065,
          0.643356508640653,
          33.84648150864065,
          2.612106508640653,
          5.721481508640653,
          50.33476275864065,
          3.006637758640653,
          79.75273150864065,
          4.037887758640653,
          20.830856508640654,
          4.795700258640653,
          14.178512758640654,
          15.678512758640654,
          5.256637758640653,
          5.362106508640653,
          18.451950258640654,
          4.143356508640653,
          2.983200258640653,
          1.248825258640653,
          1.725387758640653,
          2.123825258640653,
          6.643356508640653,
          4.174606508640653,
          91.34648150864065,
          18.987106508640654,
          2.741012758640653,
          28.580856508640654,
          35.51835650864065,
          15.451950258640654,
          0.924606508640653,
          0.686325258640653,
          10.049606508640654,
          23.440231508640654,
          24.584762758640654,
          23.412887758640654,
          20.709762758640654,
          4.705856508640653,
          2.362106508640653,
          2.643356508640653,
          15.889450258640654,
          4.897262758640653,
          1.237106508640653,
          18.487106508640654,
          149.04960650864066,
          2.483200258640653,
          2.112106508640653,
          1.514450258640653,
          9.018356508640654,
          32.81132525864065,
          1.604294008640653,
          0.752731508640653,
          9.248825258640654,
          3.862106508640653,
          0.678512758640653,
          5.209762758640653,
          26.100387758640654,
          0.678512758640653,
          4.862106508640653,
          5.256637758640653,
          15.705856508640654,
          27.662887758640654,
          1.174606508640653,
          2.475387758640653,
          12.455856508640654,
          4.080856508640653,
          1.549606508640653,
          2.151169008640653,
          1.893356508640653,
          3.112106508640653,
          36.86210650864065,
          67.22148150864065,
          2.737106508640653,
          3.471481508640653,
          4.080856508640653,
          0.44023150864065297,
          1.092575258640653,
          30.049606508640654,
          3.799606508640653,
          2.768356508640653,
          1.862106508640653,
          6.924606508640653,
          21.608200258640654,
          24.830856508640654,
          32.03007525864065,
          10.080856508640654,
          3.287887758640653,
          12.100387758640654,
          31.584762758640654,
          3.143356508640653,
          2.518356508640653,
          35.51835650864065,
          1.123825258640653,
          9.455856508640654,
          2.737106508640653,
          14.424606508640654,
          8.893356508640654,
          30.205856508640654,
          0.584762758640653,
          1.752731508640653,
          -0.01679974135934703,
          1.018356508640653,
          1.112106508640653,
          0.12382525864065297,
          5.006637758640653,
          11.287887758640654,
          31.858200258640654,
          2.393356508640653,
          1.330856508640653,
          0.897262758640653,
          5.326950258640653,
          28.112106508640654,
          8.350387758640654,
          1.862106508640653,
          9.783981508640654,
          5.549606508640653,
          9.768356508640654,
          1.826950258640653,
          11.819137758640654,
          2.549606508640653,
          12.561325258640654,
          2.955856508640653,
          4.268356508640653,
          2.143356508640653,
          3.143356508640653,
          17.908981508640654,
          60.49491900864065,
          9.299606508640654,
          0.17460650864065297,
          2.280075258640653,
          4.533981508640653,
          7.174606508640653,
          41.53007525864065,
          32.94413775864065,
          5.580856508640653,
          1.080856508640653,
          14.049606508640654,
          30.530075258640654,
          37.61210650864065,
          23.330856508640654,
          2.569137758640653,
          46.40898150864065,
          32.43632525864065,
          4.647262758640653,
          10.241012758640654,
          3.674606508640653,
          1.799606508640653,
          7.787887758640653,
          12.737106508640654,
          25.768356508640654,
          1.799606508640653,
          1.084762758640653,
          1.987106508640653,
          2.826950258640653,
          34.33085650864065,
          2.530075258640653,
          3.705856508640653,
          2.217575258640653,
          2.049606508640653,
          2.498825258640653,
          9.444137758640654,
          9.522262758640654,
          1.201950258640653,
          32.51445025864065,
          1.397262758640653,
          0.924606508640653,
          13.737106508640654,
          1.268356508640653,
          2.186325258640653,
          1.826950258640653,
          1.080856508640653,
          7.389450258640653,
          6.584762758640653,
          9.030075258640654,
          0.772262758640653,
          18.174606508640654,
          5.330856508640653,
          23.783981508640654,
          3.768356508640653,
          4.420700258640653,
          3.928512758640653,
          2.018356508640653,
          1.893356508640653,
          1.881637758640653,
          4.514450258640653,
          6.299606508640653,
          27.463669008640654,
          21.268356508640654,
          2.299606508640653,
          1.905075258640653,
          0.616012758640653,
          18.795700258640654,
          1.655075258640653,
          4.061325258640653,
          4.096481508640653,
          12.537887758640654,
          8.080856508640654,
          1.174606508640653,
          2.987106508640653,
          3.455856508640653,
          2.518356508640653,
          3.811325258640653,
          1.049606508640653,
          12.889450258640654,
          0.20585650864065297,
          1.987106508640653,
          0.912887758640653,
          2.705856508640653,
          4.065231508640653,
          16.799606508640654,
          15.112106508640654,
          6.764450258640653,
          30.580856508640654,
          41.29960650864065,
          1.924606508640653,
          0.924606508640653,
          17.030075258640654,
          12.237106508640654,
          2.155075258640653,
          1.264450258640653,
          1.893356508640653,
          1.518356508640653,
          2.065231508640653,
          4.670700258640653,
          1.737106508640653,
          6.241012758640653,
          3.608200258640653,
          3.987106508640653,
          0.799606508640653,
          2.080856508640653,
          2.241012758640653,
          7.268356508640653,
          3.674606508640653,
          18.299606508640654,
          0.799606508640653,
          2.643356508640653,
          1.600387758640653,
          17.690231508640654,
          11.940231508640654,
          0.11210650864065297,
          14.893356508640654,
          1.569137758640653,
          2.299606508640653,
          3.076950258640653,
          17.112106508640654,
          7.147262758640653,
          19.905075258640654,
          2.612106508640653,
          1.475387758640653,
          11.893356508640654,
          17.065231508640654,
          41.89335650864065,
          3.393356508640653,
          1.639450258640653,
          3.893356508640653,
          1.908981508640653,
          2.905075258640653,
          3.491012758640653,
          26.522262758640654,
          3.530075258640653,
          2.420700258640653,
          2.420700258640653,
          11.748825258640654,
          6.592575258640653,
          2.709762758640653,
          14.549606508640654,
          5.237106508640653,
          0.826950258640653,
          0.912887758640653,
          3.955856508640653,
          1.612106508640653,
          0.924606508640653,
          5.475387758640653,
          2.795700258640653,
          24.737106508640654,
          1.455856508640653,
          2.147262758640653,
          1.205856508640653,
          3.455856508640653,
          1.741012758640653,
          5.237106508640653,
          3.162887758640653,
          9.268356508640654,
          6.272262758640653,
          17.362106508640654,
          18.612106508640654,
          1.311325258640653,
          4.303512758640653,
          6.616012758640653,
          20.670700258640654,
          9.006637758640654,
          1.608200258640653,
          1.787887758640653,
          2.772262758640653,
          2.862106508640653,
          1.991012758640653,
          3.612106508640653,
          5.205856508640653,
          0.05351275864065297,
          1.678512758640653,
          17.205856508640654,
          7.112106508640653,
          4.112106508640653,
          19.112106508640654,
          3.084762758640653,
          3.049606508640653,
          3.362106508640653,
          1.862106508640653,
          0.850387758640653,
          2.748825258640653,
          16.764450258640654,
          1.959762758640653,
          1.174606508640653,
          10.612106508640654,
          2.080856508640653,
          1.889450258640653,
          2.893356508640653,
          32.26835650864065,
          20.530075258640654,
          1.174606508640653,
          1.420700258640653,
          2.655075258640653,
          8.580856508640654,
          1.127731508640653,
          4.670700258640653,
          3.424606508640653,
          5.237106508640653,
          1.455856508640653,
          2.393356508640653,
          3.268356508640653,
          2.576950258640653,
          1.061325258640653,
          2.295700258640653,
          8.006637758640654,
          1.830856508640653,
          2.612106508640653,
          1.705856508640653,
          5.955856508640653,
          3.483200258640653,
          11.991012758640654,
          2.424606508640653,
          1.717575258640653,
          3.408981508640653,
          4.569137758640653,
          2.018356508640653,
          2.549606508640653,
          1.549606508640653,
          15.674606508640654,
          2.655075258640653,
          2.190231508640653,
          4.893356508640653,
          5.362106508640653,
          0.787887758640653,
          1.631637758640653,
          14.143356508640654,
          2.799606508640653,
          1.686325258640653,
          2.241012758640653,
          3.487106508640653,
          6.428512758640653,
          1.049606508640653,
          2.612106508640653,
          8.924606508640654,
          3.518356508640653,
          4.893356508640653,
          1.393356508640653,
          2.330856508640653,
          0.983200258640653,
          1.241012758640653,
          40.79960650864065,
          2.018356508640653,
          1.924606508640653,
          0.737106508640653,
          3.612106508640653,
          16.803512758640654,
          12.362106508640654,
          4.616012758640653,
          2.022262758640653,
          3.170700258640653,
          1.612106508640653,
          2.721481508640653,
          4.143356508640653,
          1.268356508640653,
          4.908981508640653,
          3.799606508640653,
          2.549606508640653,
          5.393356508640653,
          2.069137758640653,
          1.924606508640653,
          1.112106508640653,
          3.569137758640653,
          4.830856508640653,
          1.155075258640653,
          11.694137758640654,
          0.987106508640653,
          4.264450258640653,
          7.283981508640653,
          2.455856508640653,
          7.455856508640653,
          2.881637758640653,
          2.268356508640653,
          5.811325258640653,
          2.612106508640653,
          4.112106508640653,
          5.350387758640653,
          0.955856508640653,
          3.209762758640653,
          2.506637758640653,
          2.080856508640653,
          20.299606508640654,
          1.666794008640653,
          4.237106508640653,
          4.299606508640653,
          4.756637758640653,
          3.299606508640653,
          2.643356508640653,
          2.420700258640653,
          2.487106508640653,
          1.080856508640653,
          3.053512758640653,
          2.998825258640653,
          2.951950258640653,
          17.834762758640654,
          2.819137758640653,
          5.424606508640653,
          1.174606508640653,
          10.362106508640654,
          6.455856508640653,
          2.768356508640653,
          3.237106508640653,
          2.487106508640653,
          3.217575258640653,
          7.143356508640653,
          10.940231508640654,
          6.893356508640653,
          5.268356508640653,
          4.502731508640653,
          2.908981508640653,
          19.080856508640654,
          3.268356508640653,
          0.08476275864065297,
          2.237106508640653,
          2.155075258640653,
          8.924606508640654,
          4.584762758640653,
          3.518356508640653,
          3.580856508640653,
          0.686325258640653,
          7.924606508640653,
          4.643356508640653,
          0.862106508640653,
          23.393356508640654,
          4.799606508640653,
          1.987106508640653,
          3.018356508640653,
          2.549606508640653,
          2.045700258640653,
          3.221481508640653,
          2.295700258640653,
          5.053512758640653,
          1.862106508640653,
          1.830856508640653,
          2.862106508640653,
          5.561325258640653,
          2.237106508640653,
          2.662887758640653,
          3.283981508640653,
          4.112106508640653,
          4.487106508640653,
          3.393356508640653,
          1.862106508640653,
          2.553512758640653,
          3.030075258640653,
          5.315231508640653,
          2.237106508640653,
          2.873825258640653,
          3.686325258640653,
          3.123825258640653,
          2.397262758640653,
          2.112106508640653,
          1.268356508640653,
          2.705856508640653,
          1.924606508640653,
          2.397262758640653,
          1.862106508640653,
          1.764450258640653,
          3.408981508640653,
          1.612106508640653,
          3.666794008640653
         ],
         "xaxis": "x",
         "y": [
          0.1,
          1.5,
          1,
          0.1,
          15,
          0.075,
          0.2,
          0.15,
          0.6,
          0.2,
          0.125,
          0.15,
          40,
          4,
          0.15,
          0.15,
          0.8,
          0.2,
          2,
          0.9,
          0.3,
          0.1,
          0.1,
          0.6,
          0.45,
          1,
          0.5,
          0.8,
          0.5,
          0.1,
          0.3,
          0.3,
          0.15,
          0.05,
          0.25,
          0.6,
          0.3,
          0.2,
          0.15,
          0.1,
          0.3,
          0.3,
          0.1,
          2.5,
          0.8,
          0.2,
          1,
          0.4,
          0.2,
          0.15,
          2,
          0.3,
          0.05,
          0.25,
          0.15,
          1.2,
          0.35,
          0.2,
          0.5,
          0.3,
          2,
          0.3,
          0.4,
          0.15,
          0.25,
          0.4,
          0.25,
          0.2,
          0.15,
          0.3,
          0.1,
          1,
          0.6,
          2.5,
          0.1,
          0.3,
          0.9,
          0.3,
          0.45,
          0.3,
          0.2,
          0.15,
          0.45,
          0.3,
          1.5,
          1,
          2.5,
          1,
          28,
          0.25,
          0.4,
          0.9,
          38,
          0.5,
          0.2,
          1.5,
          0.3,
          1.5,
          3,
          1,
          20,
          1,
          0.6,
          0.75,
          0.15,
          0.4,
          0.35,
          0.25,
          0.1,
          0.5,
          0.25,
          0.6,
          15,
          0.1,
          1,
          0.5,
          0.25,
          0.8,
          0.6,
          0.7,
          0.5,
          0.7,
          0.25,
          0.5,
          1.2,
          0.8,
          0.3,
          0.025,
          1.8,
          0.2,
          0.2,
          1,
          0.4,
          0.275,
          0.4,
          0.3,
          0.6,
          2,
          0.25,
          7,
          0.15,
          0.175,
          0.5,
          0.2,
          0.15,
          1.8,
          0.6,
          0.15,
          1,
          0.4,
          22,
          0.15,
          0.15,
          12,
          0.3,
          0.3,
          0.25,
          0.4,
          0.4,
          0.8,
          2,
          1,
          16,
          2,
          0.1,
          2,
          1.2,
          2.5,
          3,
          1.5,
          13,
          9,
          0.8,
          0.15,
          2.5,
          2.5,
          0.3,
          0.7,
          0.9,
          1.5,
          0.5,
          14,
          0.3,
          0.15,
          0.7,
          0.5,
          12,
          0.2,
          0.25,
          2,
          8,
          3.5,
          0.7,
          0.6,
          1.2,
          0.05,
          0.5,
          9,
          0.25,
          0.3,
          0.5,
          0.175,
          70,
          0.6,
          1.2,
          0.25,
          0.1,
          1.8,
          0.3,
          0.15,
          0.85,
          0.2,
          60,
          0.25,
          1,
          1.2,
          1.2,
          2,
          25,
          0.2,
          2.8,
          0.125,
          1.5,
          0.175,
          0.8,
          11,
          1.2,
          0.6,
          5,
          1.2,
          1.5,
          0.7,
          25,
          0.25,
          7,
          0.3,
          0.1,
          45,
          5,
          8,
          0.5,
          1,
          0.3,
          0.6,
          4,
          0.5,
          0.3,
          0.9,
          0.5,
          10,
          0.25,
          3,
          2.5,
          2.5,
          28,
          0.6,
          0.2,
          3,
          1,
          0.3,
          0.2,
          0.6,
          1.5,
          1.5,
          10,
          1,
          0.05,
          2,
          0.3,
          2.5,
          0.05,
          8,
          0.2,
          0.125,
          0.5,
          1.2,
          0.15,
          1,
          6,
          2,
          0.1,
          0.7,
          0.15,
          2,
          0.45,
          0.9,
          0.4,
          0.25,
          0.8,
          2,
          0.3,
          1,
          16,
          0.7,
          16,
          0.5,
          2.5,
          0.8,
          0.4,
          10,
          0.9,
          0.45,
          6,
          1.2,
          17,
          5,
          8,
          12,
          7,
          0.6,
          0.3,
          0.6,
          0.7,
          0.25,
          0.4,
          1.8,
          12,
          2,
          0.8,
          0.7,
          0.25,
          9.5,
          0.3,
          25,
          4.5,
          0.8,
          0.4,
          6,
          22,
          9,
          0.35,
          10,
          12,
          0.15,
          0.9,
          60,
          0.6,
          2.2,
          10,
          8,
          2,
          0.75,
          1.2,
          0.45,
          45,
          1.5,
          2,
          0.15,
          2.5,
          0.1,
          12,
          2.5,
          0.3,
          0.125,
          35,
          1,
          6.5,
          2,
          3.5,
          8,
          16,
          1.5,
          16,
          8,
          70,
          1.2,
          0.2,
          0.25,
          2,
          0.8,
          0.25,
          1.5,
          0.9,
          28,
          9,
          1,
          0.45,
          0.2,
          0.175,
          1.5,
          0.3,
          6,
          1,
          0.35,
          0.2,
          3.5,
          0.15,
          35,
          1.8,
          4.5,
          0.6,
          0.9,
          0.9,
          1.2,
          1,
          0.35,
          25,
          0.2,
          0.1,
          1.2,
          20,
          9,
          0.7,
          18,
          3.2,
          0.85,
          2,
          30,
          0.8,
          35,
          0.6,
          0.275,
          25,
          1.5,
          0.25,
          0.55,
          0.35,
          38,
          0.35,
          12,
          0.35,
          0.3,
          35,
          4,
          3.8,
          0.2,
          2.2,
          4.5,
          10,
          0.025,
          0.9,
          0.2,
          0.2,
          3,
          18,
          7,
          40,
          3,
          0.2,
          10,
          0.15,
          0.6,
          20,
          18,
          15,
          15,
          27,
          2.2,
          3.5,
          0.3,
          1.8,
          0.35,
          5,
          0.3,
          0.2,
          2.5,
          0.15,
          3.5,
          3,
          0.3,
          15,
          0.9,
          0.3,
          2.5,
          6,
          0.4,
          16,
          75,
          40,
          12,
          2,
          0.3,
          9,
          4,
          12,
          5,
          1,
          3,
          0.2,
          0.4,
          1,
          18,
          0.35,
          1.2,
          25,
          0.25,
          8,
          0.6,
          8,
          0.175,
          10,
          1,
          1.2,
          0.3,
          0.5,
          3.5,
          0.2,
          0.2,
          1.2,
          0.025,
          20,
          28,
          40,
          45,
          7,
          6,
          0.4,
          0.6,
          0.2,
          0.15,
          18,
          3.5,
          0.35,
          0.25,
          35,
          15,
          1.5,
          2.2,
          0.6,
          20,
          48,
          3.5,
          0.35,
          1.5,
          40,
          0.075,
          1.5,
          0.45,
          75,
          80,
          3.5,
          1.5,
          0.35,
          0.15,
          10,
          28,
          0.15,
          0.125,
          0.3,
          14,
          1.5,
          0.25,
          0.3,
          0.2,
          1,
          4,
          12,
          0.5,
          0.9,
          1.5,
          6,
          1,
          10,
          10,
          2,
          30,
          1.8,
          18,
          12,
          0.125,
          13,
          25,
          0.2,
          50,
          2.5,
          2.5,
          8,
          22,
          1.2,
          0.9,
          7,
          0.5,
          22,
          0.225,
          2,
          0.3,
          80,
          1.2,
          0.2,
          15,
          1.5,
          3,
          0.125,
          20,
          18,
          80,
          30,
          5,
          0.5,
          4.5,
          25,
          2.5,
          25,
          0.35,
          20,
          16,
          0.25,
          1.8,
          0.15,
          7,
          1.2,
          20,
          0.8,
          0.25,
          18,
          17,
          35,
          0.075,
          32,
          4,
          12,
          0.35,
          2,
          0.25,
          13,
          15,
          0.3,
          0.5,
          35,
          0.3,
          38,
          40,
          0.35,
          0.25,
          0.15,
          16,
          1.8,
          2.8,
          0.3,
          16,
          0.25,
          0.8,
          25,
          0.7,
          2,
          12,
          20,
          20,
          2,
          0.2,
          15,
          0.25,
          60,
          2.5,
          25,
          18,
          25,
          3,
          8,
          15,
          0.25,
          0.3,
          25,
          0.5,
          25,
          3.5,
          1.2,
          1.2,
          2.8,
          60,
          0.8,
          3,
          0.15,
          4.5,
          4.5,
          9,
          0.2,
          0.9,
          0.5,
          4,
          65,
          0.4,
          0.15,
          0.3,
          3.8,
          38,
          35,
          80,
          2,
          0.1,
          0.7,
          13,
          22,
          5,
          0.15,
          0.075,
          7,
          4.5,
          2,
          40,
          4,
          16,
          75,
          0.5,
          16,
          0.7,
          12,
          25,
          20,
          18,
          38,
          50,
          13,
          0.8,
          0.4,
          1,
          18,
          50,
          2.2,
          0.5,
          28,
          0.075,
          0.45,
          0.15,
          0.3,
          16,
          25,
          12,
          6,
          38,
          28,
          12,
          50,
          0.3,
          25,
          50,
          5,
          0.5,
          4.5,
          4.5,
          0.4,
          28,
          15,
          0.7,
          1,
          15,
          80,
          20,
          3,
          0.3,
          0.2,
          6,
          18,
          0.9,
          1.5,
          7,
          0.9,
          65,
          25,
          12,
          70,
          1.5,
          32,
          12,
          0.8,
          35,
          3.5,
          0.3,
          0.15,
          0.5,
          40,
          60,
          27,
          38,
          35,
          0.2,
          90,
          2.8,
          2,
          90,
          0.45,
          45,
          75,
          1.2,
          18,
          0.8,
          0.25,
          0.4,
          15,
          15,
          6,
          1.2,
          4,
          30,
          0.2,
          10,
          35,
          0.6,
          16,
          48,
          3.5,
          10,
          0.2,
          3,
          0.4,
          13,
          3,
          0.075,
          1.8,
          30,
          2.2,
          0.125,
          1.8,
          1,
          3.5,
          28,
          18,
          1.5,
          0.3,
          2,
          35,
          0.9,
          35,
          0.175,
          17,
          0.3,
          0.3,
          18,
          12,
          30,
          1.4,
          50,
          0.35,
          3.5,
          0.35,
          18,
          0.3,
          1,
          0.15,
          50,
          0.3,
          35,
          5,
          17,
          45,
          3.5,
          55,
          5,
          35,
          3,
          12,
          22,
          10,
          3.5,
          25,
          6,
          2,
          0.6,
          0.5,
          0.5,
          4,
          7,
          110,
          15,
          2.2,
          20,
          25,
          18,
          0.25,
          0.15,
          7,
          35,
          20,
          25,
          18,
          9,
          7,
          1.3,
          15,
          12,
          0.125,
          22,
          180,
          1.8,
          1.5,
          0.5,
          7,
          42,
          0.8,
          0.1,
          16,
          2.5,
          0.9,
          8,
          25,
          0.3,
          11,
          20,
          16,
          38,
          0.3,
          0.3,
          30,
          11,
          0.8,
          1.5,
          0.25,
          1.2,
          55,
          110,
          0.3,
          0.15,
          5,
          0.2,
          0.9,
          17,
          2.8,
          2.8,
          0.6,
          4,
          17,
          55,
          50,
          9,
          8,
          14,
          18,
          5,
          3.5,
          45,
          0.2,
          6,
          2.8,
          10,
          10,
          40,
          0.3,
          0.6,
          0.15,
          0.45,
          1.2,
          0.25,
          10,
          15,
          40,
          0.3,
          0.3,
          0.8,
          3.8,
          10,
          20,
          7,
          10,
          6,
          11,
          4,
          22,
          0.5,
          22,
          1,
          6,
          0.35,
          0.175,
          30,
          65,
          20,
          2.8,
          0.2,
          12,
          25,
          55,
          75,
          4,
          0.075,
          25,
          22,
          30,
          40,
          0.6,
          75,
          50,
          8,
          10,
          1.5,
          0.4,
          12,
          42,
          28,
          0.075,
          0.25,
          5,
          0.15,
          28,
          0.2,
          2,
          0.9,
          1,
          0.5,
          9,
          5,
          0.3,
          55,
          4,
          0.25,
          15,
          0.2,
          0.15,
          1.2,
          0.35,
          4.5,
          2,
          20,
          0.25,
          35,
          1.8,
          32,
          0.8,
          2,
          2.2,
          5,
          2,
          0.8,
          15,
          8,
          25,
          28,
          0.6,
          5,
          0.2,
          12,
          1,
          7,
          22,
          12,
          14,
          0.25,
          9,
          1.8,
          0.15,
          1.2,
          0.5,
          7,
          0.3,
          4,
          0.15,
          2.5,
          3,
          22,
          28,
          4,
          30,
          70,
          0.45,
          0.55,
          25,
          6,
          0.05,
          0.7,
          0.5,
          0.15,
          0.5,
          2.5,
          0.3,
          8,
          3.5,
          5,
          0.125,
          3,
          0.5,
          10,
          3,
          65,
          0.2,
          2,
          2.2,
          13,
          60,
          0.3,
          22,
          0.3,
          0.2,
          0.15,
          13,
          5,
          20,
          0.1,
          3,
          35,
          30,
          65,
          2.5,
          1.5,
          0.6,
          0.7,
          2,
          0.6,
          35,
          0.3,
          3.5,
          0.15,
          25,
          18,
          1,
          16,
          8,
          0.3,
          0.2,
          6,
          0.2,
          0.2,
          12,
          5,
          35,
          0.2,
          2.5,
          0.2,
          8,
          0.3,
          5,
          2.2,
          15,
          5,
          15,
          28,
          0.25,
          1.5,
          4,
          22,
          10,
          0.275,
          0.35,
          1.2,
          0.6,
          2.5,
          1,
          8,
          0.25,
          0.15,
          18,
          6,
          9,
          20,
          1.5,
          1,
          0.7,
          1.2,
          0.1,
          0.45,
          25,
          0.9,
          0.3,
          25,
          0.05,
          1,
          0.5,
          45,
          30,
          0.35,
          0.25,
          6,
          8,
          1.2,
          2,
          0.5,
          35,
          0.25,
          0.25,
          5,
          1,
          0.35,
          0.3,
          16,
          0.2,
          1,
          0.3,
          7,
          2.5,
          25,
          0.25,
          0.3,
          15,
          1.5,
          0.5,
          0.125,
          0.2,
          24,
          1.8,
          0.9,
          18,
          32,
          0.175,
          1,
          15,
          0.45,
          0.2,
          0.9,
          5,
          7,
          0.075,
          10,
          85,
          5,
          12,
          0.5,
          11,
          0.2,
          0.05,
          70,
          0.25,
          0.35,
          0.175,
          10,
          18,
          22,
          7,
          1.2,
          0.4,
          0.45,
          1,
          2,
          6,
          2.8,
          3,
          6,
          0.8,
          0.9,
          0.8,
          0.5,
          0.3,
          1.8,
          0.9,
          13,
          0.2,
          6,
          9,
          0.6,
          55,
          0.5,
          0.25,
          11,
          1.2,
          4,
          15,
          0.25,
          0.5,
          0.5,
          0.4,
          22,
          0.7,
          8,
          0.35,
          3,
          1,
          0.8,
          0.8,
          1.2,
          2.8,
          0.3,
          3,
          10,
          22,
          0.2,
          1.5,
          0.15,
          18,
          5,
          1,
          3,
          0.2,
          2,
          6,
          5,
          5,
          3.5,
          4,
          1,
          22,
          1,
          0.25,
          0.125,
          0.1,
          12,
          0.4,
          30,
          10,
          0.45,
          14,
          20,
          0.25,
          28,
          25,
          0.25,
          1,
          0.8,
          0.25,
          20,
          0.8,
          5,
          3.5,
          0.15,
          14,
          2,
          0.2,
          0.8,
          4,
          2,
          0.4,
          1.5,
          0.275,
          0.15,
          0.5,
          0.3,
          1.5,
          0.4,
          6,
          8,
          0.3,
          0.3,
          0.2,
          3,
          12,
          0.5,
          3,
          0.2,
          2,
          0.125,
          1.9
         ],
         "yaxis": "y"
        }
       ],
       "layout": {
        "legend": {
         "tracegroupgap": 0
        },
        "margin": {
         "t": 60
        },
        "template": {
         "data": {
          "bar": [
           {
            "error_x": {
             "color": "#2a3f5f"
            },
            "error_y": {
             "color": "#2a3f5f"
            },
            "marker": {
             "line": {
              "color": "#E5ECF6",
              "width": 0.5
             },
             "pattern": {
              "fillmode": "overlay",
              "size": 10,
              "solidity": 0.2
             }
            },
            "type": "bar"
           }
          ],
          "barpolar": [
           {
            "marker": {
             "line": {
              "color": "#E5ECF6",
              "width": 0.5
             },
             "pattern": {
              "fillmode": "overlay",
              "size": 10,
              "solidity": 0.2
             }
            },
            "type": "barpolar"
           }
          ],
          "carpet": [
           {
            "aaxis": {
             "endlinecolor": "#2a3f5f",
             "gridcolor": "white",
             "linecolor": "white",
             "minorgridcolor": "white",
             "startlinecolor": "#2a3f5f"
            },
            "baxis": {
             "endlinecolor": "#2a3f5f",
             "gridcolor": "white",
             "linecolor": "white",
             "minorgridcolor": "white",
             "startlinecolor": "#2a3f5f"
            },
            "type": "carpet"
           }
          ],
          "choropleth": [
           {
            "colorbar": {
             "outlinewidth": 0,
             "ticks": ""
            },
            "type": "choropleth"
           }
          ],
          "contour": [
           {
            "colorbar": {
             "outlinewidth": 0,
             "ticks": ""
            },
            "colorscale": [
             [
              0,
              "#0d0887"
             ],
             [
              0.1111111111111111,
              "#46039f"
             ],
             [
              0.2222222222222222,
              "#7201a8"
             ],
             [
              0.3333333333333333,
              "#9c179e"
             ],
             [
              0.4444444444444444,
              "#bd3786"
             ],
             [
              0.5555555555555556,
              "#d8576b"
             ],
             [
              0.6666666666666666,
              "#ed7953"
             ],
             [
              0.7777777777777778,
              "#fb9f3a"
             ],
             [
              0.8888888888888888,
              "#fdca26"
             ],
             [
              1,
              "#f0f921"
             ]
            ],
            "type": "contour"
           }
          ],
          "contourcarpet": [
           {
            "colorbar": {
             "outlinewidth": 0,
             "ticks": ""
            },
            "type": "contourcarpet"
           }
          ],
          "heatmap": [
           {
            "colorbar": {
             "outlinewidth": 0,
             "ticks": ""
            },
            "colorscale": [
             [
              0,
              "#0d0887"
             ],
             [
              0.1111111111111111,
              "#46039f"
             ],
             [
              0.2222222222222222,
              "#7201a8"
             ],
             [
              0.3333333333333333,
              "#9c179e"
             ],
             [
              0.4444444444444444,
              "#bd3786"
             ],
             [
              0.5555555555555556,
              "#d8576b"
             ],
             [
              0.6666666666666666,
              "#ed7953"
             ],
             [
              0.7777777777777778,
              "#fb9f3a"
             ],
             [
              0.8888888888888888,
              "#fdca26"
             ],
             [
              1,
              "#f0f921"
             ]
            ],
            "type": "heatmap"
           }
          ],
          "heatmapgl": [
           {
            "colorbar": {
             "outlinewidth": 0,
             "ticks": ""
            },
            "colorscale": [
             [
              0,
              "#0d0887"
             ],
             [
              0.1111111111111111,
              "#46039f"
             ],
             [
              0.2222222222222222,
              "#7201a8"
             ],
             [
              0.3333333333333333,
              "#9c179e"
             ],
             [
              0.4444444444444444,
              "#bd3786"
             ],
             [
              0.5555555555555556,
              "#d8576b"
             ],
             [
              0.6666666666666666,
              "#ed7953"
             ],
             [
              0.7777777777777778,
              "#fb9f3a"
             ],
             [
              0.8888888888888888,
              "#fdca26"
             ],
             [
              1,
              "#f0f921"
             ]
            ],
            "type": "heatmapgl"
           }
          ],
          "histogram": [
           {
            "marker": {
             "pattern": {
              "fillmode": "overlay",
              "size": 10,
              "solidity": 0.2
             }
            },
            "type": "histogram"
           }
          ],
          "histogram2d": [
           {
            "colorbar": {
             "outlinewidth": 0,
             "ticks": ""
            },
            "colorscale": [
             [
              0,
              "#0d0887"
             ],
             [
              0.1111111111111111,
              "#46039f"
             ],
             [
              0.2222222222222222,
              "#7201a8"
             ],
             [
              0.3333333333333333,
              "#9c179e"
             ],
             [
              0.4444444444444444,
              "#bd3786"
             ],
             [
              0.5555555555555556,
              "#d8576b"
             ],
             [
              0.6666666666666666,
              "#ed7953"
             ],
             [
              0.7777777777777778,
              "#fb9f3a"
             ],
             [
              0.8888888888888888,
              "#fdca26"
             ],
             [
              1,
              "#f0f921"
             ]
            ],
            "type": "histogram2d"
           }
          ],
          "histogram2dcontour": [
           {
            "colorbar": {
             "outlinewidth": 0,
             "ticks": ""
            },
            "colorscale": [
             [
              0,
              "#0d0887"
             ],
             [
              0.1111111111111111,
              "#46039f"
             ],
             [
              0.2222222222222222,
              "#7201a8"
             ],
             [
              0.3333333333333333,
              "#9c179e"
             ],
             [
              0.4444444444444444,
              "#bd3786"
             ],
             [
              0.5555555555555556,
              "#d8576b"
             ],
             [
              0.6666666666666666,
              "#ed7953"
             ],
             [
              0.7777777777777778,
              "#fb9f3a"
             ],
             [
              0.8888888888888888,
              "#fdca26"
             ],
             [
              1,
              "#f0f921"
             ]
            ],
            "type": "histogram2dcontour"
           }
          ],
          "mesh3d": [
           {
            "colorbar": {
             "outlinewidth": 0,
             "ticks": ""
            },
            "type": "mesh3d"
           }
          ],
          "parcoords": [
           {
            "line": {
             "colorbar": {
              "outlinewidth": 0,
              "ticks": ""
             }
            },
            "type": "parcoords"
           }
          ],
          "pie": [
           {
            "automargin": true,
            "type": "pie"
           }
          ],
          "scatter": [
           {
            "fillpattern": {
             "fillmode": "overlay",
             "size": 10,
             "solidity": 0.2
            },
            "type": "scatter"
           }
          ],
          "scatter3d": [
           {
            "line": {
             "colorbar": {
              "outlinewidth": 0,
              "ticks": ""
             }
            },
            "marker": {
             "colorbar": {
              "outlinewidth": 0,
              "ticks": ""
             }
            },
            "type": "scatter3d"
           }
          ],
          "scattercarpet": [
           {
            "marker": {
             "colorbar": {
              "outlinewidth": 0,
              "ticks": ""
             }
            },
            "type": "scattercarpet"
           }
          ],
          "scattergeo": [
           {
            "marker": {
             "colorbar": {
              "outlinewidth": 0,
              "ticks": ""
             }
            },
            "type": "scattergeo"
           }
          ],
          "scattergl": [
           {
            "marker": {
             "colorbar": {
              "outlinewidth": 0,
              "ticks": ""
             }
            },
            "type": "scattergl"
           }
          ],
          "scattermapbox": [
           {
            "marker": {
             "colorbar": {
              "outlinewidth": 0,
              "ticks": ""
             }
            },
            "type": "scattermapbox"
           }
          ],
          "scatterpolar": [
           {
            "marker": {
             "colorbar": {
              "outlinewidth": 0,
              "ticks": ""
             }
            },
            "type": "scatterpolar"
           }
          ],
          "scatterpolargl": [
           {
            "marker": {
             "colorbar": {
              "outlinewidth": 0,
              "ticks": ""
             }
            },
            "type": "scatterpolargl"
           }
          ],
          "scatterternary": [
           {
            "marker": {
             "colorbar": {
              "outlinewidth": 0,
              "ticks": ""
             }
            },
            "type": "scatterternary"
           }
          ],
          "surface": [
           {
            "colorbar": {
             "outlinewidth": 0,
             "ticks": ""
            },
            "colorscale": [
             [
              0,
              "#0d0887"
             ],
             [
              0.1111111111111111,
              "#46039f"
             ],
             [
              0.2222222222222222,
              "#7201a8"
             ],
             [
              0.3333333333333333,
              "#9c179e"
             ],
             [
              0.4444444444444444,
              "#bd3786"
             ],
             [
              0.5555555555555556,
              "#d8576b"
             ],
             [
              0.6666666666666666,
              "#ed7953"
             ],
             [
              0.7777777777777778,
              "#fb9f3a"
             ],
             [
              0.8888888888888888,
              "#fdca26"
             ],
             [
              1,
              "#f0f921"
             ]
            ],
            "type": "surface"
           }
          ],
          "table": [
           {
            "cells": {
             "fill": {
              "color": "#EBF0F8"
             },
             "line": {
              "color": "white"
             }
            },
            "header": {
             "fill": {
              "color": "#C8D4E3"
             },
             "line": {
              "color": "white"
             }
            },
            "type": "table"
           }
          ]
         },
         "layout": {
          "annotationdefaults": {
           "arrowcolor": "#2a3f5f",
           "arrowhead": 0,
           "arrowwidth": 1
          },
          "autotypenumbers": "strict",
          "coloraxis": {
           "colorbar": {
            "outlinewidth": 0,
            "ticks": ""
           }
          },
          "colorscale": {
           "diverging": [
            [
             0,
             "#8e0152"
            ],
            [
             0.1,
             "#c51b7d"
            ],
            [
             0.2,
             "#de77ae"
            ],
            [
             0.3,
             "#f1b6da"
            ],
            [
             0.4,
             "#fde0ef"
            ],
            [
             0.5,
             "#f7f7f7"
            ],
            [
             0.6,
             "#e6f5d0"
            ],
            [
             0.7,
             "#b8e186"
            ],
            [
             0.8,
             "#7fbc41"
            ],
            [
             0.9,
             "#4d9221"
            ],
            [
             1,
             "#276419"
            ]
           ],
           "sequential": [
            [
             0,
             "#0d0887"
            ],
            [
             0.1111111111111111,
             "#46039f"
            ],
            [
             0.2222222222222222,
             "#7201a8"
            ],
            [
             0.3333333333333333,
             "#9c179e"
            ],
            [
             0.4444444444444444,
             "#bd3786"
            ],
            [
             0.5555555555555556,
             "#d8576b"
            ],
            [
             0.6666666666666666,
             "#ed7953"
            ],
            [
             0.7777777777777778,
             "#fb9f3a"
            ],
            [
             0.8888888888888888,
             "#fdca26"
            ],
            [
             1,
             "#f0f921"
            ]
           ],
           "sequentialminus": [
            [
             0,
             "#0d0887"
            ],
            [
             0.1111111111111111,
             "#46039f"
            ],
            [
             0.2222222222222222,
             "#7201a8"
            ],
            [
             0.3333333333333333,
             "#9c179e"
            ],
            [
             0.4444444444444444,
             "#bd3786"
            ],
            [
             0.5555555555555556,
             "#d8576b"
            ],
            [
             0.6666666666666666,
             "#ed7953"
            ],
            [
             0.7777777777777778,
             "#fb9f3a"
            ],
            [
             0.8888888888888888,
             "#fdca26"
            ],
            [
             1,
             "#f0f921"
            ]
           ]
          },
          "colorway": [
           "#636efa",
           "#EF553B",
           "#00cc96",
           "#ab63fa",
           "#FFA15A",
           "#19d3f3",
           "#FF6692",
           "#B6E880",
           "#FF97FF",
           "#FECB52"
          ],
          "font": {
           "color": "#2a3f5f"
          },
          "geo": {
           "bgcolor": "white",
           "lakecolor": "white",
           "landcolor": "#E5ECF6",
           "showlakes": true,
           "showland": true,
           "subunitcolor": "white"
          },
          "hoverlabel": {
           "align": "left"
          },
          "hovermode": "closest",
          "mapbox": {
           "style": "light"
          },
          "paper_bgcolor": "white",
          "plot_bgcolor": "#E5ECF6",
          "polar": {
           "angularaxis": {
            "gridcolor": "white",
            "linecolor": "white",
            "ticks": ""
           },
           "bgcolor": "#E5ECF6",
           "radialaxis": {
            "gridcolor": "white",
            "linecolor": "white",
            "ticks": ""
           }
          },
          "scene": {
           "xaxis": {
            "backgroundcolor": "#E5ECF6",
            "gridcolor": "white",
            "gridwidth": 2,
            "linecolor": "white",
            "showbackground": true,
            "ticks": "",
            "zerolinecolor": "white"
           },
           "yaxis": {
            "backgroundcolor": "#E5ECF6",
            "gridcolor": "white",
            "gridwidth": 2,
            "linecolor": "white",
            "showbackground": true,
            "ticks": "",
            "zerolinecolor": "white"
           },
           "zaxis": {
            "backgroundcolor": "#E5ECF6",
            "gridcolor": "white",
            "gridwidth": 2,
            "linecolor": "white",
            "showbackground": true,
            "ticks": "",
            "zerolinecolor": "white"
           }
          },
          "shapedefaults": {
           "line": {
            "color": "#2a3f5f"
           }
          },
          "ternary": {
           "aaxis": {
            "gridcolor": "white",
            "linecolor": "white",
            "ticks": ""
           },
           "baxis": {
            "gridcolor": "white",
            "linecolor": "white",
            "ticks": ""
           },
           "bgcolor": "#E5ECF6",
           "caxis": {
            "gridcolor": "white",
            "linecolor": "white",
            "ticks": ""
           }
          },
          "title": {
           "x": 0.05
          },
          "xaxis": {
           "automargin": true,
           "gridcolor": "white",
           "linecolor": "white",
           "ticks": "",
           "title": {
            "standoff": 15
           },
           "zerolinecolor": "white",
           "zerolinewidth": 2
          },
          "yaxis": {
           "automargin": true,
           "gridcolor": "white",
           "linecolor": "white",
           "ticks": "",
           "title": {
            "standoff": 15
           },
           "zerolinecolor": "white",
           "zerolinewidth": 2
          }
         }
        },
        "xaxis": {
         "anchor": "y",
         "domain": [
          0,
          1
         ],
         "title": {
          "text": "predicted_value"
         }
        },
        "yaxis": {
         "anchor": "x",
         "domain": [
          0,
          1
         ],
         "title": {
          "text": "market_value_in_million_eur"
         }
        }
       }
      }
     },
     "metadata": {},
     "output_type": "display_data"
    }
   ],
   "source": [
    "\n",
    "\n",
    "predicted_dfs, regressor, y_test = predict_future_values(\n",
    "    pdf_train, \n",
    "    pdf_test,\n",
    "    prediction_years=[2023, 2024, 2025, 2026, 2027, 2028, 2029, 2030, 2031, 2032, 2033, 2034, 2035, 2036, 2037, 2038],\n",
    "    features=features\n",
    ")\n",
    "\n",
    "forecast_df = pd.concat(predicted_dfs, ignore_index=True)"
   ]
  },
  {
   "cell_type": "code",
   "execution_count": 15,
   "id": "bc877592",
   "metadata": {},
   "outputs": [
    {
     "name": "stdout",
     "output_type": "stream",
     "text": [
      "\n",
      "🔎 Linear Regression Coefficients:\n",
      "                  Feature   Coefficient\n",
      "             pos_Midfield  4.527522e+13\n",
      "  subpos_Central Midfield -3.595594e+13\n",
      "               pos_Attack -3.020938e+13\n",
      "subpos_Defensive Midfield -2.711754e+13\n",
      "    subpos_Centre-Forward  2.367010e+13\n",
      "subpos_Attacking Midfield -2.184396e+13\n",
      "      subpos_Right Winger  1.519692e+13\n",
      "       subpos_Left Winger  1.369254e+13\n",
      "     subpos_Left Midfield -1.234157e+13\n",
      "             pos_Defender -9.535522e+12\n",
      "    subpos_Right Midfield -8.684143e+12\n",
      "           pos_Goalkeeper -6.868689e+12\n",
      "       subpos_Centre-Back  6.732175e+12\n",
      "        subpos_Goalkeeper  5.921704e+12\n",
      "        subpos_Right-Back  4.882661e+12\n",
      "    subpos_Second Striker  4.659674e+12\n",
      "         subpos_Left-Back  4.311243e+12\n",
      "        team_goals_scored -5.265372e+11\n",
      "      team_goals_conceded  5.199064e+11\n",
      "     team_goal_difference  3.667170e+11\n",
      "          value_last_year  1.002849e+01\n",
      "            age_last_year -7.662475e-01\n",
      "      contract_years_left  4.831260e-01\n",
      "                 team_ppg -1.746809e-01\n"
     ]
    }
   ],
   "source": [
    "# Print coefficients\n",
    "coef_df = pd.DataFrame({\n",
    "    \"Feature\": features,\n",
    "    \"Coefficient\": regressor.coef_\n",
    "}).sort_values(by=\"Coefficient\", key=abs, ascending=False)\n",
    "\n",
    "print(\"\\n🔎 Linear Regression Coefficients:\")\n",
    "print(coef_df.to_string(index=False))"
   ]
  },
  {
   "cell_type": "code",
   "execution_count": 16,
   "id": "40b825f0",
   "metadata": {},
   "outputs": [],
   "source": [
    "# Merge with actual market values for evaluation\n",
    "\n",
    "merged = forecast_df.merge(pdf_test[[\"player_id\", \"name\"]], on=[\"player_id\"], how=\"left\")\n",
    "end = time.time()\n",
    "diff = end - start"
   ]
  },
  {
   "cell_type": "code",
   "execution_count": 17,
   "id": "6304edb9",
   "metadata": {},
   "outputs": [
    {
     "data": {
      "application/vnd.plotly.v1+json": {
       "config": {
        "plotlyServerURL": "https://plot.ly"
       },
       "data": [
        {
         "customdata": [
          [
           22
          ],
          [
           23
          ],
          [
           24
          ],
          [
           25
          ],
          [
           27
          ],
          [
           27
          ],
          [
           28
          ],
          [
           30
          ],
          [
           31
          ],
          [
           32
          ],
          [
           33
          ],
          [
           34
          ],
          [
           35
          ],
          [
           36
          ],
          [
           37
          ],
          [
           38
          ],
          [
           39
          ],
          [
           40
          ],
          [
           41
          ],
          [
           42
          ],
          [
           43
          ],
          [
           44
          ],
          [
           45
          ],
          [
           46
          ]
         ],
         "hovertemplate": "name=Mohamed Salah<br>year=%{x}<br>predicted_value=%{y}<br>age=%{customdata[0]}<extra></extra>",
         "legendgroup": "Mohamed Salah",
         "line": {
          "color": "#636efa",
          "dash": "solid"
         },
         "marker": {
          "symbol": "circle"
         },
         "mode": "lines",
         "name": "Mohamed Salah",
         "orientation": "v",
         "showlegend": true,
         "type": "scatter",
         "x": [
          2015,
          2016,
          2017,
          2018,
          2019,
          2020,
          2021,
          2022,
          2023,
          2024,
          2025,
          2026,
          2027,
          2028,
          2029,
          2030,
          2031,
          2032,
          2033,
          2034,
          2035,
          2036,
          2037,
          2038
         ],
         "xaxis": "x",
         "y": [
          10,
          20,
          30,
          80,
          150,
          120,
          110,
          90,
          89.08085650864065,
          87.84648150864065,
          86.48710650864065,
          85.01835650864065,
          83.42460650864065,
          81.72148150864065,
          79.90898150864065,
          78.00273150864065,
          75.98710650864065,
          73.87773150864065,
          71.67460650864065,
          69.37773150864065,
          66.98710650864065,
          64.51835650864065,
          61.97148150864065,
          59.34648150864065
         ],
         "yaxis": "y"
        },
        {
         "customdata": [
          [
           19
          ],
          [
           20
          ],
          [
           21
          ],
          [
           22
          ],
          [
           23
          ],
          [
           24
          ],
          [
           25
          ],
          [
           26
          ],
          [
           27
          ],
          [
           28
          ],
          [
           29
          ],
          [
           30
          ],
          [
           31
          ],
          [
           32
          ],
          [
           33
          ],
          [
           34
          ],
          [
           35
          ],
          [
           36
          ],
          [
           37
          ],
          [
           38
          ],
          [
           39
          ],
          [
           40
          ],
          [
           41
          ]
         ],
         "hovertemplate": "name=Wilfred Ndidi<br>year=%{x}<br>predicted_value=%{y}<br>age=%{customdata[0]}<extra></extra>",
         "legendgroup": "Wilfred Ndidi",
         "line": {
          "color": "#EF553B",
          "dash": "solid"
         },
         "marker": {
          "symbol": "circle"
         },
         "mode": "lines",
         "name": "Wilfred Ndidi",
         "orientation": "v",
         "showlegend": true,
         "type": "scatter",
         "x": [
          2016,
          2017,
          2018,
          2019,
          2020,
          2021,
          2022,
          2023,
          2024,
          2025,
          2026,
          2027,
          2028,
          2029,
          2030,
          2031,
          2032,
          2033,
          2034,
          2035,
          2036,
          2037,
          2038
         ],
         "xaxis": "x",
         "y": [
          1,
          14,
          18,
          35,
          36,
          50,
          60,
          58.61210650864065,
          56.92460650864065,
          54.95585650864065,
          52.70585650864065,
          50.36210650864065,
          47.92460650864065,
          45.42460650864065,
          42.83085650864065,
          40.17460650864065,
          37.42460650864065,
          34.61210650864065,
          31.737106508640654,
          28.768356508640654,
          25.737106508640654,
          22.643356508640654,
          19.487106508640654
         ],
         "yaxis": "y"
        },
        {
         "customdata": [
          [
           18
          ],
          [
           20
          ],
          [
           21
          ],
          [
           22
          ],
          [
           23
          ],
          [
           24
          ],
          [
           25
          ],
          [
           26
          ],
          [
           27
          ],
          [
           28
          ],
          [
           29
          ],
          [
           30
          ],
          [
           31
          ],
          [
           32
          ],
          [
           33
          ],
          [
           34
          ],
          [
           35
          ],
          [
           36
          ],
          [
           37
          ],
          [
           38
          ],
          [
           39
          ]
         ],
         "hovertemplate": "name=Declan Rice<br>year=%{x}<br>predicted_value=%{y}<br>age=%{customdata[0]}<extra></extra>",
         "legendgroup": "Declan Rice",
         "line": {
          "color": "#00cc96",
          "dash": "solid"
         },
         "marker": {
          "symbol": "circle"
         },
         "mode": "lines",
         "name": "Declan Rice",
         "orientation": "v",
         "showlegend": true,
         "type": "scatter",
         "x": [
          2018,
          2019,
          2020,
          2021,
          2022,
          2023,
          2024,
          2025,
          2026,
          2027,
          2028,
          2029,
          2030,
          2031,
          2032,
          2033,
          2034,
          2035,
          2036,
          2037,
          2038
         ],
         "xaxis": "x",
         "y": [
          2,
          35,
          49.5,
          60,
          80,
          80.56523150864065,
          80.76835650864065,
          80.62773150864065,
          80.15898150864065,
          79.36210650864065,
          78.42460650864065,
          77.36210650864065,
          76.17460650864065,
          74.86210650864065,
          73.42460650864065,
          71.86210650864065,
          70.19023150864065,
          68.40898150864065,
          66.53398150864065,
          64.54960650864065,
          62.47148150864065
         ],
         "yaxis": "y"
        },
        {
         "customdata": [
          [
           17
          ],
          [
           18
          ],
          [
           18
          ],
          [
           19
          ],
          [
           20
          ],
          [
           21
          ],
          [
           22
          ],
          [
           23
          ],
          [
           24
          ],
          [
           25
          ],
          [
           26
          ],
          [
           27
          ],
          [
           28
          ],
          [
           29
          ],
          [
           30
          ],
          [
           31
          ],
          [
           32
          ],
          [
           33
          ],
          [
           34
          ],
          [
           35
          ],
          [
           36
          ],
          [
           37
          ]
         ],
         "hovertemplate": "name=Erling Haaland<br>year=%{x}<br>predicted_value=%{y}<br>age=%{customdata[0]}<extra></extra>",
         "legendgroup": "Erling Haaland",
         "line": {
          "color": "#ab63fa",
          "dash": "solid"
         },
         "marker": {
          "symbol": "circle"
         },
         "mode": "lines",
         "name": "Erling Haaland",
         "orientation": "v",
         "showlegend": true,
         "type": "scatter",
         "x": [
          2017,
          2018,
          2019,
          2020,
          2021,
          2022,
          2023,
          2024,
          2025,
          2026,
          2027,
          2028,
          2029,
          2030,
          2031,
          2032,
          2033,
          2034,
          2035,
          2036,
          2037,
          2038
         ],
         "xaxis": "x",
         "y": [
          0.3,
          2,
          5,
          60,
          110,
          150,
          149.04960650864066,
          147.79960650864066,
          146.26835650864066,
          144.42460650864066,
          142.33085650864066,
          139.95585650864066,
          137.48710650864066,
          134.95585650864066,
          132.33085650864066,
          129.64335650864066,
          126.86210650864065,
          124.01835650864065,
          121.11210650864065,
          118.11210650864065,
          115.04960650864065,
          111.92460650864065
         ],
         "yaxis": "y"
        },
        {
         "customdata": [
          [
           20
          ],
          [
           21
          ],
          [
           22
          ],
          [
           23
          ],
          [
           24
          ],
          [
           25
          ],
          [
           26
          ],
          [
           27
          ],
          [
           28
          ],
          [
           29
          ],
          [
           30
          ],
          [
           31
          ],
          [
           32
          ],
          [
           33
          ],
          [
           34
          ],
          [
           35
          ],
          [
           36
          ],
          [
           37
          ],
          [
           38
          ]
         ],
         "hovertemplate": "name=Illan Meslier<br>year=%{x}<br>predicted_value=%{y}<br>age=%{customdata[0]}<extra></extra>",
         "legendgroup": "Illan Meslier",
         "line": {
          "color": "#FFA15A",
          "dash": "solid"
         },
         "marker": {
          "symbol": "circle"
         },
         "mode": "lines",
         "name": "Illan Meslier",
         "orientation": "v",
         "showlegend": true,
         "type": "scatter",
         "x": [
          2020,
          2021,
          2022,
          2023,
          2024,
          2025,
          2026,
          2027,
          2028,
          2029,
          2030,
          2031,
          2032,
          2033,
          2034,
          2035,
          2036,
          2037,
          2038
         ],
         "xaxis": "x",
         "y": [
          5,
          17,
          20,
          19.905075258640654,
          19.475387758640654,
          18.725387758640654,
          17.834762758640654,
          16.811325258640654,
          15.655075258640654,
          14.373825258640654,
          12.967575258640654,
          11.444137758640654,
          9.811325258640654,
          8.069137758640654,
          6.217575258640653,
          4.264450258640653,
          2.209762758640653,
          0.06132525864065297,
          -2.180862241359347
         ],
         "yaxis": "y"
        },
        {
         "customdata": [
          [
           17
          ],
          [
           17
          ],
          [
           18
          ],
          [
           19
          ],
          [
           20
          ],
          [
           21
          ],
          [
           22
          ],
          [
           23
          ],
          [
           24
          ],
          [
           25
          ],
          [
           26
          ],
          [
           27
          ],
          [
           28
          ],
          [
           29
          ],
          [
           30
          ],
          [
           31
          ],
          [
           32
          ],
          [
           33
          ],
          [
           34
          ]
         ],
         "hovertemplate": "name=Harvey Elliott<br>year=%{x}<br>predicted_value=%{y}<br>age=%{customdata[0]}<extra></extra>",
         "legendgroup": "Harvey Elliott",
         "line": {
          "color": "#19d3f3",
          "dash": "solid"
         },
         "marker": {
          "symbol": "circle"
         },
         "mode": "lines",
         "name": "Harvey Elliott",
         "orientation": "v",
         "showlegend": true,
         "type": "scatter",
         "x": [
          2020,
          2021,
          2022,
          2023,
          2024,
          2025,
          2026,
          2027,
          2028,
          2029,
          2030,
          2031,
          2032,
          2033,
          2034,
          2035,
          2036,
          2037,
          2038
         ],
         "xaxis": "x",
         "y": [
          3.6,
          15,
          22,
          24.737106508640654,
          27.049606508640654,
          28.955856508640654,
          30.455856508640654,
          31.737106508640654,
          32.79960650864065,
          33.67460650864065,
          34.36210650864065,
          34.86210650864065,
          35.17460650864065,
          35.33085650864065,
          35.29960650864065,
          35.11210650864065,
          34.76835650864065,
          34.26835650864065,
          33.61210650864065
         ],
         "yaxis": "y"
        },
        {
         "customdata": [
          [
           18
          ],
          [
           19
          ],
          [
           20
          ],
          [
           21
          ],
          [
           22
          ],
          [
           23
          ],
          [
           24
          ],
          [
           25
          ],
          [
           26
          ],
          [
           27
          ],
          [
           28
          ],
          [
           29
          ],
          [
           30
          ],
          [
           31
          ],
          [
           32
          ],
          [
           33
          ]
         ],
         "hovertemplate": "name=Ashley Phillips<br>year=%{x}<br>predicted_value=%{y}<br>age=%{customdata[0]}<extra></extra>",
         "legendgroup": "Ashley Phillips",
         "line": {
          "color": "#FF6692",
          "dash": "solid"
         },
         "marker": {
          "symbol": "circle"
         },
         "mode": "lines",
         "name": "Ashley Phillips",
         "orientation": "v",
         "showlegend": true,
         "type": "scatter",
         "x": [
          2023,
          2024,
          2025,
          2026,
          2027,
          2028,
          2029,
          2030,
          2031,
          2032,
          2033,
          2034,
          2035,
          2036,
          2037,
          2038
         ],
         "xaxis": "x",
         "y": [
          5.561325258640653,
          7.717575258640653,
          9.639450258640654,
          11.334762758640654,
          12.811325258640654,
          14.076950258640654,
          15.139450258640654,
          15.998825258640654,
          16.670700258640654,
          17.155075258640654,
          17.459762758640654,
          17.592575258640654,
          17.561325258640654,
          17.366012758640654,
          17.014450258640654,
          16.506637758640654
         ],
         "yaxis": "y"
        }
       ],
       "layout": {
        "annotations": [
         {
          "showarrow": false,
          "text": "2022/2023 boundary",
          "x": 2022.5,
          "xanchor": "left",
          "xref": "x",
          "y": 1,
          "yanchor": "top",
          "yref": "y domain"
         }
        ],
        "legend": {
         "title": {
          "text": "name"
         },
         "tracegroupgap": 0
        },
        "shapes": [
         {
          "line": {
           "color": "red",
           "dash": "dash"
          },
          "type": "line",
          "x0": 2022.5,
          "x1": 2022.5,
          "xref": "x",
          "y0": 0,
          "y1": 1,
          "yref": "y domain"
         }
        ],
        "template": {
         "data": {
          "bar": [
           {
            "error_x": {
             "color": "#2a3f5f"
            },
            "error_y": {
             "color": "#2a3f5f"
            },
            "marker": {
             "line": {
              "color": "#E5ECF6",
              "width": 0.5
             },
             "pattern": {
              "fillmode": "overlay",
              "size": 10,
              "solidity": 0.2
             }
            },
            "type": "bar"
           }
          ],
          "barpolar": [
           {
            "marker": {
             "line": {
              "color": "#E5ECF6",
              "width": 0.5
             },
             "pattern": {
              "fillmode": "overlay",
              "size": 10,
              "solidity": 0.2
             }
            },
            "type": "barpolar"
           }
          ],
          "carpet": [
           {
            "aaxis": {
             "endlinecolor": "#2a3f5f",
             "gridcolor": "white",
             "linecolor": "white",
             "minorgridcolor": "white",
             "startlinecolor": "#2a3f5f"
            },
            "baxis": {
             "endlinecolor": "#2a3f5f",
             "gridcolor": "white",
             "linecolor": "white",
             "minorgridcolor": "white",
             "startlinecolor": "#2a3f5f"
            },
            "type": "carpet"
           }
          ],
          "choropleth": [
           {
            "colorbar": {
             "outlinewidth": 0,
             "ticks": ""
            },
            "type": "choropleth"
           }
          ],
          "contour": [
           {
            "colorbar": {
             "outlinewidth": 0,
             "ticks": ""
            },
            "colorscale": [
             [
              0,
              "#0d0887"
             ],
             [
              0.1111111111111111,
              "#46039f"
             ],
             [
              0.2222222222222222,
              "#7201a8"
             ],
             [
              0.3333333333333333,
              "#9c179e"
             ],
             [
              0.4444444444444444,
              "#bd3786"
             ],
             [
              0.5555555555555556,
              "#d8576b"
             ],
             [
              0.6666666666666666,
              "#ed7953"
             ],
             [
              0.7777777777777778,
              "#fb9f3a"
             ],
             [
              0.8888888888888888,
              "#fdca26"
             ],
             [
              1,
              "#f0f921"
             ]
            ],
            "type": "contour"
           }
          ],
          "contourcarpet": [
           {
            "colorbar": {
             "outlinewidth": 0,
             "ticks": ""
            },
            "type": "contourcarpet"
           }
          ],
          "heatmap": [
           {
            "colorbar": {
             "outlinewidth": 0,
             "ticks": ""
            },
            "colorscale": [
             [
              0,
              "#0d0887"
             ],
             [
              0.1111111111111111,
              "#46039f"
             ],
             [
              0.2222222222222222,
              "#7201a8"
             ],
             [
              0.3333333333333333,
              "#9c179e"
             ],
             [
              0.4444444444444444,
              "#bd3786"
             ],
             [
              0.5555555555555556,
              "#d8576b"
             ],
             [
              0.6666666666666666,
              "#ed7953"
             ],
             [
              0.7777777777777778,
              "#fb9f3a"
             ],
             [
              0.8888888888888888,
              "#fdca26"
             ],
             [
              1,
              "#f0f921"
             ]
            ],
            "type": "heatmap"
           }
          ],
          "heatmapgl": [
           {
            "colorbar": {
             "outlinewidth": 0,
             "ticks": ""
            },
            "colorscale": [
             [
              0,
              "#0d0887"
             ],
             [
              0.1111111111111111,
              "#46039f"
             ],
             [
              0.2222222222222222,
              "#7201a8"
             ],
             [
              0.3333333333333333,
              "#9c179e"
             ],
             [
              0.4444444444444444,
              "#bd3786"
             ],
             [
              0.5555555555555556,
              "#d8576b"
             ],
             [
              0.6666666666666666,
              "#ed7953"
             ],
             [
              0.7777777777777778,
              "#fb9f3a"
             ],
             [
              0.8888888888888888,
              "#fdca26"
             ],
             [
              1,
              "#f0f921"
             ]
            ],
            "type": "heatmapgl"
           }
          ],
          "histogram": [
           {
            "marker": {
             "pattern": {
              "fillmode": "overlay",
              "size": 10,
              "solidity": 0.2
             }
            },
            "type": "histogram"
           }
          ],
          "histogram2d": [
           {
            "colorbar": {
             "outlinewidth": 0,
             "ticks": ""
            },
            "colorscale": [
             [
              0,
              "#0d0887"
             ],
             [
              0.1111111111111111,
              "#46039f"
             ],
             [
              0.2222222222222222,
              "#7201a8"
             ],
             [
              0.3333333333333333,
              "#9c179e"
             ],
             [
              0.4444444444444444,
              "#bd3786"
             ],
             [
              0.5555555555555556,
              "#d8576b"
             ],
             [
              0.6666666666666666,
              "#ed7953"
             ],
             [
              0.7777777777777778,
              "#fb9f3a"
             ],
             [
              0.8888888888888888,
              "#fdca26"
             ],
             [
              1,
              "#f0f921"
             ]
            ],
            "type": "histogram2d"
           }
          ],
          "histogram2dcontour": [
           {
            "colorbar": {
             "outlinewidth": 0,
             "ticks": ""
            },
            "colorscale": [
             [
              0,
              "#0d0887"
             ],
             [
              0.1111111111111111,
              "#46039f"
             ],
             [
              0.2222222222222222,
              "#7201a8"
             ],
             [
              0.3333333333333333,
              "#9c179e"
             ],
             [
              0.4444444444444444,
              "#bd3786"
             ],
             [
              0.5555555555555556,
              "#d8576b"
             ],
             [
              0.6666666666666666,
              "#ed7953"
             ],
             [
              0.7777777777777778,
              "#fb9f3a"
             ],
             [
              0.8888888888888888,
              "#fdca26"
             ],
             [
              1,
              "#f0f921"
             ]
            ],
            "type": "histogram2dcontour"
           }
          ],
          "mesh3d": [
           {
            "colorbar": {
             "outlinewidth": 0,
             "ticks": ""
            },
            "type": "mesh3d"
           }
          ],
          "parcoords": [
           {
            "line": {
             "colorbar": {
              "outlinewidth": 0,
              "ticks": ""
             }
            },
            "type": "parcoords"
           }
          ],
          "pie": [
           {
            "automargin": true,
            "type": "pie"
           }
          ],
          "scatter": [
           {
            "fillpattern": {
             "fillmode": "overlay",
             "size": 10,
             "solidity": 0.2
            },
            "type": "scatter"
           }
          ],
          "scatter3d": [
           {
            "line": {
             "colorbar": {
              "outlinewidth": 0,
              "ticks": ""
             }
            },
            "marker": {
             "colorbar": {
              "outlinewidth": 0,
              "ticks": ""
             }
            },
            "type": "scatter3d"
           }
          ],
          "scattercarpet": [
           {
            "marker": {
             "colorbar": {
              "outlinewidth": 0,
              "ticks": ""
             }
            },
            "type": "scattercarpet"
           }
          ],
          "scattergeo": [
           {
            "marker": {
             "colorbar": {
              "outlinewidth": 0,
              "ticks": ""
             }
            },
            "type": "scattergeo"
           }
          ],
          "scattergl": [
           {
            "marker": {
             "colorbar": {
              "outlinewidth": 0,
              "ticks": ""
             }
            },
            "type": "scattergl"
           }
          ],
          "scattermapbox": [
           {
            "marker": {
             "colorbar": {
              "outlinewidth": 0,
              "ticks": ""
             }
            },
            "type": "scattermapbox"
           }
          ],
          "scatterpolar": [
           {
            "marker": {
             "colorbar": {
              "outlinewidth": 0,
              "ticks": ""
             }
            },
            "type": "scatterpolar"
           }
          ],
          "scatterpolargl": [
           {
            "marker": {
             "colorbar": {
              "outlinewidth": 0,
              "ticks": ""
             }
            },
            "type": "scatterpolargl"
           }
          ],
          "scatterternary": [
           {
            "marker": {
             "colorbar": {
              "outlinewidth": 0,
              "ticks": ""
             }
            },
            "type": "scatterternary"
           }
          ],
          "surface": [
           {
            "colorbar": {
             "outlinewidth": 0,
             "ticks": ""
            },
            "colorscale": [
             [
              0,
              "#0d0887"
             ],
             [
              0.1111111111111111,
              "#46039f"
             ],
             [
              0.2222222222222222,
              "#7201a8"
             ],
             [
              0.3333333333333333,
              "#9c179e"
             ],
             [
              0.4444444444444444,
              "#bd3786"
             ],
             [
              0.5555555555555556,
              "#d8576b"
             ],
             [
              0.6666666666666666,
              "#ed7953"
             ],
             [
              0.7777777777777778,
              "#fb9f3a"
             ],
             [
              0.8888888888888888,
              "#fdca26"
             ],
             [
              1,
              "#f0f921"
             ]
            ],
            "type": "surface"
           }
          ],
          "table": [
           {
            "cells": {
             "fill": {
              "color": "#EBF0F8"
             },
             "line": {
              "color": "white"
             }
            },
            "header": {
             "fill": {
              "color": "#C8D4E3"
             },
             "line": {
              "color": "white"
             }
            },
            "type": "table"
           }
          ]
         },
         "layout": {
          "annotationdefaults": {
           "arrowcolor": "#2a3f5f",
           "arrowhead": 0,
           "arrowwidth": 1
          },
          "autotypenumbers": "strict",
          "coloraxis": {
           "colorbar": {
            "outlinewidth": 0,
            "ticks": ""
           }
          },
          "colorscale": {
           "diverging": [
            [
             0,
             "#8e0152"
            ],
            [
             0.1,
             "#c51b7d"
            ],
            [
             0.2,
             "#de77ae"
            ],
            [
             0.3,
             "#f1b6da"
            ],
            [
             0.4,
             "#fde0ef"
            ],
            [
             0.5,
             "#f7f7f7"
            ],
            [
             0.6,
             "#e6f5d0"
            ],
            [
             0.7,
             "#b8e186"
            ],
            [
             0.8,
             "#7fbc41"
            ],
            [
             0.9,
             "#4d9221"
            ],
            [
             1,
             "#276419"
            ]
           ],
           "sequential": [
            [
             0,
             "#0d0887"
            ],
            [
             0.1111111111111111,
             "#46039f"
            ],
            [
             0.2222222222222222,
             "#7201a8"
            ],
            [
             0.3333333333333333,
             "#9c179e"
            ],
            [
             0.4444444444444444,
             "#bd3786"
            ],
            [
             0.5555555555555556,
             "#d8576b"
            ],
            [
             0.6666666666666666,
             "#ed7953"
            ],
            [
             0.7777777777777778,
             "#fb9f3a"
            ],
            [
             0.8888888888888888,
             "#fdca26"
            ],
            [
             1,
             "#f0f921"
            ]
           ],
           "sequentialminus": [
            [
             0,
             "#0d0887"
            ],
            [
             0.1111111111111111,
             "#46039f"
            ],
            [
             0.2222222222222222,
             "#7201a8"
            ],
            [
             0.3333333333333333,
             "#9c179e"
            ],
            [
             0.4444444444444444,
             "#bd3786"
            ],
            [
             0.5555555555555556,
             "#d8576b"
            ],
            [
             0.6666666666666666,
             "#ed7953"
            ],
            [
             0.7777777777777778,
             "#fb9f3a"
            ],
            [
             0.8888888888888888,
             "#fdca26"
            ],
            [
             1,
             "#f0f921"
            ]
           ]
          },
          "colorway": [
           "#636efa",
           "#EF553B",
           "#00cc96",
           "#ab63fa",
           "#FFA15A",
           "#19d3f3",
           "#FF6692",
           "#B6E880",
           "#FF97FF",
           "#FECB52"
          ],
          "font": {
           "color": "#2a3f5f"
          },
          "geo": {
           "bgcolor": "white",
           "lakecolor": "white",
           "landcolor": "#E5ECF6",
           "showlakes": true,
           "showland": true,
           "subunitcolor": "white"
          },
          "hoverlabel": {
           "align": "left"
          },
          "hovermode": "closest",
          "mapbox": {
           "style": "light"
          },
          "paper_bgcolor": "white",
          "plot_bgcolor": "#E5ECF6",
          "polar": {
           "angularaxis": {
            "gridcolor": "white",
            "linecolor": "white",
            "ticks": ""
           },
           "bgcolor": "#E5ECF6",
           "radialaxis": {
            "gridcolor": "white",
            "linecolor": "white",
            "ticks": ""
           }
          },
          "scene": {
           "xaxis": {
            "backgroundcolor": "#E5ECF6",
            "gridcolor": "white",
            "gridwidth": 2,
            "linecolor": "white",
            "showbackground": true,
            "ticks": "",
            "zerolinecolor": "white"
           },
           "yaxis": {
            "backgroundcolor": "#E5ECF6",
            "gridcolor": "white",
            "gridwidth": 2,
            "linecolor": "white",
            "showbackground": true,
            "ticks": "",
            "zerolinecolor": "white"
           },
           "zaxis": {
            "backgroundcolor": "#E5ECF6",
            "gridcolor": "white",
            "gridwidth": 2,
            "linecolor": "white",
            "showbackground": true,
            "ticks": "",
            "zerolinecolor": "white"
           }
          },
          "shapedefaults": {
           "line": {
            "color": "#2a3f5f"
           }
          },
          "ternary": {
           "aaxis": {
            "gridcolor": "white",
            "linecolor": "white",
            "ticks": ""
           },
           "baxis": {
            "gridcolor": "white",
            "linecolor": "white",
            "ticks": ""
           },
           "bgcolor": "#E5ECF6",
           "caxis": {
            "gridcolor": "white",
            "linecolor": "white",
            "ticks": ""
           }
          },
          "title": {
           "x": 0.05
          },
          "xaxis": {
           "automargin": true,
           "gridcolor": "white",
           "linecolor": "white",
           "ticks": "",
           "title": {
            "standoff": 15
           },
           "zerolinecolor": "white",
           "zerolinewidth": 2
          },
          "yaxis": {
           "automargin": true,
           "gridcolor": "white",
           "linecolor": "white",
           "ticks": "",
           "title": {
            "standoff": 15
           },
           "zerolinecolor": "white",
           "zerolinewidth": 2
          }
         }
        },
        "title": {
         "text": "Predicted Market Values for Selected Players"
        },
        "xaxis": {
         "anchor": "y",
         "domain": [
          0,
          1
         ],
         "title": {
          "text": "year"
         }
        },
        "yaxis": {
         "anchor": "x",
         "domain": [
          0,
          1
         ],
         "title": {
          "text": "predicted_value"
         }
        }
       }
      }
     },
     "metadata": {},
     "output_type": "display_data"
    }
   ],
   "source": [
    "players = [418560, 357662, 565822, 859951, 148455, 274839, 542586]\n",
    "plot_player_value_trends(pdf_train, merged_df=merged, player_ids=players)"
   ]
  },
  {
   "cell_type": "code",
   "execution_count": 18,
   "id": "2bb75c68",
   "metadata": {},
   "outputs": [
    {
     "name": "stderr",
     "output_type": "stream",
     "text": [
      "C:\\Users\\tomkn\\AppData\\Local\\Temp\\ipykernel_1680\\2121820575.py:2: SettingWithCopyWarning:\n",
      "\n",
      "\n",
      "A value is trying to be set on a copy of a slice from a DataFrame.\n",
      "Try using .loc[row_indexer,col_indexer] = value instead\n",
      "\n",
      "See the caveats in the documentation: https://pandas.pydata.org/pandas-docs/stable/user_guide/indexing.html#returning-a-view-versus-a-copy\n",
      "\n"
     ]
    }
   ],
   "source": [
    "output_df = merged.query(\"year == 2023\")\n",
    "output_df[\"actual_value\"] = y_test.values\n"
   ]
  },
  {
   "cell_type": "code",
   "execution_count": 19,
   "id": "395ece02",
   "metadata": {},
   "outputs": [
    {
     "name": "stderr",
     "output_type": "stream",
     "text": [
      "C:\\Users\\tomkn\\AppData\\Local\\Temp\\ipykernel_1680\\770660196.py:1: SettingWithCopyWarning:\n",
      "\n",
      "\n",
      "A value is trying to be set on a copy of a slice from a DataFrame.\n",
      "Try using .loc[row_indexer,col_indexer] = value instead\n",
      "\n",
      "See the caveats in the documentation: https://pandas.pydata.org/pandas-docs/stable/user_guide/indexing.html#returning-a-view-versus-a-copy\n",
      "\n",
      "C:\\Users\\tomkn\\AppData\\Local\\Temp\\ipykernel_1680\\770660196.py:2: SettingWithCopyWarning:\n",
      "\n",
      "\n",
      "A value is trying to be set on a copy of a slice from a DataFrame.\n",
      "Try using .loc[row_indexer,col_indexer] = value instead\n",
      "\n",
      "See the caveats in the documentation: https://pandas.pydata.org/pandas-docs/stable/user_guide/indexing.html#returning-a-view-versus-a-copy\n",
      "\n",
      "C:\\Users\\tomkn\\AppData\\Local\\Temp\\ipykernel_1680\\770660196.py:3: SettingWithCopyWarning:\n",
      "\n",
      "\n",
      "A value is trying to be set on a copy of a slice from a DataFrame.\n",
      "Try using .loc[row_indexer,col_indexer] = value instead\n",
      "\n",
      "See the caveats in the documentation: https://pandas.pydata.org/pandas-docs/stable/user_guide/indexing.html#returning-a-view-versus-a-copy\n",
      "\n",
      "C:\\Users\\tomkn\\AppData\\Local\\Temp\\ipykernel_1680\\770660196.py:4: SettingWithCopyWarning:\n",
      "\n",
      "\n",
      "A value is trying to be set on a copy of a slice from a DataFrame.\n",
      "Try using .loc[row_indexer,col_indexer] = value instead\n",
      "\n",
      "See the caveats in the documentation: https://pandas.pydata.org/pandas-docs/stable/user_guide/indexing.html#returning-a-view-versus-a-copy\n",
      "\n",
      "C:\\Users\\tomkn\\AppData\\Local\\Temp\\ipykernel_1680\\770660196.py:5: SettingWithCopyWarning:\n",
      "\n",
      "\n",
      "A value is trying to be set on a copy of a slice from a DataFrame.\n",
      "Try using .loc[row_indexer,col_indexer] = value instead\n",
      "\n",
      "See the caveats in the documentation: https://pandas.pydata.org/pandas-docs/stable/user_guide/indexing.html#returning-a-view-versus-a-copy\n",
      "\n",
      "C:\\Users\\tomkn\\AppData\\Local\\Temp\\ipykernel_1680\\770660196.py:6: SettingWithCopyWarning:\n",
      "\n",
      "\n",
      "A value is trying to be set on a copy of a slice from a DataFrame.\n",
      "Try using .loc[row_indexer,col_indexer] = value instead\n",
      "\n",
      "See the caveats in the documentation: https://pandas.pydata.org/pandas-docs/stable/user_guide/indexing.html#returning-a-view-versus-a-copy\n",
      "\n",
      "C:\\Users\\tomkn\\AppData\\Local\\Temp\\ipykernel_1680\\770660196.py:7: SettingWithCopyWarning:\n",
      "\n",
      "\n",
      "A value is trying to be set on a copy of a slice from a DataFrame.\n",
      "Try using .loc[row_indexer,col_indexer] = value instead\n",
      "\n",
      "See the caveats in the documentation: https://pandas.pydata.org/pandas-docs/stable/user_guide/indexing.html#returning-a-view-versus-a-copy\n",
      "\n"
     ]
    }
   ],
   "source": [
    "output_df[\"model_output_id\"] = uuid.uuid4()\n",
    "output_df[\"model_run_date\"] = datetime.datetime.now()\n",
    "output_df[\"time_taken_seconds\"] = diff\n",
    "output_df[\"features_used\"] = str(features)\n",
    "output_df[\"model_type\"] = \"Regression\"\n",
    "output_df[\"split_year\"] = test_start\n",
    "output_df[\"version\"] = version"
   ]
  },
  {
   "cell_type": "code",
   "execution_count": 20,
   "id": "5a9dd6d2",
   "metadata": {},
   "outputs": [],
   "source": [
    "save_output_tables(output_df)"
   ]
  }
 ],
 "metadata": {
  "kernelspec": {
   "display_name": "Python 3",
   "language": "python",
   "name": "python3"
  },
  "language_info": {
   "codemirror_mode": {
    "name": "ipython",
    "version": 3
   },
   "file_extension": ".py",
   "mimetype": "text/x-python",
   "name": "python",
   "nbconvert_exporter": "python",
   "pygments_lexer": "ipython3",
   "version": "3.11.9"
  }
 },
 "nbformat": 4,
 "nbformat_minor": 5
}
