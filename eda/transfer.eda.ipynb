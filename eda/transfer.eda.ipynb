{
 "cells": [
  {
   "cell_type": "code",
   "execution_count": 3,
   "id": "7c907d7f",
   "metadata": {},
   "outputs": [],
   "source": [
    "import pandas as pd\n",
    "import plotly.express as px"
   ]
  },
  {
   "cell_type": "code",
   "execution_count": 18,
   "id": "402fc313",
   "metadata": {},
   "outputs": [],
   "source": [
    "pdf_transfers = pd.read_csv('data/input/transfers.csv')\n",
    "pdf_transfers[\"overpayment\"] = pdf_transfers[\"transfer_fee\"] - pdf_transfers[\"market_value_in_eur\"]"
   ]
  },
  {
   "cell_type": "code",
   "execution_count": null,
   "id": "08e828ac",
   "metadata": {},
   "outputs": [
    {
     "data": {
      "application/vnd.plotly.v1+json": {
       "config": {
        "plotlyServerURL": "https://plot.ly"
       },
       "data": [
        {
         "hovertemplate": "Metric=transfer_fee<br>year=%{x}<br>EUR=%{y}<extra></extra>",
         "legendgroup": "transfer_fee",
         "line": {
          "color": "#636efa",
          "dash": "solid"
         },
         "marker": {
          "symbol": "circle"
         },
         "mode": "lines",
         "name": "transfer_fee",
         "orientation": "v",
         "showlegend": true,
         "type": "scatter",
         "x": [
          2005,
          2006,
          2007,
          2008,
          2009,
          2010,
          2011,
          2012,
          2013,
          2014,
          2015,
          2016,
          2017,
          2018,
          2019,
          2020,
          2021,
          2022,
          2023,
          2024,
          2025,
          2026
         ],
         "xaxis": "x",
         "y": [
          6093571.428571428,
          475000,
          6782727.2727272725,
          3431428.5714285714,
          3432437.5,
          4679412.698412699,
          4986115.044247787,
          4100227.6119402987,
          5824779.735682819,
          5377428,
          5919842.105263158,
          6105678.489702517,
          6918544.673539519,
          7466119.426751592,
          7869227.784730914,
          6790717.872968981,
          5524275.38247566,
          6130306.026365348,
          7049033.843674456,
          6206469.594594595,
          6029368.421052632,
          52140000
         ],
         "yaxis": "y"
        },
        {
         "hovertemplate": "Metric=market_value_in_eur<br>year=%{x}<br>EUR=%{y}<extra></extra>",
         "legendgroup": "market_value_in_eur",
         "line": {
          "color": "#EF553B",
          "dash": "solid"
         },
         "marker": {
          "symbol": "circle"
         },
         "mode": "lines",
         "name": "market_value_in_eur",
         "orientation": "v",
         "showlegend": true,
         "type": "scatter",
         "x": [
          2005,
          2006,
          2007,
          2008,
          2009,
          2010,
          2011,
          2012,
          2013,
          2014,
          2015,
          2016,
          2017,
          2018,
          2019,
          2020,
          2021,
          2022,
          2023,
          2024,
          2025,
          2026
         ],
         "xaxis": "x",
         "y": [
          5200000,
          262500,
          5525000,
          2989285.714285714,
          2359375,
          3433333.3333333335,
          3914380.530973451,
          3945522.3880597013,
          5160792.95154185,
          4191100,
          4592451.523545707,
          4370308.924485126,
          4649484.5360824745,
          6078941.082802548,
          6954098.87359199,
          6114364.844903988,
          5597392.211404729,
          6095748.587570622,
          6630741.337630942,
          6048817.567567567,
          5692894.736842105,
          45000000
         ],
         "yaxis": "y"
        }
       ],
       "layout": {
        "legend": {
         "title": {
          "text": "Metric"
         },
         "tracegroupgap": 0
        },
        "template": {
         "data": {
          "bar": [
           {
            "error_x": {
             "color": "#2a3f5f"
            },
            "error_y": {
             "color": "#2a3f5f"
            },
            "marker": {
             "line": {
              "color": "#E5ECF6",
              "width": 0.5
             },
             "pattern": {
              "fillmode": "overlay",
              "size": 10,
              "solidity": 0.2
             }
            },
            "type": "bar"
           }
          ],
          "barpolar": [
           {
            "marker": {
             "line": {
              "color": "#E5ECF6",
              "width": 0.5
             },
             "pattern": {
              "fillmode": "overlay",
              "size": 10,
              "solidity": 0.2
             }
            },
            "type": "barpolar"
           }
          ],
          "carpet": [
           {
            "aaxis": {
             "endlinecolor": "#2a3f5f",
             "gridcolor": "white",
             "linecolor": "white",
             "minorgridcolor": "white",
             "startlinecolor": "#2a3f5f"
            },
            "baxis": {
             "endlinecolor": "#2a3f5f",
             "gridcolor": "white",
             "linecolor": "white",
             "minorgridcolor": "white",
             "startlinecolor": "#2a3f5f"
            },
            "type": "carpet"
           }
          ],
          "choropleth": [
           {
            "colorbar": {
             "outlinewidth": 0,
             "ticks": ""
            },
            "type": "choropleth"
           }
          ],
          "contour": [
           {
            "colorbar": {
             "outlinewidth": 0,
             "ticks": ""
            },
            "colorscale": [
             [
              0,
              "#0d0887"
             ],
             [
              0.1111111111111111,
              "#46039f"
             ],
             [
              0.2222222222222222,
              "#7201a8"
             ],
             [
              0.3333333333333333,
              "#9c179e"
             ],
             [
              0.4444444444444444,
              "#bd3786"
             ],
             [
              0.5555555555555556,
              "#d8576b"
             ],
             [
              0.6666666666666666,
              "#ed7953"
             ],
             [
              0.7777777777777778,
              "#fb9f3a"
             ],
             [
              0.8888888888888888,
              "#fdca26"
             ],
             [
              1,
              "#f0f921"
             ]
            ],
            "type": "contour"
           }
          ],
          "contourcarpet": [
           {
            "colorbar": {
             "outlinewidth": 0,
             "ticks": ""
            },
            "type": "contourcarpet"
           }
          ],
          "heatmap": [
           {
            "colorbar": {
             "outlinewidth": 0,
             "ticks": ""
            },
            "colorscale": [
             [
              0,
              "#0d0887"
             ],
             [
              0.1111111111111111,
              "#46039f"
             ],
             [
              0.2222222222222222,
              "#7201a8"
             ],
             [
              0.3333333333333333,
              "#9c179e"
             ],
             [
              0.4444444444444444,
              "#bd3786"
             ],
             [
              0.5555555555555556,
              "#d8576b"
             ],
             [
              0.6666666666666666,
              "#ed7953"
             ],
             [
              0.7777777777777778,
              "#fb9f3a"
             ],
             [
              0.8888888888888888,
              "#fdca26"
             ],
             [
              1,
              "#f0f921"
             ]
            ],
            "type": "heatmap"
           }
          ],
          "heatmapgl": [
           {
            "colorbar": {
             "outlinewidth": 0,
             "ticks": ""
            },
            "colorscale": [
             [
              0,
              "#0d0887"
             ],
             [
              0.1111111111111111,
              "#46039f"
             ],
             [
              0.2222222222222222,
              "#7201a8"
             ],
             [
              0.3333333333333333,
              "#9c179e"
             ],
             [
              0.4444444444444444,
              "#bd3786"
             ],
             [
              0.5555555555555556,
              "#d8576b"
             ],
             [
              0.6666666666666666,
              "#ed7953"
             ],
             [
              0.7777777777777778,
              "#fb9f3a"
             ],
             [
              0.8888888888888888,
              "#fdca26"
             ],
             [
              1,
              "#f0f921"
             ]
            ],
            "type": "heatmapgl"
           }
          ],
          "histogram": [
           {
            "marker": {
             "pattern": {
              "fillmode": "overlay",
              "size": 10,
              "solidity": 0.2
             }
            },
            "type": "histogram"
           }
          ],
          "histogram2d": [
           {
            "colorbar": {
             "outlinewidth": 0,
             "ticks": ""
            },
            "colorscale": [
             [
              0,
              "#0d0887"
             ],
             [
              0.1111111111111111,
              "#46039f"
             ],
             [
              0.2222222222222222,
              "#7201a8"
             ],
             [
              0.3333333333333333,
              "#9c179e"
             ],
             [
              0.4444444444444444,
              "#bd3786"
             ],
             [
              0.5555555555555556,
              "#d8576b"
             ],
             [
              0.6666666666666666,
              "#ed7953"
             ],
             [
              0.7777777777777778,
              "#fb9f3a"
             ],
             [
              0.8888888888888888,
              "#fdca26"
             ],
             [
              1,
              "#f0f921"
             ]
            ],
            "type": "histogram2d"
           }
          ],
          "histogram2dcontour": [
           {
            "colorbar": {
             "outlinewidth": 0,
             "ticks": ""
            },
            "colorscale": [
             [
              0,
              "#0d0887"
             ],
             [
              0.1111111111111111,
              "#46039f"
             ],
             [
              0.2222222222222222,
              "#7201a8"
             ],
             [
              0.3333333333333333,
              "#9c179e"
             ],
             [
              0.4444444444444444,
              "#bd3786"
             ],
             [
              0.5555555555555556,
              "#d8576b"
             ],
             [
              0.6666666666666666,
              "#ed7953"
             ],
             [
              0.7777777777777778,
              "#fb9f3a"
             ],
             [
              0.8888888888888888,
              "#fdca26"
             ],
             [
              1,
              "#f0f921"
             ]
            ],
            "type": "histogram2dcontour"
           }
          ],
          "mesh3d": [
           {
            "colorbar": {
             "outlinewidth": 0,
             "ticks": ""
            },
            "type": "mesh3d"
           }
          ],
          "parcoords": [
           {
            "line": {
             "colorbar": {
              "outlinewidth": 0,
              "ticks": ""
             }
            },
            "type": "parcoords"
           }
          ],
          "pie": [
           {
            "automargin": true,
            "type": "pie"
           }
          ],
          "scatter": [
           {
            "fillpattern": {
             "fillmode": "overlay",
             "size": 10,
             "solidity": 0.2
            },
            "type": "scatter"
           }
          ],
          "scatter3d": [
           {
            "line": {
             "colorbar": {
              "outlinewidth": 0,
              "ticks": ""
             }
            },
            "marker": {
             "colorbar": {
              "outlinewidth": 0,
              "ticks": ""
             }
            },
            "type": "scatter3d"
           }
          ],
          "scattercarpet": [
           {
            "marker": {
             "colorbar": {
              "outlinewidth": 0,
              "ticks": ""
             }
            },
            "type": "scattercarpet"
           }
          ],
          "scattergeo": [
           {
            "marker": {
             "colorbar": {
              "outlinewidth": 0,
              "ticks": ""
             }
            },
            "type": "scattergeo"
           }
          ],
          "scattergl": [
           {
            "marker": {
             "colorbar": {
              "outlinewidth": 0,
              "ticks": ""
             }
            },
            "type": "scattergl"
           }
          ],
          "scattermapbox": [
           {
            "marker": {
             "colorbar": {
              "outlinewidth": 0,
              "ticks": ""
             }
            },
            "type": "scattermapbox"
           }
          ],
          "scatterpolar": [
           {
            "marker": {
             "colorbar": {
              "outlinewidth": 0,
              "ticks": ""
             }
            },
            "type": "scatterpolar"
           }
          ],
          "scatterpolargl": [
           {
            "marker": {
             "colorbar": {
              "outlinewidth": 0,
              "ticks": ""
             }
            },
            "type": "scatterpolargl"
           }
          ],
          "scatterternary": [
           {
            "marker": {
             "colorbar": {
              "outlinewidth": 0,
              "ticks": ""
             }
            },
            "type": "scatterternary"
           }
          ],
          "surface": [
           {
            "colorbar": {
             "outlinewidth": 0,
             "ticks": ""
            },
            "colorscale": [
             [
              0,
              "#0d0887"
             ],
             [
              0.1111111111111111,
              "#46039f"
             ],
             [
              0.2222222222222222,
              "#7201a8"
             ],
             [
              0.3333333333333333,
              "#9c179e"
             ],
             [
              0.4444444444444444,
              "#bd3786"
             ],
             [
              0.5555555555555556,
              "#d8576b"
             ],
             [
              0.6666666666666666,
              "#ed7953"
             ],
             [
              0.7777777777777778,
              "#fb9f3a"
             ],
             [
              0.8888888888888888,
              "#fdca26"
             ],
             [
              1,
              "#f0f921"
             ]
            ],
            "type": "surface"
           }
          ],
          "table": [
           {
            "cells": {
             "fill": {
              "color": "#EBF0F8"
             },
             "line": {
              "color": "white"
             }
            },
            "header": {
             "fill": {
              "color": "#C8D4E3"
             },
             "line": {
              "color": "white"
             }
            },
            "type": "table"
           }
          ]
         },
         "layout": {
          "annotationdefaults": {
           "arrowcolor": "#2a3f5f",
           "arrowhead": 0,
           "arrowwidth": 1
          },
          "autotypenumbers": "strict",
          "coloraxis": {
           "colorbar": {
            "outlinewidth": 0,
            "ticks": ""
           }
          },
          "colorscale": {
           "diverging": [
            [
             0,
             "#8e0152"
            ],
            [
             0.1,
             "#c51b7d"
            ],
            [
             0.2,
             "#de77ae"
            ],
            [
             0.3,
             "#f1b6da"
            ],
            [
             0.4,
             "#fde0ef"
            ],
            [
             0.5,
             "#f7f7f7"
            ],
            [
             0.6,
             "#e6f5d0"
            ],
            [
             0.7,
             "#b8e186"
            ],
            [
             0.8,
             "#7fbc41"
            ],
            [
             0.9,
             "#4d9221"
            ],
            [
             1,
             "#276419"
            ]
           ],
           "sequential": [
            [
             0,
             "#0d0887"
            ],
            [
             0.1111111111111111,
             "#46039f"
            ],
            [
             0.2222222222222222,
             "#7201a8"
            ],
            [
             0.3333333333333333,
             "#9c179e"
            ],
            [
             0.4444444444444444,
             "#bd3786"
            ],
            [
             0.5555555555555556,
             "#d8576b"
            ],
            [
             0.6666666666666666,
             "#ed7953"
            ],
            [
             0.7777777777777778,
             "#fb9f3a"
            ],
            [
             0.8888888888888888,
             "#fdca26"
            ],
            [
             1,
             "#f0f921"
            ]
           ],
           "sequentialminus": [
            [
             0,
             "#0d0887"
            ],
            [
             0.1111111111111111,
             "#46039f"
            ],
            [
             0.2222222222222222,
             "#7201a8"
            ],
            [
             0.3333333333333333,
             "#9c179e"
            ],
            [
             0.4444444444444444,
             "#bd3786"
            ],
            [
             0.5555555555555556,
             "#d8576b"
            ],
            [
             0.6666666666666666,
             "#ed7953"
            ],
            [
             0.7777777777777778,
             "#fb9f3a"
            ],
            [
             0.8888888888888888,
             "#fdca26"
            ],
            [
             1,
             "#f0f921"
            ]
           ]
          },
          "colorway": [
           "#636efa",
           "#EF553B",
           "#00cc96",
           "#ab63fa",
           "#FFA15A",
           "#19d3f3",
           "#FF6692",
           "#B6E880",
           "#FF97FF",
           "#FECB52"
          ],
          "font": {
           "color": "#2a3f5f"
          },
          "geo": {
           "bgcolor": "white",
           "lakecolor": "white",
           "landcolor": "#E5ECF6",
           "showlakes": true,
           "showland": true,
           "subunitcolor": "white"
          },
          "hoverlabel": {
           "align": "left"
          },
          "hovermode": "closest",
          "mapbox": {
           "style": "light"
          },
          "paper_bgcolor": "white",
          "plot_bgcolor": "#E5ECF6",
          "polar": {
           "angularaxis": {
            "gridcolor": "white",
            "linecolor": "white",
            "ticks": ""
           },
           "bgcolor": "#E5ECF6",
           "radialaxis": {
            "gridcolor": "white",
            "linecolor": "white",
            "ticks": ""
           }
          },
          "scene": {
           "xaxis": {
            "backgroundcolor": "#E5ECF6",
            "gridcolor": "white",
            "gridwidth": 2,
            "linecolor": "white",
            "showbackground": true,
            "ticks": "",
            "zerolinecolor": "white"
           },
           "yaxis": {
            "backgroundcolor": "#E5ECF6",
            "gridcolor": "white",
            "gridwidth": 2,
            "linecolor": "white",
            "showbackground": true,
            "ticks": "",
            "zerolinecolor": "white"
           },
           "zaxis": {
            "backgroundcolor": "#E5ECF6",
            "gridcolor": "white",
            "gridwidth": 2,
            "linecolor": "white",
            "showbackground": true,
            "ticks": "",
            "zerolinecolor": "white"
           }
          },
          "shapedefaults": {
           "line": {
            "color": "#2a3f5f"
           }
          },
          "ternary": {
           "aaxis": {
            "gridcolor": "white",
            "linecolor": "white",
            "ticks": ""
           },
           "baxis": {
            "gridcolor": "white",
            "linecolor": "white",
            "ticks": ""
           },
           "bgcolor": "#E5ECF6",
           "caxis": {
            "gridcolor": "white",
            "linecolor": "white",
            "ticks": ""
           }
          },
          "title": {
           "x": 0.05
          },
          "xaxis": {
           "automargin": true,
           "gridcolor": "white",
           "linecolor": "white",
           "ticks": "",
           "title": {
            "standoff": 15
           },
           "zerolinecolor": "white",
           "zerolinewidth": 2
          },
          "yaxis": {
           "automargin": true,
           "gridcolor": "white",
           "linecolor": "white",
           "ticks": "",
           "title": {
            "standoff": 15
           },
           "zerolinecolor": "white",
           "zerolinewidth": 2
          }
         }
        },
        "title": {
         "text": "Mean Transfer Fee and Market Value per Year"
        },
        "xaxis": {
         "anchor": "y",
         "domain": [
          0,
          1
         ],
         "title": {
          "text": "Year"
         }
        },
        "yaxis": {
         "anchor": "x",
         "domain": [
          0,
          1
         ],
         "title": {
          "text": "Mean Value (EUR)"
         }
        }
       }
      }
     },
     "metadata": {},
     "output_type": "display_data"
    }
   ],
   "source": [
    "# Config variable to exclude players with market value or transfer fee equal to 0\n",
    "exclude_zero_values = True\n",
    "\n",
    "# Group by year and calculate mean transfer fee and market value\n",
    "pdf_transfers[\"year\"] = pd.to_datetime(pdf_transfers[\"transfer_date\"]).dt.year\n",
    "yearly_means = pdf_transfers.groupby(\"year\")[[\"transfer_fee\", \"market_value_in_eur\"]].mean().reset_index()\n",
    "\n",
    "\n",
    "\n",
    "if exclude_zero_values:\n",
    "    yearly_means_filtered = pdf_transfers[\n",
    "        (pdf_transfers[\"market_value_in_eur\"] > 0) & (pdf_transfers[\"transfer_fee\"] > 0)\n",
    "    ].groupby(\"year\")[[\"transfer_fee\", \"market_value_in_eur\"]].mean().reset_index()\n",
    "else:\n",
    "    yearly_means_filtered = yearly_means\n",
    "\n",
    "fig_yearly = px.line(\n",
    "    yearly_means_filtered,\n",
    "    x=\"year\",\n",
    "    y=[\"transfer_fee\", \"market_value_in_eur\"],\n",
    "    labels={\"value\": \"EUR\", \"variable\": \"Metric\"},\n",
    "    title=\"Mean Transfer Fee and Market Value per Year\"\n",
    ")\n",
    "fig_yearly.update_layout(\n",
    "    xaxis_title=\"Year\",\n",
    "    yaxis_title=\"Mean Value (EUR)\",\n",
    "    legend_title=\"Metric\"\n",
    ")\n",
    "fig_yearly.show()"
   ]
  },
  {
   "cell_type": "code",
   "execution_count": 20,
   "id": "8fc34ea6",
   "metadata": {},
   "outputs": [
    {
     "data": {
      "application/vnd.microsoft.datawrangler.viewer.v0+json": {
       "columns": [
        {
         "name": "index",
         "rawType": "int64",
         "type": "integer"
        },
        {
         "name": "player_id",
         "rawType": "int64",
         "type": "integer"
        },
        {
         "name": "transfer_date",
         "rawType": "object",
         "type": "string"
        },
        {
         "name": "transfer_season",
         "rawType": "object",
         "type": "string"
        },
        {
         "name": "from_club_id",
         "rawType": "int64",
         "type": "integer"
        },
        {
         "name": "to_club_id",
         "rawType": "int64",
         "type": "integer"
        },
        {
         "name": "from_club_name",
         "rawType": "object",
         "type": "string"
        },
        {
         "name": "to_club_name",
         "rawType": "object",
         "type": "string"
        },
        {
         "name": "transfer_fee",
         "rawType": "float64",
         "type": "float"
        },
        {
         "name": "market_value_in_eur",
         "rawType": "float64",
         "type": "float"
        },
        {
         "name": "player_name",
         "rawType": "object",
         "type": "string"
        },
        {
         "name": "overpayment",
         "rawType": "float64",
         "type": "float"
        }
       ],
       "ref": "470d9a3c-741f-453e-9695-7dc44f452a2e",
       "rows": [
        [
         "4926",
         "342229",
         "2024-07-01",
         "24/25",
         "583",
         "418",
         "Paris SG",
         "Real Madrid",
         "0.0",
         "180000000.0",
         "Kylian Mbappé",
         "-180000000.0"
        ],
        [
         "49883",
         "342229",
         "2018-06-30",
         "17/18",
         "583",
         "162",
         "Paris SG",
         "Monaco",
         "0.0",
         "120000000.0",
         "Kylian Mbappé",
         "-120000000.0"
        ],
        [
         "2206",
         "401923",
         "2024-09-04",
         "24/25",
         "6195",
         "141",
         "Napoli",
         "Galatasaray",
         "0.0",
         "100000000.0",
         "Victor Osimhen",
         "-100000000.0"
        ],
        [
         "40047",
         "80444",
         "2019-08-19",
         "19/20",
         "131",
         "27",
         "Barcelona",
         "Bayern Munich",
         "0.0",
         "90000000.0",
         "Philippe Coutinho",
         "-90000000.0"
        ],
        [
         "20978",
         "418560",
         "2022-07-01",
         "22/23",
         "16",
         "281",
         "Bor. Dortmund",
         "Man City",
         "60000000.0",
         "150000000.0",
         "Erling Haaland",
         "-90000000.0"
        ],
        [
         "39605",
         "68863",
         "2019-09-02",
         "19/20",
         "46",
         "583",
         "Inter",
         "Paris SG",
         "0.0",
         "80000000.0",
         "Mauro Icardi",
         "-80000000.0"
        ],
        [
         "1426",
         "566931",
         "2025-01-29",
         "24/25",
         "23826",
         "583",
         "RB Leipzig",
         "Paris SG",
         "0.0",
         "80000000.0",
         "Xavi Simons",
         "-80000000.0"
        ],
        [
         "16387",
         "182712",
         "2023-01-31",
         "22/23",
         "281",
         "27",
         "Man City",
         "Bayern Munich",
         "0.0",
         "70000000.0",
         "João Cancelo",
         "-70000000.0"
        ],
        [
         "333",
         "401923",
         "2025-06-30",
         "24/25",
         "141",
         "6195",
         "Galatasaray",
         "Napoli",
         "0.0",
         "70000000.0",
         "Victor Osimhen",
         "-70000000.0"
        ],
        [
         "20476",
         "96341",
         "2022-07-01",
         "22/23",
         "631",
         "46",
         "Chelsea",
         "Inter",
         "0.0",
         "70000000.0",
         "Romelu Lukaku",
         "-70000000.0"
        ],
        [
         "23096",
         "341092",
         "2022-06-30",
         "21/22",
         "506",
         "430",
         "Juventus",
         "Fiorentina",
         "0.0",
         "65000000.0",
         "Federico Chiesa",
         "-65000000.0"
        ],
        [
         "38435",
         "69633",
         "2020-01-28",
         "19/20",
         "148",
         "46",
         "Tottenham",
         "Inter",
         "27000000.0",
         "90000000.0",
         "Christian Eriksen",
         "-63000000.0"
        ],
        [
         "27581",
         "315858",
         "2021-07-14",
         "21/22",
         "5",
         "583",
         "AC Milan",
         "Paris SG",
         "0.0",
         "60000000.0",
         "Gianluigi Donnarumma",
         "-60000000.0"
        ],
        [
         "43739",
         "257462",
         "2019-06-30",
         "18/19",
         "24",
         "294",
         "E. Frankfurt",
         "Benfica",
         "0.0",
         "60000000.0",
         "Luka Jović",
         "-60000000.0"
        ],
        [
         "37391",
         "68863",
         "2020-06-30",
         "19/20",
         "583",
         "46",
         "Paris SG",
         "Inter",
         "0.0",
         "60000000.0",
         "Mauro Icardi",
         "-60000000.0"
        ],
        [
         "26099",
         "125781",
         "2021-08-31",
         "21/22",
         "131",
         "13",
         "Barcelona",
         "Atlético Madrid",
         "0.0",
         "60000000.0",
         "Antoine Griezmann",
         "-60000000.0"
        ],
        [
         "43853",
         "315779",
         "2019-06-30",
         "18/19",
         "16",
         "631",
         "Bor. Dortmund",
         "Chelsea",
         "0.0",
         "60000000.0",
         "Christian Pulisic",
         "-60000000.0"
        ],
        [
         "34164",
         "80444",
         "2020-08-31",
         "19/20",
         "27",
         "131",
         "Bayern Munich",
         "Barcelona",
         "0.0",
         "56000000.0",
         "Philippe Coutinho",
         "-56000000.0"
        ],
        [
         "1283",
         "258923",
         "2025-02-02",
         "24/25",
         "985",
         "405",
         "Man Utd",
         "Aston Villa",
         "0.0",
         "55000000.0",
         "Marcus Rashford",
         "-55000000.0"
        ],
        [
         "64655",
         "39152",
         "2014-09-01",
         "14/15",
         "162",
         "985",
         "Monaco",
         "Man Utd",
         "0.0",
         "55000000.0",
         "Radamel Falcao",
         "-55000000.0"
        ],
        [
         "27998",
         "59016",
         "2021-07-01",
         "21/22",
         "27",
         "418",
         "Bayern Munich",
         "Real Madrid",
         "0.0",
         "55000000.0",
         "David Alaba",
         "-55000000.0"
        ],
        [
         "37613",
         "398073",
         "2020-06-30",
         "19/20",
         "16",
         "418",
         "Bor. Dortmund",
         "Real Madrid",
         "0.0",
         "54000000.0",
         "Achraf Hakimi",
         "-54000000.0"
        ],
        [
         "11573",
         "550550",
         "2023-08-07",
         "23/24",
         "294",
         "583",
         "Benfica",
         "Paris SG",
         "0.0",
         "50000000.0",
         "Gonçalo Ramos",
         "-50000000.0"
        ],
        [
         "9901",
         "550550",
         "2023-12-31",
         "23/24",
         "583",
         "294",
         "Paris SG",
         "Benfica",
         "0.0",
         "50000000.0",
         "Gonçalo Ramos",
         "-50000000.0"
        ],
        [
         "173",
         "258923",
         "2025-06-30",
         "24/25",
         "405",
         "985",
         "Aston Villa",
         "Man Utd",
         "0.0",
         "50000000.0",
         "Marcus Rashford",
         "-50000000.0"
        ],
        [
         "65340",
         "38253",
         "2014-07-01",
         "14/15",
         "16",
         "27",
         "Bor. Dortmund",
         "Bayern Munich",
         "0.0",
         "50000000.0",
         "Robert Lewandowski",
         "-50000000.0"
        ],
        [
         "12674",
         "204069",
         "2023-07-06",
         "23/24",
         "46",
         "583",
         "Inter",
         "Paris SG",
         "0.0",
         "50000000.0",
         "Milan Škriniar",
         "-50000000.0"
        ],
        [
         "7093",
         "743591",
         "2024-06-30",
         "23/24",
         "12321",
         "1095",
         "Girona",
         "Troyes",
         "0.0",
         "50000000.0",
         "Savinho",
         "-50000000.0"
        ],
        [
         "43926",
         "348795",
         "2019-06-30",
         "18/19",
         "150",
         "583",
         "Real Betis",
         "Paris SG",
         "0.0",
         "50000000.0",
         "Giovani Lo Celso",
         "-50000000.0"
        ],
        [
         "44894",
         "128223",
         "2019-01-28",
         "18/19",
         "631",
         "13",
         "Chelsea",
         "Atlético Madrid",
         "0.0",
         "50000000.0",
         "Álvaro Morata",
         "-50000000.0"
        ],
        [
         "15157",
         "462250",
         "2023-06-30",
         "22/23",
         "631",
         "13",
         "Chelsea",
         "Atlético Madrid",
         "0.0",
         "50000000.0",
         "João Félix",
         "-50000000.0"
        ],
        [
         "14751",
         "182712",
         "2023-06-30",
         "22/23",
         "27",
         "281",
         "Bayern Munich",
         "Man City",
         "0.0",
         "50000000.0",
         "João Cancelo",
         "-50000000.0"
        ],
        [
         "10413",
         "182712",
         "2023-09-01",
         "23/24",
         "281",
         "131",
         "Man City",
         "Barcelona",
         "0.0",
         "50000000.0",
         "João Cancelo",
         "-50000000.0"
        ],
        [
         "17218",
         "462250",
         "2023-01-11",
         "22/23",
         "13",
         "631",
         "Atlético Madrid",
         "Chelsea",
         "0.0",
         "50000000.0",
         "João Félix",
         "-50000000.0"
        ],
        [
         "10506",
         "462250",
         "2023-09-01",
         "23/24",
         "13",
         "131",
         "Atlético Madrid",
         "Barcelona",
         "0.0",
         "50000000.0",
         "João Félix",
         "-50000000.0"
        ],
        [
         "45345",
         "315779",
         "2019-01-03",
         "18/19",
         "631",
         "16",
         "Chelsea",
         "Bor. Dortmund",
         "0.0",
         "50000000.0",
         "Christian Pulisic",
         "-50000000.0"
        ],
        [
         "34204",
         "255942",
         "2020-08-31",
         "19/20",
         "46",
         "1390",
         "Inter",
         "Cagliari",
         "0.0",
         "50000000.0",
         "Nicolò Barella",
         "-50000000.0"
        ],
        [
         "40248",
         "348795",
         "2019-08-08",
         "19/20",
         "150",
         "148",
         "Real Betis",
         "Tottenham",
         "0.0",
         "50000000.0",
         "Giovani Lo Celso",
         "-50000000.0"
        ],
        [
         "15116",
         "431755",
         "2023-06-30",
         "22/23",
         "148",
         "506",
         "Tottenham",
         "Juventus",
         "0.0",
         "50000000.0",
         "Dejan Kulusevski",
         "-50000000.0"
        ],
        [
         "20042",
         "122153",
         "2022-07-11",
         "22/23",
         "985",
         "506",
         "Man Utd",
         "Juventus",
         "0.0",
         "48000000.0",
         "Paul Pogba",
         "-48000000.0"
        ],
        [
         "33066",
         "341092",
         "2020-10-05",
         "20/21",
         "430",
         "506",
         "Fiorentina",
         "Juventus",
         "0.0",
         "48000000.0",
         "Federico Chiesa",
         "-48000000.0"
        ],
        [
         "18594",
         "355915",
         "2022-08-29",
         "22/23",
         "148",
         "800",
         "Tottenham",
         "Atalanta BC",
         "0.0",
         "48000000.0",
         "Cristian Romero",
         "-48000000.0"
        ],
        [
         "35627",
         "316264",
         "2020-07-20",
         "20/21",
         "681",
         "418",
         "Real Sociedad",
         "Real Madrid",
         "0.0",
         "45000000.0",
         "Martin Ødegaard",
         "-45000000.0"
        ],
        [
         "63320",
         "39152",
         "2015-06-30",
         "14/15",
         "985",
         "162",
         "Man Utd",
         "Monaco",
         "0.0",
         "45000000.0",
         "Radamel Falcao",
         "-45000000.0"
        ],
        [
         "28096",
         "167850",
         "2021-07-01",
         "21/22",
         "1041",
         "131",
         "Olympique Lyon",
         "Barcelona",
         "0.0",
         "45000000.0",
         "Memphis Depay",
         "-45000000.0"
        ],
        [
         "38668",
         "73794",
         "2020-01-16",
         "19/20",
         "800",
         "1038",
         "Atalanta BC",
         "Sampdoria",
         "0.0",
         "45000000.0",
         "Duván Zapata",
         "-45000000.0"
        ],
        [
         "2496",
         "502676",
         "2024-08-28",
         "24/25",
         "31",
         "1049",
         "Liverpool",
         "Valencia",
         "0.0",
         "45000000.0",
         "Giorgi Mamardashvili",
         "-45000000.0"
        ],
        [
         "40670",
         "203496",
         "2019-07-23",
         "19/20",
         "1041",
         "150",
         "Olympique Lyon",
         "Real Betis",
         "19750000.0",
         "60000000.0",
         "Nabil Fekir",
         "-40250000.0"
        ],
        [
         "14689",
         "96341",
         "2023-06-30",
         "22/23",
         "46",
         "631",
         "Inter",
         "Chelsea",
         "0.0",
         "40000000.0",
         "Romelu Lukaku",
         "-40000000.0"
        ],
        [
         "49618",
         "179184",
         "2018-06-30",
         "17/18",
         "16",
         "631",
         "Bor. Dortmund",
         "Chelsea",
         "0.0",
         "40000000.0",
         "Michy Batshuayi",
         "-40000000.0"
        ]
       ],
       "shape": {
        "columns": 11,
        "rows": 79646
       }
      },
      "text/html": [
       "<div>\n",
       "<style scoped>\n",
       "    .dataframe tbody tr th:only-of-type {\n",
       "        vertical-align: middle;\n",
       "    }\n",
       "\n",
       "    .dataframe tbody tr th {\n",
       "        vertical-align: top;\n",
       "    }\n",
       "\n",
       "    .dataframe thead th {\n",
       "        text-align: right;\n",
       "    }\n",
       "</style>\n",
       "<table border=\"1\" class=\"dataframe\">\n",
       "  <thead>\n",
       "    <tr style=\"text-align: right;\">\n",
       "      <th></th>\n",
       "      <th>player_id</th>\n",
       "      <th>transfer_date</th>\n",
       "      <th>transfer_season</th>\n",
       "      <th>from_club_id</th>\n",
       "      <th>to_club_id</th>\n",
       "      <th>from_club_name</th>\n",
       "      <th>to_club_name</th>\n",
       "      <th>transfer_fee</th>\n",
       "      <th>market_value_in_eur</th>\n",
       "      <th>player_name</th>\n",
       "      <th>overpayment</th>\n",
       "    </tr>\n",
       "  </thead>\n",
       "  <tbody>\n",
       "    <tr>\n",
       "      <th>4926</th>\n",
       "      <td>342229</td>\n",
       "      <td>2024-07-01</td>\n",
       "      <td>24/25</td>\n",
       "      <td>583</td>\n",
       "      <td>418</td>\n",
       "      <td>Paris SG</td>\n",
       "      <td>Real Madrid</td>\n",
       "      <td>0.0</td>\n",
       "      <td>180000000.0</td>\n",
       "      <td>Kylian Mbappé</td>\n",
       "      <td>-180000000.0</td>\n",
       "    </tr>\n",
       "    <tr>\n",
       "      <th>49883</th>\n",
       "      <td>342229</td>\n",
       "      <td>2018-06-30</td>\n",
       "      <td>17/18</td>\n",
       "      <td>583</td>\n",
       "      <td>162</td>\n",
       "      <td>Paris SG</td>\n",
       "      <td>Monaco</td>\n",
       "      <td>0.0</td>\n",
       "      <td>120000000.0</td>\n",
       "      <td>Kylian Mbappé</td>\n",
       "      <td>-120000000.0</td>\n",
       "    </tr>\n",
       "    <tr>\n",
       "      <th>2206</th>\n",
       "      <td>401923</td>\n",
       "      <td>2024-09-04</td>\n",
       "      <td>24/25</td>\n",
       "      <td>6195</td>\n",
       "      <td>141</td>\n",
       "      <td>Napoli</td>\n",
       "      <td>Galatasaray</td>\n",
       "      <td>0.0</td>\n",
       "      <td>100000000.0</td>\n",
       "      <td>Victor Osimhen</td>\n",
       "      <td>-100000000.0</td>\n",
       "    </tr>\n",
       "    <tr>\n",
       "      <th>40047</th>\n",
       "      <td>80444</td>\n",
       "      <td>2019-08-19</td>\n",
       "      <td>19/20</td>\n",
       "      <td>131</td>\n",
       "      <td>27</td>\n",
       "      <td>Barcelona</td>\n",
       "      <td>Bayern Munich</td>\n",
       "      <td>0.0</td>\n",
       "      <td>90000000.0</td>\n",
       "      <td>Philippe Coutinho</td>\n",
       "      <td>-90000000.0</td>\n",
       "    </tr>\n",
       "    <tr>\n",
       "      <th>20978</th>\n",
       "      <td>418560</td>\n",
       "      <td>2022-07-01</td>\n",
       "      <td>22/23</td>\n",
       "      <td>16</td>\n",
       "      <td>281</td>\n",
       "      <td>Bor. Dortmund</td>\n",
       "      <td>Man City</td>\n",
       "      <td>60000000.0</td>\n",
       "      <td>150000000.0</td>\n",
       "      <td>Erling Haaland</td>\n",
       "      <td>-90000000.0</td>\n",
       "    </tr>\n",
       "    <tr>\n",
       "      <th>...</th>\n",
       "      <td>...</td>\n",
       "      <td>...</td>\n",
       "      <td>...</td>\n",
       "      <td>...</td>\n",
       "      <td>...</td>\n",
       "      <td>...</td>\n",
       "      <td>...</td>\n",
       "      <td>...</td>\n",
       "      <td>...</td>\n",
       "      <td>...</td>\n",
       "      <td>...</td>\n",
       "    </tr>\n",
       "    <tr>\n",
       "      <th>79641</th>\n",
       "      <td>35207</td>\n",
       "      <td>1995-07-01</td>\n",
       "      <td>95/96</td>\n",
       "      <td>42281</td>\n",
       "      <td>11896</td>\n",
       "      <td>PTSV Dort. Yth.</td>\n",
       "      <td>Dortmund Yth.</td>\n",
       "      <td>0.0</td>\n",
       "      <td>NaN</td>\n",
       "      <td>Marco Reus</td>\n",
       "      <td>NaN</td>\n",
       "    </tr>\n",
       "    <tr>\n",
       "      <th>79642</th>\n",
       "      <td>22141</td>\n",
       "      <td>1994-07-01</td>\n",
       "      <td>94/95</td>\n",
       "      <td>59178</td>\n",
       "      <td>29463</td>\n",
       "      <td>Castellammare</td>\n",
       "      <td>Sorrento Youth</td>\n",
       "      <td>NaN</td>\n",
       "      <td>NaN</td>\n",
       "      <td>Antonio Mirante</td>\n",
       "      <td>NaN</td>\n",
       "    </tr>\n",
       "    <tr>\n",
       "      <th>79643</th>\n",
       "      <td>33829</td>\n",
       "      <td>1994-07-01</td>\n",
       "      <td>94/95</td>\n",
       "      <td>58405</td>\n",
       "      <td>53957</td>\n",
       "      <td>FC Penafiel You</td>\n",
       "      <td>Sporting Yth.</td>\n",
       "      <td>NaN</td>\n",
       "      <td>NaN</td>\n",
       "      <td>José Fonte</td>\n",
       "      <td>NaN</td>\n",
       "    </tr>\n",
       "    <tr>\n",
       "      <th>79644</th>\n",
       "      <td>40680</td>\n",
       "      <td>1994-07-01</td>\n",
       "      <td>94/95</td>\n",
       "      <td>47320</td>\n",
       "      <td>47318</td>\n",
       "      <td>Lichtenw. Yth.</td>\n",
       "      <td>Schornbach Yth.</td>\n",
       "      <td>0.0</td>\n",
       "      <td>NaN</td>\n",
       "      <td>Sven Ulreich</td>\n",
       "      <td>NaN</td>\n",
       "    </tr>\n",
       "    <tr>\n",
       "      <th>79645</th>\n",
       "      <td>61989</td>\n",
       "      <td>1993-07-01</td>\n",
       "      <td>93/94</td>\n",
       "      <td>55345</td>\n",
       "      <td>55343</td>\n",
       "      <td>A. Ickern Yth.</td>\n",
       "      <td>VfR Rauxel Yth.</td>\n",
       "      <td>0.0</td>\n",
       "      <td>NaN</td>\n",
       "      <td>Michael Esser</td>\n",
       "      <td>NaN</td>\n",
       "    </tr>\n",
       "  </tbody>\n",
       "</table>\n",
       "<p>79646 rows × 11 columns</p>\n",
       "</div>"
      ],
      "text/plain": [
       "       player_id transfer_date transfer_season  from_club_id  to_club_id  \\\n",
       "4926      342229    2024-07-01           24/25           583         418   \n",
       "49883     342229    2018-06-30           17/18           583         162   \n",
       "2206      401923    2024-09-04           24/25          6195         141   \n",
       "40047      80444    2019-08-19           19/20           131          27   \n",
       "20978     418560    2022-07-01           22/23            16         281   \n",
       "...          ...           ...             ...           ...         ...   \n",
       "79641      35207    1995-07-01           95/96         42281       11896   \n",
       "79642      22141    1994-07-01           94/95         59178       29463   \n",
       "79643      33829    1994-07-01           94/95         58405       53957   \n",
       "79644      40680    1994-07-01           94/95         47320       47318   \n",
       "79645      61989    1993-07-01           93/94         55345       55343   \n",
       "\n",
       "        from_club_name     to_club_name  transfer_fee  market_value_in_eur  \\\n",
       "4926          Paris SG      Real Madrid           0.0          180000000.0   \n",
       "49883         Paris SG           Monaco           0.0          120000000.0   \n",
       "2206            Napoli      Galatasaray           0.0          100000000.0   \n",
       "40047        Barcelona    Bayern Munich           0.0           90000000.0   \n",
       "20978    Bor. Dortmund         Man City    60000000.0          150000000.0   \n",
       "...                ...              ...           ...                  ...   \n",
       "79641  PTSV Dort. Yth.    Dortmund Yth.           0.0                  NaN   \n",
       "79642    Castellammare   Sorrento Youth           NaN                  NaN   \n",
       "79643  FC Penafiel You    Sporting Yth.           NaN                  NaN   \n",
       "79644   Lichtenw. Yth.  Schornbach Yth.           0.0                  NaN   \n",
       "79645   A. Ickern Yth.  VfR Rauxel Yth.           0.0                  NaN   \n",
       "\n",
       "             player_name  overpayment  \n",
       "4926       Kylian Mbappé -180000000.0  \n",
       "49883      Kylian Mbappé -120000000.0  \n",
       "2206      Victor Osimhen -100000000.0  \n",
       "40047  Philippe Coutinho  -90000000.0  \n",
       "20978     Erling Haaland  -90000000.0  \n",
       "...                  ...          ...  \n",
       "79641         Marco Reus          NaN  \n",
       "79642    Antonio Mirante          NaN  \n",
       "79643         José Fonte          NaN  \n",
       "79644       Sven Ulreich          NaN  \n",
       "79645      Michael Esser          NaN  \n",
       "\n",
       "[79646 rows x 11 columns]"
      ]
     },
     "execution_count": 20,
     "metadata": {},
     "output_type": "execute_result"
    }
   ],
   "source": [
    "pdf_transfers.sort_values(\"overpayment\")"
   ]
  },
  {
   "cell_type": "code",
   "execution_count": 19,
   "id": "8b0b4b7d",
   "metadata": {},
   "outputs": [
    {
     "data": {
      "application/vnd.microsoft.datawrangler.viewer.v0+json": {
       "columns": [
        {
         "name": "index",
         "rawType": "int64",
         "type": "integer"
        },
        {
         "name": "player_id",
         "rawType": "int64",
         "type": "integer"
        },
        {
         "name": "transfer_date",
         "rawType": "object",
         "type": "string"
        },
        {
         "name": "transfer_season",
         "rawType": "object",
         "type": "string"
        },
        {
         "name": "from_club_id",
         "rawType": "int64",
         "type": "integer"
        },
        {
         "name": "to_club_id",
         "rawType": "int64",
         "type": "integer"
        },
        {
         "name": "from_club_name",
         "rawType": "object",
         "type": "string"
        },
        {
         "name": "to_club_name",
         "rawType": "object",
         "type": "string"
        },
        {
         "name": "transfer_fee",
         "rawType": "float64",
         "type": "float"
        },
        {
         "name": "market_value_in_eur",
         "rawType": "float64",
         "type": "float"
        },
        {
         "name": "player_name",
         "rawType": "object",
         "type": "string"
        },
        {
         "name": "overpayment",
         "rawType": "float64",
         "type": "float"
        }
       ],
       "ref": "9e5f99d1-423e-442d-ad22-e15e7cecfd38",
       "rows": [
        [
         "51801",
         "288230",
         "2017-08-25",
         "17/18",
         "16",
         "131",
         "Bor. Dortmund",
         "Barcelona",
         "135000000.0",
         "33000000.0",
         "Ousmane Dembélé",
         "102000000.0"
        ],
        [
         "16528",
         "648195",
         "2023-01-31",
         "22/23",
         "294",
         "631",
         "Benfica",
         "Chelsea",
         "121000000.0",
         "55000000.0",
         "Enzo Fernández",
         "66000000.0"
        ],
        [
         "47851",
         "342229",
         "2018-07-01",
         "18/19",
         "162",
         "583",
         "Monaco",
         "Paris SG",
         "180000000.0",
         "120000000.0",
         "Kylian Mbappé",
         "60000000.0"
        ],
        [
         "18559",
         "602105",
         "2022-08-30",
         "22/23",
         "610",
         "985",
         "Ajax",
         "Man Utd",
         "95000000.0",
         "35000000.0",
         "Antony",
         "60000000.0"
        ],
        [
         "46468",
         "192279",
         "2018-08-08",
         "18/19",
         "621",
         "631",
         "Athletic",
         "Chelsea",
         "80000000.0",
         "20000000.0",
         "Kepa Arrizabalaga",
         "60000000.0"
        ],
        [
         "41214",
         "462250",
         "2019-07-03",
         "19/20",
         "294",
         "13",
         "Benfica",
         "Atlético Madrid",
         "127200000.0",
         "70000000.0",
         "João Félix",
         "57200000.0"
        ],
        [
         "51005",
         "139208",
         "2018-01-01",
         "17/18",
         "180",
         "31",
         "Southampton",
         "Liverpool",
         "84650000.0",
         "30000000.0",
         "Virgil van Dijk",
         "54650000.0"
        ],
        [
         "26931",
         "203460",
         "2021-08-05",
         "21/22",
         "405",
         "281",
         "Aston Villa",
         "Man City",
         "117500000.0",
         "65000000.0",
         "Jack Grealish",
         "52500000.0"
        ],
        [
         "60811",
         "182877",
         "2015-09-01",
         "15/16",
         "162",
         "985",
         "Monaco",
         "Man Utd",
         "60000000.0",
         "8000000.0",
         "Anthony Martial",
         "52000000.0"
        ],
        [
         "50887",
         "80444",
         "2018-01-08",
         "17/18",
         "31",
         "131",
         "Liverpool",
         "Barcelona",
         "135000000.0",
         "90000000.0",
         "Philippe Coutinho",
         "45000000.0"
        ],
        [
         "52279",
         "157495",
         "2017-07-24",
         "17/18",
         "162",
         "281",
         "Monaco",
         "Man City",
         "57500000.0",
         "13000000.0",
         "Benjamin Mendy",
         "44500000.0"
        ],
        [
         "1187",
         "466805",
         "2025-02-03",
         "24/25",
         "720",
         "281",
         "FC Porto",
         "Man City",
         "60000000.0",
         "18000000.0",
         "Nico González",
         "42000000.0"
        ],
        [
         "11354",
         "687626",
         "2023-08-14",
         "23/24",
         "1237",
         "631",
         "Brighton",
         "Chelsea",
         "116000000.0",
         "75000000.0",
         "Moisés Caicedo",
         "41000000.0"
        ],
        [
         "18464",
         "475411",
         "2022-08-31",
         "22/23",
         "1003",
         "631",
         "Leicester",
         "Chelsea",
         "80400000.0",
         "40000000.0",
         "Wesley Fofana",
         "40400000.0"
        ],
        [
         "18654",
         "349066",
         "2022-08-26",
         "22/23",
         "681",
         "762",
         "Real Sociedad",
         "Newcastle",
         "70000000.0",
         "30000000.0",
         "Alexander Isak",
         "40000000.0"
        ],
        [
         "50575",
         "176553",
         "2018-01-30",
         "17/18",
         "621",
         "281",
         "Athletic",
         "Man City",
         "65000000.0",
         "25000000.0",
         "Aymeric Laporte",
         "40000000.0"
        ],
        [
         "33998",
         "401923",
         "2020-09-01",
         "20/21",
         "1082",
         "6195",
         "LOSC Lille",
         "Napoli",
         "77500000.0",
         "40000000.0",
         "Victor Osimhen",
         "37500000.0"
        ],
        [
         "19149",
         "284857",
         "2022-08-05",
         "22/23",
         "1237",
         "631",
         "Brighton",
         "Chelsea",
         "65300000.0",
         "28000000.0",
         "Marc Cucurella",
         "37300000.0"
        ],
        [
         "40327",
         "177907",
         "2019-08-05",
         "19/20",
         "1003",
         "985",
         "Leicester",
         "Man Utd",
         "87000000.0",
         "50000000.0",
         "Harry Maguire",
         "37000000.0"
        ],
        [
         "33337",
         "258004",
         "2020-09-29",
         "20/21",
         "294",
         "281",
         "Benfica",
         "Man City",
         "71600000.0",
         "35000000.0",
         "Rúben Dias",
         "36600000.0"
        ],
        [
         "56932",
         "122153",
         "2016-08-09",
         "16/17",
         "506",
         "985",
         "Juventus",
         "Man Utd",
         "105000000.0",
         "70000000.0",
         "Paul Pogba",
         "35000000.0"
        ],
        [
         "52566",
         "96341",
         "2017-07-10",
         "17/18",
         "29",
         "985",
         "Everton",
         "Man Utd",
         "84700000.0",
         "50000000.0",
         "Romelu Lukaku",
         "34700000.0"
        ],
        [
         "40432",
         "357164",
         "2019-08-01",
         "19/20",
         "1082",
         "5",
         "LOSC Lille",
         "AC Milan",
         "49500000.0",
         "15000000.0",
         "Rafael Leão",
         "34500000.0"
        ],
        [
         "11017",
         "486049",
         "2023-08-24",
         "23/24",
         "273",
         "281",
         "Stade Rennais",
         "Man City",
         "60000000.0",
         "28000000.0",
         "Jérémy Doku",
         "32000000.0"
        ],
        [
         "60916",
         "88755",
         "2015-08-30",
         "15/16",
         "82",
         "281",
         "VfL Wolfsburg",
         "Man City",
         "76000000.0",
         "45000000.0",
         "Kevin De Bruyne",
         "31000000.0"
        ],
        [
         "18765",
         "16306",
         "2022-08-22",
         "22/23",
         "418",
         "985",
         "Real Madrid",
         "Man Utd",
         "70650000.0",
         "40000000.0",
         "Casemiro",
         "30650000.0"
        ],
        [
         "27090",
         "335721",
         "2021-07-30",
         "21/22",
         "1237",
         "11",
         "Brighton",
         "Arsenal",
         "58500000.0",
         "28000000.0",
         "Ben White",
         "30500000.0"
        ],
        [
         "11216",
         "628451",
         "2023-08-18",
         "23/24",
         "180",
         "631",
         "Southampton",
         "Chelsea",
         "62100000.0",
         "32000000.0",
         "Roméo Lavia",
         "30100000.0"
        ],
        [
         "21212",
         "546543",
         "2022-07-01",
         "22/23",
         "294",
         "31",
         "Benfica",
         "Liverpool",
         "85000000.0",
         "55000000.0",
         "Darwin Núñez",
         "30000000.0"
        ],
        [
         "11955",
         "323704",
         "2023-07-26",
         "23/24",
         "964",
         "1114",
         "Zenit S-Pb",
         "Al-Hilal",
         "60000000.0",
         "30000000.0",
         "Malcom",
         "30000000.0"
        ],
        [
         "17087",
         "537860",
         "2023-01-15",
         "22/23",
         "660",
         "631",
         "Shakhtar D.",
         "Chelsea",
         "70000000.0",
         "40000000.0",
         "Mykhaylo Mudryk",
         "30000000.0"
        ],
        [
         "57939",
         "286384",
         "2016-07-01",
         "16/17",
         "1050",
         "985",
         "Villarreal",
         "Man Utd",
         "38000000.0",
         "8000000.0",
         "Eric Bailly",
         "30000000.0"
        ],
        [
         "19082",
         "485706",
         "2022-08-09",
         "22/23",
         "1082",
         "29",
         "LOSC Lille",
         "Everton",
         "39870000.0",
         "10000000.0",
         "Amadou Onana",
         "29870000.0"
        ],
        [
         "51675",
         "315853",
         "2017-08-31",
         "17/18",
         "800",
         "46",
         "Atalanta BC",
         "Inter",
         "31100000.0",
         "1500000.0",
         "Alessandro Bastoni",
         "29600000.0"
        ],
        [
         "19928",
         "648195",
         "2022-07-14",
         "22/23",
         "209",
         "294",
         "River Plate",
         "Benfica",
         "44250000.0",
         "15000000.0",
         "Enzo Fernández",
         "29250000.0"
        ],
        [
         "10560",
         "568177",
         "2023-09-01",
         "23/24",
         "281",
         "631",
         "Man City",
         "Chelsea",
         "47000000.0",
         "18000000.0",
         "Cole Palmer",
         "29000000.0"
        ],
        [
         "11612",
         "610442",
         "2023-08-05",
         "23/24",
         "800",
         "985",
         "Atalanta BC",
         "Man Utd",
         "73900000.0",
         "45000000.0",
         "Rasmus Højlund",
         "28900000.0"
        ],
        [
         "2691",
         "538977",
         "2024-08-19",
         "24/25",
         "399",
         "1237",
         "Leeds",
         "Brighton",
         "46700000.0",
         "18000000.0",
         "Georginio Rutter",
         "28700000.0"
        ],
        [
         "46502",
         "262980",
         "2018-08-07",
         "18/19",
         "3368",
         "989",
         "Levante",
         "Bournemouth",
         "30500000.0",
         "2000000.0",
         "Jefferson Lerma",
         "28500000.0"
        ],
        [
         "1600",
         "763079",
         "2025-01-20",
         "24/25",
         "826",
         "281",
         "Lens",
         "Man City",
         "40000000.0",
         "12000000.0",
         "Abdukodir Khusanov",
         "28000000.0"
        ],
        [
         "33835",
         "505653",
         "2020-09-05",
         "20/21",
         "720",
         "543",
         "FC Porto",
         "Wolves",
         "40000000.0",
         "12000000.0",
         "Fábio Silva",
         "28000000.0"
        ],
        [
         "56933",
         "186590",
         "2016-08-09",
         "16/17",
         "29",
         "281",
         "Everton",
         "Man City",
         "55600000.0",
         "28000000.0",
         "John Stones",
         "27600000.0"
        ],
        [
         "10763",
         "708265",
         "2023-08-31",
         "23/24",
         "1041",
         "583",
         "Olympique Lyon",
         "Paris SG",
         "45000000.0",
         "18000000.0",
         "Bradley Barcola",
         "27000000.0"
        ],
        [
         "47526",
         "191614",
         "2018-07-01",
         "18/19",
         "660",
         "985",
         "Shakhtar D.",
         "Man Utd",
         "59000000.0",
         "32000000.0",
         "Fred",
         "27000000.0"
        ],
        [
         "52624",
         "204069",
         "2017-07-07",
         "17/18",
         "1038",
         "46",
         "Sampdoria",
         "Inter",
         "34000000.0",
         "7000000.0",
         "Milan Škriniar",
         "27000000.0"
        ],
        [
         "12366",
         "357662",
         "2023-07-15",
         "23/24",
         "379",
         "11",
         "West Ham",
         "Arsenal",
         "116600000.0",
         "90000000.0",
         "Declan Rice",
         "26600000.0"
        ],
        [
         "5278",
         "567576",
         "2024-07-01",
         "24/25",
         "762",
         "703",
         "Newcastle",
         "Nottm Forest",
         "41200000.0",
         "15000000.0",
         "Elliot Anderson",
         "26200000.0"
        ],
        [
         "52308",
         "128223",
         "2017-07-21",
         "17/18",
         "418",
         "631",
         "Real Madrid",
         "Chelsea",
         "66000000.0",
         "40000000.0",
         "Álvaro Morata",
         "26000000.0"
        ],
        [
         "19492",
         "480762",
         "2022-07-27",
         "22/23",
         "610",
         "985",
         "Ajax",
         "Man Utd",
         "57370000.0",
         "32000000.0",
         "Lisandro Martínez",
         "25370000.0"
        ],
        [
         "11086",
         "231289",
         "2023-08-22",
         "23/24",
         "720",
         "18544",
         "FC Porto",
         "Al-Nassr",
         "60000000.0",
         "35000000.0",
         "Otávio",
         "25000000.0"
        ]
       ],
       "shape": {
        "columns": 11,
        "rows": 79646
       }
      },
      "text/html": [
       "<div>\n",
       "<style scoped>\n",
       "    .dataframe tbody tr th:only-of-type {\n",
       "        vertical-align: middle;\n",
       "    }\n",
       "\n",
       "    .dataframe tbody tr th {\n",
       "        vertical-align: top;\n",
       "    }\n",
       "\n",
       "    .dataframe thead th {\n",
       "        text-align: right;\n",
       "    }\n",
       "</style>\n",
       "<table border=\"1\" class=\"dataframe\">\n",
       "  <thead>\n",
       "    <tr style=\"text-align: right;\">\n",
       "      <th></th>\n",
       "      <th>player_id</th>\n",
       "      <th>transfer_date</th>\n",
       "      <th>transfer_season</th>\n",
       "      <th>from_club_id</th>\n",
       "      <th>to_club_id</th>\n",
       "      <th>from_club_name</th>\n",
       "      <th>to_club_name</th>\n",
       "      <th>transfer_fee</th>\n",
       "      <th>market_value_in_eur</th>\n",
       "      <th>player_name</th>\n",
       "      <th>overpayment</th>\n",
       "    </tr>\n",
       "  </thead>\n",
       "  <tbody>\n",
       "    <tr>\n",
       "      <th>51801</th>\n",
       "      <td>288230</td>\n",
       "      <td>2017-08-25</td>\n",
       "      <td>17/18</td>\n",
       "      <td>16</td>\n",
       "      <td>131</td>\n",
       "      <td>Bor. Dortmund</td>\n",
       "      <td>Barcelona</td>\n",
       "      <td>135000000.0</td>\n",
       "      <td>33000000.0</td>\n",
       "      <td>Ousmane Dembélé</td>\n",
       "      <td>102000000.0</td>\n",
       "    </tr>\n",
       "    <tr>\n",
       "      <th>16528</th>\n",
       "      <td>648195</td>\n",
       "      <td>2023-01-31</td>\n",
       "      <td>22/23</td>\n",
       "      <td>294</td>\n",
       "      <td>631</td>\n",
       "      <td>Benfica</td>\n",
       "      <td>Chelsea</td>\n",
       "      <td>121000000.0</td>\n",
       "      <td>55000000.0</td>\n",
       "      <td>Enzo Fernández</td>\n",
       "      <td>66000000.0</td>\n",
       "    </tr>\n",
       "    <tr>\n",
       "      <th>47851</th>\n",
       "      <td>342229</td>\n",
       "      <td>2018-07-01</td>\n",
       "      <td>18/19</td>\n",
       "      <td>162</td>\n",
       "      <td>583</td>\n",
       "      <td>Monaco</td>\n",
       "      <td>Paris SG</td>\n",
       "      <td>180000000.0</td>\n",
       "      <td>120000000.0</td>\n",
       "      <td>Kylian Mbappé</td>\n",
       "      <td>60000000.0</td>\n",
       "    </tr>\n",
       "    <tr>\n",
       "      <th>18559</th>\n",
       "      <td>602105</td>\n",
       "      <td>2022-08-30</td>\n",
       "      <td>22/23</td>\n",
       "      <td>610</td>\n",
       "      <td>985</td>\n",
       "      <td>Ajax</td>\n",
       "      <td>Man Utd</td>\n",
       "      <td>95000000.0</td>\n",
       "      <td>35000000.0</td>\n",
       "      <td>Antony</td>\n",
       "      <td>60000000.0</td>\n",
       "    </tr>\n",
       "    <tr>\n",
       "      <th>46468</th>\n",
       "      <td>192279</td>\n",
       "      <td>2018-08-08</td>\n",
       "      <td>18/19</td>\n",
       "      <td>621</td>\n",
       "      <td>631</td>\n",
       "      <td>Athletic</td>\n",
       "      <td>Chelsea</td>\n",
       "      <td>80000000.0</td>\n",
       "      <td>20000000.0</td>\n",
       "      <td>Kepa Arrizabalaga</td>\n",
       "      <td>60000000.0</td>\n",
       "    </tr>\n",
       "    <tr>\n",
       "      <th>...</th>\n",
       "      <td>...</td>\n",
       "      <td>...</td>\n",
       "      <td>...</td>\n",
       "      <td>...</td>\n",
       "      <td>...</td>\n",
       "      <td>...</td>\n",
       "      <td>...</td>\n",
       "      <td>...</td>\n",
       "      <td>...</td>\n",
       "      <td>...</td>\n",
       "      <td>...</td>\n",
       "    </tr>\n",
       "    <tr>\n",
       "      <th>79641</th>\n",
       "      <td>35207</td>\n",
       "      <td>1995-07-01</td>\n",
       "      <td>95/96</td>\n",
       "      <td>42281</td>\n",
       "      <td>11896</td>\n",
       "      <td>PTSV Dort. Yth.</td>\n",
       "      <td>Dortmund Yth.</td>\n",
       "      <td>0.0</td>\n",
       "      <td>NaN</td>\n",
       "      <td>Marco Reus</td>\n",
       "      <td>NaN</td>\n",
       "    </tr>\n",
       "    <tr>\n",
       "      <th>79642</th>\n",
       "      <td>22141</td>\n",
       "      <td>1994-07-01</td>\n",
       "      <td>94/95</td>\n",
       "      <td>59178</td>\n",
       "      <td>29463</td>\n",
       "      <td>Castellammare</td>\n",
       "      <td>Sorrento Youth</td>\n",
       "      <td>NaN</td>\n",
       "      <td>NaN</td>\n",
       "      <td>Antonio Mirante</td>\n",
       "      <td>NaN</td>\n",
       "    </tr>\n",
       "    <tr>\n",
       "      <th>79643</th>\n",
       "      <td>33829</td>\n",
       "      <td>1994-07-01</td>\n",
       "      <td>94/95</td>\n",
       "      <td>58405</td>\n",
       "      <td>53957</td>\n",
       "      <td>FC Penafiel You</td>\n",
       "      <td>Sporting Yth.</td>\n",
       "      <td>NaN</td>\n",
       "      <td>NaN</td>\n",
       "      <td>José Fonte</td>\n",
       "      <td>NaN</td>\n",
       "    </tr>\n",
       "    <tr>\n",
       "      <th>79644</th>\n",
       "      <td>40680</td>\n",
       "      <td>1994-07-01</td>\n",
       "      <td>94/95</td>\n",
       "      <td>47320</td>\n",
       "      <td>47318</td>\n",
       "      <td>Lichtenw. Yth.</td>\n",
       "      <td>Schornbach Yth.</td>\n",
       "      <td>0.0</td>\n",
       "      <td>NaN</td>\n",
       "      <td>Sven Ulreich</td>\n",
       "      <td>NaN</td>\n",
       "    </tr>\n",
       "    <tr>\n",
       "      <th>79645</th>\n",
       "      <td>61989</td>\n",
       "      <td>1993-07-01</td>\n",
       "      <td>93/94</td>\n",
       "      <td>55345</td>\n",
       "      <td>55343</td>\n",
       "      <td>A. Ickern Yth.</td>\n",
       "      <td>VfR Rauxel Yth.</td>\n",
       "      <td>0.0</td>\n",
       "      <td>NaN</td>\n",
       "      <td>Michael Esser</td>\n",
       "      <td>NaN</td>\n",
       "    </tr>\n",
       "  </tbody>\n",
       "</table>\n",
       "<p>79646 rows × 11 columns</p>\n",
       "</div>"
      ],
      "text/plain": [
       "       player_id transfer_date transfer_season  from_club_id  to_club_id  \\\n",
       "51801     288230    2017-08-25           17/18            16         131   \n",
       "16528     648195    2023-01-31           22/23           294         631   \n",
       "47851     342229    2018-07-01           18/19           162         583   \n",
       "18559     602105    2022-08-30           22/23           610         985   \n",
       "46468     192279    2018-08-08           18/19           621         631   \n",
       "...          ...           ...             ...           ...         ...   \n",
       "79641      35207    1995-07-01           95/96         42281       11896   \n",
       "79642      22141    1994-07-01           94/95         59178       29463   \n",
       "79643      33829    1994-07-01           94/95         58405       53957   \n",
       "79644      40680    1994-07-01           94/95         47320       47318   \n",
       "79645      61989    1993-07-01           93/94         55345       55343   \n",
       "\n",
       "        from_club_name     to_club_name  transfer_fee  market_value_in_eur  \\\n",
       "51801    Bor. Dortmund        Barcelona   135000000.0           33000000.0   \n",
       "16528          Benfica          Chelsea   121000000.0           55000000.0   \n",
       "47851           Monaco         Paris SG   180000000.0          120000000.0   \n",
       "18559             Ajax          Man Utd    95000000.0           35000000.0   \n",
       "46468         Athletic          Chelsea    80000000.0           20000000.0   \n",
       "...                ...              ...           ...                  ...   \n",
       "79641  PTSV Dort. Yth.    Dortmund Yth.           0.0                  NaN   \n",
       "79642    Castellammare   Sorrento Youth           NaN                  NaN   \n",
       "79643  FC Penafiel You    Sporting Yth.           NaN                  NaN   \n",
       "79644   Lichtenw. Yth.  Schornbach Yth.           0.0                  NaN   \n",
       "79645   A. Ickern Yth.  VfR Rauxel Yth.           0.0                  NaN   \n",
       "\n",
       "             player_name  overpayment  \n",
       "51801    Ousmane Dembélé  102000000.0  \n",
       "16528     Enzo Fernández   66000000.0  \n",
       "47851      Kylian Mbappé   60000000.0  \n",
       "18559             Antony   60000000.0  \n",
       "46468  Kepa Arrizabalaga   60000000.0  \n",
       "...                  ...          ...  \n",
       "79641         Marco Reus          NaN  \n",
       "79642    Antonio Mirante          NaN  \n",
       "79643         José Fonte          NaN  \n",
       "79644       Sven Ulreich          NaN  \n",
       "79645      Michael Esser          NaN  \n",
       "\n",
       "[79646 rows x 11 columns]"
      ]
     },
     "execution_count": 19,
     "metadata": {},
     "output_type": "execute_result"
    }
   ],
   "source": [
    "pdf_transfers.sort_values(\"overpayment\" ,ascending=False)"
   ]
  },
  {
   "cell_type": "code",
   "execution_count": 8,
   "id": "988f8a8c",
   "metadata": {},
   "outputs": [
    {
     "data": {
      "application/vnd.microsoft.datawrangler.viewer.v0+json": {
       "columns": [
        {
         "name": "index",
         "rawType": "int64",
         "type": "integer"
        },
        {
         "name": "player_id",
         "rawType": "int64",
         "type": "integer"
        },
        {
         "name": "transfer_date",
         "rawType": "object",
         "type": "string"
        },
        {
         "name": "transfer_season",
         "rawType": "object",
         "type": "string"
        },
        {
         "name": "from_club_id",
         "rawType": "int64",
         "type": "integer"
        },
        {
         "name": "to_club_id",
         "rawType": "int64",
         "type": "integer"
        },
        {
         "name": "from_club_name",
         "rawType": "object",
         "type": "string"
        },
        {
         "name": "to_club_name",
         "rawType": "object",
         "type": "string"
        },
        {
         "name": "transfer_fee",
         "rawType": "float64",
         "type": "float"
        },
        {
         "name": "market_value_in_eur",
         "rawType": "float64",
         "type": "float"
        },
        {
         "name": "player_name",
         "rawType": "object",
         "type": "string"
        }
       ],
       "ref": "10409d43-a56e-42a2-ac1c-b588d7bf8f9a",
       "rows": [
        [
         "47851",
         "342229",
         "2018-07-01",
         "18/19",
         "162",
         "583",
         "Monaco",
         "Paris SG",
         "180000000.0",
         "120000000.0",
         "Kylian Mbappé"
        ],
        [
         "51801",
         "288230",
         "2017-08-25",
         "17/18",
         "16",
         "131",
         "Bor. Dortmund",
         "Barcelona",
         "135000000.0",
         "33000000.0",
         "Ousmane Dembélé"
        ],
        [
         "50887",
         "80444",
         "2018-01-08",
         "17/18",
         "31",
         "131",
         "Liverpool",
         "Barcelona",
         "135000000.0",
         "90000000.0",
         "Philippe Coutinho"
        ],
        [
         "41214",
         "462250",
         "2019-07-03",
         "19/20",
         "294",
         "13",
         "Benfica",
         "Atlético Madrid",
         "127200000.0",
         "70000000.0",
         "João Félix"
        ],
        [
         "16528",
         "648195",
         "2023-01-31",
         "22/23",
         "294",
         "631",
         "Benfica",
         "Chelsea",
         "121000000.0",
         "55000000.0",
         "Enzo Fernández"
        ],
        [
         "40890",
         "125781",
         "2019-07-14",
         "19/20",
         "13",
         "131",
         "Atlético Madrid",
         "Barcelona",
         "120000000.0",
         "130000000.0",
         "Antoine Griezmann"
        ],
        [
         "26931",
         "203460",
         "2021-08-05",
         "21/22",
         "405",
         "281",
         "Aston Villa",
         "Man City",
         "117500000.0",
         "65000000.0",
         "Jack Grealish"
        ],
        [
         "12366",
         "357662",
         "2023-07-15",
         "23/24",
         "379",
         "11",
         "West Ham",
         "Arsenal",
         "116600000.0",
         "90000000.0",
         "Declan Rice"
        ],
        [
         "11354",
         "687626",
         "2023-08-14",
         "23/24",
         "1237",
         "631",
         "Brighton",
         "Chelsea",
         "116000000.0",
         "75000000.0",
         "Moisés Caicedo"
        ],
        [
         "26767",
         "96341",
         "2021-08-12",
         "21/22",
         "46",
         "631",
         "Inter",
         "Chelsea",
         "113000000.0",
         "100000000.0",
         "Romelu Lukaku"
        ],
        [
         "13508",
         "581678",
         "2023-07-01",
         "23/24",
         "16",
         "418",
         "Bor. Dortmund",
         "Real Madrid",
         "113000000.0",
         "120000000.0",
         "Jude Bellingham"
        ],
        [
         "56932",
         "122153",
         "2016-08-09",
         "16/17",
         "506",
         "985",
         "Juventus",
         "Man Utd",
         "105000000.0",
         "70000000.0",
         "Paul Pogba"
        ],
        [
         "18559",
         "602105",
         "2022-08-30",
         "22/23",
         "610",
         "985",
         "Ajax",
         "Man Utd",
         "95000000.0",
         "35000000.0",
         "Antony"
        ],
        [
         "10524",
         "487969",
         "2023-09-01",
         "23/24",
         "24",
         "583",
         "E. Frankfurt",
         "Paris SG",
         "95000000.0",
         "80000000.0",
         "Randal Kolo Muani"
        ],
        [
         "11368",
         "132098",
         "2023-08-12",
         "23/24",
         "148",
         "27",
         "Tottenham",
         "Bayern Munich",
         "95000000.0",
         "90000000.0",
         "Harry Kane"
        ],
        [
         "11607",
         "475959",
         "2023-08-05",
         "23/24",
         "23826",
         "281",
         "RB Leipzig",
         "Man City",
         "90000000.0",
         "75000000.0",
         "Josko Gvardiol"
        ],
        [
         "40327",
         "177907",
         "2019-08-05",
         "19/20",
         "1003",
         "985",
         "Leicester",
         "Man Utd",
         "87000000.0",
         "50000000.0",
         "Harry Maguire"
        ],
        [
         "41684",
         "326330",
         "2019-07-01",
         "19/20",
         "610",
         "131",
         "Ajax",
         "Barcelona",
         "86000000.0",
         "85000000.0",
         "Frenkie de Jong"
        ],
        [
         "40784",
         "326031",
         "2019-07-18",
         "19/20",
         "610",
         "506",
         "Ajax",
         "Juventus",
         "85500000.0",
         "75000000.0",
         "Matthijs de Ligt"
        ],
        [
         "27275",
         "401173",
         "2021-07-23",
         "21/22",
         "16",
         "985",
         "Bor. Dortmund",
         "Man Utd",
         "85000000.0",
         "100000000.0",
         "Jadon Sancho"
        ],
        [
         "21212",
         "546543",
         "2022-07-01",
         "22/23",
         "294",
         "31",
         "Benfica",
         "Liverpool",
         "85000000.0",
         "55000000.0",
         "Darwin Núñez"
        ],
        [
         "52566",
         "96341",
         "2017-07-10",
         "17/18",
         "29",
         "985",
         "Everton",
         "Man Utd",
         "84700000.0",
         "50000000.0",
         "Romelu Lukaku"
        ],
        [
         "51005",
         "139208",
         "2018-01-01",
         "17/18",
         "180",
         "31",
         "Southampton",
         "Liverpool",
         "84650000.0",
         "30000000.0",
         "Virgil van Dijk"
        ],
        [
         "24679",
         "357498",
         "2022-01-28",
         "21/22",
         "430",
         "506",
         "Fiorentina",
         "Juventus",
         "83500000.0",
         "70000000.0",
         "Dušan Vlahović"
        ],
        [
         "33986",
         "362842",
         "2020-09-01",
         "20/21",
         "131",
         "506",
         "Barcelona",
         "Juventus",
         "80600000.0",
         "56000000.0",
         "Arthur Melo"
        ],
        [
         "18464",
         "475411",
         "2022-08-31",
         "22/23",
         "1003",
         "631",
         "Leicester",
         "Chelsea",
         "80400000.0",
         "40000000.0",
         "Wesley Fofana"
        ],
        [
         "20968",
         "413112",
         "2022-07-01",
         "22/23",
         "162",
         "418",
         "Monaco",
         "Real Madrid",
         "80000000.0",
         "60000000.0",
         "Aurélien Tchouaméni"
        ],
        [
         "33847",
         "309400",
         "2020-09-04",
         "20/21",
         "15",
         "631",
         "B. Leverkusen",
         "Chelsea",
         "80000000.0",
         "81000000.0",
         "Kai Havertz"
        ],
        [
         "41599",
         "281963",
         "2019-07-01",
         "19/20",
         "13",
         "27",
         "Atlético Madrid",
         "Bayern Munich",
         "80000000.0",
         "70000000.0",
         "Lucas Hernández"
        ],
        [
         "46468",
         "192279",
         "2018-08-08",
         "18/19",
         "621",
         "631",
         "Athletic",
         "Chelsea",
         "80000000.0",
         "20000000.0",
         "Kepa Arrizabalaga"
        ],
        [
         "40428",
         "343052",
         "2019-08-01",
         "19/20",
         "1082",
         "11",
         "LOSC Lille",
         "Arsenal",
         "80000000.0",
         "65000000.0",
         "Nicolas Pépé"
        ],
        [
         "33998",
         "401923",
         "2020-09-01",
         "20/21",
         "1082",
         "6195",
         "LOSC Lille",
         "Napoli",
         "77500000.0",
         "40000000.0",
         "Victor Osimhen"
        ],
        [
         "60916",
         "88755",
         "2015-08-30",
         "15/16",
         "82",
         "281",
         "VfL Wolfsburg",
         "Man City",
         "76000000.0",
         "45000000.0",
         "Kevin De Bruyne"
        ],
        [
         "13175",
         "309400",
         "2023-07-01",
         "23/24",
         "631",
         "11",
         "Chelsea",
         "Arsenal",
         "75000000.0",
         "55000000.0",
         "Kai Havertz"
        ],
        [
         "1533",
         "445939",
         "2025-01-23",
         "24/25",
         "24",
         "281",
         "E. Frankfurt",
         "Man City",
         "75000000.0",
         "60000000.0",
         "Omar Marmoush"
        ],
        [
         "2829",
         "576024",
         "2024-08-12",
         "24/25",
         "281",
         "13",
         "Man City",
         "Atlético Madrid",
         "75000000.0",
         "90000000.0",
         "Julián Alvarez"
        ],
        [
         "64817",
         "45320",
         "2014-08-26",
         "14/15",
         "418",
         "985",
         "Real Madrid",
         "Man Utd",
         "75000000.0",
         "50000000.0",
         "Ángel Di María"
        ],
        [
         "40222",
         "96341",
         "2019-08-08",
         "19/20",
         "985",
         "46",
         "Man Utd",
         "Inter",
         "74000000.0",
         "75000000.0",
         "Romelu Lukaku"
        ],
        [
         "11612",
         "610442",
         "2023-08-05",
         "23/24",
         "800",
         "985",
         "Atalanta BC",
         "Man Utd",
         "73900000.0",
         "45000000.0",
         "Rasmus Højlund"
        ],
        [
         "47542",
         "205562",
         "2018-07-01",
         "18/19",
         "162",
         "13",
         "Monaco",
         "Atlético Madrid",
         "72000000.0",
         "65000000.0",
         "Thomas Lemar"
        ],
        [
         "33337",
         "258004",
         "2020-09-29",
         "20/21",
         "294",
         "281",
         "Benfica",
         "Man City",
         "71600000.0",
         "35000000.0",
         "Rúben Dias"
        ],
        [
         "18765",
         "16306",
         "2022-08-22",
         "22/23",
         "418",
         "985",
         "Real Madrid",
         "Man Utd",
         "70650000.0",
         "40000000.0",
         "Casemiro"
        ],
        [
         "41187",
         "357565",
         "2019-07-04",
         "19/20",
         "13",
         "281",
         "Atlético Madrid",
         "Man City",
         "70000000.0",
         "80000000.0",
         "Rodri"
        ],
        [
         "18654",
         "349066",
         "2022-08-26",
         "22/23",
         "681",
         "762",
         "Real Sociedad",
         "Newcastle",
         "70000000.0",
         "30000000.0",
         "Alexander Isak"
        ],
        [
         "1628",
         "502670",
         "2025-01-17",
         "24/25",
         "6195",
         "583",
         "Napoli",
         "Paris SG",
         "70000000.0",
         "85000000.0",
         "Khvicha Kvaratskhelia"
        ],
        [
         "12886",
         "451276",
         "2023-07-02",
         "23/24",
         "23826",
         "31",
         "RB Leipzig",
         "Liverpool",
         "70000000.0",
         "50000000.0",
         "Dominik Szoboszlai"
        ],
        [
         "17087",
         "537860",
         "2023-01-15",
         "22/23",
         "660",
         "631",
         "Shakhtar D.",
         "Chelsea",
         "70000000.0",
         "40000000.0",
         "Mykhaylo Mudryk"
        ],
        [
         "27840",
         "398073",
         "2021-07-06",
         "21/22",
         "46",
         "583",
         "Inter",
         "Paris SG",
         "68000000.0",
         "60000000.0",
         "Achraf Hakimi"
        ],
        [
         "19727",
         "326031",
         "2022-07-19",
         "22/23",
         "506",
         "27",
         "Juventus",
         "Bayern Munich",
         "67000000.0",
         "70000000.0",
         "Matthijs de Ligt"
        ],
        [
         "52308",
         "128223",
         "2017-07-21",
         "17/18",
         "418",
         "631",
         "Real Madrid",
         "Chelsea",
         "66000000.0",
         "40000000.0",
         "Álvaro Morata"
        ]
       ],
       "shape": {
        "columns": 10,
        "rows": 79646
       }
      },
      "text/html": [
       "<div>\n",
       "<style scoped>\n",
       "    .dataframe tbody tr th:only-of-type {\n",
       "        vertical-align: middle;\n",
       "    }\n",
       "\n",
       "    .dataframe tbody tr th {\n",
       "        vertical-align: top;\n",
       "    }\n",
       "\n",
       "    .dataframe thead th {\n",
       "        text-align: right;\n",
       "    }\n",
       "</style>\n",
       "<table border=\"1\" class=\"dataframe\">\n",
       "  <thead>\n",
       "    <tr style=\"text-align: right;\">\n",
       "      <th></th>\n",
       "      <th>player_id</th>\n",
       "      <th>transfer_date</th>\n",
       "      <th>transfer_season</th>\n",
       "      <th>from_club_id</th>\n",
       "      <th>to_club_id</th>\n",
       "      <th>from_club_name</th>\n",
       "      <th>to_club_name</th>\n",
       "      <th>transfer_fee</th>\n",
       "      <th>market_value_in_eur</th>\n",
       "      <th>player_name</th>\n",
       "    </tr>\n",
       "  </thead>\n",
       "  <tbody>\n",
       "    <tr>\n",
       "      <th>47851</th>\n",
       "      <td>342229</td>\n",
       "      <td>2018-07-01</td>\n",
       "      <td>18/19</td>\n",
       "      <td>162</td>\n",
       "      <td>583</td>\n",
       "      <td>Monaco</td>\n",
       "      <td>Paris SG</td>\n",
       "      <td>180000000.0</td>\n",
       "      <td>120000000.0</td>\n",
       "      <td>Kylian Mbappé</td>\n",
       "    </tr>\n",
       "    <tr>\n",
       "      <th>51801</th>\n",
       "      <td>288230</td>\n",
       "      <td>2017-08-25</td>\n",
       "      <td>17/18</td>\n",
       "      <td>16</td>\n",
       "      <td>131</td>\n",
       "      <td>Bor. Dortmund</td>\n",
       "      <td>Barcelona</td>\n",
       "      <td>135000000.0</td>\n",
       "      <td>33000000.0</td>\n",
       "      <td>Ousmane Dembélé</td>\n",
       "    </tr>\n",
       "    <tr>\n",
       "      <th>50887</th>\n",
       "      <td>80444</td>\n",
       "      <td>2018-01-08</td>\n",
       "      <td>17/18</td>\n",
       "      <td>31</td>\n",
       "      <td>131</td>\n",
       "      <td>Liverpool</td>\n",
       "      <td>Barcelona</td>\n",
       "      <td>135000000.0</td>\n",
       "      <td>90000000.0</td>\n",
       "      <td>Philippe Coutinho</td>\n",
       "    </tr>\n",
       "    <tr>\n",
       "      <th>41214</th>\n",
       "      <td>462250</td>\n",
       "      <td>2019-07-03</td>\n",
       "      <td>19/20</td>\n",
       "      <td>294</td>\n",
       "      <td>13</td>\n",
       "      <td>Benfica</td>\n",
       "      <td>Atlético Madrid</td>\n",
       "      <td>127200000.0</td>\n",
       "      <td>70000000.0</td>\n",
       "      <td>João Félix</td>\n",
       "    </tr>\n",
       "    <tr>\n",
       "      <th>16528</th>\n",
       "      <td>648195</td>\n",
       "      <td>2023-01-31</td>\n",
       "      <td>22/23</td>\n",
       "      <td>294</td>\n",
       "      <td>631</td>\n",
       "      <td>Benfica</td>\n",
       "      <td>Chelsea</td>\n",
       "      <td>121000000.0</td>\n",
       "      <td>55000000.0</td>\n",
       "      <td>Enzo Fernández</td>\n",
       "    </tr>\n",
       "    <tr>\n",
       "      <th>...</th>\n",
       "      <td>...</td>\n",
       "      <td>...</td>\n",
       "      <td>...</td>\n",
       "      <td>...</td>\n",
       "      <td>...</td>\n",
       "      <td>...</td>\n",
       "      <td>...</td>\n",
       "      <td>...</td>\n",
       "      <td>...</td>\n",
       "      <td>...</td>\n",
       "    </tr>\n",
       "    <tr>\n",
       "      <th>79635</th>\n",
       "      <td>35247</td>\n",
       "      <td>1997-07-01</td>\n",
       "      <td>97/98</td>\n",
       "      <td>54530</td>\n",
       "      <td>54529</td>\n",
       "      <td>Vitória SC Yth</td>\n",
       "      <td>Vitória SC U15</td>\n",
       "      <td>NaN</td>\n",
       "      <td>NaN</td>\n",
       "      <td>Vieirinha</td>\n",
       "    </tr>\n",
       "    <tr>\n",
       "      <th>79638</th>\n",
       "      <td>33829</td>\n",
       "      <td>1996-07-01</td>\n",
       "      <td>96/97</td>\n",
       "      <td>53957</td>\n",
       "      <td>53956</td>\n",
       "      <td>Sporting Yth.</td>\n",
       "      <td>Sporting Sub-15</td>\n",
       "      <td>NaN</td>\n",
       "      <td>NaN</td>\n",
       "      <td>José Fonte</td>\n",
       "    </tr>\n",
       "    <tr>\n",
       "      <th>79639</th>\n",
       "      <td>52480</td>\n",
       "      <td>1996-07-01</td>\n",
       "      <td>96/97</td>\n",
       "      <td>58405</td>\n",
       "      <td>54532</td>\n",
       "      <td>FC Penafiel You</td>\n",
       "      <td>Boavista CJ</td>\n",
       "      <td>NaN</td>\n",
       "      <td>NaN</td>\n",
       "      <td>Rúben Ribeiro</td>\n",
       "    </tr>\n",
       "    <tr>\n",
       "      <th>79642</th>\n",
       "      <td>22141</td>\n",
       "      <td>1994-07-01</td>\n",
       "      <td>94/95</td>\n",
       "      <td>59178</td>\n",
       "      <td>29463</td>\n",
       "      <td>Castellammare</td>\n",
       "      <td>Sorrento Youth</td>\n",
       "      <td>NaN</td>\n",
       "      <td>NaN</td>\n",
       "      <td>Antonio Mirante</td>\n",
       "    </tr>\n",
       "    <tr>\n",
       "      <th>79643</th>\n",
       "      <td>33829</td>\n",
       "      <td>1994-07-01</td>\n",
       "      <td>94/95</td>\n",
       "      <td>58405</td>\n",
       "      <td>53957</td>\n",
       "      <td>FC Penafiel You</td>\n",
       "      <td>Sporting Yth.</td>\n",
       "      <td>NaN</td>\n",
       "      <td>NaN</td>\n",
       "      <td>José Fonte</td>\n",
       "    </tr>\n",
       "  </tbody>\n",
       "</table>\n",
       "<p>79646 rows × 10 columns</p>\n",
       "</div>"
      ],
      "text/plain": [
       "       player_id transfer_date transfer_season  from_club_id  to_club_id  \\\n",
       "47851     342229    2018-07-01           18/19           162         583   \n",
       "51801     288230    2017-08-25           17/18            16         131   \n",
       "50887      80444    2018-01-08           17/18            31         131   \n",
       "41214     462250    2019-07-03           19/20           294          13   \n",
       "16528     648195    2023-01-31           22/23           294         631   \n",
       "...          ...           ...             ...           ...         ...   \n",
       "79635      35247    1997-07-01           97/98         54530       54529   \n",
       "79638      33829    1996-07-01           96/97         53957       53956   \n",
       "79639      52480    1996-07-01           96/97         58405       54532   \n",
       "79642      22141    1994-07-01           94/95         59178       29463   \n",
       "79643      33829    1994-07-01           94/95         58405       53957   \n",
       "\n",
       "        from_club_name     to_club_name  transfer_fee  market_value_in_eur  \\\n",
       "47851           Monaco         Paris SG   180000000.0          120000000.0   \n",
       "51801    Bor. Dortmund        Barcelona   135000000.0           33000000.0   \n",
       "50887        Liverpool        Barcelona   135000000.0           90000000.0   \n",
       "41214          Benfica  Atlético Madrid   127200000.0           70000000.0   \n",
       "16528          Benfica          Chelsea   121000000.0           55000000.0   \n",
       "...                ...              ...           ...                  ...   \n",
       "79635   Vitória SC Yth   Vitória SC U15           NaN                  NaN   \n",
       "79638    Sporting Yth.  Sporting Sub-15           NaN                  NaN   \n",
       "79639  FC Penafiel You      Boavista CJ           NaN                  NaN   \n",
       "79642    Castellammare   Sorrento Youth           NaN                  NaN   \n",
       "79643  FC Penafiel You    Sporting Yth.           NaN                  NaN   \n",
       "\n",
       "             player_name  \n",
       "47851      Kylian Mbappé  \n",
       "51801    Ousmane Dembélé  \n",
       "50887  Philippe Coutinho  \n",
       "41214         João Félix  \n",
       "16528     Enzo Fernández  \n",
       "...                  ...  \n",
       "79635          Vieirinha  \n",
       "79638         José Fonte  \n",
       "79639      Rúben Ribeiro  \n",
       "79642    Antonio Mirante  \n",
       "79643         José Fonte  \n",
       "\n",
       "[79646 rows x 10 columns]"
      ]
     },
     "execution_count": 8,
     "metadata": {},
     "output_type": "execute_result"
    }
   ],
   "source": [
    "pdf_transfers.sort_values(\"transfer_fee\" ,ascending=False)"
   ]
  },
  {
   "cell_type": "code",
   "execution_count": 11,
   "id": "73958f3e",
   "metadata": {},
   "outputs": [
    {
     "data": {
      "application/vnd.microsoft.datawrangler.viewer.v0+json": {
       "columns": [
        {
         "name": "index",
         "rawType": "int64",
         "type": "integer"
        },
        {
         "name": "player_id",
         "rawType": "int64",
         "type": "integer"
        },
        {
         "name": "transfer_date",
         "rawType": "object",
         "type": "string"
        },
        {
         "name": "transfer_season",
         "rawType": "object",
         "type": "string"
        },
        {
         "name": "from_club_id",
         "rawType": "int64",
         "type": "integer"
        },
        {
         "name": "to_club_id",
         "rawType": "int64",
         "type": "integer"
        },
        {
         "name": "from_club_name",
         "rawType": "object",
         "type": "string"
        },
        {
         "name": "to_club_name",
         "rawType": "object",
         "type": "string"
        },
        {
         "name": "transfer_fee",
         "rawType": "float64",
         "type": "float"
        },
        {
         "name": "market_value_in_eur",
         "rawType": "float64",
         "type": "float"
        },
        {
         "name": "player_name",
         "rawType": "object",
         "type": "string"
        }
       ],
       "ref": "e7b8c3fa-f7b3-4f53-809c-f8b8c8ad059b",
       "rows": [
        [
         "1",
         "1138758",
         "2026-07-01",
         "26/27",
         "336",
         "631",
         "Sporting CP",
         "Chelsea",
         "52140000.0",
         "45000000.0",
         "Geovany Quenda"
        ],
        [
         "84",
         "670717",
         "2025-07-01",
         "25/26",
         "336",
         "631",
         "Sporting CP",
         "Chelsea",
         "22270000.0",
         "15000000.0",
         "Dário Essugo"
        ],
        [
         "302",
         "386047",
         "2025-06-30",
         "24/25",
         "405",
         "631",
         "Aston Villa",
         "Chelsea",
         "0.0",
         "25000000.0",
         "Axel Disasi"
        ],
        [
         "331",
         "401173",
         "2025-06-30",
         "24/25",
         "631",
         "985",
         "Chelsea",
         "Man Utd",
         "0.0",
         "30000000.0",
         "Jadon Sancho"
        ],
        [
         "383",
         "462250",
         "2025-06-30",
         "24/25",
         "5",
         "631",
         "AC Milan",
         "Chelsea",
         "0.0",
         "25000000.0",
         "João Félix"
        ],
        [
         "386",
         "465555",
         "2025-06-30",
         "24/25",
         "667",
         "631",
         "R. Strasbourg",
         "Chelsea",
         "0.0",
         "18000000.0",
         "Djordje Petrovic"
        ],
        [
         "590",
         "659459",
         "2025-06-30",
         "24/25",
         "16",
         "631",
         "Bor. Dortmund",
         "Chelsea",
         "0.0",
         "15000000.0",
         "Carney Chukwuemeka"
        ],
        [
         "682",
         "743600",
         "2025-06-30",
         "24/25",
         "667",
         "631",
         "R. Strasbourg",
         "Chelsea",
         "0.0",
         "25000000.0",
         "Andrey Santos"
        ],
        [
         "713",
         "805714",
         "2025-06-30",
         "24/25",
         "506",
         "631",
         "Juventus",
         "Chelsea",
         "0.0",
         "18000000.0",
         "Renato Veiga"
        ],
        [
         "744",
         "834397",
         "2025-06-30",
         "24/25",
         "1184",
         "631",
         "KRC Genk",
         "Chelsea",
         "0.0",
         "10000000.0",
         "Mike Penders"
        ],
        [
         "910",
         "134425",
         "2025-05-31",
         "24/25",
         "11",
         "631",
         "Arsenal",
         "Chelsea",
         "0.0",
         "15000000.0",
         "Raheem Sterling"
        ],
        [
         "914",
         "192279",
         "2025-05-31",
         "24/25",
         "989",
         "631",
         "Bournemouth",
         "Chelsea",
         "0.0",
         "11000000.0",
         "Kepa Arrizabalaga"
        ],
        [
         "917",
         "316125",
         "2025-05-31",
         "24/25",
         "873",
         "631",
         "Crystal Palace",
         "Chelsea",
         "0.0",
         "18000000.0",
         "Ben Chilwell"
        ],
        [
         "941",
         "571743",
         "2025-05-31",
         "24/25",
         "29",
         "631",
         "Everton",
         "Chelsea",
         "0.0",
         "13000000.0",
         "Armando Broja"
        ],
        [
         "956",
         "711999",
         "2025-05-31",
         "24/25",
         "180",
         "631",
         "Southampton",
         "Chelsea",
         "0.0",
         "20000000.0",
         "Lesley Ugochukwu"
        ],
        [
         "1155",
         "316125",
         "2025-02-03",
         "24/25",
         "631",
         "873",
         "Chelsea",
         "Crystal Palace",
         "0.0",
         "20000000.0",
         "Ben Chilwell"
        ],
        [
         "1167",
         "386047",
         "2025-02-03",
         "24/25",
         "631",
         "405",
         "Chelsea",
         "Aston Villa",
         "0.0",
         "30000000.0",
         "Axel Disasi"
        ],
        [
         "1186",
         "462250",
         "2025-02-03",
         "24/25",
         "631",
         "5",
         "Chelsea",
         "AC Milan",
         "0.0",
         "30000000.0",
         "João Félix"
        ],
        [
         "1221",
         "659459",
         "2025-02-03",
         "24/25",
         "631",
         "16",
         "Chelsea",
         "Bor. Dortmund",
         "0.0",
         "15000000.0",
         "Carney Chukwuemeka"
        ],
        [
         "1267",
         "1010854",
         "2025-02-03",
         "24/25",
         "618",
         "631",
         "Saint-Étienne",
         "Chelsea",
         "15000000.0",
         "5000000.0",
         "Mathis Amougou"
        ],
        [
         "1291",
         "622380",
         "2025-02-02",
         "24/25",
         "631",
         "416",
         "Chelsea",
         "Torino",
         "13000000.0",
         "10000000.0",
         "Cesare Casadei"
        ],
        [
         "1455",
         "787232",
         "2025-01-28",
         "24/25",
         "1467",
         "631",
         "Göztepe",
         "Chelsea",
         "0.0",
         "8500000.0",
         "David Datro Fofana"
        ],
        [
         "1482",
         "805714",
         "2025-01-27",
         "24/25",
         "631",
         "506",
         "Chelsea",
         "Juventus",
         "0.0",
         "10000000.0",
         "Renato Veiga"
        ],
        [
         "1656",
         "346314",
         "2025-01-15",
         "24/25",
         "873",
         "631",
         "Crystal Palace",
         "Chelsea",
         "0.0",
         "13000000.0",
         "Trevoh Chalobah"
        ],
        [
         "1824",
         "1145504",
         "2025-01-03",
         "24/25",
         "189",
         "631",
         "Boca Juniors",
         "Chelsea",
         "0.0",
         "8000000.0",
         "Aarón Anselmino"
        ],
        [
         "2027",
         "936874",
         "2024-12-18",
         "24/25",
         "9250",
         "631",
         "Chelsea U21",
         "Chelsea",
         null,
         null,
         "Tyrique George"
        ],
        [
         "2028",
         "1004708",
         "2024-12-18",
         "24/25",
         "9250",
         "631",
         "Chelsea U21",
         "Chelsea",
         null,
         "1000000.0",
         "Josh Acheampong"
        ],
        [
         "2114",
         "787232",
         "2024-09-13",
         "24/25",
         "631",
         "1467",
         "Chelsea",
         "Göztepe",
         "0.0",
         "12000000.0",
         "David Datro Fofana"
        ],
        [
         "2314",
         "134425",
         "2024-08-30",
         "24/25",
         "631",
         "11",
         "Chelsea",
         "Arsenal",
         "0.0",
         "35000000.0",
         "Raheem Sterling"
        ],
        [
         "2355",
         "346314",
         "2024-08-30",
         "24/25",
         "631",
         "873",
         "Chelsea",
         "Crystal Palace",
         "0.0",
         "13000000.0",
         "Trevoh Chalobah"
        ],
        [
         "2371",
         "401173",
         "2024-08-30",
         "24/25",
         "985",
         "631",
         "Man Utd",
         "Chelsea",
         "0.0",
         "30000000.0",
         "Jadon Sancho"
        ],
        [
         "2382",
         "465555",
         "2024-08-30",
         "24/25",
         "631",
         "667",
         "Chelsea",
         "R. Strasbourg",
         "0.0",
         "20000000.0",
         "Djordje Petrovic"
        ],
        [
         "2400",
         "571743",
         "2024-08-30",
         "24/25",
         "631",
         "29",
         "Chelsea",
         "Everton",
         "0.0",
         "22000000.0",
         "Armando Broja"
        ],
        [
         "2448",
         "96341",
         "2024-08-29",
         "24/25",
         "631",
         "6195",
         "Chelsea",
         "Napoli",
         "30000000.0",
         "30000000.0",
         "Romelu Lukaku"
        ],
        [
         "2449",
         "192279",
         "2024-08-29",
         "24/25",
         "631",
         "989",
         "Chelsea",
         "Bournemouth",
         "0.0",
         "12000000.0",
         "Kepa Arrizabalaga"
        ],
        [
         "2457",
         "433181",
         "2024-08-29",
         "24/25",
         "631",
         "749",
         "Chelsea",
         "FC Empoli",
         "0.0",
         "700000.0",
         "Tino Anjorin"
        ],
        [
         "2504",
         "834397",
         "2024-08-28",
         "24/25",
         "631",
         "1184",
         "Chelsea",
         "KRC Genk",
         "0.0",
         "1000000.0",
         "Mike Penders"
        ],
        [
         "2532",
         "834397",
         "2024-08-27",
         "24/25",
         "1184",
         "631",
         "KRC Genk",
         "Chelsea",
         "20000000.0",
         "1000000.0",
         "Mike Penders"
        ],
        [
         "2652",
         "462250",
         "2024-08-21",
         "24/25",
         "13",
         "631",
         "Atlético Madrid",
         "Chelsea",
         "52000000.0",
         "30000000.0",
         "João Félix"
        ],
        [
         "2657",
         "488362",
         "2024-08-21",
         "24/25",
         "631",
         "13",
         "Chelsea",
         "Atlético Madrid",
         "42000000.0",
         "50000000.0",
         "Conor Gallagher"
        ],
        [
         "2746",
         "655006",
         "2024-08-16",
         "24/25",
         "631",
         "667",
         "Chelsea",
         "R. Strasbourg",
         "2000000.0",
         "3000000.0",
         "Diego Moreira"
        ],
        [
         "2749",
         "711999",
         "2024-08-16",
         "24/25",
         "631",
         "180",
         "Chelsea",
         "Southampton",
         "0.0",
         "25000000.0",
         "Lesley Ugochukwu"
        ],
        [
         "2841",
         "487465",
         "2024-08-11",
         "24/25",
         "543",
         "631",
         "Wolves",
         "Chelsea",
         "60000000.0",
         "55000000.0",
         "Pedro Neto"
        ],
        [
         "2888",
         "1145504",
         "2024-08-09",
         "24/25",
         "631",
         "189",
         "Chelsea",
         "Boca Juniors",
         "0.0",
         "3000000.0",
         "Aarón Anselmino"
        ],
        [
         "2911",
         "1145504",
         "2024-08-08",
         "24/25",
         "189",
         "631",
         "Boca Juniors",
         "Chelsea",
         "16500000.0",
         "3000000.0",
         "Aarón Anselmino"
        ],
        [
         "3072",
         "585323",
         "2024-07-30",
         "24/25",
         "1050",
         "631",
         "Villarreal",
         "Chelsea",
         "24500000.0",
         "20000000.0",
         "Filip Jørgensen"
        ],
        [
         "3128",
         "344596",
         "2024-07-26",
         "24/25",
         "631",
         "826",
         "Chelsea",
         "Lens",
         "0.0",
         "4000000.0",
         "Malang Sarr"
        ],
        [
         "3738",
         "805714",
         "2024-07-12",
         "24/25",
         "26",
         "631",
         "FC Basel",
         "Chelsea",
         "14000000.0",
         "3000000.0",
         "Renato Veiga"
        ],
        [
         "3808",
         "29241",
         "2024-07-10",
         "24/25",
         "631",
         "2462",
         "Chelsea",
         "Fluminense",
         "0.0",
         "1000000.0",
         "Thiago Silva"
        ],
        [
         "4267",
         "475188",
         "2024-07-02",
         "24/25",
         "1003",
         "631",
         "Leicester",
         "Chelsea",
         "35400000.0",
         "30000000.0",
         "Kiernan Dewsbury-Hall"
        ]
       ],
       "shape": {
        "columns": 10,
        "rows": 467
       }
      },
      "text/html": [
       "<div>\n",
       "<style scoped>\n",
       "    .dataframe tbody tr th:only-of-type {\n",
       "        vertical-align: middle;\n",
       "    }\n",
       "\n",
       "    .dataframe tbody tr th {\n",
       "        vertical-align: top;\n",
       "    }\n",
       "\n",
       "    .dataframe thead th {\n",
       "        text-align: right;\n",
       "    }\n",
       "</style>\n",
       "<table border=\"1\" class=\"dataframe\">\n",
       "  <thead>\n",
       "    <tr style=\"text-align: right;\">\n",
       "      <th></th>\n",
       "      <th>player_id</th>\n",
       "      <th>transfer_date</th>\n",
       "      <th>transfer_season</th>\n",
       "      <th>from_club_id</th>\n",
       "      <th>to_club_id</th>\n",
       "      <th>from_club_name</th>\n",
       "      <th>to_club_name</th>\n",
       "      <th>transfer_fee</th>\n",
       "      <th>market_value_in_eur</th>\n",
       "      <th>player_name</th>\n",
       "    </tr>\n",
       "  </thead>\n",
       "  <tbody>\n",
       "    <tr>\n",
       "      <th>1</th>\n",
       "      <td>1138758</td>\n",
       "      <td>2026-07-01</td>\n",
       "      <td>26/27</td>\n",
       "      <td>336</td>\n",
       "      <td>631</td>\n",
       "      <td>Sporting CP</td>\n",
       "      <td>Chelsea</td>\n",
       "      <td>52140000.0</td>\n",
       "      <td>45000000.0</td>\n",
       "      <td>Geovany Quenda</td>\n",
       "    </tr>\n",
       "    <tr>\n",
       "      <th>84</th>\n",
       "      <td>670717</td>\n",
       "      <td>2025-07-01</td>\n",
       "      <td>25/26</td>\n",
       "      <td>336</td>\n",
       "      <td>631</td>\n",
       "      <td>Sporting CP</td>\n",
       "      <td>Chelsea</td>\n",
       "      <td>22270000.0</td>\n",
       "      <td>15000000.0</td>\n",
       "      <td>Dário Essugo</td>\n",
       "    </tr>\n",
       "    <tr>\n",
       "      <th>302</th>\n",
       "      <td>386047</td>\n",
       "      <td>2025-06-30</td>\n",
       "      <td>24/25</td>\n",
       "      <td>405</td>\n",
       "      <td>631</td>\n",
       "      <td>Aston Villa</td>\n",
       "      <td>Chelsea</td>\n",
       "      <td>0.0</td>\n",
       "      <td>25000000.0</td>\n",
       "      <td>Axel Disasi</td>\n",
       "    </tr>\n",
       "    <tr>\n",
       "      <th>331</th>\n",
       "      <td>401173</td>\n",
       "      <td>2025-06-30</td>\n",
       "      <td>24/25</td>\n",
       "      <td>631</td>\n",
       "      <td>985</td>\n",
       "      <td>Chelsea</td>\n",
       "      <td>Man Utd</td>\n",
       "      <td>0.0</td>\n",
       "      <td>30000000.0</td>\n",
       "      <td>Jadon Sancho</td>\n",
       "    </tr>\n",
       "    <tr>\n",
       "      <th>383</th>\n",
       "      <td>462250</td>\n",
       "      <td>2025-06-30</td>\n",
       "      <td>24/25</td>\n",
       "      <td>5</td>\n",
       "      <td>631</td>\n",
       "      <td>AC Milan</td>\n",
       "      <td>Chelsea</td>\n",
       "      <td>0.0</td>\n",
       "      <td>25000000.0</td>\n",
       "      <td>João Félix</td>\n",
       "    </tr>\n",
       "    <tr>\n",
       "      <th>...</th>\n",
       "      <td>...</td>\n",
       "      <td>...</td>\n",
       "      <td>...</td>\n",
       "      <td>...</td>\n",
       "      <td>...</td>\n",
       "      <td>...</td>\n",
       "      <td>...</td>\n",
       "      <td>...</td>\n",
       "      <td>...</td>\n",
       "      <td>...</td>\n",
       "    </tr>\n",
       "    <tr>\n",
       "      <th>75805</th>\n",
       "      <td>52119</td>\n",
       "      <td>2009-12-31</td>\n",
       "      <td>09/10</td>\n",
       "      <td>990</td>\n",
       "      <td>631</td>\n",
       "      <td>Coventry</td>\n",
       "      <td>Chelsea</td>\n",
       "      <td>0.0</td>\n",
       "      <td>NaN</td>\n",
       "      <td>Patrick van Aanholt</td>\n",
       "    </tr>\n",
       "    <tr>\n",
       "      <th>75882</th>\n",
       "      <td>74683</td>\n",
       "      <td>2009-08-18</td>\n",
       "      <td>09/10</td>\n",
       "      <td>779</td>\n",
       "      <td>631</td>\n",
       "      <td>MFK Kosice</td>\n",
       "      <td>Chelsea</td>\n",
       "      <td>1750000.0</td>\n",
       "      <td>1500000.0</td>\n",
       "      <td>Nemanja Matic</td>\n",
       "    </tr>\n",
       "    <tr>\n",
       "      <th>75891</th>\n",
       "      <td>52119</td>\n",
       "      <td>2009-08-07</td>\n",
       "      <td>09/10</td>\n",
       "      <td>631</td>\n",
       "      <td>990</td>\n",
       "      <td>Chelsea</td>\n",
       "      <td>Coventry</td>\n",
       "      <td>0.0</td>\n",
       "      <td>NaN</td>\n",
       "      <td>Patrick van Aanholt</td>\n",
       "    </tr>\n",
       "    <tr>\n",
       "      <th>75996</th>\n",
       "      <td>52119</td>\n",
       "      <td>2009-07-01</td>\n",
       "      <td>09/10</td>\n",
       "      <td>6918</td>\n",
       "      <td>631</td>\n",
       "      <td>Chelsea U18</td>\n",
       "      <td>Chelsea</td>\n",
       "      <td>NaN</td>\n",
       "      <td>NaN</td>\n",
       "      <td>Patrick van Aanholt</td>\n",
       "    </tr>\n",
       "    <tr>\n",
       "      <th>76112</th>\n",
       "      <td>88721</td>\n",
       "      <td>2009-07-01</td>\n",
       "      <td>09/10</td>\n",
       "      <td>6918</td>\n",
       "      <td>631</td>\n",
       "      <td>Chelsea U18</td>\n",
       "      <td>Chelsea</td>\n",
       "      <td>NaN</td>\n",
       "      <td>NaN</td>\n",
       "      <td>Jeffrey Bruma</td>\n",
       "    </tr>\n",
       "  </tbody>\n",
       "</table>\n",
       "<p>467 rows × 10 columns</p>\n",
       "</div>"
      ],
      "text/plain": [
       "       player_id transfer_date transfer_season  from_club_id  to_club_id  \\\n",
       "1        1138758    2026-07-01           26/27           336         631   \n",
       "84        670717    2025-07-01           25/26           336         631   \n",
       "302       386047    2025-06-30           24/25           405         631   \n",
       "331       401173    2025-06-30           24/25           631         985   \n",
       "383       462250    2025-06-30           24/25             5         631   \n",
       "...          ...           ...             ...           ...         ...   \n",
       "75805      52119    2009-12-31           09/10           990         631   \n",
       "75882      74683    2009-08-18           09/10           779         631   \n",
       "75891      52119    2009-08-07           09/10           631         990   \n",
       "75996      52119    2009-07-01           09/10          6918         631   \n",
       "76112      88721    2009-07-01           09/10          6918         631   \n",
       "\n",
       "      from_club_name to_club_name  transfer_fee  market_value_in_eur  \\\n",
       "1        Sporting CP      Chelsea    52140000.0           45000000.0   \n",
       "84       Sporting CP      Chelsea    22270000.0           15000000.0   \n",
       "302      Aston Villa      Chelsea           0.0           25000000.0   \n",
       "331          Chelsea      Man Utd           0.0           30000000.0   \n",
       "383         AC Milan      Chelsea           0.0           25000000.0   \n",
       "...              ...          ...           ...                  ...   \n",
       "75805       Coventry      Chelsea           0.0                  NaN   \n",
       "75882     MFK Kosice      Chelsea     1750000.0            1500000.0   \n",
       "75891        Chelsea     Coventry           0.0                  NaN   \n",
       "75996    Chelsea U18      Chelsea           NaN                  NaN   \n",
       "76112    Chelsea U18      Chelsea           NaN                  NaN   \n",
       "\n",
       "               player_name  \n",
       "1           Geovany Quenda  \n",
       "84            Dário Essugo  \n",
       "302            Axel Disasi  \n",
       "331           Jadon Sancho  \n",
       "383             João Félix  \n",
       "...                    ...  \n",
       "75805  Patrick van Aanholt  \n",
       "75882        Nemanja Matic  \n",
       "75891  Patrick van Aanholt  \n",
       "75996  Patrick van Aanholt  \n",
       "76112        Jeffrey Bruma  \n",
       "\n",
       "[467 rows x 10 columns]"
      ]
     },
     "execution_count": 11,
     "metadata": {},
     "output_type": "execute_result"
    }
   ],
   "source": [
    "# Filter transfers where Chelsea is either the buying or selling club\n",
    "pdf_chelsea = pdf_transfers[\n",
    "    (pdf_transfers[\"from_club_name\"] == \"Chelsea\") | (pdf_transfers[\"to_club_name\"] == \"Chelsea\")\n",
    "]\n",
    "\n",
    "pdf_chelsea"
   ]
  },
  {
   "cell_type": "code",
   "execution_count": 17,
   "id": "207092fb",
   "metadata": {},
   "outputs": [
    {
     "name": "stderr",
     "output_type": "stream",
     "text": [
      "C:\\Users\\tomkn\\AppData\\Local\\Temp\\ipykernel_9700\\2153274887.py:5: SettingWithCopyWarning:\n",
      "\n",
      "\n",
      "A value is trying to be set on a copy of a slice from a DataFrame.\n",
      "Try using .loc[row_indexer,col_indexer] = value instead\n",
      "\n",
      "See the caveats in the documentation: https://pandas.pydata.org/pandas-docs/stable/user_guide/indexing.html#returning-a-view-versus-a-copy\n",
      "\n"
     ]
    },
    {
     "data": {
      "application/vnd.plotly.v1+json": {
       "config": {
        "plotlyServerURL": "https://plot.ly"
       },
       "data": [
        {
         "customdata": [
          [
           "Geovany Quenda",
           "Sporting CP",
           "Chelsea"
          ],
          [
           "Dário Essugo",
           "Sporting CP",
           "Chelsea"
          ],
          [
           "Axel Disasi",
           "Aston Villa",
           "Chelsea"
          ],
          [
           "João Félix",
           "AC Milan",
           "Chelsea"
          ],
          [
           "Djordje Petrovic",
           "R. Strasbourg",
           "Chelsea"
          ],
          [
           "Carney Chukwuemeka",
           "Bor. Dortmund",
           "Chelsea"
          ],
          [
           "Andrey Santos",
           "R. Strasbourg",
           "Chelsea"
          ],
          [
           "Renato Veiga",
           "Juventus",
           "Chelsea"
          ],
          [
           "Mike Penders",
           "KRC Genk",
           "Chelsea"
          ],
          [
           "Raheem Sterling",
           "Arsenal",
           "Chelsea"
          ],
          [
           "Kepa Arrizabalaga",
           "Bournemouth",
           "Chelsea"
          ],
          [
           "Ben Chilwell",
           "Crystal Palace",
           "Chelsea"
          ],
          [
           "Armando Broja",
           "Everton",
           "Chelsea"
          ],
          [
           "Lesley Ugochukwu",
           "Southampton",
           "Chelsea"
          ],
          [
           "Mathis Amougou",
           "Saint-Étienne",
           "Chelsea"
          ],
          [
           "David Datro Fofana",
           "Göztepe",
           "Chelsea"
          ],
          [
           "Trevoh Chalobah",
           "Crystal Palace",
           "Chelsea"
          ],
          [
           "Aarón Anselmino",
           "Boca Juniors",
           "Chelsea"
          ],
          [
           "Tyrique George",
           "Chelsea U21",
           "Chelsea"
          ],
          [
           "Josh Acheampong",
           "Chelsea U21",
           "Chelsea"
          ],
          [
           "Jadon Sancho",
           "Man Utd",
           "Chelsea"
          ],
          [
           "Mike Penders",
           "KRC Genk",
           "Chelsea"
          ],
          [
           "João Félix",
           "Atlético Madrid",
           "Chelsea"
          ],
          [
           "Pedro Neto",
           "Wolves",
           "Chelsea"
          ],
          [
           "Aarón Anselmino",
           "Boca Juniors",
           "Chelsea"
          ],
          [
           "Filip Jørgensen",
           "Villarreal",
           "Chelsea"
          ],
          [
           "Renato Veiga",
           "FC Basel",
           "Chelsea"
          ],
          [
           "Kiernan Dewsbury-Hall",
           "Leicester",
           "Chelsea"
          ],
          [
           "Tosin Adarabioyo",
           "Fulham",
           "Chelsea"
          ],
          [
           "Tino Anjorin",
           "Chelsea U21",
           "Chelsea"
          ],
          [
           "Omari Kellyman",
           "Aston Villa U21",
           "Chelsea"
          ],
          [
           "Marc Guiu",
           "Barcelona",
           "Chelsea"
          ],
          [
           "Romelu Lukaku",
           "AS Roma",
           "Chelsea"
          ],
          [
           "Kepa Arrizabalaga",
           "Real Madrid",
           "Chelsea"
          ],
          [
           "Hakim Ziyech",
           "Galatasaray",
           "Chelsea"
          ],
          [
           "Ian Maatsen",
           "Bor. Dortmund",
           "Chelsea"
          ],
          [
           "Gabriel Slonina",
           "KAS Eupen",
           "Chelsea"
          ],
          [
           "Lewis Hall",
           "Newcastle",
           "Chelsea"
          ],
          [
           "Ângelo",
           "R. Strasbourg",
           "Chelsea"
          ],
          [
           "Lucas Bergström",
           "Brommapojkarna",
           "Chelsea"
          ],
          [
           "Armando Broja",
           "Fulham",
           "Chelsea"
          ],
          [
           "Omari Hutchinson",
           "Ipswich",
           "Chelsea"
          ],
          [
           "David Datro Fofana",
           "Burnley",
           "Chelsea"
          ],
          [
           "Diego Moreira",
           "Olympique Lyon",
           "Chelsea"
          ],
          [
           "Cesare Casadei",
           "Leicester",
           "Chelsea"
          ],
          [
           "David Datro Fofana",
           "Union Berlin",
           "Chelsea"
          ],
          [
           "Andrey Santos",
           "Nottm Forest",
           "Chelsea"
          ],
          [
           "Alfie Gilchrist",
           "Chelsea U21",
           "Chelsea"
          ],
          [
           "Cole Palmer",
           "Man City",
           "Chelsea"
          ],
          [
           "Djordje Petrovic",
           "New England",
           "Chelsea"
          ],
          [
           "Deivid Washington",
           "Santos",
           "Chelsea"
          ],
          [
           "Roméo Lavia",
           "Southampton",
           "Chelsea"
          ],
          [
           "Moisés Caicedo",
           "Brighton",
           "Chelsea"
          ],
          [
           "Robert Sánchez",
           "Brighton",
           "Chelsea"
          ],
          [
           "Axel Disasi",
           "Monaco",
           "Chelsea"
          ],
          [
           "Lesley Ugochukwu",
           "Stade Rennais",
           "Chelsea"
          ],
          [
           "Ângelo",
           "Santos",
           "Chelsea"
          ],
          [
           "Christopher Nkunku",
           "RB Leipzig",
           "Chelsea"
          ],
          [
           "Ian Maatsen",
           "Chelsea U21",
           "Chelsea"
          ],
          [
           "Lucas Bergström",
           "Chelsea U21",
           "Chelsea"
          ],
          [
           "Diego Moreira",
           "Benfica B",
           "Chelsea"
          ],
          [
           "Lewis Hall",
           "Chelsea U21",
           "Chelsea"
          ],
          [
           "Omari Hutchinson",
           "Chelsea U21",
           "Chelsea"
          ],
          [
           "Nicolas Jackson",
           "Villarreal",
           "Chelsea"
          ],
          [
           "Romelu Lukaku",
           "Inter",
           "Chelsea"
          ],
          [
           "Tiemoué Bakayoko",
           "AC Milan",
           "Chelsea"
          ],
          [
           "Malang Sarr",
           "Monaco",
           "Chelsea"
          ],
          [
           "Callum Hudson-Odoi",
           "B. Leverkusen",
           "Chelsea"
          ],
          [
           "Malo Gusto",
           "Olympique Lyon",
           "Chelsea"
          ],
          [
           "Andrey Santos",
           "Vasco da Gama",
           "Chelsea"
          ],
          [
           "Abdul Rahman Baba",
           "Reading",
           "Chelsea"
          ],
          [
           "Levi Colwill",
           "Brighton",
           "Chelsea"
          ],
          [
           "Cesare Casadei",
           "Reading",
           "Chelsea"
          ],
          [
           "Enzo Fernández",
           "Benfica",
           "Chelsea"
          ],
          [
           "Malo Gusto",
           "Olympique Lyon",
           "Chelsea"
          ],
          [
           "Noni Madueke",
           "PSV Eindhoven",
           "Chelsea"
          ],
          [
           "Mykhaylo Mudryk",
           "Shakhtar D.",
           "Chelsea"
          ],
          [
           "João Félix",
           "Atlético Madrid",
           "Chelsea"
          ],
          [
           "Benoît Badiashile",
           "Monaco",
           "Chelsea"
          ],
          [
           "Andrey Santos",
           "Vasco da Gama",
           "Chelsea"
          ],
          [
           "David Datro Fofana",
           "Molde FK",
           "Chelsea"
          ],
          [
           "Gabriel Slonina",
           "Chicago",
           "Chelsea"
          ],
          [
           "Pierre-Emerick Aubameyang",
           "Barcelona",
           "Chelsea"
          ],
          [
           "Denis Zakaria",
           "Juventus",
           "Chelsea"
          ],
          [
           "Wesley Fofana",
           "Leicester",
           "Chelsea"
          ],
          [
           "Cesare Casadei",
           "Inter",
           "Chelsea"
          ],
          [
           "Marc Cucurella",
           "Brighton",
           "Chelsea"
          ],
          [
           "Carney Chukwuemeka",
           "Aston Villa",
           "Chelsea"
          ],
          [
           "Gabriel Slonina",
           "Chicago",
           "Chelsea"
          ],
          [
           "Raheem Sterling",
           "Man City",
           "Chelsea"
          ],
          [
           "Conor Gallagher",
           "Chelsea U21",
           "Chelsea"
          ],
          [
           "Armando Broja",
           "Chelsea U21",
           "Chelsea"
          ],
          [
           "Levi Colwill",
           "Chelsea U21",
           "Chelsea"
          ],
          [
           "Michy Batshuayi",
           "Besiktas",
           "Chelsea"
          ],
          [
           "Emerson",
           "Olympique Lyon",
           "Chelsea"
          ],
          [
           "Abdul Rahman Baba",
           "Reading",
           "Chelsea"
          ],
          [
           "Billy Gilmour",
           "Norwich",
           "Chelsea"
          ],
          [
           "Kenedy",
           "Flamengo",
           "Chelsea"
          ],
          [
           "Saúl Ñíguez",
           "Atlético Madrid",
           "Chelsea"
          ],
          [
           "Romelu Lukaku",
           "Inter",
           "Chelsea"
          ],
          [
           "Marcus Bettinelli",
           "Fulham",
           "Chelsea"
          ],
          [
           "Trevoh Chalobah",
           "Chelsea U23",
           "Chelsea"
          ],
          [
           "Victor Moses",
           "Spartak Moscow",
           "Chelsea"
          ],
          [
           "Marco van Ginkel",
           "PSV Eindhoven",
           "Chelsea"
          ],
          [
           "Davide Zappacosta",
           "Genoa",
           "Chelsea"
          ],
          [
           "Tiemoué Bakayoko",
           "Napoli",
           "Chelsea"
          ],
          [
           "Abdul Rahman Baba",
           "PAOK Salonika",
           "Chelsea"
          ],
          [
           "Kenedy",
           "Granada CF",
           "Chelsea"
          ],
          [
           "Fikayo Tomori",
           "AC Milan",
           "Chelsea"
          ],
          [
           "Malang Sarr",
           "FC Porto",
           "Chelsea"
          ],
          [
           "Ross Barkley",
           "Aston Villa",
           "Chelsea"
          ],
          [
           "Michy Batshuayi",
           "Crystal Palace",
           "Chelsea"
          ],
          [
           "Ruben Loftus-Cheek",
           "Fulham",
           "Chelsea"
          ],
          [
           "Marc Guéhi",
           "Swansea",
           "Chelsea"
          ],
          [
           "Lucas Piazón",
           "Rio Ave",
           "Chelsea"
          ],
          [
           "Kai Havertz",
           "B. Leverkusen",
           "Chelsea"
          ],
          [
           "Victor Moses",
           "Inter",
           "Chelsea"
          ],
          [
           "Mario Pasalic",
           "Atalanta BC",
           "Chelsea"
          ],
          [
           "Thiago Silva",
           "Paris SG",
           "Chelsea"
          ],
          [
           "Malang Sarr",
           "OGC Nice",
           "Chelsea"
          ],
          [
           "Ben Chilwell",
           "Leicester",
           "Chelsea"
          ],
          [
           "Davide Zappacosta",
           "AS Roma",
           "Chelsea"
          ],
          [
           "Marc Guéhi",
           "Swansea",
           "Chelsea"
          ],
          [
           "Timo Werner",
           "RB Leipzig",
           "Chelsea"
          ],
          [
           "Hakim Ziyech",
           "Ajax",
           "Chelsea"
          ],
          [
           "Álvaro Morata",
           "Atlético Madrid",
           "Chelsea"
          ],
          [
           "Tiemoué Bakayoko",
           "Monaco",
           "Chelsea"
          ],
          [
           "Abdul Rahman Baba",
           "RCD Mallorca",
           "Chelsea"
          ],
          [
           "Kenedy",
           "Getafe",
           "Chelsea"
          ],
          [
           "Billy Gilmour",
           "Chelsea U23",
           "Chelsea"
          ],
          [
           "Victor Moses",
           "Fenerbahce",
           "Chelsea"
          ],
          [
           "Marc Guéhi",
           "Chelsea U23",
           "Chelsea"
          ],
          [
           "Mateo Kovacic",
           "Real Madrid",
           "Chelsea"
          ],
          [
           "Mason Mount",
           "Chelsea U23",
           "Chelsea"
          ],
          [
           "Reece James",
           "Chelsea U23",
           "Chelsea"
          ],
          [
           "Kenneth Omeruo",
           "CD Leganés",
           "Chelsea"
          ],
          [
           "Lucas Piazón",
           "Chievo Verona",
           "Chelsea"
          ],
          [
           "Michy Batshuayi",
           "Crystal Palace",
           "Chelsea"
          ],
          [
           "Tiemoué Bakayoko",
           "AC Milan",
           "Chelsea"
          ],
          [
           "Abdul Rahman Baba",
           "Stade Reims",
           "Chelsea"
          ],
          [
           "Ola Aina",
           "Torino",
           "Chelsea"
          ],
          [
           "Christian Pulisic",
           "Bor. Dortmund",
           "Chelsea"
          ],
          [
           "Kurt Zouma",
           "Everton",
           "Chelsea"
          ],
          [
           "Kenedy",
           "Newcastle",
           "Chelsea"
          ],
          [
           "Fikayo Tomori",
           "Derby",
           "Chelsea"
          ],
          [
           "Tammy Abraham",
           "Aston Villa",
           "Chelsea"
          ],
          [
           "Michy Batshuayi",
           "Valencia",
           "Chelsea"
          ],
          [
           "Abdul Rahman Baba",
           "FC Schalke 04",
           "Chelsea"
          ],
          [
           "Christian Pulisic",
           "Bor. Dortmund",
           "Chelsea"
          ],
          [
           "Callum Hudson-Odoi",
           "Chelsea U23",
           "Chelsea"
          ],
          [
           "Mateo Kovacic",
           "Real Madrid",
           "Chelsea"
          ],
          [
           "Kepa Arrizabalaga",
           "Athletic",
           "Chelsea"
          ],
          [
           "Jorginho",
           "Napoli",
           "Chelsea"
          ],
          [
           "Kenneth Omeruo",
           "Kasimpasa",
           "Chelsea"
          ],
          [
           "Marco van Ginkel",
           "PSV Eindhoven",
           "Chelsea"
          ],
          [
           "Michy Batshuayi",
           "Bor. Dortmund",
           "Chelsea"
          ],
          [
           "Mario Pasalic",
           "Spartak Moscow",
           "Chelsea"
          ],
          [
           "Kurt Zouma",
           "Stoke City",
           "Chelsea"
          ],
          [
           "Lucas Piazón",
           "Fulham",
           "Chelsea"
          ],
          [
           "Ruben Loftus-Cheek",
           "Crystal Palace",
           "Chelsea"
          ],
          [
           "Ola Aina",
           "Hull City",
           "Chelsea"
          ],
          [
           "Fikayo Tomori",
           "Hull City",
           "Chelsea"
          ],
          [
           "Tammy Abraham",
           "Swansea",
           "Chelsea"
          ],
          [
           "Olivier Giroud",
           "Arsenal",
           "Chelsea"
          ],
          [
           "Emerson",
           "AS Roma",
           "Chelsea"
          ],
          [
           "Ross Barkley",
           "Everton",
           "Chelsea"
          ],
          [
           "Davide Zappacosta",
           "Torino",
           "Chelsea"
          ],
          [
           "Álvaro Morata",
           "Real Madrid",
           "Chelsea"
          ],
          [
           "Tiemoué Bakayoko",
           "Monaco",
           "Chelsea"
          ],
          [
           "Antonio Rüdiger",
           "AS Roma",
           "Chelsea"
          ],
          [
           "Fikayo Tomori",
           "Chelsea U23",
           "Chelsea"
          ],
          [
           "Tammy Abraham",
           "Chelsea U23",
           "Chelsea"
          ],
          [
           "Juan Cuadrado",
           "Juventus",
           "Chelsea"
          ],
          [
           "Kenneth Omeruo",
           "Alanyaspor",
           "Chelsea"
          ],
          [
           "Bertrand Traoré",
           "Ajax",
           "Chelsea"
          ],
          [
           "Andreas Christensen",
           "Bor. M'gladbach",
           "Chelsea"
          ],
          [
           "Mario Pasalic",
           "AC Milan",
           "Chelsea"
          ],
          [
           "Abdul Rahman Baba",
           "FC Schalke 04",
           "Chelsea"
          ],
          [
           "Nathan Aké",
           "Bournemouth",
           "Chelsea"
          ],
          [
           "Kenedy",
           "Watford",
           "Chelsea"
          ],
          [
           "Marcos Alonso",
           "Fiorentina",
           "Chelsea"
          ],
          [
           "Michy Batshuayi",
           "Marseille",
           "Chelsea"
          ],
          [
           "Ola Aina",
           "Chelsea U23",
           "Chelsea"
          ],
          [
           "Juan Cuadrado",
           "Juventus",
           "Chelsea"
          ],
          [
           "Kenneth Omeruo",
           "Kasimpasa",
           "Chelsea"
          ],
          [
           "Papy Djilobodji",
           "Werder Bremen",
           "Chelsea"
          ],
          [
           "Marco van Ginkel",
           "PSV Eindhoven",
           "Chelsea"
          ],
          [
           "Mohamed Salah",
           "AS Roma",
           "Chelsea"
          ],
          [
           "Mario Pasalic",
           "Monaco",
           "Chelsea"
          ],
          [
           "Stipe Perica",
           "Udinese Calcio",
           "Chelsea"
          ],
          [
           "Victor Moses",
           "West Ham",
           "Chelsea"
          ],
          [
           "Nathan Aké",
           "Watford",
           "Chelsea"
          ],
          [
           "Lucas Piazón",
           "Reading",
           "Chelsea"
          ],
          [
           "Marco van Ginkel",
           "Stoke City",
           "Chelsea"
          ],
          [
           "Papy Djilobodji",
           "FC Nantes",
           "Chelsea"
          ],
          [
           "Kenedy",
           "Fluminense",
           "Chelsea"
          ],
          [
           "Pedro",
           "Barcelona",
           "Chelsea"
          ],
          [
           "Abdul Rahman Baba",
           "FC Augsburg",
           "Chelsea"
          ],
          [
           "Asmir Begovic",
           "Stoke City",
           "Chelsea"
          ],
          [
           "Radamel Falcao",
           "Monaco",
           "Chelsea"
          ],
          [
           "Andreas Christensen",
           "Chelsea U21",
           "Chelsea"
          ],
          [
           "Oriol Romeu",
           "VfB Stuttgart",
           "Chelsea"
          ],
          [
           "Thorgan Hazard",
           "Bor. M'gladbach",
           "Chelsea"
          ],
          [
           "Bertrand Traoré",
           "Vitesse",
           "Chelsea"
          ],
          [
           "Marco van Ginkel",
           "AC Milan",
           "Chelsea"
          ],
          [
           "Mohamed Salah",
           "Fiorentina",
           "Chelsea"
          ],
          [
           "Lucas Piazón",
           "E. Frankfurt",
           "Chelsea"
          ],
          [
           "Mario Pasalic",
           "Elche CF",
           "Chelsea"
          ],
          [
           "Victor Moses",
           "Stoke City",
           "Chelsea"
          ],
          [
           "Kenneth Omeruo",
           "Middlesbrough",
           "Chelsea"
          ],
          [
           "Nathan Aké",
           "Reading",
           "Chelsea"
          ],
          [
           "Juan Cuadrado",
           "Fiorentina",
           "Chelsea"
          ],
          [
           "Stipe Perica",
           "NAC Breda",
           "Chelsea"
          ],
          [
           "Ruben Loftus-Cheek",
           "Chelsea U21",
           "Chelsea"
          ],
          [
           "Mario Pasalic",
           "Hajduk Split",
           "Chelsea"
          ],
          [
           "Patrick van Aanholt",
           "Vitesse",
           "Chelsea"
          ],
          [
           "Oriol Romeu",
           "Valencia",
           "Chelsea"
          ],
          [
           "Thorgan Hazard",
           "Zulte Waregem",
           "Chelsea"
          ],
          [
           "Thibaut Courtois",
           "Atlético Madrid",
           "Chelsea"
          ],
          [
           "Kurt Zouma",
           "Saint-Étienne",
           "Chelsea"
          ],
          [
           "Stipe Perica",
           "NAC Breda",
           "Chelsea"
          ],
          [
           "Victor Moses",
           "Liverpool",
           "Chelsea"
          ],
          [
           "Romelu Lukaku",
           "Everton",
           "Chelsea"
          ],
          [
           "Kenneth Omeruo",
           "Middlesbrough",
           "Chelsea"
          ],
          [
           "Lucas Piazón",
           "Vitesse",
           "Chelsea"
          ],
          [
           "Kurt Zouma",
           "Saint-Étienne",
           "Chelsea"
          ],
          [
           "Mohamed Salah",
           "FC Basel",
           "Chelsea"
          ],
          [
           "Nemanja Matic",
           "Benfica",
           "Chelsea"
          ],
          [
           "Bertrand Traoré",
           "Chelsea U21",
           "Chelsea"
          ],
          [
           "Willian",
           "Anzhi",
           "Chelsea"
          ],
          [
           "Stipe Perica",
           "NK Zadar ",
           "Chelsea"
          ],
          [
           "Marco van Ginkel",
           "Vitesse",
           "Chelsea"
          ],
          [
           "Jeffrey Bruma",
           "Hamburger SV",
           "Chelsea"
          ],
          [
           "Kevin De Bruyne",
           "Werder Bremen",
           "Chelsea"
          ],
          [
           "Kenneth Omeruo",
           "ADO Den Haag",
           "Chelsea"
          ],
          [
           "Lucas Piazón",
           "Málaga CF",
           "Chelsea"
          ],
          [
           "Romelu Lukaku",
           "West Brom",
           "Chelsea"
          ],
          [
           "Nathan Aké",
           "Chelsea U18",
           "Chelsea"
          ],
          [
           "César Azpilicueta",
           "Marseille",
           "Chelsea"
          ],
          [
           "Victor Moses",
           "Wigan",
           "Chelsea"
          ],
          [
           "Thorgan Hazard",
           "Lens",
           "Chelsea"
          ],
          [
           "Kevin De Bruyne",
           "KRC Genk",
           "Chelsea"
          ],
          [
           "Kevin De Bruyne",
           "KRC Genk",
           "Chelsea"
          ],
          [
           "Lucas Piazón",
           "São Paulo",
           "Chelsea"
          ],
          [
           "Kenneth Omeruo",
           "Standard U19",
           "Chelsea"
          ],
          [
           "Patrick van Aanholt",
           "Wigan",
           "Chelsea"
          ],
          [
           "Romelu Lukaku",
           "RSC Anderlecht",
           "Chelsea"
          ],
          [
           "Oriol Romeu",
           "Barcelona B",
           "Chelsea"
          ],
          [
           "Thibaut Courtois",
           "KRC Genk",
           "Chelsea"
          ],
          [
           "Nemanja Matic",
           "Vitesse",
           "Chelsea"
          ],
          [
           "Patrick van Aanholt",
           "Leicester",
           "Chelsea"
          ],
          [
           "Jeffrey Bruma",
           "Leicester",
           "Chelsea"
          ],
          [
           "Patrick van Aanholt",
           "Newcastle",
           "Chelsea"
          ],
          [
           "Patrick van Aanholt",
           "Coventry",
           "Chelsea"
          ],
          [
           "Nemanja Matic",
           "MFK Kosice",
           "Chelsea"
          ],
          [
           "Patrick van Aanholt",
           "Chelsea U18",
           "Chelsea"
          ],
          [
           "Jeffrey Bruma",
           "Chelsea U18",
           "Chelsea"
          ]
         ],
         "hovertemplate": "chelsea_role=Bought by Chelsea<br>transfer_fee=%{x}<br>market_value_in_eur=%{y}<br>player_name=%{customdata[0]}<br>from_club_name=%{customdata[1]}<br>to_club_name=%{customdata[2]}<extra></extra>",
         "legendgroup": "Bought by Chelsea",
         "marker": {
          "color": "#636efa",
          "symbol": "circle"
         },
         "mode": "markers",
         "name": "Bought by Chelsea",
         "orientation": "v",
         "showlegend": true,
         "type": "scatter",
         "x": [
          52140000,
          22270000,
          0,
          0,
          0,
          0,
          0,
          0,
          0,
          0,
          0,
          0,
          0,
          0,
          15000000,
          0,
          0,
          0,
          null,
          null,
          0,
          20000000,
          52000000,
          60000000,
          16500000,
          24500000,
          14000000,
          35400000,
          0,
          null,
          22500000,
          6000000,
          0,
          0,
          0,
          0,
          0,
          0,
          0,
          0,
          0,
          0,
          0,
          0,
          0,
          0,
          0,
          null,
          47000000,
          16000000,
          16000000,
          62100000,
          116000000,
          23000000,
          45000000,
          27000000,
          15000000,
          60000000,
          null,
          null,
          0,
          null,
          null,
          37000000,
          0,
          0,
          0,
          0,
          0,
          0,
          0,
          0,
          0,
          121000000,
          30000000,
          35000000,
          70000000,
          0,
          38000000,
          12500000,
          12000000,
          0,
          12000000,
          0,
          80400000,
          14860000,
          65300000,
          18000000,
          9090000,
          56200000,
          null,
          null,
          null,
          0,
          0,
          0,
          0,
          0,
          0,
          113000000,
          0,
          null,
          0,
          0,
          0,
          0,
          0,
          0,
          0,
          0,
          0,
          0,
          0,
          0,
          0,
          80000000,
          0,
          0,
          0,
          0,
          50200000,
          0,
          0,
          53000000,
          40000000,
          0,
          0,
          0,
          0,
          null,
          0,
          null,
          45000000,
          null,
          null,
          0,
          0,
          0,
          0,
          0,
          0,
          0,
          0,
          0,
          0,
          0,
          0,
          0,
          64000000,
          null,
          0,
          80000000,
          57000000,
          0,
          0,
          0,
          0,
          0,
          0,
          0,
          0,
          0,
          0,
          17000000,
          20000000,
          16800000,
          25000000,
          66000000,
          40000000,
          35000000,
          null,
          null,
          0,
          0,
          0,
          0,
          0,
          0,
          0,
          0,
          23000000,
          39000000,
          null,
          0,
          0,
          0,
          0,
          0,
          0,
          0,
          0,
          0,
          0,
          0,
          3500000,
          8000000,
          27000000,
          26000000,
          11000000,
          0,
          null,
          0,
          0,
          0,
          0,
          0,
          0,
          0,
          0,
          0,
          0,
          31000000,
          0,
          null,
          2500000,
          0,
          0,
          0,
          0,
          0,
          0,
          0,
          0,
          0,
          0,
          14600000,
          16500000,
          25000000,
          null,
          35500000,
          2450000,
          9400000,
          0,
          0,
          0,
          0,
          0,
          null,
          8800000,
          11500000,
          500000,
          0,
          8000000,
          7500000,
          null,
          0,
          15000000,
          4600000,
          8950000,
          0,
          0,
          0,
          0,
          0,
          1750000,
          null,
          null
         ],
         "xaxis": "x",
         "y": [
          45000000,
          15000000,
          25000000,
          25000000,
          18000000,
          15000000,
          25000000,
          18000000,
          10000000,
          15000000,
          11000000,
          18000000,
          13000000,
          20000000,
          5000000,
          8500000,
          13000000,
          8000000,
          null,
          1000000,
          30000000,
          1000000,
          30000000,
          55000000,
          3000000,
          20000000,
          3000000,
          30000000,
          20000000,
          700000,
          1000000,
          7500000,
          30000000,
          12000000,
          9000000,
          40000000,
          4000000,
          18000000,
          15000000,
          700000,
          22000000,
          7000000,
          12000000,
          3000000,
          10000000,
          8000000,
          14000000,
          300000,
          18000000,
          6000000,
          4000000,
          32000000,
          75000000,
          22000000,
          30000000,
          9000000,
          13000000,
          80000000,
          12000000,
          250000,
          2000000,
          10000000,
          1000000,
          30000000,
          40000000,
          2500000,
          6000000,
          15000000,
          25000000,
          15000000,
          1800000,
          16000000,
          6000000,
          55000000,
          15000000,
          15000000,
          40000000,
          50000000,
          40000000,
          10000000,
          7000000,
          8000000,
          15000000,
          27000000,
          40000000,
          1000000,
          28000000,
          6000000,
          3000000,
          70000000,
          25000000,
          22000000,
          5000000,
          10000000,
          14000000,
          2200000,
          12000000,
          7000000,
          40000000,
          100000000,
          2500000,
          3500000,
          6500000,
          1750000,
          8000000,
          20000000,
          2500000,
          10000000,
          28000000,
          10000000,
          20000000,
          10000000,
          20000000,
          6000000,
          900000,
          81000000,
          6000000,
          25000000,
          4800000,
          16000000,
          40000000,
          12000000,
          2700000,
          64000000,
          40000000,
          36000000,
          25500000,
          2400000,
          9500000,
          3000000,
          8500000,
          1500000,
          35000000,
          12000000,
          7000000,
          5000000,
          1500000,
          30000000,
          35000000,
          5000000,
          10000000,
          60000000,
          20000000,
          10000000,
          7000000,
          15000000,
          30000000,
          5000000,
          50000000,
          null,
          30000000,
          20000000,
          50000000,
          1750000,
          12000000,
          40000000,
          8000000,
          15000000,
          2500000,
          15000000,
          1500000,
          1000000,
          10000000,
          20000000,
          14000000,
          25000000,
          8500000,
          40000000,
          16000000,
          25000000,
          250000,
          8000000,
          25000000,
          2000000,
          8000000,
          18000000,
          8000000,
          8000000,
          5000000,
          8000000,
          9000000,
          15000000,
          null,
          25000000,
          1800000,
          3500000,
          7000000,
          23000000,
          5000000,
          1000000,
          7500000,
          4500000,
          3000000,
          7500000,
          6500000,
          6000000,
          20000000,
          10000000,
          12000000,
          35000000,
          1500000,
          3500000,
          10000000,
          2500000,
          7500000,
          12000000,
          5000000,
          3000000,
          7500000,
          1000000,
          1500000,
          32000000,
          1000000,
          150000,
          3000000,
          3500000,
          7000000,
          10000000,
          25000000,
          10000000,
          1000000,
          11000000,
          25000000,
          1000000,
          7000000,
          7500000,
          8500000,
          27000000,
          null,
          30000000,
          400000,
          8000000,
          2250000,
          10000000,
          1000000,
          5000000,
          19000000,
          null,
          7500000,
          6500000,
          500000,
          9000000,
          9000000,
          7500000,
          null,
          1500000,
          15000000,
          2500000,
          4000000,
          3000000,
          1000000,
          2000000,
          50000,
          null,
          1500000,
          null,
          null
         ],
         "yaxis": "y"
        },
        {
         "customdata": [
          [
           "Jadon Sancho",
           "Chelsea",
           "Man Utd"
          ],
          [
           "Ben Chilwell",
           "Chelsea",
           "Crystal Palace"
          ],
          [
           "Axel Disasi",
           "Chelsea",
           "Aston Villa"
          ],
          [
           "João Félix",
           "Chelsea",
           "AC Milan"
          ],
          [
           "Carney Chukwuemeka",
           "Chelsea",
           "Bor. Dortmund"
          ],
          [
           "Cesare Casadei",
           "Chelsea",
           "Torino"
          ],
          [
           "Renato Veiga",
           "Chelsea",
           "Juventus"
          ],
          [
           "David Datro Fofana",
           "Chelsea",
           "Göztepe"
          ],
          [
           "Raheem Sterling",
           "Chelsea",
           "Arsenal"
          ],
          [
           "Trevoh Chalobah",
           "Chelsea",
           "Crystal Palace"
          ],
          [
           "Djordje Petrovic",
           "Chelsea",
           "R. Strasbourg"
          ],
          [
           "Armando Broja",
           "Chelsea",
           "Everton"
          ],
          [
           "Romelu Lukaku",
           "Chelsea",
           "Napoli"
          ],
          [
           "Kepa Arrizabalaga",
           "Chelsea",
           "Bournemouth"
          ],
          [
           "Tino Anjorin",
           "Chelsea",
           "FC Empoli"
          ],
          [
           "Mike Penders",
           "Chelsea",
           "KRC Genk"
          ],
          [
           "Conor Gallagher",
           "Chelsea",
           "Atlético Madrid"
          ],
          [
           "Diego Moreira",
           "Chelsea",
           "R. Strasbourg"
          ],
          [
           "Lesley Ugochukwu",
           "Chelsea",
           "Southampton"
          ],
          [
           "Aarón Anselmino",
           "Chelsea",
           "Boca Juniors"
          ],
          [
           "Malang Sarr",
           "Chelsea",
           "Lens"
          ],
          [
           "Thiago Silva",
           "Chelsea",
           "Fluminense"
          ],
          [
           "Hakim Ziyech",
           "Chelsea",
           "Galatasaray"
          ],
          [
           "Ian Maatsen",
           "Chelsea",
           "Aston Villa"
          ],
          [
           "Lewis Hall",
           "Chelsea",
           "Newcastle"
          ],
          [
           "Omari Hutchinson",
           "Chelsea",
           "Ipswich"
          ],
          [
           "Lucas Bergström",
           "Chelsea",
           "Brommapojkarna"
          ],
          [
           "Armando Broja",
           "Chelsea",
           "Fulham"
          ],
          [
           "Andrey Santos",
           "Chelsea",
           "R. Strasbourg"
          ],
          [
           "David Datro Fofana",
           "Chelsea",
           "Burnley"
          ],
          [
           "Ian Maatsen",
           "Chelsea",
           "Bor. Dortmund"
          ],
          [
           "Callum Hudson-Odoi",
           "Chelsea",
           "Nottm Forest"
          ],
          [
           "Diego Moreira",
           "Chelsea",
           "Olympique Lyon"
          ],
          [
           "Tiemoué Bakayoko",
           "Chelsea",
           "FC Lorient"
          ],
          [
           "Romelu Lukaku",
           "Chelsea",
           "AS Roma"
          ],
          [
           "Andrey Santos",
           "Chelsea",
           "Nottm Forest"
          ],
          [
           "Lewis Hall",
           "Chelsea",
           "Newcastle"
          ],
          [
           "Hakim Ziyech",
           "Chelsea",
           "Galatasaray"
          ],
          [
           "Cesare Casadei",
           "Chelsea",
           "Leicester"
          ],
          [
           "Kepa Arrizabalaga",
           "Chelsea",
           "Real Madrid"
          ],
          [
           "Gabriel Slonina",
           "Chelsea",
           "KAS Eupen"
          ],
          [
           "Ângelo",
           "Chelsea",
           "R. Strasbourg"
          ],
          [
           "Pierre-Emerick Aubameyang",
           "Chelsea",
           "Marseille"
          ],
          [
           "Omari Hutchinson",
           "Chelsea",
           "Ipswich"
          ],
          [
           "Christian Pulisic",
           "Chelsea",
           "AC Milan"
          ],
          [
           "David Datro Fofana",
           "Chelsea",
           "Union Berlin"
          ],
          [
           "Abdul Rahman Baba",
           "Chelsea",
           "PAOK Salonika"
          ],
          [
           "César Azpilicueta",
           "Chelsea",
           "Atlético Madrid"
          ],
          [
           "Mason Mount",
           "Chelsea",
           "Man Utd"
          ],
          [
           "Mateo Kovacic",
           "Chelsea",
           "Man City"
          ],
          [
           "Ruben Loftus-Cheek",
           "Chelsea",
           "AC Milan"
          ],
          [
           "Kai Havertz",
           "Chelsea",
           "Arsenal"
          ],
          [
           "Denis Zakaria",
           "Chelsea",
           "Juventus"
          ],
          [
           "João Félix",
           "Chelsea",
           "Atlético Madrid"
          ],
          [
           "Andrey Santos",
           "Chelsea",
           "Vasco da Gama"
          ],
          [
           "Jorginho",
           "Chelsea",
           "Arsenal"
          ],
          [
           "Malo Gusto",
           "Chelsea",
           "Olympique Lyon"
          ],
          [
           "Cesare Casadei",
           "Chelsea",
           "Reading"
          ],
          [
           "Michy Batshuayi",
           "Chelsea",
           "Fenerbahce"
          ],
          [
           "Marcos Alonso",
           "Chelsea",
           "Barcelona"
          ],
          [
           "Kenedy",
           "Chelsea",
           "Real Valladolid"
          ],
          [
           "Billy Gilmour",
           "Chelsea",
           "Brighton"
          ],
          [
           "Abdul Rahman Baba",
           "Chelsea",
           "Reading"
          ],
          [
           "Callum Hudson-Odoi",
           "Chelsea",
           "B. Leverkusen"
          ],
          [
           "Ross Barkley",
           "Chelsea",
           "Without Club"
          ],
          [
           "Emerson",
           "Chelsea",
           "West Ham"
          ],
          [
           "Malang Sarr",
           "Chelsea",
           "Monaco"
          ],
          [
           "Timo Werner",
           "Chelsea",
           "RB Leipzig"
          ],
          [
           "Levi Colwill",
           "Chelsea",
           "Brighton"
          ],
          [
           "Gabriel Slonina",
           "Chelsea",
           "Chicago"
          ],
          [
           "Andreas Christensen",
           "Chelsea",
           "Barcelona"
          ],
          [
           "Antonio Rüdiger",
           "Chelsea",
           "Real Madrid"
          ],
          [
           "Romelu Lukaku",
           "Chelsea",
           "Inter"
          ],
          [
           "Saúl Ñíguez",
           "Chelsea",
           "Atlético Madrid"
          ],
          [
           "Tiemoué Bakayoko",
           "Chelsea",
           "AC Milan"
          ],
          [
           "Kurt Zouma",
           "Chelsea",
           "West Ham"
          ],
          [
           "Abdul Rahman Baba",
           "Chelsea",
           "Reading"
          ],
          [
           "Davide Zappacosta",
           "Chelsea",
           "Atalanta BC"
          ],
          [
           "Emerson",
           "Chelsea",
           "Olympique Lyon"
          ],
          [
           "Michy Batshuayi",
           "Chelsea",
           "Besiktas"
          ],
          [
           "Kenedy",
           "Chelsea",
           "Flamengo"
          ],
          [
           "Tammy Abraham",
           "Chelsea",
           "AS Roma"
          ],
          [
           "Marc Guéhi",
           "Chelsea",
           "Crystal Palace"
          ],
          [
           "Olivier Giroud",
           "Chelsea",
           "AC Milan"
          ],
          [
           "Billy Gilmour",
           "Chelsea",
           "Norwich"
          ],
          [
           "Victor Moses",
           "Chelsea",
           "Spartak Moscow"
          ],
          [
           "Marco van Ginkel",
           "Chelsea",
           "PSV Eindhoven"
          ],
          [
           "Fikayo Tomori",
           "Chelsea",
           "AC Milan"
          ],
          [
           "Abdul Rahman Baba",
           "Chelsea",
           "PAOK Salonika"
          ],
          [
           "Fikayo Tomori",
           "Chelsea",
           "AC Milan"
          ],
          [
           "Lucas Piazón",
           "Chelsea",
           "SC Braga"
          ],
          [
           "Victor Moses",
           "Chelsea",
           "Spartak Moscow"
          ],
          [
           "Marco van Ginkel",
           "Chelsea",
           "PSV Eindhoven"
          ],
          [
           "Malang Sarr",
           "Chelsea",
           "FC Porto"
          ],
          [
           "Tiemoué Bakayoko",
           "Chelsea",
           "Napoli"
          ],
          [
           "Ruben Loftus-Cheek",
           "Chelsea",
           "Fulham"
          ],
          [
           "Ross Barkley",
           "Chelsea",
           "Aston Villa"
          ],
          [
           "Davide Zappacosta",
           "Chelsea",
           "Genoa"
          ],
          [
           "Michy Batshuayi",
           "Chelsea",
           "Crystal Palace"
          ],
          [
           "Kenedy",
           "Chelsea",
           "Granada CF"
          ],
          [
           "Pedro",
           "Chelsea",
           "AS Roma"
          ],
          [
           "Mario Pasalic",
           "Chelsea",
           "Atalanta BC"
          ],
          [
           "Marc Guéhi",
           "Chelsea",
           "Swansea"
          ],
          [
           "Willian",
           "Chelsea",
           "Arsenal"
          ],
          [
           "Álvaro Morata",
           "Chelsea",
           "Atlético Madrid"
          ],
          [
           "Victor Moses",
           "Chelsea",
           "Inter"
          ],
          [
           "Marc Guéhi",
           "Chelsea",
           "Swansea"
          ],
          [
           "Abdul Rahman Baba",
           "Chelsea",
           "RCD Mallorca"
          ],
          [
           "Kenedy",
           "Chelsea",
           "Getafe"
          ],
          [
           "Lucas Piazón",
           "Chelsea",
           "Rio Ave"
          ],
          [
           "Tiemoué Bakayoko",
           "Chelsea",
           "Monaco"
          ],
          [
           "Davide Zappacosta",
           "Chelsea",
           "AS Roma"
          ],
          [
           "Kenneth Omeruo",
           "Chelsea",
           "CD Leganés"
          ],
          [
           "Ola Aina",
           "Chelsea",
           "Torino"
          ],
          [
           "Mateo Kovacic",
           "Chelsea",
           "Real Madrid"
          ],
          [
           "Lucas Piazón",
           "Chelsea",
           "Chievo Verona"
          ],
          [
           "Michy Batshuayi",
           "Chelsea",
           "Crystal Palace"
          ],
          [
           "Abdul Rahman Baba",
           "Chelsea",
           "Stade Reims"
          ],
          [
           "Álvaro Morata",
           "Chelsea",
           "Atlético Madrid"
          ],
          [
           "Victor Moses",
           "Chelsea",
           "Fenerbahce"
          ],
          [
           "Christian Pulisic",
           "Chelsea",
           "Bor. Dortmund"
          ],
          [
           "Tammy Abraham",
           "Chelsea",
           "Aston Villa"
          ],
          [
           "Kenneth Omeruo",
           "Chelsea",
           "CD Leganés"
          ],
          [
           "Ola Aina",
           "Chelsea",
           "Torino"
          ],
          [
           "Tiemoué Bakayoko",
           "Chelsea",
           "AC Milan"
          ],
          [
           "Michy Batshuayi",
           "Chelsea",
           "Valencia"
          ],
          [
           "Thibaut Courtois",
           "Chelsea",
           "Real Madrid"
          ],
          [
           "Kurt Zouma",
           "Chelsea",
           "Everton"
          ],
          [
           "Fikayo Tomori",
           "Chelsea",
           "Derby"
          ],
          [
           "Mario Pasalic",
           "Chelsea",
           "Atalanta BC"
          ],
          [
           "Michy Batshuayi",
           "Chelsea",
           "Bor. Dortmund"
          ],
          [
           "Abdul Rahman Baba",
           "Chelsea",
           "FC Schalke 04"
          ],
          [
           "Kenedy",
           "Chelsea",
           "Newcastle"
          ],
          [
           "Fikayo Tomori",
           "Chelsea",
           "Hull City"
          ],
          [
           "Kenneth Omeruo",
           "Chelsea",
           "Kasimpasa"
          ],
          [
           "Mario Pasalic",
           "Chelsea",
           "Spartak Moscow"
          ],
          [
           "Nemanja Matic",
           "Chelsea",
           "Man Utd"
          ],
          [
           "Kurt Zouma",
           "Chelsea",
           "Stoke City"
          ],
          [
           "Ruben Loftus-Cheek",
           "Chelsea",
           "Crystal Palace"
          ],
          [
           "Ola Aina",
           "Chelsea",
           "Hull City"
          ],
          [
           "Tammy Abraham",
           "Chelsea",
           "Swansea"
          ],
          [
           "Asmir Begovic",
           "Chelsea",
           "Bournemouth"
          ],
          [
           "Juan Cuadrado",
           "Chelsea",
           "Juventus"
          ],
          [
           "Bertrand Traoré",
           "Chelsea",
           "Olympique Lyon"
          ],
          [
           "Nathan Aké",
           "Chelsea",
           "Bournemouth"
          ],
          [
           "Marco van Ginkel",
           "Chelsea",
           "PSV Eindhoven"
          ],
          [
           "Juan Cuadrado",
           "Chelsea",
           "Juventus"
          ],
          [
           "Kenneth Omeruo",
           "Chelsea",
           "Alanyaspor"
          ],
          [
           "Lucas Piazón",
           "Chelsea",
           "Fulham"
          ],
          [
           "Kenedy",
           "Chelsea",
           "Watford"
          ],
          [
           "Mario Pasalic",
           "Chelsea",
           "AC Milan"
          ],
          [
           "Bertrand Traoré",
           "Chelsea",
           "Ajax"
          ],
          [
           "Papy Djilobodji",
           "Chelsea",
           "Sunderland"
          ],
          [
           "Abdul Rahman Baba",
           "Chelsea",
           "FC Schalke 04"
          ],
          [
           "Mohamed Salah",
           "Chelsea",
           "AS Roma"
          ],
          [
           "Nathan Aké",
           "Chelsea",
           "Bournemouth"
          ],
          [
           "Stipe Perica",
           "Chelsea",
           "Udinese Calcio"
          ],
          [
           "Radamel Falcao",
           "Chelsea",
           "Monaco"
          ],
          [
           "Marco van Ginkel",
           "Chelsea",
           "PSV Eindhoven"
          ],
          [
           "Papy Djilobodji",
           "Chelsea",
           "Werder Bremen"
          ],
          [
           "Victor Moses",
           "Chelsea",
           "West Ham"
          ],
          [
           "Lucas Piazón",
           "Chelsea",
           "Reading"
          ],
          [
           "Juan Cuadrado",
           "Chelsea",
           "Juventus"
          ],
          [
           "Nathan Aké",
           "Chelsea",
           "Watford"
          ],
          [
           "Oriol Romeu",
           "Chelsea",
           "Southampton"
          ],
          [
           "Mohamed Salah",
           "Chelsea",
           "AS Roma"
          ],
          [
           "Kenneth Omeruo",
           "Chelsea",
           "Kasimpasa"
          ],
          [
           "Marco van Ginkel",
           "Chelsea",
           "Stoke City"
          ],
          [
           "Andreas Christensen",
           "Chelsea",
           "Bor. M'gladbach"
          ],
          [
           "Mario Pasalic",
           "Chelsea",
           "Monaco"
          ],
          [
           "Thorgan Hazard",
           "Chelsea",
           "Bor. M'gladbach"
          ],
          [
           "Nathan Aké",
           "Chelsea",
           "Reading"
          ],
          [
           "Mohamed Salah",
           "Chelsea",
           "Fiorentina"
          ],
          [
           "Stipe Perica",
           "Chelsea",
           "Udinese Calcio"
          ],
          [
           "Marco van Ginkel",
           "Chelsea",
           "AC Milan"
          ],
          [
           "Victor Moses",
           "Chelsea",
           "Stoke City"
          ],
          [
           "Stipe Perica",
           "Chelsea",
           "NAC Breda"
          ],
          [
           "Kenneth Omeruo",
           "Chelsea",
           "Middlesbrough"
          ],
          [
           "Oriol Romeu",
           "Chelsea",
           "VfB Stuttgart"
          ],
          [
           "Romelu Lukaku",
           "Chelsea",
           "Everton"
          ],
          [
           "Patrick van Aanholt",
           "Chelsea",
           "Sunderland"
          ],
          [
           "Lucas Piazón",
           "Chelsea",
           "E. Frankfurt"
          ],
          [
           "Mario Pasalic",
           "Chelsea",
           "Elche CF"
          ],
          [
           "Thorgan Hazard",
           "Chelsea",
           "Bor. M'gladbach"
          ],
          [
           "Kurt Zouma",
           "Chelsea",
           "Saint-Étienne"
          ],
          [
           "Kevin De Bruyne",
           "Chelsea",
           "VfL Wolfsburg"
          ],
          [
           "Kenneth Omeruo",
           "Chelsea",
           "Middlesbrough"
          ],
          [
           "Bertrand Traoré",
           "Chelsea",
           "Vitesse"
          ],
          [
           "Victor Moses",
           "Chelsea",
           "Liverpool"
          ],
          [
           "Romelu Lukaku",
           "Chelsea",
           "Everton"
          ],
          [
           "Stipe Perica",
           "Chelsea",
           "NAC Breda"
          ],
          [
           "Lucas Piazón",
           "Chelsea",
           "Vitesse"
          ],
          [
           "Jeffrey Bruma",
           "Chelsea",
           "PSV Eindhoven"
          ],
          [
           "Oriol Romeu",
           "Chelsea",
           "Valencia"
          ],
          [
           "Lucas Piazón",
           "Chelsea",
           "Málaga CF"
          ],
          [
           "Thorgan Hazard",
           "Chelsea",
           "Zulte Waregem"
          ],
          [
           "Romelu Lukaku",
           "Chelsea",
           "West Brom"
          ],
          [
           "Kevin De Bruyne",
           "Chelsea",
           "Werder Bremen"
          ],
          [
           "Kevin De Bruyne",
           "Chelsea",
           "KRC Genk"
          ],
          [
           "Patrick van Aanholt",
           "Chelsea",
           "Vitesse"
          ],
          [
           "Kenneth Omeruo",
           "Chelsea",
           "ADO Den Haag"
          ],
          [
           "Patrick van Aanholt",
           "Chelsea",
           "Wigan"
          ],
          [
           "Thibaut Courtois",
           "Chelsea",
           "Atlético Madrid"
          ],
          [
           "Nemanja Matic",
           "Chelsea",
           "Benfica"
          ],
          [
           "Jeffrey Bruma",
           "Chelsea",
           "Hamburger SV"
          ],
          [
           "Jeffrey Bruma",
           "Chelsea",
           "Leicester"
          ],
          [
           "Patrick van Aanholt",
           "Chelsea",
           "Leicester"
          ],
          [
           "Nemanja Matic",
           "Chelsea",
           "Vitesse"
          ],
          [
           "Patrick van Aanholt",
           "Chelsea",
           "Newcastle"
          ],
          [
           "Patrick van Aanholt",
           "Chelsea",
           "Coventry"
          ]
         ],
         "hovertemplate": "chelsea_role=Sold by Chelsea<br>transfer_fee=%{x}<br>market_value_in_eur=%{y}<br>player_name=%{customdata[0]}<br>from_club_name=%{customdata[1]}<br>to_club_name=%{customdata[2]}<extra></extra>",
         "legendgroup": "Sold by Chelsea",
         "marker": {
          "color": "#EF553B",
          "symbol": "circle"
         },
         "mode": "markers",
         "name": "Sold by Chelsea",
         "orientation": "v",
         "showlegend": true,
         "type": "scatter",
         "x": [
          0,
          0,
          0,
          0,
          0,
          13000000,
          0,
          0,
          0,
          0,
          0,
          0,
          30000000,
          0,
          0,
          0,
          42000000,
          2000000,
          0,
          0,
          0,
          0,
          0,
          44500000,
          33000000,
          23500000,
          0,
          0,
          0,
          0,
          0,
          3500000,
          0,
          0,
          0,
          0,
          0,
          0,
          0,
          0,
          0,
          0,
          0,
          0,
          20800000,
          0,
          0,
          0,
          64200000,
          29100000,
          18900000,
          75000000,
          0,
          0,
          0,
          11300000,
          0,
          0,
          3500000,
          0,
          500000,
          8300000,
          0,
          0,
          null,
          15400000,
          0,
          20000000,
          0,
          0,
          0,
          0,
          0,
          0,
          0,
          35000000,
          0,
          7000000,
          0,
          0,
          0,
          41000000,
          23340000,
          4800000,
          0,
          5000000,
          0,
          35300000,
          0,
          0,
          0,
          0,
          0,
          0,
          0,
          0,
          0,
          0,
          0,
          0,
          0,
          14500000,
          0,
          0,
          35000000,
          0,
          0,
          0,
          0,
          0,
          0,
          0,
          5000000,
          9800000,
          0,
          0,
          0,
          0,
          0,
          0,
          0,
          0,
          0,
          0,
          0,
          0,
          35000000,
          0,
          0,
          0,
          0,
          0,
          0,
          0,
          0,
          0,
          44700000,
          0,
          0,
          0,
          0,
          11500000,
          20000000,
          10000000,
          22800000,
          0,
          0,
          0,
          0,
          0,
          0,
          0,
          9500000,
          0,
          15000000,
          0,
          4500000,
          0,
          0,
          0,
          0,
          0,
          0,
          0,
          7000000,
          0,
          0,
          0,
          0,
          0,
          8000000,
          0,
          0,
          0,
          0,
          0,
          0,
          0,
          0,
          35360000,
          1900000,
          0,
          0,
          0,
          0,
          22000000,
          0,
          0,
          0,
          0,
          0,
          0,
          3500000,
          0,
          0,
          0,
          0,
          0,
          0,
          0,
          0,
          0,
          0,
          5000000,
          0,
          0,
          0,
          0,
          0,
          0
         ],
         "xaxis": "x",
         "y": [
          30000000,
          20000000,
          30000000,
          30000000,
          15000000,
          10000000,
          10000000,
          12000000,
          35000000,
          13000000,
          20000000,
          22000000,
          30000000,
          12000000,
          700000,
          1000000,
          50000000,
          3000000,
          25000000,
          3000000,
          4000000,
          1000000,
          9000000,
          40000000,
          18000000,
          7000000,
          800000,
          28000000,
          14000000,
          8000000,
          20000000,
          15000000,
          2000000,
          2500000,
          40000000,
          15000000,
          10000000,
          16000000,
          12000000,
          18000000,
          9000000,
          13000000,
          4000000,
          1000000,
          25000000,
          10000000,
          1200000,
          5000000,
          60000000,
          38000000,
          25000000,
          55000000,
          18000000,
          50000000,
          12000000,
          35000000,
          15000000,
          1000000,
          10000000,
          12000000,
          7000000,
          12000000,
          2200000,
          25000000,
          12000000,
          14000000,
          8000000,
          35000000,
          5000000,
          3000000,
          35000000,
          40000000,
          70000000,
          25000000,
          20000000,
          32000000,
          2500000,
          8000000,
          14000000,
          10000000,
          10000000,
          38000000,
          10000000,
          4000000,
          10000000,
          6500000,
          1750000,
          28000000,
          2400000,
          17000000,
          900000,
          6000000,
          3200000,
          16000000,
          25500000,
          24000000,
          21500000,
          10000000,
          14000000,
          9500000,
          9500000,
          25000000,
          2700000,
          22500000,
          36000000,
          8500000,
          1500000,
          5000000,
          10000000,
          1500000,
          35000000,
          15000000,
          5000000,
          10000000,
          35000000,
          2500000,
          30000000,
          5000000,
          50000000,
          18000000,
          50000000,
          10000000,
          1800000,
          4000000,
          40000000,
          40000000,
          65000000,
          15000000,
          1000000,
          8000000,
          25000000,
          8000000,
          7000000,
          250000,
          2000000,
          8000000,
          35000000,
          15000000,
          5000000,
          1000000,
          8000000,
          8000000,
          25000000,
          8000000,
          8000000,
          7000000,
          25000000,
          2300000,
          2500000,
          8000000,
          4500000,
          4000000,
          4500000,
          12000000,
          23000000,
          4500000,
          1000000,
          23000000,
          7500000,
          5000000,
          7500000,
          3000000,
          30000000,
          2000000,
          2500000,
          18000000,
          1000000,
          7500000,
          1500000,
          4000000,
          10000000,
          1500000,
          13000000,
          1000000,
          9000000,
          8000000,
          1000000,
          1000000,
          7000000,
          25000000,
          3500000,
          7000000,
          3000000,
          10000000,
          7500000,
          15000000,
          1000000,
          null,
          15000000,
          24000000,
          400000,
          5000000,
          2250000,
          7500000,
          7000000,
          500000,
          14000000,
          9000000,
          9000000,
          1500000,
          null,
          1500000,
          4000000,
          3000000,
          2000000,
          2000000,
          1000000,
          2000000,
          50000,
          null
         ],
         "yaxis": "y"
        }
       ],
       "layout": {
        "legend": {
         "title": {
          "text": "Chelsea Role"
         },
         "tracegroupgap": 0
        },
        "shapes": [
         {
          "line": {
           "color": "gray",
           "dash": "dash"
          },
          "name": "y = x",
          "type": "line",
          "x0": 0,
          "x1": 121000000,
          "y0": 0,
          "y1": 121000000
         }
        ],
        "showlegend": true,
        "template": {
         "data": {
          "bar": [
           {
            "error_x": {
             "color": "#2a3f5f"
            },
            "error_y": {
             "color": "#2a3f5f"
            },
            "marker": {
             "line": {
              "color": "#E5ECF6",
              "width": 0.5
             },
             "pattern": {
              "fillmode": "overlay",
              "size": 10,
              "solidity": 0.2
             }
            },
            "type": "bar"
           }
          ],
          "barpolar": [
           {
            "marker": {
             "line": {
              "color": "#E5ECF6",
              "width": 0.5
             },
             "pattern": {
              "fillmode": "overlay",
              "size": 10,
              "solidity": 0.2
             }
            },
            "type": "barpolar"
           }
          ],
          "carpet": [
           {
            "aaxis": {
             "endlinecolor": "#2a3f5f",
             "gridcolor": "white",
             "linecolor": "white",
             "minorgridcolor": "white",
             "startlinecolor": "#2a3f5f"
            },
            "baxis": {
             "endlinecolor": "#2a3f5f",
             "gridcolor": "white",
             "linecolor": "white",
             "minorgridcolor": "white",
             "startlinecolor": "#2a3f5f"
            },
            "type": "carpet"
           }
          ],
          "choropleth": [
           {
            "colorbar": {
             "outlinewidth": 0,
             "ticks": ""
            },
            "type": "choropleth"
           }
          ],
          "contour": [
           {
            "colorbar": {
             "outlinewidth": 0,
             "ticks": ""
            },
            "colorscale": [
             [
              0,
              "#0d0887"
             ],
             [
              0.1111111111111111,
              "#46039f"
             ],
             [
              0.2222222222222222,
              "#7201a8"
             ],
             [
              0.3333333333333333,
              "#9c179e"
             ],
             [
              0.4444444444444444,
              "#bd3786"
             ],
             [
              0.5555555555555556,
              "#d8576b"
             ],
             [
              0.6666666666666666,
              "#ed7953"
             ],
             [
              0.7777777777777778,
              "#fb9f3a"
             ],
             [
              0.8888888888888888,
              "#fdca26"
             ],
             [
              1,
              "#f0f921"
             ]
            ],
            "type": "contour"
           }
          ],
          "contourcarpet": [
           {
            "colorbar": {
             "outlinewidth": 0,
             "ticks": ""
            },
            "type": "contourcarpet"
           }
          ],
          "heatmap": [
           {
            "colorbar": {
             "outlinewidth": 0,
             "ticks": ""
            },
            "colorscale": [
             [
              0,
              "#0d0887"
             ],
             [
              0.1111111111111111,
              "#46039f"
             ],
             [
              0.2222222222222222,
              "#7201a8"
             ],
             [
              0.3333333333333333,
              "#9c179e"
             ],
             [
              0.4444444444444444,
              "#bd3786"
             ],
             [
              0.5555555555555556,
              "#d8576b"
             ],
             [
              0.6666666666666666,
              "#ed7953"
             ],
             [
              0.7777777777777778,
              "#fb9f3a"
             ],
             [
              0.8888888888888888,
              "#fdca26"
             ],
             [
              1,
              "#f0f921"
             ]
            ],
            "type": "heatmap"
           }
          ],
          "heatmapgl": [
           {
            "colorbar": {
             "outlinewidth": 0,
             "ticks": ""
            },
            "colorscale": [
             [
              0,
              "#0d0887"
             ],
             [
              0.1111111111111111,
              "#46039f"
             ],
             [
              0.2222222222222222,
              "#7201a8"
             ],
             [
              0.3333333333333333,
              "#9c179e"
             ],
             [
              0.4444444444444444,
              "#bd3786"
             ],
             [
              0.5555555555555556,
              "#d8576b"
             ],
             [
              0.6666666666666666,
              "#ed7953"
             ],
             [
              0.7777777777777778,
              "#fb9f3a"
             ],
             [
              0.8888888888888888,
              "#fdca26"
             ],
             [
              1,
              "#f0f921"
             ]
            ],
            "type": "heatmapgl"
           }
          ],
          "histogram": [
           {
            "marker": {
             "pattern": {
              "fillmode": "overlay",
              "size": 10,
              "solidity": 0.2
             }
            },
            "type": "histogram"
           }
          ],
          "histogram2d": [
           {
            "colorbar": {
             "outlinewidth": 0,
             "ticks": ""
            },
            "colorscale": [
             [
              0,
              "#0d0887"
             ],
             [
              0.1111111111111111,
              "#46039f"
             ],
             [
              0.2222222222222222,
              "#7201a8"
             ],
             [
              0.3333333333333333,
              "#9c179e"
             ],
             [
              0.4444444444444444,
              "#bd3786"
             ],
             [
              0.5555555555555556,
              "#d8576b"
             ],
             [
              0.6666666666666666,
              "#ed7953"
             ],
             [
              0.7777777777777778,
              "#fb9f3a"
             ],
             [
              0.8888888888888888,
              "#fdca26"
             ],
             [
              1,
              "#f0f921"
             ]
            ],
            "type": "histogram2d"
           }
          ],
          "histogram2dcontour": [
           {
            "colorbar": {
             "outlinewidth": 0,
             "ticks": ""
            },
            "colorscale": [
             [
              0,
              "#0d0887"
             ],
             [
              0.1111111111111111,
              "#46039f"
             ],
             [
              0.2222222222222222,
              "#7201a8"
             ],
             [
              0.3333333333333333,
              "#9c179e"
             ],
             [
              0.4444444444444444,
              "#bd3786"
             ],
             [
              0.5555555555555556,
              "#d8576b"
             ],
             [
              0.6666666666666666,
              "#ed7953"
             ],
             [
              0.7777777777777778,
              "#fb9f3a"
             ],
             [
              0.8888888888888888,
              "#fdca26"
             ],
             [
              1,
              "#f0f921"
             ]
            ],
            "type": "histogram2dcontour"
           }
          ],
          "mesh3d": [
           {
            "colorbar": {
             "outlinewidth": 0,
             "ticks": ""
            },
            "type": "mesh3d"
           }
          ],
          "parcoords": [
           {
            "line": {
             "colorbar": {
              "outlinewidth": 0,
              "ticks": ""
             }
            },
            "type": "parcoords"
           }
          ],
          "pie": [
           {
            "automargin": true,
            "type": "pie"
           }
          ],
          "scatter": [
           {
            "fillpattern": {
             "fillmode": "overlay",
             "size": 10,
             "solidity": 0.2
            },
            "type": "scatter"
           }
          ],
          "scatter3d": [
           {
            "line": {
             "colorbar": {
              "outlinewidth": 0,
              "ticks": ""
             }
            },
            "marker": {
             "colorbar": {
              "outlinewidth": 0,
              "ticks": ""
             }
            },
            "type": "scatter3d"
           }
          ],
          "scattercarpet": [
           {
            "marker": {
             "colorbar": {
              "outlinewidth": 0,
              "ticks": ""
             }
            },
            "type": "scattercarpet"
           }
          ],
          "scattergeo": [
           {
            "marker": {
             "colorbar": {
              "outlinewidth": 0,
              "ticks": ""
             }
            },
            "type": "scattergeo"
           }
          ],
          "scattergl": [
           {
            "marker": {
             "colorbar": {
              "outlinewidth": 0,
              "ticks": ""
             }
            },
            "type": "scattergl"
           }
          ],
          "scattermapbox": [
           {
            "marker": {
             "colorbar": {
              "outlinewidth": 0,
              "ticks": ""
             }
            },
            "type": "scattermapbox"
           }
          ],
          "scatterpolar": [
           {
            "marker": {
             "colorbar": {
              "outlinewidth": 0,
              "ticks": ""
             }
            },
            "type": "scatterpolar"
           }
          ],
          "scatterpolargl": [
           {
            "marker": {
             "colorbar": {
              "outlinewidth": 0,
              "ticks": ""
             }
            },
            "type": "scatterpolargl"
           }
          ],
          "scatterternary": [
           {
            "marker": {
             "colorbar": {
              "outlinewidth": 0,
              "ticks": ""
             }
            },
            "type": "scatterternary"
           }
          ],
          "surface": [
           {
            "colorbar": {
             "outlinewidth": 0,
             "ticks": ""
            },
            "colorscale": [
             [
              0,
              "#0d0887"
             ],
             [
              0.1111111111111111,
              "#46039f"
             ],
             [
              0.2222222222222222,
              "#7201a8"
             ],
             [
              0.3333333333333333,
              "#9c179e"
             ],
             [
              0.4444444444444444,
              "#bd3786"
             ],
             [
              0.5555555555555556,
              "#d8576b"
             ],
             [
              0.6666666666666666,
              "#ed7953"
             ],
             [
              0.7777777777777778,
              "#fb9f3a"
             ],
             [
              0.8888888888888888,
              "#fdca26"
             ],
             [
              1,
              "#f0f921"
             ]
            ],
            "type": "surface"
           }
          ],
          "table": [
           {
            "cells": {
             "fill": {
              "color": "#EBF0F8"
             },
             "line": {
              "color": "white"
             }
            },
            "header": {
             "fill": {
              "color": "#C8D4E3"
             },
             "line": {
              "color": "white"
             }
            },
            "type": "table"
           }
          ]
         },
         "layout": {
          "annotationdefaults": {
           "arrowcolor": "#2a3f5f",
           "arrowhead": 0,
           "arrowwidth": 1
          },
          "autotypenumbers": "strict",
          "coloraxis": {
           "colorbar": {
            "outlinewidth": 0,
            "ticks": ""
           }
          },
          "colorscale": {
           "diverging": [
            [
             0,
             "#8e0152"
            ],
            [
             0.1,
             "#c51b7d"
            ],
            [
             0.2,
             "#de77ae"
            ],
            [
             0.3,
             "#f1b6da"
            ],
            [
             0.4,
             "#fde0ef"
            ],
            [
             0.5,
             "#f7f7f7"
            ],
            [
             0.6,
             "#e6f5d0"
            ],
            [
             0.7,
             "#b8e186"
            ],
            [
             0.8,
             "#7fbc41"
            ],
            [
             0.9,
             "#4d9221"
            ],
            [
             1,
             "#276419"
            ]
           ],
           "sequential": [
            [
             0,
             "#0d0887"
            ],
            [
             0.1111111111111111,
             "#46039f"
            ],
            [
             0.2222222222222222,
             "#7201a8"
            ],
            [
             0.3333333333333333,
             "#9c179e"
            ],
            [
             0.4444444444444444,
             "#bd3786"
            ],
            [
             0.5555555555555556,
             "#d8576b"
            ],
            [
             0.6666666666666666,
             "#ed7953"
            ],
            [
             0.7777777777777778,
             "#fb9f3a"
            ],
            [
             0.8888888888888888,
             "#fdca26"
            ],
            [
             1,
             "#f0f921"
            ]
           ],
           "sequentialminus": [
            [
             0,
             "#0d0887"
            ],
            [
             0.1111111111111111,
             "#46039f"
            ],
            [
             0.2222222222222222,
             "#7201a8"
            ],
            [
             0.3333333333333333,
             "#9c179e"
            ],
            [
             0.4444444444444444,
             "#bd3786"
            ],
            [
             0.5555555555555556,
             "#d8576b"
            ],
            [
             0.6666666666666666,
             "#ed7953"
            ],
            [
             0.7777777777777778,
             "#fb9f3a"
            ],
            [
             0.8888888888888888,
             "#fdca26"
            ],
            [
             1,
             "#f0f921"
            ]
           ]
          },
          "colorway": [
           "#636efa",
           "#EF553B",
           "#00cc96",
           "#ab63fa",
           "#FFA15A",
           "#19d3f3",
           "#FF6692",
           "#B6E880",
           "#FF97FF",
           "#FECB52"
          ],
          "font": {
           "color": "#2a3f5f"
          },
          "geo": {
           "bgcolor": "white",
           "lakecolor": "white",
           "landcolor": "#E5ECF6",
           "showlakes": true,
           "showland": true,
           "subunitcolor": "white"
          },
          "hoverlabel": {
           "align": "left"
          },
          "hovermode": "closest",
          "mapbox": {
           "style": "light"
          },
          "paper_bgcolor": "white",
          "plot_bgcolor": "#E5ECF6",
          "polar": {
           "angularaxis": {
            "gridcolor": "white",
            "linecolor": "white",
            "ticks": ""
           },
           "bgcolor": "#E5ECF6",
           "radialaxis": {
            "gridcolor": "white",
            "linecolor": "white",
            "ticks": ""
           }
          },
          "scene": {
           "xaxis": {
            "backgroundcolor": "#E5ECF6",
            "gridcolor": "white",
            "gridwidth": 2,
            "linecolor": "white",
            "showbackground": true,
            "ticks": "",
            "zerolinecolor": "white"
           },
           "yaxis": {
            "backgroundcolor": "#E5ECF6",
            "gridcolor": "white",
            "gridwidth": 2,
            "linecolor": "white",
            "showbackground": true,
            "ticks": "",
            "zerolinecolor": "white"
           },
           "zaxis": {
            "backgroundcolor": "#E5ECF6",
            "gridcolor": "white",
            "gridwidth": 2,
            "linecolor": "white",
            "showbackground": true,
            "ticks": "",
            "zerolinecolor": "white"
           }
          },
          "shapedefaults": {
           "line": {
            "color": "#2a3f5f"
           }
          },
          "ternary": {
           "aaxis": {
            "gridcolor": "white",
            "linecolor": "white",
            "ticks": ""
           },
           "baxis": {
            "gridcolor": "white",
            "linecolor": "white",
            "ticks": ""
           },
           "bgcolor": "#E5ECF6",
           "caxis": {
            "gridcolor": "white",
            "linecolor": "white",
            "ticks": ""
           }
          },
          "title": {
           "x": 0.05
          },
          "xaxis": {
           "automargin": true,
           "gridcolor": "white",
           "linecolor": "white",
           "ticks": "",
           "title": {
            "standoff": 15
           },
           "zerolinecolor": "white",
           "zerolinewidth": 2
          },
          "yaxis": {
           "automargin": true,
           "gridcolor": "white",
           "linecolor": "white",
           "ticks": "",
           "title": {
            "standoff": 15
           },
           "zerolinecolor": "white",
           "zerolinewidth": 2
          }
         }
        },
        "title": {
         "text": "Chelsea Transfers: Transfer Fee vs Market Value<br><sup>Points below the diagonal line indicate players bought for more than their market value.</sup>",
         "x": 0.5
        },
        "xaxis": {
         "anchor": "y",
         "domain": [
          0,
          1
         ],
         "title": {
          "text": "Transfer Fee (EUR)"
         }
        },
        "yaxis": {
         "anchor": "x",
         "domain": [
          0,
          1
         ],
         "title": {
          "text": "Market Value at Transfer (EUR)"
         }
        }
       }
      }
     },
     "metadata": {},
     "output_type": "display_data"
    }
   ],
   "source": [
    "from plotly.graph_objects import Figure\n",
    "from plotly.subplots import make_subplots\n",
    "\n",
    "# Add a column to indicate if Chelsea is the buying or selling club\n",
    "pdf_chelsea[\"chelsea_role\"] = pdf_chelsea.apply(\n",
    "    lambda row: \"Bought by Chelsea\" if row[\"to_club_name\"] == \"Chelsea\" else \"Sold by Chelsea\",\n",
    "    axis=1\n",
    ")\n",
    "\n",
    "fig = px.scatter(\n",
    "    pdf_chelsea,\n",
    "    x=\"transfer_fee\",\n",
    "    y=\"market_value_in_eur\",\n",
    "    color=\"chelsea_role\",\n",
    "    hover_data=[\"player_name\", \"from_club_name\", \"to_club_name\"],\n",
    "    title=\"Chelsea Transfers: Transfer Fee vs Market Value\"\n",
    ")\n",
    "\n",
    "# Add y = x diagonal line\n",
    "max_val = max(pdf_chelsea[\"transfer_fee\"].max(), pdf_chelsea[\"market_value_in_eur\"].max())\n",
    "fig.add_shape(\n",
    "    type=\"line\",\n",
    "    x0=0, y0=0, x1=max_val, y1=max_val,\n",
    "    line=dict(color=\"gray\", dash=\"dash\"),\n",
    "    name=\"y = x\"\n",
    ")\n",
    "\n",
    "fig.update_layout(\n",
    "    title={\n",
    "        \"text\": \"Chelsea Transfers: Transfer Fee vs Market Value<br><sup>Points below the diagonal line indicate players bought for more than their market value.</sup>\",\n",
    "        \"x\": 0.5\n",
    "    },\n",
    "    xaxis_title=\"Transfer Fee (EUR)\",\n",
    "    yaxis_title=\"Market Value at Transfer (EUR)\",\n",
    "    legend_title=\"Chelsea Role\",\n",
    "    showlegend=True\n",
    ")\n",
    "\n",
    "fig.show()"
   ]
  },
  {
   "cell_type": "code",
   "execution_count": null,
   "id": "39394196",
   "metadata": {},
   "outputs": [],
   "source": []
  }
 ],
 "metadata": {
  "kernelspec": {
   "display_name": "Python 3",
   "language": "python",
   "name": "python3"
  },
  "language_info": {
   "codemirror_mode": {
    "name": "ipython",
    "version": 3
   },
   "file_extension": ".py",
   "mimetype": "text/x-python",
   "name": "python",
   "nbconvert_exporter": "python",
   "pygments_lexer": "ipython3",
   "version": "3.11.9"
  }
 },
 "nbformat": 4,
 "nbformat_minor": 5
}
