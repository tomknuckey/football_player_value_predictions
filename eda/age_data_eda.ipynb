{
 "cells": [
  {
   "cell_type": "code",
   "execution_count": 1,
   "id": "e3268c52",
   "metadata": {},
   "outputs": [],
   "source": [
    "import pandas as pd\n",
    "import plotly.express as px"
   ]
  },
  {
   "cell_type": "code",
   "execution_count": 2,
   "id": "c49261be",
   "metadata": {},
   "outputs": [],
   "source": [
    "pdf_valuations = pd.read_csv('../data/input/player_valuations.csv')[[\"player_id\", \"date\", \"market_value_in_eur\"]]\n",
    "pdf_players = pd.read_csv('../data/input/players.csv')[[\"player_id\", \"name\", \"date_of_birth\", \"position\", \"sub_position\", \"contract_expiration_date\", \"current_club_name\", \"current_club_domestic_competition_id\" ]]"
   ]
  },
  {
   "cell_type": "code",
   "execution_count": null,
   "id": "089f39f0",
   "metadata": {},
   "outputs": [],
   "source": [
    "pdf_joined = pdf_players.merge(pdf_valuations, on=\"player_id\").query(\"current_club_domestic_competition_id == 'GB1'\")\n",
    "pdf_joined[\"age\"] = (pd.to_datetime(pdf_joined[\"date\"]) - pd.to_datetime(pdf_joined[\"date_of_birth\"])).dt.days // 365\n",
    "pdf_joined[\"year\"] = pd.to_datetime(pdf_joined[\"date\"]).dt.year\n",
    "pdf_joined[\"month\"] = pd.to_datetime(pdf_joined[\"date\"]).dt.month"
   ]
  },
  {
   "cell_type": "code",
   "execution_count": 4,
   "id": "9f1d4ae0",
   "metadata": {},
   "outputs": [
    {
     "data": {
      "application/vnd.microsoft.datawrangler.viewer.v0+json": {
       "columns": [
        {
         "name": "index",
         "rawType": "int64",
         "type": "integer"
        },
        {
         "name": "player_id",
         "rawType": "int64",
         "type": "integer"
        },
        {
         "name": "name",
         "rawType": "object",
         "type": "string"
        },
        {
         "name": "date_of_birth",
         "rawType": "object",
         "type": "string"
        },
        {
         "name": "position",
         "rawType": "object",
         "type": "string"
        },
        {
         "name": "sub_position",
         "rawType": "object",
         "type": "string"
        },
        {
         "name": "contract_expiration_date",
         "rawType": "object",
         "type": "unknown"
        },
        {
         "name": "current_club_name",
         "rawType": "object",
         "type": "string"
        },
        {
         "name": "current_club_domestic_competition_id",
         "rawType": "object",
         "type": "string"
        },
        {
         "name": "date",
         "rawType": "object",
         "type": "string"
        },
        {
         "name": "market_value_in_eur",
         "rawType": "int64",
         "type": "integer"
        },
        {
         "name": "age",
         "rawType": "float64",
         "type": "float"
        },
        {
         "name": "year",
         "rawType": "int32",
         "type": "integer"
        },
        {
         "name": "month",
         "rawType": "int32",
         "type": "integer"
        }
       ],
       "ref": "4ef605e7-1458-4b61-bd38-4f31e2ca881a",
       "rows": [
        [
         "245",
         "215",
         "Roque Santa Cruz",
         "1981-08-16 00:00:00",
         "Attack",
         "Centre-Forward",
         "2023-12-31 00:00:00",
         "Málaga CF",
         "ES1",
         "2022-11-30",
         "250000",
         "41.0",
         "2022",
         "11"
        ],
        [
         "246",
         "215",
         "Roque Santa Cruz",
         "1981-08-16 00:00:00",
         "Attack",
         "Centre-Forward",
         "2023-12-31 00:00:00",
         "Málaga CF",
         "ES1",
         "2023-06-30",
         "250000",
         "41.0",
         "2023",
         "6"
        ],
        [
         "505",
         "532",
         "Claudio Pizarro",
         "1978-10-03 00:00:00",
         "Attack",
         "Centre-Forward",
         null,
         "Sportverein Werder Bremen von 1899",
         "L1",
         "2019-12-17",
         "500000",
         "41.0",
         "2019",
         "12"
        ],
        [
         "506",
         "532",
         "Claudio Pizarro",
         "1978-10-03 00:00:00",
         "Attack",
         "Centre-Forward",
         null,
         "Sportverein Werder Bremen von 1899",
         "L1",
         "2020-04-08",
         "400000",
         "41.0",
         "2020",
         "4"
        ],
        [
         "3311",
         "3146",
         "Shay Given",
         "1976-04-20 00:00:00",
         "Goalkeeper",
         "Goalkeeper",
         null,
         "Stoke City",
         "GB1",
         "2017-06-28",
         "250000",
         "41.0",
         "2017",
         "6"
        ],
        [
         "3939",
         "3287",
         "Steve Banks",
         "1972-02-09 00:00:00",
         "Goalkeeper",
         "Goalkeeper",
         null,
         "Saint Johnstone Football Club",
         "SC1",
         "2013-10-08",
         "50000",
         "41.0",
         "2013",
         "10"
        ],
        [
         "3940",
         "3287",
         "Steve Banks",
         "1972-02-09 00:00:00",
         "Goalkeeper",
         "Goalkeeper",
         null,
         "Saint Johnstone Football Club",
         "SC1",
         "2014-10-07",
         "50000",
         "42.0",
         "2014",
         "10"
        ],
        [
         "4235",
         "3357",
         "Mark Schwarzer",
         "1972-10-06 00:00:00",
         "Goalkeeper",
         "Goalkeeper",
         null,
         "Leicester City Football Club",
         "GB1",
         "2014-01-15",
         "1000000",
         "41.0",
         "2014",
         "1"
        ],
        [
         "4236",
         "3357",
         "Mark Schwarzer",
         "1972-10-06 00:00:00",
         "Goalkeeper",
         "Goalkeeper",
         null,
         "Leicester City Football Club",
         "GB1",
         "2014-08-12",
         "1000000",
         "41.0",
         "2014",
         "8"
        ],
        [
         "4237",
         "3357",
         "Mark Schwarzer",
         "1972-10-06 00:00:00",
         "Goalkeeper",
         "Goalkeeper",
         null,
         "Leicester City Football Club",
         "GB1",
         "2014-10-05",
         "500000",
         "42.0",
         "2014",
         "10"
        ],
        [
         "4238",
         "3357",
         "Mark Schwarzer",
         "1972-10-06 00:00:00",
         "Goalkeeper",
         "Goalkeeper",
         null,
         "Leicester City Football Club",
         "GB1",
         "2015-02-12",
         "500000",
         "42.0",
         "2015",
         "2"
        ],
        [
         "4239",
         "3357",
         "Mark Schwarzer",
         "1972-10-06 00:00:00",
         "Goalkeeper",
         "Goalkeeper",
         null,
         "Leicester City Football Club",
         "GB1",
         "2015-07-01",
         "500000",
         "42.0",
         "2015",
         "7"
        ],
        [
         "4240",
         "3357",
         "Mark Schwarzer",
         "1972-10-06 00:00:00",
         "Goalkeeper",
         "Goalkeeper",
         null,
         "Leicester City Football Club",
         "GB1",
         "2016-02-09",
         "500000",
         "43.0",
         "2016",
         "2"
        ],
        [
         "4471",
         "3441",
         "Timmy Simons",
         "1976-12-11 00:00:00",
         "Midfield",
         "Defensive Midfield",
         null,
         "Club Brugge Koninklijke Voetbalvereniging",
         "BE1",
         "2018-01-09",
         "100000",
         "41.0",
         "2018",
         "1"
        ],
        [
         "4472",
         "3441",
         "Timmy Simons",
         "1976-12-11 00:00:00",
         "Midfield",
         "Defensive Midfield",
         null,
         "Club Brugge Koninklijke Voetbalvereniging",
         "BE1",
         "2018-06-03",
         "100000",
         "41.0",
         "2018",
         "6"
        ],
        [
         "4527",
         "3455",
         "Zlatan Ibrahimović",
         "1981-10-03 00:00:00",
         "Attack",
         "Centre-Forward",
         null,
         "Associazione Calcio Milan",
         "IT1",
         "2022-11-11",
         "2000000",
         "41.0",
         "2022",
         "11"
        ],
        [
         "4528",
         "3455",
         "Zlatan Ibrahimović",
         "1981-10-03 00:00:00",
         "Attack",
         "Centre-Forward",
         null,
         "Associazione Calcio Milan",
         "IT1",
         "2023-06-15",
         "2000000",
         "41.0",
         "2023",
         "6"
        ],
        [
         "4657",
         "3476",
         "Brad Friedel",
         "1971-05-18 00:00:00",
         "Goalkeeper",
         "Goalkeeper",
         null,
         "Tottenham Hotspur Football Club",
         "GB1",
         "2012-06-24",
         "1000000",
         "41.0",
         "2012",
         "6"
        ],
        [
         "4658",
         "3476",
         "Brad Friedel",
         "1971-05-18 00:00:00",
         "Goalkeeper",
         "Goalkeeper",
         null,
         "Tottenham Hotspur Football Club",
         "GB1",
         "2013-01-28",
         "1000000",
         "41.0",
         "2013",
         "1"
        ],
        [
         "4659",
         "3476",
         "Brad Friedel",
         "1971-05-18 00:00:00",
         "Goalkeeper",
         "Goalkeeper",
         null,
         "Tottenham Hotspur Football Club",
         "GB1",
         "2013-07-02",
         "1000000",
         "42.0",
         "2013",
         "7"
        ],
        [
         "4660",
         "3476",
         "Brad Friedel",
         "1971-05-18 00:00:00",
         "Goalkeeper",
         "Goalkeeper",
         null,
         "Tottenham Hotspur Football Club",
         "GB1",
         "2014-01-15",
         "1000000",
         "42.0",
         "2014",
         "1"
        ],
        [
         "4661",
         "3476",
         "Brad Friedel",
         "1971-05-18 00:00:00",
         "Goalkeeper",
         "Goalkeeper",
         null,
         "Tottenham Hotspur Football Club",
         "GB1",
         "2014-08-12",
         "1000000",
         "43.0",
         "2014",
         "8"
        ],
        [
         "4662",
         "3476",
         "Brad Friedel",
         "1971-05-18 00:00:00",
         "Goalkeeper",
         "Goalkeeper",
         null,
         "Tottenham Hotspur Football Club",
         "GB1",
         "2015-02-12",
         "750000",
         "43.0",
         "2015",
         "2"
        ],
        [
         "4859",
         "3535",
         "Ricardo",
         "1971-12-30 00:00:00",
         "Goalkeeper",
         "Goalkeeper",
         null,
         "Club Atlético Osasuna",
         "ES1",
         "2013-01-03",
         "100000",
         "41.0",
         "2013",
         "1"
        ],
        [
         "4860",
         "3535",
         "Ricardo",
         "1971-12-30 00:00:00",
         "Goalkeeper",
         "Goalkeeper",
         null,
         "Club Atlético Osasuna",
         "ES1",
         "2013-06-14",
         "100000",
         "41.0",
         "2013",
         "6"
        ],
        [
         "5296",
         "3692",
         "Jussi Jääskeläinen",
         "1975-04-19 00:00:00",
         "Goalkeeper",
         "Goalkeeper",
         null,
         "West Ham United Football Club",
         "GB1",
         "2016-05-30",
         "250000",
         "41.0",
         "2016",
         "5"
        ],
        [
         "5297",
         "3692",
         "Jussi Jääskeläinen",
         "1975-04-19 00:00:00",
         "Goalkeeper",
         "Goalkeeper",
         null,
         "West Ham United Football Club",
         "GB1",
         "2016-09-01",
         "250000",
         "41.0",
         "2016",
         "9"
        ],
        [
         "5298",
         "3692",
         "Jussi Jääskeläinen",
         "1975-04-19 00:00:00",
         "Goalkeeper",
         "Goalkeeper",
         null,
         "West Ham United Football Club",
         "GB1",
         "2017-02-27",
         "150000",
         "41.0",
         "2017",
         "2"
        ],
        [
         "6334",
         "4042",
         "Brad Jones",
         "1982-03-19 00:00:00",
         "Goalkeeper",
         "Goalkeeper",
         "2023-06-30 00:00:00",
         "Feyenoord Rotterdam",
         "NL1",
         "2023-04-05",
         "100000",
         "41.0",
         "2023",
         "4"
        ],
        [
         "7933",
         "4582",
         "Sander Boschker",
         "1970-10-20 00:00:00",
         "Goalkeeper",
         "Goalkeeper",
         null,
         "Football Club Twente",
         "NL1",
         "2012-01-05",
         "250000",
         "41.0",
         "2012",
         "1"
        ],
        [
         "7934",
         "4582",
         "Sander Boschker",
         "1970-10-20 00:00:00",
         "Goalkeeper",
         "Goalkeeper",
         null,
         "Football Club Twente",
         "NL1",
         "2013-01-12",
         "100000",
         "42.0",
         "2013",
         "1"
        ],
        [
         "7935",
         "4582",
         "Sander Boschker",
         "1970-10-20 00:00:00",
         "Goalkeeper",
         "Goalkeeper",
         null,
         "Football Club Twente",
         "NL1",
         "2013-06-02",
         "100000",
         "42.0",
         "2013",
         "6"
        ],
        [
         "7936",
         "4582",
         "Sander Boschker",
         "1970-10-20 00:00:00",
         "Goalkeeper",
         "Goalkeeper",
         null,
         "Football Club Twente",
         "NL1",
         "2014-02-11",
         "100000",
         "43.0",
         "2014",
         "2"
        ],
        [
         "8454",
         "4811",
         "Hilton",
         "1977-09-13 00:00:00",
         "Defender",
         "Centre-Back",
         null,
         "Montpellier Hérault Sport Club",
         "FR1",
         "2018-10-24",
         "100000",
         "41.0",
         "2018",
         "10"
        ],
        [
         "8455",
         "4811",
         "Hilton",
         "1977-09-13 00:00:00",
         "Defender",
         "Centre-Back",
         null,
         "Montpellier Hérault Sport Club",
         "FR1",
         "2018-12-17",
         "100000",
         "41.0",
         "2018",
         "12"
        ],
        [
         "8456",
         "4811",
         "Hilton",
         "1977-09-13 00:00:00",
         "Defender",
         "Centre-Back",
         null,
         "Montpellier Hérault Sport Club",
         "FR1",
         "2019-06-03",
         "100000",
         "41.0",
         "2019",
         "6"
        ],
        [
         "8457",
         "4811",
         "Hilton",
         "1977-09-13 00:00:00",
         "Defender",
         "Centre-Back",
         null,
         "Montpellier Hérault Sport Club",
         "FR1",
         "2019-12-19",
         "100000",
         "42.0",
         "2019",
         "12"
        ],
        [
         "8458",
         "4811",
         "Hilton",
         "1977-09-13 00:00:00",
         "Defender",
         "Centre-Back",
         null,
         "Montpellier Hérault Sport Club",
         "FR1",
         "2020-10-15",
         "100000",
         "43.0",
         "2020",
         "10"
        ],
        [
         "8459",
         "4811",
         "Hilton",
         "1977-09-13 00:00:00",
         "Defender",
         "Centre-Back",
         null,
         "Montpellier Hérault Sport Club",
         "FR1",
         "2021-06-04",
         "150000",
         "43.0",
         "2021",
         "6"
        ],
        [
         "8590",
         "5023",
         "Gianluigi Buffon",
         "1978-01-28 00:00:00",
         "Goalkeeper",
         "Goalkeeper",
         "2024-06-30 00:00:00",
         "Juventus Football Club",
         "IT1",
         "2019-06-03",
         "1000000",
         "41.0",
         "2019",
         "6"
        ],
        [
         "8591",
         "5023",
         "Gianluigi Buffon",
         "1978-01-28 00:00:00",
         "Goalkeeper",
         "Goalkeeper",
         "2024-06-30 00:00:00",
         "Juventus Football Club",
         "IT1",
         "2019-12-12",
         "1000000",
         "41.0",
         "2019",
         "12"
        ],
        [
         "8592",
         "5023",
         "Gianluigi Buffon",
         "1978-01-28 00:00:00",
         "Goalkeeper",
         "Goalkeeper",
         "2024-06-30 00:00:00",
         "Juventus Football Club",
         "IT1",
         "2020-08-25",
         "1000000",
         "42.0",
         "2020",
         "8"
        ],
        [
         "8593",
         "5023",
         "Gianluigi Buffon",
         "1978-01-28 00:00:00",
         "Goalkeeper",
         "Goalkeeper",
         "2024-06-30 00:00:00",
         "Juventus Football Club",
         "IT1",
         "2020-12-29",
         "1000000",
         "42.0",
         "2020",
         "12"
        ],
        [
         "8594",
         "5023",
         "Gianluigi Buffon",
         "1978-01-28 00:00:00",
         "Goalkeeper",
         "Goalkeeper",
         "2024-06-30 00:00:00",
         "Juventus Football Club",
         "IT1",
         "2021-06-03",
         "1000000",
         "43.0",
         "2021",
         "6"
        ],
        [
         "8595",
         "5023",
         "Gianluigi Buffon",
         "1978-01-28 00:00:00",
         "Goalkeeper",
         "Goalkeeper",
         "2024-06-30 00:00:00",
         "Juventus Football Club",
         "IT1",
         "2021-12-29",
         "1000000",
         "43.0",
         "2021",
         "12"
        ],
        [
         "8596",
         "5023",
         "Gianluigi Buffon",
         "1978-01-28 00:00:00",
         "Goalkeeper",
         "Goalkeeper",
         "2024-06-30 00:00:00",
         "Juventus Football Club",
         "IT1",
         "2022-06-06",
         "1000000",
         "44.0",
         "2022",
         "6"
        ],
        [
         "8597",
         "5023",
         "Gianluigi Buffon",
         "1978-01-28 00:00:00",
         "Goalkeeper",
         "Goalkeeper",
         "2024-06-30 00:00:00",
         "Juventus Football Club",
         "IT1",
         "2022-12-22",
         "1000000",
         "44.0",
         "2022",
         "12"
        ],
        [
         "8598",
         "5023",
         "Gianluigi Buffon",
         "1978-01-28 00:00:00",
         "Goalkeeper",
         "Goalkeeper",
         "2024-06-30 00:00:00",
         "Juventus Football Club",
         "IT1",
         "2023-06-12",
         "1000000",
         "45.0",
         "2023",
         "6"
        ],
        [
         "9957",
         "5578",
         "Nicolas Penneteau",
         "1981-02-28 00:00:00",
         "Goalkeeper",
         "Goalkeeper",
         null,
         "Stade de Reims",
         "FR1",
         "2022-05-30",
         "150000",
         "41.0",
         "2022",
         "5"
        ],
        [
         "9958",
         "5578",
         "Nicolas Penneteau",
         "1981-02-28 00:00:00",
         "Goalkeeper",
         "Goalkeeper",
         null,
         "Stade de Reims",
         "FR1",
         "2022-11-02",
         "150000",
         "41.0",
         "2022",
         "11"
        ]
       ],
       "shape": {
        "columns": 13,
        "rows": 168
       }
      },
      "text/html": [
       "<div>\n",
       "<style scoped>\n",
       "    .dataframe tbody tr th:only-of-type {\n",
       "        vertical-align: middle;\n",
       "    }\n",
       "\n",
       "    .dataframe tbody tr th {\n",
       "        vertical-align: top;\n",
       "    }\n",
       "\n",
       "    .dataframe thead th {\n",
       "        text-align: right;\n",
       "    }\n",
       "</style>\n",
       "<table border=\"1\" class=\"dataframe\">\n",
       "  <thead>\n",
       "    <tr style=\"text-align: right;\">\n",
       "      <th></th>\n",
       "      <th>player_id</th>\n",
       "      <th>name</th>\n",
       "      <th>date_of_birth</th>\n",
       "      <th>position</th>\n",
       "      <th>sub_position</th>\n",
       "      <th>contract_expiration_date</th>\n",
       "      <th>current_club_name</th>\n",
       "      <th>current_club_domestic_competition_id</th>\n",
       "      <th>date</th>\n",
       "      <th>market_value_in_eur</th>\n",
       "      <th>age</th>\n",
       "      <th>year</th>\n",
       "      <th>month</th>\n",
       "    </tr>\n",
       "  </thead>\n",
       "  <tbody>\n",
       "    <tr>\n",
       "      <th>245</th>\n",
       "      <td>215</td>\n",
       "      <td>Roque Santa Cruz</td>\n",
       "      <td>1981-08-16 00:00:00</td>\n",
       "      <td>Attack</td>\n",
       "      <td>Centre-Forward</td>\n",
       "      <td>2023-12-31 00:00:00</td>\n",
       "      <td>Málaga CF</td>\n",
       "      <td>ES1</td>\n",
       "      <td>2022-11-30</td>\n",
       "      <td>250000</td>\n",
       "      <td>41.0</td>\n",
       "      <td>2022</td>\n",
       "      <td>11</td>\n",
       "    </tr>\n",
       "    <tr>\n",
       "      <th>246</th>\n",
       "      <td>215</td>\n",
       "      <td>Roque Santa Cruz</td>\n",
       "      <td>1981-08-16 00:00:00</td>\n",
       "      <td>Attack</td>\n",
       "      <td>Centre-Forward</td>\n",
       "      <td>2023-12-31 00:00:00</td>\n",
       "      <td>Málaga CF</td>\n",
       "      <td>ES1</td>\n",
       "      <td>2023-06-30</td>\n",
       "      <td>250000</td>\n",
       "      <td>41.0</td>\n",
       "      <td>2023</td>\n",
       "      <td>6</td>\n",
       "    </tr>\n",
       "    <tr>\n",
       "      <th>505</th>\n",
       "      <td>532</td>\n",
       "      <td>Claudio Pizarro</td>\n",
       "      <td>1978-10-03 00:00:00</td>\n",
       "      <td>Attack</td>\n",
       "      <td>Centre-Forward</td>\n",
       "      <td>NaN</td>\n",
       "      <td>Sportverein Werder Bremen von 1899</td>\n",
       "      <td>L1</td>\n",
       "      <td>2019-12-17</td>\n",
       "      <td>500000</td>\n",
       "      <td>41.0</td>\n",
       "      <td>2019</td>\n",
       "      <td>12</td>\n",
       "    </tr>\n",
       "    <tr>\n",
       "      <th>506</th>\n",
       "      <td>532</td>\n",
       "      <td>Claudio Pizarro</td>\n",
       "      <td>1978-10-03 00:00:00</td>\n",
       "      <td>Attack</td>\n",
       "      <td>Centre-Forward</td>\n",
       "      <td>NaN</td>\n",
       "      <td>Sportverein Werder Bremen von 1899</td>\n",
       "      <td>L1</td>\n",
       "      <td>2020-04-08</td>\n",
       "      <td>400000</td>\n",
       "      <td>41.0</td>\n",
       "      <td>2020</td>\n",
       "      <td>4</td>\n",
       "    </tr>\n",
       "    <tr>\n",
       "      <th>3311</th>\n",
       "      <td>3146</td>\n",
       "      <td>Shay Given</td>\n",
       "      <td>1976-04-20 00:00:00</td>\n",
       "      <td>Goalkeeper</td>\n",
       "      <td>Goalkeeper</td>\n",
       "      <td>NaN</td>\n",
       "      <td>Stoke City</td>\n",
       "      <td>GB1</td>\n",
       "      <td>2017-06-28</td>\n",
       "      <td>250000</td>\n",
       "      <td>41.0</td>\n",
       "      <td>2017</td>\n",
       "      <td>6</td>\n",
       "    </tr>\n",
       "    <tr>\n",
       "      <th>...</th>\n",
       "      <td>...</td>\n",
       "      <td>...</td>\n",
       "      <td>...</td>\n",
       "      <td>...</td>\n",
       "      <td>...</td>\n",
       "      <td>...</td>\n",
       "      <td>...</td>\n",
       "      <td>...</td>\n",
       "      <td>...</td>\n",
       "      <td>...</td>\n",
       "      <td>...</td>\n",
       "      <td>...</td>\n",
       "      <td>...</td>\n",
       "    </tr>\n",
       "    <tr>\n",
       "      <th>187120</th>\n",
       "      <td>101913</td>\n",
       "      <td>Ramos Borges Emerson</td>\n",
       "      <td>1980-08-16 00:00:00</td>\n",
       "      <td>Defender</td>\n",
       "      <td>Centre-Back</td>\n",
       "      <td>2024-06-30 00:00:00</td>\n",
       "      <td>US Livorno 1915</td>\n",
       "      <td>IT1</td>\n",
       "      <td>2022-12-20</td>\n",
       "      <td>75000</td>\n",
       "      <td>42.0</td>\n",
       "      <td>2022</td>\n",
       "      <td>12</td>\n",
       "    </tr>\n",
       "    <tr>\n",
       "      <th>187121</th>\n",
       "      <td>101913</td>\n",
       "      <td>Ramos Borges Emerson</td>\n",
       "      <td>1980-08-16 00:00:00</td>\n",
       "      <td>Defender</td>\n",
       "      <td>Centre-Back</td>\n",
       "      <td>2024-06-30 00:00:00</td>\n",
       "      <td>US Livorno 1915</td>\n",
       "      <td>IT1</td>\n",
       "      <td>2023-06-20</td>\n",
       "      <td>100000</td>\n",
       "      <td>42.0</td>\n",
       "      <td>2023</td>\n",
       "      <td>6</td>\n",
       "    </tr>\n",
       "    <tr>\n",
       "      <th>275865</th>\n",
       "      <td>193257</td>\n",
       "      <td>Vladyslav Gelzin</td>\n",
       "      <td>1973-08-27 00:00:00</td>\n",
       "      <td>Attack</td>\n",
       "      <td>Centre-Forward</td>\n",
       "      <td>NaN</td>\n",
       "      <td>Olimpik Donetsk</td>\n",
       "      <td>UKR1</td>\n",
       "      <td>2014-12-25</td>\n",
       "      <td>50000</td>\n",
       "      <td>41.0</td>\n",
       "      <td>2014</td>\n",
       "      <td>12</td>\n",
       "    </tr>\n",
       "    <tr>\n",
       "      <th>275866</th>\n",
       "      <td>193257</td>\n",
       "      <td>Vladyslav Gelzin</td>\n",
       "      <td>1973-08-27 00:00:00</td>\n",
       "      <td>Attack</td>\n",
       "      <td>Centre-Forward</td>\n",
       "      <td>NaN</td>\n",
       "      <td>Olimpik Donetsk</td>\n",
       "      <td>UKR1</td>\n",
       "      <td>2015-06-07</td>\n",
       "      <td>50000</td>\n",
       "      <td>41.0</td>\n",
       "      <td>2015</td>\n",
       "      <td>6</td>\n",
       "    </tr>\n",
       "    <tr>\n",
       "      <th>275867</th>\n",
       "      <td>193257</td>\n",
       "      <td>Vladyslav Gelzin</td>\n",
       "      <td>1973-08-27 00:00:00</td>\n",
       "      <td>Attack</td>\n",
       "      <td>Centre-Forward</td>\n",
       "      <td>NaN</td>\n",
       "      <td>Olimpik Donetsk</td>\n",
       "      <td>UKR1</td>\n",
       "      <td>2015-12-17</td>\n",
       "      <td>50000</td>\n",
       "      <td>42.0</td>\n",
       "      <td>2015</td>\n",
       "      <td>12</td>\n",
       "    </tr>\n",
       "  </tbody>\n",
       "</table>\n",
       "<p>168 rows × 13 columns</p>\n",
       "</div>"
      ],
      "text/plain": [
       "        player_id                  name        date_of_birth    position  \\\n",
       "245           215      Roque Santa Cruz  1981-08-16 00:00:00      Attack   \n",
       "246           215      Roque Santa Cruz  1981-08-16 00:00:00      Attack   \n",
       "505           532       Claudio Pizarro  1978-10-03 00:00:00      Attack   \n",
       "506           532       Claudio Pizarro  1978-10-03 00:00:00      Attack   \n",
       "3311         3146            Shay Given  1976-04-20 00:00:00  Goalkeeper   \n",
       "...           ...                   ...                  ...         ...   \n",
       "187120     101913  Ramos Borges Emerson  1980-08-16 00:00:00    Defender   \n",
       "187121     101913  Ramos Borges Emerson  1980-08-16 00:00:00    Defender   \n",
       "275865     193257      Vladyslav Gelzin  1973-08-27 00:00:00      Attack   \n",
       "275866     193257      Vladyslav Gelzin  1973-08-27 00:00:00      Attack   \n",
       "275867     193257      Vladyslav Gelzin  1973-08-27 00:00:00      Attack   \n",
       "\n",
       "          sub_position contract_expiration_date  \\\n",
       "245     Centre-Forward      2023-12-31 00:00:00   \n",
       "246     Centre-Forward      2023-12-31 00:00:00   \n",
       "505     Centre-Forward                      NaN   \n",
       "506     Centre-Forward                      NaN   \n",
       "3311        Goalkeeper                      NaN   \n",
       "...                ...                      ...   \n",
       "187120     Centre-Back      2024-06-30 00:00:00   \n",
       "187121     Centre-Back      2024-06-30 00:00:00   \n",
       "275865  Centre-Forward                      NaN   \n",
       "275866  Centre-Forward                      NaN   \n",
       "275867  Centre-Forward                      NaN   \n",
       "\n",
       "                         current_club_name  \\\n",
       "245                              Málaga CF   \n",
       "246                              Málaga CF   \n",
       "505     Sportverein Werder Bremen von 1899   \n",
       "506     Sportverein Werder Bremen von 1899   \n",
       "3311                            Stoke City   \n",
       "...                                    ...   \n",
       "187120                     US Livorno 1915   \n",
       "187121                     US Livorno 1915   \n",
       "275865                     Olimpik Donetsk   \n",
       "275866                     Olimpik Donetsk   \n",
       "275867                     Olimpik Donetsk   \n",
       "\n",
       "       current_club_domestic_competition_id        date  market_value_in_eur  \\\n",
       "245                                     ES1  2022-11-30               250000   \n",
       "246                                     ES1  2023-06-30               250000   \n",
       "505                                      L1  2019-12-17               500000   \n",
       "506                                      L1  2020-04-08               400000   \n",
       "3311                                    GB1  2017-06-28               250000   \n",
       "...                                     ...         ...                  ...   \n",
       "187120                                  IT1  2022-12-20                75000   \n",
       "187121                                  IT1  2023-06-20               100000   \n",
       "275865                                 UKR1  2014-12-25                50000   \n",
       "275866                                 UKR1  2015-06-07                50000   \n",
       "275867                                 UKR1  2015-12-17                50000   \n",
       "\n",
       "         age  year  month  \n",
       "245     41.0  2022     11  \n",
       "246     41.0  2023      6  \n",
       "505     41.0  2019     12  \n",
       "506     41.0  2020      4  \n",
       "3311    41.0  2017      6  \n",
       "...      ...   ...    ...  \n",
       "187120  42.0  2022     12  \n",
       "187121  42.0  2023      6  \n",
       "275865  41.0  2014     12  \n",
       "275866  41.0  2015      6  \n",
       "275867  42.0  2015     12  \n",
       "\n",
       "[168 rows x 13 columns]"
      ]
     },
     "execution_count": 4,
     "metadata": {},
     "output_type": "execute_result"
    }
   ],
   "source": [
    "pdf_joined.query(\"age > 40\") "
   ]
  },
  {
   "cell_type": "code",
   "execution_count": 5,
   "id": "b6143b44",
   "metadata": {},
   "outputs": [],
   "source": [
    "def plot_individual(pdf, player_id):\n",
    "    pdf_player = pdf.query(f\"player_id == {player_id}\")\n",
    "    player_name = pdf_player[\"name\"].iloc[0] if not pdf_player.empty and \"name\" in pdf_player else f\"ID {player_id}\"\n",
    "    return px.line(pdf_player, x=\"age\", y=\"market_value_in_eur\", title=f'Market Value Over Time for {player_name}')"
   ]
  },
  {
   "cell_type": "code",
   "execution_count": null,
   "id": "018c442e",
   "metadata": {},
   "outputs": [],
   "source": []
  },
  {
   "cell_type": "code",
   "execution_count": 6,
   "id": "ff471173",
   "metadata": {},
   "outputs": [
    {
     "data": {
      "application/vnd.microsoft.datawrangler.viewer.v0+json": {
       "columns": [
        {
         "name": "index",
         "rawType": "int64",
         "type": "integer"
        },
        {
         "name": "player_id",
         "rawType": "int64",
         "type": "integer"
        },
        {
         "name": "name",
         "rawType": "object",
         "type": "string"
        },
        {
         "name": "date_of_birth",
         "rawType": "object",
         "type": "unknown"
        },
        {
         "name": "position",
         "rawType": "object",
         "type": "string"
        },
        {
         "name": "sub_position",
         "rawType": "object",
         "type": "unknown"
        },
        {
         "name": "contract_expiration_date",
         "rawType": "object",
         "type": "unknown"
        },
        {
         "name": "current_club_name",
         "rawType": "object",
         "type": "string"
        },
        {
         "name": "current_club_domestic_competition_id",
         "rawType": "object",
         "type": "string"
        },
        {
         "name": "date",
         "rawType": "object",
         "type": "string"
        },
        {
         "name": "market_value_in_eur",
         "rawType": "int64",
         "type": "integer"
        },
        {
         "name": "age",
         "rawType": "float64",
         "type": "float"
        },
        {
         "name": "year",
         "rawType": "int32",
         "type": "integer"
        },
        {
         "name": "month",
         "rawType": "int32",
         "type": "integer"
        }
       ],
       "ref": "b305ed29-ce0b-4264-bd3d-8440a2da22b8",
       "rows": [
        [
         "0",
         "10",
         "Miroslav Klose",
         "1978-06-09 00:00:00",
         "Attack",
         "Centre-Forward",
         null,
         "Società Sportiva Lazio S.p.A.",
         "IT1",
         "2004-10-04",
         "7000000",
         "26.0",
         "2004",
         "10"
        ],
        [
         "1",
         "10",
         "Miroslav Klose",
         "1978-06-09 00:00:00",
         "Attack",
         "Centre-Forward",
         null,
         "Società Sportiva Lazio S.p.A.",
         "IT1",
         "2005-01-07",
         "9000000",
         "26.0",
         "2005",
         "1"
        ],
        [
         "2",
         "10",
         "Miroslav Klose",
         "1978-06-09 00:00:00",
         "Attack",
         "Centre-Forward",
         null,
         "Società Sportiva Lazio S.p.A.",
         "IT1",
         "2005-05-05",
         "12000000",
         "26.0",
         "2005",
         "5"
        ],
        [
         "3",
         "10",
         "Miroslav Klose",
         "1978-06-09 00:00:00",
         "Attack",
         "Centre-Forward",
         null,
         "Società Sportiva Lazio S.p.A.",
         "IT1",
         "2005-09-30",
         "15000000",
         "27.0",
         "2005",
         "9"
        ],
        [
         "4",
         "10",
         "Miroslav Klose",
         "1978-06-09 00:00:00",
         "Attack",
         "Centre-Forward",
         null,
         "Società Sportiva Lazio S.p.A.",
         "IT1",
         "2006-01-09",
         "20000000",
         "27.0",
         "2006",
         "1"
        ],
        [
         "5",
         "10",
         "Miroslav Klose",
         "1978-06-09 00:00:00",
         "Attack",
         "Centre-Forward",
         null,
         "Società Sportiva Lazio S.p.A.",
         "IT1",
         "2006-07-15",
         "30000000",
         "28.0",
         "2006",
         "7"
        ],
        [
         "6",
         "10",
         "Miroslav Klose",
         "1978-06-09 00:00:00",
         "Attack",
         "Centre-Forward",
         null,
         "Società Sportiva Lazio S.p.A.",
         "IT1",
         "2007-06-21",
         "23000000",
         "29.0",
         "2007",
         "6"
        ],
        [
         "7",
         "10",
         "Miroslav Klose",
         "1978-06-09 00:00:00",
         "Attack",
         "Centre-Forward",
         null,
         "Società Sportiva Lazio S.p.A.",
         "IT1",
         "2008-06-04",
         "20000000",
         "30.0",
         "2008",
         "6"
        ],
        [
         "8",
         "10",
         "Miroslav Klose",
         "1978-06-09 00:00:00",
         "Attack",
         "Centre-Forward",
         null,
         "Società Sportiva Lazio S.p.A.",
         "IT1",
         "2009-06-10",
         "18000000",
         "31.0",
         "2009",
         "6"
        ],
        [
         "9",
         "10",
         "Miroslav Klose",
         "1978-06-09 00:00:00",
         "Attack",
         "Centre-Forward",
         null,
         "Società Sportiva Lazio S.p.A.",
         "IT1",
         "2009-08-30",
         "12000000",
         "31.0",
         "2009",
         "8"
        ],
        [
         "10",
         "10",
         "Miroslav Klose",
         "1978-06-09 00:00:00",
         "Attack",
         "Centre-Forward",
         null,
         "Società Sportiva Lazio S.p.A.",
         "IT1",
         "2010-01-17",
         "9000000",
         "31.0",
         "2010",
         "1"
        ],
        [
         "11",
         "10",
         "Miroslav Klose",
         "1978-06-09 00:00:00",
         "Attack",
         "Centre-Forward",
         null,
         "Società Sportiva Lazio S.p.A.",
         "IT1",
         "2010-05-08",
         "7500000",
         "31.0",
         "2010",
         "5"
        ],
        [
         "12",
         "10",
         "Miroslav Klose",
         "1978-06-09 00:00:00",
         "Attack",
         "Centre-Forward",
         null,
         "Società Sportiva Lazio S.p.A.",
         "IT1",
         "2011-01-12",
         "7000000",
         "32.0",
         "2011",
         "1"
        ],
        [
         "13",
         "10",
         "Miroslav Klose",
         "1978-06-09 00:00:00",
         "Attack",
         "Centre-Forward",
         null,
         "Società Sportiva Lazio S.p.A.",
         "IT1",
         "2011-06-29",
         "5000000",
         "33.0",
         "2011",
         "6"
        ],
        [
         "14",
         "10",
         "Miroslav Klose",
         "1978-06-09 00:00:00",
         "Attack",
         "Centre-Forward",
         null,
         "Società Sportiva Lazio S.p.A.",
         "IT1",
         "2012-01-11",
         "6000000",
         "33.0",
         "2012",
         "1"
        ],
        [
         "15",
         "10",
         "Miroslav Klose",
         "1978-06-09 00:00:00",
         "Attack",
         "Centre-Forward",
         null,
         "Società Sportiva Lazio S.p.A.",
         "IT1",
         "2012-07-03",
         "6000000",
         "34.0",
         "2012",
         "7"
        ],
        [
         "16",
         "10",
         "Miroslav Klose",
         "1978-06-09 00:00:00",
         "Attack",
         "Centre-Forward",
         null,
         "Società Sportiva Lazio S.p.A.",
         "IT1",
         "2013-01-14",
         "4000000",
         "34.0",
         "2013",
         "1"
        ],
        [
         "17",
         "10",
         "Miroslav Klose",
         "1978-06-09 00:00:00",
         "Attack",
         "Centre-Forward",
         null,
         "Società Sportiva Lazio S.p.A.",
         "IT1",
         "2013-06-19",
         "2000000",
         "35.0",
         "2013",
         "6"
        ],
        [
         "18",
         "10",
         "Miroslav Klose",
         "1978-06-09 00:00:00",
         "Attack",
         "Centre-Forward",
         null,
         "Società Sportiva Lazio S.p.A.",
         "IT1",
         "2014-01-07",
         "1000000",
         "35.0",
         "2014",
         "1"
        ],
        [
         "19",
         "10",
         "Miroslav Klose",
         "1978-06-09 00:00:00",
         "Attack",
         "Centre-Forward",
         null,
         "Società Sportiva Lazio S.p.A.",
         "IT1",
         "2014-07-07",
         "1000000",
         "36.0",
         "2014",
         "7"
        ],
        [
         "20",
         "10",
         "Miroslav Klose",
         "1978-06-09 00:00:00",
         "Attack",
         "Centre-Forward",
         null,
         "Società Sportiva Lazio S.p.A.",
         "IT1",
         "2015-01-07",
         "1000000",
         "36.0",
         "2015",
         "1"
        ],
        [
         "21",
         "10",
         "Miroslav Klose",
         "1978-06-09 00:00:00",
         "Attack",
         "Centre-Forward",
         null,
         "Società Sportiva Lazio S.p.A.",
         "IT1",
         "2015-07-01",
         "1000000",
         "37.0",
         "2015",
         "7"
        ],
        [
         "22",
         "10",
         "Miroslav Klose",
         "1978-06-09 00:00:00",
         "Attack",
         "Centre-Forward",
         null,
         "Società Sportiva Lazio S.p.A.",
         "IT1",
         "2016-01-04",
         "1000000",
         "37.0",
         "2016",
         "1"
        ],
        [
         "23",
         "26",
         "Roman Weidenfeller",
         "1980-08-06 00:00:00",
         "Goalkeeper",
         "Goalkeeper",
         null,
         "Borussia Dortmund",
         "L1",
         "2004-10-04",
         "1500000",
         "24.0",
         "2004",
         "10"
        ],
        [
         "24",
         "26",
         "Roman Weidenfeller",
         "1980-08-06 00:00:00",
         "Goalkeeper",
         "Goalkeeper",
         null,
         "Borussia Dortmund",
         "L1",
         "2004-12-20",
         "2000000",
         "24.0",
         "2004",
         "12"
        ],
        [
         "25",
         "26",
         "Roman Weidenfeller",
         "1980-08-06 00:00:00",
         "Goalkeeper",
         "Goalkeeper",
         null,
         "Borussia Dortmund",
         "L1",
         "2005-04-21",
         "3500000",
         "24.0",
         "2005",
         "4"
        ],
        [
         "26",
         "26",
         "Roman Weidenfeller",
         "1980-08-06 00:00:00",
         "Goalkeeper",
         "Goalkeeper",
         null,
         "Borussia Dortmund",
         "L1",
         "2005-06-13",
         "3750000",
         "24.0",
         "2005",
         "6"
        ],
        [
         "27",
         "26",
         "Roman Weidenfeller",
         "1980-08-06 00:00:00",
         "Goalkeeper",
         "Goalkeeper",
         null,
         "Borussia Dortmund",
         "L1",
         "2005-07-18",
         "5000000",
         "24.0",
         "2005",
         "7"
        ],
        [
         "28",
         "26",
         "Roman Weidenfeller",
         "1980-08-06 00:00:00",
         "Goalkeeper",
         "Goalkeeper",
         null,
         "Borussia Dortmund",
         "L1",
         "2005-09-04",
         "6750000",
         "25.0",
         "2005",
         "9"
        ],
        [
         "29",
         "26",
         "Roman Weidenfeller",
         "1980-08-06 00:00:00",
         "Goalkeeper",
         "Goalkeeper",
         null,
         "Borussia Dortmund",
         "L1",
         "2006-01-09",
         "7000000",
         "25.0",
         "2006",
         "1"
        ],
        [
         "30",
         "26",
         "Roman Weidenfeller",
         "1980-08-06 00:00:00",
         "Goalkeeper",
         "Goalkeeper",
         null,
         "Borussia Dortmund",
         "L1",
         "2006-06-02",
         "7500000",
         "25.0",
         "2006",
         "6"
        ],
        [
         "31",
         "26",
         "Roman Weidenfeller",
         "1980-08-06 00:00:00",
         "Goalkeeper",
         "Goalkeeper",
         null,
         "Borussia Dortmund",
         "L1",
         "2007-01-15",
         "8000000",
         "26.0",
         "2007",
         "1"
        ],
        [
         "32",
         "26",
         "Roman Weidenfeller",
         "1980-08-06 00:00:00",
         "Goalkeeper",
         "Goalkeeper",
         null,
         "Borussia Dortmund",
         "L1",
         "2008-01-01",
         "5000000",
         "27.0",
         "2008",
         "1"
        ],
        [
         "33",
         "26",
         "Roman Weidenfeller",
         "1980-08-06 00:00:00",
         "Goalkeeper",
         "Goalkeeper",
         null,
         "Borussia Dortmund",
         "L1",
         "2010-01-17",
         "4500000",
         "29.0",
         "2010",
         "1"
        ],
        [
         "34",
         "26",
         "Roman Weidenfeller",
         "1980-08-06 00:00:00",
         "Goalkeeper",
         "Goalkeeper",
         null,
         "Borussia Dortmund",
         "L1",
         "2010-08-26",
         "4500000",
         "30.0",
         "2010",
         "8"
        ],
        [
         "35",
         "26",
         "Roman Weidenfeller",
         "1980-08-06 00:00:00",
         "Goalkeeper",
         "Goalkeeper",
         null,
         "Borussia Dortmund",
         "L1",
         "2011-01-12",
         "4500000",
         "30.0",
         "2011",
         "1"
        ],
        [
         "36",
         "26",
         "Roman Weidenfeller",
         "1980-08-06 00:00:00",
         "Goalkeeper",
         "Goalkeeper",
         null,
         "Borussia Dortmund",
         "L1",
         "2011-06-29",
         "5000000",
         "30.0",
         "2011",
         "6"
        ],
        [
         "37",
         "26",
         "Roman Weidenfeller",
         "1980-08-06 00:00:00",
         "Goalkeeper",
         "Goalkeeper",
         null,
         "Borussia Dortmund",
         "L1",
         "2012-01-23",
         "5000000",
         "31.0",
         "2012",
         "1"
        ],
        [
         "38",
         "26",
         "Roman Weidenfeller",
         "1980-08-06 00:00:00",
         "Goalkeeper",
         "Goalkeeper",
         null,
         "Borussia Dortmund",
         "L1",
         "2012-06-29",
         "5000000",
         "31.0",
         "2012",
         "6"
        ],
        [
         "39",
         "26",
         "Roman Weidenfeller",
         "1980-08-06 00:00:00",
         "Goalkeeper",
         "Goalkeeper",
         null,
         "Borussia Dortmund",
         "L1",
         "2013-01-13",
         "4000000",
         "32.0",
         "2013",
         "1"
        ],
        [
         "40",
         "26",
         "Roman Weidenfeller",
         "1980-08-06 00:00:00",
         "Goalkeeper",
         "Goalkeeper",
         null,
         "Borussia Dortmund",
         "L1",
         "2013-06-30",
         "5000000",
         "32.0",
         "2013",
         "6"
        ],
        [
         "41",
         "26",
         "Roman Weidenfeller",
         "1980-08-06 00:00:00",
         "Goalkeeper",
         "Goalkeeper",
         null,
         "Borussia Dortmund",
         "L1",
         "2014-07-10",
         "5000000",
         "33.0",
         "2014",
         "7"
        ],
        [
         "42",
         "26",
         "Roman Weidenfeller",
         "1980-08-06 00:00:00",
         "Goalkeeper",
         "Goalkeeper",
         null,
         "Borussia Dortmund",
         "L1",
         "2015-02-04",
         "3000000",
         "34.0",
         "2015",
         "2"
        ],
        [
         "43",
         "26",
         "Roman Weidenfeller",
         "1980-08-06 00:00:00",
         "Goalkeeper",
         "Goalkeeper",
         null,
         "Borussia Dortmund",
         "L1",
         "2015-07-01",
         "2000000",
         "34.0",
         "2015",
         "7"
        ],
        [
         "44",
         "26",
         "Roman Weidenfeller",
         "1980-08-06 00:00:00",
         "Goalkeeper",
         "Goalkeeper",
         null,
         "Borussia Dortmund",
         "L1",
         "2015-10-16",
         "1000000",
         "35.0",
         "2015",
         "10"
        ],
        [
         "45",
         "26",
         "Roman Weidenfeller",
         "1980-08-06 00:00:00",
         "Goalkeeper",
         "Goalkeeper",
         null,
         "Borussia Dortmund",
         "L1",
         "2016-02-15",
         "1000000",
         "35.0",
         "2016",
         "2"
        ],
        [
         "46",
         "26",
         "Roman Weidenfeller",
         "1980-08-06 00:00:00",
         "Goalkeeper",
         "Goalkeeper",
         null,
         "Borussia Dortmund",
         "L1",
         "2016-07-22",
         "1000000",
         "35.0",
         "2016",
         "7"
        ],
        [
         "47",
         "26",
         "Roman Weidenfeller",
         "1980-08-06 00:00:00",
         "Goalkeeper",
         "Goalkeeper",
         null,
         "Borussia Dortmund",
         "L1",
         "2017-02-07",
         "1000000",
         "36.0",
         "2017",
         "2"
        ],
        [
         "48",
         "26",
         "Roman Weidenfeller",
         "1980-08-06 00:00:00",
         "Goalkeeper",
         "Goalkeeper",
         null,
         "Borussia Dortmund",
         "L1",
         "2017-06-19",
         "1000000",
         "36.0",
         "2017",
         "6"
        ],
        [
         "49",
         "26",
         "Roman Weidenfeller",
         "1980-08-06 00:00:00",
         "Goalkeeper",
         "Goalkeeper",
         null,
         "Borussia Dortmund",
         "L1",
         "2017-12-28",
         "750000",
         "37.0",
         "2017",
         "12"
        ]
       ],
       "shape": {
        "columns": 13,
        "rows": 496606
       }
      },
      "text/html": [
       "<div>\n",
       "<style scoped>\n",
       "    .dataframe tbody tr th:only-of-type {\n",
       "        vertical-align: middle;\n",
       "    }\n",
       "\n",
       "    .dataframe tbody tr th {\n",
       "        vertical-align: top;\n",
       "    }\n",
       "\n",
       "    .dataframe thead th {\n",
       "        text-align: right;\n",
       "    }\n",
       "</style>\n",
       "<table border=\"1\" class=\"dataframe\">\n",
       "  <thead>\n",
       "    <tr style=\"text-align: right;\">\n",
       "      <th></th>\n",
       "      <th>player_id</th>\n",
       "      <th>name</th>\n",
       "      <th>date_of_birth</th>\n",
       "      <th>position</th>\n",
       "      <th>sub_position</th>\n",
       "      <th>contract_expiration_date</th>\n",
       "      <th>current_club_name</th>\n",
       "      <th>current_club_domestic_competition_id</th>\n",
       "      <th>date</th>\n",
       "      <th>market_value_in_eur</th>\n",
       "      <th>age</th>\n",
       "      <th>year</th>\n",
       "      <th>month</th>\n",
       "    </tr>\n",
       "  </thead>\n",
       "  <tbody>\n",
       "    <tr>\n",
       "      <th>0</th>\n",
       "      <td>10</td>\n",
       "      <td>Miroslav Klose</td>\n",
       "      <td>1978-06-09 00:00:00</td>\n",
       "      <td>Attack</td>\n",
       "      <td>Centre-Forward</td>\n",
       "      <td>NaN</td>\n",
       "      <td>Società Sportiva Lazio S.p.A.</td>\n",
       "      <td>IT1</td>\n",
       "      <td>2004-10-04</td>\n",
       "      <td>7000000</td>\n",
       "      <td>26.0</td>\n",
       "      <td>2004</td>\n",
       "      <td>10</td>\n",
       "    </tr>\n",
       "    <tr>\n",
       "      <th>1</th>\n",
       "      <td>10</td>\n",
       "      <td>Miroslav Klose</td>\n",
       "      <td>1978-06-09 00:00:00</td>\n",
       "      <td>Attack</td>\n",
       "      <td>Centre-Forward</td>\n",
       "      <td>NaN</td>\n",
       "      <td>Società Sportiva Lazio S.p.A.</td>\n",
       "      <td>IT1</td>\n",
       "      <td>2005-01-07</td>\n",
       "      <td>9000000</td>\n",
       "      <td>26.0</td>\n",
       "      <td>2005</td>\n",
       "      <td>1</td>\n",
       "    </tr>\n",
       "    <tr>\n",
       "      <th>2</th>\n",
       "      <td>10</td>\n",
       "      <td>Miroslav Klose</td>\n",
       "      <td>1978-06-09 00:00:00</td>\n",
       "      <td>Attack</td>\n",
       "      <td>Centre-Forward</td>\n",
       "      <td>NaN</td>\n",
       "      <td>Società Sportiva Lazio S.p.A.</td>\n",
       "      <td>IT1</td>\n",
       "      <td>2005-05-05</td>\n",
       "      <td>12000000</td>\n",
       "      <td>26.0</td>\n",
       "      <td>2005</td>\n",
       "      <td>5</td>\n",
       "    </tr>\n",
       "    <tr>\n",
       "      <th>3</th>\n",
       "      <td>10</td>\n",
       "      <td>Miroslav Klose</td>\n",
       "      <td>1978-06-09 00:00:00</td>\n",
       "      <td>Attack</td>\n",
       "      <td>Centre-Forward</td>\n",
       "      <td>NaN</td>\n",
       "      <td>Società Sportiva Lazio S.p.A.</td>\n",
       "      <td>IT1</td>\n",
       "      <td>2005-09-30</td>\n",
       "      <td>15000000</td>\n",
       "      <td>27.0</td>\n",
       "      <td>2005</td>\n",
       "      <td>9</td>\n",
       "    </tr>\n",
       "    <tr>\n",
       "      <th>4</th>\n",
       "      <td>10</td>\n",
       "      <td>Miroslav Klose</td>\n",
       "      <td>1978-06-09 00:00:00</td>\n",
       "      <td>Attack</td>\n",
       "      <td>Centre-Forward</td>\n",
       "      <td>NaN</td>\n",
       "      <td>Società Sportiva Lazio S.p.A.</td>\n",
       "      <td>IT1</td>\n",
       "      <td>2006-01-09</td>\n",
       "      <td>20000000</td>\n",
       "      <td>27.0</td>\n",
       "      <td>2006</td>\n",
       "      <td>1</td>\n",
       "    </tr>\n",
       "    <tr>\n",
       "      <th>...</th>\n",
       "      <td>...</td>\n",
       "      <td>...</td>\n",
       "      <td>...</td>\n",
       "      <td>...</td>\n",
       "      <td>...</td>\n",
       "      <td>...</td>\n",
       "      <td>...</td>\n",
       "      <td>...</td>\n",
       "      <td>...</td>\n",
       "      <td>...</td>\n",
       "      <td>...</td>\n",
       "      <td>...</td>\n",
       "      <td>...</td>\n",
       "    </tr>\n",
       "    <tr>\n",
       "      <th>496601</th>\n",
       "      <td>1306131</td>\n",
       "      <td>Fábio Sambú</td>\n",
       "      <td>2007-09-06 00:00:00</td>\n",
       "      <td>Attack</td>\n",
       "      <td>Centre-Forward</td>\n",
       "      <td>2027-06-30 00:00:00</td>\n",
       "      <td>Boavista Futebol Clube</td>\n",
       "      <td>PO1</td>\n",
       "      <td>2024-10-08</td>\n",
       "      <td>100000</td>\n",
       "      <td>17.0</td>\n",
       "      <td>2024</td>\n",
       "      <td>10</td>\n",
       "    </tr>\n",
       "    <tr>\n",
       "      <th>496602</th>\n",
       "      <td>1306131</td>\n",
       "      <td>Fábio Sambú</td>\n",
       "      <td>2007-09-06 00:00:00</td>\n",
       "      <td>Attack</td>\n",
       "      <td>Centre-Forward</td>\n",
       "      <td>2027-06-30 00:00:00</td>\n",
       "      <td>Boavista Futebol Clube</td>\n",
       "      <td>PO1</td>\n",
       "      <td>2024-12-19</td>\n",
       "      <td>100000</td>\n",
       "      <td>17.0</td>\n",
       "      <td>2024</td>\n",
       "      <td>12</td>\n",
       "    </tr>\n",
       "    <tr>\n",
       "      <th>496603</th>\n",
       "      <td>1306851</td>\n",
       "      <td>Hakim Sulemana</td>\n",
       "      <td>2005-02-19 00:00:00</td>\n",
       "      <td>Attack</td>\n",
       "      <td>Left Winger</td>\n",
       "      <td>2026-06-30 00:00:00</td>\n",
       "      <td>Randers Fodbold Club</td>\n",
       "      <td>DK1</td>\n",
       "      <td>2024-12-09</td>\n",
       "      <td>50000</td>\n",
       "      <td>19.0</td>\n",
       "      <td>2024</td>\n",
       "      <td>12</td>\n",
       "    </tr>\n",
       "    <tr>\n",
       "      <th>496604</th>\n",
       "      <td>1309326</td>\n",
       "      <td>Jay-David Mbalanda</td>\n",
       "      <td>2007-05-03 00:00:00</td>\n",
       "      <td>Missing</td>\n",
       "      <td>NaN</td>\n",
       "      <td>NaN</td>\n",
       "      <td>Koninklijke Sint-Truidense Voetbalvereniging</td>\n",
       "      <td>BE1</td>\n",
       "      <td>2025-03-26</td>\n",
       "      <td>100000</td>\n",
       "      <td>17.0</td>\n",
       "      <td>2025</td>\n",
       "      <td>3</td>\n",
       "    </tr>\n",
       "    <tr>\n",
       "      <th>496605</th>\n",
       "      <td>1310513</td>\n",
       "      <td>Aristide Zossou</td>\n",
       "      <td>2005-06-14 00:00:00</td>\n",
       "      <td>Attack</td>\n",
       "      <td>Left Winger</td>\n",
       "      <td>2029-06-30 00:00:00</td>\n",
       "      <td>Association de la Jeunesse auxerroise</td>\n",
       "      <td>FR1</td>\n",
       "      <td>2025-03-24</td>\n",
       "      <td>100000</td>\n",
       "      <td>19.0</td>\n",
       "      <td>2025</td>\n",
       "      <td>3</td>\n",
       "    </tr>\n",
       "  </tbody>\n",
       "</table>\n",
       "<p>496606 rows × 13 columns</p>\n",
       "</div>"
      ],
      "text/plain": [
       "        player_id                name        date_of_birth position  \\\n",
       "0              10      Miroslav Klose  1978-06-09 00:00:00   Attack   \n",
       "1              10      Miroslav Klose  1978-06-09 00:00:00   Attack   \n",
       "2              10      Miroslav Klose  1978-06-09 00:00:00   Attack   \n",
       "3              10      Miroslav Klose  1978-06-09 00:00:00   Attack   \n",
       "4              10      Miroslav Klose  1978-06-09 00:00:00   Attack   \n",
       "...           ...                 ...                  ...      ...   \n",
       "496601    1306131         Fábio Sambú  2007-09-06 00:00:00   Attack   \n",
       "496602    1306131         Fábio Sambú  2007-09-06 00:00:00   Attack   \n",
       "496603    1306851      Hakim Sulemana  2005-02-19 00:00:00   Attack   \n",
       "496604    1309326  Jay-David Mbalanda  2007-05-03 00:00:00  Missing   \n",
       "496605    1310513     Aristide Zossou  2005-06-14 00:00:00   Attack   \n",
       "\n",
       "          sub_position contract_expiration_date  \\\n",
       "0       Centre-Forward                      NaN   \n",
       "1       Centre-Forward                      NaN   \n",
       "2       Centre-Forward                      NaN   \n",
       "3       Centre-Forward                      NaN   \n",
       "4       Centre-Forward                      NaN   \n",
       "...                ...                      ...   \n",
       "496601  Centre-Forward      2027-06-30 00:00:00   \n",
       "496602  Centre-Forward      2027-06-30 00:00:00   \n",
       "496603     Left Winger      2026-06-30 00:00:00   \n",
       "496604             NaN                      NaN   \n",
       "496605     Left Winger      2029-06-30 00:00:00   \n",
       "\n",
       "                                   current_club_name  \\\n",
       "0                      Società Sportiva Lazio S.p.A.   \n",
       "1                      Società Sportiva Lazio S.p.A.   \n",
       "2                      Società Sportiva Lazio S.p.A.   \n",
       "3                      Società Sportiva Lazio S.p.A.   \n",
       "4                      Società Sportiva Lazio S.p.A.   \n",
       "...                                              ...   \n",
       "496601                        Boavista Futebol Clube   \n",
       "496602                        Boavista Futebol Clube   \n",
       "496603                          Randers Fodbold Club   \n",
       "496604  Koninklijke Sint-Truidense Voetbalvereniging   \n",
       "496605         Association de la Jeunesse auxerroise   \n",
       "\n",
       "       current_club_domestic_competition_id        date  market_value_in_eur  \\\n",
       "0                                       IT1  2004-10-04              7000000   \n",
       "1                                       IT1  2005-01-07              9000000   \n",
       "2                                       IT1  2005-05-05             12000000   \n",
       "3                                       IT1  2005-09-30             15000000   \n",
       "4                                       IT1  2006-01-09             20000000   \n",
       "...                                     ...         ...                  ...   \n",
       "496601                                  PO1  2024-10-08               100000   \n",
       "496602                                  PO1  2024-12-19               100000   \n",
       "496603                                  DK1  2024-12-09                50000   \n",
       "496604                                  BE1  2025-03-26               100000   \n",
       "496605                                  FR1  2025-03-24               100000   \n",
       "\n",
       "         age  year  month  \n",
       "0       26.0  2004     10  \n",
       "1       26.0  2005      1  \n",
       "2       26.0  2005      5  \n",
       "3       27.0  2005      9  \n",
       "4       27.0  2006      1  \n",
       "...      ...   ...    ...  \n",
       "496601  17.0  2024     10  \n",
       "496602  17.0  2024     12  \n",
       "496603  19.0  2024     12  \n",
       "496604  17.0  2025      3  \n",
       "496605  19.0  2025      3  \n",
       "\n",
       "[496606 rows x 13 columns]"
      ]
     },
     "execution_count": 6,
     "metadata": {},
     "output_type": "execute_result"
    }
   ],
   "source": [
    "pdf_joined"
   ]
  },
  {
   "cell_type": "code",
   "execution_count": 7,
   "id": "d6116e6c",
   "metadata": {},
   "outputs": [
    {
     "data": {
      "application/vnd.plotly.v1+json": {
       "config": {
        "plotlyServerURL": "https://plot.ly"
       },
       "data": [
        {
         "hovertemplate": "age=%{x}<br>market_value_in_eur=%{y}<extra></extra>",
         "legendgroup": "",
         "line": {
          "color": "#636efa",
          "dash": "solid"
         },
         "marker": {
          "symbol": "circle"
         },
         "mode": "lines",
         "name": "",
         "orientation": "v",
         "showlegend": false,
         "type": "scatter",
         "x": [
          23,
          23,
          23,
          24,
          25,
          26,
          26,
          26,
          27,
          28,
          28,
          28,
          29,
          29,
          30,
          30,
          31,
          31,
          32,
          32,
          33,
          33,
          34,
          34,
          34,
          35,
          35,
          36,
          36,
          36,
          36,
          37,
          37,
          38,
          38,
          38,
          39,
          39,
          40,
          40,
          41,
          41
         ],
         "xaxis": "x",
         "y": [
          22000000,
          25000000,
          28000000,
          25000000,
          35000000,
          38000000,
          42000000,
          45000000,
          45000000,
          46000000,
          46000000,
          30000000,
          35000000,
          35000000,
          37000000,
          35000000,
          35000000,
          30000000,
          28000000,
          26000000,
          21000000,
          15000000,
          15000000,
          15000000,
          12000000,
          12000000,
          10000000,
          8000000,
          7000000,
          5000000,
          4000000,
          3500000,
          3500000,
          3500000,
          2800000,
          3500000,
          5000000,
          4000000,
          4000000,
          3000000,
          2000000,
          2000000
         ],
         "yaxis": "y"
        }
       ],
       "layout": {
        "legend": {
         "tracegroupgap": 0
        },
        "template": {
         "data": {
          "bar": [
           {
            "error_x": {
             "color": "#2a3f5f"
            },
            "error_y": {
             "color": "#2a3f5f"
            },
            "marker": {
             "line": {
              "color": "#E5ECF6",
              "width": 0.5
             },
             "pattern": {
              "fillmode": "overlay",
              "size": 10,
              "solidity": 0.2
             }
            },
            "type": "bar"
           }
          ],
          "barpolar": [
           {
            "marker": {
             "line": {
              "color": "#E5ECF6",
              "width": 0.5
             },
             "pattern": {
              "fillmode": "overlay",
              "size": 10,
              "solidity": 0.2
             }
            },
            "type": "barpolar"
           }
          ],
          "carpet": [
           {
            "aaxis": {
             "endlinecolor": "#2a3f5f",
             "gridcolor": "white",
             "linecolor": "white",
             "minorgridcolor": "white",
             "startlinecolor": "#2a3f5f"
            },
            "baxis": {
             "endlinecolor": "#2a3f5f",
             "gridcolor": "white",
             "linecolor": "white",
             "minorgridcolor": "white",
             "startlinecolor": "#2a3f5f"
            },
            "type": "carpet"
           }
          ],
          "choropleth": [
           {
            "colorbar": {
             "outlinewidth": 0,
             "ticks": ""
            },
            "type": "choropleth"
           }
          ],
          "contour": [
           {
            "colorbar": {
             "outlinewidth": 0,
             "ticks": ""
            },
            "colorscale": [
             [
              0,
              "#0d0887"
             ],
             [
              0.1111111111111111,
              "#46039f"
             ],
             [
              0.2222222222222222,
              "#7201a8"
             ],
             [
              0.3333333333333333,
              "#9c179e"
             ],
             [
              0.4444444444444444,
              "#bd3786"
             ],
             [
              0.5555555555555556,
              "#d8576b"
             ],
             [
              0.6666666666666666,
              "#ed7953"
             ],
             [
              0.7777777777777778,
              "#fb9f3a"
             ],
             [
              0.8888888888888888,
              "#fdca26"
             ],
             [
              1,
              "#f0f921"
             ]
            ],
            "type": "contour"
           }
          ],
          "contourcarpet": [
           {
            "colorbar": {
             "outlinewidth": 0,
             "ticks": ""
            },
            "type": "contourcarpet"
           }
          ],
          "heatmap": [
           {
            "colorbar": {
             "outlinewidth": 0,
             "ticks": ""
            },
            "colorscale": [
             [
              0,
              "#0d0887"
             ],
             [
              0.1111111111111111,
              "#46039f"
             ],
             [
              0.2222222222222222,
              "#7201a8"
             ],
             [
              0.3333333333333333,
              "#9c179e"
             ],
             [
              0.4444444444444444,
              "#bd3786"
             ],
             [
              0.5555555555555556,
              "#d8576b"
             ],
             [
              0.6666666666666666,
              "#ed7953"
             ],
             [
              0.7777777777777778,
              "#fb9f3a"
             ],
             [
              0.8888888888888888,
              "#fdca26"
             ],
             [
              1,
              "#f0f921"
             ]
            ],
            "type": "heatmap"
           }
          ],
          "heatmapgl": [
           {
            "colorbar": {
             "outlinewidth": 0,
             "ticks": ""
            },
            "colorscale": [
             [
              0,
              "#0d0887"
             ],
             [
              0.1111111111111111,
              "#46039f"
             ],
             [
              0.2222222222222222,
              "#7201a8"
             ],
             [
              0.3333333333333333,
              "#9c179e"
             ],
             [
              0.4444444444444444,
              "#bd3786"
             ],
             [
              0.5555555555555556,
              "#d8576b"
             ],
             [
              0.6666666666666666,
              "#ed7953"
             ],
             [
              0.7777777777777778,
              "#fb9f3a"
             ],
             [
              0.8888888888888888,
              "#fdca26"
             ],
             [
              1,
              "#f0f921"
             ]
            ],
            "type": "heatmapgl"
           }
          ],
          "histogram": [
           {
            "marker": {
             "pattern": {
              "fillmode": "overlay",
              "size": 10,
              "solidity": 0.2
             }
            },
            "type": "histogram"
           }
          ],
          "histogram2d": [
           {
            "colorbar": {
             "outlinewidth": 0,
             "ticks": ""
            },
            "colorscale": [
             [
              0,
              "#0d0887"
             ],
             [
              0.1111111111111111,
              "#46039f"
             ],
             [
              0.2222222222222222,
              "#7201a8"
             ],
             [
              0.3333333333333333,
              "#9c179e"
             ],
             [
              0.4444444444444444,
              "#bd3786"
             ],
             [
              0.5555555555555556,
              "#d8576b"
             ],
             [
              0.6666666666666666,
              "#ed7953"
             ],
             [
              0.7777777777777778,
              "#fb9f3a"
             ],
             [
              0.8888888888888888,
              "#fdca26"
             ],
             [
              1,
              "#f0f921"
             ]
            ],
            "type": "histogram2d"
           }
          ],
          "histogram2dcontour": [
           {
            "colorbar": {
             "outlinewidth": 0,
             "ticks": ""
            },
            "colorscale": [
             [
              0,
              "#0d0887"
             ],
             [
              0.1111111111111111,
              "#46039f"
             ],
             [
              0.2222222222222222,
              "#7201a8"
             ],
             [
              0.3333333333333333,
              "#9c179e"
             ],
             [
              0.4444444444444444,
              "#bd3786"
             ],
             [
              0.5555555555555556,
              "#d8576b"
             ],
             [
              0.6666666666666666,
              "#ed7953"
             ],
             [
              0.7777777777777778,
              "#fb9f3a"
             ],
             [
              0.8888888888888888,
              "#fdca26"
             ],
             [
              1,
              "#f0f921"
             ]
            ],
            "type": "histogram2dcontour"
           }
          ],
          "mesh3d": [
           {
            "colorbar": {
             "outlinewidth": 0,
             "ticks": ""
            },
            "type": "mesh3d"
           }
          ],
          "parcoords": [
           {
            "line": {
             "colorbar": {
              "outlinewidth": 0,
              "ticks": ""
             }
            },
            "type": "parcoords"
           }
          ],
          "pie": [
           {
            "automargin": true,
            "type": "pie"
           }
          ],
          "scatter": [
           {
            "fillpattern": {
             "fillmode": "overlay",
             "size": 10,
             "solidity": 0.2
            },
            "type": "scatter"
           }
          ],
          "scatter3d": [
           {
            "line": {
             "colorbar": {
              "outlinewidth": 0,
              "ticks": ""
             }
            },
            "marker": {
             "colorbar": {
              "outlinewidth": 0,
              "ticks": ""
             }
            },
            "type": "scatter3d"
           }
          ],
          "scattercarpet": [
           {
            "marker": {
             "colorbar": {
              "outlinewidth": 0,
              "ticks": ""
             }
            },
            "type": "scattercarpet"
           }
          ],
          "scattergeo": [
           {
            "marker": {
             "colorbar": {
              "outlinewidth": 0,
              "ticks": ""
             }
            },
            "type": "scattergeo"
           }
          ],
          "scattergl": [
           {
            "marker": {
             "colorbar": {
              "outlinewidth": 0,
              "ticks": ""
             }
            },
            "type": "scattergl"
           }
          ],
          "scattermapbox": [
           {
            "marker": {
             "colorbar": {
              "outlinewidth": 0,
              "ticks": ""
             }
            },
            "type": "scattermapbox"
           }
          ],
          "scatterpolar": [
           {
            "marker": {
             "colorbar": {
              "outlinewidth": 0,
              "ticks": ""
             }
            },
            "type": "scatterpolar"
           }
          ],
          "scatterpolargl": [
           {
            "marker": {
             "colorbar": {
              "outlinewidth": 0,
              "ticks": ""
             }
            },
            "type": "scatterpolargl"
           }
          ],
          "scatterternary": [
           {
            "marker": {
             "colorbar": {
              "outlinewidth": 0,
              "ticks": ""
             }
            },
            "type": "scatterternary"
           }
          ],
          "surface": [
           {
            "colorbar": {
             "outlinewidth": 0,
             "ticks": ""
            },
            "colorscale": [
             [
              0,
              "#0d0887"
             ],
             [
              0.1111111111111111,
              "#46039f"
             ],
             [
              0.2222222222222222,
              "#7201a8"
             ],
             [
              0.3333333333333333,
              "#9c179e"
             ],
             [
              0.4444444444444444,
              "#bd3786"
             ],
             [
              0.5555555555555556,
              "#d8576b"
             ],
             [
              0.6666666666666666,
              "#ed7953"
             ],
             [
              0.7777777777777778,
              "#fb9f3a"
             ],
             [
              0.8888888888888888,
              "#fdca26"
             ],
             [
              1,
              "#f0f921"
             ]
            ],
            "type": "surface"
           }
          ],
          "table": [
           {
            "cells": {
             "fill": {
              "color": "#EBF0F8"
             },
             "line": {
              "color": "white"
             }
            },
            "header": {
             "fill": {
              "color": "#C8D4E3"
             },
             "line": {
              "color": "white"
             }
            },
            "type": "table"
           }
          ]
         },
         "layout": {
          "annotationdefaults": {
           "arrowcolor": "#2a3f5f",
           "arrowhead": 0,
           "arrowwidth": 1
          },
          "autotypenumbers": "strict",
          "coloraxis": {
           "colorbar": {
            "outlinewidth": 0,
            "ticks": ""
           }
          },
          "colorscale": {
           "diverging": [
            [
             0,
             "#8e0152"
            ],
            [
             0.1,
             "#c51b7d"
            ],
            [
             0.2,
             "#de77ae"
            ],
            [
             0.3,
             "#f1b6da"
            ],
            [
             0.4,
             "#fde0ef"
            ],
            [
             0.5,
             "#f7f7f7"
            ],
            [
             0.6,
             "#e6f5d0"
            ],
            [
             0.7,
             "#b8e186"
            ],
            [
             0.8,
             "#7fbc41"
            ],
            [
             0.9,
             "#4d9221"
            ],
            [
             1,
             "#276419"
            ]
           ],
           "sequential": [
            [
             0,
             "#0d0887"
            ],
            [
             0.1111111111111111,
             "#46039f"
            ],
            [
             0.2222222222222222,
             "#7201a8"
            ],
            [
             0.3333333333333333,
             "#9c179e"
            ],
            [
             0.4444444444444444,
             "#bd3786"
            ],
            [
             0.5555555555555556,
             "#d8576b"
            ],
            [
             0.6666666666666666,
             "#ed7953"
            ],
            [
             0.7777777777777778,
             "#fb9f3a"
            ],
            [
             0.8888888888888888,
             "#fdca26"
            ],
            [
             1,
             "#f0f921"
            ]
           ],
           "sequentialminus": [
            [
             0,
             "#0d0887"
            ],
            [
             0.1111111111111111,
             "#46039f"
            ],
            [
             0.2222222222222222,
             "#7201a8"
            ],
            [
             0.3333333333333333,
             "#9c179e"
            ],
            [
             0.4444444444444444,
             "#bd3786"
            ],
            [
             0.5555555555555556,
             "#d8576b"
            ],
            [
             0.6666666666666666,
             "#ed7953"
            ],
            [
             0.7777777777777778,
             "#fb9f3a"
            ],
            [
             0.8888888888888888,
             "#fdca26"
            ],
            [
             1,
             "#f0f921"
            ]
           ]
          },
          "colorway": [
           "#636efa",
           "#EF553B",
           "#00cc96",
           "#ab63fa",
           "#FFA15A",
           "#19d3f3",
           "#FF6692",
           "#B6E880",
           "#FF97FF",
           "#FECB52"
          ],
          "font": {
           "color": "#2a3f5f"
          },
          "geo": {
           "bgcolor": "white",
           "lakecolor": "white",
           "landcolor": "#E5ECF6",
           "showlakes": true,
           "showland": true,
           "subunitcolor": "white"
          },
          "hoverlabel": {
           "align": "left"
          },
          "hovermode": "closest",
          "mapbox": {
           "style": "light"
          },
          "paper_bgcolor": "white",
          "plot_bgcolor": "#E5ECF6",
          "polar": {
           "angularaxis": {
            "gridcolor": "white",
            "linecolor": "white",
            "ticks": ""
           },
           "bgcolor": "#E5ECF6",
           "radialaxis": {
            "gridcolor": "white",
            "linecolor": "white",
            "ticks": ""
           }
          },
          "scene": {
           "xaxis": {
            "backgroundcolor": "#E5ECF6",
            "gridcolor": "white",
            "gridwidth": 2,
            "linecolor": "white",
            "showbackground": true,
            "ticks": "",
            "zerolinecolor": "white"
           },
           "yaxis": {
            "backgroundcolor": "#E5ECF6",
            "gridcolor": "white",
            "gridwidth": 2,
            "linecolor": "white",
            "showbackground": true,
            "ticks": "",
            "zerolinecolor": "white"
           },
           "zaxis": {
            "backgroundcolor": "#E5ECF6",
            "gridcolor": "white",
            "gridwidth": 2,
            "linecolor": "white",
            "showbackground": true,
            "ticks": "",
            "zerolinecolor": "white"
           }
          },
          "shapedefaults": {
           "line": {
            "color": "#2a3f5f"
           }
          },
          "ternary": {
           "aaxis": {
            "gridcolor": "white",
            "linecolor": "white",
            "ticks": ""
           },
           "baxis": {
            "gridcolor": "white",
            "linecolor": "white",
            "ticks": ""
           },
           "bgcolor": "#E5ECF6",
           "caxis": {
            "gridcolor": "white",
            "linecolor": "white",
            "ticks": ""
           }
          },
          "title": {
           "x": 0.05
          },
          "xaxis": {
           "automargin": true,
           "gridcolor": "white",
           "linecolor": "white",
           "ticks": "",
           "title": {
            "standoff": 15
           },
           "zerolinecolor": "white",
           "zerolinewidth": 2
          },
          "yaxis": {
           "automargin": true,
           "gridcolor": "white",
           "linecolor": "white",
           "ticks": "",
           "title": {
            "standoff": 15
           },
           "zerolinecolor": "white",
           "zerolinewidth": 2
          }
         }
        },
        "title": {
         "text": "Market Value Over Time for Zlatan Ibrahimović"
        },
        "xaxis": {
         "anchor": "y",
         "domain": [
          0,
          1
         ],
         "title": {
          "text": "age"
         }
        },
        "yaxis": {
         "anchor": "x",
         "domain": [
          0,
          1
         ],
         "title": {
          "text": "market_value_in_eur"
         }
        }
       }
      }
     },
     "metadata": {},
     "output_type": "display_data"
    }
   ],
   "source": [
    "plot_individual(pdf_joined, 3455)"
   ]
  },
  {
   "cell_type": "code",
   "execution_count": 8,
   "id": "b8e20a00",
   "metadata": {},
   "outputs": [
    {
     "data": {
      "application/vnd.plotly.v1+json": {
       "config": {
        "plotlyServerURL": "https://plot.ly"
       },
       "data": [
        {
         "hovertemplate": "age=%{x}<br>market_value_in_eur=%{y}<extra></extra>",
         "legendgroup": "",
         "line": {
          "color": "#636efa",
          "dash": "solid"
         },
         "marker": {
          "symbol": "circle"
         },
         "mode": "lines",
         "name": "",
         "orientation": "v",
         "showlegend": false,
         "type": "scatter",
         "x": [
          21,
          21,
          22,
          23,
          23,
          23,
          24,
          24,
          25,
          25,
          25,
          26,
          26,
          26,
          27,
          27,
          27,
          28,
          28,
          29,
          29,
          30,
          30,
          31,
          31,
          32,
          32,
          33,
          33,
          33,
          33,
          34,
          34,
          35,
          35,
          36,
          36,
          37,
          37,
          37,
          37,
          38,
          38,
          39,
          39,
          40,
          40,
          41
         ],
         "xaxis": "x",
         "y": [
          3000000,
          3500000,
          2000000,
          5000000,
          8000000,
          7500000,
          30000000,
          18000000,
          20000000,
          22000000,
          22000000,
          18000000,
          18000000,
          22000000,
          22000000,
          22000000,
          22000000,
          28000000,
          28000000,
          30000000,
          30000000,
          20000000,
          18000000,
          15000000,
          15000000,
          15000000,
          10000000,
          6000000,
          6000000,
          6000000,
          5000000,
          3000000,
          3000000,
          2000000,
          1500000,
          1000000,
          1000000,
          800000,
          800000,
          1000000,
          1000000,
          1000000,
          1000000,
          1000000,
          1000000,
          1000000,
          800000,
          500000
         ],
         "yaxis": "y"
        }
       ],
       "layout": {
        "legend": {
         "tracegroupgap": 0
        },
        "template": {
         "data": {
          "bar": [
           {
            "error_x": {
             "color": "#2a3f5f"
            },
            "error_y": {
             "color": "#2a3f5f"
            },
            "marker": {
             "line": {
              "color": "#E5ECF6",
              "width": 0.5
             },
             "pattern": {
              "fillmode": "overlay",
              "size": 10,
              "solidity": 0.2
             }
            },
            "type": "bar"
           }
          ],
          "barpolar": [
           {
            "marker": {
             "line": {
              "color": "#E5ECF6",
              "width": 0.5
             },
             "pattern": {
              "fillmode": "overlay",
              "size": 10,
              "solidity": 0.2
             }
            },
            "type": "barpolar"
           }
          ],
          "carpet": [
           {
            "aaxis": {
             "endlinecolor": "#2a3f5f",
             "gridcolor": "white",
             "linecolor": "white",
             "minorgridcolor": "white",
             "startlinecolor": "#2a3f5f"
            },
            "baxis": {
             "endlinecolor": "#2a3f5f",
             "gridcolor": "white",
             "linecolor": "white",
             "minorgridcolor": "white",
             "startlinecolor": "#2a3f5f"
            },
            "type": "carpet"
           }
          ],
          "choropleth": [
           {
            "colorbar": {
             "outlinewidth": 0,
             "ticks": ""
            },
            "type": "choropleth"
           }
          ],
          "contour": [
           {
            "colorbar": {
             "outlinewidth": 0,
             "ticks": ""
            },
            "colorscale": [
             [
              0,
              "#0d0887"
             ],
             [
              0.1111111111111111,
              "#46039f"
             ],
             [
              0.2222222222222222,
              "#7201a8"
             ],
             [
              0.3333333333333333,
              "#9c179e"
             ],
             [
              0.4444444444444444,
              "#bd3786"
             ],
             [
              0.5555555555555556,
              "#d8576b"
             ],
             [
              0.6666666666666666,
              "#ed7953"
             ],
             [
              0.7777777777777778,
              "#fb9f3a"
             ],
             [
              0.8888888888888888,
              "#fdca26"
             ],
             [
              1,
              "#f0f921"
             ]
            ],
            "type": "contour"
           }
          ],
          "contourcarpet": [
           {
            "colorbar": {
             "outlinewidth": 0,
             "ticks": ""
            },
            "type": "contourcarpet"
           }
          ],
          "heatmap": [
           {
            "colorbar": {
             "outlinewidth": 0,
             "ticks": ""
            },
            "colorscale": [
             [
              0,
              "#0d0887"
             ],
             [
              0.1111111111111111,
              "#46039f"
             ],
             [
              0.2222222222222222,
              "#7201a8"
             ],
             [
              0.3333333333333333,
              "#9c179e"
             ],
             [
              0.4444444444444444,
              "#bd3786"
             ],
             [
              0.5555555555555556,
              "#d8576b"
             ],
             [
              0.6666666666666666,
              "#ed7953"
             ],
             [
              0.7777777777777778,
              "#fb9f3a"
             ],
             [
              0.8888888888888888,
              "#fdca26"
             ],
             [
              1,
              "#f0f921"
             ]
            ],
            "type": "heatmap"
           }
          ],
          "heatmapgl": [
           {
            "colorbar": {
             "outlinewidth": 0,
             "ticks": ""
            },
            "colorscale": [
             [
              0,
              "#0d0887"
             ],
             [
              0.1111111111111111,
              "#46039f"
             ],
             [
              0.2222222222222222,
              "#7201a8"
             ],
             [
              0.3333333333333333,
              "#9c179e"
             ],
             [
              0.4444444444444444,
              "#bd3786"
             ],
             [
              0.5555555555555556,
              "#d8576b"
             ],
             [
              0.6666666666666666,
              "#ed7953"
             ],
             [
              0.7777777777777778,
              "#fb9f3a"
             ],
             [
              0.8888888888888888,
              "#fdca26"
             ],
             [
              1,
              "#f0f921"
             ]
            ],
            "type": "heatmapgl"
           }
          ],
          "histogram": [
           {
            "marker": {
             "pattern": {
              "fillmode": "overlay",
              "size": 10,
              "solidity": 0.2
             }
            },
            "type": "histogram"
           }
          ],
          "histogram2d": [
           {
            "colorbar": {
             "outlinewidth": 0,
             "ticks": ""
            },
            "colorscale": [
             [
              0,
              "#0d0887"
             ],
             [
              0.1111111111111111,
              "#46039f"
             ],
             [
              0.2222222222222222,
              "#7201a8"
             ],
             [
              0.3333333333333333,
              "#9c179e"
             ],
             [
              0.4444444444444444,
              "#bd3786"
             ],
             [
              0.5555555555555556,
              "#d8576b"
             ],
             [
              0.6666666666666666,
              "#ed7953"
             ],
             [
              0.7777777777777778,
              "#fb9f3a"
             ],
             [
              0.8888888888888888,
              "#fdca26"
             ],
             [
              1,
              "#f0f921"
             ]
            ],
            "type": "histogram2d"
           }
          ],
          "histogram2dcontour": [
           {
            "colorbar": {
             "outlinewidth": 0,
             "ticks": ""
            },
            "colorscale": [
             [
              0,
              "#0d0887"
             ],
             [
              0.1111111111111111,
              "#46039f"
             ],
             [
              0.2222222222222222,
              "#7201a8"
             ],
             [
              0.3333333333333333,
              "#9c179e"
             ],
             [
              0.4444444444444444,
              "#bd3786"
             ],
             [
              0.5555555555555556,
              "#d8576b"
             ],
             [
              0.6666666666666666,
              "#ed7953"
             ],
             [
              0.7777777777777778,
              "#fb9f3a"
             ],
             [
              0.8888888888888888,
              "#fdca26"
             ],
             [
              1,
              "#f0f921"
             ]
            ],
            "type": "histogram2dcontour"
           }
          ],
          "mesh3d": [
           {
            "colorbar": {
             "outlinewidth": 0,
             "ticks": ""
            },
            "type": "mesh3d"
           }
          ],
          "parcoords": [
           {
            "line": {
             "colorbar": {
              "outlinewidth": 0,
              "ticks": ""
             }
            },
            "type": "parcoords"
           }
          ],
          "pie": [
           {
            "automargin": true,
            "type": "pie"
           }
          ],
          "scatter": [
           {
            "fillpattern": {
             "fillmode": "overlay",
             "size": 10,
             "solidity": 0.2
            },
            "type": "scatter"
           }
          ],
          "scatter3d": [
           {
            "line": {
             "colorbar": {
              "outlinewidth": 0,
              "ticks": ""
             }
            },
            "marker": {
             "colorbar": {
              "outlinewidth": 0,
              "ticks": ""
             }
            },
            "type": "scatter3d"
           }
          ],
          "scattercarpet": [
           {
            "marker": {
             "colorbar": {
              "outlinewidth": 0,
              "ticks": ""
             }
            },
            "type": "scattercarpet"
           }
          ],
          "scattergeo": [
           {
            "marker": {
             "colorbar": {
              "outlinewidth": 0,
              "ticks": ""
             }
            },
            "type": "scattergeo"
           }
          ],
          "scattergl": [
           {
            "marker": {
             "colorbar": {
              "outlinewidth": 0,
              "ticks": ""
             }
            },
            "type": "scattergl"
           }
          ],
          "scattermapbox": [
           {
            "marker": {
             "colorbar": {
              "outlinewidth": 0,
              "ticks": ""
             }
            },
            "type": "scattermapbox"
           }
          ],
          "scatterpolar": [
           {
            "marker": {
             "colorbar": {
              "outlinewidth": 0,
              "ticks": ""
             }
            },
            "type": "scatterpolar"
           }
          ],
          "scatterpolargl": [
           {
            "marker": {
             "colorbar": {
              "outlinewidth": 0,
              "ticks": ""
             }
            },
            "type": "scatterpolargl"
           }
          ],
          "scatterternary": [
           {
            "marker": {
             "colorbar": {
              "outlinewidth": 0,
              "ticks": ""
             }
            },
            "type": "scatterternary"
           }
          ],
          "surface": [
           {
            "colorbar": {
             "outlinewidth": 0,
             "ticks": ""
            },
            "colorscale": [
             [
              0,
              "#0d0887"
             ],
             [
              0.1111111111111111,
              "#46039f"
             ],
             [
              0.2222222222222222,
              "#7201a8"
             ],
             [
              0.3333333333333333,
              "#9c179e"
             ],
             [
              0.4444444444444444,
              "#bd3786"
             ],
             [
              0.5555555555555556,
              "#d8576b"
             ],
             [
              0.6666666666666666,
              "#ed7953"
             ],
             [
              0.7777777777777778,
              "#fb9f3a"
             ],
             [
              0.8888888888888888,
              "#fdca26"
             ],
             [
              1,
              "#f0f921"
             ]
            ],
            "type": "surface"
           }
          ],
          "table": [
           {
            "cells": {
             "fill": {
              "color": "#EBF0F8"
             },
             "line": {
              "color": "white"
             }
            },
            "header": {
             "fill": {
              "color": "#C8D4E3"
             },
             "line": {
              "color": "white"
             }
            },
            "type": "table"
           }
          ]
         },
         "layout": {
          "annotationdefaults": {
           "arrowcolor": "#2a3f5f",
           "arrowhead": 0,
           "arrowwidth": 1
          },
          "autotypenumbers": "strict",
          "coloraxis": {
           "colorbar": {
            "outlinewidth": 0,
            "ticks": ""
           }
          },
          "colorscale": {
           "diverging": [
            [
             0,
             "#8e0152"
            ],
            [
             0.1,
             "#c51b7d"
            ],
            [
             0.2,
             "#de77ae"
            ],
            [
             0.3,
             "#f1b6da"
            ],
            [
             0.4,
             "#fde0ef"
            ],
            [
             0.5,
             "#f7f7f7"
            ],
            [
             0.6,
             "#e6f5d0"
            ],
            [
             0.7,
             "#b8e186"
            ],
            [
             0.8,
             "#7fbc41"
            ],
            [
             0.9,
             "#4d9221"
            ],
            [
             1,
             "#276419"
            ]
           ],
           "sequential": [
            [
             0,
             "#0d0887"
            ],
            [
             0.1111111111111111,
             "#46039f"
            ],
            [
             0.2222222222222222,
             "#7201a8"
            ],
            [
             0.3333333333333333,
             "#9c179e"
            ],
            [
             0.4444444444444444,
             "#bd3786"
            ],
            [
             0.5555555555555556,
             "#d8576b"
            ],
            [
             0.6666666666666666,
             "#ed7953"
            ],
            [
             0.7777777777777778,
             "#fb9f3a"
            ],
            [
             0.8888888888888888,
             "#fdca26"
            ],
            [
             1,
             "#f0f921"
            ]
           ],
           "sequentialminus": [
            [
             0,
             "#0d0887"
            ],
            [
             0.1111111111111111,
             "#46039f"
            ],
            [
             0.2222222222222222,
             "#7201a8"
            ],
            [
             0.3333333333333333,
             "#9c179e"
            ],
            [
             0.4444444444444444,
             "#bd3786"
            ],
            [
             0.5555555555555556,
             "#d8576b"
            ],
            [
             0.6666666666666666,
             "#ed7953"
            ],
            [
             0.7777777777777778,
             "#fb9f3a"
            ],
            [
             0.8888888888888888,
             "#fdca26"
            ],
            [
             1,
             "#f0f921"
            ]
           ]
          },
          "colorway": [
           "#636efa",
           "#EF553B",
           "#00cc96",
           "#ab63fa",
           "#FFA15A",
           "#19d3f3",
           "#FF6692",
           "#B6E880",
           "#FF97FF",
           "#FECB52"
          ],
          "font": {
           "color": "#2a3f5f"
          },
          "geo": {
           "bgcolor": "white",
           "lakecolor": "white",
           "landcolor": "#E5ECF6",
           "showlakes": true,
           "showland": true,
           "subunitcolor": "white"
          },
          "hoverlabel": {
           "align": "left"
          },
          "hovermode": "closest",
          "mapbox": {
           "style": "light"
          },
          "paper_bgcolor": "white",
          "plot_bgcolor": "#E5ECF6",
          "polar": {
           "angularaxis": {
            "gridcolor": "white",
            "linecolor": "white",
            "ticks": ""
           },
           "bgcolor": "#E5ECF6",
           "radialaxis": {
            "gridcolor": "white",
            "linecolor": "white",
            "ticks": ""
           }
          },
          "scene": {
           "xaxis": {
            "backgroundcolor": "#E5ECF6",
            "gridcolor": "white",
            "gridwidth": 2,
            "linecolor": "white",
            "showbackground": true,
            "ticks": "",
            "zerolinecolor": "white"
           },
           "yaxis": {
            "backgroundcolor": "#E5ECF6",
            "gridcolor": "white",
            "gridwidth": 2,
            "linecolor": "white",
            "showbackground": true,
            "ticks": "",
            "zerolinecolor": "white"
           },
           "zaxis": {
            "backgroundcolor": "#E5ECF6",
            "gridcolor": "white",
            "gridwidth": 2,
            "linecolor": "white",
            "showbackground": true,
            "ticks": "",
            "zerolinecolor": "white"
           }
          },
          "shapedefaults": {
           "line": {
            "color": "#2a3f5f"
           }
          },
          "ternary": {
           "aaxis": {
            "gridcolor": "white",
            "linecolor": "white",
            "ticks": ""
           },
           "baxis": {
            "gridcolor": "white",
            "linecolor": "white",
            "ticks": ""
           },
           "bgcolor": "#E5ECF6",
           "caxis": {
            "gridcolor": "white",
            "linecolor": "white",
            "ticks": ""
           }
          },
          "title": {
           "x": 0.05
          },
          "xaxis": {
           "automargin": true,
           "gridcolor": "white",
           "linecolor": "white",
           "ticks": "",
           "title": {
            "standoff": 15
           },
           "zerolinecolor": "white",
           "zerolinewidth": 2
          },
          "yaxis": {
           "automargin": true,
           "gridcolor": "white",
           "linecolor": "white",
           "ticks": "",
           "title": {
            "standoff": 15
           },
           "zerolinecolor": "white",
           "zerolinewidth": 2
          }
         }
        },
        "title": {
         "text": "Market Value Over Time for Pepe"
        },
        "xaxis": {
         "anchor": "y",
         "domain": [
          0,
          1
         ],
         "title": {
          "text": "age"
         }
        },
        "yaxis": {
         "anchor": "x",
         "domain": [
          0,
          1
         ],
         "title": {
          "text": "market_value_in_eur"
         }
        }
       }
      }
     },
     "metadata": {},
     "output_type": "display_data"
    }
   ],
   "source": [
    "plot_individual(pdf_joined, 14132)"
   ]
  },
  {
   "cell_type": "code",
   "execution_count": 9,
   "id": "f9103af6",
   "metadata": {},
   "outputs": [
    {
     "data": {
      "application/vnd.plotly.v1+json": {
       "config": {
        "plotlyServerURL": "https://plot.ly"
       },
       "data": [
        {
         "hovertemplate": "age=%{x}<br>market_value_in_eur=%{y}<extra></extra>",
         "legendgroup": "",
         "line": {
          "color": "#636efa",
          "dash": "solid"
         },
         "marker": {
          "symbol": "circle"
         },
         "mode": "lines",
         "name": "",
         "orientation": "v",
         "showlegend": false,
         "type": "scatter",
         "x": [
          23,
          26,
          26,
          26,
          27,
          27,
          28,
          28,
          28,
          29,
          29,
          30,
          30,
          31,
          31,
          32,
          32,
          33,
          33,
          34,
          34,
          35,
          35,
          36,
          36,
          37,
          37,
          38,
          38,
          39,
          39,
          39,
          40,
          40,
          41,
          41
         ],
         "xaxis": "x",
         "y": [
          1250000,
          200000,
          800000,
          1200000,
          1400000,
          1600000,
          1600000,
          1600000,
          1600000,
          1600000,
          2500000,
          3000000,
          3000000,
          4000000,
          5000000,
          5000000,
          5000000,
          5000000,
          4500000,
          3000000,
          2000000,
          2000000,
          1500000,
          1000000,
          1000000,
          1000000,
          1000000,
          750000,
          600000,
          500000,
          300000,
          250000,
          250000,
          250000,
          200000,
          150000
         ],
         "yaxis": "y"
        }
       ],
       "layout": {
        "legend": {
         "tracegroupgap": 0
        },
        "template": {
         "data": {
          "bar": [
           {
            "error_x": {
             "color": "#2a3f5f"
            },
            "error_y": {
             "color": "#2a3f5f"
            },
            "marker": {
             "line": {
              "color": "#E5ECF6",
              "width": 0.5
             },
             "pattern": {
              "fillmode": "overlay",
              "size": 10,
              "solidity": 0.2
             }
            },
            "type": "bar"
           }
          ],
          "barpolar": [
           {
            "marker": {
             "line": {
              "color": "#E5ECF6",
              "width": 0.5
             },
             "pattern": {
              "fillmode": "overlay",
              "size": 10,
              "solidity": 0.2
             }
            },
            "type": "barpolar"
           }
          ],
          "carpet": [
           {
            "aaxis": {
             "endlinecolor": "#2a3f5f",
             "gridcolor": "white",
             "linecolor": "white",
             "minorgridcolor": "white",
             "startlinecolor": "#2a3f5f"
            },
            "baxis": {
             "endlinecolor": "#2a3f5f",
             "gridcolor": "white",
             "linecolor": "white",
             "minorgridcolor": "white",
             "startlinecolor": "#2a3f5f"
            },
            "type": "carpet"
           }
          ],
          "choropleth": [
           {
            "colorbar": {
             "outlinewidth": 0,
             "ticks": ""
            },
            "type": "choropleth"
           }
          ],
          "contour": [
           {
            "colorbar": {
             "outlinewidth": 0,
             "ticks": ""
            },
            "colorscale": [
             [
              0,
              "#0d0887"
             ],
             [
              0.1111111111111111,
              "#46039f"
             ],
             [
              0.2222222222222222,
              "#7201a8"
             ],
             [
              0.3333333333333333,
              "#9c179e"
             ],
             [
              0.4444444444444444,
              "#bd3786"
             ],
             [
              0.5555555555555556,
              "#d8576b"
             ],
             [
              0.6666666666666666,
              "#ed7953"
             ],
             [
              0.7777777777777778,
              "#fb9f3a"
             ],
             [
              0.8888888888888888,
              "#fdca26"
             ],
             [
              1,
              "#f0f921"
             ]
            ],
            "type": "contour"
           }
          ],
          "contourcarpet": [
           {
            "colorbar": {
             "outlinewidth": 0,
             "ticks": ""
            },
            "type": "contourcarpet"
           }
          ],
          "heatmap": [
           {
            "colorbar": {
             "outlinewidth": 0,
             "ticks": ""
            },
            "colorscale": [
             [
              0,
              "#0d0887"
             ],
             [
              0.1111111111111111,
              "#46039f"
             ],
             [
              0.2222222222222222,
              "#7201a8"
             ],
             [
              0.3333333333333333,
              "#9c179e"
             ],
             [
              0.4444444444444444,
              "#bd3786"
             ],
             [
              0.5555555555555556,
              "#d8576b"
             ],
             [
              0.6666666666666666,
              "#ed7953"
             ],
             [
              0.7777777777777778,
              "#fb9f3a"
             ],
             [
              0.8888888888888888,
              "#fdca26"
             ],
             [
              1,
              "#f0f921"
             ]
            ],
            "type": "heatmap"
           }
          ],
          "heatmapgl": [
           {
            "colorbar": {
             "outlinewidth": 0,
             "ticks": ""
            },
            "colorscale": [
             [
              0,
              "#0d0887"
             ],
             [
              0.1111111111111111,
              "#46039f"
             ],
             [
              0.2222222222222222,
              "#7201a8"
             ],
             [
              0.3333333333333333,
              "#9c179e"
             ],
             [
              0.4444444444444444,
              "#bd3786"
             ],
             [
              0.5555555555555556,
              "#d8576b"
             ],
             [
              0.6666666666666666,
              "#ed7953"
             ],
             [
              0.7777777777777778,
              "#fb9f3a"
             ],
             [
              0.8888888888888888,
              "#fdca26"
             ],
             [
              1,
              "#f0f921"
             ]
            ],
            "type": "heatmapgl"
           }
          ],
          "histogram": [
           {
            "marker": {
             "pattern": {
              "fillmode": "overlay",
              "size": 10,
              "solidity": 0.2
             }
            },
            "type": "histogram"
           }
          ],
          "histogram2d": [
           {
            "colorbar": {
             "outlinewidth": 0,
             "ticks": ""
            },
            "colorscale": [
             [
              0,
              "#0d0887"
             ],
             [
              0.1111111111111111,
              "#46039f"
             ],
             [
              0.2222222222222222,
              "#7201a8"
             ],
             [
              0.3333333333333333,
              "#9c179e"
             ],
             [
              0.4444444444444444,
              "#bd3786"
             ],
             [
              0.5555555555555556,
              "#d8576b"
             ],
             [
              0.6666666666666666,
              "#ed7953"
             ],
             [
              0.7777777777777778,
              "#fb9f3a"
             ],
             [
              0.8888888888888888,
              "#fdca26"
             ],
             [
              1,
              "#f0f921"
             ]
            ],
            "type": "histogram2d"
           }
          ],
          "histogram2dcontour": [
           {
            "colorbar": {
             "outlinewidth": 0,
             "ticks": ""
            },
            "colorscale": [
             [
              0,
              "#0d0887"
             ],
             [
              0.1111111111111111,
              "#46039f"
             ],
             [
              0.2222222222222222,
              "#7201a8"
             ],
             [
              0.3333333333333333,
              "#9c179e"
             ],
             [
              0.4444444444444444,
              "#bd3786"
             ],
             [
              0.5555555555555556,
              "#d8576b"
             ],
             [
              0.6666666666666666,
              "#ed7953"
             ],
             [
              0.7777777777777778,
              "#fb9f3a"
             ],
             [
              0.8888888888888888,
              "#fdca26"
             ],
             [
              1,
              "#f0f921"
             ]
            ],
            "type": "histogram2dcontour"
           }
          ],
          "mesh3d": [
           {
            "colorbar": {
             "outlinewidth": 0,
             "ticks": ""
            },
            "type": "mesh3d"
           }
          ],
          "parcoords": [
           {
            "line": {
             "colorbar": {
              "outlinewidth": 0,
              "ticks": ""
             }
            },
            "type": "parcoords"
           }
          ],
          "pie": [
           {
            "automargin": true,
            "type": "pie"
           }
          ],
          "scatter": [
           {
            "fillpattern": {
             "fillmode": "overlay",
             "size": 10,
             "solidity": 0.2
            },
            "type": "scatter"
           }
          ],
          "scatter3d": [
           {
            "line": {
             "colorbar": {
              "outlinewidth": 0,
              "ticks": ""
             }
            },
            "marker": {
             "colorbar": {
              "outlinewidth": 0,
              "ticks": ""
             }
            },
            "type": "scatter3d"
           }
          ],
          "scattercarpet": [
           {
            "marker": {
             "colorbar": {
              "outlinewidth": 0,
              "ticks": ""
             }
            },
            "type": "scattercarpet"
           }
          ],
          "scattergeo": [
           {
            "marker": {
             "colorbar": {
              "outlinewidth": 0,
              "ticks": ""
             }
            },
            "type": "scattergeo"
           }
          ],
          "scattergl": [
           {
            "marker": {
             "colorbar": {
              "outlinewidth": 0,
              "ticks": ""
             }
            },
            "type": "scattergl"
           }
          ],
          "scattermapbox": [
           {
            "marker": {
             "colorbar": {
              "outlinewidth": 0,
              "ticks": ""
             }
            },
            "type": "scattermapbox"
           }
          ],
          "scatterpolar": [
           {
            "marker": {
             "colorbar": {
              "outlinewidth": 0,
              "ticks": ""
             }
            },
            "type": "scatterpolar"
           }
          ],
          "scatterpolargl": [
           {
            "marker": {
             "colorbar": {
              "outlinewidth": 0,
              "ticks": ""
             }
            },
            "type": "scatterpolargl"
           }
          ],
          "scatterternary": [
           {
            "marker": {
             "colorbar": {
              "outlinewidth": 0,
              "ticks": ""
             }
            },
            "type": "scatterternary"
           }
          ],
          "surface": [
           {
            "colorbar": {
             "outlinewidth": 0,
             "ticks": ""
            },
            "colorscale": [
             [
              0,
              "#0d0887"
             ],
             [
              0.1111111111111111,
              "#46039f"
             ],
             [
              0.2222222222222222,
              "#7201a8"
             ],
             [
              0.3333333333333333,
              "#9c179e"
             ],
             [
              0.4444444444444444,
              "#bd3786"
             ],
             [
              0.5555555555555556,
              "#d8576b"
             ],
             [
              0.6666666666666666,
              "#ed7953"
             ],
             [
              0.7777777777777778,
              "#fb9f3a"
             ],
             [
              0.8888888888888888,
              "#fdca26"
             ],
             [
              1,
              "#f0f921"
             ]
            ],
            "type": "surface"
           }
          ],
          "table": [
           {
            "cells": {
             "fill": {
              "color": "#EBF0F8"
             },
             "line": {
              "color": "white"
             }
            },
            "header": {
             "fill": {
              "color": "#C8D4E3"
             },
             "line": {
              "color": "white"
             }
            },
            "type": "table"
           }
          ]
         },
         "layout": {
          "annotationdefaults": {
           "arrowcolor": "#2a3f5f",
           "arrowhead": 0,
           "arrowwidth": 1
          },
          "autotypenumbers": "strict",
          "coloraxis": {
           "colorbar": {
            "outlinewidth": 0,
            "ticks": ""
           }
          },
          "colorscale": {
           "diverging": [
            [
             0,
             "#8e0152"
            ],
            [
             0.1,
             "#c51b7d"
            ],
            [
             0.2,
             "#de77ae"
            ],
            [
             0.3,
             "#f1b6da"
            ],
            [
             0.4,
             "#fde0ef"
            ],
            [
             0.5,
             "#f7f7f7"
            ],
            [
             0.6,
             "#e6f5d0"
            ],
            [
             0.7,
             "#b8e186"
            ],
            [
             0.8,
             "#7fbc41"
            ],
            [
             0.9,
             "#4d9221"
            ],
            [
             1,
             "#276419"
            ]
           ],
           "sequential": [
            [
             0,
             "#0d0887"
            ],
            [
             0.1111111111111111,
             "#46039f"
            ],
            [
             0.2222222222222222,
             "#7201a8"
            ],
            [
             0.3333333333333333,
             "#9c179e"
            ],
            [
             0.4444444444444444,
             "#bd3786"
            ],
            [
             0.5555555555555556,
             "#d8576b"
            ],
            [
             0.6666666666666666,
             "#ed7953"
            ],
            [
             0.7777777777777778,
             "#fb9f3a"
            ],
            [
             0.8888888888888888,
             "#fdca26"
            ],
            [
             1,
             "#f0f921"
            ]
           ],
           "sequentialminus": [
            [
             0,
             "#0d0887"
            ],
            [
             0.1111111111111111,
             "#46039f"
            ],
            [
             0.2222222222222222,
             "#7201a8"
            ],
            [
             0.3333333333333333,
             "#9c179e"
            ],
            [
             0.4444444444444444,
             "#bd3786"
            ],
            [
             0.5555555555555556,
             "#d8576b"
            ],
            [
             0.6666666666666666,
             "#ed7953"
            ],
            [
             0.7777777777777778,
             "#fb9f3a"
            ],
            [
             0.8888888888888888,
             "#fdca26"
            ],
            [
             1,
             "#f0f921"
            ]
           ]
          },
          "colorway": [
           "#636efa",
           "#EF553B",
           "#00cc96",
           "#ab63fa",
           "#FFA15A",
           "#19d3f3",
           "#FF6692",
           "#B6E880",
           "#FF97FF",
           "#FECB52"
          ],
          "font": {
           "color": "#2a3f5f"
          },
          "geo": {
           "bgcolor": "white",
           "lakecolor": "white",
           "landcolor": "#E5ECF6",
           "showlakes": true,
           "showland": true,
           "subunitcolor": "white"
          },
          "hoverlabel": {
           "align": "left"
          },
          "hovermode": "closest",
          "mapbox": {
           "style": "light"
          },
          "paper_bgcolor": "white",
          "plot_bgcolor": "#E5ECF6",
          "polar": {
           "angularaxis": {
            "gridcolor": "white",
            "linecolor": "white",
            "ticks": ""
           },
           "bgcolor": "#E5ECF6",
           "radialaxis": {
            "gridcolor": "white",
            "linecolor": "white",
            "ticks": ""
           }
          },
          "scene": {
           "xaxis": {
            "backgroundcolor": "#E5ECF6",
            "gridcolor": "white",
            "gridwidth": 2,
            "linecolor": "white",
            "showbackground": true,
            "ticks": "",
            "zerolinecolor": "white"
           },
           "yaxis": {
            "backgroundcolor": "#E5ECF6",
            "gridcolor": "white",
            "gridwidth": 2,
            "linecolor": "white",
            "showbackground": true,
            "ticks": "",
            "zerolinecolor": "white"
           },
           "zaxis": {
            "backgroundcolor": "#E5ECF6",
            "gridcolor": "white",
            "gridwidth": 2,
            "linecolor": "white",
            "showbackground": true,
            "ticks": "",
            "zerolinecolor": "white"
           }
          },
          "shapedefaults": {
           "line": {
            "color": "#2a3f5f"
           }
          },
          "ternary": {
           "aaxis": {
            "gridcolor": "white",
            "linecolor": "white",
            "ticks": ""
           },
           "baxis": {
            "gridcolor": "white",
            "linecolor": "white",
            "ticks": ""
           },
           "bgcolor": "#E5ECF6",
           "caxis": {
            "gridcolor": "white",
            "linecolor": "white",
            "ticks": ""
           }
          },
          "title": {
           "x": 0.05
          },
          "xaxis": {
           "automargin": true,
           "gridcolor": "white",
           "linecolor": "white",
           "ticks": "",
           "title": {
            "standoff": 15
           },
           "zerolinecolor": "white",
           "zerolinewidth": 2
          },
          "yaxis": {
           "automargin": true,
           "gridcolor": "white",
           "linecolor": "white",
           "ticks": "",
           "title": {
            "standoff": 15
           },
           "zerolinecolor": "white",
           "zerolinewidth": 2
          }
         }
        },
        "title": {
         "text": "Market Value Over Time for Willy Caballero"
        },
        "xaxis": {
         "anchor": "y",
         "domain": [
          0,
          1
         ],
         "title": {
          "text": "age"
         }
        },
        "yaxis": {
         "anchor": "x",
         "domain": [
          0,
          1
         ],
         "title": {
          "text": "market_value_in_eur"
         }
        }
       }
      }
     },
     "metadata": {},
     "output_type": "display_data"
    }
   ],
   "source": [
    "plot_individual(pdf_joined, 19948)"
   ]
  },
  {
   "cell_type": "code",
   "execution_count": 10,
   "id": "6782e6e0",
   "metadata": {},
   "outputs": [
    {
     "data": {
      "application/vnd.plotly.v1+json": {
       "config": {
        "plotlyServerURL": "https://plot.ly"
       },
       "data": [
        {
         "hovertemplate": "age=%{x}<br>market_value_in_eur=%{y}<extra></extra>",
         "legendgroup": "",
         "line": {
          "color": "#636efa",
          "dash": "solid"
         },
         "marker": {
          "symbol": "circle"
         },
         "mode": "lines",
         "name": "",
         "orientation": "v",
         "showlegend": false,
         "type": "scatter",
         "x": [
          26,
          26,
          26,
          27,
          27,
          28,
          29,
          30,
          31,
          31,
          31,
          31,
          32,
          33,
          33,
          34,
          34,
          35,
          35,
          36,
          36,
          37,
          37
         ],
         "xaxis": "x",
         "y": [
          7000000,
          9000000,
          12000000,
          15000000,
          20000000,
          30000000,
          23000000,
          20000000,
          18000000,
          12000000,
          9000000,
          7500000,
          7000000,
          5000000,
          6000000,
          6000000,
          4000000,
          2000000,
          1000000,
          1000000,
          1000000,
          1000000,
          1000000
         ],
         "yaxis": "y"
        }
       ],
       "layout": {
        "legend": {
         "tracegroupgap": 0
        },
        "template": {
         "data": {
          "bar": [
           {
            "error_x": {
             "color": "#2a3f5f"
            },
            "error_y": {
             "color": "#2a3f5f"
            },
            "marker": {
             "line": {
              "color": "#E5ECF6",
              "width": 0.5
             },
             "pattern": {
              "fillmode": "overlay",
              "size": 10,
              "solidity": 0.2
             }
            },
            "type": "bar"
           }
          ],
          "barpolar": [
           {
            "marker": {
             "line": {
              "color": "#E5ECF6",
              "width": 0.5
             },
             "pattern": {
              "fillmode": "overlay",
              "size": 10,
              "solidity": 0.2
             }
            },
            "type": "barpolar"
           }
          ],
          "carpet": [
           {
            "aaxis": {
             "endlinecolor": "#2a3f5f",
             "gridcolor": "white",
             "linecolor": "white",
             "minorgridcolor": "white",
             "startlinecolor": "#2a3f5f"
            },
            "baxis": {
             "endlinecolor": "#2a3f5f",
             "gridcolor": "white",
             "linecolor": "white",
             "minorgridcolor": "white",
             "startlinecolor": "#2a3f5f"
            },
            "type": "carpet"
           }
          ],
          "choropleth": [
           {
            "colorbar": {
             "outlinewidth": 0,
             "ticks": ""
            },
            "type": "choropleth"
           }
          ],
          "contour": [
           {
            "colorbar": {
             "outlinewidth": 0,
             "ticks": ""
            },
            "colorscale": [
             [
              0,
              "#0d0887"
             ],
             [
              0.1111111111111111,
              "#46039f"
             ],
             [
              0.2222222222222222,
              "#7201a8"
             ],
             [
              0.3333333333333333,
              "#9c179e"
             ],
             [
              0.4444444444444444,
              "#bd3786"
             ],
             [
              0.5555555555555556,
              "#d8576b"
             ],
             [
              0.6666666666666666,
              "#ed7953"
             ],
             [
              0.7777777777777778,
              "#fb9f3a"
             ],
             [
              0.8888888888888888,
              "#fdca26"
             ],
             [
              1,
              "#f0f921"
             ]
            ],
            "type": "contour"
           }
          ],
          "contourcarpet": [
           {
            "colorbar": {
             "outlinewidth": 0,
             "ticks": ""
            },
            "type": "contourcarpet"
           }
          ],
          "heatmap": [
           {
            "colorbar": {
             "outlinewidth": 0,
             "ticks": ""
            },
            "colorscale": [
             [
              0,
              "#0d0887"
             ],
             [
              0.1111111111111111,
              "#46039f"
             ],
             [
              0.2222222222222222,
              "#7201a8"
             ],
             [
              0.3333333333333333,
              "#9c179e"
             ],
             [
              0.4444444444444444,
              "#bd3786"
             ],
             [
              0.5555555555555556,
              "#d8576b"
             ],
             [
              0.6666666666666666,
              "#ed7953"
             ],
             [
              0.7777777777777778,
              "#fb9f3a"
             ],
             [
              0.8888888888888888,
              "#fdca26"
             ],
             [
              1,
              "#f0f921"
             ]
            ],
            "type": "heatmap"
           }
          ],
          "heatmapgl": [
           {
            "colorbar": {
             "outlinewidth": 0,
             "ticks": ""
            },
            "colorscale": [
             [
              0,
              "#0d0887"
             ],
             [
              0.1111111111111111,
              "#46039f"
             ],
             [
              0.2222222222222222,
              "#7201a8"
             ],
             [
              0.3333333333333333,
              "#9c179e"
             ],
             [
              0.4444444444444444,
              "#bd3786"
             ],
             [
              0.5555555555555556,
              "#d8576b"
             ],
             [
              0.6666666666666666,
              "#ed7953"
             ],
             [
              0.7777777777777778,
              "#fb9f3a"
             ],
             [
              0.8888888888888888,
              "#fdca26"
             ],
             [
              1,
              "#f0f921"
             ]
            ],
            "type": "heatmapgl"
           }
          ],
          "histogram": [
           {
            "marker": {
             "pattern": {
              "fillmode": "overlay",
              "size": 10,
              "solidity": 0.2
             }
            },
            "type": "histogram"
           }
          ],
          "histogram2d": [
           {
            "colorbar": {
             "outlinewidth": 0,
             "ticks": ""
            },
            "colorscale": [
             [
              0,
              "#0d0887"
             ],
             [
              0.1111111111111111,
              "#46039f"
             ],
             [
              0.2222222222222222,
              "#7201a8"
             ],
             [
              0.3333333333333333,
              "#9c179e"
             ],
             [
              0.4444444444444444,
              "#bd3786"
             ],
             [
              0.5555555555555556,
              "#d8576b"
             ],
             [
              0.6666666666666666,
              "#ed7953"
             ],
             [
              0.7777777777777778,
              "#fb9f3a"
             ],
             [
              0.8888888888888888,
              "#fdca26"
             ],
             [
              1,
              "#f0f921"
             ]
            ],
            "type": "histogram2d"
           }
          ],
          "histogram2dcontour": [
           {
            "colorbar": {
             "outlinewidth": 0,
             "ticks": ""
            },
            "colorscale": [
             [
              0,
              "#0d0887"
             ],
             [
              0.1111111111111111,
              "#46039f"
             ],
             [
              0.2222222222222222,
              "#7201a8"
             ],
             [
              0.3333333333333333,
              "#9c179e"
             ],
             [
              0.4444444444444444,
              "#bd3786"
             ],
             [
              0.5555555555555556,
              "#d8576b"
             ],
             [
              0.6666666666666666,
              "#ed7953"
             ],
             [
              0.7777777777777778,
              "#fb9f3a"
             ],
             [
              0.8888888888888888,
              "#fdca26"
             ],
             [
              1,
              "#f0f921"
             ]
            ],
            "type": "histogram2dcontour"
           }
          ],
          "mesh3d": [
           {
            "colorbar": {
             "outlinewidth": 0,
             "ticks": ""
            },
            "type": "mesh3d"
           }
          ],
          "parcoords": [
           {
            "line": {
             "colorbar": {
              "outlinewidth": 0,
              "ticks": ""
             }
            },
            "type": "parcoords"
           }
          ],
          "pie": [
           {
            "automargin": true,
            "type": "pie"
           }
          ],
          "scatter": [
           {
            "fillpattern": {
             "fillmode": "overlay",
             "size": 10,
             "solidity": 0.2
            },
            "type": "scatter"
           }
          ],
          "scatter3d": [
           {
            "line": {
             "colorbar": {
              "outlinewidth": 0,
              "ticks": ""
             }
            },
            "marker": {
             "colorbar": {
              "outlinewidth": 0,
              "ticks": ""
             }
            },
            "type": "scatter3d"
           }
          ],
          "scattercarpet": [
           {
            "marker": {
             "colorbar": {
              "outlinewidth": 0,
              "ticks": ""
             }
            },
            "type": "scattercarpet"
           }
          ],
          "scattergeo": [
           {
            "marker": {
             "colorbar": {
              "outlinewidth": 0,
              "ticks": ""
             }
            },
            "type": "scattergeo"
           }
          ],
          "scattergl": [
           {
            "marker": {
             "colorbar": {
              "outlinewidth": 0,
              "ticks": ""
             }
            },
            "type": "scattergl"
           }
          ],
          "scattermapbox": [
           {
            "marker": {
             "colorbar": {
              "outlinewidth": 0,
              "ticks": ""
             }
            },
            "type": "scattermapbox"
           }
          ],
          "scatterpolar": [
           {
            "marker": {
             "colorbar": {
              "outlinewidth": 0,
              "ticks": ""
             }
            },
            "type": "scatterpolar"
           }
          ],
          "scatterpolargl": [
           {
            "marker": {
             "colorbar": {
              "outlinewidth": 0,
              "ticks": ""
             }
            },
            "type": "scatterpolargl"
           }
          ],
          "scatterternary": [
           {
            "marker": {
             "colorbar": {
              "outlinewidth": 0,
              "ticks": ""
             }
            },
            "type": "scatterternary"
           }
          ],
          "surface": [
           {
            "colorbar": {
             "outlinewidth": 0,
             "ticks": ""
            },
            "colorscale": [
             [
              0,
              "#0d0887"
             ],
             [
              0.1111111111111111,
              "#46039f"
             ],
             [
              0.2222222222222222,
              "#7201a8"
             ],
             [
              0.3333333333333333,
              "#9c179e"
             ],
             [
              0.4444444444444444,
              "#bd3786"
             ],
             [
              0.5555555555555556,
              "#d8576b"
             ],
             [
              0.6666666666666666,
              "#ed7953"
             ],
             [
              0.7777777777777778,
              "#fb9f3a"
             ],
             [
              0.8888888888888888,
              "#fdca26"
             ],
             [
              1,
              "#f0f921"
             ]
            ],
            "type": "surface"
           }
          ],
          "table": [
           {
            "cells": {
             "fill": {
              "color": "#EBF0F8"
             },
             "line": {
              "color": "white"
             }
            },
            "header": {
             "fill": {
              "color": "#C8D4E3"
             },
             "line": {
              "color": "white"
             }
            },
            "type": "table"
           }
          ]
         },
         "layout": {
          "annotationdefaults": {
           "arrowcolor": "#2a3f5f",
           "arrowhead": 0,
           "arrowwidth": 1
          },
          "autotypenumbers": "strict",
          "coloraxis": {
           "colorbar": {
            "outlinewidth": 0,
            "ticks": ""
           }
          },
          "colorscale": {
           "diverging": [
            [
             0,
             "#8e0152"
            ],
            [
             0.1,
             "#c51b7d"
            ],
            [
             0.2,
             "#de77ae"
            ],
            [
             0.3,
             "#f1b6da"
            ],
            [
             0.4,
             "#fde0ef"
            ],
            [
             0.5,
             "#f7f7f7"
            ],
            [
             0.6,
             "#e6f5d0"
            ],
            [
             0.7,
             "#b8e186"
            ],
            [
             0.8,
             "#7fbc41"
            ],
            [
             0.9,
             "#4d9221"
            ],
            [
             1,
             "#276419"
            ]
           ],
           "sequential": [
            [
             0,
             "#0d0887"
            ],
            [
             0.1111111111111111,
             "#46039f"
            ],
            [
             0.2222222222222222,
             "#7201a8"
            ],
            [
             0.3333333333333333,
             "#9c179e"
            ],
            [
             0.4444444444444444,
             "#bd3786"
            ],
            [
             0.5555555555555556,
             "#d8576b"
            ],
            [
             0.6666666666666666,
             "#ed7953"
            ],
            [
             0.7777777777777778,
             "#fb9f3a"
            ],
            [
             0.8888888888888888,
             "#fdca26"
            ],
            [
             1,
             "#f0f921"
            ]
           ],
           "sequentialminus": [
            [
             0,
             "#0d0887"
            ],
            [
             0.1111111111111111,
             "#46039f"
            ],
            [
             0.2222222222222222,
             "#7201a8"
            ],
            [
             0.3333333333333333,
             "#9c179e"
            ],
            [
             0.4444444444444444,
             "#bd3786"
            ],
            [
             0.5555555555555556,
             "#d8576b"
            ],
            [
             0.6666666666666666,
             "#ed7953"
            ],
            [
             0.7777777777777778,
             "#fb9f3a"
            ],
            [
             0.8888888888888888,
             "#fdca26"
            ],
            [
             1,
             "#f0f921"
            ]
           ]
          },
          "colorway": [
           "#636efa",
           "#EF553B",
           "#00cc96",
           "#ab63fa",
           "#FFA15A",
           "#19d3f3",
           "#FF6692",
           "#B6E880",
           "#FF97FF",
           "#FECB52"
          ],
          "font": {
           "color": "#2a3f5f"
          },
          "geo": {
           "bgcolor": "white",
           "lakecolor": "white",
           "landcolor": "#E5ECF6",
           "showlakes": true,
           "showland": true,
           "subunitcolor": "white"
          },
          "hoverlabel": {
           "align": "left"
          },
          "hovermode": "closest",
          "mapbox": {
           "style": "light"
          },
          "paper_bgcolor": "white",
          "plot_bgcolor": "#E5ECF6",
          "polar": {
           "angularaxis": {
            "gridcolor": "white",
            "linecolor": "white",
            "ticks": ""
           },
           "bgcolor": "#E5ECF6",
           "radialaxis": {
            "gridcolor": "white",
            "linecolor": "white",
            "ticks": ""
           }
          },
          "scene": {
           "xaxis": {
            "backgroundcolor": "#E5ECF6",
            "gridcolor": "white",
            "gridwidth": 2,
            "linecolor": "white",
            "showbackground": true,
            "ticks": "",
            "zerolinecolor": "white"
           },
           "yaxis": {
            "backgroundcolor": "#E5ECF6",
            "gridcolor": "white",
            "gridwidth": 2,
            "linecolor": "white",
            "showbackground": true,
            "ticks": "",
            "zerolinecolor": "white"
           },
           "zaxis": {
            "backgroundcolor": "#E5ECF6",
            "gridcolor": "white",
            "gridwidth": 2,
            "linecolor": "white",
            "showbackground": true,
            "ticks": "",
            "zerolinecolor": "white"
           }
          },
          "shapedefaults": {
           "line": {
            "color": "#2a3f5f"
           }
          },
          "ternary": {
           "aaxis": {
            "gridcolor": "white",
            "linecolor": "white",
            "ticks": ""
           },
           "baxis": {
            "gridcolor": "white",
            "linecolor": "white",
            "ticks": ""
           },
           "bgcolor": "#E5ECF6",
           "caxis": {
            "gridcolor": "white",
            "linecolor": "white",
            "ticks": ""
           }
          },
          "title": {
           "x": 0.05
          },
          "xaxis": {
           "automargin": true,
           "gridcolor": "white",
           "linecolor": "white",
           "ticks": "",
           "title": {
            "standoff": 15
           },
           "zerolinecolor": "white",
           "zerolinewidth": 2
          },
          "yaxis": {
           "automargin": true,
           "gridcolor": "white",
           "linecolor": "white",
           "ticks": "",
           "title": {
            "standoff": 15
           },
           "zerolinecolor": "white",
           "zerolinewidth": 2
          }
         }
        },
        "title": {
         "text": "Market Value Over Time for Miroslav Klose"
        },
        "xaxis": {
         "anchor": "y",
         "domain": [
          0,
          1
         ],
         "title": {
          "text": "age"
         }
        },
        "yaxis": {
         "anchor": "x",
         "domain": [
          0,
          1
         ],
         "title": {
          "text": "market_value_in_eur"
         }
        }
       }
      }
     },
     "metadata": {},
     "output_type": "display_data"
    }
   ],
   "source": [
    "plot_individual(pdf_joined, 10)"
   ]
  },
  {
   "cell_type": "code",
   "execution_count": 11,
   "id": "485f368b",
   "metadata": {},
   "outputs": [
    {
     "data": {
      "application/vnd.plotly.v1+json": {
       "config": {
        "plotlyServerURL": "https://plot.ly"
       },
       "data": [
        {
         "hovertemplate": "age=%{x}<br>market_value_in_eur=%{y}<extra></extra>",
         "legendgroup": "",
         "line": {
          "color": "#636efa",
          "dash": "solid"
         },
         "marker": {
          "symbol": "circle"
         },
         "mode": "lines",
         "name": "",
         "orientation": "v",
         "showlegend": false,
         "type": "scatter",
         "x": [
          23,
          24,
          24,
          24,
          25,
          25,
          26,
          26,
          27,
          27,
          27,
          28,
          28,
          29,
          29,
          30,
          30,
          31,
          31,
          31,
          32,
          32,
          32,
          33,
          33,
          34,
          34,
          35
         ],
         "xaxis": "x",
         "y": [
          8000000,
          12000000,
          14500000,
          13500000,
          15000000,
          17000000,
          17600000,
          27000000,
          24000000,
          26000000,
          32000000,
          34500000,
          33000000,
          29000000,
          25000000,
          28000000,
          24000000,
          17000000,
          11500000,
          10000000,
          7000000,
          5000000,
          3500000,
          3000000,
          2500000,
          1000000,
          1000000,
          1000000
         ],
         "yaxis": "y"
        }
       ],
       "layout": {
        "legend": {
         "tracegroupgap": 0
        },
        "template": {
         "data": {
          "bar": [
           {
            "error_x": {
             "color": "#2a3f5f"
            },
            "error_y": {
             "color": "#2a3f5f"
            },
            "marker": {
             "line": {
              "color": "#E5ECF6",
              "width": 0.5
             },
             "pattern": {
              "fillmode": "overlay",
              "size": 10,
              "solidity": 0.2
             }
            },
            "type": "bar"
           }
          ],
          "barpolar": [
           {
            "marker": {
             "line": {
              "color": "#E5ECF6",
              "width": 0.5
             },
             "pattern": {
              "fillmode": "overlay",
              "size": 10,
              "solidity": 0.2
             }
            },
            "type": "barpolar"
           }
          ],
          "carpet": [
           {
            "aaxis": {
             "endlinecolor": "#2a3f5f",
             "gridcolor": "white",
             "linecolor": "white",
             "minorgridcolor": "white",
             "startlinecolor": "#2a3f5f"
            },
            "baxis": {
             "endlinecolor": "#2a3f5f",
             "gridcolor": "white",
             "linecolor": "white",
             "minorgridcolor": "white",
             "startlinecolor": "#2a3f5f"
            },
            "type": "carpet"
           }
          ],
          "choropleth": [
           {
            "colorbar": {
             "outlinewidth": 0,
             "ticks": ""
            },
            "type": "choropleth"
           }
          ],
          "contour": [
           {
            "colorbar": {
             "outlinewidth": 0,
             "ticks": ""
            },
            "colorscale": [
             [
              0,
              "#0d0887"
             ],
             [
              0.1111111111111111,
              "#46039f"
             ],
             [
              0.2222222222222222,
              "#7201a8"
             ],
             [
              0.3333333333333333,
              "#9c179e"
             ],
             [
              0.4444444444444444,
              "#bd3786"
             ],
             [
              0.5555555555555556,
              "#d8576b"
             ],
             [
              0.6666666666666666,
              "#ed7953"
             ],
             [
              0.7777777777777778,
              "#fb9f3a"
             ],
             [
              0.8888888888888888,
              "#fdca26"
             ],
             [
              1,
              "#f0f921"
             ]
            ],
            "type": "contour"
           }
          ],
          "contourcarpet": [
           {
            "colorbar": {
             "outlinewidth": 0,
             "ticks": ""
            },
            "type": "contourcarpet"
           }
          ],
          "heatmap": [
           {
            "colorbar": {
             "outlinewidth": 0,
             "ticks": ""
            },
            "colorscale": [
             [
              0,
              "#0d0887"
             ],
             [
              0.1111111111111111,
              "#46039f"
             ],
             [
              0.2222222222222222,
              "#7201a8"
             ],
             [
              0.3333333333333333,
              "#9c179e"
             ],
             [
              0.4444444444444444,
              "#bd3786"
             ],
             [
              0.5555555555555556,
              "#d8576b"
             ],
             [
              0.6666666666666666,
              "#ed7953"
             ],
             [
              0.7777777777777778,
              "#fb9f3a"
             ],
             [
              0.8888888888888888,
              "#fdca26"
             ],
             [
              1,
              "#f0f921"
             ]
            ],
            "type": "heatmap"
           }
          ],
          "heatmapgl": [
           {
            "colorbar": {
             "outlinewidth": 0,
             "ticks": ""
            },
            "colorscale": [
             [
              0,
              "#0d0887"
             ],
             [
              0.1111111111111111,
              "#46039f"
             ],
             [
              0.2222222222222222,
              "#7201a8"
             ],
             [
              0.3333333333333333,
              "#9c179e"
             ],
             [
              0.4444444444444444,
              "#bd3786"
             ],
             [
              0.5555555555555556,
              "#d8576b"
             ],
             [
              0.6666666666666666,
              "#ed7953"
             ],
             [
              0.7777777777777778,
              "#fb9f3a"
             ],
             [
              0.8888888888888888,
              "#fdca26"
             ],
             [
              1,
              "#f0f921"
             ]
            ],
            "type": "heatmapgl"
           }
          ],
          "histogram": [
           {
            "marker": {
             "pattern": {
              "fillmode": "overlay",
              "size": 10,
              "solidity": 0.2
             }
            },
            "type": "histogram"
           }
          ],
          "histogram2d": [
           {
            "colorbar": {
             "outlinewidth": 0,
             "ticks": ""
            },
            "colorscale": [
             [
              0,
              "#0d0887"
             ],
             [
              0.1111111111111111,
              "#46039f"
             ],
             [
              0.2222222222222222,
              "#7201a8"
             ],
             [
              0.3333333333333333,
              "#9c179e"
             ],
             [
              0.4444444444444444,
              "#bd3786"
             ],
             [
              0.5555555555555556,
              "#d8576b"
             ],
             [
              0.6666666666666666,
              "#ed7953"
             ],
             [
              0.7777777777777778,
              "#fb9f3a"
             ],
             [
              0.8888888888888888,
              "#fdca26"
             ],
             [
              1,
              "#f0f921"
             ]
            ],
            "type": "histogram2d"
           }
          ],
          "histogram2dcontour": [
           {
            "colorbar": {
             "outlinewidth": 0,
             "ticks": ""
            },
            "colorscale": [
             [
              0,
              "#0d0887"
             ],
             [
              0.1111111111111111,
              "#46039f"
             ],
             [
              0.2222222222222222,
              "#7201a8"
             ],
             [
              0.3333333333333333,
              "#9c179e"
             ],
             [
              0.4444444444444444,
              "#bd3786"
             ],
             [
              0.5555555555555556,
              "#d8576b"
             ],
             [
              0.6666666666666666,
              "#ed7953"
             ],
             [
              0.7777777777777778,
              "#fb9f3a"
             ],
             [
              0.8888888888888888,
              "#fdca26"
             ],
             [
              1,
              "#f0f921"
             ]
            ],
            "type": "histogram2dcontour"
           }
          ],
          "mesh3d": [
           {
            "colorbar": {
             "outlinewidth": 0,
             "ticks": ""
            },
            "type": "mesh3d"
           }
          ],
          "parcoords": [
           {
            "line": {
             "colorbar": {
              "outlinewidth": 0,
              "ticks": ""
             }
            },
            "type": "parcoords"
           }
          ],
          "pie": [
           {
            "automargin": true,
            "type": "pie"
           }
          ],
          "scatter": [
           {
            "fillpattern": {
             "fillmode": "overlay",
             "size": 10,
             "solidity": 0.2
            },
            "type": "scatter"
           }
          ],
          "scatter3d": [
           {
            "line": {
             "colorbar": {
              "outlinewidth": 0,
              "ticks": ""
             }
            },
            "marker": {
             "colorbar": {
              "outlinewidth": 0,
              "ticks": ""
             }
            },
            "type": "scatter3d"
           }
          ],
          "scattercarpet": [
           {
            "marker": {
             "colorbar": {
              "outlinewidth": 0,
              "ticks": ""
             }
            },
            "type": "scattercarpet"
           }
          ],
          "scattergeo": [
           {
            "marker": {
             "colorbar": {
              "outlinewidth": 0,
              "ticks": ""
             }
            },
            "type": "scattergeo"
           }
          ],
          "scattergl": [
           {
            "marker": {
             "colorbar": {
              "outlinewidth": 0,
              "ticks": ""
             }
            },
            "type": "scattergl"
           }
          ],
          "scattermapbox": [
           {
            "marker": {
             "colorbar": {
              "outlinewidth": 0,
              "ticks": ""
             }
            },
            "type": "scattermapbox"
           }
          ],
          "scatterpolar": [
           {
            "marker": {
             "colorbar": {
              "outlinewidth": 0,
              "ticks": ""
             }
            },
            "type": "scatterpolar"
           }
          ],
          "scatterpolargl": [
           {
            "marker": {
             "colorbar": {
              "outlinewidth": 0,
              "ticks": ""
             }
            },
            "type": "scatterpolargl"
           }
          ],
          "scatterternary": [
           {
            "marker": {
             "colorbar": {
              "outlinewidth": 0,
              "ticks": ""
             }
            },
            "type": "scatterternary"
           }
          ],
          "surface": [
           {
            "colorbar": {
             "outlinewidth": 0,
             "ticks": ""
            },
            "colorscale": [
             [
              0,
              "#0d0887"
             ],
             [
              0.1111111111111111,
              "#46039f"
             ],
             [
              0.2222222222222222,
              "#7201a8"
             ],
             [
              0.3333333333333333,
              "#9c179e"
             ],
             [
              0.4444444444444444,
              "#bd3786"
             ],
             [
              0.5555555555555556,
              "#d8576b"
             ],
             [
              0.6666666666666666,
              "#ed7953"
             ],
             [
              0.7777777777777778,
              "#fb9f3a"
             ],
             [
              0.8888888888888888,
              "#fdca26"
             ],
             [
              1,
              "#f0f921"
             ]
            ],
            "type": "surface"
           }
          ],
          "table": [
           {
            "cells": {
             "fill": {
              "color": "#EBF0F8"
             },
             "line": {
              "color": "white"
             }
            },
            "header": {
             "fill": {
              "color": "#C8D4E3"
             },
             "line": {
              "color": "white"
             }
            },
            "type": "table"
           }
          ]
         },
         "layout": {
          "annotationdefaults": {
           "arrowcolor": "#2a3f5f",
           "arrowhead": 0,
           "arrowwidth": 1
          },
          "autotypenumbers": "strict",
          "coloraxis": {
           "colorbar": {
            "outlinewidth": 0,
            "ticks": ""
           }
          },
          "colorscale": {
           "diverging": [
            [
             0,
             "#8e0152"
            ],
            [
             0.1,
             "#c51b7d"
            ],
            [
             0.2,
             "#de77ae"
            ],
            [
             0.3,
             "#f1b6da"
            ],
            [
             0.4,
             "#fde0ef"
            ],
            [
             0.5,
             "#f7f7f7"
            ],
            [
             0.6,
             "#e6f5d0"
            ],
            [
             0.7,
             "#b8e186"
            ],
            [
             0.8,
             "#7fbc41"
            ],
            [
             0.9,
             "#4d9221"
            ],
            [
             1,
             "#276419"
            ]
           ],
           "sequential": [
            [
             0,
             "#0d0887"
            ],
            [
             0.1111111111111111,
             "#46039f"
            ],
            [
             0.2222222222222222,
             "#7201a8"
            ],
            [
             0.3333333333333333,
             "#9c179e"
            ],
            [
             0.4444444444444444,
             "#bd3786"
            ],
            [
             0.5555555555555556,
             "#d8576b"
            ],
            [
             0.6666666666666666,
             "#ed7953"
            ],
            [
             0.7777777777777778,
             "#fb9f3a"
            ],
            [
             0.8888888888888888,
             "#fdca26"
            ],
            [
             1,
             "#f0f921"
            ]
           ],
           "sequentialminus": [
            [
             0,
             "#0d0887"
            ],
            [
             0.1111111111111111,
             "#46039f"
            ],
            [
             0.2222222222222222,
             "#7201a8"
            ],
            [
             0.3333333333333333,
             "#9c179e"
            ],
            [
             0.4444444444444444,
             "#bd3786"
            ],
            [
             0.5555555555555556,
             "#d8576b"
            ],
            [
             0.6666666666666666,
             "#ed7953"
            ],
            [
             0.7777777777777778,
             "#fb9f3a"
            ],
            [
             0.8888888888888888,
             "#fdca26"
            ],
            [
             1,
             "#f0f921"
            ]
           ]
          },
          "colorway": [
           "#636efa",
           "#EF553B",
           "#00cc96",
           "#ab63fa",
           "#FFA15A",
           "#19d3f3",
           "#FF6692",
           "#B6E880",
           "#FF97FF",
           "#FECB52"
          ],
          "font": {
           "color": "#2a3f5f"
          },
          "geo": {
           "bgcolor": "white",
           "lakecolor": "white",
           "landcolor": "#E5ECF6",
           "showlakes": true,
           "showland": true,
           "subunitcolor": "white"
          },
          "hoverlabel": {
           "align": "left"
          },
          "hovermode": "closest",
          "mapbox": {
           "style": "light"
          },
          "paper_bgcolor": "white",
          "plot_bgcolor": "#E5ECF6",
          "polar": {
           "angularaxis": {
            "gridcolor": "white",
            "linecolor": "white",
            "ticks": ""
           },
           "bgcolor": "#E5ECF6",
           "radialaxis": {
            "gridcolor": "white",
            "linecolor": "white",
            "ticks": ""
           }
          },
          "scene": {
           "xaxis": {
            "backgroundcolor": "#E5ECF6",
            "gridcolor": "white",
            "gridwidth": 2,
            "linecolor": "white",
            "showbackground": true,
            "ticks": "",
            "zerolinecolor": "white"
           },
           "yaxis": {
            "backgroundcolor": "#E5ECF6",
            "gridcolor": "white",
            "gridwidth": 2,
            "linecolor": "white",
            "showbackground": true,
            "ticks": "",
            "zerolinecolor": "white"
           },
           "zaxis": {
            "backgroundcolor": "#E5ECF6",
            "gridcolor": "white",
            "gridwidth": 2,
            "linecolor": "white",
            "showbackground": true,
            "ticks": "",
            "zerolinecolor": "white"
           }
          },
          "shapedefaults": {
           "line": {
            "color": "#2a3f5f"
           }
          },
          "ternary": {
           "aaxis": {
            "gridcolor": "white",
            "linecolor": "white",
            "ticks": ""
           },
           "baxis": {
            "gridcolor": "white",
            "linecolor": "white",
            "ticks": ""
           },
           "bgcolor": "#E5ECF6",
           "caxis": {
            "gridcolor": "white",
            "linecolor": "white",
            "ticks": ""
           }
          },
          "title": {
           "x": 0.05
          },
          "xaxis": {
           "automargin": true,
           "gridcolor": "white",
           "linecolor": "white",
           "ticks": "",
           "title": {
            "standoff": 15
           },
           "zerolinecolor": "white",
           "zerolinewidth": 2
          },
          "yaxis": {
           "automargin": true,
           "gridcolor": "white",
           "linecolor": "white",
           "ticks": "",
           "title": {
            "standoff": 15
           },
           "zerolinecolor": "white",
           "zerolinewidth": 2
          }
         }
        },
        "title": {
         "text": "Market Value Over Time for Dimitar Berbatov"
        },
        "xaxis": {
         "anchor": "y",
         "domain": [
          0,
          1
         ],
         "title": {
          "text": "age"
         }
        },
        "yaxis": {
         "anchor": "x",
         "domain": [
          0,
          1
         ],
         "title": {
          "text": "market_value_in_eur"
         }
        }
       }
      }
     },
     "metadata": {},
     "output_type": "display_data"
    }
   ],
   "source": [
    "plot_individual(pdf_joined, 65)"
   ]
  },
  {
   "cell_type": "code",
   "execution_count": 12,
   "id": "78073d56",
   "metadata": {},
   "outputs": [
    {
     "data": {
      "application/vnd.plotly.v1+json": {
       "config": {
        "plotlyServerURL": "https://plot.ly"
       },
       "data": [
        {
         "customdata": [
          [
           1
          ],
          [
           1
          ],
          [
           1
          ],
          [
           1
          ],
          [
           3
          ],
          [
           7
          ],
          [
           81
          ],
          [
           1744
          ],
          [
           7689
          ],
          [
           18584
          ],
          [
           30902
          ],
          [
           37432
          ],
          [
           39611
          ],
          [
           40117
          ],
          [
           39768
          ],
          [
           38433
          ],
          [
           36248
          ],
          [
           33697
          ],
          [
           30894
          ],
          [
           27924
          ],
          [
           24773
          ],
          [
           21503
          ],
          [
           18270
          ],
          [
           15043
          ],
          [
           11724
          ],
          [
           8469
          ],
          [
           5691
          ],
          [
           3480
          ],
          [
           1973
          ],
          [
           1046
          ],
          [
           511
          ],
          [
           256
          ],
          [
           119
          ],
          [
           35
          ],
          [
           11
          ],
          [
           2
          ],
          [
           1
          ]
         ],
         "hovertemplate": "Age=%{x}<br>Average Market Value (EUR)=%{y}<br>player_count=%{customdata[0]}<extra></extra>",
         "legendgroup": "",
         "line": {
          "color": "#636efa",
          "dash": "solid"
         },
         "marker": {
          "symbol": "circle"
         },
         "mode": "lines",
         "name": "",
         "orientation": "v",
         "showlegend": false,
         "type": "scatter",
         "x": [
          2,
          3,
          7,
          11,
          13,
          14,
          15,
          16,
          17,
          18,
          19,
          20,
          21,
          22,
          23,
          24,
          25,
          26,
          27,
          28,
          29,
          30,
          31,
          32,
          33,
          34,
          35,
          36,
          37,
          38,
          39,
          40,
          41,
          42,
          43,
          44,
          45
         ],
         "xaxis": "x",
         "y": [
          150000,
          100000,
          100000,
          250000,
          41666.666666666664,
          121428.57142857143,
          163086.41975308643,
          625708.1422018348,
          799972.1680322539,
          918811.8811881188,
          1189761.4393890363,
          1555880.3964255182,
          2104344.5255105905,
          2631085.6495002117,
          2953913.8251860794,
          3222929.5136991646,
          3511473.0467612008,
          3563228.7740748436,
          3585640.2538033277,
          3411524.316000573,
          3147068.380898559,
          2681586.2902850765,
          2108634.099616858,
          1555450.3755234992,
          1089208.8877516205,
          788940.8430747432,
          598807.7666490951,
          483188.2183908046,
          398573.2387227572,
          351716.06118546845,
          291917.80821917806,
          259960.9375,
          240840.33613445377,
          241285.7142857143,
          430454.54545454547,
          1000000,
          1000000
         ],
         "yaxis": "y"
        }
       ],
       "layout": {
        "legend": {
         "tracegroupgap": 0
        },
        "template": {
         "data": {
          "bar": [
           {
            "error_x": {
             "color": "#2a3f5f"
            },
            "error_y": {
             "color": "#2a3f5f"
            },
            "marker": {
             "line": {
              "color": "#E5ECF6",
              "width": 0.5
             },
             "pattern": {
              "fillmode": "overlay",
              "size": 10,
              "solidity": 0.2
             }
            },
            "type": "bar"
           }
          ],
          "barpolar": [
           {
            "marker": {
             "line": {
              "color": "#E5ECF6",
              "width": 0.5
             },
             "pattern": {
              "fillmode": "overlay",
              "size": 10,
              "solidity": 0.2
             }
            },
            "type": "barpolar"
           }
          ],
          "carpet": [
           {
            "aaxis": {
             "endlinecolor": "#2a3f5f",
             "gridcolor": "white",
             "linecolor": "white",
             "minorgridcolor": "white",
             "startlinecolor": "#2a3f5f"
            },
            "baxis": {
             "endlinecolor": "#2a3f5f",
             "gridcolor": "white",
             "linecolor": "white",
             "minorgridcolor": "white",
             "startlinecolor": "#2a3f5f"
            },
            "type": "carpet"
           }
          ],
          "choropleth": [
           {
            "colorbar": {
             "outlinewidth": 0,
             "ticks": ""
            },
            "type": "choropleth"
           }
          ],
          "contour": [
           {
            "colorbar": {
             "outlinewidth": 0,
             "ticks": ""
            },
            "colorscale": [
             [
              0,
              "#0d0887"
             ],
             [
              0.1111111111111111,
              "#46039f"
             ],
             [
              0.2222222222222222,
              "#7201a8"
             ],
             [
              0.3333333333333333,
              "#9c179e"
             ],
             [
              0.4444444444444444,
              "#bd3786"
             ],
             [
              0.5555555555555556,
              "#d8576b"
             ],
             [
              0.6666666666666666,
              "#ed7953"
             ],
             [
              0.7777777777777778,
              "#fb9f3a"
             ],
             [
              0.8888888888888888,
              "#fdca26"
             ],
             [
              1,
              "#f0f921"
             ]
            ],
            "type": "contour"
           }
          ],
          "contourcarpet": [
           {
            "colorbar": {
             "outlinewidth": 0,
             "ticks": ""
            },
            "type": "contourcarpet"
           }
          ],
          "heatmap": [
           {
            "colorbar": {
             "outlinewidth": 0,
             "ticks": ""
            },
            "colorscale": [
             [
              0,
              "#0d0887"
             ],
             [
              0.1111111111111111,
              "#46039f"
             ],
             [
              0.2222222222222222,
              "#7201a8"
             ],
             [
              0.3333333333333333,
              "#9c179e"
             ],
             [
              0.4444444444444444,
              "#bd3786"
             ],
             [
              0.5555555555555556,
              "#d8576b"
             ],
             [
              0.6666666666666666,
              "#ed7953"
             ],
             [
              0.7777777777777778,
              "#fb9f3a"
             ],
             [
              0.8888888888888888,
              "#fdca26"
             ],
             [
              1,
              "#f0f921"
             ]
            ],
            "type": "heatmap"
           }
          ],
          "heatmapgl": [
           {
            "colorbar": {
             "outlinewidth": 0,
             "ticks": ""
            },
            "colorscale": [
             [
              0,
              "#0d0887"
             ],
             [
              0.1111111111111111,
              "#46039f"
             ],
             [
              0.2222222222222222,
              "#7201a8"
             ],
             [
              0.3333333333333333,
              "#9c179e"
             ],
             [
              0.4444444444444444,
              "#bd3786"
             ],
             [
              0.5555555555555556,
              "#d8576b"
             ],
             [
              0.6666666666666666,
              "#ed7953"
             ],
             [
              0.7777777777777778,
              "#fb9f3a"
             ],
             [
              0.8888888888888888,
              "#fdca26"
             ],
             [
              1,
              "#f0f921"
             ]
            ],
            "type": "heatmapgl"
           }
          ],
          "histogram": [
           {
            "marker": {
             "pattern": {
              "fillmode": "overlay",
              "size": 10,
              "solidity": 0.2
             }
            },
            "type": "histogram"
           }
          ],
          "histogram2d": [
           {
            "colorbar": {
             "outlinewidth": 0,
             "ticks": ""
            },
            "colorscale": [
             [
              0,
              "#0d0887"
             ],
             [
              0.1111111111111111,
              "#46039f"
             ],
             [
              0.2222222222222222,
              "#7201a8"
             ],
             [
              0.3333333333333333,
              "#9c179e"
             ],
             [
              0.4444444444444444,
              "#bd3786"
             ],
             [
              0.5555555555555556,
              "#d8576b"
             ],
             [
              0.6666666666666666,
              "#ed7953"
             ],
             [
              0.7777777777777778,
              "#fb9f3a"
             ],
             [
              0.8888888888888888,
              "#fdca26"
             ],
             [
              1,
              "#f0f921"
             ]
            ],
            "type": "histogram2d"
           }
          ],
          "histogram2dcontour": [
           {
            "colorbar": {
             "outlinewidth": 0,
             "ticks": ""
            },
            "colorscale": [
             [
              0,
              "#0d0887"
             ],
             [
              0.1111111111111111,
              "#46039f"
             ],
             [
              0.2222222222222222,
              "#7201a8"
             ],
             [
              0.3333333333333333,
              "#9c179e"
             ],
             [
              0.4444444444444444,
              "#bd3786"
             ],
             [
              0.5555555555555556,
              "#d8576b"
             ],
             [
              0.6666666666666666,
              "#ed7953"
             ],
             [
              0.7777777777777778,
              "#fb9f3a"
             ],
             [
              0.8888888888888888,
              "#fdca26"
             ],
             [
              1,
              "#f0f921"
             ]
            ],
            "type": "histogram2dcontour"
           }
          ],
          "mesh3d": [
           {
            "colorbar": {
             "outlinewidth": 0,
             "ticks": ""
            },
            "type": "mesh3d"
           }
          ],
          "parcoords": [
           {
            "line": {
             "colorbar": {
              "outlinewidth": 0,
              "ticks": ""
             }
            },
            "type": "parcoords"
           }
          ],
          "pie": [
           {
            "automargin": true,
            "type": "pie"
           }
          ],
          "scatter": [
           {
            "fillpattern": {
             "fillmode": "overlay",
             "size": 10,
             "solidity": 0.2
            },
            "type": "scatter"
           }
          ],
          "scatter3d": [
           {
            "line": {
             "colorbar": {
              "outlinewidth": 0,
              "ticks": ""
             }
            },
            "marker": {
             "colorbar": {
              "outlinewidth": 0,
              "ticks": ""
             }
            },
            "type": "scatter3d"
           }
          ],
          "scattercarpet": [
           {
            "marker": {
             "colorbar": {
              "outlinewidth": 0,
              "ticks": ""
             }
            },
            "type": "scattercarpet"
           }
          ],
          "scattergeo": [
           {
            "marker": {
             "colorbar": {
              "outlinewidth": 0,
              "ticks": ""
             }
            },
            "type": "scattergeo"
           }
          ],
          "scattergl": [
           {
            "marker": {
             "colorbar": {
              "outlinewidth": 0,
              "ticks": ""
             }
            },
            "type": "scattergl"
           }
          ],
          "scattermapbox": [
           {
            "marker": {
             "colorbar": {
              "outlinewidth": 0,
              "ticks": ""
             }
            },
            "type": "scattermapbox"
           }
          ],
          "scatterpolar": [
           {
            "marker": {
             "colorbar": {
              "outlinewidth": 0,
              "ticks": ""
             }
            },
            "type": "scatterpolar"
           }
          ],
          "scatterpolargl": [
           {
            "marker": {
             "colorbar": {
              "outlinewidth": 0,
              "ticks": ""
             }
            },
            "type": "scatterpolargl"
           }
          ],
          "scatterternary": [
           {
            "marker": {
             "colorbar": {
              "outlinewidth": 0,
              "ticks": ""
             }
            },
            "type": "scatterternary"
           }
          ],
          "surface": [
           {
            "colorbar": {
             "outlinewidth": 0,
             "ticks": ""
            },
            "colorscale": [
             [
              0,
              "#0d0887"
             ],
             [
              0.1111111111111111,
              "#46039f"
             ],
             [
              0.2222222222222222,
              "#7201a8"
             ],
             [
              0.3333333333333333,
              "#9c179e"
             ],
             [
              0.4444444444444444,
              "#bd3786"
             ],
             [
              0.5555555555555556,
              "#d8576b"
             ],
             [
              0.6666666666666666,
              "#ed7953"
             ],
             [
              0.7777777777777778,
              "#fb9f3a"
             ],
             [
              0.8888888888888888,
              "#fdca26"
             ],
             [
              1,
              "#f0f921"
             ]
            ],
            "type": "surface"
           }
          ],
          "table": [
           {
            "cells": {
             "fill": {
              "color": "#EBF0F8"
             },
             "line": {
              "color": "white"
             }
            },
            "header": {
             "fill": {
              "color": "#C8D4E3"
             },
             "line": {
              "color": "white"
             }
            },
            "type": "table"
           }
          ]
         },
         "layout": {
          "annotationdefaults": {
           "arrowcolor": "#2a3f5f",
           "arrowhead": 0,
           "arrowwidth": 1
          },
          "autotypenumbers": "strict",
          "coloraxis": {
           "colorbar": {
            "outlinewidth": 0,
            "ticks": ""
           }
          },
          "colorscale": {
           "diverging": [
            [
             0,
             "#8e0152"
            ],
            [
             0.1,
             "#c51b7d"
            ],
            [
             0.2,
             "#de77ae"
            ],
            [
             0.3,
             "#f1b6da"
            ],
            [
             0.4,
             "#fde0ef"
            ],
            [
             0.5,
             "#f7f7f7"
            ],
            [
             0.6,
             "#e6f5d0"
            ],
            [
             0.7,
             "#b8e186"
            ],
            [
             0.8,
             "#7fbc41"
            ],
            [
             0.9,
             "#4d9221"
            ],
            [
             1,
             "#276419"
            ]
           ],
           "sequential": [
            [
             0,
             "#0d0887"
            ],
            [
             0.1111111111111111,
             "#46039f"
            ],
            [
             0.2222222222222222,
             "#7201a8"
            ],
            [
             0.3333333333333333,
             "#9c179e"
            ],
            [
             0.4444444444444444,
             "#bd3786"
            ],
            [
             0.5555555555555556,
             "#d8576b"
            ],
            [
             0.6666666666666666,
             "#ed7953"
            ],
            [
             0.7777777777777778,
             "#fb9f3a"
            ],
            [
             0.8888888888888888,
             "#fdca26"
            ],
            [
             1,
             "#f0f921"
            ]
           ],
           "sequentialminus": [
            [
             0,
             "#0d0887"
            ],
            [
             0.1111111111111111,
             "#46039f"
            ],
            [
             0.2222222222222222,
             "#7201a8"
            ],
            [
             0.3333333333333333,
             "#9c179e"
            ],
            [
             0.4444444444444444,
             "#bd3786"
            ],
            [
             0.5555555555555556,
             "#d8576b"
            ],
            [
             0.6666666666666666,
             "#ed7953"
            ],
            [
             0.7777777777777778,
             "#fb9f3a"
            ],
            [
             0.8888888888888888,
             "#fdca26"
            ],
            [
             1,
             "#f0f921"
            ]
           ]
          },
          "colorway": [
           "#636efa",
           "#EF553B",
           "#00cc96",
           "#ab63fa",
           "#FFA15A",
           "#19d3f3",
           "#FF6692",
           "#B6E880",
           "#FF97FF",
           "#FECB52"
          ],
          "font": {
           "color": "#2a3f5f"
          },
          "geo": {
           "bgcolor": "white",
           "lakecolor": "white",
           "landcolor": "#E5ECF6",
           "showlakes": true,
           "showland": true,
           "subunitcolor": "white"
          },
          "hoverlabel": {
           "align": "left"
          },
          "hovermode": "closest",
          "mapbox": {
           "style": "light"
          },
          "paper_bgcolor": "white",
          "plot_bgcolor": "#E5ECF6",
          "polar": {
           "angularaxis": {
            "gridcolor": "white",
            "linecolor": "white",
            "ticks": ""
           },
           "bgcolor": "#E5ECF6",
           "radialaxis": {
            "gridcolor": "white",
            "linecolor": "white",
            "ticks": ""
           }
          },
          "scene": {
           "xaxis": {
            "backgroundcolor": "#E5ECF6",
            "gridcolor": "white",
            "gridwidth": 2,
            "linecolor": "white",
            "showbackground": true,
            "ticks": "",
            "zerolinecolor": "white"
           },
           "yaxis": {
            "backgroundcolor": "#E5ECF6",
            "gridcolor": "white",
            "gridwidth": 2,
            "linecolor": "white",
            "showbackground": true,
            "ticks": "",
            "zerolinecolor": "white"
           },
           "zaxis": {
            "backgroundcolor": "#E5ECF6",
            "gridcolor": "white",
            "gridwidth": 2,
            "linecolor": "white",
            "showbackground": true,
            "ticks": "",
            "zerolinecolor": "white"
           }
          },
          "shapedefaults": {
           "line": {
            "color": "#2a3f5f"
           }
          },
          "ternary": {
           "aaxis": {
            "gridcolor": "white",
            "linecolor": "white",
            "ticks": ""
           },
           "baxis": {
            "gridcolor": "white",
            "linecolor": "white",
            "ticks": ""
           },
           "bgcolor": "#E5ECF6",
           "caxis": {
            "gridcolor": "white",
            "linecolor": "white",
            "ticks": ""
           }
          },
          "title": {
           "x": 0.05
          },
          "xaxis": {
           "automargin": true,
           "gridcolor": "white",
           "linecolor": "white",
           "ticks": "",
           "title": {
            "standoff": 15
           },
           "zerolinecolor": "white",
           "zerolinewidth": 2
          },
          "yaxis": {
           "automargin": true,
           "gridcolor": "white",
           "linecolor": "white",
           "ticks": "",
           "title": {
            "standoff": 15
           },
           "zerolinecolor": "white",
           "zerolinewidth": 2
          }
         }
        },
        "title": {
         "text": "Average Player Market Value by Age"
        },
        "xaxis": {
         "anchor": "y",
         "domain": [
          0,
          1
         ],
         "title": {
          "text": "Age"
         }
        },
        "yaxis": {
         "anchor": "x",
         "domain": [
          0,
          1
         ],
         "title": {
          "text": "Average Market Value (EUR)"
         }
        }
       }
      }
     },
     "metadata": {},
     "output_type": "display_data"
    }
   ],
   "source": [
    "# Calculate average market value and count at each age\n",
    "avg_value_by_age = (\n",
    "    pdf_joined.groupby(\"age\")[\"market_value_in_eur\"]\n",
    "    .agg([\"mean\", \"count\"])\n",
    "    .reset_index()\n",
    "    .rename(columns={\"mean\": \"avg_market_value\", \"count\": \"player_count\"})\n",
    ")\n",
    "\n",
    "# Plot the line graph with hover data showing player count\n",
    "fig = px.line(\n",
    "    avg_value_by_age,\n",
    "    x=\"age\",\n",
    "    y=\"avg_market_value\",\n",
    "    title=\"Average Player Market Value by Age\",\n",
    "    labels={\"avg_market_value\": \"Average Market Value (EUR)\", \"age\": \"Age\"},\n",
    "    hover_data={\"player_count\": True}\n",
    ")\n",
    "fig.show()"
   ]
  },
  {
   "cell_type": "code",
   "execution_count": 20,
   "id": "b04172de",
   "metadata": {},
   "outputs": [],
   "source": [
    "import numpy as np\n",
    "import plotly.express as px\n",
    "\n",
    "def plot_avg_value_35_plus_and_formula(pdf, age: int = 35) -> None:\n",
    "    \"\"\"\n",
    "    Plot the average market value for players aged 35+ and fit a\n",
    "    constant multiplier model for ages >= 33.\n",
    "\n",
    "    Args:\n",
    "        pdf: DataFrame containing 'player_id', 'age', and 'market_value_in_eur'.\n",
    "        age: Minimum age to filter players for the chart.\n",
    "    \"\"\"\n",
    "    # Filter for players who have at least one record at age 35 or above\n",
    "    pdf = pdf.query(\"player_id not in ['3455']\").query(\"position != 'Goalkeeper'\")\n",
    "    \n",
    "    player_ids_35_plus = pdf.loc[pdf[\"age\"] >= age, \"player_id\"].unique()\n",
    "    pdf_35_plus = pdf[pdf[\"player_id\"].isin(player_ids_35_plus)]\n",
    "\n",
    "    # Calculate average market value by age\n",
    "    avg_value_by_age_35_plus = (\n",
    "        pdf_35_plus.groupby(\"age\")[\"market_value_in_eur\"]\n",
    "        .mean()\n",
    "        .reset_index()\n",
    "        .rename(columns={\"market_value_in_eur\": \"avg_market_value\"})\n",
    "    )\n",
    "\n",
    "    # Filter for ages 33 and above\n",
    "    df_33_plus = avg_value_by_age_35_plus[\n",
    "        avg_value_by_age_35_plus[\"age\"] >= 33\n",
    "    ].reset_index(drop=True)\n",
    "\n",
    "    # Estimate multiplier: ratio between consecutive ages\n",
    "    ratios = df_33_plus[\"avg_market_value\"].shift(-1) / df_33_plus[\"avg_market_value\"]\n",
    "    multiplier = ratios.mean(skipna=True)\n",
    "\n",
    "    print(f\"y_next = {multiplier:.4f} * y_previous  (for age ≥ 33)\")\n",
    "\n",
    "    # Generate fitted curve using the multiplier\n",
    "    fitted_values = [df_33_plus[\"avg_market_value\"].iloc[0]]\n",
    "    for _ in range(1, len(df_33_plus)):\n",
    "        fitted_values.append(fitted_values[-1] * multiplier)\n",
    "\n",
    "    # Plot actual data\n",
    "    fig = px.line(\n",
    "        avg_value_by_age_35_plus,\n",
    "        x=\"age\",\n",
    "        y=\"avg_market_value\",\n",
    "        title=\"Average Market Value by Age (Players with Age 35+)\",\n",
    "        labels={\"avg_market_value\": \"Average Market Value (EUR)\", \"age\": \"Age\"}\n",
    "    )\n",
    "\n",
    "    # Add multiplier fit\n",
    "    fig.add_scatter(\n",
    "        x=df_33_plus[\"age\"],\n",
    "        y=fitted_values,\n",
    "        mode=\"lines\",\n",
    "        name=\"Multiplier Fit (age ≥ 33)\"\n",
    "    )\n",
    "\n",
    "    fig.show()\n"
   ]
  },
  {
   "cell_type": "code",
   "execution_count": null,
   "id": "bd95f2b4",
   "metadata": {},
   "outputs": [],
   "source": []
  },
  {
   "cell_type": "code",
   "execution_count": 21,
   "id": "efc78f26",
   "metadata": {},
   "outputs": [
    {
     "name": "stdout",
     "output_type": "stream",
     "text": [
      "y_next = 0.7786 * y_previous  (for age ≥ 33)\n"
     ]
    },
    {
     "data": {
      "application/vnd.plotly.v1+json": {
       "config": {
        "plotlyServerURL": "https://plot.ly"
       },
       "data": [
        {
         "hovertemplate": "Age=%{x}<br>Average Market Value (EUR)=%{y}<extra></extra>",
         "legendgroup": "",
         "line": {
          "color": "#636efa",
          "dash": "solid"
         },
         "marker": {
          "symbol": "circle"
         },
         "mode": "lines",
         "name": "",
         "orientation": "v",
         "showlegend": false,
         "type": "scatter",
         "x": [
          16,
          17,
          18,
          19,
          20,
          21,
          22,
          23,
          24,
          25,
          26,
          27,
          28,
          29,
          30,
          31,
          32,
          33,
          34,
          35,
          36,
          37,
          38,
          39,
          40,
          41,
          42,
          43
         ],
         "xaxis": "x",
         "y": [
          500000,
          532812.5,
          972124.5421245422,
          1191353.591160221,
          2012237.948737567,
          2431458.900381056,
          2825925.4713349715,
          3467383.0845771143,
          3895732.122587968,
          4339316.195115681,
          4842967.772967773,
          4921214.125784754,
          4983668.86571611,
          4956361.84347104,
          4324893.917963224,
          3322020.3920015837,
          2301010.61793705,
          1474571.3735311115,
          919042.490118577,
          584703.8478166882,
          478723.76311844075,
          403475.1261715934,
          375007.56429652043,
          307646.04810996563,
          281942.1487603306,
          266700,
          97857.14285714286,
          86666.66666666667
         ],
         "yaxis": "y"
        },
        {
         "mode": "lines",
         "name": "Multiplier Fit (age ≥ 33)",
         "type": "scatter",
         "x": [
          33,
          34,
          35,
          36,
          37,
          38,
          39,
          40,
          41,
          42,
          43
         ],
         "y": [
          1474571.3735311115,
          1148071.6380862752,
          893865.5054870382,
          695945.7192335549,
          541849.3511007662,
          421873.0156306787,
          328461.8519072933,
          255733.7970457362,
          199109.19509121124,
          155022.4179511943,
          120697.33924857572
         ]
        }
       ],
       "layout": {
        "legend": {
         "tracegroupgap": 0
        },
        "template": {
         "data": {
          "bar": [
           {
            "error_x": {
             "color": "#2a3f5f"
            },
            "error_y": {
             "color": "#2a3f5f"
            },
            "marker": {
             "line": {
              "color": "#E5ECF6",
              "width": 0.5
             },
             "pattern": {
              "fillmode": "overlay",
              "size": 10,
              "solidity": 0.2
             }
            },
            "type": "bar"
           }
          ],
          "barpolar": [
           {
            "marker": {
             "line": {
              "color": "#E5ECF6",
              "width": 0.5
             },
             "pattern": {
              "fillmode": "overlay",
              "size": 10,
              "solidity": 0.2
             }
            },
            "type": "barpolar"
           }
          ],
          "carpet": [
           {
            "aaxis": {
             "endlinecolor": "#2a3f5f",
             "gridcolor": "white",
             "linecolor": "white",
             "minorgridcolor": "white",
             "startlinecolor": "#2a3f5f"
            },
            "baxis": {
             "endlinecolor": "#2a3f5f",
             "gridcolor": "white",
             "linecolor": "white",
             "minorgridcolor": "white",
             "startlinecolor": "#2a3f5f"
            },
            "type": "carpet"
           }
          ],
          "choropleth": [
           {
            "colorbar": {
             "outlinewidth": 0,
             "ticks": ""
            },
            "type": "choropleth"
           }
          ],
          "contour": [
           {
            "colorbar": {
             "outlinewidth": 0,
             "ticks": ""
            },
            "colorscale": [
             [
              0,
              "#0d0887"
             ],
             [
              0.1111111111111111,
              "#46039f"
             ],
             [
              0.2222222222222222,
              "#7201a8"
             ],
             [
              0.3333333333333333,
              "#9c179e"
             ],
             [
              0.4444444444444444,
              "#bd3786"
             ],
             [
              0.5555555555555556,
              "#d8576b"
             ],
             [
              0.6666666666666666,
              "#ed7953"
             ],
             [
              0.7777777777777778,
              "#fb9f3a"
             ],
             [
              0.8888888888888888,
              "#fdca26"
             ],
             [
              1,
              "#f0f921"
             ]
            ],
            "type": "contour"
           }
          ],
          "contourcarpet": [
           {
            "colorbar": {
             "outlinewidth": 0,
             "ticks": ""
            },
            "type": "contourcarpet"
           }
          ],
          "heatmap": [
           {
            "colorbar": {
             "outlinewidth": 0,
             "ticks": ""
            },
            "colorscale": [
             [
              0,
              "#0d0887"
             ],
             [
              0.1111111111111111,
              "#46039f"
             ],
             [
              0.2222222222222222,
              "#7201a8"
             ],
             [
              0.3333333333333333,
              "#9c179e"
             ],
             [
              0.4444444444444444,
              "#bd3786"
             ],
             [
              0.5555555555555556,
              "#d8576b"
             ],
             [
              0.6666666666666666,
              "#ed7953"
             ],
             [
              0.7777777777777778,
              "#fb9f3a"
             ],
             [
              0.8888888888888888,
              "#fdca26"
             ],
             [
              1,
              "#f0f921"
             ]
            ],
            "type": "heatmap"
           }
          ],
          "heatmapgl": [
           {
            "colorbar": {
             "outlinewidth": 0,
             "ticks": ""
            },
            "colorscale": [
             [
              0,
              "#0d0887"
             ],
             [
              0.1111111111111111,
              "#46039f"
             ],
             [
              0.2222222222222222,
              "#7201a8"
             ],
             [
              0.3333333333333333,
              "#9c179e"
             ],
             [
              0.4444444444444444,
              "#bd3786"
             ],
             [
              0.5555555555555556,
              "#d8576b"
             ],
             [
              0.6666666666666666,
              "#ed7953"
             ],
             [
              0.7777777777777778,
              "#fb9f3a"
             ],
             [
              0.8888888888888888,
              "#fdca26"
             ],
             [
              1,
              "#f0f921"
             ]
            ],
            "type": "heatmapgl"
           }
          ],
          "histogram": [
           {
            "marker": {
             "pattern": {
              "fillmode": "overlay",
              "size": 10,
              "solidity": 0.2
             }
            },
            "type": "histogram"
           }
          ],
          "histogram2d": [
           {
            "colorbar": {
             "outlinewidth": 0,
             "ticks": ""
            },
            "colorscale": [
             [
              0,
              "#0d0887"
             ],
             [
              0.1111111111111111,
              "#46039f"
             ],
             [
              0.2222222222222222,
              "#7201a8"
             ],
             [
              0.3333333333333333,
              "#9c179e"
             ],
             [
              0.4444444444444444,
              "#bd3786"
             ],
             [
              0.5555555555555556,
              "#d8576b"
             ],
             [
              0.6666666666666666,
              "#ed7953"
             ],
             [
              0.7777777777777778,
              "#fb9f3a"
             ],
             [
              0.8888888888888888,
              "#fdca26"
             ],
             [
              1,
              "#f0f921"
             ]
            ],
            "type": "histogram2d"
           }
          ],
          "histogram2dcontour": [
           {
            "colorbar": {
             "outlinewidth": 0,
             "ticks": ""
            },
            "colorscale": [
             [
              0,
              "#0d0887"
             ],
             [
              0.1111111111111111,
              "#46039f"
             ],
             [
              0.2222222222222222,
              "#7201a8"
             ],
             [
              0.3333333333333333,
              "#9c179e"
             ],
             [
              0.4444444444444444,
              "#bd3786"
             ],
             [
              0.5555555555555556,
              "#d8576b"
             ],
             [
              0.6666666666666666,
              "#ed7953"
             ],
             [
              0.7777777777777778,
              "#fb9f3a"
             ],
             [
              0.8888888888888888,
              "#fdca26"
             ],
             [
              1,
              "#f0f921"
             ]
            ],
            "type": "histogram2dcontour"
           }
          ],
          "mesh3d": [
           {
            "colorbar": {
             "outlinewidth": 0,
             "ticks": ""
            },
            "type": "mesh3d"
           }
          ],
          "parcoords": [
           {
            "line": {
             "colorbar": {
              "outlinewidth": 0,
              "ticks": ""
             }
            },
            "type": "parcoords"
           }
          ],
          "pie": [
           {
            "automargin": true,
            "type": "pie"
           }
          ],
          "scatter": [
           {
            "fillpattern": {
             "fillmode": "overlay",
             "size": 10,
             "solidity": 0.2
            },
            "type": "scatter"
           }
          ],
          "scatter3d": [
           {
            "line": {
             "colorbar": {
              "outlinewidth": 0,
              "ticks": ""
             }
            },
            "marker": {
             "colorbar": {
              "outlinewidth": 0,
              "ticks": ""
             }
            },
            "type": "scatter3d"
           }
          ],
          "scattercarpet": [
           {
            "marker": {
             "colorbar": {
              "outlinewidth": 0,
              "ticks": ""
             }
            },
            "type": "scattercarpet"
           }
          ],
          "scattergeo": [
           {
            "marker": {
             "colorbar": {
              "outlinewidth": 0,
              "ticks": ""
             }
            },
            "type": "scattergeo"
           }
          ],
          "scattergl": [
           {
            "marker": {
             "colorbar": {
              "outlinewidth": 0,
              "ticks": ""
             }
            },
            "type": "scattergl"
           }
          ],
          "scattermapbox": [
           {
            "marker": {
             "colorbar": {
              "outlinewidth": 0,
              "ticks": ""
             }
            },
            "type": "scattermapbox"
           }
          ],
          "scatterpolar": [
           {
            "marker": {
             "colorbar": {
              "outlinewidth": 0,
              "ticks": ""
             }
            },
            "type": "scatterpolar"
           }
          ],
          "scatterpolargl": [
           {
            "marker": {
             "colorbar": {
              "outlinewidth": 0,
              "ticks": ""
             }
            },
            "type": "scatterpolargl"
           }
          ],
          "scatterternary": [
           {
            "marker": {
             "colorbar": {
              "outlinewidth": 0,
              "ticks": ""
             }
            },
            "type": "scatterternary"
           }
          ],
          "surface": [
           {
            "colorbar": {
             "outlinewidth": 0,
             "ticks": ""
            },
            "colorscale": [
             [
              0,
              "#0d0887"
             ],
             [
              0.1111111111111111,
              "#46039f"
             ],
             [
              0.2222222222222222,
              "#7201a8"
             ],
             [
              0.3333333333333333,
              "#9c179e"
             ],
             [
              0.4444444444444444,
              "#bd3786"
             ],
             [
              0.5555555555555556,
              "#d8576b"
             ],
             [
              0.6666666666666666,
              "#ed7953"
             ],
             [
              0.7777777777777778,
              "#fb9f3a"
             ],
             [
              0.8888888888888888,
              "#fdca26"
             ],
             [
              1,
              "#f0f921"
             ]
            ],
            "type": "surface"
           }
          ],
          "table": [
           {
            "cells": {
             "fill": {
              "color": "#EBF0F8"
             },
             "line": {
              "color": "white"
             }
            },
            "header": {
             "fill": {
              "color": "#C8D4E3"
             },
             "line": {
              "color": "white"
             }
            },
            "type": "table"
           }
          ]
         },
         "layout": {
          "annotationdefaults": {
           "arrowcolor": "#2a3f5f",
           "arrowhead": 0,
           "arrowwidth": 1
          },
          "autotypenumbers": "strict",
          "coloraxis": {
           "colorbar": {
            "outlinewidth": 0,
            "ticks": ""
           }
          },
          "colorscale": {
           "diverging": [
            [
             0,
             "#8e0152"
            ],
            [
             0.1,
             "#c51b7d"
            ],
            [
             0.2,
             "#de77ae"
            ],
            [
             0.3,
             "#f1b6da"
            ],
            [
             0.4,
             "#fde0ef"
            ],
            [
             0.5,
             "#f7f7f7"
            ],
            [
             0.6,
             "#e6f5d0"
            ],
            [
             0.7,
             "#b8e186"
            ],
            [
             0.8,
             "#7fbc41"
            ],
            [
             0.9,
             "#4d9221"
            ],
            [
             1,
             "#276419"
            ]
           ],
           "sequential": [
            [
             0,
             "#0d0887"
            ],
            [
             0.1111111111111111,
             "#46039f"
            ],
            [
             0.2222222222222222,
             "#7201a8"
            ],
            [
             0.3333333333333333,
             "#9c179e"
            ],
            [
             0.4444444444444444,
             "#bd3786"
            ],
            [
             0.5555555555555556,
             "#d8576b"
            ],
            [
             0.6666666666666666,
             "#ed7953"
            ],
            [
             0.7777777777777778,
             "#fb9f3a"
            ],
            [
             0.8888888888888888,
             "#fdca26"
            ],
            [
             1,
             "#f0f921"
            ]
           ],
           "sequentialminus": [
            [
             0,
             "#0d0887"
            ],
            [
             0.1111111111111111,
             "#46039f"
            ],
            [
             0.2222222222222222,
             "#7201a8"
            ],
            [
             0.3333333333333333,
             "#9c179e"
            ],
            [
             0.4444444444444444,
             "#bd3786"
            ],
            [
             0.5555555555555556,
             "#d8576b"
            ],
            [
             0.6666666666666666,
             "#ed7953"
            ],
            [
             0.7777777777777778,
             "#fb9f3a"
            ],
            [
             0.8888888888888888,
             "#fdca26"
            ],
            [
             1,
             "#f0f921"
            ]
           ]
          },
          "colorway": [
           "#636efa",
           "#EF553B",
           "#00cc96",
           "#ab63fa",
           "#FFA15A",
           "#19d3f3",
           "#FF6692",
           "#B6E880",
           "#FF97FF",
           "#FECB52"
          ],
          "font": {
           "color": "#2a3f5f"
          },
          "geo": {
           "bgcolor": "white",
           "lakecolor": "white",
           "landcolor": "#E5ECF6",
           "showlakes": true,
           "showland": true,
           "subunitcolor": "white"
          },
          "hoverlabel": {
           "align": "left"
          },
          "hovermode": "closest",
          "mapbox": {
           "style": "light"
          },
          "paper_bgcolor": "white",
          "plot_bgcolor": "#E5ECF6",
          "polar": {
           "angularaxis": {
            "gridcolor": "white",
            "linecolor": "white",
            "ticks": ""
           },
           "bgcolor": "#E5ECF6",
           "radialaxis": {
            "gridcolor": "white",
            "linecolor": "white",
            "ticks": ""
           }
          },
          "scene": {
           "xaxis": {
            "backgroundcolor": "#E5ECF6",
            "gridcolor": "white",
            "gridwidth": 2,
            "linecolor": "white",
            "showbackground": true,
            "ticks": "",
            "zerolinecolor": "white"
           },
           "yaxis": {
            "backgroundcolor": "#E5ECF6",
            "gridcolor": "white",
            "gridwidth": 2,
            "linecolor": "white",
            "showbackground": true,
            "ticks": "",
            "zerolinecolor": "white"
           },
           "zaxis": {
            "backgroundcolor": "#E5ECF6",
            "gridcolor": "white",
            "gridwidth": 2,
            "linecolor": "white",
            "showbackground": true,
            "ticks": "",
            "zerolinecolor": "white"
           }
          },
          "shapedefaults": {
           "line": {
            "color": "#2a3f5f"
           }
          },
          "ternary": {
           "aaxis": {
            "gridcolor": "white",
            "linecolor": "white",
            "ticks": ""
           },
           "baxis": {
            "gridcolor": "white",
            "linecolor": "white",
            "ticks": ""
           },
           "bgcolor": "#E5ECF6",
           "caxis": {
            "gridcolor": "white",
            "linecolor": "white",
            "ticks": ""
           }
          },
          "title": {
           "x": 0.05
          },
          "xaxis": {
           "automargin": true,
           "gridcolor": "white",
           "linecolor": "white",
           "ticks": "",
           "title": {
            "standoff": 15
           },
           "zerolinecolor": "white",
           "zerolinewidth": 2
          },
          "yaxis": {
           "automargin": true,
           "gridcolor": "white",
           "linecolor": "white",
           "ticks": "",
           "title": {
            "standoff": 15
           },
           "zerolinecolor": "white",
           "zerolinewidth": 2
          }
         }
        },
        "title": {
         "text": "Average Market Value by Age (Players with Age 35+)"
        },
        "xaxis": {
         "anchor": "y",
         "domain": [
          0,
          1
         ],
         "title": {
          "text": "Age"
         }
        },
        "yaxis": {
         "anchor": "x",
         "domain": [
          0,
          1
         ],
         "title": {
          "text": "Average Market Value (EUR)"
         }
        }
       }
      }
     },
     "metadata": {},
     "output_type": "display_data"
    }
   ],
   "source": [
    "plot_avg_value_35_plus_and_formula(pdf_joined)"
   ]
  },
  {
   "cell_type": "code",
   "execution_count": 22,
   "id": "6d7c3197",
   "metadata": {},
   "outputs": [
    {
     "name": "stdout",
     "output_type": "stream",
     "text": [
      "y_next = 0.7471 * y_previous  (for age ≥ 33)\n"
     ]
    },
    {
     "data": {
      "application/vnd.plotly.v1+json": {
       "config": {
        "plotlyServerURL": "https://plot.ly"
       },
       "data": [
        {
         "hovertemplate": "Age=%{x}<br>Average Market Value (EUR)=%{y}<extra></extra>",
         "legendgroup": "",
         "line": {
          "color": "#636efa",
          "dash": "solid"
         },
         "marker": {
          "symbol": "circle"
         },
         "mode": "lines",
         "name": "",
         "orientation": "v",
         "showlegend": false,
         "type": "scatter",
         "x": [
          20,
          21,
          22,
          23,
          24,
          25,
          26,
          27,
          28,
          29,
          30,
          31,
          32,
          33,
          34,
          35,
          36,
          37,
          38,
          39,
          40,
          41,
          42,
          43
         ],
         "xaxis": "x",
         "y": [
          250000,
          1254166.6666666667,
          1456250,
          6348214.285714285,
          4265192.307692308,
          5466142.857142857,
          8221774.193548387,
          6371041.675,
          7002022.05882353,
          7387298.387096774,
          6148540.145985401,
          5079323.308270677,
          3499137.9310344825,
          2090287.7697841728,
          1560036.496350365,
          1078053.4351145038,
          810629.9212598425,
          687213.7404580152,
          463344.5945945946,
          371950.3546099291,
          281942.1487603306,
          266700,
          97857.14285714286,
          86666.66666666667
         ],
         "yaxis": "y"
        },
        {
         "mode": "lines",
         "name": "Multiplier Fit (age ≥ 33)",
         "type": "scatter",
         "x": [
          33,
          34,
          35,
          36,
          37,
          38,
          39,
          40,
          41,
          42,
          43
         ],
         "y": [
          2090287.7697841728,
          1561562.1937694657,
          1166574.535936688,
          871496.6034179034,
          651056.8389520908,
          486375.97195892973,
          363350.12850759935,
          271442.9237833262,
          202783.0874167411,
          151490.33899697327,
          113171.77927296545
         ]
        }
       ],
       "layout": {
        "legend": {
         "tracegroupgap": 0
        },
        "template": {
         "data": {
          "bar": [
           {
            "error_x": {
             "color": "#2a3f5f"
            },
            "error_y": {
             "color": "#2a3f5f"
            },
            "marker": {
             "line": {
              "color": "#E5ECF6",
              "width": 0.5
             },
             "pattern": {
              "fillmode": "overlay",
              "size": 10,
              "solidity": 0.2
             }
            },
            "type": "bar"
           }
          ],
          "barpolar": [
           {
            "marker": {
             "line": {
              "color": "#E5ECF6",
              "width": 0.5
             },
             "pattern": {
              "fillmode": "overlay",
              "size": 10,
              "solidity": 0.2
             }
            },
            "type": "barpolar"
           }
          ],
          "carpet": [
           {
            "aaxis": {
             "endlinecolor": "#2a3f5f",
             "gridcolor": "white",
             "linecolor": "white",
             "minorgridcolor": "white",
             "startlinecolor": "#2a3f5f"
            },
            "baxis": {
             "endlinecolor": "#2a3f5f",
             "gridcolor": "white",
             "linecolor": "white",
             "minorgridcolor": "white",
             "startlinecolor": "#2a3f5f"
            },
            "type": "carpet"
           }
          ],
          "choropleth": [
           {
            "colorbar": {
             "outlinewidth": 0,
             "ticks": ""
            },
            "type": "choropleth"
           }
          ],
          "contour": [
           {
            "colorbar": {
             "outlinewidth": 0,
             "ticks": ""
            },
            "colorscale": [
             [
              0,
              "#0d0887"
             ],
             [
              0.1111111111111111,
              "#46039f"
             ],
             [
              0.2222222222222222,
              "#7201a8"
             ],
             [
              0.3333333333333333,
              "#9c179e"
             ],
             [
              0.4444444444444444,
              "#bd3786"
             ],
             [
              0.5555555555555556,
              "#d8576b"
             ],
             [
              0.6666666666666666,
              "#ed7953"
             ],
             [
              0.7777777777777778,
              "#fb9f3a"
             ],
             [
              0.8888888888888888,
              "#fdca26"
             ],
             [
              1,
              "#f0f921"
             ]
            ],
            "type": "contour"
           }
          ],
          "contourcarpet": [
           {
            "colorbar": {
             "outlinewidth": 0,
             "ticks": ""
            },
            "type": "contourcarpet"
           }
          ],
          "heatmap": [
           {
            "colorbar": {
             "outlinewidth": 0,
             "ticks": ""
            },
            "colorscale": [
             [
              0,
              "#0d0887"
             ],
             [
              0.1111111111111111,
              "#46039f"
             ],
             [
              0.2222222222222222,
              "#7201a8"
             ],
             [
              0.3333333333333333,
              "#9c179e"
             ],
             [
              0.4444444444444444,
              "#bd3786"
             ],
             [
              0.5555555555555556,
              "#d8576b"
             ],
             [
              0.6666666666666666,
              "#ed7953"
             ],
             [
              0.7777777777777778,
              "#fb9f3a"
             ],
             [
              0.8888888888888888,
              "#fdca26"
             ],
             [
              1,
              "#f0f921"
             ]
            ],
            "type": "heatmap"
           }
          ],
          "heatmapgl": [
           {
            "colorbar": {
             "outlinewidth": 0,
             "ticks": ""
            },
            "colorscale": [
             [
              0,
              "#0d0887"
             ],
             [
              0.1111111111111111,
              "#46039f"
             ],
             [
              0.2222222222222222,
              "#7201a8"
             ],
             [
              0.3333333333333333,
              "#9c179e"
             ],
             [
              0.4444444444444444,
              "#bd3786"
             ],
             [
              0.5555555555555556,
              "#d8576b"
             ],
             [
              0.6666666666666666,
              "#ed7953"
             ],
             [
              0.7777777777777778,
              "#fb9f3a"
             ],
             [
              0.8888888888888888,
              "#fdca26"
             ],
             [
              1,
              "#f0f921"
             ]
            ],
            "type": "heatmapgl"
           }
          ],
          "histogram": [
           {
            "marker": {
             "pattern": {
              "fillmode": "overlay",
              "size": 10,
              "solidity": 0.2
             }
            },
            "type": "histogram"
           }
          ],
          "histogram2d": [
           {
            "colorbar": {
             "outlinewidth": 0,
             "ticks": ""
            },
            "colorscale": [
             [
              0,
              "#0d0887"
             ],
             [
              0.1111111111111111,
              "#46039f"
             ],
             [
              0.2222222222222222,
              "#7201a8"
             ],
             [
              0.3333333333333333,
              "#9c179e"
             ],
             [
              0.4444444444444444,
              "#bd3786"
             ],
             [
              0.5555555555555556,
              "#d8576b"
             ],
             [
              0.6666666666666666,
              "#ed7953"
             ],
             [
              0.7777777777777778,
              "#fb9f3a"
             ],
             [
              0.8888888888888888,
              "#fdca26"
             ],
             [
              1,
              "#f0f921"
             ]
            ],
            "type": "histogram2d"
           }
          ],
          "histogram2dcontour": [
           {
            "colorbar": {
             "outlinewidth": 0,
             "ticks": ""
            },
            "colorscale": [
             [
              0,
              "#0d0887"
             ],
             [
              0.1111111111111111,
              "#46039f"
             ],
             [
              0.2222222222222222,
              "#7201a8"
             ],
             [
              0.3333333333333333,
              "#9c179e"
             ],
             [
              0.4444444444444444,
              "#bd3786"
             ],
             [
              0.5555555555555556,
              "#d8576b"
             ],
             [
              0.6666666666666666,
              "#ed7953"
             ],
             [
              0.7777777777777778,
              "#fb9f3a"
             ],
             [
              0.8888888888888888,
              "#fdca26"
             ],
             [
              1,
              "#f0f921"
             ]
            ],
            "type": "histogram2dcontour"
           }
          ],
          "mesh3d": [
           {
            "colorbar": {
             "outlinewidth": 0,
             "ticks": ""
            },
            "type": "mesh3d"
           }
          ],
          "parcoords": [
           {
            "line": {
             "colorbar": {
              "outlinewidth": 0,
              "ticks": ""
             }
            },
            "type": "parcoords"
           }
          ],
          "pie": [
           {
            "automargin": true,
            "type": "pie"
           }
          ],
          "scatter": [
           {
            "fillpattern": {
             "fillmode": "overlay",
             "size": 10,
             "solidity": 0.2
            },
            "type": "scatter"
           }
          ],
          "scatter3d": [
           {
            "line": {
             "colorbar": {
              "outlinewidth": 0,
              "ticks": ""
             }
            },
            "marker": {
             "colorbar": {
              "outlinewidth": 0,
              "ticks": ""
             }
            },
            "type": "scatter3d"
           }
          ],
          "scattercarpet": [
           {
            "marker": {
             "colorbar": {
              "outlinewidth": 0,
              "ticks": ""
             }
            },
            "type": "scattercarpet"
           }
          ],
          "scattergeo": [
           {
            "marker": {
             "colorbar": {
              "outlinewidth": 0,
              "ticks": ""
             }
            },
            "type": "scattergeo"
           }
          ],
          "scattergl": [
           {
            "marker": {
             "colorbar": {
              "outlinewidth": 0,
              "ticks": ""
             }
            },
            "type": "scattergl"
           }
          ],
          "scattermapbox": [
           {
            "marker": {
             "colorbar": {
              "outlinewidth": 0,
              "ticks": ""
             }
            },
            "type": "scattermapbox"
           }
          ],
          "scatterpolar": [
           {
            "marker": {
             "colorbar": {
              "outlinewidth": 0,
              "ticks": ""
             }
            },
            "type": "scatterpolar"
           }
          ],
          "scatterpolargl": [
           {
            "marker": {
             "colorbar": {
              "outlinewidth": 0,
              "ticks": ""
             }
            },
            "type": "scatterpolargl"
           }
          ],
          "scatterternary": [
           {
            "marker": {
             "colorbar": {
              "outlinewidth": 0,
              "ticks": ""
             }
            },
            "type": "scatterternary"
           }
          ],
          "surface": [
           {
            "colorbar": {
             "outlinewidth": 0,
             "ticks": ""
            },
            "colorscale": [
             [
              0,
              "#0d0887"
             ],
             [
              0.1111111111111111,
              "#46039f"
             ],
             [
              0.2222222222222222,
              "#7201a8"
             ],
             [
              0.3333333333333333,
              "#9c179e"
             ],
             [
              0.4444444444444444,
              "#bd3786"
             ],
             [
              0.5555555555555556,
              "#d8576b"
             ],
             [
              0.6666666666666666,
              "#ed7953"
             ],
             [
              0.7777777777777778,
              "#fb9f3a"
             ],
             [
              0.8888888888888888,
              "#fdca26"
             ],
             [
              1,
              "#f0f921"
             ]
            ],
            "type": "surface"
           }
          ],
          "table": [
           {
            "cells": {
             "fill": {
              "color": "#EBF0F8"
             },
             "line": {
              "color": "white"
             }
            },
            "header": {
             "fill": {
              "color": "#C8D4E3"
             },
             "line": {
              "color": "white"
             }
            },
            "type": "table"
           }
          ]
         },
         "layout": {
          "annotationdefaults": {
           "arrowcolor": "#2a3f5f",
           "arrowhead": 0,
           "arrowwidth": 1
          },
          "autotypenumbers": "strict",
          "coloraxis": {
           "colorbar": {
            "outlinewidth": 0,
            "ticks": ""
           }
          },
          "colorscale": {
           "diverging": [
            [
             0,
             "#8e0152"
            ],
            [
             0.1,
             "#c51b7d"
            ],
            [
             0.2,
             "#de77ae"
            ],
            [
             0.3,
             "#f1b6da"
            ],
            [
             0.4,
             "#fde0ef"
            ],
            [
             0.5,
             "#f7f7f7"
            ],
            [
             0.6,
             "#e6f5d0"
            ],
            [
             0.7,
             "#b8e186"
            ],
            [
             0.8,
             "#7fbc41"
            ],
            [
             0.9,
             "#4d9221"
            ],
            [
             1,
             "#276419"
            ]
           ],
           "sequential": [
            [
             0,
             "#0d0887"
            ],
            [
             0.1111111111111111,
             "#46039f"
            ],
            [
             0.2222222222222222,
             "#7201a8"
            ],
            [
             0.3333333333333333,
             "#9c179e"
            ],
            [
             0.4444444444444444,
             "#bd3786"
            ],
            [
             0.5555555555555556,
             "#d8576b"
            ],
            [
             0.6666666666666666,
             "#ed7953"
            ],
            [
             0.7777777777777778,
             "#fb9f3a"
            ],
            [
             0.8888888888888888,
             "#fdca26"
            ],
            [
             1,
             "#f0f921"
            ]
           ],
           "sequentialminus": [
            [
             0,
             "#0d0887"
            ],
            [
             0.1111111111111111,
             "#46039f"
            ],
            [
             0.2222222222222222,
             "#7201a8"
            ],
            [
             0.3333333333333333,
             "#9c179e"
            ],
            [
             0.4444444444444444,
             "#bd3786"
            ],
            [
             0.5555555555555556,
             "#d8576b"
            ],
            [
             0.6666666666666666,
             "#ed7953"
            ],
            [
             0.7777777777777778,
             "#fb9f3a"
            ],
            [
             0.8888888888888888,
             "#fdca26"
            ],
            [
             1,
             "#f0f921"
            ]
           ]
          },
          "colorway": [
           "#636efa",
           "#EF553B",
           "#00cc96",
           "#ab63fa",
           "#FFA15A",
           "#19d3f3",
           "#FF6692",
           "#B6E880",
           "#FF97FF",
           "#FECB52"
          ],
          "font": {
           "color": "#2a3f5f"
          },
          "geo": {
           "bgcolor": "white",
           "lakecolor": "white",
           "landcolor": "#E5ECF6",
           "showlakes": true,
           "showland": true,
           "subunitcolor": "white"
          },
          "hoverlabel": {
           "align": "left"
          },
          "hovermode": "closest",
          "mapbox": {
           "style": "light"
          },
          "paper_bgcolor": "white",
          "plot_bgcolor": "#E5ECF6",
          "polar": {
           "angularaxis": {
            "gridcolor": "white",
            "linecolor": "white",
            "ticks": ""
           },
           "bgcolor": "#E5ECF6",
           "radialaxis": {
            "gridcolor": "white",
            "linecolor": "white",
            "ticks": ""
           }
          },
          "scene": {
           "xaxis": {
            "backgroundcolor": "#E5ECF6",
            "gridcolor": "white",
            "gridwidth": 2,
            "linecolor": "white",
            "showbackground": true,
            "ticks": "",
            "zerolinecolor": "white"
           },
           "yaxis": {
            "backgroundcolor": "#E5ECF6",
            "gridcolor": "white",
            "gridwidth": 2,
            "linecolor": "white",
            "showbackground": true,
            "ticks": "",
            "zerolinecolor": "white"
           },
           "zaxis": {
            "backgroundcolor": "#E5ECF6",
            "gridcolor": "white",
            "gridwidth": 2,
            "linecolor": "white",
            "showbackground": true,
            "ticks": "",
            "zerolinecolor": "white"
           }
          },
          "shapedefaults": {
           "line": {
            "color": "#2a3f5f"
           }
          },
          "ternary": {
           "aaxis": {
            "gridcolor": "white",
            "linecolor": "white",
            "ticks": ""
           },
           "baxis": {
            "gridcolor": "white",
            "linecolor": "white",
            "ticks": ""
           },
           "bgcolor": "#E5ECF6",
           "caxis": {
            "gridcolor": "white",
            "linecolor": "white",
            "ticks": ""
           }
          },
          "title": {
           "x": 0.05
          },
          "xaxis": {
           "automargin": true,
           "gridcolor": "white",
           "linecolor": "white",
           "ticks": "",
           "title": {
            "standoff": 15
           },
           "zerolinecolor": "white",
           "zerolinewidth": 2
          },
          "yaxis": {
           "automargin": true,
           "gridcolor": "white",
           "linecolor": "white",
           "ticks": "",
           "title": {
            "standoff": 15
           },
           "zerolinecolor": "white",
           "zerolinewidth": 2
          }
         }
        },
        "title": {
         "text": "Average Market Value by Age (Players with Age 35+)"
        },
        "xaxis": {
         "anchor": "y",
         "domain": [
          0,
          1
         ],
         "title": {
          "text": "Age"
         }
        },
        "yaxis": {
         "anchor": "x",
         "domain": [
          0,
          1
         ],
         "title": {
          "text": "Average Market Value (EUR)"
         }
        }
       }
      }
     },
     "metadata": {},
     "output_type": "display_data"
    }
   ],
   "source": [
    "plot_avg_value_35_plus_and_formula(pdf_joined, 40)"
   ]
  },
  {
   "cell_type": "code",
   "execution_count": null,
   "id": "7418a50f",
   "metadata": {},
   "outputs": [],
   "source": []
  },
  {
   "cell_type": "code",
   "execution_count": null,
   "id": "5373671c",
   "metadata": {},
   "outputs": [],
   "source": []
  },
  {
   "cell_type": "code",
   "execution_count": null,
   "id": "77db4fdd",
   "metadata": {},
   "outputs": [],
   "source": []
  },
  {
   "cell_type": "code",
   "execution_count": null,
   "id": "e941c1c5",
   "metadata": {},
   "outputs": [],
   "source": []
  }
 ],
 "metadata": {
  "kernelspec": {
   "display_name": "Python 3",
   "language": "python",
   "name": "python3"
  },
  "language_info": {
   "codemirror_mode": {
    "name": "ipython",
    "version": 3
   },
   "file_extension": ".py",
   "mimetype": "text/x-python",
   "name": "python",
   "nbconvert_exporter": "python",
   "pygments_lexer": "ipython3",
   "version": "3.11.9"
  }
 },
 "nbformat": 4,
 "nbformat_minor": 5
}
