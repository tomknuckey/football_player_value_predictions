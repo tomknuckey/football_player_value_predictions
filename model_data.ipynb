{
 "cells": [
  {
   "cell_type": "code",
   "execution_count": 41,
   "id": "4bb98a0b",
   "metadata": {},
   "outputs": [],
   "source": [
    "import pandas as pd\n",
    "import plotly.express as px\n",
    "import numpy as np\n",
    "from statsmodels.tsa.statespace.sarimax import SARIMAX\n",
    "from sklearn.tree import DecisionTreeRegressor\n",
    "from sklearn.model_selection import train_test_split\n",
    "from sklearn import tree\n",
    "import matplotlib.pyplot as plt\n",
    "from sklearn.metrics import root_mean_squared_error\n",
    "from sklearn.metrics import r2_score\n",
    "\n"
   ]
  },
  {
   "cell_type": "code",
   "execution_count": 42,
   "id": "fd3ff07e",
   "metadata": {},
   "outputs": [],
   "source": [
    "# pdf_mvp = pd.read_csv('data/intermediate/model_data_prep.csv')"
   ]
  },
  {
   "cell_type": "code",
   "execution_count": 43,
   "id": "22f22e96",
   "metadata": {},
   "outputs": [],
   "source": [
    "# pdf_mvp"
   ]
  },
  {
   "cell_type": "code",
   "execution_count": 44,
   "id": "2c388c55",
   "metadata": {},
   "outputs": [],
   "source": [
    "pdf_valuations = pd.read_csv('data/input/player_valuations.csv')[[\"player_id\", \"date\", \"market_value_in_eur\"]]\n",
    "pdf_players = pd.read_csv('data/input/players.csv')[[\"player_id\", \"name\", \"date_of_birth\", \"position\", \"sub_position\", \"contract_expiration_date\", \"current_club_name\", \"current_club_domestic_competition_id\" ]]"
   ]
  },
  {
   "cell_type": "code",
   "execution_count": 45,
   "id": "1897ea5e",
   "metadata": {},
   "outputs": [],
   "source": [
    "pdf_joined = pdf_players.merge(pdf_valuations, on=\"player_id\").query(\"current_club_domestic_competition_id == 'GB1'\")\n",
    "pdf_joined[\"age\"] = (pd.to_datetime(pdf_joined[\"date\"]) - pd.to_datetime(pdf_joined[\"date_of_birth\"])).dt.days // 365\n",
    "pdf_joined[\"year\"] = pd.to_datetime(pdf_joined[\"date\"]).dt.year\n",
    "pdf_joined[\"month\"] = pd.to_datetime(pdf_joined[\"date\"]).dt.month\n",
    "\n",
    "pdf_joined[\"market_value_in_million_eur\"] = pdf_joined[\"market_value_in_eur\"] / 1000000"
   ]
  },
  {
   "cell_type": "code",
   "execution_count": 46,
   "id": "e319152d",
   "metadata": {},
   "outputs": [],
   "source": [
    "pdf_mvp = pdf_joined[[\"name\", \"player_id\", \"date_of_birth\", \"date\", \"market_value_in_million_eur\", \"age\", \"year\", \"month\" ]]"
   ]
  },
  {
   "cell_type": "code",
   "execution_count": 47,
   "id": "6dfe6090",
   "metadata": {},
   "outputs": [],
   "source": [
    "# Filter training and test sets\n",
    "train = pdf_mvp[pdf_mvp[\"year\"] <= 2022].sort_values(\"date\", ascending=False)\n",
    "test = pdf_mvp[(pdf_mvp[\"year\"] >= 2023)].sort_values(\"date\", ascending=False)"
   ]
  },
  {
   "cell_type": "code",
   "execution_count": 48,
   "id": "398a654b",
   "metadata": {},
   "outputs": [],
   "source": [
    "pdf_train_agg= train.query(\"year == 2022\").groupby([\"player_id\", \"name\"])[[\"date_of_birth\", \"market_value_in_million_eur\", \"age\"]].first().reset_index()"
   ]
  },
  {
   "cell_type": "code",
   "execution_count": 49,
   "id": "02a9ae43",
   "metadata": {},
   "outputs": [],
   "source": [
    "pdf_test_agg = test.query(\"year == 2023\").groupby([\"player_id\", \"name\"])[[\"date_of_birth\", \"market_value_in_million_eur\", \"age\"]].last().reset_index()"
   ]
  },
  {
   "cell_type": "code",
   "execution_count": 50,
   "id": "748f8b9b",
   "metadata": {},
   "outputs": [],
   "source": [
    "pdf_test_train = pdf_train_agg.merge(pdf_test_agg, on=[\"player_id\", \"name\"], suffixes=(\"_train\", \"_test\"))"
   ]
  },
  {
   "cell_type": "code",
   "execution_count": 51,
   "id": "fc6bf2a5",
   "metadata": {},
   "outputs": [
    {
     "data": {
      "application/vnd.microsoft.datawrangler.viewer.v0+json": {
       "columns": [
        {
         "name": "index",
         "rawType": "int64",
         "type": "integer"
        },
        {
         "name": "player_id",
         "rawType": "int64",
         "type": "integer"
        },
        {
         "name": "name",
         "rawType": "object",
         "type": "string"
        },
        {
         "name": "date_of_birth_train",
         "rawType": "object",
         "type": "string"
        },
        {
         "name": "market_value_in_million_eur_train",
         "rawType": "float64",
         "type": "float"
        },
        {
         "name": "age_train",
         "rawType": "int64",
         "type": "integer"
        },
        {
         "name": "date_of_birth_test",
         "rawType": "object",
         "type": "string"
        },
        {
         "name": "market_value_in_million_eur_test",
         "rawType": "float64",
         "type": "float"
        },
        {
         "name": "age_test",
         "rawType": "int64",
         "type": "integer"
        }
       ],
       "ref": "bfc8347f-d751-4abb-9e69-6e529ebb834d",
       "rows": [
        [
         "0",
         "2857",
         "Eldin Jakupovic",
         "1984-10-02 00:00:00",
         "0.2",
         "38",
         "1984-10-02 00:00:00",
         "0.1",
         "38"
        ],
        [
         "1",
         "3333",
         "James Milner",
         "1986-01-04 00:00:00",
         "2.0",
         "36",
         "1986-01-04 00:00:00",
         "1.5",
         "37"
        ],
        [
         "2",
         "3755",
         "Óscar Ustari",
         "1986-07-03 00:00:00",
         "1.0",
         "36",
         "1986-07-03 00:00:00",
         "1.0",
         "36"
        ],
        [
         "3",
         "6893",
         "Gabriel Tamas",
         "1983-11-09 00:00:00",
         "0.25",
         "38",
         "1983-11-09 00:00:00",
         "0.1",
         "39"
        ],
        [
         "4",
         "8198",
         "Cristiano Ronaldo",
         "1985-02-05 00:00:00",
         "20.0",
         "37",
         "1985-02-05 00:00:00",
         "15.0",
         "38"
        ],
        [
         "5",
         "10375",
         "Shaun MacDonald",
         "1988-06-17 00:00:00",
         "0.075",
         "34",
         "1988-06-17 00:00:00",
         "0.075",
         "34"
        ],
        [
         "6",
         "13520",
         "Phil Jagielka",
         "1982-08-17 00:00:00",
         "0.25",
         "40",
         "1982-08-17 00:00:00",
         "0.2",
         "40"
        ],
        [
         "7",
         "14044",
         "Andy Lonergan",
         "1983-10-19 00:00:00",
         "0.2",
         "39",
         "1983-10-19 00:00:00",
         "0.15",
         "39"
        ],
        [
         "8",
         "14086",
         "Ashley Young",
         "1985-07-09 00:00:00",
         "1.0",
         "37",
         "1985-07-09 00:00:00",
         "0.6",
         "37"
        ],
        [
         "9",
         "14555",
         "Scott Carson",
         "1985-09-03 00:00:00",
         "0.25",
         "37",
         "1985-09-03 00:00:00",
         "0.2",
         "37"
        ],
        [
         "10",
         "15773",
         "Phil Bardsley",
         "1985-06-28 00:00:00",
         "0.25",
         "36",
         "1985-06-28 00:00:00",
         "0.125",
         "37"
        ],
        [
         "11",
         "15930",
         "David Martin",
         "1986-01-22 00:00:00",
         "0.25",
         "36",
         "1986-01-22 00:00:00",
         "0.15",
         "37"
        ],
        [
         "12",
         "16306",
         "Casemiro",
         "1992-02-23 00:00:00",
         "50.0",
         "30",
         "1992-02-23 00:00:00",
         "40.0",
         "31"
        ],
        [
         "13",
         "17965",
         "Hugo Lloris",
         "1986-12-26 00:00:00",
         "7.0",
         "35",
         "1986-12-26 00:00:00",
         "4.0",
         "36"
        ],
        [
         "14",
         "18227",
         "Curtis Davies",
         "1985-03-15 00:00:00",
         "0.25",
         "37",
         "1985-03-15 00:00:00",
         "0.15",
         "38"
        ],
        [
         "15",
         "19948",
         "Willy Caballero",
         "1981-09-28 00:00:00",
         "0.2",
         "41",
         "1981-09-28 00:00:00",
         "0.15",
         "41"
        ],
        [
         "16",
         "26267",
         "Fernandinho",
         "1985-05-04 00:00:00",
         "1.0",
         "37",
         "1985-05-04 00:00:00",
         "0.8",
         "37"
        ],
        [
         "17",
         "29091",
         "Nenê",
         "1981-07-19 00:00:00",
         "0.2",
         "41",
         "1981-07-19 00:00:00",
         "0.2",
         "41"
        ],
        [
         "18",
         "29241",
         "Thiago Silva",
         "1984-09-22 00:00:00",
         "2.5",
         "38",
         "1984-09-22 00:00:00",
         "2.0",
         "38"
        ],
        [
         "19",
         "29692",
         "Lukasz Fabianski",
         "1985-04-18 00:00:00",
         "1.0",
         "37",
         "1985-04-18 00:00:00",
         "0.9",
         "38"
        ],
        [
         "20",
         "29712",
         "John Ruddy",
         "1986-10-24 00:00:00",
         "0.3",
         "36",
         "1986-10-24 00:00:00",
         "0.3",
         "36"
        ],
        [
         "21",
         "30982",
         "Chu-young Park",
         "1985-07-10 00:00:00",
         "0.175",
         "37",
         "1985-07-10 00:00:00",
         "0.1",
         "37"
        ],
        [
         "22",
         "31886",
         "Dusan Kuciak",
         "1985-05-21 00:00:00",
         "0.1",
         "37",
         "1985-05-21 00:00:00",
         "0.1",
         "38"
        ],
        [
         "23",
         "33027",
         "Tim Krul",
         "1988-04-03 00:00:00",
         "1.0",
         "34",
         "1988-04-03 00:00:00",
         "0.6",
         "35"
        ],
        [
         "24",
         "33507",
         "Lukas Jutkiewicz",
         "1989-03-28 00:00:00",
         "0.5",
         "33",
         "1989-03-28 00:00:00",
         "0.45",
         "34"
        ],
        [
         "25",
         "33713",
         "Theo Walcott",
         "1989-03-16 00:00:00",
         "1.8",
         "33",
         "1989-03-16 00:00:00",
         "1.0",
         "34"
        ],
        [
         "26",
         "33754",
         "Alex Smithies",
         "1990-03-05 00:00:00",
         "0.6",
         "32",
         "1990-03-05 00:00:00",
         "0.5",
         "33"
        ],
        [
         "27",
         "33873",
         "Asmir Begovic",
         "1987-06-20 00:00:00",
         "1.0",
         "35",
         "1987-06-20 00:00:00",
         "0.8",
         "36"
        ],
        [
         "28",
         "34130",
         "Tom Heaton",
         "1986-04-15 00:00:00",
         "0.6",
         "36",
         "1986-04-15 00:00:00",
         "0.5",
         "37"
        ],
        [
         "29",
         "34349",
         "Richard Stearman",
         "1987-08-19 00:00:00",
         "0.25",
         "34",
         "1987-08-19 00:00:00",
         "0.1",
         "35"
        ],
        [
         "30",
         "35413",
         "Lewis Grabban",
         "1988-01-12 00:00:00",
         "0.5",
         "34",
         "1988-01-12 00:00:00",
         "0.3",
         "35"
        ],
        [
         "31",
         "35416",
         "David McGoldrick",
         "1987-11-29 00:00:00",
         "1.0",
         "34",
         "1987-11-29 00:00:00",
         "0.3",
         "35"
        ],
        [
         "32",
         "36291",
         "Gaëtan Bong",
         "1988-04-25 00:00:00",
         "0.3",
         "34",
         "1988-04-25 00:00:00",
         "0.15",
         "35"
        ],
        [
         "33",
         "37304",
         "Shane Long",
         "1987-01-22 00:00:00",
         "0.3",
         "35",
         "1987-01-22 00:00:00",
         "0.25",
         "36"
        ],
        [
         "34",
         "37920",
         "Kamil Grosicki",
         "1988-06-08 00:00:00",
         "0.7",
         "34",
         "1988-06-08 00:00:00",
         "0.6",
         "35"
        ],
        [
         "35",
         "38073",
         "Martin Olsson",
         "1988-05-17 00:00:00",
         "0.3",
         "34",
         "1988-05-17 00:00:00",
         "0.3",
         "35"
        ],
        [
         "36",
         "38094",
         "Lee Peltier",
         "1986-12-11 00:00:00",
         "0.25",
         "35",
         "1986-12-11 00:00:00",
         "0.2",
         "36"
        ],
        [
         "37",
         "38145",
         "Adrian Mariappa",
         "1986-10-03 00:00:00",
         "0.25",
         "35",
         "1986-10-03 00:00:00",
         "0.15",
         "36"
        ],
        [
         "38",
         "39049",
         "Kei Kamara",
         "1984-09-01 00:00:00",
         "0.15",
         "38",
         "1984-09-01 00:00:00",
         "0.1",
         "38"
        ],
        [
         "39",
         "39372",
         "Mario Vrancic",
         "1989-05-23 00:00:00",
         "0.4",
         "33",
         "1989-05-23 00:00:00",
         "0.3",
         "33"
        ],
        [
         "40",
         "39378",
         "Jozy Altidore",
         "1989-11-06 00:00:00",
         "0.5",
         "33",
         "1989-11-06 00:00:00",
         "0.3",
         "33"
        ],
        [
         "41",
         "39471",
         "Brad Guzan",
         "1984-09-09 00:00:00",
         "0.1",
         "38",
         "1984-09-09 00:00:00",
         "0.1",
         "38"
        ],
        [
         "42",
         "39679",
         "Marouane Fellaini",
         "1987-11-22 00:00:00",
         "4.5",
         "34",
         "1987-11-22 00:00:00",
         "2.5",
         "35"
        ],
        [
         "43",
         "40611",
         "Ryan Bertrand",
         "1989-08-05 00:00:00",
         "1.0",
         "33",
         "1989-08-05 00:00:00",
         "0.8",
         "33"
        ],
        [
         "44",
         "40612",
         "Liam Bridcutt",
         "1989-05-08 00:00:00",
         "0.25",
         "33",
         "1989-05-08 00:00:00",
         "0.2",
         "34"
        ],
        [
         "45",
         "40613",
         "Jack Cork",
         "1989-06-25 00:00:00",
         "1.2",
         "33",
         "1989-06-25 00:00:00",
         "1.0",
         "33"
        ],
        [
         "46",
         "41416",
         "James McArthur",
         "1987-10-07 00:00:00",
         "0.7",
         "35",
         "1987-10-07 00:00:00",
         "0.4",
         "35"
        ],
        [
         "47",
         "42198",
         "Sone Aluko",
         "1989-02-19 00:00:00",
         "0.3",
         "33",
         "1989-02-19 00:00:00",
         "0.2",
         "34"
        ],
        [
         "48",
         "42411",
         "Fraizer Campbell",
         "1987-09-13 00:00:00",
         "0.3",
         "34",
         "1987-09-13 00:00:00",
         "0.15",
         "35"
        ],
        [
         "49",
         "42412",
         "Jonny Evans",
         "1988-01-03 00:00:00",
         "3.0",
         "34",
         "1988-01-03 00:00:00",
         "2.0",
         "35"
        ]
       ],
       "shape": {
        "columns": 8,
        "rows": 1236
       }
      },
      "text/html": [
       "<div>\n",
       "<style scoped>\n",
       "    .dataframe tbody tr th:only-of-type {\n",
       "        vertical-align: middle;\n",
       "    }\n",
       "\n",
       "    .dataframe tbody tr th {\n",
       "        vertical-align: top;\n",
       "    }\n",
       "\n",
       "    .dataframe thead th {\n",
       "        text-align: right;\n",
       "    }\n",
       "</style>\n",
       "<table border=\"1\" class=\"dataframe\">\n",
       "  <thead>\n",
       "    <tr style=\"text-align: right;\">\n",
       "      <th></th>\n",
       "      <th>player_id</th>\n",
       "      <th>name</th>\n",
       "      <th>date_of_birth_train</th>\n",
       "      <th>market_value_in_million_eur_train</th>\n",
       "      <th>age_train</th>\n",
       "      <th>date_of_birth_test</th>\n",
       "      <th>market_value_in_million_eur_test</th>\n",
       "      <th>age_test</th>\n",
       "    </tr>\n",
       "  </thead>\n",
       "  <tbody>\n",
       "    <tr>\n",
       "      <th>0</th>\n",
       "      <td>2857</td>\n",
       "      <td>Eldin Jakupovic</td>\n",
       "      <td>1984-10-02 00:00:00</td>\n",
       "      <td>0.20</td>\n",
       "      <td>38</td>\n",
       "      <td>1984-10-02 00:00:00</td>\n",
       "      <td>0.100</td>\n",
       "      <td>38</td>\n",
       "    </tr>\n",
       "    <tr>\n",
       "      <th>1</th>\n",
       "      <td>3333</td>\n",
       "      <td>James Milner</td>\n",
       "      <td>1986-01-04 00:00:00</td>\n",
       "      <td>2.00</td>\n",
       "      <td>36</td>\n",
       "      <td>1986-01-04 00:00:00</td>\n",
       "      <td>1.500</td>\n",
       "      <td>37</td>\n",
       "    </tr>\n",
       "    <tr>\n",
       "      <th>2</th>\n",
       "      <td>3755</td>\n",
       "      <td>Óscar Ustari</td>\n",
       "      <td>1986-07-03 00:00:00</td>\n",
       "      <td>1.00</td>\n",
       "      <td>36</td>\n",
       "      <td>1986-07-03 00:00:00</td>\n",
       "      <td>1.000</td>\n",
       "      <td>36</td>\n",
       "    </tr>\n",
       "    <tr>\n",
       "      <th>3</th>\n",
       "      <td>6893</td>\n",
       "      <td>Gabriel Tamas</td>\n",
       "      <td>1983-11-09 00:00:00</td>\n",
       "      <td>0.25</td>\n",
       "      <td>38</td>\n",
       "      <td>1983-11-09 00:00:00</td>\n",
       "      <td>0.100</td>\n",
       "      <td>39</td>\n",
       "    </tr>\n",
       "    <tr>\n",
       "      <th>4</th>\n",
       "      <td>8198</td>\n",
       "      <td>Cristiano Ronaldo</td>\n",
       "      <td>1985-02-05 00:00:00</td>\n",
       "      <td>20.00</td>\n",
       "      <td>37</td>\n",
       "      <td>1985-02-05 00:00:00</td>\n",
       "      <td>15.000</td>\n",
       "      <td>38</td>\n",
       "    </tr>\n",
       "    <tr>\n",
       "      <th>...</th>\n",
       "      <td>...</td>\n",
       "      <td>...</td>\n",
       "      <td>...</td>\n",
       "      <td>...</td>\n",
       "      <td>...</td>\n",
       "      <td>...</td>\n",
       "      <td>...</td>\n",
       "      <td>...</td>\n",
       "    </tr>\n",
       "    <tr>\n",
       "      <th>1231</th>\n",
       "      <td>996897</td>\n",
       "      <td>Diego Gómez</td>\n",
       "      <td>2003-03-27 00:00:00</td>\n",
       "      <td>2.00</td>\n",
       "      <td>19</td>\n",
       "      <td>2003-03-27 00:00:00</td>\n",
       "      <td>3.000</td>\n",
       "      <td>20</td>\n",
       "    </tr>\n",
       "    <tr>\n",
       "      <th>1232</th>\n",
       "      <td>1009658</td>\n",
       "      <td>Julio Soler</td>\n",
       "      <td>2005-02-16 00:00:00</td>\n",
       "      <td>0.20</td>\n",
       "      <td>17</td>\n",
       "      <td>2005-02-16 00:00:00</td>\n",
       "      <td>0.200</td>\n",
       "      <td>18</td>\n",
       "    </tr>\n",
       "    <tr>\n",
       "      <th>1233</th>\n",
       "      <td>1012534</td>\n",
       "      <td>Yankuba Minteh</td>\n",
       "      <td>2004-07-22 00:00:00</td>\n",
       "      <td>0.30</td>\n",
       "      <td>18</td>\n",
       "      <td>2004-07-22 00:00:00</td>\n",
       "      <td>2.000</td>\n",
       "      <td>18</td>\n",
       "    </tr>\n",
       "    <tr>\n",
       "      <th>1234</th>\n",
       "      <td>1031293</td>\n",
       "      <td>Ryan Oné</td>\n",
       "      <td>2006-06-26 00:00:00</td>\n",
       "      <td>0.05</td>\n",
       "      <td>16</td>\n",
       "      <td>2006-06-26 00:00:00</td>\n",
       "      <td>0.125</td>\n",
       "      <td>16</td>\n",
       "    </tr>\n",
       "    <tr>\n",
       "      <th>1235</th>\n",
       "      <td>1060740</td>\n",
       "      <td>Enso González</td>\n",
       "      <td>2005-01-20 00:00:00</td>\n",
       "      <td>0.80</td>\n",
       "      <td>17</td>\n",
       "      <td>2005-01-20 00:00:00</td>\n",
       "      <td>1.900</td>\n",
       "      <td>18</td>\n",
       "    </tr>\n",
       "  </tbody>\n",
       "</table>\n",
       "<p>1236 rows × 8 columns</p>\n",
       "</div>"
      ],
      "text/plain": [
       "      player_id               name  date_of_birth_train  \\\n",
       "0          2857    Eldin Jakupovic  1984-10-02 00:00:00   \n",
       "1          3333       James Milner  1986-01-04 00:00:00   \n",
       "2          3755       Óscar Ustari  1986-07-03 00:00:00   \n",
       "3          6893      Gabriel Tamas  1983-11-09 00:00:00   \n",
       "4          8198  Cristiano Ronaldo  1985-02-05 00:00:00   \n",
       "...         ...                ...                  ...   \n",
       "1231     996897        Diego Gómez  2003-03-27 00:00:00   \n",
       "1232    1009658        Julio Soler  2005-02-16 00:00:00   \n",
       "1233    1012534     Yankuba Minteh  2004-07-22 00:00:00   \n",
       "1234    1031293           Ryan Oné  2006-06-26 00:00:00   \n",
       "1235    1060740      Enso González  2005-01-20 00:00:00   \n",
       "\n",
       "      market_value_in_million_eur_train  age_train   date_of_birth_test  \\\n",
       "0                                  0.20         38  1984-10-02 00:00:00   \n",
       "1                                  2.00         36  1986-01-04 00:00:00   \n",
       "2                                  1.00         36  1986-07-03 00:00:00   \n",
       "3                                  0.25         38  1983-11-09 00:00:00   \n",
       "4                                 20.00         37  1985-02-05 00:00:00   \n",
       "...                                 ...        ...                  ...   \n",
       "1231                               2.00         19  2003-03-27 00:00:00   \n",
       "1232                               0.20         17  2005-02-16 00:00:00   \n",
       "1233                               0.30         18  2004-07-22 00:00:00   \n",
       "1234                               0.05         16  2006-06-26 00:00:00   \n",
       "1235                               0.80         17  2005-01-20 00:00:00   \n",
       "\n",
       "      market_value_in_million_eur_test  age_test  \n",
       "0                                0.100        38  \n",
       "1                                1.500        37  \n",
       "2                                1.000        36  \n",
       "3                                0.100        39  \n",
       "4                               15.000        38  \n",
       "...                                ...       ...  \n",
       "1231                             3.000        20  \n",
       "1232                             0.200        18  \n",
       "1233                             2.000        18  \n",
       "1234                             0.125        16  \n",
       "1235                             1.900        18  \n",
       "\n",
       "[1236 rows x 8 columns]"
      ]
     },
     "execution_count": 51,
     "metadata": {},
     "output_type": "execute_result"
    }
   ],
   "source": [
    "pdf_test_train"
   ]
  },
  {
   "cell_type": "code",
   "execution_count": 52,
   "id": "328840e0",
   "metadata": {},
   "outputs": [
    {
     "name": "stdout",
     "output_type": "stream",
     "text": [
      "Root Mean Squared Error: 3.8957\n",
      "R² = 0.934\n"
     ]
    }
   ],
   "source": [
    "\n",
    "\n",
    "# Prepare features and target, now including market_value_in_eur as a feature\n",
    "\n",
    "\n",
    "\n",
    "features = [\n",
    "            \"age_train\", \n",
    "            \"market_value_in_million_eur_train\"]\n",
    "target = \"market_value_in_million_eur_test\"\n",
    "\n",
    "X = pdf_test_train[features]\n",
    "y = pdf_test_train[target]\n",
    "\n",
    "X_train, X_test, y_train, y_test = train_test_split(X, y, test_size=0.3, random_state=42)\n",
    "\n",
    "# Fit Decision Tree on current age and value\n",
    "regressor = DecisionTreeRegressor(max_depth=5, random_state=42)\n",
    "regressor.fit(X_train, y_train)\n",
    "\n",
    "y_pred = regressor.predict(X_test)\n",
    "\n",
    "mse = root_mean_squared_error(y_test, y_pred)\n",
    "print(f\"Root Mean Squared Error: {mse:.4f}\")\n",
    "\n",
    "r2 = r2_score(y_test, y_pred)\n",
    "print(f\"R² = {r2:.3f}\")"
   ]
  },
  {
   "cell_type": "code",
   "execution_count": 53,
   "id": "3ef0ca8e",
   "metadata": {},
   "outputs": [
    {
     "data": {
      "image/png": "[encoded data removed]",
      "text/plain": [
       "<Figure size 3600x1800 with 1 Axes>"
      ]
     },
     "metadata": {},
     "output_type": "display_data"
    }
   ],
   "source": [
    "\n",
    "\n",
    "plt.figure(figsize=(36, 18))\n",
    "tree.plot_tree(regressor, feature_names=features, filled=True, fontsize=8)\n",
    "plt.title(\"Decision Tree for Market Value Prediction (max_depth=5)\")\n",
    "plt.show()"
   ]
  },
  {
   "cell_type": "code",
   "execution_count": 54,
   "id": "37b6a562",
   "metadata": {},
   "outputs": [
    {
     "data": {
      "image/png": "[encoded data removed]",
      "text/plain": [
       "<Figure size 600x400 with 1 Axes>"
      ]
     },
     "metadata": {},
     "output_type": "display_data"
    }
   ],
   "source": [
    "# Plot feature importance for the decision tree\n",
    "feature_names = features\n",
    "importances = regressor.feature_importances_\n",
    "\n",
    "plt.figure(figsize=(6, 4))\n",
    "plt.bar(feature_names, importances)\n",
    "plt.ylabel(\"Feature Importance\")\n",
    "plt.title(\"Decision Tree Feature Importance\")\n",
    "plt.show()"
   ]
  },
  {
   "cell_type": "code",
   "execution_count": 55,
   "id": "e7b253a0",
   "metadata": {},
   "outputs": [],
   "source": [
    "X_test[\"market_value_in_eur_test\"] = y_test\n",
    "X_test[\"prediction\"] = y_pred"
   ]
  },
  {
   "cell_type": "code",
   "execution_count": 56,
   "id": "a12cb755",
   "metadata": {},
   "outputs": [],
   "source": [
    "pdf_output = X_test.merge(pdf_test_train[[\"player_id\", \"name\"]], left_index=True, right_index=True, how=\"left\")"
   ]
  },
  {
   "cell_type": "code",
   "execution_count": 57,
   "id": "a627f3a1",
   "metadata": {},
   "outputs": [
    {
     "data": {
      "application/vnd.plotly.v1+json": {
       "config": {
        "plotlyServerURL": "https://plot.ly"
       },
       "data": [
        {
         "customdata": [
          [
           "Abdoulaye Doucouré"
          ],
          [
           "Karlan Grant"
          ],
          [
           "Danilo"
          ],
          [
           "James Tomkins"
          ],
          [
           "Philippe Coutinho"
          ],
          [
           "Kepa Arrizabalaga"
          ],
          [
           "Przemyslaw Placheta"
          ],
          [
           "Gethin Jones"
          ],
          [
           "Tiago Cukur"
          ],
          [
           "Joseph Anang"
          ],
          [
           "Antonín Kinský"
          ],
          [
           "Ryan Fredericks"
          ],
          [
           "James Maddison"
          ],
          [
           "Jake Walker"
          ],
          [
           "Elliot Embleton"
          ],
          [
           "Jayson Molumby"
          ],
          [
           "Christopher Nkunku"
          ],
          [
           "Victor Wanyama"
          ],
          [
           "Fabian Schär"
          ],
          [
           "Dara Costelloe"
          ],
          [
           "Mesca"
          ],
          [
           "Kevin Schade"
          ],
          [
           "Matija Sarkic"
          ],
          [
           "Libor Kozak"
          ],
          [
           "Emilio Nsue"
          ],
          [
           "Lewis Cook"
          ],
          [
           "Ryan Bertrand"
          ],
          [
           "Tayo Adaramola"
          ],
          [
           "Samuel Shashoua"
          ],
          [
           "Bobby De Cordova-Reid"
          ],
          [
           "Alpha Diounkou"
          ],
          [
           "Marvelous Nakamba"
          ],
          [
           "James Hill"
          ],
          [
           "Tyrone Mings"
          ],
          [
           "Conor McGrandles"
          ],
          [
           "Scott Malone"
          ],
          [
           "Jamie Cumming"
          ],
          [
           "David Cornell"
          ],
          [
           "Chris Mepham"
          ],
          [
           "Jonathan Williams"
          ],
          [
           "Gary Gardner"
          ],
          [
           "Ken Sema"
          ],
          [
           "Josh Dasilva"
          ],
          [
           "Shayne Lavery"
          ],
          [
           "Jonathan Bond"
          ],
          [
           "Chris Löwe"
          ],
          [
           "Saïd Benrahma"
          ],
          [
           "Bradley Johnson"
          ],
          [
           "Leny Yoro"
          ],
          [
           "Jonny Evans"
          ],
          [
           "Daniel Muñoz"
          ],
          [
           "Carlos Soler"
          ],
          [
           "Philip Heise"
          ],
          [
           "Rayhaan Tulloch"
          ],
          [
           "Jérémy Doku"
          ],
          [
           "Tyrick Mitchell"
          ],
          [
           "Leif Davis"
          ],
          [
           "Chiedozie Ogbene"
          ],
          [
           "Wayne Hennessey"
          ],
          [
           "Moussa Diaby"
          ],
          [
           "Liam Bridcutt"
          ],
          [
           "Felipe"
          ],
          [
           "Rhys Williams"
          ],
          [
           "Sam Gallagher"
          ],
          [
           "Daniel Bentley"
          ],
          [
           "Ezequiel Schelotto"
          ],
          [
           "Kevin Toner"
          ],
          [
           "Eberechi Eze"
          ],
          [
           "Callum Wilson"
          ],
          [
           "Odion Ighalo"
          ],
          [
           "Sam Vokes"
          ],
          [
           "Karl Darlow"
          ],
          [
           "Andrew Robertson"
          ],
          [
           "Sam McCallum"
          ],
          [
           "Joe Whitworth"
          ],
          [
           "Massimo Luongo"
          ],
          [
           "Joe Taylor"
          ],
          [
           "Derrick Williams"
          ],
          [
           "Adam Smith"
          ],
          [
           "Ismaïla Sarr"
          ],
          [
           "Adedeji Oshilaja"
          ],
          [
           "Eirik Johansen"
          ],
          [
           "Sam Byram"
          ],
          [
           "Joe Gelhardt"
          ],
          [
           "Di'Shon Bernard"
          ],
          [
           "Matheus Nunes"
          ],
          [
           "Jed Steer"
          ],
          [
           "David Luiz"
          ],
          [
           "Ryan Ledson"
          ],
          [
           "Tim Krul"
          ],
          [
           "Pablo Sarabia"
          ],
          [
           "Aji Alese"
          ],
          [
           "Diego Costa"
          ],
          [
           "Remi Matthews"
          ],
          [
           "Kaoru Mitoma"
          ],
          [
           "Martin Ødegaard"
          ],
          [
           "Christian Nørgaard"
          ],
          [
           "Tom Davies"
          ],
          [
           "Andreas Weimann"
          ],
          [
           "Timo Werner"
          ],
          [
           "Oliver Casey"
          ],
          [
           "Konstantinos Tsimikas"
          ],
          [
           "Juan Agudelo"
          ],
          [
           "Marcus Rashford"
          ],
          [
           "Will Mannion"
          ],
          [
           "Jonathan Kodjia"
          ],
          [
           "Lewis Dunk"
          ],
          [
           "Jayden Bogle"
          ],
          [
           "Daniel Ayala"
          ],
          [
           "Ahmed Hegazy"
          ],
          [
           "Gaetano Berardi"
          ],
          [
           "Freddie Woodman"
          ],
          [
           "Ben White"
          ],
          [
           "Ibrahima Diallo"
          ],
          [
           "Caleb Taylor"
          ],
          [
           "Kevin Stewart"
          ],
          [
           "André"
          ],
          [
           "Brooklyn Genesini"
          ],
          [
           "Riyad Mahrez"
          ],
          [
           "Dale Taylor"
          ],
          [
           "Erik Pieters"
          ],
          [
           "Jamie Shackleton"
          ],
          [
           "Ethan Laird"
          ],
          [
           "Julio Soler"
          ],
          [
           "Bojan Krkic"
          ],
          [
           "Carlos Sánchez"
          ],
          [
           "Justin Kluivert"
          ],
          [
           "Dan Nlundulu"
          ],
          [
           "Thiago Alcántara"
          ],
          [
           "Joe Rodon"
          ],
          [
           "James Husband"
          ],
          [
           "Luke McNally"
          ],
          [
           "Harvey Elliott"
          ],
          [
           "Adam Webster"
          ],
          [
           "Louie Moulden"
          ],
          [
           "Greg Cunningham"
          ],
          [
           "Gustavo Hamer"
          ],
          [
           "Harry Toffolo"
          ],
          [
           "Grant Hanley"
          ],
          [
           "Joe Gomez"
          ],
          [
           "Joe Ralls"
          ],
          [
           "Amadou Onana"
          ],
          [
           "Rasmus Højlund"
          ],
          [
           "Charly Musonda Jr."
          ],
          [
           "Charlie Taylor"
          ],
          [
           "Alexander Isak"
          ],
          [
           "Akin Famewo"
          ],
          [
           "Jamal Blackman"
          ],
          [
           "Rico Lewis"
          ],
          [
           "Claudio Gomes"
          ],
          [
           "D'Mani Mellor"
          ],
          [
           "Marc Cucurella"
          ],
          [
           "Daniel Jebbison"
          ],
          [
           "Alexandre Jankewitz"
          ],
          [
           "Rúben Dias"
          ],
          [
           "Kenny Tete"
          ],
          [
           "Luke McGee"
          ],
          [
           "Sean Maguire"
          ],
          [
           "Carlos Baleba"
          ],
          [
           "Dion Sanderson"
          ],
          [
           "Matheus Cunha"
          ],
          [
           "Jorginho"
          ],
          [
           "Valentin Roberge"
          ],
          [
           "Brandon Austin"
          ],
          [
           "Grady Diangana"
          ],
          [
           "Phil Bardsley"
          ],
          [
           "Bernd Leno"
          ],
          [
           "Alex Palmer"
          ],
          [
           "Nathan Ferguson"
          ],
          [
           "Connor Roberts"
          ],
          [
           "Nathaniel Phillips"
          ],
          [
           "Edouard Mendy"
          ],
          [
           "Mateusz Klich"
          ],
          [
           "Gabriel Jesus"
          ],
          [
           "Morgan Gibbs-White"
          ],
          [
           "Ricardo Pereira"
          ],
          [
           "Simon Moore"
          ],
          [
           "Lyanco"
          ],
          [
           "Daniel Barden"
          ],
          [
           "Ben Heneghan"
          ],
          [
           "George Thomas"
          ],
          [
           "Tom McGill"
          ],
          [
           "Ross Barkley"
          ],
          [
           "Sam Baldock"
          ],
          [
           "Joel Ward"
          ],
          [
           "Ben Brereton Díaz"
          ],
          [
           "André Onana"
          ],
          [
           "Ashley Fletcher"
          ],
          [
           "Ilya Zabarnyi"
          ],
          [
           "Idrissa Gueye"
          ],
          [
           "Ben Mee"
          ],
          [
           "Kyle Bartley"
          ],
          [
           "Yasser Larouci"
          ],
          [
           "Bo-kyung Kim"
          ],
          [
           "Takehiro Tomiyasu"
          ],
          [
           "Luke Thomas"
          ],
          [
           "Filip Jørgensen"
          ],
          [
           "Yoane Wissa"
          ],
          [
           "Sean Longstaff"
          ],
          [
           "Darwin Núñez"
          ],
          [
           "Matt Clarke"
          ],
          [
           "Tyler Onyango"
          ],
          [
           "Bobby Clark"
          ],
          [
           "Lynden Gooch"
          ],
          [
           "Kalidou Koulibaly"
          ],
          [
           "Harry Wilson"
          ],
          [
           "Borja Bastón"
          ],
          [
           "Markus Henriksen"
          ],
          [
           "Alphonse Areola"
          ],
          [
           "Niclas Füllkrug"
          ],
          [
           "Allan Tchaptchet"
          ],
          [
           "Karlo Ziger"
          ],
          [
           "Luka Milivojevic"
          ],
          [
           "Oliver Scarles"
          ],
          [
           "Marco Asensio"
          ],
          [
           "Rory Donnelly"
          ],
          [
           "Soufyan Ahannach"
          ],
          [
           "Steve Cook"
          ],
          [
           "Louie Watson"
          ],
          [
           "Armstrong Oko-Flex"
          ],
          [
           "Armando Broja"
          ],
          [
           "Antonee Robinson"
          ],
          [
           "Virgil van Dijk"
          ],
          [
           "Willy Boly"
          ],
          [
           "Regan Slater"
          ],
          [
           "Charlie Patino"
          ],
          [
           "Mathys Tel"
          ],
          [
           "Tomer Hemed"
          ],
          [
           "George Honeyman"
          ],
          [
           "Lino Sousa"
          ],
          [
           "Jack Robinson"
          ],
          [
           "James Furlong"
          ],
          [
           "Manor Solomon"
          ],
          [
           "Rodrigo Muniz"
          ],
          [
           "Robbie Brady"
          ],
          [
           "Joe Lolley"
          ],
          [
           "Dominic Solanke"
          ],
          [
           "Lucas De Bolle"
          ],
          [
           "Jay Rodríguez"
          ],
          [
           "Steven Alzate"
          ],
          [
           "Will Smallbone"
          ],
          [
           "Chung-yong Lee"
          ],
          [
           "David McGoldrick"
          ],
          [
           "Matt Doherty"
          ],
          [
           "Sepp van den Berg"
          ],
          [
           "Adam Reach"
          ],
          [
           "Krystian Bielik"
          ],
          [
           "Iliman Ndiaye"
          ],
          [
           "Dion Pereira"
          ],
          [
           "Donald Love"
          ],
          [
           "Mohammed Kudus"
          ],
          [
           "Pascal Struijk"
          ],
          [
           "Joe Allen"
          ],
          [
           "Manuel Ugarte"
          ],
          [
           "Trevoh Chalobah"
          ],
          [
           "Nahki Wells"
          ],
          [
           "Cody Drameh"
          ],
          [
           "Janoi Donacien"
          ],
          [
           "Benson Manuel"
          ],
          [
           "Pontus Dahlberg"
          ],
          [
           "Jesse Lingard"
          ],
          [
           "Henri Lansbury"
          ],
          [
           "Lucas Digne"
          ],
          [
           "Carlos Miguel"
          ],
          [
           "Vitaliy Mykolenko"
          ],
          [
           "Jason McCarthy"
          ],
          [
           "Jake Clarke-Salter"
          ],
          [
           "Altay Bayındır"
          ],
          [
           "Djed Spence"
          ],
          [
           "Matt Turner"
          ],
          [
           "Carl Jenkinson"
          ],
          [
           "Guido Rodríguez"
          ],
          [
           "Dara O'Shea"
          ],
          [
           "Ollie O'Neill"
          ],
          [
           "Christian Benteke"
          ],
          [
           "Troy Deeney"
          ],
          [
           "Joe Lumley"
          ],
          [
           "Kurt Zouma"
          ],
          [
           "Albert Grønbaek"
          ],
          [
           "Fabinho"
          ],
          [
           "Joe Mason"
          ],
          [
           "Axel Tuanzebe"
          ],
          [
           "Igor"
          ],
          [
           "Siriki Dembélé"
          ],
          [
           "Manuel Akanji"
          ],
          [
           "David Stockdale"
          ],
          [
           "Malcolm Ebiowei"
          ],
          [
           "Michal Zyro"
          ],
          [
           "David Brooks"
          ],
          [
           "John McGinn"
          ],
          [
           "Ming-Yang Yang"
          ],
          [
           "Luke Ayling"
          ],
          [
           "Djair Parfitt-Williams"
          ],
          [
           "Nico González"
          ],
          [
           "Lyle Taylor"
          ],
          [
           "Luke Harris"
          ],
          [
           "Tom Cairney"
          ],
          [
           "Jordan Pickford"
          ],
          [
           "Álex Moreno"
          ],
          [
           "Tendayi Darikwa"
          ],
          [
           "Callum Hudson-Odoi"
          ],
          [
           "Adnan Maric"
          ],
          [
           "Josh Knight"
          ],
          [
           "Calvin Bassey"
          ],
          [
           "Jordan Williams"
          ],
          [
           "Michal Karbownik"
          ],
          [
           "Aaron Connolly"
          ],
          [
           "Nathan"
          ],
          [
           "Ian Poveda"
          ],
          [
           "Bradley Ibrahim"
          ],
          [
           "Mark Travers"
          ],
          [
           "Arijanet Muric"
          ],
          [
           "Daniel Grimshaw"
          ],
          [
           "Ben Greenwood"
          ],
          [
           "George Saville"
          ],
          [
           "Mario Vrancic"
          ],
          [
           "Lewis Grabban"
          ],
          [
           "Emiliano Martínez"
          ],
          [
           "Kaine Kesler-Hayden"
          ],
          [
           "Ryan Bennett"
          ],
          [
           "Rodrigo"
          ],
          [
           "Pedro Porro"
          ],
          [
           "Dan Potts"
          ],
          [
           "Caleb Watts"
          ],
          [
           "Gabriel Tamas"
          ],
          [
           "Barry Bannan"
          ],
          [
           "Micky van de Ven"
          ],
          [
           "Lukas Jensen"
          ],
          [
           "Josh Murphy"
          ],
          [
           "Michael Obafemi"
          ],
          [
           "Sandro Tonali"
          ],
          [
           "Harry Burgoyne"
          ],
          [
           "Dan Burn"
          ],
          [
           "Mark O'Mahony"
          ],
          [
           "Blair Turgott"
          ],
          [
           "Emil Krafth"
          ],
          [
           "Rodrigo Bentancur"
          ],
          [
           "Shaun MacDonald"
          ],
          [
           "Magnus Wolff Eikrem"
          ],
          [
           "Regan Poole"
          ],
          [
           "Wes Burns"
          ],
          [
           "Dan Barlaser"
          ],
          [
           "Curtis Jones"
          ],
          [
           "Gabriel Magalhães"
          ],
          [
           "Ibrahima Konaté"
          ],
          [
           "Tariqe Fosu"
          ],
          [
           "Jordan Ayew"
          ],
          [
           "Diogo Dalot"
          ],
          [
           "Malo Gusto"
          ],
          [
           "Tolaji Bola"
          ],
          [
           "Ben Davies"
          ],
          [
           "Luke Daniels"
          ],
          [
           "Chris Martin"
          ],
          [
           "Corey Blackett-Taylor"
          ],
          [
           "Adama Diomande"
          ],
          [
           "Casemiro"
          ],
          [
           "Indiana Vassilev"
          ],
          [
           "Lisandro Martínez"
          ],
          [
           "Nathaniel Chalobah"
          ],
          [
           "Calum Chambers"
          ],
          [
           "Simon Adingra"
          ],
          [
           "João Pedro"
          ],
          [
           "Pau Torres"
          ],
          [
           "Dael Fry"
          ],
          [
           "Liam Gibbs"
          ],
          [
           "Tommy Doyle"
          ],
          [
           "Andrew Irving"
          ],
          [
           "Sven Botman"
          ],
          [
           "Chadi Riad"
          ],
          [
           "Patson Daka"
          ],
          [
           "Paul Onuachu"
          ]
         ],
         "hovertemplate": "market_value_in_eur_test=%{x}<br>prediction=%{y}<br>name=%{customdata[0]}<extra></extra>",
         "legendgroup": "",
         "marker": {
          "color": "#636efa",
          "symbol": "circle"
         },
         "mode": "markers",
         "name": "",
         "orientation": "v",
         "showlegend": false,
         "type": "scatter",
         "x": [
          12,
          4.5,
          28,
          0.8,
          14,
          18,
          1.8,
          0.35,
          0.3,
          0.25,
          0.3,
          1.5,
          60,
          0.075,
          1.2,
          2.8,
          80,
          2.5,
          10,
          0.3,
          0.3,
          20,
          2,
          0.275,
          0.25,
          10,
          0.8,
          0.8,
          1,
          7,
          0.3,
          4,
          1,
          22,
          0.4,
          0.7,
          1,
          0.25,
          8,
          0.35,
          0.6,
          2.5,
          16,
          0.8,
          0.8,
          0.15,
          25,
          0.2,
          8,
          2,
          9,
          30,
          0.6,
          0.2,
          28,
          22,
          1,
          2,
          0.4,
          50,
          0.2,
          2,
          2,
          3.5,
          2,
          0.05,
          0.15,
          40,
          16,
          1.8,
          0.45,
          1.2,
          48,
          2.5,
          0.9,
          0.35,
          0.2,
          0.6,
          0.2,
          20,
          0.3,
          0.1,
          1.5,
          8,
          2.5,
          45,
          0.5,
          0.6,
          1.5,
          0.6,
          16,
          1.2,
          2,
          0.35,
          22,
          80,
          16,
          9,
          1.5,
          25,
          0.3,
          18,
          0.4,
          80,
          0.15,
          0.6,
          16,
          3.8,
          0.7,
          2.5,
          0.05,
          6,
          50,
          7,
          0.9,
          0.3,
          14,
          0.05,
          20,
          0.5,
          0.35,
          2,
          8,
          0.2,
          0.5,
          0.25,
          12,
          0.9,
          15,
          8,
          0.6,
          2.2,
          35,
          25,
          0.2,
          0.3,
          4.5,
          3.5,
          2,
          22,
          1.8,
          42,
          35,
          0.6,
          3.5,
          70,
          0.3,
          0.4,
          15,
          1.4,
          0.3,
          40,
          1,
          0.5,
          80,
          12,
          0.2,
          0.6,
          3,
          4,
          30,
          25,
          0.3,
          0.3,
          4.5,
          0.125,
          12,
          0.9,
          1.2,
          8,
          4,
          18,
          2,
          75,
          30,
          10,
          0.3,
          3.5,
          0.2,
          0.25,
          0.3,
          0.6,
          9,
          0.15,
          1.2,
          16,
          20,
          0.8,
          18,
          5,
          2,
          0.6,
          3.5,
          0.7,
          25,
          12,
          1.5,
          18,
          25,
          65,
          3.5,
          0.45,
          0.35,
          1.2,
          25,
          13,
          3.5,
          0.9,
          8,
          13,
          0.8,
          0.05,
          2,
          0.4,
          25,
          0.15,
          0.35,
          1.8,
          0.25,
          0.5,
          28,
          12,
          45,
          2.5,
          2.8,
          8,
          20,
          0.2,
          1.2,
          2,
          0.7,
          0.275,
          18,
          5,
          0.6,
          1.8,
          20,
          0.125,
          1,
          4,
          3.5,
          0.5,
          0.3,
          9,
          5,
          1,
          2.8,
          15,
          0.2,
          0.25,
          30,
          18,
          0.9,
          25,
          18,
          0.7,
          3.5,
          0.3,
          7,
          0.8,
          12,
          0.3,
          17,
          1,
          25,
          0.35,
          2,
          13,
          10,
          8,
          0.45,
          28,
          5,
          0.25,
          2.5,
          0.4,
          0.8,
          28,
          5,
          45,
          0.2,
          4.5,
          10,
          2,
          38,
          0.15,
          3,
          0.15,
          12,
          27,
          0.2,
          1.8,
          0.2,
          10,
          0.3,
          1,
          2,
          25,
          15,
          0.45,
          17,
          0.225,
          0.9,
          15,
          0.9,
          3,
          4,
          2.5,
          0.9,
          0.4,
          2,
          6,
          0.5,
          0.2,
          2.5,
          0.3,
          0.3,
          28,
          1.8,
          0.5,
          6,
          35,
          1,
          0.25,
          0.1,
          0.5,
          18,
          0.25,
          0.9,
          5,
          50,
          0.15,
          10,
          0.3,
          0.6,
          3,
          40,
          0.075,
          0.75,
          0.45,
          0.9,
          2,
          17,
          50,
          38,
          1.8,
          5,
          35,
          25,
          0.15,
          15,
          0.15,
          0.3,
          0.3,
          0.2,
          40,
          1,
          50,
          1.8,
          8,
          10,
          24,
          45,
          4.5,
          2.8,
          5,
          0.8,
          45,
          0.5,
          18,
          17
         ],
         "xaxis": "x",
         "y": [
          10.324074074074074,
          6.916666666666667,
          23.657894736842106,
          1.4061855670103096,
          16.75,
          16.647058823529413,
          2.8397727272727282,
          0.30427927927927906,
          0.30427927927927906,
          0.30427927927927906,
          0.30427927927927906,
          1.4061855670103096,
          57.166666666666664,
          0.30427927927927906,
          2.8397727272727282,
          2.8397727272727282,
          80,
          3.9810810810810806,
          10.324074074074074,
          0.30427927927927906,
          0.30427927927927906,
          15.25,
          2.8397727272727282,
          0.30427927927927906,
          0.30427927927927906,
          10.324074074074074,
          1.4061855670103096,
          2.8397727272727282,
          2.8397727272727282,
          6.916666666666667,
          0.30427927927927906,
          3.9810810810810806,
          2.8397727272727282,
          18.75,
          0.30427927927927906,
          1.4061855670103096,
          0.705217391304348,
          0.30427927927927906,
          6.916666666666667,
          0.30427927927927906,
          0.705217391304348,
          1.4061855670103096,
          10.324074074074074,
          0.705217391304348,
          0.705217391304348,
          0.30427927927927906,
          23.657894736842106,
          0.30427927927927906,
          2.8397727272727282,
          1.4061855670103096,
          6.916666666666667,
          35.214285714285715,
          0.705217391304348,
          0.30427927927927906,
          20.875,
          31.047619047619047,
          0.705217391304348,
          2.8397727272727282,
          0.705217391304348,
          54.25,
          0.30427927927927906,
          1.4061855670103096,
          2.8397727272727282,
          3.9810810810810806,
          1.4061855670103096,
          0.30427927927927906,
          0.30427927927927906,
          31.047619047619047,
          16.75,
          1.4061855670103096,
          0.30427927927927906,
          1.4061855670103096,
          57.166666666666664,
          2.8397727272727282,
          0.30427927927927906,
          0.30427927927927906,
          0.30427927927927906,
          0.705217391304348,
          0.30427927927927906,
          23.657894736842106,
          0.30427927927927906,
          0.30427927927927906,
          1.4061855670103096,
          15.25,
          7,
          54.25,
          0.705217391304348,
          0.705217391304348,
          2.8397727272727282,
          1.4061855670103096,
          18.75,
          2.8397727272727282,
          3.9810810810810806,
          0.30427927927927906,
          10.324074074074074,
          65,
          16.647058823529413,
          10.324074074074074,
          1.4061855670103096,
          23.657894736842106,
          0.30427927927927906,
          16.75,
          0.30427927927927906,
          57.166666666666664,
          0.30427927927927906,
          0.705217391304348,
          16.75,
          7,
          1.4061855670103096,
          1.4061855670103096,
          0.30427927927927906,
          6.916666666666667,
          42.25,
          10.324074074074074,
          0.30427927927927906,
          0.30427927927927906,
          10.324074074074074,
          0.30427927927927906,
          21,
          0.30427927927927906,
          0.30427927927927906,
          2.8397727272727282,
          7,
          0.30427927927927906,
          0.705217391304348,
          0.30427927927927906,
          16.647058823529413,
          2.8397727272727282,
          16.75,
          10.324074074074074,
          0.705217391304348,
          0.705217391304348,
          47.5,
          23.657894736842106,
          0.30427927927927906,
          0.30427927927927906,
          2.8397727272727282,
          3.9810810810810806,
          1.4061855670103096,
          31.047619047619047,
          1.4061855670103096,
          47.5,
          16.647058823529413,
          0.705217391304348,
          1.4061855670103096,
          54.25,
          0.30427927927927906,
          0.705217391304348,
          2.8397727272727282,
          2.8397727272727282,
          0.30427927927927906,
          65,
          2.8397727272727282,
          0.705217391304348,
          72.5,
          6.916666666666667,
          0.30427927927927906,
          0.705217391304348,
          0.705217391304348,
          2.8397727272727282,
          23.657894736842106,
          35.214285714285715,
          0.30427927927927906,
          0.30427927927927906,
          6.916666666666667,
          0.30427927927927906,
          10.324074074074074,
          0.705217391304348,
          2.8397727272727282,
          6.916666666666667,
          6.916666666666667,
          18.75,
          1.4061855670103096,
          72.5,
          23.657894736842106,
          10.324074074074074,
          0.30427927927927906,
          3.9810810810810806,
          0.30427927927927906,
          0.30427927927927906,
          0.30427927927927906,
          0.30427927927927906,
          10.324074074074074,
          0.30427927927927906,
          1.4061855670103096,
          16.647058823529413,
          16.647058823529413,
          1.4061855670103096,
          16.647058823529413,
          10.324074074074074,
          1.4061855670103096,
          0.705217391304348,
          2.8397727272727282,
          0.705217391304348,
          23.657894736842106,
          10.324074074074074,
          2.8397727272727282,
          16.647058823529413,
          23.657894736842106,
          65,
          3.9810810810810806,
          0.30427927927927906,
          0.30427927927927906,
          2.8397727272727282,
          35.214285714285715,
          16.75,
          3.9810810810810806,
          1.4061855670103096,
          10.324074074074074,
          10.324074074074074,
          0.705217391304348,
          0.30427927927927906,
          1.4061855670103096,
          0.30427927927927906,
          23.657894736842106,
          0.30427927927927906,
          0.30427927927927906,
          1.4061855670103096,
          0.30427927927927906,
          0.705217391304348,
          31.047619047619047,
          10.324074074074074,
          42.25,
          3.9810810810810806,
          0.705217391304348,
          9.428571428571429,
          23.657894736842106,
          0.30427927927927906,
          1.4061855670103096,
          0.705217391304348,
          0.705217391304348,
          0.30427927927927906,
          20.875,
          7,
          1.4061855670103096,
          1.4061855670103096,
          16.75,
          0.30427927927927906,
          1.4061855670103096,
          3.9810810810810806,
          2.8397727272727282,
          0.705217391304348,
          1.4061855670103096,
          10.324074074074074,
          7,
          1.4061855670103096,
          2.8397727272727282,
          7,
          0.30427927927927906,
          0.30427927927927906,
          23.657894736842106,
          23.657894736842106,
          1.4061855670103096,
          20.875,
          23.657894736842106,
          1.4061855670103096,
          2.8397727272727282,
          0.30427927927927906,
          2.8397727272727282,
          2.8397727272727282,
          10.6,
          0.30427927927927906,
          18.75,
          0.705217391304348,
          23.657894736842106,
          0.30427927927927906,
          2.8397727272727282,
          16.647058823529413,
          16.647058823529413,
          3.9810810810810806,
          0.705217391304348,
          34.6,
          3.9810810810810806,
          0.30427927927927906,
          1.4061855670103096,
          0.705217391304348,
          1.4061855670103096,
          34.6,
          2.8397727272727282,
          57.166666666666664,
          0.30427927927927906,
          6.916666666666667,
          10.324074074074074,
          2.8397727272727282,
          34.6,
          0.30427927927927906,
          2.8397727272727282,
          0.30427927927927906,
          16.647058823529413,
          34.6,
          0.30427927927927906,
          1.4061855670103096,
          0.30427927927927906,
          16.647058823529413,
          0.30427927927927906,
          0.705217391304348,
          1.4061855670103096,
          34.6,
          18.75,
          0.705217391304348,
          23.657894736842106,
          0.30427927927927906,
          0.705217391304348,
          20.875,
          0.30427927927927906,
          2.8397727272727282,
          7,
          2.8397727272727282,
          2.8397727272727282,
          0.30427927927927906,
          2.8397727272727282,
          3.9810810810810806,
          0.705217391304348,
          0.30427927927927906,
          1.4061855670103096,
          0.30427927927927906,
          0.705217391304348,
          25,
          2.8397727272727282,
          0.705217391304348,
          10.324074074074074,
          23.657894736842106,
          1.4061855670103096,
          0.30427927927927906,
          0.30427927927927906,
          0.705217391304348,
          10.324074074074074,
          0.30427927927927906,
          1.4061855670103096,
          7,
          54.25,
          0.30427927927927906,
          10.324074074074074,
          0.30427927927927906,
          0.705217391304348,
          3.9810810810810806,
          35.214285714285715,
          0.30427927927927906,
          0.705217391304348,
          0.30427927927927906,
          0.705217391304348,
          2.8397727272727282,
          23.657894736842106,
          35.214285714285715,
          35.214285714285715,
          2.8397727272727282,
          6.916666666666667,
          31.047619047619047,
          16.647058823529413,
          0.30427927927927906,
          18.75,
          0.30427927927927906,
          0.30427927927927906,
          0.30427927927927906,
          0.30427927927927906,
          42.25,
          0.705217391304348,
          54.25,
          1.4061855670103096,
          10.324074074074074,
          7,
          23.657894736842106,
          42.25,
          3.9810810810810806,
          2.8397727272727282,
          7,
          0.705217391304348,
          35.214285714285715,
          0.705217391304348,
          23.657894736842106,
          16.647058823529413
         ],
         "yaxis": "y"
        }
       ],
       "layout": {
        "legend": {
         "tracegroupgap": 0
        },
        "template": {
         "data": {
          "bar": [
           {
            "error_x": {
             "color": "#2a3f5f"
            },
            "error_y": {
             "color": "#2a3f5f"
            },
            "marker": {
             "line": {
              "color": "#E5ECF6",
              "width": 0.5
             },
             "pattern": {
              "fillmode": "overlay",
              "size": 10,
              "solidity": 0.2
             }
            },
            "type": "bar"
           }
          ],
          "barpolar": [
           {
            "marker": {
             "line": {
              "color": "#E5ECF6",
              "width": 0.5
             },
             "pattern": {
              "fillmode": "overlay",
              "size": 10,
              "solidity": 0.2
             }
            },
            "type": "barpolar"
           }
          ],
          "carpet": [
           {
            "aaxis": {
             "endlinecolor": "#2a3f5f",
             "gridcolor": "white",
             "linecolor": "white",
             "minorgridcolor": "white",
             "startlinecolor": "#2a3f5f"
            },
            "baxis": {
             "endlinecolor": "#2a3f5f",
             "gridcolor": "white",
             "linecolor": "white",
             "minorgridcolor": "white",
             "startlinecolor": "#2a3f5f"
            },
            "type": "carpet"
           }
          ],
          "choropleth": [
           {
            "colorbar": {
             "outlinewidth": 0,
             "ticks": ""
            },
            "type": "choropleth"
           }
          ],
          "contour": [
           {
            "colorbar": {
             "outlinewidth": 0,
             "ticks": ""
            },
            "colorscale": [
             [
              0,
              "#0d0887"
             ],
             [
              0.1111111111111111,
              "#46039f"
             ],
             [
              0.2222222222222222,
              "#7201a8"
             ],
             [
              0.3333333333333333,
              "#9c179e"
             ],
             [
              0.4444444444444444,
              "#bd3786"
             ],
             [
              0.5555555555555556,
              "#d8576b"
             ],
             [
              0.6666666666666666,
              "#ed7953"
             ],
             [
              0.7777777777777778,
              "#fb9f3a"
             ],
             [
              0.8888888888888888,
              "#fdca26"
             ],
             [
              1,
              "#f0f921"
             ]
            ],
            "type": "contour"
           }
          ],
          "contourcarpet": [
           {
            "colorbar": {
             "outlinewidth": 0,
             "ticks": ""
            },
            "type": "contourcarpet"
           }
          ],
          "heatmap": [
           {
            "colorbar": {
             "outlinewidth": 0,
             "ticks": ""
            },
            "colorscale": [
             [
              0,
              "#0d0887"
             ],
             [
              0.1111111111111111,
              "#46039f"
             ],
             [
              0.2222222222222222,
              "#7201a8"
             ],
             [
              0.3333333333333333,
              "#9c179e"
             ],
             [
              0.4444444444444444,
              "#bd3786"
             ],
             [
              0.5555555555555556,
              "#d8576b"
             ],
             [
              0.6666666666666666,
              "#ed7953"
             ],
             [
              0.7777777777777778,
              "#fb9f3a"
             ],
             [
              0.8888888888888888,
              "#fdca26"
             ],
             [
              1,
              "#f0f921"
             ]
            ],
            "type": "heatmap"
           }
          ],
          "heatmapgl": [
           {
            "colorbar": {
             "outlinewidth": 0,
             "ticks": ""
            },
            "colorscale": [
             [
              0,
              "#0d0887"
             ],
             [
              0.1111111111111111,
              "#46039f"
             ],
             [
              0.2222222222222222,
              "#7201a8"
             ],
             [
              0.3333333333333333,
              "#9c179e"
             ],
             [
              0.4444444444444444,
              "#bd3786"
             ],
             [
              0.5555555555555556,
              "#d8576b"
             ],
             [
              0.6666666666666666,
              "#ed7953"
             ],
             [
              0.7777777777777778,
              "#fb9f3a"
             ],
             [
              0.8888888888888888,
              "#fdca26"
             ],
             [
              1,
              "#f0f921"
             ]
            ],
            "type": "heatmapgl"
           }
          ],
          "histogram": [
           {
            "marker": {
             "pattern": {
              "fillmode": "overlay",
              "size": 10,
              "solidity": 0.2
             }
            },
            "type": "histogram"
           }
          ],
          "histogram2d": [
           {
            "colorbar": {
             "outlinewidth": 0,
             "ticks": ""
            },
            "colorscale": [
             [
              0,
              "#0d0887"
             ],
             [
              0.1111111111111111,
              "#46039f"
             ],
             [
              0.2222222222222222,
              "#7201a8"
             ],
             [
              0.3333333333333333,
              "#9c179e"
             ],
             [
              0.4444444444444444,
              "#bd3786"
             ],
             [
              0.5555555555555556,
              "#d8576b"
             ],
             [
              0.6666666666666666,
              "#ed7953"
             ],
             [
              0.7777777777777778,
              "#fb9f3a"
             ],
             [
              0.8888888888888888,
              "#fdca26"
             ],
             [
              1,
              "#f0f921"
             ]
            ],
            "type": "histogram2d"
           }
          ],
          "histogram2dcontour": [
           {
            "colorbar": {
             "outlinewidth": 0,
             "ticks": ""
            },
            "colorscale": [
             [
              0,
              "#0d0887"
             ],
             [
              0.1111111111111111,
              "#46039f"
             ],
             [
              0.2222222222222222,
              "#7201a8"
             ],
             [
              0.3333333333333333,
              "#9c179e"
             ],
             [
              0.4444444444444444,
              "#bd3786"
             ],
             [
              0.5555555555555556,
              "#d8576b"
             ],
             [
              0.6666666666666666,
              "#ed7953"
             ],
             [
              0.7777777777777778,
              "#fb9f3a"
             ],
             [
              0.8888888888888888,
              "#fdca26"
             ],
             [
              1,
              "#f0f921"
             ]
            ],
            "type": "histogram2dcontour"
           }
          ],
          "mesh3d": [
           {
            "colorbar": {
             "outlinewidth": 0,
             "ticks": ""
            },
            "type": "mesh3d"
           }
          ],
          "parcoords": [
           {
            "line": {
             "colorbar": {
              "outlinewidth": 0,
              "ticks": ""
             }
            },
            "type": "parcoords"
           }
          ],
          "pie": [
           {
            "automargin": true,
            "type": "pie"
           }
          ],
          "scatter": [
           {
            "fillpattern": {
             "fillmode": "overlay",
             "size": 10,
             "solidity": 0.2
            },
            "type": "scatter"
           }
          ],
          "scatter3d": [
           {
            "line": {
             "colorbar": {
              "outlinewidth": 0,
              "ticks": ""
             }
            },
            "marker": {
             "colorbar": {
              "outlinewidth": 0,
              "ticks": ""
             }
            },
            "type": "scatter3d"
           }
          ],
          "scattercarpet": [
           {
            "marker": {
             "colorbar": {
              "outlinewidth": 0,
              "ticks": ""
             }
            },
            "type": "scattercarpet"
           }
          ],
          "scattergeo": [
           {
            "marker": {
             "colorbar": {
              "outlinewidth": 0,
              "ticks": ""
             }
            },
            "type": "scattergeo"
           }
          ],
          "scattergl": [
           {
            "marker": {
             "colorbar": {
              "outlinewidth": 0,
              "ticks": ""
             }
            },
            "type": "scattergl"
           }
          ],
          "scattermapbox": [
           {
            "marker": {
             "colorbar": {
              "outlinewidth": 0,
              "ticks": ""
             }
            },
            "type": "scattermapbox"
           }
          ],
          "scatterpolar": [
           {
            "marker": {
             "colorbar": {
              "outlinewidth": 0,
              "ticks": ""
             }
            },
            "type": "scatterpolar"
           }
          ],
          "scatterpolargl": [
           {
            "marker": {
             "colorbar": {
              "outlinewidth": 0,
              "ticks": ""
             }
            },
            "type": "scatterpolargl"
           }
          ],
          "scatterternary": [
           {
            "marker": {
             "colorbar": {
              "outlinewidth": 0,
              "ticks": ""
             }
            },
            "type": "scatterternary"
           }
          ],
          "surface": [
           {
            "colorbar": {
             "outlinewidth": 0,
             "ticks": ""
            },
            "colorscale": [
             [
              0,
              "#0d0887"
             ],
             [
              0.1111111111111111,
              "#46039f"
             ],
             [
              0.2222222222222222,
              "#7201a8"
             ],
             [
              0.3333333333333333,
              "#9c179e"
             ],
             [
              0.4444444444444444,
              "#bd3786"
             ],
             [
              0.5555555555555556,
              "#d8576b"
             ],
             [
              0.6666666666666666,
              "#ed7953"
             ],
             [
              0.7777777777777778,
              "#fb9f3a"
             ],
             [
              0.8888888888888888,
              "#fdca26"
             ],
             [
              1,
              "#f0f921"
             ]
            ],
            "type": "surface"
           }
          ],
          "table": [
           {
            "cells": {
             "fill": {
              "color": "#EBF0F8"
             },
             "line": {
              "color": "white"
             }
            },
            "header": {
             "fill": {
              "color": "#C8D4E3"
             },
             "line": {
              "color": "white"
             }
            },
            "type": "table"
           }
          ]
         },
         "layout": {
          "annotationdefaults": {
           "arrowcolor": "#2a3f5f",
           "arrowhead": 0,
           "arrowwidth": 1
          },
          "autotypenumbers": "strict",
          "coloraxis": {
           "colorbar": {
            "outlinewidth": 0,
            "ticks": ""
           }
          },
          "colorscale": {
           "diverging": [
            [
             0,
             "#8e0152"
            ],
            [
             0.1,
             "#c51b7d"
            ],
            [
             0.2,
             "#de77ae"
            ],
            [
             0.3,
             "#f1b6da"
            ],
            [
             0.4,
             "#fde0ef"
            ],
            [
             0.5,
             "#f7f7f7"
            ],
            [
             0.6,
             "#e6f5d0"
            ],
            [
             0.7,
             "#b8e186"
            ],
            [
             0.8,
             "#7fbc41"
            ],
            [
             0.9,
             "#4d9221"
            ],
            [
             1,
             "#276419"
            ]
           ],
           "sequential": [
            [
             0,
             "#0d0887"
            ],
            [
             0.1111111111111111,
             "#46039f"
            ],
            [
             0.2222222222222222,
             "#7201a8"
            ],
            [
             0.3333333333333333,
             "#9c179e"
            ],
            [
             0.4444444444444444,
             "#bd3786"
            ],
            [
             0.5555555555555556,
             "#d8576b"
            ],
            [
             0.6666666666666666,
             "#ed7953"
            ],
            [
             0.7777777777777778,
             "#fb9f3a"
            ],
            [
             0.8888888888888888,
             "#fdca26"
            ],
            [
             1,
             "#f0f921"
            ]
           ],
           "sequentialminus": [
            [
             0,
             "#0d0887"
            ],
            [
             0.1111111111111111,
             "#46039f"
            ],
            [
             0.2222222222222222,
             "#7201a8"
            ],
            [
             0.3333333333333333,
             "#9c179e"
            ],
            [
             0.4444444444444444,
             "#bd3786"
            ],
            [
             0.5555555555555556,
             "#d8576b"
            ],
            [
             0.6666666666666666,
             "#ed7953"
            ],
            [
             0.7777777777777778,
             "#fb9f3a"
            ],
            [
             0.8888888888888888,
             "#fdca26"
            ],
            [
             1,
             "#f0f921"
            ]
           ]
          },
          "colorway": [
           "#636efa",
           "#EF553B",
           "#00cc96",
           "#ab63fa",
           "#FFA15A",
           "#19d3f3",
           "#FF6692",
           "#B6E880",
           "#FF97FF",
           "#FECB52"
          ],
          "font": {
           "color": "#2a3f5f"
          },
          "geo": {
           "bgcolor": "white",
           "lakecolor": "white",
           "landcolor": "#E5ECF6",
           "showlakes": true,
           "showland": true,
           "subunitcolor": "white"
          },
          "hoverlabel": {
           "align": "left"
          },
          "hovermode": "closest",
          "mapbox": {
           "style": "light"
          },
          "paper_bgcolor": "white",
          "plot_bgcolor": "#E5ECF6",
          "polar": {
           "angularaxis": {
            "gridcolor": "white",
            "linecolor": "white",
            "ticks": ""
           },
           "bgcolor": "#E5ECF6",
           "radialaxis": {
            "gridcolor": "white",
            "linecolor": "white",
            "ticks": ""
           }
          },
          "scene": {
           "xaxis": {
            "backgroundcolor": "#E5ECF6",
            "gridcolor": "white",
            "gridwidth": 2,
            "linecolor": "white",
            "showbackground": true,
            "ticks": "",
            "zerolinecolor": "white"
           },
           "yaxis": {
            "backgroundcolor": "#E5ECF6",
            "gridcolor": "white",
            "gridwidth": 2,
            "linecolor": "white",
            "showbackground": true,
            "ticks": "",
            "zerolinecolor": "white"
           },
           "zaxis": {
            "backgroundcolor": "#E5ECF6",
            "gridcolor": "white",
            "gridwidth": 2,
            "linecolor": "white",
            "showbackground": true,
            "ticks": "",
            "zerolinecolor": "white"
           }
          },
          "shapedefaults": {
           "line": {
            "color": "#2a3f5f"
           }
          },
          "ternary": {
           "aaxis": {
            "gridcolor": "white",
            "linecolor": "white",
            "ticks": ""
           },
           "baxis": {
            "gridcolor": "white",
            "linecolor": "white",
            "ticks": ""
           },
           "bgcolor": "#E5ECF6",
           "caxis": {
            "gridcolor": "white",
            "linecolor": "white",
            "ticks": ""
           }
          },
          "title": {
           "x": 0.05
          },
          "xaxis": {
           "automargin": true,
           "gridcolor": "white",
           "linecolor": "white",
           "ticks": "",
           "title": {
            "standoff": 15
           },
           "zerolinecolor": "white",
           "zerolinewidth": 2
          },
          "yaxis": {
           "automargin": true,
           "gridcolor": "white",
           "linecolor": "white",
           "ticks": "",
           "title": {
            "standoff": 15
           },
           "zerolinecolor": "white",
           "zerolinewidth": 2
          }
         }
        },
        "title": {
         "text": "Market Value Prediction vs Actual Values"
        },
        "xaxis": {
         "anchor": "y",
         "domain": [
          0,
          1
         ],
         "title": {
          "text": "market_value_in_eur_test"
         }
        },
        "yaxis": {
         "anchor": "x",
         "domain": [
          0,
          1
         ],
         "title": {
          "text": "prediction"
         }
        }
       }
      }
     },
     "metadata": {},
     "output_type": "display_data"
    }
   ],
   "source": [
    "px.scatter(pdf_output, x=\"market_value_in_eur_test\", y=\"prediction\", title=\"Market Value Prediction vs Actual Values\", hover_data=[\"name\"])"
   ]
  },
  {
   "cell_type": "code",
   "execution_count": null,
   "id": "147198df",
   "metadata": {},
   "outputs": [],
   "source": []
  }
 ],
 "metadata": {
  "kernelspec": {
   "display_name": "Python 3",
   "language": "python",
   "name": "python3"
  },
  "language_info": {
   "codemirror_mode": {
    "name": "ipython",
    "version": 3
   },
   "file_extension": ".py",
   "mimetype": "text/x-python",
   "name": "python",
   "nbconvert_exporter": "python",
   "pygments_lexer": "ipython3",
   "version": "3.11.9"
  }
 },
 "nbformat": 4,
 "nbformat_minor": 5
}
